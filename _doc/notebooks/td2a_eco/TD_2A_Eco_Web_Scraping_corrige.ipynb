{
  "cells": [
    {
      "cell_type": "markdown",
      "metadata": {},
      "source": [
        "# Web-Scraping - correction\n",
        "\n",
        "Pour cet exercice, nous vous demandons d'obtenir 1) les informations personnelles des 721 pokemons sur le site internet http://pokemondb.net/pokedex/national\n",
        "\n",
        "Les informations que nous aimerions obtenir au final pour les pokemons sont celles contenues dans 4 tableaux :\n",
        "- Pok\u00e9dex data\n",
        "- Training\n",
        "- Breeding\n",
        "- Base stats\n",
        "\n",
        "Pour exemple :  http://pokemondb.net/pokedex/nincada\n",
        "\n",
        "2) Nous aimerions que vous r\u00e9cup\u00e9riez \u00e9galement les images de chacun des pok\u00e9mons et que vous les enregistriez dans un dossier (indice : utilisez les modules request et shutil)"
      ]
    },
    {
      "cell_type": "code",
      "execution_count": null,
      "metadata": {
        "collapsed": true
      },
      "outputs": [],
      "source": [
        "import urllib\n",
        "import bs4\n",
        "import collections\n",
        "import pandas as pd\n",
        "\n",
        "# pour le site que nous utilisons, le user agent de python 3 n'est pas  bien pass\u00e9 :\n",
        "# on le change donc pour celui de Mozilla\n",
        "\n",
        "req = urllib.request.Request('http://pokemondb.net/pokedex/national', headers = {'User-Agent' : 'Mozilla/5.0'})\n",
        "html = urllib.request.urlopen(req).read()\n",
        "page = bs4.BeautifulSoup(html, \"lxml\")\n",
        "\n",
        "# r\u00e9cup\u00e9rer la liste des noms de pok\u00e9mon\n",
        "\n",
        "liste_pokemon =[]\n",
        "for pokemon in page.findAll('span', {'class' : 'infocard-tall'}) : \n",
        "    pokemon = pokemon.find('a').get('href').replace(\"/pokedex/\",'')\n",
        "    liste_pokemon.append(pokemon)\n",
        "\n",
        "## Fonction pour obtenir les caract\u00e9ristiques de pokemons\n",
        "\n",
        "def get_page(pokemon_name):\n",
        "    url_pokemon = 'http://pokemondb.net/pokedex/'+ pokemon_name\n",
        "    req = urllib.request.Request(url_pokemon, headers = {'User-Agent' : 'Mozilla/5.0'})\n",
        "    html = urllib.request.urlopen(req).read()\n",
        "    return bs4.BeautifulSoup(html, \"lxml\")\n",
        "     \n",
        "    \n",
        "def get_cara_pokemon(pokemon_name):\n",
        "    page = get_page(pokemon_name)\n",
        "    data = collections.defaultdict()\n",
        "    \n",
        "    # table Pok\u00e9dex data, Training, Breeding, base Stats\n",
        "    \n",
        "    for table in page.findAll('table', { 'class' : \"vitals-table\"})[0:4] :\n",
        "        table_body = table.find('tbody')\n",
        "        for rows in table_body.findChildren(['tr']) : \n",
        "            if len(rows) > 1 : # attention aux tr qui ne contiennent rien\n",
        "                column = rows.findChild('th').getText()\n",
        "                cells = rows.findChild('td').getText()\n",
        "                cells = cells.replace('\\t','').replace('\\n',' ')\n",
        "                data[column] = cells\n",
        "                data['name'] = pokemon_name\n",
        "    return dict(data)\n",
        "       \n",
        "items = []       \n",
        "for e, pokemon in enumerate(liste_pokemon) : \n",
        "    print(e, pokemon)\n",
        "    item = get_cara_pokemon(pokemon)       \n",
        "    items.append(item)\n",
        "df = pd.DataFrame(items)\n",
        "df.head()"
      ]
    },
    {
      "cell_type": "code",
      "execution_count": null,
      "metadata": {
        "collapsed": false
      },
      "outputs": [
        {
          "ename": "NameError",
          "evalue": "name 'liste_pokemon' is not defined",
          "output_type": "error",
          "traceback": [
            "\u001b[1;31m---------------------------------------------------------------------------\u001b[0m",
            "\u001b[1;31mNameError\u001b[0m                                 Traceback (most recent call last)",
            "\u001b[1;32m<ipython-input-2-9a8e68f0eb58>\u001b[0m in \u001b[0;36m<module>\u001b[1;34m()\u001b[0m\n\u001b[0;32m      5\u001b[0m \u001b[1;33m\u001b[0m\u001b[0m\n\u001b[0;32m      6\u001b[0m \u001b[1;33m\u001b[0m\u001b[0m\n\u001b[1;32m----> 7\u001b[1;33m \u001b[1;32mfor\u001b[0m \u001b[0me\u001b[0m\u001b[1;33m,\u001b[0m \u001b[0mpokemon\u001b[0m \u001b[1;32min\u001b[0m \u001b[0menumerate\u001b[0m\u001b[1;33m(\u001b[0m\u001b[0mliste_pokemon\u001b[0m\u001b[1;33m)\u001b[0m \u001b[1;33m:\u001b[0m\u001b[1;33m\u001b[0m\u001b[0m\n\u001b[0m\u001b[0;32m      8\u001b[0m     \u001b[0mprint\u001b[0m\u001b[1;33m(\u001b[0m\u001b[0me\u001b[0m\u001b[1;33m,\u001b[0m\u001b[0mpokemon\u001b[0m\u001b[1;33m)\u001b[0m\u001b[1;33m\u001b[0m\u001b[0m\n\u001b[0;32m      9\u001b[0m     \u001b[0murl\u001b[0m \u001b[1;33m=\u001b[0m \u001b[1;34m\"https://img.pokemondb.net/artwork/{}.jpg\"\u001b[0m\u001b[1;33m.\u001b[0m\u001b[0mformat\u001b[0m\u001b[1;33m(\u001b[0m\u001b[0mpokemon\u001b[0m\u001b[1;33m)\u001b[0m\u001b[1;33m\u001b[0m\u001b[0m\n",
            "\u001b[1;31mNameError\u001b[0m: name 'liste_pokemon' is not defined"
          ]
        }
      ],
      "source": [
        "#### les images de pokemon\n",
        "\n",
        "import shutil\n",
        "import requests\n",
        "\n",
        "\n",
        "for e, pokemon in enumerate(liste_pokemon) : \n",
        "    print(e,pokemon)\n",
        "    url = \"https://img.pokemondb.net/artwork/{}.jpg\".format(pokemon)\n",
        "    response = requests.get(url, stream=True)\n",
        "    # avec l'option stream, on ne t\u00e9l\u00e9charge pas l'objet de l'url\n",
        "    with open('{}.jpg'.format(pokemon), 'wb') as out_file:\n",
        "        shutil.copyfileobj(response.raw, out_file)"
      ]
    }
  ],
  "metadata": {
    "kernelspec": {
      "display_name": "Python 3",
      "language": "python",
      "name": "python3"
    },
    "language_info": {
      "codemirror_mode": {
        "name": "ipython",
        "version": 3
      },
      "file_extension": ".py",
      "mimetype": "text/x-python",
      "name": "python",
      "nbconvert_exporter": "python",
      "pygments_lexer": "ipython3",
      "version": "3.5.0"
    }
  },
  "nbformat": 4,
  "nbformat_minor": 0
}