{
  "cells": [
    {
      "cell_type": "markdown",
      "metadata": {},
      "source": [
        "# Exercice API SNCF corrig\u00e9 "
      ]
    },
    {
      "cell_type": "code",
      "execution_count": null,
      "metadata": {
        "ExecuteTime": {
          "end_time": "2016-10-31T22:28:01.178979",
          "start_time": "2016-10-31T22:28:01.147978"
        },
        "collapsed": false,
        "scrolled": true
      },
      "outputs": [
        {
          "data": {
            "text/html": [
              "<div id=\"my_id_menu_nb\">run previous cell, wait for 2 seconds</div>\n",
              "<script>\n",
              "function repeat_indent_string(n){\n",
              "    var a = \"\" ;\n",
              "    for ( ; n > 0 ; --n) {\n",
              "        a += \"    \";\n",
              "    }\n",
              "    return a;\n",
              "}\n",
              "var update_menu_string = function(begin, lfirst, llast, sformat, send, keep_item) {\n",
              "    var anchors = document.getElementsByClassName(\"section\");\n",
              "    if (anchors.length == 0) {\n",
              "        anchors = document.getElementsByClassName(\"text_cell_render rendered_html\");\n",
              "    }\n",
              "    var i,t;\n",
              "    var text_menu = begin;\n",
              "    var text_memo = \"<pre>\\nlength:\" + anchors.length + \"\\n\";\n",
              "    var ind = \"\";\n",
              "    var memo_level = 1;\n",
              "    var href;\n",
              "    var tags = [];\n",
              "    var main_item = 0;\n",
              "    for (i = 0; i <= llast; i++) {\n",
              "        tags.push(\"h\" + i);\n",
              "    }\n",
              "\n",
              "    for (i = 0; i < anchors.length; i++) {\n",
              "        text_memo += \"**\" + anchors[i].id + \"--\\n\";\n",
              "\n",
              "        var child = null;\n",
              "        for(t = 0; t < tags.length; t++) {\n",
              "            var r = anchors[i].getElementsByTagName(tags[t]);\n",
              "            if (r.length > 0) {\n",
              "child = r[0];\n",
              "break;\n",
              "            }\n",
              "        }\n",
              "        if (child == null){\n",
              "            text_memo += \"null\\n\";\n",
              "            continue;\n",
              "        }\n",
              "        if (anchors[i].hasAttribute(\"id\")) {\n",
              "            // when converted in RST\n",
              "            href = anchors[i].id;\n",
              "            text_memo += \"#1-\" + href;\n",
              "            // passer \u00e0 child suivant (le chercher)\n",
              "        }\n",
              "        else if (child.hasAttribute(\"id\")) {\n",
              "            // in a notebook\n",
              "            href = child.id;\n",
              "            text_memo += \"#2-\" + href;\n",
              "        }\n",
              "        else {\n",
              "            text_memo += \"#3-\" + \"*\" + \"\\n\";\n",
              "            continue;\n",
              "        }\n",
              "        var title = child.textContent;\n",
              "        var level = parseInt(child.tagName.substring(1,2));\n",
              "\n",
              "        text_memo += \"--\" + level + \"?\" + lfirst + \"--\" + title + \"\\n\";\n",
              "\n",
              "        if ((level < lfirst) || (level > llast)) {\n",
              "            continue ;\n",
              "        }\n",
              "        if (title.endsWith('\u00b6')) {\n",
              "            title = title.substring(0,title.length-1).replace(\"<\", \"&lt;\").replace(\">\", \"&gt;\").replace(\"&\", \"&amp;\")\n",
              "        }\n",
              "\n",
              "        if (title.length == 0) {\n",
              "            continue;\n",
              "        }\n",
              "\n",
              "        while (level < memo_level) {\n",
              "            text_menu += \"</ul>\\n\";\n",
              "            memo_level -= 1;\n",
              "        }\n",
              "        if (level == lfirst) {\n",
              "            main_item += 1;\n",
              "        }\n",
              "        if (keep_item != -1 && main_item != keep_item + 1) {\n",
              "            // alert(main_item + \" - \" + level + \" - \" + keep_item);\n",
              "            continue;\n",
              "        }\n",
              "        while (level > memo_level) {\n",
              "            text_menu += \"<ul>\\n\";\n",
              "            memo_level += 1;\n",
              "        }\n",
              "        text_menu += repeat_indent_string(level-2) + sformat.replace(\"__HREF__\", href).replace(\"__TITLE__\", title);\n",
              "    }\n",
              "    while (1 < memo_level) {\n",
              "        text_menu += \"</ul>\\n\";\n",
              "        memo_level -= 1;\n",
              "    }\n",
              "    text_menu += send;\n",
              "    //text_menu += \"\\n\" + text_memo;\n",
              "    return text_menu;\n",
              "};\n",
              "var update_menu = function() {\n",
              "    var sbegin = \"\";\n",
              "    var sformat = '<li><a href=\"#__HREF__\">__TITLE__</a></li>';\n",
              "    var send = \"\";\n",
              "    var keep_item = -1;\n",
              "    var text_menu = update_menu_string(sbegin, 2, 4, sformat, send, keep_item);\n",
              "    var menu = document.getElementById(\"my_id_menu_nb\");\n",
              "    menu.innerHTML=text_menu;\n",
              "};\n",
              "window.setTimeout(update_menu,2000);\n",
              "            </script>"
            ],
            "text/plain": [
              "<IPython.core.display.HTML object>"
            ]
          },
          "execution_count": null,
          "metadata": {},
          "output_type": "execute_result"
        }
      ],
      "source": [
        "from jyquickhelper import add_notebook_menu\n",
        "add_notebook_menu()"
      ]
    },
    {
      "cell_type": "markdown",
      "metadata": {},
      "source": [
        "## Partie 0 - modules recommand\u00e9s et connexion \u00e0 l'API \n",
        "\n",
        "Il vous faudra s\u00fbrement les modules suivant : \n",
        "\n",
        "- requests\n",
        "- datetime\n",
        "- pandas\n",
        "- matplotlib\n",
        "\n",
        "Cr\u00e9er un login pour vous connecter \u00e0 l'API de la SNCF https://data.sncf.com/api \n",
        "\n",
        "Vous pouvez maintenant commencer. Ce notebook peut prendre du temps \u00e0 s'\u00e9x\u00e9cuter, surout \u00e0 partir de la partie 3"
      ]
    },
    {
      "cell_type": "code",
      "execution_count": null,
      "metadata": {
        "ExecuteTime": {
          "end_time": "2016-10-31T22:28:01.188478",
          "start_time": "2016-10-31T22:28:01.182482"
        },
        "collapsed": true
      },
      "outputs": [],
      "source": [
        "# !!!!! Attention \u00e0 bien mettre votre token ici  !!!!!\n",
        "\n",
        "token_auth = 'XXXXXXXXXXXXXXXXXXXXXXXXXXXXXX'"
      ]
    },
    {
      "cell_type": "code",
      "execution_count": null,
      "metadata": {
        "ExecuteTime": {
          "end_time": "2016-10-31T22:28:01.286480",
          "start_time": "2016-10-31T22:28:01.193478"
        },
        "collapsed": true
      },
      "outputs": [],
      "source": [
        "import keyring, os\n",
        "if \"XXXXXX\" in token_auth:\n",
        "    token_auth = keyring.get_password(\"sncf\", os.environ[\"COMPUTERNAME\"] + \"key\")"
      ]
    },
    {
      "cell_type": "markdown",
      "metadata": {},
      "source": [
        "## Partie 1 - Trouver les gares accessibles _via_ la SNCF\n",
        "\n",
        "- Trouver l'ensemble des gares disponibles sur l'API et cr\u00e9er un fichier csv avec les codes de la gare, son nom et ses coordonn\u00e9es latitude et longitude, ainsi que les informations administratives de la r\u00e9gion quand elles sont disponibles\n",
        "\n",
        "- Repr\u00e9sentez les sur un graphique"
      ]
    },
    {
      "cell_type": "code",
      "execution_count": null,
      "metadata": {
        "ExecuteTime": {
          "end_time": "2016-10-31T22:28:02.003606",
          "start_time": "2016-10-31T22:28:01.290481"
        },
        "collapsed": false
      },
      "outputs": [],
      "source": [
        "import pandas as pd\n",
        "import requests"
      ]
    },
    {
      "cell_type": "code",
      "execution_count": null,
      "metadata": {
        "ExecuteTime": {
          "end_time": "2016-10-31T22:28:42.662787",
          "start_time": "2016-10-31T22:28:02.006100"
        },
        "collapsed": false
      },
      "outputs": [],
      "source": [
        "df = pd.DataFrame() \n",
        "\n",
        "def page_gares(numero_page) :\n",
        "    return requests.get('https://api.sncf.com/v1/coverage/sncf/stop_areas?start_page={}'.format(numero_page), \n",
        "                        auth=(token_auth, ''))\n",
        "\n",
        "######################################\n",
        "# on commence par la premi\u00e8re page qui nous donne le nombre de r\u00e9sultats par page ainsi que le nombre total de r\u00e9sultats                    \n",
        "\n",
        "page_initiale = page_gares(0)                        \n",
        "item_per_page = page_initiale.json()['pagination']['items_per_page']\n",
        "total_items = page_initiale.json()['pagination']['total_result']\n",
        "\n",
        "# on fait une boucle sur toutes les pages suivantes \n",
        "\n",
        "for page in range(int(total_items/item_per_page)+1) :   \n",
        "    #print(\"je suis \u00e0 la page\",page)\n",
        "    stations_page = page_gares(page)\n",
        "    \n",
        "    ensemble_stations = stations_page.json()\n",
        "    \n",
        "    if 'stop_areas' not in ensemble_stations:\n",
        "        # pas d'arr\u00eat\n",
        "        continue\n",
        "    \n",
        "    # on ne retient que les informations qui nous int\u00e9ressent \n",
        "    for station in ensemble_stations['stop_areas'] :\n",
        "\n",
        "        station['lat'] = station['coord']['lat']\n",
        "        station[\"lon\"]  = station['coord']['lon']\n",
        "\n",
        "        if 'administrative_regions' in station.keys() : \n",
        "            for var_api, var_df in zip(['insee','name','label','id','zip_code'],\n",
        "                                       ['insee','region','label_region','id_region','zip_code']) : \n",
        "                station[var_df] = station['administrative_regions'][0][var_api]\n",
        "\n",
        "        [station.pop(k,None) for k in ['coord','links','administrative_regions']]\n",
        "\n",
        "        try:\n",
        "            di = pd.DataFrame.from_dict(station, orient='index')\n",
        "        except Exception as e:\n",
        "            # La SNCF modifie parfois le sch\u00e9ma de ses donn\u00e9es.\n",
        "            # On affiche station pour avoir une meilleure id\u00e9e que l'erreur retourn\u00e9e par pandas\n",
        "            raise Exception(\"Probl\u00e8me de donn\u00e9es\\n{0}\".format(station)) from e\n",
        "        df = df.append(di.T, ignore_index=True)\n",
        "\n",
        "df.to_csv(\"./ensemble_gares.csv\")        "
      ]
    },
    {
      "cell_type": "code",
      "execution_count": null,
      "metadata": {
        "ExecuteTime": {
          "end_time": "2016-10-31T22:28:42.713781",
          "start_time": "2016-10-31T22:28:42.665782"
        },
        "collapsed": false
      },
      "outputs": [
        {
          "name": "stdout",
          "output_type": "stream",
          "text": [
            "Index(['Unnamed: 0', 'codes', 'id', 'id_region', 'insee', 'label',\n",
            "       'label_region', 'lat', 'lon', 'name', 'region', 'timezone', 'zip_code'],\n",
            "      dtype='object') (3024, 13)\n"
          ]
        },
        {
          "data": {
            "text/plain": [
              "Unnamed: 0                                                    317\n",
              "codes           [{'value': '0087-182071-BV', 'type': 'CR-CI-CH'}]\n",
              "id                                      stop_area:OCE:SA:87182071\n",
              "id_region                                       admin:38316extern\n",
              "insee                                                       68278\n",
              "label                                           Rixheim (Rixheim)\n",
              "label_region                                      Rixheim (68170)\n",
              "lat                                                       47.7487\n",
              "lon                                                       7.40653\n",
              "name                                                      Rixheim\n",
              "region                                                    Rixheim\n",
              "timezone                                             Europe/Paris\n",
              "zip_code                                                    68170\n",
              "Name: 317, dtype: object"
            ]
          },
          "execution_count": null,
          "metadata": {},
          "output_type": "execute_result"
        }
      ],
      "source": [
        "df = pd.read_csv(\"./ensemble_gares.csv\", encoding = \"ISO-8859-1\")\n",
        "print(df.columns, df.shape)\n",
        "# Exemple des informations sur une gare\n",
        "df.ix[317]"
      ]
    },
    {
      "cell_type": "code",
      "execution_count": null,
      "metadata": {
        "ExecuteTime": {
          "end_time": "2016-10-31T22:28:42.732284",
          "start_time": "2016-10-31T22:28:42.716783"
        },
        "collapsed": false
      },
      "outputs": [],
      "source": [
        "# on cr\u00e9e un dictionnaire des correspondances entre les noms et les codes des gares\n",
        "dict_label_gare_code = df[['label','id']].set_index('label').to_dict()['id']\n",
        "dict_nom_gare_code = df[['name','id']].set_index('name').to_dict()['id']"
      ]
    },
    {
      "cell_type": "code",
      "execution_count": null,
      "metadata": {
        "ExecuteTime": {
          "end_time": "2016-10-31T22:37:58.586054",
          "start_time": "2016-10-31T22:37:58.102547"
        },
        "collapsed": false
      },
      "outputs": [
        {
          "name": "stdout",
          "output_type": "stream",
          "text": [
            "Index(['Unnamed: 0', 'codes', 'id', 'id_region', 'insee', 'label',\n",
            "       'label_region', 'lat', 'lon', 'name', 'region', 'timezone', 'zip_code'],\n",
            "      dtype='object')\n"
          ]
        },
        {
          "data": {
            "text/plain": [
              "<matplotlib.collections.PathCollection at 0x259c9005b38>"
            ]
          },
          "execution_count": null,
          "metadata": {},
          "output_type": "execute_result"
        },
        {
          "data": {
            "image/png": "[encoded data removed]",
            "text/plain": [
              "<matplotlib.figure.Figure at 0x259c8c7ba20>"
            ]
          },
          "metadata": {},
          "output_type": "display_data"
        }
      ],
      "source": [
        "print(df.columns)\n",
        "\n",
        "# graphique dans le plan des gares\n",
        "%matplotlib inline\n",
        "import matplotlib.pyplot as plt\n",
        "lng_var = df[(df['lat']>35) & (df['lat']<60)][\"lon\"].tolist()\n",
        "lat_var = df[(df['lat']>35) & (df['lat']<60)][\"lat\"].tolist()\n",
        "plt.scatter(x = lng_var , y = lat_var,marker = \"o\")"
      ]
    },
    {
      "cell_type": "markdown",
      "metadata": {},
      "source": [
        "## Les trajets depuis la Gare de Lyon\n",
        "\n",
        "### Partons \u00e0 Lyon : le 17 novembre 2016 \u00e0 19h57\n",
        "\n",
        "Imaginez que vous vouliez un peu voyager hors de Paris, et il se trouve que justement on vous propose de passer quelques jours \u00e0 Lyon. Vous partez le 17 novembre vers 19h50 pour ne pas trop \u00e9courter votre journ\u00e9e de travail. \n",
        "\n",
        "#### Question 1\n",
        "\n",
        "- Commencez par r\u00e9cup\u00e9rer les informations sur le trajet entre Paris Gare de Lyon et Lyon Perrache le 17 novembre \u00e0 19h57\n",
        "\n",
        "    - Paris - Gare de Lyon (code de la gare : __stop\\_area:OCE:SA:87686006__)\n",
        "\n",
        "    - Lyon - Gare Lyon Perrache (code de la gare : __stop\\_area:OCE:SA:87722025__)\n",
        "    \n",
        "    - Indice : utiliser la requ\u00eate \"journeys\"\n",
        "    \n",
        "    - Autre indice : le format de la date est AAAAMMJJTHHMMSS (Ann\u00e9e, mois, jour, heure, minutes, secondes)\n",
        "    \n",
        "- R\u00e9pondez aux questions suivantes \n",
        "    - combien y a-t-il d'arr\u00eats entre ces deux gares ? (utilisez la cl\u00e9 'journeys')\n",
        "    - combien de temps d'arr\u00eat \u00e0 chacune d'elles ?"
      ]
    },
    {
      "cell_type": "code",
      "execution_count": null,
      "metadata": {
        "ExecuteTime": {
          "end_time": "2016-10-31T22:28:43.364179",
          "start_time": "2016-10-31T22:28:43.355677"
        },
        "collapsed": true
      },
      "outputs": [],
      "source": [
        "##### une fonction qui sera utile pour calculer des temps\n",
        "\n",
        "from datetime import datetime, timedelta\n",
        "\n",
        "def convertir_en_temps(chaine) : \n",
        "    ''' on convertit en date la chaine de caract\u00e8res de l API'''\n",
        "    return datetime.strptime(chaine.replace('T',''),'%Y%m%d%H%M%S')"
      ]
    },
    {
      "cell_type": "markdown",
      "metadata": {},
      "source": [
        "Et l'inverse :"
      ]
    },
    {
      "cell_type": "code",
      "execution_count": null,
      "metadata": {
        "collapsed": true
      },
      "outputs": [],
      "source": [
        "def convertir_en_chaine(dt) : \n",
        "    ''' on convertit en cha\u00eene de caract\u00e8res un datetime'''\n",
        "    return datetime.strftime(dt, '%Y%m%dT%H%M%S')"
      ]
    },
    {
      "cell_type": "code",
      "execution_count": null,
      "metadata": {
        "ExecuteTime": {
          "end_time": "2016-10-31T22:28:43.722293",
          "start_time": "2016-10-31T22:28:43.368183"
        },
        "collapsed": false
      },
      "outputs": [
        {
          "data": {
            "text/plain": [
              "'20161223T020225'"
            ]
          },
          "execution_count": null,
          "metadata": {},
          "output_type": "execute_result"
        }
      ],
      "source": [
        "# informations sur le trajet qu'on choisit dans le futur\n",
        "# l'API ne retourne pas de r\u00e9sultatq tr\u00e8s loin dans le pass\u00e9\n",
        "now = datetime.now()\n",
        "dt = now + timedelta(14)  # dans deux semaines\n",
        "\n",
        "date_depart = convertir_en_chaine(dt)\n",
        "gare_depart = 'stop_area:OCE:SA:87686006'\n",
        "gare_arrivee = 'stop_area:OCE:SA:87722025'\n",
        "\n",
        "# ensemble des d\u00e9parts \n",
        "\n",
        "paris_lyon = requests.get('https://api.sncf.com/v1/coverage/sncf/journeys?'\\\n",
        "                          'from={}&to={}&datetime={}'.format(gare_depart, gare_arrivee, date_depart), \\\n",
        "                         auth=(token_auth, '')).json()\n",
        "\n",
        "date_depart"
      ]
    },
    {
      "cell_type": "code",
      "execution_count": null,
      "metadata": {
        "ExecuteTime": {
          "end_time": "2016-10-31T22:28:43.732622",
          "start_time": "2016-10-31T22:28:43.724623"
        },
        "collapsed": false
      },
      "outputs": [
        {
          "name": "stdout",
          "output_type": "stream",
          "text": [
            "Paris-Gare-de-Lyon 0:00:00 minutes d'arr\u00eat\n",
            "Creusot - TGV (le) 0:03:00 minutes d'arr\u00eat\n",
            "Lyon-Part-Dieu 0:05:00 minutes d'arr\u00eat\n",
            "Lyon-Perrache 0:00:00 minutes d'arr\u00eat\n"
          ]
        }
      ],
      "source": [
        "# les gares du chemin entre Paris et Lyon sur ce trajet\n",
        "# ainsi que le temps d'arr\u00eat\n",
        "for i in paris_lyon['journeys'][0]['sections'][1]['stop_date_times'] : \n",
        "    print(i['stop_point']['name'], \n",
        "          convertir_en_temps(i['departure_date_time'])-convertir_en_temps(i['arrival_date_time']),\"minutes d'arr\u00eat\")"
      ]
    },
    {
      "cell_type": "markdown",
      "metadata": {},
      "source": [
        "#### Question 2\n",
        "Vous \u00eates un peu press\u00e9 et vous avez peur de vous tromper en arrivant \u00e0 la gare car d'autres TGV partent \u00e0 peu pr\u00e8s en m\u00eame temps (\u00e0 partir de 19h00) de la gare de Lyon. \n",
        "\n",
        "- Si vous demandez \u00e0 l'API, combien de r\u00e9sultats vous donne-t-elle ?"
      ]
    },
    {
      "cell_type": "code",
      "execution_count": null,
      "metadata": {
        "ExecuteTime": {
          "end_time": "2016-10-31T22:28:44.077096",
          "start_time": "2016-10-31T22:28:43.736625"
        },
        "collapsed": false
      },
      "outputs": [
        {
          "name": "stdout",
          "output_type": "stream",
          "text": [
            "10\n"
          ]
        }
      ],
      "source": [
        "### les trains qui partent autour de 19h00\n",
        "departs_paris = requests.get('https://api.sncf.com/v1/coverage/sncf/stop_points/stop_point:OCE:SP:'\\\n",
        "                             'TGV-87686006/departures?from_datetime={}'.format(date_depart) ,\n",
        "                        auth=(token_auth, '')).json()\n",
        "\n",
        "# Nombre de trains que l'API renvoit \u00e0 partir de cet horaire-l\u00e0\n",
        "print(len(departs_paris['departures']))"
      ]
    },
    {
      "cell_type": "markdown",
      "metadata": {},
      "source": [
        "- Quels sont les horaires de d\u00e9part de ces trains ? "
      ]
    },
    {
      "cell_type": "code",
      "execution_count": null,
      "metadata": {
        "ExecuteTime": {
          "end_time": "2016-10-31T22:28:44.086095",
          "start_time": "2016-10-31T22:28:44.080093"
        },
        "collapsed": false
      },
      "outputs": [
        {
          "name": "stdout",
          "output_type": "stream",
          "text": [
            "20161223T055000\n",
            "20161223T060700\n",
            "20161223T060700\n",
            "20161223T062900\n",
            "20161223T062900\n",
            "20161223T065300\n",
            "20161223T065900\n",
            "20161223T071900\n",
            "20161223T072900\n",
            "20161223T073700\n"
          ]
        }
      ],
      "source": [
        "for i in range(len(departs_paris['departures'])) :\n",
        "    print(departs_paris['departures'][i]['stop_date_time']['departure_date_time'])"
      ]
    },
    {
      "cell_type": "markdown",
      "metadata": {},
      "source": [
        "- Parmi ces trains, combien de trains ont pour destination finale Lyon et qui partent le 17 novembre ?"
      ]
    },
    {
      "cell_type": "code",
      "execution_count": null,
      "metadata": {
        "ExecuteTime": {
          "end_time": "2016-10-31T22:28:44.109595",
          "start_time": "2016-10-31T22:28:44.090095"
        },
        "collapsed": false
      },
      "outputs": [
        {
          "name": "stdout",
          "output_type": "stream",
          "text": [
            "Il y a 0 train(s) pour Lyon dans les trains propos\u00e9s par l'API qui partent encore le 17 novembre\n"
          ]
        }
      ],
      "source": [
        "nombre_trains_pour_lyon = 0\n",
        "\n",
        "for depart in departs_paris['departures'] :     \n",
        "    if \"Lyon\" in depart['display_informations']['direction'] : \n",
        "        if convertir_en_temps(depart['stop_date_time']['arrival_date_time']) > convertir_en_temps(date_depart) and \\\n",
        "        convertir_en_temps(depart['stop_date_time']['arrival_date_time']) < datetime(2016,11,18,0,0,0):\n",
        "            nombre_trains_pour_lyon += 1\n",
        "            print(\"le prochain d\u00e9part pour Lyon sera le\", convertir_en_temps(depart['stop_date_time']['arrival_date_time']))\n",
        "        \n",
        "print(\"Il y a\" , nombre_trains_pour_lyon, \"train(s) pour Lyon dans les trains propos\u00e9s\", \n",
        "      \"par l'API qui partent encore le 17 novembre\")"
      ]
    },
    {
      "cell_type": "markdown",
      "metadata": {},
      "source": [
        "-------------------------\n",
        "\n",
        "### C'est quand qu'on va o\u00f9 ?\n",
        "- En fait, vous n'\u00eates plus tr\u00e8s s\u00fbr de vouloir aller \u00e0 Lyon. Mais bon maintenant vous \u00eates Gare de Lyon et il est 18h00. \n",
        "\n",
        "#### Question 3\n",
        "- Combien de tgv partent entre 18h00 et 20h00 ?\n",
        "- Lequel arrive le plus t\u00f4t \u00e0 sa destination finale ?"
      ]
    },
    {
      "cell_type": "code",
      "execution_count": null,
      "metadata": {
        "ExecuteTime": {
          "end_time": "2016-10-31T22:28:44.140593",
          "start_time": "2016-10-31T22:28:44.113095"
        },
        "collapsed": true
      },
      "outputs": [],
      "source": [
        "# on cr\u00e9e deux fonctions : \n",
        "\n",
        "def trouver_destination_tgv(origine, datetime) : \n",
        "    '''Permet d avoir les 10 prochains d\u00e9parts d une gare donn\u00e9e '''\n",
        "    return requests.get('https://api.sncf.com/v1/coverage/sncf/stop_points/{}/' \\\n",
        "                        'departures?from_datetime={}'.format(origine, datetime) ,\n",
        "                        auth=(token_auth, '')).json()\n",
        "\n",
        "def trouver_trajet_dispo_max_heure(gare_depart, date_heure_depart, date_heure_max) : \n",
        "    ''' Permet d avoir toutes les informations sur des trajets partant d une gare entre une date X et une date Y '''\n",
        "    \n",
        "    destinations = []\n",
        "    \n",
        "# on interroge l'API tant qu'il renvoie des informations sur les trains partant de Gare de lyon \n",
        "\n",
        "    while convertir_en_temps(date_heure_depart) <  convertir_en_temps(date_heure_max) :\n",
        "    # on prend toutes les destinations qui partent \u00e0 partir d'une certaine heure\n",
        "        destinations = destinations + trouver_destination_tgv(gare_depart, date_heure_depart)['departures']\n",
        "        \n",
        "        nombre_resultats = trouver_destination_tgv(gare_depart, date_heure_depart)['pagination']['items_on_page']\n",
        "        \n",
        "        # on trouve l'heure max de la premi\u00e8re s\u00e9rie de 10 solutions que l'application renvoie\n",
        "        # on remplace l'heure qu'on cherche par celle l\u00e0\n",
        "        date_heure_depart = trouver_destination_tgv(gare_depart,\n",
        "                                     date_heure_depart)['departures'][nombre_resultats-1]['stop_date_time']['departure_date_time']\n",
        "\n",
        "    return destinations"
      ]
    },
    {
      "cell_type": "code",
      "execution_count": null,
      "metadata": {
        "ExecuteTime": {
          "end_time": "2016-10-31T22:28:45.992030",
          "start_time": "2016-10-31T22:28:44.145095"
        },
        "collapsed": false
      },
      "outputs": [
        {
          "name": "stdout",
          "output_type": "stream",
          "text": [
            "entre 20161223T020226 et 20161223T060226\n",
            "Lyon-Perrache (Lyon) 20161223T055000\n",
            "Marseille-St-Charles (Marseille) 20161223T060700\n",
            "Perpignan (Perpignan) 20161223T060700\n",
            "Lyon-Perrache (Lyon) 20161223T062900\n",
            "Milano-Porta-Garibaldi 20161223T062900\n",
            "Mulhouse (Mulhouse) 20161223T065300\n",
            "St-Etienne-Ch\u00e2teaucreux (Saint-\u00c9tienne) 20161223T065900\n",
            "Nice-Ville (Nice) 20161223T071900\n",
            "Lyon-Perrache (Lyon) 20161223T072900\n",
            "Marseille-St-Charles (Marseille) 20161223T073700\n",
            "Je peux prendre 1 trains qui partent entre 18h et 20h de Gare de Lyon le 17 novembre 2016\n"
          ]
        }
      ],
      "source": [
        "# on trouve l'ensemble des trajets dont le d\u00e9part est compris entre deux horaires\n",
        "# informations sur le trajet qu'on choisit dans le futur\n",
        "# l'API ne retourne pas de r\u00e9sultatq tr\u00e8s loin dans le pass\u00e9\n",
        "now = datetime.now()\n",
        "dt = now + timedelta(14)  # dans deux semaines\n",
        "\n",
        "date_heure = convertir_en_chaine(dt)\n",
        "max_date_heure = convertir_en_chaine(dt + timedelta(hours=4))\n",
        "print(\"entre\", date_heure, \"et\", max_date_heure)\n",
        "\n",
        "gare_initiale = 'stop_point:OCE:SP:TGV-87686006'\n",
        "\n",
        "# on demande \u00e0 avoir tous les trajets partant de gare de lyon entre 18h et 20h\n",
        "\n",
        "destinations_depuis_paris_max_20h = trouver_trajet_dispo_max_heure(gare_initiale, date_heure, max_date_heure)\n",
        "\n",
        "# on veut supprimer ceux pour lesquels le d\u00e9part est apr\u00e8s 20h00\n",
        "\n",
        "dictionnaire_destinations = {}\n",
        "\n",
        "i = 0\n",
        "\n",
        "for depart in destinations_depuis_paris_max_20h :    \n",
        "    print(depart['display_informations']['direction'],depart['stop_date_time']['departure_date_time'])\n",
        "    if convertir_en_temps(depart['stop_date_time']['departure_date_time']) < convertir_en_temps(max_date_heure) : \n",
        "        i += 1\n",
        "        dictionnaire_destinations[i] = depart \n",
        "    \n",
        "print(\"Je peux prendre\", len(dictionnaire_destinations.keys()), \n",
        "      \"trains qui partent entre 18h et 20h de Gare de Lyon le 17 novembre 2016\")"
      ]
    },
    {
      "cell_type": "code",
      "execution_count": null,
      "metadata": {
        "ExecuteTime": {
          "end_time": "2016-10-31T22:28:50.170515",
          "start_time": "2016-10-31T22:28:45.997536"
        },
        "collapsed": false
      },
      "outputs": [
        {
          "name": "stdout",
          "output_type": "stream",
          "text": [
            "heure_minimale 2016-12-23 10:02:26.527880\n"
          ]
        }
      ],
      "source": [
        "# on cherche celui qui arrive le plus t\u00f4t \u00e0 sa destination\n",
        "\n",
        "def trouver_info_trajet(dep, arr, heure) :\n",
        "     return requests.get('https://api.sncf.com/v1/coverage/sncf/journeys?from={}&to={}&datetime={}'.format(dep,arr,heure), \\\n",
        "                         auth=(token_auth, '')).json()['journeys'][0]\n",
        "\n",
        "# on initiale l'heure \u00e0 la fn de la journ\u00e9e : on veut r\u00e9duire cette variable au maximum\n",
        "# on veut 6h apr\u00e8s le d\u00e9part\n",
        "heure_minimale = dt + timedelta(hours=8)\n",
        "print(\"heure_minimale\", heure_minimale)\n",
        "\n",
        "# parmi toutes les destinations possibles, on recherche le train qui arrive le plus t\u00f4t \u00e0 sa destination finale\n",
        "for code, valeurs in dictionnaire_destinations.items() : \n",
        "    ''' on prend le code de la gare'''\n",
        "    code_destination = dictionnaire_destinations[code]['route']['direction']['id']\n",
        "    ''' on regarde \u00e0 quelle heure arrive le train'''\n",
        "    trajet = trouver_info_trajet('stop_area:OCE:SA:87686006',code_destination,\n",
        "                                   dictionnaire_destinations[code]['stop_date_time']['arrival_date_time'])    \n",
        "    if heure_minimale > convertir_en_temps(trajet['arrival_date_time']) : \n",
        "        heure_minimale = convertir_en_temps(trajet['arrival_date_time'])\n",
        "        destination_la_plus_rapide = dictionnaire_destinations[code]"
      ]
    },
    {
      "cell_type": "code",
      "execution_count": null,
      "metadata": {
        "ExecuteTime": {
          "end_time": "2016-10-31T22:28:50.192983",
          "start_time": "2016-10-31T22:28:50.179500"
        },
        "collapsed": false
      },
      "outputs": [
        {
          "name": "stdout",
          "output_type": "stream",
          "text": [
            "Lyon-Perrache (Lyon) 2016-12-23 08:09:00\n"
          ]
        }
      ],
      "source": [
        "print(destination_la_plus_rapide['display_informations']['direction'], heure_minimale)"
      ]
    },
    {
      "cell_type": "markdown",
      "metadata": {},
      "source": [
        "### Et les correspondances ? \n",
        "\n",
        "#### Question 4\n",
        "\n",
        "- On va essayer de voir jusqu'o\u00f9 on peut aller, en prenant des trains au d\u00e9part de la Gare de Lyon : \n",
        "    - Quelles sont toutes les gares atteignables en partant le 17 novembre, sans faire de changement et sans partir apr\u00e8s minuit ?\n",
        "    - Si on prend un de ces trains, jusqu'o\u00f9 peut-on aller, avec une correspondance, sans partir apr\u00e8s 8h le lendemain matin ?"
      ]
    },
    {
      "cell_type": "code",
      "execution_count": null,
      "metadata": {
        "ExecuteTime": {
          "end_time": "2016-10-31T22:28:50.218482",
          "start_time": "2016-10-31T22:28:50.198985"
        },
        "collapsed": false
      },
      "outputs": [],
      "source": [
        "# on va trouver toutes les gares qui sont sur les trajets des trains retenus donc atteignables sans correspondance\n",
        "\n",
        "def trouver_toutes_les_gares_du_trajet(gare_depart, gare_arrivee_finale, horaire_depart) :\n",
        "    return requests.get('https://api.sncf.com/v1/coverage/sncf/journeys?from={}&to={}' \\\n",
        "                          '&datetime={}'.format(gare_depart,gare_arrivee_finale,horaire_depart), \\\n",
        "                         auth=(token_auth, '')).json()"
      ]
    },
    {
      "cell_type": "code",
      "execution_count": null,
      "metadata": {
        "ExecuteTime": {
          "end_time": "2016-10-31T22:28:50.477570",
          "start_time": "2016-10-31T22:28:50.222980"
        },
        "collapsed": false,
        "scrolled": true
      },
      "outputs": [
        {
          "name": "stdout",
          "output_type": "stream",
          "text": [
            "Paris-Gare-de-Lyon\n",
            "Creusot - TGV (le)\n",
            "Lyon-Part-Dieu\n",
            "Lyon-Perrache\n"
          ]
        }
      ],
      "source": [
        "# Exemple pour la premi\u00e8re gare de la liste \n",
        "gare_depart = dictionnaire_destinations[1]['stop_point']['id']\n",
        "gare_arrivee = dictionnaire_destinations[1]['route']['direction']['id']\n",
        "horaire_train = dictionnaire_destinations[1]['stop_date_time']['arrival_date_time']\n",
        "\n",
        "######################\n",
        "trajet_recherche = trouver_toutes_les_gares_du_trajet(gare_depart,gare_arrivee,horaire_train)\n",
        "for i in trajet_recherche['journeys'][0]['sections'][0]['stop_date_times']: \n",
        "    print(i['stop_point']['name'])"
      ]
    },
    {
      "cell_type": "code",
      "execution_count": null,
      "metadata": {
        "ExecuteTime": {
          "end_time": "2016-10-31T22:28:54.060163",
          "start_time": "2016-10-31T22:28:50.486560"
        },
        "collapsed": false,
        "scrolled": true
      },
      "outputs": [
        {
          "name": "stdout",
          "output_type": "stream",
          "text": [
            "Paris-Gare-de-Lyon 20161223T055000\n",
            "Creusot - TGV (le) 20161223T071000\n",
            "Lyon-Part-Dieu 20161223T075600\n",
            "Lyon-Perrache 20161223T080900\n",
            "-------------\n"
          ]
        }
      ],
      "source": [
        "#### on fait la liste des gares o\u00f9 on peut aller sans correspondance\n",
        "\n",
        "liste_gares_direct = []\n",
        "\n",
        "for x in dictionnaire_destinations.keys():\n",
        "    # on prend les deux gares d\u00e9part + finale\n",
        "    gare_depart = dictionnaire_destinations[x]['stop_point']['id']\n",
        "    gare_arrivee = dictionnaire_destinations[x]['route']['direction']['id']\n",
        "    horaire_train = dictionnaire_destinations[x]['stop_date_time']['arrival_date_time']\n",
        "    \n",
        "    # on appelle la fonction d\u00e9finie pr\u00e9c\u00e9demment\n",
        "    trajet_recherche = trouver_toutes_les_gares_du_trajet(gare_depart,gare_arrivee,horaire_train)\n",
        "    for i in trajet_recherche['journeys'][0]['sections'][0]['stop_date_times']: \n",
        "        print(i['stop_point']['name'], i['arrival_date_time'])\n",
        "        liste_gares_direct.append(i['stop_point']['name'])\n",
        "    print(\"-------------\")    \n",
        "    \n",
        "#### l\u00e0 on a la liste des gares atteignables sans correspondance    \n",
        "liste_gares_direct = set(liste_gares_direct)"
      ]
    },
    {
      "cell_type": "markdown",
      "metadata": {},
      "source": [
        "#### Exemple : trouver toutes les correspondances possibles depuis le trajet entre les gares de Paris et de Perpignan"
      ]
    },
    {
      "cell_type": "code",
      "execution_count": null,
      "metadata": {
        "ExecuteTime": {
          "end_time": "2016-10-31T22:28:54.070863",
          "start_time": "2016-10-31T22:28:54.063361"
        },
        "collapsed": false
      },
      "outputs": [
        {
          "name": "stdout",
          "output_type": "stream",
          "text": [
            "horaire_max 20161223T100226\n"
          ]
        }
      ],
      "source": [
        "# pour le premier trajet gare de la liste trouv\u00e9e \u00e0 l'\u00e9tape pr\u00e9c\u00e9dente\n",
        "# on va chercher toutes les connexions des gares possibles, entre le moment de l'arriv\u00e9e \n",
        "# et 8 heures le lendemain matin\n",
        "\n",
        "gare_depart = dictionnaire_destinations[1]['stop_point']['id']\n",
        "gare_arrivee = dictionnaire_destinations[1]['route']['direction']['id']\n",
        "horaire_train = dictionnaire_destinations[1]['stop_date_time']['arrival_date_time']\n",
        "\n",
        "horaire_max = convertir_en_chaine(dt + timedelta(hours=8))\n",
        "print(\"horaire_max\", horaire_max)"
      ]
    },
    {
      "cell_type": "code",
      "execution_count": null,
      "metadata": {
        "ExecuteTime": {
          "end_time": "2016-10-31T22:29:01.132682",
          "start_time": "2016-10-31T22:28:54.075860"
        },
        "collapsed": false
      },
      "outputs": [
        {
          "data": {
            "text/plain": [
              "{('Creusot - TGV (le)', '20161223T071300'): 'Lyon-Perrache (Lyon)',\n",
              " ('Creusot - TGV (le)', '20161223T085400'): 'Paris-Gare-de-Lyon (Paris)',\n",
              " ('Creusot - TGV (le)', '20161223T091400'): 'Lyon-Perrache (Lyon)',\n",
              " ('Lyon-Part-Dieu', '20161223T080000'): 'Lille Europe (Lille)',\n",
              " ('Lyon-Part-Dieu', '20161223T080100'): 'Lyon-Perrache (Lyon)',\n",
              " ('Lyon-Part-Dieu', '20161223T080400'): 'Paris-Gare-de-Lyon (Paris)',\n",
              " ('Lyon-Part-Dieu', '20161223T083100'): 'Milano-Porta-Garibaldi',\n",
              " ('Lyon-Part-Dieu', '20161223T083300'): 'Strasbourg (Strasbourg)',\n",
              " ('Lyon-Part-Dieu', '20161223T083500'): 'Lyon-Perrache (Lyon)',\n",
              " ('Lyon-Part-Dieu', '20161223T090000'): 'Lille Europe (Lille)',\n",
              " ('Lyon-Part-Dieu', '20161223T090400'): 'Paris-Gare-de-Lyon (Paris)',\n",
              " ('Lyon-Part-Dieu',\n",
              "  '20161223T090500'): 'St-Etienne-Ch\u00e2teaucreux (Saint-\u00c9tienne)',\n",
              " ('Lyon-Part-Dieu', '20161223T091000'): 'Montpellier-Saint-Roch (Montpellier)',\n",
              " ('Lyon-Part-Dieu', '20161223T093100'): 'Lyon-Perrache (Lyon)',\n",
              " ('Lyon-Part-Dieu', '20161223T093600'): 'Toulouse-Matabiau (Toulouse)',\n",
              " ('Lyon-Part-Dieu', '20161223T095400'): 'Nancy-Ville (Nancy)',\n",
              " ('Lyon-Part-Dieu', '20161223T100000'): 'Frankfurt-am-Main-Hbf',\n",
              " ('Lyon-Part-Dieu', '20161223T100100'): 'Lyon-Perrache (Lyon)',\n",
              " ('Lyon-Perrache', '20161223T085100'): 'Paris-Gare-de-Lyon (Paris)',\n",
              " ('Lyon-Perrache', '20161223T095100'): 'Paris-Gare-de-Lyon (Paris)'}"
            ]
          },
          "execution_count": null,
          "metadata": {},
          "output_type": "execute_result"
        }
      ],
      "source": [
        "###################### en partant de gare de lyon en direction de Perpignan\n",
        "\n",
        "trajet_recherche = trouver_toutes_les_gares_du_trajet(gare_depart,gare_arrivee,horaire_train)\n",
        "\n",
        "dictionnaire_correspondances = {}\n",
        "\n",
        "for i in trajet_recherche['journeys'][0]['sections'][0]['stop_date_times']: \n",
        "\n",
        "    #print(\"la gare o\u00f9 on est descendu depuis Paris\", i['stop_point']['name'])\n",
        "\n",
        "    if i['stop_point']['id'] == \"stop_point:OCE:SP:TGV-87686006\" : \n",
        "        #print(\"on ne prend pas la gare de Lyon - ce n'est pas une gare du trajet\")\n",
        "        pass\n",
        "            \n",
        "    else :\n",
        "        # on va appliquer \u00e0 nouveau la fonction des trajets disponibles mais pour l'ensemble des gares\n",
        "        gare_dep_connexion = i['stop_point']['id']\n",
        "        nom_gare_dep = i['stop_point']['name']\n",
        "        heure_dep_connexion = i['arrival_date_time']\n",
        "    \n",
        "        trajet_recherche_connexion = trouver_trajet_dispo_max_heure(gare_dep_connexion, heure_dep_connexion, horaire_max)\n",
        "        \n",
        "        test_as_connexion_on_time = True\n",
        "        \n",
        "        # pour chaque trajet possible depuis la gare o\u00f9 on est arriv\u00e9 depuis paris, on va v\u00e9rifier qu'on part bien  \n",
        "        # avant 8h le lendemain\n",
        "        autre_gare = None\n",
        "        for vers_autre_gare in trajet_recherche_connexion :  \n",
        "            heure_depart_depuis_autre_gare = vers_autre_gare['stop_date_time']['departure_date_time']\n",
        "            destination_trajet = vers_autre_gare['display_informations']['direction']\n",
        "            \n",
        "            if convertir_en_temps(heure_depart_depuis_autre_gare) < convertir_en_temps(horaire_max) : \n",
        "                dictionnaire_correspondances[(nom_gare_dep,heure_depart_depuis_autre_gare)] = destination_trajet  \n",
        "                test_as_connexion_on_time = False\n",
        "                # print(nom_gare_dep,heure_depart_depuis_autre_gare, \"gare finale du trajet\", destination_trajet)\n",
        "                autre_gare = vers_autre_gare\n",
        "        \n",
        "        if autre_gare and test_as_connexion_on_time: \n",
        "            dictionnaire_correspondances[(nom_gare_dep,autre_gare['stop_date_time']['departure_date_time'])] = \"\"\n",
        "                \n",
        "# on garde toutes les gares o\u00f9 on peut aller depuis une des gares de correspondance, avec un d\u00e9part avant 8H\n",
        "dictionnaire_correspondances"
      ]
    },
    {
      "cell_type": "code",
      "execution_count": null,
      "metadata": {
        "ExecuteTime": {
          "end_time": "2016-10-31T22:29:13.601156",
          "start_time": "2016-10-31T22:29:01.141674"
        },
        "collapsed": false
      },
      "outputs": [],
      "source": [
        "# Pour les trajets qui partent avant 8h des gares, on va chercher toutes les gares qui sont sur le trajet\n",
        "gares_avec_connexion = []\n",
        "for k,v in dictionnaire_correspondances.items() : \n",
        "    if len(v) == 0 : \n",
        "        pass\n",
        "    else :\n",
        "        gares_entre_dep_arr = trouver_toutes_les_gares_du_trajet(dict_nom_gare_code[k[0]],dict_label_gare_code[v],k[1])\n",
        "        for gare in gares_entre_dep_arr['journeys'][0]['sections'][1]['stop_date_times']: \n",
        "            #print(\"gare depart:\", k[0], gare['stop_point']['name'])\n",
        "            gares_avec_connexion.append(gare['stop_point']['name'])\n",
        "            \n",
        "# la liste des gares atteignables avec 1 correspondance            \n",
        "gares_avec_connexion = set(gares_avec_connexion)"
      ]
    },
    {
      "cell_type": "code",
      "execution_count": null,
      "metadata": {
        "ExecuteTime": {
          "end_time": "2016-10-31T22:29:13.621150",
          "start_time": "2016-10-31T22:29:13.609156"
        },
        "collapsed": false
      },
      "outputs": [
        {
          "name": "stdout",
          "output_type": "stream",
          "text": [
            "{'Paris-Gare-de-Lyon', 'Lille Europe', 'M\u00e2con-Ville', 'Mannheim-Hbf', 'St-Etienne-Ch\u00e2teaucreux', 'Torino-Porta-Susa', 'Besan\u00e7on-Franche-Comt\u00e9', 'N\u00eemes', 'Mulhouse', 'Valence-TGV', 'Narbonne', 'Lyon-Perrache', 'Lyon-Part-Dieu', 'Strasbourg', 'TGV Haute-Picardie', 'B\u00e9ziers', 'Marne-la-Vall\u00e9e-Chessy.', 'Karlsruhe-Hbf', 'Chalon-sur-Sa\u00f4ne', 'Baden-Baden', 'S\u00e8te', 'Milano-Porta-Garibaldi', 'Chamb\u00e9ry-Chal.-les-Eaux', 'Creusot - TGV (le)', 'Bardonecchia-Stazione', 'Nancy-Ville', 'Carcassonne', 'Dijon-Ville', 'Modane', 'Frankfurt-am-Main-Hbf', 'Toulouse-Matabiau', 'Oulx-Cesana-Clav-Sestri', 'M\u00e2con-Loch\u00e9-TGV', 'Belfort-Montb\u00e9liard-TGV', 'Neufch\u00e2teau', 'Montpellier-Saint-Roch', 'A\u00e9ropt-C-de-Gaulle-TGV'}\n"
          ]
        }
      ],
      "source": [
        "print(gares_avec_connexion)"
      ]
    },
    {
      "cell_type": "code",
      "execution_count": null,
      "metadata": {
        "ExecuteTime": {
          "end_time": "2016-10-31T22:29:13.643652",
          "start_time": "2016-10-31T22:29:13.625651"
        },
        "collapsed": false
      },
      "outputs": [
        {
          "name": "stdout",
          "output_type": "stream",
          "text": [
            "['Lille Europe', 'M\u00e2con-Ville', 'Mannheim-Hbf', 'St-Etienne-Ch\u00e2teaucreux', 'Torino-Porta-Susa', 'Besan\u00e7on-Franche-Comt\u00e9', 'N\u00eemes', 'Mulhouse', 'Valence-TGV', 'Narbonne', 'Strasbourg', 'TGV Haute-Picardie', 'B\u00e9ziers', 'Marne-la-Vall\u00e9e-Chessy.', 'Karlsruhe-Hbf', 'Chalon-sur-Sa\u00f4ne', 'Baden-Baden', 'S\u00e8te', 'Milano-Porta-Garibaldi', 'Chamb\u00e9ry-Chal.-les-Eaux', 'Bardonecchia-Stazione', 'Nancy-Ville', 'Carcassonne', 'Dijon-Ville', 'Modane', 'Frankfurt-am-Main-Hbf', 'Toulouse-Matabiau', 'Oulx-Cesana-Clav-Sestri', 'M\u00e2con-Loch\u00e9-TGV', 'Belfort-Montb\u00e9liard-TGV', 'Neufch\u00e2teau', 'Montpellier-Saint-Roch', 'A\u00e9ropt-C-de-Gaulle-TGV']\n"
          ]
        }
      ],
      "source": [
        "# on cr\u00e9e la liste des gares atteignables seulement avec une correspondance (pas directement atteignable)\n",
        "gares_atteintes_avec_connexion = [a for a in gares_avec_connexion if (a not in liste_gares_direct)]\n",
        "print(gares_atteintes_avec_connexion)"
      ]
    },
    {
      "cell_type": "markdown",
      "metadata": {},
      "source": [
        "##### Exemple : trouver toutes les correspondances possibles depuis les trains qu'on prend de la Gare de Lyon\n",
        "\n",
        "Maintenant qu'on a fait un exemple, on le fait pour tous les trajets qui partent de la Gare de Lyon\n",
        "\n",
        "!!! Attention cette celulle prend du temps (beaucoup beaucoup de temps) !!!!"
      ]
    },
    {
      "cell_type": "code",
      "execution_count": null,
      "metadata": {
        "ExecuteTime": {
          "end_time": "2016-10-31T22:31:46.483477",
          "start_time": "2016-10-31T22:29:13.648151"
        },
        "collapsed": false
      },
      "outputs": [
        {
          "name": "stdout",
          "output_type": "stream",
          "text": [
            "1 / 1\n"
          ]
        }
      ],
      "source": [
        "gares_avec_connexion = []\n",
        "\n",
        "for gare_initiale in dictionnaire_destinations: \n",
        "    # pour le premier trajet gare de la liste trouv\u00e9e \u00e0 l'\u00e9tape pr\u00e9c\u00e9dente\n",
        "    # on va chercher toutes les connexions des gares possibles\n",
        "    print(gare_initiale, \"/\", len(dictionnaire_destinations))\n",
        "\n",
        "    gare_depart = dictionnaire_destinations[gare_initiale]['stop_point']['id']\n",
        "    gare_arrivee = dictionnaire_destinations[gare_initiale]['route']['direction']['id']\n",
        "    horaire_train = dictionnaire_destinations[gare_initiale]['stop_date_time']['arrival_date_time']\n",
        "    \n",
        "    # Pour les trajets qui partent avant 8h des gares, on va chercher toutes les gares qui sont sur le trajet\n",
        "    \n",
        "    trajet_recherche = trouver_toutes_les_gares_du_trajet(gare_depart, gare_arrivee, horaire_train)\n",
        "\n",
        "    dictionnaire_correspondances = {}\n",
        "\n",
        "    for i in trajet_recherche['journeys'][0]['sections'][0]['stop_date_times']: \n",
        "\n",
        "        if i['stop_point']['id'] == \"stop_point:OCE:SP:TGV-87686006\" : \n",
        "            #print(\"on ne prend pas la gare de Lyon - ce n'est pas une gare du trajet\")\n",
        "            pass\n",
        "\n",
        "        else :\n",
        "            # on va appliquer \u00e0 nouveau la fonction des trajets disponibles mais pour l'ensemble des gares\n",
        "            gare_dep_connexion = i['stop_point']['id']\n",
        "            nom_gare_dep = i['stop_point']['name']\n",
        "            heure_dep_connexion = i['arrival_date_time']\n",
        "\n",
        "            trajet_recherche_connexion = trouver_trajet_dispo_max_heure(gare_dep_connexion, heure_dep_connexion, horaire_max)\n",
        "\n",
        "            test_as_connexion_on_time = True\n",
        "\n",
        "            # pour chaque trajet possible depuis la gare o\u00f9 on est arriv\u00e9 depuis paris, on va v\u00e9rifier qu'on part bien  \n",
        "            # avant 8h le lendemain\n",
        "            for vers_autre_gare in trajet_recherche_connexion :  \n",
        "                heure_depart_depuis_autre_gare = vers_autre_gare['stop_date_time']['departure_date_time']\n",
        "                destination_trajet = vers_autre_gare['display_informations']['direction']\n",
        "\n",
        "                if convertir_en_temps(heure_depart_depuis_autre_gare) < convertir_en_temps(horaire_max) : \n",
        "                    dictionnaire_correspondances[(nom_gare_dep,heure_depart_depuis_autre_gare)] = destination_trajet  \n",
        "                    test_as_connexion_on_time = False\n",
        "\n",
        "            if test_as_connexion_on_time == True : \n",
        "                    dictionnaire_correspondances[(nom_gare_dep,vers_autre_gare['stop_date_time']['departure_date_time'])] = \"\"\n",
        "\n",
        "    # on garde toutes les gares o\u00f9 on peut aller depuis une des gares de correspondance, avec un d\u00e9part avant 8H\n",
        "\n",
        "\n",
        "    for k,v in dictionnaire_correspondances.items() : \n",
        "        if len(v) == 0 : \n",
        "            pass\n",
        "        else :\n",
        "            gares_entre_dep_arr = trouver_toutes_les_gares_du_trajet(dict_nom_gare_code[k[0]], dict_label_gare_code[v], k[1])\n",
        "            for gare in gares_entre_dep_arr['journeys'][0]['sections'][1]['stop_date_times'] : \n",
        "                gares_avec_connexion.append(gare['stop_point']['name'])"
      ]
    },
    {
      "cell_type": "code",
      "execution_count": null,
      "metadata": {
        "ExecuteTime": {
          "end_time": "2016-10-31T22:31:46.495972",
          "start_time": "2016-10-31T22:31:46.488473"
        },
        "collapsed": true
      },
      "outputs": [],
      "source": [
        "# la liste des gares atteignables avec 1 correspondance            \n",
        "gares_avec_connexion = set(gares_avec_connexion)"
      ]
    },
    {
      "cell_type": "code",
      "execution_count": null,
      "metadata": {
        "ExecuteTime": {
          "end_time": "2016-10-31T22:31:46.531470",
          "start_time": "2016-10-31T22:31:46.501971"
        },
        "collapsed": false
      },
      "outputs": [
        {
          "name": "stdout",
          "output_type": "stream",
          "text": [
            "['Lille Europe', 'M\u00e2con-Ville', 'Mannheim-Hbf', 'St-Etienne-Ch\u00e2teaucreux', 'Torino-Porta-Susa', 'Besan\u00e7on-Franche-Comt\u00e9', 'N\u00eemes', 'Mulhouse', 'Valence-TGV', 'Narbonne', 'Strasbourg', 'TGV Haute-Picardie', 'B\u00e9ziers', 'Marne-la-Vall\u00e9e-Chessy.', 'Karlsruhe-Hbf', 'Chalon-sur-Sa\u00f4ne', 'Baden-Baden', 'S\u00e8te', 'Milano-Porta-Garibaldi', 'Chamb\u00e9ry-Chal.-les-Eaux', 'Bardonecchia-Stazione', 'Nancy-Ville', 'Carcassonne', 'Dijon-Ville', 'Modane', 'Frankfurt-am-Main-Hbf', 'Toulouse-Matabiau', 'Oulx-Cesana-Clav-Sestri', 'M\u00e2con-Loch\u00e9-TGV', 'Belfort-Montb\u00e9liard-TGV', 'Neufch\u00e2teau', 'Montpellier-Saint-Roch', 'A\u00e9ropt-C-de-Gaulle-TGV']\n"
          ]
        }
      ],
      "source": [
        "gares_connexion = [a for a in gares_avec_connexion if a not in liste_gares_direct]\n",
        "print(gares_connexion)"
      ]
    },
    {
      "cell_type": "markdown",
      "metadata": {},
      "source": [
        "#### Question 5\n",
        "- Repr\u00e9senter toutes les gares atteignables avec un graphique de type scatter. Distinguer les gares atteintes en un seul trajet et celles atteintes avec une correspondance."
      ]
    },
    {
      "cell_type": "code",
      "execution_count": null,
      "metadata": {
        "ExecuteTime": {
          "end_time": "2016-10-31T22:31:46.568470",
          "start_time": "2016-10-31T22:31:46.535469"
        },
        "collapsed": false
      },
      "outputs": [
        {
          "data": {
            "text/plain": [
              "{'A\u00e9ropt-C-de-Gaulle-TGV': 'correspondance',\n",
              " 'Baden-Baden': 'correspondance',\n",
              " 'Bardonecchia-Stazione': 'correspondance',\n",
              " 'Belfort-Montb\u00e9liard-TGV': 'correspondance',\n",
              " 'Besan\u00e7on-Franche-Comt\u00e9': 'correspondance',\n",
              " 'B\u00e9ziers': 'correspondance',\n",
              " 'Carcassonne': 'correspondance',\n",
              " 'Chalon-sur-Sa\u00f4ne': 'correspondance',\n",
              " 'Chamb\u00e9ry-Chal.-les-Eaux': 'correspondance',\n",
              " 'Creusot - TGV (le)': 'direct',\n",
              " 'Dijon-Ville': 'correspondance',\n",
              " 'Frankfurt-am-Main-Hbf': 'correspondance',\n",
              " 'Karlsruhe-Hbf': 'correspondance',\n",
              " 'Lille Europe': 'correspondance',\n",
              " 'Lyon-Part-Dieu': 'direct',\n",
              " 'Lyon-Perrache': 'direct',\n",
              " 'Mannheim-Hbf': 'correspondance',\n",
              " 'Marne-la-Vall\u00e9e-Chessy.': 'correspondance',\n",
              " 'Milano-Porta-Garibaldi': 'correspondance',\n",
              " 'Modane': 'correspondance',\n",
              " 'Montpellier-Saint-Roch': 'correspondance',\n",
              " 'Mulhouse': 'correspondance',\n",
              " 'M\u00e2con-Loch\u00e9-TGV': 'correspondance',\n",
              " 'M\u00e2con-Ville': 'correspondance',\n",
              " 'Nancy-Ville': 'correspondance',\n",
              " 'Narbonne': 'correspondance',\n",
              " 'Neufch\u00e2teau': 'correspondance',\n",
              " 'N\u00eemes': 'correspondance',\n",
              " 'Oulx-Cesana-Clav-Sestri': 'correspondance',\n",
              " 'Paris-Gare-de-Lyon': 'depart',\n",
              " 'St-Etienne-Ch\u00e2teaucreux': 'correspondance',\n",
              " 'Strasbourg': 'correspondance',\n",
              " 'S\u00e8te': 'correspondance',\n",
              " 'TGV Haute-Picardie': 'correspondance',\n",
              " 'Torino-Porta-Susa': 'correspondance',\n",
              " 'Toulouse-Matabiau': 'correspondance',\n",
              " 'Valence-TGV': 'correspondance'}"
            ]
          },
          "execution_count": null,
          "metadata": {},
          "output_type": "execute_result"
        }
      ],
      "source": [
        "######### Type de chaque gare pour le graphique\n",
        "dict_type_gares = {}\n",
        "for a in liste_gares_direct :\n",
        "    dict_type_gares[a] = \"direct\"\n",
        "for a in gares_connexion :\n",
        "    dict_type_gares[a] = \"correspondance\"    \n",
        "dict_type_gares['Paris-Gare-de-Lyon'] = 'depart'\n",
        "dict_type_gares"
      ]
    },
    {
      "cell_type": "markdown",
      "metadata": {},
      "source": [
        "On repr\u00e9sente tout \u00e7a sur un graphique"
      ]
    },
    {
      "cell_type": "code",
      "execution_count": null,
      "metadata": {
        "ExecuteTime": {
          "end_time": "2016-10-31T22:31:46.634977",
          "start_time": "2016-10-31T22:31:46.572473"
        },
        "collapsed": false
      },
      "outputs": [],
      "source": [
        "# on va les repr\u00e9senter gr\u00e2ce \u00e0 la base des latitude / longitude\n",
        "\n",
        "import pandas as pd\n",
        "import matplotlib.pyplot as plt\n",
        "import matplotlib as mpl\n",
        "from matplotlib.lines import Line2D \n",
        "\n",
        "mpl.rcParams['axes.facecolor'] = \"whitesmoke\"\n",
        "\n",
        "palette = plt.cm.spring \n",
        "\n",
        "liste_couleurs = [palette(0), palette(0.5), palette(0.8)]\n",
        "\n",
        "data_all = pd.read_csv(\"./ensemble_gares.csv\", encoding = \"ISO-8859-1\")\n",
        "\n",
        "connexions = []\n",
        "lat = []\n",
        "lon = []\n",
        "labels = []\n",
        "\n",
        "dict_lat = data_all.set_index('name')['lat'].to_dict()\n",
        "dict_lon = data_all.set_index('name')['lon'].to_dict()\n",
        "#dict_lab = data_all.set_index('name')['name'].str.replace(\"gare de\",\"\").to_dict()\n",
        "\n",
        "\n",
        "for gare in dict_type_gares.keys() : \n",
        "    lat.append(dict_lat[gare])                              \n",
        "    lon.append(dict_lon[gare])\n",
        "    labels.append(gare)"
      ]
    },
    {
      "cell_type": "code",
      "execution_count": null,
      "metadata": {
        "ExecuteTime": {
          "end_time": "2016-10-31T22:31:48.233605",
          "start_time": "2016-10-31T22:31:46.638970"
        },
        "collapsed": false
      },
      "outputs": [
        {
          "data": {
            "text/plain": [
              "<matplotlib.text.Text at 0x259c951d4a8>"
            ]
          },
          "execution_count": null,
          "metadata": {},
          "output_type": "execute_result"
        },
        {
          "data": {
            "image/png": "[encoded data removed]",
            "text/html": [
              "\n",
              "\n",
              "<style>\n",
              "\n",
              "</style>\n",
              "\n",
              "<div id=\"fig_el1373225846518852564625035959\"></div>\n",
              "<script>\n",
              "function mpld3_load_lib(url, callback){\n",
              "  var s = document.createElement('script');\n",
              "  s.src = url;\n",
              "  s.async = true;\n",
              "  s.onreadystatechange = s.onload = callback;\n",
              "  s.onerror = function(){console.warn(\"failed to load library \" + url);};\n",
              "  document.getElementsByTagName(\"head\")[0].appendChild(s);\n",
              "}\n",
              "\n",
              "if(typeof(mpld3) !== \"undefined\" && mpld3._mpld3IsLoaded){\n",
              "   // already loaded: just create the figure\n",
              "   !function(mpld3){\n",
              "       \n",
              "       mpld3.draw_figure(\"fig_el1373225846518852564625035959\", {\"plugins\": [{\"type\": \"reset\"}, {\"enabled\": false, \"type\": \"zoom\", \"button\": true}, {\"enabled\": false, \"type\": \"boxzoom\", \"button\": true}], \"data\": {\"data01\": [[8.191165, 48.790281], [1.453559, 43.611449], [2.373481, 48.844924], [3.075774, 50.638861], [3.6964040000000002, 43.412804], [5.027278, 47.323392], [8.470079, 49.479714], [5.919798999999999, 45.571032], [4.825146, 46.302654], [4.4993870000000005, 46.7653], [4.399999, 45.443376], [7.667503999999999, 45.073890999999996], [4.36584, 43.83229], [7.342833000000001, 47.741786], [4.978944, 44.991366], [6.1742669999999995, 48.689758000000005], [3.005962, 43.191024], [2.351892, 43.217702], [6.709629, 45.07642], [4.825751, 45.748488], [6.659172, 45.193552000000004], [4.859438, 45.76058], [6.831533, 45.038782], [7.733944999999999, 48.585151], [4.7789470000000005, 46.282892], [2.831682, 49.859209], [8.66405, 50.107215999999994], [8.400253999999999, 48.99439], [6.899019, 47.586579], [0.0, 0.0], [2.782899, 48.870599], [5.954751, 47.30746], [4.8434870000000005, 46.781560999999996], [5.690180000000001, 48.357239], [3.2177689999999997, 43.345601], [3.882368, 43.605829], [2.571609, 49.004021]], \"data02\": [[0.5784796893667862, 0.08186166298749081, 0.054267844002943356, 0.02667402501839589]], \"data03\": [[0.5605585424133811, 0.00919793966151583], [0.9895459976105138, 0.00919793966151583], [0.9925328554360812, 0.00919793966151583], [0.9925328554360812, 0.012877115526122168], [0.9925328554360812, 0.09473877851361298], [0.9925328554360812, 0.09841795437821929], [0.9895459976105138, 0.09841795437821929], [0.5605585424133811, 0.09841795437821929], [0.5575716845878136, 0.09841795437821929], [0.5575716845878136, 0.09473877851361298], [0.5575716845878136, 0.012877115526122168], [0.5575716845878136, 0.00919793966151583], [0.5605585424133811, 0.00919793966151583]]}, \"id\": \"el137322584651885256\", \"width\": 864.0, \"height\": 720.0, \"axes\": [{\"images\": [], \"sharex\": [], \"axesbgalpha\": null, \"ylim\": [-2.5420607836276674, 53.18092178362767], \"markers\": [{\"yindex\": 1, \"xindex\": 0, \"edgecolor\": \"#1F77B4\", \"facecolor\": \"#FF00FF\", \"data\": \"data02\", \"edgewidth\": 1.0, \"id\": \"el137322584653160744pts\", \"coordinates\": \"axes\", \"markerpath\": [[[0.0, 5.0], [1.3260155, 5.0], [2.597899353924267, 4.473168457941209], [3.5355339059327378, 3.5355339059327378], [4.473168457941209, 2.597899353924267], [5.0, 1.3260155], [5.0, 0.0], [5.0, -1.3260155], [4.473168457941209, -2.597899353924267], [3.5355339059327378, -3.5355339059327378], [2.597899353924267, -4.473168457941209], [1.3260155, -5.0], [0.0, -5.0], [-1.3260155, -5.0], [-2.597899353924267, -4.473168457941209], [-3.5355339059327378, -3.5355339059327378], [-4.473168457941209, -2.597899353924267], [-5.0, -1.3260155], [-5.0, 0.0], [-5.0, 1.3260155], [-4.473168457941209, 2.597899353924267], [-3.5355339059327378, 3.5355339059327378], [-2.597899353924267, 4.473168457941209], [-1.3260155, 5.0], [0.0, 5.0]], [\"M\", \"C\", \"C\", \"C\", \"C\", \"C\", \"C\", \"C\", \"C\", \"Z\"]], \"zorder\": 1000002.0, \"alpha\": 0.5}, {\"yindex\": 2, \"xindex\": 0, \"edgecolor\": \"#1F77B4\", \"facecolor\": \"#FF807F\", \"data\": \"data02\", \"edgewidth\": 1.0, \"id\": \"el137322584653163768pts\", \"coordinates\": \"axes\", \"markerpath\": [[[0.0, 5.0], [1.3260155, 5.0], [2.597899353924267, 4.473168457941209], [3.5355339059327378, 3.5355339059327378], [4.473168457941209, 2.597899353924267], [5.0, 1.3260155], [5.0, 0.0], [5.0, -1.3260155], [4.473168457941209, -2.597899353924267], [3.5355339059327378, -3.5355339059327378], [2.597899353924267, -4.473168457941209], [1.3260155, -5.0], [0.0, -5.0], [-1.3260155, -5.0], [-2.597899353924267, -4.473168457941209], [-3.5355339059327378, -3.5355339059327378], [-4.473168457941209, -2.597899353924267], [-5.0, -1.3260155], [-5.0, 0.0], [-5.0, 1.3260155], [-4.473168457941209, 2.597899353924267], [-3.5355339059327378, 3.5355339059327378], [-2.597899353924267, 4.473168457941209], [-1.3260155, 5.0], [0.0, 5.0]], [\"M\", \"C\", \"C\", \"C\", \"C\", \"C\", \"C\", \"C\", \"C\", \"Z\"]], \"zorder\": 1000002.0, \"alpha\": 0.5}, {\"yindex\": 3, \"xindex\": 0, \"edgecolor\": \"#1F77B4\", \"facecolor\": \"#FFCC32\", \"data\": \"data02\", \"edgewidth\": 1.0, \"id\": \"el137322584653187112pts\", \"coordinates\": \"axes\", \"markerpath\": [[[0.0, 5.0], [1.3260155, 5.0], [2.597899353924267, 4.473168457941209], [3.5355339059327378, 3.5355339059327378], [4.473168457941209, 2.597899353924267], [5.0, 1.3260155], [5.0, 0.0], [5.0, -1.3260155], [4.473168457941209, -2.597899353924267], [3.5355339059327378, -3.5355339059327378], [2.597899353924267, -4.473168457941209], [1.3260155, -5.0], [0.0, -5.0], [-1.3260155, -5.0], [-2.597899353924267, -4.473168457941209], [-3.5355339059327378, -3.5355339059327378], [-4.473168457941209, -2.597899353924267], [-5.0, -1.3260155], [-5.0, 0.0], [-5.0, 1.3260155], [-4.473168457941209, 2.597899353924267], [-3.5355339059327378, 3.5355339059327378], [-2.597899353924267, 4.473168457941209], [-1.3260155, 5.0], [0.0, 5.0]], [\"M\", \"C\", \"C\", \"C\", \"C\", \"C\", \"C\", \"C\", \"C\", \"Z\"]], \"zorder\": 1000002.0, \"alpha\": 0.5}], \"axes\": [{\"scale\": \"linear\", \"position\": \"bottom\", \"tickformat\": null, \"fontsize\": 10.0, \"grid\": {\"gridOn\": false}, \"tickvalues\": null, \"nticks\": 7}, {\"scale\": \"linear\", \"position\": \"left\", \"tickformat\": null, \"fontsize\": 10.0, \"grid\": {\"gridOn\": false}, \"tickvalues\": null, \"nticks\": 8}], \"axesbg\": \"#F5F5F5\", \"lines\": [], \"zoomable\": true, \"xdomain\": [-0.4414163590203105, 9.105466359020308], \"collections\": [{\"xindex\": 0, \"zorder\": 1, \"facecolors\": [\"#FFCC32\", \"#FFCC32\", \"#FF00FF\", \"#FFCC32\", \"#FFCC32\", \"#FFCC32\", \"#FFCC32\", \"#FFCC32\", \"#FFCC32\", \"#FF807F\", \"#FFCC32\", \"#FFCC32\", \"#FFCC32\", \"#FFCC32\", \"#FFCC32\", \"#FFCC32\", \"#FFCC32\", \"#FFCC32\", \"#FFCC32\", \"#FF807F\", \"#FFCC32\", \"#FF807F\", \"#FFCC32\", \"#FFCC32\", \"#FFCC32\", \"#FFCC32\", \"#FFCC32\", \"#FFCC32\", \"#FFCC32\", \"#FFCC32\", \"#FFCC32\", \"#FFCC32\", \"#FFCC32\", \"#FFCC32\", \"#FFCC32\", \"#FFCC32\", \"#FFCC32\"], \"pathcoordinates\": \"display\", \"edgewidths\": [1.0], \"id\": \"el137322584653121688\", \"edgecolors\": [\"#FFCC32\", \"#FFCC32\", \"#FF00FF\", \"#FFCC32\", \"#FFCC32\", \"#FFCC32\", \"#FFCC32\", \"#FFCC32\", \"#FFCC32\", \"#FF807F\", \"#FFCC32\", \"#FFCC32\", \"#FFCC32\", \"#FFCC32\", \"#FFCC32\", \"#FFCC32\", \"#FFCC32\", \"#FFCC32\", \"#FFCC32\", \"#FF807F\", \"#FFCC32\", \"#FF807F\", \"#FFCC32\", \"#FFCC32\", \"#FFCC32\", \"#FFCC32\", \"#FFCC32\", \"#FFCC32\", \"#FFCC32\", \"#FFCC32\", \"#FFCC32\", \"#FFCC32\", \"#FFCC32\", \"#FFCC32\", \"#FFCC32\", \"#FFCC32\", \"#FFCC32\"], \"offsetcoordinates\": \"data\", \"yindex\": 1, \"paths\": [[[[0.0, -0.5], [0.13260155, -0.5], [0.25978993539242673, -0.44731684579412084], [0.3535533905932738, -0.3535533905932738], [0.44731684579412084, -0.25978993539242673], [0.5, -0.13260155], [0.5, 0.0], [0.5, 0.13260155], [0.44731684579412084, 0.25978993539242673], [0.3535533905932738, 0.3535533905932738], [0.25978993539242673, 0.44731684579412084], [0.13260155, 0.5], [0.0, 0.5], [-0.13260155, 0.5], [-0.25978993539242673, 0.44731684579412084], [-0.3535533905932738, 0.3535533905932738], [-0.44731684579412084, 0.25978993539242673], [-0.5, 0.13260155], [-0.5, 0.0], [-0.5, -0.13260155], [-0.44731684579412084, -0.25978993539242673], [-0.3535533905932738, -0.3535533905932738], [-0.25978993539242673, -0.44731684579412084], [-0.13260155, -0.5], [0.0, -0.5]], [\"M\", \"C\", \"C\", \"C\", \"C\", \"C\", \"C\", \"C\", \"C\", \"Z\"]]], \"alphas\": [0.5], \"offsets\": \"data01\", \"pathtransforms\": [[10.0, 0.0, 0.0, 10.0, 0.0, 0.0]]}], \"texts\": [{\"position\": [8.450254, 49.04439], \"rotation\": -0.0, \"color\": \"#000000\", \"id\": \"el137322584653059800\", \"text\": \"Karlsruhe-Hbf\", \"h_anchor\": \"start\", \"v_baseline\": \"auto\", \"fontsize\": 13.0, \"zorder\": 3, \"coordinates\": \"data\", \"alpha\": 1}, {\"position\": [8.71405, 50.15721599999999], \"rotation\": -0.0, \"color\": \"#000000\", \"id\": \"el137322584653060248\", \"text\": \"Frankfurt-am-Main-Hbf\", \"h_anchor\": \"start\", \"v_baseline\": \"auto\", \"fontsize\": 13.0, \"zorder\": 3, \"coordinates\": \"data\", \"alpha\": 1}, {\"position\": [6.224266999999999, 48.739758], \"rotation\": -0.0, \"color\": \"#000000\", \"id\": \"el137322584653060584\", \"text\": \"Nancy-Ville\", \"h_anchor\": \"start\", \"v_baseline\": \"auto\", \"fontsize\": 13.0, \"zorder\": 3, \"coordinates\": \"data\", \"alpha\": 1}, {\"position\": [4.41584, 43.88229], \"rotation\": -0.0, \"color\": \"#000000\", \"id\": \"el137322584653060920\", \"text\": \"N\\u00eemes\", \"h_anchor\": \"start\", \"v_baseline\": \"auto\", \"fontsize\": 13.0, \"zorder\": 3, \"coordinates\": \"data\", \"alpha\": 1}, {\"position\": [7.783944999999999, 48.635151], \"rotation\": -0.0, \"color\": \"#000000\", \"id\": \"el137322584653061256\", \"text\": \"Strasbourg\", \"h_anchor\": \"start\", \"v_baseline\": \"auto\", \"fontsize\": 13.0, \"zorder\": 3, \"coordinates\": \"data\", \"alpha\": 1}, {\"position\": [3.2677689999999995, 43.395601], \"rotation\": -0.0, \"color\": \"#000000\", \"id\": \"el137322584653061592\", \"text\": \"B\\u00e9ziers\", \"h_anchor\": \"start\", \"v_baseline\": \"auto\", \"fontsize\": 13.0, \"zorder\": 3, \"coordinates\": \"data\", \"alpha\": 1}, {\"position\": [3.932368, 43.655829], \"rotation\": -0.0, \"color\": \"#000000\", \"id\": \"el137322584653061928\", \"text\": \"Montpellier-Saint-Roch\", \"h_anchor\": \"start\", \"v_baseline\": \"auto\", \"fontsize\": 13.0, \"zorder\": 3, \"coordinates\": \"data\", \"alpha\": 1}, {\"position\": [5.028944, 45.041366], \"rotation\": -0.0, \"color\": \"#000000\", \"id\": \"el137322584653074616\", \"text\": \"Valence-TGV\", \"h_anchor\": \"start\", \"v_baseline\": \"auto\", \"fontsize\": 13.0, \"zorder\": 3, \"coordinates\": \"data\", \"alpha\": 1}, {\"position\": [5.077278, 47.373391999999996], \"rotation\": -0.0, \"color\": \"#000000\", \"id\": \"el137322584653074952\", \"text\": \"Dijon-Ville\", \"h_anchor\": \"start\", \"v_baseline\": \"auto\", \"fontsize\": 13.0, \"zorder\": 3, \"coordinates\": \"data\", \"alpha\": 1}, {\"position\": [4.875146, 46.352653999999994], \"rotation\": -0.0, \"color\": \"#000000\", \"id\": \"el137322584653075288\", \"text\": \"M\\u00e2con-Ville\", \"h_anchor\": \"start\", \"v_baseline\": \"auto\", \"fontsize\": 13.0, \"zorder\": 3, \"coordinates\": \"data\", \"alpha\": 1}, {\"position\": [2.621609, 49.054021], \"rotation\": -0.0, \"color\": \"#000000\", \"id\": \"el137322584653075624\", \"text\": \"A\\u00e9ropt-C-de-Gaulle-TGV\", \"h_anchor\": \"start\", \"v_baseline\": \"auto\", \"fontsize\": 13.0, \"zorder\": 3, \"coordinates\": \"data\", \"alpha\": 1}, {\"position\": [6.004751, 47.357459999999996], \"rotation\": -0.0, \"color\": \"#000000\", \"id\": \"el137322584653075960\", \"text\": \"Besan\\u00e7on-Franche-Comt\\u00e9\", \"h_anchor\": \"start\", \"v_baseline\": \"auto\", \"fontsize\": 13.0, \"zorder\": 3, \"coordinates\": \"data\", \"alpha\": 1}, {\"position\": [5.969798999999999, 45.621032], \"rotation\": -0.0, \"color\": \"#000000\", \"id\": \"el137322584653076296\", \"text\": \"Chamb\\u00e9ry-Chal.-les-Eaux\", \"h_anchor\": \"start\", \"v_baseline\": \"auto\", \"fontsize\": 13.0, \"zorder\": 3, \"coordinates\": \"data\", \"alpha\": 1}, {\"position\": [6.881533, 45.088781999999995], \"rotation\": -0.0, \"color\": \"#000000\", \"id\": \"el137322584653076632\", \"text\": \"Oulx-Cesana-Clav-Sestri\", \"h_anchor\": \"start\", \"v_baseline\": \"auto\", \"fontsize\": 13.0, \"zorder\": 3, \"coordinates\": \"data\", \"alpha\": 1}, {\"position\": [4.7757510000000005, 45.698488000000005], \"rotation\": -0.0, \"color\": \"#000000\", \"id\": \"el137322584653076968\", \"text\": \"Lyon-Perrache\", \"h_anchor\": \"end\", \"v_baseline\": \"auto\", \"fontsize\": 13.0, \"zorder\": 3, \"coordinates\": \"data\", \"alpha\": 1}, {\"position\": [6.709172, 45.243552], \"rotation\": -0.0, \"color\": \"#000000\", \"id\": \"el137322584653077304\", \"text\": \"Modane\", \"h_anchor\": \"start\", \"v_baseline\": \"auto\", \"fontsize\": 13.0, \"zorder\": 3, \"coordinates\": \"data\", \"alpha\": 1}, {\"position\": [3.0559619999999996, 43.241023999999996], \"rotation\": -0.0, \"color\": \"#000000\", \"id\": \"el137322584653077640\", \"text\": \"Narbonne\", \"h_anchor\": \"start\", \"v_baseline\": \"auto\", \"fontsize\": 13.0, \"zorder\": 3, \"coordinates\": \"data\", \"alpha\": 1}, {\"position\": [8.241165, 48.840281], \"rotation\": -0.0, \"color\": \"#000000\", \"id\": \"el137322584653077976\", \"text\": \"Baden-Baden\", \"h_anchor\": \"start\", \"v_baseline\": \"auto\", \"fontsize\": 13.0, \"zorder\": 3, \"coordinates\": \"data\", \"alpha\": 1}, {\"position\": [8.520079, 49.529714], \"rotation\": -0.0, \"color\": \"#000000\", \"id\": \"el137322584653078312\", \"text\": \"Mannheim-Hbf\", \"h_anchor\": \"start\", \"v_baseline\": \"auto\", \"fontsize\": 13.0, \"zorder\": 3, \"coordinates\": \"data\", \"alpha\": 1}, {\"position\": [4.828947, 46.332891999999994], \"rotation\": -0.0, \"color\": \"#000000\", \"id\": \"el137322584653099192\", \"text\": \"M\\u00e2con-Loch\\u00e9-TGV\", \"h_anchor\": \"start\", \"v_baseline\": \"auto\", \"fontsize\": 13.0, \"zorder\": 3, \"coordinates\": \"data\", \"alpha\": 1}, {\"position\": [4.449999, 45.493376], \"rotation\": -0.0, \"color\": \"#000000\", \"id\": \"el137322584653099528\", \"text\": \"St-Etienne-Ch\\u00e2teaucreux\", \"h_anchor\": \"start\", \"v_baseline\": \"auto\", \"fontsize\": 13.0, \"zorder\": 3, \"coordinates\": \"data\", \"alpha\": 1}, {\"position\": [4.449387000000001, 46.715300000000006], \"rotation\": -0.0, \"color\": \"#000000\", \"id\": \"el137322584653099864\", \"text\": \"Creusot - TGV (le)\", \"h_anchor\": \"end\", \"v_baseline\": \"auto\", \"fontsize\": 13.0, \"zorder\": 3, \"coordinates\": \"data\", \"alpha\": 1}, {\"position\": [3.125774, 50.688860999999996], \"rotation\": -0.0, \"color\": \"#000000\", \"id\": \"el137322584653100200\", \"text\": \"Lille Europe\", \"h_anchor\": \"start\", \"v_baseline\": \"auto\", \"fontsize\": 13.0, \"zorder\": 3, \"coordinates\": \"data\", \"alpha\": 1}, {\"position\": [7.717503999999999, 45.12389099999999], \"rotation\": -0.0, \"color\": \"#000000\", \"id\": \"el137322584653100536\", \"text\": \"Torino-Porta-Susa\", \"h_anchor\": \"start\", \"v_baseline\": \"auto\", \"fontsize\": 13.0, \"zorder\": 3, \"coordinates\": \"data\", \"alpha\": 1}, {\"position\": [1.503559, 43.661449], \"rotation\": -0.0, \"color\": \"#000000\", \"id\": \"el137322584653100872\", \"text\": \"Toulouse-Matabiau\", \"h_anchor\": \"start\", \"v_baseline\": \"auto\", \"fontsize\": 13.0, \"zorder\": 3, \"coordinates\": \"data\", \"alpha\": 1}, {\"position\": [6.949019, 47.636579], \"rotation\": -0.0, \"color\": \"#000000\", \"id\": \"el137322584653101208\", \"text\": \"Belfort-Montb\\u00e9liard-TGV\", \"h_anchor\": \"start\", \"v_baseline\": \"auto\", \"fontsize\": 13.0, \"zorder\": 3, \"coordinates\": \"data\", \"alpha\": 1}, {\"position\": [7.392833, 47.791785999999995], \"rotation\": -0.0, \"color\": \"#000000\", \"id\": \"el137322584653101544\", \"text\": \"Mulhouse\", \"h_anchor\": \"start\", \"v_baseline\": \"auto\", \"fontsize\": 13.0, \"zorder\": 3, \"coordinates\": \"data\", \"alpha\": 1}, {\"position\": [2.8816819999999996, 49.909209], \"rotation\": -0.0, \"color\": \"#000000\", \"id\": \"el137322584653101880\", \"text\": \"TGV Haute-Picardie\", \"h_anchor\": \"start\", \"v_baseline\": \"auto\", \"fontsize\": 13.0, \"zorder\": 3, \"coordinates\": \"data\", \"alpha\": 1}, {\"position\": [3.746404, 43.462804], \"rotation\": -0.0, \"color\": \"#000000\", \"id\": \"el137322584653102216\", \"text\": \"S\\u00e8te\", \"h_anchor\": \"start\", \"v_baseline\": \"auto\", \"fontsize\": 13.0, \"zorder\": 3, \"coordinates\": \"data\", \"alpha\": 1}, {\"position\": [0.05, 0.05], \"rotation\": -0.0, \"color\": \"#000000\", \"id\": \"el137322584653102552\", \"text\": \"Milano-Porta-Garibaldi\", \"h_anchor\": \"start\", \"v_baseline\": \"auto\", \"fontsize\": 13.0, \"zorder\": 3, \"coordinates\": \"data\", \"alpha\": 1}, {\"position\": [2.832899, 48.920598999999996], \"rotation\": -0.0, \"color\": \"#000000\", \"id\": \"el137322584653102888\", \"text\": \"Marne-la-Vall\\u00e9e-Chessy.\", \"h_anchor\": \"start\", \"v_baseline\": \"auto\", \"fontsize\": 13.0, \"zorder\": 3, \"coordinates\": \"data\", \"alpha\": 1}, {\"position\": [2.4018919999999997, 43.267702], \"rotation\": -0.0, \"color\": \"#000000\", \"id\": \"el137322584653119672\", \"text\": \"Carcassonne\", \"h_anchor\": \"start\", \"v_baseline\": \"auto\", \"fontsize\": 13.0, \"zorder\": 3, \"coordinates\": \"data\", \"alpha\": 1}, {\"position\": [4.809438, 45.71058], \"rotation\": -0.0, \"color\": \"#000000\", \"id\": \"el137322584653120008\", \"text\": \"Lyon-Part-Dieu\", \"h_anchor\": \"end\", \"v_baseline\": \"auto\", \"fontsize\": 13.0, \"zorder\": 3, \"coordinates\": \"data\", \"alpha\": 1}, {\"position\": [6.759628999999999, 45.126419999999996], \"rotation\": -0.0, \"color\": \"#000000\", \"id\": \"el137322584653120344\", \"text\": \"Bardonecchia-Stazione\", \"h_anchor\": \"start\", \"v_baseline\": \"auto\", \"fontsize\": 13.0, \"zorder\": 3, \"coordinates\": \"data\", \"alpha\": 1}, {\"position\": [5.7401800000000005, 48.407239], \"rotation\": -0.0, \"color\": \"#000000\", \"id\": \"el137322584653120680\", \"text\": \"Neufch\\u00e2teau\", \"h_anchor\": \"start\", \"v_baseline\": \"auto\", \"fontsize\": 13.0, \"zorder\": 3, \"coordinates\": \"data\", \"alpha\": 1}, {\"position\": [4.893487, 46.831560999999994], \"rotation\": -0.0, \"color\": \"#000000\", \"id\": \"el137322584653121016\", \"text\": \"Chalon-sur-Sa\\u00f4ne\", \"h_anchor\": \"start\", \"v_baseline\": \"auto\", \"fontsize\": 13.0, \"zorder\": 3, \"coordinates\": \"data\", \"alpha\": 1}, {\"position\": [2.4234809999999998, 48.894923999999996], \"rotation\": -0.0, \"color\": \"#000000\", \"id\": \"el137322584653121352\", \"text\": \"Paris-Gare-de-Lyon\", \"h_anchor\": \"start\", \"v_baseline\": \"auto\", \"fontsize\": 13.0, \"zorder\": 3, \"coordinates\": \"data\", \"alpha\": 1}, {\"position\": [0.49999999999999994, 1.0073583517292126], \"rotation\": -0.0, \"color\": \"#000000\", \"id\": \"el137322584652928168\", \"text\": \"Gares atteignables avant minuit depuis la Gare de Lyon\", \"h_anchor\": \"middle\", \"v_baseline\": \"auto\", \"fontsize\": 20.0, \"zorder\": 3, \"coordinates\": \"axes\", \"alpha\": 1}, {\"position\": [-0.16129032258064516, -0.16556291390728475], \"rotation\": -0.0, \"color\": \"#000000\", \"id\": \"el137322584653188456\", \"text\": \"None\", \"h_anchor\": \"start\", \"v_baseline\": \"auto\", \"fontsize\": 10.0, \"zorder\": 1000003.0, \"coordinates\": \"axes\", \"alpha\": 1}, {\"position\": [0.6053614097968937, 0.07542310522442974], \"rotation\": -0.0, \"color\": \"#000000\", \"id\": \"el137322584653146768\", \"text\": \"Gare de d\\u00e9part\", \"h_anchor\": \"start\", \"v_baseline\": \"auto\", \"fontsize\": 10.0, \"zorder\": 1000003.0, \"coordinates\": \"axes\", \"alpha\": 1}, {\"position\": [0.6053614097968937, 0.04782928623988228], \"rotation\": -0.0, \"color\": \"#000000\", \"id\": \"el137322584653162144\", \"text\": \"Direct depuis Gare de Lyon le soir du 17 novembre\", \"h_anchor\": \"start\", \"v_baseline\": \"auto\", \"fontsize\": 10.0, \"zorder\": 1000003.0, \"coordinates\": \"axes\", \"alpha\": 1}, {\"position\": [0.6053614097968937, 0.020235467255334816], \"rotation\": -0.0, \"color\": \"#000000\", \"id\": \"el137322584653185488\", \"text\": \"Avec une correspondance depuis une gare directe\", \"h_anchor\": \"start\", \"v_baseline\": \"auto\", \"fontsize\": 10.0, \"zorder\": 1000003.0, \"coordinates\": \"axes\", \"alpha\": 1}], \"id\": \"el137322584644905000\", \"sharey\": [], \"xlim\": [-0.4414163590203105, 9.105466359020308], \"xscale\": \"linear\", \"paths\": [{\"xindex\": 0, \"zorder\": 1000001.0, \"facecolor\": \"#FFFFFF\", \"dasharray\": \"10,0\", \"id\": \"el137322584653146096\", \"pathcodes\": [\"M\", \"L\", \"S\", \"L\", \"S\", \"L\", \"S\", \"L\", \"S\", \"Z\"], \"yindex\": 1, \"edgecolor\": \"#CCCCCC\", \"data\": \"data03\", \"edgewidth\": 1.0, \"coordinates\": \"axes\", \"alpha\": 0.8}], \"ydomain\": [-2.5420607836276674, 53.18092178362767], \"yscale\": \"linear\", \"bbox\": [0.125, 0.125, 0.775, 0.755]}]});\n",
              "   }(mpld3);\n",
              "}else if(typeof define === \"function\" && define.amd){\n",
              "   // require.js is available: use it to load d3/mpld3\n",
              "   require.config({paths: {d3: \"https://mpld3.github.io/js/d3.v3.min\"}});\n",
              "   require([\"d3\"], function(d3){\n",
              "      window.d3 = d3;\n",
              "      mpld3_load_lib(\"https://mpld3.github.io/js/mpld3.v0.2.js\", function(){\n",
              "         \n",
              "         mpld3.draw_figure(\"fig_el1373225846518852564625035959\", {\"plugins\": [{\"type\": \"reset\"}, {\"enabled\": false, \"type\": \"zoom\", \"button\": true}, {\"enabled\": false, \"type\": \"boxzoom\", \"button\": true}], \"data\": {\"data01\": [[8.191165, 48.790281], [1.453559, 43.611449], [2.373481, 48.844924], [3.075774, 50.638861], [3.6964040000000002, 43.412804], [5.027278, 47.323392], [8.470079, 49.479714], [5.919798999999999, 45.571032], [4.825146, 46.302654], [4.4993870000000005, 46.7653], [4.399999, 45.443376], [7.667503999999999, 45.073890999999996], [4.36584, 43.83229], [7.342833000000001, 47.741786], [4.978944, 44.991366], [6.1742669999999995, 48.689758000000005], [3.005962, 43.191024], [2.351892, 43.217702], [6.709629, 45.07642], [4.825751, 45.748488], [6.659172, 45.193552000000004], [4.859438, 45.76058], [6.831533, 45.038782], [7.733944999999999, 48.585151], [4.7789470000000005, 46.282892], [2.831682, 49.859209], [8.66405, 50.107215999999994], [8.400253999999999, 48.99439], [6.899019, 47.586579], [0.0, 0.0], [2.782899, 48.870599], [5.954751, 47.30746], [4.8434870000000005, 46.781560999999996], [5.690180000000001, 48.357239], [3.2177689999999997, 43.345601], [3.882368, 43.605829], [2.571609, 49.004021]], \"data02\": [[0.5784796893667862, 0.08186166298749081, 0.054267844002943356, 0.02667402501839589]], \"data03\": [[0.5605585424133811, 0.00919793966151583], [0.9895459976105138, 0.00919793966151583], [0.9925328554360812, 0.00919793966151583], [0.9925328554360812, 0.012877115526122168], [0.9925328554360812, 0.09473877851361298], [0.9925328554360812, 0.09841795437821929], [0.9895459976105138, 0.09841795437821929], [0.5605585424133811, 0.09841795437821929], [0.5575716845878136, 0.09841795437821929], [0.5575716845878136, 0.09473877851361298], [0.5575716845878136, 0.012877115526122168], [0.5575716845878136, 0.00919793966151583], [0.5605585424133811, 0.00919793966151583]]}, \"id\": \"el137322584651885256\", \"width\": 864.0, \"height\": 720.0, \"axes\": [{\"images\": [], \"sharex\": [], \"axesbgalpha\": null, \"ylim\": [-2.5420607836276674, 53.18092178362767], \"markers\": [{\"yindex\": 1, \"xindex\": 0, \"edgecolor\": \"#1F77B4\", \"facecolor\": \"#FF00FF\", \"data\": \"data02\", \"edgewidth\": 1.0, \"id\": \"el137322584653160744pts\", \"coordinates\": \"axes\", \"markerpath\": [[[0.0, 5.0], [1.3260155, 5.0], [2.597899353924267, 4.473168457941209], [3.5355339059327378, 3.5355339059327378], [4.473168457941209, 2.597899353924267], [5.0, 1.3260155], [5.0, 0.0], [5.0, -1.3260155], [4.473168457941209, -2.597899353924267], [3.5355339059327378, -3.5355339059327378], [2.597899353924267, -4.473168457941209], [1.3260155, -5.0], [0.0, -5.0], [-1.3260155, -5.0], [-2.597899353924267, -4.473168457941209], [-3.5355339059327378, -3.5355339059327378], [-4.473168457941209, -2.597899353924267], [-5.0, -1.3260155], [-5.0, 0.0], [-5.0, 1.3260155], [-4.473168457941209, 2.597899353924267], [-3.5355339059327378, 3.5355339059327378], [-2.597899353924267, 4.473168457941209], [-1.3260155, 5.0], [0.0, 5.0]], [\"M\", \"C\", \"C\", \"C\", \"C\", \"C\", \"C\", \"C\", \"C\", \"Z\"]], \"zorder\": 1000002.0, \"alpha\": 0.5}, {\"yindex\": 2, \"xindex\": 0, \"edgecolor\": \"#1F77B4\", \"facecolor\": \"#FF807F\", \"data\": \"data02\", \"edgewidth\": 1.0, \"id\": \"el137322584653163768pts\", \"coordinates\": \"axes\", \"markerpath\": [[[0.0, 5.0], [1.3260155, 5.0], [2.597899353924267, 4.473168457941209], [3.5355339059327378, 3.5355339059327378], [4.473168457941209, 2.597899353924267], [5.0, 1.3260155], [5.0, 0.0], [5.0, -1.3260155], [4.473168457941209, -2.597899353924267], [3.5355339059327378, -3.5355339059327378], [2.597899353924267, -4.473168457941209], [1.3260155, -5.0], [0.0, -5.0], [-1.3260155, -5.0], [-2.597899353924267, -4.473168457941209], [-3.5355339059327378, -3.5355339059327378], [-4.473168457941209, -2.597899353924267], [-5.0, -1.3260155], [-5.0, 0.0], [-5.0, 1.3260155], [-4.473168457941209, 2.597899353924267], [-3.5355339059327378, 3.5355339059327378], [-2.597899353924267, 4.473168457941209], [-1.3260155, 5.0], [0.0, 5.0]], [\"M\", \"C\", \"C\", \"C\", \"C\", \"C\", \"C\", \"C\", \"C\", \"Z\"]], \"zorder\": 1000002.0, \"alpha\": 0.5}, {\"yindex\": 3, \"xindex\": 0, \"edgecolor\": \"#1F77B4\", \"facecolor\": \"#FFCC32\", \"data\": \"data02\", \"edgewidth\": 1.0, \"id\": \"el137322584653187112pts\", \"coordinates\": \"axes\", \"markerpath\": [[[0.0, 5.0], [1.3260155, 5.0], [2.597899353924267, 4.473168457941209], [3.5355339059327378, 3.5355339059327378], [4.473168457941209, 2.597899353924267], [5.0, 1.3260155], [5.0, 0.0], [5.0, -1.3260155], [4.473168457941209, -2.597899353924267], [3.5355339059327378, -3.5355339059327378], [2.597899353924267, -4.473168457941209], [1.3260155, -5.0], [0.0, -5.0], [-1.3260155, -5.0], [-2.597899353924267, -4.473168457941209], [-3.5355339059327378, -3.5355339059327378], [-4.473168457941209, -2.597899353924267], [-5.0, -1.3260155], [-5.0, 0.0], [-5.0, 1.3260155], [-4.473168457941209, 2.597899353924267], [-3.5355339059327378, 3.5355339059327378], [-2.597899353924267, 4.473168457941209], [-1.3260155, 5.0], [0.0, 5.0]], [\"M\", \"C\", \"C\", \"C\", \"C\", \"C\", \"C\", \"C\", \"C\", \"Z\"]], \"zorder\": 1000002.0, \"alpha\": 0.5}], \"axes\": [{\"scale\": \"linear\", \"position\": \"bottom\", \"tickformat\": null, \"fontsize\": 10.0, \"grid\": {\"gridOn\": false}, \"tickvalues\": null, \"nticks\": 7}, {\"scale\": \"linear\", \"position\": \"left\", \"tickformat\": null, \"fontsize\": 10.0, \"grid\": {\"gridOn\": false}, \"tickvalues\": null, \"nticks\": 8}], \"axesbg\": \"#F5F5F5\", \"lines\": [], \"zoomable\": true, \"xdomain\": [-0.4414163590203105, 9.105466359020308], \"collections\": [{\"xindex\": 0, \"zorder\": 1, \"facecolors\": [\"#FFCC32\", \"#FFCC32\", \"#FF00FF\", \"#FFCC32\", \"#FFCC32\", \"#FFCC32\", \"#FFCC32\", \"#FFCC32\", \"#FFCC32\", \"#FF807F\", \"#FFCC32\", \"#FFCC32\", \"#FFCC32\", \"#FFCC32\", \"#FFCC32\", \"#FFCC32\", \"#FFCC32\", \"#FFCC32\", \"#FFCC32\", \"#FF807F\", \"#FFCC32\", \"#FF807F\", \"#FFCC32\", \"#FFCC32\", \"#FFCC32\", \"#FFCC32\", \"#FFCC32\", \"#FFCC32\", \"#FFCC32\", \"#FFCC32\", \"#FFCC32\", \"#FFCC32\", \"#FFCC32\", \"#FFCC32\", \"#FFCC32\", \"#FFCC32\", \"#FFCC32\"], \"pathcoordinates\": \"display\", \"edgewidths\": [1.0], \"id\": \"el137322584653121688\", \"edgecolors\": [\"#FFCC32\", \"#FFCC32\", \"#FF00FF\", \"#FFCC32\", \"#FFCC32\", \"#FFCC32\", \"#FFCC32\", \"#FFCC32\", \"#FFCC32\", \"#FF807F\", \"#FFCC32\", \"#FFCC32\", \"#FFCC32\", \"#FFCC32\", \"#FFCC32\", \"#FFCC32\", \"#FFCC32\", \"#FFCC32\", \"#FFCC32\", \"#FF807F\", \"#FFCC32\", \"#FF807F\", \"#FFCC32\", \"#FFCC32\", \"#FFCC32\", \"#FFCC32\", \"#FFCC32\", \"#FFCC32\", \"#FFCC32\", \"#FFCC32\", \"#FFCC32\", \"#FFCC32\", \"#FFCC32\", \"#FFCC32\", \"#FFCC32\", \"#FFCC32\", \"#FFCC32\"], \"offsetcoordinates\": \"data\", \"yindex\": 1, \"paths\": [[[[0.0, -0.5], [0.13260155, -0.5], [0.25978993539242673, -0.44731684579412084], [0.3535533905932738, -0.3535533905932738], [0.44731684579412084, -0.25978993539242673], [0.5, -0.13260155], [0.5, 0.0], [0.5, 0.13260155], [0.44731684579412084, 0.25978993539242673], [0.3535533905932738, 0.3535533905932738], [0.25978993539242673, 0.44731684579412084], [0.13260155, 0.5], [0.0, 0.5], [-0.13260155, 0.5], [-0.25978993539242673, 0.44731684579412084], [-0.3535533905932738, 0.3535533905932738], [-0.44731684579412084, 0.25978993539242673], [-0.5, 0.13260155], [-0.5, 0.0], [-0.5, -0.13260155], [-0.44731684579412084, -0.25978993539242673], [-0.3535533905932738, -0.3535533905932738], [-0.25978993539242673, -0.44731684579412084], [-0.13260155, -0.5], [0.0, -0.5]], [\"M\", \"C\", \"C\", \"C\", \"C\", \"C\", \"C\", \"C\", \"C\", \"Z\"]]], \"alphas\": [0.5], \"offsets\": \"data01\", \"pathtransforms\": [[10.0, 0.0, 0.0, 10.0, 0.0, 0.0]]}], \"texts\": [{\"position\": [8.450254, 49.04439], \"rotation\": -0.0, \"color\": \"#000000\", \"id\": \"el137322584653059800\", \"text\": \"Karlsruhe-Hbf\", \"h_anchor\": \"start\", \"v_baseline\": \"auto\", \"fontsize\": 13.0, \"zorder\": 3, \"coordinates\": \"data\", \"alpha\": 1}, {\"position\": [8.71405, 50.15721599999999], \"rotation\": -0.0, \"color\": \"#000000\", \"id\": \"el137322584653060248\", \"text\": \"Frankfurt-am-Main-Hbf\", \"h_anchor\": \"start\", \"v_baseline\": \"auto\", \"fontsize\": 13.0, \"zorder\": 3, \"coordinates\": \"data\", \"alpha\": 1}, {\"position\": [6.224266999999999, 48.739758], \"rotation\": -0.0, \"color\": \"#000000\", \"id\": \"el137322584653060584\", \"text\": \"Nancy-Ville\", \"h_anchor\": \"start\", \"v_baseline\": \"auto\", \"fontsize\": 13.0, \"zorder\": 3, \"coordinates\": \"data\", \"alpha\": 1}, {\"position\": [4.41584, 43.88229], \"rotation\": -0.0, \"color\": \"#000000\", \"id\": \"el137322584653060920\", \"text\": \"N\\u00eemes\", \"h_anchor\": \"start\", \"v_baseline\": \"auto\", \"fontsize\": 13.0, \"zorder\": 3, \"coordinates\": \"data\", \"alpha\": 1}, {\"position\": [7.783944999999999, 48.635151], \"rotation\": -0.0, \"color\": \"#000000\", \"id\": \"el137322584653061256\", \"text\": \"Strasbourg\", \"h_anchor\": \"start\", \"v_baseline\": \"auto\", \"fontsize\": 13.0, \"zorder\": 3, \"coordinates\": \"data\", \"alpha\": 1}, {\"position\": [3.2677689999999995, 43.395601], \"rotation\": -0.0, \"color\": \"#000000\", \"id\": \"el137322584653061592\", \"text\": \"B\\u00e9ziers\", \"h_anchor\": \"start\", \"v_baseline\": \"auto\", \"fontsize\": 13.0, \"zorder\": 3, \"coordinates\": \"data\", \"alpha\": 1}, {\"position\": [3.932368, 43.655829], \"rotation\": -0.0, \"color\": \"#000000\", \"id\": \"el137322584653061928\", \"text\": \"Montpellier-Saint-Roch\", \"h_anchor\": \"start\", \"v_baseline\": \"auto\", \"fontsize\": 13.0, \"zorder\": 3, \"coordinates\": \"data\", \"alpha\": 1}, {\"position\": [5.028944, 45.041366], \"rotation\": -0.0, \"color\": \"#000000\", \"id\": \"el137322584653074616\", \"text\": \"Valence-TGV\", \"h_anchor\": \"start\", \"v_baseline\": \"auto\", \"fontsize\": 13.0, \"zorder\": 3, \"coordinates\": \"data\", \"alpha\": 1}, {\"position\": [5.077278, 47.373391999999996], \"rotation\": -0.0, \"color\": \"#000000\", \"id\": \"el137322584653074952\", \"text\": \"Dijon-Ville\", \"h_anchor\": \"start\", \"v_baseline\": \"auto\", \"fontsize\": 13.0, \"zorder\": 3, \"coordinates\": \"data\", \"alpha\": 1}, {\"position\": [4.875146, 46.352653999999994], \"rotation\": -0.0, \"color\": \"#000000\", \"id\": \"el137322584653075288\", \"text\": \"M\\u00e2con-Ville\", \"h_anchor\": \"start\", \"v_baseline\": \"auto\", \"fontsize\": 13.0, \"zorder\": 3, \"coordinates\": \"data\", \"alpha\": 1}, {\"position\": [2.621609, 49.054021], \"rotation\": -0.0, \"color\": \"#000000\", \"id\": \"el137322584653075624\", \"text\": \"A\\u00e9ropt-C-de-Gaulle-TGV\", \"h_anchor\": \"start\", \"v_baseline\": \"auto\", \"fontsize\": 13.0, \"zorder\": 3, \"coordinates\": \"data\", \"alpha\": 1}, {\"position\": [6.004751, 47.357459999999996], \"rotation\": -0.0, \"color\": \"#000000\", \"id\": \"el137322584653075960\", \"text\": \"Besan\\u00e7on-Franche-Comt\\u00e9\", \"h_anchor\": \"start\", \"v_baseline\": \"auto\", \"fontsize\": 13.0, \"zorder\": 3, \"coordinates\": \"data\", \"alpha\": 1}, {\"position\": [5.969798999999999, 45.621032], \"rotation\": -0.0, \"color\": \"#000000\", \"id\": \"el137322584653076296\", \"text\": \"Chamb\\u00e9ry-Chal.-les-Eaux\", \"h_anchor\": \"start\", \"v_baseline\": \"auto\", \"fontsize\": 13.0, \"zorder\": 3, \"coordinates\": \"data\", \"alpha\": 1}, {\"position\": [6.881533, 45.088781999999995], \"rotation\": -0.0, \"color\": \"#000000\", \"id\": \"el137322584653076632\", \"text\": \"Oulx-Cesana-Clav-Sestri\", \"h_anchor\": \"start\", \"v_baseline\": \"auto\", \"fontsize\": 13.0, \"zorder\": 3, \"coordinates\": \"data\", \"alpha\": 1}, {\"position\": [4.7757510000000005, 45.698488000000005], \"rotation\": -0.0, \"color\": \"#000000\", \"id\": \"el137322584653076968\", \"text\": \"Lyon-Perrache\", \"h_anchor\": \"end\", \"v_baseline\": \"auto\", \"fontsize\": 13.0, \"zorder\": 3, \"coordinates\": \"data\", \"alpha\": 1}, {\"position\": [6.709172, 45.243552], \"rotation\": -0.0, \"color\": \"#000000\", \"id\": \"el137322584653077304\", \"text\": \"Modane\", \"h_anchor\": \"start\", \"v_baseline\": \"auto\", \"fontsize\": 13.0, \"zorder\": 3, \"coordinates\": \"data\", \"alpha\": 1}, {\"position\": [3.0559619999999996, 43.241023999999996], \"rotation\": -0.0, \"color\": \"#000000\", \"id\": \"el137322584653077640\", \"text\": \"Narbonne\", \"h_anchor\": \"start\", \"v_baseline\": \"auto\", \"fontsize\": 13.0, \"zorder\": 3, \"coordinates\": \"data\", \"alpha\": 1}, {\"position\": [8.241165, 48.840281], \"rotation\": -0.0, \"color\": \"#000000\", \"id\": \"el137322584653077976\", \"text\": \"Baden-Baden\", \"h_anchor\": \"start\", \"v_baseline\": \"auto\", \"fontsize\": 13.0, \"zorder\": 3, \"coordinates\": \"data\", \"alpha\": 1}, {\"position\": [8.520079, 49.529714], \"rotation\": -0.0, \"color\": \"#000000\", \"id\": \"el137322584653078312\", \"text\": \"Mannheim-Hbf\", \"h_anchor\": \"start\", \"v_baseline\": \"auto\", \"fontsize\": 13.0, \"zorder\": 3, \"coordinates\": \"data\", \"alpha\": 1}, {\"position\": [4.828947, 46.332891999999994], \"rotation\": -0.0, \"color\": \"#000000\", \"id\": \"el137322584653099192\", \"text\": \"M\\u00e2con-Loch\\u00e9-TGV\", \"h_anchor\": \"start\", \"v_baseline\": \"auto\", \"fontsize\": 13.0, \"zorder\": 3, \"coordinates\": \"data\", \"alpha\": 1}, {\"position\": [4.449999, 45.493376], \"rotation\": -0.0, \"color\": \"#000000\", \"id\": \"el137322584653099528\", \"text\": \"St-Etienne-Ch\\u00e2teaucreux\", \"h_anchor\": \"start\", \"v_baseline\": \"auto\", \"fontsize\": 13.0, \"zorder\": 3, \"coordinates\": \"data\", \"alpha\": 1}, {\"position\": [4.449387000000001, 46.715300000000006], \"rotation\": -0.0, \"color\": \"#000000\", \"id\": \"el137322584653099864\", \"text\": \"Creusot - TGV (le)\", \"h_anchor\": \"end\", \"v_baseline\": \"auto\", \"fontsize\": 13.0, \"zorder\": 3, \"coordinates\": \"data\", \"alpha\": 1}, {\"position\": [3.125774, 50.688860999999996], \"rotation\": -0.0, \"color\": \"#000000\", \"id\": \"el137322584653100200\", \"text\": \"Lille Europe\", \"h_anchor\": \"start\", \"v_baseline\": \"auto\", \"fontsize\": 13.0, \"zorder\": 3, \"coordinates\": \"data\", \"alpha\": 1}, {\"position\": [7.717503999999999, 45.12389099999999], \"rotation\": -0.0, \"color\": \"#000000\", \"id\": \"el137322584653100536\", \"text\": \"Torino-Porta-Susa\", \"h_anchor\": \"start\", \"v_baseline\": \"auto\", \"fontsize\": 13.0, \"zorder\": 3, \"coordinates\": \"data\", \"alpha\": 1}, {\"position\": [1.503559, 43.661449], \"rotation\": -0.0, \"color\": \"#000000\", \"id\": \"el137322584653100872\", \"text\": \"Toulouse-Matabiau\", \"h_anchor\": \"start\", \"v_baseline\": \"auto\", \"fontsize\": 13.0, \"zorder\": 3, \"coordinates\": \"data\", \"alpha\": 1}, {\"position\": [6.949019, 47.636579], \"rotation\": -0.0, \"color\": \"#000000\", \"id\": \"el137322584653101208\", \"text\": \"Belfort-Montb\\u00e9liard-TGV\", \"h_anchor\": \"start\", \"v_baseline\": \"auto\", \"fontsize\": 13.0, \"zorder\": 3, \"coordinates\": \"data\", \"alpha\": 1}, {\"position\": [7.392833, 47.791785999999995], \"rotation\": -0.0, \"color\": \"#000000\", \"id\": \"el137322584653101544\", \"text\": \"Mulhouse\", \"h_anchor\": \"start\", \"v_baseline\": \"auto\", \"fontsize\": 13.0, \"zorder\": 3, \"coordinates\": \"data\", \"alpha\": 1}, {\"position\": [2.8816819999999996, 49.909209], \"rotation\": -0.0, \"color\": \"#000000\", \"id\": \"el137322584653101880\", \"text\": \"TGV Haute-Picardie\", \"h_anchor\": \"start\", \"v_baseline\": \"auto\", \"fontsize\": 13.0, \"zorder\": 3, \"coordinates\": \"data\", \"alpha\": 1}, {\"position\": [3.746404, 43.462804], \"rotation\": -0.0, \"color\": \"#000000\", \"id\": \"el137322584653102216\", \"text\": \"S\\u00e8te\", \"h_anchor\": \"start\", \"v_baseline\": \"auto\", \"fontsize\": 13.0, \"zorder\": 3, \"coordinates\": \"data\", \"alpha\": 1}, {\"position\": [0.05, 0.05], \"rotation\": -0.0, \"color\": \"#000000\", \"id\": \"el137322584653102552\", \"text\": \"Milano-Porta-Garibaldi\", \"h_anchor\": \"start\", \"v_baseline\": \"auto\", \"fontsize\": 13.0, \"zorder\": 3, \"coordinates\": \"data\", \"alpha\": 1}, {\"position\": [2.832899, 48.920598999999996], \"rotation\": -0.0, \"color\": \"#000000\", \"id\": \"el137322584653102888\", \"text\": \"Marne-la-Vall\\u00e9e-Chessy.\", \"h_anchor\": \"start\", \"v_baseline\": \"auto\", \"fontsize\": 13.0, \"zorder\": 3, \"coordinates\": \"data\", \"alpha\": 1}, {\"position\": [2.4018919999999997, 43.267702], \"rotation\": -0.0, \"color\": \"#000000\", \"id\": \"el137322584653119672\", \"text\": \"Carcassonne\", \"h_anchor\": \"start\", \"v_baseline\": \"auto\", \"fontsize\": 13.0, \"zorder\": 3, \"coordinates\": \"data\", \"alpha\": 1}, {\"position\": [4.809438, 45.71058], \"rotation\": -0.0, \"color\": \"#000000\", \"id\": \"el137322584653120008\", \"text\": \"Lyon-Part-Dieu\", \"h_anchor\": \"end\", \"v_baseline\": \"auto\", \"fontsize\": 13.0, \"zorder\": 3, \"coordinates\": \"data\", \"alpha\": 1}, {\"position\": [6.759628999999999, 45.126419999999996], \"rotation\": -0.0, \"color\": \"#000000\", \"id\": \"el137322584653120344\", \"text\": \"Bardonecchia-Stazione\", \"h_anchor\": \"start\", \"v_baseline\": \"auto\", \"fontsize\": 13.0, \"zorder\": 3, \"coordinates\": \"data\", \"alpha\": 1}, {\"position\": [5.7401800000000005, 48.407239], \"rotation\": -0.0, \"color\": \"#000000\", \"id\": \"el137322584653120680\", \"text\": \"Neufch\\u00e2teau\", \"h_anchor\": \"start\", \"v_baseline\": \"auto\", \"fontsize\": 13.0, \"zorder\": 3, \"coordinates\": \"data\", \"alpha\": 1}, {\"position\": [4.893487, 46.831560999999994], \"rotation\": -0.0, \"color\": \"#000000\", \"id\": \"el137322584653121016\", \"text\": \"Chalon-sur-Sa\\u00f4ne\", \"h_anchor\": \"start\", \"v_baseline\": \"auto\", \"fontsize\": 13.0, \"zorder\": 3, \"coordinates\": \"data\", \"alpha\": 1}, {\"position\": [2.4234809999999998, 48.894923999999996], \"rotation\": -0.0, \"color\": \"#000000\", \"id\": \"el137322584653121352\", \"text\": \"Paris-Gare-de-Lyon\", \"h_anchor\": \"start\", \"v_baseline\": \"auto\", \"fontsize\": 13.0, \"zorder\": 3, \"coordinates\": \"data\", \"alpha\": 1}, {\"position\": [0.49999999999999994, 1.0073583517292126], \"rotation\": -0.0, \"color\": \"#000000\", \"id\": \"el137322584652928168\", \"text\": \"Gares atteignables avant minuit depuis la Gare de Lyon\", \"h_anchor\": \"middle\", \"v_baseline\": \"auto\", \"fontsize\": 20.0, \"zorder\": 3, \"coordinates\": \"axes\", \"alpha\": 1}, {\"position\": [-0.16129032258064516, -0.16556291390728475], \"rotation\": -0.0, \"color\": \"#000000\", \"id\": \"el137322584653188456\", \"text\": \"None\", \"h_anchor\": \"start\", \"v_baseline\": \"auto\", \"fontsize\": 10.0, \"zorder\": 1000003.0, \"coordinates\": \"axes\", \"alpha\": 1}, {\"position\": [0.6053614097968937, 0.07542310522442974], \"rotation\": -0.0, \"color\": \"#000000\", \"id\": \"el137322584653146768\", \"text\": \"Gare de d\\u00e9part\", \"h_anchor\": \"start\", \"v_baseline\": \"auto\", \"fontsize\": 10.0, \"zorder\": 1000003.0, \"coordinates\": \"axes\", \"alpha\": 1}, {\"position\": [0.6053614097968937, 0.04782928623988228], \"rotation\": -0.0, \"color\": \"#000000\", \"id\": \"el137322584653162144\", \"text\": \"Direct depuis Gare de Lyon le soir du 17 novembre\", \"h_anchor\": \"start\", \"v_baseline\": \"auto\", \"fontsize\": 10.0, \"zorder\": 1000003.0, \"coordinates\": \"axes\", \"alpha\": 1}, {\"position\": [0.6053614097968937, 0.020235467255334816], \"rotation\": -0.0, \"color\": \"#000000\", \"id\": \"el137322584653185488\", \"text\": \"Avec une correspondance depuis une gare directe\", \"h_anchor\": \"start\", \"v_baseline\": \"auto\", \"fontsize\": 10.0, \"zorder\": 1000003.0, \"coordinates\": \"axes\", \"alpha\": 1}], \"id\": \"el137322584644905000\", \"sharey\": [], \"xlim\": [-0.4414163590203105, 9.105466359020308], \"xscale\": \"linear\", \"paths\": [{\"xindex\": 0, \"zorder\": 1000001.0, \"facecolor\": \"#FFFFFF\", \"dasharray\": \"10,0\", \"id\": \"el137322584653146096\", \"pathcodes\": [\"M\", \"L\", \"S\", \"L\", \"S\", \"L\", \"S\", \"L\", \"S\", \"Z\"], \"yindex\": 1, \"edgecolor\": \"#CCCCCC\", \"data\": \"data03\", \"edgewidth\": 1.0, \"coordinates\": \"axes\", \"alpha\": 0.8}], \"ydomain\": [-2.5420607836276674, 53.18092178362767], \"yscale\": \"linear\", \"bbox\": [0.125, 0.125, 0.775, 0.755]}]});\n",
              "      });\n",
              "    });\n",
              "}else{\n",
              "    // require.js not available: dynamically load d3 & mpld3\n",
              "    mpld3_load_lib(\"https://mpld3.github.io/js/d3.v3.min.js\", function(){\n",
              "         mpld3_load_lib(\"https://mpld3.github.io/js/mpld3.v0.2.js\", function(){\n",
              "                 \n",
              "                 mpld3.draw_figure(\"fig_el1373225846518852564625035959\", {\"plugins\": [{\"type\": \"reset\"}, {\"enabled\": false, \"type\": \"zoom\", \"button\": true}, {\"enabled\": false, \"type\": \"boxzoom\", \"button\": true}], \"data\": {\"data01\": [[8.191165, 48.790281], [1.453559, 43.611449], [2.373481, 48.844924], [3.075774, 50.638861], [3.6964040000000002, 43.412804], [5.027278, 47.323392], [8.470079, 49.479714], [5.919798999999999, 45.571032], [4.825146, 46.302654], [4.4993870000000005, 46.7653], [4.399999, 45.443376], [7.667503999999999, 45.073890999999996], [4.36584, 43.83229], [7.342833000000001, 47.741786], [4.978944, 44.991366], [6.1742669999999995, 48.689758000000005], [3.005962, 43.191024], [2.351892, 43.217702], [6.709629, 45.07642], [4.825751, 45.748488], [6.659172, 45.193552000000004], [4.859438, 45.76058], [6.831533, 45.038782], [7.733944999999999, 48.585151], [4.7789470000000005, 46.282892], [2.831682, 49.859209], [8.66405, 50.107215999999994], [8.400253999999999, 48.99439], [6.899019, 47.586579], [0.0, 0.0], [2.782899, 48.870599], [5.954751, 47.30746], [4.8434870000000005, 46.781560999999996], [5.690180000000001, 48.357239], [3.2177689999999997, 43.345601], [3.882368, 43.605829], [2.571609, 49.004021]], \"data02\": [[0.5784796893667862, 0.08186166298749081, 0.054267844002943356, 0.02667402501839589]], \"data03\": [[0.5605585424133811, 0.00919793966151583], [0.9895459976105138, 0.00919793966151583], [0.9925328554360812, 0.00919793966151583], [0.9925328554360812, 0.012877115526122168], [0.9925328554360812, 0.09473877851361298], [0.9925328554360812, 0.09841795437821929], [0.9895459976105138, 0.09841795437821929], [0.5605585424133811, 0.09841795437821929], [0.5575716845878136, 0.09841795437821929], [0.5575716845878136, 0.09473877851361298], [0.5575716845878136, 0.012877115526122168], [0.5575716845878136, 0.00919793966151583], [0.5605585424133811, 0.00919793966151583]]}, \"id\": \"el137322584651885256\", \"width\": 864.0, \"height\": 720.0, \"axes\": [{\"images\": [], \"sharex\": [], \"axesbgalpha\": null, \"ylim\": [-2.5420607836276674, 53.18092178362767], \"markers\": [{\"yindex\": 1, \"xindex\": 0, \"edgecolor\": \"#1F77B4\", \"facecolor\": \"#FF00FF\", \"data\": \"data02\", \"edgewidth\": 1.0, \"id\": \"el137322584653160744pts\", \"coordinates\": \"axes\", \"markerpath\": [[[0.0, 5.0], [1.3260155, 5.0], [2.597899353924267, 4.473168457941209], [3.5355339059327378, 3.5355339059327378], [4.473168457941209, 2.597899353924267], [5.0, 1.3260155], [5.0, 0.0], [5.0, -1.3260155], [4.473168457941209, -2.597899353924267], [3.5355339059327378, -3.5355339059327378], [2.597899353924267, -4.473168457941209], [1.3260155, -5.0], [0.0, -5.0], [-1.3260155, -5.0], [-2.597899353924267, -4.473168457941209], [-3.5355339059327378, -3.5355339059327378], [-4.473168457941209, -2.597899353924267], [-5.0, -1.3260155], [-5.0, 0.0], [-5.0, 1.3260155], [-4.473168457941209, 2.597899353924267], [-3.5355339059327378, 3.5355339059327378], [-2.597899353924267, 4.473168457941209], [-1.3260155, 5.0], [0.0, 5.0]], [\"M\", \"C\", \"C\", \"C\", \"C\", \"C\", \"C\", \"C\", \"C\", \"Z\"]], \"zorder\": 1000002.0, \"alpha\": 0.5}, {\"yindex\": 2, \"xindex\": 0, \"edgecolor\": \"#1F77B4\", \"facecolor\": \"#FF807F\", \"data\": \"data02\", \"edgewidth\": 1.0, \"id\": \"el137322584653163768pts\", \"coordinates\": \"axes\", \"markerpath\": [[[0.0, 5.0], [1.3260155, 5.0], [2.597899353924267, 4.473168457941209], [3.5355339059327378, 3.5355339059327378], [4.473168457941209, 2.597899353924267], [5.0, 1.3260155], [5.0, 0.0], [5.0, -1.3260155], [4.473168457941209, -2.597899353924267], [3.5355339059327378, -3.5355339059327378], [2.597899353924267, -4.473168457941209], [1.3260155, -5.0], [0.0, -5.0], [-1.3260155, -5.0], [-2.597899353924267, -4.473168457941209], [-3.5355339059327378, -3.5355339059327378], [-4.473168457941209, -2.597899353924267], [-5.0, -1.3260155], [-5.0, 0.0], [-5.0, 1.3260155], [-4.473168457941209, 2.597899353924267], [-3.5355339059327378, 3.5355339059327378], [-2.597899353924267, 4.473168457941209], [-1.3260155, 5.0], [0.0, 5.0]], [\"M\", \"C\", \"C\", \"C\", \"C\", \"C\", \"C\", \"C\", \"C\", \"Z\"]], \"zorder\": 1000002.0, \"alpha\": 0.5}, {\"yindex\": 3, \"xindex\": 0, \"edgecolor\": \"#1F77B4\", \"facecolor\": \"#FFCC32\", \"data\": \"data02\", \"edgewidth\": 1.0, \"id\": \"el137322584653187112pts\", \"coordinates\": \"axes\", \"markerpath\": [[[0.0, 5.0], [1.3260155, 5.0], [2.597899353924267, 4.473168457941209], [3.5355339059327378, 3.5355339059327378], [4.473168457941209, 2.597899353924267], [5.0, 1.3260155], [5.0, 0.0], [5.0, -1.3260155], [4.473168457941209, -2.597899353924267], [3.5355339059327378, -3.5355339059327378], [2.597899353924267, -4.473168457941209], [1.3260155, -5.0], [0.0, -5.0], [-1.3260155, -5.0], [-2.597899353924267, -4.473168457941209], [-3.5355339059327378, -3.5355339059327378], [-4.473168457941209, -2.597899353924267], [-5.0, -1.3260155], [-5.0, 0.0], [-5.0, 1.3260155], [-4.473168457941209, 2.597899353924267], [-3.5355339059327378, 3.5355339059327378], [-2.597899353924267, 4.473168457941209], [-1.3260155, 5.0], [0.0, 5.0]], [\"M\", \"C\", \"C\", \"C\", \"C\", \"C\", \"C\", \"C\", \"C\", \"Z\"]], \"zorder\": 1000002.0, \"alpha\": 0.5}], \"axes\": [{\"scale\": \"linear\", \"position\": \"bottom\", \"tickformat\": null, \"fontsize\": 10.0, \"grid\": {\"gridOn\": false}, \"tickvalues\": null, \"nticks\": 7}, {\"scale\": \"linear\", \"position\": \"left\", \"tickformat\": null, \"fontsize\": 10.0, \"grid\": {\"gridOn\": false}, \"tickvalues\": null, \"nticks\": 8}], \"axesbg\": \"#F5F5F5\", \"lines\": [], \"zoomable\": true, \"xdomain\": [-0.4414163590203105, 9.105466359020308], \"collections\": [{\"xindex\": 0, \"zorder\": 1, \"facecolors\": [\"#FFCC32\", \"#FFCC32\", \"#FF00FF\", \"#FFCC32\", \"#FFCC32\", \"#FFCC32\", \"#FFCC32\", \"#FFCC32\", \"#FFCC32\", \"#FF807F\", \"#FFCC32\", \"#FFCC32\", \"#FFCC32\", \"#FFCC32\", \"#FFCC32\", \"#FFCC32\", \"#FFCC32\", \"#FFCC32\", \"#FFCC32\", \"#FF807F\", \"#FFCC32\", \"#FF807F\", \"#FFCC32\", \"#FFCC32\", \"#FFCC32\", \"#FFCC32\", \"#FFCC32\", \"#FFCC32\", \"#FFCC32\", \"#FFCC32\", \"#FFCC32\", \"#FFCC32\", \"#FFCC32\", \"#FFCC32\", \"#FFCC32\", \"#FFCC32\", \"#FFCC32\"], \"pathcoordinates\": \"display\", \"edgewidths\": [1.0], \"id\": \"el137322584653121688\", \"edgecolors\": [\"#FFCC32\", \"#FFCC32\", \"#FF00FF\", \"#FFCC32\", \"#FFCC32\", \"#FFCC32\", \"#FFCC32\", \"#FFCC32\", \"#FFCC32\", \"#FF807F\", \"#FFCC32\", \"#FFCC32\", \"#FFCC32\", \"#FFCC32\", \"#FFCC32\", \"#FFCC32\", \"#FFCC32\", \"#FFCC32\", \"#FFCC32\", \"#FF807F\", \"#FFCC32\", \"#FF807F\", \"#FFCC32\", \"#FFCC32\", \"#FFCC32\", \"#FFCC32\", \"#FFCC32\", \"#FFCC32\", \"#FFCC32\", \"#FFCC32\", \"#FFCC32\", \"#FFCC32\", \"#FFCC32\", \"#FFCC32\", \"#FFCC32\", \"#FFCC32\", \"#FFCC32\"], \"offsetcoordinates\": \"data\", \"yindex\": 1, \"paths\": [[[[0.0, -0.5], [0.13260155, -0.5], [0.25978993539242673, -0.44731684579412084], [0.3535533905932738, -0.3535533905932738], [0.44731684579412084, -0.25978993539242673], [0.5, -0.13260155], [0.5, 0.0], [0.5, 0.13260155], [0.44731684579412084, 0.25978993539242673], [0.3535533905932738, 0.3535533905932738], [0.25978993539242673, 0.44731684579412084], [0.13260155, 0.5], [0.0, 0.5], [-0.13260155, 0.5], [-0.25978993539242673, 0.44731684579412084], [-0.3535533905932738, 0.3535533905932738], [-0.44731684579412084, 0.25978993539242673], [-0.5, 0.13260155], [-0.5, 0.0], [-0.5, -0.13260155], [-0.44731684579412084, -0.25978993539242673], [-0.3535533905932738, -0.3535533905932738], [-0.25978993539242673, -0.44731684579412084], [-0.13260155, -0.5], [0.0, -0.5]], [\"M\", \"C\", \"C\", \"C\", \"C\", \"C\", \"C\", \"C\", \"C\", \"Z\"]]], \"alphas\": [0.5], \"offsets\": \"data01\", \"pathtransforms\": [[10.0, 0.0, 0.0, 10.0, 0.0, 0.0]]}], \"texts\": [{\"position\": [8.450254, 49.04439], \"rotation\": -0.0, \"color\": \"#000000\", \"id\": \"el137322584653059800\", \"text\": \"Karlsruhe-Hbf\", \"h_anchor\": \"start\", \"v_baseline\": \"auto\", \"fontsize\": 13.0, \"zorder\": 3, \"coordinates\": \"data\", \"alpha\": 1}, {\"position\": [8.71405, 50.15721599999999], \"rotation\": -0.0, \"color\": \"#000000\", \"id\": \"el137322584653060248\", \"text\": \"Frankfurt-am-Main-Hbf\", \"h_anchor\": \"start\", \"v_baseline\": \"auto\", \"fontsize\": 13.0, \"zorder\": 3, \"coordinates\": \"data\", \"alpha\": 1}, {\"position\": [6.224266999999999, 48.739758], \"rotation\": -0.0, \"color\": \"#000000\", \"id\": \"el137322584653060584\", \"text\": \"Nancy-Ville\", \"h_anchor\": \"start\", \"v_baseline\": \"auto\", \"fontsize\": 13.0, \"zorder\": 3, \"coordinates\": \"data\", \"alpha\": 1}, {\"position\": [4.41584, 43.88229], \"rotation\": -0.0, \"color\": \"#000000\", \"id\": \"el137322584653060920\", \"text\": \"N\\u00eemes\", \"h_anchor\": \"start\", \"v_baseline\": \"auto\", \"fontsize\": 13.0, \"zorder\": 3, \"coordinates\": \"data\", \"alpha\": 1}, {\"position\": [7.783944999999999, 48.635151], \"rotation\": -0.0, \"color\": \"#000000\", \"id\": \"el137322584653061256\", \"text\": \"Strasbourg\", \"h_anchor\": \"start\", \"v_baseline\": \"auto\", \"fontsize\": 13.0, \"zorder\": 3, \"coordinates\": \"data\", \"alpha\": 1}, {\"position\": [3.2677689999999995, 43.395601], \"rotation\": -0.0, \"color\": \"#000000\", \"id\": \"el137322584653061592\", \"text\": \"B\\u00e9ziers\", \"h_anchor\": \"start\", \"v_baseline\": \"auto\", \"fontsize\": 13.0, \"zorder\": 3, \"coordinates\": \"data\", \"alpha\": 1}, {\"position\": [3.932368, 43.655829], \"rotation\": -0.0, \"color\": \"#000000\", \"id\": \"el137322584653061928\", \"text\": \"Montpellier-Saint-Roch\", \"h_anchor\": \"start\", \"v_baseline\": \"auto\", \"fontsize\": 13.0, \"zorder\": 3, \"coordinates\": \"data\", \"alpha\": 1}, {\"position\": [5.028944, 45.041366], \"rotation\": -0.0, \"color\": \"#000000\", \"id\": \"el137322584653074616\", \"text\": \"Valence-TGV\", \"h_anchor\": \"start\", \"v_baseline\": \"auto\", \"fontsize\": 13.0, \"zorder\": 3, \"coordinates\": \"data\", \"alpha\": 1}, {\"position\": [5.077278, 47.373391999999996], \"rotation\": -0.0, \"color\": \"#000000\", \"id\": \"el137322584653074952\", \"text\": \"Dijon-Ville\", \"h_anchor\": \"start\", \"v_baseline\": \"auto\", \"fontsize\": 13.0, \"zorder\": 3, \"coordinates\": \"data\", \"alpha\": 1}, {\"position\": [4.875146, 46.352653999999994], \"rotation\": -0.0, \"color\": \"#000000\", \"id\": \"el137322584653075288\", \"text\": \"M\\u00e2con-Ville\", \"h_anchor\": \"start\", \"v_baseline\": \"auto\", \"fontsize\": 13.0, \"zorder\": 3, \"coordinates\": \"data\", \"alpha\": 1}, {\"position\": [2.621609, 49.054021], \"rotation\": -0.0, \"color\": \"#000000\", \"id\": \"el137322584653075624\", \"text\": \"A\\u00e9ropt-C-de-Gaulle-TGV\", \"h_anchor\": \"start\", \"v_baseline\": \"auto\", \"fontsize\": 13.0, \"zorder\": 3, \"coordinates\": \"data\", \"alpha\": 1}, {\"position\": [6.004751, 47.357459999999996], \"rotation\": -0.0, \"color\": \"#000000\", \"id\": \"el137322584653075960\", \"text\": \"Besan\\u00e7on-Franche-Comt\\u00e9\", \"h_anchor\": \"start\", \"v_baseline\": \"auto\", \"fontsize\": 13.0, \"zorder\": 3, \"coordinates\": \"data\", \"alpha\": 1}, {\"position\": [5.969798999999999, 45.621032], \"rotation\": -0.0, \"color\": \"#000000\", \"id\": \"el137322584653076296\", \"text\": \"Chamb\\u00e9ry-Chal.-les-Eaux\", \"h_anchor\": \"start\", \"v_baseline\": \"auto\", \"fontsize\": 13.0, \"zorder\": 3, \"coordinates\": \"data\", \"alpha\": 1}, {\"position\": [6.881533, 45.088781999999995], \"rotation\": -0.0, \"color\": \"#000000\", \"id\": \"el137322584653076632\", \"text\": \"Oulx-Cesana-Clav-Sestri\", \"h_anchor\": \"start\", \"v_baseline\": \"auto\", \"fontsize\": 13.0, \"zorder\": 3, \"coordinates\": \"data\", \"alpha\": 1}, {\"position\": [4.7757510000000005, 45.698488000000005], \"rotation\": -0.0, \"color\": \"#000000\", \"id\": \"el137322584653076968\", \"text\": \"Lyon-Perrache\", \"h_anchor\": \"end\", \"v_baseline\": \"auto\", \"fontsize\": 13.0, \"zorder\": 3, \"coordinates\": \"data\", \"alpha\": 1}, {\"position\": [6.709172, 45.243552], \"rotation\": -0.0, \"color\": \"#000000\", \"id\": \"el137322584653077304\", \"text\": \"Modane\", \"h_anchor\": \"start\", \"v_baseline\": \"auto\", \"fontsize\": 13.0, \"zorder\": 3, \"coordinates\": \"data\", \"alpha\": 1}, {\"position\": [3.0559619999999996, 43.241023999999996], \"rotation\": -0.0, \"color\": \"#000000\", \"id\": \"el137322584653077640\", \"text\": \"Narbonne\", \"h_anchor\": \"start\", \"v_baseline\": \"auto\", \"fontsize\": 13.0, \"zorder\": 3, \"coordinates\": \"data\", \"alpha\": 1}, {\"position\": [8.241165, 48.840281], \"rotation\": -0.0, \"color\": \"#000000\", \"id\": \"el137322584653077976\", \"text\": \"Baden-Baden\", \"h_anchor\": \"start\", \"v_baseline\": \"auto\", \"fontsize\": 13.0, \"zorder\": 3, \"coordinates\": \"data\", \"alpha\": 1}, {\"position\": [8.520079, 49.529714], \"rotation\": -0.0, \"color\": \"#000000\", \"id\": \"el137322584653078312\", \"text\": \"Mannheim-Hbf\", \"h_anchor\": \"start\", \"v_baseline\": \"auto\", \"fontsize\": 13.0, \"zorder\": 3, \"coordinates\": \"data\", \"alpha\": 1}, {\"position\": [4.828947, 46.332891999999994], \"rotation\": -0.0, \"color\": \"#000000\", \"id\": \"el137322584653099192\", \"text\": \"M\\u00e2con-Loch\\u00e9-TGV\", \"h_anchor\": \"start\", \"v_baseline\": \"auto\", \"fontsize\": 13.0, \"zorder\": 3, \"coordinates\": \"data\", \"alpha\": 1}, {\"position\": [4.449999, 45.493376], \"rotation\": -0.0, \"color\": \"#000000\", \"id\": \"el137322584653099528\", \"text\": \"St-Etienne-Ch\\u00e2teaucreux\", \"h_anchor\": \"start\", \"v_baseline\": \"auto\", \"fontsize\": 13.0, \"zorder\": 3, \"coordinates\": \"data\", \"alpha\": 1}, {\"position\": [4.449387000000001, 46.715300000000006], \"rotation\": -0.0, \"color\": \"#000000\", \"id\": \"el137322584653099864\", \"text\": \"Creusot - TGV (le)\", \"h_anchor\": \"end\", \"v_baseline\": \"auto\", \"fontsize\": 13.0, \"zorder\": 3, \"coordinates\": \"data\", \"alpha\": 1}, {\"position\": [3.125774, 50.688860999999996], \"rotation\": -0.0, \"color\": \"#000000\", \"id\": \"el137322584653100200\", \"text\": \"Lille Europe\", \"h_anchor\": \"start\", \"v_baseline\": \"auto\", \"fontsize\": 13.0, \"zorder\": 3, \"coordinates\": \"data\", \"alpha\": 1}, {\"position\": [7.717503999999999, 45.12389099999999], \"rotation\": -0.0, \"color\": \"#000000\", \"id\": \"el137322584653100536\", \"text\": \"Torino-Porta-Susa\", \"h_anchor\": \"start\", \"v_baseline\": \"auto\", \"fontsize\": 13.0, \"zorder\": 3, \"coordinates\": \"data\", \"alpha\": 1}, {\"position\": [1.503559, 43.661449], \"rotation\": -0.0, \"color\": \"#000000\", \"id\": \"el137322584653100872\", \"text\": \"Toulouse-Matabiau\", \"h_anchor\": \"start\", \"v_baseline\": \"auto\", \"fontsize\": 13.0, \"zorder\": 3, \"coordinates\": \"data\", \"alpha\": 1}, {\"position\": [6.949019, 47.636579], \"rotation\": -0.0, \"color\": \"#000000\", \"id\": \"el137322584653101208\", \"text\": \"Belfort-Montb\\u00e9liard-TGV\", \"h_anchor\": \"start\", \"v_baseline\": \"auto\", \"fontsize\": 13.0, \"zorder\": 3, \"coordinates\": \"data\", \"alpha\": 1}, {\"position\": [7.392833, 47.791785999999995], \"rotation\": -0.0, \"color\": \"#000000\", \"id\": \"el137322584653101544\", \"text\": \"Mulhouse\", \"h_anchor\": \"start\", \"v_baseline\": \"auto\", \"fontsize\": 13.0, \"zorder\": 3, \"coordinates\": \"data\", \"alpha\": 1}, {\"position\": [2.8816819999999996, 49.909209], \"rotation\": -0.0, \"color\": \"#000000\", \"id\": \"el137322584653101880\", \"text\": \"TGV Haute-Picardie\", \"h_anchor\": \"start\", \"v_baseline\": \"auto\", \"fontsize\": 13.0, \"zorder\": 3, \"coordinates\": \"data\", \"alpha\": 1}, {\"position\": [3.746404, 43.462804], \"rotation\": -0.0, \"color\": \"#000000\", \"id\": \"el137322584653102216\", \"text\": \"S\\u00e8te\", \"h_anchor\": \"start\", \"v_baseline\": \"auto\", \"fontsize\": 13.0, \"zorder\": 3, \"coordinates\": \"data\", \"alpha\": 1}, {\"position\": [0.05, 0.05], \"rotation\": -0.0, \"color\": \"#000000\", \"id\": \"el137322584653102552\", \"text\": \"Milano-Porta-Garibaldi\", \"h_anchor\": \"start\", \"v_baseline\": \"auto\", \"fontsize\": 13.0, \"zorder\": 3, \"coordinates\": \"data\", \"alpha\": 1}, {\"position\": [2.832899, 48.920598999999996], \"rotation\": -0.0, \"color\": \"#000000\", \"id\": \"el137322584653102888\", \"text\": \"Marne-la-Vall\\u00e9e-Chessy.\", \"h_anchor\": \"start\", \"v_baseline\": \"auto\", \"fontsize\": 13.0, \"zorder\": 3, \"coordinates\": \"data\", \"alpha\": 1}, {\"position\": [2.4018919999999997, 43.267702], \"rotation\": -0.0, \"color\": \"#000000\", \"id\": \"el137322584653119672\", \"text\": \"Carcassonne\", \"h_anchor\": \"start\", \"v_baseline\": \"auto\", \"fontsize\": 13.0, \"zorder\": 3, \"coordinates\": \"data\", \"alpha\": 1}, {\"position\": [4.809438, 45.71058], \"rotation\": -0.0, \"color\": \"#000000\", \"id\": \"el137322584653120008\", \"text\": \"Lyon-Part-Dieu\", \"h_anchor\": \"end\", \"v_baseline\": \"auto\", \"fontsize\": 13.0, \"zorder\": 3, \"coordinates\": \"data\", \"alpha\": 1}, {\"position\": [6.759628999999999, 45.126419999999996], \"rotation\": -0.0, \"color\": \"#000000\", \"id\": \"el137322584653120344\", \"text\": \"Bardonecchia-Stazione\", \"h_anchor\": \"start\", \"v_baseline\": \"auto\", \"fontsize\": 13.0, \"zorder\": 3, \"coordinates\": \"data\", \"alpha\": 1}, {\"position\": [5.7401800000000005, 48.407239], \"rotation\": -0.0, \"color\": \"#000000\", \"id\": \"el137322584653120680\", \"text\": \"Neufch\\u00e2teau\", \"h_anchor\": \"start\", \"v_baseline\": \"auto\", \"fontsize\": 13.0, \"zorder\": 3, \"coordinates\": \"data\", \"alpha\": 1}, {\"position\": [4.893487, 46.831560999999994], \"rotation\": -0.0, \"color\": \"#000000\", \"id\": \"el137322584653121016\", \"text\": \"Chalon-sur-Sa\\u00f4ne\", \"h_anchor\": \"start\", \"v_baseline\": \"auto\", \"fontsize\": 13.0, \"zorder\": 3, \"coordinates\": \"data\", \"alpha\": 1}, {\"position\": [2.4234809999999998, 48.894923999999996], \"rotation\": -0.0, \"color\": \"#000000\", \"id\": \"el137322584653121352\", \"text\": \"Paris-Gare-de-Lyon\", \"h_anchor\": \"start\", \"v_baseline\": \"auto\", \"fontsize\": 13.0, \"zorder\": 3, \"coordinates\": \"data\", \"alpha\": 1}, {\"position\": [0.49999999999999994, 1.0073583517292126], \"rotation\": -0.0, \"color\": \"#000000\", \"id\": \"el137322584652928168\", \"text\": \"Gares atteignables avant minuit depuis la Gare de Lyon\", \"h_anchor\": \"middle\", \"v_baseline\": \"auto\", \"fontsize\": 20.0, \"zorder\": 3, \"coordinates\": \"axes\", \"alpha\": 1}, {\"position\": [-0.16129032258064516, -0.16556291390728475], \"rotation\": -0.0, \"color\": \"#000000\", \"id\": \"el137322584653188456\", \"text\": \"None\", \"h_anchor\": \"start\", \"v_baseline\": \"auto\", \"fontsize\": 10.0, \"zorder\": 1000003.0, \"coordinates\": \"axes\", \"alpha\": 1}, {\"position\": [0.6053614097968937, 0.07542310522442974], \"rotation\": -0.0, \"color\": \"#000000\", \"id\": \"el137322584653146768\", \"text\": \"Gare de d\\u00e9part\", \"h_anchor\": \"start\", \"v_baseline\": \"auto\", \"fontsize\": 10.0, \"zorder\": 1000003.0, \"coordinates\": \"axes\", \"alpha\": 1}, {\"position\": [0.6053614097968937, 0.04782928623988228], \"rotation\": -0.0, \"color\": \"#000000\", \"id\": \"el137322584653162144\", \"text\": \"Direct depuis Gare de Lyon le soir du 17 novembre\", \"h_anchor\": \"start\", \"v_baseline\": \"auto\", \"fontsize\": 10.0, \"zorder\": 1000003.0, \"coordinates\": \"axes\", \"alpha\": 1}, {\"position\": [0.6053614097968937, 0.020235467255334816], \"rotation\": -0.0, \"color\": \"#000000\", \"id\": \"el137322584653185488\", \"text\": \"Avec une correspondance depuis une gare directe\", \"h_anchor\": \"start\", \"v_baseline\": \"auto\", \"fontsize\": 10.0, \"zorder\": 1000003.0, \"coordinates\": \"axes\", \"alpha\": 1}], \"id\": \"el137322584644905000\", \"sharey\": [], \"xlim\": [-0.4414163590203105, 9.105466359020308], \"xscale\": \"linear\", \"paths\": [{\"xindex\": 0, \"zorder\": 1000001.0, \"facecolor\": \"#FFFFFF\", \"dasharray\": \"10,0\", \"id\": \"el137322584653146096\", \"pathcodes\": [\"M\", \"L\", \"S\", \"L\", \"S\", \"L\", \"S\", \"L\", \"S\", \"Z\"], \"yindex\": 1, \"edgecolor\": \"#CCCCCC\", \"data\": \"data03\", \"edgewidth\": 1.0, \"coordinates\": \"axes\", \"alpha\": 0.8}], \"ydomain\": [-2.5420607836276674, 53.18092178362767], \"yscale\": \"linear\", \"bbox\": [0.125, 0.125, 0.775, 0.755]}]});\n",
              "            })\n",
              "         });\n",
              "}\n",
              "</script>"
            ],
            "text/plain": [
              "<matplotlib.figure.Figure at 0x259c941eac8>"
            ]
          },
          "metadata": {},
          "output_type": "display_data"
        }
      ],
      "source": [
        "### La carte \n",
        "###################################################################################################\n",
        "\n",
        "import mpld3\n",
        "%matplotlib inline\n",
        "\n",
        "mpld3.enable_notebook()\n",
        "\n",
        "def liste_unique(liste) : \n",
        "    unicite = [] \n",
        "    for x in liste : \n",
        "        if x in unicite :\n",
        "            pass\n",
        "        else :\n",
        "            unicite.append(x)\n",
        "    return unicite\n",
        "\n",
        "lab_un = liste_unique(labels)\n",
        "lat_un = liste_unique(lat)\n",
        "lon_un = liste_unique(lon)\n",
        "\n",
        "fig = plt.figure(figsize=(12,10))\n",
        "\n",
        "for label, x, y in set(zip(labels, lon, lat)) :\n",
        "    if dict_type_gares[label] == \"direct\" :  \n",
        "        plt.annotate(label, xy = (x - 0.05, y - 0.05), horizontalalignment = 'right', size = 13)\n",
        "    else :\n",
        "        plt.annotate(label, xy = (x + 0.05, y + 0.05), horizontalalignment = 'left', size = 13)\n",
        "\n",
        "colors = []     \n",
        "for x in lab_un : \n",
        "    if dict_type_gares[x] == \"depart\" : \n",
        "        colors.append(liste_couleurs[0])\n",
        "    if dict_type_gares[x] == \"direct\" :\n",
        "        colors.append(liste_couleurs[1])\n",
        "    if dict_type_gares[x] == \"correspondance\" : \n",
        "        colors.append(liste_couleurs[2])\n",
        "                \n",
        "        \n",
        "plt.scatter(x = lon_un , y = lat_un, marker = \"o\", c = colors, s = 100, alpha = 0.5)\n",
        "\n",
        "#### Legende\n",
        "\n",
        "circ1 = Line2D([0], [0], linestyle=\"none\", marker=\"o\", alpha=0.5, markersize=10, markerfacecolor = liste_couleurs[0])\n",
        "circ2 = Line2D([0], [0], linestyle=\"none\", marker=\"o\", alpha=0.5, markersize=10, markerfacecolor = liste_couleurs[1])\n",
        "circ3 = Line2D([0], [0], linestyle=\"none\", marker=\"o\", alpha=0.5, markersize=10, markerfacecolor = liste_couleurs[2])\n",
        "\n",
        "legende = plt.legend((circ1, circ2, circ3), (\"Gare de d\u00e9part\", \"Direct depuis Gare de Lyon le soir du 17 novembre\", \n",
        "                                             \"Avec une correspondance depuis une gare directe\"), numpoints=1, loc=\"best\")\n",
        "\n",
        "legende.get_frame().set_facecolor('white')\n",
        "\n",
        "plt.title(\"Gares atteignables avant minuit depuis la Gare de Lyon\", size = 20)"
      ]
    },
    {
      "cell_type": "code",
      "execution_count": null,
      "metadata": {
        "collapsed": true
      },
      "outputs": [],
      "source": []
    }
  ],
  "metadata": {
    "kernelspec": {
      "display_name": "Python 3",
      "language": "python",
      "name": "python3"
    },
    "language_info": {
      "codemirror_mode": {
        "name": "ipython",
        "version": 3
      },
      "file_extension": ".py",
      "mimetype": "text/x-python",
      "name": "python",
      "nbconvert_exporter": "python",
      "pygments_lexer": "ipython3",
      "version": "3.5.2"
    }
  },
  "nbformat": 4,
  "nbformat_minor": 0
}