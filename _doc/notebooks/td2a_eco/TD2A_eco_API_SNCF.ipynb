{
  "cells": [
    {
      "cell_type": "markdown",
      "metadata": {},
      "source": [
        "# API SNCF "
      ]
    },
    {
      "cell_type": "code",
      "execution_count": null,
      "metadata": {
        "collapsed": false
      },
      "outputs": [
        {
          "data": {
            "text/html": [
              "<div id=\"my_id_menu_nb\">run previous cell, wait for 2 seconds</div>\n",
              "<script>\n",
              "function repeat_indent_string(n){\n",
              "    var a = \"\" ;\n",
              "    for ( ; n > 0 ; --n) {\n",
              "        a += \"    \";\n",
              "    }\n",
              "    return a;\n",
              "}\n",
              "var update_menu_string = function(begin, lfirst, llast, sformat, send, keep_item) {\n",
              "    var anchors = document.getElementsByClassName(\"section\");\n",
              "    if (anchors.length == 0) {\n",
              "        anchors = document.getElementsByClassName(\"text_cell_render rendered_html\");\n",
              "    }\n",
              "    var i,t;\n",
              "    var text_menu = begin;\n",
              "    var text_memo = \"<pre>\\nlength:\" + anchors.length + \"\\n\";\n",
              "    var ind = \"\";\n",
              "    var memo_level = 1;\n",
              "    var href;\n",
              "    var tags = [];\n",
              "    var main_item = 0;\n",
              "    for (i = 0; i <= llast; i++) {\n",
              "        tags.push(\"h\" + i);\n",
              "    }\n",
              "\n",
              "    for (i = 0; i < anchors.length; i++) {\n",
              "        text_memo += \"**\" + anchors[i].id + \"--\\n\";\n",
              "\n",
              "        var child = null;\n",
              "        for(t = 0; t < tags.length; t++) {\n",
              "            var r = anchors[i].getElementsByTagName(tags[t]);\n",
              "            if (r.length > 0) {\n",
              "child = r[0];\n",
              "break;\n",
              "            }\n",
              "        }\n",
              "        if (child == null){\n",
              "            text_memo += \"null\\n\";\n",
              "            continue;\n",
              "        }\n",
              "        if (anchors[i].hasAttribute(\"id\")) {\n",
              "            // when converted in RST\n",
              "            href = anchors[i].id;\n",
              "            text_memo += \"#1-\" + href;\n",
              "            // passer \u00e0 child suivant (le chercher)\n",
              "        }\n",
              "        else if (child.hasAttribute(\"id\")) {\n",
              "            // in a notebook\n",
              "            href = child.id;\n",
              "            text_memo += \"#2-\" + href;\n",
              "        }\n",
              "        else {\n",
              "            text_memo += \"#3-\" + \"*\" + \"\\n\";\n",
              "            continue;\n",
              "        }\n",
              "        var title = child.textContent;\n",
              "        var level = parseInt(child.tagName.substring(1,2));\n",
              "\n",
              "        text_memo += \"--\" + level + \"?\" + lfirst + \"--\" + title + \"\\n\";\n",
              "\n",
              "        if ((level < lfirst) || (level > llast)) {\n",
              "            continue ;\n",
              "        }\n",
              "        if (title.endsWith('\u00b6')) {\n",
              "            title = title.substring(0,title.length-1).replace(\"<\", \"&lt;\").replace(\">\", \"&gt;\").replace(\"&\", \"&amp;\")\n",
              "        }\n",
              "\n",
              "        if (title.length == 0) {\n",
              "            continue;\n",
              "        }\n",
              "\n",
              "        while (level < memo_level) {\n",
              "            text_menu += \"</ul>\\n\";\n",
              "            memo_level -= 1;\n",
              "        }\n",
              "        if (level == lfirst) {\n",
              "            main_item += 1;\n",
              "        }\n",
              "        if (keep_item != -1 && main_item != keep_item + 1) {\n",
              "            // alert(main_item + \" - \" + level + \" - \" + keep_item);\n",
              "            continue;\n",
              "        }\n",
              "        while (level > memo_level) {\n",
              "            text_menu += \"<ul>\\n\";\n",
              "            memo_level += 1;\n",
              "        }\n",
              "        text_menu += repeat_indent_string(level-2) + sformat.replace(\"__HREF__\", href).replace(\"__TITLE__\", title);\n",
              "    }\n",
              "    while (1 < memo_level) {\n",
              "        text_menu += \"</ul>\\n\";\n",
              "        memo_level -= 1;\n",
              "    }\n",
              "    text_menu += send;\n",
              "    //text_menu += \"\\n\" + text_memo;\n",
              "    return text_menu;\n",
              "};\n",
              "var update_menu = function() {\n",
              "    var sbegin = \"\";\n",
              "    var sformat = '<li><a href=\"#__HREF__\">__TITLE__</a></li>';\n",
              "    var send = \"\";\n",
              "    var keep_item = -1;\n",
              "    var text_menu = update_menu_string(sbegin, 2, 4, sformat, send, keep_item);\n",
              "    var menu = document.getElementById(\"my_id_menu_nb\");\n",
              "    menu.innerHTML=text_menu;\n",
              "};\n",
              "window.setTimeout(update_menu,2000);\n",
              "            </script>"
            ],
            "text/plain": [
              "<IPython.core.display.HTML object>"
            ]
          },
          "execution_count": null,
          "metadata": {},
          "output_type": "execute_result"
        }
      ],
      "source": [
        "from jyquickhelper import add_notebook_menu\n",
        "add_notebook_menu()"
      ]
    },
    {
      "cell_type": "markdown",
      "metadata": {},
      "source": [
        "## Partie 0 - modules recommand\u00e9s et connexion \u00e0 l'API \n",
        "\n",
        "Il vous faudra s\u00fbrement les modules suivant : \n",
        "\n",
        "- requests\n",
        "- datetime\n",
        "- pandas\n",
        "- matplotlib\n",
        "\n",
        "Cr\u00e9er un login pour vous connecter \u00e0 l'API de la SNCF https://data.sncf.com/api \n",
        "\n",
        "Vous pouvez maintenant commencer. "
      ]
    },
    {
      "cell_type": "markdown",
      "metadata": {},
      "source": [
        "## Partie 1 - Trouver les gares accessibles _via_ la SNCF\n",
        "\n",
        "- Trouver l'ensemble des gares disponibles sur l'API et cr\u00e9er un fichier csv avec les codes de la gare, son nom et ses coordonn\u00e9es latitude et longitude, ainsi que les informations administratives de la r\u00e9gion quand elles sont disponibles\n",
        "\n",
        "- Repr\u00e9sentez les sur un graphique"
      ]
    },
    {
      "cell_type": "markdown",
      "metadata": {},
      "source": [
        "## Les trajets depuis la Gare de Lyon\n",
        "\n",
        "### Partons \u00e0 Lyon : le 17 novembre 2016 \u00e0 19h57\n",
        "\n",
        "Imaginez que vous vouliez un peu voyager hors de Paris, et il se trouve que justement on vous propose de passer quelques jours \u00e0 Lyon. Vous partez le 17 novembre vers 19h50 pour ne pas trop \u00e9courter votre journ\u00e9e de travail. \n",
        "\n",
        "#### Question 1\n",
        "\n",
        "- Commencez par r\u00e9cup\u00e9rer les informations sur le trajet entre Paris Gare de Lyon et Lyon Perrache le 17 novembre \u00e0 19h57\n",
        "\n",
        "    - Paris - Gare de Lyon (code de la gare : __stop\\_area:OCE:SA:87686006__)\n",
        "\n",
        "    - Lyon - Gare Lyon Perrache (code de la gare : __stop\\_area:OCE:SA:87722025__)\n",
        "    \n",
        "    - Indice : utiliser la requ\u00eate \"journeys\"\n",
        "    \n",
        "    - Autre indice : le format de la date est AAAAMMJJTHHMMSS (Ann\u00e9e, mois, jour, heure, minutes, secondes)\n",
        "    \n",
        "- R\u00e9pondez aux questions suivantes \n",
        "    - combien y a-t-il d'arr\u00eats entre ces deux gares ? (utilisez la cl\u00e9 'journeys')\n",
        "    - combien de temps d'arr\u00eat \u00e0 chacune d'elles ?"
      ]
    },
    {
      "cell_type": "markdown",
      "metadata": {},
      "source": [
        "#### Question 2\n",
        "Vous \u00eates un peu press\u00e9 et vous avez peur de vous tromper en arrivant \u00e0 la gare car d'autres TGV partent \u00e0 peu pr\u00e8s en m\u00eame temps (\u00e0 partir de 19h00) de la gare de Lyon. \n",
        "\n",
        "- Si vous demandez \u00e0 l'API, combien de r\u00e9sultats vous donne-t-elle ?"
      ]
    },
    {
      "cell_type": "markdown",
      "metadata": {},
      "source": [
        "- Quels sont les horaires de d\u00e9part de ces trains ? "
      ]
    },
    {
      "cell_type": "markdown",
      "metadata": {},
      "source": [
        "- Parmi ces trains, combien de trains ont pour destination finale Lyon et qui partent le 17 novembre ?"
      ]
    },
    {
      "cell_type": "markdown",
      "metadata": {},
      "source": [
        "-------------------------\n",
        "\n",
        "### C'est quand qu'on va o\u00f9 ?\n",
        "- En fait, vous n'\u00eates plus tr\u00e8s s\u00fbr de vouloir aller \u00e0 Lyon. Mais bon maintenant vous \u00eates Gare de Lyon et il est 18h00. \n",
        "\n",
        "#### Question 3\n",
        "- Combien de tgv partent entre 18h00 et 20h00 ?\n",
        "- Lequel arrive le plus t\u00f4t \u00e0 sa destination finale ?"
      ]
    },
    {
      "cell_type": "markdown",
      "metadata": {},
      "source": [
        "### Et les correspondances ? \n",
        "\n",
        "#### Question 4\n",
        "\n",
        "- On va essayer de voir jusqu'o\u00f9 on peut aller, en prenant des trains au d\u00e9part de la Gare de Lyon : \n",
        "    - Quelles sont toutes les gares atteignables en partant le 17 novembre, sans faire de changement et sans partir apr\u00e8s minuit ?\n",
        "    - Si on prend un de ces trains, jusqu'o\u00f9 peut-on aller, avec une correspondance, sans partir apr\u00e8s 8h le lendemain matin ?"
      ]
    },
    {
      "cell_type": "markdown",
      "metadata": {},
      "source": [
        "##### Etape 1 : trouver toutes les correspondances possibles depuis le trajet entre les gares de Paris et de Perpignan\n",
        "\n",
        "Essayer de trouver toutes les correspondances possibles depuis un trajet entre Paris et Perpignan"
      ]
    },
    {
      "cell_type": "markdown",
      "metadata": {},
      "source": [
        "##### Etape 2 : G\u00e9n\u00e9raliser et trouver toutes les correspondances possibles depuis les trains qu'on prend de la Gare de Lyon, le 17 novembre au soir\n",
        "\n",
        "Maintenant qu'on a fait un exemple, on le fait pour tous les trajets qui partent de la Gare de Lyon entre 18h et 20h de la Gare de Lyon\n",
        "\n",
        "Les correspondances elles devront partir avant 8h00 du matin le lendemain"
      ]
    },
    {
      "cell_type": "markdown",
      "metadata": {},
      "source": [
        "#### Question 5\n",
        "- Repr\u00e9senter toutes les gares atteignables avec un graphique type scatter. Distinguer les gares atteintes en un seul trajet et celles atteintes avec une correspondance."
      ]
    }
  ],
  "metadata": {
    "anaconda-cloud": {},
    "kernelspec": {
      "display_name": "Python 3",
      "language": "python",
      "name": "python3"
    },
    "language_info": {
      "codemirror_mode": {
        "name": "ipython",
        "version": 3
      },
      "file_extension": ".py",
      "mimetype": "text/x-python",
      "name": "python",
      "nbconvert_exporter": "python",
      "pygments_lexer": "ipython3",
      "version": "3.5.0"
    }
  },
  "nbformat": 4,
  "nbformat_minor": 0
}