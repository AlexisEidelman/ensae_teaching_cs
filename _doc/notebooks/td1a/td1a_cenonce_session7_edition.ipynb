{
 "cells": [
  {
   "cell_type": "markdown",
   "metadata": {},
   "source": [
    "# la distance d'édition"
   ]
  },
  {
   "cell_type": "code",
   "execution_count": 2,
   "metadata": {
    "collapsed": false
   },
   "outputs": [
    {
     "data": {
      "text/html": [
       "<b>Plan</b>\n",
       "<div id=\"my_menu_id\">run previous cell, wait for 2 seconds</div>\n",
       "<script>\n",
       "function repeat_indent_string(n){\n",
       "    var a = \"\" ;\n",
       "    for ( ; n > 0 ; --n) {\n",
       "        a += \"    \";\n",
       "    }\n",
       "    return a;\n",
       "}\n",
       "var update_menu_string = function(begin, lfirst, llast, sformat, send) {\n",
       "    var anchors = document.getElementsByClassName(\"section\");\n",
       "    if (anchors.length == 0) {\n",
       "        anchors = document.getElementsByClassName(\"text_cell_render rendered_html\");\n",
       "    }\n",
       "    var i,t;\n",
       "    var text_menu = begin;\n",
       "    var text_memo = \"<pre>\\nlength:\" + anchors.length + \"\\n\";\n",
       "    var ind = \"\";\n",
       "    var memo_level = 1;\n",
       "    var href;\n",
       "    var tags = [];\n",
       "    for (i = 0; i <= llast; i++) {\n",
       "        tags.push(\"h\" + i);\n",
       "    }\n",
       "\n",
       "    for (i = 0; i < anchors.length; i++) {\n",
       "        text_memo += \"**\" + anchors[i].id + \"--\\n\";\n",
       "\n",
       "        var child = null;\n",
       "        for(t = 0; t < tags.length; t++) {\n",
       "            var r = anchors[i].getElementsByTagName(tags[t]);\n",
       "            if (r.length > 0) {\n",
       "child = r[0];\n",
       "break;\n",
       "            }\n",
       "        }\n",
       "        if (child == null){\n",
       "            text_memo += \"null\\n\";\n",
       "            continue;\n",
       "        }\n",
       "\n",
       "        if (anchors[i].hasAttribute(\"id\")) {\n",
       "            // when converted in RST\n",
       "            href = anchors[i].id;\n",
       "            text_memo += \"#1-\" + href;\n",
       "            // passer à child suivant (le chercher)\n",
       "        }\n",
       "        else if (child.hasAttribute(\"id\")) {\n",
       "            // in a notebook\n",
       "            href = child.id;\n",
       "            text_memo += \"#2-\" + href;\n",
       "        }\n",
       "        else {\n",
       "            text_memo += \"#3-\" + \"*\" + \"\\n\";\n",
       "            continue;\n",
       "        }\n",
       "        var title = child.textContent;\n",
       "        var level = parseInt(child.tagName.substring(1,2));\n",
       "\n",
       "        text_memo += \"--\" + level + \"?\" + lfirst + \"--\" + title + \"\\n\";\n",
       "\n",
       "        if ((level < lfirst) || (level > llast)) {\n",
       "            continue ;\n",
       "        }\n",
       "        if (title.endsWith('¶')) {\n",
       "            title = title.substring(0,title.length-1).replace(\"<\", \"&lt;\").replace(\">\", \"&gt;\").replace(\"&\", \"&amp;\")\n",
       "        }\n",
       "\n",
       "        if (title.length == 0) {\n",
       "            continue;\n",
       "        }\n",
       "        while (level > memo_level) {\n",
       "            text_menu += \"<ul>\\n\";\n",
       "            memo_level += 1;\n",
       "        }\n",
       "        while (level < memo_level) {\n",
       "            text_menu += \"</ul>\\n\";\n",
       "            memo_level -= 1;\n",
       "        }\n",
       "        text_menu += repeat_indent_string(level-2) + sformat.replace(\"__HREF__\", href).replace(\"__TITLE__\", title);\n",
       "    }\n",
       "    while (1 < memo_level) {\n",
       "        text_menu += \"</ul>\\n\";\n",
       "        memo_level -= 1;\n",
       "    }\n",
       "    text_menu += send;\n",
       "    //text_menu += \"\\n\" + text_memo;\n",
       "    return text_menu;\n",
       "};\n",
       "var update_menu = function() {\n",
       "    var sbegin = \"\";\n",
       "    var sformat = '<li><a href=\"#__HREF__\">__TITLE__</a></li>';\n",
       "    var send = \"\";\n",
       "    var text_menu = update_menu_string(sbegin, 2, 4, sformat, send);\n",
       "    var menu = document.getElementById(\"my_menu_id\");\n",
       "    menu.innerHTML=text_menu;\n",
       "};\n",
       "window.setTimeout(update_menu,2000);\n",
       "            </script>"
      ],
      "text/plain": [
       "<IPython.core.display.HTML object>"
      ]
     },
     "execution_count": 2,
     "metadata": {},
     "output_type": "execute_result"
    }
   ],
   "source": [
    "import pyensae\n",
    "%nb_menu"
   ]
  },
  {
   "cell_type": "markdown",
   "metadata": {},
   "source": [
    "## Introduction\n",
    "\n",
    "On veut mesurer la proximité entre deux mots et un moyen simple est de construire une distance : $d(m_1,m_2) = d(m_2, m_1) = ?$."
   ]
  },
  {
   "cell_type": "markdown",
   "metadata": {},
   "source": [
    "## Premier essai de distance : Hamming\n",
    "\n",
    "La [distance de Hamming]() consiste à comparer les caractères les unes à la suite des autres.\n",
    "\n",
    "$\\begin{array}{c|ccccc} A & c & l & o & s & e \\\\ \\hline B & c & l & o & u & e \\\\ \\hline d(A,B) & 0 & 0 & 0 & 1 & 0 \\end{array}$\n",
    "\n",
    "La distance est alors la somme des petites distances :"
   ]
  },
  {
   "cell_type": "code",
   "execution_count": 2,
   "metadata": {
    "collapsed": false
   },
   "outputs": [
    {
     "data": {
      "text/plain": [
       "1"
      ]
     },
     "execution_count": 2,
     "metadata": {},
     "output_type": "execute_result"
    }
   ],
   "source": [
    "def dist_hamming(m1,m2):\n",
    "    d = 0\n",
    "    for a,b in zip(m1,m2):\n",
    "        if a != b : \n",
    "            d += 1\n",
    "    return d\n",
    "\n",
    "dist_hamming(\"close\", \"cloue\")"
   ]
  },
  {
   "cell_type": "markdown",
   "metadata": {},
   "source": [
    "## Exercice 1 : comment prendre en compte différentes tailles de mots ?"
   ]
  },
  {
   "cell_type": "code",
   "execution_count": null,
   "metadata": {
    "collapsed": true
   },
   "outputs": [],
   "source": []
  },
  {
   "cell_type": "markdown",
   "metadata": {},
   "source": [
    "## Les petits défauts de Hamming\n",
    "\n",
    "Que pensez-vous de ces deux distances (on suppose que la fonction ``dist_hamming`` est celle provenant de l'exercice 1)."
   ]
  },
  {
   "cell_type": "code",
   "execution_count": 4,
   "metadata": {
    "collapsed": false
   },
   "outputs": [
    {
     "data": {
      "text/plain": [
       "6"
      ]
     },
     "execution_count": 4,
     "metadata": {},
     "output_type": "execute_result"
    }
   ],
   "source": [
    "dist_hamming(\"longmot\", \"liongmot\")"
   ]
  },
  {
   "cell_type": "code",
   "execution_count": 5,
   "metadata": {
    "collapsed": false
   },
   "outputs": [
    {
     "data": {
      "text/plain": [
       "1"
      ]
     },
     "execution_count": 5,
     "metadata": {},
     "output_type": "execute_result"
    }
   ],
   "source": [
    "dist_hamming(\"longmot\", \"longmoit\")"
   ]
  },
  {
   "cell_type": "markdown",
   "metadata": {},
   "source": [
    "La lettre **i** a été ajoutée à deux endroits différents : vers le début dans le premier cas et vers la fin dans le second. La distance est très différente dans les deux cas."
   ]
  },
  {
   "cell_type": "markdown",
   "metadata": {},
   "source": [
    "## Une propriété souhaitable de la distance\n",
    "\n",
    "La distance de Hamming n'est sans doute pas une distance idéale, elle n'est pas très robuste pour prendre en compte les décalages. Que pourrait-on faire pour l'améliorer ?\n",
    "\n",
    "* On pourrait essayer de faire une sorte de mélange Jaccard-Hamming et dire que si la distance de Hamming est trop grande, on bascule sur la distance de Jaccard. On prendrait le minimum des deux distances.\n",
    "* On pourrait essayer de différencier les mots longs et les mots courts mais comment distinguer les deux ?\n",
    "* On pourrait essayer de traiter spécifiquement les cas d'insertion de lettres. Que faire alors si on en insère deux ?\n",
    "\n",
    "Toutes ces idées proposent des améliorations mais il est difficile de prédire si elles n'auront pas un drôle de comportement dans certains cas précis.\n",
    "\n",
    "Plutôt que de chercher des idées d'améliorations, pourquoi ne pas se demander plutôt quelles propriétés cette distance devrait vérifier. On peut découper un mot en deux mots plus petits et écrire :\n",
    "\n",
    "$d(longmot,longmoit) = d(long,long) + d(mot, moit)$\n",
    "\n",
    "Est-ce une propriété souhaitable pour notre distance ? Cela paraît raisonnable et on voit tout de suite que la distance de Hamming ne vérifie pas cette propriété."
   ]
  },
  {
   "cell_type": "markdown",
   "metadata": {},
   "source": [
    "Si on poursuit le raisonnement, on devrait pouvoir aussi avoir :\n",
    "\n",
    "$d(longmot,longmoit) = d(longmo,longmo) + d(t, it)$\n",
    "\n",
    "Et si on écrivait plutôt :\n",
    "\n",
    "$d(longmot,longmoit) = \\min \\left\\{ d(longmo,longmo) + d(t, it), d(long,long) + d(mot, moit) \\right\\}$\n",
    "\n",
    "Mais peut-être que ce qui suit paraît un peu plus juste :\n",
    "\n",
    "$d(longmot,longmoit) \\leqslant \\min \\left\\{ d(longmo,longmo) + d(t, it), d(long,long) + d(mot, moit) \\right\\}$"
   ]
  },
  {
   "cell_type": "markdown",
   "metadata": {},
   "source": [
    "Cette inégalité implique deux découpages d'un mot. Mais il existe plein de façons de découper un mot en deux. Plus exactement, si le mot a $n$ lettres, il existe $n-1$ façon de le couper en deux. On note $m[[1..n]]$ un mot $n$ caractères :\n",
    "\n",
    "$d( m_1[[1..n_1]],  m_2[[1..n_2]] ) \\leqslant \\min_{ 1 \\leqslant i \\leqslant n_1-1, 1 \\leqslant j \\leqslant n_2-1 } \\left\\{ d( m_1[[1..i]],  m_2[[1..j]] ) + d( m_1[[i+1..n_1]],  m_2[[j+1..n_2]] ) \\right\\}$ \n",
    "\n",
    "Mais au fait, n'aurait-on pas envisager toutes les façons de découper un mot en deux. Donc le minimum se trouve parmi l'un de ses découpages :\n",
    "\n",
    "$d( m_1[[1..n_1]],  m_2[[1..n_2]] ) = \\min_{ 1 \\leqslant i \\leqslant n_1-1, 1 \\leqslant j \\leqslant n_2-1 } \\left\\{ d( m_1[[1..i]],  m_2[[1..j]] ) + d( m_1[[i+1..n_1]],  m_2[[j+1..n_2]] ) \\right\\}$\n",
    "\n",
    "On simplifie l'écriture en écrivant $m[[i..j]] = m[i:j]$. Cela donne :\n",
    "\n",
    "$d( m_1[1:n_1],  m_2[1:n_2] ) = \\min_{ 1 \\leqslant i \\leqslant n_1-1, 1 \\leqslant j \\leqslant n_2-1 } \\left\\{ d( m_1[1:i],  m_2[1:j] ) + d( m_1[i+1:n_1],  m_2[j+1:n_2] ) \\right\\}$\n",
    "\n",
    "On sait maintenant exprimer la distance entre deux mots longs à partir de mots plus courts qui les composent. Comme toute définition récurrente, il faut définir la distance pour les mots les plus courts : 1 à 2 lettres. Dans ce cas, on prendra distance de Hamming."
   ]
  },
  {
   "cell_type": "markdown",
   "metadata": {},
   "source": [
    "## Exercice 2 : implémenter une distance à partir de cette égalité"
   ]
  },
  {
   "cell_type": "code",
   "execution_count": null,
   "metadata": {
    "collapsed": true
   },
   "outputs": [],
   "source": []
  },
  {
   "cell_type": "markdown",
   "metadata": {
    "collapsed": true
   },
   "source": [
    "## Distance d'édition\n",
    "\n",
    "D'après l'égalité, il existe un découage optimal $(i^*, j^*)$ tel que  $d( m_1[1:n_1],  m_2[1:n_2] ) = d( m_1[1:i^*],  m_2[1:j^*] ) + d( m_1[i^*:n_1],  m_2[j^*:n_2] ) $. Mais on peut recommencer à découper de f-açon optimale : $d( m_1[i^*:n_1],  m_2[j^*:n_2] ) = d( m_1[i^*:k^*],  m_2[j^*:l^*] ) + d( m_1[k^*:n_1],  m_2[l^*:n_2] )$. On peut découper comme cela jusqu'à obtenir un découpage optimal où on n'a plus que des mots courts de 1 ou 2 caractères. Mais alors... pourquoi ne pas utiliser ces petits mots insécables lors de l'expression de la distance.\n",
    "\n",
    "$d( m_1[1:n_1],  m_2[1:n_2] ) = \\min \\left\\{ \\begin{array}{l} d( m_1[1:n_1-2],  m_2[1:n_2-1] ) + hamming(m_1[n_1-1:n_1], m_2[n_2:n_2]) ) \\\\ d( m_1[1:n_1-1],  m_2[1:n_1-2] ) + hamming(m_1[n_1:n_1], m_2[n_2-1:n_2]) ) \\\\ d( m_1[1:n_1-1],  m_2[1:n_1-1] ) + hamming(m_1[n_1:n_1], m_2[n_2:n_2]) ) \\end{array} \\right.$\n",
    "\n",
    "Ces trois options sont les seules possibles en partant de la fin du mot."
   ]
  },
  {
   "cell_type": "markdown",
   "metadata": {},
   "source": [
    "## Exercice 3 : implémenter la distance d'édition"
   ]
  },
  {
   "cell_type": "code",
   "execution_count": null,
   "metadata": {
    "collapsed": true
   },
   "outputs": [],
   "source": []
  },
  {
   "cell_type": "markdown",
   "metadata": {},
   "source": [
    "## Exercice 4 : différence avec l'algorithme de Wikipédia"
   ]
  },
  {
   "cell_type": "code",
   "execution_count": null,
   "metadata": {
    "collapsed": true
   },
   "outputs": [],
   "source": []
  }
 ],
 "metadata": {
  "kernelspec": {
   "display_name": "Python 3",
   "language": "python",
   "name": "python3"
  },
  "language_info": {
   "codemirror_mode": {
    "name": "ipython",
    "version": 3
   },
   "file_extension": ".py",
   "mimetype": "text/x-python",
   "name": "python",
   "nbconvert_exporter": "python",
   "pygments_lexer": "ipython3",
   "version": "3.4.3"
  }
 },
 "nbformat": 4,
 "nbformat_minor": 0
}
