{
 "metadata": {
  "name": "",
  "signature": "sha256:530a47d7c1dd467e2fcd80520fbc552d8b040ace705052ba361630418907e6e3"
 },
 "nbformat": 3,
 "nbformat_minor": 0,
 "worksheets": [
  {
   "cells": [
    {
     "cell_type": "heading",
     "level": 1,
     "metadata": {},
     "source": [
      "TD 10 : DataFrame et Matrice"
     ]
    },
    {
     "cell_type": "markdown",
     "metadata": {},
     "source": [
      "Les [DataFrame](http://en.wikipedia.org/wiki/Data_frame) se sont impos\u00e9s pour manipuler les donn\u00e9es. Avec cette fa\u00e7on de repr\u00e9senter les donn\u00e9es, associ\u00e9e \u00e0 des un ensemble de m\u00e9thodes couramment utilis\u00e9es, ce qu'on faisait en une ou deux boucles se fait maintenant en une seule fonction. Cette s\u00e9ance contient beaucoup d'exemples et peu d'exercices. Il est conseill\u00e9 de supprimer toutes les sorties et de les ex\u00e9cuter une \u00e0 une.\n",
      "\n",
      "**Plan**\n",
      "\n",
      "* [Trouver chaussure \u00e0 ses stats](#intro)\n",
      "* [DataFrame (pandas)](#df)\n",
      "    * [cr\u00e9ation / lecture / \u00e9criture](#io)\n",
      "    * [index](#index)\n",
      "    * [Notation avec le symbole :](#ix)\n",
      "    * [Exercice 1 : cr\u00e9er un fichier Excel](#exo1)\n",
      "* [Manipuler un DataFrame](#df2)\n",
      "    * [6 op\u00e9rations : filtrer, union, sort, group by, join, pivot](#op)\n",
      "    * [Exercice 2](#exo2)\n",
      "* [Dates](#date)\n",
      "* [Matrix, Array (numpy)](#mat)\n",
      "    * [cr\u00e9ation / lecture / \u00e9criture](#mat)\n",
      "    * [DataFrame/Matrix/Array](#diff)\n",
      "* [Calcul matriciel](#mat2)\n",
      "    * [Exercice 3](#exo3)\n",
      "* [Annexes](#annex)\n",
      "    * [Cr\u00e9er un fichier Excel avec plusieurs feuilles](#excel)\n",
      "\n",
      "L'introduction ne contient pas d'\u00e9l\u00e9ments n\u00e9cessaires \u00e0 la r\u00e9alisation du TD.\n",
      "\n",
      "<h2 id=\"intro\">Trouver chaussure \u00e0 ses stats</h2>\n",
      "\n",
      "La programmation est omni-pr\u00e9sente lorsqu'on manipule des donn\u00e9es. On leur applique des traitements parfois standards, souvent adapt\u00e9s pour la circonstance. On souhaite toujours programmer le moins possible mais aussi ne pas avoir \u00e0 r\u00e9apprendre un langage \u00e0 chaque fois qu'on doit manipuler les donn\u00e9es.\n",
      "\n",
      "Le logiciel [MATLAB](http://www.mathworks.fr/products/matlab/) a propos\u00e9 voici 30 ans un premier environnement de travail facilitant le calcul matriciel et ce standard s'est impos\u00e9 depuis. Comme *MATLAB* est un logiciel payant, des \u00e9quivalents open source et gratuits ont \u00e9t\u00e9 d\u00e9velopp\u00e9s. Ils proposent tous le calcul matriciel, la possibilit\u00e9 de visualiser, un environnement de d\u00e9veloppement. Ils diff\u00e9rent pas des performances diff\u00e9rentes et des \u00e9ventails d'extensions diff\u00e9rentes. \n",
      "\n",
      "* [R](http://www.r-project.org/) : la r\u00e9f\u00e9rence pour les statisticiens, il est utilis\u00e9 par tous les chercheurs dans ce domaine.\n",
      "* [SciLab](http://www.scilab.org/fr) : d\u00e9velopp\u00e9 par l'[INRIA](http://www.inria.fr/).\n",
      "* [Octave](http://www.gnu.org/software/octave/) : clone open source de *MATLAB*, il n'inclut pas autant de librairies mais il est gratuit.\n",
      "* [Julia](http://julialang.org/) : c'est le plus jeune, il est plus rapide mais ses librairies sont moins nombreuses.\n",
      "\n",
      "Ils sont tous performants en qui concerne le calcul num\u00e9rique, ils le sont beaucoup moins lorsqu'il s'agit de faire des traitements qui ne sont pas num\u00e9riques (traiter du texte par exemple) car ils n'ont pas \u00e9t\u00e9 pr\u00e9vus pour cela \u00e0 la base (\u00e0 l'exception de Julia peut \u00eatre qui est plus jeune [Python v. Clojure v. Julia](http://matthewrocklin.com/blog/work/2014/01/13/Text-Benchmarks)). Le langage Python est devenu depuis 2012 une alternative int\u00e9ressante pour ces raisons (voir \u00e9galement [Why Python?](http://www.xavierdupre.fr/blog/2014-07-11_nojs.html)) :\n",
      "\n",
      "* Il propose les m\u00eame fonctionnalit\u00e9s de base (calcul matriciel, graphiques, environnement).\n",
      "* Python est plus pratique pour tout ce qui n'est pas num\u00e9rique (fichiers, web, server web, SQL, ...).\n",
      "* La plupart des librairies connues et \u00e9crites en C++ ont \u00e9t\u00e9 port\u00e9e sous Python.\n",
      "* Il est plus facile de changer un composant important en Python (numpy par exemple) si le nouveau est plus efficace.\n",
      "\n",
      "Un inconv\u00e9nient peut-\u00eatre est qu'il faut installer plusieurs extensions avant de pouvoir commencer \u00e0 travailler. Vous pouvez soit utiliser la distribution [WinPython](http://winpython.sourceforge.net/) ou installer les modules suivants (avant leurs d\u00e9pendances) :\n",
      "\n",
      "* [numpy](http://www.numpy.org/) : calcul matriciel\n",
      "* [pandas](http://pandas.pydata.org/) : DataFrame\n",
      "* [ipython](http://ipython.org/) : notebooks (comme celui-ci)\n",
      "* [matplotlib](http://matplotlib.org/) : graphiques\n",
      "* [scikit-learn](http://scikit-learn.org/stable/) : machine learning, statistique descriptive\n",
      "\n",
      "Optionnels :\n",
      "\n",
      "* [ggplot](http://ggplot.yhathq.com/) : extension tr\u00e8s populaire sur *R* et port\u00e9e sur Python\n",
      "* [Spyder](https://code.google.com/p/spyderlib/) : environnement type R, MATLAB, ...\n",
      "* [scipy](http://www.scipy.org/) : autres traitements num\u00e9riques (voir [NumPy vs. SciPy vs. other packages](http://www.scipy.org/scipylib/faq.html#what-is-the-difference-between-numpy-and-scipy))\n",
      "* [cvxopt](http://cvxopt.org/) : optimisation quadratique sous contrainte\n",
      "* [Pillow](https://pypi.python.org/pypi/Pillow) : traitement d'image\n",
      "* [PyQt4](https://wiki.python.org/moin/PyQt4) : interface graphique\n",
      "* [openpyxl](http://pythonhosted.org/openpyxl/) : lecture/\u00e9criture de fichir Excel\n",
      "\n",
      "\n",
      "Les environnements Python \u00e9voluent tr\u00e8s vite, les modules mentionn\u00e9s ici sont tous maintenus mais il eut en surgir de nouveau tr\u00e8s rapidement. Quelques environnements \u00e0 suivre :\n",
      "\n",
      "* [PyTools](http://pytools.codeplex.com/) : environnement de d\u00e9veloppement pour Visual Studio\n",
      "* [PyCharm](http://www.jetbrains.com/pycharm/) : n'inclut pas les graphiques mais est assez agr\u00e9able pour programmer\n",
      "* [IEP](http://www.iep-project.org/index.html) : \u00e9crit en Python\n",
      "* [PyDev](http://pydev.org/) : extension pour [Eclipse](http://www.eclipse.org/)\n",
      "\n",
      "Si vous ne voulez pas programmer, il existe des alternatives. C'est assez performant sur de petits jeux de donn\u00e9es mais cela devient plus complexe d\u00e8s qu'on veut programmer car le code doit tenir compte des sp\u00e9cificit\u00e9s de l'outil. \n",
      "\n",
      "* [Orange](http://orange.biolab.si/) : \u00e9crit en Python\n",
      "* [Weka](http://www.cs.waikato.ac.nz/ml/weka/) : \u00e9crit en Java (le pionnier)\n",
      "* [RapidMiner](http://rapidminer.com/) : version gratuite et payante\n",
      "\n",
      "C'est parfois plus pratique pour commencer mais mal commode si on veut automatiser un traitrment pour r\u00e9p\u00e9ter la m\u00eame t\u00e2che de fa\u00e7on r\u00e9guli\u00e8re. Pour les travaux pratiques \u00e0 l'ENSAE, jai choisi les [notebook](http://ipython.org/notebook.html) : c'est une page blanche o\u00f9 on peut m\u00e9langer texte, \u00e9quations, graphiques, code et ex\u00e9cution de code.\n",
      "\n",
      "**Taille de DataFrame**\n",
      "\n",
      "Les DataFrame en Python sont assez rapides lorsqu'il y a moins de 10 millions d'observations et que le fichier texte qui d\u00e9crit les donn\u00e9es n'est pas plus gros que 10 Mo. Au del\u00e0, il faut soit \u00eatre patient, soit \u00eatre astucieux comme ici : [DataFrame et SQL](http://www.xavierdupre.fr/blog/2014-07-19_nojs.html), [Data Wrangling with Pandas](http://nbviewer.ipython.org/urls/gist.github.com/fonnesbeck/5850413/raw/3a9406c73365480bc58d5e75bc80f7962243ba17/2.+Data+Wrangling+with+Pandas.ipynb).\n",
      "\n",
      "\n",
      "<h2 id=\"df\">DataFrame (pandas)</h2>\n",
      "\n",
      "**Quelques liens :** [An Introduction to Pandas](http://synesthesiam.com/posts/an-introduction-to-pandas.html)\n",
      "\n",
      "Un [Data Frame](http://en.wikipedia.org/wiki/Data_frame) est un objet qui est pr\u00e9sent dans la plupart des logiciels de traitements de donn\u00e9es, c'est une **matrice**, chaque colonne est de m\u00eame type (nombre, dates, texte), elle peut contenir des valeurs manquantes. On peut consid\u00e9rer chaque colonne comme les variables d'une table ([pandas.Dataframe](http://pandas.pydata.org/pandas-docs/dev/generated/pandas.DataFrame.html))"
     ]
    },
    {
     "cell_type": "code",
     "collapsed": false,
     "input": [
      "import pandas\n",
      "l = [ { \"date\":\"2014-06-22\", \"prix\":220.0, \"devise\":\"euros\" }, \n",
      "      { \"date\":\"2014-06-23\", \"prix\":221.0, \"devise\":\"euros\" },]\n",
      "df = pandas.DataFrame(l)\n",
      "df"
     ],
     "language": "python",
     "metadata": {},
     "outputs": [
      {
       "html": [
        "<div style=\"max-height:1000px;max-width:1500px;overflow:auto;\">\n",
        "<table border=\"1\" class=\"dataframe\">\n",
        "  <thead>\n",
        "    <tr style=\"text-align: right;\">\n",
        "      <th></th>\n",
        "      <th>date</th>\n",
        "      <th>devise</th>\n",
        "      <th>prix</th>\n",
        "    </tr>\n",
        "  </thead>\n",
        "  <tbody>\n",
        "    <tr>\n",
        "      <th>0</th>\n",
        "      <td> 2014-06-22</td>\n",
        "      <td> euros</td>\n",
        "      <td> 220</td>\n",
        "    </tr>\n",
        "    <tr>\n",
        "      <th>1</th>\n",
        "      <td> 2014-06-23</td>\n",
        "      <td> euros</td>\n",
        "      <td> 221</td>\n",
        "    </tr>\n",
        "  </tbody>\n",
        "</table>\n",
        "<p>2 rows \u00d7 3 columns</p>\n",
        "</div>"
       ],
       "metadata": {},
       "output_type": "pyout",
       "prompt_number": 17,
       "text": [
        "         date devise  prix\n",
        "0  2014-06-22  euros   220\n",
        "1  2014-06-23  euros   221\n",
        "\n",
        "[2 rows x 3 columns]"
       ]
      }
     ],
     "prompt_number": 17
    },
    {
     "cell_type": "markdown",
     "metadata": {},
     "source": [
      "Avec une valeur manquante :"
     ]
    },
    {
     "cell_type": "code",
     "collapsed": false,
     "input": [
      "l = [ { \"date\":\"2014-06-22\", \"prix\":220.0, \"devise\":\"euros\" }, \n",
      "      { \"date\":\"2014-06-23\", \"devise\":\"euros\"  },]\n",
      "df = pandas.DataFrame(l)\n",
      "df"
     ],
     "language": "python",
     "metadata": {},
     "outputs": [
      {
       "html": [
        "<div style=\"max-height:1000px;max-width:1500px;overflow:auto;\">\n",
        "<table border=\"1\" class=\"dataframe\">\n",
        "  <thead>\n",
        "    <tr style=\"text-align: right;\">\n",
        "      <th></th>\n",
        "      <th>date</th>\n",
        "      <th>devise</th>\n",
        "      <th>prix</th>\n",
        "    </tr>\n",
        "  </thead>\n",
        "  <tbody>\n",
        "    <tr>\n",
        "      <th>0</th>\n",
        "      <td> 2014-06-22</td>\n",
        "      <td> euros</td>\n",
        "      <td> 220</td>\n",
        "    </tr>\n",
        "    <tr>\n",
        "      <th>1</th>\n",
        "      <td> 2014-06-23</td>\n",
        "      <td> euros</td>\n",
        "      <td> NaN</td>\n",
        "    </tr>\n",
        "  </tbody>\n",
        "</table>\n",
        "<p>2 rows \u00d7 3 columns</p>\n",
        "</div>"
       ],
       "metadata": {},
       "output_type": "pyout",
       "prompt_number": 18,
       "text": [
        "         date devise  prix\n",
        "0  2014-06-22  euros   220\n",
        "1  2014-06-23  euros   NaN\n",
        "\n",
        "[2 rows x 3 columns]"
       ]
      }
     ],
     "prompt_number": 18
    },
    {
     "cell_type": "markdown",
     "metadata": {},
     "source": [
      "[NaN](http://docs.scipy.org/doc/numpy/reference/generated/numpy.isnan.html#numpy.isnan) est une convention pour une valeur manquante. On extrait la variable ``prix`` :"
     ]
    },
    {
     "cell_type": "code",
     "collapsed": false,
     "input": [
      "df.prix"
     ],
     "language": "python",
     "metadata": {},
     "outputs": [
      {
       "metadata": {},
       "output_type": "pyout",
       "prompt_number": 19,
       "text": [
        "0    220\n",
        "1    NaN\n",
        "Name: prix, dtype: float64"
       ]
      }
     ],
     "prompt_number": 19
    },
    {
     "cell_type": "markdown",
     "metadata": {},
     "source": [
      "Ou :"
     ]
    },
    {
     "cell_type": "code",
     "collapsed": false,
     "input": [
      "df[\"prix\"]"
     ],
     "language": "python",
     "metadata": {},
     "outputs": [
      {
       "metadata": {},
       "output_type": "pyout",
       "prompt_number": 20,
       "text": [
        "0    220\n",
        "1    NaN\n",
        "Name: prix, dtype: float64"
       ]
      }
     ],
     "prompt_number": 20
    },
    {
     "cell_type": "markdown",
     "metadata": {},
     "source": [
      "Pour extraire plusieurs colonnes :"
     ]
    },
    {
     "cell_type": "code",
     "collapsed": false,
     "input": [
      "df [[\"date\",\"prix\"]]"
     ],
     "language": "python",
     "metadata": {},
     "outputs": [
      {
       "html": [
        "<div style=\"max-height:1000px;max-width:1500px;overflow:auto;\">\n",
        "<table border=\"1\" class=\"dataframe\">\n",
        "  <thead>\n",
        "    <tr style=\"text-align: right;\">\n",
        "      <th></th>\n",
        "      <th>date</th>\n",
        "      <th>prix</th>\n",
        "    </tr>\n",
        "  </thead>\n",
        "  <tbody>\n",
        "    <tr>\n",
        "      <th>0</th>\n",
        "      <td> 2014-06-22</td>\n",
        "      <td> 220</td>\n",
        "    </tr>\n",
        "    <tr>\n",
        "      <th>1</th>\n",
        "      <td> 2014-06-23</td>\n",
        "      <td> NaN</td>\n",
        "    </tr>\n",
        "  </tbody>\n",
        "</table>\n",
        "<p>2 rows \u00d7 2 columns</p>\n",
        "</div>"
       ],
       "metadata": {},
       "output_type": "pyout",
       "prompt_number": 21,
       "text": [
        "         date  prix\n",
        "0  2014-06-22   220\n",
        "1  2014-06-23   NaN\n",
        "\n",
        "[2 rows x 2 columns]"
       ]
      }
     ],
     "prompt_number": 21
    },
    {
     "cell_type": "markdown",
     "metadata": {},
     "source": [
      "<h3 id=\"io\">Lecture et \u00e9criture de DataFrame</h3>\n",
      "\n",
      "Aujourd'hui, on n'a plus besoin de r\u00e9\u00e9crire soi-m\u00eame une fonction de lecture ou d'\u00e9criture de donn\u00e9es pr\u00e9sent\u00e9es sous forme de tables. Il existe des fonctions plus g\u00e9n\u00e9riques qui g\u00e8re un grand nombre de cas.\n",
      "Cette section pr\u00e9sente bri\u00e8vement les fonctions qui permettent de lire/\u00e9crire un DataFrame aux formats texte/Excel. On reprend l'exemple de section pr\u00e9c\u00e9dente. L'instruction ``encoding=utf-8`` n'est pas obligatoire mais conseill\u00e9e lorsque les donn\u00e9es contiennent des accents (voir [read_csv](http://pandas.pydata.org/pandas-docs/stable/generated/pandas.io.parsers.read_csv.html))."
     ]
    },
    {
     "cell_type": "code",
     "collapsed": false,
     "input": [
      "import pandas\n",
      "l = [ { \"date\":\"2014-06-22\", \"prix\":220.0, \"devise\":\"euros\" }, \n",
      "      { \"date\":\"2014-06-23\", \"prix\":221.0, \"devise\":\"euros\" },]\n",
      "df = pandas.DataFrame(l)\n",
      "\n",
      "# \u00e9criture au format texte\n",
      "df.to_csv(\"exemple.txt\",sep=\"\\t\",encoding=\"utf-8\", index=False)\n",
      "\n",
      "# on regarde ce qui a \u00e9t\u00e9 enregistr\u00e9\n",
      "with open(\"exemple.txt\", \"r\", encoding=\"utf-8\") as f : text = f.read()\n",
      "print(text)\n",
      "\n",
      "# on enregistre au format Excel\n",
      "df.to_excel(\"exemple.xlsx\", index=False)\n",
      "\n",
      "# on ouvre Excel sur ce fichier (sous Windows)\n",
      "from pyquickhelper import run_cmd\n",
      "out,err = run_cmd(\"exemple.xlsx\", wait = False)"
     ],
     "language": "python",
     "metadata": {},
     "outputs": [
      {
       "output_type": "stream",
       "stream": "stdout",
       "text": [
        "date\tdevise\tprix\n",
        "2014-06-22\teuros\t220.0\n",
        "2014-06-23\teuros\t221.0\n",
        "\n"
       ]
      }
     ],
     "prompt_number": 22
    },
    {
     "cell_type": "markdown",
     "metadata": {},
     "source": [
      "On peut r\u00e9cup\u00e9rer des donn\u00e9es directement depuis Internet ou une cha\u00eene de caract\u00e8res et afficher le d\u00e9but ([head](pandas.pydata.org/pandas-docs/stable/generated/pandas.DataFrame.head.html)) ou la fin ([tail](pandas.pydata.org/pandas-docs/stable/generated/pandas.DataFrame.tail.html)) :"
     ]
    },
    {
     "cell_type": "code",
     "collapsed": false,
     "input": [
      "import pandas, io\n",
      "from pyquickhelper import get_url_content, read_url\n",
      "\n",
      "text = get_url_content(\"http://www.xavierdupre.fr/enseignement/complements/marathon.txt\")\n",
      "df = pandas.read_csv(io.StringIO(text), sep=\"\\t\",\n",
      "                        names=[\"ville\", \"annee\", \"temps\",\"secondes\"])\n",
      "\n",
      "# il est possible d'utiliser la fonction read_url du module pyquickhelper\n",
      "#df = read_url(\"http://www.xavierdupre.fr/enseignement/complements/marathon.txt\",\n",
      "#              sep=\"\\t\", names=[\"ville\", \"annee\", \"temps\",\"secondes\"])\n",
      "\n",
      "df.head()"
     ],
     "language": "python",
     "metadata": {},
     "outputs": [
      {
       "html": [
        "<div style=\"max-height:1000px;max-width:1500px;overflow:auto;\">\n",
        "<table border=\"1\" class=\"dataframe\">\n",
        "  <thead>\n",
        "    <tr style=\"text-align: right;\">\n",
        "      <th></th>\n",
        "      <th>ville</th>\n",
        "      <th>annee</th>\n",
        "      <th>temps</th>\n",
        "      <th>secondes</th>\n",
        "    </tr>\n",
        "  </thead>\n",
        "  <tbody>\n",
        "    <tr>\n",
        "      <th>0</th>\n",
        "      <td> PARIS</td>\n",
        "      <td> 2011</td>\n",
        "      <td> 02:06:29</td>\n",
        "      <td> 7589</td>\n",
        "    </tr>\n",
        "    <tr>\n",
        "      <th>1</th>\n",
        "      <td> PARIS</td>\n",
        "      <td> 2010</td>\n",
        "      <td> 02:06:41</td>\n",
        "      <td> 7601</td>\n",
        "    </tr>\n",
        "    <tr>\n",
        "      <th>2</th>\n",
        "      <td> PARIS</td>\n",
        "      <td> 2009</td>\n",
        "      <td> 02:05:47</td>\n",
        "      <td> 7547</td>\n",
        "    </tr>\n",
        "    <tr>\n",
        "      <th>3</th>\n",
        "      <td> PARIS</td>\n",
        "      <td> 2008</td>\n",
        "      <td> 02:06:40</td>\n",
        "      <td> 7600</td>\n",
        "    </tr>\n",
        "    <tr>\n",
        "      <th>4</th>\n",
        "      <td> PARIS</td>\n",
        "      <td> 2007</td>\n",
        "      <td> 02:07:17</td>\n",
        "      <td> 7637</td>\n",
        "    </tr>\n",
        "  </tbody>\n",
        "</table>\n",
        "<p>5 rows \u00d7 4 columns</p>\n",
        "</div>"
       ],
       "metadata": {},
       "output_type": "pyout",
       "prompt_number": 3,
       "text": [
        "   ville  annee     temps  secondes\n",
        "0  PARIS   2011  02:06:29      7589\n",
        "1  PARIS   2010  02:06:41      7601\n",
        "2  PARIS   2009  02:05:47      7547\n",
        "3  PARIS   2008  02:06:40      7600\n",
        "4  PARIS   2007  02:07:17      7637\n",
        "\n",
        "[5 rows x 4 columns]"
       ]
      }
     ],
     "prompt_number": 3
    },
    {
     "cell_type": "markdown",
     "metadata": {},
     "source": [
      "<h3 id=\"index\">DataFrame et Index</h3>\n",
      "\n",
      "On d\u00e9signe g\u00e9n\u00e9ralement une colonne ou *variable* par son nom. Les lignes peuvent \u00eatre d\u00e9sign\u00e9es par un entier."
     ]
    },
    {
     "cell_type": "code",
     "collapsed": false,
     "input": [
      "import pandas\n",
      "l = [ { \"date\":\"2014-06-22\", \"prix\":220.0, \"devise\":\"euros\" }, \n",
      "      { \"date\":\"2014-06-23\", \"prix\":221.0, \"devise\":\"euros\" },]\n",
      "df = pandas.DataFrame(l)\n",
      "df"
     ],
     "language": "python",
     "metadata": {},
     "outputs": [
      {
       "html": [
        "<div style=\"max-height:1000px;max-width:1500px;overflow:auto;\">\n",
        "<table border=\"1\" class=\"dataframe\">\n",
        "  <thead>\n",
        "    <tr style=\"text-align: right;\">\n",
        "      <th></th>\n",
        "      <th>date</th>\n",
        "      <th>devise</th>\n",
        "      <th>prix</th>\n",
        "    </tr>\n",
        "  </thead>\n",
        "  <tbody>\n",
        "    <tr>\n",
        "      <th>0</th>\n",
        "      <td> 2014-06-22</td>\n",
        "      <td> euros</td>\n",
        "      <td> 220</td>\n",
        "    </tr>\n",
        "    <tr>\n",
        "      <th>1</th>\n",
        "      <td> 2014-06-23</td>\n",
        "      <td> euros</td>\n",
        "      <td> 221</td>\n",
        "    </tr>\n",
        "  </tbody>\n",
        "</table>\n",
        "<p>2 rows \u00d7 3 columns</p>\n",
        "</div>"
       ],
       "metadata": {},
       "output_type": "pyout",
       "prompt_number": 24,
       "text": [
        "         date devise  prix\n",
        "0  2014-06-22  euros   220\n",
        "1  2014-06-23  euros   221\n",
        "\n",
        "[2 rows x 3 columns]"
       ]
      }
     ],
     "prompt_number": 24
    },
    {
     "cell_type": "markdown",
     "metadata": {},
     "source": [
      "On extrait une ligne ([ix](http://pandas.pydata.org/pandas-docs/dev/generated/pandas.DataFrame.ix.html)) :"
     ]
    },
    {
     "cell_type": "code",
     "collapsed": false,
     "input": [
      "df.ix[1]"
     ],
     "language": "python",
     "metadata": {},
     "outputs": [
      {
       "metadata": {},
       "output_type": "pyout",
       "prompt_number": 25,
       "text": [
        "date      2014-06-23\n",
        "devise         euros\n",
        "prix             221\n",
        "Name: 1, dtype: object"
       ]
      }
     ],
     "prompt_number": 25
    },
    {
     "cell_type": "markdown",
     "metadata": {},
     "source": [
      "Mais il est possible d'utiliser une colonne ou plusieurs colonnes comme index ([set_index](http://pandas.pydata.org/pandas-docs/stable/generated/pandas.DataFrame.set_index.html)) :"
     ]
    },
    {
     "cell_type": "code",
     "collapsed": false,
     "input": [
      "dfi = df.set_index(\"date\")\n",
      "dfi"
     ],
     "language": "python",
     "metadata": {},
     "outputs": [
      {
       "html": [
        "<div style=\"max-height:1000px;max-width:1500px;overflow:auto;\">\n",
        "<table border=\"1\" class=\"dataframe\">\n",
        "  <thead>\n",
        "    <tr style=\"text-align: right;\">\n",
        "      <th></th>\n",
        "      <th>devise</th>\n",
        "      <th>prix</th>\n",
        "    </tr>\n",
        "    <tr>\n",
        "      <th>date</th>\n",
        "      <th></th>\n",
        "      <th></th>\n",
        "    </tr>\n",
        "  </thead>\n",
        "  <tbody>\n",
        "    <tr>\n",
        "      <th>2014-06-22</th>\n",
        "      <td> euros</td>\n",
        "      <td> 220</td>\n",
        "    </tr>\n",
        "    <tr>\n",
        "      <th>2014-06-23</th>\n",
        "      <td> euros</td>\n",
        "      <td> 221</td>\n",
        "    </tr>\n",
        "  </tbody>\n",
        "</table>\n",
        "<p>2 rows \u00d7 2 columns</p>\n",
        "</div>"
       ],
       "metadata": {},
       "output_type": "pyout",
       "prompt_number": 26,
       "text": [
        "           devise  prix\n",
        "date                   \n",
        "2014-06-22  euros   220\n",
        "2014-06-23  euros   221\n",
        "\n",
        "[2 rows x 2 columns]"
       ]
      }
     ],
     "prompt_number": 26
    },
    {
     "cell_type": "markdown",
     "metadata": {},
     "source": [
      "On peut maintenant d\u00e9signer une ligne par une date :"
     ]
    },
    {
     "cell_type": "code",
     "collapsed": false,
     "input": [
      "dfi.ix[\"2014-06-23\"]"
     ],
     "language": "python",
     "metadata": {},
     "outputs": [
      {
       "metadata": {},
       "output_type": "pyout",
       "prompt_number": 27,
       "text": [
        "devise    euros\n",
        "prix        221\n",
        "Name: 2014-06-23, dtype: object"
       ]
      }
     ],
     "prompt_number": 27
    },
    {
     "cell_type": "markdown",
     "metadata": {},
     "source": [
      "Il est possible d'utiliser plusieurs colonnes comme index :"
     ]
    },
    {
     "cell_type": "code",
     "collapsed": false,
     "input": [
      "df = pandas.DataFrame([ {\"pr\u00e9nom\":\"xavier\", \"nom\":\"dupr\u00e9\", \"arrondissement\":18}, \n",
      "       {\"pr\u00e9nom\":\"cl\u00e9mence\", \"nom\":\"dupr\u00e9\", \"arrondissement\":15 } ])\n",
      "dfi = df.set_index([\"nom\",\"pr\u00e9nom\"])\n",
      "dfi.ix[\"dupr\u00e9\",\"xavier\"]"
     ],
     "language": "python",
     "metadata": {},
     "outputs": [
      {
       "metadata": {},
       "output_type": "pyout",
       "prompt_number": 28,
       "text": [
        "arrondissement    18\n",
        "Name: (dupr\u00e9, xavier), dtype: int64"
       ]
      }
     ],
     "prompt_number": 28
    },
    {
     "cell_type": "markdown",
     "metadata": {},
     "source": [
      "Si on veut changer l'index ou le supprimer ([reset_index](http://pandas.pydata.org/pandas-docs/stable/generated/pandas.DataFrame.reset_index.html)) :"
     ]
    },
    {
     "cell_type": "code",
     "collapsed": false,
     "input": [
      "dfi.reset_index(drop=False, inplace=True)  \n",
      "        # le mot-cl\u00e9 drop pour garder ou non les colonnes servant d'index\n",
      "        # inplace signifie qu'on modifie l'instance et non qu'une copie est modifi\u00e9e\n",
      "        # donc on peut aussi \u00e9crire dfi2 = dfi.reset_index(drop=False)  \n",
      "dfi.set_index([\"nom\", \"arrondissement\"],inplace=True)\n",
      "dfi"
     ],
     "language": "python",
     "metadata": {},
     "outputs": [
      {
       "html": [
        "<div style=\"max-height:1000px;max-width:1500px;overflow:auto;\">\n",
        "<table border=\"1\" class=\"dataframe\">\n",
        "  <thead>\n",
        "    <tr style=\"text-align: right;\">\n",
        "      <th></th>\n",
        "      <th></th>\n",
        "      <th>pr\u00e9nom</th>\n",
        "    </tr>\n",
        "    <tr>\n",
        "      <th>nom</th>\n",
        "      <th>arrondissement</th>\n",
        "      <th></th>\n",
        "    </tr>\n",
        "  </thead>\n",
        "  <tbody>\n",
        "    <tr>\n",
        "      <th rowspan=\"2\" valign=\"top\">dupr\u00e9</th>\n",
        "      <th>18</th>\n",
        "      <td>   xavier</td>\n",
        "    </tr>\n",
        "    <tr>\n",
        "      <th>15</th>\n",
        "      <td> cl\u00e9mence</td>\n",
        "    </tr>\n",
        "  </tbody>\n",
        "</table>\n",
        "<p>2 rows \u00d7 1 columns</p>\n",
        "</div>"
       ],
       "metadata": {},
       "output_type": "pyout",
       "prompt_number": 29,
       "text": [
        "                        pr\u00e9nom\n",
        "nom   arrondissement          \n",
        "dupr\u00e9 18                xavier\n",
        "      15              cl\u00e9mence\n",
        "\n",
        "[2 rows x 1 columns]"
       ]
      }
     ],
     "prompt_number": 29
    },
    {
     "cell_type": "markdown",
     "metadata": {},
     "source": [
      "<h3 id=\"ix\">Notation avec le symbole ``:``</h3>\n",
      "\n",
      "Le symbole ``:`` d\u00e9signe une plage de valeurs."
     ]
    },
    {
     "cell_type": "code",
     "collapsed": false,
     "input": [
      "import pandas, io\n",
      "from pyquickhelper import get_url_content\n",
      "text = get_url_content(\"http://www.xavierdupre.fr/enseignement/complements/marathon.txt\")\n",
      "df = pandas.read_csv(io.StringIO(text), sep=\"\\t\",\n",
      "                        names=[\"ville\", \"annee\", \"temps\",\"secondes\"])\n",
      "df.head()"
     ],
     "language": "python",
     "metadata": {},
     "outputs": [
      {
       "html": [
        "<div style=\"max-height:1000px;max-width:1500px;overflow:auto;\">\n",
        "<table border=\"1\" class=\"dataframe\">\n",
        "  <thead>\n",
        "    <tr style=\"text-align: right;\">\n",
        "      <th></th>\n",
        "      <th>ville</th>\n",
        "      <th>annee</th>\n",
        "      <th>temps</th>\n",
        "      <th>secondes</th>\n",
        "    </tr>\n",
        "  </thead>\n",
        "  <tbody>\n",
        "    <tr>\n",
        "      <th>0</th>\n",
        "      <td> PARIS</td>\n",
        "      <td> 2011</td>\n",
        "      <td> 02:06:29</td>\n",
        "      <td> 7589</td>\n",
        "    </tr>\n",
        "    <tr>\n",
        "      <th>1</th>\n",
        "      <td> PARIS</td>\n",
        "      <td> 2010</td>\n",
        "      <td> 02:06:41</td>\n",
        "      <td> 7601</td>\n",
        "    </tr>\n",
        "    <tr>\n",
        "      <th>2</th>\n",
        "      <td> PARIS</td>\n",
        "      <td> 2009</td>\n",
        "      <td> 02:05:47</td>\n",
        "      <td> 7547</td>\n",
        "    </tr>\n",
        "    <tr>\n",
        "      <th>3</th>\n",
        "      <td> PARIS</td>\n",
        "      <td> 2008</td>\n",
        "      <td> 02:06:40</td>\n",
        "      <td> 7600</td>\n",
        "    </tr>\n",
        "    <tr>\n",
        "      <th>4</th>\n",
        "      <td> PARIS</td>\n",
        "      <td> 2007</td>\n",
        "      <td> 02:07:17</td>\n",
        "      <td> 7637</td>\n",
        "    </tr>\n",
        "  </tbody>\n",
        "</table>\n",
        "<p>5 rows \u00d7 4 columns</p>\n",
        "</div>"
       ],
       "metadata": {},
       "output_type": "pyout",
       "prompt_number": 30,
       "text": [
        "   ville  annee     temps  secondes\n",
        "0  PARIS   2011  02:06:29      7589\n",
        "1  PARIS   2010  02:06:41      7601\n",
        "2  PARIS   2009  02:05:47      7547\n",
        "3  PARIS   2008  02:06:40      7600\n",
        "4  PARIS   2007  02:07:17      7637\n",
        "\n",
        "[5 rows x 4 columns]"
       ]
      }
     ],
     "prompt_number": 30
    },
    {
     "cell_type": "markdown",
     "metadata": {},
     "source": [
      "On peut s\u00e9lectionner un sous-ensemble de lignes :"
     ]
    },
    {
     "cell_type": "code",
     "collapsed": false,
     "input": [
      "df[3:6]"
     ],
     "language": "python",
     "metadata": {},
     "outputs": [
      {
       "html": [
        "<div style=\"max-height:1000px;max-width:1500px;overflow:auto;\">\n",
        "<table border=\"1\" class=\"dataframe\">\n",
        "  <thead>\n",
        "    <tr style=\"text-align: right;\">\n",
        "      <th></th>\n",
        "      <th>ville</th>\n",
        "      <th>annee</th>\n",
        "      <th>temps</th>\n",
        "      <th>secondes</th>\n",
        "    </tr>\n",
        "  </thead>\n",
        "  <tbody>\n",
        "    <tr>\n",
        "      <th>3</th>\n",
        "      <td> PARIS</td>\n",
        "      <td> 2008</td>\n",
        "      <td> 02:06:40</td>\n",
        "      <td> 7600</td>\n",
        "    </tr>\n",
        "    <tr>\n",
        "      <th>4</th>\n",
        "      <td> PARIS</td>\n",
        "      <td> 2007</td>\n",
        "      <td> 02:07:17</td>\n",
        "      <td> 7637</td>\n",
        "    </tr>\n",
        "    <tr>\n",
        "      <th>5</th>\n",
        "      <td> PARIS</td>\n",
        "      <td> 2006</td>\n",
        "      <td> 02:08:03</td>\n",
        "      <td> 7683</td>\n",
        "    </tr>\n",
        "  </tbody>\n",
        "</table>\n",
        "<p>3 rows \u00d7 4 columns</p>\n",
        "</div>"
       ],
       "metadata": {},
       "output_type": "pyout",
       "prompt_number": 31,
       "text": [
        "   ville  annee     temps  secondes\n",
        "3  PARIS   2008  02:06:40      7600\n",
        "4  PARIS   2007  02:07:17      7637\n",
        "5  PARIS   2006  02:08:03      7683\n",
        "\n",
        "[3 rows x 4 columns]"
       ]
      }
     ],
     "prompt_number": 31
    },
    {
     "cell_type": "markdown",
     "metadata": {},
     "source": [
      "On extrait la m\u00eame plage mais avec deux colonnes seulement :"
     ]
    },
    {
     "cell_type": "code",
     "collapsed": false,
     "input": [
      "df.ix[3:6,[\"annee\",\"temps\"]]"
     ],
     "language": "python",
     "metadata": {},
     "outputs": [
      {
       "html": [
        "<div style=\"max-height:1000px;max-width:1500px;overflow:auto;\">\n",
        "<table border=\"1\" class=\"dataframe\">\n",
        "  <thead>\n",
        "    <tr style=\"text-align: right;\">\n",
        "      <th></th>\n",
        "      <th>annee</th>\n",
        "      <th>temps</th>\n",
        "    </tr>\n",
        "  </thead>\n",
        "  <tbody>\n",
        "    <tr>\n",
        "      <th>3</th>\n",
        "      <td> 2008</td>\n",
        "      <td> 02:06:40</td>\n",
        "    </tr>\n",
        "    <tr>\n",
        "      <th>4</th>\n",
        "      <td> 2007</td>\n",
        "      <td> 02:07:17</td>\n",
        "    </tr>\n",
        "    <tr>\n",
        "      <th>5</th>\n",
        "      <td> 2006</td>\n",
        "      <td> 02:08:03</td>\n",
        "    </tr>\n",
        "    <tr>\n",
        "      <th>6</th>\n",
        "      <td> 2005</td>\n",
        "      <td> 02:08:02</td>\n",
        "    </tr>\n",
        "  </tbody>\n",
        "</table>\n",
        "<p>4 rows \u00d7 2 columns</p>\n",
        "</div>"
       ],
       "metadata": {},
       "output_type": "pyout",
       "prompt_number": 32,
       "text": [
        "   annee     temps\n",
        "3   2008  02:06:40\n",
        "4   2007  02:07:17\n",
        "5   2006  02:08:03\n",
        "6   2005  02:08:02\n",
        "\n",
        "[4 rows x 2 columns]"
       ]
      }
     ],
     "prompt_number": 32
    },
    {
     "cell_type": "markdown",
     "metadata": {},
     "source": [
      "Le m\u00eame code pour lequel on renomme les colonnes extraites :"
     ]
    },
    {
     "cell_type": "code",
     "collapsed": false,
     "input": [
      "sub = df.ix[3:6,[\"annee\",\"temps\"]]\n",
      "sub.columns = [\"year\",\"time\"]\n",
      "sub"
     ],
     "language": "python",
     "metadata": {},
     "outputs": [
      {
       "html": [
        "<div style=\"max-height:1000px;max-width:1500px;overflow:auto;\">\n",
        "<table border=\"1\" class=\"dataframe\">\n",
        "  <thead>\n",
        "    <tr style=\"text-align: right;\">\n",
        "      <th></th>\n",
        "      <th>year</th>\n",
        "      <th>time</th>\n",
        "    </tr>\n",
        "  </thead>\n",
        "  <tbody>\n",
        "    <tr>\n",
        "      <th>3</th>\n",
        "      <td> 2008</td>\n",
        "      <td> 02:06:40</td>\n",
        "    </tr>\n",
        "    <tr>\n",
        "      <th>4</th>\n",
        "      <td> 2007</td>\n",
        "      <td> 02:07:17</td>\n",
        "    </tr>\n",
        "    <tr>\n",
        "      <th>5</th>\n",
        "      <td> 2006</td>\n",
        "      <td> 02:08:03</td>\n",
        "    </tr>\n",
        "    <tr>\n",
        "      <th>6</th>\n",
        "      <td> 2005</td>\n",
        "      <td> 02:08:02</td>\n",
        "    </tr>\n",
        "  </tbody>\n",
        "</table>\n",
        "<p>4 rows \u00d7 2 columns</p>\n",
        "</div>"
       ],
       "metadata": {},
       "output_type": "pyout",
       "prompt_number": 33,
       "text": [
        "   year      time\n",
        "3  2008  02:06:40\n",
        "4  2007  02:07:17\n",
        "5  2006  02:08:03\n",
        "6  2005  02:08:02\n",
        "\n",
        "[4 rows x 2 columns]"
       ]
      }
     ],
     "prompt_number": 33
    },
    {
     "cell_type": "markdown",
     "metadata": {},
     "source": [
      "<h3 id=\"exo1\">Exercice 1 : cr\u00e9er un fichier Excel</h3>\n",
      "    \n",
      "On souhaite r\u00e9cup\u00e9rer les donn\u00e9es [marathon.txt](http://www.xavierdupre.fr/enseignement/complements/marathon.txt), afficher l'ensemble des villes distinctes. On veut ensuite les indexer selon la ville et l'ann\u00e9e puis sauver le tout au format Excel."
     ]
    },
    {
     "cell_type": "code",
     "collapsed": false,
     "input": [
      "import pandas, io\n",
      "# ..."
     ],
     "language": "python",
     "metadata": {},
     "outputs": [],
     "prompt_number": 34
    },
    {
     "cell_type": "markdown",
     "metadata": {},
     "source": [
      "<h2 id=\"df2\">Manipuler un DataFrame</h2>\n",
      "\n",
      "Si la structure *DataFrame* s'est impos\u00e9e, c'est parce qu'on effectue toujours les m\u00eames op\u00e9rations. Chaque fonction cache une boucle ou deux dont le co\u00fbt est pr\u00e9cis\u00e9 en fin de ligne :\n",
      "\n",
      "- **filter** : on s\u00e9lectionne un sous-ensemble de lignes qui v\u00e9rifie une condition $\\rightarrow O(n)$\n",
      "- **union** : concat\u00e9nation de deux jeux de donn\u00e9es $\\rightarrow O(n_1 + n_2)$\n",
      "- **sort** : tri  $\\rightarrow O(n \\ln n)$\n",
      "- **group by** : grouper des lignes qui partagent une valeur commune  $\\rightarrow O(n)$\n",
      "- **join** : fusionner deux jeux de donn\u00e9es en associant les lignes qui partagent une valeur commune  $\\rightarrow \\in [O(n_1 + n_2), O(n_1 n_2)]$\n",
      "- **pivot** : utiliser des valeurs pr\u00e9sent dans colonne comme noms de colonnes $\\rightarrow O(n)$\n",
      "\n",
      "Les 5 premi\u00e8res op\u00e9rations sont issues de la logique de manipulation des donn\u00e9es avec le langage [SQL](http://fr.wikipedia.org/wiki/Structured_Query_Language) (ou le logiciel [SAS](http://www.sas.com)). La derni\u00e8re correspond \u00e0 un [tableau crois\u00e9 dynamique](http://fr.wikipedia.org/wiki/Tableau_crois%C3%A9_dynamique). Pour illustrer ces op\u00e9rations, on prendre le DataFrame suivant :"
     ]
    },
    {
     "cell_type": "code",
     "collapsed": false,
     "input": [
      "from pyquickhelper import read_url\n",
      "import pandas\n",
      "df = read_url(\"http://www.xavierdupre.fr/enseignement/complements/marathon.txt\",\n",
      "              sep=\"\\t\", names=[\"ville\", \"annee\", \"temps\",\"secondes\"])\n",
      "print(df.columns)\n",
      "print(\"villes\",set(df.ville))\n",
      "print(\"annee\",set(df.annee))"
     ],
     "language": "python",
     "metadata": {},
     "outputs": [
      {
       "output_type": "stream",
       "stream": "stdout",
       "text": [
        "Index(['ville', 'annee', 'temps', 'secondes'], dtype='object')\n",
        "villes {'FUKUOKA', 'PARIS', 'CHICAGO', 'NEW YORK', 'BERLIN', 'AMSTERDAM', 'STOCKOLM', 'BOSTON', 'LONDON'}\n",
        "annee {1947, 1948, 1949, 1950, 1951, 1952, 1953, 1954, 1955, 1956, 1957, 1958, 1959, 1960, 1961, 1962, 1963, 1964, 1965, 1966, 1967, 1968, 1969, 1970, 1971, 1972, 1973, 1974, 1975, 1976, 1977, 1978, 1979, 1980, 1981, 1982, 1983, 1984, 1985, 1986, 1987, 1988, 1989, 1990, 1991, 1992, 1993, 1994, 1995, 1996, 1997, 1998, 1999, 2000, 2001, 2002, 2003, 2004, 2005, 2006, 2007, 2008, 2009, 2010, 2011}\n"
       ]
      }
     ],
     "prompt_number": 11
    },
    {
     "cell_type": "markdown",
     "metadata": {},
     "source": [
      "<h3 id=\"op\">6 op\u00e9rations : filtrer, union, sort, group by, join, pivot</h3>\n",
      "\n",
      "<p><b style=\"background-color:yellow;\">filtrer</b></p>\n",
      "\n",
      "Filter consiste \u00e0 s\u00e9lectionner un sous-ensemble de lignes du dataframe. Pour filter sur plusieurs conditions, il faut utiliser les op\u00e9rateurs logique & (et), | (ou), ~ (non) (voir [Mapping Operators to Functions](https://docs.python.org/3.4/library/operator.html#mapping-operators-to-functions)).\n",
      "\n",
      "* [filter](http://pandas.pydata.org/pandas-docs/stable/generated/pandas.DataFrame.filter.html), [mask](http://pandas.pydata.org/pandas-docs/stable/generated/pandas.DataFrame.mask.html),[where](http://pandas.pydata.org/pandas-docs/stable/generated/pandas.DataFrame.where.html)\n",
      "* [pandas: filter rows of DataFrame with operator chaining](http://stackoverflow.com/questions/11869910/pandas-filter-rows-of-dataframe-with-operator-chaining)\n",
      "* [Indexing and Selecting Data](http://pandas.pydata.org/pandas-docs/stable/indexing.html)"
     ]
    },
    {
     "cell_type": "code",
     "collapsed": false,
     "input": [
      "subset = df [ df.annee == 1971 ]\n",
      "subset.head()"
     ],
     "language": "python",
     "metadata": {},
     "outputs": [
      {
       "html": [
        "<div style=\"max-height:1000px;max-width:1500px;overflow:auto;\">\n",
        "<table border=\"1\" class=\"dataframe\">\n",
        "  <thead>\n",
        "    <tr style=\"text-align: right;\">\n",
        "      <th></th>\n",
        "      <th>ville</th>\n",
        "      <th>annee</th>\n",
        "      <th>temps</th>\n",
        "      <th>secondes</th>\n",
        "    </tr>\n",
        "  </thead>\n",
        "  <tbody>\n",
        "    <tr>\n",
        "      <th>112</th>\n",
        "      <td>  FUKUOKA</td>\n",
        "      <td> 1971</td>\n",
        "      <td> 02:12:51</td>\n",
        "      <td> 7971</td>\n",
        "    </tr>\n",
        "    <tr>\n",
        "      <th>205</th>\n",
        "      <td> NEW YORK</td>\n",
        "      <td> 1971</td>\n",
        "      <td> 02:22:54</td>\n",
        "      <td> 8574</td>\n",
        "    </tr>\n",
        "    <tr>\n",
        "      <th>286</th>\n",
        "      <td>   BOSTON</td>\n",
        "      <td> 1971</td>\n",
        "      <td> 02:18:45</td>\n",
        "      <td> 8325</td>\n",
        "    </tr>\n",
        "  </tbody>\n",
        "</table>\n",
        "<p>3 rows \u00d7 4 columns</p>\n",
        "</div>"
       ],
       "metadata": {},
       "output_type": "pyout",
       "prompt_number": 4,
       "text": [
        "        ville  annee     temps  secondes\n",
        "112   FUKUOKA   1971  02:12:51      7971\n",
        "205  NEW YORK   1971  02:22:54      8574\n",
        "286    BOSTON   1971  02:18:45      8325\n",
        "\n",
        "[3 rows x 4 columns]"
       ]
      }
     ],
     "prompt_number": 4
    },
    {
     "cell_type": "code",
     "collapsed": false,
     "input": [
      "subset = df [ (df.annee == 1971) & (df.ville == \"BOSTON\") ]\n",
      "subset.head()"
     ],
     "language": "python",
     "metadata": {},
     "outputs": [
      {
       "html": [
        "<div style=\"max-height:1000px;max-width:1500px;overflow:auto;\">\n",
        "<table border=\"1\" class=\"dataframe\">\n",
        "  <thead>\n",
        "    <tr style=\"text-align: right;\">\n",
        "      <th></th>\n",
        "      <th>ville</th>\n",
        "      <th>annee</th>\n",
        "      <th>temps</th>\n",
        "      <th>secondes</th>\n",
        "    </tr>\n",
        "  </thead>\n",
        "  <tbody>\n",
        "    <tr>\n",
        "      <th>286</th>\n",
        "      <td> BOSTON</td>\n",
        "      <td> 1971</td>\n",
        "      <td> 02:18:45</td>\n",
        "      <td> 8325</td>\n",
        "    </tr>\n",
        "  </tbody>\n",
        "</table>\n",
        "<p>1 rows \u00d7 4 columns</p>\n",
        "</div>"
       ],
       "metadata": {},
       "output_type": "pyout",
       "prompt_number": 6,
       "text": [
        "      ville  annee     temps  secondes\n",
        "286  BOSTON   1971  02:18:45      8325\n",
        "\n",
        "[1 rows x 4 columns]"
       ]
      }
     ],
     "prompt_number": 6
    },
    {
     "cell_type": "markdown",
     "metadata": {},
     "source": [
      "<p><b style=\"background-color:yellow;\">union</b></p>\n",
      "\n",
      "union = concat\u00e9nation de deux DataFrame (qui n'ont pas n\u00e9cessaire les m\u00eames colonnes). On peut concat\u00e9ner les lignes ou les colonnes.\n",
      "\n",
      "* [concat](http://pandas.pydata.org/pandas-docs/stable/generated/pandas.concat.html)\n",
      "* [Merge, join, and concatenate](http://pandas.pydata.org/pandas-docs/stable/merging.html)"
     ]
    },
    {
     "cell_type": "code",
     "collapsed": false,
     "input": [
      "concat_ligne = pandas.concat((df,df))\n",
      "df.shape,concat_ligne.shape"
     ],
     "language": "python",
     "metadata": {},
     "outputs": [
      {
       "metadata": {},
       "output_type": "pyout",
       "prompt_number": 13,
       "text": [
        "((360, 4), (720, 4))"
       ]
      }
     ],
     "prompt_number": 13
    },
    {
     "cell_type": "code",
     "collapsed": false,
     "input": [
      "concat_col = pandas.concat((df,df), axis=1)\n",
      "df.shape,concat_col.shape"
     ],
     "language": "python",
     "metadata": {},
     "outputs": [
      {
       "metadata": {},
       "output_type": "pyout",
       "prompt_number": 14,
       "text": [
        "((360, 4), (360, 8))"
       ]
      }
     ],
     "prompt_number": 14
    },
    {
     "cell_type": "markdown",
     "metadata": {},
     "source": [
      "<p><b style=\"background-color:yellow;\">sort</b></p>\n",
      "\n",
      "Sort = trier\n",
      "\n",
      "* [sort](http://pandas.pydata.org/pandas-docs/stable/generated/pandas.DataFrame.sort.html)"
     ]
    },
    {
     "cell_type": "code",
     "collapsed": false,
     "input": [
      "tri = df.sort( [\"annee\", \"ville\"], ascending=[0,1])\n",
      "tri.head()"
     ],
     "language": "python",
     "metadata": {},
     "outputs": [
      {
       "html": [
        "<div style=\"max-height:1000px;max-width:1500px;overflow:auto;\">\n",
        "<table border=\"1\" class=\"dataframe\">\n",
        "  <thead>\n",
        "    <tr style=\"text-align: right;\">\n",
        "      <th></th>\n",
        "      <th>ville</th>\n",
        "      <th>annee</th>\n",
        "      <th>temps</th>\n",
        "      <th>secondes</th>\n",
        "    </tr>\n",
        "  </thead>\n",
        "  <tbody>\n",
        "    <tr>\n",
        "      <th>35 </th>\n",
        "      <td>   BERLIN</td>\n",
        "      <td> 2011</td>\n",
        "      <td> 02:03:38</td>\n",
        "      <td> 7418</td>\n",
        "    </tr>\n",
        "    <tr>\n",
        "      <th>326</th>\n",
        "      <td>   BOSTON</td>\n",
        "      <td> 2011</td>\n",
        "      <td> 02:03:02</td>\n",
        "      <td> 7382</td>\n",
        "    </tr>\n",
        "    <tr>\n",
        "      <th>203</th>\n",
        "      <td>   LONDON</td>\n",
        "      <td> 2011</td>\n",
        "      <td> 02:04:40</td>\n",
        "      <td> 7480</td>\n",
        "    </tr>\n",
        "    <tr>\n",
        "      <th>0  </th>\n",
        "      <td>    PARIS</td>\n",
        "      <td> 2011</td>\n",
        "      <td> 02:06:29</td>\n",
        "      <td> 7589</td>\n",
        "    </tr>\n",
        "    <tr>\n",
        "      <th>277</th>\n",
        "      <td> STOCKOLM</td>\n",
        "      <td> 2011</td>\n",
        "      <td> 02:14:07</td>\n",
        "      <td> 8047</td>\n",
        "    </tr>\n",
        "  </tbody>\n",
        "</table>\n",
        "<p>5 rows \u00d7 4 columns</p>\n",
        "</div>"
       ],
       "metadata": {},
       "output_type": "pyout",
       "prompt_number": 17,
       "text": [
        "        ville  annee     temps  secondes\n",
        "35     BERLIN   2011  02:03:38      7418\n",
        "326    BOSTON   2011  02:03:02      7382\n",
        "203    LONDON   2011  02:04:40      7480\n",
        "0       PARIS   2011  02:06:29      7589\n",
        "277  STOCKOLM   2011  02:14:07      8047\n",
        "\n",
        "[5 rows x 4 columns]"
       ]
      }
     ],
     "prompt_number": 17
    },
    {
     "cell_type": "markdown",
     "metadata": {},
     "source": [
      "<p><b style=\"background-color:yellow;\">group by</b></p>\n",
      "\n",
      "Cette op\u00e9ration consiste \u00e0 grouper les lignes qui partagent une caract\u00e9ristique commune (une ou ou plusieurs valeurs par exemple). Sur chaque groupe, on peut calculer une somme, une moyenne...\n",
      "\n",
      "* [groupby](http://pandas.pydata.org/pandas-docs/stable/generated/pandas.DataFrame.groupby.html)\n",
      "* [sum](http://pandas.pydata.org/pandas-docs/stable/generated/pandas.DataFrame.sum.html), [cumsum](http://pandas.pydata.org/pandas-docs/stable/generated/pandas.DataFrame.cumsum.html), [mean](http://pandas.pydata.org/pandas-docs/stable/generated/pandas.DataFrame.mean.html), [count](http://pandas.pydata.org/pandas-docs/stable/generated/pandas.DataFrame.count.html)\n",
      "* [SQL GROUP BY](http://sql.sh/cours/group-by)\n",
      "* [Group By: split-apply-combine](http://pandas.pydata.org/pandas-docs/dev/groupby.html)\n",
      "* [group by customis\u00e9](http://stackoverflow.com/questions/15322632/python-pandas-df-groupby-agg-column-reference-in-agg)\n"
     ]
    },
    {
     "cell_type": "code",
     "collapsed": false,
     "input": [
      "gr = df.groupby(\"annee\")\n",
      "gr"
     ],
     "language": "python",
     "metadata": {},
     "outputs": [
      {
       "metadata": {},
       "output_type": "pyout",
       "prompt_number": 24,
       "text": [
        "<pandas.core.groupby.DataFrameGroupBy object at 0x091FB570>"
       ]
      }
     ],
     "prompt_number": 24
    },
    {
     "cell_type": "code",
     "collapsed": false,
     "input": [
      "nb = gr.count()\n",
      "nb.sort(ascending=False).head()"
     ],
     "language": "python",
     "metadata": {},
     "outputs": [
      {
       "html": [
        "<div style=\"max-height:1000px;max-width:1500px;overflow:auto;\">\n",
        "<table border=\"1\" class=\"dataframe\">\n",
        "  <thead>\n",
        "    <tr style=\"text-align: right;\">\n",
        "      <th></th>\n",
        "      <th>ville</th>\n",
        "      <th>annee</th>\n",
        "      <th>temps</th>\n",
        "      <th>secondes</th>\n",
        "    </tr>\n",
        "    <tr>\n",
        "      <th>annee</th>\n",
        "      <th></th>\n",
        "      <th></th>\n",
        "      <th></th>\n",
        "      <th></th>\n",
        "    </tr>\n",
        "  </thead>\n",
        "  <tbody>\n",
        "    <tr>\n",
        "      <th>2011</th>\n",
        "      <td> 5</td>\n",
        "      <td> 5</td>\n",
        "      <td> 5</td>\n",
        "      <td> 5</td>\n",
        "    </tr>\n",
        "    <tr>\n",
        "      <th>2010</th>\n",
        "      <td> 9</td>\n",
        "      <td> 9</td>\n",
        "      <td> 9</td>\n",
        "      <td> 9</td>\n",
        "    </tr>\n",
        "    <tr>\n",
        "      <th>2009</th>\n",
        "      <td> 9</td>\n",
        "      <td> 9</td>\n",
        "      <td> 9</td>\n",
        "      <td> 9</td>\n",
        "    </tr>\n",
        "    <tr>\n",
        "      <th>2008</th>\n",
        "      <td> 9</td>\n",
        "      <td> 9</td>\n",
        "      <td> 9</td>\n",
        "      <td> 9</td>\n",
        "    </tr>\n",
        "    <tr>\n",
        "      <th>2007</th>\n",
        "      <td> 9</td>\n",
        "      <td> 9</td>\n",
        "      <td> 9</td>\n",
        "      <td> 9</td>\n",
        "    </tr>\n",
        "  </tbody>\n",
        "</table>\n",
        "<p>5 rows \u00d7 4 columns</p>\n",
        "</div>"
       ],
       "metadata": {},
       "output_type": "pyout",
       "prompt_number": 28,
       "text": [
        "       ville  annee  temps  secondes\n",
        "annee                               \n",
        "2011       5      5      5         5\n",
        "2010       9      9      9         9\n",
        "2009       9      9      9         9\n",
        "2008       9      9      9         9\n",
        "2007       9      9      9         9\n",
        "\n",
        "[5 rows x 4 columns]"
       ]
      }
     ],
     "prompt_number": 28
    },
    {
     "cell_type": "code",
     "collapsed": false,
     "input": [
      "nb = gr.sum()\n",
      "nb.sort(ascending=False).head(n=2)"
     ],
     "language": "python",
     "metadata": {},
     "outputs": [
      {
       "html": [
        "<div style=\"max-height:1000px;max-width:1500px;overflow:auto;\">\n",
        "<table border=\"1\" class=\"dataframe\">\n",
        "  <thead>\n",
        "    <tr style=\"text-align: right;\">\n",
        "      <th></th>\n",
        "      <th>secondes</th>\n",
        "    </tr>\n",
        "    <tr>\n",
        "      <th>annee</th>\n",
        "      <th></th>\n",
        "    </tr>\n",
        "  </thead>\n",
        "  <tbody>\n",
        "    <tr>\n",
        "      <th>2011</th>\n",
        "      <td> 37916</td>\n",
        "    </tr>\n",
        "    <tr>\n",
        "      <th>2010</th>\n",
        "      <td> 68673</td>\n",
        "    </tr>\n",
        "  </tbody>\n",
        "</table>\n",
        "<p>2 rows \u00d7 1 columns</p>\n",
        "</div>"
       ],
       "metadata": {},
       "output_type": "pyout",
       "prompt_number": 29,
       "text": [
        "       secondes\n",
        "annee          \n",
        "2011      37916\n",
        "2010      68673\n",
        "\n",
        "[2 rows x 1 columns]"
       ]
      }
     ],
     "prompt_number": 29
    },
    {
     "cell_type": "code",
     "collapsed": false,
     "input": [
      "nb = gr.mean()\n",
      "nb.sort(ascending=False).head(n=3)"
     ],
     "language": "python",
     "metadata": {},
     "outputs": [
      {
       "html": [
        "<div style=\"max-height:1000px;max-width:1500px;overflow:auto;\">\n",
        "<table border=\"1\" class=\"dataframe\">\n",
        "  <thead>\n",
        "    <tr style=\"text-align: right;\">\n",
        "      <th></th>\n",
        "      <th>secondes</th>\n",
        "    </tr>\n",
        "    <tr>\n",
        "      <th>annee</th>\n",
        "      <th></th>\n",
        "    </tr>\n",
        "  </thead>\n",
        "  <tbody>\n",
        "    <tr>\n",
        "      <th>2011</th>\n",
        "      <td> 7583.200000</td>\n",
        "    </tr>\n",
        "    <tr>\n",
        "      <th>2010</th>\n",
        "      <td> 7630.333333</td>\n",
        "    </tr>\n",
        "    <tr>\n",
        "      <th>2009</th>\n",
        "      <td> 7652.555556</td>\n",
        "    </tr>\n",
        "  </tbody>\n",
        "</table>\n",
        "<p>3 rows \u00d7 1 columns</p>\n",
        "</div>"
       ],
       "metadata": {},
       "output_type": "pyout",
       "prompt_number": 34,
       "text": [
        "          secondes\n",
        "annee             \n",
        "2011   7583.200000\n",
        "2010   7630.333333\n",
        "2009   7652.555556\n",
        "\n",
        "[3 rows x 1 columns]"
       ]
      }
     ],
     "prompt_number": 34
    },
    {
     "cell_type": "markdown",
     "metadata": {},
     "source": [
      "<p><b style=\"background-color:yellow;\">fusion (join)</b></p>"
     ]
    },
    {
     "cell_type": "code",
     "collapsed": false,
     "input": [],
     "language": "python",
     "metadata": {},
     "outputs": []
    },
    {
     "cell_type": "markdown",
     "metadata": {},
     "source": [
      "<p><b style=\"background-color:yellow;\">pivot (tableau crois\u00e9 dynamqique)</b></p>"
     ]
    },
    {
     "cell_type": "code",
     "collapsed": false,
     "input": [],
     "language": "python",
     "metadata": {},
     "outputs": []
    }
   ],
   "metadata": {}
  }
 ]
}