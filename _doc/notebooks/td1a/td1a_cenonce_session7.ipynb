{
 "metadata": {
  "name": "",
  "signature": "sha256:9f310dc029cf715298a80a14ac20ad99cdb9a29ed89b67cf7149d95320d9f6ce"
 },
 "nbformat": 3,
 "nbformat_minor": 0,
 "worksheets": [
  {
   "cells": [
    {
     "cell_type": "heading",
     "level": 1,
     "metadata": {},
     "source": [
      "TD 7 : Programmation dynamique et plus court chemin"
     ]
    },
    {
     "cell_type": "markdown",
     "metadata": {},
     "source": [
      "Plan\n",
      "\n",
      "* [Donn\u00e9es](#donnes)\n",
      "    * [Exercice 1](#exo1)\n",
      "    * [Exercice 2](#exo2)\n",
      "* [Algorithme du plus court chemin](#algo1)\n",
      "    * [Exercice 3](#exo3)\n",
      "    * [Exercice 4](#exo4)\n",
      "* [La r\u00e9partition des skis](#ski)\n",
      "    * [Exercice facultatif](#exof)\n",
      "    * [Exercice 5](#exo5)\n",
      "    * [Exercice 6](#exo6)\n",
      "    * [Exercice 7](#exo7)\n",
      "    * [Exercice 8](#exo8)\n",
      "\n",
      "La [programmation dynamique](http://fr.wikipedia.org/wiki/Programmation\\_dynamique) est une fa\u00e7on de r\u00e9soudre de mani\u00e8re similaire une classe de probl\u00e8mes d'optimisation qui v\u00e9rifie la m\u00eame propri\u00e9t\u00e9. On suppose qu'il est possible de d\u00e9couper le probl\u00e8me $P$ en plusieurs parties $P_1$, $P_2$,~... Si $S$ est la solution optimale du probl\u00e8me~$P$, alors chaque partie $S_1$, $S_2$ de cette solution appliqu\u00e9e aux sous-probl\u00e8mes est aussi optimale.\n",
      "\n",
      "Par exemple, on cherche le plus court chemin $c(A,B)$ entre les villes $A$ et $B$. Si celui-ci passe par la ville~$M$ alors les chemins $c(A,M)+c(M,B) = c(A,B)$ sont aussi les plus courts chemins entre les villes $A,M$ et $M,B$.\n",
      "\n",
      "<h2 id=\"donnees\">Les donn\u00e9es</h2>\n",
      "\n",
      "On r\u00e9cup\u00e8re le fichier ``matrix_distance_7398.txt`` qui contient des distances entre diff\u00e9rentes villes (pas toutes).\n"
     ]
    },
    {
     "cell_type": "code",
     "collapsed": false,
     "input": [
      "import pyensae\n",
      "pyensae.download_data(\"matrix_distance_7398.zip\", website  = \"xd\")\n",
      "import pandas\n",
      "df = pandas.read_csv(\"matrix_distance_7398.txt\", sep=\"\\t\")\n",
      "df.head()"
     ],
     "language": "python",
     "metadata": {},
     "outputs": [
      {
       "output_type": "stream",
       "stream": "stdout",
       "text": [
        "    downloading of  http://www.xavierdupre.fr/enseignement/complements/matrix_distance_7398.zip  to  matrix_distance_7398.zip\n",
        "    unzipped "
       ]
      },
      {
       "output_type": "stream",
       "stream": "stdout",
       "text": [
        " matrix_distance_7398.txt  to  .\\matrix_distance_7398.txt\n"
       ]
      },
      {
       "html": [
        "<div style=\"max-height:1000px;max-width:1500px;overflow:auto;\">\n",
        "<table border=\"1\" class=\"dataframe\">\n",
        "  <thead>\n",
        "    <tr style=\"text-align: right;\">\n",
        "      <th></th>\n",
        "      <th>Boulogne-Billancourt</th>\n",
        "      <th>Beauvais</th>\n",
        "      <th>85597</th>\n",
        "    </tr>\n",
        "  </thead>\n",
        "  <tbody>\n",
        "    <tr>\n",
        "      <th>0</th>\n",
        "      <td> Courbevoie</td>\n",
        "      <td>           Sevran</td>\n",
        "      <td>  26564</td>\n",
        "    </tr>\n",
        "    <tr>\n",
        "      <th>1</th>\n",
        "      <td>   Colombes</td>\n",
        "      <td>      Alfortville</td>\n",
        "      <td>  36843</td>\n",
        "    </tr>\n",
        "    <tr>\n",
        "      <th>2</th>\n",
        "      <td>    Bagneux</td>\n",
        "      <td> Marcq-En-Baroeul</td>\n",
        "      <td> 233455</td>\n",
        "    </tr>\n",
        "    <tr>\n",
        "      <th>3</th>\n",
        "      <td>   Suresnes</td>\n",
        "      <td>    Gennevilliers</td>\n",
        "      <td>  10443</td>\n",
        "    </tr>\n",
        "    <tr>\n",
        "      <th>4</th>\n",
        "      <td>       Lens</td>\n",
        "      <td>         Maubeuge</td>\n",
        "      <td>  93768</td>\n",
        "    </tr>\n",
        "  </tbody>\n",
        "</table>\n",
        "<p>5 rows \u00d7 3 columns</p>\n",
        "</div>"
       ],
       "metadata": {},
       "output_type": "pyout",
       "prompt_number": 1,
       "text": [
        "  Boulogne-Billancourt          Beauvais   85597\n",
        "0           Courbevoie            Sevran   26564\n",
        "1             Colombes       Alfortville   36843\n",
        "2              Bagneux  Marcq-En-Baroeul  233455\n",
        "3             Suresnes     Gennevilliers   10443\n",
        "4                 Lens          Maubeuge   93768\n",
        "\n",
        "[5 rows x 3 columns]"
       ]
      }
     ],
     "prompt_number": 1
    },
    {
     "cell_type": "markdown",
     "metadata": {},
     "source": [
      "<h3 id=\"exo1\"> Exercice 1</h3>\n",
      "\n",
      "Construire la liste des villes sans doublons."
     ]
    },
    {
     "cell_type": "markdown",
     "metadata": {},
     "source": [
      "<h3 id=\"exo2\">Exercice 2</h3>\n",
      "\n",
      "Constuire un dictionnaire ``{ (a,b) : d, (b,a) : d }`` o\u00f9 ``a,b`` sont des villes et ``d`` la distance qui les s\u00e9pare ?\n",
      "\n",
      "On veut calculer la distance entre la ville de ``Charleville-Mezieres`` et ``Bordeaux`` ? Est-ce que cette distance existe dans la liste des distances dont on dispose ?"
     ]
    },
    {
     "cell_type": "markdown",
     "metadata": {},
     "source": [
      "<h2 id=\"algo1\">Algorithme du plus court chemin</h2>\n",
      "\n",
      "On cr\u00e9\u00e9 un tableau ``d[v]`` qui contient ou contiendra la distance optimale entre les villes ``v`` et ``Charleville-Mezieres``. La valeur qu'on cherche est ``d['Bordeaux']``. On initialise le tableau comme suit :\n",
      "\n",
      "- ``d['Charleville-Mezieres'] = 0``\n",
      "- ``d[v] = infini`` pour tout $v \\neq 'Charleville-Mezieres'$.\n",
      "\n",
      "<h3 id=\"exo3\">Exercice 3</h3>\n",
      "\n",
      "Quelles sont les premi\u00e8res cases qu'on peut remplir facilement ?"
     ]
    },
    {
     "cell_type": "markdown",
     "metadata": {},
     "source": [
      "<h3 id=\"exo4\">Exercice 4</h3>\n",
      "\n",
      "Soit une ville $v$ et une autre $w$, on s'aper\u00e7oit que $d[w] > d[v] + dist[w,v]$. Que proposez-vous de faire ? En d\u00e9duire un algorithme qui permet de d\u00e9terminer la distance la plus courte entre Charleville-Mezieres et Bordeaux. \n",
      "\n",
      "Si la solution vous \u00e9chappe encore, vous pouvez vous inspirer de l'[Algorithme de Djikstra](http://fr.wikipedia.org/wiki/Algorithme_de_Dijkstra)."
     ]
    },
    {
     "cell_type": "markdown",
     "metadata": {},
     "source": [
      "<h2 id=\"ski\">La r\u00e9partition des skis</h2>\n",
      "\n",
      "$N=10$ skieurs rentrent dans un magasins pour louer 10 paires de skis (parmi $M>N$). On souhaite leur donner \u00e0 tous une paire qui leur convient (on suppose que la taille de la paire de skis doit \u00eatre au plus proche de la taille du skieurs. On cherche donc \u00e0 minimiser :\n",
      "\n",
      "$$\n",
      "\\arg \\min_\\sigma \\sum_{i=1}^{N} \\left| t_i - s_{\\sigma(i)} \\right|\n",
      "$$\n",
      "\n",
      "O\u00f9 $\\sigma$ est un ensemble de $N$ paires de skis parmi $M$ (un [arrangement](http://fr.wikipedia.org/wiki/Arrangement) pour \u00eatre plus pr\u00e9cis).\n",
      "\n",
      "A premi\u00e8re vue, il faut chercher la solution du probl\u00e8me dans l'ensemble des arrangements de $N$ paires parmi $M$. Mais si on ordonne les paires et les skieurs par taille croissantes : $t_1 \\leqslant  t_2 \\leqslant ... \\leqslant t_N$ (tailles de skieurs) et $s_1 \\leqslant s_2 \\leqslant ... \\leqslant s_M$ (tailles de skis), r\u00e9soudre le probl\u00e8me revient \u00e0 prendre les skieurs dans l'ordre croissant et \u00e0 les placer en face d'une paire dans l'ordre o\u00f9 elles viennent. C'est comme si on ins\u00e9rait des espaces dans la s\u00e9quence des skieurs sans changer l'ordre :\n",
      "\n",
      "$$ \\begin{array}{|c|c|c|c|c|c|c|c|c|c|c|c|} \\hline t_1 &     & t_2 & t_3 &      &      & t_4 & ... & t_{N-1} &         & t_{N}   &     \\\\ \\hline s_1 & s_2 & s_3 & s_4 & s_5  & s_6  & s_7 & ... & s_{M-3} & s_{M-2} & s_{M-1} & s_M \\\\ \\hline \\end{array} $$\n",
      "\n",
      "<h3 id=\"exof\">Exercice facultatif</h3>\n",
      "\n",
      "Il faut d'abord prouver que l'algorithme sugg\u00e9r\u00e9 ci-dessus permet bien d'obtenir la solution optimale."
     ]
    },
    {
     "cell_type": "markdown",
     "metadata": {},
     "source": [
      "<h3 id=\"exo5\">Exercice 5</h3>\n",
      "\n",
      "Apr\u00e8s avoir avoir tri\u00e9 les skieurs et les paires par tailles croissantes. On d\u00e9finit :\n",
      "\n",
      "$$\n",
      "p(n,m) = \\sum_{i=1}^{n} \\left| t_i - s_{\\sigma_m^*(i)} \\right| \n",
      "$$ \n",
      "\n",
      "O\u00f9 $\\sigma_m^*$ est le meilleur choix possible de $n$ paires de skis parmi les $m$ premi\u00e8res. Exprimer $p(n,m)$ par r\u00e9currence (en fonction de $p(n,m-1)$ et $p(n-1,m-1)$. On suppose qu'un skieur sans paire de ski correspond au cas o\u00f9 la paire est de taille nulle."
     ]
    },
    {
     "cell_type": "markdown",
     "metadata": {},
     "source": [
      "<h3 id=\"exo6\">Exercice 6</h3>\n",
      "\n",
      "Ecrire une fonction qui calcule l'erreur pour la distribution optimale ? On pourra choisir des skieurs et des paires de tailles al\u00e9atoires par exemple."
     ]
    },
    {
     "cell_type": "code",
     "collapsed": false,
     "input": [
      "import random\n",
      "skieurs = [ random.gauss(1.75, 0.1) for i in range(0,10) ]\n",
      "paires  = [ random.gauss(1.75, 0.1) for i in range(0,15) ]\n",
      "skieurs.sort()\n",
      "paires.sort()\n",
      "print(skieurs)\n",
      "print(paires)"
     ],
     "language": "python",
     "metadata": {},
     "outputs": [
      {
       "output_type": "stream",
       "stream": "stdout",
       "text": [
        "[1.5772740092662771, 1.702275395314986, 1.7309070743855755, 1.7430382578297856, 1.7613416481102722, 1.77092880439455, 1.8247263137101102, 1.8322610389315017, 1.8615240337061678, 1.8640622828741755]\n",
        "[1.6222792610701329, 1.6264698681661545, 1.6547202075228435, 1.7051409941933884, 1.7118254042695031, 1.715768879385821, 1.7319105472779395, 1.7626886350412767, 1.7675499380317747, 1.7734999032652852, 1.7856964581228263, 1.7901635701160528, 1.8173985920138147, 1.8537318782155592, 1.912883339613462]\n"
       ]
      }
     ],
     "prompt_number": 5
    },
    {
     "cell_type": "markdown",
     "metadata": {},
     "source": [
      "<h3 id=\"exo7\">Exercice 7</h3>\n",
      "\n",
      "Quelle est la meilleure distribution des skis  aux skieurs ?"
     ]
    },
    {
     "cell_type": "markdown",
     "metadata": {},
     "source": [
      "<h3 id=\"exo8\">Exercice 8</h3>\n",
      "\n",
      "Quels sont les co\u00fbts des deux algorithmes (plus court chemin et ski) ?"
     ]
    },
    {
     "cell_type": "code",
     "collapsed": false,
     "input": [],
     "language": "python",
     "metadata": {},
     "outputs": []
    }
   ],
   "metadata": {}
  }
 ]
}