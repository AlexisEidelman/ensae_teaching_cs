{
 "cells": [
  {
   "cell_type": "markdown",
   "metadata": {},
   "source": [
    "# TD 7 : Programmation dynamique et plus court chemin"
   ]
  },
  {
   "cell_type": "markdown",
   "metadata": {},
   "source": [
    "Plan\n",
    "\n",
    "* [Données](#donnes)\n",
    "    * [Exercice 1](#exo1)\n",
    "    * [Exercice 2](#exo2)\n",
    "* [Algorithme du plus court chemin](#algo1)\n",
    "    * [Exercice 3](#exo3)\n",
    "    * [Exercice 4](#exo4)\n",
    "* [La répartition des skis](#ski)\n",
    "    * [Exercice facultatif](#exof)\n",
    "    * [Exercice 5](#exo5)\n",
    "    * [Exercice 6](#exo6)\n",
    "    * [Exercice 7](#exo7)\n",
    "    * [Exercice 8](#exo8)\n",
    "* [Prolongements : degré de séparation sur Facebook](#prol)\n",
    "\n",
    "La [programmation dynamique](http://fr.wikipedia.org/wiki/Programmation\\_dynamique) est une façon de résoudre de manière similaire une classe de problèmes d'optimisation qui vérifie la même propriété. On suppose qu'il est possible de découper le problème $P$ en plusieurs parties $P_1$, $P_2$, ... Si $S$ est la solution optimale du problème $P$, alors chaque partie $S_1$, $S_2$, ... de cette solution appliquée aux sous-problèmes est aussi optimale.\n",
    "\n",
    "Par exemple, on cherche le plus court chemin $c(A,B)$ entre les villes $A$ et $B$. Si celui-ci passe par la ville $M$ alors les chemins $c(A,M)+c(M,B) = c(A,B)$ sont aussi les plus courts chemins entre les villes $A,M$ et $M,B$. La démonstration se fait simplement par l'absurde : si la distance $c(A,M)$ n'est pas optimale alors il est possible de constuire un chemin plus court entre les villes $A$ et $B$. Cela contredit l'hypothèse de départ.\n",
    "\n",
    "Ces problèmes ont en règle générale une expression simple sous forme de récurrence : si on sait résoudre le problème pour un échantillon de taille $n$, on appelle cette solution $S(n)$ alors on peut facilement la solution $S(n+1)$ en fonction de $S(n)$. Parfois cette récurrence va au delà : $S(n+1) = f(S(n), S(n-1), ..., S(0))$.\n",
    "\n",
    "<h2 id=\"donnees\">Les données</h2>\n",
    "\n",
    "On récupère le fichier ``matrix_distance_7398.txt`` qui contient des distances entre différentes villes (pas toutes).\n"
   ]
  },
  {
   "cell_type": "code",
   "execution_count": 1,
   "metadata": {
    "collapsed": false
   },
   "outputs": [
    {
     "name": "stdout",
     "output_type": "stream",
     "text": [
      "    downloading of  http://www.xavierdupre.fr/enseignement/complements/matrix_distance_7398.zip  to  matrix_distance_7398.zip\n",
      "    unzipped "
     ]
    },
    {
     "name": "stdout",
     "output_type": "stream",
     "text": [
      " matrix_distance_7398.txt  to  .\\matrix_distance_7398.txt\n"
     ]
    },
    {
     "data": {
      "text/plain": [
       "['.\\\\matrix_distance_7398.txt']"
      ]
     },
     "execution_count": 1,
     "metadata": {},
     "output_type": "execute_result"
    }
   ],
   "source": [
    "import pyensae\n",
    "pyensae.download_data(\"matrix_distance_7398.zip\", website  = \"xd\")"
   ]
  },
  {
   "cell_type": "markdown",
   "metadata": {},
   "source": [
    "On peut lire ce fichier soit avec le module [pandas](http://pandas.pydata.org/) introduit lors de la séance 10 [TD 10 : DataFrame et Matrice](http://www.xavierdupre.fr/app/ensae_teaching_cs/helpsphinx/notebooks/td1a_cenonce_session_10.html#io) :"
   ]
  },
  {
   "cell_type": "code",
   "execution_count": 4,
   "metadata": {
    "collapsed": false
   },
   "outputs": [
    {
     "data": {
      "text/html": [
       "<div style=\"max-height:1000px;max-width:1500px;overflow:auto;\">\n",
       "<table border=\"1\" class=\"dataframe\">\n",
       "  <thead>\n",
       "    <tr style=\"text-align: right;\">\n",
       "      <th></th>\n",
       "      <th>v1</th>\n",
       "      <th>v2</th>\n",
       "      <th>distance</th>\n",
       "    </tr>\n",
       "  </thead>\n",
       "  <tbody>\n",
       "    <tr>\n",
       "      <th>0</th>\n",
       "      <td> Courbevoie</td>\n",
       "      <td>           Sevran</td>\n",
       "      <td>  26564</td>\n",
       "    </tr>\n",
       "    <tr>\n",
       "      <th>1</th>\n",
       "      <td>   Colombes</td>\n",
       "      <td>      Alfortville</td>\n",
       "      <td>  36843</td>\n",
       "    </tr>\n",
       "    <tr>\n",
       "      <th>2</th>\n",
       "      <td>    Bagneux</td>\n",
       "      <td> Marcq-En-Baroeul</td>\n",
       "      <td> 233455</td>\n",
       "    </tr>\n",
       "    <tr>\n",
       "      <th>3</th>\n",
       "      <td>   Suresnes</td>\n",
       "      <td>    Gennevilliers</td>\n",
       "      <td>  10443</td>\n",
       "    </tr>\n",
       "    <tr>\n",
       "      <th>4</th>\n",
       "      <td>       Lens</td>\n",
       "      <td>         Maubeuge</td>\n",
       "      <td>  93768</td>\n",
       "    </tr>\n",
       "  </tbody>\n",
       "</table>\n",
       "</div>"
      ],
      "text/plain": [
       "           v1                v2  distance\n",
       "0  Courbevoie            Sevran     26564\n",
       "1    Colombes       Alfortville     36843\n",
       "2     Bagneux  Marcq-En-Baroeul    233455\n",
       "3    Suresnes     Gennevilliers     10443\n",
       "4        Lens          Maubeuge     93768"
      ]
     },
     "execution_count": 4,
     "metadata": {},
     "output_type": "execute_result"
    }
   ],
   "source": [
    "import pandas\n",
    "df = pandas.read_csv(\"matrix_distance_7398.txt\", sep=\"\\t\", header=False, names=[\"v1\",\"v2\",\"distance\"])\n",
    "df.head()"
   ]
  },
  {
   "cell_type": "markdown",
   "metadata": {},
   "source": [
    "Le membre ``values`` se comporte comme une matrice, une liste de listes :"
   ]
  },
  {
   "cell_type": "code",
   "execution_count": 5,
   "metadata": {
    "collapsed": false
   },
   "outputs": [
    {
     "data": {
      "text/plain": [
       "array([['Courbevoie', 'Sevran', 26564],\n",
       "       ['Colombes', 'Alfortville', 36843],\n",
       "       ['Bagneux', 'Marcq-En-Baroeul', 233455],\n",
       "       ['Suresnes', 'Gennevilliers', 10443],\n",
       "       ['Lens', 'Maubeuge', 93768]], dtype=object)"
      ]
     },
     "execution_count": 5,
     "metadata": {},
     "output_type": "execute_result"
    }
   ],
   "source": [
    "matrice = df.values\n",
    "matrice[:5]"
   ]
  },
  {
   "cell_type": "markdown",
   "metadata": {},
   "source": [
    "On peut aussi utiliser le petit exemple qui a été présenté lors de la séance 4 sur les fichiers [TD 4 : Modules, fichiers, expressions régulières](http://www.xavierdupre.fr/app/ensae_teaching_cs/helpsphinx/notebooks/td1a_cenonce_session4.html#file). Les données se présente sous forme de matrice. Les deux premières colonnes sont des chaînes de caractères, la dernière est une valeur numérique qu'il faut convertir."
   ]
  },
  {
   "cell_type": "code",
   "execution_count": 6,
   "metadata": {
    "collapsed": false
   },
   "outputs": [
    {
     "name": "stdout",
     "output_type": "stream",
     "text": [
      "[['Boulogne-Billancourt', 'Beauvais', 85597.0], ['Courbevoie', 'Sevran', 26564.0], ['Colombes', 'Alfortville', 36843.0], ['Bagneux', 'Marcq-En-Baroeul', 233455.0], ['Suresnes', 'Gennevilliers', 10443.0]]\n"
     ]
    }
   ],
   "source": [
    "with open (\"matrix_distance_7398.txt\", \"r\") as f :\n",
    "    matrice = [ row.strip(' \\n').split('\\t') for row in f.readlines() ]\n",
    "for row in matrice:\n",
    "    row[2] = float(row[2])\n",
    "print(matrice[:5])"
   ]
  },
  {
   "cell_type": "markdown",
   "metadata": {},
   "source": [
    "Chaque ligne définit un voyage entre deux villes effectué d'une traite, sans étape. Les accents ont été supprimés du fichier.\n",
    "\n",
    "<h3 id=\"exo1\"> Exercice 1</h3>\n",
    "\n",
    "Construire la liste des villes sans doublons."
   ]
  },
  {
   "cell_type": "code",
   "execution_count": null,
   "metadata": {
    "collapsed": false
   },
   "outputs": [],
   "source": []
  },
  {
   "cell_type": "markdown",
   "metadata": {},
   "source": [
    "<h3 id=\"exo2\">Exercice 2</h3>\n",
    "\n",
    "Constuire un dictionnaire ``{ (a,b) : d, (b,a) : d }`` où ``a,b`` sont des villes et ``d`` la distance qui les sépare ?\n",
    "\n",
    "On veut calculer la distance entre la ville de ``Charleville-Mezieres`` et ``Bordeaux`` ? Est-ce que cette distance existe dans la liste des distances dont on dispose ?"
   ]
  },
  {
   "cell_type": "code",
   "execution_count": 0,
   "metadata": {
    "collapsed": false
   },
   "outputs": [],
   "source": []
  },
  {
   "cell_type": "markdown",
   "metadata": {},
   "source": [
    "<h2 id=\"algo1\">Algorithme du plus court chemin</h2>\n",
    "\n",
    "On créé un tableau ``d[v]`` qui contient ou contiendra la distance optimale entre les villes ``v`` et ``Charleville-Mezieres``. La valeur qu'on cherche est ``d['Bordeaux']``. On initialise le tableau comme suit :\n",
    "\n",
    "- ``d['Charleville-Mezieres'] = 0``\n",
    "- ``d[v] = infini`` pour tout $v \\neq 'Charleville-Mezieres'$.\n",
    "\n",
    "<h3 id=\"exo3\">Exercice 3</h3>\n",
    "\n",
    "Quelles sont les premières cases qu'on peut remplir facilement ?"
   ]
  },
  {
   "cell_type": "code",
   "execution_count": null,
   "metadata": {
    "collapsed": false
   },
   "outputs": [],
   "source": []
  },
  {
   "cell_type": "markdown",
   "metadata": {},
   "source": [
    "<h3 id=\"exo4\">Exercice 4</h3>\n",
    "\n",
    "Soit une ville $v$ et une autre $w$, on s'aperçoit que $d[w] > d[v] + dist[w,v]$. Que proposez-vous de faire ? En déduire un algorithme qui permet de déterminer la distance la plus courte entre Charleville-Mezieres et Bordeaux. \n",
    "\n",
    "Si la solution vous échappe encore, vous pouvez vous inspirer de l'[Algorithme de Djikstra](http://fr.wikipedia.org/wiki/Algorithme_de_Dijkstra)."
   ]
  },
  {
   "cell_type": "code",
   "execution_count": null,
   "metadata": {
    "collapsed": false
   },
   "outputs": [],
   "source": []
  },
  {
   "cell_type": "markdown",
   "metadata": {},
   "source": [
    "<h2 id=\"ski\">La répartition des skis</h2>\n",
    "\n",
    "Ce problème est un exemple pour lequel il faut d'abord prouver que la solution vérifie une certaine propriété avant de pouvoir lui appliquer une solution issue de la programmation dynamique.\n",
    "\n",
    "$N=10$ skieurs rentrent dans un magasins pour louer 10 paires de skis (parmi $M>N$). On souhaite leur donner à tous une paire qui leur convient (on suppose que la taille de la paire de skis doit être au plus proche de la taille du skieurs. On cherche donc à minimiser :\n",
    "\n",
    "$$\n",
    "\\arg \\min_\\sigma \\sum_{i=1}^{N} \\left| t_i - s_{\\sigma(i)} \\right|\n",
    "$$\n",
    "\n",
    "Où $\\sigma$ est un ensemble de $N$ paires de skis parmi $M$ (un [arrangement](http://fr.wikipedia.org/wiki/Arrangement) pour être plus précis).\n",
    "\n",
    "A première vue, il faut chercher la solution du problème dans l'ensemble des arrangements de $N$ paires parmi $M$. Mais si on ordonne les paires et les skieurs par taille croissantes : $t_1 \\leqslant  t_2 \\leqslant ... \\leqslant t_N$ (tailles de skieurs) et $s_1 \\leqslant s_2 \\leqslant ... \\leqslant s_M$ (tailles de skis), résoudre le problème revient à prendre les skieurs dans l'ordre croissant et à les placer en face d'une paire dans l'ordre où elles viennent. C'est comme si on insérait des espaces dans la séquence des skieurs sans changer l'ordre :\n",
    "\n",
    "$$ \\begin{array}{|c|c|c|c|c|c|c|c|c|c|c|c|} \\hline t_1 &     & t_2 & t_3 &      &      & t_4 & ... & t_{N-1} &         & t_{N}   &     \\\\ \\hline s_1 & s_2 & s_3 & s_4 & s_5  & s_6  & s_7 & ... & s_{M-3} & s_{M-2} & s_{M-1} & s_M \\\\ \\hline \\end{array} $$\n",
    "\n",
    "<h3 id=\"exof\">Exercice facultatif</h3>\n",
    "\n",
    "Il faut d'abord prouver que l'algorithme suggéré ci-dessus permet bien d'obtenir la solution optimale."
   ]
  },
  {
   "cell_type": "code",
   "execution_count": null,
   "metadata": {
    "collapsed": false
   },
   "outputs": [],
   "source": []
  },
  {
   "cell_type": "markdown",
   "metadata": {},
   "source": [
    "<h3 id=\"exo5\">Exercice 5</h3>\n",
    "\n",
    "Après avoir avoir trié les skieurs et les paires par tailles croissantes. On définit :\n",
    "\n",
    "$$\n",
    "p(n,m) = \\sum_{i=1}^{n} \\left| t_i - s_{\\sigma_m^*(i)} \\right| \n",
    "$$ \n",
    "\n",
    "Où $\\sigma_m^*$ est le meilleur choix possible de $n$ paires de skis parmi les $m$ premières. Exprimer $p(n,m)$ par récurrence (en fonction de $p(n,m-1)$ et $p(n-1,m-1)$. On suppose qu'un skieur sans paire de ski correspond au cas où la paire est de taille nulle."
   ]
  },
  {
   "cell_type": "code",
   "execution_count": null,
   "metadata": {
    "collapsed": false
   },
   "outputs": [],
   "source": []
  },
  {
   "cell_type": "markdown",
   "metadata": {},
   "source": [
    "<h3 id=\"exo6\">Exercice 6</h3>\n",
    "\n",
    "Ecrire une fonction qui calcule l'erreur pour la distribution optimale ? On pourra choisir des skieurs et des paires de tailles aléatoires par exemple."
   ]
  },
  {
   "cell_type": "code",
   "execution_count": 5,
   "metadata": {
    "collapsed": false
   },
   "outputs": [
    {
     "name": "stdout",
     "output_type": "stream",
     "text": [
      "[1.5772740092662771, 1.702275395314986, 1.7309070743855755, 1.7430382578297856, 1.7613416481102722, 1.77092880439455, 1.8247263137101102, 1.8322610389315017, 1.8615240337061678, 1.8640622828741755]\n",
      "[1.6222792610701329, 1.6264698681661545, 1.6547202075228435, 1.7051409941933884, 1.7118254042695031, 1.715768879385821, 1.7319105472779395, 1.7626886350412767, 1.7675499380317747, 1.7734999032652852, 1.7856964581228263, 1.7901635701160528, 1.8173985920138147, 1.8537318782155592, 1.912883339613462]\n"
     ]
    }
   ],
   "source": [
    "import random\n",
    "skieurs = [ random.gauss(1.75, 0.1) for i in range(0,10) ]\n",
    "paires  = [ random.gauss(1.75, 0.1) for i in range(0,15) ]\n",
    "skieurs.sort()\n",
    "paires.sort()\n",
    "print(skieurs)\n",
    "print(paires)"
   ]
  },
  {
   "cell_type": "markdown",
   "metadata": {},
   "source": [
    "<h3 id=\"exo7\">Exercice 7</h3>\n",
    "\n",
    "Quelle est la meilleure distribution des skis  aux skieurs ?"
   ]
  },
  {
   "cell_type": "markdown",
   "metadata": {},
   "source": [
    "<h3 id=\"exo8\">Exercice 8</h3>\n",
    "\n",
    "Quels sont les coûts des deux algorithmes (plus court chemin et ski) ?"
   ]
  },
  {
   "cell_type": "code",
   "execution_count": null,
   "metadata": {
    "collapsed": false
   },
   "outputs": [],
   "source": []
  },
  {
   "cell_type": "markdown",
   "metadata": {},
   "source": [
    "<h3 id=\"prol\">Prolongements : degré de séparation sur Facebook</h3>\n",
    "\n",
    "Le plus court chemin dans un graphe est un des algorithmes les plus connus en programmation. Il permet de déterminer la solution en un coût **polynômial** - chaque itération est en $O(n^2)$. La programmation dynamique caractèrise le passage d'une vision combinatoire à une compréhension récursif du même problème. Dans le cas du plus court chemin, l'approche combinatoire consiste à énumérer tous les chemins du graphe. L'approche dynamique consiste à démontrer que la première approche combinatoire aboutit à un calcul très redondant. On note $e(v,w)$ la matrice des longueurs des routes, $e(v,w) = \\infty$ s'il n'existe aucune route entre les villes $v$ et $w$. On suppose que $e(v,w)=e(w,v)$. La construction du tableau ``d`` se définit de manière itérative et récursive comme suit :\n",
    "\n",
    "**Etape 0**\n",
    "\n",
    "$$d(v) = \\infty, \\, \\forall v \\in V$$\n",
    "\n",
    "**Etape $n$**\n",
    "\n",
    "$$ d(v) = \\left \\{ \\begin{array}{ll} 0 & \\text{si } v = \\text{Charleville-Mezieres}  \\\\ \\min \\{ d(w) + e(v,w) \\, | \\, w \\in V \\} & \\text{sinon} \\end{array} \\right . $$\n",
    "\n",
    "\n",
    "Tant que l'étape $n$ continue à faire des mises à jour ($\\sum_v d(v)$ diminue), on répète l'étape $n$. Ce même algorithme peut être appliqué pour déterminer le [degré de séparation](http://www.atlantico.fr/decryptage/theorie-six-degres-separation-relations-entre-individus-facebook-nombre-amis-229803.html) dans un réseau social. L'agorithme s'applique presque tel quel à condition de définir ce que sont une ville et une distance entre villes dans ce nouveau graphe. Vous pouvez tester vos idées sur cet exemple de graphe [Social circles: Facebook](http://snap.stanford.edu/data/egonets-Facebook.html). L'algorithme de [Dikjstra](http://fr.wikipedia.org/wiki/Algorithme_de_Dijkstra) calcule le plus court chemin entre deux noeuds d'un graphe, l'algorithme de [Bellman-Ford](http://fr.wikipedia.org/wiki/Algorithme_de_Bellman-Ford) est une variante qui calcule toutes les distances des plus courts chemin entre deux noeuds d'un graphe."
   ]
  },
  {
   "cell_type": "code",
   "execution_count": 1,
   "metadata": {
    "collapsed": false
   },
   "outputs": [
    {
     "data": {
      "text/plain": [
       "['.\\\\facebook/0.edges',\n",
       " '.\\\\facebook/348.edges',\n",
       " '.\\\\facebook/414.edges',\n",
       " '.\\\\facebook/698.edges',\n",
       " '.\\\\facebook/107.edges',\n",
       " '.\\\\facebook/3437.edges',\n",
       " '.\\\\facebook/3980.edges',\n",
       " '.\\\\facebook/1912.edges',\n",
       " '.\\\\facebook/1684.edges',\n",
       " '.\\\\facebook/686.edges']"
      ]
     },
     "execution_count": 1,
     "metadata": {},
     "output_type": "execute_result"
    }
   ],
   "source": [
    "import pyensae\n",
    "files = pyensae.download_data(\"facebook.tar.gz\",website=\"http://snap.stanford.edu/data/\")\n",
    "fe = [ f for f in files if \"edge\" in f ]\n",
    "fe"
   ]
  },
  {
   "cell_type": "markdown",
   "metadata": {},
   "source": [
    "Il faut décompresser ce fichier avec [7zip](http://www.7-zip.org/) si vous utilisez ``pysense < 0.8``. Sous Linux (et Mac), il faudra utiliser une commande décrite ici [tar](http://doc.ubuntu-fr.org/tar)."
   ]
  },
  {
   "cell_type": "code",
   "execution_count": 4,
   "metadata": {
    "collapsed": false
   },
   "outputs": [
    {
     "name": "stdout",
     "output_type": "stream",
     "text": [
      "(60050, 2)\n"
     ]
    },
    {
     "data": {
      "text/html": [
       "<div style=\"max-height:1000px;max-width:1500px;overflow:auto;\">\n",
       "<table border=\"1\" class=\"dataframe\">\n",
       "  <thead>\n",
       "    <tr style=\"text-align: right;\">\n",
       "      <th></th>\n",
       "      <th>v1</th>\n",
       "      <th>v2</th>\n",
       "    </tr>\n",
       "  </thead>\n",
       "  <tbody>\n",
       "    <tr>\n",
       "      <th>0</th>\n",
       "      <td> 2290</td>\n",
       "      <td> 2363</td>\n",
       "    </tr>\n",
       "    <tr>\n",
       "      <th>1</th>\n",
       "      <td> 2346</td>\n",
       "      <td> 2025</td>\n",
       "    </tr>\n",
       "    <tr>\n",
       "      <th>2</th>\n",
       "      <td> 2140</td>\n",
       "      <td> 2428</td>\n",
       "    </tr>\n",
       "    <tr>\n",
       "      <th>3</th>\n",
       "      <td> 2201</td>\n",
       "      <td> 2506</td>\n",
       "    </tr>\n",
       "    <tr>\n",
       "      <th>4</th>\n",
       "      <td> 2425</td>\n",
       "      <td> 2557</td>\n",
       "    </tr>\n",
       "  </tbody>\n",
       "</table>\n",
       "</div>"
      ],
      "text/plain": [
       "     v1    v2\n",
       "0  2290  2363\n",
       "1  2346  2025\n",
       "2  2140  2428\n",
       "3  2201  2506\n",
       "4  2425  2557"
      ]
     },
     "execution_count": 4,
     "metadata": {},
     "output_type": "execute_result"
    }
   ],
   "source": [
    "import pandas\n",
    "df = pandas.read_csv(\"facebook/1912.edges\", sep=\" \", names=[\"v1\",\"v2\"])\n",
    "print(df.shape)\n",
    "df.head()"
   ]
  },
  {
   "cell_type": "code",
   "execution_count": null,
   "metadata": {
    "collapsed": false
   },
   "outputs": [],
   "source": []
  }
 ],
 "metadata": {},
 "nbformat": 4,
 "nbformat_minor": 0
}