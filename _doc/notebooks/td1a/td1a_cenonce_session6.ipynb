{
 "cells": [
  {
   "cell_type": "markdown",
   "metadata": {},
   "source": [
    "# TD 6 : Classes, héritage"
   ]
  },
  {
   "cell_type": "markdown",
   "metadata": {},
   "source": [
    "_Cette séance est plus courte pour laisser la place à une interrogation écrite._\n",
    "\n",
    "Plan\n",
    "\n",
    "* [Héritage](#heri)\n",
    "* [Exercice 1 : pièce normale](#exo1)\n",
    "* [Exercice 2 : pièce truquée](#exo2)\n",
    "* [Utiliser les méthodes de la classe mère](#mere)\n",
    "* [Exercice 3 : pièce mixte](#exo3)\n",
    "* [Autre construction avec des fonctions](#func)\n",
    "* [Exercice 4 : pièce mixte avec des fonctions](#exo4)\n",
    "\n",
    "\n",
    "<h3 id=\"heri\">Qu'est-ce que l'héritage ?</h3>\n",
    "\n",
    "La séance précédente a montré comment fonctionnait une classe, comment elle s'écrivait. Cette séance est à propos de l'_héritage_ qui est une propriété des langages objets. Elle est utile par exemple lorsqu'on doit écrire plusieurs versions d'un même algorithme et qu'une petite partie seulement change d'une version à l'autre.\n",
    "\n",
    "Supposons que vous ayez un algorithme constitué de trois fonctions plus une dernière qui appelle les trois autres dans le bon ordre. On désire créer une version pour laquelle une des trois fonctions seulement est modifiée."
   ]
  },
  {
   "cell_type": "code",
   "execution_count": 1,
   "metadata": {
    "collapsed": false
   },
   "outputs": [
    {
     "name": "stdout",
     "output_type": "stream",
     "text": [
      "Version1.fonction1 0\n",
      "Version1.fonction2 0\n",
      "Version1.fonction3 0\n"
     ]
    }
   ],
   "source": [
    "class Version1 :\n",
    "    def __init__ (self, p) :\n",
    "        self.p = p\n",
    "    def fonction1 (self):\n",
    "        print(\"Version1.fonction1\", self.p)\n",
    "    def fonction2 (self):\n",
    "        print(\"Version1.fonction2\", self.p)\n",
    "    def fonction3 (self):\n",
    "        print(\"Version1.fonction3\", self.p)\n",
    "    def fonction_finale (self):\n",
    "        self.fonction1()\n",
    "        self.fonction2()\n",
    "        self.fonction3()\n",
    "        \n",
    "v = Version1(0)\n",
    "v.fonction_finale()"
   ]
  },
  {
   "cell_type": "markdown",
   "metadata": {},
   "source": [
    "On souhaite changer la fonction ``fonction2`` sans modifier la classe ``Version1`` et en écrivant le moins possible de code."
   ]
  },
  {
   "cell_type": "code",
   "execution_count": 2,
   "metadata": {
    "collapsed": false
   },
   "outputs": [
    {
     "name": "stdout",
     "output_type": "stream",
     "text": [
      "Version1.fonction1 0\n",
      "Version2.fonction2 1\n",
      "Version1.fonction3 0\n"
     ]
    }
   ],
   "source": [
    "class Version2(Version1):\n",
    "    def fonction2 (self):\n",
    "        print(\"Version2.fonction2\", self.p+1)\n",
    "\n",
    "v = Version2(0)\n",
    "v.fonction_finale()"
   ]
  },
  {
   "cell_type": "markdown",
   "metadata": {},
   "source": [
    "Le langage a compris qu'on avait changé une fonction et il s'en sert dans la seconde classe. Pour que cela fonctionne, il faut néanmoins respecter une contrainte essentielle : la fonction remplacée (ou surchargée) doit accepter les mêmes paramètres et retourner le même type de résultat. Cette contrainte n'est pas obligatoire en Python mais elle l'est dans la plupart des langages. Il est conseillé de la respecter.\n",
    "\n",
    "<h3 id=\"exo1\">Exercice 1 : pièce normale</h3>\n",
    "\n",
    "On créer une classe ``Piece`` qui contient deux méthodes : une méthode ``tirage_aleatoire`` et une méthode qui appelle la précédente pour faire une moyenne sur $n$ tirages."
   ]
  },
  {
   "cell_type": "code",
   "execution_count": null,
   "metadata": {
    "collapsed": false
   },
   "outputs": [],
   "source": [
    "import random\n",
    "class Piece :\n",
    "    def tirage_aleatoire(self, precedent) :\n",
    "        return random.randint(0,1)\n",
    "    def moyenne_tirage(self, n):\n",
    "        # ....\n",
    "        return ....\n",
    "\n",
    "p = Piece()\n",
    "print (p.moyenne_tirage(100))"
   ]
  },
  {
   "cell_type": "markdown",
   "metadata": {},
   "source": [
    "<h3 id=\"exo2\">Exercice 2 : pièce truquée</h3>\n",
    "\n",
    "Le paramètre ``precedent`` est inutile dans cette première version mais on suppose maintenant que le joueur qui joue est un tricheur. Lorsqu'il perd, il joue une pièce truquée le coup d'après pour laquelle la probabilité d'avoir 1 est de 0,7. On veut implémenter cela avec une classe ``PieceTruquee``."
   ]
  },
  {
   "cell_type": "code",
   "execution_count": null,
   "metadata": {
    "collapsed": false
   },
   "outputs": [],
   "source": [
    "import random\n",
    "class PieceTruquee(Piece) :\n",
    "    # ......\n",
    "    pass"
   ]
  },
  {
   "cell_type": "markdown",
   "metadata": {},
   "source": [
    "Pour choisir de faire telle ou telle avec une probabilité de 0,7, on peut écrire :"
   ]
  },
  {
   "cell_type": "code",
   "execution_count": null,
   "metadata": {
    "collapsed": false
   },
   "outputs": [],
   "source": [
    "import random\n",
    "if random.random() <= 0.7 :\n",
    "    # ... faire une chose avec la probabilité 0.7\n",
    "else :\n",
    "    # ... faire une autre chose avec la probabilité 0.3"
   ]
  },
  {
   "cell_type": "markdown",
   "metadata": {},
   "source": [
    "<h3 id=\"mere\">Utiliser des méthodes de la classe mère</h3>"
   ]
  },
  {
   "cell_type": "markdown",
   "metadata": {},
   "source": [
    "Lorsqu'on change une fonction, on a parfois juste d'un petit changement par rapport à la méthode précédente qu'il faut pouvoir appeler. Si on reprend l'exemple précédent, on modifie la méthode ``tirage_aleatoire`` pour retourner l'autre valeur :"
   ]
  },
  {
   "cell_type": "code",
   "execution_count": 7,
   "metadata": {
    "collapsed": false
   },
   "outputs": [
    {
     "data": {
      "text/plain": [
       "1"
      ]
     },
     "execution_count": 7,
     "metadata": {},
     "output_type": "execute_result"
    }
   ],
   "source": [
    "class PieceTruquee(Piece) :\n",
    "    def tirage_aleatoire(self, precedent) :\n",
    "        return 1 - Piece.tirage_aleatoire(self, precedent)\n",
    "p = PieceTruquee()\n",
    "p.tirage_aleatoire(0)    "
   ]
  },
  {
   "cell_type": "markdown",
   "metadata": {},
   "source": [
    "Une autre écriture possible est la suivante avec le mot-clé [super](https://docs.python.org/3.4/library/functions.html#super) :"
   ]
  },
  {
   "cell_type": "code",
   "execution_count": 8,
   "metadata": {
    "collapsed": false
   },
   "outputs": [
    {
     "data": {
      "text/plain": [
       "1"
      ]
     },
     "execution_count": 8,
     "metadata": {},
     "output_type": "execute_result"
    }
   ],
   "source": [
    "class PieceTruquee(Piece) :\n",
    "    def tirage_aleatoire(self, precedent) :\n",
    "        return 1 - super().tirage_aleatoire(precedent)\n",
    "p = PieceTruquee()\n",
    "p.tirage_aleatoire(0)"
   ]
  },
  {
   "cell_type": "markdown",
   "metadata": {},
   "source": [
    "<h3 id=\"exo3\">Exercice 3 : Pièce mixte</h3>\n",
    "\n",
    "Ecrire une classe ``PieceTruqueeMix`` qui appelle aléatoiremnt soit ``Piece.tirage_aleatoire`` soit  ``PieceTruquee.tirage_aleatoire``."
   ]
  },
  {
   "cell_type": "code",
   "execution_count": null,
   "metadata": {
    "collapsed": false
   },
   "outputs": [],
   "source": []
  },
  {
   "cell_type": "markdown",
   "metadata": {},
   "source": [
    "<h3 id=\"func\">Autre construction avec des fonctions</h3>\n",
    "\n",
    "La création de classe peut sembler fastidieuse. Une autre solution est l'utilisation de fonction comme paramètre d'une autre fonction :"
   ]
  },
  {
   "cell_type": "code",
   "execution_count": 11,
   "metadata": {
    "collapsed": false
   },
   "outputs": [
    {
     "name": "stdout",
     "output_type": "stream",
     "text": [
      "0.55\n",
      "0.59\n"
     ]
    }
   ],
   "source": [
    "def moyenne_tirage(n, fonction):\n",
    "    \"\"\"\n",
    "    cette fonction fait la moyenne des résultats produits par la fonction passée en argument\n",
    "    ce texte apparaît dès qu'on écrit help(moyenne_tirage) (ou moyenne_tirage? dans un notebook)\n",
    "    \"\"\"\n",
    "    tirage = [ ]\n",
    "    for i in range (n) :\n",
    "        precedent = tirage[-1] if i > 0 else None\n",
    "        tirage.append( fonction (precedent) )\n",
    "    s = sum(tirage)\n",
    "    return s * 1.0 / len(tirage)\n",
    "        \n",
    "print (moyenne_tirage(100, lambda v : random.randint(0,1) ))\n",
    "       \n",
    "def truquee (precedent) :\n",
    "    if precedent == None or precedent == 1 :\n",
    "        return random.randint(0,1)\n",
    "    else :\n",
    "        return 1 if random.randint(0,9) >= 3 else 0\n",
    "    \n",
    "print (moyenne_tirage(100, truquee ))"
   ]
  },
  {
   "cell_type": "markdown",
   "metadata": {},
   "source": [
    "<h3 id=\"exo4\">Exercice 4 : pièce mixte avec des fonctions</h3>\n",
    "\n",
    "Comment utiliser les fonctions dans le cas de la pièce ``PieceTruqueeMix`` ?"
   ]
  },
  {
   "cell_type": "code",
   "execution_count": null,
   "metadata": {
    "collapsed": false
   },
   "outputs": [],
   "source": []
  }
 ],
 "metadata": {},
 "nbformat": 4,
 "nbformat_minor": 0
}