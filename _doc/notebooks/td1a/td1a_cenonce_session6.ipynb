{
 "metadata": {
  "name": "",
  "signature": "sha256:fbdfb8a88064fc1e67fba44bf56c16c2dd6cabece2154a595e3be22dc502efa4"
 },
 "nbformat": 3,
 "nbformat_minor": 0,
 "worksheets": [
  {
   "cells": [
    {
     "cell_type": "heading",
     "level": 1,
     "metadata": {},
     "source": [
      "TD 6 : Classes, h\u00e9ritage"
     ]
    },
    {
     "cell_type": "markdown",
     "metadata": {},
     "source": [
      "_Cette s\u00e9ance est plus courte pour laisser la place \u00e0 une interrogation \u00e9crite._\n",
      "\n",
      "Plan\n",
      "\n",
      "* [H\u00e9ritage](#heri)\n",
      "* [Exercice 1 : pi\u00e8ce normale](#exo1)\n",
      "* [Exercice 2 : pi\u00e8ce truqu\u00e9e](#exo2)\n",
      "* [Utiliser les m\u00e9thodes de la classe m\u00e8re](#mere)\n",
      "* [Exercice 3 : pi\u00e8ce mixte](#exo3)\n",
      "* [Autre construction avec des fonctions](#func)\n",
      "* [Exercice 4 : pi\u00e8ce mixte avec des fonctions](#exo4)\n",
      "\n",
      "\n",
      "<h3 id=\"heri\">Qu'est-ce que l'h\u00e9ritage ?</h3>\n",
      "\n",
      "La s\u00e9ance pr\u00e9c\u00e9dente a montr\u00e9 comment fonctionnait une classe, comment elle s'\u00e9crivait. Cette s\u00e9ance est \u00e0 propos de l'_h\u00e9ritage_ qui est une propri\u00e9t\u00e9 des langages objets. Elle est utile par exemple lorsqu'on doit \u00e9crire plusieurs versions d'un m\u00eame algorithme et qu'une petite partie seulement change d'une version \u00e0 l'autre.\n",
      "\n",
      "Supposons que vous ayez un algorithme constitu\u00e9 de trois fonctions plus une derni\u00e8re qui appelle les trois autres dans le bon ordre. On d\u00e9sire cr\u00e9er une version pour laquelle une des trois fonctions seulement est modifi\u00e9e."
     ]
    },
    {
     "cell_type": "code",
     "collapsed": false,
     "input": [
      "class Version1 :\n",
      "    def __init__ (self, p) :\n",
      "        self.p = p\n",
      "    def fonction1 (self):\n",
      "        print(\"Version1.fonction1\", self.p)\n",
      "    def fonction2 (self):\n",
      "        print(\"Version1.fonction2\", self.p)\n",
      "    def fonction3 (self):\n",
      "        print(\"Version1.fonction3\", self.p)\n",
      "    def fonction_finale (self):\n",
      "        self.fonction1()\n",
      "        self.fonction2()\n",
      "        self.fonction3()\n",
      "        \n",
      "v = Version1(0)\n",
      "v.fonction_finale()"
     ],
     "language": "python",
     "metadata": {},
     "outputs": [
      {
       "output_type": "stream",
       "stream": "stdout",
       "text": [
        "Version1.fonction1 0\n",
        "Version1.fonction2 0\n",
        "Version1.fonction3 0\n"
       ]
      }
     ],
     "prompt_number": 1
    },
    {
     "cell_type": "markdown",
     "metadata": {},
     "source": [
      "On souhaite changer la fonction ``fonction2`` sans modifier la classe ``Version1`` et en \u00e9crivant le moins possible de code."
     ]
    },
    {
     "cell_type": "code",
     "collapsed": false,
     "input": [
      "class Version2(Version1):\n",
      "    def fonction2 (self):\n",
      "        print(\"Version2.fonction2\", self.p+1)\n",
      "\n",
      "v = Version2(0)\n",
      "v.fonction_finale()"
     ],
     "language": "python",
     "metadata": {},
     "outputs": [
      {
       "output_type": "stream",
       "stream": "stdout",
       "text": [
        "Version1.fonction1 0\n",
        "Version2.fonction2 1\n",
        "Version1.fonction3 0\n"
       ]
      }
     ],
     "prompt_number": 2
    },
    {
     "cell_type": "markdown",
     "metadata": {},
     "source": [
      "Le langage a compris qu'on avait chang\u00e9 une fonction et il s'en sert dans la seconde classe. Pour que cela fonctionne, il faut n\u00e9anmoins respecter une contrainte essentielle : la fonction remplac\u00e9e (ou surcharg\u00e9e) doit accepter les m\u00eames param\u00e8tres et retourner le m\u00eame type de r\u00e9sultat. Cette contrainte n'est pas obligatoire en Python mais elle l'est dans la plupart des langages. Il est conseill\u00e9 de la respecter.\n",
      "\n",
      "<h3 id=\"exo1\">Exercice 1 : pi\u00e8ce normale</h3>\n",
      "\n",
      "On cr\u00e9er une classe ``Piece`` qui contient deux m\u00e9thodes : une m\u00e9thode ``tirage_aleatoire`` et une m\u00e9thode qui appelle la pr\u00e9c\u00e9dente pour faire une moyenne sur $n$ tirages."
     ]
    },
    {
     "cell_type": "code",
     "collapsed": false,
     "input": [
      "import random\n",
      "class Piece :\n",
      "    def tirage_aleatoire(self, precedent) :\n",
      "        return random.randint(0,1)\n",
      "    def moyenne_tirage(self, n):\n",
      "        # ....\n",
      "        return \n",
      "\n",
      "p = Piece()\n",
      "print (p.moyenne_tirage(100))"
     ],
     "language": "python",
     "metadata": {},
     "outputs": [
      {
       "output_type": "stream",
       "stream": "stdout",
       "text": [
        "None\n"
       ]
      }
     ],
     "prompt_number": 4
    },
    {
     "cell_type": "markdown",
     "metadata": {},
     "source": [
      "<h3 id=\"exo2\">Exercice 2 : pi\u00e8ce truqu\u00e9e</h3>\n",
      "\n",
      "Le param\u00e8tre ``precedent`` est inutile dans cette premi\u00e8re version mais on suppose maintenant que le joueur qui joue est un tricheur. Lorsqu'il perd, il joue une pi\u00e8ce truqu\u00e9e le coup d'apr\u00e8s pour laquelle la probabilit\u00e9 d'avoir 1 est de 0,7. On veut impl\u00e9menter cela avec une classe ``PieceTruquee``."
     ]
    },
    {
     "cell_type": "code",
     "collapsed": false,
     "input": [
      "import random\n",
      "class PieceTruquee(Piece) :\n",
      "    # ...."
     ],
     "language": "python",
     "metadata": {},
     "outputs": []
    },
    {
     "cell_type": "markdown",
     "metadata": {},
     "source": [
      "Pour choisir de faire telle ou telle avec une probabilit\u00e9 de 0,7, on peut \u00e9crire :"
     ]
    },
    {
     "cell_type": "code",
     "collapsed": false,
     "input": [
      "import random\n",
      "if random.random() <= 0.7 :\n",
      "    # faire une chose avec la probabilit\u00e9 0.7\n",
      "else :\n",
      "    # faire une autre chose avec la probabilit\u00e9 0.3"
     ],
     "language": "python",
     "metadata": {},
     "outputs": []
    },
    {
     "cell_type": "markdown",
     "metadata": {},
     "source": [
      "<h3 id=\"mere\">Utiliser des m\u00e9thodes de la classe m\u00e8re</h3>"
     ]
    },
    {
     "cell_type": "markdown",
     "metadata": {},
     "source": [
      "Lorsqu'on change une fonction, on a parfois juste d'un petit changement par rapport \u00e0 la m\u00e9thode pr\u00e9c\u00e9dente qu'il faut pouvoir appeler. Si on reprend l'exemple pr\u00e9c\u00e9dent, on modifie la m\u00e9thode ``tirage_aleatoire`` pour retourner l'autre valeur :"
     ]
    },
    {
     "cell_type": "code",
     "collapsed": false,
     "input": [
      "class PieceTruquee(Piece) :\n",
      "    def tirage_aleatoire(self, precedent) :\n",
      "        return 1 - Piece.tirage_aleatoire(self, precedent)\n",
      "p = PieceTruquee()\n",
      "p.tirage_aleatoire(0)    "
     ],
     "language": "python",
     "metadata": {},
     "outputs": [
      {
       "metadata": {},
       "output_type": "pyout",
       "prompt_number": 7,
       "text": [
        "1"
       ]
      }
     ],
     "prompt_number": 7
    },
    {
     "cell_type": "markdown",
     "metadata": {},
     "source": [
      "Une autre \u00e9criture possible est la suivante avec le mot-cl\u00e9 [super](https://docs.python.org/3.4/library/functions.html#super) :"
     ]
    },
    {
     "cell_type": "code",
     "collapsed": false,
     "input": [
      "class PieceTruquee(Piece) :\n",
      "    def tirage_aleatoire(self, precedent) :\n",
      "        return 1 - super().tirage_aleatoire(precedent)\n",
      "p = PieceTruquee()\n",
      "p.tirage_aleatoire(0)"
     ],
     "language": "python",
     "metadata": {},
     "outputs": [
      {
       "metadata": {},
       "output_type": "pyout",
       "prompt_number": 8,
       "text": [
        "1"
       ]
      }
     ],
     "prompt_number": 8
    },
    {
     "cell_type": "markdown",
     "metadata": {},
     "source": [
      "<h3 id=\"exo3\">Exercice 3 : Pi\u00e8ce mixte</h3>\n",
      "\n",
      "Ecrire une classe ``PieceTruqueeMix`` qui appelle al\u00e9atoiremnt soit ``Piece.tirage_aleatoire`` soit  ``PieceTruquee.tirage_aleatoire``."
     ]
    },
    {
     "cell_type": "markdown",
     "metadata": {},
     "source": [
      "<h3 id=\"func\">Autre construction avec des fonctions</h3>\n",
      "\n",
      "La cr\u00e9ation de classe peut sembler fastidieuse. Une autre solution est l'utilisation de fonction comme param\u00e8tre d'une autre fonction :"
     ]
    },
    {
     "cell_type": "code",
     "collapsed": false,
     "input": [
      "def moyenne_tirage(n, fonction):\n",
      "    \"\"\"\n",
      "    cette fonction fait la moyenne des r\u00e9sultats produits par la fonction pass\u00e9e en argument\n",
      "    \"\"\"\n",
      "    tirage = [ ]\n",
      "    for i in range (n) :\n",
      "        precedent = tirage[-1] if i > 0 else None\n",
      "        tirage.append( fonction (precedent) )\n",
      "    s = sum(tirage)\n",
      "    return s * 1.0 / len(tirage)\n",
      "        \n",
      "print (moyenne_tirage(100, lambda v : random.randint(0,1) ))\n",
      "       \n",
      "def truquee (precedent) :\n",
      "    if precedent == None or precedent == 1 :\n",
      "        return random.randint(0,1)\n",
      "    else :\n",
      "        return 1 if random.randint(0,9) >= 3 else 0\n",
      "    \n",
      "print (moyenne_tirage(100, truquee ))"
     ],
     "language": "python",
     "metadata": {},
     "outputs": [
      {
       "output_type": "stream",
       "stream": "stdout",
       "text": [
        "0.55\n",
        "0.59\n"
       ]
      }
     ],
     "prompt_number": 11
    },
    {
     "cell_type": "markdown",
     "metadata": {},
     "source": [
      "<h3 id=\"exo4\">Exercice 4 : pi\u00e8ce mixte avec des fonctions</h3>\n",
      "\n",
      "Comment utiliser les fonctions dans le cas de la pi\u00e8ce ``PieceTruqueeMix`` ?"
     ]
    }
   ],
   "metadata": {}
  }
 ]
}