{
 "cells": [
  {
   "cell_type": "markdown",
   "metadata": {},
   "source": [
    "# TD 4 : Modules, fichiers, expressions régulières"
   ]
  },
  {
   "cell_type": "markdown",
   "metadata": {},
   "source": [
    "Plan\n",
    "\n",
    "- [Fichiers](#file)\n",
    "    - [Exercice 1 : Excel → Python → Excel](#exo1)\n",
    "- [Autres formats de fichiers](#format)\n",
    "- [Modules](#module)\n",
    "    - [Exercice 2 : trouver un module (1)](#exo2)\n",
    "    - [Exercice 3 : trouver un module (2)](#exo3)\n",
    "- [Module qu'on crée soi-même](#modulemy)\n",
    "    - [Exercice 4 : son propre module](#exo4)\n",
    "- [Expressions régulières](#reg)\n",
    "    - [Exercice 5 : chercher un motif dans un texte](#exo5)\n",
    "    - [Exercice 6 : chercher un autre motif dans un texte](#exo6)"
   ]
  },
  {
   "cell_type": "markdown",
   "metadata": {},
   "source": [
    "<h3 id=\"file\">Fichiers</h3>\n",
    "\n",
    "Les fichiers permettent deux usages principaux :\n",
    "\n",
    "- récupérer des données d'une exécution du programme à l'autre (lorsque le programme s'arrête, toutes les variables sont perdues)\n",
    "- échanger des informations avec d'autres programmes (Excel par exemple).\n",
    "\n",
    "Le format le plus souvent utilisé est le fichier plat, texte, txt, csv, tsv. C'est un fichier qui contient une information structurée sous forme de matrice, en ligne et colonne car c'est comme que les informations numériques se présentent le plus souvent. Un fichier est une longue séquence de caractères. Il a fallu choisir une convention pour dire que deux ensembles de caractères ne font pas partie de la même colonne ou de la même ligne. La convention la plus répandue est :\n",
    "\n",
    "* ``\\t`` : séparateur de colonnes\n",
    "* ``\\n`` : séparateur de lignes\n",
    "\n",
    "Le caractère ``\\`` indique au langage python que le caractère qui suit fait partie d'un code. Vous trouverez la liste des codes : [String and Bytes literals](https://docs.python.org/3.4/reference/lexical_analysis.html#string-and-bytes-literals).\n",
    "\n",
    "**Aparté :** aujourd'hui, lire et écrire des fichiers est tellement fréquent qu'il existe des outils qui font ça dans une grande variété de formats. Vous découvrirez cela lors de la [séance 10](http://www.xavierdupre.fr/app/ensae_teaching_cs/helpsphinx/notebooks/td1a_cenonce_session_10.html). Il est utile pourtant de le faire au moins une fois soi-même pour comprendre la logique des outils et pour ne pas être bloqué dans les cas non prévus.\n",
    "\n",
    "Ecrire et lire des fichiers est beaucoup plus long que de jouer avec des variables. Ecrire signifie qu'on enregistre les données sur le disque dur : elles passent du programme au disque dur (elles deviennent permanentes). Elles font le chemin inverse lors de la lecture.\n",
    "\n",
    "**Ecriture**\n",
    "\n",
    "Il est important de retenir qu'un fichier texte ne peut recevoir que des chaînes de caractères."
   ]
  },
  {
   "cell_type": "code",
   "execution_count": 1,
   "metadata": {
    "collapsed": false
   },
   "outputs": [
    {
     "name": "stdout",
     "output_type": "stream",
     "text": [
      "['mat.txt']\n"
     ]
    }
   ],
   "source": [
    "mat = [[1.0, 0.0],[0.0,1.0] ]                    # matrice de type liste de listes\n",
    "with open (\"mat.txt\", \"w\") as f :                # création d'un fichier\n",
    "    for i in range (0,len (mat)) :               # \n",
    "        for j in range (0, len (mat [i])) :      # \n",
    "            s = str (mat [i][j])                 # conversion en chaîne de caractères\n",
    "            f.write (s + \"\\t\")                   #\n",
    "        f.write (\"\\n\")                           # \n",
    "f.close()                                        # on indique que le fichier est complet et que d'autres peuvent l'utiliser\n",
    "        \n",
    "# on vérifie que le fichier existe : \n",
    "import os\n",
    "print([ _ for _ in os.listdir(\".\") if \"mat\" in _ ] )"
   ]
  },
  {
   "cell_type": "markdown",
   "metadata": {},
   "source": [
    "Le même programme mais écrit avec une écriture consendée :"
   ]
  },
  {
   "cell_type": "code",
   "execution_count": 15,
   "metadata": {
    "collapsed": false
   },
   "outputs": [
    {
     "name": "stdout",
     "output_type": "stream",
     "text": [
      "['mat.txt', 'mat2.txt']\n"
     ]
    }
   ],
   "source": [
    "mat = [[1.0, 0.0],[0.0,1.0] ]             # matrice de type liste de listes\n",
    "with open (\"mat.txt\", \"w\") as f :        # création d'un fichier\n",
    "    s = '\\n'.join ( '\\t'.join( str(x) for x in row  ) for row in mat )\n",
    "    f.write ( s )\n",
    "    \n",
    "# on vérifie que le fichier existe : \n",
    "print([ _ for _ in os.listdir(\".\") if \"mat\" in _ ] )    "
   ]
  },
  {
   "cell_type": "markdown",
   "metadata": {},
   "source": [
    "On regare les premières lignes du fichier ``mat2.txt`` :"
   ]
  },
  {
   "cell_type": "code",
   "execution_count": 16,
   "metadata": {
    "collapsed": false
   },
   "outputs": [
    {
     "data": {
      "text/html": [
       "<pre>\n",
       "1.0\t0.0\n",
       "0.0\t1.0\n",
       "</pre>"
      ],
      "text/plain": [
       "<IPython.core.display.HTML at 0x87e49b0>"
      ]
     },
     "execution_count": 16,
     "metadata": {},
     "output_type": "execute_result"
    }
   ],
   "source": [
    "import pyensae\n",
    "%head mat.txt"
   ]
  },
  {
   "cell_type": "markdown",
   "metadata": {},
   "source": [
    "**Lecture**"
   ]
  },
  {
   "cell_type": "code",
   "execution_count": 18,
   "metadata": {
    "collapsed": false
   },
   "outputs": [
    {
     "name": "stdout",
     "output_type": "stream",
     "text": [
      "[['1.0', '0.0'], ['0.0', '1.0']]\n"
     ]
    }
   ],
   "source": [
    "with open (\"mat.txt\", \"r\") as f : # ouverture d'un fichier\n",
    "    mat = [ row.strip(' \\n').split('\\t') for row in f.readlines() ]\n",
    "print(mat)"
   ]
  },
  {
   "cell_type": "markdown",
   "metadata": {},
   "source": [
    "On retrouve les mêmes informations à ceci près qu'il ne faut pas oublier de convertir les nombres initiaux en ``float``."
   ]
  },
  {
   "cell_type": "code",
   "execution_count": 19,
   "metadata": {
    "collapsed": false
   },
   "outputs": [
    {
     "name": "stdout",
     "output_type": "stream",
     "text": [
      "[[1.0, 0.0], [0.0, 1.0]]\n"
     ]
    }
   ],
   "source": [
    "with open (\"mat.txt\", \"r\") as f :                # ouverture d'un fichier\n",
    "    mat = [ [ float(x) for x in row.strip(' \\n').split('\\t') ] for row in f.readlines() ]\n",
    "print(mat)"
   ]
  },
  {
   "cell_type": "markdown",
   "metadata": {},
   "source": [
    "Voilà qui est mieux. Le module [os.path](https://docs.python.org/3.4/library/os.path.html) propose différentes fonctions pour manipuler les noms de fichiers. Le module [os](http://docs.python.org/3.3/library/os.html#module-os) propose différentes fonctions pour manipuler les fichiers :"
   ]
  },
  {
   "cell_type": "code",
   "execution_count": 5,
   "metadata": {
    "collapsed": false
   },
   "outputs": [
    {
     "name": "stdout",
     "output_type": "stream",
     "text": [
      ".ipynb_checkpoints\n",
      "etatcivil2012_mar2012_dbase.zip\n",
      "etatcivil2012_nais2012_dbase.zip\n",
      "example_bokeh.html\n",
      "exemple.xlsx\n",
      "facebook\n",
      "facebook.tar.gz\n",
      "graph_notebook_ski.png\n",
      "lisezmoi_MAR2012.txt\n",
      "lisezmoi_NAIS2012.txt\n",
      "mar2012.dbf\n",
      "mat.txt\n",
      "mat2.txt\n",
      "nais2012.dbf\n",
      "patates.png\n",
      "pngbokeh.png\n",
      "python_filtre.png\n",
      "python_filtre2.png\n",
      "python_filtre3.png\n",
      "td10exc.png\n",
      "td11_cor_grid.png\n",
      "td1a_cenonce_session1.ipynb\n",
      "td1a_cenonce_session2.ipynb\n",
      "td1a_cenonce_session3.ipynb\n",
      "td1a_cenonce_session4.ipynb\n",
      "td1a_cenonce_session5.ipynb\n",
      "td1a_cenonce_session6.ipynb\n",
      "td1a_cenonce_session7.ipynb\n",
      "td1a_cenonce_session8.ipynb\n",
      "td1a_cenonce_session9.ipynb\n",
      "td1a_cenonce_session_10.ipynb\n",
      "td1a_cenonce_session_11.ipynb\n",
      "td1a_cenonce_session_12.ipynb\n",
      "td1a_correction_session1.ipynb\n",
      "td1a_correction_session2.ipynb\n",
      "td1a_correction_session3.ipynb\n",
      "td1a_correction_session4.ipynb\n",
      "td1a_correction_session5.ipynb\n",
      "td1a_correction_session6.ipynb\n",
      "td1a_correction_session7.ipynb\n",
      "td1a_correction_session8.ipynb\n",
      "td1a_correction_session9.ipynb\n",
      "td1a_correction_session_10.ipynb\n",
      "td1a_correction_session_11.ipynb\n",
      "td1a_correction_session_12.ipynb\n",
      "td2_1.png\n",
      "varlist_mariages.dbf\n",
      "varlist_naissances.dbf\n",
      "varmod_mariages.dbf\n",
      "varmod_naissances.dbf\n",
      "wiki_trie.png\n",
      "wiki_trie2.png\n"
     ]
    }
   ],
   "source": [
    "import os\n",
    "for f in os.listdir('.'):\n",
    "    print (f)"
   ]
  },
  {
   "cell_type": "markdown",
   "metadata": {},
   "source": [
    "<h3 id=\"exo1\">Exercice 1 : Excel $\\rightarrow$ Python $\\rightarrow$ Excel</h3>\n",
    "    \n",
    "Il faut télécharger le fichier [seance4_excel.xlsx](http://www.xavierdupre.fr/enseignement/complements/seance4_excel.xlsx) qui contient une table de trois colonnes. Il faut :\n",
    "\n",
    "- enregistrer le fichier au format texte,\n",
    "- le lire sous python\n",
    "- créer une matrice carrée 3x3 où chaque valeur est dans sa case (X,Y),\n",
    "- enregistrer le résultat sous format texte,\n",
    "- le récupérer sous Excel.    "
   ]
  },
  {
   "cell_type": "markdown",
   "metadata": {},
   "source": [
    "<h3 id=\"format\">Autres formats de fichiers</h3>\n",
    "\n",
    "Les fichiers texte sont les plus simples à manipuler mais il existe d'autres formats classiques~:\n",
    "\n",
    "- [html](http://fr.wikipedia.org/wiki/Hypertext_Markup_Language) : les pages web\n",
    "- [xml](http://fr.wikipedia.org/wiki/Extensible_Markup_Language) : données structurées\n",
    "- [zip](http://fr.wikipedia.org/wiki/ZIP_(format_de_fichier), [gz](http://fr.wikipedia.org/wiki/Gzip) : données compressées\n",
    "- [wav](http://fr.wikipedia.org/wiki/WAVEform_audio_format), [mp3](http://fr.wikipedia.org/wiki/MPEG-1/2_Audio_Layer_3), [ogg](http://fr.wikipedia.org/wiki/Ogg) : musique\n",
    "- [mp4](http://fr.wikipedia.org/wiki/MPEG-4), [Vorbis](http://fr.wikipedia.org/wiki/Vorbis) : vidéo\n",
    "- ..."
   ]
  },
  {
   "cell_type": "markdown",
   "metadata": {},
   "source": [
    "<h3 id=\"module\">Modules</h3>\n",
    "\n",
    "Les modules sont des extensions du langages. Python ne sait quasiment rien faire seul mais il bénéficie de nombreuses extensions. On distingue souvent les extensions présentes lors de l'installation du langage (le module [math](https://docs.python.org/3.4/library/math.html)) des extensions externes qu'il faut soi-même installer ([numpy](http://www.numpy.org/)). Deux liens :\n",
    "\n",
    "- [modules officiels](http://docs.python.org/3.4/library/)\n",
    "- [modules externes](https://pypi.python.org/pypi)\n",
    "\n",
    "Le premier réflexe est toujours de regarder si un module ne pourrait pas vous être utile avant de commencer à programmer. Pour utiliser une fonction d'un module, on utilise l'une des syntaxes suivantes :"
   ]
  },
  {
   "cell_type": "code",
   "execution_count": 6,
   "metadata": {
    "collapsed": false
   },
   "outputs": [
    {
     "name": "stdout",
     "output_type": "stream",
     "text": [
      "0.5403023058681397\n",
      "0.5403023058681397\n",
      "0.5403023058681397\n"
     ]
    }
   ],
   "source": [
    "import math\n",
    "print (math.cos(1))\n",
    "\n",
    "from math import cos\n",
    "print (cos(1))\n",
    "\n",
    "from math import *    # cette syntaxe est déconseillée car il est possible qu'une fonction\n",
    "print (cos(1))        # porte le même nom qu'une des vôtres"
   ]
  },
  {
   "cell_type": "markdown",
   "metadata": {},
   "source": [
    "<h3 id=\"exo2\">Exercice 2 : trouver un module (1)</h3>\n",
    "\n",
    "Aller à la page [modules officiels](http://docs.python.org/3.4/library/) (ou utiliser un moteur de recherche) pour trouver un module permettant de générer des nombres aléatoires. Créer une liste de nombres aléatoires selon une loi uniforme puis faire une permutation aléatoire de cette séquence."
   ]
  },
  {
   "cell_type": "markdown",
   "metadata": {},
   "source": [
    "<h3 id=\"exo3\">Exercice 3 : trouver un module (2)</h3>\n",
    "\n",
    "Trouver un module qui vous permette de calculer la différence entre deux dates puis déterminer le jour de la semaine où vous êtes nés."
   ]
  },
  {
   "cell_type": "markdown",
   "metadata": {},
   "source": [
    "<h3 id=\"modulemy\">Module qu'on crée soi-même</h3>\n",
    "\n",
    "Il est possible de répartir son programme en plusieurs fichiers. Par exemple, un premier fichier ``monmodule.py`` qui contient une fonction :"
   ]
  },
  {
   "cell_type": "code",
   "execution_count": 1,
   "metadata": {
    "collapsed": false
   },
   "outputs": [],
   "source": [
    "# fichier monmodule.py\n",
    "import math\n",
    "\n",
    "def fonction_cos_sequence(seq) :\n",
    "    return [ math.cos(x) for x in seq ]\n",
    "\n",
    "if __name__ == \"__main__\" :\n",
    "    # et une petite astuce quand on travaille sous notebook\n",
    "    code = \"\"\"\n",
    "        # -*- coding: utf-8 -*-\n",
    "        import math\n",
    "        def fonction_cos_sequence(seq) :\n",
    "            return [ math.cos(x) for x in seq ]        \n",
    "        if __name__ == \"__main__\" :\n",
    "            print (\"ce message n'apparaît que si ce programme est le point d'entrée\")\n",
    "        \"\"\".replace(\"        \",\"\")\n",
    "    with open(\"monmodule.py\", \"w\", encoding=\"utf8\") as f : f.write(code)"
   ]
  },
  {
   "cell_type": "markdown",
   "metadata": {},
   "source": [
    "Le second fichier :"
   ]
  },
  {
   "cell_type": "code",
   "execution_count": 2,
   "metadata": {
    "collapsed": false
   },
   "outputs": [
    {
     "name": "stdout",
     "output_type": "stream",
     "text": [
      "[0.5403023058681397, -0.4161468365471424, -0.9899924966004454]\n"
     ]
    }
   ],
   "source": [
    "import monmodule\n",
    "\n",
    "print ( monmodule.fonction_cos_sequence ( [ 1, 2, 3 ] ) )"
   ]
  },
  {
   "cell_type": "markdown",
   "metadata": {},
   "source": [
    "<h3 id=\"exo4\">Exercice 4 : son propre module</h3>\n",
    "\n",
    "Que se passe-t-il si vous remplacez ``if __name__ == \"__main__\":``  par ``if True :`` ?"
   ]
  },
  {
   "cell_type": "markdown",
   "metadata": {},
   "source": [
    "<h3 id=\"reg\">Expressions régulières</h3>\n",
    "\n",
    "Pour la suite de la séance, on utilise comme préambule les instructions suivantes :"
   ]
  },
  {
   "cell_type": "code",
   "execution_count": 10,
   "metadata": {
    "collapsed": false
   },
   "outputs": [
    {
     "name": "stdout",
     "output_type": "stream",
     "text": [
      "    downloading of  http://www.xavierdupre.fr/enseignement/complements/voeux.zip  to  voeux.zip\n",
      "    unzipped "
     ]
    },
    {
     "name": "stdout",
     "output_type": "stream",
     "text": [
      " VOEUX01.txt  to  .\\VOEUX01.txt\n",
      "    unzipped  VOEUX05.txt  to  .\\VOEUX05.txt\n",
      "    unzipped  VOEUX06.txt  to  .\\VOEUX06.txt\n",
      "    unzipped  VOEUX07.txt  to  .\\VOEUX07.txt\n",
      "    unzipped "
     ]
    },
    {
     "name": "stdout",
     "output_type": "stream",
     "text": [
      " VOEUX08.txt  to  .\\VOEUX08.txt\n",
      "    unzipped  VOEUX09.txt  to  .\\VOEUX09.txt\n",
      "    unzipped  VOEUX74.txt  to  .\\VOEUX74.txt\n",
      "    unzipped  VOEUX75.txt  to  .\\VOEUX75.txt\n",
      "    unzipped "
     ]
    },
    {
     "name": "stdout",
     "output_type": "stream",
     "text": [
      " VOEUX79.txt  to  .\\VOEUX79.txt\n",
      "    unzipped  VOEUX83.txt  to  .\\VOEUX83.txt\n",
      "    unzipped  VOEUX87.txt  to  .\\VOEUX87.txt\n",
      "    unzipped  VOEUX89.txt  to  .\\VOEUX89.txt\n",
      "    unzipped  VOEUX90.txt  to  .\\VOEUX90.txt\n",
      "    unzipped  VOEUX94.txt  to  .\\VOEUX94.txt\n"
     ]
    }
   ],
   "source": [
    "import pyensae\n",
    "discours = pyensae.download_data('voeux.zip', website = 'xd')"
   ]
  },
  {
   "cell_type": "markdown",
   "metadata": {},
   "source": [
    "La documentation pour les expressions régulières est ici : [regular expressions](http://docs.python.org/3.3/library/re.html). Elles permettent de rechercher des motifs dans un texte :\n",
    "\n",
    "- _4 chiffres / 2 chiffres / 2 chiffres_ correspond au motif des dates, avec une expression régulière, il s'écrit : ``[0-9]{4}/[0-9]{2}/[0-9]{2}``\n",
    "- _la lettre a répété entre 2 et 10 fois_ est un autre motif, il s'écrit : ``a{2,10}``."
   ]
  },
  {
   "cell_type": "code",
   "execution_count": 11,
   "metadata": {
    "collapsed": false
   },
   "outputs": [
    {
     "name": "stdout",
     "output_type": "stream",
     "text": [
      "['28/12/1903', '08/02/1957']\n"
     ]
    }
   ],
   "source": [
    "import re   # les expressions régulières sont accessibles via le module re\n",
    "expression = re.compile(\"[0-9]{2}/[0-9]{2}/[0-9]{4}\")\n",
    "texte = \"\"\"Je suis né le 28/12/1903 et je suis mort le 08/02/1957. Ma seconde femme est morte le 10/11/63.\"\"\"\n",
    "cherche = expression.findall(texte)\n",
    "print(cherche)"
   ]
  },
  {
   "cell_type": "markdown",
   "metadata": {},
   "source": [
    "Pourquoi la troisième date n'apparaît pas dans la liste de résultats ?"
   ]
  },
  {
   "cell_type": "markdown",
   "metadata": {},
   "source": [
    "<h3 id=\"exo5\">Exercice 5 : chercher un motif dans un texte</h3>\n",
    "\n",
    "On souhaite obtenir toutes les séquences de lettres commençant par _je_ ? Quel est le motif correspondant ? Il ne reste plus qu'à terminer le programme précédent."
   ]
  },
  {
   "cell_type": "code",
   "execution_count": 11,
   "metadata": {
    "collapsed": false
   },
   "outputs": [],
   "source": []
  },
  {
   "cell_type": "markdown",
   "metadata": {},
   "source": [
    "<h3 id=\"exo6\">Exercice 6 : chercher un autre motif dans un texte</h3>\n",
    "\n",
    "Avec la même expression régulière, rechercher indifféremment le mot _securite_ ou _insecurite_."
   ]
  },
  {
   "cell_type": "code",
   "execution_count": 11,
   "metadata": {
    "collapsed": false
   },
   "outputs": [],
   "source": []
  },
  {
   "cell_type": "markdown",
   "metadata": {},
   "source": [
    "On peut passer du temps à construire des expressions assez complexes surtout quand on oublie quelques [Petites subtilités avec les expressions régulières en Python](http://www.xavierdupre.fr/blog/2014-12-02_nojs.html)."
   ]
  },
  {
   "cell_type": "code",
   "execution_count": 11,
   "metadata": {
    "collapsed": false
   },
   "outputs": [],
   "source": []
  }
 ],
 "metadata": {},
 "nbformat": 4,
 "nbformat_minor": 0
}