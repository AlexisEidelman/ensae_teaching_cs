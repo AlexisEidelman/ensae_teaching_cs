{
 "cells": [
  {
   "cell_type": "markdown",
   "metadata": {},
   "source": [
    "# TD 8 : Arbre et Trie"
   ]
  },
  {
   "cell_type": "markdown",
   "metadata": {},
   "source": [
    "Plan\n",
    "\n",
    "* [Construction d'une liste aléatoire](#alea)\n",
    "    * [Exercice 1](#exo1)\n",
    "    * [Exercice 2](#exo2)\n",
    "* [Recherche dichotomique](#dicho)\n",
    "    * [Exercice 3](#exo3)\n",
    "    * [Exercice 4](#exo4)\n",
    "* [Trie](#trie)\n",
    "    * [Exercice 5](#exo5)\n",
    "* [Recherche dans un trie](#triec)    \n",
    "    * [Exercice 6](#exo6)\n",
    "    * [Exercice 7](#exo7)\n",
    "* [Plus en détails](#plus)    \n",
    "    \n",
    "\n",
    "<h2 id=\"alea\">Construction d'une liste aléatoire</h2>\n",
    "<h3 id=\"exo1\">Exercice 1</h3>\n"
   ]
  },
  {
   "cell_type": "code",
   "execution_count": 2,
   "metadata": {
    "collapsed": false
   },
   "outputs": [
    {
     "name": "stdout",
     "output_type": "stream",
     "text": [
      "10000\n"
     ]
    }
   ],
   "source": [
    "import random\n",
    "def mot_alea (l) :\n",
    "    l = [ chr(97+random.randint(0,25)) for i in range(l) ]\n",
    "    return \"\".join(l)\n",
    "\n",
    "taille  = 20\n",
    "N       = 10000\n",
    "mots    = [ mot_alea(taille) for _ in range (N) ]\n",
    "print(len(mots))"
   ]
  },
  {
   "cell_type": "markdown",
   "metadata": {},
   "source": [
    "<h3 id=\"exo2\">Exercice 2</h3>"
   ]
  },
  {
   "cell_type": "code",
   "execution_count": 3,
   "metadata": {
    "collapsed": false
   },
   "outputs": [
    {
     "name": "stdout",
     "output_type": "stream",
     "text": [
      "recherche simple 1.5386846000127434\n"
     ]
    }
   ],
   "source": [
    "import time\n",
    "debut = time.clock()\n",
    "for k in mots :\n",
    "    i = mots.index(k)\n",
    "fin = time.clock()\n",
    "print (\"recherche simple\",fin - debut)"
   ]
  },
  {
   "cell_type": "markdown",
   "metadata": {},
   "source": [
    "Avec ``%timeit`` :"
   ]
  },
  {
   "cell_type": "code",
   "execution_count": 4,
   "metadata": {
    "collapsed": false
   },
   "outputs": [
    {
     "name": "stdout",
     "output_type": "stream",
     "text": [
      "1 loops, best of 3: 1.42 s per loop\n"
     ]
    }
   ],
   "source": [
    "%timeit for k in mots : i = mots.index(k)"
   ]
  },
  {
   "cell_type": "markdown",
   "metadata": {},
   "source": [
    "<h2 id=\"dicho\">Recherche dichotomique</h2>\n",
    "\n",
    "<h3 id=\"exo3\">Exercice 3</h3>\n"
   ]
  },
  {
   "cell_type": "code",
   "execution_count": 5,
   "metadata": {
    "collapsed": false
   },
   "outputs": [
    {
     "name": "stdout",
     "output_type": "stream",
     "text": [
      "dichotomie 0.11440034518783193\n"
     ]
    }
   ],
   "source": [
    "def dicho (mots, x) :\n",
    "    a = 0\n",
    "    b = len(mots)-1\n",
    "    while a < b :\n",
    "        m = (a+b)//2\n",
    "        t = mots[m] \n",
    "        if t < x : \n",
    "            b = m-1 \n",
    "        elif t == x :\n",
    "            return m\n",
    "        else :\n",
    "            a = m+1\n",
    "    return a\n",
    "\n",
    "mots.sort()\n",
    "\n",
    "debut = time.clock()\n",
    "for k in mots :\n",
    "    i = dicho(mots, k)\n",
    "fin = time.clock()\n",
    "print (\"dichotomie\",fin - debut)"
   ]
  },
  {
   "cell_type": "code",
   "execution_count": 6,
   "metadata": {
    "collapsed": false
   },
   "outputs": [
    {
     "name": "stdout",
     "output_type": "stream",
     "text": [
      "10 loops, best of 3: 65.8 ms per loop\n"
     ]
    }
   ],
   "source": [
    "%timeit for k in mots : i = dicho(mots, k)"
   ]
  },
  {
   "cell_type": "markdown",
   "metadata": {},
   "source": [
    "<h3 id=\"exo4\">Exercice 4</h3>\n"
   ]
  },
  {
   "cell_type": "code",
   "execution_count": 8,
   "metadata": {
    "collapsed": false
   },
   "outputs": [
    {
     "name": "stdout",
     "output_type": "stream",
     "text": [
      "10 simple 0.0008582659521323421 dicho 0.002135615428443316 ratio 0.40188225871637656  ratio théorique  0.1003433318879937\n",
      "100 simple 0.002305814655613858 dicho 0.0038175087964873455 ratio 0.6040103058139742  ratio théorique  0.5017166594399687\n",
      "1000"
     ]
    },
    {
     "name": "stdout",
     "output_type": "stream",
     "text": [
      " simple 0.019075997803668088 dicho 0.005086733184072045 ratio 3.7501471206314223  ratio théorique  3.3447777295997914\n",
      "10000"
     ]
    },
    {
     "name": "stdout",
     "output_type": "stream",
     "text": [
      " simple 0.1779432920122872 dicho 0.006568492787494051 ratio 27.090429687473925  ratio théorique  25.085832971998425\n",
      "100000"
     ]
    },
    {
     "name": "stdout",
     "output_type": "stream",
     "text": [
      " simple 5.5287581101214585 dicho 0.009310496417270997 ratio 593.8199063011932  ratio théorique  200.68666377598748\n"
     ]
    }
   ],
   "source": [
    "import math\n",
    "\n",
    "for N in [10, 100, 1000, 10000, 100000] :\n",
    "    mots    = [ mot_alea(taille) for _ in range (N) ]\n",
    "    tolook  = [ mots[ random.randint(0,len(mots)-1) ] for i in range(0,1000) ]\n",
    "    mots.sort()\n",
    "    \n",
    "    debut = time.clock()\n",
    "    for k in tolook :\n",
    "        i = mots.index(k)\n",
    "    fin = time.clock()    \n",
    "    ds = fin-debut\n",
    "    \n",
    "    debut = time.clock()\n",
    "    for k in tolook :\n",
    "        i = dicho(mots, k)\n",
    "    fin = time.clock()    \n",
    "    dd = fin-debut\n",
    "    \n",
    "    print(N, \"simple\",ds, \"dicho\",dd, \"ratio\", ds / dd, \" ratio théorique \", len(mots)/math.log(len(mots)) * math.log(2)/30)"
   ]
  },
  {
   "cell_type": "code",
   "execution_count": 12,
   "metadata": {
    "collapsed": false
   },
   "outputs": [
    {
     "name": "stdout",
     "output_type": "stream",
     "text": [
      "N= 10\n",
      "1000 loops, best of 3: 402 µs per loop"
     ]
    },
    {
     "name": "stdout",
     "output_type": "stream",
     "text": [
      "\n",
      "1000 loops, best of 3: 1.61 ms per loop"
     ]
    },
    {
     "name": "stdout",
     "output_type": "stream",
     "text": [
      "\n",
      "N= 100\n",
      "100 loops, best of 3: 1.99 ms per loop"
     ]
    },
    {
     "name": "stdout",
     "output_type": "stream",
     "text": [
      "\n",
      "100 loops, best of 3: 3.12 ms per loop"
     ]
    },
    {
     "name": "stdout",
     "output_type": "stream",
     "text": [
      "\n",
      "N= 1000\n",
      "100 loops, best of 3: 17.4 ms per loop"
     ]
    },
    {
     "name": "stdout",
     "output_type": "stream",
     "text": [
      "\n",
      "100 loops, best of 3: 4.83 ms per loop"
     ]
    },
    {
     "name": "stdout",
     "output_type": "stream",
     "text": [
      "\n",
      "N= 10000\n",
      "10 loops, best of 3: 186 ms per loop"
     ]
    },
    {
     "name": "stdout",
     "output_type": "stream",
     "text": [
      "\n",
      "100 loops, best of 3: 6.59 ms per loop"
     ]
    },
    {
     "name": "stdout",
     "output_type": "stream",
     "text": [
      "\n",
      "N= 100000\n",
      "1 loops, best of 3: 5.5 s per loop"
     ]
    },
    {
     "name": "stdout",
     "output_type": "stream",
     "text": [
      "\n",
      "100 loops, best of 3: 8.43 ms per loop"
     ]
    },
    {
     "name": "stdout",
     "output_type": "stream",
     "text": [
      "\n"
     ]
    }
   ],
   "source": [
    "for N in [10, 100, 1000, 10000, 100000] :\n",
    "    print(\"N=\",N)\n",
    "    mots    = [ mot_alea(taille) for _ in range (N) ]\n",
    "    tolook  = [ mots[ random.randint(0,len(mots)-1) ] for i in range(0,1000) ]\n",
    "    mots.sort()\n",
    "    \n",
    "    %timeit for k in tolook : i = mots.index(k)\n",
    "    %timeit for k in tolook : i = dicho(mots, k)"
   ]
  },
  {
   "cell_type": "markdown",
   "metadata": {},
   "source": [
    "Soit $N$ le nombre de mots dans la liste :\n",
    "\n",
    "* coût de la recherche simple : $O(N)$ \n",
    "* coût de la recherche dichotomique : $O(\\ln N)$ \n",
    "\n",
    "Le ratio $N/\\ln N$ mesuré en pratique devrait être sensiblement égal au ratio théorique à un facteur multiplication près. Le trie du tableau qui précède la recherche dichotomique n'est pas pris en compte. Plus on effectue de recherche, plus son coût devient marginal. Ce coût explique néanmoins pourquoi on ne fait pas toujours une recherche dichotomique."
   ]
  },
  {
   "cell_type": "markdown",
   "metadata": {},
   "source": [
    "<h2 id=\"trie\">Trie</h2>\n",
    "<h3 id=\"exo5\">Exercice 5</h3>\n"
   ]
  },
  {
   "cell_type": "code",
   "execution_count": 8,
   "metadata": {
    "collapsed": false
   },
   "outputs": [
    {
     "name": "stdout",
     "output_type": "stream",
     "text": [
      "{'a': {'a': {'a': {}, 'b': {}}, 'b': {'a': {}}}, 'b': {'a': {'a': {}, 'b': {}}, 'b': {'a': {}, 'b': {}}}}\n"
     ]
    }
   ],
   "source": [
    "def build_trie(mots) :\n",
    "    trie = { }\n",
    "    for m in mots :\n",
    "        r = trie\n",
    "        for c in m :\n",
    "            if c not in r : r[c] = { }\n",
    "            r = r[c]\n",
    "    return trie\n",
    "\n",
    "mots = [ \"aaa\", \"aba\", \"aab\", \"baa\", \"bbb\", \"bba\", \"bab\" ]\n",
    "\n",
    "trie = build_trie(mots)\n",
    "print(trie)"
   ]
  },
  {
   "cell_type": "markdown",
   "metadata": {},
   "source": [
    "Quelques explications supplémentaires concernant cette correction :\n",
    "\n",
    "* [Question à propos de trie](http://www.xavierdupre.fr/app/ensae_teaching_cs/helpsphinx/questions/question_2014.html#question-a-propos-de-trie)"
   ]
  },
  {
   "cell_type": "markdown",
   "metadata": {},
   "source": [
    "<h2 id=\"triec\">Recherche dans un trie</h2>\n",
    "\n",
    "<h3 id=\"exo6\">Exercice 6</h3>\n",
    "\n"
   ]
  },
  {
   "cell_type": "code",
   "execution_count": 9,
   "metadata": {
    "collapsed": false
   },
   "outputs": [
    {
     "name": "stdout",
     "output_type": "stream",
     "text": [
      "aaa True\n",
      "aba True\n",
      "aab True\n",
      "baa True\n",
      "bbb True\n",
      "bba True\n",
      "bab True\n",
      "bcc False\n"
     ]
    }
   ],
   "source": [
    "def lookup(trie, m) :\n",
    "    r = trie\n",
    "    for c in m :\n",
    "        if c in r :\n",
    "            r = r[c]\n",
    "        else :\n",
    "            return False\n",
    "    return True\n",
    "\n",
    "for k in mots :\n",
    "    print(k, lookup(trie, k))\n",
    "print(\"bcc\", lookup(trie, \"bcc\"))    "
   ]
  },
  {
   "cell_type": "markdown",
   "metadata": {},
   "source": [
    "Pour illustrer la structure d'arbre du trie, on l'affiche avec la fonction suivante : "
   ]
  },
  {
   "cell_type": "code",
   "execution_count": 17,
   "metadata": {
    "collapsed": false
   },
   "outputs": [
    {
     "name": "stdout",
     "output_type": "stream",
     "text": [
      "a\n",
      "  a\n",
      "    a\n",
      "    b\n",
      "  b\n",
      "    a\n",
      "b\n",
      "  a\n",
      "    a\n",
      "    b\n",
      "  b\n",
      "    a\n",
      "    b\n"
     ]
    }
   ],
   "source": [
    "def print_trie(trie, niveau = 0):\n",
    "    for k,v in sorted(trie.items()):\n",
    "        print(\"  \" * niveau + k)\n",
    "        if len(v) > 0 :\n",
    "            print_trie(v, niveau+1)\n",
    "print_trie(trie)"
   ]
  },
  {
   "cell_type": "markdown",
   "metadata": {},
   "source": [
    "Il reste un inconvénient à cette représentation. Si on construire le trie pour le mot ``[\"aaa\"]`` ou les mots ``[\"aa\",\"aaa]\"``, on obtient le même trie :"
   ]
  },
  {
   "cell_type": "code",
   "execution_count": 18,
   "metadata": {
    "collapsed": false
   },
   "outputs": [
    {
     "name": "stdout",
     "output_type": "stream",
     "text": [
      "a\n",
      "  a\n",
      "    a\n"
     ]
    }
   ],
   "source": [
    "print_trie (build_trie( [\"aaa\"]) )"
   ]
  },
  {
   "cell_type": "code",
   "execution_count": 19,
   "metadata": {
    "collapsed": false
   },
   "outputs": [
    {
     "name": "stdout",
     "output_type": "stream",
     "text": [
      "a\n",
      "  a\n",
      "    a\n"
     ]
    }
   ],
   "source": [
    "print_trie (build_trie( [\"aaa\", \"aa\"]) )"
   ]
  },
  {
   "cell_type": "markdown",
   "metadata": {},
   "source": [
    "Pour éviter cela, le plus simple est de représenter la fin d'un mot comme un caractère à part entière."
   ]
  },
  {
   "cell_type": "code",
   "execution_count": 23,
   "metadata": {
    "collapsed": false
   },
   "outputs": [
    {
     "name": "stdout",
     "output_type": "stream",
     "text": [
      "a\n",
      "  a\n",
      "    a\n",
      "      *\n"
     ]
    }
   ],
   "source": [
    "print_trie (build_trie( [\"aaa*\"]) )"
   ]
  },
  {
   "cell_type": "code",
   "execution_count": 24,
   "metadata": {
    "collapsed": false
   },
   "outputs": [
    {
     "name": "stdout",
     "output_type": "stream",
     "text": [
      "a\n",
      "  a\n",
      "    *\n",
      "    a\n",
      "      *\n"
     ]
    }
   ],
   "source": [
    "print_trie (build_trie( [\"aaa*\", \"aa*\"]) )"
   ]
  },
  {
   "cell_type": "markdown",
   "metadata": {},
   "source": [
    "<h3 id=\"ex07\">Exercice 7</h3>\n",
    "\n",
    "Soit $L$ la longueur maximale des mots et $C$ le nombre de lettres distinctes, avec un trie, le coût de la recherche est majoré par : $O(L \\ln C)$. On reprend le code de l'exercice 5 et on ajoute le code associé au trie. On effectue 10000 recherches au lieu de 1000 pour avoir une meilleure estimation de la différence (pour vous en convaincre, il suffit comparer les temps obtenus par deux exécution de ce même code)."
   ]
  },
  {
   "cell_type": "code",
   "execution_count": 17,
   "metadata": {
    "collapsed": false
   },
   "outputs": [
    {
     "name": "stdout",
     "output_type": "stream",
     "text": [
      "10 dicho 0.017959867193440004 trie 0.0209845383838001\n",
      "100"
     ]
    },
    {
     "name": "stdout",
     "output_type": "stream",
     "text": [
      " dicho 0.032061172510111646 trie 0.022669425205549487\n",
      "1000"
     ]
    },
    {
     "name": "stdout",
     "output_type": "stream",
     "text": [
      " dicho 0.04955876491817435 trie 0.037136787151666795\n",
      "10000"
     ]
    },
    {
     "name": "stdout",
     "output_type": "stream",
     "text": [
      " dicho 0.06641062658968622 trie 0.05320179812497372\n",
      "100000"
     ]
    },
    {
     "name": "stdout",
     "output_type": "stream",
     "text": [
      " dicho 0.08635643652428371 trie 0.05857119886968576\n",
      "200000"
     ]
    },
    {
     "name": "stdout",
     "output_type": "stream",
     "text": [
      " dicho 0.09092786802807495 trie 0.0707237657989026\n",
      "400000"
     ]
    },
    {
     "name": "stdout",
     "output_type": "stream",
     "text": [
      " dicho 0.11014284761267845 trie 0.0812094066291138\n"
     ]
    }
   ],
   "source": [
    "for N in [10, 100, 1000, 10000, 100000, 200000, 400000] :\n",
    "    mots    = [ mot_alea(taille) for _ in range (N) ]\n",
    "    tolook  = [ mots[ random.randint(0,len(mots)-1) ] for i in range(0,10000) ]\n",
    "    trie    = build_trie(mots)\n",
    "    mots.sort()\n",
    "    \n",
    "    debut = time.clock()\n",
    "    for k in tolook :\n",
    "        i = dicho(mots, k)\n",
    "    fin = time.clock()    \n",
    "    dd = fin-debut\n",
    "    \n",
    "    debut = time.clock()\n",
    "    for k in tolook :\n",
    "        i = lookup(trie, k)\n",
    "    fin = time.clock()\n",
    "    dt = fin - debut\n",
    "\n",
    "    print(N, \"dicho\",dd, \"trie\", dt)"
   ]
  },
  {
   "cell_type": "code",
   "execution_count": 18,
   "metadata": {
    "collapsed": false
   },
   "outputs": [
    {
     "name": "stdout",
     "output_type": "stream",
     "text": [
      "N= 10\n",
      "10 loops, best of 3: 16.8 ms per loop"
     ]
    },
    {
     "name": "stdout",
     "output_type": "stream",
     "text": [
      "\n",
      "10 loops, best of 3: 26.6 ms per loop"
     ]
    },
    {
     "name": "stdout",
     "output_type": "stream",
     "text": [
      "\n",
      "N= 100\n",
      "10 loops, best of 3: 35.3 ms per loop"
     ]
    },
    {
     "name": "stdout",
     "output_type": "stream",
     "text": [
      "\n",
      "10 loops, best of 3: 22.3 ms per loop"
     ]
    },
    {
     "name": "stdout",
     "output_type": "stream",
     "text": [
      "\n",
      "N= 1000\n",
      "10 loops, best of 3: 52.3 ms per loop"
     ]
    },
    {
     "name": "stdout",
     "output_type": "stream",
     "text": [
      "\n",
      "10 loops, best of 3: 52.3 ms per loop"
     ]
    },
    {
     "name": "stdout",
     "output_type": "stream",
     "text": [
      "\n",
      "N= 10000\n",
      "10 loops, best of 3: 69.1 ms per loop"
     ]
    },
    {
     "name": "stdout",
     "output_type": "stream",
     "text": [
      "\n",
      "10 loops, best of 3: 52.4 ms per loop"
     ]
    },
    {
     "name": "stdout",
     "output_type": "stream",
     "text": [
      "\n",
      "N= 100000\n",
      "10 loops, best of 3: 84.3 ms per loop"
     ]
    },
    {
     "name": "stdout",
     "output_type": "stream",
     "text": [
      "\n",
      "10 loops, best of 3: 56.7 ms per loop"
     ]
    },
    {
     "name": "stdout",
     "output_type": "stream",
     "text": [
      "\n",
      "N= 200000\n",
      "10 loops, best of 3: 89.4 ms per loop"
     ]
    },
    {
     "name": "stdout",
     "output_type": "stream",
     "text": [
      "\n",
      "10 loops, best of 3: 57 ms per loop"
     ]
    },
    {
     "name": "stdout",
     "output_type": "stream",
     "text": [
      "\n",
      "N= 400000\n",
      "10 loops, best of 3: 121 ms per loop"
     ]
    },
    {
     "name": "stdout",
     "output_type": "stream",
     "text": [
      "\n",
      "10 loops, best of 3: 59 ms per loop"
     ]
    },
    {
     "name": "stdout",
     "output_type": "stream",
     "text": [
      "\n"
     ]
    }
   ],
   "source": [
    "for N in [10, 100, 1000, 10000, 100000, 200000, 400000] :\n",
    "    print(\"N=\",N)\n",
    "    mots    = [ mot_alea(taille) for _ in range (N) ]\n",
    "    tolook  = [ mots[ random.randint(0,len(mots)-1) ] for i in range(0,10000) ]\n",
    "    trie    = build_trie(mots)\n",
    "    mots.sort()\n",
    "    \n",
    "    %timeit for k in tolook : i = dicho(mots, k)\n",
    "    %timeit for k in tolook : i = lookup(trie, k)"
   ]
  },
  {
   "cell_type": "markdown",
   "metadata": {},
   "source": [
    "Encore une fois, le temps de construction du trie n'est pas pris en compte. Plus il y a de recherche à effectuer, plus il devient négligeable.\n",
    "\n",
    "Le dictionnaire est un object courant dans la plupart des languages. En python, celui-ci utilise une [table de hachage](http://fr.wikipedia.org/wiki/Table_de_hachage) et le coût d'accès à un élément n'est pas en $O(\\ln n)$ mais en $O(n)$ (voir [time complexity](https://wiki.python.org/moin/TimeComplexity)). En C++, le dictionnaire (ou [map](http://www.cplusplus.com/reference/map/map/)) utilise un arbre binaire et l'accès à un élément a un coût logarithmique : [Standard C++ Containers](http://www.cs.northwestern.edu/~riesbeck/programming/c++/stl-summary.html)."
   ]
  },
  {
   "cell_type": "markdown",
   "metadata": {},
   "source": [
    "<h2 id=\"plus\">Plus en détails</h2>"
   ]
  },
  {
   "cell_type": "markdown",
   "metadata": {},
   "source": [
    "La recherche dichotomique est équivalente à celle opérée avec un [arbre binaire de recherche](http://fr.wikipedia.org/wiki/Arbre_binaire_de_recherche) (si ce dernier est [équilibré](http://fr.wikipedia.org/wiki/Arbre_B) ou [arbre rouge/noir](http://fr.wikipedia.org/wiki/Arbre_bicolore)). Ce dernier consiste à classer les éléments par ordre alphabétique. Un arbre est souvent représenté par une classe et non par un dictionnaire comme la dernière partie de cette session le laissait supposer."
   ]
  },
  {
   "cell_type": "code",
   "execution_count": 5,
   "metadata": {
    "collapsed": false
   },
   "outputs": [
    {
     "name": "stdout",
     "output_type": "stream",
     "text": [
      "value=racine\n",
      "    value=child 1\n",
      "        value=child 2\n",
      "        value=child 1000\n",
      "    value=child 3\n"
     ]
    }
   ],
   "source": [
    "class Arbre:\n",
    "    def __init__(self, value):\n",
    "        self.value = value\n",
    "        self.children = [ ]\n",
    "        \n",
    "    def add_child(self, child):\n",
    "        self.children.append(child)\n",
    "        \n",
    "    def __str__(self):\n",
    "        rows = [ \"value={0}\".format(self.value) ]\n",
    "        for c in self.children:\n",
    "            s = str(c)\n",
    "            lines = [ \"    \" + l for l in s.split(\"\\n\") ]\n",
    "            rows.extend(lines)\n",
    "        return \"\\n\".join(rows)\n",
    "    \n",
    "root = Arbre(\"racine\")\n",
    "child1 = Arbre(\"child 1\")\n",
    "child1.add_child ( Arbre(\"child 2\") )\n",
    "child1.add_child ( Arbre(\"child 1000\") )\n",
    "root.add_child(child1)\n",
    "root.add_child( Arbre (\"child 3\") )\n",
    "print(root)     "
   ]
  },
  {
   "cell_type": "markdown",
   "metadata": {},
   "source": [
    "Les arbres sont des graphes particuliers car il ne contiennent pas de cycles. Il est possible de parcourir les noeuds, de les numéroter. Ils sont très utilisés en machine learning avec les [arbres de décisions](http://fr.wikipedia.org/wiki/Arbre_de_d%C3%A9cision) ou les [random forests](http://en.wikipedia.org/wiki/Random_forest). Ils sont parfois cachés comme dans le cas de la recherche dichotomique qui peut être implémentée à partir d'une structure d'arbre.\n",
    "\n",
    "Dans le cas de le recherche dichotomique, on suppose que le nombre de noeuds fils est toujours 2. L'ordre alphabétique est le suivant : noeuds fils 1, noeud courant, noeud fils 2. Les deux noeuds fils pourraient être nuls. L'implémentation de l'arbre serait la suivante :"
   ]
  },
  {
   "cell_type": "code",
   "execution_count": 9,
   "metadata": {
    "collapsed": false
   },
   "outputs": [
    {
     "name": "stdout",
     "output_type": "stream",
     "text": [
      "['alphabet', 'avant', 'avant après', 'milieu', 'zillion']\n",
      "value=alphabet\n",
      "value=avant\n",
      "value=avant après\n",
      "value=milieu\n",
      "value=zillion\n"
     ]
    }
   ],
   "source": [
    "class ArbreDicho:\n",
    "    def __init__(self, value):\n",
    "        self.value = value\n",
    "        self.before = None\n",
    "        self.after = None\n",
    "        \n",
    "    def __str__(self):\n",
    "        return \"value={0}\".format(self.value)\n",
    "        \n",
    "    def add_before(self, child):\n",
    "        self.before = child\n",
    "\n",
    "    def add_after(self, child):\n",
    "        self.after = child\n",
    "        \n",
    "    def find(self, word):\n",
    "        if self.value == word : return self\n",
    "        elif word < self.value : \n",
    "            if self.before == None : return None\n",
    "            else : return self.before.find(word)\n",
    "        else : \n",
    "            if self.after == None : return None\n",
    "            else : return self.after.find(word)\n",
    "            \n",
    "    def sorted_list(self):\n",
    "        res = [ ]\n",
    "        if self.before != None : res.extend ( self.before.sorted_list() )\n",
    "        res.append(self.value)\n",
    "        if self.after != None : res.extend ( self.after.sorted_list() )\n",
    "        return res\n",
    "\n",
    "# on crée un arbre dont les noeuds vérifient la propriété énoncé plus haut (les mots apparaissent dans le bon ordre)\n",
    "root = ArbreDicho(\"milieu\")\n",
    "root.add_before(ArbreDicho(\"avant\"))\n",
    "root.add_after(ArbreDicho(\"zillion\"))\n",
    "root.before.add_before(ArbreDicho(\"alphabet\"))\n",
    "root.before.add_after(ArbreDicho(\"avant après\"))\n",
    "\n",
    "# on vérifie que c'est bien le cas\n",
    "all = root.sorted_list()\n",
    "assert all == sorted(all)\n",
    "print(all)\n",
    "\n",
    "# on effectue la recherche\n",
    "for a in all:\n",
    "    f = root.find(a)\n",
    "    print(f)"
   ]
  },
  {
   "cell_type": "code",
   "execution_count": null,
   "metadata": {
    "collapsed": false
   },
   "outputs": [],
   "source": []
  }
 ],
 "metadata": {},
 "nbformat": 4,
 "nbformat_minor": 0
}