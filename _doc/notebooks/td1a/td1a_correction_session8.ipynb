{
 "metadata": {
  "name": "",
  "signature": "sha256:3b15d2c50cdaf4ba46cd8ba25c0fef656eda8831fbd5a028505e481362da9dce"
 },
 "nbformat": 3,
 "nbformat_minor": 0,
 "worksheets": [
  {
   "cells": [
    {
     "cell_type": "heading",
     "level": 1,
     "metadata": {},
     "source": [
      "TD 8 : Arbre et Trie"
     ]
    },
    {
     "cell_type": "markdown",
     "metadata": {},
     "source": [
      "Plan\n",
      "\n",
      "* [Construction d'une liste al\u00e9atoire](#alea)\n",
      "    * [Exercice 1](#exo1)\n",
      "    * [Exercice 2](#exo2)\n",
      "* [Recherche dichotomique](#dicho)\n",
      "    * [Exercice 3](#exo3)\n",
      "    * [Exercice 4](#exo4)\n",
      "* [Trie](#trie)\n",
      "    * [Exercice 5](#exo5)\n",
      "* [Recherche dans un trie](#triec)    \n",
      "    * [Exercice 6](#exo6)\n",
      "    * [Exercice 7](#exo7)\n",
      "* [Plus en d\u00e9tails](#plus)    \n",
      "    \n",
      "\n",
      "<h2 id=\"alea\">Construction d'une liste al\u00e9atoire</h2>\n",
      "<h3 id=\"exo1\">Exercice 1</h3>\n"
     ]
    },
    {
     "cell_type": "code",
     "collapsed": false,
     "input": [
      "import random\n",
      "def mot_alea (l) :\n",
      "    l = [ chr(97+random.randint(0,25)) for i in range(l) ]\n",
      "    return \"\".join(l)\n",
      "\n",
      "taille  = 20\n",
      "N       = 10000\n",
      "mots    = [ mot_alea(taille) for _ in range (N) ]\n",
      "print(len(mots))"
     ],
     "language": "python",
     "metadata": {},
     "outputs": [
      {
       "output_type": "stream",
       "stream": "stdout",
       "text": [
        "10000\n"
       ]
      }
     ],
     "prompt_number": 2
    },
    {
     "cell_type": "markdown",
     "metadata": {},
     "source": [
      "<h3 id=\"exo2\">Exercice 2</h3>"
     ]
    },
    {
     "cell_type": "code",
     "collapsed": false,
     "input": [
      "import time\n",
      "debut = time.clock()\n",
      "for k in mots :\n",
      "    i = mots.index(k)\n",
      "fin = time.clock()\n",
      "print (\"recherche simple\",fin - debut)"
     ],
     "language": "python",
     "metadata": {},
     "outputs": [
      {
       "output_type": "stream",
       "stream": "stdout",
       "text": [
        "recherche simple 1.5386846000127434\n"
       ]
      }
     ],
     "prompt_number": 3
    },
    {
     "cell_type": "markdown",
     "metadata": {},
     "source": [
      "Avec ``%timeit`` :"
     ]
    },
    {
     "cell_type": "code",
     "collapsed": false,
     "input": [
      "%timeit for k in mots : i = mots.index(k)"
     ],
     "language": "python",
     "metadata": {},
     "outputs": [
      {
       "output_type": "stream",
       "stream": "stdout",
       "text": [
        "1 loops, best of 3: 1.42 s per loop\n"
       ]
      }
     ],
     "prompt_number": 4
    },
    {
     "cell_type": "markdown",
     "metadata": {},
     "source": [
      "<h2 id=\"dicho\">Recherche dichotomique</h2>\n",
      "\n",
      "<h3 id=\"exo3\">Exercice 3</h3>\n"
     ]
    },
    {
     "cell_type": "code",
     "collapsed": false,
     "input": [
      "def dicho (mots, x) :\n",
      "    a = 0\n",
      "    b = len(mots)-1\n",
      "    while a < b :\n",
      "        m = (a+b)//2\n",
      "        t = mots[m] \n",
      "        if t < x : \n",
      "            b = m-1 \n",
      "        elif t == x :\n",
      "            return m\n",
      "        else :\n",
      "            a = m+1\n",
      "    return a\n",
      "\n",
      "mots.sort()\n",
      "\n",
      "debut = time.clock()\n",
      "for k in mots :\n",
      "    i = dicho(mots, k)\n",
      "fin = time.clock()\n",
      "print (\"dichotomie\",fin - debut)"
     ],
     "language": "python",
     "metadata": {},
     "outputs": [
      {
       "output_type": "stream",
       "stream": "stdout",
       "text": [
        "dichotomie 0.11440034518783193\n"
       ]
      }
     ],
     "prompt_number": 5
    },
    {
     "cell_type": "code",
     "collapsed": false,
     "input": [
      "%timeit for k in mots : i = dicho(mots, k)"
     ],
     "language": "python",
     "metadata": {},
     "outputs": [
      {
       "output_type": "stream",
       "stream": "stdout",
       "text": [
        "10 loops, best of 3: 65.8 ms per loop\n"
       ]
      }
     ],
     "prompt_number": 6
    },
    {
     "cell_type": "markdown",
     "metadata": {},
     "source": [
      "<h3 id=\"exo4\">Exercice 4</h3>\n"
     ]
    },
    {
     "cell_type": "code",
     "collapsed": false,
     "input": [
      "for N in [10, 100, 1000, 10000, 100000] :\n",
      "    mots    = [ mot_alea(taille) for _ in range (N) ]\n",
      "    tolook  = [ mots[ random.randint(0,len(mots)-1) ] for i in range(0,1000) ]\n",
      "    mots.sort()\n",
      "    \n",
      "    debut = time.clock()\n",
      "    for k in tolook :\n",
      "        i = mots.index(k)\n",
      "    fin = time.clock()    \n",
      "    ds = fin-debut\n",
      "    \n",
      "    debut = time.clock()\n",
      "    for k in tolook :\n",
      "        i = dicho(mots, k)\n",
      "    fin = time.clock()    \n",
      "    dd = fin-debut\n",
      "    \n",
      "    print(N, \"simple\",ds, \"dicho\",dd, \"ratio\", ds / dd, \" ratio th\u00e9orique \", len(mots)/math.log(len(mots)) * math.log(2)/30)"
     ],
     "language": "python",
     "metadata": {},
     "outputs": [
      {
       "output_type": "stream",
       "stream": "stdout",
       "text": [
        "10 simple 0.0008582659521323421 dicho 0.002135615428443316 ratio 0.40188225871637656  ratio th\u00e9orique  0.1003433318879937\n",
        "100 simple 0.002305814655613858 dicho 0.0038175087964873455 ratio 0.6040103058139742  ratio th\u00e9orique  0.5017166594399687\n",
        "1000"
       ]
      },
      {
       "output_type": "stream",
       "stream": "stdout",
       "text": [
        " simple 0.019075997803668088 dicho 0.005086733184072045 ratio 3.7501471206314223  ratio th\u00e9orique  3.3447777295997914\n",
        "10000"
       ]
      },
      {
       "output_type": "stream",
       "stream": "stdout",
       "text": [
        " simple 0.1779432920122872 dicho 0.006568492787494051 ratio 27.090429687473925  ratio th\u00e9orique  25.085832971998425\n",
        "100000"
       ]
      },
      {
       "output_type": "stream",
       "stream": "stdout",
       "text": [
        " simple 5.5287581101214585 dicho 0.009310496417270997 ratio 593.8199063011932  ratio th\u00e9orique  200.68666377598748\n"
       ]
      }
     ],
     "prompt_number": 8
    },
    {
     "cell_type": "code",
     "collapsed": false,
     "input": [
      "for N in [10, 100, 1000, 10000, 100000] :\n",
      "    print(\"N=\",N)\n",
      "    mots    = [ mot_alea(taille) for _ in range (N) ]\n",
      "    tolook  = [ mots[ random.randint(0,len(mots)-1) ] for i in range(0,1000) ]\n",
      "    mots.sort()\n",
      "    \n",
      "    %timeit for k in tolook : i = mots.index(k)\n",
      "    %timeit for k in tolook : i = dicho(mots, k)"
     ],
     "language": "python",
     "metadata": {},
     "outputs": [
      {
       "output_type": "stream",
       "stream": "stdout",
       "text": [
        "N= 10\n",
        "1000 loops, best of 3: 402 \u00b5s per loop"
       ]
      },
      {
       "output_type": "stream",
       "stream": "stdout",
       "text": [
        "\n",
        "1000 loops, best of 3: 1.61 ms per loop"
       ]
      },
      {
       "output_type": "stream",
       "stream": "stdout",
       "text": [
        "\n",
        "N= 100\n",
        "100 loops, best of 3: 1.99 ms per loop"
       ]
      },
      {
       "output_type": "stream",
       "stream": "stdout",
       "text": [
        "\n",
        "100 loops, best of 3: 3.12 ms per loop"
       ]
      },
      {
       "output_type": "stream",
       "stream": "stdout",
       "text": [
        "\n",
        "N= 1000\n",
        "100 loops, best of 3: 17.4 ms per loop"
       ]
      },
      {
       "output_type": "stream",
       "stream": "stdout",
       "text": [
        "\n",
        "100 loops, best of 3: 4.83 ms per loop"
       ]
      },
      {
       "output_type": "stream",
       "stream": "stdout",
       "text": [
        "\n",
        "N= 10000\n",
        "10 loops, best of 3: 186 ms per loop"
       ]
      },
      {
       "output_type": "stream",
       "stream": "stdout",
       "text": [
        "\n",
        "100 loops, best of 3: 6.59 ms per loop"
       ]
      },
      {
       "output_type": "stream",
       "stream": "stdout",
       "text": [
        "\n",
        "N= 100000\n",
        "1 loops, best of 3: 5.5 s per loop"
       ]
      },
      {
       "output_type": "stream",
       "stream": "stdout",
       "text": [
        "\n",
        "100 loops, best of 3: 8.43 ms per loop"
       ]
      },
      {
       "output_type": "stream",
       "stream": "stdout",
       "text": [
        "\n"
       ]
      }
     ],
     "prompt_number": 12
    },
    {
     "cell_type": "markdown",
     "metadata": {},
     "source": [
      "Soit $N$ le nombre de mots dans la liste :\n",
      "\n",
      "* co\u00fbt de la recherche simple : $O(N)$ \n",
      "* co\u00fbt de la recherche dichotomique : $O(\\ln N)$ \n",
      "\n",
      "Le ratio $N/\\ln N$ mesur\u00e9 en pratique devrait \u00eatre sensiblement \u00e9gal au ratio th\u00e9orique \u00e0 un facteur multiplication pr\u00e8s. Le trie du tableau qui pr\u00e9c\u00e8de la recherche dichotomique n'est pas pris en compte. Plus on effectue de recherche, plus son co\u00fbt devient marginal. Ce co\u00fbt explique n\u00e9anmoins pourquoi on ne fait pas toujours une recherche dichotomique."
     ]
    },
    {
     "cell_type": "markdown",
     "metadata": {},
     "source": [
      "<h2 id=\"trie\">Trie</h2>\n",
      "<h3 id=\"exo5\">Exercice 5</h3>\n"
     ]
    },
    {
     "cell_type": "code",
     "collapsed": false,
     "input": [
      "def build_trie(mots) :\n",
      "    trie = { }\n",
      "    for m in mots :\n",
      "        r = trie\n",
      "        for c in m :\n",
      "            if c not in r : r[c] = { }\n",
      "            r = r[c]\n",
      "    return trie\n",
      "\n",
      "mots = [ \"aaa\", \"aba\", \"aab\", \"baa\", \"bbb\", \"bba\", \"bab\" ]\n",
      "\n",
      "trie = build_trie(mots)\n",
      "print(trie)"
     ],
     "language": "python",
     "metadata": {},
     "outputs": [
      {
       "output_type": "stream",
       "stream": "stdout",
       "text": [
        "{'a': {'a': {'a': {}, 'b': {}}, 'b': {'a': {}}}, 'b': {'a': {'a': {}, 'b': {}}, 'b': {'a': {}, 'b': {}}}}\n"
       ]
      }
     ],
     "prompt_number": 8
    },
    {
     "cell_type": "markdown",
     "metadata": {},
     "source": [
      "Quelques explications suppl\u00e9mentaires concernant cette correction :\n",
      "\n",
      "* [Question \u00e0 propos de trie](http://www.xavierdupre.fr/app/ensae_teaching_cs/helpsphinx/questions/question_2014.html#question-a-propos-de-trie)"
     ]
    },
    {
     "cell_type": "markdown",
     "metadata": {},
     "source": [
      "<h2 id=\"triec\">Recherche dans un trie</h2>\n",
      "\n",
      "<h3 id=\"exo6\">Exercice 6</h3>\n",
      "\n"
     ]
    },
    {
     "cell_type": "code",
     "collapsed": false,
     "input": [
      "def lookup(trie, m) :\n",
      "    r = trie\n",
      "    for c in m :\n",
      "        if c in r :\n",
      "            r = r[c]\n",
      "        else :\n",
      "            return False\n",
      "    return True\n",
      "\n",
      "for k in mots :\n",
      "    print(k, lookup(trie, k))\n",
      "print(\"bcc\", lookup(trie, \"bcc\"))    "
     ],
     "language": "python",
     "metadata": {},
     "outputs": [
      {
       "output_type": "stream",
       "stream": "stdout",
       "text": [
        "aaa True\n",
        "aba True\n",
        "aab True\n",
        "baa True\n",
        "bbb True\n",
        "bba True\n",
        "bab True\n",
        "bcc False\n"
       ]
      }
     ],
     "prompt_number": 9
    },
    {
     "cell_type": "markdown",
     "metadata": {},
     "source": [
      "Pour illustrer la structure d'arbre du trie, on l'affiche avec la fonction suivante : "
     ]
    },
    {
     "cell_type": "code",
     "collapsed": false,
     "input": [
      "def print_trie(trie, niveau = 0):\n",
      "    for k,v in sorted(trie.items()):\n",
      "        print(\"  \" * niveau + k)\n",
      "        if len(v) > 0 :\n",
      "            print_trie(v, niveau+1)\n",
      "print_trie(trie)"
     ],
     "language": "python",
     "metadata": {},
     "outputs": [
      {
       "output_type": "stream",
       "stream": "stdout",
       "text": [
        "a\n",
        "  a\n",
        "    a\n",
        "    b\n",
        "  b\n",
        "    a\n",
        "b\n",
        "  a\n",
        "    a\n",
        "    b\n",
        "  b\n",
        "    a\n",
        "    b\n"
       ]
      }
     ],
     "prompt_number": 17
    },
    {
     "cell_type": "markdown",
     "metadata": {},
     "source": [
      "Il reste un inconv\u00e9nient \u00e0 cette repr\u00e9sentation. Si on construire le trie pour le mot ``[\"aaa\"]`` ou les mots ``[\"aa\",\"aaa]\"``, on obtient le m\u00eame trie :"
     ]
    },
    {
     "cell_type": "code",
     "collapsed": false,
     "input": [
      "print_trie (build_trie( [\"aaa\"]) )"
     ],
     "language": "python",
     "metadata": {},
     "outputs": [
      {
       "output_type": "stream",
       "stream": "stdout",
       "text": [
        "a\n",
        "  a\n",
        "    a\n"
       ]
      }
     ],
     "prompt_number": 18
    },
    {
     "cell_type": "code",
     "collapsed": false,
     "input": [
      "print_trie (build_trie( [\"aaa\", \"aa\"]) )"
     ],
     "language": "python",
     "metadata": {},
     "outputs": [
      {
       "output_type": "stream",
       "stream": "stdout",
       "text": [
        "a\n",
        "  a\n",
        "    a\n"
       ]
      }
     ],
     "prompt_number": 19
    },
    {
     "cell_type": "markdown",
     "metadata": {},
     "source": [
      "Pour \u00e9viter cela, le plus simple est de repr\u00e9senter la fin d'un mot comme un caract\u00e8re \u00e0 part enti\u00e8re."
     ]
    },
    {
     "cell_type": "code",
     "collapsed": false,
     "input": [
      "print_trie (build_trie( [\"aaa*\"]) )"
     ],
     "language": "python",
     "metadata": {},
     "outputs": [
      {
       "output_type": "stream",
       "stream": "stdout",
       "text": [
        "a\n",
        "  a\n",
        "    a\n",
        "      *\n"
       ]
      }
     ],
     "prompt_number": 23
    },
    {
     "cell_type": "code",
     "collapsed": false,
     "input": [
      "print_trie (build_trie( [\"aaa*\", \"aa*\"]) )"
     ],
     "language": "python",
     "metadata": {},
     "outputs": [
      {
       "output_type": "stream",
       "stream": "stdout",
       "text": [
        "a\n",
        "  a\n",
        "    *\n",
        "    a\n",
        "      *\n"
       ]
      }
     ],
     "prompt_number": 24
    },
    {
     "cell_type": "markdown",
     "metadata": {},
     "source": [
      "<h3 id=\"ex07\">Exercice 7</h3>\n",
      "\n",
      "Soit $L$ la longueur maximale des mots et $C$ le nombre de lettres distinctes, avec un trie, le co\u00fbt de la recherche est major\u00e9 par : $O(L \\ln C)$. On reprend le code de l'exercice 5 et on ajoute le code associ\u00e9 au trie. On effectue 10000 recherches au lieu de 1000 pour avoir une meilleure estimation de la diff\u00e9rence (pour vous en convaincre, il suffit comparer les temps obtenus par deux ex\u00e9cution de ce m\u00eame code)."
     ]
    },
    {
     "cell_type": "code",
     "collapsed": false,
     "input": [
      "for N in [10, 100, 1000, 10000, 100000, 200000, 400000] :\n",
      "    mots    = [ mot_alea(taille) for _ in range (N) ]\n",
      "    tolook  = [ mots[ random.randint(0,len(mots)-1) ] for i in range(0,10000) ]\n",
      "    trie    = build_trie(mots)\n",
      "    mots.sort()\n",
      "    \n",
      "    debut = time.clock()\n",
      "    for k in tolook :\n",
      "        i = dicho(mots, k)\n",
      "    fin = time.clock()    \n",
      "    dd = fin-debut\n",
      "    \n",
      "    debut = time.clock()\n",
      "    for k in tolook :\n",
      "        i = lookup(trie, k)\n",
      "    fin = time.clock()\n",
      "    dt = fin - debut\n",
      "\n",
      "    print(N, \"dicho\",dd, \"trie\", dt)"
     ],
     "language": "python",
     "metadata": {},
     "outputs": [
      {
       "output_type": "stream",
       "stream": "stdout",
       "text": [
        "10 dicho 0.017959867193440004 trie 0.0209845383838001\n",
        "100"
       ]
      },
      {
       "output_type": "stream",
       "stream": "stdout",
       "text": [
        " dicho 0.032061172510111646 trie 0.022669425205549487\n",
        "1000"
       ]
      },
      {
       "output_type": "stream",
       "stream": "stdout",
       "text": [
        " dicho 0.04955876491817435 trie 0.037136787151666795\n",
        "10000"
       ]
      },
      {
       "output_type": "stream",
       "stream": "stdout",
       "text": [
        " dicho 0.06641062658968622 trie 0.05320179812497372\n",
        "100000"
       ]
      },
      {
       "output_type": "stream",
       "stream": "stdout",
       "text": [
        " dicho 0.08635643652428371 trie 0.05857119886968576\n",
        "200000"
       ]
      },
      {
       "output_type": "stream",
       "stream": "stdout",
       "text": [
        " dicho 0.09092786802807495 trie 0.0707237657989026\n",
        "400000"
       ]
      },
      {
       "output_type": "stream",
       "stream": "stdout",
       "text": [
        " dicho 0.11014284761267845 trie 0.0812094066291138\n"
       ]
      }
     ],
     "prompt_number": 17
    },
    {
     "cell_type": "code",
     "collapsed": false,
     "input": [
      "for N in [10, 100, 1000, 10000, 100000, 200000, 400000] :\n",
      "    print(\"N=\",N)\n",
      "    mots    = [ mot_alea(taille) for _ in range (N) ]\n",
      "    tolook  = [ mots[ random.randint(0,len(mots)-1) ] for i in range(0,10000) ]\n",
      "    trie    = build_trie(mots)\n",
      "    mots.sort()\n",
      "    \n",
      "    %timeit for k in tolook : i = dicho(mots, k)\n",
      "    %timeit for k in tolook : i = lookup(trie, k)"
     ],
     "language": "python",
     "metadata": {},
     "outputs": [
      {
       "output_type": "stream",
       "stream": "stdout",
       "text": [
        "N= 10\n",
        "10 loops, best of 3: 16.8 ms per loop"
       ]
      },
      {
       "output_type": "stream",
       "stream": "stdout",
       "text": [
        "\n",
        "10 loops, best of 3: 26.6 ms per loop"
       ]
      },
      {
       "output_type": "stream",
       "stream": "stdout",
       "text": [
        "\n",
        "N= 100\n",
        "10 loops, best of 3: 35.3 ms per loop"
       ]
      },
      {
       "output_type": "stream",
       "stream": "stdout",
       "text": [
        "\n",
        "10 loops, best of 3: 22.3 ms per loop"
       ]
      },
      {
       "output_type": "stream",
       "stream": "stdout",
       "text": [
        "\n",
        "N= 1000\n",
        "10 loops, best of 3: 52.3 ms per loop"
       ]
      },
      {
       "output_type": "stream",
       "stream": "stdout",
       "text": [
        "\n",
        "10 loops, best of 3: 52.3 ms per loop"
       ]
      },
      {
       "output_type": "stream",
       "stream": "stdout",
       "text": [
        "\n",
        "N= 10000\n",
        "10 loops, best of 3: 69.1 ms per loop"
       ]
      },
      {
       "output_type": "stream",
       "stream": "stdout",
       "text": [
        "\n",
        "10 loops, best of 3: 52.4 ms per loop"
       ]
      },
      {
       "output_type": "stream",
       "stream": "stdout",
       "text": [
        "\n",
        "N= 100000\n",
        "10 loops, best of 3: 84.3 ms per loop"
       ]
      },
      {
       "output_type": "stream",
       "stream": "stdout",
       "text": [
        "\n",
        "10 loops, best of 3: 56.7 ms per loop"
       ]
      },
      {
       "output_type": "stream",
       "stream": "stdout",
       "text": [
        "\n",
        "N= 200000\n",
        "10 loops, best of 3: 89.4 ms per loop"
       ]
      },
      {
       "output_type": "stream",
       "stream": "stdout",
       "text": [
        "\n",
        "10 loops, best of 3: 57 ms per loop"
       ]
      },
      {
       "output_type": "stream",
       "stream": "stdout",
       "text": [
        "\n",
        "N= 400000\n",
        "10 loops, best of 3: 121 ms per loop"
       ]
      },
      {
       "output_type": "stream",
       "stream": "stdout",
       "text": [
        "\n",
        "10 loops, best of 3: 59 ms per loop"
       ]
      },
      {
       "output_type": "stream",
       "stream": "stdout",
       "text": [
        "\n"
       ]
      }
     ],
     "prompt_number": 18
    },
    {
     "cell_type": "markdown",
     "metadata": {},
     "source": [
      "Encore une fois, le temps de construction du trie n'est pas pris en compte. Plus il y a de recherche \u00e0 effectuer, plus il devient n\u00e9gligeable.\n",
      "\n",
      "Le dictionnaire est un object courant dans la plupart des languages. En python, celui-ci utilise une [table de hachage](http://fr.wikipedia.org/wiki/Table_de_hachage) et le co\u00fbt d'acc\u00e8s \u00e0 un \u00e9l\u00e9ment n'est pas en $O(\\ln n)$ mais en $O(n)$ (voir [time complexity](https://wiki.python.org/moin/TimeComplexity)). En C++, le dictionnaire (ou [map](http://www.cplusplus.com/reference/map/map/)) utilise un arbre binaire et l'acc\u00e8s \u00e0 un \u00e9l\u00e9ment a un co\u00fbt logarithmique : [Standard C++ Containers](http://www.cs.northwestern.edu/~riesbeck/programming/c++/stl-summary.html)."
     ]
    },
    {
     "cell_type": "markdown",
     "metadata": {},
     "source": [
      "<h2 id=\"plus\">Plus en d\u00e9tails</h2>"
     ]
    },
    {
     "cell_type": "markdown",
     "metadata": {},
     "source": [
      "La recherche dichotomique est \u00e9quivalente \u00e0 celle op\u00e9r\u00e9e avec un [arbre binaire de recherche](http://fr.wikipedia.org/wiki/Arbre_binaire_de_recherche) (si ce dernier est [\u00e9quilibr\u00e9](http://fr.wikipedia.org/wiki/Arbre_B) ou [arbre rouge/noir](http://fr.wikipedia.org/wiki/Arbre_bicolore)). Ce dernier consiste \u00e0 classer les \u00e9l\u00e9ments par ordre alphab\u00e9tique. Un arbre est souvent repr\u00e9sent\u00e9 par une classe et non par un dictionnaire comme la derni\u00e8re partie de cette session le laissait supposer."
     ]
    },
    {
     "cell_type": "code",
     "collapsed": false,
     "input": [
      "class Arbre:\n",
      "    def __init__(self, value):\n",
      "        self.value = value\n",
      "        self.children = [ ]\n",
      "        \n",
      "    def add_child(self, child):\n",
      "        self.children.append(child)\n",
      "        \n",
      "    def __str__(self):\n",
      "        rows = [ \"value={0}\".format(self.value) ]\n",
      "        for c in self.children:\n",
      "            s = str(c)\n",
      "            lines = [ \"    \" + l for l in s.split(\"\\n\") ]\n",
      "            rows.extend(lines)\n",
      "        return \"\\n\".join(rows)\n",
      "    \n",
      "root = Arbre(\"racine\")\n",
      "child1 = Arbre(\"child 1\")\n",
      "child1.add_child ( Arbre(\"child 2\") )\n",
      "child1.add_child ( Arbre(\"child 1000\") )\n",
      "root.add_child(child1)\n",
      "root.add_child( Arbre (\"child 3\") )\n",
      "print(root)     "
     ],
     "language": "python",
     "metadata": {},
     "outputs": [
      {
       "output_type": "stream",
       "stream": "stdout",
       "text": [
        "value=racine\n",
        "    value=child 1\n",
        "        value=child 2\n",
        "        value=child 1000\n",
        "    value=child 3\n"
       ]
      }
     ],
     "prompt_number": 5
    },
    {
     "cell_type": "markdown",
     "metadata": {},
     "source": [
      "Les arbres sont des graphes particuliers car il ne contiennent pas de cycles. Il est possible de parcourir les noeuds, de les num\u00e9roter. Ils sont tr\u00e8s utilis\u00e9s en machine learning avec les [arbres de d\u00e9cisions](http://fr.wikipedia.org/wiki/Arbre_de_d%C3%A9cision) ou les [random forests](http://en.wikipedia.org/wiki/Random_forest). Ils sont parfois cach\u00e9s comme dans le cas de la recherche dichotomique qui peut \u00eatre impl\u00e9ment\u00e9e \u00e0 partir d'une structure d'arbre.\n",
      "\n",
      "Dans le cas de le recherche dichotomique, on suppose que le nombre de noeuds fils est toujours 2. L'ordre alphab\u00e9tique est le suivant : noeuds fils 1, noeud courant, noeud fils 2. Les deux noeuds fils pourraient \u00eatre nuls. L'impl\u00e9mentation de l'arbre serait la suivante :"
     ]
    },
    {
     "cell_type": "code",
     "collapsed": false,
     "input": [
      "class ArbreDicho:\n",
      "    def __init__(self, value):\n",
      "        self.value = value\n",
      "        self.before = None\n",
      "        self.after = None\n",
      "        \n",
      "    def __str__(self):\n",
      "        return \"value={0}\".format(self.value)\n",
      "        \n",
      "    def add_before(self, child):\n",
      "        self.before = child\n",
      "\n",
      "    def add_after(self, child):\n",
      "        self.after = child\n",
      "        \n",
      "    def find(self, word):\n",
      "        if self.value == word : return self\n",
      "        elif word < self.value : \n",
      "            if self.before == None : return None\n",
      "            else : return self.before.find(word)\n",
      "        else : \n",
      "            if self.after == None : return None\n",
      "            else : return self.after.find(word)\n",
      "            \n",
      "    def sorted_list(self):\n",
      "        res = [ ]\n",
      "        if self.before != None : res.extend ( self.before.sorted_list() )\n",
      "        res.append(self.value)\n",
      "        if self.after != None : res.extend ( self.after.sorted_list() )\n",
      "        return res\n",
      "\n",
      "# on cr\u00e9e un arbre dont les noeuds v\u00e9rifient la propri\u00e9t\u00e9 \u00e9nonc\u00e9 plus haut (les mots apparaissent dans le bon ordre)\n",
      "root = ArbreDicho(\"milieu\")\n",
      "root.add_before(ArbreDicho(\"avant\"))\n",
      "root.add_after(ArbreDicho(\"zillion\"))\n",
      "root.before.add_before(ArbreDicho(\"alphabet\"))\n",
      "root.before.add_after(ArbreDicho(\"avant apr\u00e8s\"))\n",
      "\n",
      "# on v\u00e9rifie que c'est bien le cas\n",
      "all = root.sorted_list()\n",
      "assert all == sorted(all)\n",
      "print(all)\n",
      "\n",
      "# on effectue la recherche\n",
      "for a in all:\n",
      "    f = root.find(a)\n",
      "    print(f)"
     ],
     "language": "python",
     "metadata": {},
     "outputs": [
      {
       "output_type": "stream",
       "stream": "stdout",
       "text": [
        "['alphabet', 'avant', 'avant apr\u00e8s', 'milieu', 'zillion']\n",
        "value=alphabet\n",
        "value=avant\n",
        "value=avant apr\u00e8s\n",
        "value=milieu\n",
        "value=zillion\n"
       ]
      }
     ],
     "prompt_number": 9
    },
    {
     "cell_type": "code",
     "collapsed": false,
     "input": [],
     "language": "python",
     "metadata": {},
     "outputs": []
    }
   ],
   "metadata": {}
  }
 ]
}