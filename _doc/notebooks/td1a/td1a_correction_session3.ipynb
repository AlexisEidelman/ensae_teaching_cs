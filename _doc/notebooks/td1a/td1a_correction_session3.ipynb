{
 "cells": [
  {
   "cell_type": "markdown",
   "metadata": {},
   "source": [
    "# TD 3 : Dictionnaires, fonctions, code de Vigenère (correction)"
   ]
  },
  {
   "cell_type": "markdown",
   "metadata": {},
   "source": [
    "Plan\n",
    "\n",
    "- [Exercice 1](#exo1)\n",
    "- [Exercice 2](#exo2)\n",
    "- [Exercice 3 : utilisation d'un dictionnaire](#exo3)\n",
    "- [Exercice 4 : crypter, décrypter selon Vigenère](#exo4)"
   ]
  },
  {
   "cell_type": "markdown",
   "metadata": {},
   "source": [
    "<h3 id=\"exo1\">Exercice 1</h3>"
   ]
  },
  {
   "cell_type": "code",
   "execution_count": 2,
   "metadata": {
    "collapsed": false
   },
   "outputs": [
    {
     "name": "stdout",
     "output_type": "stream",
     "text": [
      "n a\n"
     ]
    }
   ],
   "source": [
    "def lettre_suivante(lettre) :\n",
    "    c = ord(lettre) - ord('a')\n",
    "    c = (c + 1) % 26\n",
    "    return chr (c + ord('a'))\n",
    "    \n",
    "print (lettre_suivante('m'), lettre_suivante('z'))"
   ]
  },
  {
   "cell_type": "markdown",
   "metadata": {},
   "source": [
    "<h3 id=\"exo2\">Exercice 2</h3>"
   ]
  },
  {
   "cell_type": "code",
   "execution_count": 3,
   "metadata": {
    "collapsed": false
   },
   "outputs": [
    {
     "name": "stdout",
     "output_type": "stream",
     "text": [
      "['tywin', 'tyrion']\n"
     ]
    }
   ],
   "source": [
    "mots = ['eddard', 'catelyn', 'robb', 'sansa', 'arya', 'brandon',\n",
    "        'rickon', 'theon', 'rorbert', 'cersei', 'tywin', 'jaime',\n",
    "        'tyrion', 'shae', 'bronn', 'lancel', 'joffrey', 'sandor',\n",
    "        'varys', 'renly', 'a' ]\n",
    "        \n",
    "def mots_lettre_position (liste, lettre, position) :\n",
    "    res = [ ]\n",
    "    for mot in liste :\n",
    "        if position < len(mot) and mot[position] == lettre :\n",
    "            res.append (mot)\n",
    "    return res\n",
    "    \n",
    "r = mots_lettre_position ( mots, 'y', 1)\n",
    "print (r)"
   ]
  },
  {
   "cell_type": "markdown",
   "metadata": {},
   "source": [
    "<h3 id=\"exo3\">Exercice 3 : utilisation d'un dictionnaire</h3>"
   ]
  },
  {
   "cell_type": "markdown",
   "metadata": {},
   "source": [
    "L'énoncé suggère d'utiliser comme clé de dictionnaire le couple ``(position, lettre)`` et la fonction doit retourne la liste des mots qui ont tous la même lettre à la même position. Le dictionnaire ``dictionnaire_bien_choisi`` de l'énoncé doit avoir pour clés des couples ``(position, lettre)`` et pour valeurs des listes de prénoms."
   ]
  },
  {
   "cell_type": "code",
   "execution_count": 5,
   "metadata": {
    "collapsed": false
   },
   "outputs": [
    {
     "name": "stdout",
     "output_type": "stream",
     "text": [
      "résultat= ['tywin', 'tyrion']\n",
      "dictionnaire= {(0, 'l'): ['lancel'], (4, 'y'): ['renly'], (0, 'e'): ['eddard'], (4, 'n'): ['theon', 'tywin', 'bronn'], (1, 'd'): ['eddard'], (4, 'l'): ['catelyn'], (3, 'd'): ['sandor'], (1, 'r'): ['arya', 'brandon', 'bronn'], (2, 'o'): ['bronn'], (3, 'k'): ['rickon'], (2, 'y'): ['arya'], (2, 'e'): ['theon'], (1, 'y'): ['tywin', 'tyrion'], (1, 'h'): ['theon', 'shae'], (2, 'r'): ['rorbert', 'cersei', 'tyrion', 'varys'], (3, 'y'): ['varys'], (3, 'o'): ['theon'], (2, 'd'): ['eddard'], (4, 'd'): ['brandon'], (1, 'e'): ['cersei', 'renly'], (2, 'w'): ['tywin'], (0, 't'): ['theon', 'tywin', 'tyrion'], (6, 't'): ['rorbert'], (5, 'l'): ['lancel'], (6, 'n'): ['catelyn', 'brandon'], (5, 'e'): ['joffrey'], (0, 's'): ['sansa', 'shae', 'sandor'], (0, 'r'): ['robb', 'rickon', 'rorbert', 'renly'], (2, 'c'): ['rickon'], (0, 'j'): ['jaime', 'joffrey'], (3, 'n'): ['brandon', 'bronn'], (3, 'i'): ['tywin', 'tyrion'], (0, 'c'): ['catelyn', 'cersei'], (1, 'o'): ['robb', 'rorbert', 'joffrey'], (4, 'e'): ['rorbert', 'cersei', 'jaime', 'lancel'], (5, 'd'): ['eddard'], (4, 'r'): ['eddard', 'joffrey'], (3, 'b'): ['robb', 'rorbert'], (2, 'a'): ['brandon', 'shae'], (5, 'o'): ['brandon'], (4, 'a'): ['sansa'], (5, 'i'): ['cersei'], (2, 't'): ['catelyn'], (3, 'f'): ['joffrey'], (3, 'c'): ['lancel'], (6, 'y'): ['joffrey'], (3, 'm'): ['jaime'], (2, 'f'): ['joffrey'], (5, 'r'): ['rorbert', 'sandor'], (0, 'v'): ['varys'], (1, 'a'): ['catelyn', 'sansa', 'jaime', 'lancel', 'sandor', 'varys'], (2, 'i'): ['jaime'], (3, 'a'): ['eddard', 'arya'], (0, 'b'): ['brandon', 'bronn'], (2, 'b'): ['robb'], (5, 'n'): ['rickon', 'tyrion'], (4, 's'): ['varys'], (5, 'y'): ['catelyn'], (4, 'o'): ['rickon', 'tyrion', 'sandor'], (3, 'e'): ['catelyn', 'shae'], (2, 'n'): ['sansa', 'lancel', 'sandor', 'renly'], (3, 'l'): ['renly'], (3, 's'): ['sansa', 'cersei'], (0, 'a'): ['arya', 'a'], (1, 'i'): ['rickon']}\n"
     ]
    }
   ],
   "source": [
    "def dictionnaire_choisi (liste) :\n",
    "    d = { }\n",
    "    for mot in liste :\n",
    "        for i,c in enumerate(mot) :\n",
    "            d [i,c] = d.get ((i,c), []) + [ mot ]\n",
    "    return d\n",
    "    \n",
    "def mots_lettre_position (d, lettre, position) :\n",
    "    return d.get ( (position, lettre), [] )\n",
    "\n",
    "d = dictionnaire_choisi(mots)\n",
    "r = mots_lettre_position ( d, 'y', 1)\n",
    "print (\"résultat=\",r)\n",
    "print (\"dictionnaire=\",d)"
   ]
  },
  {
   "cell_type": "markdown",
   "metadata": {},
   "source": [
    "S'il permet d'aller beaucoup plus vite pour effectuer une recherche, le dictionnaire ``d`` contient beaucoup plus de mots que la liste initiale. Si on suppose que tous les mots sont uniques, il en contient exactement autant que la somme des longueurs de chaque mot.\n",
    "\n",
    "**A quoi ça sert ?** Tout dépend du nombre de fois qu'on n'effectue ce type de **recherche**. Il faut d'abord décomposer les deux méthodes en coût fixe (préparation du dictionnaire) et coût recherche puis regarder la page [Time Complexity](https://wiki.python.org/moin/TimeComplexity). On obtient :\n",
    "\n",
    "- liste de l'exercice 2 :  coût fixe = 0, coût variable $\\sim O(N)$ \n",
    "- dictionaire de l'exercice 3 : coût fixe $\\sim O(L)$, coût variable $\\sim O(1)$ \n",
    "\n",
    "Où :\n",
    "\n",
    "- $N$ est le nombre de mots,\n",
    "- $L$ est la somme des nombres de lettres de chaque mot,\n",
    "- $M$ est la longueur maximale d'un mot.\n",
    "\n",
    "Les dictionnaires en Python utilisent une [table de hashage](http://fr.wikipedia.org/wiki/Table_de_hachage) pour stocker les clés. L'objet ``map`` de Python ne rapproche plus de l'objet ``unordered_map`` de C++ que de l'objet ``map``. Ce dernier (C++ uniquement) est un tableau trié. L'accès à chaque élément se fait par dichotomie en $O(\\ln_2 n)$ (voir [Standard C++ Containers](http://www.cs.northwestern.edu/~riesbeck/programming/c++/stl-summary.html#map). Le coût dans ce cas serait (toujours en C++) :\n",
    "\n",
    "- dictionaire de l'exercice 3 : coût fixe $\\sim O(L \\, ln_2(26 * M))$, coût variable $\\sim O(ln_2(26 * M))$ \n",
    "\n",
    "\n",
    "Si on effectue cette recherche un grand nombre de fois, l'utilisation d'un dictionnaire permet d'être beaucoup plus rapide même si on doit créer une structure intermédiaire. Ce schéma revient régulièrement : **représenter autrement les données pour accélérer un traitement effectué un grand nombre de fois**. \n",
    "\n",
    "Vous pouvez lire également :\n",
    "\n",
    "- [hash](https://docs.python.org/3.4/reference/datamodel.html#object.__hash__)\n",
    "- [STL Container Performance ](http://john-ahlgren.blogspot.fr/2013/10/stl-container-performance.html)\n",
    "- [C++11: unordered_map vs map](http://kariddi.blogspot.fr/2012/07/c11-unorderedmap-vs-map.html)\n",
    "- [AVL tree](http://en.wikipedia.org/wiki/AVL_tree)\n",
    "- [List of data structures](http://en.wikipedia.org/wiki/List_of_data_structures)\n",
    "- [Time complexity of accessing a Python dict](http://stackoverflow.com/questions/1963507/time-complexity-of-accessing-a-python-dict)\n",
    "- [Hash Table Performance Tests](http://preshing.com/20110603/hash-table-performance-tests/)\n",
    "- [How to implement a good __hash__ function in python](http://stackoverflow.com/questions/4005318/how-to-implement-a-good-hash-function-in-python)"
   ]
  },
  {
   "cell_type": "markdown",
   "metadata": {},
   "source": [
    "<h3 id=\"exo4\">Exercice 4 : crypter de décrypter selon Vigenère</h3>\n",
    "\n",
    "Tout d'abord le code de César :"
   ]
  },
  {
   "cell_type": "code",
   "execution_count": 7,
   "metadata": {
    "collapsed": false
   },
   "outputs": [
    {
     "name": "stdout",
     "output_type": "stream",
     "text": [
      "MHQHVXLVSDVFRGH\n"
     ]
    }
   ],
   "source": [
    "def code_cesar(m):\n",
    "    s = \"\".join( [ chr((ord(l)-65+3)%26+65) for l in m ] )\n",
    "    return s\n",
    "\n",
    "m = \"JENESUISPASCODE\"\n",
    "print(code_cesar(m))"
   ]
  },
  {
   "cell_type": "markdown",
   "metadata": {},
   "source": [
    "Et le code de Vigenère :"
   ]
  },
  {
   "cell_type": "code",
   "execution_count": 8,
   "metadata": {
    "collapsed": false
   },
   "outputs": [
    {
     "name": "stdout",
     "output_type": "stream",
     "text": [
      "MSCHGJLGEDGRRRT\n"
     ]
    }
   ],
   "source": [
    "def code_vigenere ( message, cle) :\n",
    "    message_code = \"\"\n",
    "    for i,c in enumerate(message) :\n",
    "        d = cle[ i % len(cle) ]\n",
    "        d = ord(d) - 65\n",
    "        message_code += chr((ord(c)-65+d)%26+65)\n",
    "    return message_code\n",
    "\n",
    "m = \"JENESUISPASCODE\"\n",
    "print ( code_vigenere (m, \"DOP\") )"
   ]
  },
  {
   "cell_type": "markdown",
   "metadata": {},
   "source": [
    "Et le décryptage du code de Vigenère pour lequel on modifie la fonction précédente qui pourra alors coder et décoder."
   ]
  },
  {
   "cell_type": "code",
   "execution_count": 10,
   "metadata": {
    "collapsed": false
   },
   "outputs": [
    {
     "name": "stdout",
     "output_type": "stream",
     "text": [
      "MSCHGJLGEDGRRRT JENESUISPASCODE\n"
     ]
    }
   ],
   "source": [
    "def code_vigenere ( message, cle, decode = False) :      # ligne changée\n",
    "    message_code = \"\"\n",
    "    for i,c in enumerate(message) :\n",
    "        d = cle[ i % len(cle) ]\n",
    "        d = ord(d) - 65\n",
    "        if decode : d = 26 - d                          # ligne ajoutée\n",
    "        message_code += chr((ord(c)-65+d)%26+65)\n",
    "    return message_code\n",
    "    \n",
    "m = \"JENESUISPASCODE\"\n",
    "c = code_vigenere (m, \"DOP\") \n",
    "d = code_vigenere (c, \"DOP\", True) \n",
    "print(c,d)"
   ]
  },
  {
   "cell_type": "markdown",
   "metadata": {},
   "source": [
    "Pour retrouver le code de César, il suffit de choisir une clé d'une seule lettre :"
   ]
  },
  {
   "cell_type": "code",
   "execution_count": 13,
   "metadata": {
    "collapsed": false
   },
   "outputs": [
    {
     "name": "stdout",
     "output_type": "stream",
     "text": [
      "MHQHVXLVSDVFRGH\n"
     ]
    }
   ],
   "source": [
    "c = code_vigenere (m, \"D\") \n",
    "print(c)"
   ]
  },
  {
   "cell_type": "markdown",
   "metadata": {},
   "source": [
    "On peut casser le code de Vigenère. Vous trouverez la solution ici : [casser le code de Vigenère](http://www.xavierdupre.fr/app/ensae_teaching_cs/helpsphinx/notebooks/expose_vigenere.html)"
   ]
  },
  {
   "cell_type": "code",
   "execution_count": null,
   "metadata": {
    "collapsed": false
   },
   "outputs": [],
   "source": []
  }
 ],
 "metadata": {},
 "nbformat": 4,
 "nbformat_minor": 0
}