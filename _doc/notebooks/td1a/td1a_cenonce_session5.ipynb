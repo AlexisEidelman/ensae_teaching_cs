{
 "cells": [
  {
   "cell_type": "markdown",
   "metadata": {},
   "source": [
    "# TD 5 : Classes, méthodes, attributs, opérateurs et carré magique"
   ]
  },
  {
   "cell_type": "markdown",
   "metadata": {},
   "source": [
    "Plan\n",
    "\n",
    "* [Aparté sur les classes](#apar)\n",
    "* [Classes, attributs, opérateurs](#clas)\n",
    "* [Exercice 1 : carré magique](#exo1)\n",
    "* [Méthodes](#method)\n",
    "* [Exercice 2 : à faire à trois, carré magique (suite)](#exo2)\n",
    "* [Exercice 3 : compter tous les carrés magiques](#exo3)\n",
    "* [Exercice 4 : faire plus rapide](#exo4)\n",
    "\n",
    "La plupart du temps, les classes ne sont pas indispensables et l'expérience montre que la plupart des élèves choisissent de s'en dispenser lors de la réalisation de leur projet. Pourquoi les aborder ? Pour plusieurs raisons :\n",
    "\n",
    "- Un langage de programmation dispose des types standards : entier, réel, chaînes de caractères, tableaux. Hors de cette liste, il n'y a rien à moins de pouvoir le créer, c'est ce que permettent les classes.\n",
    "- Elles rendent le programme plus lisible : tous les projets conséquents utilisent les classes. C'est un peu comme si on disposait d'un vocabulaire enrichi pour décrire un programme.\n",
    "\n",
    "Prenons l'exemple d'un jeu de cartes. Une _carte_ désigne l'objet physique : sa couleur, son numéro (ou figure), son atout... Dans un jeu, chaque carte vaut un certain nombre de points, elle est plus ou moins forte qu'une autre... Comment décrire une carte de tarot ?\n",
    "\n",
    "| option 1                | option 2                                | option 3                                |\n",
    "|-------------------------|-----------------------------------------|-----------------------------------------|\n",
    "| une couleur             | une couleur                             | une couleur                             |\n",
    "| un numéro               | un numéro (atout = nombre > 100)        | un numéro (atout = nombre > 100)        |\n",
    "| un atout                |                                         | un nombre de points                     |\n",
    "\n",
    "Définir une classe dans votre programme vous permet de définir précisément ce que le concept signifie selon trois aspects :\n",
    "\n",
    "- les **attributs** : les données que la classe considère comme un tout,\n",
    "- les **méthodes** : des fonctions opérant sur les attributs,\n",
    "- les **opérateurs** : des fonctions spécifiques pour définir ce qu'est une addition, une soustraction...\n",
    "\n",
    "<h3 id=\"apar\">Aparté sur les classes</h3>\n",
    "\n",
    "On ne voit pas toujours l'intérêt d'utiliser des classes pour un exemple peut-être trop simple que celui-ci qui suit. Imaginons une fonction d'optimisation avec 10 paramètres comme celle-ci [scipy.optimize.minimize](http://docs.scipy.org/doc/scipy/reference/generated/scipy.optimize.minimize.html#scipy.optimize.minimize) où les paramètres sont transmis sous forme de dictionnaire. Pourquoi faire ça ? Souvent parce que les paramètres doivent être transmis à de nombreuses autres fonctions et qu'il serait fastidieux de répéter à chaque fois la liste des paramètres. Au lieu d'utiliser un dictionnaire, on peut également créer une classe qui regrouperait des paramètres :"
   ]
  },
  {
   "cell_type": "code",
   "execution_count": 3,
   "metadata": {
    "collapsed": false
   },
   "outputs": [],
   "source": [
    "class MesParametres:\n",
    "    def __init__(self):\n",
    "        self.pas_gradient = 0.001\n",
    "        self.constante =  2.0\n",
    "        self.iteration = 1000\n",
    "        # ..."
   ]
  },
  {
   "cell_type": "markdown",
   "metadata": {},
   "source": [
    "Ensuite, il suffit de créer une instance cette classe :"
   ]
  },
  {
   "cell_type": "code",
   "execution_count": 4,
   "metadata": {
    "collapsed": false
   },
   "outputs": [],
   "source": [
    "p = MesParametres()"
   ]
  },
  {
   "cell_type": "markdown",
   "metadata": {},
   "source": [
    "Et maintenant, il suffit d'écrire une fonction utilisant les paramètres :"
   ]
  },
  {
   "cell_type": "code",
   "execution_count": 5,
   "metadata": {
    "collapsed": false
   },
   "outputs": [],
   "source": [
    "def fonction_any(f, x, p):\n",
    "    for i in range(0,p.iteration):\n",
    "        # ...\n",
    "        pass"
   ]
  },
  {
   "cell_type": "markdown",
   "metadata": {},
   "source": [
    "A quoi sert le paramètre ``self``, une raisons est qu'on peut créer plein d'instances de paramètres :"
   ]
  },
  {
   "cell_type": "code",
   "execution_count": 6,
   "metadata": {
    "collapsed": false
   },
   "outputs": [],
   "source": [
    "p1 = MesParametres()\n",
    "p2 = MesParametres()\n",
    "p3 = MesParametres()"
   ]
  },
  {
   "cell_type": "markdown",
   "metadata": {},
   "source": [
    "Cela veut dire plusieurs variables ``p1``, ``p2``, ``p3`` mais une seule façon de les définir toutes, une façon de dire que le code ci-dessus est à la fois valide pour ``p1``, ``p2`` et ``p3``. On a besoin d'une sorte de pronom."
   ]
  },
  {
   "cell_type": "markdown",
   "metadata": {},
   "source": [
    "<h3 id=\"clas\">Classes, attributs, opérateurs</h3>\n",
    "\n",
    "On veut définir une classe ``Point`` équivalent à un point dans le plan."
   ]
  },
  {
   "cell_type": "code",
   "execution_count": 7,
   "metadata": {
    "collapsed": false
   },
   "outputs": [],
   "source": [
    "class Point :\n",
    "    def __init__ (self, x,y) :\n",
    "        self.x = x\n",
    "        self.y = y"
   ]
  },
  {
   "cell_type": "markdown",
   "metadata": {},
   "source": [
    "De cette façon, on peut définir un point de coordonnées (4,5) :"
   ]
  },
  {
   "cell_type": "code",
   "execution_count": 8,
   "metadata": {
    "collapsed": false
   },
   "outputs": [],
   "source": [
    "p = Point (4,5)"
   ]
  },
  {
   "cell_type": "markdown",
   "metadata": {},
   "source": [
    "**Vocabulaire :**\n",
    "\n",
    "- ``p`` est une instance de la classe ``Point``. Il n'existe qu'une classe ``Point`` mais autant d'instances qu'on veut. Dans notre cas : instance = variable de type ``Point``.\n",
    "- ``__init__`` : est un constructeur. Il définit ce que Python doit faire lorsqu'on crée une instance.\n",
    "- ``self.x``, ``self.y`` sont des attributs (ou des variables à l'intérieur d'une classe).\n",
    "\n",
    "La variable ``self`` peut être remplacée par n'importe quoi. C'est une convention de langage pour désigner l'instance manipulée à l'intérieur de la classe :"
   ]
  },
  {
   "cell_type": "code",
   "execution_count": 9,
   "metadata": {
    "collapsed": false
   },
   "outputs": [],
   "source": [
    "class Point :\n",
    "    def __init__ (moi, x,y) :\n",
    "        moi.x = x\n",
    "        moi.y = y\n",
    "\n",
    "p1 = Point(4,5)  # moi désigne p1 ici\n",
    "p2 = Point(6,7)  # moi désigne p2 ici"
   ]
  },
  {
   "cell_type": "markdown",
   "metadata": {},
   "source": [
    "Si on utilise ``print`` : "
   ]
  },
  {
   "cell_type": "code",
   "execution_count": 10,
   "metadata": {
    "collapsed": false
   },
   "outputs": [
    {
     "name": "stdout",
     "output_type": "stream",
     "text": [
      "<__main__.Point object at 0x00000000072AA208>\n"
     ]
    }
   ],
   "source": [
    "print (p1)"
   ]
  },
  {
   "cell_type": "markdown",
   "metadata": {},
   "source": [
    "Pour éviter cela, on peut afficher directement ``x`` et ``y`` :"
   ]
  },
  {
   "cell_type": "code",
   "execution_count": 11,
   "metadata": {
    "collapsed": false
   },
   "outputs": [
    {
     "name": "stdout",
     "output_type": "stream",
     "text": [
      "4 5\n"
     ]
    }
   ],
   "source": [
    "print (p1.x, p1.y)"
   ]
  },
  {
   "cell_type": "markdown",
   "metadata": {},
   "source": [
    "Ou ajouter l'opérateur ``__str__`` :"
   ]
  },
  {
   "cell_type": "code",
   "execution_count": 12,
   "metadata": {
    "collapsed": false
   },
   "outputs": [
    {
     "name": "stdout",
     "output_type": "stream",
     "text": [
      "point: (4,5)\n"
     ]
    }
   ],
   "source": [
    "class Point :\n",
    "    def __init__ (moi, x,y) :\n",
    "        moi.x = x\n",
    "        moi.y = y\n",
    "    def __str__(moi):\n",
    "        return \"point: ({0},{1})\".format(moi.x, moi.y)\n",
    "    \n",
    "p = Point(4,5)\n",
    "print (p)"
   ]
  },
  {
   "cell_type": "markdown",
   "metadata": {},
   "source": [
    "On peut également définir l'addition :"
   ]
  },
  {
   "cell_type": "code",
   "execution_count": 13,
   "metadata": {
    "collapsed": false
   },
   "outputs": [
    {
     "name": "stdout",
     "output_type": "stream",
     "text": [
      "8,10\n"
     ]
    }
   ],
   "source": [
    "class Point :\n",
    "    def __init__ (moi, x,y) :\n",
    "        moi.x = x\n",
    "        moi.y = y\n",
    "    def __str__(moi):\n",
    "        return \"{0},{1}\".format(moi.x, moi.y)\n",
    "    def __add__(moi, autre_point) :\n",
    "        return Point(moi.x + autre_point.x, moi.y + autre_point.y) \n",
    "    \n",
    "p = Point(4,5)\n",
    "print (p + p) "
   ]
  },
  {
   "cell_type": "markdown",
   "metadata": {},
   "source": [
    "On peut redéfinir tous les [opérateurs numériques](https://docs.python.org/3.4/reference/datamodel.html#emulating-numeric-types) mais il en existe beaucoup d'autres comme l'opérateur ``[]`` (voir [container](https://docs.python.org/3.4/reference/datamodel.html#emulating-container-types).\n",
    "\n",
    "<h3 id=\"exo1\">Exercice 1 : carré magique</h3>\n",
    "\n",
    "On souhaite appliqer ce qu'on vient de voir pour définir un carré magique qui contient neuf chiffres rangés dans un tableau à deux dimensions. On ajoutera l'opérateur ``__str__``."
   ]
  },
  {
   "cell_type": "code",
   "execution_count": null,
   "metadata": {
    "collapsed": false
   },
   "outputs": [],
   "source": [
    "class CarreMagique :\n",
    "    def __init__(self, ...) :\n",
    "        # ......\n",
    "    def __str__(self) :\n",
    "        # ......\n",
    "    def __add__(self) :\n",
    "        # ......"
   ]
  },
  {
   "cell_type": "markdown",
   "metadata": {},
   "source": [
    "<h3 id=\"method\">Méthodes</h3>\n",
    "\n",
    "Une méthode est une fonction rattachée à une classe et qui s'applique aux données de la classe et celles envoyées en paramètres :"
   ]
  },
  {
   "cell_type": "code",
   "execution_count": 1,
   "metadata": {
    "collapsed": false
   },
   "outputs": [
    {
     "name": "stdout",
     "output_type": "stream",
     "text": [
      "6.4031242374328485\n"
     ]
    }
   ],
   "source": [
    "class Point :\n",
    "    def __init__ (moi, x,y) :\n",
    "        moi.x = x\n",
    "        moi.y = y\n",
    "    def norm(moi) :\n",
    "        return (moi.x**2 + moi.y**2) ** 0.5\n",
    "    \n",
    "p = Point(4,5)\n",
    "print (p.norm())"
   ]
  },
  {
   "cell_type": "markdown",
   "metadata": {},
   "source": [
    "Avec un paramètre :"
   ]
  },
  {
   "cell_type": "code",
   "execution_count": 2,
   "metadata": {
    "collapsed": false
   },
   "outputs": [
    {
     "name": "stdout",
     "output_type": "stream",
     "text": [
      "9.0\n",
      "6.4031242374328485\n",
      "5.738793548317167\n",
      "5.000000000010186\n"
     ]
    }
   ],
   "source": [
    "class Point :\n",
    "    def __init__ (moi, x,y) :\n",
    "        moi.x = x\n",
    "        moi.y = y\n",
    "    def norm(moi, lx = 2) :\n",
    "        return (abs(moi.x)**lx + abs(moi.y)**lx) ** (1.0 / lx)\n",
    "    \n",
    "p = Point(4,5)    \n",
    "print (p.norm(1))\n",
    "print (p.norm(2))\n",
    "print (p.norm(3))\n",
    "print (p.norm(100))"
   ]
  },
  {
   "cell_type": "markdown",
   "metadata": {},
   "source": [
    "On peut bien sûr appeler une méthode de la classe depuis une autre méthode de la même classe :"
   ]
  },
  {
   "cell_type": "code",
   "execution_count": 3,
   "metadata": {
    "collapsed": false
   },
   "outputs": [
    {
     "name": "stdout",
     "output_type": "stream",
     "text": [
      "True\n",
      "False\n"
     ]
    }
   ],
   "source": [
    "class Point :\n",
    "    def __init__ (moi, x,y) :\n",
    "        moi.x = x\n",
    "        moi.y = y\n",
    "    def norm(moi, lx = 2) :\n",
    "        if lx == 0 : return moi.est_nul()\n",
    "        else : return (abs(moi.x)**lx + abs(moi.y)**lx) ** (1.0 / lx)\n",
    "    def est_nul(moi):\n",
    "        return  moi.x == 0 and moi.y == 0\n",
    "    \n",
    "p0 = Point(0,0)\n",
    "p  = Point(0,4)\n",
    "print(p0.est_nul())\n",
    "print(p.est_nul())"
   ]
  },
  {
   "cell_type": "markdown",
   "metadata": {},
   "source": [
    "<h3 id=\"exo2\">Exercice 2 : à faire à trois, carré magique (suite)</h3>\n",
    "\n",
    "Ajouter trois méthodes à la classe carré magique :\n",
    "\n",
    "- une méthode qui compte la somme des nombres sur chaque ligne, colonne, diagonale\n",
    "- une méthode qui dit si tous les chiffres du carrés sont uniques,\n",
    "- une méthode qui dit si le carré est magique."
   ]
  },
  {
   "cell_type": "markdown",
   "metadata": {},
   "source": [
    "<h3 id=\"exo3\">Exercice 3 : trouver tous les carrés magiques</h3>\n",
    "\n",
    "On peut décomposer ce problème en deux étapes :\n",
    "\n",
    "- Considérer un ensemble de carrés qui inclut l'ensemble des carrés magiques\n",
    "- Parcourir cet ensemble et mémoriser dans une liste ceux qui sont magiques."
   ]
  },
  {
   "cell_type": "markdown",
   "metadata": {},
   "source": [
    "<h3 id=\"exo4\">Exercice 4 : faire plus rapide</h3>\n",
    "    \n",
    "La vitesse de la fonction dépend de l'ensemble de départ qui peut contenir $9^9$ possibilités, ou encore $9!$. \n",
    "\n",
    "- A quoi correspondent ces nombres ? \n",
    "- Peut-on faire plus rapide encore ?"
   ]
  },
  {
   "cell_type": "code",
   "execution_count": null,
   "metadata": {
    "collapsed": false
   },
   "outputs": [],
   "source": []
  }
 ],
 "metadata": {},
 "nbformat": 4,
 "nbformat_minor": 0
}