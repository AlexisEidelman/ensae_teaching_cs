{
 "metadata": {
  "name": "",
  "signature": "sha256:ae0606c818136c0f0e2d307694f3506cf5bad572a69e101f42f24a40ee6e3937"
 },
 "nbformat": 3,
 "nbformat_minor": 0,
 "worksheets": [
  {
   "cells": [
    {
     "cell_type": "heading",
     "level": 1,
     "metadata": {},
     "source": [
      "TD 5 : Classes, m\u00e9thodes, attributs, op\u00e9rateurs et carr\u00e9 magique"
     ]
    },
    {
     "cell_type": "markdown",
     "metadata": {},
     "source": [
      "Plan\n",
      "\n",
      "* [Apart\u00e9 sur les classes](#apar)\n",
      "* [Classes, attributs, op\u00e9rateurs](#clas)\n",
      "* [Exercice 1 : carr\u00e9 magique](#exo1)\n",
      "* [M\u00e9thodes](#method)\n",
      "* [Exercice 2 : \u00e0 faire \u00e0 trois, carr\u00e9 magique (suite)](#exo2)\n",
      "* [Exercice 3 : compter tous les carr\u00e9s magiques](#exo3)\n",
      "* [Exercice 4 : faire plus rapide](#exo4)\n",
      "\n",
      "La plupart du temps, les classes ne sont pas indispensables et l'exp\u00e9rience montre que la plupart des \u00e9l\u00e8ves choisissent de s'en dispenser lors de la r\u00e9alisation de leur projet. Pourquoi les aborder ? Pour plusieurs raisons :\n",
      "\n",
      "- Un langage de programmation dispose des types standards : entier, r\u00e9el, cha\u00eenes de caract\u00e8res, tableaux. Hors de cette liste, il n'y a rien \u00e0 moins de pouvoir le cr\u00e9er, c'est ce que permettent les classes.\n",
      "- Elles rendent le programme plus lisible : tous les projets cons\u00e9quents utilisent les classes. C'est un peu comme si on disposait d'un vocabulaire enrichi pour d\u00e9crire un programme.\n",
      "\n",
      "Prenons l'exemple d'un jeu de cartes. Une _carte_ d\u00e9signe l'objet physique : sa couleur, son num\u00e9ro (ou figure), son atout... Dans un jeu, chaque carte vaut un certain nombre de points, elle est plus ou moins forte qu'une autre... Comment d\u00e9crire une carte de tarot ?\n",
      "\n",
      "| option 1                | option 2                                | option 3                                |\n",
      "|-------------------------|-----------------------------------------|-----------------------------------------|\n",
      "| une couleur             | une couleur                             | une couleur                             |\n",
      "| un num\u00e9ro               | un num\u00e9ro (atout = nombre > 100)        | un num\u00e9ro (atout = nombre > 100)        |\n",
      "| un atout                |                                         | un nombre de points                     |\n",
      "\n",
      "D\u00e9finir une classe dans votre programme vous permet de d\u00e9finir pr\u00e9cis\u00e9ment ce que le concept signifie selon trois aspects :\n",
      "\n",
      "- les **attributs** : les donn\u00e9es que la classe consid\u00e8re comme un tout,\n",
      "- les **m\u00e9thodes** : des fonctions op\u00e9rant sur les attributs,\n",
      "- les **op\u00e9rateurs** : des fonctions sp\u00e9cifiques pour d\u00e9finir ce qu'est une addition, une soustraction...\n",
      "\n",
      "<h3 id=\"apar\">Apart\u00e9 sur les classes</h3>\n",
      "\n",
      "On ne voit pas toujours l'int\u00e9r\u00eat d'utiliser des classes pour un exemple peut-\u00eatre trop simple que celui-ci qui suit. Imaginons une fonction d'optimisation avec 10 param\u00e8tres comme celle-ci [scipy.optimize.minimize](http://docs.scipy.org/doc/scipy/reference/generated/scipy.optimize.minimize.html#scipy.optimize.minimize) o\u00f9 les param\u00e8tres sont transmis sous forme de dictionnaire. Pourquoi faire \u00e7a ? Souvent parce que les param\u00e8tres doivent \u00eatre transmis \u00e0 de nombreuses autres fonctions et qu'il serait fastidieux de r\u00e9p\u00e9ter \u00e0 chaque fois la liste des param\u00e8tres. Au lieu d'utiliser un dictionnaire, on peut \u00e9galement cr\u00e9er une classe qui regrouperait des param\u00e8tres :"
     ]
    },
    {
     "cell_type": "code",
     "collapsed": false,
     "input": [
      "class MesParametres:\n",
      "    def __init__(self):\n",
      "        self.pas_gradient = 0.001\n",
      "        self.constante =  2.0\n",
      "        self.iteration = 1000\n",
      "        # ..."
     ],
     "language": "python",
     "metadata": {},
     "outputs": [],
     "prompt_number": 4
    },
    {
     "cell_type": "markdown",
     "metadata": {},
     "source": [
      "Ensuite, il suffit de cr\u00e9er une instance cette classe :"
     ]
    },
    {
     "cell_type": "code",
     "collapsed": false,
     "input": [
      "p = MesParametres()"
     ],
     "language": "python",
     "metadata": {},
     "outputs": [],
     "prompt_number": 7
    },
    {
     "cell_type": "markdown",
     "metadata": {},
     "source": [
      "Et maintenant, il suffit d'\u00e9crire une fonction utilisant les param\u00e8tres :"
     ]
    },
    {
     "cell_type": "code",
     "collapsed": false,
     "input": [
      "def fonction_any(f, x, p):\n",
      "    for i in range(0,p.iteration):\n",
      "        #....\n",
      "        pass"
     ],
     "language": "python",
     "metadata": {},
     "outputs": [],
     "prompt_number": 9
    },
    {
     "cell_type": "markdown",
     "metadata": {},
     "source": [
      "A quoi sert le param\u00e8tre ``self``, une raisons est qu'on peut cr\u00e9er plein d'instances de param\u00e8tres :"
     ]
    },
    {
     "cell_type": "code",
     "collapsed": false,
     "input": [
      "p1 = MesParametres()\n",
      "p2 = MesParametres()\n",
      "p3 = MesParametres()"
     ],
     "language": "python",
     "metadata": {},
     "outputs": [],
     "prompt_number": 6
    },
    {
     "cell_type": "markdown",
     "metadata": {},
     "source": [
      "Cela veut dire plusieurs variables ``p1``, ``p2``, ``p3`` mais une seule fa\u00e7on de les d\u00e9finir toutes, une fa\u00e7on de dire que le code ci-dessus est \u00e0 la fois valide pour ``p1``, ``p2`` et ``p3``. On a besoin d'une sorte de pronom."
     ]
    },
    {
     "cell_type": "markdown",
     "metadata": {},
     "source": [
      "<h3 id=\"clas\">Classes, attributs, op\u00e9rateurs</h3>\n",
      "\n",
      "On veut d\u00e9finir une classe ``Point`` \u00e9quivalent \u00e0 un point dans le plan."
     ]
    },
    {
     "cell_type": "code",
     "collapsed": false,
     "input": [
      "class Point :\n",
      "    def __init__ (self, x,y) :\n",
      "        self.x = x\n",
      "        self.y = y"
     ],
     "language": "python",
     "metadata": {},
     "outputs": [],
     "prompt_number": 1
    },
    {
     "cell_type": "markdown",
     "metadata": {},
     "source": [
      "De cette fa\u00e7on, on peut d\u00e9finir un point de coordonn\u00e9es (4,5) :"
     ]
    },
    {
     "cell_type": "code",
     "collapsed": false,
     "input": [
      "p = Point (4,5)"
     ],
     "language": "python",
     "metadata": {},
     "outputs": [],
     "prompt_number": 2
    },
    {
     "cell_type": "markdown",
     "metadata": {},
     "source": [
      "**Vocabulaire :**\n",
      "\n",
      "- ``p`` est une instance de la classe ``Point``. Il n'existe qu'une classe ``Point`` mais autant d'instances qu'on veut. Dans notre cas : instance = variable de type ``Point``.\n",
      "- ``__init__`` : est un constructeur. Il d\u00e9finit ce que Python doit faire lorsqu'on cr\u00e9e une instance.\n",
      "- ``self.x``, ``self.y`` sont des attributs (ou des variables \u00e0 l'int\u00e9rieur d'une classe).\n",
      "\n",
      "La variable ``self`` peut \u00eatre remplac\u00e9e par n'importe quoi. C'est une convention de langage pour d\u00e9signer l'instance manipul\u00e9e \u00e0 l'int\u00e9rieur de la classe :"
     ]
    },
    {
     "cell_type": "code",
     "collapsed": false,
     "input": [
      "class Point :\n",
      "    def __init__ (moi, x,y) :\n",
      "        moi.x = x\n",
      "        moi.y = y\n",
      "\t\t\t\t\n",
      "p1 = Point(4,5)  # moi d\u00e9signe p1 ici\n",
      "p2 = Point(6,7)  # moi d\u00e9signe p2 ici"
     ],
     "language": "python",
     "metadata": {},
     "outputs": [],
     "prompt_number": 3
    },
    {
     "cell_type": "markdown",
     "metadata": {},
     "source": [
      "Si on utilise ``print`` : "
     ]
    },
    {
     "cell_type": "code",
     "collapsed": false,
     "input": [
      "print (p1)"
     ],
     "language": "python",
     "metadata": {},
     "outputs": [
      {
       "output_type": "stream",
       "stream": "stdout",
       "text": [
        "<__main__.Point object at 0x04258910>\n"
       ]
      }
     ],
     "prompt_number": 4
    },
    {
     "cell_type": "markdown",
     "metadata": {},
     "source": [
      "Pour \u00e9viter cela, on peut afficher directement ``x`` et ``y`` :"
     ]
    },
    {
     "cell_type": "code",
     "collapsed": false,
     "input": [
      "print (p1.x, p1.y)"
     ],
     "language": "python",
     "metadata": {},
     "outputs": [
      {
       "output_type": "stream",
       "stream": "stdout",
       "text": [
        "4 5\n"
       ]
      }
     ],
     "prompt_number": 5
    },
    {
     "cell_type": "markdown",
     "metadata": {},
     "source": [
      "Ou ajouter l'op\u00e9rateur ``__str__`` :"
     ]
    },
    {
     "cell_type": "code",
     "collapsed": false,
     "input": [
      "class Point :\n",
      "    def __init__ (moi, x,y) :\n",
      "        moi.x = x\n",
      "        moi.y = y\n",
      "    def __str__(moi):\n",
      "        return \"point: ({0},{1})\".format(moi.x, moi.y)\n",
      "    \n",
      "p = Point(4,5)\n",
      "print (p)"
     ],
     "language": "python",
     "metadata": {},
     "outputs": [
      {
       "output_type": "stream",
       "stream": "stdout",
       "text": [
        "point: (4,5)\n"
       ]
      }
     ],
     "prompt_number": 6
    },
    {
     "cell_type": "markdown",
     "metadata": {},
     "source": [
      "On peut \u00e9galement d\u00e9finir l'addition :"
     ]
    },
    {
     "cell_type": "code",
     "collapsed": false,
     "input": [
      "class Point :\n",
      "    def __init__ (moi, x,y) :\n",
      "        moi.x = x\n",
      "        moi.y = y\n",
      "    def __str__(moi):\n",
      "        return \"{0},{1}\".format(moi.x, moi.y)\n",
      "    def __add__(moi, autre_point) :\n",
      "        return Point(moi.x + autre_point.x, moi.y + autre_point.y) \n",
      "    \n",
      "p = Point(4,5)\n",
      "print (p + p) "
     ],
     "language": "python",
     "metadata": {},
     "outputs": [
      {
       "output_type": "stream",
       "stream": "stdout",
       "text": [
        "8,10\n"
       ]
      }
     ],
     "prompt_number": 7
    },
    {
     "cell_type": "markdown",
     "metadata": {},
     "source": [
      "On peut red\u00e9finir tous les [op\u00e9rateurs num\u00e9riques](https://docs.python.org/3.4/reference/datamodel.html#emulating-numeric-types) mais il en existe beaucoup d'autres comme l'op\u00e9rateur ``[]`` (voir [container](https://docs.python.org/3.4/reference/datamodel.html#emulating-container-types).\n",
      "\n",
      "<h3 id=\"exo1\">Exercice 1 : carr\u00e9 magique</h3>\n",
      "\n",
      "On souhaite appliqer ce qu'on vient de voir pour d\u00e9finir un carr\u00e9 magique qui contient neuf chiffres rang\u00e9s dans un tableau \u00e0 deux dimensions. On ajoutera l'op\u00e9rateur ``__str__``."
     ]
    },
    {
     "cell_type": "code",
     "collapsed": false,
     "input": [
      "class CarreMagique :\n",
      "    def __init__(self, ...) :\n",
      "        #....\n",
      "    def __str__(self) :\n",
      "        #....\n",
      "    def __add__(self) :\n",
      "        #...."
     ],
     "language": "python",
     "metadata": {},
     "outputs": []
    },
    {
     "cell_type": "markdown",
     "metadata": {},
     "source": [
      "<h3 id=\"method\">M\u00e9thodes</h3>\n",
      "\n",
      "Une m\u00e9thode est une fonction rattach\u00e9e \u00e0 une classe et qui s'applique aux donn\u00e9es de la classe et celles envoy\u00e9es en param\u00e8tres :"
     ]
    },
    {
     "cell_type": "code",
     "collapsed": false,
     "input": [
      "class Point :\n",
      "    def __init__ (moi, x,y) :\n",
      "        moi.x = x\n",
      "        moi.y = y\n",
      "    def norm(moi) :\n",
      "        return (moi.x**2 + moi.y**2) ** 0.5\n",
      "    \n",
      "p = Point(4,5)\n",
      "print (p.norm())"
     ],
     "language": "python",
     "metadata": {},
     "outputs": [
      {
       "output_type": "stream",
       "stream": "stdout",
       "text": [
        "6.4031242374328485\n"
       ]
      }
     ],
     "prompt_number": 8
    },
    {
     "cell_type": "markdown",
     "metadata": {},
     "source": [
      "Avec un param\u00e8tre :"
     ]
    },
    {
     "cell_type": "code",
     "collapsed": false,
     "input": [
      "class Point :\n",
      "    def __init__ (moi, x,y) :\n",
      "        moi.x = x\n",
      "        moi.y = y\n",
      "    def norm(moi, lx = 2) :\n",
      "        return (abs(moi.x)**lx + abs(moi.y)**lx) ** (1.0 / lx)\n",
      "    \n",
      "p = Point(4,5)    \n",
      "print (p.norm(1))\n",
      "print (p.norm(2))\n",
      "print (p.norm(3))\n",
      "print (p.norm(100))"
     ],
     "language": "python",
     "metadata": {},
     "outputs": [
      {
       "output_type": "stream",
       "stream": "stdout",
       "text": [
        "9.0\n",
        "6.4031242374328485\n",
        "5.738793548317167\n",
        "5.000000000010186\n"
       ]
      }
     ],
     "prompt_number": 10
    },
    {
     "cell_type": "markdown",
     "metadata": {},
     "source": [
      "On peut bien s\u00fbr appeler une m\u00e9thode de la classe depuis une autre m\u00e9thode de la m\u00eame classe :"
     ]
    },
    {
     "cell_type": "code",
     "collapsed": false,
     "input": [
      "class Point :\n",
      "    def __init__ (moi, x,y) :\n",
      "        moi.x = x\n",
      "        moi.y = y\n",
      "    def norm(moi, lx = 2) :\n",
      "        if lx == 0 : return moi.est_nul()\n",
      "        else : return (abs(moi.x)**lx + abs(moi.y)**lx) ** (1.0 / lx)\n",
      "    def est_nul(moi):\n",
      "        return  moi.x == 0 and moi.y == 0\n",
      "    \n",
      "p0 = Point(0,0)\n",
      "p  = Point(0,4)\n",
      "print(p0.est_nul())\n",
      "print(p.est_nul())"
     ],
     "language": "python",
     "metadata": {},
     "outputs": [
      {
       "output_type": "stream",
       "stream": "stdout",
       "text": [
        "True\n",
        "False\n"
       ]
      }
     ],
     "prompt_number": 12
    },
    {
     "cell_type": "markdown",
     "metadata": {},
     "source": [
      "<h3 id=\"exo2\">Exercice 2 : \u00e0 faire \u00e0 trois, carr\u00e9 magique (suite)</h3>\n",
      "\n",
      "Ajouter trois m\u00e9thodes \u00e0 la classe carr\u00e9 magique :\n",
      "\n",
      "- une m\u00e9thode qui compte la somme des nombres sur chaque ligne, colonne, diagonale\n",
      "- une m\u00e9thode qui dit si tous les chiffres du carr\u00e9s sont uniques,\n",
      "- une m\u00e9thode qui dit si le carr\u00e9 est magique."
     ]
    },
    {
     "cell_type": "markdown",
     "metadata": {},
     "source": [
      "<h3 id=\"exo3\">Exercice 3 : trouver tous les carr\u00e9s magiques</h3>\n",
      "\n",
      "On peut d\u00e9composer ce probl\u00e8me en deux \u00e9tapes :\n",
      "\n",
      "- Consid\u00e9rer un ensemble de carr\u00e9s qui inclut l'ensemble des carr\u00e9s magiques\n",
      "- Parcourir cet ensemble et m\u00e9moriser dans une liste ceux qui sont magiques."
     ]
    },
    {
     "cell_type": "markdown",
     "metadata": {},
     "source": [
      "<h3 id=\"exo4\">Exercice 4 : faire plus rapide</h3>\n",
      "    \n",
      "La vitesse de la fonction d\u00e9pend de l'ensemble de d\u00e9part qui peut contenir $9^9$ possibilit\u00e9s, ou encore $9!$. \n",
      "\n",
      "- A quoi correspondent ces nombres ? \n",
      "- Peut-on faire plus rapide encore ?"
     ]
    },
    {
     "cell_type": "code",
     "collapsed": false,
     "input": [],
     "language": "python",
     "metadata": {},
     "outputs": []
    }
   ],
   "metadata": {}
  }
 ]
}