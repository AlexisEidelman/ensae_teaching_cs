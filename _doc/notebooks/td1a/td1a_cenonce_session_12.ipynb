{
 "metadata": {
  "name": "",
  "signature": "sha256:888068784cd8e4a19bfab5ed09bfd9e35040e6995ca11110f88530fcb088bd90"
 },
 "nbformat": 3,
 "nbformat_minor": 0,
 "worksheets": [
  {
   "cells": [
    {
     "cell_type": "heading",
     "level": 1,
     "metadata": {},
     "source": [
      "TD 12 : visualisation des donn\u00e9es"
     ]
    },
    {
     "cell_type": "markdown",
     "metadata": {},
     "source": [
      "Plan\n",
      "\n",
      "- [Matploblib, pandas](#mat)\n",
      "    - [R\u00e9cup\u00e9ration des donn\u00e9es](#recup)\n",
      "    - [Exercice 1 : \u00e9cart entre les mari\u00e9s](#exo1)\n",
      "    - [Exercice 2 : graphe de la distribution avec pandas](#exo2)\n",
      "    - [matploblib](#mat)\n",
      "    - [Exercice 3 : distribution des mariages par jour](#exo3)\n",
      "- [Autres alternatives](#alt)\n",
      "    - [ggplot](#ggplot)\n",
      "    - [Exercice 4 : m\u00eame graphique avec ggplot](#exo4)\n",
      "- [R\u00e9seaux, graphes](#graph)    \n",
      "    - [networkx](#net)\n",
      "    - [Graphviz](#graph)\n",
      "    - [Exercice 5 : dessin d'un graphe avec networkx](#exo5)\n",
      "- [Graphiques interactifs](#inter)\n",
      "\n",
      "Sauf \u00e0 r\u00e9utiliser un code d\u00e9j\u00e0 \u00e9crit, il est relativement difficile de faire un graphique sans connexion internet car on a fr\u00e9quemment besoin de l'aide ou d'exemples d\u00e9j\u00e0 \u00e9crits par d'autres. Il n'est pas rare d'utiliser une dizaine de requ\u00eate internet avant d'arriver \u00e0 ses fins.\n",
      "    \n",
      "\n",
      "<h2 id=\"mat\">Matplotlib, pandas</h2>\n",
      "\n",
      "<h3 id=\"recup\">R\u00e9cup\u00e9ration des donn\u00e9es</h3>\n",
      "\n",
      "On r\u00e9cup\u00e8re les donn\u00e9es disponibles sur le site de l'INSEE : [Naissance, d\u00e9c\u00e8s, mariages 2012](http://www.insee.fr/fr/themes/detail.asp?ref_id=fd-etatcivil2012&page=fichiers_detail/etatcivil2012/doc/documentation.htm). Il s'agit de r\u00e9cup\u00e9rer la liste des mariages de l'ann\u00e9e 2012. On souhaite repr\u00e9senter le graphe du nombre de mariages en fonction de l'\u00e9cart entre les mari\u00e9s."
     ]
    },
    {
     "cell_type": "code",
     "collapsed": false,
     "input": [
      "import pyensae\n",
      "files = [\"etatcivil2012_nais2012_dbase.zip\",\n",
      "         \"etatcivil2012_dec2012_dbase.zip\",\n",
      "         \"etatcivil2012_mar2012_dbase.zip\" ]\n",
      "pyensae.download_data(files[0], \n",
      "              website = 'http://telechargement.insee.fr/fichiersdetail/etatcivil2012/dbase/')\n",
      "df = pyensae.dBase2df(\"mar2012.dbf\")\n",
      "print(df.shape, df.columns)\n",
      "df.head()"
     ],
     "language": "python",
     "metadata": {},
     "outputs": [
      {
       "output_type": "stream",
       "stream": "stdout",
       "text": [
        "(246123, 16) Index(['AMAR', 'ANAISF', 'ANAISH', 'DEPDOM', 'DEPMAR', 'DEPNAISF', 'DEPNAISH', 'ETAMATF', 'ETAMATH', 'INDNATF', 'INDNATH', 'JSEMAINE', 'MMAR', 'NBENFCOM', 'TUCOM', 'TUDOM'], dtype='object')\n"
       ]
      },
      {
       "html": [
        "<div style=\"max-height:1000px;max-width:1500px;overflow:auto;\">\n",
        "<table border=\"1\" class=\"dataframe\">\n",
        "  <thead>\n",
        "    <tr style=\"text-align: right;\">\n",
        "      <th></th>\n",
        "      <th>AMAR</th>\n",
        "      <th>ANAISF</th>\n",
        "      <th>ANAISH</th>\n",
        "      <th>DEPDOM</th>\n",
        "      <th>DEPMAR</th>\n",
        "      <th>DEPNAISF</th>\n",
        "      <th>DEPNAISH</th>\n",
        "      <th>ETAMATF</th>\n",
        "      <th>ETAMATH</th>\n",
        "      <th>INDNATF</th>\n",
        "      <th>INDNATH</th>\n",
        "      <th>JSEMAINE</th>\n",
        "      <th>MMAR</th>\n",
        "      <th>NBENFCOM</th>\n",
        "      <th>TUCOM</th>\n",
        "      <th>TUDOM</th>\n",
        "    </tr>\n",
        "  </thead>\n",
        "  <tbody>\n",
        "    <tr>\n",
        "      <th>0</th>\n",
        "      <td> 2012</td>\n",
        "      <td> 1984</td>\n",
        "      <td> 1982</td>\n",
        "      <td> 99</td>\n",
        "      <td> 29</td>\n",
        "      <td> 99</td>\n",
        "      <td> 75</td>\n",
        "      <td> 1</td>\n",
        "      <td> 1</td>\n",
        "      <td> 2</td>\n",
        "      <td> 1</td>\n",
        "      <td> 1</td>\n",
        "      <td> 01</td>\n",
        "      <td> N</td>\n",
        "      <td> </td>\n",
        "      <td> 9</td>\n",
        "    </tr>\n",
        "    <tr>\n",
        "      <th>1</th>\n",
        "      <td> 2012</td>\n",
        "      <td> 1969</td>\n",
        "      <td> 1956</td>\n",
        "      <td> 99</td>\n",
        "      <td> 75</td>\n",
        "      <td> 99</td>\n",
        "      <td> 69</td>\n",
        "      <td> 4</td>\n",
        "      <td> 4</td>\n",
        "      <td> 2</td>\n",
        "      <td> 2</td>\n",
        "      <td> 3</td>\n",
        "      <td> 01</td>\n",
        "      <td> N</td>\n",
        "      <td> </td>\n",
        "      <td> 9</td>\n",
        "    </tr>\n",
        "    <tr>\n",
        "      <th>2</th>\n",
        "      <td> 2012</td>\n",
        "      <td> 1992</td>\n",
        "      <td> 1982</td>\n",
        "      <td> 99</td>\n",
        "      <td> 34</td>\n",
        "      <td> 99</td>\n",
        "      <td> 99</td>\n",
        "      <td> 1</td>\n",
        "      <td> 1</td>\n",
        "      <td> 1</td>\n",
        "      <td> 2</td>\n",
        "      <td> 5</td>\n",
        "      <td> 01</td>\n",
        "      <td> N</td>\n",
        "      <td> </td>\n",
        "      <td> 9</td>\n",
        "    </tr>\n",
        "    <tr>\n",
        "      <th>3</th>\n",
        "      <td> 2012</td>\n",
        "      <td> 1987</td>\n",
        "      <td> 1985</td>\n",
        "      <td> 99</td>\n",
        "      <td> 13</td>\n",
        "      <td> 84</td>\n",
        "      <td> 99</td>\n",
        "      <td> 1</td>\n",
        "      <td> 1</td>\n",
        "      <td> 1</td>\n",
        "      <td> 2</td>\n",
        "      <td> 4</td>\n",
        "      <td> 01</td>\n",
        "      <td> N</td>\n",
        "      <td> </td>\n",
        "      <td> 9</td>\n",
        "    </tr>\n",
        "    <tr>\n",
        "      <th>4</th>\n",
        "      <td> 2012</td>\n",
        "      <td> 1963</td>\n",
        "      <td> 1968</td>\n",
        "      <td> 99</td>\n",
        "      <td> 26</td>\n",
        "      <td> 99</td>\n",
        "      <td> 99</td>\n",
        "      <td> 1</td>\n",
        "      <td> 1</td>\n",
        "      <td> 2</td>\n",
        "      <td> 2</td>\n",
        "      <td> 6</td>\n",
        "      <td> 01</td>\n",
        "      <td> N</td>\n",
        "      <td> </td>\n",
        "      <td> 9</td>\n",
        "    </tr>\n",
        "  </tbody>\n",
        "</table>\n",
        "</div>"
       ],
       "metadata": {},
       "output_type": "pyout",
       "prompt_number": 1,
       "text": [
        "   AMAR ANAISF ANAISH DEPDOM DEPMAR DEPNAISF DEPNAISH ETAMATF ETAMATH INDNATF  \\\n",
        "0  2012   1984   1982     99     29       99       75       1       1       2   \n",
        "1  2012   1969   1956     99     75       99       69       4       4       2   \n",
        "2  2012   1992   1982     99     34       99       99       1       1       1   \n",
        "3  2012   1987   1985     99     13       84       99       1       1       1   \n",
        "4  2012   1963   1968     99     26       99       99       1       1       2   \n",
        "\n",
        "  INDNATH JSEMAINE MMAR NBENFCOM TUCOM TUDOM  \n",
        "0       1        1   01        N           9  \n",
        "1       2        3   01        N           9  \n",
        "2       2        5   01        N           9  \n",
        "3       2        4   01        N           9  \n",
        "4       2        6   01        N           9  "
       ]
      }
     ],
     "prompt_number": 1
    },
    {
     "cell_type": "markdown",
     "metadata": {},
     "source": [
      "On r\u00e9cup\u00e8re de la m\u00eame mani\u00e8re la signification des variables :"
     ]
    },
    {
     "cell_type": "code",
     "collapsed": false,
     "input": [
      "import pyensae\n",
      "vardf = pyensae.dBase2df(\"varlist_mariages.dbf\")\n",
      "print(vardf.shape, vardf.columns)\n",
      "vardf"
     ],
     "language": "python",
     "metadata": {},
     "outputs": [
      {
       "output_type": "stream",
       "stream": "stdout",
       "text": [
        "(16, 4) Index(['LIBELLE', 'LONGUEUR', 'TYPE', 'VARIABLE'], dtype='object')\n"
       ]
      },
      {
       "html": [
        "<div style=\"max-height:1000px;max-width:1500px;overflow:auto;\">\n",
        "<table border=\"1\" class=\"dataframe\">\n",
        "  <thead>\n",
        "    <tr style=\"text-align: right;\">\n",
        "      <th></th>\n",
        "      <th>LIBELLE</th>\n",
        "      <th>LONGUEUR</th>\n",
        "      <th>TYPE</th>\n",
        "      <th>VARIABLE</th>\n",
        "    </tr>\n",
        "  </thead>\n",
        "  <tbody>\n",
        "    <tr>\n",
        "      <th>0 </th>\n",
        "      <td>                                  Ann\u00e9e du mariage</td>\n",
        "      <td> 4</td>\n",
        "      <td> CHAR</td>\n",
        "      <td>     AMAR</td>\n",
        "    </tr>\n",
        "    <tr>\n",
        "      <th>1 </th>\n",
        "      <td>                    Ann\u00e9e de naissance de l'\u00e9pouse</td>\n",
        "      <td> 4</td>\n",
        "      <td> CHAR</td>\n",
        "      <td>   ANAISF</td>\n",
        "    </tr>\n",
        "    <tr>\n",
        "      <th>2 </th>\n",
        "      <td>                     Ann\u00e9e de naissance de l'\u00e9poux</td>\n",
        "      <td> 4</td>\n",
        "      <td> CHAR</td>\n",
        "      <td>   ANAISH</td>\n",
        "    </tr>\n",
        "    <tr>\n",
        "      <th>3 </th>\n",
        "      <td>          D\u00e9partement de domicile apr\u00e8s le mariage</td>\n",
        "      <td> 3</td>\n",
        "      <td> CHAR</td>\n",
        "      <td>  DEPDOM\u00a0</td>\n",
        "    </tr>\n",
        "    <tr>\n",
        "      <th>4 </th>\n",
        "      <td>                            D\u00e9partement de mariage</td>\n",
        "      <td> 3</td>\n",
        "      <td> CHAR</td>\n",
        "      <td>   DEPMAR</td>\n",
        "    </tr>\n",
        "    <tr>\n",
        "      <th>5 </th>\n",
        "      <td>              D\u00e9partement de naissance de l'\u00e9pouse</td>\n",
        "      <td> 3</td>\n",
        "      <td> CHAR</td>\n",
        "      <td> DEPNAISF</td>\n",
        "    </tr>\n",
        "    <tr>\n",
        "      <th>6 </th>\n",
        "      <td>               D\u00e9partement de naissance de l'\u00e9poux</td>\n",
        "      <td> 3</td>\n",
        "      <td> CHAR</td>\n",
        "      <td> DEPNAISH</td>\n",
        "    </tr>\n",
        "    <tr>\n",
        "      <th>7 </th>\n",
        "      <td>            \u00c9tat matrimonial ant\u00e9rieur de l'\u00e9pouse</td>\n",
        "      <td> 1</td>\n",
        "      <td> CHAR</td>\n",
        "      <td>  ETAMATF</td>\n",
        "    </tr>\n",
        "    <tr>\n",
        "      <th>8 </th>\n",
        "      <td>             \u00c9tat matrimonial ant\u00e9rieur de l'\u00e9poux</td>\n",
        "      <td> 1</td>\n",
        "      <td> CHAR</td>\n",
        "      <td>  ETAMATH</td>\n",
        "    </tr>\n",
        "    <tr>\n",
        "      <th>9 </th>\n",
        "      <td>             Indicateur de nationalit\u00e9 de l'\u00e9pouse</td>\n",
        "      <td> 1</td>\n",
        "      <td> CHAR</td>\n",
        "      <td>  INDNATF</td>\n",
        "    </tr>\n",
        "    <tr>\n",
        "      <th>10</th>\n",
        "      <td>              Indicateur de nationalit\u00e9 de l'\u00e9poux</td>\n",
        "      <td> 1</td>\n",
        "      <td> CHAR</td>\n",
        "      <td>  INDNATH</td>\n",
        "    </tr>\n",
        "    <tr>\n",
        "      <th>11</th>\n",
        "      <td>                   Jour du mariage dans la semaine</td>\n",
        "      <td> 1</td>\n",
        "      <td> CHAR</td>\n",
        "      <td> JSEMAINE</td>\n",
        "    </tr>\n",
        "    <tr>\n",
        "      <th>12</th>\n",
        "      <td>                                   Mois du mariage</td>\n",
        "      <td> 2</td>\n",
        "      <td> CHAR</td>\n",
        "      <td>     MMAR</td>\n",
        "    </tr>\n",
        "    <tr>\n",
        "      <th>13</th>\n",
        "      <td>                Enfants en commun avant le mariage</td>\n",
        "      <td> 1</td>\n",
        "      <td> CHAR</td>\n",
        "      <td> NBENFCOM</td>\n",
        "    </tr>\n",
        "    <tr>\n",
        "      <th>14</th>\n",
        "      <td>  Tranche de commune du lieu de domicile des \u00e9poux</td>\n",
        "      <td> 1</td>\n",
        "      <td> CHAR</td>\n",
        "      <td>    TUCOM</td>\n",
        "    </tr>\n",
        "    <tr>\n",
        "      <th>15</th>\n",
        "      <td> Tranche d'unit\u00e9 urbaine du lieu de domicile de...</td>\n",
        "      <td> 1</td>\n",
        "      <td> CHAR</td>\n",
        "      <td>    TUDOM</td>\n",
        "    </tr>\n",
        "  </tbody>\n",
        "</table>\n",
        "<p>16 rows \u00d7 4 columns</p>\n",
        "</div>"
       ],
       "metadata": {},
       "output_type": "pyout",
       "prompt_number": 3,
       "text": [
        "                                              LIBELLE  LONGUEUR  TYPE  \\\n",
        "0                                    Ann\u00e9e du mariage         4  CHAR   \n",
        "1                      Ann\u00e9e de naissance de l'\u00e9pouse         4  CHAR   \n",
        "2                       Ann\u00e9e de naissance de l'\u00e9poux         4  CHAR   \n",
        "3            D\u00e9partement de domicile apr\u00e8s le mariage         3  CHAR   \n",
        "4                              D\u00e9partement de mariage         3  CHAR   \n",
        "5                D\u00e9partement de naissance de l'\u00e9pouse         3  CHAR   \n",
        "6                 D\u00e9partement de naissance de l'\u00e9poux         3  CHAR   \n",
        "7              \u00c9tat matrimonial ant\u00e9rieur de l'\u00e9pouse         1  CHAR   \n",
        "8               \u00c9tat matrimonial ant\u00e9rieur de l'\u00e9poux         1  CHAR   \n",
        "9               Indicateur de nationalit\u00e9 de l'\u00e9pouse         1  CHAR   \n",
        "10               Indicateur de nationalit\u00e9 de l'\u00e9poux         1  CHAR   \n",
        "11                    Jour du mariage dans la semaine         1  CHAR   \n",
        "12                                    Mois du mariage         2  CHAR   \n",
        "13                 Enfants en commun avant le mariage         1  CHAR   \n",
        "14   Tranche de commune du lieu de domicile des \u00e9poux         1  CHAR   \n",
        "15  Tranche d'unit\u00e9 urbaine du lieu de domicile de...         1  CHAR   \n",
        "\n",
        "    VARIABLE  \n",
        "0       AMAR  \n",
        "1     ANAISF  \n",
        "2     ANAISH  \n",
        "3    DEPDOM\u00a0  \n",
        "4     DEPMAR  \n",
        "5   DEPNAISF  \n",
        "6   DEPNAISH  \n",
        "7    ETAMATF  \n",
        "8    ETAMATH  \n",
        "9    INDNATF  \n",
        "10   INDNATH  \n",
        "11  JSEMAINE  \n",
        "12      MMAR  \n",
        "13  NBENFCOM  \n",
        "14     TUCOM  \n",
        "15     TUDOM  \n",
        "\n",
        "[16 rows x 4 columns]"
       ]
      }
     ],
     "prompt_number": 3
    },
    {
     "cell_type": "markdown",
     "metadata": {},
     "source": [
      "<h3 id=\"exo1\">Exercice 1 : \u00e9cart entre les mari\u00e9s</h3>\n",
      "\n",
      "1. En ajoutant une colonne et en utilisant l'op\u00e9ration [group by](http://pandas.pydata.org/pandas-docs/stable/groupby.html), on veut obtenir la distribution du nombre de mariages en fonction de l'\u00e9cart entre les mari\u00e9s. Au besoin, on changera le type d'une colone ou deux.\n",
      "2. On veut tracer un nuage de points avec en abscisse l'\u00e2ge du mari, en ordonn\u00e9e, l'\u00e2ge de la femme. Il faudra peut-\u00eatre jeter un coup d'oeil sur la documentation de la m\u00e9thode [plot](http://pandas.pydata.org/pandas-docs/stable/generated/pandas.DataFrame.plot.html)."
     ]
    },
    {
     "cell_type": "code",
     "collapsed": false,
     "input": [
      "df[\"colonne\"] = df.apply (lambda r:  int(r[\"colonne\"]), axis=1)  # pour changer de type\n",
      "df[\"difference\"] = ..."
     ],
     "language": "python",
     "metadata": {},
     "outputs": []
    },
    {
     "cell_type": "markdown",
     "metadata": {},
     "source": [
      "<h3 id=\"exo2\">Exercice 2 : graphe de la distribution avec pandas</h3>\n",
      "\n",
      "Le module ``pandas`` propose un panel de graphiques standard faciles \u00e0 obtenir. On souhaite repr\u00e9senter la distribution sous forme d'histogramme. A vous de choisir le meilleure graphique depuis la page [Visualization](http://pandas.pydata.org/pandas-docs/stable/visualization.html)."
     ]
    },
    {
     "cell_type": "code",
     "collapsed": false,
     "input": [
      "df.plot (...)"
     ],
     "language": "python",
     "metadata": {},
     "outputs": []
    },
    {
     "cell_type": "markdown",
     "metadata": {},
     "source": [
      "<h3 id=\"mat\">matplotlib</h3>\n",
      "\n",
      "[matplotlib](http://matplotlib.org/) est le module qu'utilise [pandas](http://pandas.pydata.org/). Ainsi, la m\u00e9thode [plot](http://pandas.pydata.org/pandas-docs/stable/generated/pandas.DataFrame.plot.html) retourne un objet de type [Axes](http://matplotlib.org/api/axes_api.html#module-matplotlib.axes) qu'on peut modifier par la suite via les [m\u00e9thodes suivantes](http://matplotlib.org/api/pyplot_summary.html). On peut ajouter un titre avec [set_title](http://matplotlib.org/api/axes_api.html#matplotlib.axes.Axes.set_title) ou ajouter une grille avec [grid](http://matplotlib.org/api/axes_api.html#matplotlib.axes.Axes.grid). On peut \u00e9galement superposer [deux courbes sur le m\u00eame graphique](http://stackoverflow.com/questions/19941685/how-to-show-a-bar-and-line-graph-on-the-same-plot), ou [changer de taille de caract\u00e8res](http://stackoverflow.com/questions/12444716/how-do-i-set-figure-title-and-axes-labels-font-size-in-matplotlib). Le code suivant trace le nombre de mariages par d\u00e9partement."
     ]
    },
    {
     "cell_type": "code",
     "collapsed": false,
     "input": [
      "df[\"nb\"] = 1\n",
      "dep = df[[\"DEPMAR\",\"nb\"]].groupby(\"DEPMAR\", as_index=False).sum().sort(\"nb\",ascending=False)\n",
      "ax = dep.plot(kind = \"bar\", figsize=(18,6))\n",
      "ax.set_xlabel(\"d\u00e9partements\", fontsize=16)\n",
      "ax.set_title(\"nombre de mariages par d\u00e9partements\", fontsize=16)\n",
      "ax.legend().set_visible(False)  # on supprime la l\u00e9gende\n",
      "\n",
      "# on change la taille de police de certains labels\n",
      "for i,tick in enumerate(ax.xaxis.get_major_ticks()):\n",
      "    if i > 10 :\n",
      "        tick.label.set_fontsize(8) "
     ],
     "language": "python",
     "metadata": {},
     "outputs": [],
     "prompt_number": 3
    },
    {
     "cell_type": "markdown",
     "metadata": {},
     "source": [
      "Quand on ne sait pas, le plus simple est d'utiliser un moteur de recherche avec un requ\u00eate du type : ``matplotlib + requ\u00eate``. Pour cr\u00e9er un graphique, le plus courant est de choisir le graphique le plus ressemblant d'une [gallerie de graphes](http://matplotlib.org/gallery.html) puis de l'adapter \u00e0 vos donn\u00e9es."
     ]
    },
    {
     "cell_type": "markdown",
     "metadata": {},
     "source": [
      "<h3 id=\"exo3\">Exercice 3 : distribution des mariages par jour</h3>\n",
      "    \n",
      "On veut obtenir un graphe qui contient l'histogramme de la distribution du nombre de mariages par jour de la semaine et d'ajouter une seconde courbe correspond avec un second axe \u00e0 la r\u00e9partition cumul\u00e9e."
     ]
    },
    {
     "cell_type": "code",
     "collapsed": false,
     "input": [],
     "language": "python",
     "metadata": {},
     "outputs": [],
     "prompt_number": 7
    },
    {
     "cell_type": "markdown",
     "metadata": {},
     "source": [
      "<h2 id=\"alt\">Autres alternatives</h2>\n",
      "\n",
      "<h3 id=\"ggplot\">ggplot</h3>\n",
      "\n",
      "Le module [ggplot](https://github.com/yhat/ggplot) est inspir\u00e9 du module [ggplot2](http://ggplot2.org/) pour [R](http://www.r-project.org/). Il reprend la m\u00eame charte graphique et une syntaxe similaire. Les graphiques produits sont plus lisibles et plus faciles \u00e0 construire."
     ]
    },
    {
     "cell_type": "code",
     "collapsed": false,
     "input": [
      "from ggplot import *\n",
      "df[\"nb\"] = 1\n",
      "dep = df[[\"JSEMAINE\",\"nb\"]].groupby(\"JSEMAINE\", as_index=False).sum().sort(\"JSEMAINE\",ascending=False)\n",
      "ggplot(aes(x='JSEMAINE', y='nb'), data=dep) + \\\n",
      "    geom_point(color='red') + \\\n",
      "    ggtitle(\"nombre de mariages par jour de la semaine\") + \\\n",
      "    xlab(\"jour de la semaine\")"
     ],
     "language": "python",
     "metadata": {},
     "outputs": [
      {
       "metadata": {},
       "output_type": "display_data",
       "png": "[encoded data removed]",
       "text": [
        "<matplotlib.figure.Figure at 0xe361eb0>"
       ]
      },
      {
       "metadata": {},
       "output_type": "pyout",
       "prompt_number": 8,
       "text": [
        "<ggplot: (14901613)>"
       ]
      }
     ],
     "prompt_number": 8
    },
    {
     "cell_type": "markdown",
     "metadata": {},
     "source": [
      "<h3 id=\"exo4\">Exercice 4 : m\u00eame graphique avec ggplot</h3>\n",
      "    \n",
      "On veut obtenir le m\u00eame grpahique qui contient l'histogramme de la distribution du nombre de mariages par jour de la semaine et d'ajouter une seconde courbe correspond avec un second axe \u00e0 la r\u00e9partition cumul\u00e9e mais avec [ggplot](https://github.com/yhat/ggplot) cette fois-ci."
     ]
    },
    {
     "cell_type": "code",
     "collapsed": false,
     "input": [],
     "language": "python",
     "metadata": {},
     "outputs": []
    },
    {
     "cell_type": "markdown",
     "metadata": {},
     "source": [
      "<h2 id=\"graph\">R\u00e9seaux, graphes</h2>\n",
      "\n",
      "<h3 id=\"net\">networkx</h3>\n",
      "\n",
      "Le module [networkx](https://networkx.github.io/) permet de repr\u00e9senter un r\u00e9seau ou un graphe de petite taille (< 500 noeuds). Un graphe est d\u00e9fini par un ensemble de noeuds (ou *vertex* en anglais) reli\u00e9s par des arcs (ou *edge* en anglais).  "
     ]
    },
    {
     "cell_type": "code",
     "collapsed": false,
     "input": [],
     "language": "python",
     "metadata": {},
     "outputs": []
    },
    {
     "cell_type": "markdown",
     "metadata": {},
     "source": [
      "<h3 id=\"graph\">Graphviz</h3>\n",
      "\n",
      "[Graphviz](http://www.graphviz.org/) est un outil d\u00e9velopp\u00e9 depuis plusieurs ann\u00e9es d\u00e9j\u00e0 qui permet de r\u00e9pr\u00e9senter des graphes plus cons\u00e9quents (> 500 noeuds). Il est utilisable via le module [graphviz-python](https://pypi.python.org/pypi/graphviz-python). Son installation requiert l'installation de l'outil [Graphviz](http://www.graphviz.org/) qui n'est pas inclus. La diff\u00e9rence entre les deux modules tient dans l'algorithme utilis\u00e9 pour assigner des coordonn\u00e9es \u00e0 chaque noeud du graphe de fa\u00e7on \u00e0 ce que ses arcs se croisent le moins possibles. Au del\u00e0 d'une certaine taille, le dessin de graphe n'est plus lisible et n\u00e9cessite quelques tat\u00f4nnements. Cela peut passer par une clusterisation du graphe (voir la [m\u00e9thode Louvain]()) de fa\u00e7on \u00e0 colorer certains noeuds proches voire \u00e0 les regrouper."
     ]
    },
    {
     "cell_type": "code",
     "collapsed": false,
     "input": [
      "    "
     ],
     "language": "python",
     "metadata": {},
     "outputs": []
    },
    {
     "cell_type": "markdown",
     "metadata": {},
     "source": [
      "<h3 id=\"exo5\">Exercice 5 : dessin d'un graphe avec networkx</h3>\n",
      "    \n",
      "On construit un graphe al\u00e9atoire, ses 20 arcs sont obtenus en tirant 20 fois deux nombres entiers entre 1 et 10. "
     ]
    },
    {
     "cell_type": "code",
     "collapsed": false,
     "input": [],
     "language": "python",
     "metadata": {},
     "outputs": []
    },
    {
     "cell_type": "markdown",
     "metadata": {},
     "source": [
      "<h2 id=\"inter\">Graphiques interactifs</h2>\n",
      "\n",
      "Ce sujet sort du cadre de cette s\u00e9ance. Un graphique interactif r\u00e9agit \u00e0 des \u00e9v\u00e9n\u00e9ments comme le passage du curseur de la souris, un clic, un zoom. Il est difficile de lire un graphique trop charg\u00e9, c'est pourquoi en rendant le graphique interactifs, on cherche \u00e0 donner plus d'information sans nuire \u00e0 sa lisibilit\u00e9. Voici quelques sc\u00e9narios :\n",
      "\n",
      "- On veut repr\u00e9senter une des dimensions du probl\u00e8me en animant le graphique. C'est fr\u00e9quent en 3D o\u00f9 un des axes est celui du temps. On pr\u00e9f\u00e8rera un graphique en 2D \u00e9voluant dans le temps.\n",
      "- Lorsqu'il y a trop de courbes \u00e0 dessiner, le lecteur peut activer ou d\u00e9sactiver certaines courbes pour pouvoir les comparer. \n",
      "- On peut permettre de changer d'\u00e9chelle (logarithmique ou changer la base 100 \u00e0 diff\u00e9rents endroits).\n",
      "- On veut donner une vue d'ensemble et en m\u00eame temps un niveau de d\u00e9tails plus fin si le lecteur le demande.\n",
      "\n",
      "Ces animations pris leur essor avec internet et le langage [javascript](). Concevoir un graphique anim\u00e9 n\u00e9cessite plus de temps car il faut pr\u00e9voir ce qu'il doit se passer en cas d'action du lecteur (souris, touche, ...). Les modules python permettant de les cr\u00e9er construisent en fait un code javascript qu'il faut ensuite ex\u00e9cuter dans un navigateur (ou directement dans un notebook comme celui-ci). La librairie javascript qui a chang\u00e9 la fa\u00e7on de les concevoir est [d3.js](). Beaucoup d'autres librairies sont des surcouches de celle-ci [nvd3](). \n",
      "\n",
      "En Python, il n'existe pas encore un module incontournable et il est probable que cela change encore. Un de ceux qui pourrait devenir la r\u00e9f\u00e9rence est le module [bokeh]()."
     ]
    },
    {
     "cell_type": "code",
     "collapsed": false,
     "input": [
      "import bokeh"
     ],
     "language": "python",
     "metadata": {},
     "outputs": [],
     "prompt_number": 10
    },
    {
     "cell_type": "code",
     "collapsed": false,
     "input": [],
     "language": "python",
     "metadata": {},
     "outputs": []
    }
   ],
   "metadata": {}
  }
 ]
}