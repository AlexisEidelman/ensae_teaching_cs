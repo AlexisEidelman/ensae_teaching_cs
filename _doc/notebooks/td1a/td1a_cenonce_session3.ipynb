{
 "metadata": {
  "name": ""
 },
 "nbformat": 3,
 "nbformat_minor": 0,
 "worksheets": [
  {
   "cells": [
    {
     "cell_type": "heading",
     "level": 1,
     "metadata": {},
     "source": [
      "TD 3 : Dictionnaires, fonctions, code de Vigen\u00e8re"
     ]
    },
    {
     "cell_type": "markdown",
     "metadata": {},
     "source": [
      "Plan\n",
      "\n",
      "- [Fonctions](#fonction)\n",
      "- [Exercice 1](#exo1)\n",
      "- [Fonctions dans le d\u00e9tail](#funcd)\n",
      "- [Dictionnaire](#dico)\n",
      "- [Exercice 2](#exo2)\n",
      "- [Exercice 3 : utilisation d'un dictionnaire](#exo3)\n",
      "- [Exercice 4 : crypter, d\u00e9crypter selon Vigen\u00e8re](#exo4)"
     ]
    },
    {
     "cell_type": "markdown",
     "metadata": {},
     "source": [
      "<h3 id=\"fonction\">Fonctions</h3>"
     ]
    },
    {
     "cell_type": "markdown",
     "metadata": {},
     "source": [
      "Les fonctions sont des portions de programmes qui reproduisent les m\u00eames instructions. La fonction suivante calcule un polyn\u00f4me de second degr\u00e9 $x^2+x-5$. A chaque fois qu'on appellera la fonction ``polynome``, elle fera le m\u00eame calcul sur des ``x`` diff\u00e9rents. Cela \u00e9vite principalement d'avoir \u00e0 recopier les m\u00eames lignes \u00e0 chaque fois qu'on en a besoin."
     ]
    },
    {
     "cell_type": "code",
     "collapsed": false,
     "input": [
      "def polynome ( x ) :\n",
      "    x2 = x*x\n",
      "    return x2 + x - 5"
     ],
     "language": "python",
     "metadata": {},
     "outputs": []
    },
    {
     "cell_type": "markdown",
     "metadata": {},
     "source": [
      "Une fonction commence toujours par ``def``. Entre parenth\u00e8ses, ce sont les param\u00e8tres (ou entr\u00e9es de la fonction). Ce qui suit le mot-cl\u00e9 ``return`` est le r\u00e9sultat de la fonction (ou sa sortie). Parmi les fonctions, il y a celles qui existent d\u00e9j\u00e0 et celles que vous \u00e9crivez. La fonction ``cos`` existe d\u00e9j\u00e0 : elle fait un calcul qu'il n'est pas besoin de r\u00e9\u00e9crire. La fonction ``polynome`` d\u00e9crite plus haut n'existait pas avant de l'avoir d\u00e9finie. On distingue la d\u00e9finition d'une fonction :"
     ]
    },
    {
     "cell_type": "code",
     "collapsed": false,
     "input": [
      "def polynome ( x, coefficient ) :\n",
      "    return sum ( [ x**i * c for i,c in enumerate(coefficient) ] )"
     ],
     "language": "python",
     "metadata": {},
     "outputs": [],
     "prompt_number": 2
    },
    {
     "cell_type": "markdown",
     "metadata": {},
     "source": [
      "De son utilisation ou appel :"
     ]
    },
    {
     "cell_type": "code",
     "collapsed": false,
     "input": [
      "y = polynome ( 1.2, [ 1, 2, -1] )  # calcul de -x^2 + 2x + 1 pour x = 1.2\n",
      "y"
     ],
     "language": "python",
     "metadata": {},
     "outputs": [
      {
       "metadata": {},
       "output_type": "pyout",
       "prompt_number": 5,
       "text": [
        "1.96"
       ]
      }
     ],
     "prompt_number": 5
    },
    {
     "cell_type": "markdown",
     "metadata": {},
     "source": [
      "On peut appeler une fonction depuis une autre fonction. Une fonction peut prendre autant de param\u00e8tres que l'on veut \u00e0 condition qu'ils aient des noms diff\u00e9rents. On peut aussi leur associer une **valeur par d\u00e9faut** :"
     ]
    },
    {
     "cell_type": "code",
     "collapsed": false,
     "input": [
      "from math import log  # on importe une fonction existante\n",
      "def log_base ( x, base = 10 ) :\n",
      "    return log (x) / log(base)\n",
      "\n",
      "y = log_base (1000)      # identique \u00e0 y = log_base (1000, 10)\n",
      "z = log_base (1000, 2)   # logarithme en base deux\n",
      "y,z"
     ],
     "language": "python",
     "metadata": {},
     "outputs": [
      {
       "metadata": {},
       "output_type": "pyout",
       "prompt_number": 7,
       "text": [
        "(2.9999999999999996, 9.965784284662087)"
       ]
      }
     ],
     "prompt_number": 7
    },
    {
     "cell_type": "markdown",
     "metadata": {},
     "source": [
      "Les fonctions doivent porter des noms diff\u00e9rents. Dans le cas contraire, seule la derni\u00e8re existe."
     ]
    },
    {
     "cell_type": "code",
     "collapsed": false,
     "input": [
      "def polynome ( x ) :       # remplac\u00e9e par la seconde fonction\n",
      "    return x*x + x - 5\n",
      "def polynome ( x, coefficient ) :\n",
      "    return sum ( [ x**i * c for i,c in enumerate(coefficient) ] )\n",
      "y = polynome(4)"
     ],
     "language": "python",
     "metadata": {},
     "outputs": [
      {
       "ename": "TypeError",
       "evalue": "polynome() missing 1 required positional argument: 'coefficient'",
       "output_type": "pyerr",
       "traceback": [
        "\u001b[1;31m---------------------------------------------------------------------------\u001b[0m\n\u001b[1;31mTypeError\u001b[0m                                 Traceback (most recent call last)",
        "\u001b[1;32m<ipython-input-8-6e7651d23c58>\u001b[0m in \u001b[0;36m<module>\u001b[1;34m()\u001b[0m\n\u001b[0;32m      3\u001b[0m \u001b[1;32mdef\u001b[0m \u001b[0mpolynome\u001b[0m \u001b[1;33m(\u001b[0m \u001b[0mx\u001b[0m\u001b[1;33m,\u001b[0m \u001b[0mcoefficient\u001b[0m \u001b[1;33m)\u001b[0m \u001b[1;33m:\u001b[0m\u001b[1;33m\u001b[0m\u001b[0m\n\u001b[0;32m      4\u001b[0m     \u001b[1;32mreturn\u001b[0m \u001b[0msum\u001b[0m \u001b[1;33m(\u001b[0m \u001b[1;33m[\u001b[0m \u001b[0mx\u001b[0m\u001b[1;33m**\u001b[0m\u001b[0mi\u001b[0m \u001b[1;33m*\u001b[0m \u001b[0mc\u001b[0m \u001b[1;32mfor\u001b[0m \u001b[0mi\u001b[0m\u001b[1;33m,\u001b[0m\u001b[0mc\u001b[0m \u001b[1;32min\u001b[0m \u001b[0menumerate\u001b[0m\u001b[1;33m(\u001b[0m\u001b[0mcoefficient\u001b[0m\u001b[1;33m)\u001b[0m \u001b[1;33m]\u001b[0m \u001b[1;33m)\u001b[0m\u001b[1;33m\u001b[0m\u001b[0m\n\u001b[1;32m----> 5\u001b[1;33m \u001b[0my\u001b[0m \u001b[1;33m=\u001b[0m \u001b[0mpolynome\u001b[0m\u001b[1;33m(\u001b[0m\u001b[1;36m4\u001b[0m\u001b[1;33m)\u001b[0m\u001b[1;33m\u001b[0m\u001b[0m\n\u001b[0m",
        "\u001b[1;31mTypeError\u001b[0m: polynome() missing 1 required positional argument: 'coefficient'"
       ]
      }
     ],
     "prompt_number": 8
    },
    {
     "cell_type": "markdown",
     "metadata": {},
     "source": [
      "<h3 id=\"exo1\">Exercice 1</h3>\n",
      "\n",
      "Les fonctions [chr](https://docs.python.org/3.4/library/functions.html#chr) et [ord](https://docs.python.org/3.4/library/functions.html#ord) sont sym\u00e9triques l'une de l'autre : elles convertissent un nombre en lettre et r\u00e9ciproquement."
     ]
    },
    {
     "cell_type": "code",
     "collapsed": false,
     "input": [
      "print ( chr( 65 ), chr (97) )\n",
      "print ( ord(\"B\"), ord (\"b\") )"
     ],
     "language": "python",
     "metadata": {},
     "outputs": [
      {
       "output_type": "stream",
       "stream": "stdout",
       "text": [
        "A a\n",
        "66 98\n"
       ]
      }
     ],
     "prompt_number": 1
    },
    {
     "cell_type": "markdown",
     "metadata": {},
     "source": [
      "Le symbol ``%`` permet d'obtenir le reste d'une division enti\u00e8re. L'exercice consiste \u00e0 \u00e9crire une fonction qui retourne la lettre suivante dans l'ordre alphab\u00e9tique. La lettre qui suit ``z`` est ``a``."
     ]
    },
    {
     "cell_type": "code",
     "collapsed": false,
     "input": [
      "def lettre_suivante(lettre) :\n",
      "    # ....\n",
      "    return ...."
     ],
     "language": "python",
     "metadata": {},
     "outputs": []
    },
    {
     "cell_type": "markdown",
     "metadata": {},
     "source": [
      "<h3 id=\"funcd\">Fonctions dans le d\u00e9tail</h3>\n",
      "\n",
      "<h4 id=\"varloc\">Variable locale</h4>\n",
      "\n",
      "**Une variable cr\u00e9\u00e9e \u00e0 l'int\u00e9rieur d'une fonction n'existe pas \u00e0 l'ext\u00e9rieur : c'est une variable locale.** C'est pourquoi le code suivant provoque une erreur car la variable ``z`` n'existe pas en dehors de la fonction ``calcul``. Les variables ``y`` ou ``z`` ne servent que d'interm\u00e9diaire de calcul. Le seul r\u00e9sultat qui sort de la fonction suit le mot-cl\u00e9 ``return``."
     ]
    },
    {
     "cell_type": "code",
     "collapsed": false,
     "input": [
      "def calcul(x) :\n",
      "    y = x**2\n",
      "    z = x + y\n",
      "\t\t\n",
      "print (z)"
     ],
     "language": "python",
     "metadata": {},
     "outputs": [
      {
       "ename": "NameError",
       "evalue": "name 'z' is not defined",
       "output_type": "pyerr",
       "traceback": [
        "\u001b[1;31m---------------------------------------------------------------------------\u001b[0m\n\u001b[1;31mNameError\u001b[0m                                 Traceback (most recent call last)",
        "\u001b[1;32m<ipython-input-2-22ce1b1056cd>\u001b[0m in \u001b[0;36m<module>\u001b[1;34m()\u001b[0m\n\u001b[0;32m      3\u001b[0m     \u001b[0mz\u001b[0m \u001b[1;33m=\u001b[0m \u001b[0mx\u001b[0m \u001b[1;33m+\u001b[0m \u001b[0my\u001b[0m\u001b[1;33m\u001b[0m\u001b[0m\n\u001b[0;32m      4\u001b[0m \u001b[1;33m\u001b[0m\u001b[0m\n\u001b[1;32m----> 5\u001b[1;33m \u001b[0mprint\u001b[0m \u001b[1;33m(\u001b[0m\u001b[0mz\u001b[0m\u001b[1;33m)\u001b[0m\u001b[1;33m\u001b[0m\u001b[0m\n\u001b[0m",
        "\u001b[1;31mNameError\u001b[0m: name 'z' is not defined"
       ]
      }
     ],
     "prompt_number": 2
    },
    {
     "cell_type": "markdown",
     "metadata": {},
     "source": [
      "<h4 id=\"ret\">Mot-cl\u00e9 ``return``</h4>\n",
      "\n",
      "**Sans mot-cl\u00e9 ``return``, le r\u00e9sultat est ``None``.**"
     ]
    },
    {
     "cell_type": "code",
     "collapsed": false,
     "input": [
      "def calcul(x) :\n",
      "    y = x**2\n",
      "    z = x + y\n",
      "\n",
      "a = calcul(3)\n",
      "print (a)"
     ],
     "language": "python",
     "metadata": {},
     "outputs": [
      {
       "output_type": "stream",
       "stream": "stdout",
       "text": [
        "None\n"
       ]
      }
     ],
     "prompt_number": 4
    },
    {
     "cell_type": "markdown",
     "metadata": {},
     "source": [
      "La fonction se termine apr\u00e8s le premier ``return`` rencontr\u00e9 lors de l'ex\u00e9cution."
     ]
    },
    {
     "cell_type": "code",
     "collapsed": false,
     "input": [
      "def valeur_absolue(x) :\n",
      "    print(\"je passe par ici\")\n",
      "    if x < 0 : \n",
      "        y = -x\n",
      "        return y\n",
      "    else :\n",
      "        y = x\n",
      "        return y\n",
      "    print(\"je ne passe jamais par l\u00e0\")\n",
      "    \n",
      "print( valeur_absolue(-5) )"
     ],
     "language": "python",
     "metadata": {},
     "outputs": [
      {
       "output_type": "stream",
       "stream": "stdout",
       "text": [
        "je passe par ici\n",
        "5\n"
       ]
      }
     ],
     "prompt_number": 5
    },
    {
     "cell_type": "markdown",
     "metadata": {},
     "source": [
      "<h4 id=\"rec\">Fonction r\u00e9cursive</h4>\n",
      "\n",
      "**Une fonction peut \u00eatre r\u00e9cursive : elle s'appelle elle-m\u00eame.** Mais il est important qu'il existe un cas dans lequel elle ne s'appelle pas."
     ]
    },
    {
     "cell_type": "code",
     "collapsed": false,
     "input": [
      "def recursive(x) :\n",
      "    if x / 2 < 1 : \n",
      "        print(\"je ne m'appelle pas pour x=\",x)\n",
      "        return 1\n",
      "    else : \n",
      "        print(\"je m'appelle pour x=\",x)\n",
      "        return recursive (x/2) + 1\n",
      "print ( recursive ( 10 ) )"
     ],
     "language": "python",
     "metadata": {},
     "outputs": [
      {
       "output_type": "stream",
       "stream": "stdout",
       "text": [
        "je m'appelle pour x= 10\n",
        "je m'appelle pour x= 5.0\n",
        "je m'appelle pour x= 2.5\n",
        "je ne m'appelle pas pour x= 1.25\n",
        "4\n"
       ]
      }
     ],
     "prompt_number": 6
    },
    {
     "cell_type": "markdown",
     "metadata": {},
     "source": [
      "<h3 id=\"dico\">Dictionnaires</h3>"
     ]
    },
    {
     "cell_type": "markdown",
     "metadata": {},
     "source": [
      "Une **liste** est un ensemble d'autres objets index\u00e9s par des entiers. Un **dictionnaire** est un ensemble d'autres objets index\u00e9s par presque n'importe quoi."
     ]
    },
    {
     "cell_type": "code",
     "collapsed": false,
     "input": [
      "d = { }   # un dictionnaire vide\n",
      "d = { 'a' : 'acronym', 'b': 'bizarre' }  # un dictionnaire qui associe 'acroym' \u00e0 'a' et 'bizarre' \u00e0 'b'.\n",
      "z = d ['a']   # z re\u00e7oit la valeur associ\u00e9e \u00e0 'a' et stock\u00e9e dans le dictionnaire d"
     ],
     "language": "python",
     "metadata": {},
     "outputs": [],
     "prompt_number": 7
    },
    {
     "cell_type": "markdown",
     "metadata": {},
     "source": [
      "Quelques fonctions utiles :"
     ]
    },
    {
     "cell_type": "code",
     "collapsed": false,
     "input": [
      "d = { 'a' : 'acronym', 'b': 'bizarre' }  \n",
      "l = len(d)    # retourne le nombre d'\u00e9l\u00e9ment de d\n",
      "b = 'a' in d  # b vaut True si une valeur est associ\u00e9e \u00e0 'a', on dit aussi que la cl\u00e9 'a' est pr\u00e9sente \n",
      "x = d.get ('a', '')  # x vaut d['a'] si la cl\u00e9 'a' existe, il vaut '' sinon \n",
      "print(\"d=\",d,\"l=\",l,\"b=\",b,\"x=\",x)"
     ],
     "language": "python",
     "metadata": {},
     "outputs": [
      {
       "output_type": "stream",
       "stream": "stdout",
       "text": [
        "d= {'b': 'bizarre', 'a': 'acronym'} l= 2 b= True x= acronym\n"
       ]
      }
     ],
     "prompt_number": 9
    },
    {
     "cell_type": "markdown",
     "metadata": {},
     "source": [
      "On utilise souvent un dictionnaire pour compter les lettres d'un texte :"
     ]
    },
    {
     "cell_type": "code",
     "collapsed": false,
     "input": [
      "texte = \"exemple de texte\"\n",
      "d = { }\n",
      "for c in texte :\n",
      "    d[c] = d.get(c,0) + 1\n",
      "print (d)"
     ],
     "language": "python",
     "metadata": {},
     "outputs": [
      {
       "output_type": "stream",
       "stream": "stdout",
       "text": [
        "{'t': 2, ' ': 2, 'e': 6, 'd': 1, 'p': 1, 'm': 1, 'l': 1, 'x': 2}\n"
       ]
      }
     ],
     "prompt_number": 10
    },
    {
     "cell_type": "markdown",
     "metadata": {},
     "source": [
      "Les valeurs peuvent \u00eatre n'importe quoi, y compris des listes ou des dictionnaires. Les cl\u00e9s doivent \u00eatre des types immuables (nombre, cha\u00eenes de caract\u00e8res, ``tuple`` incluant des types immuables). Si vous utilisez un autre type, cela d\u00e9clenche une erreur : "
     ]
    },
    {
     "cell_type": "code",
     "collapsed": false,
     "input": [
      "f = [3,4]\n",
      "d[f] = 0"
     ],
     "language": "python",
     "metadata": {},
     "outputs": [
      {
       "ename": "TypeError",
       "evalue": "unhashable type: 'list'",
       "output_type": "pyerr",
       "traceback": [
        "\u001b[1;31m---------------------------------------------------------------------------\u001b[0m\n\u001b[1;31mTypeError\u001b[0m                                 Traceback (most recent call last)",
        "\u001b[1;32m<ipython-input-11-8f63223408da>\u001b[0m in \u001b[0;36m<module>\u001b[1;34m()\u001b[0m\n\u001b[0;32m      1\u001b[0m \u001b[0mf\u001b[0m \u001b[1;33m=\u001b[0m \u001b[1;33m[\u001b[0m\u001b[1;36m3\u001b[0m\u001b[1;33m,\u001b[0m\u001b[1;36m4\u001b[0m\u001b[1;33m]\u001b[0m\u001b[1;33m\u001b[0m\u001b[0m\n\u001b[1;32m----> 2\u001b[1;33m \u001b[0md\u001b[0m\u001b[1;33m[\u001b[0m\u001b[0mf\u001b[0m\u001b[1;33m]\u001b[0m \u001b[1;33m=\u001b[0m \u001b[1;36m0\u001b[0m\u001b[1;33m\u001b[0m\u001b[0m\n\u001b[0m",
        "\u001b[1;31mTypeError\u001b[0m: unhashable type: 'list'"
       ]
      }
     ],
     "prompt_number": 11
    },
    {
     "cell_type": "markdown",
     "metadata": {},
     "source": [
      "Lorsqu'on affecte une valeur \u00e0 une cl\u00e9, le dictionnaire cr\u00e9e la cl\u00e9 ou remplace la valeur pr\u00e9c\u00e9dente par la nouvelle :"
     ]
    },
    {
     "cell_type": "code",
     "collapsed": false,
     "input": [
      "d = { }\n",
      "d['a'] = 0   # cr\u00e9ation d'une cl\u00e9\n",
      "d['a'] = 1   # remplacement d'une valeur\n",
      "print(d)"
     ],
     "language": "python",
     "metadata": {},
     "outputs": [
      {
       "output_type": "stream",
       "stream": "stdout",
       "text": [
        "{'a': 1}\n"
       ]
      }
     ],
     "prompt_number": 13
    },
    {
     "cell_type": "markdown",
     "metadata": {},
     "source": [
      "On peut aussi cr\u00e9er un dictionnaire de fa\u00e7on compacte :"
     ]
    },
    {
     "cell_type": "code",
     "collapsed": false,
     "input": [
      "d = { s:len(s) for s in ['un', 'deux', 'trois'] }\n",
      "d"
     ],
     "language": "python",
     "metadata": {},
     "outputs": [
      {
       "metadata": {},
       "output_type": "pyout",
       "prompt_number": 14,
       "text": [
        "{'deux': 4, 'trois': 5, 'un': 2}"
       ]
      }
     ],
     "prompt_number": 14
    },
    {
     "cell_type": "markdown",
     "metadata": {},
     "source": [
      "<h3 id=\"exo2\">Exercice 2</h3>\n",
      "\n",
      "On consid\u00e8re une liste de mots :"
     ]
    },
    {
     "cell_type": "code",
     "collapsed": false,
     "input": [
      "mots = ['eddard', 'catelyn', 'robb', 'sansa', 'arya', 'brandon',\n",
      "        'rickon', 'theon', 'rorbert', 'cersei', 'tywin', 'jaime',\n",
      "        'tyrion', 'shae', 'bronn', 'lancel', 'joffrey', 'sandor',\n",
      "        'varys', 'renly', 'a' ]"
     ],
     "language": "python",
     "metadata": {},
     "outputs": [],
     "prompt_number": 15
    },
    {
     "cell_type": "markdown",
     "metadata": {},
     "source": [
      "Il faut \u00e9crire une fonction qui retourne tous les mots de la liste qui ont un 'y' en seconde position."
     ]
    },
    {
     "cell_type": "code",
     "collapsed": false,
     "input": [
      "def mots_lettre_position (liste, lettre, position) :\n",
      "    # ....\n",
      "    return [ .... ]"
     ],
     "language": "python",
     "metadata": {},
     "outputs": []
    },
    {
     "cell_type": "markdown",
     "metadata": {},
     "source": [
      "<h3 id=\"exo3\">Exercice 3 : utilisation d'un dictionnaire</h3>\n",
      "\n",
      "On modifie la fonction pr\u00e9c\u00e9dente ``mots_lettre_position`` de telle sorte qu'elle s'\u00e9crive comme suit :"
     ]
    },
    {
     "cell_type": "code",
     "collapsed": false,
     "input": [
      "def mots_lettre_position (dictionnaire_bien_choisi, lettre, position) :\n",
      "    return dictionnaire_bien_choisi. get ( (position, lettre) , [] )"
     ],
     "language": "python",
     "metadata": {},
     "outputs": [],
     "prompt_number": 19
    },
    {
     "cell_type": "markdown",
     "metadata": {},
     "source": [
      "Construisez le dictionnaire ``dictionnaire_bien_choisi`` pour que cela fonctionne.\n",
      "Combien de mots sont stock\u00e9s dans ``dictionnaire_bien_choisi`` ?"
     ]
    },
    {
     "cell_type": "markdown",
     "metadata": {},
     "source": [
      "<h3 id=\"exo4\">Exercice 4 : crypter de d\u00e9crypter selon Vigen\u00e8re</h3>\n",
      "\n",
      "Le [code de C\u00e9sar](http://fr.wikipedia.org/wiki/Chiffrement_par_d%C3%A9calage) est une permutation de lettre ou un d\u00e9calage. Toutes les lettres du message sont d\u00e9cal\u00e9es d'un nombre fixe :\n",
      "\n",
      "- ``JENESUISPASCODE``\n",
      "- ``MHQHVXLVSDVFRGH``\n",
      "\n",
      "Le [code de Vigen\u00e8re](http://fr.wikipedia.org/wiki/Chiffre_de_Vigen%C3%A8re) introduit un d\u00e9calage qui d\u00e9pend de la position de la lettre dans le message \u00e0 coder. On choisit d'abord un mot qui servira de code (par exemple ``DOP``) puis on le traduit en d\u00e9calages : ``[3, 14, 15]`` en servant de la position des lettres dans l'alphabet. \n",
      "\n",
      "Pour coder, on d\u00e9cale la premi\u00e8re lettre de 3, la seconde de 14, la troisi\u00e8me 15, la quatri\u00e8me de 3 \u00e0 nouveau... L'objectif de cette partie est d'\u00e9crire une fonction qui crypte le message pr\u00e9c\u00e9dent et une autre qui d\u00e9crypte."
     ]
    },
    {
     "cell_type": "code",
     "collapsed": false,
     "input": [
      "def code_vigenere ( message, cle) :\n",
      "    # ....\n",
      "    return message_code"
     ],
     "language": "python",
     "metadata": {},
     "outputs": []
    },
    {
     "cell_type": "markdown",
     "metadata": {},
     "source": [
      "A quelle condition le code de Vigen\u00e8re est un simple code de C\u00e9sar ?\n",
      "\n",
      "Pensez-vous qu'il soit possible de casser le code de Vigen\u00e8re (de le d\u00e9crypter sans la cl\u00e9) ?"
     ]
    },
    {
     "cell_type": "code",
     "collapsed": false,
     "input": [],
     "language": "python",
     "metadata": {},
     "outputs": []
    }
   ],
   "metadata": {}
  }
 ]
}