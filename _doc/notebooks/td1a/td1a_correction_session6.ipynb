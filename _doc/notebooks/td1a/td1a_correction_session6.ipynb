{
 "cells": [
  {
   "cell_type": "markdown",
   "metadata": {},
   "source": [
    "# TD 6 : Classes, héritage (correction)"
   ]
  },
  {
   "cell_type": "markdown",
   "metadata": {},
   "source": [
    "\n",
    "Plan\n",
    "\n",
    "* [Exercice 1 : pièce normale](#exo1)\n",
    "* [Exercice 2 : pièce truquée](#exo2)\n",
    "* [Exercice 3 : pièce mixte](#exo3)\n",
    "* [Exercice 4 : pièce mixte avec des fonctions](#exo4)\n"
   ]
  },
  {
   "cell_type": "markdown",
   "metadata": {},
   "source": [
    "<h3 id=\"exo1\">Exercice 1 : pièce normale</h3>"
   ]
  },
  {
   "cell_type": "code",
   "execution_count": 1,
   "metadata": {
    "collapsed": false
   },
   "outputs": [
    {
     "name": "stdout",
     "output_type": "stream",
     "text": [
      "0.48\n"
     ]
    }
   ],
   "source": [
    "import random\n",
    "class Piece :\n",
    "    def tirage_aleatoire(self, precedent) :\n",
    "        return random.randint(0,1)\n",
    "    def moyenne_tirage(self, n):\n",
    "        tirage = [ ]\n",
    "        for i in range (n) :\n",
    "            precedent = tirage[-1] if i > 0 else None\n",
    "            tirage.append( self.tirage_aleatoire (precedent) )\n",
    "        s = sum(tirage)\n",
    "        return s * 1.0 / len(tirage)\n",
    "            \n",
    "p = Piece()\n",
    "print (p.moyenne_tirage(100))"
   ]
  },
  {
   "cell_type": "markdown",
   "metadata": {},
   "source": [
    "<h3 id=\"exo2\">Exercice 2 : pièce truquée</h3>"
   ]
  },
  {
   "cell_type": "code",
   "execution_count": 2,
   "metadata": {
    "collapsed": false
   },
   "outputs": [
    {
     "name": "stdout",
     "output_type": "stream",
     "text": [
      "0.58\n"
     ]
    }
   ],
   "source": [
    "class PieceTruquee (Piece) :\n",
    "    def tirage_aleatoire(self, precedent) :\n",
    "        if precedent == None or precedent == 1 :\n",
    "            return random.randint(0,1)\n",
    "        else :\n",
    "            return 1 if random.randint(0,9) >= 3 else 0\n",
    "        \n",
    "p = PieceTruquee()\n",
    "print (p.moyenne_tirage(100))"
   ]
  },
  {
   "cell_type": "markdown",
   "metadata": {},
   "source": [
    "<h3 id=\"exo3\">Exercice 3 : Pièce mixte</h3>"
   ]
  },
  {
   "cell_type": "code",
   "execution_count": 3,
   "metadata": {
    "collapsed": false
   },
   "outputs": [
    {
     "name": "stdout",
     "output_type": "stream",
     "text": [
      "0.67\n"
     ]
    }
   ],
   "source": [
    "class PieceTruqueeMix (PieceTruquee) :\n",
    "    def tirage_aleatoire(self, precedent) :\n",
    "        if random.randint(0,1) == 0 :\n",
    "            return Piece.tirage_aleatoire(self, precedent)\n",
    "        else :\n",
    "            return PieceTruquee.tirage_aleatoire(self, precedent)\n",
    "        \n",
    "p = PieceTruqueeMix()\n",
    "print (p.moyenne_tirage(100))"
   ]
  },
  {
   "cell_type": "markdown",
   "metadata": {},
   "source": [
    "<h3 id=\"exo4\">Exercice 4 : pièce mixte avec des fonctions</h3>"
   ]
  },
  {
   "cell_type": "code",
   "execution_count": 5,
   "metadata": {
    "collapsed": false
   },
   "outputs": [
    {
     "name": "stdout",
     "output_type": "stream",
     "text": [
      "0.51\n"
     ]
    }
   ],
   "source": [
    "# ce qui vient de l'énoncé\n",
    "def moyenne_tirage(n, fonction):\n",
    "    \"\"\"\n",
    "    cette fonction fait la moyenne des résultats produits par la fonction passée en argument\n",
    "    \"\"\"\n",
    "    tirage = [ ]\n",
    "    for i in range (n) :\n",
    "        precedent = tirage[-1] if i > 0 else None\n",
    "        tirage.append( fonction (precedent) )\n",
    "    s = sum(tirage)\n",
    "    return s * 1.0 / len(tirage)\n",
    "        \n",
    "def truquee (precedent) :\n",
    "    if precedent == None or precedent == 1 :\n",
    "        return random.randint(0,1)\n",
    "    else :\n",
    "        return 1 if random.randint(0,9) >= 3 else 0\n",
    "\n",
    "# la partie ajoutée pour la correction\n",
    "print (moyenne_tirage(100, lambda v : random.randint(0,1) if  random.randint(0,1) == 0 \\\n",
    "                    else truquee(v)))"
   ]
  }
 ],
 "metadata": {},
 "nbformat": 4,
 "nbformat_minor": 0
}