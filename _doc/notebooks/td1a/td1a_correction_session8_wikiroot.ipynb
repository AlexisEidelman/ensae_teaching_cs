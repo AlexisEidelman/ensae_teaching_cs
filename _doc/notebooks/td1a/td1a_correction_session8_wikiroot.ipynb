{
 "cells": [
  {
   "cell_type": "markdown",
   "metadata": {},
   "source": [
    "# parcours dans un graphe"
   ]
  },
  {
   "cell_type": "code",
   "execution_count": 1,
   "metadata": {
    "collapsed": false
   },
   "outputs": [
    {
     "data": {
      "text/html": [
       "<b>Plan</b>\n",
       "<div id=\"my_menu_id\">run previous cell, wait for 2 seconds</div>\n",
       "<script>\n",
       "function repeat_indent_string(n){\n",
       "    var a = \"\" ;\n",
       "    for ( ; n > 0 ; --n) {\n",
       "        a += \"    \";\n",
       "    }\n",
       "    return a;\n",
       "}\n",
       "var update_menu_string = function(begin, lfirst, llast, sformat, send) {\n",
       "    var anchors = document.getElementsByClassName(\"section\");\n",
       "    if (anchors.length == 0) {\n",
       "        anchors = document.getElementsByClassName(\"text_cell_render rendered_html\");\n",
       "    }\n",
       "    var i,t;\n",
       "    var text_menu = begin;\n",
       "    var text_memo = \"<pre>\\nlength:\" + anchors.length + \"\\n\";\n",
       "    var ind = \"\";\n",
       "    var memo_level = 1;\n",
       "    var href;\n",
       "    var tags = [];\n",
       "    for (i = 0; i <= llast; i++) {\n",
       "        tags.push(\"h\" + i);\n",
       "    }\n",
       "\n",
       "    for (i = 0; i < anchors.length; i++) {\n",
       "        text_memo += \"**\" + anchors[i].id + \"--\\n\";\n",
       "\n",
       "        var child = null;\n",
       "        for(t = 0; t < tags.length; t++) {\n",
       "            var r = anchors[i].getElementsByTagName(tags[t]);\n",
       "            if (r.length > 0) {\n",
       "child = r[0];\n",
       "break;\n",
       "            }\n",
       "        }\n",
       "        if (child == null){\n",
       "            text_memo += \"null\\n\";\n",
       "            continue;\n",
       "        }\n",
       "\n",
       "        if (anchors[i].hasAttribute(\"id\")) {\n",
       "            // when converted in RST\n",
       "            href = anchors[i].id;\n",
       "            text_memo += \"#1-\" + href;\n",
       "            // passer à child suivant (le chercher)\n",
       "        }\n",
       "        else if (child.hasAttribute(\"id\")) {\n",
       "            // in a notebook\n",
       "            href = child.id;\n",
       "            text_memo += \"#2-\" + href;\n",
       "        }\n",
       "        else {\n",
       "            text_memo += \"#3-\" + \"*\" + \"\\n\";\n",
       "            continue;\n",
       "        }\n",
       "        var title = child.textContent;\n",
       "        var level = parseInt(child.tagName.substring(1,2));\n",
       "\n",
       "        text_memo += \"--\" + level + \"?\" + lfirst + \"--\" + title + \"\\n\";\n",
       "\n",
       "        if ((level < lfirst) || (level > llast)) {\n",
       "            continue ;\n",
       "        }\n",
       "        if (title.endsWith('¶')) {\n",
       "            title = title.substring(0,title.length-1).replace(\"<\", \"&lt;\").replace(\">\", \"&gt;\").replace(\"&\", \"&amp;\")\n",
       "        }\n",
       "\n",
       "        if (title.length == 0) {\n",
       "            continue;\n",
       "        }\n",
       "        while (level > memo_level) {\n",
       "            text_menu += \"<ul>\\n\";\n",
       "            memo_level += 1;\n",
       "        }\n",
       "        while (level < memo_level) {\n",
       "            text_menu += \"</ul>\\n\";\n",
       "            memo_level -= 1;\n",
       "        }\n",
       "        text_menu += repeat_indent_string(level-2) + sformat.replace(\"__HREF__\", href).replace(\"__TITLE__\", title);\n",
       "    }\n",
       "    while (1 < memo_level) {\n",
       "        text_menu += \"</ul>\\n\";\n",
       "        memo_level -= 1;\n",
       "    }\n",
       "    text_menu += send;\n",
       "    //text_menu += \"\\n\" + text_memo;\n",
       "    return text_menu;\n",
       "};\n",
       "var update_menu = function() {\n",
       "    var sbegin = \"\";\n",
       "    var sformat = '<li><a href=\"#__HREF__\">__TITLE__</a></li>';\n",
       "    var send = \"\";\n",
       "    var text_menu = update_menu_string(sbegin, 2, 4, sformat, send);\n",
       "    var menu = document.getElementById(\"my_menu_id\");\n",
       "    menu.innerHTML=text_menu;\n",
       "};\n",
       "window.setTimeout(update_menu,2000);\n",
       "            </script>"
      ],
      "text/plain": [
       "<IPython.core.display.HTML object>"
      ]
     },
     "execution_count": 1,
     "metadata": {},
     "output_type": "execute_result"
    }
   ],
   "source": [
    "import pyensae\n",
    "%nb_menu"
   ]
  },
  {
   "cell_type": "markdown",
   "metadata": {},
   "source": [
    "Solution de [Félix Revert](https://github.com/FelixChop/getting-to-philosophy)."
   ]
  },
  {
   "cell_type": "markdown",
   "metadata": {},
   "source": [
    "## Exercice 1 : lire une page web\n"
   ]
  },
  {
   "cell_type": "code",
   "execution_count": 2,
   "metadata": {
    "collapsed": false
   },
   "outputs": [
    {
     "data": {
      "text/plain": [
       "b'<?xml version=\"1.0\" encoding=\"utf-8\"?>\\r\\n<html>\\r\\n<head>\\r\\n<link TYPE=\"text/css\" href=\"pMenu2.css\" rel='"
      ]
     },
     "execution_count": 2,
     "metadata": {},
     "output_type": "execute_result"
    }
   ],
   "source": [
    "import urllib.request as ulib\n",
    "\n",
    "def get_html(address, source=\"https://fr.wikipedia.org/wiki/\"):\n",
    "    with ulib.urlopen(source+address) as u:\n",
    "        return u.read()\n",
    "    \n",
    "get_html(\"http://www.xavierdupre.fr\", source=\"\")[:100]"
   ]
  },
  {
   "cell_type": "markdown",
   "metadata": {},
   "source": [
    "## Exercice 2 : extraire le premier lien\n",
    "\n",
    "Il faut écrire une fonction qui récupère le premier lien d'une page wikipedia avec [BeautifulSoup](https://pypi.python.org/pypi/beautifulsoup4)"
   ]
  },
  {
   "cell_type": "code",
   "execution_count": 3,
   "metadata": {
    "collapsed": false
   },
   "outputs": [
    {
     "data": {
      "text/plain": [
       "'Langage_de_programmation'"
      ]
     },
     "execution_count": 3,
     "metadata": {},
     "output_type": "execute_result"
    }
   ],
   "source": [
    "def get_first_link(soup):\n",
    "    for p in soup.find('div',{'id':'bodyContent'}).findAll('p'):\n",
    "        for a in p.findAll('a'):\n",
    "            if a and a.get('href').startswith('/wiki/') and not \":\" in a.get('href'):\n",
    "                return a.get('href')[6:]\n",
    "            \n",
    "from bs4 import BeautifulSoup\n",
    "stru = BeautifulSoup(get_html(\"Python_(langage)\"), \"lxml\")      \n",
    "get_first_link(stru)"
   ]
  },
  {
   "cell_type": "code",
   "execution_count": 4,
   "metadata": {
    "collapsed": false
   },
   "outputs": [
    {
     "name": "stdout",
     "output_type": "stream",
     "text": [
      "\n",
      "initial address: Python_(langage)\n",
      " Will you go to Philosophie ?...\n",
      "\n",
      "Langage_de_programmation\n",
      "Informatique\n",
      "Sciences_exactes\n",
      "Sciences_de_la_nature\n",
      "Anglais\n",
      "Langue\n",
      "Syst%C3%A8me\n",
      "Ensemble\n",
      "Totalit%C3%A9\n",
      "Concept\n",
      "Id%C3%A9e#Philosophie\n",
      "Centre_national_de_ressources_textuelles_et_lexicales\n",
      "Fran%C3%A7ais\n",
      "Belgique\n",
      "N%C3%A9erlandais\n",
      "Langue_germanique\n",
      "Langues_indo-europ%C3%A9ennes\n",
      "Linguistique\n",
      "Discipline_(sp%C3%A9cialit%C3%A9)\n",
      "Savoir\n",
      "Connaissance\n",
      "Notion\n",
      "Philosophie\n",
      "22 itérations pour arriver à la page Philosophie\n"
     ]
    }
   ],
   "source": [
    "def get_to_philosophy(initial_address, max_iterations=100, verbose=False):\n",
    "    target_page = \"Philosophie\"\n",
    "    iteration = 0\n",
    "    pages_visited = []\n",
    "    current_address = initial_address\n",
    "    \n",
    "    if verbose:\n",
    "        print(\"\\ninitial address: \" + current_address+\"\\n Will you go to \"+target_page+\" ?...\\n\")\n",
    "        \n",
    "    while iteration < max_iterations:\n",
    "        current_address = get_first_link(BeautifulSoup(get_html(current_address), \"lxml\"))\n",
    "        if verbose:\n",
    "            print(current_address)\n",
    "        \n",
    "        if current_address in pages_visited:\n",
    "            print(\"Boucle de \" + str(iteration - pages_visited.index(current_address)) + \n",
    "                  \" noeuds trouvée à partir de \"+str(pages_visited.index(current_address))+\" itérations\")\n",
    "            return\n",
    "        elif current_address.lower() == target_page.lower():\n",
    "            print(str(iteration) + \" itérations pour arriver à la page Philosophie\")\n",
    "            return\n",
    "        else:\n",
    "            pages_visited.extend([current_address])\n",
    "            iteration += 1\n",
    "            \n",
    "    return str(max_iterations)+\" itérations atteintes\"\n",
    "\n",
    "get_to_philosophy(\"Python_(langage)\", verbose=True)"
   ]
  },
  {
   "cell_type": "code",
   "execution_count": null,
   "metadata": {
    "collapsed": true
   },
   "outputs": [],
   "source": []
  }
 ],
 "metadata": {
  "kernelspec": {
   "display_name": "Python 3",
   "language": "python",
   "name": "python3"
  },
  "language_info": {
   "codemirror_mode": {
    "name": "ipython",
    "version": 3
   },
   "file_extension": ".py",
   "mimetype": "text/x-python",
   "name": "python",
   "nbconvert_exporter": "python",
   "pygments_lexer": "ipython3",
   "version": "3.4.3"
  }
 },
 "nbformat": 4,
 "nbformat_minor": 0
}
