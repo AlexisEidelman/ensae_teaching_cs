{
 "cells": [
  {
   "cell_type": "markdown",
   "metadata": {},
   "source": [
    "# TD 4 : Modules, fichiers, expressions régulières (correction)"
   ]
  },
  {
   "cell_type": "markdown",
   "metadata": {},
   "source": [
    "Plan\n",
    "\n",
    "- [Exercice 1 : Excel → Python → Excel](#exo1)\n",
    "- [Exercice 2 : trouver un module (1)](#exo2)\n",
    "- [Exercice 3 : trouver un module (2)](#exo3)\n",
    "- [Exercice 4 : son propre module](#exo4)\n",
    "- [Exercice 5 : chercher un motif dans un texte](#exo5)\n",
    "- [Exercice 6 : chercher un autre motif dans un texte](#exo6)"
   ]
  },
  {
   "cell_type": "code",
   "execution_count": 7,
   "metadata": {
    "collapsed": false
   },
   "outputs": [
    {
     "name": "stdout",
     "output_type": "stream",
     "text": [
      "Populating the interactive namespace from numpy and matplotlib\n"
     ]
    },
    {
     "name": "stderr",
     "output_type": "stream",
     "text": [
      "WARNING: pylab import has clobbered these variables: ['mat', 'f']\n",
      "`%matplotlib` prevents importing * from pylab and numpy\n"
     ]
    }
   ],
   "source": [
    "%pylab inline"
   ]
  },
  {
   "cell_type": "markdown",
   "metadata": {},
   "source": [
    "<h3 id=\"exo1\">Exercice 1 : Excel $\\rightarrow$ Python $\\rightarrow$ Excel</h3>\n",
    "    \n",
    "Il faut télécharger le fichier [seance4_excel.xlsx](http://www.xavierdupre.fr/enseignement/complements/seance4_excel.xlsx) puis l'enregistrer au formet **texte (séparateur : tabulation) (*.txt)**. On rappelle les étapes de l'exercice :\n",
    "\n",
    "- enregistrer le fichier au format texte,\n",
    "- le lire sous python\n",
    "- créer une matrice carrée 3x3 où chaque valeur est dans sa case (X,Y),\n",
    "- enregistrer le résultat sous format texte,\n",
    "- le récupérer sous Excel.    "
   ]
  },
  {
   "cell_type": "code",
   "execution_count": 8,
   "metadata": {
    "collapsed": false
   },
   "outputs": [],
   "source": [
    "with open (\"seance4_excel.txt\", \"r\") as f :\n",
    "    mat = [ row.strip(' \\n').split('\\t') for row in f.readlines() ]\n",
    "    \n",
    "mat = mat [1:]\n",
    "res = [ [ None ] * 3 for i in range(5) ] \n",
    "for i,j,v in mat :\n",
    "    res [ int(j)-1 ] [ int (i)-1 ] = float(v)\n",
    "\n",
    "with open (\"seance4_excel_mat.txt\", \"w\") as f :\n",
    "    f.write ( '\\n'.join ( [   '\\t'.join( [ str(x) for x in row ] ) for row in res ] ) )    "
   ]
  },
  {
   "cell_type": "markdown",
   "metadata": {},
   "source": [
    "Il est très rare d'écrire ce genre de code. En règle générale, on se sert de modules déjà existant comme [pandas](http://pandas.pydata.org/), [xlrd](http://www.python-excel.org/) et  [openpyxl](http://pythonhosted.org/openpyxl/). Cela évite la conversion au format texte :"
   ]
  },
  {
   "cell_type": "code",
   "execution_count": 9,
   "metadata": {
    "collapsed": false
   },
   "outputs": [
    {
     "ename": "FileNotFoundError",
     "evalue": "[Errno 2] No such file or directory: 'seance4_excel.xlsx'",
     "output_type": "error",
     "traceback": [
      "\u001b[1;31m---------------------------------------------------------------------------\u001b[0m",
      "\u001b[1;31mFileNotFoundError\u001b[0m                         Traceback (most recent call last)",
      "\u001b[1;32m<ipython-input-9-d70a9e0fd8f9>\u001b[0m in \u001b[0;36m<module>\u001b[1;34m()\u001b[0m\n\u001b[0;32m      1\u001b[0m \u001b[1;32mimport\u001b[0m \u001b[0mpandas\u001b[0m\u001b[1;33m\u001b[0m\u001b[0m\n\u001b[1;32m----> 2\u001b[1;33m \u001b[0mdf\u001b[0m \u001b[1;33m=\u001b[0m \u001b[0mpandas\u001b[0m\u001b[1;33m.\u001b[0m\u001b[0mread_excel\u001b[0m\u001b[1;33m(\u001b[0m\u001b[1;34m\"seance4_excel.xlsx\"\u001b[0m\u001b[1;33m,\u001b[0m \u001b[0msheetname\u001b[0m\u001b[1;33m=\u001b[0m\u001b[1;34m\"Feuil1\"\u001b[0m\u001b[1;33m)\u001b[0m\u001b[1;33m\u001b[0m\u001b[0m\n\u001b[0m\u001b[0;32m      3\u001b[0m \u001b[0mmat\u001b[0m \u001b[1;33m=\u001b[0m \u001b[0mdf\u001b[0m\u001b[1;33m.\u001b[0m\u001b[0mpivot\u001b[0m\u001b[1;33m(\u001b[0m\u001b[1;34m\"X\"\u001b[0m\u001b[1;33m,\u001b[0m \u001b[1;34m\"Y\"\u001b[0m\u001b[1;33m,\u001b[0m \u001b[1;34m\"value\"\u001b[0m\u001b[1;33m)\u001b[0m\u001b[1;33m\u001b[0m\u001b[0m\n\u001b[0;32m      4\u001b[0m \u001b[0mmat\u001b[0m\u001b[1;33m.\u001b[0m\u001b[0mto_excel\u001b[0m\u001b[1;33m(\u001b[0m\u001b[1;34m\"seance4_excel_mat.xlsx\"\u001b[0m\u001b[1;33m)\u001b[0m\u001b[1;33m\u001b[0m\u001b[0m\n\u001b[0;32m      5\u001b[0m \u001b[0mmat\u001b[0m\u001b[1;33m\u001b[0m\u001b[0m\n",
      "\u001b[1;32mc:\\python34_x64\\lib\\site-packages\\pandas\\io\\excel.py\u001b[0m in \u001b[0;36mread_excel\u001b[1;34m(io, sheetname, **kwds)\u001b[0m\n\u001b[0;32m    149\u001b[0m     \u001b[0mengine\u001b[0m \u001b[1;33m=\u001b[0m \u001b[0mkwds\u001b[0m\u001b[1;33m.\u001b[0m\u001b[0mpop\u001b[0m\u001b[1;33m(\u001b[0m\u001b[1;34m'engine'\u001b[0m\u001b[1;33m,\u001b[0m \u001b[1;32mNone\u001b[0m\u001b[1;33m)\u001b[0m\u001b[1;33m\u001b[0m\u001b[0m\n\u001b[0;32m    150\u001b[0m \u001b[1;33m\u001b[0m\u001b[0m\n\u001b[1;32m--> 151\u001b[1;33m     \u001b[1;32mreturn\u001b[0m \u001b[0mExcelFile\u001b[0m\u001b[1;33m(\u001b[0m\u001b[0mio\u001b[0m\u001b[1;33m,\u001b[0m \u001b[0mengine\u001b[0m\u001b[1;33m=\u001b[0m\u001b[0mengine\u001b[0m\u001b[1;33m)\u001b[0m\u001b[1;33m.\u001b[0m\u001b[0mparse\u001b[0m\u001b[1;33m(\u001b[0m\u001b[0msheetname\u001b[0m\u001b[1;33m=\u001b[0m\u001b[0msheetname\u001b[0m\u001b[1;33m,\u001b[0m \u001b[1;33m**\u001b[0m\u001b[0mkwds\u001b[0m\u001b[1;33m)\u001b[0m\u001b[1;33m\u001b[0m\u001b[0m\n\u001b[0m\u001b[0;32m    152\u001b[0m \u001b[1;33m\u001b[0m\u001b[0m\n\u001b[0;32m    153\u001b[0m \u001b[1;33m\u001b[0m\u001b[0m\n",
      "\u001b[1;32mc:\\python34_x64\\lib\\site-packages\\pandas\\io\\excel.py\u001b[0m in \u001b[0;36m__init__\u001b[1;34m(self, io, **kwds)\u001b[0m\n\u001b[0;32m    186\u001b[0m                 \u001b[0mself\u001b[0m\u001b[1;33m.\u001b[0m\u001b[0mbook\u001b[0m \u001b[1;33m=\u001b[0m \u001b[0mxlrd\u001b[0m\u001b[1;33m.\u001b[0m\u001b[0mopen_workbook\u001b[0m\u001b[1;33m(\u001b[0m\u001b[0mfile_contents\u001b[0m\u001b[1;33m=\u001b[0m\u001b[0mdata\u001b[0m\u001b[1;33m)\u001b[0m\u001b[1;33m\u001b[0m\u001b[0m\n\u001b[0;32m    187\u001b[0m             \u001b[1;32melse\u001b[0m\u001b[1;33m:\u001b[0m\u001b[1;33m\u001b[0m\u001b[0m\n\u001b[1;32m--> 188\u001b[1;33m                 \u001b[0mself\u001b[0m\u001b[1;33m.\u001b[0m\u001b[0mbook\u001b[0m \u001b[1;33m=\u001b[0m \u001b[0mxlrd\u001b[0m\u001b[1;33m.\u001b[0m\u001b[0mopen_workbook\u001b[0m\u001b[1;33m(\u001b[0m\u001b[0mio\u001b[0m\u001b[1;33m)\u001b[0m\u001b[1;33m\u001b[0m\u001b[0m\n\u001b[0m\u001b[0;32m    189\u001b[0m         \u001b[1;32melif\u001b[0m \u001b[0mengine\u001b[0m \u001b[1;33m==\u001b[0m \u001b[1;34m'xlrd'\u001b[0m \u001b[1;32mand\u001b[0m \u001b[0misinstance\u001b[0m\u001b[1;33m(\u001b[0m\u001b[0mio\u001b[0m\u001b[1;33m,\u001b[0m \u001b[0mxlrd\u001b[0m\u001b[1;33m.\u001b[0m\u001b[0mBook\u001b[0m\u001b[1;33m)\u001b[0m\u001b[1;33m:\u001b[0m\u001b[1;33m\u001b[0m\u001b[0m\n\u001b[0;32m    190\u001b[0m             \u001b[0mself\u001b[0m\u001b[1;33m.\u001b[0m\u001b[0mbook\u001b[0m \u001b[1;33m=\u001b[0m \u001b[0mio\u001b[0m\u001b[1;33m\u001b[0m\u001b[0m\n",
      "\u001b[1;32mc:\\python34_x64\\lib\\site-packages\\xlrd\\__init__.py\u001b[0m in \u001b[0;36mopen_workbook\u001b[1;34m(filename, logfile, verbosity, use_mmap, file_contents, encoding_override, formatting_info, on_demand, ragged_rows)\u001b[0m\n\u001b[0;32m    392\u001b[0m         \u001b[0mpeek\u001b[0m \u001b[1;33m=\u001b[0m \u001b[0mfile_contents\u001b[0m\u001b[1;33m[\u001b[0m\u001b[1;33m:\u001b[0m\u001b[0mpeeksz\u001b[0m\u001b[1;33m]\u001b[0m\u001b[1;33m\u001b[0m\u001b[0m\n\u001b[0;32m    393\u001b[0m     \u001b[1;32melse\u001b[0m\u001b[1;33m:\u001b[0m\u001b[1;33m\u001b[0m\u001b[0m\n\u001b[1;32m--> 394\u001b[1;33m         \u001b[0mf\u001b[0m \u001b[1;33m=\u001b[0m \u001b[0mopen\u001b[0m\u001b[1;33m(\u001b[0m\u001b[0mfilename\u001b[0m\u001b[1;33m,\u001b[0m \u001b[1;34m\"rb\"\u001b[0m\u001b[1;33m)\u001b[0m\u001b[1;33m\u001b[0m\u001b[0m\n\u001b[0m\u001b[0;32m    395\u001b[0m         \u001b[0mpeek\u001b[0m \u001b[1;33m=\u001b[0m \u001b[0mf\u001b[0m\u001b[1;33m.\u001b[0m\u001b[0mread\u001b[0m\u001b[1;33m(\u001b[0m\u001b[0mpeeksz\u001b[0m\u001b[1;33m)\u001b[0m\u001b[1;33m\u001b[0m\u001b[0m\n\u001b[0;32m    396\u001b[0m         \u001b[0mf\u001b[0m\u001b[1;33m.\u001b[0m\u001b[0mclose\u001b[0m\u001b[1;33m(\u001b[0m\u001b[1;33m)\u001b[0m\u001b[1;33m\u001b[0m\u001b[0m\n",
      "\u001b[1;31mFileNotFoundError\u001b[0m: [Errno 2] No such file or directory: 'seance4_excel.xlsx'"
     ]
    }
   ],
   "source": [
    "import pandas\n",
    "df = pandas.read_excel(\"seance4_excel.xlsx\", sheetname=\"Feuil1\")\n",
    "mat = df.pivot(\"X\", \"Y\", \"value\")\n",
    "mat.to_excel(\"seance4_excel_mat.xlsx\")\n",
    "mat"
   ]
  },
  {
   "cell_type": "markdown",
   "metadata": {},
   "source": [
    "C'est un peu plus rapide."
   ]
  },
  {
   "cell_type": "markdown",
   "metadata": {},
   "source": [
    "<h3 id=\"exo2\">Exercice 2 : trouver un module (1)</h3>\n",
    "\n",
    "Le module [random](https://docs.python.org/3.4/library/random.html) est celui qu'on cherche."
   ]
  },
  {
   "cell_type": "code",
   "execution_count": 10,
   "metadata": {
    "collapsed": false
   },
   "outputs": [
    {
     "name": "stdout",
     "output_type": "stream",
     "text": [
      "[0.06501644982121602, 0.6315253434996221, 0.47698574900251767, 0.7345733374462708, 0.7716426245156625, 0.20269787655732152, 0.38468138991025635, 0.32949107019968515, 0.9471040490407991, 0.4584786634727578]\n",
      "[0.7716426245156625, 0.32949107019968515, 0.4584786634727578, 0.47698574900251767, 0.06501644982121602, 0.38468138991025635, 0.20269787655732152, 0.6315253434996221, 0.9471040490407991, 0.7345733374462708]\n"
     ]
    }
   ],
   "source": [
    "import random\n",
    "alea = [ random.random() for i in range(10) ]\n",
    "print (alea)\n",
    "random.shuffle(alea)\n",
    "print (alea)"
   ]
  },
  {
   "cell_type": "markdown",
   "metadata": {},
   "source": [
    "<h3 id=\"exo3\">Exercice 3 : trouver un module (2)</h3>\n",
    "\n",
    "Le module [datetime](https://docs.python.org/3.4/library/datetime.html) permet de faire des opérations sur les dates."
   ]
  },
  {
   "cell_type": "code",
   "execution_count": 11,
   "metadata": {
    "collapsed": false
   },
   "outputs": [
    {
     "name": "stdout",
     "output_type": "stream",
     "text": [
      "39 days, 0:00:00\n",
      "0\n"
     ]
    }
   ],
   "source": [
    "from datetime import datetime\n",
    "date1 = datetime(2013,9,9)\n",
    "date0 = datetime(2013,8,1)\n",
    "print (date1 - date0)\n",
    "birth = datetime (1975,8,11)\n",
    "print (birth.weekday())  # lundi"
   ]
  },
  {
   "cell_type": "markdown",
   "metadata": {},
   "source": [
    "<h3 id=\"exo4\">Exercice 4 : son propre module</h3>\n",
    "\n",
    "On effectue le remplacement ``if __name__ == \"__main__\":``  par ``if True :`` :"
   ]
  },
  {
   "cell_type": "code",
   "execution_count": 12,
   "metadata": {
    "collapsed": false
   },
   "outputs": [],
   "source": [
    "# fichier monmodule2.py\n",
    "import math\n",
    "\n",
    "def fonction_cos_sequence(seq) :\n",
    "    return [ math.cos(x) for x in seq ]\n",
    "\n",
    "if __name__ == \"__main__\" :\n",
    "    # et une petite astuce quand on travaille sous notebook\n",
    "    code = \"\"\"\n",
    "        # -*- coding: utf-8 -*-\n",
    "        import math\n",
    "        def fonction_cos_sequence(seq) :\n",
    "            return [ math.cos(x) for x in seq ]        \n",
    "        if True :\n",
    "            print (\"Ce message n'apparaît que si ce programme est le point d'entrée.\")\n",
    "        \"\"\".replace(\"        \",\"\")\n",
    "    with open(\"monmodule3.py\", \"w\", encoding=\"utf8\") as f : f.write(code)"
   ]
  },
  {
   "cell_type": "code",
   "execution_count": 13,
   "metadata": {
    "collapsed": false
   },
   "outputs": [
    {
     "name": "stdout",
     "output_type": "stream",
     "text": [
      "Ce message n'apparaît que si ce programme est le point d'entrée.\n",
      "[0.5403023058681397, -0.4161468365471424, -0.9899924966004454]\n"
     ]
    }
   ],
   "source": [
    "import monmodule3\n",
    "print ( monmodule3.fonction_cos_sequence ( [ 1, 2, 3 ] ) )"
   ]
  },
  {
   "cell_type": "markdown",
   "metadata": {},
   "source": [
    "Le message ``ce message n'apparaît que ce programme est le point d'entrée`` apparaît maintenant alors qu'il n'apparaissait pas avec la version de l'énoncé. Comme il apparaît après ``*``, cela montre que cette ligne est exécutée si le module est importé."
   ]
  },
  {
   "cell_type": "code",
   "execution_count": 14,
   "metadata": {
    "collapsed": false
   },
   "outputs": [],
   "source": [
    "import monmodule3"
   ]
  },
  {
   "cell_type": "markdown",
   "metadata": {},
   "source": [
    "Si on importe le module une seconde fois, le message n'apparaît plus : le langage Python a détecté que le module avait déjà été importé. Il ne le fait pas une seconde fois."
   ]
  },
  {
   "cell_type": "markdown",
   "metadata": {},
   "source": [
    "<h3 id=\"exo5\">Exercice 5 : chercher un motif dans un texte</h3>\n",
    "\n",
    "L'expression régulière est ``je .{1,60}``. Le symbol ``.`` signifie n'importe quel caractère. Suivi de ``{1,60}`` veut dire n'importe quel caractère répété entre 1 et 60 fois."
   ]
  },
  {
   "cell_type": "code",
   "execution_count": 18,
   "metadata": {
    "collapsed": false
   },
   "outputs": [
    {
     "name": "stdout",
     "output_type": "stream",
     "text": [
      "---- VOEUX01.txt\n",
      "je pense aussi à nos compatriotes de Toulouse, mais également d\n",
      "je veux dire, en ce 31 décembre, la solidarité et l'amitié de l\n",
      "je sais que vous voulez faire vivre les valeurs qui sont celles\n",
      "je souhaite une bonne et heureuse année.\n",
      "---- VOEUX05.txt\n",
      "je pense d'abord à toutes celles et à tous ceux qui connaissent\n",
      "Je pense aussi à nos soldats qui sont engagés sur tous les cont\n",
      "je veux dire à la famille de Bernard PLANCHE, que les pouvoirs \n",
      "je prendrai rapidement des initiatives pour relancer la constru\n",
      "---- VOEUX06.txt\n",
      "je pense d'abord à toutes celles et à tous ceux qui sont victim\n",
      "Je veux aussi saluer avec respect et reconnaissance nos soldats\n",
      "je me bats pour qu'elle prenne toute sa place dans ce nouveau m\n",
      "Je me bats pour que chaque Français, pour que chaque jeune en p\n",
      "je voudrais que les choses avancent plus vite, et qu'elles avan\n",
      "je m'y engagerai pleinement. Je voudrais vous dire ce soir quel\n",
      "Je sais les souffrances et les difficultés auxquelles certains \n",
      "Je connais vos attentes pour ce qui concerne les salaires et le\n",
      "je demande au Gouvernement d'avancer sur ce point dans les tout\n",
      "---- VOEUX07.txt\n",
      "je m'adresse à vous.\n",
      "Je pense à vous qui vous préparez à fêter la nouvelle année ave\n",
      "Je pense à vous qui êtes obligés de travailler cette nuit au se\n",
      "Je pense aussi à vous qui êtes seuls et pour qui cette soirée s\n",
      "Je pense à vous, que la vie a éprouvés, et que la tristesse ou \n",
      "je veux adresser un message d'espérance, un message de foi dans\n",
      "Je voudrais convaincre même celui qui en doute qu'il n'y a pas \n",
      "Je sais combien est grande votre attente d'un changement profon\n",
      "Je sais les craintes que beaucoup d'entre vous éprouvent pour l\n",
      "Je sais l'angoisse qui vous étreint quand vous avez peur de per\n",
      "Je sais votre exaspération quand vous voulez entreprendre ou qu\n",
      "je le ferai. Je le ferai tout simplement parce que c'est l'inté\n",
      "je vous avais faite de vous rendre la fierté d'être Français, d\n",
      "je veux dire que j'ai fait tout ce que je pensais possible de f\n",
      "Je ne crois pas à la brutalité comme méthode de gouvernement. J\n",
      "je me suis efforcé dans le respect de tous.\n",
      "je veux dire qu'il ne faut pas perdre de vue que notre pays a t\n",
      "je n'ai agi qu'avec le souci de défendre les intérêts de la Fra\n",
      "je ne me sois répété l'engagement que j'ai pris envers chacun d\n",
      "Je ne vous tromperai pas, je ne vous trahirai pas ». Je vous do\n",
      "Je vous la dirai toujours. Je ne m'autoriserai aucune hypocrisi\n",
      "je l'ai faite avec des hommes et des femmes de valeur. Je ne le\n",
      "Je leur ai simplement proposé de servir leur pays. Ils l'ont ac\n",
      "Je leur en suis reconnaissant.\n",
      "je n'ai jamais cessé de penser qu'elle était indispensable. Urg\n",
      "Je souhaite du fond du coeur qu'elle soit pour la France, pour \n",
      "---- VOEUX08.txt\n",
      "je veux penser d'abord à ceux que la vie a durement éprouvés, à\n",
      "Je veux penser à nos soldats qui en ce moment même risquent leu\n",
      "Je veux penser à leurs familles qui vivent douloureusement cett\n",
      "je mesure la responsabilité qui est la mienne. Cette responsabi\n",
      "je l'assumerai pour que tous ceux qui en ont besoin soient prot\n",
      "je vous ai toujours dit la vérité et j'ai agi. C'était mon devo\n",
      "je reste persuadé que le monde a besoin d'une Europe forte, ind\n",
      "Je suis plus décidé que jamais à y faire face, avec le souci de\n",
      "Je ne laisserai pas les plus fragiles se débattre seuls dans le\n",
      "Je pense aussi à la réforme du lycée qui est nécessaire pour év\n",
      "Je pense enfin à la réforme de notre procédure pénale si import\n",
      "je les mènerai avec le Premier ministre François Fillon et le g\n",
      "je me rendrai dès lundi parce que c'est la vocation de la Franc\n",
      "je veux le relever avec vous. Vous pouvez compter sur moi.\n",
      "je présente à chacun d'entre vous mes meilleurs voeux pour 2009\n",
      "---- VOEUX09.txt\n",
      "Je pense en particulier à ceux qui ont perdu leur emploi. Cepen\n",
      "Je veux rendre hommage ce soir au sang-froid et au courage des \n",
      "Je veux rendre un hommage particulier aux partenaires sociaux q\n",
      "je ne suis pas un homme qui renonce à la première difficulté, e\n",
      "Je sais qu'elles ont bouleversé des habitudes et qu'avant de pr\n",
      "Je le conduirai avec le Premier Ministre et le Gouvernement dan\n",
      "je forme pour notre pays.\n",
      "je veux dire ma détermination à ce que la République tienne à l\n",
      "je veux dire ce soir qu'ils ne seront pas abandonnés. Face à l'\n",
      "je souhaite que 2010 soit l'année où nous redonnerons un sens a\n",
      "---- VOEUX74.txt\n",
      "JE VAIS VOUS PARLER, JE NE VOUDRAIS NI VOUS ENNUYER, NI VOUS AT\n",
      "JE VOUS AI DEJA DECRITES ET DONT J'AURAI L'OCCASION DE VOUS PAR\n",
      "JE VOUDRAIS QUE MES VOEUX SOIENT VRAIMENT DES VOEUX, LES VOEUX \n",
      "JE SOUHAITE, AU NOM DE LA FRANCE, QUE LA SOCIETE FRANCAISE VOUS\n",
      "JE SOUHAITE QUE 1975 SOIT L'ANNEE DE LA FRATERNITE, C'EST-A-DIR\n",
      "JE PENSE AUX AGRICULTEURS, JE PENSE AUX ARTISANS, DONT LES COND\n",
      "JE PENSE A CERTAINES PETITES ENTREPRISES - DEVRONT ETRE EXAMINE\n",
      "JE SOUHAITE DONC QUE 1975 SOIT L'ANNEE DE LA FRATERNITE ET QU'A\n",
      "JE SOUHAITE QUE LA FRANCE, EN 1975, CONTINUE DE JOUER CE ROLE, \n",
      "JE LUI SOUHAITE, DANS LE MONDE TOURMENTE OU NOUS VIVONS, D'APPA\n",
      "JE VOUDRAIS LES ADRESSER A CERTAINES CATEGORIES DE FRANCAIS ET,\n",
      "JE NE SAIS PAS SI VOUS AVEZ PU LE VOIR, ILS M'ONT RECU AVEC LEU\n",
      "JE SUIS RENTRE DES ANTILLES, MES MAINS ETAIENT COUVERTES DES EC\n",
      "JE LEUR SOUHAITE, A EUX, A NOS AUTRES COMPATRIOTES DES DEPARTEM\n",
      "JE PENSE AUSSI AUX FRANCAIS INSTALLES A_L_ETRANGER QUI FONT PAR\n",
      "JE VOUDRAIS EN VOTRE NOM M'ADRESSER CE SOIR AUX PLUS MALHEUREUX\n",
      "JE VEUX DIRE D'ABORD LES VICTIMES DES ACCIDENTS CRUELS, ET NOTA\n",
      "JE PENSE AUSSI AUX FRANCAIS QUI SONT CE SOIR DANS LES HOPITAUX,\n",
      "JE VOUDRAIS EGALEMENT ADRESSER NOTRE SALUT AUX TRAVAILLEURS IMM\n",
      "JE VOUDRAIS ENFIN, PENSANT A LA FRANCE A LA FOIS CHRETIENNE ET \n",
      "JE SOUHAITE QUE TU SOIES UNE ANNEE ACCUEILLANTE POUR LES FRANCA\n",
      "---- VOEUX75.txt\n",
      "JE VOUDRAIS, CE SOIR, PRESIDENT DE TOUS LES FRANCAIS, QUE MES V\n",
      "JE SOUHAITE QUE L'ANNEE 1976 CONTRIBUE AU RAYONNEMENT DE LA FRA\n",
      "JE RAYONNEMENT ET NE DIS-JE PAS GRANDEUR ? PARCE QUE LA GRANDEU\n",
      "JE LE SOUHAITE POUR ELLE ET POUR LE MONDE\n",
      "JE SOUHAITE QUE CE SOIT A VOTRE AVANTAGE, AFIN QUE VOUS VIVIEZ \n",
      "JE SUIS SUR QUE CELA NE LUI REND PAS SERVICE. JE NE CROIS PAS Q\n",
      "JE SOUHAITE L'ENTENTE ET L'UNITE DES FRANCAIS. CE NE SERAIT REN\n",
      "JE SOUHAITE, AU NOM DE LA FRANCE UNE BONNE ET HEUREUSE ANNEE 19\n",
      "JE CROIS QU'ANNE AYMONE VEUT AUSSI VOUS ADRESSER SES VOEUX\n",
      "---- VOEUX79.txt\n",
      "JE VOUS ADRESSE LES SOUHAITS QUE LES FRANCAIS ECHANGENT ENTRE E\n",
      "JE SUIS CONDUIT A PENSER TOUS LES JOURS A LA FRANCE DANS LE MON\n",
      "JE SOUHAITE QU'EN 1979, LA FRANCE FASSE RAYONNER SON MESSAGE DE\n",
      "JE REVIENS D'AFRIQUE. DANS TROIS JOURS, J'ACCUEILLERAI EN TERRE\n",
      "JE ME RENDRAI EN UNION SOVIETIQUE 'URSS'. PENDANT LES SIX PROCH\n",
      "JE M'EFFORCE D'AFFIRMER L'IMAGE DE LA FRANCE, CELLE D'UN PAYS O\n",
      "JE SOUHAITE QU'EN 1979 NOUS NOUS ORGANISIONS POUR PREPARER L'AV\n",
      "JE TIENS A LE DIRE, DES UNS ET DES AUTRES. C'EST NOTRE BIEN LE \n",
      "---- VOEUX83.txt\n",
      "je souhaite que l'an nouveau donne des raisons d'espérer.\n",
      "je ne promets rien d'autre à personne que la poursuite, sans fa\n",
      "je soutiendrai demain qu'il devait y avoir équilibre des forces\n",
      "je ne me lasserai jamais d'espérer - ni de vouloir - que les Fr\n",
      "---- VOEUX87.txt\n",
      "je vous y invite chaque fois, pour ceux qui seront seuls, âgés,\n",
      "je crois, que d'exprimer au nom de tous la fraternité qui nous \n",
      "Je forme des voeux, simplement, pour qu'on s'y aime un peu plus\n",
      "Je désire, précisément, réfléchir avec vous à trois des rendez-\n",
      "Je souhaite ardemment qu'ils se reprennent et que la France, un\n",
      "je veux dire l'élection présidentielle.\n",
      "Je n'établirai pas ici la liste de ces choix. Les candidats s'e\n",
      "---- VOEUX89.txt\n",
      "Je suis persuadé qu'elle a, par sa seule existence, puissamment\n",
      "je compte voir naître dans les années 90 une confédération euro\n",
      "je me disais que nous avions de la chance, nous Français, de vi\n",
      "je pensais aussi qu'il nous fallait en être dignes. Les peuples\n",
      "Je forme des voeux pour que la France échappe aux entraînements\n",
      "Je forme des voeux, et le gouvernement y travaille, pour que la\n",
      "Je forme des voeux pour que de grands chantiers tels que le log\n",
      "Je souhaite de toutes mes forces que la France offre à ceux qui\n",
      "---- VOEUX90.txt\n",
      "je ne veux pas que cela recommence.\n",
      "je crois encore aux chances de la paix et la France y travaille\n",
      "Je l'ai dit à la tribune des Nations unies, le 24 septembre der\n",
      "Je souhaite qu'il s'organise dans le cadre d'une ou plusieurs c\n",
      "Je me souviens de vous avoir déclaré lors des premiers voeux qu\n",
      "je vous adressais, le 31 décembre 1981 : \"Tout ce qui permettra\n",
      "Je suis frappé du décalage qui existe entre la réalité de notre\n",
      "Je sais ce qui ne va pas chez nous. Je sais aussi ce qui va bie\n",
      "je n'ignore pas que nous avons besoin de bien d'autres choses e\n",
      "---- VOEUX94.txt\n",
      "je dois redire l'admiration que m'inspire l'extraordinaire coup\n",
      "Je pense, en particulier, à l'équipage d'Air-France dont le san\n",
      "je trouve dans ces faits un véritable réconfort. Il est bon de \n",
      "Je constate seulement que les efforts accomplis par les uns et \n",
      "je m'adresse à vous pour des voeux de nouvelle année en ma qual\n",
      "je me permettrai deux recommandations : la première : ne dissoc\n",
      "Je vous le dis avec la même passion que naguère. N'en doutez pa\n",
      "Je n'apprendrai rien à personne en rappelant que dans quatre mo\n",
      "Je souhaite vivement que ce soit l'occasion d'un vrai, d'un gra\n",
      "je serai, je l'écouterai le coeur plein de reconnaissance pour \n",
      "Je crois aux forces de l'esprit et je ne vous quitterai pas. Je\n"
     ]
    }
   ],
   "source": [
    "import pyensae, re\n",
    "discours = pyensae.download_data('voeux.zip', website = 'xd')\n",
    "\n",
    "exp = re.compile (\"je .{1,60}\", re.IGNORECASE)\n",
    "for fichier in discours :\n",
    "    print(\"----\",fichier)\n",
    "    try:\n",
    "        with open(fichier,\"r\") as f : text = f.read()\n",
    "    except:\n",
    "        with open(fichier,\"r\", encoding=\"utf8\") as f : text = f.read()\n",
    "    je = exp.findall(text)    \n",
    "    for t in je :\n",
    "            print (t)"
   ]
  },
  {
   "cell_type": "markdown",
   "metadata": {},
   "source": [
    "<h3 id=\"exo6\">Exercice 6 : chercher un autre motif dans un texte</h3>\n",
    "\n",
    "Pour les mots _securite_ ou _insecurite_, on construit l'expression :"
   ]
  },
  {
   "cell_type": "code",
   "execution_count": 19,
   "metadata": {
    "collapsed": false
   },
   "outputs": [
    {
     "name": "stdout",
     "output_type": "stream",
     "text": [
      "---- VOEUX01.txt\n",
      "(\"enacée quand l'insécurité progresse, quand l'exercice des libertés, la qual\", 'in')\n",
      "---- VOEUX05.txt\n",
      "---- VOEUX06.txt\n",
      "(\"traites, notre sécurité sociale se réforment et c'est la garantie de leur\", '')\n",
      "(\"rvice, pour la sécurité, pour l'emploi, pour le pouvoir d'achat et que ce\", '')\n",
      "(\" l'énergie, la sécurité, l'immigration. N'oublions jamais que l'Europe, c\", '')\n",
      "---- VOEUX07.txt\n",
      "---- VOEUX08.txt\n",
      "('vie pour notre sécurité et pour la paix. Je veux penser à leurs familles ', '')\n",
      "---- VOEUX09.txt\n",
      "('garantir notre sécurité.', '')\n",
      "---- VOEUX74.txt\n",
      "---- VOEUX75.txt\n",
      "---- VOEUX79.txt\n",
      "---- VOEUX83.txt\n",
      "(\"tres : plus de sécurité, des banlieues rénovées et plus d'enfants dans no\", '')\n",
      "---- VOEUX87.txt\n",
      "---- VOEUX89.txt\n",
      "(' de paix et de sécurité.', '')\n",
      "---- VOEUX90.txt\n",
      "(' du Conseil de sécurité, organe suprême des Nations unies. A ce titre, no', '')\n",
      "(' du Conseil de sécurité, y compris le recours éventuel à la force. Voilà ', '')\n",
      "(\" d'Israël à la sécurité, ni le droit des Palestiniens à posséder une patr\", '')\n",
      "---- VOEUX94.txt\n"
     ]
    }
   ],
   "source": [
    "import pyensae, re\n",
    "discours = pyensae.download_data('voeux.zip', website = 'xd')\n",
    "\n",
    "exp = re.compile (\"(.{1,15}(in)?sécurité.{1,50})\", re.IGNORECASE)\n",
    "for fichier in discours :\n",
    "    print(\"----\",fichier)\n",
    "    try:\n",
    "        with open(fichier,\"r\") as f :  text = f.read()\n",
    "    except:\n",
    "        with open(fichier,\"r\", encoding=\"utf8\") as f :  text = f.read()\n",
    "    je = exp.findall(text)    \n",
    "    for t in je :\n",
    "            print (t)"
   ]
  },
  {
   "cell_type": "code",
   "execution_count": null,
   "metadata": {
    "collapsed": false
   },
   "outputs": [],
   "source": []
  }
 ],
 "metadata": {
  "kernelspec": {
   "display_name": "Python 3",
   "language": "python",
   "name": "python3"
  },
  "language_info": {
   "codemirror_mode": {
    "name": "ipython",
    "version": 3
   },
   "file_extension": ".py",
   "mimetype": "text/x-python",
   "name": "python",
   "nbconvert_exporter": "python",
   "pygments_lexer": "ipython3",
   "version": "3.4.3"
  }
 },
 "nbformat": 4,
 "nbformat_minor": 0
}
