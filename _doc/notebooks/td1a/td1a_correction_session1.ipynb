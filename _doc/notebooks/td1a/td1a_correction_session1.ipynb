{
 "metadata": {
  "name": "",
  "signature": "sha256:540e7bd293480a6fd54084819cff192e1035c0b1724161fa07c76f53c8cbfcb5"
 },
 "nbformat": 3,
 "nbformat_minor": 0,
 "worksheets": [
  {
   "cells": [
    {
     "cell_type": "heading",
     "level": 1,
     "metadata": {},
     "source": [
      "TD 1 : Premiers pas en Python (correction)"
     ]
    },
    {
     "cell_type": "markdown",
     "metadata": {},
     "source": [
      "La partie 1 ne n\u00e9cessite pas de correction.\n",
      "\n",
      "Plan\n",
      "\n",
      "- [Partie 2](#p2)\n",
      "- [Partie 3](#p3)"
     ]
    },
    {
     "cell_type": "markdown",
     "metadata": {},
     "source": [
      "<h3 id=\"p2\"><b>Partie 2</b></h3>"
     ]
    },
    {
     "cell_type": "markdown",
     "metadata": {},
     "source": [
      "Les erreurs sont corrig\u00e9es de telle sorte que la ligne fautive est mise en commentaires ou que le commentaire indique la correction.\n",
      "\n",
      "**Un oubli**"
     ]
    },
    {
     "cell_type": "code",
     "collapsed": false,
     "input": [
      "a = 5\n",
      "a = a + 4  # a + 4\n",
      "print (a)"
     ],
     "language": "python",
     "metadata": {},
     "outputs": [
      {
       "output_type": "stream",
       "stream": "stdout",
       "text": [
        "9\n"
       ]
      }
     ],
     "prompt_number": 1
    },
    {
     "cell_type": "markdown",
     "metadata": {},
     "source": [
      "Si on affecte pas le r\u00e9sultat d'une op\u00e9ration \u00e0 une variable, il est perdu.\n",
      "\n",
      "**Une erreur de syntaxe**"
     ]
    },
    {
     "cell_type": "code",
     "collapsed": false,
     "input": [
      "a = 0\n",
      "for i in range (0, 10) :  # il manquait : en fin de ligne\n",
      "    a = a + i\n",
      "print (a)"
     ],
     "language": "python",
     "metadata": {},
     "outputs": [
      {
       "output_type": "stream",
       "stream": "stdout",
       "text": [
        "45\n"
       ]
      }
     ],
     "prompt_number": 2
    },
    {
     "cell_type": "markdown",
     "metadata": {},
     "source": [
      "**Une autre erreur de syntaxe**"
     ]
    },
    {
     "cell_type": "code",
     "collapsed": false,
     "input": [
      "a = 0\n",
      "for i in range (0, 10):\n",
      "    a = a + i\n",
      "    print (a)      # il manquait deux espaces"
     ],
     "language": "python",
     "metadata": {},
     "outputs": [
      {
       "output_type": "stream",
       "stream": "stdout",
       "text": [
        "0\n",
        "1\n",
        "3\n",
        "6\n",
        "10\n",
        "15\n",
        "21\n",
        "28\n",
        "36\n",
        "45\n"
       ]
      }
     ],
     "prompt_number": 3
    },
    {
     "cell_type": "markdown",
     "metadata": {},
     "source": [
      "L'indentation est stricte en Python : elle indique la s\u00e9paration entre des blocs d'instructions. Si les lignes ne sont pas bien align\u00e9es, l'interpr\u00e9teur ne sait plus \u00e0 quel bloc associer la ligne.\n",
      "\n",
      "**Une op\u00e9ration interdite**"
     ]
    },
    {
     "cell_type": "code",
     "collapsed": false,
     "input": [
      "a = 0\n",
      "s = \"e\"\n",
      "# print (a + s)  # pas de correction"
     ],
     "language": "python",
     "metadata": {},
     "outputs": [],
     "prompt_number": 4
    },
    {
     "cell_type": "markdown",
     "metadata": {},
     "source": [
      "Il n'existe pas de correction dans ce cas, il s'agit d'une op\u00e9ration interdite. De la m\u00eame mani\u00e8re l'op\u00e9ration suivante est interdite aussi car on ajoute des informations de type diff\u00e9rent :"
     ]
    },
    {
     "cell_type": "code",
     "collapsed": false,
     "input": [
      "1 + \"1\"     # d\u00e9clenche une exception"
     ],
     "language": "python",
     "metadata": {},
     "outputs": [
      {
       "ename": "TypeError",
       "evalue": "unsupported operand type(s) for +: 'int' and 'str'",
       "output_type": "pyerr",
       "traceback": [
        "\u001b[1;31m---------------------------------------------------------------------------\u001b[0m\n\u001b[1;31mTypeError\u001b[0m                                 Traceback (most recent call last)",
        "\u001b[1;32m<ipython-input-5-db0423a23ce2>\u001b[0m in \u001b[0;36m<module>\u001b[1;34m()\u001b[0m\n\u001b[1;32m----> 1\u001b[1;33m \u001b[1;36m1\u001b[0m \u001b[1;33m+\u001b[0m \u001b[1;34m\"1\"\u001b[0m\u001b[1;33m\u001b[0m\u001b[0m\n\u001b[0m",
        "\u001b[1;31mTypeError\u001b[0m: unsupported operand type(s) for +: 'int' and 'str'"
       ]
      }
     ],
     "prompt_number": 5
    },
    {
     "cell_type": "markdown",
     "metadata": {},
     "source": [
      "Pour faire le calcule, il faut convertir les deux variables dans le m\u00eame type :"
     ]
    },
    {
     "cell_type": "code",
     "collapsed": false,
     "input": [
      "print(1 + int(\"1\"))\n",
      "print(str(1) + \"1\")"
     ],
     "language": "python",
     "metadata": {},
     "outputs": [
      {
       "output_type": "stream",
       "stream": "stdout",
       "text": [
        "2\n",
        "11\n"
       ]
      }
     ],
     "prompt_number": 6
    },
    {
     "cell_type": "markdown",
     "metadata": {},
     "source": [
      "Le premier r\u00e9sultat est un entier. Le second est une cha\u00eene de caract\u00e8res. Les deux cha\u00eenes \"1\" + \"1\" ont \u00e9t\u00e9 coll\u00e9es ensemble.\n",
      "\n",
      "**Un nombre impair de...**"
     ]
    },
    {
     "cell_type": "code",
     "collapsed": false,
     "input": [
      "a = 0\n",
      "for i in range (0, 10) :\n",
      "      a = (a + (i+2)*3)  # il manquait une parenth\u00e8se \u00e0 la fin\n",
      "print (a)   "
     ],
     "language": "python",
     "metadata": {},
     "outputs": [
      {
       "output_type": "stream",
       "stream": "stdout",
       "text": [
        "195\n"
       ]
      }
     ],
     "prompt_number": 7
    },
    {
     "cell_type": "markdown",
     "metadata": {},
     "source": [
      "<h3 id=\"p3\"><b>Partie 3</b></h3>"
     ]
    },
    {
     "cell_type": "markdown",
     "metadata": {},
     "source": [
      "**Ecrire un programme qui calcule la somme des 10 premiers entiers au carr\u00e9**"
     ]
    },
    {
     "cell_type": "code",
     "collapsed": false,
     "input": [
      "s = 0\n",
      "for i in range(1,11):   # range \u00e9num\u00e8re les entiers de 1 \u00e0 11 exclu\n",
      "    s += i\n",
      "print(s)"
     ],
     "language": "python",
     "metadata": {},
     "outputs": [
      {
       "output_type": "stream",
       "stream": "stdout",
       "text": [
        "55\n"
       ]
      }
     ],
     "prompt_number": 8
    },
    {
     "cell_type": "markdown",
     "metadata": {},
     "source": [
      "Une autre version en \u00e9criture abr\u00e9g\u00e9e :"
     ]
    },
    {
     "cell_type": "code",
     "collapsed": false,
     "input": [
      "r = sum ( i for i in range(1,11) )\n",
      "print(r)"
     ],
     "language": "python",
     "metadata": {},
     "outputs": [
      {
       "output_type": "stream",
       "stream": "stdout",
       "text": [
        "55\n"
       ]
      }
     ],
     "prompt_number": 9
    },
    {
     "cell_type": "markdown",
     "metadata": {},
     "source": [
      "**Ecrire un programme qui calcule la somme des 5 premiers entiers impairs au carr\u00e9**"
     ]
    },
    {
     "cell_type": "code",
     "collapsed": false,
     "input": [
      "s = 0\n",
      "for i in range(1,11):\n",
      "    if i % 2 == 1 :\n",
      "        print(\"ajoute\",i)\n",
      "        s += i\n",
      "print(\"r\u00e9sultat\",s)"
     ],
     "language": "python",
     "metadata": {},
     "outputs": [
      {
       "output_type": "stream",
       "stream": "stdout",
       "text": [
        "ajoute 1\n",
        "ajoute 3\n",
        "ajoute 5\n",
        "ajoute 7\n",
        "ajoute 9\n",
        "r\u00e9sultat 25\n"
       ]
      }
     ],
     "prompt_number": 12
    },
    {
     "cell_type": "markdown",
     "metadata": {},
     "source": [
      "De la m\u00eame mani\u00e8re, en \u00e9criture abr\u00e9g\u00e9e :"
     ]
    },
    {
     "cell_type": "code",
     "collapsed": false,
     "input": [
      "r = sum ( i for i in range(1,11) if i%2 == 1 )\n",
      "print(r)"
     ],
     "language": "python",
     "metadata": {},
     "outputs": [
      {
       "output_type": "stream",
       "stream": "stdout",
       "text": [
        "25\n"
       ]
      }
     ],
     "prompt_number": 13
    },
    {
     "cell_type": "markdown",
     "metadata": {},
     "source": [
      "**Ecrire un programme qui calcule la somme des qui 10 premmi\u00e8res factorielles : $\\sum_{i=1}^{10} i!$**"
     ]
    },
    {
     "cell_type": "code",
     "collapsed": false,
     "input": [
      "s = 0\n",
      "f = 1\n",
      "for i in range(1,11):\n",
      "    f *= i\n",
      "    s += f\n",
      "print(\"r\u00e9sultat\",s)"
     ],
     "language": "python",
     "metadata": {},
     "outputs": [
      {
       "output_type": "stream",
       "stream": "stdout",
       "text": [
        "r\u00e9sultat 4037913\n"
       ]
      }
     ],
     "prompt_number": 14
    },
    {
     "cell_type": "markdown",
     "metadata": {},
     "source": [
      "Il faut introduire une variable interm\u00e9diaire car le r\u00e9sultat qu'on cherche \u00e0 calculer est la somme d'un produit. A chaque it\u00e9ration, on utilise le r\u00e9sultat de la somme \u00e0 l'it\u00e9ration pr\u00e9c\u00e9dente ainsi que la valeur de la factorielle. La notation abr\u00e9g\u00e9e est plus difficile \u00e0 \u00e9crire."
     ]
    }
   ],
   "metadata": {}
  }
 ]
}