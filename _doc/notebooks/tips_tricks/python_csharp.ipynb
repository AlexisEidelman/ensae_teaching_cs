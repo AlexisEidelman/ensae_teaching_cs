{
 "metadata": {
  "name": "",
  "signature": "sha256:a22cb54439f73172ec83eb83d2440dd9d35a81205cbab92ae8146d2a54d9e374"
 },
 "nbformat": 3,
 "nbformat_minor": 0,
 "worksheets": [
  {
   "cells": [
    {
     "cell_type": "heading",
     "level": 1,
     "metadata": {},
     "source": [
      "Python et C Sharp"
     ]
    },
    {
     "cell_type": "markdown",
     "metadata": {},
     "source": [
      "Je n'ai pas r\u00e9ussi \u00e0 trouver un moyen d'utiliser [C#](http://fr.wikipedia.org/wiki/C_sharp) directement depuis un notebook m\u00eame si cela est possible avec [F#](http://fr.wikipedia.org/wiki/F_Sharp) : [BayardRock/IfSharp](https://github.com/BayardRock/IfSharp) (voir la d\u00e9mo [IPython notebook backed by an F# kernel](http://nbviewer.ipython.org/github/BayardRock/IfSharp/blob/master/Feature%20Notebook.ipynb)).\n",
      "\n",
      "A d\u00e9faut, ce notebook d\u00e9montre une fa\u00e7on d'appeler les fonctions d'une DLL \u00e9crite en C#. Cela se fait gr\u00e2ce au module [pythonnet](https://github.com/renshawbay/pythonnet). Le concepteur ne maintient plus la librairie mais d'autres le font ([Christoph Gohlke's page](http://www.lfd.uci.edu/~gohlke/pythonlibs/#pythonnet)). Elle est aussi accessible dans le module [ensae_teaching_cs](https://github.com/sdpython/ensae_teaching_cs).\n",
      "\n",
      "Voici quelques exemples ce qu'on peut faire :"
     ]
    },
    {
     "cell_type": "code",
     "collapsed": false,
     "input": [
      "from ensae_teaching_cs.pythonnet import clr"
     ],
     "language": "python",
     "metadata": {},
     "outputs": [],
     "prompt_number": 2
    },
    {
     "cell_type": "code",
     "collapsed": false,
     "input": [
      "from System import Double\n",
      "d = Double(5.5)\n",
      "d"
     ],
     "language": "python",
     "metadata": {},
     "outputs": [
      {
       "metadata": {},
       "output_type": "pyout",
       "prompt_number": 23,
       "text": [
        "<System.Double at 0xa8775f0>"
       ]
      }
     ],
     "prompt_number": 23
    },
    {
     "cell_type": "code",
     "collapsed": false,
     "input": [
      "from System.Collections.Generic import List\n",
      "a = List[Double]()\n",
      "a"
     ],
     "language": "python",
     "metadata": {},
     "outputs": [
      {
       "metadata": {},
       "output_type": "pyout",
       "prompt_number": 31,
       "text": [
        "<System.Collections.Generic.0, Culture=neutral, PublicKeyToken=b77a5c561934e089]] at 0xb0252d0>"
       ]
      }
     ],
     "prompt_number": 31
    },
    {
     "cell_type": "code",
     "collapsed": false,
     "input": [
      "a.Add(10)\n",
      "a"
     ],
     "language": "python",
     "metadata": {},
     "outputs": [
      {
       "metadata": {},
       "output_type": "pyout",
       "prompt_number": 32,
       "text": [
        "<System.Collections.Generic.0, Culture=neutral, PublicKeyToken=b77a5c561934e089]] at 0xb0252d0>"
       ]
      }
     ],
     "prompt_number": 32
    },
    {
     "cell_type": "markdown",
     "metadata": {},
     "source": [
      "On ne peut pas \u00e9crire du C#, et donc pas de [Linq](http://msdn.microsoft.com/fr-fr/library/bb397926.aspx) non plus :"
     ]
    },
    {
     "cell_type": "code",
     "collapsed": false,
     "input": [
      "from System import String\n",
      "String.Join(\",\", a.Select(c=>c.ToString()).ToArray())"
     ],
     "language": "python",
     "metadata": {},
     "outputs": [
      {
       "ename": "SyntaxError",
       "evalue": "invalid syntax (<ipython-input-33-7fa1e78b6628>, line 2)",
       "output_type": "pyerr",
       "traceback": [
        "\u001b[1;36m  File \u001b[1;32m\"<ipython-input-33-7fa1e78b6628>\"\u001b[1;36m, line \u001b[1;32m2\u001b[0m\n\u001b[1;33m    String.Join(\",\", a.Select(c=>c.ToString()).ToArray())\u001b[0m\n\u001b[1;37m                                ^\u001b[0m\n\u001b[1;31mSyntaxError\u001b[0m\u001b[1;31m:\u001b[0m invalid syntax\n"
       ]
      }
     ],
     "prompt_number": 33
    },
    {
     "cell_type": "markdown",
     "metadata": {},
     "source": [
      "Ce module est surtout int\u00e9ressant pour appeler depuis Python des fonctionnalit\u00e9s cod\u00e9es avec [.net](http://fr.wikipedia.org/wiki/Microsoft_.NET). Il suffit d'utiliser la fonction [AddReference](http://stackoverflow.com/questions/14520888/clr-addreferenceexample-file-unable-to-find-assembly). Le chemin de la DLL doit \u00eatre inclus dans ``sys.path`` :"
     ]
    },
    {
     "cell_type": "code",
     "collapsed": false,
     "input": [
      "from clr import AddReference\n",
      "from ensae_teaching_cs.pythonnet import csdll\n",
      "import sys\n",
      "sys.path.append(os.path.dirname(csdll.__file__))\n",
      "AddReference(\"ENSAE.Voice\")\n",
      "from ENSAE.Voice import Speech\n",
      "Speech.VocalSynthesis(\"ENSAE\", \"fr-FR\",\"\",\"\")"
     ],
     "language": "python",
     "metadata": {},
     "outputs": [],
     "prompt_number": 68
    },
    {
     "cell_type": "markdown",
     "metadata": {},
     "source": [
      "Mais cela n'emp\u00eache pas de pouvoir compiler dynamiquement du code C# qui pourrait \u00eatre ins\u00e9r\u00e9 plus tard dans une [magic command](http://www.xavierdupre.fr/app/ensae_teaching_cs/helpsphinx/notebooks/ipython_custom_magics.html) :"
     ]
    },
    {
     "cell_type": "code",
     "collapsed": false,
     "input": [
      "code = \"\"\"\n",
      "using System;\n",
      "namespace NotebookNameSpace\n",
      "{\n",
      "    public static class NotebookTry\n",
      "    {\n",
      "        public static void FirstFunction()\n",
      "        {\n",
      "            Console.WriteLine(\"Hello, world!\");\n",
      "        }\n",
      "    }\n",
      "}\n",
      "\"\"\""
     ],
     "language": "python",
     "metadata": {},
     "outputs": [],
     "prompt_number": 58
    },
    {
     "cell_type": "code",
     "collapsed": false,
     "input": [
      "from Microsoft import CSharp\n",
      "from System import CodeDom\n",
      "provider = CSharp.CSharpCodeProvider()\n",
      "parameters = CodeDom.Compiler.CompilerParameters()\n",
      "parameters.ReferencedAssemblies.Add(\"System.Drawing.dll\")\n",
      "parameters.GenerateInMemory = True\n",
      "parameters.GenerateExecutable = True\n",
      "results = provider.CompileAssemblyFromSource(parameters, code)\n",
      "\n",
      "if results.Errors.HasErrors:\n",
      "    res = []\n",
      "    for error in results.Errors:\n",
      "        res.append(\"Error ({0}): {1}\".format(error.ErrorNumber, error.ErrorText))\n",
      "    if len(res) > 5 : res = res[:5]\n",
      "    raise Exception(\"\\n\".join(res))"
     ],
     "language": "python",
     "metadata": {},
     "outputs": [
      {
       "ename": "Exception",
       "evalue": "Error (CS0116): Un espace de noms ne peut pas contenir directement des membres tels que des champs ou des m\u00e9thodes\nError (CS0116): Un espace de noms ne peut pas contenir directement des membres tels que des champs ou des m\u00e9thodes\nError (CS0116): Un espace de noms ne peut pas contenir directement des membres tels que des champs ou des m\u00e9thodes\nError (CS0116): Un espace de noms ne peut pas contenir directement des membres tels que des champs ou des m\u00e9thodes\nError (CS0116): Un espace de noms ne peut pas contenir directement des membres tels que des champs ou des m\u00e9thodes",
       "output_type": "pyerr",
       "traceback": [
        "\u001b[1;31m---------------------------------------------------------------------------\u001b[0m\n\u001b[1;31mException\u001b[0m                                 Traceback (most recent call last)",
        "\u001b[1;32m<ipython-input-59-3d08a3bf13ca>\u001b[0m in \u001b[0;36m<module>\u001b[1;34m()\u001b[0m\n\u001b[0;32m     13\u001b[0m         \u001b[0mres\u001b[0m\u001b[1;33m.\u001b[0m\u001b[0mappend\u001b[0m\u001b[1;33m(\u001b[0m\u001b[1;34m\"Error ({0}): {1}\"\u001b[0m\u001b[1;33m.\u001b[0m\u001b[0mformat\u001b[0m\u001b[1;33m(\u001b[0m\u001b[0merror\u001b[0m\u001b[1;33m.\u001b[0m\u001b[0mErrorNumber\u001b[0m\u001b[1;33m,\u001b[0m \u001b[0merror\u001b[0m\u001b[1;33m.\u001b[0m\u001b[0mErrorText\u001b[0m\u001b[1;33m)\u001b[0m\u001b[1;33m)\u001b[0m\u001b[1;33m\u001b[0m\u001b[0m\n\u001b[0;32m     14\u001b[0m     \u001b[1;32mif\u001b[0m \u001b[0mlen\u001b[0m\u001b[1;33m(\u001b[0m\u001b[0mres\u001b[0m\u001b[1;33m)\u001b[0m \u001b[1;33m>\u001b[0m \u001b[1;36m5\u001b[0m \u001b[1;33m:\u001b[0m \u001b[0mres\u001b[0m \u001b[1;33m=\u001b[0m \u001b[0mres\u001b[0m\u001b[1;33m[\u001b[0m\u001b[1;33m:\u001b[0m\u001b[1;36m5\u001b[0m\u001b[1;33m]\u001b[0m\u001b[1;33m\u001b[0m\u001b[0m\n\u001b[1;32m---> 15\u001b[1;33m     \u001b[1;32mraise\u001b[0m \u001b[0mException\u001b[0m\u001b[1;33m(\u001b[0m\u001b[1;34m\"\\n\"\u001b[0m\u001b[1;33m.\u001b[0m\u001b[0mjoin\u001b[0m\u001b[1;33m(\u001b[0m\u001b[0mres\u001b[0m\u001b[1;33m)\u001b[0m\u001b[1;33m)\u001b[0m\u001b[1;33m\u001b[0m\u001b[0m\n\u001b[0m",
        "\u001b[1;31mException\u001b[0m: Error (CS0116): Un espace de noms ne peut pas contenir directement des membres tels que des champs ou des m\u00e9thodes\nError (CS0116): Un espace de noms ne peut pas contenir directement des membres tels que des champs ou des m\u00e9thodes\nError (CS0116): Un espace de noms ne peut pas contenir directement des membres tels que des champs ou des m\u00e9thodes\nError (CS0116): Un espace de noms ne peut pas contenir directement des membres tels que des champs ou des m\u00e9thodes\nError (CS0116): Un espace de noms ne peut pas contenir directement des membres tels que des champs ou des m\u00e9thodes"
       ]
      }
     ],
     "prompt_number": 59
    },
    {
     "cell_type": "code",
     "collapsed": false,
     "input": [
      "assembly = results.CompiledAssembly\n",
      "program = assembly.GetType(\"NotebookNameSpace.NotebookTry\")\n",
      "f = program.GetMethod(\"FirstFunction\")\n",
      "f()"
     ],
     "language": "python",
     "metadata": {},
     "outputs": []
    },
    {
     "cell_type": "code",
     "collapsed": false,
     "input": [],
     "language": "python",
     "metadata": {},
     "outputs": []
    }
   ],
   "metadata": {}
  }
 ]
}