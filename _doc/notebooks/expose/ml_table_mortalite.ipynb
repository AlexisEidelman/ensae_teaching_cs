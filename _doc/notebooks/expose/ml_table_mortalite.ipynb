{
  "cells": [
    {
      "cell_type": "markdown",
      "metadata": {},
      "source": [
        "# Table de mortalit\u00e9"
      ]
    },
    {
      "cell_type": "code",
      "execution_count": null,
      "metadata": {
        "collapsed": false
      },
      "outputs": [
        {
          "name": "stdout",
          "output_type": "stream",
          "text": [
            "Populating the interactive namespace from numpy and matplotlib\n"
          ]
        }
      ],
      "source": [
        "%pylab inline\n",
        "import matplotlib.pyplot as plt\n",
        "plt.style.use('ggplot')"
      ]
    },
    {
      "cell_type": "code",
      "execution_count": null,
      "metadata": {
        "collapsed": false
      },
      "outputs": [
        {
          "data": {
            "text/html": [
              "<b>Plan</b>\n",
              "<div id=\"my_menu_id\">run previous cell, wait for 2 seconds</div>\n",
              "<script>\n",
              "function repeat_indent_string(n){\n",
              "    var a = \"\" ;\n",
              "    for ( ; n > 0 ; --n) {\n",
              "        a += \"    \";\n",
              "    }\n",
              "    return a;\n",
              "}\n",
              "var update_menu_string = function(begin, lfirst, llast, sformat, send) {\n",
              "    var anchors = document.getElementsByClassName(\"section\");\n",
              "    if (anchors.length == 0) {\n",
              "        anchors = document.getElementsByClassName(\"text_cell_render rendered_html\");\n",
              "    }\n",
              "    var i,t;\n",
              "    var text_menu = begin;\n",
              "    var text_memo = \"<pre>\\nlength:\" + anchors.length + \"\\n\";\n",
              "    var ind = \"\";\n",
              "    var memo_level = 1;\n",
              "    var href;\n",
              "    var tags = [];\n",
              "    for (i = 0; i <= llast; i++) {\n",
              "        tags.push(\"h\" + i);\n",
              "    }\n",
              "\n",
              "    for (i = 0; i < anchors.length; i++) {\n",
              "        text_memo += \"**\" + anchors[i].id + \"--\\n\";\n",
              "\n",
              "        var child = null;\n",
              "        for(t = 0; t < tags.length; t++) {\n",
              "            var r = anchors[i].getElementsByTagName(tags[t]);\n",
              "            if (r.length > 0) {\n",
              "child = r[0];\n",
              "break;\n",
              "            }\n",
              "        }\n",
              "        if (child == null){\n",
              "            text_memo += \"null\\n\";\n",
              "            continue;\n",
              "        }\n",
              "\n",
              "        if (anchors[i].hasAttribute(\"id\")) {\n",
              "            // when converted in RST\n",
              "            href = anchors[i].id;\n",
              "            text_memo += \"#1-\" + href;\n",
              "            // passer \u00e0 child suivant (le chercher)\n",
              "        }\n",
              "        else if (child.hasAttribute(\"id\")) {\n",
              "            // in a notebook\n",
              "            href = child.id;\n",
              "            text_memo += \"#2-\" + href;\n",
              "        }\n",
              "        else {\n",
              "            text_memo += \"#3-\" + \"*\" + \"\\n\";\n",
              "            continue;\n",
              "        }\n",
              "        var title = child.textContent;\n",
              "        var level = parseInt(child.tagName.substring(1,2));\n",
              "\n",
              "        text_memo += \"--\" + level + \"?\" + lfirst + \"--\" + title + \"\\n\";\n",
              "\n",
              "        if ((level < lfirst) || (level > llast)) {\n",
              "            continue ;\n",
              "        }\n",
              "        if (title.endsWith('\u00b6')) {\n",
              "            title = title.substring(0,title.length-1).replace(\"<\", \"&lt;\").replace(\">\", \"&gt;\").replace(\"&\", \"&amp;\")\n",
              "        }\n",
              "\n",
              "        if (title.length == 0) {\n",
              "            continue;\n",
              "        }\n",
              "        while (level > memo_level) {\n",
              "            text_menu += \"<ul>\\n\";\n",
              "            memo_level += 1;\n",
              "        }\n",
              "        while (level < memo_level) {\n",
              "            text_menu += \"</ul>\\n\";\n",
              "            memo_level -= 1;\n",
              "        }\n",
              "        text_menu += repeat_indent_string(level-2) + sformat.replace(\"__HREF__\", href).replace(\"__TITLE__\", title);\n",
              "    }\n",
              "    while (1 < memo_level) {\n",
              "        text_menu += \"</ul>\\n\";\n",
              "        memo_level -= 1;\n",
              "    }\n",
              "    text_menu += send;\n",
              "    //text_menu += \"\\n\" + text_memo;\n",
              "    return text_menu;\n",
              "};\n",
              "var update_menu = function() {\n",
              "    var sbegin = \"\";\n",
              "    var sformat = '<li><a href=\"#__HREF__\">__TITLE__</a></li>';\n",
              "    var send = \"\";\n",
              "    var text_menu = update_menu_string(sbegin, 2, 4, sformat, send);\n",
              "    var menu = document.getElementById(\"my_menu_id\");\n",
              "    menu.innerHTML=text_menu;\n",
              "};\n",
              "window.setTimeout(update_menu,2000);\n",
              "            </script>"
            ],
            "text/plain": [
              "<IPython.core.display.HTML object>"
            ]
          },
          "execution_count": null,
          "metadata": {},
          "output_type": "execute_result"
        }
      ],
      "source": [
        "from pyquickhelper.ipythonhelper import add_notebook_menu\n",
        "add_notebook_menu()"
      ]
    },
    {
      "cell_type": "markdown",
      "metadata": {},
      "source": [
        "## R\u00e9cup\u00e9ration des donn\u00e9es\n",
        "\n",
        "Les donn\u00e9es sont recens\u00e9es sur [Data Publica](http://www.data-publica.com/) : [Table de mortalit\u00e9](http://www.data-publica.com/opendata/7098--population-et-conditions-sociales-table-de-mortalite-de-1960-a-2010) qui les a r\u00e9cup\u00e9r\u00e9 depuis le site d'Eurostat via le listing suivant : [listing](http://epp.eurostat.ec.europa.eu/NavTree_prod/everybody/BulkDownloadListing?sort=1&dir=data). Pour faire court, le lien est le suivant : [demo_mlifetable.tsv.gz](http://epp.eurostat.ec.europa.eu/NavTree_prod/everybody/BulkDownloadListing?file=data/demo_mlifetable.tsv.gz). Le fichier est compress\u00e9 au format [gzip](http://fr.wikipedia.org/wiki/Gzip). On le t\u00e9l\u00e9charge, on le d\u00e9compresse."
      ]
    },
    {
      "cell_type": "code",
      "execution_count": null,
      "metadata": {
        "collapsed": false
      },
      "outputs": [],
      "source": [
        "url = \"http://ec.europa.eu/eurostat/estat-navtree-portlet-prod/BulkDownloadListing?file=data/\"\n",
        "file = \"demo_mlifetable.tsv.gz\"\n",
        "import pyensae\n",
        "local = pyensae.download_data(\"demo_mlifetable.tsv.gz\", url=url)\n",
        "local = local[0]+\".gz\"\n",
        "import gzip\n",
        "with gzip.open(local, 'rb') as f: file_content = f.read()\n",
        "content = str(file_content, encoding=\"utf8\")\n",
        "with open(\"mortalite.txt\", \"w\", encoding=\"utf8\") as f : f.write(content)"
      ]
    },
    {
      "cell_type": "markdown",
      "metadata": {},
      "source": [
        "Puis on le charge sous forme de dataframe :"
      ]
    },
    {
      "cell_type": "code",
      "execution_count": null,
      "metadata": {
        "collapsed": false
      },
      "outputs": [
        {
          "data": {
            "text/html": [
              "<div>\n",
              "<table border=\"1\" class=\"dataframe\">\n",
              "  <thead>\n",
              "    <tr style=\"text-align: right;\">\n",
              "      <th></th>\n",
              "      <th>indic_de,sex,age,geo\\time</th>\n",
              "      <th>2014</th>\n",
              "      <th>2013</th>\n",
              "      <th>2012</th>\n",
              "      <th>2011</th>\n",
              "      <th>2010</th>\n",
              "      <th>2009</th>\n",
              "      <th>2008</th>\n",
              "      <th>2007</th>\n",
              "      <th>2006</th>\n",
              "      <th>...</th>\n",
              "      <th>1969</th>\n",
              "      <th>1968</th>\n",
              "      <th>1967</th>\n",
              "      <th>1966</th>\n",
              "      <th>1965</th>\n",
              "      <th>1964</th>\n",
              "      <th>1963</th>\n",
              "      <th>1962</th>\n",
              "      <th>1961</th>\n",
              "      <th>1960</th>\n",
              "    </tr>\n",
              "  </thead>\n",
              "  <tbody>\n",
              "    <tr>\n",
              "      <th>0</th>\n",
              "      <td>DEATHRATE,F,Y1,AL</td>\n",
              "      <td>0.00042 e</td>\n",
              "      <td>:</td>\n",
              "      <td>:</td>\n",
              "      <td>:</td>\n",
              "      <td>:</td>\n",
              "      <td>:</td>\n",
              "      <td>:</td>\n",
              "      <td>:</td>\n",
              "      <td>:</td>\n",
              "      <td>...</td>\n",
              "      <td>:</td>\n",
              "      <td>:</td>\n",
              "      <td>:</td>\n",
              "      <td>:</td>\n",
              "      <td>:</td>\n",
              "      <td>:</td>\n",
              "      <td>:</td>\n",
              "      <td>:</td>\n",
              "      <td>:</td>\n",
              "      <td>:</td>\n",
              "    </tr>\n",
              "    <tr>\n",
              "      <th>1</th>\n",
              "      <td>DEATHRATE,F,Y1,AM</td>\n",
              "      <td>:</td>\n",
              "      <td>:</td>\n",
              "      <td>:</td>\n",
              "      <td>:</td>\n",
              "      <td>:</td>\n",
              "      <td>0.00080</td>\n",
              "      <td>0.00067</td>\n",
              "      <td>0.00052</td>\n",
              "      <td>0.00123</td>\n",
              "      <td>...</td>\n",
              "      <td>:</td>\n",
              "      <td>:</td>\n",
              "      <td>:</td>\n",
              "      <td>:</td>\n",
              "      <td>:</td>\n",
              "      <td>:</td>\n",
              "      <td>:</td>\n",
              "      <td>:</td>\n",
              "      <td>:</td>\n",
              "      <td>:</td>\n",
              "    </tr>\n",
              "    <tr>\n",
              "      <th>2</th>\n",
              "      <td>DEATHRATE,F,Y1,AT</td>\n",
              "      <td>0.00015</td>\n",
              "      <td>0.00016</td>\n",
              "      <td>0.00018</td>\n",
              "      <td>0.00018</td>\n",
              "      <td>0.00034</td>\n",
              "      <td>0.00042</td>\n",
              "      <td>0.00039</td>\n",
              "      <td>0.00036</td>\n",
              "      <td>0.00036</td>\n",
              "      <td>...</td>\n",
              "      <td>:</td>\n",
              "      <td>:</td>\n",
              "      <td>:</td>\n",
              "      <td>:</td>\n",
              "      <td>:</td>\n",
              "      <td>:</td>\n",
              "      <td>:</td>\n",
              "      <td>:</td>\n",
              "      <td>:</td>\n",
              "      <td>:</td>\n",
              "    </tr>\n",
              "    <tr>\n",
              "      <th>3</th>\n",
              "      <td>DEATHRATE,F,Y1,AZ</td>\n",
              "      <td>:</td>\n",
              "      <td>0.00070</td>\n",
              "      <td>0.00132</td>\n",
              "      <td>:</td>\n",
              "      <td>0.00134</td>\n",
              "      <td>0.00111</td>\n",
              "      <td>0.00130</td>\n",
              "      <td>0.00187</td>\n",
              "      <td>0.00252</td>\n",
              "      <td>...</td>\n",
              "      <td>:</td>\n",
              "      <td>:</td>\n",
              "      <td>:</td>\n",
              "      <td>:</td>\n",
              "      <td>:</td>\n",
              "      <td>:</td>\n",
              "      <td>:</td>\n",
              "      <td>:</td>\n",
              "      <td>:</td>\n",
              "      <td>:</td>\n",
              "    </tr>\n",
              "    <tr>\n",
              "      <th>4</th>\n",
              "      <td>DEATHRATE,F,Y1,BE</td>\n",
              "      <td>0.00035</td>\n",
              "      <td>0.00036</td>\n",
              "      <td>0.00025</td>\n",
              "      <td>0.00030</td>\n",
              "      <td>0.00021</td>\n",
              "      <td>0.00041</td>\n",
              "      <td>0.00030</td>\n",
              "      <td>0.00039</td>\n",
              "      <td>0.00035</td>\n",
              "      <td>...</td>\n",
              "      <td>0.00141</td>\n",
              "      <td>0.00155</td>\n",
              "      <td>0.00132</td>\n",
              "      <td>0.00129</td>\n",
              "      <td>0.00153</td>\n",
              "      <td>0.00137</td>\n",
              "      <td>0.00170</td>\n",
              "      <td>0.00161</td>\n",
              "      <td>0.00168</td>\n",
              "      <td>0.00159</td>\n",
              "    </tr>\n",
              "  </tbody>\n",
              "</table>\n",
              "<p>5 rows \u00d7 56 columns</p>\n",
              "</div>"
            ],
            "text/plain": [
              "  indic_de,sex,age,geo\\time      2014      2013      2012      2011   \\\n",
              "0         DEATHRATE,F,Y1,AL  0.00042 e        :         :         :    \n",
              "1         DEATHRATE,F,Y1,AM         :         :         :         :    \n",
              "2         DEATHRATE,F,Y1,AT   0.00015   0.00016   0.00018   0.00018    \n",
              "3         DEATHRATE,F,Y1,AZ         :   0.00070   0.00132         :    \n",
              "4         DEATHRATE,F,Y1,BE   0.00035   0.00036   0.00025   0.00030    \n",
              "\n",
              "      2010      2009      2008      2007      2006     ...        1969   \\\n",
              "0        :         :         :         :         :     ...           :    \n",
              "1        :   0.00080   0.00067   0.00052   0.00123     ...           :    \n",
              "2  0.00034   0.00042   0.00039   0.00036   0.00036     ...           :    \n",
              "3  0.00134   0.00111   0.00130   0.00187   0.00252     ...           :    \n",
              "4  0.00021   0.00041   0.00030   0.00039   0.00035     ...     0.00141    \n",
              "\n",
              "      1968      1967      1966      1965      1964      1963      1962   \\\n",
              "0        :         :         :         :         :         :         :    \n",
              "1        :         :         :         :         :         :         :    \n",
              "2        :         :         :         :         :         :         :    \n",
              "3        :         :         :         :         :         :         :    \n",
              "4  0.00155   0.00132   0.00129   0.00153   0.00137   0.00170   0.00161    \n",
              "\n",
              "      1961      1960   \n",
              "0        :         :   \n",
              "1        :         :   \n",
              "2        :         :   \n",
              "3        :         :   \n",
              "4  0.00168   0.00159   \n",
              "\n",
              "[5 rows x 56 columns]"
            ]
          },
          "execution_count": null,
          "metadata": {},
          "output_type": "execute_result"
        }
      ],
      "source": [
        "import pandas\n",
        "dff = pandas.read_csv(\"mortalite.txt\", sep=\"\\t\", encoding=\"utf8\")\n",
        "dff.head()"
      ]
    },
    {
      "cell_type": "code",
      "execution_count": null,
      "metadata": {
        "collapsed": false
      },
      "outputs": [
        {
          "data": {
            "text/plain": [
              "(95718, 56)"
            ]
          },
          "execution_count": null,
          "metadata": {},
          "output_type": "execute_result"
        }
      ],
      "source": [
        "dff.shape"
      ]
    },
    {
      "cell_type": "markdown",
      "metadata": {},
      "source": [
        "La premi\u00e8re colonne contient une aggr\u00e9gation de champs. On souhaite transformer cette table de telle sorte qu'on ait un nombre r\u00e9duit de colonnes :\n",
        "\n",
        "- indicateur\n",
        "- genre\n",
        "- age\n",
        "- pays (ou ensemble de pays)\n",
        "- annee\n",
        "- valeur\n",
        "\n",
        "L'\u00e2ge est repr\u00e9sent\u00e9 sous forme de cha\u00eene de caract\u00e8res pour pouvoir \u00e9crire ``Y_LT1`` (moins d'un an), ``Y_GE85`` (plus de 85 ans). On change un peu le format pour pouvoir les trier par ordre croissant (en effet ``Y2`` est apr\u00e8s ``Y10``). On sauve le tout dans un fichier pour ne pas avoir \u00e0 recommencer ult\u00e9rieurement. Malgr\u00e9 tout, le code ci-dessous est tr\u00e8s lent pour la table compl\u00e8te qui contiendra au final pr\u00e8s de 5 millions de lignes. On supprime les valeurs manquantes."
      ]
    },
    {
      "cell_type": "code",
      "execution_count": null,
      "metadata": {
        "collapsed": false
      },
      "outputs": [
        {
          "name": "stdout",
          "output_type": "stream",
          "text": [
            "\u00e9tape 1 (95718, 56)\n",
            "\u00e9tape 2 (5264490, 1)\n",
            "\u00e9tape 3 (2770815, 3)\n",
            "\u00e9tape 4\n"
          ]
        },
        {
          "data": {
            "text/html": [
              "<div>\n",
              "<table border=\"1\" class=\"dataframe\">\n",
              "  <thead>\n",
              "    <tr style=\"text-align: right;\">\n",
              "      <th></th>\n",
              "      <th>annee</th>\n",
              "      <th>valeur</th>\n",
              "      <th>age</th>\n",
              "      <th>indicateur</th>\n",
              "      <th>genre</th>\n",
              "      <th>pays</th>\n",
              "    </tr>\n",
              "  </thead>\n",
              "  <tbody>\n",
              "    <tr>\n",
              "      <th>0</th>\n",
              "      <td>2014</td>\n",
              "      <td>0.00042</td>\n",
              "      <td>Y01</td>\n",
              "      <td>DEATHRATE</td>\n",
              "      <td>F</td>\n",
              "      <td>AL</td>\n",
              "    </tr>\n",
              "    <tr>\n",
              "      <th>1</th>\n",
              "      <td>2009</td>\n",
              "      <td>0.00080</td>\n",
              "      <td>Y01</td>\n",
              "      <td>DEATHRATE</td>\n",
              "      <td>F</td>\n",
              "      <td>AM</td>\n",
              "    </tr>\n",
              "    <tr>\n",
              "      <th>2</th>\n",
              "      <td>2008</td>\n",
              "      <td>0.00067</td>\n",
              "      <td>Y01</td>\n",
              "      <td>DEATHRATE</td>\n",
              "      <td>F</td>\n",
              "      <td>AM</td>\n",
              "    </tr>\n",
              "    <tr>\n",
              "      <th>3</th>\n",
              "      <td>2007</td>\n",
              "      <td>0.00052</td>\n",
              "      <td>Y01</td>\n",
              "      <td>DEATHRATE</td>\n",
              "      <td>F</td>\n",
              "      <td>AM</td>\n",
              "    </tr>\n",
              "    <tr>\n",
              "      <th>4</th>\n",
              "      <td>2006</td>\n",
              "      <td>0.00123</td>\n",
              "      <td>Y01</td>\n",
              "      <td>DEATHRATE</td>\n",
              "      <td>F</td>\n",
              "      <td>AM</td>\n",
              "    </tr>\n",
              "  </tbody>\n",
              "</table>\n",
              "</div>"
            ],
            "text/plain": [
              "   annee   valeur  age indicateur genre pays\n",
              "0  2014   0.00042  Y01  DEATHRATE     F   AL\n",
              "1  2009   0.00080  Y01  DEATHRATE     F   AM\n",
              "2  2008   0.00067  Y01  DEATHRATE     F   AM\n",
              "3  2007   0.00052  Y01  DEATHRATE     F   AM\n",
              "4  2006   0.00123  Y01  DEATHRATE     F   AM"
            ]
          },
          "execution_count": null,
          "metadata": {},
          "output_type": "execute_result"
        }
      ],
      "source": [
        "def format_age(s):\n",
        "    if s.startswith(\"Y_\") : \n",
        "        if s.startswith(\"Y_LT\"): s = \"Y00_LT\" + s[4:]\n",
        "        elif s.startswith(\"Y_GE\"): s = \"Y85_GE\" + s[4:]\n",
        "        else: raise FormatError(s)\n",
        "    else:\n",
        "        i = int(s.strip(\"Y\"))\n",
        "        return \"Y%02d\" % i\n",
        "    \n",
        "def format_value(s):\n",
        "    if s.strip() == \":\" : return -1\n",
        "    else : return float(s.strip(\" ebp\"))\n",
        "    \n",
        "if False:  # sur les donn\u00e9es compl\u00e8tes, c'est plut\u00f4t long, r\u00e9duire la taille pour essayer\n",
        "    dfsmall = dff.head(n = 1000) # on r\u00e9duit la taille pour \n",
        "    df = dfsmall # impl\u00e9menter la transformation\n",
        "else:\n",
        "    df = dff\n",
        "\n",
        "print(\"\u00e9tape 1\", df.shape)\n",
        "dfi = df.reset_index().set_index(\"indic_de,sex,age,geo\\\\time\")\n",
        "dfi = dfi.drop('index', axis=1)\n",
        "dfs = dfi.stack()\n",
        "dfs = pandas.DataFrame({\"valeur\": dfs } )\n",
        "\n",
        "print(\"\u00e9tape 2\", dfs.shape)\n",
        "dfs[\"valeur\"] = dfs[\"valeur\"].astype(str)\n",
        "dfs[\"valeur\"] = dfs[\"valeur\"].apply( format_value )\n",
        "dfs = dfs[ dfs.valeur >= 0 ].copy()\n",
        "dfs = dfs.reset_index()\n",
        "dfs.columns = [\"index\", \"annee\", \"valeur\"]\n",
        "\n",
        "print(\"\u00e9tape 3\", dfs.shape)\n",
        "dfs[\"age\"] = dfs[\"index\"].apply ( lambda i : format_age(i.split(\",\")[2]))\n",
        "dfs[\"indicateur\"] = dfs[\"index\"].apply ( lambda i : i.split(\",\")[0])\n",
        "dfs[\"genre\"] = dfs[\"index\"].apply ( lambda i : i.split(\",\")[1])\n",
        "dfs[\"pays\"] = dfs[\"index\"].apply ( lambda i : i.split(\",\")[3])\n",
        "\n",
        "print(\"\u00e9tape 4\")\n",
        "dfy = dfs.drop('index', axis=1)\n",
        "dfy.to_csv(\"mortalite_5column.txt\", sep=\"\\t\", encoding=\"utf8\", index=False)\n",
        "dfy.head()"
      ]
    },
    {
      "cell_type": "markdown",
      "metadata": {},
      "source": [
        "Graphe d'une coupe de la table de mortalit\u00e9 :"
      ]
    },
    {
      "cell_type": "code",
      "execution_count": null,
      "metadata": {
        "collapsed": false
      },
      "outputs": [
        {
          "data": {
            "text/plain": [
              "<matplotlib.axes._subplots.AxesSubplot at 0x1816c080>"
            ]
          },
          "execution_count": null,
          "metadata": {},
          "output_type": "execute_result"
        },
        {
          "data": {
            "image/png": "[encoded data removed]",
            "text/plain": [
              "<matplotlib.figure.Figure at 0x1815e550>"
            ]
          },
          "metadata": {},
          "output_type": "display_data"
        }
      ],
      "source": [
        "view = dfs [    (dfs.pays==\"FR\") &\n",
        "                (dfs.age == \"Y80\") &\n",
        "                (dfs.indicateur == \"DEATHRATE\") &\n",
        "                (dfs.genre == \"T\")  ]\n",
        "view = view.sort_values(\"annee\")\n",
        "view.plot(x=\"annee\", y=\"valeur\")"
      ]
    },
    {
      "cell_type": "markdown",
      "metadata": {},
      "source": [
        "### SQLite\n",
        "\n",
        "[SQLite](http://www.sqlite.org/) est un outils de gestion de base de donn\u00e9es locales. Int\u00e9gr\u00e9 \u00e0 Python, il ne n\u00e9cessite aucune installation. Il est tr\u00e8s utile lorsque [Microsoft Excel](http://fr.wikipedia.org/wiki/Microsoft_Excel) ne peut pas contenir toutes les donn\u00e9es qu'on souhaite consulter. Plus de deux millions de lignes dans le cas de cette table."
      ]
    },
    {
      "cell_type": "markdown",
      "metadata": {},
      "source": [
        "### version 1 : pandas to SQLite\n",
        "\n",
        "On utilise pour la m\u00e9thode [to_sql](http://pandas.pydata.org/pandas-docs/dev/generated/pandas.DataFrame.to_sql.html) et le module [sqlite3](https://docs.python.org/3.4/library/sqlite3.html). Ca prend un peu de temps (deux \u00e0 trois minutes)."
      ]
    },
    {
      "cell_type": "code",
      "execution_count": null,
      "metadata": {
        "collapsed": false
      },
      "outputs": [],
      "source": [
        "import sqlite3\n",
        "con = sqlite3.connect(\"mortalite_sqlite3_y.db3\")\n",
        "dfy.to_sql(\"table_mortalite\",con)\n",
        "con.close()  # il faut fermer la base qui sinon reste ouverte tant que le notebook\n",
        "             # n'est pas ferm\u00e9 --> elle n'est pas modifiable pas d'autre que ce notebook"
      ]
    },
    {
      "cell_type": "code",
      "execution_count": null,
      "metadata": {
        "collapsed": false
      },
      "outputs": [
        {
          "data": {
            "text/plain": [
              "['mortalite_sqlite3_y.db3']"
            ]
          },
          "execution_count": null,
          "metadata": {},
          "output_type": "execute_result"
        }
      ],
      "source": [
        "import os\n",
        "[ _ for _ in os.listdir(\".\") if \"sqlite3\" in _ ]"
      ]
    },
    {
      "cell_type": "markdown",
      "metadata": {},
      "source": [
        "On utilise une requ\u00eate SQL pour r\u00e9cup\u00e9rer les donn\u00e9es \u00e9quivalent au code pandas cit\u00e9 ci-dessous :"
      ]
    },
    {
      "cell_type": "code",
      "execution_count": null,
      "metadata": {
        "collapsed": false
      },
      "outputs": [],
      "source": [
        "con = sqlite3.connect(\"mortalite_sqlite3_y.db3\")\n",
        "view = pandas.read_sql(\"\"\"SELECT * FROM table_mortalite WHERE pays==\"FR\" \n",
        "            AND age == \"Y80\" \n",
        "            AND indicateur == \"DEATHRATE\"\n",
        "            AND genre == \"T\"\n",
        "            ORDER BY annee\"\"\", con)\n",
        "con.close()"
      ]
    },
    {
      "cell_type": "code",
      "execution_count": null,
      "metadata": {
        "collapsed": false
      },
      "outputs": [
        {
          "data": {
            "text/plain": [
              "<matplotlib.axes._subplots.AxesSubplot at 0x772e8c88>"
            ]
          },
          "execution_count": null,
          "metadata": {},
          "output_type": "execute_result"
        },
        {
          "data": {
            "image/png": "[encoded data removed]",
            "text/plain": [
              "<matplotlib.figure.Figure at 0x18144ac8>"
            ]
          },
          "metadata": {},
          "output_type": "display_data"
        }
      ],
      "source": [
        "view.plot(x=\"annee\", y=\"valeur\")"
      ]
    },
    {
      "cell_type": "markdown",
      "metadata": {},
      "source": [
        "### version 2 : pyensae\n",
        "\n",
        "[import_flatfile_into_database](http://www.xavierdupre.fr/app/pyensae/helpsphinx/pyensae/sql/database_helper.html) est une fonction \u00e0 utiliser lorsqu'on ne sait pas toujours quel est le s\u00e9parateur de colonnes dans le fichier \u00e0 importer. La fonction le devine pour vous ainsi que le type de chaque colonne (quand c'est possible). L'autre aspect int\u00e9ressant est qu'elle affiche son \u00e9tat d'avancement. On rep\u00e8re plus rapidement que quelque chose se passe mal. Enfin, pour les gros fichiers, la fonction ne charge pas tout le fichier en m\u00e9moire. Cela permet de placer dans une base SQLite des milliards de lignes (cela peut prendre plus d'une heure). Ce n'est pas le cas ici, c'est juste \u00e0 titre d'exemple. On stocke l'ensemble des donn\u00e9es au format SQLite 3 de fa\u00e7on \u00e0 pouvoir les consulter plus facilement."
      ]
    },
    {
      "cell_type": "code",
      "execution_count": null,
      "metadata": {
        "collapsed": false
      },
      "outputs": [
        {
          "name": "stdout",
          "output_type": "stream",
          "text": [
            "  TextFile: opening file  mortalite_5column.txt\n",
            "  TextFile.guess_columns: processing file  mortalite_5column.txt\n",
            "  TextFile: opening file  mortalite_5column.txt\n",
            "  TextFile.guess_columns: using  101  lines\n",
            "  TextFile: closing file  mortalite_5column.txt\n",
            "  TextFile.guess_columns: sep  '\\t' nb cols 6  bestnb  101  more  {('\\t', 5): 101, (' ', 1): 100}\n",
            "  TextFile.guess_columns: header  True  columns  {0: ('annee', <class 'int'>), 1: ('valeur', <class 'float'>), 2: ('age', <class 'str'>), 3: ('indicateur', <class 'str'>), 4: ('genre', <class 'str'>), 5: ('pays', <class 'str'>)}\n",
            "  compiling ^(?P<annee>([-]?[1-9][0-9]*?)|(0?))\\t(?P<valeur>[-]?[0-9]*?([.][0-9]*?)?([eE][-]?[0-9]{0,4})?)\\t(?P<age>.*)\\t(?P<indicateur>.*)\\t(?P<genre>.*)\\t(?P<pays>.*)$\n",
            "  TextFile.guess_columns: regex  ^(?P<annee>([-]?[1-9][0-9]*?)|(0?))\\t(?P<valeur>[-]?[0-9]*?([.][0-9]*?)?([eE][-]?[0-9]{0,4})?)\\t(?P<age>.*)\\t(?P<indicateur>.*)\\t(?P<genre>.*)\\t(?P<pays>.*)$\n",
            "  TextFile.guess_columns: header  True  columns  {0: ('annee', <class 'int'>), 1: ('valeur', <class 'float'>), 2: ('age', (<class 'str'>, 6)), 3: ('indicateur', (<class 'str'>, 18)), 4: ('genre', (<class 'str'>, 2)), 5: ('pays', (<class 'str'>, 4))}\n",
            "  [_guess_columns] sep=['\\t']\n",
            "  TextFile: closing file  mortalite_5column.txt\n",
            "  [_guess_columns] columns_name=None\n",
            "   guess with  1001 lines\n",
            "   count_types  {0: {<class 'int'>: 1000}, 1: {<class 'float'>: 1000}, 2: {<class 'str'>: 1000}, 3: {<class 'str'>: 1000}, 4: {<class 'str'>: 1000}, 5: {<class 'str'>: 1000}}\n",
            "   columns  {0: ('annee', <class 'int'>), 1: ('valeur', <class 'float'>), 2: ('age', <class 'str'>), 3: ('indicateur', <class 'str'>), 4: ('genre', <class 'str'>), 5: ('pays', <class 'str'>)}\n",
            "   guess {0: ('annee', <class 'int'>), 1: ('valeur', <class 'float'>), 2: ('age', (<class 'str'>, 6)), 3: ('indicateur', (<class 'str'>, 18)), 4: ('genre', (<class 'str'>, 2)), 5: ('pays', (<class 'str'>, 12))}\n",
            "SQL  'CREATE TABLE mortalite_5column(annee INTEGER,'\n",
            "'       valeur FLOAT,'\n",
            "'       age TEXT,'\n",
            "'       indicateur TEXT,'\n",
            "'       genre TEXT,'\n",
            "'       pays TEXT);'\n",
            "   column_has_space False ['annee', 'valeur', 'age', 'indicateur', 'genre', 'pays']\n",
            "   changes {}\n",
            "    TextFileColumns (2): regex:  {0: ('annee', <class 'int'>), 1: ('valeur', <class 'float'>), 2: ('age', (<class 'str'>, 6)), 3: ('indicateur', (<class 'str'>, 18)), 4: ('genre', (<class 'str'>, 2)), 5: ('pays', (<class 'str'>, 12))}\n",
            "  TextFile.guess_columns: processing file  mortalite_5column.txt\n",
            "  TextFile: opening file  mortalite_5column.txt\n",
            "  TextFile.guess_columns: using  101  lines\n",
            "  TextFile: closing file  mortalite_5column.txt\n",
            "  TextFile.guess_columns: sep  '\\t' nb cols 6  bestnb  101  more  {('\\t', 5): 101, (' ', 1): 100}\n",
            "  TextFile.guess_columns: header  True  columns  {0: ('annee', <class 'int'>), 1: ('valeur', <class 'float'>), 2: ('age', <class 'str'>), 3: ('indicateur', <class 'str'>), 4: ('genre', <class 'str'>), 5: ('pays', <class 'str'>)}\n",
            "  compiling ^(?P<annee>([-]?[1-9][0-9]*?)|(0?))\\t(?P<valeur>[-]?[0-9]*?([.][0-9]*?)?([eE][-]?[0-9]{0,4})?)\\t(?P<age>.*)\\t(?P<indicateur>.*)\\t(?P<genre>.*)\\t(?P<pays>.*)$\n",
            "  TextFile.guess_columns: regex  ^(?P<annee>([-]?[1-9][0-9]*?)|(0?))\\t(?P<valeur>[-]?[0-9]*?([.][0-9]*?)?([eE][-]?[0-9]{0,4})?)\\t(?P<age>.*)\\t(?P<indicateur>.*)\\t(?P<genre>.*)\\t(?P<pays>.*)$\n",
            "  TextFile.guess_columns: header  True  columns  {0: ('annee', <class 'int'>), 1: ('valeur', <class 'float'>), 2: ('age', (<class 'str'>, 6)), 3: ('indicateur', (<class 'str'>, 18)), 4: ('genre', (<class 'str'>, 2)), 5: ('pays', (<class 'str'>, 4))}\n",
            "  TextFile: opening file  mortalite_5column.txt\n",
            "adding 100000 lines into table mortalite_5column\n",
            "adding 200000 lines into table mortalite_5column\n",
            "adding 300000 lines into table mortalite_5column\n",
            "adding 400000 lines into table mortalite_5column\n",
            "adding 500000 lines into table mortalite_5column\n",
            "adding 600000 lines into table mortalite_5column\n",
            "adding 700000 lines into table mortalite_5column\n",
            "  processing line  791169  read bytes  24117248  sel  0  ratio 26.21 %\n",
            "adding 800000 lines into table mortalite_5column\n",
            "adding 900000 lines into table mortalite_5column\n",
            "adding 1000000 lines into table mortalite_5column\n",
            "adding 1100000 lines into table mortalite_5column\n",
            "adding 1200000 lines into table mortalite_5column\n",
            "adding 1300000 lines into table mortalite_5column\n",
            "adding 1400000 lines into table mortalite_5column\n",
            "adding 1500000 lines into table mortalite_5column\n",
            "  processing line  1562611  read bytes  49283072  sel  0  ratio 53.55 %\n",
            "adding 1600000 lines into table mortalite_5column\n",
            "adding 1700000 lines into table mortalite_5column\n",
            "adding 1800000 lines into table mortalite_5column\n",
            "adding 1900000 lines into table mortalite_5column\n",
            "adding 2000000 lines into table mortalite_5column\n",
            "adding 2100000 lines into table mortalite_5column\n",
            "adding 2200000 lines into table mortalite_5column\n",
            "adding 2300000 lines into table mortalite_5column\n",
            "  processing line  2349074  read bytes  74448896  sel  0  ratio 80.90 %\n",
            "adding 2400000 lines into table mortalite_5column\n",
            "adding 2500000 lines into table mortalite_5column\n",
            "adding 2600000 lines into table mortalite_5column\n",
            "adding 2700000 lines into table mortalite_5column\n",
            "^(?P<annee>([-]?[1-9][0-9]*?)|(0?))\\t(?P<valeur>[-]?[0-9]*?([.][0-9]*?)?([eE][-]?[0-9]{0,4})?)\\t(?P<age>.*)\\t(?P<indicateur>.*)\\t(?P<genre>.*)\\t(?P<pays>.*)$\n",
            "error regex 0 unable to interpret line  2770816 :  ''\n",
            "  TextFile: closing file  mortalite_5column.txt\n",
            "2770815  lines imported\n"
          ]
        }
      ],
      "source": [
        "from pyensae.sql import import_flatfile_into_database\n",
        "import_flatfile_into_database(\"mortalite.db3\", \"mortalite_5column.txt\")"
      ]
    },
    {
      "cell_type": "markdown",
      "metadata": {},
      "source": [
        "Ensuite, on peut facilement consulter les donn\u00e9es avec le logiciel (sous Windows) [SQLiteSpy](http://www.yunqa.de/delphi/doku.php/products/sqlitespy/index) ou l'extension [sqlite-manager](https://addons.mozilla.org/fr/firefox/addon/sqlite-manager/) pour Firefox sous toutes les plates-formes. Pour cet exercice, on ex\u00e9cute :"
      ]
    },
    {
      "cell_type": "code",
      "execution_count": null,
      "metadata": {
        "collapsed": false
      },
      "outputs": [
        {
          "data": {
            "text/html": [
              "<div>\n",
              "<table border=\"1\" class=\"dataframe\">\n",
              "  <thead>\n",
              "    <tr style=\"text-align: right;\">\n",
              "      <th></th>\n",
              "      <th>annee</th>\n",
              "      <th>valeur</th>\n",
              "      <th>age</th>\n",
              "      <th>indicateur</th>\n",
              "      <th>genre</th>\n",
              "      <th>pays</th>\n",
              "    </tr>\n",
              "  </thead>\n",
              "  <tbody>\n",
              "    <tr>\n",
              "      <th>0</th>\n",
              "      <td>1998</td>\n",
              "      <td>0.05303</td>\n",
              "      <td>Y80</td>\n",
              "      <td>DEATHRATE</td>\n",
              "      <td>T</td>\n",
              "      <td>FR</td>\n",
              "    </tr>\n",
              "    <tr>\n",
              "      <th>1</th>\n",
              "      <td>1999</td>\n",
              "      <td>0.04811</td>\n",
              "      <td>Y80</td>\n",
              "      <td>DEATHRATE</td>\n",
              "      <td>T</td>\n",
              "      <td>FR</td>\n",
              "    </tr>\n",
              "    <tr>\n",
              "      <th>2</th>\n",
              "      <td>2000</td>\n",
              "      <td>0.05344</td>\n",
              "      <td>Y80</td>\n",
              "      <td>DEATHRATE</td>\n",
              "      <td>T</td>\n",
              "      <td>FR</td>\n",
              "    </tr>\n",
              "    <tr>\n",
              "      <th>3</th>\n",
              "      <td>2001</td>\n",
              "      <td>0.05016</td>\n",
              "      <td>Y80</td>\n",
              "      <td>DEATHRATE</td>\n",
              "      <td>T</td>\n",
              "      <td>FR</td>\n",
              "    </tr>\n",
              "    <tr>\n",
              "      <th>4</th>\n",
              "      <td>2002</td>\n",
              "      <td>0.04915</td>\n",
              "      <td>Y80</td>\n",
              "      <td>DEATHRATE</td>\n",
              "      <td>T</td>\n",
              "      <td>FR</td>\n",
              "    </tr>\n",
              "    <tr>\n",
              "      <th>5</th>\n",
              "      <td>2003</td>\n",
              "      <td>0.04946</td>\n",
              "      <td>Y80</td>\n",
              "      <td>DEATHRATE</td>\n",
              "      <td>T</td>\n",
              "      <td>FR</td>\n",
              "    </tr>\n",
              "    <tr>\n",
              "      <th>6</th>\n",
              "      <td>2004</td>\n",
              "      <td>0.04507</td>\n",
              "      <td>Y80</td>\n",
              "      <td>DEATHRATE</td>\n",
              "      <td>T</td>\n",
              "      <td>FR</td>\n",
              "    </tr>\n",
              "    <tr>\n",
              "      <th>7</th>\n",
              "      <td>2005</td>\n",
              "      <td>0.04542</td>\n",
              "      <td>Y80</td>\n",
              "      <td>DEATHRATE</td>\n",
              "      <td>T</td>\n",
              "      <td>FR</td>\n",
              "    </tr>\n",
              "    <tr>\n",
              "      <th>8</th>\n",
              "      <td>2006</td>\n",
              "      <td>0.04294</td>\n",
              "      <td>Y80</td>\n",
              "      <td>DEATHRATE</td>\n",
              "      <td>T</td>\n",
              "      <td>FR</td>\n",
              "    </tr>\n",
              "    <tr>\n",
              "      <th>9</th>\n",
              "      <td>2007</td>\n",
              "      <td>0.04258</td>\n",
              "      <td>Y80</td>\n",
              "      <td>DEATHRATE</td>\n",
              "      <td>T</td>\n",
              "      <td>FR</td>\n",
              "    </tr>\n",
              "    <tr>\n",
              "      <th>10</th>\n",
              "      <td>2008</td>\n",
              "      <td>0.04180</td>\n",
              "      <td>Y80</td>\n",
              "      <td>DEATHRATE</td>\n",
              "      <td>T</td>\n",
              "      <td>FR</td>\n",
              "    </tr>\n",
              "    <tr>\n",
              "      <th>11</th>\n",
              "      <td>2009</td>\n",
              "      <td>0.04041</td>\n",
              "      <td>Y80</td>\n",
              "      <td>DEATHRATE</td>\n",
              "      <td>T</td>\n",
              "      <td>FR</td>\n",
              "    </tr>\n",
              "    <tr>\n",
              "      <th>12</th>\n",
              "      <td>2010</td>\n",
              "      <td>0.03992</td>\n",
              "      <td>Y80</td>\n",
              "      <td>DEATHRATE</td>\n",
              "      <td>T</td>\n",
              "      <td>FR</td>\n",
              "    </tr>\n",
              "    <tr>\n",
              "      <th>13</th>\n",
              "      <td>2011</td>\n",
              "      <td>0.03807</td>\n",
              "      <td>Y80</td>\n",
              "      <td>DEATHRATE</td>\n",
              "      <td>T</td>\n",
              "      <td>FR</td>\n",
              "    </tr>\n",
              "    <tr>\n",
              "      <th>14</th>\n",
              "      <td>2012</td>\n",
              "      <td>0.03823</td>\n",
              "      <td>Y80</td>\n",
              "      <td>DEATHRATE</td>\n",
              "      <td>T</td>\n",
              "      <td>FR</td>\n",
              "    </tr>\n",
              "    <tr>\n",
              "      <th>15</th>\n",
              "      <td>2013</td>\n",
              "      <td>0.03732</td>\n",
              "      <td>Y80</td>\n",
              "      <td>DEATHRATE</td>\n",
              "      <td>T</td>\n",
              "      <td>FR</td>\n",
              "    </tr>\n",
              "    <tr>\n",
              "      <th>16</th>\n",
              "      <td>2014</td>\n",
              "      <td>0.03541</td>\n",
              "      <td>Y80</td>\n",
              "      <td>DEATHRATE</td>\n",
              "      <td>T</td>\n",
              "      <td>FR</td>\n",
              "    </tr>\n",
              "  </tbody>\n",
              "</table>\n",
              "</div>"
            ],
            "text/plain": [
              "    annee   valeur  age indicateur genre pays\n",
              "0    1998  0.05303  Y80  DEATHRATE     T   FR\n",
              "1    1999  0.04811  Y80  DEATHRATE     T   FR\n",
              "2    2000  0.05344  Y80  DEATHRATE     T   FR\n",
              "3    2001  0.05016  Y80  DEATHRATE     T   FR\n",
              "4    2002  0.04915  Y80  DEATHRATE     T   FR\n",
              "5    2003  0.04946  Y80  DEATHRATE     T   FR\n",
              "6    2004  0.04507  Y80  DEATHRATE     T   FR\n",
              "7    2005  0.04542  Y80  DEATHRATE     T   FR\n",
              "8    2006  0.04294  Y80  DEATHRATE     T   FR\n",
              "9    2007  0.04258  Y80  DEATHRATE     T   FR\n",
              "10   2008  0.04180  Y80  DEATHRATE     T   FR\n",
              "11   2009  0.04041  Y80  DEATHRATE     T   FR\n",
              "12   2010  0.03992  Y80  DEATHRATE     T   FR\n",
              "13   2011  0.03807  Y80  DEATHRATE     T   FR\n",
              "14   2012  0.03823  Y80  DEATHRATE     T   FR\n",
              "15   2013  0.03732  Y80  DEATHRATE     T   FR\n",
              "16   2014  0.03541  Y80  DEATHRATE     T   FR"
            ]
          },
          "execution_count": null,
          "metadata": {},
          "output_type": "execute_result"
        }
      ],
      "source": [
        "sql = \"\"\"SELECT * FROM mortalite_5column WHERE pays==\"FR\" \n",
        "            AND age == \"Y80\" \n",
        "            AND indicateur == \"DEATHRATE\"\n",
        "            AND genre == \"T\"\n",
        "            ORDER BY annee\"\"\"\n",
        "from pyensae.sql import Database\n",
        "db = Database(\"mortalite.db3\", LOG = lambda *l : None)\n",
        "db.connect()\n",
        "view = db.to_df(sql)\n",
        "view"
      ]
    },
    {
      "cell_type": "markdown",
      "metadata": {},
      "source": [
        "Visuellement, cela donne :"
      ]
    },
    {
      "cell_type": "code",
      "execution_count": null,
      "metadata": {
        "collapsed": false
      },
      "outputs": [
        {
          "data": {
            "text/plain": [
              "<matplotlib.axes._subplots.AxesSubplot at 0x772f06a0>"
            ]
          },
          "execution_count": null,
          "metadata": {},
          "output_type": "execute_result"
        },
        {
          "data": {
            "image/png": "[encoded data removed]",
            "text/plain": [
              "<matplotlib.figure.Figure at 0x2451f710>"
            ]
          },
          "metadata": {},
          "output_type": "display_data"
        }
      ],
      "source": [
        "view.plot(x=\"annee\", y=\"valeur\")"
      ]
    },
    {
      "cell_type": "markdown",
      "metadata": {},
      "source": [
        "## Cube de donn\u00e9es\n",
        "\n",
        "On utilise l'expression *cube de donn\u00e9es* pour d\u00e9signer \u00e0 tableaux \u00e0 plusieurs dimensions. On le repr\u00e9sente souvent par une liste ``coordonn\u00e9es, valeurs``. C'est souvent beaucoup de donn\u00e9es et pas forc\u00e9ment de moyen pratique de les manipuler. \n",
        "\n",
        "module xarray"
      ]
    },
    {
      "cell_type": "code",
      "execution_count": null,
      "metadata": {
        "collapsed": false
      },
      "outputs": [
        {
          "data": {
            "text/plain": [
              "(2770815, 6)"
            ]
          },
          "execution_count": null,
          "metadata": {},
          "output_type": "execute_result"
        }
      ],
      "source": [
        "import pandas \n",
        "df = pandas.read_csv(\"mortalite_5column.txt\", sep=\"\\t\", encoding=\"utf8\")\n",
        "df.shape"
      ]
    },
    {
      "cell_type": "code",
      "execution_count": null,
      "metadata": {
        "collapsed": false
      },
      "outputs": [],
      "source": []
    }
  ],
  "metadata": {
    "kernelspec": {
      "display_name": "Python 3",
      "language": "python",
      "name": "python3"
    },
    "language_info": {
      "codemirror_mode": {
        "name": "ipython",
        "version": 3
      },
      "file_extension": ".py",
      "mimetype": "text/x-python",
      "name": "python",
      "nbconvert_exporter": "python",
      "pygments_lexer": "ipython3",
      "version": "3.4.3"
    }
  },
  "nbformat": 4,
  "nbformat_minor": 0
}