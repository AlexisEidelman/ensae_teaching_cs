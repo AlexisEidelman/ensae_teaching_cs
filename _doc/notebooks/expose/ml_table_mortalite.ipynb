{
 "metadata": {
  "name": "",
  "signature": "sha256:65e961de9f42e028bef8da5e75be44c83b2b8637fae432fdfbe6f8bf5b935a4e"
 },
 "nbformat": 3,
 "nbformat_minor": 0,
 "worksheets": [
  {
   "cells": [
    {
     "cell_type": "heading",
     "level": 1,
     "metadata": {},
     "source": [
      "Table de mortalit\u00e9"
     ]
    },
    {
     "cell_type": "markdown",
     "metadata": {},
     "source": [
      "Plan\n",
      "- [R\u00e9cup\u00e9ration des donn\u00e9es](#recup)\n",
      "- [Cubes de donn\u00e9es](#cube) [incomplet]\n",
      "\n",
      "<h3 id=\"recup\">R\u00e9cup\u00e9ration des donn\u00e9es</h3>\n",
      "\n",
      "Les donn\u00e9es sont recens\u00e9es sur [Data Publica](http://www.data-publica.com/) : [Table de mortalit\u00e9](http://www.data-publica.com/opendata/7098--population-et-conditions-sociales-table-de-mortalite-de-1960-a-2010) qui les a r\u00e9cup\u00e9r\u00e9 depuis le site d'Eurostat via le listing suivant : [listing](http://epp.eurostat.ec.europa.eu/NavTree_prod/everybody/BulkDownloadListing?sort=1&dir=data). Pour faire court, le lien est le suivant : [demo_mlifetable.tsv.gz](http://epp.eurostat.ec.europa.eu/NavTree_prod/everybody/BulkDownloadListing?file=data/demo_mlifetable.tsv.gz). Le fichier est compress\u00e9 au format [gzip](http://fr.wikipedia.org/wiki/Gzip). On le t\u00e9l\u00e9charge, on le d\u00e9compresse."
     ]
    },
    {
     "cell_type": "code",
     "collapsed": false,
     "input": [
      "url = \"http://ec.europa.eu/eurostat/estat-navtree-portlet-prod/BulkDownloadListing?file=data/\"\n",
      "file = \"demo_mlifetable.tsv.gz\"\n",
      "import pyensae\n",
      "local = pyensae.download_data(\"demo_mlifetable.tsv.gz\", url=url)\n",
      "local = local[0]+\".gz\"\n",
      "import gzip\n",
      "with gzip.open(local, 'rb') as f: file_content = f.read()\n",
      "content = str(file_content, encoding=\"utf8\")\n",
      "with open(\"mortalite.txt\", \"w\", encoding=\"utf8\") as f : f.write(content)"
     ],
     "language": "python",
     "metadata": {},
     "outputs": [],
     "prompt_number": 6
    },
    {
     "cell_type": "markdown",
     "metadata": {},
     "source": [
      "Puis on le charge sous forme de dataframe :"
     ]
    },
    {
     "cell_type": "code",
     "collapsed": false,
     "input": [
      "import pandas\n",
      "dff = pandas.read_csv(\"mortalite.txt\", sep=\"\\t\", encoding=\"utf8\")\n",
      "dff.head()"
     ],
     "language": "python",
     "metadata": {},
     "outputs": [
      {
       "html": [
        "<div style=\"max-height:1000px;max-width:1500px;overflow:auto;\">\n",
        "<table border=\"1\" class=\"dataframe\">\n",
        "  <thead>\n",
        "    <tr style=\"text-align: right;\">\n",
        "      <th></th>\n",
        "      <th>indic_de,sex,age,geo\\time</th>\n",
        "      <th>2012 </th>\n",
        "      <th>2011 </th>\n",
        "      <th>2010 </th>\n",
        "      <th>2009 </th>\n",
        "      <th>2008 </th>\n",
        "      <th>2007 </th>\n",
        "      <th>2006 </th>\n",
        "      <th>2005 </th>\n",
        "      <th>2004 </th>\n",
        "      <th>...</th>\n",
        "      <th>1969 </th>\n",
        "      <th>1968 </th>\n",
        "      <th>1967 </th>\n",
        "      <th>1966 </th>\n",
        "      <th>1965 </th>\n",
        "      <th>1964 </th>\n",
        "      <th>1963 </th>\n",
        "      <th>1962 </th>\n",
        "      <th>1961 </th>\n",
        "      <th>1960 </th>\n",
        "    </tr>\n",
        "  </thead>\n",
        "  <tbody>\n",
        "    <tr>\n",
        "      <th>0</th>\n",
        "      <td> DEATHRATE,F,Y1,AM</td>\n",
        "      <td>       : </td>\n",
        "      <td>       : </td>\n",
        "      <td>       : </td>\n",
        "      <td> 0.00080 </td>\n",
        "      <td> 0.00067 </td>\n",
        "      <td> 0.00052 </td>\n",
        "      <td> 0.00123 </td>\n",
        "      <td>       : </td>\n",
        "      <td>       : </td>\n",
        "      <td>...</td>\n",
        "      <td>       : </td>\n",
        "      <td>       : </td>\n",
        "      <td>       : </td>\n",
        "      <td>       : </td>\n",
        "      <td>       : </td>\n",
        "      <td>       : </td>\n",
        "      <td>       : </td>\n",
        "      <td>       : </td>\n",
        "      <td>       : </td>\n",
        "      <td>       : </td>\n",
        "    </tr>\n",
        "    <tr>\n",
        "      <th>1</th>\n",
        "      <td> DEATHRATE,F,Y1,AT</td>\n",
        "      <td> 0.00018 </td>\n",
        "      <td> 0.00018 </td>\n",
        "      <td> 0.00034 </td>\n",
        "      <td> 0.00042 </td>\n",
        "      <td> 0.00039 </td>\n",
        "      <td> 0.00036 </td>\n",
        "      <td> 0.00036 </td>\n",
        "      <td> 0.00039 </td>\n",
        "      <td> 0.00023 </td>\n",
        "      <td>...</td>\n",
        "      <td>       : </td>\n",
        "      <td>       : </td>\n",
        "      <td>       : </td>\n",
        "      <td>       : </td>\n",
        "      <td>       : </td>\n",
        "      <td>       : </td>\n",
        "      <td>       : </td>\n",
        "      <td>       : </td>\n",
        "      <td>       : </td>\n",
        "      <td>       : </td>\n",
        "    </tr>\n",
        "    <tr>\n",
        "      <th>2</th>\n",
        "      <td> DEATHRATE,F,Y1,AZ</td>\n",
        "      <td> 0.00132 </td>\n",
        "      <td>       : </td>\n",
        "      <td> 0.00134 </td>\n",
        "      <td> 0.00111 </td>\n",
        "      <td> 0.00130 </td>\n",
        "      <td> 0.00187 </td>\n",
        "      <td> 0.00252 </td>\n",
        "      <td>       : </td>\n",
        "      <td>       : </td>\n",
        "      <td>...</td>\n",
        "      <td>       : </td>\n",
        "      <td>       : </td>\n",
        "      <td>       : </td>\n",
        "      <td>       : </td>\n",
        "      <td>       : </td>\n",
        "      <td>       : </td>\n",
        "      <td>       : </td>\n",
        "      <td>       : </td>\n",
        "      <td>       : </td>\n",
        "      <td>       : </td>\n",
        "    </tr>\n",
        "    <tr>\n",
        "      <th>3</th>\n",
        "      <td> DEATHRATE,F,Y1,BE</td>\n",
        "      <td> 0.00025 </td>\n",
        "      <td> 0.00030 </td>\n",
        "      <td> 0.00021 </td>\n",
        "      <td> 0.00041 </td>\n",
        "      <td> 0.00030 </td>\n",
        "      <td> 0.00039 </td>\n",
        "      <td> 0.00035 </td>\n",
        "      <td> 0.00025 </td>\n",
        "      <td> 0.00033 </td>\n",
        "      <td>...</td>\n",
        "      <td> 0.00141 </td>\n",
        "      <td> 0.00155 </td>\n",
        "      <td> 0.00132 </td>\n",
        "      <td> 0.00129 </td>\n",
        "      <td> 0.00153 </td>\n",
        "      <td> 0.00137 </td>\n",
        "      <td> 0.00170 </td>\n",
        "      <td> 0.00161 </td>\n",
        "      <td> 0.00168 </td>\n",
        "      <td> 0.00159 </td>\n",
        "    </tr>\n",
        "    <tr>\n",
        "      <th>4</th>\n",
        "      <td> DEATHRATE,F,Y1,BG</td>\n",
        "      <td> 0.00069 </td>\n",
        "      <td> 0.00067 </td>\n",
        "      <td> 0.00055 </td>\n",
        "      <td> 0.00089 </td>\n",
        "      <td> 0.00067 </td>\n",
        "      <td> 0.00089 </td>\n",
        "      <td> 0.00059 </td>\n",
        "      <td> 0.00097 </td>\n",
        "      <td> 0.00103 </td>\n",
        "      <td>...</td>\n",
        "      <td> 0.00229 </td>\n",
        "      <td> 0.00248 </td>\n",
        "      <td> 0.00317 </td>\n",
        "      <td> 0.00273 </td>\n",
        "      <td> 0.00286 </td>\n",
        "      <td> 0.00309 </td>\n",
        "      <td> 0.00404 </td>\n",
        "      <td> 0.00395 </td>\n",
        "      <td> 0.00464 </td>\n",
        "      <td> 0.00652 </td>\n",
        "    </tr>\n",
        "  </tbody>\n",
        "</table>\n",
        "<p>5 rows \u00d7 54 columns</p>\n",
        "</div>"
       ],
       "metadata": {},
       "output_type": "pyout",
       "prompt_number": 17,
       "text": [
        "  indic_de,sex,age,geo\\time     2012      2011      2010      2009      2008   \\\n",
        "0         DEATHRATE,F,Y1,AM        :         :         :   0.00080   0.00067    \n",
        "1         DEATHRATE,F,Y1,AT  0.00018   0.00018   0.00034   0.00042   0.00039    \n",
        "2         DEATHRATE,F,Y1,AZ  0.00132         :   0.00134   0.00111   0.00130    \n",
        "3         DEATHRATE,F,Y1,BE  0.00025   0.00030   0.00021   0.00041   0.00030    \n",
        "4         DEATHRATE,F,Y1,BG  0.00069   0.00067   0.00055   0.00089   0.00067    \n",
        "\n",
        "      2007      2006      2005      2004     ...        1969      1968   \\\n",
        "0  0.00052   0.00123         :         :     ...           :         :    \n",
        "1  0.00036   0.00036   0.00039   0.00023     ...           :         :    \n",
        "2  0.00187   0.00252         :         :     ...           :         :    \n",
        "3  0.00039   0.00035   0.00025   0.00033     ...     0.00141   0.00155    \n",
        "4  0.00089   0.00059   0.00097   0.00103     ...     0.00229   0.00248    \n",
        "\n",
        "      1967      1966      1965      1964      1963      1962      1961   \\\n",
        "0        :         :         :         :         :         :         :    \n",
        "1        :         :         :         :         :         :         :    \n",
        "2        :         :         :         :         :         :         :    \n",
        "3  0.00132   0.00129   0.00153   0.00137   0.00170   0.00161   0.00168    \n",
        "4  0.00317   0.00273   0.00286   0.00309   0.00404   0.00395   0.00464    \n",
        "\n",
        "      1960   \n",
        "0        :   \n",
        "1        :   \n",
        "2        :   \n",
        "3  0.00159   \n",
        "4  0.00652   \n",
        "\n",
        "[5 rows x 54 columns]"
       ]
      }
     ],
     "prompt_number": 17
    },
    {
     "cell_type": "markdown",
     "metadata": {},
     "source": [
      "La premi\u00e8re colonne contient une aggr\u00e9gation de champs. On souhaite transformer cette table de telle sorte qu'on ait un nombre r\u00e9duit de colonnes :\n",
      "\n",
      "- indicateur\n",
      "- genre\n",
      "- age\n",
      "- pays (ou ensemble de pays)\n",
      "- annee\n",
      "- valeur\n",
      "\n",
      "L'\u00e2ge est repr\u00e9sent\u00e9 sous forme de cha\u00eene de caract\u00e8res pour pouvoir \u00e9crire ``Y_LT1`` (moins d'un an), ``Y_GE85`` (plus de 85 ans). On change un peu le format pour pouvoir les trier par ordre croissant (en effet ``Y2`` est apr\u00e8s ``Y10``). On sauve le tout dans un fichier pour ne pas avoir \u00e0 recommencer ult\u00e9rieurement. Malgr\u00e9 tout, le code ci-dessous est tr\u00e8s lent pour la table compl\u00e8te qui contiendra au final pr\u00e8s de 5 millions de lignes. On supprime les valeurs manquantes."
     ]
    },
    {
     "cell_type": "code",
     "collapsed": false,
     "input": [
      "def format_age(s):\n",
      "    if s.startswith(\"Y_\") : \n",
      "        if s.startswith(\"Y_LT\"): s = \"Y00_LT\" + s[4:]\n",
      "        elif s.startswith(\"Y_GE\"): s = \"Y85_GE\" + s[4:]\n",
      "        else: raise FormatError(s)\n",
      "    else:\n",
      "        i = int(s.strip(\"Y\"))\n",
      "        return \"Y%02d\" % i\n",
      "    \n",
      "def format_value(s):\n",
      "    if isinstance(s, str):\n",
      "        if s.strip() == \":\" : return -1\n",
      "        else : return double(s.strip(\" eb\"))\n",
      "    else :\n",
      "        return s\n",
      "    \n",
      "if False:  # sur les donn\u00e9es compl\u00e8tes, c'est plut\u00f4t long, r\u00e9duire la taille pour essayer\n",
      "    dfsmall = dff.head(n = 1000) # on r\u00e9duit la taille pour \n",
      "    df = dfsmall # impl\u00e9menter la transformation\n",
      "else:\n",
      "    df = dff\n",
      "\n",
      "dfi = df.reset_index().set_index(\"indic_de,sex,age,geo\\\\time\")\n",
      "dfi = dfi.drop('index', axis=1)\n",
      "dfs = dfi.stack()\n",
      "dfs = pandas.DataFrame({\"valeur\": dfs } )\n",
      "\n",
      "dfs[\"valeur\"] = dfs.apply (lambda r : format_value(r[\"valeur\"]) , axis=1) \n",
      "dfs = dfs[ dfs.valeur >= 0 ]\n",
      "dfs = dfs.reset_index()\n",
      "dfs.columns = [\"index\", \"annee\", \"valeur\"]\n",
      "\n",
      "dfs[\"age\"] = dfs.apply ( lambda r : format_age(r['index'].split(\",\")[2]), axis=1)\n",
      "dfs[\"indicateur\"] = dfs.apply ( lambda r : r['index'].split(\",\")[0], axis=1)\n",
      "dfs[\"genre\"] = dfs.apply ( lambda r : r['index'].split(\",\")[1], axis=1)\n",
      "dfs[\"pays\"] = dfs.apply ( lambda r : r['index'].split(\",\")[3], axis=1)\n",
      "\n",
      "dfy = dfs.drop('index', axis=1)\n",
      "dfy.to_csv(\"mortalite_5column.txt\", sep=\"\\t\", encoding=\"utf8\", index=False)\n",
      "dfy.head()"
     ],
     "language": "python",
     "metadata": {},
     "outputs": [
      {
       "html": [
        "<div style=\"max-height:1000px;max-width:1500px;overflow:auto;\">\n",
        "<table border=\"1\" class=\"dataframe\">\n",
        "  <thead>\n",
        "    <tr style=\"text-align: right;\">\n",
        "      <th></th>\n",
        "      <th>annee</th>\n",
        "      <th>valeur</th>\n",
        "      <th>age</th>\n",
        "      <th>indicateur</th>\n",
        "      <th>genre</th>\n",
        "      <th>pays</th>\n",
        "    </tr>\n",
        "  </thead>\n",
        "  <tbody>\n",
        "    <tr>\n",
        "      <th>0</th>\n",
        "      <td> 2009 </td>\n",
        "      <td> 0.00080</td>\n",
        "      <td> Y01</td>\n",
        "      <td> DEATHRATE</td>\n",
        "      <td> F</td>\n",
        "      <td> AM</td>\n",
        "    </tr>\n",
        "    <tr>\n",
        "      <th>1</th>\n",
        "      <td> 2008 </td>\n",
        "      <td> 0.00067</td>\n",
        "      <td> Y01</td>\n",
        "      <td> DEATHRATE</td>\n",
        "      <td> F</td>\n",
        "      <td> AM</td>\n",
        "    </tr>\n",
        "    <tr>\n",
        "      <th>2</th>\n",
        "      <td> 2007 </td>\n",
        "      <td> 0.00052</td>\n",
        "      <td> Y01</td>\n",
        "      <td> DEATHRATE</td>\n",
        "      <td> F</td>\n",
        "      <td> AM</td>\n",
        "    </tr>\n",
        "    <tr>\n",
        "      <th>3</th>\n",
        "      <td> 2006 </td>\n",
        "      <td> 0.00123</td>\n",
        "      <td> Y01</td>\n",
        "      <td> DEATHRATE</td>\n",
        "      <td> F</td>\n",
        "      <td> AM</td>\n",
        "    </tr>\n",
        "    <tr>\n",
        "      <th>4</th>\n",
        "      <td> 2012 </td>\n",
        "      <td> 0.00018</td>\n",
        "      <td> Y01</td>\n",
        "      <td> DEATHRATE</td>\n",
        "      <td> F</td>\n",
        "      <td> AT</td>\n",
        "    </tr>\n",
        "  </tbody>\n",
        "</table>\n",
        "</div>"
       ],
       "metadata": {},
       "output_type": "pyout",
       "prompt_number": 18,
       "text": [
        "   annee   valeur  age indicateur genre pays\n",
        "0  2009   0.00080  Y01  DEATHRATE     F   AM\n",
        "1  2008   0.00067  Y01  DEATHRATE     F   AM\n",
        "2  2007   0.00052  Y01  DEATHRATE     F   AM\n",
        "3  2006   0.00123  Y01  DEATHRATE     F   AM\n",
        "4  2012   0.00018  Y01  DEATHRATE     F   AT"
       ]
      }
     ],
     "prompt_number": 18
    },
    {
     "cell_type": "markdown",
     "metadata": {},
     "source": [
      "On stocke l'ensemble des donn\u00e9es au format SQLite 3 de fa\u00e7on \u00e0 pouvoir les consulter plus facilement."
     ]
    },
    {
     "cell_type": "code",
     "collapsed": false,
     "input": [
      "import pyensae\n",
      "pyensae.import_flatfile_into_database(\"mortalite.db3\", \"mortalite_5column.txt\")"
     ],
     "language": "python",
     "metadata": {},
     "outputs": [
      {
       "output_type": "stream",
       "stream": "stdout",
       "text": [
        "processing file  mortalite_5column.txt\n",
        "  TextFile: opening file  mortalite_5column.txt\n",
        "  TextFile: closing file "
       ]
      },
      {
       "output_type": "stream",
       "stream": "stdout",
       "text": [
        " mortalite_5column.txt\n",
        "   guess with "
       ]
      },
      {
       "output_type": "stream",
       "stream": "stdout",
       "text": [
        " 1001 lines\n",
        "   count_types  {0: {<class 'int'>: 1000}, 1: {<class 'float'>: 1000}, 2: {<class 'str'>: 1000}, 3: {<class 'str'>: 1000}, 4: {<class 'str'>: 1000}, 5: {<class 'str'>: 1000}}\n",
        "   columns  {0: ('annee', <class 'int'>), 1: ('valeur', <class 'float'>), 2: ('age', <class 'str'>), 3: ('indicateur', <class 'str'>), 4: ('genre', <class 'str'>), 5: ('pays', <class 'str'>)}\n",
        "   guess {0: ('annee', <class 'int'>), 1: ('valeur', <class 'float'>), 2: ('age', (<class 'str'>, 6)), 3: ('indicateur', (<class 'str'>, 18)), 4: ('genre', (<class 'str'>, 2)), 5: ('pays', (<class 'str'>, 12))}\n",
        "   columns  {0: ('annee', <class 'int'>), 1: ('valeur', <class 'float'>), 2: ('age', (<class 'str'>, 6)), 3: ('indicateur', (<class 'str'>, 18)), 4: ('genre', (<class 'str'>, 2)), 5: ('pays', (<class 'str'>, 12))}\n",
        "SQL  'CREATE TABLE mortalite_5column(annee INTEGER,'\n",
        "'       valeur FLOAT,'\n",
        "'       age TEXT,'\n",
        "'       indicateur TEXT,'\n",
        "'       genre TEXT,'\n",
        "'       pays TEXT);'\n",
        "   column_has_space False ['annee', 'valeur', 'age', 'indicateur', 'genre', 'pays']\n",
        "   changes {}\n",
        "    TextFileColumns (2): regex:  {0: ('annee', <class 'int'>), 1: ('valeur', <class 'float'>), 2: ('age', (<class 'str'>, 6)), 3: ('indicateur', (<class 'str'>, 18)), 4: ('genre', (<class 'str'>, 2)), 5: ('pays', (<class 'str'>, 12))}\n",
        "  TextFile.guess_columns: processing file  mortalite_5column.txt\n",
        "  TextFile: opening file  mortalite_5column.txt\n",
        "  TextFile.guess_columns: using  101  lines\n",
        "  TextFile: closing file  mortalite_5column.txt\n",
        "  TextFile.guess_columns: sep  '\\t' nb cols 6  bestnb  101  more  {(' ', 1): 100, ('\\t', 5): 101}\n",
        "  TextFile.guess_columns: header  True  columns  {0: ('annee', <class 'int'>), 1: ('valeur', <class 'float'>), 2: ('age', <class 'str'>), 3: ('indicateur', <class 'str'>), 4: ('genre', <class 'str'>), 5: ('pays', <class 'str'>)}\n",
        "  compiling ^(?P<annee>([-]?[1-9][0-9]*?)|(0?))\\t(?P<valeur>[-]?[0-9]*?([.][0-9]*?)?([eE][-]?[0-9]{0,4})?)\\t(?P<age>.*)\\t(?P<indicateur>.*)\\t(?P<genre>.*)\\t(?P<pays>.*)$\n",
        "  TextFile.guess_columns: regex  ^(?P<annee>([-]?[1-9][0-9]*?)|(0?))\\t(?P<valeur>[-]?[0-9]*?([.][0-9]*?)?([eE][-]?[0-9]{0,4})?)\\t(?P<age>.*)\\t(?P<indicateur>.*)\\t(?P<genre>.*)\\t(?P<pays>.*)$\n",
        "  TextFile.guess_columns: header  True  columns  {0: ('annee', <class 'int'>), 1: ('valeur', <class 'float'>), 2: ('age', (<class 'str'>, 6)), 3: ('indicateur', (<class 'str'>, 18)), 4: ('genre', (<class 'str'>, 2)), 5: ('pays', (<class 'str'>, 4))}\n",
        "  TextFile: opening file  mortalite_5column.txt\n",
        "adding 100000 lines into table mortalite_5column"
       ]
      },
      {
       "output_type": "stream",
       "stream": "stdout",
       "text": [
        "\n",
        "adding 200000 lines into table mortalite_5column"
       ]
      },
      {
       "output_type": "stream",
       "stream": "stdout",
       "text": [
        "\n",
        "adding 300000 lines into table mortalite_5column"
       ]
      },
      {
       "output_type": "stream",
       "stream": "stdout",
       "text": [
        "\n",
        "adding 400000 lines into table mortalite_5column"
       ]
      },
      {
       "output_type": "stream",
       "stream": "stdout",
       "text": [
        "\n",
        "adding 500000 lines into table mortalite_5column"
       ]
      },
      {
       "output_type": "stream",
       "stream": "stdout",
       "text": [
        "\n",
        "adding 600000 lines into table mortalite_5column"
       ]
      },
      {
       "output_type": "stream",
       "stream": "stdout",
       "text": [
        "\n",
        "adding 700000 lines into table mortalite_5column"
       ]
      },
      {
       "output_type": "stream",
       "stream": "stdout",
       "text": [
        "\n",
        "adding 800000 lines into table mortalite_5column"
       ]
      },
      {
       "output_type": "stream",
       "stream": "stdout",
       "text": [
        "\n",
        "  processing line "
       ]
      },
      {
       "output_type": "stream",
       "stream": "stdout",
       "text": [
        " 887966  read bytes  27262976  sel  0  ratio 30.92 %\n",
        "adding 900000 lines into table mortalite_5column"
       ]
      },
      {
       "output_type": "stream",
       "stream": "stdout",
       "text": [
        "\n",
        "adding 1000000 lines into table mortalite_5column"
       ]
      },
      {
       "output_type": "stream",
       "stream": "stdout",
       "text": [
        "\n",
        "adding 1100000 lines into table mortalite_5column"
       ]
      },
      {
       "output_type": "stream",
       "stream": "stdout",
       "text": [
        "\n",
        "adding 1200000 lines into table mortalite_5column"
       ]
      },
      {
       "output_type": "stream",
       "stream": "stdout",
       "text": [
        "\n",
        "adding 1300000 lines into table mortalite_5column"
       ]
      },
      {
       "output_type": "stream",
       "stream": "stdout",
       "text": [
        "\n",
        "adding 1400000 lines into table mortalite_5column"
       ]
      },
      {
       "output_type": "stream",
       "stream": "stdout",
       "text": [
        "\n",
        "adding 1500000 lines into table mortalite_5column"
       ]
      },
      {
       "output_type": "stream",
       "stream": "stdout",
       "text": [
        "\n",
        "adding 1600000 lines into table mortalite_5column"
       ]
      },
      {
       "output_type": "stream",
       "stream": "stdout",
       "text": [
        "\n",
        "adding 1700000 lines into table mortalite_5column"
       ]
      },
      {
       "output_type": "stream",
       "stream": "stdout",
       "text": [
        "\n",
        "adding 1800000 lines into table mortalite_5column"
       ]
      },
      {
       "output_type": "stream",
       "stream": "stdout",
       "text": [
        "\n",
        "  processing line "
       ]
      },
      {
       "output_type": "stream",
       "stream": "stdout",
       "text": [
        " 1801860  read bytes  56623104  sel  0  ratio 64.22 %\n",
        "adding 1900000 lines into table mortalite_5column"
       ]
      },
      {
       "output_type": "stream",
       "stream": "stdout",
       "text": [
        "\n",
        "adding 2000000 lines into table mortalite_5column"
       ]
      },
      {
       "output_type": "stream",
       "stream": "stdout",
       "text": [
        "\n",
        "adding 2100000 lines into table mortalite_5column"
       ]
      },
      {
       "output_type": "stream",
       "stream": "stdout",
       "text": [
        "\n",
        "adding 2200000 lines into table mortalite_5column"
       ]
      },
      {
       "output_type": "stream",
       "stream": "stdout",
       "text": [
        "\n",
        "adding 2300000 lines into table mortalite_5column"
       ]
      },
      {
       "output_type": "stream",
       "stream": "stdout",
       "text": [
        "\n",
        "adding 2400000 lines into table mortalite_5column"
       ]
      },
      {
       "output_type": "stream",
       "stream": "stdout",
       "text": [
        "\n",
        "adding 2500000 lines into table mortalite_5column"
       ]
      },
      {
       "output_type": "stream",
       "stream": "stdout",
       "text": [
        "\n",
        "adding 2600000 lines into table mortalite_5column"
       ]
      },
      {
       "output_type": "stream",
       "stream": "stdout",
       "text": [
        "\n",
        "^(?P<annee>([-]?[1-9][0-9]*?)|(0?))\\t(?P<valeur>[-]?[0-9]*?([.][0-9]*?)?([eE][-]?[0-9]{0,4})?)\\t(?P<age>.*)\\t(?P<indicateur>.*)\\t(?P<genre>.*)\\t(?P<pays>.*)$"
       ]
      },
      {
       "output_type": "stream",
       "stream": "stdout",
       "text": [
        "\n",
        "error regex 0 unable to interprete line  2652562 :  ''\n",
        "  TextFile: closing file  mortalite_5column.txt\n",
        "2652561"
       ]
      },
      {
       "output_type": "stream",
       "stream": "stdout",
       "text": [
        "  lines imported\n"
       ]
      }
     ],
     "prompt_number": 25
    },
    {
     "cell_type": "markdown",
     "metadata": {},
     "source": [
      "Ensuite, on peut facilement consulter les donn\u00e9es avec le logiciel (sous Windows) : [SQLiteSpy](http://www.yunqa.de/delphi/doku.php/products/sqlitespy/index) ou utiliser le code suivant :"
     ]
    },
    {
     "cell_type": "code",
     "collapsed": false,
     "input": [
      "sql = \"\"\"SELECT * FROM mortalite_5column WHERE pays==\"FR\" \n",
      "            AND age == \"Y80\" \n",
      "            AND indicateur == \"DEATHRATE\"\n",
      "            AND genre == \"T\"\n",
      "            ORDER BY annee\"\"\"\n",
      "import pyensae\n",
      "db = pyensae.Database(\"mortalite.db3\", LOG = lambda *l : None)\n",
      "db.connect()\n",
      "view = db.to_df(sql)\n",
      "view"
     ],
     "language": "python",
     "metadata": {},
     "outputs": [
      {
       "html": [
        "<div style=\"max-height:1000px;max-width:1500px;overflow:auto;\">\n",
        "<table border=\"1\" class=\"dataframe\">\n",
        "  <thead>\n",
        "    <tr style=\"text-align: right;\">\n",
        "      <th></th>\n",
        "      <th>annee</th>\n",
        "      <th>valeur</th>\n",
        "      <th>age</th>\n",
        "      <th>indicateur</th>\n",
        "      <th>genre</th>\n",
        "      <th>pays</th>\n",
        "    </tr>\n",
        "  </thead>\n",
        "  <tbody>\n",
        "    <tr>\n",
        "      <th>0 </th>\n",
        "      <td> 1998</td>\n",
        "      <td> 0.05303</td>\n",
        "      <td> Y80</td>\n",
        "      <td> DEATHRATE</td>\n",
        "      <td> T</td>\n",
        "      <td> FR</td>\n",
        "    </tr>\n",
        "    <tr>\n",
        "      <th>1 </th>\n",
        "      <td> 1999</td>\n",
        "      <td> 0.04811</td>\n",
        "      <td> Y80</td>\n",
        "      <td> DEATHRATE</td>\n",
        "      <td> T</td>\n",
        "      <td> FR</td>\n",
        "    </tr>\n",
        "    <tr>\n",
        "      <th>2 </th>\n",
        "      <td> 2000</td>\n",
        "      <td> 0.05344</td>\n",
        "      <td> Y80</td>\n",
        "      <td> DEATHRATE</td>\n",
        "      <td> T</td>\n",
        "      <td> FR</td>\n",
        "    </tr>\n",
        "    <tr>\n",
        "      <th>3 </th>\n",
        "      <td> 2001</td>\n",
        "      <td> 0.05016</td>\n",
        "      <td> Y80</td>\n",
        "      <td> DEATHRATE</td>\n",
        "      <td> T</td>\n",
        "      <td> FR</td>\n",
        "    </tr>\n",
        "    <tr>\n",
        "      <th>4 </th>\n",
        "      <td> 2002</td>\n",
        "      <td> 0.04915</td>\n",
        "      <td> Y80</td>\n",
        "      <td> DEATHRATE</td>\n",
        "      <td> T</td>\n",
        "      <td> FR</td>\n",
        "    </tr>\n",
        "    <tr>\n",
        "      <th>5 </th>\n",
        "      <td> 2003</td>\n",
        "      <td> 0.04946</td>\n",
        "      <td> Y80</td>\n",
        "      <td> DEATHRATE</td>\n",
        "      <td> T</td>\n",
        "      <td> FR</td>\n",
        "    </tr>\n",
        "    <tr>\n",
        "      <th>6 </th>\n",
        "      <td> 2004</td>\n",
        "      <td> 0.04507</td>\n",
        "      <td> Y80</td>\n",
        "      <td> DEATHRATE</td>\n",
        "      <td> T</td>\n",
        "      <td> FR</td>\n",
        "    </tr>\n",
        "    <tr>\n",
        "      <th>7 </th>\n",
        "      <td> 2005</td>\n",
        "      <td> 0.04542</td>\n",
        "      <td> Y80</td>\n",
        "      <td> DEATHRATE</td>\n",
        "      <td> T</td>\n",
        "      <td> FR</td>\n",
        "    </tr>\n",
        "    <tr>\n",
        "      <th>8 </th>\n",
        "      <td> 2006</td>\n",
        "      <td> 0.04294</td>\n",
        "      <td> Y80</td>\n",
        "      <td> DEATHRATE</td>\n",
        "      <td> T</td>\n",
        "      <td> FR</td>\n",
        "    </tr>\n",
        "    <tr>\n",
        "      <th>9 </th>\n",
        "      <td> 2007</td>\n",
        "      <td> 0.04258</td>\n",
        "      <td> Y80</td>\n",
        "      <td> DEATHRATE</td>\n",
        "      <td> T</td>\n",
        "      <td> FR</td>\n",
        "    </tr>\n",
        "    <tr>\n",
        "      <th>10</th>\n",
        "      <td> 2008</td>\n",
        "      <td> 0.04180</td>\n",
        "      <td> Y80</td>\n",
        "      <td> DEATHRATE</td>\n",
        "      <td> T</td>\n",
        "      <td> FR</td>\n",
        "    </tr>\n",
        "    <tr>\n",
        "      <th>11</th>\n",
        "      <td> 2009</td>\n",
        "      <td> 0.04041</td>\n",
        "      <td> Y80</td>\n",
        "      <td> DEATHRATE</td>\n",
        "      <td> T</td>\n",
        "      <td> FR</td>\n",
        "    </tr>\n",
        "    <tr>\n",
        "      <th>12</th>\n",
        "      <td> 2010</td>\n",
        "      <td> 0.03992</td>\n",
        "      <td> Y80</td>\n",
        "      <td> DEATHRATE</td>\n",
        "      <td> T</td>\n",
        "      <td> FR</td>\n",
        "    </tr>\n",
        "    <tr>\n",
        "      <th>13</th>\n",
        "      <td> 2011</td>\n",
        "      <td> 0.03808</td>\n",
        "      <td> Y80</td>\n",
        "      <td> DEATHRATE</td>\n",
        "      <td> T</td>\n",
        "      <td> FR</td>\n",
        "    </tr>\n",
        "    <tr>\n",
        "      <th>14</th>\n",
        "      <td> 2012</td>\n",
        "      <td> 0.03824</td>\n",
        "      <td> Y80</td>\n",
        "      <td> DEATHRATE</td>\n",
        "      <td> T</td>\n",
        "      <td> FR</td>\n",
        "    </tr>\n",
        "  </tbody>\n",
        "</table>\n",
        "</div>"
       ],
       "metadata": {},
       "output_type": "pyout",
       "prompt_number": 2,
       "text": [
        "    annee   valeur  age indicateur genre pays\n",
        "0    1998  0.05303  Y80  DEATHRATE     T   FR\n",
        "1    1999  0.04811  Y80  DEATHRATE     T   FR\n",
        "2    2000  0.05344  Y80  DEATHRATE     T   FR\n",
        "3    2001  0.05016  Y80  DEATHRATE     T   FR\n",
        "4    2002  0.04915  Y80  DEATHRATE     T   FR\n",
        "5    2003  0.04946  Y80  DEATHRATE     T   FR\n",
        "6    2004  0.04507  Y80  DEATHRATE     T   FR\n",
        "7    2005  0.04542  Y80  DEATHRATE     T   FR\n",
        "8    2006  0.04294  Y80  DEATHRATE     T   FR\n",
        "9    2007  0.04258  Y80  DEATHRATE     T   FR\n",
        "10   2008  0.04180  Y80  DEATHRATE     T   FR\n",
        "11   2009  0.04041  Y80  DEATHRATE     T   FR\n",
        "12   2010  0.03992  Y80  DEATHRATE     T   FR\n",
        "13   2011  0.03808  Y80  DEATHRATE     T   FR\n",
        "14   2012  0.03824  Y80  DEATHRATE     T   FR"
       ]
      }
     ],
     "prompt_number": 2
    },
    {
     "cell_type": "markdown",
     "metadata": {},
     "source": [
      "Visuellement, cela donne :"
     ]
    },
    {
     "cell_type": "code",
     "collapsed": false,
     "input": [
      "view.plot(x=\"annee\", y=\"valeur\")"
     ],
     "language": "python",
     "metadata": {},
     "outputs": [
      {
       "metadata": {},
       "output_type": "pyout",
       "prompt_number": 5,
       "text": [
        "<matplotlib.axes.AxesSubplot at 0x8ddb0f0>"
       ]
      },
      {
       "metadata": {},
       "output_type": "display_data",
       "png": "[encoded data removed]",
       "text": [
        "<matplotlib.figure.Figure at 0x8e1e3d0>"
       ]
      }
     ],
     "prompt_number": 5
    },
    {
     "cell_type": "markdown",
     "metadata": {},
     "source": [
      "<h3 id=\"cube\">Cube de donn\u00e9es</h3>\n",
      "\n",
      "Le module [cubes](https://github.com/Stiivi/cubes) est mal document\u00e9. **J'abondonne pour le moment.**\n",
      "\n",
      "On utilise l'expression *cube de donn\u00e9es* pour d\u00e9signer \u00e0 tableaux \u00e0 plusieurs dimensions. On le repr\u00e9sente souvent par une liste ``coordonn\u00e9es, valeurs``. C'est souvent beaucoup de donn\u00e9es et pas forc\u00e9ment de moyen pratique de les manipuler. Le module [cubes](https://github.com/Stiivi/cubes) propose quelques outils pour faire cela. Le module [cubesviewer](https://github.com/jjmontesl/cubesviewer) propose une extension."
     ]
    },
    {
     "cell_type": "code",
     "collapsed": false,
     "input": [
      "import pandas \n",
      "df = pandas.read_csv(\"mortalite_5column.txt\", sep=\"\\t\", encoding=\"utf8\")\n",
      "df.shape"
     ],
     "language": "python",
     "metadata": {},
     "outputs": [
      {
       "metadata": {},
       "output_type": "pyout",
       "prompt_number": 10,
       "text": [
        "(2652561, 6)"
       ]
      }
     ],
     "prompt_number": 10
    },
    {
     "cell_type": "code",
     "collapsed": false,
     "input": [
      "\n",
      "import sqlalchemy\n",
      "import cubes, cubes.backends, cubes.backends.sql\n",
      "import cubes.tutorial.sql as tutorial\n",
      "\n",
      "fields=[\n",
      "    (\"indicateur\", \"string\"),\n",
      "    (\"genre\", \"string\"),\n",
      "    (\"pays\", \"string\"),\n",
      "    (\"annee\", \"integer\"), \n",
      "    (\"age\", \"string\"), \n",
      "    (\"valeur\", \"float\"),\n",
      "    ]\n",
      "\n",
      "from cubes import Workspace\n",
      "workspace = Workspace()\n",
      "workspace.register_default_store(\"sql\", url=\"sqlite:///mortalite.db3\")\n",
      "\n",
      "model_description = {\n",
      "    \"dimensions\": [ {\"name\":c[0], \n",
      "                     \"levels\": { \"name\":c[0], \"label\":c[0], \"attributes\": [ c[0] ] } \n",
      "                     } for c in fields ],\n",
      "    \"name\": \"mortalite\",\n",
      "    \"measures\": [{\"name\":\"valeur\", \"label\":\"valeur\"}],\n",
      "}\n",
      "\n",
      "workspace.import_model(model_description)"
     ],
     "language": "python",
     "metadata": {},
     "outputs": [],
     "prompt_number": 6
    },
    {
     "cell_type": "code",
     "collapsed": false,
     "input": [],
     "language": "python",
     "metadata": {},
     "outputs": []
    }
   ],
   "metadata": {}
  }
 ]
}