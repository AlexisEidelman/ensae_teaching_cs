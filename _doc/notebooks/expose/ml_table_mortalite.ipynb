{
 "metadata": {
  "name": "",
  "signature": "sha256:7af5d895a8e92759b7dbd23a0dc7402f2f92d7730323be4f140828ea8e8a6b52"
 },
 "nbformat": 3,
 "nbformat_minor": 0,
 "worksheets": [
  {
   "cells": [
    {
     "cell_type": "heading",
     "level": 1,
     "metadata": {},
     "source": [
      "Table de mortalit\u00e9"
     ]
    },
    {
     "cell_type": "markdown",
     "metadata": {},
     "source": [
      "Plan\n",
      "- [R\u00e9cup\u00e9ration des donn\u00e9es](#recup)\n",
      "- [Cubes de donn\u00e9es](#cube) [incomplet]\n",
      "\n",
      "<h3 id=\"recup\">R\u00e9cup\u00e9ration des donn\u00e9es</h3>\n",
      "\n",
      "Les donn\u00e9es sont recens\u00e9es sur [Data Publica](http://www.data-publica.com/) : [Table de mortalit\u00e9](http://www.data-publica.com/opendata/7098--population-et-conditions-sociales-table-de-mortalite-de-1960-a-2010) qui les a r\u00e9cup\u00e9r\u00e9 depuis le site d'Eurostat via le listing suivant : [listing](http://epp.eurostat.ec.europa.eu/NavTree_prod/everybody/BulkDownloadListing?sort=1&dir=data). Pour faire court, le lien est le suivant : [demo_mlifetable.tsv.gz](http://epp.eurostat.ec.europa.eu/NavTree_prod/everybody/BulkDownloadListing?file=data/demo_mlifetable.tsv.gz). Le fichier est compress\u00e9 au format [gzip](http://fr.wikipedia.org/wiki/Gzip). On le t\u00e9l\u00e9charge, on le d\u00e9compresse."
     ]
    },
    {
     "cell_type": "code",
     "collapsed": false,
     "input": [
      "url = \"http://ec.europa.eu/eurostat/estat-navtree-portlet-prod/BulkDownloadListing?file=data/\"\n",
      "file = \"demo_mlifetable.tsv.gz\"\n",
      "import pyensae\n",
      "local = pyensae.download_data(\"demo_mlifetable.tsv.gz\", url=url)\n",
      "local = local[0]+\".gz\"\n",
      "import gzip\n",
      "with gzip.open(local, 'rb') as f: file_content = f.read()\n",
      "content = str(file_content, encoding=\"utf8\")\n",
      "with open(\"mortalite.txt\", \"w\", encoding=\"utf8\") as f : f.write(content)"
     ],
     "language": "python",
     "metadata": {},
     "outputs": [],
     "prompt_number": 1
    },
    {
     "cell_type": "markdown",
     "metadata": {},
     "source": [
      "Puis on le charge sous forme de dataframe :"
     ]
    },
    {
     "cell_type": "code",
     "collapsed": false,
     "input": [
      "import pandas\n",
      "dff = pandas.read_csv(\"mortalite.txt\", sep=\"\\t\", encoding=\"utf8\")\n",
      "dff.head()"
     ],
     "language": "python",
     "metadata": {},
     "outputs": [
      {
       "html": [
        "<div style=\"max-height:1000px;max-width:1500px;overflow:auto;\">\n",
        "<table border=\"1\" class=\"dataframe\">\n",
        "  <thead>\n",
        "    <tr style=\"text-align: right;\">\n",
        "      <th></th>\n",
        "      <th>indic_de,sex,age,geo\\time</th>\n",
        "      <th>2012 </th>\n",
        "      <th>2011 </th>\n",
        "      <th>2010 </th>\n",
        "      <th>2009 </th>\n",
        "      <th>2008 </th>\n",
        "      <th>2007 </th>\n",
        "      <th>2006 </th>\n",
        "      <th>2005 </th>\n",
        "      <th>2004 </th>\n",
        "      <th>...</th>\n",
        "      <th>1969 </th>\n",
        "      <th>1968 </th>\n",
        "      <th>1967 </th>\n",
        "      <th>1966 </th>\n",
        "      <th>1965 </th>\n",
        "      <th>1964 </th>\n",
        "      <th>1963 </th>\n",
        "      <th>1962 </th>\n",
        "      <th>1961 </th>\n",
        "      <th>1960 </th>\n",
        "    </tr>\n",
        "  </thead>\n",
        "  <tbody>\n",
        "    <tr>\n",
        "      <th>0</th>\n",
        "      <td> DEATHRATE,F,Y1,AM</td>\n",
        "      <td>       : </td>\n",
        "      <td>       : </td>\n",
        "      <td>       : </td>\n",
        "      <td> 0.00080 </td>\n",
        "      <td> 0.00067 </td>\n",
        "      <td> 0.00052 </td>\n",
        "      <td> 0.00123 </td>\n",
        "      <td>       : </td>\n",
        "      <td>       : </td>\n",
        "      <td>...</td>\n",
        "      <td>       : </td>\n",
        "      <td>       : </td>\n",
        "      <td>       : </td>\n",
        "      <td>       : </td>\n",
        "      <td>       : </td>\n",
        "      <td>       : </td>\n",
        "      <td>       : </td>\n",
        "      <td>       : </td>\n",
        "      <td>       : </td>\n",
        "      <td>       : </td>\n",
        "    </tr>\n",
        "    <tr>\n",
        "      <th>1</th>\n",
        "      <td> DEATHRATE,F,Y1,AT</td>\n",
        "      <td> 0.00018 </td>\n",
        "      <td> 0.00018 </td>\n",
        "      <td> 0.00034 </td>\n",
        "      <td> 0.00042 </td>\n",
        "      <td> 0.00039 </td>\n",
        "      <td> 0.00036 </td>\n",
        "      <td> 0.00036 </td>\n",
        "      <td> 0.00039 </td>\n",
        "      <td> 0.00023 </td>\n",
        "      <td>...</td>\n",
        "      <td>       : </td>\n",
        "      <td>       : </td>\n",
        "      <td>       : </td>\n",
        "      <td>       : </td>\n",
        "      <td>       : </td>\n",
        "      <td>       : </td>\n",
        "      <td>       : </td>\n",
        "      <td>       : </td>\n",
        "      <td>       : </td>\n",
        "      <td>       : </td>\n",
        "    </tr>\n",
        "    <tr>\n",
        "      <th>2</th>\n",
        "      <td> DEATHRATE,F,Y1,AZ</td>\n",
        "      <td> 0.00132 </td>\n",
        "      <td>       : </td>\n",
        "      <td> 0.00134 </td>\n",
        "      <td> 0.00111 </td>\n",
        "      <td> 0.00130 </td>\n",
        "      <td> 0.00187 </td>\n",
        "      <td> 0.00252 </td>\n",
        "      <td>       : </td>\n",
        "      <td>       : </td>\n",
        "      <td>...</td>\n",
        "      <td>       : </td>\n",
        "      <td>       : </td>\n",
        "      <td>       : </td>\n",
        "      <td>       : </td>\n",
        "      <td>       : </td>\n",
        "      <td>       : </td>\n",
        "      <td>       : </td>\n",
        "      <td>       : </td>\n",
        "      <td>       : </td>\n",
        "      <td>       : </td>\n",
        "    </tr>\n",
        "    <tr>\n",
        "      <th>3</th>\n",
        "      <td> DEATHRATE,F,Y1,BE</td>\n",
        "      <td> 0.00025 </td>\n",
        "      <td> 0.00030 </td>\n",
        "      <td> 0.00021 </td>\n",
        "      <td> 0.00041 </td>\n",
        "      <td> 0.00030 </td>\n",
        "      <td> 0.00039 </td>\n",
        "      <td> 0.00035 </td>\n",
        "      <td> 0.00025 </td>\n",
        "      <td> 0.00033 </td>\n",
        "      <td>...</td>\n",
        "      <td> 0.00141 </td>\n",
        "      <td> 0.00155 </td>\n",
        "      <td> 0.00132 </td>\n",
        "      <td> 0.00129 </td>\n",
        "      <td> 0.00153 </td>\n",
        "      <td> 0.00137 </td>\n",
        "      <td> 0.00170 </td>\n",
        "      <td> 0.00161 </td>\n",
        "      <td> 0.00168 </td>\n",
        "      <td> 0.00159 </td>\n",
        "    </tr>\n",
        "    <tr>\n",
        "      <th>4</th>\n",
        "      <td> DEATHRATE,F,Y1,BG</td>\n",
        "      <td> 0.00069 </td>\n",
        "      <td> 0.00067 </td>\n",
        "      <td> 0.00055 </td>\n",
        "      <td> 0.00089 </td>\n",
        "      <td> 0.00067 </td>\n",
        "      <td> 0.00089 </td>\n",
        "      <td> 0.00059 </td>\n",
        "      <td> 0.00097 </td>\n",
        "      <td> 0.00103 </td>\n",
        "      <td>...</td>\n",
        "      <td> 0.00229 </td>\n",
        "      <td> 0.00248 </td>\n",
        "      <td> 0.00317 </td>\n",
        "      <td> 0.00273 </td>\n",
        "      <td> 0.00286 </td>\n",
        "      <td> 0.00309 </td>\n",
        "      <td> 0.00404 </td>\n",
        "      <td> 0.00395 </td>\n",
        "      <td> 0.00464 </td>\n",
        "      <td> 0.00652 </td>\n",
        "    </tr>\n",
        "  </tbody>\n",
        "</table>\n",
        "<p>5 rows \u00d7 54 columns</p>\n",
        "</div>"
       ],
       "metadata": {},
       "output_type": "pyout",
       "prompt_number": 2,
       "text": [
        "  indic_de,sex,age,geo\\time     2012      2011      2010      2009      2008   \\\n",
        "0         DEATHRATE,F,Y1,AM        :         :         :   0.00080   0.00067    \n",
        "1         DEATHRATE,F,Y1,AT  0.00018   0.00018   0.00034   0.00042   0.00039    \n",
        "2         DEATHRATE,F,Y1,AZ  0.00132         :   0.00134   0.00111   0.00130    \n",
        "3         DEATHRATE,F,Y1,BE  0.00025   0.00030   0.00021   0.00041   0.00030    \n",
        "4         DEATHRATE,F,Y1,BG  0.00069   0.00067   0.00055   0.00089   0.00067    \n",
        "\n",
        "      2007      2006      2005      2004     ...        1969      1968   \\\n",
        "0  0.00052   0.00123         :         :     ...           :         :    \n",
        "1  0.00036   0.00036   0.00039   0.00023     ...           :         :    \n",
        "2  0.00187   0.00252         :         :     ...           :         :    \n",
        "3  0.00039   0.00035   0.00025   0.00033     ...     0.00141   0.00155    \n",
        "4  0.00089   0.00059   0.00097   0.00103     ...     0.00229   0.00248    \n",
        "\n",
        "      1967      1966      1965      1964      1963      1962      1961   \\\n",
        "0        :         :         :         :         :         :         :    \n",
        "1        :         :         :         :         :         :         :    \n",
        "2        :         :         :         :         :         :         :    \n",
        "3  0.00132   0.00129   0.00153   0.00137   0.00170   0.00161   0.00168    \n",
        "4  0.00317   0.00273   0.00286   0.00309   0.00404   0.00395   0.00464    \n",
        "\n",
        "      1960   \n",
        "0        :   \n",
        "1        :   \n",
        "2        :   \n",
        "3  0.00159   \n",
        "4  0.00652   \n",
        "\n",
        "[5 rows x 54 columns]"
       ]
      }
     ],
     "prompt_number": 2
    },
    {
     "cell_type": "code",
     "collapsed": false,
     "input": [
      "dff.shape"
     ],
     "language": "python",
     "metadata": {},
     "outputs": [
      {
       "metadata": {},
       "output_type": "pyout",
       "prompt_number": 3,
       "text": [
        "(95718, 54)"
       ]
      }
     ],
     "prompt_number": 3
    },
    {
     "cell_type": "markdown",
     "metadata": {},
     "source": [
      "La premi\u00e8re colonne contient une aggr\u00e9gation de champs. On souhaite transformer cette table de telle sorte qu'on ait un nombre r\u00e9duit de colonnes :\n",
      "\n",
      "- indicateur\n",
      "- genre\n",
      "- age\n",
      "- pays (ou ensemble de pays)\n",
      "- annee\n",
      "- valeur\n",
      "\n",
      "L'\u00e2ge est repr\u00e9sent\u00e9 sous forme de cha\u00eene de caract\u00e8res pour pouvoir \u00e9crire ``Y_LT1`` (moins d'un an), ``Y_GE85`` (plus de 85 ans). On change un peu le format pour pouvoir les trier par ordre croissant (en effet ``Y2`` est apr\u00e8s ``Y10``). On sauve le tout dans un fichier pour ne pas avoir \u00e0 recommencer ult\u00e9rieurement. Malgr\u00e9 tout, le code ci-dessous est tr\u00e8s lent pour la table compl\u00e8te qui contiendra au final pr\u00e8s de 5 millions de lignes. On supprime les valeurs manquantes."
     ]
    },
    {
     "cell_type": "code",
     "collapsed": false,
     "input": [
      "def format_age(s):\n",
      "    if s.startswith(\"Y_\") : \n",
      "        if s.startswith(\"Y_LT\"): s = \"Y00_LT\" + s[4:]\n",
      "        elif s.startswith(\"Y_GE\"): s = \"Y85_GE\" + s[4:]\n",
      "        else: raise FormatError(s)\n",
      "    else:\n",
      "        i = int(s.strip(\"Y\"))\n",
      "        return \"Y%02d\" % i\n",
      "    \n",
      "def format_value(s):\n",
      "    if isinstance(s, str):\n",
      "        if s.strip() == \":\" : return -1\n",
      "        else : return double(s.strip(\" eb\"))\n",
      "    else :\n",
      "        return s\n",
      "    \n",
      "if True:  # sur les donn\u00e9es compl\u00e8tes, c'est plut\u00f4t long, r\u00e9duire la taille pour essayer\n",
      "    dfsmall = dff.head(n = 1000) # on r\u00e9duit la taille pour \n",
      "    df = dfsmall # impl\u00e9menter la transformation\n",
      "else:\n",
      "    df = dff\n",
      "\n",
      "print(\"\u00e9tape 1\", df.shape)\n",
      "dfi = df.reset_index().set_index(\"indic_de,sex,age,geo\\\\time\")\n",
      "dfi = dfi.drop('index', axis=1)\n",
      "dfs = dfi.stack()\n",
      "dfs = pandas.DataFrame({\"valeur\": dfs } )\n",
      "\n",
      "print(\"\u00e9tape 2\", dfs.shape)\n",
      "dfs[\"valeur\"] = dfs.apply (lambda r : format_value(r[\"valeur\"]) , axis=1) \n",
      "dfs = dfs[ dfs.valeur >= 0 ]\n",
      "dfs = dfs.reset_index()\n",
      "dfs.columns = [\"index\", \"annee\", \"valeur\"]\n",
      "\n",
      "print(\"\u00e9tape 3\", dfs.shape)\n",
      "dfs[\"age\"] = dfs.apply ( lambda r : format_age(r['index'].split(\",\")[2]), axis=1)\n",
      "dfs[\"indicateur\"] = dfs.apply ( lambda r : r['index'].split(\",\")[0], axis=1)\n",
      "dfs[\"genre\"] = dfs.apply ( lambda r : r['index'].split(\",\")[1], axis=1)\n",
      "dfs[\"pays\"] = dfs.apply ( lambda r : r['index'].split(\",\")[3], axis=1)\n",
      "\n",
      "print(\"\u00e9tape 4\")\n",
      "dfy = dfs.drop('index', axis=1)\n",
      "dfy.to_csv(\"mortalite_5column.txt\", sep=\"\\t\", encoding=\"utf8\", index=False)\n",
      "dfy.head()"
     ],
     "language": "python",
     "metadata": {},
     "outputs": [
      {
       "output_type": "stream",
       "stream": "stdout",
       "text": [
        "\u00e9tape 1 (1000, 54)\n",
        "\u00e9tape 2 (53000, 1)\n",
        "\u00e9tape 3"
       ]
      },
      {
       "output_type": "stream",
       "stream": "stdout",
       "text": [
        " (27927, 3)\n",
        "\u00e9tape 4"
       ]
      },
      {
       "output_type": "stream",
       "stream": "stdout",
       "text": [
        "\n"
       ]
      },
      {
       "html": [
        "<div style=\"max-height:1000px;max-width:1500px;overflow:auto;\">\n",
        "<table border=\"1\" class=\"dataframe\">\n",
        "  <thead>\n",
        "    <tr style=\"text-align: right;\">\n",
        "      <th></th>\n",
        "      <th>annee</th>\n",
        "      <th>valeur</th>\n",
        "      <th>age</th>\n",
        "      <th>indicateur</th>\n",
        "      <th>genre</th>\n",
        "      <th>pays</th>\n",
        "    </tr>\n",
        "  </thead>\n",
        "  <tbody>\n",
        "    <tr>\n",
        "      <th>0</th>\n",
        "      <td> 2009 </td>\n",
        "      <td> 0.00080</td>\n",
        "      <td> Y01</td>\n",
        "      <td> DEATHRATE</td>\n",
        "      <td> F</td>\n",
        "      <td> AM</td>\n",
        "    </tr>\n",
        "    <tr>\n",
        "      <th>1</th>\n",
        "      <td> 2008 </td>\n",
        "      <td> 0.00067</td>\n",
        "      <td> Y01</td>\n",
        "      <td> DEATHRATE</td>\n",
        "      <td> F</td>\n",
        "      <td> AM</td>\n",
        "    </tr>\n",
        "    <tr>\n",
        "      <th>2</th>\n",
        "      <td> 2007 </td>\n",
        "      <td> 0.00052</td>\n",
        "      <td> Y01</td>\n",
        "      <td> DEATHRATE</td>\n",
        "      <td> F</td>\n",
        "      <td> AM</td>\n",
        "    </tr>\n",
        "    <tr>\n",
        "      <th>3</th>\n",
        "      <td> 2006 </td>\n",
        "      <td> 0.00123</td>\n",
        "      <td> Y01</td>\n",
        "      <td> DEATHRATE</td>\n",
        "      <td> F</td>\n",
        "      <td> AM</td>\n",
        "    </tr>\n",
        "    <tr>\n",
        "      <th>4</th>\n",
        "      <td> 2012 </td>\n",
        "      <td> 0.00018</td>\n",
        "      <td> Y01</td>\n",
        "      <td> DEATHRATE</td>\n",
        "      <td> F</td>\n",
        "      <td> AT</td>\n",
        "    </tr>\n",
        "  </tbody>\n",
        "</table>\n",
        "</div>"
       ],
       "metadata": {},
       "output_type": "pyout",
       "prompt_number": 4,
       "text": [
        "   annee   valeur  age indicateur genre pays\n",
        "0  2009   0.00080  Y01  DEATHRATE     F   AM\n",
        "1  2008   0.00067  Y01  DEATHRATE     F   AM\n",
        "2  2007   0.00052  Y01  DEATHRATE     F   AM\n",
        "3  2006   0.00123  Y01  DEATHRATE     F   AM\n",
        "4  2012   0.00018  Y01  DEATHRATE     F   AT"
       ]
      }
     ],
     "prompt_number": 4
    },
    {
     "cell_type": "markdown",
     "metadata": {},
     "source": [
      "On stocke l'ensemble des donn\u00e9es au format SQLite 3 de fa\u00e7on \u00e0 pouvoir les consulter plus facilement."
     ]
    },
    {
     "cell_type": "code",
     "collapsed": false,
     "input": [
      "import pyensae\n",
      "pyensae.import_flatfile_into_database(\"mortalite.db3\", \"mortalite_5column.txt\")"
     ],
     "language": "python",
     "metadata": {},
     "outputs": [
      {
       "output_type": "stream",
       "stream": "stdout",
       "text": [
        "  TextFile: opening file  mortalite_5column.txt\n",
        "  TextFile.guess_columns: processing file  mortalite_5column.txt\n",
        "  TextFile: opening file  mortalite_5column.txt\n",
        "  TextFile.guess_columns: using  101  lines\n",
        "  TextFile: closing file  mortalite_5column.txt\n",
        "  TextFile.guess_columns: sep  '\\t' nb cols 6  bestnb  101  more  {(' ', 1): 100, ('\\t', 5): 101}\n",
        "  TextFile.guess_columns: header  True  columns  {0: ('annee', <class 'int'>), 1: ('valeur', <class 'float'>), 2: ('age', <class 'str'>), 3: ('indicateur', <class 'str'>), 4: ('genre', <class 'str'>), 5: ('pays', <class 'str'>)}\n",
        "  compiling ^(?P<annee>([-]?[1-9][0-9]*?)|(0?))\\t(?P<valeur>[-]?[0-9]*?([.][0-9]*?)?([eE][-]?[0-9]{0,4})?)\\t(?P<age>.*)\\t(?P<indicateur>.*)\\t(?P<genre>.*)\\t(?P<pays>.*)$\n",
        "  TextFile.guess_columns: regex  ^(?P<annee>([-]?[1-9][0-9]*?)|(0?))\\t(?P<valeur>[-]?[0-9]*?([.][0-9]*?)?([eE][-]?[0-9]{0,4})?)\\t(?P<age>.*)\\t(?P<indicateur>.*)\\t(?P<genre>.*)\\t(?P<pays>.*)$\n",
        "  TextFile.guess_columns: header  True  columns  {0: ('annee', <class 'int'>), 1: ('valeur', <class 'float'>), 2: ('age', (<class 'str'>, 6)), 3: ('indicateur', (<class 'str'>, 18)), 4: ('genre', (<class 'str'>, 2)), 5: ('pays', (<class 'str'>, 4))}\n",
        "  TextFile: closing file  mortalite_5column.txt\n",
        "   guess with "
       ]
      },
      {
       "output_type": "stream",
       "stream": "stdout",
       "text": [
        " 1001 lines\n",
        "   count_types  {0: {<class 'int'>: 1000}, 1: {<class 'float'>: 1000}, 2: {<class 'str'>: 1000}, 3: {<class 'str'>: 1000}, 4: {<class 'str'>: 1000}, 5: {<class 'str'>: 1000}}\n",
        "   columns  {0: ('annee', <class 'int'>), 1: ('valeur', <class 'float'>), 2: ('age', <class 'str'>), 3: ('indicateur', <class 'str'>), 4: ('genre', <class 'str'>), 5: ('pays', <class 'str'>)}\n",
        "   guess {0: ('annee', <class 'int'>), 1: ('valeur', <class 'float'>), 2: ('age', (<class 'str'>, 6)), 3: ('indicateur', (<class 'str'>, 18)), 4: ('genre', (<class 'str'>, 2)), 5: ('pays', (<class 'str'>, 12))}\n",
        "SQL  'CREATE TABLE mortalite_5column(annee INTEGER,'\n",
        "'       valeur FLOAT,'\n",
        "'       age TEXT,'\n",
        "'       indicateur TEXT,'\n",
        "'       genre TEXT,'\n",
        "'       pays TEXT);'\n",
        "   column_has_space False ['annee', 'valeur', 'age', 'indicateur', 'genre', 'pays']\n",
        "   changes {}\n",
        "    TextFileColumns (2): regex:  {0: ('annee', <class 'int'>), 1: ('valeur', <class 'float'>), 2: ('age', (<class 'str'>, 6)), 3: ('indicateur', (<class 'str'>, 18)), 4: ('genre', (<class 'str'>, 2)), 5: ('pays', (<class 'str'>, 12))}\n",
        "  TextFile.guess_columns: processing file  mortalite_5column.txt\n",
        "  TextFile: opening file  mortalite_5column.txt\n",
        "  TextFile.guess_columns: using  101  lines\n",
        "  TextFile: closing file  mortalite_5column.txt\n",
        "  TextFile.guess_columns: sep  '\\t' nb cols 6  bestnb  101  more  {(' ', 1): 100, ('\\t', 5): 101}\n",
        "  TextFile.guess_columns: header  True  columns  {0: ('annee', <class 'int'>), 1: ('valeur', <class 'float'>), 2: ('age', <class 'str'>), 3: ('indicateur', <class 'str'>), 4: ('genre', <class 'str'>), 5: ('pays', <class 'str'>)}\n",
        "  compiling ^(?P<annee>([-]?[1-9][0-9]*?)|(0?))\\t(?P<valeur>[-]?[0-9]*?([.][0-9]*?)?([eE][-]?[0-9]{0,4})?)\\t(?P<age>.*)\\t(?P<indicateur>.*)\\t(?P<genre>.*)\\t(?P<pays>.*)$\n",
        "  TextFile.guess_columns: regex  ^(?P<annee>([-]?[1-9][0-9]*?)|(0?))\\t(?P<valeur>[-]?[0-9]*?([.][0-9]*?)?([eE][-]?[0-9]{0,4})?)\\t(?P<age>.*)\\t(?P<indicateur>.*)\\t(?P<genre>.*)\\t(?P<pays>.*)$\n",
        "  TextFile.guess_columns: header  True  columns  {0: ('annee', <class 'int'>), 1: ('valeur', <class 'float'>), 2: ('age', (<class 'str'>, 6)), 3: ('indicateur', (<class 'str'>, 18)), 4: ('genre', (<class 'str'>, 2)), 5: ('pays', (<class 'str'>, 4))}\n",
        "  TextFile: opening file  mortalite_5column.txt\n",
        "^(?P<annee>([-]?[1-9][0-9]*?)|(0?))\\t(?P<valeur>[-]?[0-9]*?([.][0-9]*?)?([eE][-]?[0-9]{0,4})?)\\t(?P<age>.*)\\t(?P<indicateur>.*)\\t(?P<genre>.*)\\t(?P<pays>.*)$"
       ]
      },
      {
       "output_type": "stream",
       "stream": "stdout",
       "text": [
        "\n",
        "error regex 0 unable to interpret line  27928 :  ''\n",
        "  TextFile: closing file  mortalite_5column.txt\n",
        "27927"
       ]
      },
      {
       "output_type": "stream",
       "stream": "stdout",
       "text": [
        "  lines imported\n"
       ]
      }
     ],
     "prompt_number": 5
    },
    {
     "cell_type": "markdown",
     "metadata": {},
     "source": [
      "Ensuite, on peut facilement consulter les donn\u00e9es avec le logiciel (sous Windows) : [SQLiteSpy](http://www.yunqa.de/delphi/doku.php/products/sqlitespy/index) ou utiliser le code suivant :"
     ]
    },
    {
     "cell_type": "code",
     "collapsed": false,
     "input": [
      "sql = \"\"\"SELECT * FROM mortalite_5column WHERE pays==\"FR\" \n",
      "            AND age == \"Y80\" \n",
      "            AND indicateur == \"DEATHRATE\"\n",
      "            AND genre == \"T\"\n",
      "            ORDER BY annee\"\"\"\n",
      "import pyensae\n",
      "db = pyensae.Database(\"mortalite.db3\", LOG = lambda *l : None)\n",
      "db.connect()\n",
      "view = db.to_df(sql)\n",
      "view"
     ],
     "language": "python",
     "metadata": {},
     "outputs": [
      {
       "ename": "ValueError",
       "evalue": "Shape of passed values is (0, 0), indices imply (6, 0)",
       "output_type": "pyerr",
       "traceback": [
        "\u001b[1;31m---------------------------------------------------------------------------\u001b[0m\n\u001b[1;31mValueError\u001b[0m                                Traceback (most recent call last)",
        "\u001b[1;32m<ipython-input-6-ed41d0b4a59c>\u001b[0m in \u001b[0;36m<module>\u001b[1;34m()\u001b[0m\n\u001b[0;32m      7\u001b[0m \u001b[0mdb\u001b[0m \u001b[1;33m=\u001b[0m \u001b[0mpyensae\u001b[0m\u001b[1;33m.\u001b[0m\u001b[0mDatabase\u001b[0m\u001b[1;33m(\u001b[0m\u001b[1;34m\"mortalite.db3\"\u001b[0m\u001b[1;33m,\u001b[0m \u001b[0mLOG\u001b[0m \u001b[1;33m=\u001b[0m \u001b[1;32mlambda\u001b[0m \u001b[1;33m*\u001b[0m\u001b[0ml\u001b[0m \u001b[1;33m:\u001b[0m \u001b[1;32mNone\u001b[0m\u001b[1;33m)\u001b[0m\u001b[1;33m\u001b[0m\u001b[0m\n\u001b[0;32m      8\u001b[0m \u001b[0mdb\u001b[0m\u001b[1;33m.\u001b[0m\u001b[0mconnect\u001b[0m\u001b[1;33m(\u001b[0m\u001b[1;33m)\u001b[0m\u001b[1;33m\u001b[0m\u001b[0m\n\u001b[1;32m----> 9\u001b[1;33m \u001b[0mview\u001b[0m \u001b[1;33m=\u001b[0m \u001b[0mdb\u001b[0m\u001b[1;33m.\u001b[0m\u001b[0mto_df\u001b[0m\u001b[1;33m(\u001b[0m\u001b[0msql\u001b[0m\u001b[1;33m)\u001b[0m\u001b[1;33m\u001b[0m\u001b[0m\n\u001b[0m\u001b[0;32m     10\u001b[0m \u001b[0mview\u001b[0m\u001b[1;33m\u001b[0m\u001b[0m\n",
        "\u001b[1;32mC:\\xadupre\\__home_\\_data\\GitHub\\pyensae\\src\\pyensae\\sql\\database_main.py\u001b[0m in \u001b[0;36mto_df\u001b[1;34m(self, request)\u001b[0m\n\u001b[0;32m    161\u001b[0m         \u001b[0mcols\u001b[0m \u001b[1;33m=\u001b[0m \u001b[0mself\u001b[0m\u001b[1;33m.\u001b[0m\u001b[0mget_sql_columns\u001b[0m\u001b[1;33m(\u001b[0m\u001b[0mrequest\u001b[0m\u001b[1;33m)\u001b[0m\u001b[1;33m\u001b[0m\u001b[0m\n\u001b[0;32m    162\u001b[0m         \u001b[0miter\u001b[0m \u001b[1;33m=\u001b[0m \u001b[0mself\u001b[0m\u001b[1;33m.\u001b[0m\u001b[0mexecute_view\u001b[0m\u001b[1;33m(\u001b[0m\u001b[0mrequest\u001b[0m\u001b[1;33m,\u001b[0m \u001b[0mnolog\u001b[0m\u001b[1;33m=\u001b[0m\u001b[1;32mTrue\u001b[0m\u001b[1;33m)\u001b[0m\u001b[1;33m\u001b[0m\u001b[0m\n\u001b[1;32m--> 163\u001b[1;33m         \u001b[1;32mreturn\u001b[0m \u001b[0mpandas\u001b[0m\u001b[1;33m.\u001b[0m\u001b[0mDataFrame\u001b[0m\u001b[1;33m(\u001b[0m\u001b[0miter\u001b[0m\u001b[1;33m,\u001b[0m \u001b[0mcolumns\u001b[0m\u001b[1;33m=\u001b[0m\u001b[0mcols\u001b[0m\u001b[1;33m)\u001b[0m\u001b[1;33m\u001b[0m\u001b[0m\n\u001b[0m\u001b[0;32m    164\u001b[0m \u001b[1;33m\u001b[0m\u001b[0m\n\u001b[0;32m    165\u001b[0m     \u001b[1;32mdef\u001b[0m \u001b[0mcopy_to\u001b[0m\u001b[1;33m(\u001b[0m\u001b[0mself\u001b[0m\u001b[1;33m,\u001b[0m \u001b[0mdb\u001b[0m\u001b[1;33m,\u001b[0m \u001b[0msubset\u001b[0m\u001b[1;33m=\u001b[0m\u001b[1;32mNone\u001b[0m\u001b[1;33m)\u001b[0m\u001b[1;33m:\u001b[0m\u001b[1;33m\u001b[0m\u001b[0m\n",
        "\u001b[1;32mC:\\Python34_x64\\lib\\site-packages\\pandas\\core\\frame.py\u001b[0m in \u001b[0;36m__init__\u001b[1;34m(self, data, index, columns, dtype, copy)\u001b[0m\n\u001b[0;32m    253\u001b[0m             \u001b[1;32melse\u001b[0m\u001b[1;33m:\u001b[0m\u001b[1;33m\u001b[0m\u001b[0m\n\u001b[0;32m    254\u001b[0m                 mgr = self._init_ndarray(data, index, columns, dtype=dtype,\n\u001b[1;32m--> 255\u001b[1;33m                                          copy=copy)\n\u001b[0m\u001b[0;32m    256\u001b[0m         \u001b[1;32melif\u001b[0m \u001b[0misinstance\u001b[0m\u001b[1;33m(\u001b[0m\u001b[0mdata\u001b[0m\u001b[1;33m,\u001b[0m \u001b[0mcollections\u001b[0m\u001b[1;33m.\u001b[0m\u001b[0mIterator\u001b[0m\u001b[1;33m)\u001b[0m\u001b[1;33m:\u001b[0m\u001b[1;33m\u001b[0m\u001b[0m\n\u001b[0;32m    257\u001b[0m             \u001b[1;32mraise\u001b[0m \u001b[0mTypeError\u001b[0m\u001b[1;33m(\u001b[0m\u001b[1;34m\"data argument can't be an iterator\"\u001b[0m\u001b[1;33m)\u001b[0m\u001b[1;33m\u001b[0m\u001b[0m\n",
        "\u001b[1;32mC:\\Python34_x64\\lib\\site-packages\\pandas\\core\\frame.py\u001b[0m in \u001b[0;36m_init_ndarray\u001b[1;34m(self, values, index, columns, dtype, copy)\u001b[0m\n\u001b[0;32m    365\u001b[0m             \u001b[0mcolumns\u001b[0m \u001b[1;33m=\u001b[0m \u001b[0m_ensure_index\u001b[0m\u001b[1;33m(\u001b[0m\u001b[0mcolumns\u001b[0m\u001b[1;33m)\u001b[0m\u001b[1;33m\u001b[0m\u001b[0m\n\u001b[0;32m    366\u001b[0m \u001b[1;33m\u001b[0m\u001b[0m\n\u001b[1;32m--> 367\u001b[1;33m         \u001b[1;32mreturn\u001b[0m \u001b[0mcreate_block_manager_from_blocks\u001b[0m\u001b[1;33m(\u001b[0m\u001b[1;33m[\u001b[0m\u001b[0mvalues\u001b[0m\u001b[1;33m.\u001b[0m\u001b[0mT\u001b[0m\u001b[1;33m]\u001b[0m\u001b[1;33m,\u001b[0m \u001b[1;33m[\u001b[0m\u001b[0mcolumns\u001b[0m\u001b[1;33m,\u001b[0m \u001b[0mindex\u001b[0m\u001b[1;33m]\u001b[0m\u001b[1;33m)\u001b[0m\u001b[1;33m\u001b[0m\u001b[0m\n\u001b[0m\u001b[0;32m    368\u001b[0m \u001b[1;33m\u001b[0m\u001b[0m\n\u001b[0;32m    369\u001b[0m     \u001b[1;33m@\u001b[0m\u001b[0mproperty\u001b[0m\u001b[1;33m\u001b[0m\u001b[0m\n",
        "\u001b[1;32mC:\\Python34_x64\\lib\\site-packages\\pandas\\core\\internals.py\u001b[0m in \u001b[0;36mcreate_block_manager_from_blocks\u001b[1;34m(blocks, axes)\u001b[0m\n\u001b[0;32m   3228\u001b[0m         \u001b[0mblocks\u001b[0m \u001b[1;33m=\u001b[0m \u001b[1;33m[\u001b[0m\u001b[0mgetattr\u001b[0m\u001b[1;33m(\u001b[0m\u001b[0mb\u001b[0m\u001b[1;33m,\u001b[0m \u001b[1;34m'values'\u001b[0m\u001b[1;33m,\u001b[0m \u001b[0mb\u001b[0m\u001b[1;33m)\u001b[0m \u001b[1;32mfor\u001b[0m \u001b[0mb\u001b[0m \u001b[1;32min\u001b[0m \u001b[0mblocks\u001b[0m\u001b[1;33m]\u001b[0m\u001b[1;33m\u001b[0m\u001b[0m\n\u001b[0;32m   3229\u001b[0m         \u001b[0mtot_items\u001b[0m \u001b[1;33m=\u001b[0m \u001b[0msum\u001b[0m\u001b[1;33m(\u001b[0m\u001b[0mb\u001b[0m\u001b[1;33m.\u001b[0m\u001b[0mshape\u001b[0m\u001b[1;33m[\u001b[0m\u001b[1;36m0\u001b[0m\u001b[1;33m]\u001b[0m \u001b[1;32mfor\u001b[0m \u001b[0mb\u001b[0m \u001b[1;32min\u001b[0m \u001b[0mblocks\u001b[0m\u001b[1;33m)\u001b[0m\u001b[1;33m\u001b[0m\u001b[0m\n\u001b[1;32m-> 3230\u001b[1;33m         \u001b[0mconstruction_error\u001b[0m\u001b[1;33m(\u001b[0m\u001b[0mtot_items\u001b[0m\u001b[1;33m,\u001b[0m \u001b[0mblocks\u001b[0m\u001b[1;33m[\u001b[0m\u001b[1;36m0\u001b[0m\u001b[1;33m]\u001b[0m\u001b[1;33m.\u001b[0m\u001b[0mshape\u001b[0m\u001b[1;33m[\u001b[0m\u001b[1;36m1\u001b[0m\u001b[1;33m:\u001b[0m\u001b[1;33m]\u001b[0m\u001b[1;33m,\u001b[0m \u001b[0maxes\u001b[0m\u001b[1;33m,\u001b[0m \u001b[0me\u001b[0m\u001b[1;33m)\u001b[0m\u001b[1;33m\u001b[0m\u001b[0m\n\u001b[0m\u001b[0;32m   3231\u001b[0m \u001b[1;33m\u001b[0m\u001b[0m\n\u001b[0;32m   3232\u001b[0m \u001b[1;33m\u001b[0m\u001b[0m\n",
        "\u001b[1;32mC:\\Python34_x64\\lib\\site-packages\\pandas\\core\\internals.py\u001b[0m in \u001b[0;36mconstruction_error\u001b[1;34m(tot_items, block_shape, axes, e)\u001b[0m\n\u001b[0;32m   3209\u001b[0m         \u001b[1;32mraise\u001b[0m \u001b[0me\u001b[0m\u001b[1;33m\u001b[0m\u001b[0m\n\u001b[0;32m   3210\u001b[0m     raise ValueError(\"Shape of passed values is {0}, indices imply {1}\".format(\n\u001b[1;32m-> 3211\u001b[1;33m         passed,implied))\n\u001b[0m\u001b[0;32m   3212\u001b[0m \u001b[1;33m\u001b[0m\u001b[0m\n\u001b[0;32m   3213\u001b[0m \u001b[1;33m\u001b[0m\u001b[0m\n",
        "\u001b[1;31mValueError\u001b[0m: Shape of passed values is (0, 0), indices imply (6, 0)"
       ]
      }
     ],
     "prompt_number": 6
    },
    {
     "cell_type": "markdown",
     "metadata": {},
     "source": [
      "Visuellement, cela donne :"
     ]
    },
    {
     "cell_type": "code",
     "collapsed": false,
     "input": [
      "view.plot(x=\"annee\", y=\"valeur\")"
     ],
     "language": "python",
     "metadata": {},
     "outputs": []
    },
    {
     "cell_type": "markdown",
     "metadata": {},
     "source": [
      "<h3 id=\"cube\">Cube de donn\u00e9es</h3>\n",
      "\n",
      "Le module [cubes](https://github.com/Stiivi/cubes) est mal document\u00e9. **J'abondonne pour le moment.**\n",
      "\n",
      "On utilise l'expression *cube de donn\u00e9es* pour d\u00e9signer \u00e0 tableaux \u00e0 plusieurs dimensions. On le repr\u00e9sente souvent par une liste ``coordonn\u00e9es, valeurs``. C'est souvent beaucoup de donn\u00e9es et pas forc\u00e9ment de moyen pratique de les manipuler. Le module [cubes](https://github.com/Stiivi/cubes) propose quelques outils pour faire cela. Le module [cubesviewer](https://github.com/jjmontesl/cubesviewer) propose une extension."
     ]
    },
    {
     "cell_type": "code",
     "collapsed": false,
     "input": [
      "import pandas \n",
      "df = pandas.read_csv(\"mortalite_5column.txt\", sep=\"\\t\", encoding=\"utf8\")\n",
      "df.shape"
     ],
     "language": "python",
     "metadata": {},
     "outputs": []
    },
    {
     "cell_type": "code",
     "collapsed": false,
     "input": [
      "\n",
      "import sqlalchemy\n",
      "import cubes, cubes.backends, cubes.backends.sql\n",
      "import cubes.tutorial.sql as tutorial\n",
      "\n",
      "fields=[\n",
      "    (\"indicateur\", \"string\"),\n",
      "    (\"genre\", \"string\"),\n",
      "    (\"pays\", \"string\"),\n",
      "    (\"annee\", \"integer\"), \n",
      "    (\"age\", \"string\"), \n",
      "    (\"valeur\", \"float\"),\n",
      "    ]\n",
      "\n",
      "from cubes import Workspace\n",
      "workspace = Workspace()\n",
      "workspace.register_default_store(\"sql\", url=\"sqlite:///mortalite.db3\")\n",
      "\n",
      "model_description = {\n",
      "    \"dimensions\": [ {\"name\":c[0], \n",
      "                     \"levels\": { \"name\":c[0], \"label\":c[0], \"attributes\": [ c[0] ] } \n",
      "                     } for c in fields ],\n",
      "    \"name\": \"mortalite\",\n",
      "    \"measures\": [{\"name\":\"valeur\", \"label\":\"valeur\"}],\n",
      "}\n",
      "\n",
      "workspace.import_model(model_description)"
     ],
     "language": "python",
     "metadata": {},
     "outputs": []
    },
    {
     "cell_type": "code",
     "collapsed": false,
     "input": [],
     "language": "python",
     "metadata": {},
     "outputs": []
    }
   ],
   "metadata": {}
  }
 ]
}