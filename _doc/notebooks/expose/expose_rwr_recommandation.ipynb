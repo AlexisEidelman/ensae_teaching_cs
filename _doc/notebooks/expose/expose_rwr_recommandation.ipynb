{
 "cells": [
  {
   "cell_type": "markdown",
   "metadata": {},
   "source": [
    "# Random Walk with Restart (système de recommandations)"
   ]
  },
  {
   "cell_type": "markdown",
   "metadata": {},
   "source": [
    "Une des façons d'expliquer le [PageRank](http://fr.wikipedia.org/wiki/PageRank) est de modéliser Internet comme une immense [chaîne de Markov](http://fr.wikipedia.org/wiki/Cha%C3%AEne_de_Markov). Le score PageRank correspond alors à la probabilité de rester dans un état ou un site Internet dans ce cas-là. Ce score est relié à la probabilité d'atterrir sur un site en suivant une marche aléatoire à travers les hyperliens. Et pour éviter les problèmes numériques lors du calcul, la formule fait apparaître un terme $d$ qui correspond à la probabilité qu'un surfer a de continuer son chemin ou d'aller voir ailleurs sur un site qui n'a rien à voir : il fait un bond avec une probabilité $(1-d)$. Je ne réécris pas les formules, elles sont disponibles sur [Wikipedia](https://fr.wikipedia.org/wiki/)."
   ]
  },
  {
   "cell_type": "markdown",
   "metadata": {},
   "source": [
    "Maintenant, si on considère qu'un surfeur se ballade sur Internet de façon aléatoire mais qu'au lieu d'arrêter sa marche et d'aller n'importe ou ailleurs, il revient à son point de départ. Cela revient à étudier toutes les marches aléatoires partant du même noeud. On obtient alors des probabilités de rester dans des états qui dépendent de ce point de départ qu'on utilise pour faire des recommandations [Fast Random Walk with Restart and Its Applications](http://www2.cs.uh.edu/~ceick/7363/Papers/tong.pdf))."
   ]
  },
  {
   "cell_type": "markdown",
   "metadata": {},
   "source": [
    "Je suppose qu'on a un graphe $(G,V,E)$, $V$ pour les noeuds, $E$ pour les arcs. $P$ représente la matrice de transition d'un noeud à l'autre. La somme des coefficients sur la même ligne fait 1 : $\\sum_j P_{ij}=1$. $e$ est un vecteur avec que des 0 sauf pour une coordonnées $i$ où $i$ est le noeud de départ. $c$ est la probabilité de revenir au point de départ. L'objectif est de trouver le régime transition $\\pi$ qui vérifie l'équation suivante :"
   ]
  },
  {
   "cell_type": "markdown",
   "metadata": {},
   "source": [
    "$$\\pi=(1-c)P'\\pi+ce  \\Longleftrightarrow \\pi = c(I-(1-c)P')^{-1}e$$"
   ]
  },
  {
   "cell_type": "markdown",
   "metadata": {},
   "source": [
    "Le vecteur $\\pi$ qui en résulte donne un poids à chaque noeud du graphe et c'est ce poids dont on se sert pour ordonner les recommandations. Autrement dit, si un surfeur est sur un site $i$, on lui recommandera comme autre site ceux dont le poids est le plus fort dans le vecteur $\\pi$. Le tout est savoir de le calculer. Exemple, on choisit pour $P$ :"
   ]
  },
  {
   "cell_type": "code",
   "execution_count": 124,
   "metadata": {
    "collapsed": false
   },
   "outputs": [
    {
     "data": {
      "text/plain": [
       "matrix([[ 0.        ,  0.5       ,  0.        ,  0.5       ],\n",
       "        [ 0.5       ,  0.        ,  0.5       ,  0.        ],\n",
       "        [ 0.33333333,  0.33333333,  0.        ,  0.33333333],\n",
       "        [ 0.1       ,  0.9       ,  0.        ,  0.        ]])"
      ]
     },
     "execution_count": 124,
     "metadata": {},
     "output_type": "execute_result"
    }
   ],
   "source": [
    "import numpy as np\n",
    "from numpy.linalg import det\n",
    "P = np.matrix ( [[ 0,0.5,0,0.5],[0.5,0,0.5,0],[1./3,1./3,0,1./3],[0.1,0.9,0,0]])\n",
    "P"
   ]
  },
  {
   "cell_type": "code",
   "execution_count": 125,
   "metadata": {
    "collapsed": false
   },
   "outputs": [
    {
     "data": {
      "text/plain": [
       "matrix([[ 0.24355828],\n",
       "        [ 0.42249412],\n",
       "        [ 0.17956   ],\n",
       "        [ 0.1543876 ]])"
      ]
     },
     "execution_count": 125,
     "metadata": {},
     "output_type": "execute_result"
    }
   ],
   "source": [
    "c = 0.15\n",
    "I = np.identity(4)\n",
    "e = np.matrix( [[ 0., 1., 0., 0. ]]).T\n",
    "pi = ((I-P.T*(1-c))).I * e * c\n",
    "pi"
   ]
  },
  {
   "cell_type": "markdown",
   "metadata": {},
   "source": [
    "Une autre de procéder est de considérer que le vecteur $\\pi$ est un point fixe de la suite : $\\pi^t = (1-c)P \\pi^{t-1} +ce$. "
   ]
  },
  {
   "cell_type": "code",
   "execution_count": 126,
   "metadata": {
    "collapsed": false
   },
   "outputs": [
    {
     "data": {
      "text/plain": [
       "matrix([[ 0.24350522],\n",
       "        [ 0.42215404],\n",
       "        [ 0.17924793],\n",
       "        [ 0.15509282]])"
      ]
     },
     "execution_count": 126,
     "metadata": {},
     "output_type": "execute_result"
    }
   ],
   "source": [
    "pi = e\n",
    "for i in range(0,10):\n",
    "    pi = P.T * pi * (1-c) + e * c\n",
    "pi"
   ]
  },
  {
   "cell_type": "markdown",
   "metadata": {},
   "source": [
    "On retrouve sensiblement la même chose. Une dernière façon est d'utiliser des marches aléatoires avec restart ou <i>Random Walk with Restart</i>. Mais pour ce faire, on doit générer des marches aléatoires partant de $i$ avec la probabilité de revenir au début égale à $c$."
   ]
  },
  {
   "cell_type": "code",
   "execution_count": 131,
   "metadata": {
    "collapsed": false
   },
   "outputs": [
    {
     "data": {
      "text/plain": [
       "[0.24443757725587145,\n",
       " 0.4207354758961681,\n",
       " 0.1773794808405439,\n",
       " 0.15744746600741658]"
      ]
     },
     "execution_count": 131,
     "metadata": {},
     "output_type": "execute_result"
    }
   ],
   "source": [
    "import random\n",
    "from numpy.random import multinomial\n",
    "\n",
    "def marche_alea(P,c,i):\n",
    "    marche = [ i ]\n",
    "    while True:\n",
    "        r = random.random()\n",
    "        if r <= c: return marche\n",
    "        vect = P[i,:].tolist()[0]\n",
    "        i = multinomial(1,vect,size=1).tolist()[0].index(1)\n",
    "        marche.append(i)\n",
    "\n",
    "def aggregation(marches):\n",
    "    count = {}\n",
    "    for marche in marches:\n",
    "        for i in marche : count[i] = count.get(i,0)+1.0\n",
    "    s = sum( _ for _ in count.values())*1.0\n",
    "    for i in count: count[i] /= s\n",
    "    return [ count.get(i,0) for i in range(0,max(_ for _ in count.keys())+1) ]\n",
    "\n",
    "marches = [ marche_alea(P,c,1) for k in range(0,1000) ]\n",
    "count = aggregation(marches)\n",
    "count "
   ]
  },
  {
   "cell_type": "markdown",
   "metadata": {},
   "source": [
    "On retrouve sensiblement les mêmes résultats. A quoi ça sert ? Selon les contextes, il est préférable d'utiliser tel ou tel algorithme pour calculer le vecteur $\\pi$ : l'inversion de la matrice, la suite récursive, ou Monte Carlo voire une combinaison. Voici quelques questions qu'il faut se poser.\n",
    "\n",
    "- la matrice est grande (plusieurs millions de noeuds) ou petite (quelques milliers) ?\n",
    "- la matrice est [sparse](http://en.wikipedia.org/wiki/Sparse_matrix) ou creuse (ses coefficients sont presque tous nuls) ?\n",
    "- on a besoin des valeurs pour seulement quelques noeuds et seulement les premières valeurs ?\n",
    "- les calculs se font en parallèle sur la même machine (mémoire partagée) ou en map/reduce ?\n",
    "\n",
    "Sur Internet, les matrices sont souvent très grande, très sparses excepté pour quelques noeuds qui sont comme des hubs et qu'il faut parfois traiter à part."
   ]
  }
 ],
 "metadata": {},
 "nbformat": 4,
 "nbformat_minor": 0
}