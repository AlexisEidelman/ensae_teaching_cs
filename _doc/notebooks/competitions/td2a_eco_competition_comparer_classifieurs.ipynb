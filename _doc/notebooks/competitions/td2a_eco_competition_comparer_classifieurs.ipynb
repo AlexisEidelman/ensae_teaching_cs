{
  "cells": [
    {
      "cell_type": "markdown",
      "metadata": {},
      "source": [
        "# Pr\u00e9paration des donn\u00e9es "
      ]
    },
    {
      "cell_type": "code",
      "execution_count": null,
      "metadata": {
        "collapsed": false
      },
      "outputs": [
        {
          "data": {
            "text/html": [
              "<div id=\"my_id_menu_nb\">run previous cell, wait for 2 seconds</div>\n",
              "<script>\n",
              "function repeat_indent_string(n){\n",
              "    var a = \"\" ;\n",
              "    for ( ; n > 0 ; --n) {\n",
              "        a += \"    \";\n",
              "    }\n",
              "    return a;\n",
              "}\n",
              "var update_menu_string = function(begin, lfirst, llast, sformat, send, keep_item) {\n",
              "    var anchors = document.getElementsByClassName(\"section\");\n",
              "    if (anchors.length == 0) {\n",
              "        anchors = document.getElementsByClassName(\"text_cell_render rendered_html\");\n",
              "    }\n",
              "    var i,t;\n",
              "    var text_menu = begin;\n",
              "    var text_memo = \"<pre>\\nlength:\" + anchors.length + \"\\n\";\n",
              "    var ind = \"\";\n",
              "    var memo_level = 1;\n",
              "    var href;\n",
              "    var tags = [];\n",
              "    var main_item = 0;\n",
              "    for (i = 0; i <= llast; i++) {\n",
              "        tags.push(\"h\" + i);\n",
              "    }\n",
              "\n",
              "    for (i = 0; i < anchors.length; i++) {\n",
              "        text_memo += \"**\" + anchors[i].id + \"--\\n\";\n",
              "\n",
              "        var child = null;\n",
              "        for(t = 0; t < tags.length; t++) {\n",
              "            var r = anchors[i].getElementsByTagName(tags[t]);\n",
              "            if (r.length > 0) {\n",
              "child = r[0];\n",
              "break;\n",
              "            }\n",
              "        }\n",
              "        if (child == null){\n",
              "            text_memo += \"null\\n\";\n",
              "            continue;\n",
              "        }\n",
              "        if (anchors[i].hasAttribute(\"id\")) {\n",
              "            // when converted in RST\n",
              "            href = anchors[i].id;\n",
              "            text_memo += \"#1-\" + href;\n",
              "            // passer \u00e0 child suivant (le chercher)\n",
              "        }\n",
              "        else if (child.hasAttribute(\"id\")) {\n",
              "            // in a notebook\n",
              "            href = child.id;\n",
              "            text_memo += \"#2-\" + href;\n",
              "        }\n",
              "        else {\n",
              "            text_memo += \"#3-\" + \"*\" + \"\\n\";\n",
              "            continue;\n",
              "        }\n",
              "        var title = child.textContent;\n",
              "        var level = parseInt(child.tagName.substring(1,2));\n",
              "\n",
              "        text_memo += \"--\" + level + \"?\" + lfirst + \"--\" + title + \"\\n\";\n",
              "\n",
              "        if ((level < lfirst) || (level > llast)) {\n",
              "            continue ;\n",
              "        }\n",
              "        if (title.endsWith('\u00b6')) {\n",
              "            title = title.substring(0,title.length-1).replace(\"<\", \"&lt;\").replace(\">\", \"&gt;\").replace(\"&\", \"&amp;\")\n",
              "        }\n",
              "\n",
              "        if (title.length == 0) {\n",
              "            continue;\n",
              "        }\n",
              "\n",
              "        while (level < memo_level) {\n",
              "            text_menu += \"</ul>\\n\";\n",
              "            memo_level -= 1;\n",
              "        }\n",
              "        if (level == lfirst) {\n",
              "            main_item += 1;\n",
              "        }\n",
              "        if (keep_item != -1 && main_item != keep_item + 1) {\n",
              "            // alert(main_item + \" - \" + level + \" - \" + keep_item);\n",
              "            continue;\n",
              "        }\n",
              "        while (level > memo_level) {\n",
              "            text_menu += \"<ul>\\n\";\n",
              "            memo_level += 1;\n",
              "        }\n",
              "        text_menu += repeat_indent_string(level-2) + sformat.replace(\"__HREF__\", href).replace(\"__TITLE__\", title);\n",
              "    }\n",
              "    while (1 < memo_level) {\n",
              "        text_menu += \"</ul>\\n\";\n",
              "        memo_level -= 1;\n",
              "    }\n",
              "    text_menu += send;\n",
              "    //text_menu += \"\\n\" + text_memo;\n",
              "    return text_menu;\n",
              "};\n",
              "var update_menu = function() {\n",
              "    var sbegin = \"\";\n",
              "    var sformat = '<li><a href=\"#__HREF__\">__TITLE__</a></li>';\n",
              "    var send = \"\";\n",
              "    var keep_item = -1;\n",
              "    var text_menu = update_menu_string(sbegin, 2, 4, sformat, send, keep_item);\n",
              "    var menu = document.getElementById(\"my_id_menu_nb\");\n",
              "    menu.innerHTML=text_menu;\n",
              "};\n",
              "window.setTimeout(update_menu,2000);\n",
              "            </script>"
            ],
            "text/plain": [
              "<IPython.core.display.HTML object>"
            ]
          },
          "execution_count": null,
          "metadata": {},
          "output_type": "execute_result"
        }
      ],
      "source": [
        "from jyquickhelper import add_notebook_menu\n",
        "add_notebook_menu()"
      ]
    },
    {
      "cell_type": "code",
      "execution_count": null,
      "metadata": {
        "collapsed": true
      },
      "outputs": [],
      "source": [
        "%matplotlib inline"
      ]
    },
    {
      "cell_type": "markdown",
      "metadata": {},
      "source": [
        "## Donn\u00e9es"
      ]
    },
    {
      "cell_type": "code",
      "execution_count": null,
      "metadata": {
        "collapsed": false
      },
      "outputs": [
        {
          "data": {
            "text/html": [
              "<div>\n",
              "<table border=\"1\" class=\"dataframe\">\n",
              "  <thead>\n",
              "    <tr style=\"text-align: right;\">\n",
              "      <th>ID</th>\n",
              "      <th>LIMIT_BAL</th>\n",
              "      <th>AGE</th>\n",
              "      <th>PAY_0</th>\n",
              "      <th>PAY_2</th>\n",
              "      <th>PAY_3</th>\n",
              "      <th>PAY_4</th>\n",
              "      <th>PAY_5</th>\n",
              "      <th>PAY_6</th>\n",
              "      <th>BILL_AMT1</th>\n",
              "      <th>BILL_AMT2</th>\n",
              "      <th>...</th>\n",
              "      <th>EDUCATION_1</th>\n",
              "      <th>EDUCATION_2</th>\n",
              "      <th>EDUCATION_3</th>\n",
              "      <th>EDUCATION_4</th>\n",
              "      <th>EDUCATION_5</th>\n",
              "      <th>EDUCATION_6</th>\n",
              "      <th>MARRIAGE_0</th>\n",
              "      <th>MARRIAGE_1</th>\n",
              "      <th>MARRIAGE_2</th>\n",
              "      <th>MARRIAGE_3</th>\n",
              "    </tr>\n",
              "  </thead>\n",
              "  <tbody>\n",
              "    <tr>\n",
              "      <th>0</th>\n",
              "      <td>180000</td>\n",
              "      <td>47</td>\n",
              "      <td>0</td>\n",
              "      <td>0</td>\n",
              "      <td>0</td>\n",
              "      <td>0</td>\n",
              "      <td>0</td>\n",
              "      <td>0</td>\n",
              "      <td>179253</td>\n",
              "      <td>95170</td>\n",
              "      <td>...</td>\n",
              "      <td>0.0</td>\n",
              "      <td>1.0</td>\n",
              "      <td>0.0</td>\n",
              "      <td>0.0</td>\n",
              "      <td>0.0</td>\n",
              "      <td>0.0</td>\n",
              "      <td>0.0</td>\n",
              "      <td>1.0</td>\n",
              "      <td>0.0</td>\n",
              "      <td>0.0</td>\n",
              "    </tr>\n",
              "    <tr>\n",
              "      <th>1</th>\n",
              "      <td>110000</td>\n",
              "      <td>35</td>\n",
              "      <td>0</td>\n",
              "      <td>0</td>\n",
              "      <td>0</td>\n",
              "      <td>0</td>\n",
              "      <td>0</td>\n",
              "      <td>0</td>\n",
              "      <td>6137</td>\n",
              "      <td>7040</td>\n",
              "      <td>...</td>\n",
              "      <td>0.0</td>\n",
              "      <td>1.0</td>\n",
              "      <td>0.0</td>\n",
              "      <td>0.0</td>\n",
              "      <td>0.0</td>\n",
              "      <td>0.0</td>\n",
              "      <td>0.0</td>\n",
              "      <td>1.0</td>\n",
              "      <td>0.0</td>\n",
              "      <td>0.0</td>\n",
              "    </tr>\n",
              "  </tbody>\n",
              "</table>\n",
              "<p>2 rows \u00d7 34 columns</p>\n",
              "</div>"
            ],
            "text/plain": [
              "ID  LIMIT_BAL  AGE  PAY_0  PAY_2  PAY_3  PAY_4  PAY_5  PAY_6  BILL_AMT1  \\\n",
              "0      180000   47      0      0      0      0      0      0     179253   \n",
              "1      110000   35      0      0      0      0      0      0       6137   \n",
              "\n",
              "ID  BILL_AMT2     ...      EDUCATION_1  EDUCATION_2  EDUCATION_3  EDUCATION_4  \\\n",
              "0       95170     ...              0.0          1.0          0.0          0.0   \n",
              "1        7040     ...              0.0          1.0          0.0          0.0   \n",
              "\n",
              "ID  EDUCATION_5  EDUCATION_6  MARRIAGE_0  MARRIAGE_1  MARRIAGE_2  MARRIAGE_3  \n",
              "0           0.0          0.0         0.0         1.0         0.0         0.0  \n",
              "1           0.0          0.0         0.0         1.0         0.0         0.0  \n",
              "\n",
              "[2 rows x 34 columns]"
            ]
          },
          "execution_count": null,
          "metadata": {},
          "output_type": "execute_result"
        }
      ],
      "source": [
        "import pandas as p\n",
        "import numpy as np\n",
        "\n",
        "df = p.read_csv('./ensae_competition_train.txt', header=[0,1], sep=\"\\t\", index_col=0)\n",
        "\n",
        "#### Gender dummies\n",
        "df['X2'] = df['X2'].applymap(str)\n",
        "gender_dummies = p.get_dummies(df['X2'] )\n",
        "### education dummies\n",
        "df['X3'] = df['X3'].applymap(str)\n",
        "educ_dummies = p.get_dummies(df['X3'] )\n",
        "#### marriage dummies\n",
        "df['X4'] = df['X4'].applymap(str)\n",
        "mariage_dummies = p.get_dummies(df['X4'] )\n",
        "### On va aussi supprimer les multi index de la table\n",
        "df.columns = df.columns.droplevel(0)\n",
        "#### on aggr\u00e8ge ensuite les 3 tables ensemble\n",
        "data = df.join(gender_dummies).join(educ_dummies).join(mariage_dummies)\n",
        "\n",
        "data.rename(columns = {'default payment next month' : \"Y\"}, inplace = True)\n",
        "\n",
        "data = data.drop(['SEX','EDUCATION','MARRIAGE'],1)\n",
        "\n",
        "data_resample = p.concat([data[data['Y']==1], data[data['Y']==0].sample(len(data[data['Y']==1]))])\n",
        "\n",
        "data.head(n=2)"
      ]
    },
    {
      "cell_type": "code",
      "execution_count": null,
      "metadata": {
        "collapsed": false
      },
      "outputs": [
        {
          "data": {
            "text/plain": [
              "Index(['LIMIT_BAL', 'AGE', 'PAY_0', 'PAY_2', 'PAY_3', 'PAY_4', 'PAY_5',\n",
              "       'PAY_6', 'BILL_AMT1', 'BILL_AMT2', 'BILL_AMT3', 'BILL_AMT4',\n",
              "       'BILL_AMT5', 'BILL_AMT6', 'PAY_AMT1', 'PAY_AMT2', 'PAY_AMT3',\n",
              "       'PAY_AMT4', 'PAY_AMT5', 'PAY_AMT6', 'SEX_1', 'SEX_2', 'EDUCATION_0',\n",
              "       'EDUCATION_1', 'EDUCATION_2', 'EDUCATION_3', 'EDUCATION_4',\n",
              "       'EDUCATION_5', 'EDUCATION_6', 'MARRIAGE_0', 'MARRIAGE_1', 'MARRIAGE_2',\n",
              "       'MARRIAGE_3'],\n",
              "      dtype='object', name='ID')"
            ]
          },
          "execution_count": null,
          "metadata": {},
          "output_type": "execute_result"
        }
      ],
      "source": [
        "Y = data['Y']\n",
        "Y = data_resample['Y']\n",
        "\n",
        "X = data.drop('Y', 1)\n",
        "#X = data[[\"SEX_1\", \"AGE\", \"MARRIAGE_0\", 'PAY_0']]\n",
        "X = data_resample.drop('Y',1)\n",
        "\n",
        "X.columns"
      ]
    },
    {
      "cell_type": "code",
      "execution_count": null,
      "metadata": {
        "collapsed": true
      },
      "outputs": [],
      "source": [
        "from sklearn.cross_validation import train_test_split\n",
        "X_train, X_test, Y_train, Y_test = train_test_split(X, Y, test_size=0.33)"
      ]
    },
    {
      "cell_type": "markdown",
      "metadata": {},
      "source": [
        "## Choix du Classifieur"
      ]
    },
    {
      "cell_type": "code",
      "execution_count": null,
      "metadata": {
        "collapsed": true
      },
      "outputs": [],
      "source": [
        "from sklearn.linear_model import LogisticRegression\n",
        "from sklearn import svm\n",
        "from sklearn.ensemble import GradientBoostingClassifier, RandomForestClassifier\n",
        "from sklearn.linear_model import SGDClassifier, Perceptron\n",
        "\n",
        "#type_classifier = LogisticRegression\n",
        "#type_classifier = svm.SVC\n",
        "type_classifier = GradientBoostingClassifier\n",
        "#type_classifier = RandomForestClassifier\n",
        "#type_classifier = Perceptron\n",
        "\n",
        "clf = type_classifier()\n",
        "#clf = SGDClassifier(loss=\"hinge\", penalty=\"l2\")\n",
        "\n",
        "clf = clf.fit(X_train, Y_train.ravel())"
      ]
    },
    {
      "cell_type": "code",
      "execution_count": null,
      "metadata": {
        "collapsed": true
      },
      "outputs": [],
      "source": [
        "# Matrice de confusion"
      ]
    },
    {
      "cell_type": "code",
      "execution_count": null,
      "metadata": {
        "collapsed": true
      },
      "outputs": [],
      "source": [
        "%matplotlib inline"
      ]
    },
    {
      "cell_type": "code",
      "execution_count": null,
      "metadata": {
        "collapsed": false
      },
      "outputs": [
        {
          "name": "stdout",
          "output_type": "stream",
          "text": [
            "[[2639 1049]\n",
            " [ 677 2308]]\n",
            "[[1272  592]\n",
            " [ 392 1031]]\n"
          ]
        },
        {
          "data": {
            "text/plain": [
              "<matplotlib.text.Text at 0x7fe777e3e748>"
            ]
          },
          "execution_count": null,
          "metadata": {},
          "output_type": "execute_result"
        },
        {
          "data": {
            "image/png": "[encoded data removed]",
            "text/plain": [
              "<matplotlib.figure.Figure at 0x7fe7790a12b0>"
            ]
          },
          "metadata": {},
          "output_type": "display_data"
        }
      ],
      "source": [
        "from sklearn.metrics import confusion_matrix\n",
        "for x,y in [ (X_train, Y_train), (X_test, Y_test) ]:\n",
        "    yp  = clf.predict(x)\n",
        "    cm = confusion_matrix(y.ravel(), yp.ravel())\n",
        "    print(cm.transpose())\n",
        "    \n",
        "import matplotlib.pyplot as plt\n",
        "import seaborn as sns\n",
        "\n",
        "sns.set_style('ticks')\n",
        "plt.matshow(cm.transpose())\n",
        "plt.title('Confusion matrix sur Test')\n",
        "plt.colorbar()\n",
        "plt.ylabel('Predicted label')\n",
        "plt.xlabel('True label')"
      ]
    },
    {
      "cell_type": "code",
      "execution_count": null,
      "metadata": {
        "collapsed": false
      },
      "outputs": [
        {
          "data": {
            "text/plain": [
              "0.70063888043808942"
            ]
          },
          "execution_count": null,
          "metadata": {},
          "output_type": "execute_result"
        }
      ],
      "source": [
        "(cm.transpose()[0,0]+cm.transpose()[1,1])/ (cm[0].sum()+cm[1].sum())"
      ]
    },
    {
      "cell_type": "markdown",
      "metadata": {
        "collapsed": true
      },
      "source": [
        "## Calcul du crit\u00e8re AUC "
      ]
    },
    {
      "cell_type": "code",
      "execution_count": null,
      "metadata": {
        "collapsed": false
      },
      "outputs": [
        {
          "data": {
            "text/plain": [
              "array([[ 0.41760586,  0.58239414],\n",
              "       [ 0.68713032,  0.31286968],\n",
              "       [ 0.5714975 ,  0.4285025 ],\n",
              "       ..., \n",
              "       [ 0.31742502,  0.68257498],\n",
              "       [ 0.10803069,  0.89196931],\n",
              "       [ 0.18440702,  0.81559298]])"
            ]
          },
          "execution_count": null,
          "metadata": {},
          "output_type": "execute_result"
        }
      ],
      "source": [
        "from sklearn.metrics import roc_curve, auc\n",
        "probas = clf.predict_proba(X_test)\n",
        "\n",
        "probas"
      ]
    },
    {
      "cell_type": "code",
      "execution_count": null,
      "metadata": {
        "collapsed": false
      },
      "outputs": [
        {
          "name": "stdout",
          "output_type": "stream",
          "text": [
            "AUC : Taux de bonnes r\u00e9ponses 0.700638880438\n"
          ]
        }
      ],
      "source": [
        "rep = [ ]\n",
        "yt = Y_test.ravel()\n",
        "for i in range(probas.shape[0]):\n",
        "    p0,p1 = probas[i,:]\n",
        "    exp = yt[i]\n",
        "    if p0 > p1 :\n",
        "        if exp == 0 :\n",
        "            # bonne r\u00e9ponse, true positive (tp)\n",
        "            rep.append ( (1, p0) )\n",
        "        else :\n",
        "            # mauvaise r\u00e9ponse, false positive (fp)\n",
        "            rep.append( (0, p0) )\n",
        "    else :\n",
        "        if exp == 0 :\n",
        "            # mauvaise r\u00e9ponse, false negative (fn)\n",
        "            rep.append ( (0, p1) )\n",
        "        else :\n",
        "            # bonne r\u00e9ponse, true negative (tn)\n",
        "            rep.append( (1, p1) )\n",
        "mat_rep = np.array(rep)\n",
        "print(\"AUC : Taux de bonnes r\u00e9ponses\" , sum(mat_rep[:,0]) / len(mat_rep[:,0]))"
      ]
    },
    {
      "cell_type": "markdown",
      "metadata": {},
      "source": [
        "Tous les crit\u00e8res sont d\u00e9taill\u00e9s [l\u00e0](https://en.wikipedia.org/wiki/Receiver_operating_characteristic). Attention au sens de la matrice de confusion, selon les articles, cela change."
      ]
    },
    {
      "cell_type": "markdown",
      "metadata": {},
      "source": [
        "## Courbe ROC"
      ]
    },
    {
      "cell_type": "code",
      "execution_count": null,
      "metadata": {
        "collapsed": false
      },
      "outputs": [
        {
          "data": {
            "text/plain": [
              "<matplotlib.legend.Legend at 0x7fe775399a90>"
            ]
          },
          "execution_count": null,
          "metadata": {},
          "output_type": "execute_result"
        },
        {
          "data": {
            "image/png": "[encoded data removed]",
            "text/plain": [
              "<matplotlib.figure.Figure at 0x7fe7758b6518>"
            ]
          },
          "metadata": {},
          "output_type": "display_data"
        }
      ],
      "source": [
        "fpr, tpr, thresholds = roc_curve(mat_rep[:,0], mat_rep[:, 1])\n",
        "roc_auc = auc(fpr, tpr)\n",
        "plt.plot(fpr, tpr, label='ROC curve (area = %0.2f)' % roc_auc)\n",
        "plt.plot([0, 1], [0, 1], 'k--')\n",
        "plt.xlim([0.0, 1.0])\n",
        "plt.ylim([0.0, 1.0])\n",
        "plt.xlabel('False Positive Rate')\n",
        "plt.ylabel('True Positive Rate (or precision)')\n",
        "plt.title('ROC')\n",
        "plt.legend(loc=\"lower right\")"
      ]
    },
    {
      "cell_type": "markdown",
      "metadata": {},
      "source": [
        "En haut \u00e0 droite, TPR et FPR valent 1 (il suffit de pr\u00e9dire toujours positif = pas de d\u00e9faut = Y_hat=0), en bas \u00e0 gauche, TPR et FPR valent 0 parce qu'il suffit de toujours pr\u00e9dire la situation n\u00e9gative (ou le d\u00e9faut, Y_hat = 1). \n",
        "\n",
        "Une autre m\u00e9trique souvent suivie consiste \u00e0 comparer Precision (= TPR) et Recall. C'est un peu le m\u00eame arbitrage. Cela devrait vous rappeler celui entre risque de premi\u00e8re esp\u00e8ce et puissance d'un test."
      ]
    },
    {
      "cell_type": "markdown",
      "metadata": {},
      "source": [
        "## Pr\u00e9cision-Recall, Score F1 "
      ]
    },
    {
      "cell_type": "code",
      "execution_count": null,
      "metadata": {
        "collapsed": false
      },
      "outputs": [
        {
          "name": "stdout",
          "output_type": "stream",
          "text": [
            "On retrouve la matrice de confusion :\n",
            " TP :  1272 FP :  592 \n",
            "  FN :  392 TN :  1031\n",
            "Precision : TP / (TP + FP) =  0.6824034334763949\n",
            "Recall : TP / (TP + FN) =  0.7644230769230769\n",
            "F1 Score : T2 * P * R / (P + R) =  0.7210884353741496\n",
            "False Positive rate : FP / (FP + FN) =  0.3647566235366605\n"
          ]
        }
      ],
      "source": [
        "tp=0\n",
        "fp=0\n",
        "fn=0\n",
        "tn=0\n",
        "for i in range(len(probas[:,0])):\n",
        "    if (probas[i,0] >= 0.5 and yt[i] == 0):\n",
        "        tp+=1\n",
        "    elif (probas[i,0] >= 0.5 and yt[i] == 1):\n",
        "        fp+=1\n",
        "    elif (probas[i,0] <= 0.5 and yt[i] == 0):\n",
        "        fn+=1\n",
        "    else:\n",
        "        tn+=1\n",
        "print(\"On retrouve la matrice de confusion :\\n\", \"TP : \", tp, \"FP : \", fp, \"\\n\", \n",
        "      \" FN : \", fn, \"TN : \", tn)\n",
        "print(\"Precision : TP / (TP + FP) = \", tp/(tp+fp))\n",
        "print(\"Recall : TP / (TP + FN) = \", tp/(tp+fn))\n",
        "precision = tp/(tp+fp)\n",
        "recall = tp/(tp+fn)\n",
        "print(\"F1 Score : T2 * P * R / (P + R) = \", 2 * precision * recall / (precision + recall) )\n",
        "print(\"False Positive rate : FP / (FP + FN) = \", fp/(fp+tn))"
      ]
    },
    {
      "cell_type": "code",
      "execution_count": null,
      "metadata": {
        "collapsed": false
      },
      "outputs": [
        {
          "data": {
            "image/png": "[encoded data removed]",
            "text/plain": [
              "<matplotlib.figure.Figure at 0x7fe775356f28>"
            ]
          },
          "metadata": {},
          "output_type": "display_data"
        }
      ],
      "source": [
        "from sklearn.metrics import precision_recall_curve\n",
        "\n",
        "precision, recall, _ = precision_recall_curve(Y_test.ravel(), yp.ravel())\n",
        "\n",
        "lw = 2\n",
        "\n",
        "plt.plot(recall, precision, lw=lw, color='navy', label='Precision-Recall curve')\n",
        "plt.xlabel('Recall')\n",
        "plt.ylabel('Precision')\n",
        "plt.ylim([0.0, 1.05])\n",
        "plt.xlim([0.0, 1.0])\n",
        "plt.title('Precision-Recall')\n",
        "plt.legend(loc=\"lower left\")"
      ]
    }
  ],
  "metadata": {
    "kernelspec": {
      "display_name": "Python 3",
      "language": "python",
      "name": "python3"
    },
    "language_info": {
      "codemirror_mode": {
        "name": "ipython",
        "version": 3
      },
      "file_extension": ".py",
      "mimetype": "text/x-python",
      "name": "python",
      "nbconvert_exporter": "python",
      "pygments_lexer": "ipython3",
      "version": "3.5.0"
    }
  },
  "nbformat": 4,
  "nbformat_minor": 1
}