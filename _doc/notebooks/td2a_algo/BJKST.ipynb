{
  "cells": [
    {
      "cell_type": "markdown",
      "metadata": {
        "deletable": true,
        "editable": true
      },
      "source": [
        "# Algorithmes de streaming : g\u00e9n\u00e9ralit\u00e9s\n",
        "\n",
        "Les streams (flux) de donn\u00e9es sont aujourd'hui pr\u00e9sents dans de nombreux domaines (r\u00e9seaux sociaux, e-commerce, logs de connexion Internet, etc.). L'analyse rapide et pertinente de ces flux est motiv\u00e9e par l'immensit\u00e9 des donn\u00e9es qui ne peuvent souvent pas \u00eatre stock\u00e9s (du moins facilement) et dont le traitement serait trop lourd (penser au calcul de l'\u00e2ge moyen des 1,86 milliards utilisateurs de Facebook pour s'en convaincre)."
      ]
    },
    {
      "cell_type": "code",
      "execution_count": null,
      "metadata": {
        "collapsed": false
      },
      "outputs": [
        {
          "data": {
            "text/html": [
              "<div id=\"my_id_menu_nb\">run previous cell, wait for 2 seconds</div>\n",
              "<script>\n",
              "function repeat_indent_string(n){\n",
              "    var a = \"\" ;\n",
              "    for ( ; n > 0 ; --n) {\n",
              "        a += \"    \";\n",
              "    }\n",
              "    return a;\n",
              "}\n",
              "var update_menu_string = function(begin, lfirst, llast, sformat, send, keep_item) {\n",
              "    var anchors = document.getElementsByClassName(\"section\");\n",
              "    if (anchors.length == 0) {\n",
              "        anchors = document.getElementsByClassName(\"text_cell_render rendered_html\");\n",
              "    }\n",
              "    var i,t;\n",
              "    var text_menu = begin;\n",
              "    var text_memo = \"<pre>\\nlength:\" + anchors.length + \"\\n\";\n",
              "    var ind = \"\";\n",
              "    var memo_level = 1;\n",
              "    var href;\n",
              "    var tags = [];\n",
              "    var main_item = 0;\n",
              "    for (i = 0; i <= llast; i++) {\n",
              "        tags.push(\"h\" + i);\n",
              "    }\n",
              "\n",
              "    for (i = 0; i < anchors.length; i++) {\n",
              "        text_memo += \"**\" + anchors[i].id + \"--\\n\";\n",
              "\n",
              "        var child = null;\n",
              "        for(t = 0; t < tags.length; t++) {\n",
              "            var r = anchors[i].getElementsByTagName(tags[t]);\n",
              "            if (r.length > 0) {\n",
              "child = r[0];\n",
              "break;\n",
              "            }\n",
              "        }\n",
              "        if (child == null){\n",
              "            text_memo += \"null\\n\";\n",
              "            continue;\n",
              "        }\n",
              "        if (anchors[i].hasAttribute(\"id\")) {\n",
              "            // when converted in RST\n",
              "            href = anchors[i].id;\n",
              "            text_memo += \"#1-\" + href;\n",
              "            // passer \u00e0 child suivant (le chercher)\n",
              "        }\n",
              "        else if (child.hasAttribute(\"id\")) {\n",
              "            // in a notebook\n",
              "            href = child.id;\n",
              "            text_memo += \"#2-\" + href;\n",
              "        }\n",
              "        else {\n",
              "            text_memo += \"#3-\" + \"*\" + \"\\n\";\n",
              "            continue;\n",
              "        }\n",
              "        var title = child.textContent;\n",
              "        var level = parseInt(child.tagName.substring(1,2));\n",
              "\n",
              "        text_memo += \"--\" + level + \"?\" + lfirst + \"--\" + title + \"\\n\";\n",
              "\n",
              "        if ((level < lfirst) || (level > llast)) {\n",
              "            continue ;\n",
              "        }\n",
              "        if (title.endsWith('\u00b6')) {\n",
              "            title = title.substring(0,title.length-1).replace(\"<\", \"&lt;\").replace(\">\", \"&gt;\").replace(\"&\", \"&amp;\")\n",
              "        }\n",
              "\n",
              "        if (title.length == 0) {\n",
              "            continue;\n",
              "        }\n",
              "\n",
              "        while (level < memo_level) {\n",
              "            text_menu += \"</ul>\\n\";\n",
              "            memo_level -= 1;\n",
              "        }\n",
              "        if (level == lfirst) {\n",
              "            main_item += 1;\n",
              "        }\n",
              "        if (keep_item != -1 && main_item != keep_item + 1) {\n",
              "            // alert(main_item + \" - \" + level + \" - \" + keep_item);\n",
              "            continue;\n",
              "        }\n",
              "        while (level > memo_level) {\n",
              "            text_menu += \"<ul>\\n\";\n",
              "            memo_level += 1;\n",
              "        }\n",
              "        text_menu += repeat_indent_string(level-2) + sformat.replace(\"__HREF__\", href).replace(\"__TITLE__\", title);\n",
              "    }\n",
              "    while (1 < memo_level) {\n",
              "        text_menu += \"</ul>\\n\";\n",
              "        memo_level -= 1;\n",
              "    }\n",
              "    text_menu += send;\n",
              "    //text_menu += \"\\n\" + text_memo;\n",
              "    return text_menu;\n",
              "};\n",
              "var update_menu = function() {\n",
              "    var sbegin = \"\";\n",
              "    var sformat = '<li><a href=\"#__HREF__\">__TITLE__</a></li>';\n",
              "    var send = \"\";\n",
              "    var keep_item = -1;\n",
              "    var text_menu = update_menu_string(sbegin, 2, 4, sformat, send, keep_item);\n",
              "    var menu = document.getElementById(\"my_id_menu_nb\");\n",
              "    menu.innerHTML=text_menu;\n",
              "};\n",
              "window.setTimeout(update_menu,2000);\n",
              "            </script>"
            ],
            "text/plain": [
              "<IPython.core.display.HTML object>"
            ]
          },
          "execution_count": null,
          "metadata": {},
          "output_type": "execute_result"
        }
      ],
      "source": [
        "from jyquickhelper import add_notebook_menu\n",
        "add_notebook_menu()"
      ]
    },
    {
      "cell_type": "code",
      "execution_count": null,
      "metadata": {
        "collapsed": true
      },
      "outputs": [],
      "source": [
        "%matplotlib inline"
      ]
    },
    {
      "cell_type": "markdown",
      "metadata": {},
      "source": [
        "## Introduction\n",
        "\n",
        "Plus formellement consid\u00e9rons un univers $U$ de taille $n$ (un nombre tr\u00e8s grand) qui ne peut \u00eatre stock\u00e9 en m\u00e9moire et une s\u00e9quence $S = (s_1, s_2, \\ldots, s_m, \\ldots)$ d'\u00e9l\u00e9ments de $U$. Un algorithme de streaming $\\mathcal{A}$ prend le stream $S$ en entr\u00e9e et renvoie une fonction $f(S)$ (souvent \u00e0 valeurs r\u00e9elles).\n",
        "\n",
        "Notons que l'algorithme $\\mathcal{A}$ est souvent contraint d'acc\u00e9der s\u00e9quentiellement aux \u00e9l\u00e9ments de $S$ et / ou ne peut les parcourir qu'un nombre fini de fois.\n",
        "\n",
        "Un bon algorithme de streaming doit satisfaire plusieurs contraintes:\n",
        "\n",
        "- Il doit \u00eatre un bon estimateur de la vraie valeur que prendrait $f^*(U)$ sur l'univers (plus de d\u00e9tails dans un instant)\n",
        "- Il doit pouvoir s'actualiser rapidement (en temps lin\u00e9aire ou moins) \u00e0 mesure que le flux $S$ \u00e9volue\n",
        "- Il doit \u00eatre peu gourmand en m\u00e9moire\n",
        "\n",
        "Etant donn\u00e9 une pr\u00e9cision $\\epsilon > 0$ et une tol\u00e9rance $\\delta > 0$, l'algorithme $\\mathcal{A}$ do\u00eet satisfaire:\n",
        "\n",
        "$\\mathbb{P}(\\lvert \\frac{f^*(U) - f(S)}{f(S)} \\rvert \\leq \\epsilon) \\geq 1 - \\delta.$\n",
        "\n",
        "Quelques exemples fr\u00e9quents d'algorithmes de streaming:\n",
        "\n",
        "- Estimation de la valeur moyenne, de la m\u00e9diane\n",
        "- Estimation du nombre d'\u00e9l\u00e9ments distincts\n",
        "- Estimation de la fr\u00e9quences des \u00e9lements\n",
        "- Estimation de la densit\u00e9 de probabilit\u00e9"
      ]
    },
    {
      "cell_type": "markdown",
      "metadata": {
        "deletable": true,
        "editable": true
      },
      "source": [
        "## Estimer le nombre d'\u00e9l\u00e9ments distincts: l'algorithme BJKST\n",
        "\n",
        "L'algorithme [BJKST](http://info.prelert.com/blog/hashing-and-approximate-distinct-value-counts) permet d'estimer le nombre d'\u00e9l\u00e9ments distincts d'un stream $S$. Son fonctionnement est assez simple et repose sur la notion d'universal hashing que nous pr\u00e9sentons ci-bas."
      ]
    },
    {
      "cell_type": "markdown",
      "metadata": {
        "deletable": true,
        "editable": true
      },
      "source": [
        "### Universal hashing\n",
        "\n",
        "L'id\u00e9e derri\u00e8re les fonctions de hachage est de faire correspondre des \u00e9lements d'un ensemble dont la taille est variable (ou bien n'est pas connue) vers un ensemble de taille fixe. Le principe de l'universal hashing est de s\u00e9lectionner al\u00e9atoirement une fonction $h$ dans une famille de fonctions de hachage $\\mathcal{H}$ et de garantir un faible probabilit\u00e9 du nombre de collisions de hachage. \n",
        "\n",
        "Formellement si l'on note $[n]$ l'ensemble $\\{1, \\ldots, n\\}$, une famille de fonctions $\\mathcal{H}$ est dite <i>universelle</i> si toute fonction $h: U \\mapsto [n]$ choisie uniform\u00e9ment dans la famille $\\mathcal{H}$ v\u00e9rifie $\\mathbb{P}(h(x) = h(y)) \\leq \\frac{1}{n}$ pour tout couple $x,y \\in U$ distincts.\n",
        "\n",
        "Nous consid\u00e9rons ici la famille $\\mathcal{H} = \\{h_{a,b}\\}$ o\u00f9 $h_{a,b}(x) = ((ax + b) \\space{} \\mathrm{mod} \\space{} p) \\space{} \\mathrm{mod} \\space{} n$, $x$ est un entier, $a \\in \\{1, \\ldots, p - 1\\}$, $b \\in \\{0, \\ldots, p - 1 \\}$ et $p$ un nombre premier $\\geq n$. On peut sans trop de difficult\u00e9 se convaincre que $h_{a,b}(x)$ est uniform\u00e9ment distribu\u00e9 sur $[n]$ et que cette famille est universelle (voir [ici](https://en.wikipedia.org/wiki/Universal_hashing) pour plus de d\u00e9tails)."
      ]
    },
    {
      "cell_type": "markdown",
      "metadata": {
        "deletable": true,
        "editable": true
      },
      "source": [
        "### Algorithme BJKST\n",
        "\n",
        "Nous consid\u00e9rons le stream $S = [n]$ et allons essayer d'estimer $n$ \u00e0 l'aide de l'algorithme [BJKST](http://info.prelert.com/blog/hashing-and-approximate-distinct-value-counts)."
      ]
    },
    {
      "cell_type": "code",
      "execution_count": null,
      "metadata": {
        "collapsed": false,
        "deletable": true,
        "editable": true
      },
      "outputs": [],
      "source": [
        "n = 10000\n",
        "stream = range(n)"
      ]
    },
    {
      "cell_type": "markdown",
      "metadata": {},
      "source": [
        "L'id\u00e9e derri\u00e8re l'algorithme [BJKST](http://info.prelert.com/blog/hashing-and-approximate-distinct-value-counts) est de parcourir les \u00e9lements du stream et de remplir un ensemble $B$ par \u00e9chantillonage. La probabilit\u00e9 d'\u00e9chantillonage initiale est $1$ et lorsque $B$ devient trop grand (au del\u00e0 d'un certain seuil $B_{max}$) on enl\u00e8ve des \u00e9lements et on diminue la probabilit\u00e9 d'\u00e9chantillonage. A la fin le nombre d'\u00e9l\u00e9ments dans $B$ et la probabilit\u00e9 d'\u00e9chantillonage finale permettent d'estimer le nombre d'\u00e9l\u00e9ments distincts dans $U$.\n",
        "\n",
        "Pour $\\epsilon >0$ nous prenons $B_{max} = 1/ \\epsilon^2$ :"
      ]
    },
    {
      "cell_type": "code",
      "execution_count": null,
      "metadata": {
        "collapsed": false
      },
      "outputs": [],
      "source": [
        "# definissons un ensemble B\n",
        "B = set()\n",
        "epsilon = 0.025\n",
        "B_max = 1 / epsilon**2"
      ]
    },
    {
      "cell_type": "markdown",
      "metadata": {
        "deletable": true,
        "editable": true
      },
      "source": [
        "Choisissons $p$ un nombre premier arbitrairement grand:"
      ]
    },
    {
      "cell_type": "code",
      "execution_count": null,
      "metadata": {
        "collapsed": true,
        "deletable": true,
        "editable": true
      },
      "outputs": [],
      "source": [
        "p = 4294967291"
      ]
    },
    {
      "cell_type": "markdown",
      "metadata": {
        "deletable": true,
        "editable": true
      },
      "source": [
        "et tirons al\u00e9atoirement deux fonctions $h_{a_1, b_1}$ et $h_{a_2, b_2}$ distinctes:"
      ]
    },
    {
      "cell_type": "code",
      "execution_count": null,
      "metadata": {
        "collapsed": false,
        "deletable": true,
        "editable": true
      },
      "outputs": [],
      "source": [
        "import random\n",
        "# deux couples (a_1, b_1) (a_1, b_2) distincts\n",
        "a1, a2 = random.sample(range(1, p), 2)\n",
        "b1, b2 = random.sample(range(0, p), 2)\n",
        "\n",
        "def h1(x):\n",
        "    return ((a1*x + b1) % p) % n\n",
        "\n",
        "def h2(x):\n",
        "    return ((a2*x + b2) % p) % n"
      ]
    },
    {
      "cell_type": "markdown",
      "metadata": {
        "collapsed": true,
        "deletable": true,
        "editable": true
      },
      "source": [
        "Initialisons un entier $c$ \u00e0 zero. Pour chaque $x$ dans le stream nous calculons d'abord sa valeur de hachage $y = h_{a_1, b_1}(x)$ :"
      ]
    },
    {
      "cell_type": "code",
      "execution_count": null,
      "metadata": {
        "collapsed": false
      },
      "outputs": [
        {
          "name": "stdout",
          "output_type": "stream",
          "text": [
            "x = 0, y = 3340\n"
          ]
        }
      ],
      "source": [
        "c = 0\n",
        "# Prenons le premier \u00e9l\u00e9ment du stream (\u00e0 titre d'exemple)\n",
        "x = stream[0]\n",
        "y = h1(x)\n",
        "print('x = {}, y = {}'.format(x, y))"
      ]
    },
    {
      "cell_type": "markdown",
      "metadata": {},
      "source": [
        "La probabilit\u00e9 d'\u00e9chantillonage est bas\u00e9e sur le nombre de z\u00e9ros \u00e0 droite dans la d\u00e9composition binaire de $y$. Pour calculer ce nombre diverses m\u00e9thodes existent (voir [ici](http://graphics.stanford.edu/~seander/bithacks.html#ZerosOnRightModLookup) pour plus de d\u00e9tails). Pour $s= 2^1$ et $s = 2^{10}$ la d\u00e9composition binaire comporte $1$ et $10$ z\u00e9ros \u00e0 droite respectivement:"
      ]
    },
    {
      "cell_type": "code",
      "execution_count": null,
      "metadata": {
        "collapsed": false
      },
      "outputs": [
        {
          "name": "stdout",
          "output_type": "stream",
          "text": [
            "Decomposition binaire de 2**1 = 0b10, nombre de zeros a droite = 1\n",
            "Decomposition binaire de 2**10 = 0b10000000000, nombre de zeros a droite = 10\n"
          ]
        }
      ],
      "source": [
        "mod_37bit_position = (32, 0, 1, 26, 2, 23, 27, 0, 3, 16, 24, 30, 28, 11, 0, 13, 4,\n",
        "  7, 17, 0, 25, 22, 31, 15, 29, 10, 12, 6, 0, 21, 14, 9, 5,\n",
        "  20, 8, 19, 18)\n",
        "\n",
        "# Un seul z\u00e9ro \u00e0 droite\n",
        "s = 2**1\n",
        "zeros = mod_37bit_position[(-s & s) % 37]\n",
        "print('Decomposition binaire de 2**1 = {}, nombre de zeros a droite = {}'.format(bin(s), zeros))\n",
        "\n",
        "# Dix z\u00e9ros \u00e0 droite\n",
        "s = 2**10\n",
        "zeros = mod_37bit_position[(-s & s) % 37]\n",
        "print('Decomposition binaire de 2**10 = {}, nombre de zeros a droite = {}'.format(bin(s), zeros))"
      ]
    },
    {
      "cell_type": "markdown",
      "metadata": {},
      "source": [
        "Notons $k$ le nombre de z\u00e9ros \u00e0 droite dans la d\u00e9composition binaire de $y$."
      ]
    },
    {
      "cell_type": "code",
      "execution_count": null,
      "metadata": {
        "collapsed": false,
        "scrolled": true
      },
      "outputs": [
        {
          "name": "stdout",
          "output_type": "stream",
          "text": [
            "Decomposition binaire de y = 0b110100001100, nombre de zeros a droite = 2\n"
          ]
        }
      ],
      "source": [
        "k = mod_37bit_position[(-y & y) % 37]\n",
        "print('Decomposition binaire de y = {}, nombre de zeros a droite = {}'.format(bin(y), k))"
      ]
    },
    {
      "cell_type": "markdown",
      "metadata": {},
      "source": [
        "Puis nous comparons $k \\geq c$. Si c'est le cas nous calculons une nouvelle valeur de hashage de $x$, $z = h_{a_2, b_2}(x)$ et rajoutons le couple $(z, k)$ \u00e0 l'ensemble $B$."
      ]
    },
    {
      "cell_type": "code",
      "execution_count": null,
      "metadata": {
        "collapsed": true
      },
      "outputs": [],
      "source": [
        "if (k >= c):\n",
        "    z = h2(x)\n",
        "    B.add((z, k))"
      ]
    },
    {
      "cell_type": "markdown",
      "metadata": {},
      "source": [
        "A l'initialisation la condition $k \\geq c$ est toujours v\u00e9rifi\u00e9e (ce qui correspond \u00e0 une probabilit\u00e9 d'\u00e9chantillonage \u00e9gale \u00e0 $1$) :"
      ]
    },
    {
      "cell_type": "code",
      "execution_count": null,
      "metadata": {
        "collapsed": false
      },
      "outputs": [
        {
          "data": {
            "text/plain": [
              "{(3753, 2)}"
            ]
          },
          "execution_count": null,
          "metadata": {},
          "output_type": "execute_result"
        }
      ],
      "source": [
        "B"
      ]
    },
    {
      "cell_type": "markdown",
      "metadata": {},
      "source": [
        "L'ensemble $B$ se remplit jusqu'\u00e0 atteindre la taille $B_{max}$. Lorsque cette taille est atteinte on incr\u00e9mente $c$ et on enl\u00e8ve \u00e0 $B$ tous les couples $(z, k)$ o\u00f9 $k < c$."
      ]
    },
    {
      "cell_type": "code",
      "execution_count": null,
      "metadata": {
        "collapsed": false
      },
      "outputs": [],
      "source": [
        "while (len(B) >= B_max):\n",
        "    c += 1\n",
        "    # on prend ici une copie de B\n",
        "    for z, k in B.copy():\n",
        "        if (k < c):\n",
        "            B.remove((z, k))   "
      ]
    },
    {
      "cell_type": "markdown",
      "metadata": {},
      "source": [
        "Parcourons le stream et regardons \u00e0 quoi ressemble l'ensemble $B$:"
      ]
    },
    {
      "cell_type": "code",
      "execution_count": null,
      "metadata": {
        "collapsed": false
      },
      "outputs": [],
      "source": [
        "for x in stream:\n",
        "    y = h1(x)\n",
        "    k = mod_37bit_position[(-y & y) % 37]\n",
        "    if (k >= c):\n",
        "        z = h2(x)\n",
        "        B.add((z, k))\n",
        "        while (len(B) >= B_max):\n",
        "            c += 1\n",
        "            for z, k in B.copy():\n",
        "                if (k < c):\n",
        "                    B.remove((z, k)) "
      ]
    },
    {
      "cell_type": "code",
      "execution_count": null,
      "metadata": {
        "collapsed": false
      },
      "outputs": [
        {
          "name": "stdout",
          "output_type": "stream",
          "text": [
            "Taille de B = 976, c = 3\n"
          ]
        }
      ],
      "source": [
        "print('Taille de B = {}, c = {}'.format(len(B), c))"
      ]
    },
    {
      "cell_type": "markdown",
      "metadata": {},
      "source": [
        "Une estimateur de la taille de l'univers est alors $2^c \\mathrm{card}(B)$ :"
      ]
    },
    {
      "cell_type": "code",
      "execution_count": null,
      "metadata": {
        "collapsed": false
      },
      "outputs": [
        {
          "name": "stdout",
          "output_type": "stream",
          "text": [
            "Estimation de la taille de U = 7808\n"
          ]
        }
      ],
      "source": [
        "print('Estimation de la taille de U = {}'.format(2**c * len(B)))"
      ]
    },
    {
      "cell_type": "markdown",
      "metadata": {},
      "source": [
        "Pour s'en convaincre, remarquons qu'en moyenne le cardinal de $B$ est \u00e9gal au nombre de $y_i$ pour lequel le nombre de z\u00e9ros \u00e0 droite dans la d\u00e9composition binaire est plus grand que $c$. Ceci correspond au nombre de $y_i$ qui sont divisibles par $2^c$ :\n",
        "\n",
        "$$\\mathbb{E}[\\mathrm{card}(B)] = \\mathbb{E}\\big[\\sum_{x_i} I(y_i = 0 \\space{} \\mathrm{mod} \\space{} 2^c)\\big] = \\sum_{x_i} \\mathbb{P}\\big( y_i = 0 \\space{} \\mathrm{mod} \\space{} 2^c\\big)$$\n",
        "\n",
        "C'est ici qu'intervient la notion de famille universelle car cette derniere \u00e9galit\u00e9 n'est valide que si le nombre de collision entre $y$ et $z$ est faible lors du hachage de $x$ par $h_{a_1, b_1}$ et $h_{a_2, b_2}$. En effet, si le nombre de collisions \u00e9tait trop grand la taille de $B$ sous-estimerait le nombre d'\u00e9l\u00e9ments distincts.\n",
        "\n",
        "La probabilit\u00e9 $\\mathbb{P}\\big( y_i = 0 \\space{} \\mathrm{mod} \\space{} 2^c\\big)$ \u00e9tant \u00e9gale \u00e0 $1 / 2^c$ si $y_i$ est distribu\u00e9 uniform\u00e9ment (l'\u00e9crire pour s'en convaincre) nous obtenons :\n",
        "\n",
        "$$ \\mathbb{E}[\\mathrm{card}(B)] = \\frac{n}{2^c}.$$"
      ]
    },
    {
      "cell_type": "markdown",
      "metadata": {},
      "source": [
        "### R\u00e9sultats num\u00e9riques\n",
        "\n",
        "Regroupons le code dans une fonction"
      ]
    },
    {
      "cell_type": "code",
      "execution_count": null,
      "metadata": {
        "collapsed": false
      },
      "outputs": [],
      "source": [
        "def BJKST(stream, epsilon):\n",
        "    a1, a2 = random.sample(range(1, p), 2)\n",
        "    b1, b2 = random.sample(range(0, p), 2)\n",
        "    def h1(x):\n",
        "        return ((a1*x + b1) % p) % n\n",
        "    def h2(x):\n",
        "        return ((a2*x + b2) % p) % n\n",
        "    c = 0\n",
        "    B = set()\n",
        "    B_max = 1.0 / epsilon**2\n",
        "    for x in stream:\n",
        "        y = h1(x)\n",
        "        k = mod_37bit_position[(-y & y) % 37]\n",
        "        if (k >= c):\n",
        "            z = h2(x)\n",
        "            B.add((z, k))\n",
        "            while (len(B) >= B_max):\n",
        "                c += 1\n",
        "                for z, k in B.copy():\n",
        "                    if (k < c):\n",
        "                        B.remove((z, k))             \n",
        "    return 2**c*len(B)"
      ]
    },
    {
      "cell_type": "markdown",
      "metadata": {},
      "source": [
        "En pratique une estimation fiable du nombre d'\u00e9l\u00e9ments distincts requiert de g\u00e9n\u00e9rer $m$ calculs ind\u00e9pendants de l'algorithme et de prendre la m\u00e9diane. Regardons comment la qualit\u00e9 de l'estimation \u00e9volue en fonction de la pr\u00e9cision $\\epsilon$ exig\u00e9e :"
      ]
    },
    {
      "cell_type": "code",
      "execution_count": null,
      "metadata": {
        "collapsed": false
      },
      "outputs": [],
      "source": [
        "import numpy as np\n",
        "m = 100\n",
        "epsilons = np.array([0.1, 0.09, 0.08, 0.07, 0.06, 0.05, 0.04, 0.03, 0.02, 0.01])\n",
        "medians = np.array([np.median([BJKST(stream, eps) for _ in range(m)]) for eps in epsilons])"
      ]
    },
    {
      "cell_type": "code",
      "execution_count": null,
      "metadata": {
        "collapsed": false
      },
      "outputs": [
        {
          "data": {
            "text/plain": [
              "<matplotlib.text.Text at 0x23d01933d30>"
            ]
          },
          "execution_count": null,
          "metadata": {},
          "output_type": "execute_result"
        },
        {
          "data": {
            "image/png": "[encoded data removed]",
            "text/plain": [
              "<matplotlib.figure.Figure at 0x23d01843ba8>"
            ]
          },
          "metadata": {},
          "output_type": "display_data"
        }
      ],
      "source": [
        "import matplotlib.pyplot as plt\n",
        "\n",
        "plt.plot(1.0 / epsilons, medians)\n",
        "plt.axhline(y=n, color='r', linestyle='--')\n",
        "plt.title(r'Mediane en fonction de $1 / \\epsilon$,  m = {}'.format(m))\n",
        "plt.xlabel(r'$1 / \\epsilon$')\n",
        "plt.ylabel('Mediane')"
      ]
    },
    {
      "cell_type": "markdown",
      "metadata": {},
      "source": [
        "La fiabilit\u00e9 de l'estimation est d\u00e9croissante avec le niveau de pr\u00e9cision exig\u00e9, l'algorithme donne une bonne estimation de la vraie valeur (ligne horizontale rouge) pour $\\epsilon \\approx 0.3$."
      ]
    },
    {
      "cell_type": "markdown",
      "metadata": {},
      "source": [
        "### Temps de calcul en fonction de la taille du stream\n",
        "\n",
        "Regardons \u00e0 pr\u00e9sent comment le temps de calcul \u00e9volue en fonction de la taille du stream. Rappelons qu'un bon algorithme de streaming doit \u00e9voluer de mani\u00e8re au pire lin\u00e9aire en fonction de la taille d'espace $n$."
      ]
    },
    {
      "cell_type": "code",
      "execution_count": null,
      "metadata": {
        "collapsed": false
      },
      "outputs": [],
      "source": [
        "import math\n",
        "import time \n",
        "epsilon = 0.03\n",
        "size_bound = 15\n",
        "stream_sizes = [2**s for s in range(1, size_bound)]\n",
        "m = 100\n",
        "times = []\n",
        "for s in stream_sizes:\n",
        "    start = time.time()\n",
        "    BJKST(range(s), epsilon)\n",
        "    times.append(time.time() - start)"
      ]
    },
    {
      "cell_type": "code",
      "execution_count": null,
      "metadata": {
        "collapsed": false
      },
      "outputs": [
        {
          "data": {
            "text/plain": [
              "<matplotlib.text.Text at 0x23d02a573c8>"
            ]
          },
          "execution_count": null,
          "metadata": {},
          "output_type": "execute_result"
        },
        {
          "data": {
            "image/png": "[encoded data removed]",
            "text/plain": [
              "<matplotlib.figure.Figure at 0x23d02a31a58>"
            ]
          },
          "metadata": {},
          "output_type": "display_data"
        }
      ],
      "source": [
        "fix, ax = plt.subplots()\n",
        "plt.plot(stream_sizes, times)\n",
        "ax.set_title('Running time (in seconds) per stream size')"
      ]
    },
    {
      "cell_type": "markdown",
      "metadata": {},
      "source": [
        "La complexit\u00e9 semble \u00eatre lin\u00e9aire ce qui est satisfaisant. Notons qu'aucun effort d'optimisation de performance (\u00e0 part l'usage d'un <b>set</b>) n'a \u00e9t\u00e9 fait \u00e0 ce stade."
      ]
    }
  ],
  "metadata": {
    "kernelspec": {
      "display_name": "Python 3",
      "language": "python",
      "name": "python3"
    },
    "language_info": {
      "codemirror_mode": {
        "name": "ipython",
        "version": 3
      },
      "file_extension": ".py",
      "mimetype": "text/x-python",
      "name": "python",
      "nbconvert_exporter": "python",
      "pygments_lexer": "ipython3",
      "version": "3.5.2"
    }
  },
  "nbformat": 4,
  "nbformat_minor": 2
}