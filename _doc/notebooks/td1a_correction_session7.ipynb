{
 "metadata": {
  "name": "",
  "signature": "sha256:d82281bfb7ae5f9f7cd1c40a187481629b4ce6075ea5128de6b2aaaabe031a43"
 },
 "nbformat": 3,
 "nbformat_minor": 0,
 "worksheets": [
  {
   "cells": [
    {
     "cell_type": "heading",
     "level": 1,
     "metadata": {},
     "source": [
      "TD 7 : Programmation dynamique et plus court chemin (correction)"
     ]
    },
    {
     "cell_type": "markdown",
     "metadata": {},
     "source": [
      "Plan\n",
      "\n",
      "* [Exercice 1](#exo1)\n",
      "* [Exercice 2](#exo2)\n",
      "* [Exercice 3](#exo3)\n",
      "* [Exercice 4](#exo4)\n",
      "* [Exercice facultatif](#exof)\n",
      "* [Exercice 5](#exo5)\n",
      "* [Exercice 6](#exo6)\n",
      "* [Exercice 7](#exo7)\n",
      "* [Exercice 8](#exo8)"
     ]
    },
    {
     "cell_type": "code",
     "collapsed": false,
     "input": [
      "import pyensae\n",
      "pyensae.download_data(\"matrix_distance_7398.zip\", website  = \"xd\")\n",
      "import pandas\n",
      "df = pandas.read_csv(\"matrix_distance_7398.txt\", sep=\"\\t\")\n",
      "df.head()"
     ],
     "language": "python",
     "metadata": {},
     "outputs": [
      {
       "html": [
        "<div style=\"max-height:1000px;max-width:1500px;overflow:auto;\">\n",
        "<table border=\"1\" class=\"dataframe\">\n",
        "  <thead>\n",
        "    <tr style=\"text-align: right;\">\n",
        "      <th></th>\n",
        "      <th>Boulogne-Billancourt</th>\n",
        "      <th>Beauvais</th>\n",
        "      <th>85597</th>\n",
        "    </tr>\n",
        "  </thead>\n",
        "  <tbody>\n",
        "    <tr>\n",
        "      <th>0</th>\n",
        "      <td> Courbevoie</td>\n",
        "      <td>           Sevran</td>\n",
        "      <td>  26564</td>\n",
        "    </tr>\n",
        "    <tr>\n",
        "      <th>1</th>\n",
        "      <td>   Colombes</td>\n",
        "      <td>      Alfortville</td>\n",
        "      <td>  36843</td>\n",
        "    </tr>\n",
        "    <tr>\n",
        "      <th>2</th>\n",
        "      <td>    Bagneux</td>\n",
        "      <td> Marcq-En-Baroeul</td>\n",
        "      <td> 233455</td>\n",
        "    </tr>\n",
        "    <tr>\n",
        "      <th>3</th>\n",
        "      <td>   Suresnes</td>\n",
        "      <td>    Gennevilliers</td>\n",
        "      <td>  10443</td>\n",
        "    </tr>\n",
        "    <tr>\n",
        "      <th>4</th>\n",
        "      <td>       Lens</td>\n",
        "      <td>         Maubeuge</td>\n",
        "      <td>  93768</td>\n",
        "    </tr>\n",
        "  </tbody>\n",
        "</table>\n",
        "<p>5 rows \u00d7 3 columns</p>\n",
        "</div>"
       ],
       "metadata": {},
       "output_type": "pyout",
       "prompt_number": 1,
       "text": [
        "  Boulogne-Billancourt          Beauvais   85597\n",
        "0           Courbevoie            Sevran   26564\n",
        "1             Colombes       Alfortville   36843\n",
        "2              Bagneux  Marcq-En-Baroeul  233455\n",
        "3             Suresnes     Gennevilliers   10443\n",
        "4                 Lens          Maubeuge   93768\n",
        "\n",
        "[5 rows x 3 columns]"
       ]
      }
     ],
     "prompt_number": 1
    },
    {
     "cell_type": "markdown",
     "metadata": {},
     "source": [
      "<h3 id=\"exo1\"> Exercice 1</h3>"
     ]
    },
    {
     "cell_type": "code",
     "collapsed": false,
     "input": [
      "vil = { }\n",
      "for row in df.values :\n",
      "    vil [row[0]] = 0\n",
      "    vil [row[1]] = 1\n",
      "vil = list(vil.keys())\n",
      "print (len(vil))"
     ],
     "language": "python",
     "metadata": {},
     "outputs": [
      {
       "output_type": "stream",
       "stream": "stdout",
       "text": [
        "196\n"
       ]
      }
     ],
     "prompt_number": 2
    },
    {
     "cell_type": "markdown",
     "metadata": {},
     "source": [
      "<h3 id=\"exo2\">Exercice 2</h3>"
     ]
    },
    {
     "cell_type": "code",
     "collapsed": false,
     "input": [
      "dist = { }\n",
      "for row in df.values :\n",
      "    a = row[0]\n",
      "    b = row[1]\n",
      "    dist[a,b] = dist[b,a] = row[2]\n",
      "print (len(dist))\n",
      "print ( dist[\"Charleville-Mezieres\",\"Bordeaux\"] )  # elle n'existe pas encore"
     ],
     "language": "python",
     "metadata": {},
     "outputs": [
      {
       "output_type": "stream",
       "stream": "stdout",
       "text": [
        "7888\n"
       ]
      },
      {
       "ename": "KeyError",
       "evalue": "('Charleville-Mezieres', 'Bordeaux')",
       "output_type": "pyerr",
       "traceback": [
        "\u001b[1;31m---------------------------------------------------------------------------\u001b[0m\n\u001b[1;31mKeyError\u001b[0m                                  Traceback (most recent call last)",
        "\u001b[1;32m<ipython-input-7-10afb52f1810>\u001b[0m in \u001b[0;36m<module>\u001b[1;34m()\u001b[0m\n\u001b[0;32m      5\u001b[0m     \u001b[0mdist\u001b[0m\u001b[1;33m[\u001b[0m\u001b[0ma\u001b[0m\u001b[1;33m,\u001b[0m\u001b[0mb\u001b[0m\u001b[1;33m]\u001b[0m \u001b[1;33m=\u001b[0m \u001b[0mdist\u001b[0m\u001b[1;33m[\u001b[0m\u001b[0mb\u001b[0m\u001b[1;33m,\u001b[0m\u001b[0ma\u001b[0m\u001b[1;33m]\u001b[0m \u001b[1;33m=\u001b[0m \u001b[0mrow\u001b[0m\u001b[1;33m[\u001b[0m\u001b[1;36m2\u001b[0m\u001b[1;33m]\u001b[0m\u001b[1;33m\u001b[0m\u001b[0m\n\u001b[0;32m      6\u001b[0m \u001b[0mprint\u001b[0m \u001b[1;33m(\u001b[0m\u001b[0mlen\u001b[0m\u001b[1;33m(\u001b[0m\u001b[0mdist\u001b[0m\u001b[1;33m)\u001b[0m\u001b[1;33m)\u001b[0m\u001b[1;33m\u001b[0m\u001b[0m\n\u001b[1;32m----> 7\u001b[1;33m \u001b[0mprint\u001b[0m \u001b[1;33m(\u001b[0m \u001b[0mdist\u001b[0m\u001b[1;33m[\u001b[0m\u001b[1;34m\"Charleville-Mezieres\"\u001b[0m\u001b[1;33m,\u001b[0m\u001b[1;34m\"Bordeaux\"\u001b[0m\u001b[1;33m]\u001b[0m \u001b[1;33m)\u001b[0m\u001b[1;33m\u001b[0m\u001b[0m\n\u001b[0m",
        "\u001b[1;31mKeyError\u001b[0m: ('Charleville-Mezieres', 'Bordeaux')"
       ]
      }
     ],
     "prompt_number": 7
    },
    {
     "cell_type": "markdown",
     "metadata": {},
     "source": [
      "<h3 id=\"exo3\">Exercice 3</h3>\n",
      "\n",
      "On peut remplir facilement toutes les cases correspondant aux villes reli\u00e9es \u00e0 Charleville-Mezieres."
     ]
    },
    {
     "cell_type": "code",
     "collapsed": false,
     "input": [
      "d = { }\n",
      "d['Charleville-Mezieres'] = 0\n",
      "for v in vil : d[v] = 1e10\n",
      "for v,w in dist :\n",
      "    if v == 'Charleville-Mezieres': \n",
      "        d[w] = dist[v,w]\n",
      "print(len(d))        "
     ],
     "language": "python",
     "metadata": {},
     "outputs": [
      {
       "output_type": "stream",
       "stream": "stdout",
       "text": [
        "196\n"
       ]
      }
     ],
     "prompt_number": 14
    },
    {
     "cell_type": "markdown",
     "metadata": {},
     "source": [
      "<h3 id=\"exo4\">Exercice 4</h3>\n",
      "\n",
      "Si on d\u00e9couvre que $d[w] > d[v] + dist[w,v]$, cela veut dire qu'il faut mettre \u00e0 jour le tableau $d$ car il ne contient pas la distance optimale. On r\u00e9p\u00e8te cela pour toutes les paires $(v,w)$."
     ]
    },
    {
     "cell_type": "code",
     "collapsed": false,
     "input": [
      "for v,w in dist :\n",
      "    d2 = d[v] + dist[v,w]\n",
      "    if d2 < d[w] :\n",
      "        d[w] = d2\n",
      "print ( d[\"Bordeaux\"] )        "
     ],
     "language": "python",
     "metadata": {},
     "outputs": [
      {
       "output_type": "stream",
       "stream": "stdout",
       "text": [
        "813197\n"
       ]
      }
     ],
     "prompt_number": 15
    },
    {
     "cell_type": "markdown",
     "metadata": {},
     "source": [
      "On trouve 813197 m\u00e8tres pour la distance (Charleville-Mezieres, Bordeaux). Ce n'est pas forc\u00e9ment la meilleure. Pour \u00eatre s\u00fbr, il faut r\u00e9p\u00e9ter la m\u00eame it\u00e9ration autant de fois qu'il y a de villes (car le plus long chemin contient autant d'\u00e9tapes qu'il y a de villes). "
     ]
    },
    {
     "cell_type": "code",
     "collapsed": false,
     "input": [
      "for i in range(0,len(d)) :        \n",
      "    for v,w in dist :\n",
      "        d2 = d[v] + dist[v,w]\n",
      "        if d2 < d[w] :\n",
      "            d[w] = d2\n",
      "print ( d[\"Bordeaux\"] )             "
     ],
     "language": "python",
     "metadata": {},
     "outputs": [
      {
       "output_type": "stream",
       "stream": "stdout",
       "text": [
        "795670\n"
       ]
      }
     ],
     "prompt_number": 16
    },
    {
     "cell_type": "markdown",
     "metadata": {},
     "source": [
      "<h3 id=\"exof\">Exercice facultatif</h3>\n",
      "\n",
      "Pour montrer que l'algorithme sugg\u00e9r\u00e9 permettra d'obtenir la solution optimale, il faut montrer qu'il n'est pas n\u00e9cessaire d'envisager aucun autre ordre que celui des skieurs et des paires tri\u00e9s par taille croissante. On consid\u00e8re donc un appariement $\\sigma$ qui associ\u00e9 le skieur $t_i$ \u00e0 la paire $s_{\\sigma(i)}$. Il suffit que montrer que :\n",
      "\n",
      "$$\\forall i,j,  \\; t_i \\leqslant t_j \\Longleftrightarrow s_{\\sigma(i)} \\leqslant s_{\\sigma(j)}$$\n",
      "\n",
      "Pour montrer cela, on fait un raisonnement par l'absurde : pour $i$ et $j$ quelconques, on suppose qu'il existe un appariement optimal tel que  $t_i >  t_j$ et $s_{\\sigma(i)} \\leqslant s_{\\sigma(j)}$. Le co\u00fbt $C(\\sigma)$ de cet appariement est :\n",
      "\n",
      "$$ C(\\sigma) = \\sum_{k=1}^{N} \\left| t_k - s_{\\sigma(k)} \\right| = \\alpha + \\left| t_i - s_{\\sigma(i)} \\right| + \\left| t_j - s_{\\sigma(j)} \\right| $$\n",
      "\n",
      "Le co\u00fbt de l'appariement en permutant les skieurs $i$ et $j$ (donc en les rangeant dans l'ordre croissant) est :\n",
      "\n",
      "$$ C(\\sigma') = \\sum_{k=1}^{N} \\left| t_k - s_{\\sigma(k)} \\right| = \\alpha + \\left| t_j - s_{\\sigma(i)} \\right| + \\left| t_i - s_{\\sigma(j)} \\right| $$\n",
      "\n",
      "On calcule :\n",
      "\n",
      "$$ C(\\sigma) - C(\\sigma') = \\left| t_i - s_{\\sigma(i)} \\right| + \\left| t_j - s_{\\sigma(j)} \\right|  - \\left| t_j - s_{\\sigma(i)} \\right| - \\left| t_i - s_{\\sigma(j)} \\right| $$"
     ]
    },
    {
     "cell_type": "markdown",
     "metadata": {},
     "source": [
      "Premier cas : $t_j \\geqslant s_{\\sigma(i)} $ et $t_i > t_j \\geqslant s_{\\sigma(i)}$\n",
      "\n",
      "$$ \\begin{array}{rcl} C(\\sigma) - C(\\sigma') &=& \\left| t_i - s_{\\sigma(i)} \\right| + \\left| t_j - s_{\\sigma(j)} \\right|  - \\left(  t_j - s_{\\sigma(j)} + s_{\\sigma(j)} - s_{\\sigma(i)} \\right) - \\left| t_i - s_{\\sigma(j)} \\right| \\\\ &=&  t_i - s_{\\sigma(i)}  + \\left| t_j - s_{\\sigma(j)} \\right|  - \\left(  t_j - s_{\\sigma(j)} \\right) - \\left( s_{\\sigma(j)} - s_{\\sigma(i)} \\right) - \\left| t_i - s_{\\sigma(j)} \\right| \\\\ &=&  t_i - s_{\\sigma(i)}- \\left| t_i - s_{\\sigma(i)} \\right|  + \\left| t_j - s_{\\sigma(j)} \\right|  - \\left(  t_j - s_{\\sigma(j)} \\right) \\\\ &=&  \\left| t_j - s_{\\sigma(j)} \\right|  - \\left(  t_j - s_{\\sigma(j)} \\right|) \\\\  &\\geqslant& 0 \\end{array} $$"
     ]
    },
    {
     "cell_type": "markdown",
     "metadata": {},
     "source": [
      "Second cas : $t_j \\leqslant s_{\\sigma(i)} $ et $t_j \\leqslant s_{\\sigma(i)} \\leqslant s_{\\sigma(j)}$\n",
      "\n",
      "$$\\begin{array}{rcl} C(\\sigma) - C(\\sigma') &=& \\left| t_i - s_{\\sigma(i)} \\right| + s_{\\sigma(j)} -t_j  - \\left(  s_{\\sigma(i)} - t_j\\right) - \\left| t_i - s_{\\sigma(j)} \\right| \\\\ &=& \\left| t_i - s_{\\sigma(i)} \\right| + s_{\\sigma(j)} -  s_{\\sigma(i)} - \\left| t_i - s_{\\sigma(j)} \\right| \\\\ &\\geqslant& \\left| t_i - s_{\\sigma(j)}\\right| - \\left|  s_{\\sigma(j)} -  s_{\\sigma(i)} \\right| + s_{\\sigma(j)} -  s_{\\sigma(i)} - \\left| t_i - s_{\\sigma(j)} \\right| \\\\ &\\geqslant& 0 \\end{array}$$\n",
      "\n",
      "Dans les deux cas, on montre donc qu'il existe un meilleur appariement global en permutant les deux skieurs $i$ et $j$, c'est-\u00e0-dire en les triant par ordre croissant de taille. Nous avons donc montr\u00e9 que, si les paires de ski sont tri\u00e9es par ordre croissant de taille, l'appariement optimal est n\u00e9cessaire un appariement pour lequel les skieurs sont aussi tri\u00e9s par ordre croissant. Lors de la recherche de cet appariement optimal, on peut se restreindre \u00e0 ces cas de figure."
     ]
    },
    {
     "cell_type": "markdown",
     "metadata": {},
     "source": [
      "<h3 id=\"exo5\">Exercice 5</h3>\n",
      "\n",
      "$$\n",
      "p(n,m) = \\min \\left\\{  p(n-1,m-1) + \\left| t_n - s_m \\right|, p(n,m-1) \\right\\}\n",
      "$$\n",
      "\n",
      "Lorsqu'on consid\u00e8re le meilleur appariement des paires $1..m$ et des skieurs $1..n$, il n'y a que deux choix possibles pour la paire $m$ :\n",
      "\n",
      "- soit elle n'est associ\u00e9e \u00e0 aucun skieur et dans ce cas : $p(n,m) = p(n,m-1)$,\n",
      "- soit elle est associ\u00e9e au skieur $n$ (et \u00e0 aucun autre) : $p(n,m) = p(n-1,m-1) + \\left| t_n - s_m \\right|$."
     ]
    },
    {
     "cell_type": "markdown",
     "metadata": {},
     "source": [
      "<h3 id=\"exo6\">Exercice 6</h3>"
     ]
    },
    {
     "cell_type": "code",
     "collapsed": false,
     "input": [
      "import random\n",
      "skieurs = [ random.gauss(1.75, 0.1) for i in range(0,10) ]\n",
      "paires  = [ random.gauss(1.75, 0.1) for i in range(0,15) ]\n",
      "skieurs.sort()\n",
      "paires.sort()\n",
      "\n",
      "p = { }\n",
      "p [-1,-1] = 0\n",
      "for n,taille in enumerate(skieurs) : p[n,-1] = p[n-1,-1] + taille\n",
      "for m,paire  in enumerate(paires ) : p[-1,m] = 0\n",
      "for n,taille in enumerate(skieurs) :\n",
      "    for m,paire in enumerate(paires) :\n",
      "        p1 = p.get ( (n  ,m-1), 1e10 ) \n",
      "        p2 = p.get ( (n-1,m-1), 1e10 ) + abs(taille - paire)\n",
      "        p[n,m] = min(p1,p2)\n",
      "        \n",
      "print (p[len(skieurs)-1,len(paires)-1])"
     ],
     "language": "python",
     "metadata": {},
     "outputs": [
      {
       "output_type": "stream",
       "stream": "stdout",
       "text": [
        "0.19573001943098167\n"
       ]
      }
     ],
     "prompt_number": 18
    },
    {
     "cell_type": "markdown",
     "metadata": {},
     "source": [
      "<h3 id=\"exo7\">Exercice 7</h3>\n",
      "\n",
      "Il faut imaginer que $p$ peut \u00eatre repr\u00e9sent\u00e9 sous forme de matrice et qu'\u00e0 chaque fois, on prend le meilleur chemin parmi 2 :\n",
      "\n",
      "$$\n",
      "xymatrix...\n",
      "$$\n",
      "\n",
      "``\\usepackage[all]{xy}``\n",
      "``\\xymatrix{  & m-1  & m \\\\``\n",
      "`` n-1   &  p(n-1,m-1) \\ar[dr]^{ + \\left|t_n - s_m} \\right| &  p(n-1,m) \\\\``\n",
      "`` n     &  p(n,m-1)   \\ar[r] & p(n,m) \\\\``\n",
      "``           }``\n",
      "\n",
      "\n",
      "- Chemin horizontal : on ne choisit pas la paire $m$.\n",
      "- Chemin diagonal : on choisit la paire $m$ pour le skieur $n$.\n",
      "\n",
      "Pour retrouver la distribution, il suffit de conserver \u00e0 chaque \u00e9tape le meilleur des deux chemins."
     ]
    },
    {
     "cell_type": "code",
     "collapsed": false,
     "input": [
      "p = { }\n",
      "p [-1,-1] = 0\n",
      "best = { }\n",
      "for n,taille in enumerate(skieurs) : p[n,-1] = p[n-1,-1] + taille\n",
      "for m,paire  in enumerate(paires ) : p[-1,m] = 0\n",
      "for n,taille in enumerate(skieurs) :\n",
      "    for m,paire in enumerate(paires) :\n",
      "        p1 = p.get ( (n  ,m-1), 1e10 ) \n",
      "        p2 = p.get ( (n-1,m-1), 1e10 ) + abs(taille - paire)\n",
      "        p[n,m] = min(p1,p2)\n",
      "        \n",
      "        if p[n,m] == p1 : best [n,m] = n,m-1\n",
      "        else : best [n,m] = n-1,m-1\n",
      "        \n",
      "print (p[len(skieurs)-1,len(paires)-1])\n",
      "\n",
      "chemin = [ ]\n",
      "pos = len(skieurs)-1,len(paires)-1\n",
      "while pos in best :\n",
      "    print (pos)\n",
      "    chemin.append(pos)\n",
      "    pos = best[pos]\n",
      "chemin.reverse()\n",
      "print (chemin)"
     ],
     "language": "python",
     "metadata": {},
     "outputs": [
      {
       "output_type": "stream",
       "stream": "stdout",
       "text": [
        "0.19573001943098167\n",
        "(9, 14)\n",
        "(9, 13)\n",
        "(9, 12)\n",
        "(9, 11)\n",
        "(8, 10)\n",
        "(7, 9)\n",
        "(6, 8)\n",
        "(5, 7)\n",
        "(4, 6)\n",
        "(4, 5)\n",
        "(3, 4)\n",
        "(2, 3)\n",
        "(1, 2)\n",
        "(0, 1)\n",
        "[(0, 1), (1, 2), (2, 3), (3, 4), (4, 5), (4, 6), (5, 7), (6, 8), (7, 9), (8, 10), (9, 11), (9, 12), (9, 13), (9, 14)]\n"
       ]
      }
     ],
     "prompt_number": 19
    },
    {
     "cell_type": "markdown",
     "metadata": {},
     "source": [
      "<h3 id=\"exo8\">Exercice 8</h3>\n",
      "\n",
      "Les deux algorithmes ont un co\u00fbt quadratique."
     ]
    }
   ],
   "metadata": {}
  }
 ]
}