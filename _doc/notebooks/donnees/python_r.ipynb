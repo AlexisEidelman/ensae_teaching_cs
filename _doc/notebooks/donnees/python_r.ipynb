{
 "metadata": {
  "name": "",
  "signature": "sha256:ad1c767cb0c42510218c81ff3840eb2683b6c1764a41299eaf4d3f7a506396cd"
 },
 "nbformat": 3,
 "nbformat_minor": 0,
 "worksheets": [
  {
   "cells": [
    {
     "cell_type": "heading",
     "level": 1,
     "metadata": {},
     "source": [
      "R et notebooks"
     ]
    },
    {
     "cell_type": "markdown",
     "metadata": {},
     "source": [
      "Ce notebook utilise les outils pr\u00e9sent\u00e9s ici : [rmagic](http://ipython.org/ipython-doc/dev/config/extensions/rmagic.html). Tout d'abord un petit pr\u00e9liminaire aga\u00e7ant sur Windows. Lorsqu'on ex\u00e9cute l'instruction ``%load_ext rpy2.ipython`` ou ``import win32api``, on obtient parfois l'exception ``ImportError: DLL load failed: Le module sp\u00e9cifi\u00e9 est introuvable.`` Ceci explique la pr\u00e9sence des deux premi\u00e8res lignes du code qui suit."
     ]
    },
    {
     "cell_type": "code",
     "collapsed": false,
     "input": [
      "from pyquickhelper.helpgen.utils_pywin32 import import_pywin32\n",
      "import_pywin32()\n",
      "%load_ext rpy2.ipython  "
     ],
     "language": "python",
     "metadata": {},
     "outputs": [],
     "prompt_number": 5
    },
    {
     "cell_type": "markdown",
     "metadata": {},
     "source": [
      "**Important :** sous Windows, le module [rpy2](http://rpy.sourceforge.net/rpy2/doc-2.4/html/index.html) est habituellement install\u00e9 avec un setup (voir [setup pour rpy2](http://www.lfd.uci.edu/~gohlke/pythonlibs/#rpy2)). Il est compil\u00e9 pour une version sp\u00e9cifique de Python et une version sp\u00e9cifique de R qui doit \u00eatre install\u00e9e. Des erreurs se produisent si les versions ne correspondent pas.\n",
      "\n",
      "On cherche \u00e0 ex\u00e9cuter le code propos\u00e9 ici : [Convolution(s) et lois compos\u00e9es, aspects num\u00e9riques](http://freakonometrics.hypotheses.org/1813) qui requiert la librairie [actuar](http://cran.r-project.org/web/packages/actuar/index.html) qu'il faut installer si cela n'a pas \u00e9t\u00e9 fait."
     ]
    },
    {
     "cell_type": "code",
     "collapsed": false,
     "input": [
      "%%R\n",
      "install.packages(\"actuar\")"
     ],
     "language": "python",
     "metadata": {},
     "outputs": [],
     "prompt_number": 21
    },
    {
     "cell_type": "markdown",
     "metadata": {},
     "source": [
      "Puis le programme :"
     ]
    },
    {
     "cell_type": "code",
     "collapsed": false,
     "input": [
      "%%R -o fx,x\n",
      "library(\"actuar\")\n",
      "fx <- c(0, 0.15, 0.2, 0.25, 0.125, 0.075, 0.05, 0.05, 0.05, 0.025, 0.025)\n",
      "pn <- c(0.05, 0.1, 0.15, 0.2, 0.25, 0.15, 0.06, 0.03, 0.01)\n",
      "Fs <- aggregateDist(\"convolution\", model.freq = pn, model.sev = fx, x.scale = 25)\n",
      "x <- c(Fs(0), diff(Fs(25 * 0:21)))\n",
      "print(summary(fx))\n",
      "plot(Fs)"
     ],
     "language": "python",
     "metadata": {},
     "outputs": [
      {
       "metadata": {},
       "output_type": "display_data",
       "png": "[encoded data removed]"
      }
     ],
     "prompt_number": 22
    },
    {
     "cell_type": "markdown",
     "metadata": {},
     "source": [
      "On peut extraire la variable ``x`` :"
     ]
    },
    {
     "cell_type": "code",
     "collapsed": false,
     "input": [
      "%Rget x"
     ],
     "language": "python",
     "metadata": {},
     "outputs": [
      {
       "metadata": {},
       "output_type": "pyout",
       "prompt_number": 25,
       "text": [
        "<FloatVector - Python:0x0628C2B0 / R:0x08C4FCA8>\n",
        "[0.050000, 0.015000, 0.023375, ..., 0.031968, 0.028324, 0.024788]"
       ]
      }
     ],
     "prompt_number": 25
    },
    {
     "cell_type": "markdown",
     "metadata": {},
     "source": [
      "Quelques notebooks \u00e0 lire pour aller plus loin :\n",
      "* [Example of using ggplot2 from IPython notebook](http://nbviewer.ipython.org/gist/yoavram/5280132)\n",
      "* [Rmagic Functions Extension](http://nbviewer.ipython.org/github/ipython/ipython/blob/3607712653c66d63e0d7f13f073bde8c0f209ba8/docs/examples/notebooks/rmagic_extension.ipynb)"
     ]
    }
   ],
   "metadata": {}
  }
 ]
}