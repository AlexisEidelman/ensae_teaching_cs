{
 "metadata": {
  "name": "",
  "signature": "sha256:f26cef99baf44619fec079e0ab4cf477df8076030f45e1a0bb0ff1d5288ddfa6"
 },
 "nbformat": 3,
 "nbformat_minor": 0,
 "worksheets": [
  {
   "cells": [
    {
     "cell_type": "heading",
     "level": 1,
     "metadata": {},
     "source": [
      "Parcourir les rues de Paris"
     ]
    },
    {
     "cell_type": "markdown",
     "metadata": {},
     "source": [
      "Cette id\u00e9e vient d'une soir\u00e9e Google Code initi\u00e9e par Google et \u00e0 laquelle des \u00e9l\u00e8ves de l'ENSAE ont particip\u00e9. On dispose de la description des rues de Paris (qu'on consid\u00e8rera comme des lignes droites). On veut d\u00e9terminer le trajet de huit voitures de telle sorte qu'elles parcourent la ville le plus rapidement possible. On supposera deux cas :\n",
      "\n",
      "- Les voitures peuvent \u00eatre plac\u00e9es n'importe o\u00f9 dans la ville.\n",
      "- Les voitures d\u00e9marrent de reviennent au m\u00eame point de d\u00e9part, le m\u00eame pour toutes.\n",
      "\n",
      "Ce notebook d\u00e9crit comment r\u00e9cup\u00e9rer les donn\u00e9es et propose une solution.\n",
      "\n",
      "Plan :\n",
      "\n",
      "- [Les donn\u00e9es](#donnees)\n",
      "- [Une premi\u00e8re solution au premier probl\u00e8me](#sol1)\n",
      "\n",
      "<h3 id=\"donnees\">Les donn\u00e9es</h3>\n",
      "\n",
      "On r\u00e9cup\u00e8re les donn\u00e9es sur Internet."
     ]
    },
    {
     "cell_type": "code",
     "collapsed": false,
     "input": [
      "import pyensae\n",
      "data = pyensae.download_data(\"paris_54000.zip\")\n",
      "data"
     ],
     "language": "python",
     "metadata": {},
     "outputs": [
      {
       "metadata": {},
       "output_type": "pyout",
       "prompt_number": 2,
       "text": [
        "['paris_54000.txt']"
       ]
      }
     ],
     "prompt_number": 2
    },
    {
     "cell_type": "markdown",
     "metadata": {},
     "source": [
      "On extrait du fichier l'ensemble des carrefours (vertices) et des rues ou segment de rues (edges)."
     ]
    },
    {
     "cell_type": "code",
     "collapsed": false,
     "input": [
      "name = data[0]\n",
      "with open(name, \"r\") as f : lines = f.readlines()\n",
      "    \n",
      "vertices = []\n",
      "edges    = [ ]\n",
      "for i,line in enumerate(lines) :\n",
      "    spl = line.strip(\"\\n\\r\").split(\" \")\n",
      "    if len(spl) == 2 :\n",
      "        vertices.append ( (float(spl[0]), float(spl[1]) ) )\n",
      "    elif len(spl) == 5 and i > 0:\n",
      "        v1,v2 = int(spl[0]),int(spl[1])\n",
      "        ways = int(spl[2]) # dans les deux sens ou pas\n",
      "        p1 = vertices[v1]\n",
      "        p2 = vertices[v2]\n",
      "        edges.append ( (v1,v2,ways,p1,p2) )\n",
      "    elif i > 0 :\n",
      "        raise Exception(\"unable to interpret line {0}: \".format(i) + line)\n",
      "print(\"#E=\",len(edges), \"#V=\",len(vertices), \">\",max (max( _[0] for _ in edges),  max( _[1] for _ in edges)))"
     ],
     "language": "python",
     "metadata": {},
     "outputs": [
      {
       "output_type": "stream",
       "stream": "stdout",
       "text": [
        "#E= 17958 #V= 11348 > 11347\n"
       ]
      }
     ],
     "prompt_number": 3
    },
    {
     "cell_type": "markdown",
     "metadata": {},
     "source": [
      "On trace sur un graphique un \u00e9chantillon des carrefours. On suppose la ville de Paris suffisamment petite et loin des p\u00f4les pour consid\u00e9rer les coordonn\u00e9es comme cart\u00e9siennes (et non comme longitude/latitude)."
     ]
    },
    {
     "cell_type": "code",
     "collapsed": false,
     "input": [
      "import matplotlib.pyplot as plt\n",
      "sample = [ vertices[random.randint(0,len(vertices)-1)] for i in range(0,1000)]\n",
      "plt.plot( [_[0] for _ in sample], [_[1] for _ in sample], \".\")"
     ],
     "language": "python",
     "metadata": {},
     "outputs": [
      {
       "metadata": {},
       "output_type": "pyout",
       "prompt_number": 4,
       "text": [
        "[<matplotlib.lines.Line2D at 0x863ba50>]"
       ]
      },
      {
       "metadata": {},
       "output_type": "display_data",
       "png": "[encoded data removed]",
       "text": [
        "<matplotlib.figure.Figure at 0x8272cd0>"
       ]
      }
     ],
     "prompt_number": 4
    },
    {
     "cell_type": "markdown",
     "metadata": {},
     "source": [
      "Puis on dessine \u00e9galement un \u00e9chantillon des rues."
     ]
    },
    {
     "cell_type": "code",
     "collapsed": false,
     "input": [
      "sample = [ edges[random.randint(0,len(edges)-1)] for i in range(0,1000)]\n",
      "for edge in sample:\n",
      "    plt.plot( [_[0] for _ in edge[-2:]], [_[1] for _ in edge[-2:]], \"b-\")\n",
      "plt.show()"
     ],
     "language": "python",
     "metadata": {},
     "outputs": [
      {
       "metadata": {},
       "output_type": "display_data",
       "png": "[encoded data removed]",
       "text": [
        "<matplotlib.figure.Figure at 0x86454b0>"
       ]
      }
     ],
     "prompt_number": 5
    },
    {
     "cell_type": "markdown",
     "metadata": {},
     "source": [
      "Petite remarque : il n'y a pas rues reliant le m\u00eame carrefour :"
     ]
    },
    {
     "cell_type": "code",
     "collapsed": false,
     "input": [
      "len ( list(e for e in edges if e[0]==e[1] ))"
     ],
     "language": "python",
     "metadata": {},
     "outputs": [
      {
       "metadata": {},
       "output_type": "pyout",
       "prompt_number": 6,
       "text": [
        "0"
       ]
      }
     ],
     "prompt_number": 6
    },
    {
     "cell_type": "markdown",
     "metadata": {},
     "source": [
      "<h3 id=\"sol1\">Une premi\u00e8re solution au premier probl\u00e8me</h3>\n",
      "\n",
      "Cette solution n'est pas n\u00e9cessaire la meilleure mais elle donne une id\u00e9e de comment transformer le probl\u00e8me pour utiliser des algorithmes existants. Chaque noeud repr\u00e9sente un carrefour et chaque rue est un arc reliant des deux carrefours. L'objectif est de parcourir tous les arcs du graphe avec 8 voitures. \n",
      "\n",
      "Premiere remarque, l'\u00e9nonc\u00e9 ne dit pas qu'il faut parcourir toutes les rues une seule fois. On con\u00e7oit ais\u00e9ment que ce serait l'id\u00e9al mais on ne sait pas si ce serait possible. N\u00e9anmoins, si une telle solution (un chemin passant une et une seule fois par toutes les rues) existe, elle est forc\u00e9ment optimale.\n",
      "\n",
      "Deuxi\u00e8me remarque, les sens interdits rendent le probl\u00e8me plus complexe. On va dans un premier temps ne pas en tenir compte. On verra comment ajouter la contrainte par la suite et il y a aussi le probl\u00e8me\n",
      "\n",
      "Ces deux remarques \u00e9tant faite, ce probl\u00e8me rappelle un peu le probl\u00e8me des sept ponts de [Konigsberg](http://fr.wikipedia.org/wiki/Probl%C3%A8me_des_sept_ponts_de_K%C3%B6nigsberg) : comment traverser passer par les sept de la ville une et une seule fois. Le math\u00e9maticien [Euler](http://fr.wikipedia.org/wiki/Leonhard_Euler) a r\u00e9pondu \u00e0 cette question : c'est simple, il suffit que chaque noeud du graphe soit rejoint par un nombre pair de d'arc (= ponts) sauf au plus 2 (les noeuds de d\u00e9part et d'arriv\u00e9e). De cette fa\u00e7on, \u00e0 chaque qu'on rejoint un noeud, il y a toujours une fa\u00e7on de repartir."
     ]
    },
    {
     "cell_type": "code",
     "collapsed": false,
     "input": [
      "import networkx as nx\n",
      "g = nx.Graph()\n",
      "for i,j in [(1,2),(1,3),(1,4),(2,3),(3,4),(4,5),(5,2),(2,4) ]:\n",
      "    g.add_edge( i,j )\n",
      "import matplotlib.pyplot as plt\n",
      "f, ax = plt.subplots(figsize=(6,3))\n",
      "nx.draw(g, ax = ax)"
     ],
     "language": "python",
     "metadata": {},
     "outputs": [
      {
       "metadata": {},
       "output_type": "display_data",
       "png": "[encoded data removed]",
       "text": [
        "<matplotlib.figure.Figure at 0x8899cf0>"
       ]
      }
     ],
     "prompt_number": 7
    },
    {
     "cell_type": "markdown",
     "metadata": {},
     "source": [
      "On ne peut pas trouver une chemin qui parcourt tous les arcs du graphe pr\u00e9c\u00e9dent une et une seule fois. Qu'en est-il du graphe de la ville de Paris ? On compte les noeuds qui ont un nombre pairs et impairs d'arcs les rejoignant (on appelle cela le [degr\u00e9](http://fr.wikipedia.org/wiki/Degr%C3%A9_(th%C3%A9orie_des_graphes)))."
     ]
    },
    {
     "cell_type": "code",
     "collapsed": false,
     "input": [
      "nb_edge = { }\n",
      "for edge in edges :\n",
      "    v1,v2 = edge[:2]\n",
      "    nb_edge[v1] = nb_edge.get(v1,0)+1\n",
      "    nb_edge[v2] = nb_edge.get(v2,0)+1\n",
      "parite = { }\n",
      "for k,v in nb_edge.items():\n",
      "    parite[v] = parite.get(v,0) + 1\n",
      "[ sorted(parite.items()) ]"
     ],
     "language": "python",
     "metadata": {},
     "outputs": [
      {
       "metadata": {},
       "output_type": "pyout",
       "prompt_number": 8,
       "text": [
        "[[(2, 1337), (3, 7103), (4, 2657), (5, 209), (6, 35), (7, 6), (8, 1)]]"
       ]
      }
     ],
     "prompt_number": 8
    },
    {
     "cell_type": "markdown",
     "metadata": {},
     "source": [
      "On remarque que la plupart des carrefours sont le d\u00e9part de 3 rues. Qu'\u00e0 cela ne tienne, pourquoi ne pas ajouter des arcs entre des noeuds de degr\u00e9 impair jusqu'\u00e0 ce qu'il n'y en ait plus que 2. De cette fa\u00e7on, il sera facile de construire un seul chemin parcourant toutes les rues. Comment ajouter ces arcs ? Cela va se faire en deux \u00e9tapes :\n",
      "\n",
      "- On utilise l'algorithme de [Bellman-Ford](http://fr.wikipedia.org/wiki/Algorithme_de_Bellman-Ford) pour construire une matrice des plus courts chemins entre tous les noeuds.\n",
      "- On s'inspire de l'algorithme de poids minimal [Kruskal](http://fr.wikipedia.org/wiki/Algorithme_de_Kruskal). On trie les arcs par ordre croissant de distance. On ajoute ceux qui r\u00e9duisent le nombre de noeuds de degr\u00e9 impairs en les prenant dans cet ordre.\n",
      "\n",
      "<h4 id=\"bellman\">Etape 1 : la matrice Bellman</h4>\n",
      "\n",
      "Je ne d\u00e9taillerai pas trop, la page Wikipedia est assez claire. Dans un premier temps on calcule la longueur de chaque arc (de fa\u00e7on cart\u00e9sienne). Une autre distance ([Haversine](http://en.wikipedia.org/wiki/Haversine_formula)) ne changerait pas le raisonnement."
     ]
    },
    {
     "cell_type": "code",
     "collapsed": false,
     "input": [
      "def distance(p1,p2):\n",
      "    return ((p1[0]-p2[0])**2+(p1[1]-p2[1])**2)**0.5\n",
      "edges = [ edge + (distance( edge[-2],edge[-1]),) for edge in edges]"
     ],
     "language": "python",
     "metadata": {},
     "outputs": [],
     "prompt_number": 9
    },
    {
     "cell_type": "markdown",
     "metadata": {},
     "source": [
      "Ensuite, on impl\u00e9mente l'algorithme de [Bellman-Ford](http://fr.wikipedia.org/wiki/Algorithme_de_Bellman-Ford)."
     ]
    },
    {
     "cell_type": "code",
     "collapsed": false,
     "input": [
      "import datetime\n",
      "init = { (e[0],e[1]) : e[-1] for e in edges }\n",
      "init.update ( { (e[1],e[0]) : e[-1] for e in edges } )\n",
      "\n",
      "edges_from = {  }\n",
      "for e in edges :\n",
      "    if e[0] not in edges_from : edges_from[e[0]] = []\n",
      "    if e[1] not in edges_from : edges_from[e[1]] = []\n",
      "    edges_from[e[0]].append(e)\n",
      "    edges_from[e[1]].append( (e[1], e[0], e[2], e[4], e[3], e[5] ) )\n",
      "    \n",
      "modif = 1\n",
      "total_possible_edges = len(edges_from)**2\n",
      "it = 0\n",
      "while modif > 0 :\n",
      "    modif = 0\n",
      "    initc = init.copy()   # to avoid RuntimeError: dictionary changed size during iteration\n",
      "    s = 0\n",
      "    for i,d in initc.items() :\n",
      "        fromi2 = edges_from[i[1]]\n",
      "        s += d\n",
      "        for e in fromi2 :\n",
      "            if i[0] == e[1] : # on fait attention \u00e0 ne pas ajouter de boucle sur le m\u00eame noeud\n",
      "                continue\n",
      "            new_e = i[0], e[1]\n",
      "            new_d = d + e[-1]\n",
      "            if new_e not in init or init[new_e] > new_d :\n",
      "                init[new_e] = new_d \n",
      "                modif += 1\n",
      "    print(datetime.datetime.now(), \"iteration \", it, \" modif \", modif, \" # \", len(initc),\"/\",total_possible_edges,\"=\", \n",
      "            \"%1.2f\" %(len(initc)*100 / total_possible_edges) + \"%\")\n",
      "    it += 1\n",
      "    if it > 6 : break"
     ],
     "language": "python",
     "metadata": {},
     "outputs": [
      {
       "output_type": "stream",
       "stream": "stdout",
       "text": [
        "2014-09-11 23:37:06.440917 iteration  0  modif  72874  #  35916 / 128777104 = 0.03%\n",
        "2014-09-11 23:37:07.154633"
       ]
      },
      {
       "output_type": "stream",
       "stream": "stdout",
       "text": [
        " iteration  1  modif  120380  #  104842 / 128777104 = 0.08%\n",
        "2014-09-11 23:37:08.664815"
       ]
      },
      {
       "output_type": "stream",
       "stream": "stdout",
       "text": [
        " iteration  2  modif  180566  #  213826 / 128777104 = 0.17%\n",
        "2014-09-11 23:37:11.259838"
       ]
      },
      {
       "output_type": "stream",
       "stream": "stdout",
       "text": [
        " iteration  3  modif  255744  #  368960 / 128777104 = 0.29%\n",
        "2014-09-11 23:37:16.895286"
       ]
      },
      {
       "output_type": "stream",
       "stream": "stdout",
       "text": [
        " iteration  4  modif  347092  #  576106 / 128777104 = 0.45%\n",
        "2014-09-11 23:37:23.368557"
       ]
      },
      {
       "output_type": "stream",
       "stream": "stdout",
       "text": [
        " iteration  5  modif  455894  #  839276 / 128777104 = 0.65%\n",
        "2014-09-11 23:37:31.852750"
       ]
      },
      {
       "output_type": "stream",
       "stream": "stdout",
       "text": [
        " iteration  6  modif  584202  #  1162870 / 128777104 = 0.90%\n"
       ]
      }
     ],
     "prompt_number": 10
    },
    {
     "cell_type": "markdown",
     "metadata": {},
     "source": [
      "On s'aper\u00e7oit vite que cela va \u00eatre tr\u00e8s tr\u00e8s long. On d\u00e9cide alors de ne consid\u00e9rer que les paires de noeuds pour lesquelles la distance \u00e0 vol d'oiseau est inf\u00e9rieure au plus grand segment de rue ou inf\u00e9rieure \u00e0 cette distance multipli\u00e9e par un coefficient."
     ]
    },
    {
     "cell_type": "code",
     "collapsed": false,
     "input": [
      "max_segment = max( e[-1] for e in edges )\n",
      "max_segment"
     ],
     "language": "python",
     "metadata": {},
     "outputs": [
      {
       "metadata": {},
       "output_type": "pyout",
       "prompt_number": 15,
       "text": [
        "0.017418989861067814"
       ]
      }
     ],
     "prompt_number": 15
    },
    {
     "cell_type": "markdown",
     "metadata": {},
     "source": [
      "On calcule les arcs admissibles (en esp\u00e9rant que les noeuds de degr\u00e9 impairs seront bien dedans). Cette \u00e9tape prend quelques minutes :"
     ]
    },
    {
     "cell_type": "code",
     "collapsed": false,
     "input": [
      "possibles = { (e[0],e[1]) : e[-1] for e in edges }\n",
      "possibles.update ( { (e[1],e[0]) : e[-1] for e in edges } )\n",
      "initial = possibles.copy()\n",
      "for i1,v1 in enumerate(vertices) :\n",
      "    for i2 in range(i1+1,len(vertices)):\n",
      "        v2 = vertices[i2]\n",
      "        d = distance(v1,v2)\n",
      "        if d < max_segment / 2 :         # on ajuste le seuil\n",
      "            possibles [ i1,i2 ] = d\n",
      "            possibles [ i2,i1 ] = d\n",
      "print(\"original\",len(initial),\"/\",total_possible_edges,\"=\", len(initial)/total_possible_edges)\n",
      "print(\"addition\",len(possibles)-len(initial),\"/\",total_possible_edges,\"=\", (len(possibles)-len(initial))/total_possible_edges)"
     ],
     "language": "python",
     "metadata": {},
     "outputs": [
      {
       "output_type": "stream",
       "stream": "stdout",
       "text": [
        "original 35916 / 128777104 = 0.000278900510140374\n",
        "addition 2875586 / 128777104 = 0.022329947721141486\n"
       ]
      }
     ],
     "prompt_number": 16
    },
    {
     "cell_type": "markdown",
     "metadata": {},
     "source": [
      "On v\u00e9rifie que les noeuds de degr\u00e9 impairs font tous partie de l'ensemble des noeuds recevant de nouveaux arcs. La matrice de Bellman envisagera au pire 2.2% de toutes les distances possibles."
     ]
    },
    {
     "cell_type": "code",
     "collapsed": false,
     "input": [
      "allv = { p[0]:True for p in possibles if p not in initial } # possibles est sym\u00e9trique\n",
      "for v,p in nb_edge.items() :\n",
      "    if p % 2 == 1 and v not in allv :\n",
      "        raise Exception(\"probl\u00e8me pour le noeud: {0}\".format(v))\n",
      "print(\"si vous voyez cette ligne, c'est que tout est bon\")"
     ],
     "language": "python",
     "metadata": {},
     "outputs": [
      {
       "output_type": "stream",
       "stream": "stdout",
       "text": [
        "si vous voyez cette ligne, c'est que tout est bon\n"
       ]
      }
     ],
     "prompt_number": 13
    },
    {
     "cell_type": "markdown",
     "metadata": {},
     "source": [
      "On continue avec l'algorithme de [Bellman-Ford](http://fr.wikipedia.org/wiki/Algorithme_de_Bellman-Ford) modifi\u00e9 :"
     ]
    },
    {
     "cell_type": "code",
     "collapsed": false,
     "input": [
      "import datetime\n",
      "init = { (e[0],e[1]) : e[-1] for e in edges }\n",
      "init.update ( { (e[1],e[0]) : e[-1] for e in edges } )\n",
      "\n",
      "edges_from = {  }\n",
      "for e in edges :\n",
      "    if e[0] not in edges_from : edges_from[e[0]] = []\n",
      "    if e[1] not in edges_from : edges_from[e[1]] = []\n",
      "    edges_from[e[0]].append(e)\n",
      "    edges_from[e[1]].append( (e[1], e[0], e[2], e[4], e[3], e[5] ) )\n",
      "    \n",
      "modif = 1\n",
      "total_possible_edges = len(edges_from)**2\n",
      "it = 0\n",
      "while modif > 0 :\n",
      "    modif = 0\n",
      "    initc = init.copy()   # to avoid RuntimeError: dictionary changed size during iteration\n",
      "    s = 0\n",
      "    for i,d in initc.items() :\n",
      "        if i not in possibles : \n",
      "            continue  # we skip undesired edges ------------------- addition\n",
      "        fromi2 = edges_from[i[1]]\n",
      "        s += d\n",
      "        for e in fromi2 :\n",
      "            if i[0] == e[1] : # on fait attention \u00e0 ne pas ajouter de boucle sur le m\u00eame noeud\n",
      "                continue\n",
      "            new_e = i[0], e[1]\n",
      "            new_d = d + e[-1]\n",
      "            if new_e not in init or init[new_e] > new_d :\n",
      "                init[new_e] = new_d \n",
      "                modif += 1\n",
      "    print(datetime.datetime.now(), \"iteration \", it, \" modif \", modif, \" # \", len(initc),\"/\",total_possible_edges,\"=\", \n",
      "            \"%1.2f\" %(len(initc)*100 / total_possible_edges) + \"%\")\n",
      "    it += 1\n",
      "    if it > 20 : \n",
      "        break"
     ],
     "language": "python",
     "metadata": {},
     "outputs": [
      {
       "output_type": "stream",
       "stream": "stdout",
       "text": [
        "2014-09-11 23:42:15.832181 iteration  0  modif  72874  #  35916 / 128777104 = 0.03%\n",
        "2014-09-11 23:42:16.647069"
       ]
      },
      {
       "output_type": "stream",
       "stream": "stdout",
       "text": [
        " iteration  1  modif  119616  #  104842 / 128777104 = 0.08%\n",
        "2014-09-11 23:42:18.357893"
       ]
      },
      {
       "output_type": "stream",
       "stream": "stdout",
       "text": [
        " iteration  2  modif  177953  #  213086 / 128777104 = 0.17%\n",
        "2014-09-11 23:42:21.477699"
       ]
      },
      {
       "output_type": "stream",
       "stream": "stdout",
       "text": [
        " iteration  3  modif  248689  #  365751 / 128777104 = 0.28%\n",
        "2014-09-11 23:42:26.522191"
       ]
      },
      {
       "output_type": "stream",
       "stream": "stdout",
       "text": [
        " iteration  4  modif  330449  #  566457 / 128777104 = 0.44%\n",
        "2014-09-11 23:42:33.339789"
       ]
      },
      {
       "output_type": "stream",
       "stream": "stdout",
       "text": [
        " iteration  5  modif  419559  #  815211 / 128777104 = 0.63%\n",
        "2014-09-11 23:42:42.683014"
       ]
      },
      {
       "output_type": "stream",
       "stream": "stdout",
       "text": [
        " iteration  6  modif  508806  #  1109019 / 128777104 = 0.86%\n",
        "2014-09-11 23:42:54.706381"
       ]
      },
      {
       "output_type": "stream",
       "stream": "stdout",
       "text": [
        " iteration  7  modif  586008  #  1438040 / 128777104 = 1.12%\n",
        "2014-09-11 23:43:09.765031"
       ]
      },
      {
       "output_type": "stream",
       "stream": "stdout",
       "text": [
        " iteration  8  modif  639597  #  1785232 / 128777104 = 1.39%\n",
        "2014-09-11 23:43:27.039703"
       ]
      },
      {
       "output_type": "stream",
       "stream": "stdout",
       "text": [
        " iteration  9  modif  657009  #  2127675 / 128777104 = 1.65%\n",
        "2014-09-11 23:43:46.903128"
       ]
      },
      {
       "output_type": "stream",
       "stream": "stdout",
       "text": [
        " iteration  10  modif  638994  #  2441604 / 128777104 = 1.90%\n",
        "2014-09-11 23:44:09.108545"
       ]
      },
      {
       "output_type": "stream",
       "stream": "stdout",
       "text": [
        " iteration  11  modif  591257  #  2711201 / 128777104 = 2.11%\n",
        "2014-09-11 23:44:33.521781"
       ]
      },
      {
       "output_type": "stream",
       "stream": "stdout",
       "text": [
        " iteration  12  modif  519597  #  2928527 / 128777104 = 2.27%\n",
        "2014-09-11 23:44:58.829834"
       ]
      },
      {
       "output_type": "stream",
       "stream": "stdout",
       "text": [
        " iteration  13  modif  434752  #  3091667 / 128777104 = 2.40%\n",
        "2014-09-11 23:45:23.990813"
       ]
      },
      {
       "output_type": "stream",
       "stream": "stdout",
       "text": [
        " iteration  14  modif  346135  #  3205671 / 128777104 = 2.49%\n",
        "2014-09-11 23:45:48.924924"
       ]
      },
      {
       "output_type": "stream",
       "stream": "stdout",
       "text": [
        " iteration  15  modif  263242  #  3279078 / 128777104 = 2.55%\n",
        "2014-09-11 23:46:14.176271"
       ]
      },
      {
       "output_type": "stream",
       "stream": "stdout",
       "text": [
        " iteration  16  modif  191457  #  3323381 / 128777104 = 2.58%\n",
        "2014-09-11 23:46:39.439583"
       ]
      },
      {
       "output_type": "stream",
       "stream": "stdout",
       "text": [
        " iteration  17  modif  133754  #  3348569 / 128777104 = 2.60%\n",
        "2014-09-11 23:47:04.797586"
       ]
      },
      {
       "output_type": "stream",
       "stream": "stdout",
       "text": [
        " iteration  18  modif  90441  #  3362160 / 128777104 = 2.61%\n",
        "2014-09-11 23:47:30.068725"
       ]
      },
      {
       "output_type": "stream",
       "stream": "stdout",
       "text": [
        " iteration  19  modif  59702  #  3369505 / 128777104 = 2.62%\n",
        "2014-09-11 23:47:54.668344"
       ]
      },
      {
       "output_type": "stream",
       "stream": "stdout",
       "text": [
        " iteration  20  modif  38943  #  3373640 / 128777104 = 2.62%\n"
       ]
      }
     ],
     "prompt_number": 17
    },
    {
     "cell_type": "markdown",
     "metadata": {},
     "source": [
      "L'algorithme consiste \u00e0 regarder les chemins $a \\rightarrow b \\rightarrow c$ et \u00e0 comparer s'il est plus rapide que $a \\rightarrow c$. 2.6% > 2.2% parce que le filtre est appliqu\u00e9 seulement sur $a \\rightarrow b$. Finalement, on consid\u00e8re les arcs ajout\u00e9s puis on retire les arcs originaux."
     ]
    },
    {
     "cell_type": "code",
     "collapsed": false,
     "input": [
      "original = { (e[0],e[1]) : e[-1] for e in edges }\n",
      "original.update ( { (e[1],e[0]) : e[-1] for e in edges } )\n",
      "additions = { k:v for k,v in init.items() if k not in original }\n",
      "additions.update( { (k[1],k[0]):v for k,v in additions.items() } )    "
     ],
     "language": "python",
     "metadata": {},
     "outputs": []
    },
    {
     "cell_type": "markdown",
     "metadata": {},
     "source": [
      "<h4 id=\"krusk\">Kruskall</h4>\n",
      "\n",
      "On trie les arcs par distance croissante puis on les ajoute un par jusqu'\u00e0 ce qu'il n'y ait plus d'arc de degr\u00e9 impair."
     ]
    },
    {
     "cell_type": "code",
     "collapsed": false,
     "input": [
      "tri = [ (v,k) for k,v in additions.items() ]\n",
      "tri.sort()\n",
      "\n",
      "degre = { }\n",
      "for k,v in original.items() :  # original est sym\u00e9trique\n",
      "    degre[k[0]] = degre.get(k[0],0) + 1\n",
      "\n",
      "def count_impairs(degre):\n",
      "    return sum ( 1 in degre for k,v in degre.items() if v%2 == 1 )\n",
      "\n",
      "impairs = count_impairs(degre)\n",
      "\n",
      "added_edges = [] \n",
      "\n",
      "for v,a in tri :\n",
      "    if degre[a[0]] % 2 == 1 and degre[a[1]] % 2 == 1 :\n",
      "        degre[a[0]] += 1\n",
      "        degre[a[1]] += 1\n",
      "        added_edges.append ( a )\n",
      "        added_edges.append ( (a[1],a[0]) )\n",
      "        impairs -= 2\n",
      "        if impairs <= 2 :\n",
      "            break\n",
      "    if impairs <= 2 :\n",
      "        break\n",
      "\n",
      "# on v\u00e9rifie\n",
      "print(impairs, count_impairs(degre))"
     ],
     "language": "python",
     "metadata": {},
     "outputs": [
      {
       "output_type": "stream",
       "stream": "stdout",
       "text": [
        "26 26\n"
       ]
      }
     ],
     "prompt_number": 19
    },
    {
     "cell_type": "markdown",
     "metadata": {},
     "source": [
      "Le nombre de noeuds impairs obtenus \u00e0 la fin doit \u00eatre inf\u00e9rieurs \u00e0 2 pour \u00eatre s\u00fbr de trouver un chemin. Mon premier essai n'a pas donn\u00e9 satisfaction (92 noeuds impairs restant) car j'avais choisi un seuil (max_segment / 4) trop petit lors de la s\u00e9lection des arcs \u00e0 ajouter. J'ai augment\u00e9 le seuil par la suite mais il reste encore 26 noeuds de degr\u00e9 impairs. On a le choix entre augmenter ce seuil mais l'algorithme est d\u00e9j\u00e0 long ou chercher dans une autre direction comme laisser l'algorithme de Bellman explorer les noeuds de degr\u00e9 impairs. **to be continued**"
     ]
    },
    {
     "cell_type": "code",
     "collapsed": false,
     "input": [],
     "language": "python",
     "metadata": {},
     "outputs": []
    }
   ],
   "metadata": {}
  }
 ]
}