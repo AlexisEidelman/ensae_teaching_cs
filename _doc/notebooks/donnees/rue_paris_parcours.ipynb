{
 "metadata": {
  "name": "",
  "signature": "sha256:b98aa11518e17dfe2bdaacb985774a35c86daa899c5bbd4878e65252fccb77fd"
 },
 "nbformat": 3,
 "nbformat_minor": 0,
 "worksheets": [
  {
   "cells": [
    {
     "cell_type": "heading",
     "level": 1,
     "metadata": {},
     "source": [
      "Parcourir les rues de Paris"
     ]
    },
    {
     "cell_type": "markdown",
     "metadata": {},
     "source": [
      "Cette id\u00e9e vient d'une soir\u00e9e Google Code initi\u00e9e par Google et \u00e0 laquelle des \u00e9l\u00e8ves de l'ENSAE ont particip\u00e9. On dispose de la description des rues de Paris (qu'on consid\u00e8rera comme des lignes droites). On veut d\u00e9terminer le trajet de huit voitures de telle sorte qu'elles parcourent la ville le plus rapidement possible. On supposera deux cas :\n",
      "\n",
      "- Les voitures peuvent \u00eatre plac\u00e9es n'importe o\u00f9 dans la ville.\n",
      "- Les voitures d\u00e9marrent de reviennent au m\u00eame point de d\u00e9part, le m\u00eame pour toutes.\n",
      "\n",
      "Ce notebook d\u00e9crit comment r\u00e9cup\u00e9rer les donn\u00e9es et propose une solution.\n",
      "\n",
      "Plan :\n",
      "\n",
      "- [Les donn\u00e9es](#donnees)\n",
      "- [Une solution au premier probl\u00e8me](#sol1)\n",
      "\n",
      "<h3 id=\"donnees\">Les donn\u00e9es</h3>"
     ]
    },
    {
     "cell_type": "code",
     "collapsed": false,
     "input": [
      "import pyensae\n",
      "data = pyensae.download_data(\"paris_54000.zip\")\n",
      "with open(data, \"r\") as f : lines = f.readlines()\n",
      "    \n",
      "vertices = []\n",
      "edges    = [ ]\n",
      "for line in lines :\n",
      "    spl = line.strip(\"\\n\\r\").split(\"\\t\")\n",
      "    if len(spl) == 2 :\n",
      "        vertices.append ( (float(spl[0]), float(spl[1]) )\n",
      "    elif len(spl) == 5 :\n",
      "        v1,v2 = int(spl[0]),int(spl[1])\n",
      "        ways = int(spl[2]) # dans les deux sens ou pas\n",
      "        spl[3] ?\n",
      "        spl[4] ?"
     ],
     "language": "python",
     "metadata": {},
     "outputs": [],
     "prompt_number": 1
    },
    {
     "cell_type": "code",
     "collapsed": false,
     "input": [],
     "language": "python",
     "metadata": {},
     "outputs": []
    }
   ],
   "metadata": {}
  }
 ]
}