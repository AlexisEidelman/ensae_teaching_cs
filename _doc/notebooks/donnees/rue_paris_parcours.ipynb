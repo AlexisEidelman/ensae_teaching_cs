{
 "metadata": {
  "name": "",
  "signature": "sha256:c9835817ec008a6c91ab9f637500a54309cd9b18095ef7e680d01e02b47128da"
 },
 "nbformat": 3,
 "nbformat_minor": 0,
 "worksheets": [
  {
   "cells": [
    {
     "cell_type": "heading",
     "level": 1,
     "metadata": {},
     "source": [
      "Parcourir les rues de Paris"
     ]
    },
    {
     "cell_type": "markdown",
     "metadata": {},
     "source": [
      "Cette id\u00e9e vient d'une soir\u00e9e Google Code initi\u00e9e par Google et \u00e0 laquelle des \u00e9l\u00e8ves de l'ENSAE ont particip\u00e9. On dispose de la description des rues de Paris (qu'on consid\u00e8rera comme des lignes droites). On veut d\u00e9terminer le trajet de huit voitures de telle sorte qu'elles parcourent la ville le plus rapidement possible. On supposera deux cas :\n",
      "\n",
      "- Les voitures peuvent \u00eatre plac\u00e9es n'importe o\u00f9 dans la ville.\n",
      "- Les voitures d\u00e9marrent de reviennent au m\u00eame point de d\u00e9part, le m\u00eame pour toutes.\n",
      "\n",
      "Ce notebook d\u00e9crit comment r\u00e9cup\u00e9rer les donn\u00e9es et propose une solution.\n",
      "\n",
      "Plan :\n",
      "\n",
      "- [Les donn\u00e9es](#donnees)\n",
      "- [Une solution au premier probl\u00e8me](#sol1)\n",
      "\n",
      "<h3 id=\"donnees\">Les donn\u00e9es</h3>"
     ]
    },
    {
     "cell_type": "code",
     "collapsed": false,
     "input": [
      "import pyensae\n",
      "data = pyensae.download_data(\"paris_54000.zip\")\n",
      "data"
     ],
     "language": "python",
     "metadata": {},
     "outputs": [
      {
       "metadata": {},
       "output_type": "pyout",
       "prompt_number": 14,
       "text": [
        "['paris_54000.txt']"
       ]
      }
     ],
     "prompt_number": 14
    },
    {
     "cell_type": "code",
     "collapsed": false,
     "input": [
      "name = data[0]\n",
      "with open(name, \"r\") as f : lines = f.readlines()\n",
      "    \n",
      "vertices = []\n",
      "edges    = [ ]\n",
      "for i,line in enumerate(lines) :\n",
      "    spl = line.strip(\"\\n\\r\").split(\" \")\n",
      "    if len(spl) == 2 :\n",
      "        vertices.append ( (float(spl[0]), float(spl[1]) ) )\n",
      "    elif len(spl) == 5 and i > 0:\n",
      "        v1,v2 = int(spl[0]),int(spl[1])\n",
      "        ways = int(spl[2]) # dans les deux sens ou pas\n",
      "        p1 = vertices[v1]\n",
      "        p2 = vertices[v2]\n",
      "        edges.append ( (v1,v2,ways,p1,p2) )\n",
      "        #spl[3] ?\n",
      "        #spl[4] ?\n",
      "    elif i > 0 :\n",
      "        raise Exception(\"unable to interpret line {0}: \".format(i) + line)\n",
      "print(\"#E=\",len(edges), \"#V=\",len(vertices), \">\",max (max( _[0] for _ in edges),  max( _[1] for _ in edges)))"
     ],
     "language": "python",
     "metadata": {},
     "outputs": [
      {
       "output_type": "stream",
       "stream": "stdout",
       "text": [
        "#E= 17958 #V= 11348 > 11347\n"
       ]
      }
     ],
     "prompt_number": 33
    },
    {
     "cell_type": "code",
     "collapsed": false,
     "input": [
      "import matplotlib.pyplot as plt\n",
      "sample = [ vertices[random.randint(0,len(vertices)-1)] for i in range(0,1000)]\n",
      "plt.plot( [_[0] for _ in sample], [_[1] for _ in sample], \".\")"
     ],
     "language": "python",
     "metadata": {},
     "outputs": [
      {
       "metadata": {},
       "output_type": "pyout",
       "prompt_number": 34,
       "text": [
        "[<matplotlib.lines.Line2D at 0x7687590>]"
       ]
      },
      {
       "metadata": {},
       "output_type": "display_data",
       "png": "[encoded data removed]",
       "text": [
        "<matplotlib.figure.Figure at 0x7946c90>"
       ]
      }
     ],
     "prompt_number": 34
    },
    {
     "cell_type": "code",
     "collapsed": false,
     "input": [],
     "language": "python",
     "metadata": {},
     "outputs": []
    }
   ],
   "metadata": {}
  }
 ]
}