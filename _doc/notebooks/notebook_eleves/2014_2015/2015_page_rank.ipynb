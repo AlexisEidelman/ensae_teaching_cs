{
 "cells": [
  {
   "cell_type": "markdown",
   "metadata": {},
   "source": [
    "# PageRank avec PIG"
   ]
  },
  {
   "cell_type": "markdown",
   "metadata": {},
   "source": [
    "auteurs : *M. Amestoy M., A. Auffret*"
   ]
  },
  {
   "cell_type": "markdown",
   "metadata": {},
   "source": [
    "L'algorithme [PageRank](https://en.wikipedia.org/wiki/PageRank) propose une mesure de la pertinence d'un site. Il fut inventé par les fondateurs de google. L'implémentation proposée ici s'est appuyée sur celle proposée dans [Data-Intensive Text Processing with MapReduce](http://lintool.github.io/MapReduceAlgorithms/MapReduce-book-final.pdf), page 106. L'algorithme est d'abord appliqué sur un jeu de test (plus petit et permettant un développement rapide) puis à un jeu plus consistent : [Google web graph](http://snap.stanford.edu/data/web-Google.html)."
   ]
  },
  {
   "cell_type": "code",
   "execution_count": 72,
   "metadata": {
    "collapsed": false
   },
   "outputs": [
    {
     "data": {
      "text/html": [
       "<b>Plan</b>\n",
       "<div id=\"my_menu_id\">run previous cell, wait for 2 seconds</div>\n",
       "<script>\n",
       "function repeat_indent_string(n){\n",
       "    var a = \"\" ;\n",
       "    for ( ; n > 0 ; --n) {\n",
       "        a += \"    \";\n",
       "    }\n",
       "    return a;\n",
       "}\n",
       "var update_menu = function() {\n",
       "    var anchors = document.getElementsByClassName(\"section\");\n",
       "    if (anchors.length == 0) {\n",
       "        anchors = document.getElementsByClassName(\"text_cell_render rendered_html\");\n",
       "    }\n",
       "    var i;\n",
       "    var text_menu = \"\";\n",
       "    var ind = \"\";\n",
       "    var memo_level = 0;\n",
       "    var href;\n",
       "    for (i = 0; i < anchors.length; i++) {\n",
       "        var child = anchors[i].children[0];\n",
       "        if (anchors[i].hasAttribute(\"id\")) {\n",
       "            href = anchors[i].id;\n",
       "        }\n",
       "        else if (child.hasAttribute(\"id\")) {\n",
       "            href = child.id;\n",
       "        }\n",
       "        else {\n",
       "            continue;\n",
       "        }\n",
       "        var title = child.textContent;\n",
       "        var level = parseInt(child.tagName.substring(1,2));\n",
       "        if ((level <= 1) || (level >= 5)) {\n",
       "            continue ;\n",
       "        }\n",
       "        if (title.endsWith('¶')) {\n",
       "            title = title.substring(0,title.length-1);\n",
       "        }\n",
       "        if (title.length == 0) {\n",
       "            continue;\n",
       "        }\n",
       "        if (level > memo_level) {\n",
       "            text_menu += \"<ul>\\n\";\n",
       "        }\n",
       "        text_menu += repeat_indent_string(level-2) + '<li><a href=\"#' + href + '\">' + title + '</a></li>';\n",
       "        if (level < memo_level) {\n",
       "            text_menu += \"</ul>\\n\";\n",
       "        }\n",
       "        memo_level = level;\n",
       "    }\n",
       "    text_menu += \"\";\n",
       "    var menu = document.getElementById(\"my_menu_id\");\n",
       "    menu.innerHTML=text_menu;\n",
       "};\n",
       "window.setTimeout(update_menu,2000);\n",
       "            </script>"
      ],
      "text/plain": [
       "<IPython.core.display.HTML object>"
      ]
     },
     "execution_count": 72,
     "metadata": {},
     "output_type": "execute_result"
    }
   ],
   "source": [
    "import pyensae\n",
    "%nb_menu"
   ]
  },
  {
   "cell_type": "markdown",
   "metadata": {},
   "source": [
    "### Connexion au cluster"
   ]
  },
  {
   "cell_type": "code",
   "execution_count": 9,
   "metadata": {
    "collapsed": false
   },
   "outputs": [
    {
     "data": {
      "text/html": [
       "<div style=\"background-color:gainsboro; padding:2px; border:0px;\"><b>server + hadoop + credentials</b>\n",
       "<br />blob_storage <input type=\"text\" id=\"blobhpblob_storage\" value=\"\" size=\"80\" />\n",
       "<br />hadoop_server <input type=\"text\" id=\"blobhphadoop_server\" value=\"\" size=\"80\" />\n",
       "<br />password1 <input type=\"password\" id=\"blobhppassword1\" value=\"\" size=\"80\" />\n",
       "<br />password2 <input type=\"password\" id=\"blobhppassword2\" value=\"\" size=\"80\" />\n",
       "<br />username <input type=\"text\" id=\"blobhpusername\" value=\"\" size=\"80\" />\n",
       "<br /><button onclick=\"set_valueblobhp()\">Ok</button></div>\n",
       "<script type=\"text/Javascript\">\n",
       "function blobhpcallback(msg) {\n",
       "   var ret = msg.content.data['text/plain'];\n",
       "   $('#outblobhp').text(ret);\n",
       "}\n",
       "function set_valueblobhp(){\n",
       "   command='blobhp = {' ;\n",
       "   var blobhpblob_storagevar_value = document.getElementById('blobhpblob_storage').value;\n",
       "   command += '\"blob_storage\":\"' + blobhpblob_storagevar_value + '\",';\n",
       "   var blobhphadoop_servervar_value = document.getElementById('blobhphadoop_server').value;\n",
       "   command += '\"hadoop_server\":\"' + blobhphadoop_servervar_value + '\",';\n",
       "   var blobhppassword1var_value = document.getElementById('blobhppassword1').value;\n",
       "   command += '\"password1\":\"' + blobhppassword1var_value + '\",';\n",
       "   var blobhppassword2var_value = document.getElementById('blobhppassword2').value;\n",
       "   command += '\"password2\":\"' + blobhppassword2var_value + '\",';\n",
       "   var blobhpusernamevar_value = document.getElementById('blobhpusername').value;\n",
       "   command += '\"username\":\"' + blobhpusernamevar_value + '\",';\n",
       "   command += '}';\n",
       "   var kernel = IPython.notebook.kernel;\n",
       "   kernel.execute(command);\n",
       "}\n",
       "</script>"
      ],
      "text/plain": [
       "<IPython.core.display.HTML object>"
      ]
     },
     "execution_count": 9,
     "metadata": {},
     "output_type": "execute_result"
    }
   ],
   "source": [
    "import pyquickhelper\n",
    "params={\"blob_storage\":\"\", \n",
    "        \"password1\":\"\", \n",
    "        \"hadoop_server\":\"\", \n",
    "        \"password2\":\"\", \n",
    "        \"username\":\"\"}\n",
    "pyquickhelper.ipythonhelper.open_html_form(params=params,title=\"server + hadoop + credentials\", key_save=\"blobhp\")"
   ]
  },
  {
   "cell_type": "code",
   "execution_count": 10,
   "metadata": {
    "collapsed": false
   },
   "outputs": [
    {
     "data": {
      "text/plain": [
       "(<pyensae.remote.azure_connection.AzureClient at 0x86b2550>,\n",
       " <azure.storage.blobservice.BlobService at 0x86b2518>)"
      ]
     },
     "execution_count": 10,
     "metadata": {},
     "output_type": "execute_result"
    }
   ],
   "source": [
    "import pyensae\n",
    "blobstorage = blobhp[\"blob_storage\"]\n",
    "blobpassword = blobhp[\"password1\"]\n",
    "hadoop_server = blobhp[\"hadoop_server\"]\n",
    "hadoop_password = blobhp[\"password2\"]   \n",
    "username = blobhp[\"username\"]\n",
    "client, bs =  %hd_open\n",
    "client, bs"
   ]
  },
  {
   "cell_type": "markdown",
   "metadata": {},
   "source": [
    "### Création d'un petit jeu de données"
   ]
  },
  {
   "cell_type": "markdown",
   "metadata": {},
   "source": [
    "On crée un set de données pour tester l'algorithme. (en reprenant celui présenté dans l'article)"
   ]
  },
  {
   "cell_type": "code",
   "execution_count": 11,
   "metadata": {
    "collapsed": false
   },
   "outputs": [],
   "source": [
    "with open(\"DataTEST.txt\", \"w\") as f :\n",
    "    f.write(\"1\"+\"\\t\"+\"2\"+\"\\n\"+\"1\"+\"\\t\"+\"4\"+\"\\n\"+\"2\"+\"\\t\"+\"3\"+\"\\n\"+\"2\"+\"\\t\"+\"5\"+\"\\n\"+\"3\"+\"\\t\"+\"4\"+\"\\n\"+\"4\"+\"\\t\"+\"5\"+\"\\n\"+\"5\"+\"\\t\"+\"3\"+\"\\n\"+\"5\"+\"\\t\"+\"1\"+\"\\n\"+\"5\"+\"\\t\"+\"2\")"
   ]
  },
  {
   "cell_type": "code",
   "execution_count": 12,
   "metadata": {
    "collapsed": false
   },
   "outputs": [
    {
     "data": {
      "text/html": [
       "<div>\n",
       "<table border=\"1\" class=\"dataframe\">\n",
       "  <thead>\n",
       "    <tr style=\"text-align: right;\">\n",
       "      <th></th>\n",
       "      <th>Frm</th>\n",
       "      <th>To</th>\n",
       "    </tr>\n",
       "  </thead>\n",
       "  <tbody>\n",
       "    <tr>\n",
       "      <th>0</th>\n",
       "      <td>1</td>\n",
       "      <td>2</td>\n",
       "    </tr>\n",
       "    <tr>\n",
       "      <th>1</th>\n",
       "      <td>1</td>\n",
       "      <td>4</td>\n",
       "    </tr>\n",
       "    <tr>\n",
       "      <th>2</th>\n",
       "      <td>2</td>\n",
       "      <td>3</td>\n",
       "    </tr>\n",
       "    <tr>\n",
       "      <th>3</th>\n",
       "      <td>2</td>\n",
       "      <td>5</td>\n",
       "    </tr>\n",
       "    <tr>\n",
       "      <th>4</th>\n",
       "      <td>3</td>\n",
       "      <td>4</td>\n",
       "    </tr>\n",
       "    <tr>\n",
       "      <th>5</th>\n",
       "      <td>4</td>\n",
       "      <td>5</td>\n",
       "    </tr>\n",
       "    <tr>\n",
       "      <th>6</th>\n",
       "      <td>5</td>\n",
       "      <td>3</td>\n",
       "    </tr>\n",
       "    <tr>\n",
       "      <th>7</th>\n",
       "      <td>5</td>\n",
       "      <td>1</td>\n",
       "    </tr>\n",
       "    <tr>\n",
       "      <th>8</th>\n",
       "      <td>5</td>\n",
       "      <td>2</td>\n",
       "    </tr>\n",
       "  </tbody>\n",
       "</table>\n",
       "</div>"
      ],
      "text/plain": [
       "   Frm  To\n",
       "0    1   2\n",
       "1    1   4\n",
       "2    2   3\n",
       "3    2   5\n",
       "4    3   4\n",
       "5    4   5\n",
       "6    5   3\n",
       "7    5   1\n",
       "8    5   2"
      ]
     },
     "execution_count": 12,
     "metadata": {},
     "output_type": "execute_result"
    }
   ],
   "source": [
    "import pandas\n",
    "df = pandas.read_csv(\"DataTEST.txt\", sep=\"\\t\",names=[\"Frm\",\"To\"])\n",
    "df"
   ]
  },
  {
   "cell_type": "markdown",
   "metadata": {},
   "source": [
    "On importe ce graphe:"
   ]
  },
  {
   "cell_type": "code",
   "execution_count": 13,
   "metadata": {
    "collapsed": false
   },
   "outputs": [
    {
     "data": {
      "text/plain": [
       "'$PSEUDO/Data/DataTEST.txt'"
      ]
     },
     "execution_count": 13,
     "metadata": {},
     "output_type": "execute_result"
    }
   ],
   "source": [
    "%blob_up DataTEST.txt /$PSEUDO/Data/DataTEST.txt"
   ]
  },
  {
   "cell_type": "markdown",
   "metadata": {},
   "source": [
    "On vérifie que les données ont bien été chargées:"
   ]
  },
  {
   "cell_type": "code",
   "execution_count": 16,
   "metadata": {
    "collapsed": false
   },
   "outputs": [
    {
     "data": {
      "text/html": [
       "<div>\n",
       "<table border=\"1\" class=\"dataframe\">\n",
       "  <thead>\n",
       "    <tr style=\"text-align: right;\">\n",
       "      <th></th>\n",
       "      <th>name</th>\n",
       "      <th>last_modified</th>\n",
       "      <th>content_type</th>\n",
       "      <th>content_length</th>\n",
       "      <th>blob_type</th>\n",
       "    </tr>\n",
       "  </thead>\n",
       "  <tbody>\n",
       "    <tr>\n",
       "      <th>0</th>\n",
       "      <td>xavier/Data/DataTEST.txt</td>\n",
       "      <td>Tue, 14 Jul 2015 20:41:01 GMT</td>\n",
       "      <td>application/octet-stream</td>\n",
       "      <td>43</td>\n",
       "      <td>BlockBlob</td>\n",
       "    </tr>\n",
       "  </tbody>\n",
       "</table>\n",
       "</div>"
      ],
      "text/plain": [
       "                       name                  last_modified  \\\n",
       "0  xavier/Data/DataTEST.txt  Tue, 14 Jul 2015 20:41:01 GMT   \n",
       "\n",
       "               content_type  content_length  blob_type  \n",
       "0  application/octet-stream              43  BlockBlob  "
      ]
     },
     "execution_count": 16,
     "metadata": {},
     "output_type": "execute_result"
    }
   ],
   "source": [
    "%blob_ls /$PSEUDO/Data/"
   ]
  },
  {
   "cell_type": "markdown",
   "metadata": {},
   "source": [
    "### Récupération de données réelles"
   ]
  },
  {
   "cell_type": "markdown",
   "metadata": {},
   "source": [
    "On fait de même avec les données réelles : [Google web graph](http://snap.stanford.edu/data/web-Google.html)"
   ]
  },
  {
   "cell_type": "code",
   "execution_count": 19,
   "metadata": {
    "collapsed": false
   },
   "outputs": [
    {
     "name": "stdout",
     "output_type": "stream",
     "text": [
      "    downloading of  http://snap.stanford.edu/data/web-Google.txt.gz  to  web-Google.txt.gz\n"
     ]
    },
    {
     "data": {
      "text/plain": [
       "['.\\\\web-Google.txt']"
      ]
     },
     "execution_count": 19,
     "metadata": {},
     "output_type": "execute_result"
    }
   ],
   "source": [
    "pyensae.download_data(\"web-Google.txt.gz\", url=\"http://snap.stanford.edu/data/\")"
   ]
  },
  {
   "cell_type": "code",
   "execution_count": 21,
   "metadata": {
    "collapsed": false
   },
   "outputs": [
    {
     "data": {
      "text/html": [
       "<pre>\n",
       "# Directed graph (each unordered pair of nodes is saved once): web-Google.txt \n",
       "# Webgraph from the Google programming contest, 2002\n",
       "# Nodes: 875713 Edges: 5105039\n",
       "# FromNodeId\tToNodeId\n",
       "0\t11342\n",
       "0\t824020\n",
       "0\t867923\n",
       "0\t891835\n",
       "11342\t0\n",
       "11342\t27469\n",
       "\n",
       "</pre>"
      ],
      "text/plain": [
       "<IPython.core.display.HTML object>"
      ]
     },
     "execution_count": 21,
     "metadata": {},
     "output_type": "execute_result"
    }
   ],
   "source": [
    "%head web-Google.txt"
   ]
  },
  {
   "cell_type": "markdown",
   "metadata": {},
   "source": [
    "On filtre les premières lignes."
   ]
  },
  {
   "cell_type": "code",
   "execution_count": 24,
   "metadata": {
    "collapsed": false
   },
   "outputs": [],
   "source": [
    "with open(\"web-Google.txt\", \"r\") as f:\n",
    "    with open(\"DataGoogle.txt\", \"w\") as g:\n",
    "        for line in f:\n",
    "            if not line.startswith(\"#\"):\n",
    "                g.write(line)"
   ]
  },
  {
   "cell_type": "code",
   "execution_count": 25,
   "metadata": {
    "collapsed": false
   },
   "outputs": [
    {
     "data": {
      "text/html": [
       "<pre>\n",
       "0\t11342\n",
       "0\t824020\n",
       "0\t867923\n",
       "0\t891835\n",
       "11342\t0\n",
       "11342\t27469\n",
       "11342\t38716\n",
       "11342\t309564\n",
       "11342\t322178\n",
       "11342\t387543\n",
       "\n",
       "</pre>"
      ],
      "text/plain": [
       "<IPython.core.display.HTML object>"
      ]
     },
     "execution_count": 25,
     "metadata": {},
     "output_type": "execute_result"
    }
   ],
   "source": [
    "%head DataGoogle.txt"
   ]
  },
  {
   "cell_type": "code",
   "execution_count": 26,
   "metadata": {
    "collapsed": false
   },
   "outputs": [
    {
     "data": {
      "text/plain": [
       "'$PSEUDO/Data/DataGoogle.txt'"
      ]
     },
     "execution_count": 26,
     "metadata": {},
     "output_type": "execute_result"
    }
   ],
   "source": [
    "%blob_up DataGoogle.txt /$PSEUDO/Data/DataGoogle.txt"
   ]
  },
  {
   "cell_type": "code",
   "execution_count": 27,
   "metadata": {
    "collapsed": false
   },
   "outputs": [
    {
     "data": {
      "text/html": [
       "<div>\n",
       "<table border=\"1\" class=\"dataframe\">\n",
       "  <thead>\n",
       "    <tr style=\"text-align: right;\">\n",
       "      <th></th>\n",
       "      <th>name</th>\n",
       "      <th>last_modified</th>\n",
       "      <th>content_type</th>\n",
       "      <th>content_length</th>\n",
       "      <th>blob_type</th>\n",
       "    </tr>\n",
       "  </thead>\n",
       "  <tbody>\n",
       "    <tr>\n",
       "      <th>0</th>\n",
       "      <td>xavier/Data/DataGoogle.txt</td>\n",
       "      <td>Tue, 14 Jul 2015 21:10:13 GMT</td>\n",
       "      <td>application/octet-stream</td>\n",
       "      <td>75379926</td>\n",
       "      <td>BlockBlob</td>\n",
       "    </tr>\n",
       "    <tr>\n",
       "      <th>1</th>\n",
       "      <td>xavier/Data/DataTEST.txt</td>\n",
       "      <td>Tue, 14 Jul 2015 20:41:01 GMT</td>\n",
       "      <td>application/octet-stream</td>\n",
       "      <td>43</td>\n",
       "      <td>BlockBlob</td>\n",
       "    </tr>\n",
       "  </tbody>\n",
       "</table>\n",
       "</div>"
      ],
      "text/plain": [
       "                         name                  last_modified  \\\n",
       "0  xavier/Data/DataGoogle.txt  Tue, 14 Jul 2015 21:10:13 GMT   \n",
       "1    xavier/Data/DataTEST.txt  Tue, 14 Jul 2015 20:41:01 GMT   \n",
       "\n",
       "               content_type  content_length  blob_type  \n",
       "0  application/octet-stream        75379926  BlockBlob  \n",
       "1  application/octet-stream              43  BlockBlob  "
      ]
     },
     "execution_count": 27,
     "metadata": {},
     "output_type": "execute_result"
    }
   ],
   "source": [
    "%blob_ls /$PSEUDO/Data/"
   ]
  },
  {
   "cell_type": "markdown",
   "metadata": {},
   "source": [
    "### Algorithme Page Rank"
   ]
  },
  {
   "cell_type": "markdown",
   "metadata": {},
   "source": [
    "**Initialisation de la table**"
   ]
  },
  {
   "cell_type": "code",
   "execution_count": 30,
   "metadata": {
    "collapsed": false
   },
   "outputs": [],
   "source": [
    "%%PIG Creation_Graph.pig\n",
    "\n",
    "Arcs = LOAD '$CONTAINER/$PSEUDO/Data/$path' \n",
    "       USING PigStorage('\\t') \n",
    "       AS (frm:int,to:int);\n",
    "\n",
    "GrSort = GROUP Arcs BY frm;\n",
    "deg_sort = FOREACH GrSort \n",
    "           GENERATE COUNT(Arcs) AS degs, Arcs , group AS ID;\n",
    "\n",
    "GrEntr = GROUP Arcs BY to;\n",
    "\n",
    "GrFin= JOIN deg_sort BY ID, \n",
    "            GrEntr BY group;\n",
    "\n",
    "N = FOREACH (group GrSort ALL) \n",
    "    GENERATE COUNT(GrSort);\n",
    "    \n",
    "Pr = FOREACH GrFin\n",
    "     GENERATE deg_sort::ID AS ID , (float) 1 / (float)N.$0 AS PageRank;\n",
    "            \n",
    "PageRank = JOIN GrFin BY deg_sort::ID, \n",
    "                Pr BY ID;\n",
    "        \n",
    "STORE PageRank \n",
    "INTO '$CONTAINER/$PSEUDO/Projet/SortTest.txt' \n",
    "USING PigStorage('\\t') ;"
   ]
  },
  {
   "cell_type": "code",
   "execution_count": 31,
   "metadata": {
    "collapsed": false
   },
   "outputs": [
    {
     "data": {
      "text/plain": [
       "{'id': 'job_1435385350894_0001'}"
      ]
     },
     "execution_count": 31,
     "metadata": {},
     "output_type": "execute_result"
    }
   ],
   "source": [
    "client.pig_submit(bs, \n",
    "                  client.account_name, \n",
    "                  \"Creation_Graph.pig\", \n",
    "                  params=dict(path=\"DataTEST.txt\"), \n",
    "                  stop_on_failure=True)"
   ]
  },
  {
   "cell_type": "code",
   "execution_count": 34,
   "metadata": {
    "collapsed": false
   },
   "outputs": [
    {
     "data": {
      "text/plain": [
       "('job_1435385350894_0001', '100% complete', True)"
      ]
     },
     "execution_count": 34,
     "metadata": {},
     "output_type": "execute_result"
    }
   ],
   "source": [
    "st = %hd_job_status job_1435385350894_0001\n",
    "st[\"id\"],st[\"percentComplete\"],st[\"status\"][\"jobComplete\"]"
   ]
  },
  {
   "cell_type": "code",
   "execution_count": 35,
   "metadata": {
    "collapsed": false
   },
   "outputs": [
    {
     "data": {
      "text/html": [
       "<pre>\n",
       "2015-07-14 21:15:00,763 [main] INFO  org.apache.hadoop.mapred.ClientServiceDelegate - Application state is completed. FinalApplicationStatus=SUCCEEDED. Redirecting to job history server\n",
       "2015-07-14 21:15:00,935 [main] INFO  org.apache.hadoop.yarn.client.RMProxy - Connecting to ResourceManager at headnodehost/100.74.20.101:9010\n",
       "2015-07-14 21:15:01,013 [main] INFO  org.apache.hadoop.mapred.ClientServiceDelegate - Application state is completed. FinalApplicationStatus=SUCCEEDED. Redirecting to job history server\n",
       "2015-07-14 21:15:01,858 [main] INFO  org.apache.hadoop.yarn.client.RMProxy - Connecting to ResourceManager at headnodehost/100.74.20.101:9010\n",
       "2015-07-14 21:15:01,936 [main] INFO  org.apache.hadoop.mapred.ClientServiceDelegate - Application state is completed. FinalApplicationStatus=SUCCEEDED. Redirecting to job history server\n",
       "2015-07-14 21:15:02,155 [main] WARN  org.apache.pig.backend.hadoop.executionengine.mapReduceLayer.MapReduceLauncher - No FileSystem for scheme: wasb. Not creating success file\n",
       "2015-07-14 21:15:02,155 [main] INFO  org.apache.hadoop.yarn.client.RMProxy - Connecting to ResourceManager at headnodehost/100.74.20.101:9010\n",
       "2015-07-14 21:15:02,233 [main] INFO  org.apache.hadoop.mapred.ClientServiceDelegate - Application state is completed. FinalApplicationStatus=SUCCEEDED. Redirecting to job history server\n",
       "2015-07-14 21:15:02,452 [main] INFO  org.apache.pig.backend.hadoop.executionengine.mapReduceLayer.MapReduceLauncher - Success!\n",
       "\n",
       "</pre><br />"
      ],
      "text/plain": [
       "<IPython.core.display.HTML object>"
      ]
     },
     "execution_count": 35,
     "metadata": {},
     "output_type": "execute_result"
    }
   ],
   "source": [
    "%tail_stderr job_1435385350894_0001 10"
   ]
  },
  {
   "cell_type": "markdown",
   "metadata": {},
   "source": [
    "**Itérations**"
   ]
  },
  {
   "cell_type": "markdown",
   "metadata": {},
   "source": [
    "On crée une macro pour répéter les iterations."
   ]
  },
  {
   "cell_type": "code",
   "execution_count": 36,
   "metadata": {
    "collapsed": false
   },
   "outputs": [],
   "source": [
    "%%PIG iteration.pig\n",
    "\n",
    "gr = LOAD '$CONTAINER/$PSEUDO/Projet/SortTest.txt' \n",
    "     USING PigStorage('\\t') \n",
    "     AS (DegS:long,Asort:{(frm: int,to: int)},Noeud:int,Noeud2:int,Aent:{(frm: int,to: int)},ID: int,PageRank: float);\n",
    "\n",
    "Arcs = LOAD '$CONTAINER/$PSEUDO/Data/DataTEST.txt' \n",
    "       USING PigStorage('\\t') \n",
    "       AS (frm:int,to:int);\n",
    "\n",
    "Graph = FOREACH gr\n",
    "        GENERATE Noeud , DegS, PageRank AS Pinit, PageRank,  PageRank/ (float) DegS AS Ratio;\n",
    "\n",
    "\n",
    "DEFINE my_macro(G,A,ALP) RETURNS S {\n",
    "    \n",
    "    Gi= FOREACH $G GENERATE Noeud , Ratio;\n",
    "    GrEntr = JOIN $A BY frm , Gi BY Noeud ;\n",
    "    Te = GROUP GrEntr BY to;\n",
    "    so = FOREACH Te GENERATE SUM(GrEntr.Ratio) AS Pr, group AS ID;\n",
    "    tu = JOIN $G BY Noeud, so BY ID;\n",
    "    sort = FOREACH tu GENERATE Noeud , DegS, Pinit, $ALP*Pinit+(1-$ALP)*Pr AS PageRank;\n",
    "    $S = FOREACH sort GENERATE Noeud , DegS, Pinit, PageRank, PageRank/ (float) DegS AS Ratio;\n",
    "}\n",
    "\n",
    "Ite1 = my_macro(Graph,Arcs,$alpha);\n",
    "Ite2 = my_macro(Ite1,Arcs,$alpha);\n",
    "Ite3 = my_macro(Ite2,Arcs,$alpha);\n",
    "Ite4 = my_macro(Ite3,Arcs,$alpha);\n",
    "Ite5 = my_macro(Ite4,Arcs,$alpha);\n",
    "Ite6 = my_macro(Ite5,Arcs,$alpha);\n",
    "Ite7 = my_macro(Ite6,Arcs,$alpha);\n",
    "Ite8 = my_macro(Ite7,Arcs,$alpha);\n",
    "\n",
    "Dump Ite1;\n",
    "dump Ite8;"
   ]
  },
  {
   "cell_type": "code",
   "execution_count": 37,
   "metadata": {
    "collapsed": false
   },
   "outputs": [
    {
     "data": {
      "text/plain": [
       "{'id': 'job_1435385350894_0006'}"
      ]
     },
     "execution_count": 37,
     "metadata": {},
     "output_type": "execute_result"
    }
   ],
   "source": [
    "jid = client.pig_submit(bs, \n",
    "                  client.account_name, \n",
    "                  \"iteration.pig\", \n",
    "                  params=dict(alpha=\"0\"), \n",
    "                  stop_on_failure=True )\n",
    "jid"
   ]
  },
  {
   "cell_type": "code",
   "execution_count": 46,
   "metadata": {
    "collapsed": false
   },
   "outputs": [
    {
     "data": {
      "text/plain": [
       "('job_1435385350894_0006', '100% complete', True)"
      ]
     },
     "execution_count": 46,
     "metadata": {},
     "output_type": "execute_result"
    }
   ],
   "source": [
    "st = %hd_job_status job_1435385350894_0006\n",
    "st[\"id\"],st[\"percentComplete\"],st[\"status\"][\"jobComplete\"]"
   ]
  },
  {
   "cell_type": "code",
   "execution_count": 47,
   "metadata": {
    "collapsed": false
   },
   "outputs": [
    {
     "data": {
      "text/html": [
       "<pre>\n",
       "2015-07-14 21:39:13,398 [main] INFO  org.apache.hadoop.mapred.ClientServiceDelegate - Application state is completed. FinalApplicationStatus=SUCCEEDED. Redirecting to job history server\n",
       "2015-07-14 21:39:13,572 [main] INFO  org.apache.hadoop.yarn.client.RMProxy - Connecting to ResourceManager at headnodehost/100.74.20.101:9010\n",
       "2015-07-14 21:39:13,650 [main] INFO  org.apache.hadoop.mapred.ClientServiceDelegate - Application state is completed. FinalApplicationStatus=SUCCEEDED. Redirecting to job history server\n",
       "2015-07-14 21:39:13,822 [main] INFO  org.apache.hadoop.yarn.client.RMProxy - Connecting to ResourceManager at headnodehost/100.74.20.101:9010\n",
       "2015-07-14 21:39:13,884 [main] INFO  org.apache.hadoop.mapred.ClientServiceDelegate - Application state is completed. FinalApplicationStatus=SUCCEEDED. Redirecting to job history server\n",
       "2015-07-14 21:39:14,575 [main] INFO  org.apache.hadoop.yarn.client.RMProxy - Connecting to ResourceManager at headnodehost/100.74.20.101:9010\n",
       "2015-07-14 21:39:14,653 [main] INFO  org.apache.hadoop.mapred.ClientServiceDelegate - Application state is completed. FinalApplicationStatus=SUCCEEDED. Redirecting to job history server\n",
       "2015-07-14 21:39:14,809 [main] INFO  org.apache.hadoop.yarn.client.RMProxy - Connecting to ResourceManager at headnodehost/100.74.20.101:9010\n",
       "2015-07-14 21:39:14,903 [main] INFO  org.apache.hadoop.mapred.ClientServiceDelegate - Application state is completed. FinalApplicationStatus=SUCCEEDED. Redirecting to job history server\n",
       "2015-07-14 21:39:15,512 [main] INFO  org.apache.hadoop.yarn.client.RMProxy - Connecting to ResourceManager at headnodehost/100.74.20.101:9010\n",
       "2015-07-14 21:39:15,590 [main] INFO  org.apache.hadoop.mapred.ClientServiceDelegate - Application state is completed. FinalApplicationStatus=SUCCEEDED. Redirecting to job history server\n",
       "2015-07-14 21:39:15,746 [main] WARN  org.apache.pig.backend.hadoop.executionengine.mapReduceLayer.MapReduceLauncher - No FileSystem for scheme: wasb. Not creating success file\n",
       "2015-07-14 21:39:15,746 [main] INFO  org.apache.hadoop.yarn.client.RMProxy - Connecting to ResourceManager at headnodehost/100.74.20.101:9010\n",
       "2015-07-14 21:39:15,825 [main] INFO  org.apache.hadoop.mapred.ClientServiceDelegate - Application state is completed. FinalApplicationStatus=SUCCEEDED. Redirecting to job history server\n",
       "2015-07-14 21:39:15,965 [main] INFO  org.apache.pig.backend.hadoop.executionengine.mapReduceLayer.MapReduceLauncher - Success!\n",
       "2015-07-14 21:39:15,965 [main] INFO  org.apache.hadoop.conf.Configuration.deprecation - fs.default.name is deprecated. Instead, use fs.defaultFS\n",
       "2015-07-14 21:39:15,965 [main] INFO  org.apache.pig.data.SchemaTupleBackend - Key [pig.schematuple] was not set... will not generate code.\n",
       "2015-07-14 21:39:16,012 [main] INFO  org.apache.hadoop.mapreduce.lib.input.FileInputFormat - Total input paths to process : 1\n",
       "2015-07-14 21:39:16,012 [main] INFO  org.apache.pig.backend.hadoop.executionengine.util.MapRedUtil - Total input paths to process : 1\n",
       "\n",
       "</pre><br /><b>OUT:</b><br /><pre>\n",
       "(1,2,0.2,0.06666667014360428,0.03333333507180214)\n",
       "(2,2,0.2,0.1666666716337204,0.0833333358168602)\n",
       "(3,1,0.2,0.1666666716337204,0.1666666716337204)\n",
       "(4,1,0.2,0.30000000447034836,0.30000000447034836)\n",
       "(5,3,0.2,0.30000000447034836,0.10000000149011612)\n",
       "(1,2,0.2,0.10671296522573188,0.05335648261286594)\n",
       "(2,2,0.2,0.15640432448816244,0.07820216224408122)\n",
       "(3,1,0.2,0.18429784359479393,0.18429784359479393)\n",
       "(4,1,0.2,0.23171296837325728,0.23171296837325728)\n",
       "(5,3,0.2,0.3208719206697963,0.1069573068899321)\n",
       "\n",
       "</pre>"
      ],
      "text/plain": [
       "<IPython.core.display.HTML object>"
      ]
     },
     "execution_count": 47,
     "metadata": {},
     "output_type": "execute_result"
    }
   ],
   "source": [
    "%tail_stderr job_1435385350894_0006 20"
   ]
  },
  {
   "cell_type": "markdown",
   "metadata": {},
   "source": [
    "On peut alors s'intéresser aux vraies données !"
   ]
  },
  {
   "cell_type": "markdown",
   "metadata": {},
   "source": [
    "### Avec les données Google"
   ]
  },
  {
   "cell_type": "markdown",
   "metadata": {},
   "source": [
    "**initialisation**"
   ]
  },
  {
   "cell_type": "code",
   "execution_count": 48,
   "metadata": {
    "collapsed": false
   },
   "outputs": [],
   "source": [
    "%%PIG Creation_Graph2.pig\n",
    "\n",
    "Arcs = LOAD '$CONTAINER/$PSEUDO/Data/$path' \n",
    "       USING PigStorage('\\t') \n",
    "       AS (frm:int,to:int);\n",
    "\n",
    "GrSort = GROUP Arcs BY frm;\n",
    "deg_sort = FOREACH GrSort \n",
    "           GENERATE COUNT(Arcs) AS degs, Arcs , group AS ID;\n",
    "\n",
    "GrEntr = GROUP Arcs BY to;\n",
    "GrFin = JOIN deg_sort BY ID, \n",
    "        GrEntr BY group;\n",
    "\n",
    "N = FOREACH (GROUP GrSort ALL) \n",
    "    GENERATE COUNT(GrSort);\n",
    "Pr = FOREACH GrFin \n",
    "     GENERATE deg_sort::ID AS ID , (float) 1 / (float)N.$0 AS PageRank;\n",
    "PageRank = JOIN GrFin BY deg_sort::ID, Pr BY ID;\n",
    "        \n",
    "STORE PageRank \n",
    "INTO '$CONTAINER/$PSEUDO/Projet/SortGoogle.txt' \n",
    "USING PigStorage('\\t') ;"
   ]
  },
  {
   "cell_type": "code",
   "execution_count": 49,
   "metadata": {
    "collapsed": false
   },
   "outputs": [
    {
     "data": {
      "text/plain": [
       "{'id': 'job_1435385350894_0037'}"
      ]
     },
     "execution_count": 49,
     "metadata": {},
     "output_type": "execute_result"
    }
   ],
   "source": [
    "client.pig_submit(bs, client.account_name, \"Creation_Graph2.pig\", params=dict(path=\"DataGoogle.txt\"), stop_on_failure=True )"
   ]
  },
  {
   "cell_type": "code",
   "execution_count": 54,
   "metadata": {
    "collapsed": false
   },
   "outputs": [
    {
     "data": {
      "text/plain": [
       "('job_1435385350894_0037', '100% complete', True)"
      ]
     },
     "execution_count": 54,
     "metadata": {},
     "output_type": "execute_result"
    }
   ],
   "source": [
    "st = %hd_job_status job_1435385350894_0037\n",
    "st[\"id\"],st[\"percentComplete\"],st[\"status\"][\"jobComplete\"]"
   ]
  },
  {
   "cell_type": "code",
   "execution_count": 56,
   "metadata": {
    "collapsed": false
   },
   "outputs": [
    {
     "data": {
      "text/html": [
       "<pre>\n",
       "Total records proactively spilled: 0\n",
       "\n",
       "Job DAG:\n",
       "job_1435385350894_0038\t->\tjob_1435385350894_0039,job_1435385350894_0040,\n",
       "job_1435385350894_0039\t->\tjob_1435385350894_0041,\n",
       "job_1435385350894_0040\t->\tjob_1435385350894_0041,\n",
       "job_1435385350894_0041\n",
       "\n",
       "\n",
       "2015-07-14 21:50:12,957 [main] INFO  org.apache.hadoop.yarn.client.RMProxy - Connecting to ResourceManager at headnodehost/100.74.20.101:9010\n",
       "2015-07-14 21:50:13,066 [main] INFO  org.apache.hadoop.mapred.ClientServiceDelegate - Application state is completed. FinalApplicationStatus=SUCCEEDED. Redirecting to job history server\n",
       "2015-07-14 21:50:13,223 [main] INFO  org.apache.hadoop.yarn.client.RMProxy - Connecting to ResourceManager at headnodehost/100.74.20.101:9010\n",
       "2015-07-14 21:50:13,285 [main] INFO  org.apache.hadoop.mapred.ClientServiceDelegate - Application state is completed. FinalApplicationStatus=SUCCEEDED. Redirecting to job history server\n",
       "2015-07-14 21:50:13,457 [main] INFO  org.apache.hadoop.yarn.client.RMProxy - Connecting to ResourceManager at headnodehost/100.74.20.101:9010\n",
       "2015-07-14 21:50:13,535 [main] INFO  org.apache.hadoop.mapred.ClientServiceDelegate - Application state is completed. FinalApplicationStatus=SUCCEEDED. Redirecting to job history server\n",
       "2015-07-14 21:50:13,756 [main] WARN  org.apache.pig.backend.hadoop.executionengine.mapReduceLayer.MapReduceLauncher - No FileSystem for scheme: wasb. Not creating success file\n",
       "2015-07-14 21:50:13,756 [main] INFO  org.apache.hadoop.yarn.client.RMProxy - Connecting to ResourceManager at headnodehost/100.74.20.101:9010\n",
       "2015-07-14 21:50:13,832 [main] INFO  org.apache.hadoop.mapred.ClientServiceDelegate - Application state is completed. FinalApplicationStatus=SUCCEEDED. Redirecting to job history server\n",
       "2015-07-14 21:50:14,301 [main] INFO  org.apache.pig.backend.hadoop.executionengine.mapReduceLayer.MapReduceLauncher - Success!\n",
       "\n",
       "</pre><br />"
      ],
      "text/plain": [
       "<IPython.core.display.HTML object>"
      ]
     },
     "execution_count": 56,
     "metadata": {},
     "output_type": "execute_result"
    }
   ],
   "source": [
    "%tail_stderr job_1435385350894_0037 20"
   ]
  },
  {
   "cell_type": "code",
   "execution_count": 57,
   "metadata": {
    "collapsed": false
   },
   "outputs": [],
   "source": [
    "%%PIG iteration2.pig\n",
    "\n",
    "gr = LOAD '$CONTAINER/$PSEUDO/Projet/SortGoogle.txt' \n",
    "    USING PigStorage('\\t') \n",
    "    AS (DegS:long,Asort:{(frm: int,to: int)},Noeud:int,Noeud2:int,Aent:{(frm: int,to: int)},ID: int,PageRank: float);\n",
    "\n",
    "Arcs = LOAD '$CONTAINER/$PSEUDO/Data/DataGoogle.txt' \n",
    "       USING PigStorage('\\t') \n",
    "       AS (frm:int,to:int);\n",
    "\n",
    "Graph = FOREACH gr \n",
    "        GENERATE Noeud , DegS, PageRank AS Pinit, PageRank,  PageRank/ (float) DegS AS Ratio;\n",
    "\n",
    "DEFINE my_macro(G,A,ALP) RETURNS S {\n",
    "    Gi= FOREACH $G GENERATE Noeud , Ratio;\n",
    "    GrEntr = JOIN $A by frm , Gi by Noeud ;\n",
    "    Te = GROUP GrEntr by to;\n",
    "    so = FOREACH Te generate SUM(GrEntr.Ratio) AS Pr, group AS ID;\n",
    "    tu = JOIN $G by Noeud, so by ID;\n",
    "    sort = FOREACH tu GENERATE Noeud , DegS, Pinit, $ALP*Pinit+(1-$ALP)*Pr AS PageRank;\n",
    "    $S = FOREACH sort GENERATE Noeud , DegS, Pinit, PageRank, PageRank/ (float) DegS AS Ratio;\n",
    "}\n",
    "\n",
    "Ite1 = my_macro(Graph,Arcs,$alpha);\n",
    "Ite2 = my_macro(Ite1,Arcs,$alpha);\n",
    "Ite3 = my_macro(Ite2,Arcs,$alpha);\n",
    "Ite4 = my_macro(Ite3,Arcs,$alpha);\n",
    "Ite5 = my_macro(Ite4,Arcs,$alpha);\n",
    "Ite6 = my_macro(Ite5,Arcs,$alpha);\n",
    "Ite7 = my_macro(Ite6,Arcs,$alpha);\n",
    "Ite8 = my_macro(Ite7,Arcs,$alpha);\n",
    "\n",
    "Dump Ite1;\n",
    "dump Ite8;\n",
    "\n",
    "STORE Ite8 INTO '$CONTAINER/$PSEUDO/Projet/PageRank.txt' USING PigStorage('\\t') ;"
   ]
  },
  {
   "cell_type": "code",
   "execution_count": 58,
   "metadata": {
    "collapsed": false
   },
   "outputs": [
    {
     "data": {
      "text/plain": [
       "{'id': 'job_1435385350894_0042'}"
      ]
     },
     "execution_count": 58,
     "metadata": {},
     "output_type": "execute_result"
    }
   ],
   "source": [
    "client.pig_submit(bs, \n",
    "                  client.account_name, \n",
    "                  \"iteration2.pig\", \n",
    "                  params=dict(alpha=\"0.5\"), \n",
    "                  stop_on_failure=True )"
   ]
  },
  {
   "cell_type": "code",
   "execution_count": 68,
   "metadata": {
    "collapsed": false
   },
   "outputs": [
    {
     "data": {
      "text/plain": [
       "('job_1435385350894_0042', '22% complete', False)"
      ]
     },
     "execution_count": 68,
     "metadata": {},
     "output_type": "execute_result"
    }
   ],
   "source": [
    "st = %hd_job_status job_1435385350894_0042\n",
    "st[\"id\"],st[\"percentComplete\"],st[\"status\"][\"jobComplete\"]"
   ]
  },
  {
   "cell_type": "code",
   "execution_count": 62,
   "metadata": {
    "collapsed": false
   },
   "outputs": [
    {
     "data": {
      "text/html": [
       "<pre>\n",
       "\n",
       "</pre><br />"
      ],
      "text/plain": [
       "<IPython.core.display.HTML object>"
      ]
     },
     "execution_count": 62,
     "metadata": {},
     "output_type": "execute_result"
    }
   ],
   "source": [
    "%tail_stderr job_1435385350894_0042 20"
   ]
  },
  {
   "cell_type": "code",
   "execution_count": null,
   "metadata": {
    "collapsed": false
   },
   "outputs": [],
   "source": [
    "%blob_downmerge /$PSEUDO/Projet/PageRank.txt PageRank.txt"
   ]
  },
  {
   "cell_type": "code",
   "execution_count": 141,
   "metadata": {
    "collapsed": false
   },
   "outputs": [
    {
     "data": {
      "text/plain": [
       "<matplotlib.axes._subplots.AxesSubplot at 0x98dc6a0>"
      ]
     },
     "execution_count": 141,
     "metadata": {},
     "output_type": "execute_result"
    },
    {
     "data": {
      "image/png": "[encoded data removed]",
      "text/plain": [
       "<matplotlib.figure.Figure at 0x9e339b0>"
      ]
     },
     "metadata": {},
     "output_type": "display_data"
    }
   ],
   "source": [
    "import pandas\n",
    "import matplotlib as plt\n",
    "plt.style.use('ggplot')\n",
    "\n",
    "df = pandas.read_csv(\"PageRank.txt\", sep=\"\\t\",names=[\"Node\",\"OutDeg\",\"Pinit\", \"PageRank\", \"k\"])\n",
    "df\n",
    "df['PageRank'].hist(bins=100, range=(0,0.000005))"
   ]
  },
  {
   "cell_type": "code",
   "execution_count": 133,
   "metadata": {
    "collapsed": false
   },
   "outputs": [
    {
     "data": {
      "text/html": [
       "<div style=\"max-height:1000px;max-width:1500px;overflow:auto;\">\n",
       "<table border=\"1\" class=\"dataframe\">\n",
       "  <thead>\n",
       "    <tr style=\"text-align: right;\">\n",
       "      <th></th>\n",
       "      <th>0</th>\n",
       "      <th>4</th>\n",
       "      <th>1.3523492E-6</th>\n",
       "      <th>1.7763069149312133E-5</th>\n",
       "      <th>4.440767287328033E-6</th>\n",
       "    </tr>\n",
       "  </thead>\n",
       "  <tbody>\n",
       "    <tr>\n",
       "      <th>0</th>\n",
       "      <td> 1</td>\n",
       "      <td> 10</td>\n",
       "      <td> 0.000001</td>\n",
       "      <td> 0.000001</td>\n",
       "      <td> 1.290813e-07</td>\n",
       "    </tr>\n",
       "    <tr>\n",
       "      <th>1</th>\n",
       "      <td> 2</td>\n",
       "      <td> 11</td>\n",
       "      <td> 0.000001</td>\n",
       "      <td> 0.000002</td>\n",
       "      <td> 2.031753e-07</td>\n",
       "    </tr>\n",
       "    <tr>\n",
       "      <th>2</th>\n",
       "      <td> 4</td>\n",
       "      <td>  7</td>\n",
       "      <td> 0.000001</td>\n",
       "      <td> 0.000001</td>\n",
       "      <td> 1.567663e-07</td>\n",
       "    </tr>\n",
       "    <tr>\n",
       "      <th>3</th>\n",
       "      <td> 5</td>\n",
       "      <td>  7</td>\n",
       "      <td> 0.000001</td>\n",
       "      <td> 0.000002</td>\n",
       "      <td> 2.325914e-07</td>\n",
       "    </tr>\n",
       "    <tr>\n",
       "      <th>4</th>\n",
       "      <td> 7</td>\n",
       "      <td> 16</td>\n",
       "      <td> 0.000001</td>\n",
       "      <td> 0.000001</td>\n",
       "      <td> 5.447865e-08</td>\n",
       "    </tr>\n",
       "  </tbody>\n",
       "</table>\n",
       "</div>"
      ],
      "text/plain": [
       "   0   4  1.3523492E-6  1.7763069149312133E-5  4.440767287328033E-6\n",
       "0  1  10      0.000001               0.000001          1.290813e-07\n",
       "1  2  11      0.000001               0.000002          2.031753e-07\n",
       "2  4   7      0.000001               0.000001          1.567663e-07\n",
       "3  5   7      0.000001               0.000002          2.325914e-07\n",
       "4  7  16      0.000001               0.000001          5.447865e-08"
      ]
     },
     "execution_count": 133,
     "metadata": {},
     "output_type": "execute_result"
    }
   ],
   "source": []
  },
  {
   "cell_type": "code",
   "execution_count": null,
   "metadata": {
    "collapsed": false
   },
   "outputs": [],
   "source": []
  },
  {
   "cell_type": "code",
   "execution_count": 40,
   "metadata": {
    "collapsed": false
   },
   "outputs": [
    {
     "data": {
      "text/plain": [
       "True"
      ]
     },
     "execution_count": 40,
     "metadata": {},
     "output_type": "execute_result"
    }
   ],
   "source": [
    "%blob_close"
   ]
  }
 ],
 "metadata": {
  "kernelspec": {
   "display_name": "Python 3",
   "language": "python",
   "name": "python3"
  },
  "language_info": {
   "codemirror_mode": {
    "name": "ipython",
    "version": 3
   },
   "file_extension": ".py",
   "mimetype": "text/x-python",
   "name": "python",
   "nbconvert_exporter": "python",
   "pygments_lexer": "ipython3",
   "version": "3.4.3"
  }
 },
 "nbformat": 4,
 "nbformat_minor": 0
}
