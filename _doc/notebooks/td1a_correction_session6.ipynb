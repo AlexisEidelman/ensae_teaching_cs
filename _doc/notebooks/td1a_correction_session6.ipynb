{
 "metadata": {
  "name": "",
  "signature": "sha256:17ffd3a44f1957082059f78c6cabf53cc0ad7f2dd8fe05fbe200659662acc8aa"
 },
 "nbformat": 3,
 "nbformat_minor": 0,
 "worksheets": [
  {
   "cells": [
    {
     "cell_type": "heading",
     "level": 1,
     "metadata": {},
     "source": [
      "TD 6 : Classes, h\u00e9ritage (correction)"
     ]
    },
    {
     "cell_type": "markdown",
     "metadata": {},
     "source": [
      "_Cette s\u00e9ance est plus courte pour laisser la place \u00e0 une interrogation \u00e9crite._\n",
      "\n",
      "Plan\n",
      "\n",
      "* [Exercice 1 : pi\u00e8ce normale](#exo1)\n",
      "* [Exercice 2 : pi\u00e8ce truqu\u00e9e](#exo2)\n",
      "* [Exercice 3 : pi\u00e8ce mixte](#exo3)\n",
      "* [Exercice 4 : pi\u00e8ce mixte avec des fonctions](#exo4)\n"
     ]
    },
    {
     "cell_type": "markdown",
     "metadata": {},
     "source": [
      "<h3 id=\"exo1\">Exercice 1 : pi\u00e8ce normale</h3>"
     ]
    },
    {
     "cell_type": "code",
     "collapsed": false,
     "input": [
      "import random\n",
      "class Piece :\n",
      "    def tirage_aleatoire(self, precedent) :\n",
      "        return random.randint(0,1)\n",
      "    def moyenne_tirage(self, n):\n",
      "        tirage = [ ]\n",
      "        for i in range (n) :\n",
      "            precedent = tirage[-1] if i > 0 else None\n",
      "            tirage.append( self.tirage_aleatoire (precedent) )\n",
      "        s = sum(tirage)\n",
      "        return s * 1.0 / len(tirage)\n",
      "            \n",
      "p = Piece()\n",
      "print (p.moyenne_tirage(100))"
     ],
     "language": "python",
     "metadata": {},
     "outputs": [
      {
       "output_type": "stream",
       "stream": "stdout",
       "text": [
        "0.48\n"
       ]
      }
     ],
     "prompt_number": 1
    },
    {
     "cell_type": "markdown",
     "metadata": {},
     "source": [
      "<h3 id=\"exo2\">Exercice 2 : pi\u00e8ce truqu\u00e9e</h3>"
     ]
    },
    {
     "cell_type": "code",
     "collapsed": false,
     "input": [
      "class PieceTruquee (Piece) :\n",
      "    def tirage_aleatoire(self, precedent) :\n",
      "        if precedent == None or precedent == 1 :\n",
      "            return random.randint(0,1)\n",
      "        else :\n",
      "            return 1 if random.randint(0,9) >= 3 else 0\n",
      "        \n",
      "p = PieceTruquee()\n",
      "print (p.moyenne_tirage(100))"
     ],
     "language": "python",
     "metadata": {},
     "outputs": [
      {
       "output_type": "stream",
       "stream": "stdout",
       "text": [
        "0.58\n"
       ]
      }
     ],
     "prompt_number": 2
    },
    {
     "cell_type": "markdown",
     "metadata": {},
     "source": [
      "<h3 id=\"exo3\">Exercice 3 : Pi\u00e8ce mixte</h3>"
     ]
    },
    {
     "cell_type": "code",
     "collapsed": false,
     "input": [
      "class PieceTruqueeMix (PieceTruquee) :\n",
      "    def tirage_aleatoire(self, precedent) :\n",
      "        if random.randint(0,1) == 0 :\n",
      "            return Piece.tirage_aleatoire(self, precedent)\n",
      "        else :\n",
      "            return PieceTruquee.tirage_aleatoire(self, precedent)\n",
      "        \n",
      "p = PieceTruqueeMix()\n",
      "print (p.moyenne_tirage(100))"
     ],
     "language": "python",
     "metadata": {},
     "outputs": [
      {
       "output_type": "stream",
       "stream": "stdout",
       "text": [
        "0.67\n"
       ]
      }
     ],
     "prompt_number": 3
    },
    {
     "cell_type": "markdown",
     "metadata": {},
     "source": [
      "<h3 id=\"exo4\">Exercice 4 : pi\u00e8ce mixte avec des fonctions</h3>"
     ]
    },
    {
     "cell_type": "code",
     "collapsed": false,
     "input": [
      "# ce qui vient de l'\u00e9nonc\u00e9\n",
      "def moyenne_tirage(n, fonction):\n",
      "    \"\"\"\n",
      "    cette fonction fait la moyenne des r\u00e9sultats produits par la fonction pass\u00e9e en argument\n",
      "    \"\"\"\n",
      "    tirage = [ ]\n",
      "    for i in range (n) :\n",
      "        precedent = tirage[-1] if i > 0 else None\n",
      "        tirage.append( fonction (precedent) )\n",
      "    s = sum(tirage)\n",
      "    return s * 1.0 / len(tirage)\n",
      "        \n",
      "def truquee (precedent) :\n",
      "    if precedent == None or precedent == 1 :\n",
      "        return random.randint(0,1)\n",
      "    else :\n",
      "        return 1 if random.randint(0,9) >= 3 else 0\n",
      "\n",
      "# la partie ajout\u00e9e pour la correction\n",
      "print (moyenne_tirage(100, lambda v : random.randint(0,1) if  random.randint(0,1) == 0 \\\n",
      "                    else truquee(v)))"
     ],
     "language": "python",
     "metadata": {},
     "outputs": [
      {
       "output_type": "stream",
       "stream": "stdout",
       "text": [
        "0.51\n"
       ]
      }
     ],
     "prompt_number": 5
    }
   ],
   "metadata": {}
  }
 ]
}