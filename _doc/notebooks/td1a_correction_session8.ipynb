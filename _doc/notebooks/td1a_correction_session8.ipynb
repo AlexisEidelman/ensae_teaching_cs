{
 "metadata": {
  "name": "",
  "signature": "sha256:9ace5c13713c19682a508cdc2192f247c44c78c57d500ef2662a5052cde90e05"
 },
 "nbformat": 3,
 "nbformat_minor": 0,
 "worksheets": [
  {
   "cells": [
    {
     "cell_type": "heading",
     "level": 1,
     "metadata": {},
     "source": [
      "TD 8 : Arbre et Trie"
     ]
    },
    {
     "cell_type": "markdown",
     "metadata": {},
     "source": [
      "Plan\n",
      "\n",
      "* [Construction d'une liste al\u00e9atoire](#alea)\n",
      "    * [Exercice 1](#exo1)\n",
      "    * [Exercice 2](#exo2)\n",
      "* [Recherche dichotomique](#dicho)\n",
      "    * [Exercice 3](#exo3)\n",
      "    * [Exercice 4](#exo4)\n",
      "* [Trie](#trie)\n",
      "    * [Exercice 5](#exo5)\n",
      "* [Recherche dans un trie](#triec)    \n",
      "    * [Exercice 6](#exo6)\n",
      "    * [Exercice 7](#exo7)\n",
      "* [Plus en d\u00e9tails](#plus)    \n",
      "    \n",
      "\n",
      "<h2 id=\"alea\">Construction d'une liste al\u00e9atoire</h2>\n",
      "<h3 id=\"exo1\">Exercice 1</h3>\n"
     ]
    },
    {
     "cell_type": "code",
     "collapsed": false,
     "input": [
      "import random\n",
      "def mot_alea (l) :\n",
      "    l = [ chr(97+random.randint(0,25)) for i in range(l) ]\n",
      "    return \"\".join(l)\n",
      "\n",
      "taille  = 20\n",
      "N       = 10000\n",
      "mots    = [ mot_alea(taille) for _ in range (N) ]\n",
      "print(len(mots))"
     ],
     "language": "python",
     "metadata": {},
     "outputs": [
      {
       "output_type": "stream",
       "stream": "stdout",
       "text": [
        "10000\n"
       ]
      }
     ],
     "prompt_number": 1
    },
    {
     "cell_type": "markdown",
     "metadata": {},
     "source": [
      "<h3 id=\"exo2\">Exercice 2</h3>"
     ]
    },
    {
     "cell_type": "code",
     "collapsed": false,
     "input": [
      "import time\n",
      "debut = time.clock()\n",
      "for k in mots :\n",
      "    i = mots.index(k)\n",
      "fin = time.clock()\n",
      "print (\"recherche simple\",fin - debut)"
     ],
     "language": "python",
     "metadata": {},
     "outputs": [
      {
       "output_type": "stream",
       "stream": "stdout",
       "text": [
        "recherche simple 3.2082556817841654\n"
       ]
      }
     ],
     "prompt_number": 2
    },
    {
     "cell_type": "markdown",
     "metadata": {},
     "source": [
      "<h2 id=\"dicho\">Recherche dichotomique</h2>\n",
      "\n",
      "<h3 id=\"exo3\">Exercice 3</h3>\n"
     ]
    },
    {
     "cell_type": "code",
     "collapsed": false,
     "input": [
      "def dicho (mots, x) :\n",
      "    a = 0\n",
      "    b = len(mots)-1\n",
      "    while a < b :\n",
      "        m = (a+b)//2\n",
      "        t = mots[m] \n",
      "        if t < x : b = m-1 \n",
      "        elif t == m :\n",
      "            return \n",
      "        else :\n",
      "            a = m+1\n",
      "    return a\n",
      "\n",
      "mots.sort()\n",
      "\n",
      "debut = time.clock()\n",
      "for k in mots :\n",
      "    i = dicho(mots, k)\n",
      "fin = time.clock()\n",
      "print (\"dichotomie\",fin - debut)"
     ],
     "language": "python",
     "metadata": {},
     "outputs": [
      {
       "output_type": "stream",
       "stream": "stdout",
       "text": [
        "dichotomie 0.1225903787057856\n"
       ]
      }
     ],
     "prompt_number": 3
    },
    {
     "cell_type": "markdown",
     "metadata": {},
     "source": [
      "<h3 id=\"exo4\">Exercice 4</h3>\n"
     ]
    },
    {
     "cell_type": "code",
     "collapsed": false,
     "input": [
      "for N in [10, 100, 1000, 10000, 100000] :\n",
      "    mots    = [ mot_alea(taille) for _ in range (N) ]\n",
      "    tolook  = [ mots[ random.randint(0,len(mots)-1) ] for i in range(0,1000) ]\n",
      "    mots.sort()\n",
      "    \n",
      "    debut = time.clock()\n",
      "    for k in tolook :\n",
      "        i = mots.index(k)\n",
      "    fin = time.clock()    \n",
      "    ds = fin-debut\n",
      "    \n",
      "    debut = time.clock()\n",
      "    for k in tolook :\n",
      "        i = dicho(mots, k)\n",
      "    fin = time.clock()    \n",
      "    dd = fin-debut\n",
      "    \n",
      "    print(N, \"simple\",ds, \"dicho\",dd, \"ratio\", ds / dd, \" ratio th\u00e9orique \", len(mots)/math.log(len(mots)) * math.log(2)/30)"
     ],
     "language": "python",
     "metadata": {},
     "outputs": [
      {
       "output_type": "stream",
       "stream": "stdout",
       "text": [
        "10 simple 0.0011486299829202018 dicho 0.00435033984223665 ratio 0.26403224220976124  ratio th\u00e9orique  0.1003433318879937\n",
        "100 simple 0.0047078434407925585 dicho 0.015194330574511472 ratio 0.3098421097070231  ratio th\u00e9orique  0.5017166594399687\n",
        "1000"
       ]
      },
      {
       "output_type": "stream",
       "stream": "stdout",
       "text": [
        " simple 0.023808200174646466 dicho 0.008512519895759407 ratio 2.796845172309876  ratio th\u00e9orique  3.3447777295997914\n",
        "10000"
       ]
      },
      {
       "output_type": "stream",
       "stream": "stdout",
       "text": [
        " simple 0.26470832239298137 dicho 0.011088598457602572 ratio 23.87211723872027  ratio th\u00e9orique  25.085832971998425\n",
        "100000"
       ]
      },
      {
       "output_type": "stream",
       "stream": "stdout",
       "text": [
        " simple 8.636268740073504 dicho 0.01683602473103818 ratio 512.9636525273122  ratio th\u00e9orique  200.68666377598748\n"
       ]
      }
     ],
     "prompt_number": 4
    },
    {
     "cell_type": "markdown",
     "metadata": {},
     "source": [
      "Soit $N$ le nombre de mots dans la liste :\n",
      "\n",
      "* co\u00fbt de la recherche simple : $O(N)$ \n",
      "* co\u00fbt de la recherche dichotomique : $O(\\ln N)$ \n",
      "\n",
      "Le ratio $N/\\ln N$ mesur\u00e9 en pratique devrait \u00eatre sensiblement \u00e9gal au ratio th\u00e9orique \u00e0 un facteur multiplication pr\u00e8s. Le trie du tableau qui pr\u00e9c\u00e8de la recherche dichotomique n'est pas pris en compte. Plus on effectue de recherche, plus son co\u00fbt devient marginal. Ce co\u00fbt explique n\u00e9anmoins pourquoi on ne fait pas toujours une recherche dichotomique."
     ]
    },
    {
     "cell_type": "markdown",
     "metadata": {},
     "source": [
      "<h2 id=\"trie\">Trie</h2>\n",
      "<h3 id=\"exo5\">Exercice 5</h3>\n"
     ]
    },
    {
     "cell_type": "code",
     "collapsed": false,
     "input": [
      "def build_trie(mots) :\n",
      "    trie = { }\n",
      "    for m in mots :\n",
      "        r = trie\n",
      "        for c in m :\n",
      "            if c not in r : r[c] = { }\n",
      "            r = r[c]\n",
      "    return trie\n",
      "\n",
      "mots = [ \"aaa\", \"aba\", \"aab\", \"baa\", \"bbb\", \"bba\", \"bab\" ]\n",
      "\n",
      "trie = build_trie(mots)\n",
      "print(trie)"
     ],
     "language": "python",
     "metadata": {},
     "outputs": [
      {
       "output_type": "stream",
       "stream": "stdout",
       "text": [
        "{'b': {'b': {'b': {}, 'a': {}}, 'a': {'b': {}, 'a': {}}}, 'a': {'b': {'a': {}}, 'a': {'b': {}, 'a': {}}}}\n"
       ]
      }
     ],
     "prompt_number": 5
    },
    {
     "cell_type": "markdown",
     "metadata": {},
     "source": [
      "<h2 id=\"triec\">Recherche dans un trie</h2>\n",
      "\n",
      "<h3 id=\"exo6\">Exercice 6</h3>\n",
      "\n"
     ]
    },
    {
     "cell_type": "code",
     "collapsed": false,
     "input": [
      "def lookup(trie, m) :\n",
      "    r = trie\n",
      "    for c in m :\n",
      "        if c in r :\n",
      "            r = r[c]\n",
      "        else :\n",
      "            return False\n",
      "    return True\n",
      "\n",
      "for k in mots :\n",
      "    print(k, lookup(trie, k))\n",
      "print(\"baa\", lookup(trie, \"bcc\"))    "
     ],
     "language": "python",
     "metadata": {},
     "outputs": [
      {
       "output_type": "stream",
       "stream": "stdout",
       "text": [
        "aaa True\n",
        "aba True\n",
        "aab True\n",
        "baa True\n",
        "bbb True\n",
        "bba True\n",
        "bab True\n",
        "baa False\n"
       ]
      }
     ],
     "prompt_number": 6
    },
    {
     "cell_type": "markdown",
     "metadata": {},
     "source": [
      "<h3 id=\"ex07\">Exercice 7</h3>\n",
      "\n",
      "Soit $L$ la longueur maximale des mots et $C$ le nombre de lettres distinctes, avec un trie, le co\u00fbt de la recherche est major\u00e9 par : $O(L \\ln C)$. On reprend le code de l'exercice 5 et on ajoute le code associ\u00e9 au trie. On effectue 10000 recherches au lieu de 1000 pour avoir une meilleure estimation de la diff\u00e9rence (pour vous en convaincre, il suffit comparer les temps obtenus par deux ex\u00e9cution de ce m\u00eame code)."
     ]
    },
    {
     "cell_type": "code",
     "collapsed": false,
     "input": [
      "for N in [10, 100, 1000, 10000, 100000, 200000] :\n",
      "    mots    = [ mot_alea(taille) for _ in range (N) ]\n",
      "    tolook  = [ mots[ random.randint(0,len(mots)-1) ] for i in range(0,10000) ]\n",
      "    trie    = build_trie(mots)\n",
      "    mots.sort()\n",
      "    \n",
      "    debut = time.clock()\n",
      "    for k in tolook :\n",
      "        i = dicho(mots, k)\n",
      "    fin = time.clock()    \n",
      "    dd = fin-debut\n",
      "    \n",
      "    debut = time.clock()\n",
      "    for k in tolook :\n",
      "        i = lookup(trie, k)\n",
      "    fin = time.clock()\n",
      "    dt = fin - debut\n",
      "\n",
      "    print(N, \"dicho\",dd, \"trie\", dt)"
     ],
     "language": "python",
     "metadata": {},
     "outputs": [
      {
       "output_type": "stream",
       "stream": "stdout",
       "text": [
        "10 dicho 0.025667133359888794 trie 0.04444975663250261\n",
        "100"
       ]
      },
      {
       "output_type": "stream",
       "stream": "stdout",
       "text": [
        " dicho 0.05267704339394186 trie 0.05231654634417282\n",
        "1000"
       ]
      },
      {
       "output_type": "stream",
       "stream": "stdout",
       "text": [
        " dicho 0.08456969994495012 trie 0.06472226332277842\n",
        "10000"
       ]
      },
      {
       "output_type": "stream",
       "stream": "stdout",
       "text": [
        " dicho 0.10107901086109905 trie 0.06074696015025438\n",
        "100000"
       ]
      },
      {
       "output_type": "stream",
       "stream": "stdout",
       "text": [
        " dicho 0.13061411078672336 trie 0.06615655407586019\n",
        "200000"
       ]
      },
      {
       "output_type": "stream",
       "stream": "stdout",
       "text": [
        " dicho 0.14250324361807998 trie 0.07406653501186611\n"
       ]
      }
     ],
     "prompt_number": 10
    },
    {
     "cell_type": "markdown",
     "metadata": {},
     "source": [
      "Encore une fois, le temps de construction du trie n'est pas pris en compte. Plus il y a de recherche \u00e0 effectuer, plus il devient n\u00e9gligeable."
     ]
    },
    {
     "cell_type": "markdown",
     "metadata": {},
     "source": [
      "<h2 id=\"plus\">Plus en d\u00e9tails</h2>"
     ]
    },
    {
     "cell_type": "markdown",
     "metadata": {},
     "source": [
      "La recherche dichotomique est \u00e9quivalente \u00e0 celle op\u00e9r\u00e9e avec un [arbre binaire de recherche](http://fr.wikipedia.org/wiki/Arbre_binaire_de_recherche) (si ce dernier est [\u00e9quilibr\u00e9](http://fr.wikipedia.org/wiki/Arbre_B) ou [arbre rouge/noir](http://fr.wikipedia.org/wiki/Arbre_bicolore)). Ce dernier consiste \u00e0 classer les \u00e9l\u00e9ments par ordre alphab\u00e9tique. Un arbre est souvent repr\u00e9sent\u00e9 par une classe et non par un dictionnaire comme la derni\u00e8re partie de cette session le laissait supposer."
     ]
    },
    {
     "cell_type": "code",
     "collapsed": false,
     "input": [
      "class Arbre:\n",
      "    def __init__(self, value):\n",
      "        self.value = value\n",
      "        self.children = [ ]\n",
      "        \n",
      "    def add_child(self, child):\n",
      "        self.children.append(child)\n",
      "        \n",
      "    def __str__(self):\n",
      "        rows = [ \"value={0}\".format(self.value) ]\n",
      "        for c in self.children:\n",
      "            s = str(c)\n",
      "            lines = [ \"    \" + l for l in s.split(\"\\n\") ]\n",
      "            rows.extend(lines)\n",
      "        return \"\\n\".join(rows)\n",
      "    \n",
      "root = Arbre(\"racine\")\n",
      "child1 = Arbre(\"child 1\")\n",
      "child1.add_child ( Arbre(\"child 2\") )\n",
      "child1.add_child ( Arbre(\"child 1000\") )\n",
      "root.add_child(child1)\n",
      "root.add_child( Arbre (\"child 3\") )\n",
      "print(root)     "
     ],
     "language": "python",
     "metadata": {},
     "outputs": [
      {
       "output_type": "stream",
       "stream": "stdout",
       "text": [
        "value=racine\n",
        "    value=child 1\n",
        "        value=child 2\n",
        "        value=child 1000\n",
        "    value=child 3\n"
       ]
      }
     ],
     "prompt_number": 5
    },
    {
     "cell_type": "markdown",
     "metadata": {},
     "source": [
      "Les arbres sont des graphes particuliers car il ne contiennent pas de cycles. Il est possible de parcourir les noeuds, de les num\u00e9roter. Ils sont tr\u00e8s utilis\u00e9s en machine learning avec les [arbres de d\u00e9cisions](http://fr.wikipedia.org/wiki/Arbre_de_d%C3%A9cision) ou les [random forests](http://en.wikipedia.org/wiki/Random_forest). Ils sont parfois cach\u00e9s comme dans le cas de la recherche dichotomique qui peut \u00eatre impl\u00e9ment\u00e9e \u00e0 partir d'une structure d'arbre.\n",
      "\n",
      "Dans le cas de le recherche dichotomique, on suppose que le nombre de noeuds fils est toujours 2. L'ordre alphab\u00e9tique est le suivant : noeuds fils 1, noeud courant, noeud fils 2. Les deux noeuds fils pourraient \u00eatre nuls. L'impl\u00e9mentation de l'arbre serait la suivante :"
     ]
    },
    {
     "cell_type": "code",
     "collapsed": false,
     "input": [
      "class ArbreDicho:\n",
      "    def __init__(self, value):\n",
      "        self.value = value\n",
      "        self.before = None\n",
      "        self.after = None\n",
      "        \n",
      "    def __str__(self):\n",
      "        return \"value={0}\".format(self.value)\n",
      "        \n",
      "    def add_before(self, child):\n",
      "        self.before = child\n",
      "\n",
      "    def add_after(self, child):\n",
      "        self.after = child\n",
      "        \n",
      "    def find(self, word):\n",
      "        if self.value == word : return self\n",
      "        elif word < self.value : \n",
      "            if self.before == None : return None\n",
      "            else : return self.before.find(word)\n",
      "        else : \n",
      "            if self.after == None : return None\n",
      "            else : return self.after.find(word)\n",
      "            \n",
      "    def sorted_list(self):\n",
      "        res = [ ]\n",
      "        if self.before != None : res.extend ( self.before.sorted_list() )\n",
      "        res.append(self.value)\n",
      "        if self.after != None : res.extend ( self.after.sorted_list() )\n",
      "        return res\n",
      "\n",
      "# on cr\u00e9e un arbre dont les noeuds v\u00e9rifient la propri\u00e9t\u00e9 \u00e9nonc\u00e9 plus haut (les mots apparaissent dans le bon ordre)\n",
      "root = ArbreDicho(\"milieu\")\n",
      "root.add_before(ArbreDicho(\"avant\"))\n",
      "root.add_after(ArbreDicho(\"zillion\"))\n",
      "root.before.add_before(ArbreDicho(\"alphabet\"))\n",
      "root.before.add_after(ArbreDicho(\"avant apr\u00e8s\"))\n",
      "\n",
      "# on v\u00e9rifie que c'est bien le cas\n",
      "all = root.sorted_list()\n",
      "assert all == sorted(all)\n",
      "print(all)\n",
      "\n",
      "# on effectue la recherche\n",
      "for a in all:\n",
      "    f = root.find(a)\n",
      "    print(f)"
     ],
     "language": "python",
     "metadata": {},
     "outputs": [
      {
       "output_type": "stream",
       "stream": "stdout",
       "text": [
        "['alphabet', 'avant', 'avant apr\u00e8s', 'milieu', 'zillion']\n",
        "value=alphabet\n",
        "value=avant\n",
        "value=avant apr\u00e8s\n",
        "value=milieu\n",
        "value=zillion\n"
       ]
      }
     ],
     "prompt_number": 9
    },
    {
     "cell_type": "code",
     "collapsed": false,
     "input": [],
     "language": "python",
     "metadata": {},
     "outputs": []
    }
   ],
   "metadata": {}
  }
 ]
}