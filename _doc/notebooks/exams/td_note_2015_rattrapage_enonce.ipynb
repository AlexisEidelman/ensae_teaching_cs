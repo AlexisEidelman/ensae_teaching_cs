{
 "metadata": {
  "name": "",
  "signature": "sha256:b3b3222a9d1b221379749709250facbf239c7e0c8ed0d85d075b4a6ef7bfc424"
 },
 "nbformat": 3,
 "nbformat_minor": 0,
 "worksheets": [
  {
   "cells": [
    {
     "cell_type": "heading",
     "level": 1,
     "metadata": {},
     "source": [
      "TD not\u00e9 2015 rattrapage (\u00e9nonc\u00e9, \u00e9crit et oral)"
     ]
    },
    {
     "cell_type": "markdown",
     "metadata": {},
     "source": [
      "**Question 1**\n",
      "\n",
      "On s'int\u00e9resse \u00e0 une phase du jeu [2048](http://gabrielecirulli.github.io/2048/). On part d'une grille :"
     ]
    },
    {
     "cell_type": "code",
     "collapsed": false,
     "input": [
      "mat = [[2,0,0,4],[0,2,8,2],[0,2,4,2],[2,2,8,0],]\n",
      "for m in mat: print(m)"
     ],
     "language": "python",
     "metadata": {},
     "outputs": [
      {
       "output_type": "stream",
       "stream": "stdout",
       "text": [
        "[2, 0, 0, 4]\n",
        "[0, 2, 8, 2]\n",
        "[0, 2, 4, 2]\n",
        "[2, 2, 8, 0]\n"
       ]
      }
     ],
     "prompt_number": 2
    },
    {
     "cell_type": "markdown",
     "metadata": {},
     "source": [
      "On veut \u00e9crire une fonction qui calcule l'\u00e9tat du jeu apr\u00e8s la pression de la touche ``bas``."
     ]
    },
    {
     "cell_type": "code",
     "collapsed": false,
     "input": [],
     "language": "python",
     "metadata": {},
     "outputs": []
    },
    {
     "cell_type": "markdown",
     "metadata": {},
     "source": [
      "**Question 2**\n",
      "\n",
      "Modifier la fonction pour g\u00e9rer les quatre directions."
     ]
    },
    {
     "cell_type": "code",
     "collapsed": false,
     "input": [],
     "language": "python",
     "metadata": {},
     "outputs": []
    },
    {
     "cell_type": "markdown",
     "metadata": {},
     "source": [
      "**Question 3**\n",
      "\n",
      "Remplir deux cases vides choisies al\u00e9atoirement avec deux chiffres 2."
     ]
    },
    {
     "cell_type": "code",
     "collapsed": false,
     "input": [],
     "language": "python",
     "metadata": {},
     "outputs": []
    },
    {
     "cell_type": "markdown",
     "metadata": {},
     "source": [
      "**question 4**\n",
      "\n",
      "Proposer des solutions pour le probl\u00e8me [Problem D. Cut Tiles](https://code.google.com/codejam/contest/3214486/dashboard#s=p3). On n'impl\u00e9mentera pas ces solutions."
     ]
    },
    {
     "cell_type": "code",
     "collapsed": false,
     "input": [],
     "language": "python",
     "metadata": {},
     "outputs": []
    }
   ],
   "metadata": {}
  }
 ]
}