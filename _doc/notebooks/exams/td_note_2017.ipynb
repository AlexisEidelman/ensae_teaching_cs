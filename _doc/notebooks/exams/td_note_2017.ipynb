{
  "cells": [
    {
      "cell_type": "markdown",
      "metadata": {},
      "source": [
        "# TD not\u00e9, 16 d\u00e9cembre 2016"
      ]
    },
    {
      "cell_type": "code",
      "execution_count": null,
      "metadata": {
        "collapsed": false
      },
      "outputs": [
        {
          "data": {
            "text/html": [
              "<div id=\"my_id_menu_nb\">run previous cell, wait for 2 seconds</div>\n",
              "<script>\n",
              "function repeat_indent_string(n){\n",
              "    var a = \"\" ;\n",
              "    for ( ; n > 0 ; --n) {\n",
              "        a += \"    \";\n",
              "    }\n",
              "    return a;\n",
              "}\n",
              "var update_menu_string = function(begin, lfirst, llast, sformat, send, keep_item) {\n",
              "    var anchors = document.getElementsByClassName(\"section\");\n",
              "    if (anchors.length == 0) {\n",
              "        anchors = document.getElementsByClassName(\"text_cell_render rendered_html\");\n",
              "    }\n",
              "    var i,t;\n",
              "    var text_menu = begin;\n",
              "    var text_memo = \"<pre>\\nlength:\" + anchors.length + \"\\n\";\n",
              "    var ind = \"\";\n",
              "    var memo_level = 1;\n",
              "    var href;\n",
              "    var tags = [];\n",
              "    var main_item = 0;\n",
              "    for (i = 0; i <= llast; i++) {\n",
              "        tags.push(\"h\" + i);\n",
              "    }\n",
              "\n",
              "    for (i = 0; i < anchors.length; i++) {\n",
              "        text_memo += \"**\" + anchors[i].id + \"--\\n\";\n",
              "\n",
              "        var child = null;\n",
              "        for(t = 0; t < tags.length; t++) {\n",
              "            var r = anchors[i].getElementsByTagName(tags[t]);\n",
              "            if (r.length > 0) {\n",
              "child = r[0];\n",
              "break;\n",
              "            }\n",
              "        }\n",
              "        if (child == null){\n",
              "            text_memo += \"null\\n\";\n",
              "            continue;\n",
              "        }\n",
              "        if (anchors[i].hasAttribute(\"id\")) {\n",
              "            // when converted in RST\n",
              "            href = anchors[i].id;\n",
              "            text_memo += \"#1-\" + href;\n",
              "            // passer \u00e0 child suivant (le chercher)\n",
              "        }\n",
              "        else if (child.hasAttribute(\"id\")) {\n",
              "            // in a notebook\n",
              "            href = child.id;\n",
              "            text_memo += \"#2-\" + href;\n",
              "        }\n",
              "        else {\n",
              "            text_memo += \"#3-\" + \"*\" + \"\\n\";\n",
              "            continue;\n",
              "        }\n",
              "        var title = child.textContent;\n",
              "        var level = parseInt(child.tagName.substring(1,2));\n",
              "\n",
              "        text_memo += \"--\" + level + \"?\" + lfirst + \"--\" + title + \"\\n\";\n",
              "\n",
              "        if ((level < lfirst) || (level > llast)) {\n",
              "            continue ;\n",
              "        }\n",
              "        if (title.endsWith('\u00b6')) {\n",
              "            title = title.substring(0,title.length-1).replace(\"<\", \"&lt;\").replace(\">\", \"&gt;\").replace(\"&\", \"&amp;\")\n",
              "        }\n",
              "\n",
              "        if (title.length == 0) {\n",
              "            continue;\n",
              "        }\n",
              "\n",
              "        while (level < memo_level) {\n",
              "            text_menu += \"</ul>\\n\";\n",
              "            memo_level -= 1;\n",
              "        }\n",
              "        if (level == lfirst) {\n",
              "            main_item += 1;\n",
              "        }\n",
              "        if (keep_item != -1 && main_item != keep_item + 1) {\n",
              "            // alert(main_item + \" - \" + level + \" - \" + keep_item);\n",
              "            continue;\n",
              "        }\n",
              "        while (level > memo_level) {\n",
              "            text_menu += \"<ul>\\n\";\n",
              "            memo_level += 1;\n",
              "        }\n",
              "        text_menu += repeat_indent_string(level-2) + sformat.replace(\"__HREF__\", href).replace(\"__TITLE__\", title);\n",
              "    }\n",
              "    while (1 < memo_level) {\n",
              "        text_menu += \"</ul>\\n\";\n",
              "        memo_level -= 1;\n",
              "    }\n",
              "    text_menu += send;\n",
              "    //text_menu += \"\\n\" + text_memo;\n",
              "    return text_menu;\n",
              "};\n",
              "var update_menu = function() {\n",
              "    var sbegin = \"\";\n",
              "    var sformat = '<li><a href=\"#__HREF__\">__TITLE__</a></li>';\n",
              "    var send = \"\";\n",
              "    var keep_item = -1;\n",
              "    var text_menu = update_menu_string(sbegin, 2, 4, sformat, send, keep_item);\n",
              "    var menu = document.getElementById(\"my_id_menu_nb\");\n",
              "    menu.innerHTML=text_menu;\n",
              "};\n",
              "window.setTimeout(update_menu,2000);\n",
              "            </script>"
            ],
            "text/plain": [
              "<IPython.core.display.HTML object>"
            ]
          },
          "execution_count": null,
          "metadata": {},
          "output_type": "execute_result"
        }
      ],
      "source": [
        "from jyquickhelper import add_notebook_menu\n",
        "add_notebook_menu()"
      ]
    },
    {
      "cell_type": "markdown",
      "metadata": {},
      "source": [
        "## Exercice 1"
      ]
    },
    {
      "cell_type": "markdown",
      "metadata": {},
      "source": [
        "On suppose qu'on dispose d'un ensemble d'observations $(X_i, Y_i)$ avec $X_i, Y_i \\in \\mathbb{R}$. La r\u00e9gression lin\u00e9aire consiste une relation lin\u00e9aire $Y_i = a X_i + b + \\epsilon_i$ qui minimise la variance du bruit. On pose :\n",
        "\n",
        "$$E(a, b) = \\sum_i (Y_i - (a X_i + b))^2$$\n",
        "\n",
        "On cherche $a, b$ tels que :\n",
        "\n",
        "$$a^*, b^* = \\arg \\min E(a, b) = \\arg \\min \\sum_i (Y_i - (a X_i + b))^2$$\n",
        "\n",
        "La fonction est d\u00e9rivable et on trouve :\n",
        "\n",
        "$$\\frac{\\partial E(a,b)}{\\partial a} = - 2 \\sum_i X_i ( Y_i - (a X_i + b)) \\text{ et } \\frac{\\partial E(a,b)}{\\partial b} = - 2 \\sum_i ( Y_i - (a X_i + b))$$\n",
        "\n",
        "Il suffit alors d'annuler les d\u00e9riv\u00e9es. On r\u00e9soud un syst\u00e8me d'\u00e9quations lin\u00e9aires. On note :\n",
        "\n",
        "$$\\begin{array}{l} \\mathbb{E} X = \\frac{1}{n}\\sum_{i=1}^n X_i \\text{ et } \\mathbb{E} Y = \\frac{1}{n}\\sum_{i=1}^n Y_i \\\\ \\mathbb{E}(X^2) = \\frac{1}{n}\\sum_{i=1}^n X_i^2 \\text{ et } \\mathbb{E}(XY) = \\frac{1}{n}\\sum_{i=1}^n X_i Y_i \\end{array}$$\n",
        "\n",
        "Finalement :\n",
        "\n",
        "$$\\begin{array}{l} a^* = \\frac{ \\mathbb{E}(XY) - \\mathbb{E} X \\mathbb{E} Y}{\\mathbb{E}(X^2) - (\\mathbb{E} X)^2} \\text{ et } b^* = \\mathbb{E} Y - a^* \\mathbb{E} X \\end{array}$$"
      ]
    },
    {
      "cell_type": "markdown",
      "metadata": {},
      "source": [
        "### Q1\n",
        "\n",
        "On g\u00e9n\u00e8re un nuage de points avec le code suivant :"
      ]
    },
    {
      "cell_type": "code",
      "execution_count": null,
      "metadata": {
        "collapsed": false
      },
      "outputs": [
        {
          "data": {
            "text/plain": [
              "[(4.67717330017681, 4.012715314443071),\n",
              " (9.93100650771524, 6.420949444917619),\n",
              " (6.489763851288829, 4.046405861424122),\n",
              " (6.78546059711203, 3.9898555884018347),\n",
              " (8.008328212200073, 4.751483072244763),\n",
              " (2.2410717228726194, 2.1101433975248227),\n",
              " (6.721819258658939, 4.148787835552756),\n",
              " (4.524600225088246, 4.126629241751369),\n",
              " (6.5417215274623, 4.158742717993151),\n",
              " (0.07172772747924272, 3.663550865658417)]"
            ]
          },
          "execution_count": null,
          "metadata": {},
          "output_type": "execute_result"
        }
      ],
      "source": [
        "import random\n",
        "def generate_xy(n=100, a=0.5, b=1):\n",
        "    res = []\n",
        "    for i in range(0, n):\n",
        "        x = random.uniform(0, 10)\n",
        "        res.append((x, x*a + b + random.gauss(0,1)))\n",
        "    return res\n",
        "\n",
        "generate_xy(10)"
      ]
    },
    {
      "cell_type": "markdown",
      "metadata": {
        "collapsed": true
      },
      "source": [
        "### Q2\n",
        "\n",
        "Ecrire une fonction qui calcule $\\mathbb{E} X, \\mathbb{E} Y, \\mathbb{E}(XY), \\mathbb{E}(X^2)$. Plusieurs \u00e9tudiants m'ont demand\u00e9 ce qu'\u00e9tait ``obs``. C'est simplement le r\u00e9sultat de la fonction pr\u00e9c\u00e9dente."
      ]
    },
    {
      "cell_type": "code",
      "execution_count": null,
      "metadata": {
        "collapsed": false
      },
      "outputs": [
        {
          "data": {
            "text/plain": [
              "(4.1360605688594045, 3.718299775367224, 21.128229108028652, 25.820865266504303)"
            ]
          },
          "execution_count": null,
          "metadata": {},
          "output_type": "execute_result"
        }
      ],
      "source": [
        "def calcule_exyxyx2(obs):\n",
        "    sx = 0\n",
        "    sy = 0\n",
        "    sxy = 0\n",
        "    sx2 = 0\n",
        "    for x, y in obs:\n",
        "        sx += x\n",
        "        sy += y\n",
        "        sxy += x * y\n",
        "        sx2 += x * x\n",
        "    n = len(obs)\n",
        "    return sx/n, sy/n, sxy/n, sx2/n\n",
        "\n",
        "obs = generate_xy(10)\n",
        "calcule_exyxyx2(obs)"
      ]
    },
    {
      "cell_type": "markdown",
      "metadata": {},
      "source": [
        "### Q3\n",
        "\n",
        " Calculer les grandeurs $a^*$, $b^*$. A priori, on doit retrouver quelque chose d'assez proche des valeurs choisies pour la premi\u00e8re question : $a=0.5$, $b=1$."
      ]
    },
    {
      "cell_type": "code",
      "execution_count": null,
      "metadata": {
        "collapsed": false
      },
      "outputs": [
        {
          "data": {
            "text/plain": [
              "(0.4614749694715401, 1.8096113506203892)"
            ]
          },
          "execution_count": null,
          "metadata": {},
          "output_type": "execute_result"
        }
      ],
      "source": [
        "def calcule_ab(obs):\n",
        "    sx, sy, sxy, sx2 = calcule_exyxyx2(obs)\n",
        "    a = (sxy - sx * sx)  / (sx2 - sx**2)\n",
        "    b = sy - a * sx\n",
        "    return a, b\n",
        "\n",
        "calcule_ab(obs)"
      ]
    },
    {
      "cell_type": "markdown",
      "metadata": {},
      "source": [
        "### Q4\n",
        "\n",
        "Compl\u00e9ter le programme."
      ]
    },
    {
      "cell_type": "code",
      "execution_count": null,
      "metadata": {
        "collapsed": false
      },
      "outputs": [
        {
          "data": {
            "text/plain": [
              "[('rouge', 1.2697826888437203),\n",
              " ('bleu', 21.804432033016926),\n",
              " ('bleu', 21.004665828438558),\n",
              " ('rouge', 1.012069310223001),\n",
              " ('bleu', 22.410307249777002),\n",
              " ('bleu', 20.71226871677489),\n",
              " ('bleu', 21.052668355433838),\n",
              " ('bleu', 20.528196942186543),\n",
              " ('rouge', 2.1452680913051445),\n",
              " ('bleu', 21.671276056013674)]"
            ]
          },
          "execution_count": null,
          "metadata": {},
          "output_type": "execute_result"
        }
      ],
      "source": [
        "import random\n",
        "def generate_caty(n=100, a=0.5, b=1, cats=[\"rouge\", \"vert\", \"bleu\"]):\n",
        "    res = []\n",
        "    for i in range(0, n):\n",
        "        x = random.randint(0,2)\n",
        "        cat = cats[x]\n",
        "        res.append((cat, 10*x**2*a + b + random.gauss(0,1)))\n",
        "    return res\n",
        "\n",
        "generate_caty(10)"
      ]
    },
    {
      "cell_type": "markdown",
      "metadata": {},
      "source": [
        "### Q5\n",
        "\n",
        "On voudrait quand m\u00eame faire une r\u00e9gression de la variable $Y$ sur la variable cat\u00e9gorielle. On construit une fonction qui assigne un num\u00e9ro quelconque mais distinct \u00e0 chaque cat\u00e9gorie. La fonction retourne un dictionnaire avec les cat\u00e9gories comme cl\u00e9 et les num\u00e9ros comme valeurs."
      ]
    },
    {
      "cell_type": "code",
      "execution_count": null,
      "metadata": {
        "collapsed": false
      },
      "outputs": [
        {
          "data": {
            "text/plain": [
              "{'bleu': 0, 'rouge': 2, 'vert': 1}"
            ]
          },
          "execution_count": null,
          "metadata": {},
          "output_type": "execute_result"
        }
      ],
      "source": [
        "def numero_cat(obs):\n",
        "    mapping = {}\n",
        "    for color, y in obs:\n",
        "        if color not in mapping:\n",
        "            mapping[color] = len(mapping)\n",
        "    return mapping\n",
        "\n",
        "obs = generate_caty(100)\n",
        "numero_cat(obs)"
      ]
    },
    {
      "cell_type": "markdown",
      "metadata": {},
      "source": [
        "### Q6 \n",
        "\n",
        "On construit la matrice $M_{ic}$ tel que : $M_{ic}$ vaut 1 si $c$ est le num\u00e9ro de la cat\u00e9gorie $X_i$, 0 sinon."
      ]
    },
    {
      "cell_type": "code",
      "execution_count": null,
      "metadata": {
        "collapsed": false
      },
      "outputs": [
        {
          "data": {
            "text/plain": [
              "array([[ 1.,  0.,  0.],\n",
              "       [ 0.,  1.,  0.],\n",
              "       [ 0.,  0.,  1.],\n",
              "       [ 1.,  0.,  0.],\n",
              "       [ 1.,  0.,  0.]])"
            ]
          },
          "execution_count": null,
          "metadata": {},
          "output_type": "execute_result"
        }
      ],
      "source": [
        "import numpy\n",
        "def construit_M(obs):\n",
        "    mapping = numero_cat(obs)\n",
        "    M = numpy.zeros((len(obs), 3))\n",
        "    for i, (color, y) in enumerate(obs):\n",
        "        cat = mapping[color]\n",
        "        M[i, cat] = 1.0\n",
        "    return M\n",
        "    \n",
        "M = construit_M(obs)\n",
        "M[:5]"
      ]
    },
    {
      "cell_type": "markdown",
      "metadata": {},
      "source": [
        "### Q7 \n",
        "\n",
        "Il est conseill\u00e9 de convertir la matrice $M$ et les $Y$ au format *numpy*. On ajoute un vecteur constant \u00e0 la matrice $M$. La requ\u00eate *numpy add column* sur un moteur de recherche vous directement \u00e0 ce r\u00e9sultat : [How to add an extra column to an numpy array](http://stackoverflow.com/questions/8486294/how-to-add-an-extra-column-to-an-numpy-array)."
      ]
    },
    {
      "cell_type": "code",
      "execution_count": null,
      "metadata": {
        "collapsed": false
      },
      "outputs": [
        {
          "data": {
            "text/plain": [
              "(array([[ 1.,  0.,  0.,  1.],\n",
              "        [ 0.,  1.,  0.,  1.],\n",
              "        [ 0.,  0.,  1.,  1.],\n",
              "        [ 1.,  0.,  0.,  1.],\n",
              "        [ 1.,  0.,  0.,  1.]]), array([[ 21.8428991 ],\n",
              "        [  6.39999366],\n",
              "        [ -1.32500646],\n",
              "        [ 20.78801346],\n",
              "        [ 21.6534503 ]]))"
            ]
          },
          "execution_count": null,
          "metadata": {},
          "output_type": "execute_result"
        }
      ],
      "source": [
        "def convert_numpy(obs):\n",
        "    M = construit_M(obs)\n",
        "    Mc = numpy.hstack([M, numpy.ones((M.shape[0], 1))])\n",
        "    Y = numpy.array([y for c, y in obs])\n",
        "    return M, Mc, Y.reshape((M.shape[0], 1))\n",
        "\n",
        "M, Mc, Y = convert_numpy(obs)\n",
        "Mc[:5], Y[:5]"
      ]
    },
    {
      "cell_type": "markdown",
      "metadata": {},
      "source": [
        "### Q8 \n",
        "\n",
        "On r\u00e9soud la r\u00e9gression multidimensionnelle en appliquant la formule $C^* = (M'M)^{-1}M'Y$. La question 7 ne servait pas \u00e0 grand chose except\u00e9 faire d\u00e9couvrir la fonction [hstack](https://docs.scipy.org/doc/numpy/reference/generated/numpy.hstack.html) car le rang de la matrice ``Mc`` est 3 < 4."
      ]
    },
    {
      "cell_type": "code",
      "execution_count": null,
      "metadata": {
        "collapsed": false
      },
      "outputs": [
        {
          "data": {
            "text/plain": [
              "array([[ 20.82662251],\n",
              "       [  6.08090399],\n",
              "       [  0.65915746]])"
            ]
          },
          "execution_count": null,
          "metadata": {},
          "output_type": "execute_result"
        }
      ],
      "source": [
        "alpha = numpy.linalg.inv(M.T @ M) @ M.T @ Y\n",
        "alpha"
      ]
    },
    {
      "cell_type": "markdown",
      "metadata": {},
      "source": [
        "### Q9 \n",
        "\n",
        "La r\u00e9gression d\u00e9termine les coefficients $\\alpha$ dans la r\u00e9gression $Y_i = \\alpha_{rouge} \\mathbb{1}_{X_i = rouge} + \\alpha_{vert}  \\mathbb{1}_{X_i = vert} + \\alpha_{bleu} \\mathbb{1}_{X_i = bleu} + \\epsilon_i$.\n",
        "\n",
        "Construire le vecteur $\\hat{Y_i} = \\alpha_{rouge} \\mathbb{1}_{X_i = rouge} + \\alpha_{vert} \\mathbb{1}_{X_i = vert} + \\alpha_{bleu} \\mathbb{1}_{X_i = bleu}$."
      ]
    },
    {
      "cell_type": "code",
      "execution_count": null,
      "metadata": {
        "collapsed": false
      },
      "outputs": [
        {
          "data": {
            "text/plain": [
              "array([[ 20.82662251],\n",
              "       [  6.08090399],\n",
              "       [  0.65915746],\n",
              "       [ 20.82662251],\n",
              "       [ 20.82662251]])"
            ]
          },
          "execution_count": null,
          "metadata": {},
          "output_type": "execute_result"
        }
      ],
      "source": [
        "Yp = numpy.zeros((M.shape[0], 1))\n",
        "for i in range(3):\n",
        "    Yp[ M[:,i] == 1, 0] = alpha[i, 0]\n",
        "Yp[:5]"
      ]
    },
    {
      "cell_type": "markdown",
      "metadata": {},
      "source": [
        "### Q10\n",
        "\n",
        "Utiliser le r\u00e9sultat de la question 3 pour calculer les coefficients de la r\u00e9gression $Y_i = a^* \\hat{Y_i} + b^*$."
      ]
    },
    {
      "cell_type": "code",
      "execution_count": null,
      "metadata": {
        "collapsed": false
      },
      "outputs": [
        {
          "data": {
            "text/plain": [
              "(array([ 1.]), array([  2.13162821e-14]))"
            ]
          },
          "execution_count": null,
          "metadata": {},
          "output_type": "execute_result"
        }
      ],
      "source": [
        "obs = [(x, y) for x, y in zip(Yp, Y)]\n",
        "calcule_ab( obs )"
      ]
    },
    {
      "cell_type": "markdown",
      "metadata": {
        "collapsed": true
      },
      "source": [
        "On aboutit au r\u00e9sultat $Y = \\hat{Y} + \\epsilon$. On a associ\u00e9 une valeur \u00e0 chaque cat\u00e9gorie de telle sorte que la r\u00e9gression de $Y$ sur cette valeur soit cette valeur. Autrement dit, c'est la meilleur approximation de $Y$ sur chaque cat\u00e9gorie. A quoi cela correspond-il ? C'est le second \u00e9nonc\u00e9 qui r\u00e9pond \u00e0 cette question."
      ]
    },
    {
      "cell_type": "markdown",
      "metadata": {},
      "source": [
        "## Exercice 2"
      ]
    },
    {
      "cell_type": "markdown",
      "metadata": {},
      "source": [
        "### Q1 - Q2 - Q3\n",
        "\n",
        "Ce sont les m\u00eames r\u00e9ponses."
      ]
    },
    {
      "cell_type": "markdown",
      "metadata": {},
      "source": [
        "### Q4\n",
        "\n",
        "Un moyen tr\u00e8s simple de simuler une [loi multinomiale](https://fr.wikipedia.org/wiki/Loi_multinomiale) est de partir d'une loi uniforme et discr\u00e8te \u00e0 valeur dans entre 1 et 10. On tire un nombre, s'il est inf\u00e9rieur ou \u00e9gal \u00e0 5, ce sera la cat\u00e9gorie 0, 1 si c'est inf\u00e9rieur \u00e0 8, 2 sinon."
      ]
    },
    {
      "cell_type": "code",
      "execution_count": null,
      "metadata": {
        "collapsed": false
      },
      "outputs": [
        {
          "data": {
            "text/plain": [
              "[('rouge', 1.6113396232493944),\n",
              " ('bleu', 20.988454801926085),\n",
              " ('vert', 5.567578139267583),\n",
              " ('vert', 4.435716742187722),\n",
              " ('vert', 6.473489439183762),\n",
              " ('vert', 6.164046836045364),\n",
              " ('rouge', 3.1717934686058467),\n",
              " ('vert', 6.206863432065256),\n",
              " ('bleu', 20.047578122999752),\n",
              " ('bleu', 21.909583653698377)]"
            ]
          },
          "execution_count": null,
          "metadata": {},
          "output_type": "execute_result"
        }
      ],
      "source": [
        "def generate_caty(n=100, a=0.5, b=1, cats=[\"rouge\", \"vert\", \"bleu\"]):\n",
        "    res = []\n",
        "    for i in range(0, n):\n",
        "        # on veut 50% de rouge, 30% de vert, 20% de bleu\n",
        "        x = random.randint(1, 10)\n",
        "        if x <= 5: x = 0\n",
        "        elif x <= 8: x = 1\n",
        "        else : x = 2\n",
        "        cat = cats[x]\n",
        "        res.append((cat, 10*x**2*a + b + random.gauss(0,1)))\n",
        "    return res\n",
        "\n",
        "obs = generate_caty(10)\n",
        "obs"
      ]
    },
    {
      "cell_type": "markdown",
      "metadata": {},
      "source": [
        "### Q5 \n",
        "\n",
        "On voudrait quand m\u00eame faire une r\u00e9gression de la variable $Y$ sur la variable cat\u00e9gorielle. On commence par les compter. Construire une fonction qui compte le nombre de fois qu'une cat\u00e9gorie est pr\u00e9sente dans les donn\u00e9es (un histogramme)."
      ]
    },
    {
      "cell_type": "code",
      "execution_count": null,
      "metadata": {
        "collapsed": false
      },
      "outputs": [
        {
          "data": {
            "text/plain": [
              "{'bleu': 3, 'rouge': 2, 'vert': 5}"
            ]
          },
          "execution_count": null,
          "metadata": {},
          "output_type": "execute_result"
        }
      ],
      "source": [
        "def histogram_cat(obs):\n",
        "    h = dict()\n",
        "    for color, y in obs:\n",
        "        h[color] = h.get(color, 0) + 1\n",
        "    return h\n",
        "\n",
        "histogram_cat(obs)"
      ]
    },
    {
      "cell_type": "markdown",
      "metadata": {},
      "source": [
        "### Q6\n",
        "\n",
        "Construire une fonction qui calcule la moyenne des $Y_i$ pour chaque cat\u00e9gorie : $\\mathbb{E}(Y | rouge)$, $\\mathbb{E}(Y | vert)$, $\\mathbb{E}(Y | bleu)$. La fonction retourne un dictionnaire ``{couleur:moyenne}``. "
      ]
    },
    {
      "cell_type": "code",
      "execution_count": null,
      "metadata": {
        "collapsed": false
      },
      "outputs": [
        {
          "data": {
            "text/plain": [
              "{'bleu': 20.981872192874736,\n",
              " 'rouge': 2.3915665459276205,\n",
              " 'vert': 5.769538917749938}"
            ]
          },
          "execution_count": null,
          "metadata": {},
          "output_type": "execute_result"
        }
      ],
      "source": [
        "def moyenne_cat(obs):\n",
        "    h = dict()\n",
        "    sy = dict()\n",
        "    for color, y in obs:\n",
        "        h[color] = h.get(color, 0) + 1\n",
        "        sy[color] = sy.get(color, 0) + y\n",
        "    for k, v in h.items():\n",
        "        sy[k] /= v\n",
        "    return sy\n",
        "\n",
        "moyenne_cat(obs)"
      ]
    },
    {
      "cell_type": "markdown",
      "metadata": {},
      "source": [
        "L'\u00e9nonc\u00e9 induisait quelque peu en erreur car la fonction sugg\u00e9r\u00e9e ne permet de calculer ces moyennes. Il suffit de changer."
      ]
    },
    {
      "cell_type": "markdown",
      "metadata": {},
      "source": [
        "### Q7\n",
        "\n",
        "Construire le vecteur $Z_i = \\mathbb{E}(Y | rouge)\\mathbb{1}_{X_i = rouge} + \\mathbb{E}(Y | vert) \\mathbb{1}_{X_i = vert} + \\mathbb{E}(Y | bleu) \\mathbb{1}_{X_i = bleu}$."
      ]
    },
    {
      "cell_type": "code",
      "execution_count": null,
      "metadata": {
        "collapsed": false
      },
      "outputs": [
        {
          "data": {
            "text/plain": [
              "[2.3915665459276205,\n",
              " 20.981872192874736,\n",
              " 5.769538917749938,\n",
              " 5.769538917749938,\n",
              " 5.769538917749938]"
            ]
          },
          "execution_count": null,
          "metadata": {},
          "output_type": "execute_result"
        }
      ],
      "source": [
        "moys = moyenne_cat(obs)\n",
        "Z = [moys[c] for c, y in obs]\n",
        "Z[:5]"
      ]
    },
    {
      "cell_type": "markdown",
      "metadata": {},
      "source": [
        "### Q8\n",
        "\n",
        "Utiliser le r\u00e9sultat de la question 3 pour calculer les coefficients de la r\u00e9gression $Y_i = a^* Z_i + b^*$."
      ]
    },
    {
      "cell_type": "code",
      "execution_count": null,
      "metadata": {
        "collapsed": false
      },
      "outputs": [
        {
          "data": {
            "text/plain": [
              "(1.0, 0.0)"
            ]
          },
          "execution_count": null,
          "metadata": {},
          "output_type": "execute_result"
        }
      ],
      "source": [
        "obs2 = [(z, y) for (c, y), z in zip(obs, Z)]\n",
        "calcule_ab( obs2 )"
      ]
    },
    {
      "cell_type": "markdown",
      "metadata": {},
      "source": [
        "On aboutit au r\u00e9sultat $Y = \\hat{Y} + \\epsilon$. On a associ\u00e9 une valeur \u00e0 chaque cat\u00e9gorie de telle sorte que la r\u00e9gression de $Y$ sur cette valeur soit cette valeur."
      ]
    },
    {
      "cell_type": "markdown",
      "metadata": {},
      "source": [
        "### Q9 \n",
        "\n",
        "Calculer la matrice de variance / covariance pour les variables $(Y_i)$, $(Z_i)$, $(Y_i - Z_i)$, $\\mathbb{1}_{X_i = rouge}$, $\\mathbb{1}_{X_i = vert}$, $\\mathbb{1}_{X_i = bleu}$. "
      ]
    },
    {
      "cell_type": "code",
      "execution_count": null,
      "metadata": {
        "collapsed": false
      },
      "outputs": [
        {
          "data": {
            "text/plain": [
              "array([[  1.61133962e+00,   2.39156655e+00,  -7.80226923e-01,\n",
              "          1.00000000e+00,   0.00000000e+00,   0.00000000e+00],\n",
              "       [  2.09884548e+01,   2.09818722e+01,   6.58260905e-03,\n",
              "          0.00000000e+00,   0.00000000e+00,   1.00000000e+00],\n",
              "       [  5.56757814e+00,   5.76953892e+00,  -2.01960778e-01,\n",
              "          0.00000000e+00,   1.00000000e+00,   0.00000000e+00],\n",
              "       [  4.43571674e+00,   5.76953892e+00,  -1.33382218e+00,\n",
              "          0.00000000e+00,   1.00000000e+00,   0.00000000e+00],\n",
              "       [  6.47348944e+00,   5.76953892e+00,   7.03950521e-01,\n",
              "          0.00000000e+00,   1.00000000e+00,   0.00000000e+00]])"
            ]
          },
          "execution_count": null,
          "metadata": {},
          "output_type": "execute_result"
        }
      ],
      "source": [
        "bigM = numpy.empty((len(obs), 6))\n",
        "bigM[:, 0] = [o[1] for o in obs]\n",
        "bigM[:, 1] = Z\n",
        "bigM[:, 2] = bigM[:, 0] - bigM[:, 1]\n",
        "bigM[:, 3] = [ 1 if o[0] == \"rouge\" else 0 for o in obs]\n",
        "bigM[:, 4] = [ 1 if o[0] == \"vert\" else 0 for o in obs]\n",
        "bigM[:, 5] = [ 1 if o[0] == \"bleu\" else 0 for o in obs]\n",
        "bigM[:5]"
      ]
    },
    {
      "cell_type": "markdown",
      "metadata": {},
      "source": [
        "On utilise la fonction [cov](https://docs.scipy.org/doc/numpy/reference/generated/numpy.cov.html)."
      ]
    },
    {
      "cell_type": "code",
      "execution_count": null,
      "metadata": {
        "collapsed": false
      },
      "outputs": [
        {
          "data": {
            "text/plain": [
              "array([[  6.35007124e+01,   6.28770001e+01,   6.23712301e-01,\n",
              "         -1.61468397e+00,  -2.16005862e+00,   3.77474259e+00],\n",
              "       [  6.28770001e+01,   6.28770001e+01,   1.00660221e-14,\n",
              "         -1.61468397e+00,  -2.16005862e+00,   3.77474259e+00],\n",
              "       [  6.23712301e-01,   1.00660221e-14,   6.23712301e-01,\n",
              "         -9.25185854e-17,  -5.42775701e-16,   6.53798003e-16],\n",
              "       [ -1.61468397e+00,  -1.61468397e+00,  -9.25185854e-17,\n",
              "          1.77777778e-01,  -1.11111111e-01,  -6.66666667e-02],\n",
              "       [ -2.16005862e+00,  -2.16005862e+00,  -5.42775701e-16,\n",
              "         -1.11111111e-01,   2.77777778e-01,  -1.66666667e-01],\n",
              "       [  3.77474259e+00,   3.77474259e+00,   6.53798003e-16,\n",
              "         -6.66666667e-02,  -1.66666667e-01,   2.33333333e-01]])"
            ]
          },
          "execution_count": null,
          "metadata": {},
          "output_type": "execute_result"
        }
      ],
      "source": [
        "c = numpy.cov(bigM.T)\n",
        "c"
      ]
    },
    {
      "cell_type": "markdown",
      "metadata": {},
      "source": [
        "On affiche un peu mieux les r\u00e9sultats :"
      ]
    },
    {
      "cell_type": "code",
      "execution_count": null,
      "metadata": {
        "collapsed": false
      },
      "outputs": [
        {
          "data": {
            "text/html": [
              "<div>\n",
              "<table border=\"1\" class=\"dataframe\">\n",
              "  <thead>\n",
              "    <tr style=\"text-align: right;\">\n",
              "      <th></th>\n",
              "      <th>0</th>\n",
              "      <th>1</th>\n",
              "      <th>2</th>\n",
              "      <th>3</th>\n",
              "      <th>4</th>\n",
              "      <th>5</th>\n",
              "    </tr>\n",
              "  </thead>\n",
              "  <tbody>\n",
              "    <tr>\n",
              "      <th>0</th>\n",
              "      <td>63.501</td>\n",
              "      <td>62.877</td>\n",
              "      <td>0.624</td>\n",
              "      <td>-1.615</td>\n",
              "      <td>-2.160</td>\n",
              "      <td>3.775</td>\n",
              "    </tr>\n",
              "    <tr>\n",
              "      <th>1</th>\n",
              "      <td>62.877</td>\n",
              "      <td>62.877</td>\n",
              "      <td>0.000</td>\n",
              "      <td>-1.615</td>\n",
              "      <td>-2.160</td>\n",
              "      <td>3.775</td>\n",
              "    </tr>\n",
              "    <tr>\n",
              "      <th>2</th>\n",
              "      <td>0.624</td>\n",
              "      <td>0.000</td>\n",
              "      <td>0.624</td>\n",
              "      <td>-0.000</td>\n",
              "      <td>-0.000</td>\n",
              "      <td>0.000</td>\n",
              "    </tr>\n",
              "    <tr>\n",
              "      <th>3</th>\n",
              "      <td>-1.615</td>\n",
              "      <td>-1.615</td>\n",
              "      <td>-0.000</td>\n",
              "      <td>0.178</td>\n",
              "      <td>-0.111</td>\n",
              "      <td>-0.067</td>\n",
              "    </tr>\n",
              "    <tr>\n",
              "      <th>4</th>\n",
              "      <td>-2.160</td>\n",
              "      <td>-2.160</td>\n",
              "      <td>-0.000</td>\n",
              "      <td>-0.111</td>\n",
              "      <td>0.278</td>\n",
              "      <td>-0.167</td>\n",
              "    </tr>\n",
              "    <tr>\n",
              "      <th>5</th>\n",
              "      <td>3.775</td>\n",
              "      <td>3.775</td>\n",
              "      <td>0.000</td>\n",
              "      <td>-0.067</td>\n",
              "      <td>-0.167</td>\n",
              "      <td>0.233</td>\n",
              "    </tr>\n",
              "  </tbody>\n",
              "</table>\n",
              "</div>"
            ],
            "text/plain": [
              "        0       1       2       3       4       5\n",
              "0  63.501  62.877   0.624  -1.615  -2.160   3.775\n",
              "1  62.877  62.877   0.000  -1.615  -2.160   3.775\n",
              "2   0.624   0.000   0.624  -0.000  -0.000   0.000\n",
              "3  -1.615  -1.615  -0.000   0.178  -0.111  -0.067\n",
              "4  -2.160  -2.160  -0.000  -0.111   0.278  -0.167\n",
              "5   3.775   3.775   0.000  -0.067  -0.167   0.233"
            ]
          },
          "execution_count": null,
          "metadata": {},
          "output_type": "execute_result"
        }
      ],
      "source": [
        "import pandas\n",
        "pandas.DataFrame(c).applymap(lambda x: '%1.3f' % x)"
      ]
    },
    {
      "cell_type": "markdown",
      "metadata": {},
      "source": [
        "### Q10 \n",
        "\n",
        "On permute rouge et vert. Construire le vecteur $W_i = \\mathbb{E}(Y | rouge)\\mathbb{1}_{X_i = vert} + \\mathbb{E}(Y | vert)\\mathbb{1}_{X_i = rouge} + \\mathbb{E}(Y | bleu)\\mathbb{1}_{X_i = bleu}$. Utiliser le r\u00e9sultat de la question 3 pour calculer les coefficients de la r\u00e9gression $Y_i = a^* W_i + b^*$. V\u00e9rifiez que l'erreur est sup\u00e9rieure."
      ]
    },
    {
      "cell_type": "code",
      "execution_count": null,
      "metadata": {
        "collapsed": false
      },
      "outputs": [
        {
          "data": {
            "text/plain": [
              "(1.0021154917263324, 0.9951048664491058)"
            ]
          },
          "execution_count": null,
          "metadata": {},
          "output_type": "execute_result"
        }
      ],
      "source": [
        "moys = moyenne_cat(obs)\n",
        "moys[\"rouge\"], moys[\"vert\"] = moys[\"vert\"], moys[\"rouge\"]\n",
        "W = [moys[c] for c, y in obs]\n",
        "obs3 = [(w, y) for (c, y), w in zip(obs, W)]\n",
        "calcule_ab( obs3 )"
      ]
    },
    {
      "cell_type": "code",
      "execution_count": null,
      "metadata": {
        "collapsed": false
      },
      "outputs": [
        {
          "data": {
            "text/plain": [
              "(0.561341071314548, 7.558630680856206)"
            ]
          },
          "execution_count": null,
          "metadata": {},
          "output_type": "execute_result"
        }
      ],
      "source": [
        "def calcule_erreur(obs):\n",
        "    a, b = calcule_ab(obs)\n",
        "    e = [(a*x + b - y)**2 for x, y in obs]\n",
        "    return sum(e) / len(obs)\n",
        "\n",
        "calcule_erreur(obs2), calcule_erreur(obs3)"
      ]
    },
    {
      "cell_type": "markdown",
      "metadata": {},
      "source": [
        "C'est carr\u00e9ment sup\u00e9rieur."
      ]
    },
    {
      "cell_type": "markdown",
      "metadata": {},
      "source": [
        "## Conclusion\n",
        "\n",
        "L'[analyse des correspondances multiples](https://fr.wikipedia.org/wiki/Analyse_des_correspondances_multiples) est une fa\u00e7on d'\u00e9tudier les modalit\u00e9s de variables cat\u00e9gorielles mais cela ne fait pas de la pr\u00e9diction. Le mod\u00e8le [logit - probit](https://fr.wikipedia.org/wiki/Mod%C3%A8le_Probit) pr\u00e9dit une variable binaire \u00e0 partir de variables continue mais dans notre cas, c'est la variable \u00e0 pr\u00e9dire qui est continue. Pour effectuer une pr\u00e9diction, il convertit les cat\u00e9gories en variables num\u00e9riques (voir [Categorical Variables](https://en.wikipedia.org/wiki/Categorical_variable)). Le langage R est plus outill\u00e9 pour cela : [Regression on categorical variables](https://www.r-bloggers.com/regression-on-categorical-variables/). Le module [categorical-encoding](https://github.com/scikit-learn-contrib/categorical-encoding) est disponible en python. Cet examen d\u00e9crit une m\u00e9thode parmi d'autres pour transformer les cat\u00e9gories en variables continues."
      ]
    },
    {
      "cell_type": "code",
      "execution_count": null,
      "metadata": {
        "collapsed": true
      },
      "outputs": [],
      "source": []
    }
  ],
  "metadata": {
    "kernelspec": {
      "display_name": "Python 3",
      "language": "python",
      "name": "python3"
    },
    "language_info": {
      "codemirror_mode": {
        "name": "ipython",
        "version": 3
      },
      "file_extension": ".py",
      "mimetype": "text/x-python",
      "name": "python",
      "nbconvert_exporter": "python",
      "pygments_lexer": "ipython3",
      "version": "3.5.2"
    }
  },
  "nbformat": 4,
  "nbformat_minor": 1
}