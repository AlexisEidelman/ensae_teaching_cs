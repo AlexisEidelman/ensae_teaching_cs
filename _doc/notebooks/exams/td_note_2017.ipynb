{
 "cells": [
  {
   "cell_type": "markdown",
   "metadata": {},
   "source": [
    "# TD noté, 16 décembre 2016"
   ]
  },
  {
   "cell_type": "code",
   "execution_count": 5,
   "metadata": {
    "collapsed": false
   },
   "outputs": [
    {
     "data": {
      "text/html": [
       "<div id=\"my_id_menu_nb\">run previous cell, wait for 2 seconds</div>\n",
       "<script>\n",
       "function repeat_indent_string(n){\n",
       "    var a = \"\" ;\n",
       "    for ( ; n > 0 ; --n) {\n",
       "        a += \"    \";\n",
       "    }\n",
       "    return a;\n",
       "}\n",
       "var update_menu_string = function(begin, lfirst, llast, sformat, send, keep_item) {\n",
       "    var anchors = document.getElementsByClassName(\"section\");\n",
       "    if (anchors.length == 0) {\n",
       "        anchors = document.getElementsByClassName(\"text_cell_render rendered_html\");\n",
       "    }\n",
       "    var i,t;\n",
       "    var text_menu = begin;\n",
       "    var text_memo = \"<pre>\\nlength:\" + anchors.length + \"\\n\";\n",
       "    var ind = \"\";\n",
       "    var memo_level = 1;\n",
       "    var href;\n",
       "    var tags = [];\n",
       "    var main_item = 0;\n",
       "    for (i = 0; i <= llast; i++) {\n",
       "        tags.push(\"h\" + i);\n",
       "    }\n",
       "\n",
       "    for (i = 0; i < anchors.length; i++) {\n",
       "        text_memo += \"**\" + anchors[i].id + \"--\\n\";\n",
       "\n",
       "        var child = null;\n",
       "        for(t = 0; t < tags.length; t++) {\n",
       "            var r = anchors[i].getElementsByTagName(tags[t]);\n",
       "            if (r.length > 0) {\n",
       "child = r[0];\n",
       "break;\n",
       "            }\n",
       "        }\n",
       "        if (child == null){\n",
       "            text_memo += \"null\\n\";\n",
       "            continue;\n",
       "        }\n",
       "        if (anchors[i].hasAttribute(\"id\")) {\n",
       "            // when converted in RST\n",
       "            href = anchors[i].id;\n",
       "            text_memo += \"#1-\" + href;\n",
       "            // passer à child suivant (le chercher)\n",
       "        }\n",
       "        else if (child.hasAttribute(\"id\")) {\n",
       "            // in a notebook\n",
       "            href = child.id;\n",
       "            text_memo += \"#2-\" + href;\n",
       "        }\n",
       "        else {\n",
       "            text_memo += \"#3-\" + \"*\" + \"\\n\";\n",
       "            continue;\n",
       "        }\n",
       "        var title = child.textContent;\n",
       "        var level = parseInt(child.tagName.substring(1,2));\n",
       "\n",
       "        text_memo += \"--\" + level + \"?\" + lfirst + \"--\" + title + \"\\n\";\n",
       "\n",
       "        if ((level < lfirst) || (level > llast)) {\n",
       "            continue ;\n",
       "        }\n",
       "        if (title.endsWith('¶')) {\n",
       "            title = title.substring(0,title.length-1).replace(\"<\", \"&lt;\").replace(\">\", \"&gt;\").replace(\"&\", \"&amp;\")\n",
       "        }\n",
       "\n",
       "        if (title.length == 0) {\n",
       "            continue;\n",
       "        }\n",
       "\n",
       "        while (level < memo_level) {\n",
       "            text_menu += \"</ul>\\n\";\n",
       "            memo_level -= 1;\n",
       "        }\n",
       "        if (level == lfirst) {\n",
       "            main_item += 1;\n",
       "        }\n",
       "        if (keep_item != -1 && main_item != keep_item + 1) {\n",
       "            // alert(main_item + \" - \" + level + \" - \" + keep_item);\n",
       "            continue;\n",
       "        }\n",
       "        while (level > memo_level) {\n",
       "            text_menu += \"<ul>\\n\";\n",
       "            memo_level += 1;\n",
       "        }\n",
       "        text_menu += repeat_indent_string(level-2) + sformat.replace(\"__HREF__\", href).replace(\"__TITLE__\", title);\n",
       "    }\n",
       "    while (1 < memo_level) {\n",
       "        text_menu += \"</ul>\\n\";\n",
       "        memo_level -= 1;\n",
       "    }\n",
       "    text_menu += send;\n",
       "    //text_menu += \"\\n\" + text_memo;\n",
       "    return text_menu;\n",
       "};\n",
       "var update_menu = function() {\n",
       "    var sbegin = \"\";\n",
       "    var sformat = '<li><a href=\"#__HREF__\">__TITLE__</a></li>';\n",
       "    var send = \"\";\n",
       "    var keep_item = -1;\n",
       "    var text_menu = update_menu_string(sbegin, 2, 4, sformat, send, keep_item);\n",
       "    var menu = document.getElementById(\"my_id_menu_nb\");\n",
       "    menu.innerHTML=text_menu;\n",
       "};\n",
       "window.setTimeout(update_menu,2000);\n",
       "            </script>"
      ],
      "text/plain": [
       "<IPython.core.display.HTML object>"
      ]
     },
     "execution_count": 5,
     "metadata": {},
     "output_type": "execute_result"
    }
   ],
   "source": [
    "from jyquickhelper import add_notebook_menu\n",
    "add_notebook_menu()"
   ]
  },
  {
   "cell_type": "markdown",
   "metadata": {},
   "source": [
    "## Exercice 1"
   ]
  },
  {
   "cell_type": "markdown",
   "metadata": {},
   "source": [
    "On suppose qu'on dispose d'un ensemble d'observations $(X_i, Y_i)$ avec $X_i, Y_i \\in \\mathbb{R}$. La régression linéaire consiste une relation linéaire $Y_i = a X_i + b + \\epsilon_i$ qui minimise la variance du bruit. On pose :\n",
    "\n",
    "$$E(a, b) = \\sum_i (Y_i - (a X_i + b))^2$$\n",
    "\n",
    "On cherche $a, b$ tels que :\n",
    "\n",
    "$$a^*, b^* = \\arg \\min E(a, b) = \\arg \\min \\sum_i (Y_i - (a X_i + b))^2$$\n",
    "\n",
    "La fonction est dérivable et on trouve :\n",
    "\n",
    "$$\\frac{\\partial E(a,b)}{\\partial a} = - 2 \\sum_i X_i ( Y_i - (a X_i + b)) \\text{ et } \\frac{\\partial E(a,b)}{\\partial b} = - 2 \\sum_i ( Y_i - (a X_i + b))$$\n",
    "\n",
    "Il suffit alors d'annuler les dérivées. On résoud un système d'équations linéaires. On note :\n",
    "\n",
    "$$\\begin{array}{l} \\mathbb{E} X = \\frac{1}{n}\\sum_{i=1}^n X_i \\text{ et } \\mathbb{E} Y = \\frac{1}{n}\\sum_{i=1}^n Y_i \\\\ \\mathbb{E}(X^2) = \\frac{1}{n}\\sum_{i=1}^n X_i^2 \\text{ et } \\mathbb{E}(XY) = \\frac{1}{n}\\sum_{i=1}^n X_i Y_i \\end{array}$$\n",
    "\n",
    "Finalement :\n",
    "\n",
    "$$\\begin{array}{l} a^* = \\frac{ \\mathbb{E}(XY) - \\mathbb{E} X \\mathbb{E}p Y}{\\mathbb{E}(X^2) - (\\mathbb{E} X)^2} \\text{ et } b^* = \\mathbb{E} Y - a^* \\mathbb{E} X \\end{array}$$"
   ]
  },
  {
   "cell_type": "markdown",
   "metadata": {},
   "source": [
    "### Q1\n",
    "\n",
    "On génère un nuage de points avec le code suivant :"
   ]
  },
  {
   "cell_type": "code",
   "execution_count": 3,
   "metadata": {
    "collapsed": false
   },
   "outputs": [
    {
     "data": {
      "text/plain": [
       "[(6.505014684686506, 4.0194302315324455),\n",
       " (3.963231019865332, 4.773571936629095),\n",
       " (1.0133132672292333, 2.2509613915128),\n",
       " (0.5013333468851078, 2.1807173470161825),\n",
       " (5.7504901512648825, 3.010008294883728),\n",
       " (9.329225905694912, 5.580723127562437),\n",
       " (0.8855832274028386, 1.4514552743851066),\n",
       " (7.980534132915218, 4.938982383545034),\n",
       " (2.935386322504626, 2.3531823030153496),\n",
       " (8.695079913070964, 5.071005969065634)]"
      ]
     },
     "execution_count": 3,
     "metadata": {},
     "output_type": "execute_result"
    }
   ],
   "source": [
    "import random\n",
    "def generate_xy(n=100, a=0.5, b=1):\n",
    "    res = []\n",
    "    for i in range(0, n):\n",
    "        x = random.uniform(0, 10)\n",
    "        res.append((x, x*a + b + random.gauss(0,1)))\n",
    "    return res\n",
    "\n",
    "generate_xy(10)"
   ]
  },
  {
   "cell_type": "code",
   "execution_count": null,
   "metadata": {
    "collapsed": true
   },
   "outputs": [],
   "source": []
  },
  {
   "cell_type": "code",
   "execution_count": null,
   "metadata": {
    "collapsed": true
   },
   "outputs": [],
   "source": [
    "\n",
    "\\exequest Ecrire une fonction qui calcule $\\esp X, \\esp Y, \\esp {XY}, \\esp{X^2}$.\n",
    "\n",
    "\\begin{verbatimx}\n",
    "def calcule_exyxyx2(obs):\n",
    "    ....\n",
    "\\end{verbatimx}\n",
    "\n",
    "\n",
    "\\exequest Calculer les grandeurs $a^*, b^*$.\n",
    "\n",
    "\\begin{verbatimx}\n",
    "def calcule_ab(obs):\n",
    "    ....\n",
    "\\end{verbatimx}\n",
    "\n",
    "Tout se passe bien quand $X_i$ est une variable continue.\n",
    "Quand c'est une variable catégorielle, cela n'est plus possible.\n",
    "\n",
    "\\exequest Compléter le programme ci-dessous (....) pour qu'il génère des couples tel que :\n",
    "\n",
    "\\begin{verbatimx}\n",
    "[('rouge', 1.4281790866123962), ('vert', 3.1438708048684716), \n",
    " ('rouge', 0.7193245827013746), ('vert', 0.5293831925619408), \n",
    " ('bleu', 0.27344460504234447), ... ]\n",
    "\\end{verbatimx}\n",
    "\n",
    "\\begin{verbatimx}\n",
    "def generate_caty(n=100, a=0.5, b=1, cats=[\"rouge\", \"vert\", \"bleu\"]):\n",
    "    res = []\n",
    "    for i in range(0, n):\n",
    "        x = ....\n",
    "        cat = cats[x]\n",
    "        res.append((cat, 10*x**2*a + b + random.gauss(0,1)))\n",
    "    return res\n",
    "\\end{verbatimx}\n",
    "\n",
    "\\exequest On voudrait quand même faire une régression de la variable $Y$ sur la variable catégorielle. On construit une fonction qui assigne un numéro quelconque mais distinct à chaque catégorie. La fonction retourne un dictionnaire avec les catégories comme clé et les numéros comme valeurs.\n",
    "\n",
    "\\begin{verbatimx}\n",
    "def numero_cat(obs):\n",
    "    ....\n",
    "\\end{verbatimx}\n",
    "\n",
    "\\exequest On construit la matrice $M_{ic}$ tel que : $M_{ic}$ vaut 1 si $c$ est le numéro de la catégorie $X_i$, 0 sinon.\n",
    "\n",
    "\\begin{verbatimx}\n",
    "def matrice_cat(obs, numero):\n",
    "    ....\n",
    "\\end{verbatimx}\n",
    "\n",
    "\\exequest Il est conseillé de convertir la matrice $M$ et les $Y$ au format \\textit{numpy}. On ajoute un vecteur constant à la matrice $M$.\n",
    "\n",
    "\\begin{verbatimx}\n",
    "def convert_numpy(obs, M):\n",
    "    ....\n",
    "\\end{verbatimx}\n",
    "\n",
    "\\exequest On résoud la régression multidimensionnelle en appliquant la formule $C^* = (M'M)^{-1}M'Y$.\n",
    "\n",
    "\\exequest La régression détermine les coefficients $\\alpha$ dans la régression $Y_i = \\alpha_{rouge} \\indicatrice{X_i = rouge} + \\alpha_{vert} \\indicatrice{X_i = vert} + \\alpha_{bleu} \\indicatrice{X_i = bleu} + \\epsilon_i$. Construire le vecteur $\\hat{Y_i} = \\alpha_{rouge} \\indicatrice{X_i = rouge} + \\alpha_{vert} \\indicatrice{X_i = vert} + \\alpha_{bleu} \\indicatrice{X_i = bleu}$.\n",
    "\n",
    "\\exequest Utiliser le résultat de la question 3 pour calculer les coefficients de la régression $Y_i = a^* \\hat{Y_i} + b^*$.\n"
   ]
  },
  {
   "cell_type": "code",
   "execution_count": null,
   "metadata": {
    "collapsed": true
   },
   "outputs": [],
   "source": []
  },
  {
   "cell_type": "code",
   "execution_count": null,
   "metadata": {
    "collapsed": true
   },
   "outputs": [],
   "source": []
  },
  {
   "cell_type": "code",
   "execution_count": null,
   "metadata": {
    "collapsed": true
   },
   "outputs": [],
   "source": []
  },
  {
   "cell_type": "code",
   "execution_count": null,
   "metadata": {
    "collapsed": true
   },
   "outputs": [],
   "source": []
  },
  {
   "cell_type": "code",
   "execution_count": null,
   "metadata": {
    "collapsed": true
   },
   "outputs": [],
   "source": []
  },
  {
   "cell_type": "code",
   "execution_count": null,
   "metadata": {
    "collapsed": true
   },
   "outputs": [],
   "source": []
  },
  {
   "cell_type": "markdown",
   "metadata": {},
   "source": [
    "## Exercice 2"
   ]
  },
  {
   "cell_type": "markdown",
   "metadata": {},
   "source": [
    "### Q1"
   ]
  },
  {
   "cell_type": "code",
   "execution_count": null,
   "metadata": {
    "collapsed": true
   },
   "outputs": [],
   "source": [
    "On génère un nuage de points avec le code suivant :\n",
    "\n",
    "\\begin{verbatimx}\n",
    "import random\n",
    "def generate_xy(n=100, a=0.5, b=1):\n",
    "    res = []\n",
    "    for i in range(0, n):\n",
    "        x = random.uniform(0, 10)\n",
    "        res.append((x, x*a + b + random.gauss(0,1)))\n",
    "    return res\n",
    "\\end{verbatimx}\n",
    "\n",
    "\\exequest Recopier la fonction précédente et générer 10 points (ou 10 couples de points).\n",
    "\n",
    "\\exequest Ecrire une fonction qui calcule $\\esp X, \\esp Y, \\esp {XY}, \\esp{X^2}$.\n",
    "\n",
    "\\begin{verbatimx}\n",
    "def calcule_exyxyx2(obs):\n",
    "    ....\n",
    "\\end{verbatimx}\n",
    "\n",
    "\n",
    "\\exequest Calculer les grandeurs $a^*, b^*$.\n",
    "\n",
    "\\begin{verbatimx}\n",
    "def calcule_ab(obs):\n",
    "    ....\n",
    "\\end{verbatimx}\n",
    "\n",
    "Tout se passe bien quand $X_i$ est une variable continue.\n",
    "Quand c'est une variable catégorielle, cela n'est plus possible.\n",
    "\n",
    "\\exequest Compléter le programme ci-dessous (....) pour qu'il génère des couples tel que :\n",
    "\n",
    "\\begin{verbatimx}\n",
    "[('rouge', 1.4281790866123962), ('vert', 3.1438708048684716), \n",
    " ('rouge', 0.7193245827013746), ('vert', 0.5293831925619408), \n",
    " ('bleu', 0.27344460504234447), ... ]\n",
    "\\end{verbatimx}\n",
    "\n",
    "\\begin{verbatimx}\n",
    "def generate_caty(n=100, a=0.5, b=1, cats=[\"rouge\", \"vert\", \"bleu\"]):\n",
    "    res = []\n",
    "    for i in range(0, n):\n",
    "        x = ....     # on veut 50% de rouge, 30% de vert, 20% de bleu\n",
    "        cat = cats[x]\n",
    "        res.append((cat, 10*x**2*a + b + random.gauss(0,1)))\n",
    "    return res\n",
    "\\end{verbatimx}\n",
    "\n",
    "\\exequest On voudrait quand même faire une régression de la variable $Y$ sur la variable catégorielle. On commence par les compter. Construire une fonction qui compte le nombre de fois qu'une catégorie est présente dans les données (un histogramme).\n",
    "\n",
    "\n",
    "\\begin{verbatimx}\n",
    "def histogram_cat(obs):\n",
    "    ....\n",
    "\\end{verbatimx}\n",
    "\n",
    "\\exequest Construire une fonction qui calcule la moyenne des $Y_i$ pour chaque catégorie : $\\esp{Y | rouge}$, $\\esp{Y | vert}$, $\\esp{Y | bleu}$. La fonction retourne un dictionnaire \\texttt{ \\{ couleur : moyenne \\}}.\n",
    "\n",
    "\\begin{verbatimx}\n",
    "def moyenne_cat(hist, Y):\n",
    "    ....\n",
    "\\end{verbatimx}\n",
    "\n",
    "\\exequest Construire le vecteur $Z_i = \\esp{Y | rouge}\\indicatrice{X_i = rouge} + \\esp{Y | vert} \\indicatrice{X_i = vert} + \\esp{Y | bleu} \\indicatrice{X_i = bleu}$.\n",
    "\n",
    "\\exequest Utiliser le résultat de la question 3 pour calculer les coefficients de la régression $Y_i = a^* Z_i + b^*$.\n",
    "\n",
    "\n",
    "\\exequest Calculer la matrice de variance / covariance pour les variables $(Y_i)$, $(Z_i)$, $(Y_i - Z_i)$, $\\indicatrice{X_i = rouge}$, $\\indicatrice{X_i = vert}$, $\\indicatrice{X_i = bleu}$. \n",
    "\n",
    "\\exequest On permute rouge et vert. Construire le vecteur $W_i = \\esp{Y | rouge}\\indicatrice{X_i = vert} + \\esp{Y | vert} \\indicatrice{X_i = rouge} + \\esp{Y | bleu} \\indicatrice{X_i = bleu}$. Utiliser le résultat de la question 3 pour calculer les coefficients de la régression $Y_i = a^* W_i + b^*$. Vérifiez que l'erreur est supérieure.\n",
    "\n"
   ]
  }
 ],
 "metadata": {
  "kernelspec": {
   "display_name": "Python 3",
   "language": "python",
   "name": "python3"
  },
  "language_info": {
   "codemirror_mode": {
    "name": "ipython",
    "version": 3
   },
   "file_extension": ".py",
   "mimetype": "text/x-python",
   "name": "python",
   "nbconvert_exporter": "python",
   "pygments_lexer": "ipython3",
   "version": "3.5.2"
  }
 },
 "nbformat": 4,
 "nbformat_minor": 1
}
