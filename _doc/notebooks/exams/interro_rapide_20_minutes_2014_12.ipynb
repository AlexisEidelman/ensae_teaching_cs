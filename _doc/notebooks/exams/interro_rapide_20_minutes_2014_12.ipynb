{
 "metadata": {
  "name": "",
  "signature": "sha256:0fd1b4ea212983e8f8573c07d13072f16af5a2faf547f1199d07d28b7b7518eb"
 },
 "nbformat": 3,
 "nbformat_minor": 0,
 "worksheets": [
  {
   "cells": [
    {
     "cell_type": "heading",
     "level": 1,
     "metadata": {},
     "source": [
      "Correction de l'interrogation \u00e9crite du 26 septembre 2014"
     ]
    },
    {
     "cell_type": "markdown",
     "metadata": {},
     "source": [
      "* [Enonc\u00e9 1](#e1)\n",
      "* [Enonc\u00e9 2](#e2)\n",
      "\n",
      "<h3 id=\"e1\">Enonc\u00e9 1<h3>\n",
      "\n",
      "<h4>Q1</h4>\n",
      "\n",
      "Ecrire une fonction qui retourne 1 si $n$ est un multiple de 2014."
     ]
    },
    {
     "cell_type": "code",
     "collapsed": false,
     "input": [
      "def mul2014(n):\n",
      "    return 1 if n % 2014 == 0 else 0\n",
      "\n",
      "print(mul2014(2014), mul2014(2015))"
     ],
     "language": "python",
     "metadata": {},
     "outputs": [
      {
       "output_type": "stream",
       "stream": "stdout",
       "text": [
        "1 0\n"
       ]
      }
     ],
     "prompt_number": 2
    },
    {
     "cell_type": "markdown",
     "metadata": {},
     "source": [
      "<h4>Q2</h4>\n",
      "\n",
      "Calculer le minimum des cosinus des entiers de 1 \u00e0 10."
     ]
    },
    {
     "cell_type": "code",
     "collapsed": false,
     "input": [
      "import math\n",
      "min ( math.cos(i) for i in range(1,11) )"
     ],
     "language": "python",
     "metadata": {},
     "outputs": [
      {
       "metadata": {},
       "output_type": "pyout",
       "prompt_number": 3,
       "text": [
        "-0.9899924966004454"
       ]
      }
     ],
     "prompt_number": 3
    },
    {
     "cell_type": "markdown",
     "metadata": {},
     "source": [
      "<h4>Q3</h4>\n",
      "\n",
      "Ecire une fonction qui v\u00e9rifie qu'une cha\u00eene de caract\u00e8res est sym\u00e9trique (ex: ``kayak``)."
     ]
    },
    {
     "cell_type": "code",
     "collapsed": false,
     "input": [
      "def symetrie(s):\n",
      "    i=0\n",
      "    j=len(s)-1\n",
      "    while i < j :\n",
      "        if s[i] != s[j] : return False\n",
      "        i += 1\n",
      "        j -= 1\n",
      "    return True\n",
      "\n",
      "print(symetrie(\"kayak\"), symetrie(\"kakaks\"))"
     ],
     "language": "python",
     "metadata": {},
     "outputs": [
      {
       "output_type": "stream",
       "stream": "stdout",
       "text": [
        "True False\n"
       ]
      }
     ],
     "prompt_number": 5
    },
    {
     "cell_type": "markdown",
     "metadata": {},
     "source": [
      "<h3 id=\"e2\">Enonc\u00e9 2<h3>\n",
      "\n",
      "<h4>Q1</h4>\n",
      "\n",
      "Ecrire une fonction qui retourne 1 si une cha\u00eene de caract\u00e8res contient un A, 0 sinon."
     ]
    },
    {
     "cell_type": "code",
     "collapsed": false,
     "input": [
      "def contient_A(s):\n",
      "    return 1 if \"A\" in s else 0\n",
      "\n",
      "print(contient_A(\"e\"))"
     ],
     "language": "python",
     "metadata": {},
     "outputs": [
      {
       "output_type": "stream",
       "stream": "stdout",
       "text": [
        "0\n"
       ]
      }
     ],
     "prompt_number": 6
    },
    {
     "cell_type": "markdown",
     "metadata": {},
     "source": [
      "<h4>Q2</h4>\n",
      "\n",
      "Calculer $\\sum_{i=1}^{10} \\frac{x^{2i}}{\\sin i}$."
     ]
    },
    {
     "cell_type": "code",
     "collapsed": false,
     "input": [
      "import math\n",
      "x = 0.3\n",
      "sum ( x**(2*i) / math.sin(i) for i in range(1,11) )"
     ],
     "language": "python",
     "metadata": {},
     "outputs": [
      {
       "metadata": {},
       "output_type": "pyout",
       "prompt_number": 9,
       "text": [
        "0.12093467645909634"
       ]
      }
     ],
     "prompt_number": 9
    },
    {
     "cell_type": "markdown",
     "metadata": {},
     "source": [
      "<h4>Q3</h4>\n",
      "\n",
      "Ecrire qu'une fonction qui v\u00e9rifie si un tableau est tri\u00e9."
     ]
    },
    {
     "cell_type": "code",
     "collapsed": false,
     "input": [
      "def est_trie(tab):\n",
      "    for i in range(1,len(tab)):\n",
      "        if tab[i-1] > tab[i] : return False\n",
      "    return True\n",
      "\n",
      "est_trie( [1]),est_trie( [1,2,3]),est_trie( [1,2,3,0])"
     ],
     "language": "python",
     "metadata": {},
     "outputs": [
      {
       "metadata": {},
       "output_type": "pyout",
       "prompt_number": 10,
       "text": [
        "(True, True, False)"
       ]
      }
     ],
     "prompt_number": 10
    },
    {
     "cell_type": "code",
     "collapsed": false,
     "input": [],
     "language": "python",
     "metadata": {},
     "outputs": []
    }
   ],
   "metadata": {}
  }
 ]
}