{
 "metadata": {
  "name": "",
  "signature": "sha256:e53e3bdf0745058bf359e12401ad4353e40c6dd38ad1f1a49def8457ee1f71dd"
 },
 "nbformat": 3,
 "nbformat_minor": 0,
 "worksheets": [
  {
   "cells": [
    {
     "cell_type": "heading",
     "level": 1,
     "metadata": {},
     "source": [
      "Correction de l'interrogation \u00e9crite du 14 novembre 2014"
     ]
    },
    {
     "cell_type": "markdown",
     "metadata": {},
     "source": [
      "* [Enonc\u00e9 1](#e1)\n",
      "\n",
      "\n",
      "<h3 id=\"e1\">Enonc\u00e9 1<h3>\n",
      "\n",
      "<h4>Q1</h4>\n",
      "\n",
      "Le code suivant produit une erreur. Laquelle ?"
     ]
    },
    {
     "cell_type": "code",
     "collapsed": false,
     "input": [
      "def make_squares(n):\n",
      "    squares = [i**2 for i in range(n)]"
     ],
     "language": "python",
     "metadata": {},
     "outputs": [],
     "prompt_number": 1
    },
    {
     "cell_type": "markdown",
     "metadata": {},
     "source": [
      "Comme il n'y a pas d'instruction return, la fonction retourne toujours ``None`` quelque chose le r\u00e9sultat de ce qu'elle calcule."
     ]
    },
    {
     "cell_type": "code",
     "collapsed": false,
     "input": [
      "def make_squares(n):\n",
      "    squares = [i**2 for i in range(n)]\n",
      "print ( make_squares(2) )"
     ],
     "language": "python",
     "metadata": {},
     "outputs": [
      {
       "output_type": "stream",
       "stream": "stdout",
       "text": [
        "None\n"
       ]
      }
     ],
     "prompt_number": 2
    },
    {
     "cell_type": "markdown",
     "metadata": {},
     "source": [
      "<h4>Q2</h4>\n",
      "\n",
      "Que vaut ``a`` ?"
     ]
    },
    {
     "cell_type": "code",
     "collapsed": false,
     "input": [
      "s = 1\n",
      "a = 0\n",
      "for i in range(4):\n",
      "    a += s\n",
      "    s += 2"
     ],
     "language": "python",
     "metadata": {},
     "outputs": [],
     "prompt_number": 13
    },
    {
     "cell_type": "code",
     "collapsed": false,
     "input": [
      "a"
     ],
     "language": "python",
     "metadata": {},
     "outputs": [
      {
       "metadata": {},
       "output_type": "pyout",
       "prompt_number": 14,
       "text": [
        "16"
       ]
      }
     ],
     "prompt_number": 14
    },
    {
     "cell_type": "markdown",
     "metadata": {},
     "source": [
      "Si on affiche les r\u00e9sultats interm\u00e9diaires :"
     ]
    },
    {
     "cell_type": "code",
     "collapsed": false,
     "input": [
      "s = 1\n",
      "a = 0\n",
      "for i in range(4):\n",
      "    print(a,s)\n",
      "    a += s\n",
      "    s += 2\n",
      "    \n",
      "a"
     ],
     "language": "python",
     "metadata": {},
     "outputs": [
      {
       "output_type": "stream",
       "stream": "stdout",
       "text": [
        "0 1\n",
        "1 3\n",
        "4 5\n",
        "9 7\n"
       ]
      },
      {
       "metadata": {},
       "output_type": "pyout",
       "prompt_number": 5,
       "text": [
        "16"
       ]
      }
     ],
     "prompt_number": 5
    },
    {
     "cell_type": "markdown",
     "metadata": {},
     "source": [
      "<h4>Q3</h4>\n",
      "\n",
      "On rappelle que ``ord('a')=97``. Que vaut ``x`` ?"
     ]
    },
    {
     "cell_type": "code",
     "collapsed": false,
     "input": [
      "d = {i:chr(i+97) for i in range(10)}\n",
      "x = d[4]"
     ],
     "language": "python",
     "metadata": {},
     "outputs": [],
     "prompt_number": 11
    },
    {
     "cell_type": "code",
     "collapsed": false,
     "input": [
      "x"
     ],
     "language": "python",
     "metadata": {},
     "outputs": [
      {
       "metadata": {},
       "output_type": "pyout",
       "prompt_number": 12,
       "text": [
        "'e'"
       ]
      }
     ],
     "prompt_number": 12
    },
    {
     "cell_type": "markdown",
     "metadata": {},
     "source": [
      "Il suffit de remplacer ``i`` par 4. ``x`` vaut ``chr(97+4)`` et on se d\u00e9place de 4 lettres dans l'alphabet, soit ``e``."
     ]
    },
    {
     "cell_type": "markdown",
     "metadata": {},
     "source": [
      "<h4>Q4</h4>\n",
      "\n",
      "Que fait le programme suivant ?"
     ]
    },
    {
     "cell_type": "code",
     "collapsed": false,
     "input": [
      "notes = { \"Alice\": 17, \"Bob\": 18, \"Jean\u2212Ma\": 17 }\n",
      "notes['Claire'] = 18\n",
      "\n",
      "def mystere(d):\n",
      "    a = 0\n",
      "    b = []\n",
      "    for k,v in d.items():\n",
      "        if v >= a:\n",
      "            a = v\n",
      "            b.append(k)\n",
      "    return (b,a)\n",
      "\n",
      "print(mystere(notes))"
     ],
     "language": "python",
     "metadata": {},
     "outputs": [
      {
       "output_type": "stream",
       "stream": "stdout",
       "text": [
        "(['Alice', 'Claire', 'Bob'], 18)\n"
       ]
      }
     ],
     "prompt_number": 15
    },
    {
     "cell_type": "code",
     "collapsed": false,
     "input": [
      "notes"
     ],
     "language": "python",
     "metadata": {},
     "outputs": [
      {
       "metadata": {},
       "output_type": "pyout",
       "prompt_number": 16,
       "text": [
        "{'Alice': 17, 'Claire': 18, 'Bob': 18, 'Jean\u2212Ma': 17}"
       ]
      }
     ],
     "prompt_number": 16
    },
    {
     "cell_type": "markdown",
     "metadata": {},
     "source": [
      "Le programme commence par ajouter la cl\u00e9 ``Claire`` au dictionnaire. La variable ``a`` m\u00e9morise la valeur num\u00e9rique la plus grande. En l'\u00e9tat, le r\u00e9sultat programme est assez impr\u00e9visible puisqu'il d\u00e9pend de l'ordre dans lequel on parcourt les \u00e9l\u00e9ments. Je pense que la fonction devrait r\u00e9cup\u00e9rer dans une liste l'ensemble des pr\u00e9noms correspondant \u00e0 cette valeur maximale s'il \u00e9tait \u00e9crit comme ceci :"
     ]
    },
    {
     "cell_type": "code",
     "collapsed": false,
     "input": [
      "notes = { \"Alice\": 17, \"Bob\": 18, \"Jean\u2212Ma\": 17 }\n",
      "notes['Claire'] = 18\n",
      "\n",
      "def mystere(d):\n",
      "    a = 0\n",
      "    b = []\n",
      "    for k,v in d.items():\n",
      "        if v == a:\n",
      "            b.append(k)\n",
      "        elif v > a:\n",
      "            a = v\n",
      "            b = [ k ]\n",
      "    return (b,a)\n",
      "\n",
      "print(mystere(notes))"
     ],
     "language": "python",
     "metadata": {},
     "outputs": [
      {
       "output_type": "stream",
       "stream": "stdout",
       "text": [
        "(['Claire', 'Bob'], 18)\n"
       ]
      }
     ],
     "prompt_number": 17
    },
    {
     "cell_type": "markdown",
     "metadata": {},
     "source": [
      "<h4>Q5</h4>\n",
      "\n",
      "Que renvoie la fonction suivante en fonction de ``n`` ?"
     ]
    },
    {
     "cell_type": "code",
     "collapsed": false,
     "input": [
      "def f(n):\n",
      "    while n != 1:\n",
      "        if n%2 == 0:\n",
      "            n = n/2\n",
      "        else:\n",
      "            n = 3*n + 1\n",
      "    return n"
     ],
     "language": "python",
     "metadata": {},
     "outputs": [],
     "prompt_number": 18
    },
    {
     "cell_type": "code",
     "collapsed": false,
     "input": [
      "f(3)"
     ],
     "language": "python",
     "metadata": {},
     "outputs": [
      {
       "metadata": {},
       "output_type": "pyout",
       "prompt_number": 19,
       "text": [
        "1.0"
       ]
      }
     ],
     "prompt_number": 19
    },
    {
     "cell_type": "code",
     "collapsed": false,
     "input": [
      "f(4)"
     ],
     "language": "python",
     "metadata": {},
     "outputs": [
      {
       "metadata": {},
       "output_type": "pyout",
       "prompt_number": 20,
       "text": [
        "1.0"
       ]
      }
     ],
     "prompt_number": 20
    },
    {
     "cell_type": "markdown",
     "metadata": {},
     "source": [
      "D'apr\u00e8s la condition indiqu\u00e9e dans la boucle ``while``, la fonction retourne 1. Reste \u00e0 savoir si cela est toujours possible quelque soit $n$. Cette question \u00e9tait un peu hors sujet. Il faudrait \u00e9tudier la convergence de la suite $u_{n+1}=f(u_n)$ o\u00f9 $f$ est la fonction :\n",
      "\n",
      "$$ f(n) = \\left\\{ \\begin{array}{ll} \\frac{n}{2} & \\text{si } n \\text{ pair} \\\\ 3n+1 &\\text{sinon} \\end{array}\\right. $$\n",
      "\n",
      "Ce probl\u00e8me n'est pas \u00e9vident puisqu'il ressemble beaucoup \u00e0 la [conjecture de Syracuse](http://fr.wikipedia.org/wiki/Conjecture_de_Syracuse)."
     ]
    },
    {
     "cell_type": "code",
     "collapsed": false,
     "input": [],
     "language": "python",
     "metadata": {},
     "outputs": []
    }
   ],
   "metadata": {}
  }
 ]
}