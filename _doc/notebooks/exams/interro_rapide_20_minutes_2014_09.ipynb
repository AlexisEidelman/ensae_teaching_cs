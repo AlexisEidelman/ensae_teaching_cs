{
 "metadata": {
  "name": "",
  "signature": "sha256:0ce384371f4ad9ef007e416227eab35bab7592282154e9a85131171806d66164"
 },
 "nbformat": 3,
 "nbformat_minor": 0,
 "worksheets": [
  {
   "cells": [
    {
     "cell_type": "heading",
     "level": 1,
     "metadata": {},
     "source": [
      "Correction de l'interrogation \u00e9crite du 26 septembre 2014"
     ]
    },
    {
     "cell_type": "markdown",
     "metadata": {},
     "source": [
      "* [Enonc\u00e9 1](#e1)\n",
      "* [Enonc\u00e9 2](#e2)\n",
      "\n",
      "<h3 id=\"e1\">Enonc\u00e9 1<h3>\n",
      "\n",
      "<h4>Q1</h4>\n",
      "\n",
      "Ecrire une fonction qui retourne 1 si $n$ est un multiple de 2014."
     ]
    },
    {
     "cell_type": "code",
     "collapsed": false,
     "input": [
      "def mul2014(n):\n",
      "    return 1 if n % 2014 == 0 else 0\n",
      "\n",
      "print(mul2014(2014), mul2014(2015))"
     ],
     "language": "python",
     "metadata": {},
     "outputs": [
      {
       "output_type": "stream",
       "stream": "stdout",
       "text": [
        "1 0\n"
       ]
      }
     ],
     "prompt_number": 2
    },
    {
     "cell_type": "markdown",
     "metadata": {},
     "source": [
      "Pour cette question, quelques \u00e9l\u00e8ves ont v\u00e9rifi\u00e9 que ``n`` \u00e9tait plus petit que 2014 d'abord. Ce n'est pas vraiment la peine."
     ]
    },
    {
     "cell_type": "markdown",
     "metadata": {},
     "source": [
      "<h4>Q2</h4>\n",
      "\n",
      "Calculer le minimum des cosinus des entiers de 1 \u00e0 10."
     ]
    },
    {
     "cell_type": "code",
     "collapsed": false,
     "input": [
      "import math\n",
      "min ( math.cos(i) for i in range(1,11) )"
     ],
     "language": "python",
     "metadata": {},
     "outputs": [
      {
       "metadata": {},
       "output_type": "pyout",
       "prompt_number": 3,
       "text": [
        "-0.9899924966004454"
       ]
      }
     ],
     "prompt_number": 3
    },
    {
     "cell_type": "markdown",
     "metadata": {},
     "source": [
      "``range(1,10)`` va de 0 \u00e0 10 exclu."
     ]
    },
    {
     "cell_type": "markdown",
     "metadata": {},
     "source": [
      "<h4>Q3</h4>\n",
      "\n",
      "Ecire une fonction qui v\u00e9rifie qu'une cha\u00eene de caract\u00e8res est sym\u00e9trique (ex: ``kayak``)."
     ]
    },
    {
     "cell_type": "code",
     "collapsed": false,
     "input": [
      "def symetrie(s):\n",
      "    i=0\n",
      "    j=len(s)-1\n",
      "    while i < j :\n",
      "        if s[i] != s[j] : return False\n",
      "        i += 1\n",
      "        j -= 1\n",
      "    return True\n",
      "\n",
      "print(symetrie(\"kayak\"), symetrie(\"kakaks\"))"
     ],
     "language": "python",
     "metadata": {},
     "outputs": [
      {
       "output_type": "stream",
       "stream": "stdout",
       "text": [
        "True False\n"
       ]
      }
     ],
     "prompt_number": 5
    },
    {
     "cell_type": "markdown",
     "metadata": {},
     "source": [
      "Sur cette question, on fait r\u00e9guli\u00e8rement deux erreurs lorsqu'on commence \u00e0 programmer :\n",
      "\n",
      "* Le dernier indice est ``len(s)-1`` et non ``len(s)``. Le premier indice est 0.\n",
      "* Il ne sert \u00e0 rien que ``i`` aille de 0 \u00e0 ``len(s)-1``, aller de 0 \u00e0 ``len(s)//2`` suffit."
     ]
    },
    {
     "cell_type": "markdown",
     "metadata": {},
     "source": [
      "<h3 id=\"e2\">Enonc\u00e9 2<h3>\n",
      "\n",
      "<h4>Q1</h4>\n",
      "\n",
      "Ecrire une fonction qui retourne 1 si une cha\u00eene de caract\u00e8res contient un A, 0 sinon."
     ]
    },
    {
     "cell_type": "code",
     "collapsed": false,
     "input": [
      "def contient_A(s):\n",
      "    return 1 if \"A\" in s else 0\n",
      "\n",
      "print(contient_A(\"e\"))"
     ],
     "language": "python",
     "metadata": {},
     "outputs": [
      {
       "output_type": "stream",
       "stream": "stdout",
       "text": [
        "0\n"
       ]
      }
     ],
     "prompt_number": 6
    },
    {
     "cell_type": "markdown",
     "metadata": {},
     "source": [
      "Utiliser une boucle n'\u00e9tait pas n\u00e9cessaire, un simple test suffit."
     ]
    },
    {
     "cell_type": "markdown",
     "metadata": {},
     "source": [
      "<h4>Q2</h4>\n",
      "\n",
      "Calculer $\\sum_{i=1}^{10} \\frac{x^{2i}}{\\sin i}$."
     ]
    },
    {
     "cell_type": "code",
     "collapsed": false,
     "input": [
      "import math\n",
      "x = 0.3\n",
      "sum ( x**(2*i) / math.sin(i) for i in range(1,11) )"
     ],
     "language": "python",
     "metadata": {},
     "outputs": [
      {
       "metadata": {},
       "output_type": "pyout",
       "prompt_number": 9,
       "text": [
        "0.12093467645909634"
       ]
      }
     ],
     "prompt_number": 9
    },
    {
     "cell_type": "markdown",
     "metadata": {},
     "source": [
      "<h4>Q3</h4>\n",
      "\n",
      "Ecrire qu'une fonction qui v\u00e9rifie si un tableau est tri\u00e9."
     ]
    },
    {
     "cell_type": "code",
     "collapsed": false,
     "input": [
      "def est_trie(tab):\n",
      "    for i in range(1,len(tab)):\n",
      "        if tab[i-1] > tab[i] : return False\n",
      "    return True\n",
      "\n",
      "est_trie( [1]),est_trie( [1,2,3]),est_trie( [1,2,3,0])"
     ],
     "language": "python",
     "metadata": {},
     "outputs": [
      {
       "metadata": {},
       "output_type": "pyout",
       "prompt_number": 10,
       "text": [
        "(True, True, False)"
       ]
      }
     ],
     "prompt_number": 10
    },
    {
     "cell_type": "markdown",
     "metadata": {},
     "source": [
      "Quelques \u00e9l\u00e8ves ont \u00e9crit quelque chose comme :"
     ]
    },
    {
     "cell_type": "code",
     "collapsed": false,
     "input": [
      "def est_trie(tab):\n",
      "    res = tab.copy()\n",
      "    res.sort()\n",
      "    return res == tab"
     ],
     "language": "python",
     "metadata": {},
     "outputs": [],
     "prompt_number": 1
    },
    {
     "cell_type": "markdown",
     "metadata": {},
     "source": [
      "Bien que ceci soit tout-\u00e0-fait correct, le fait de trier une copie du tableau n\u00e9cessite des calculs inutiles. Le co\u00fbt d'un tri est en $O(n \\ln n)$ alors que tester si le tableau est tri\u00e9 est au pire de $O(n)$ puisqu'il suffit de le parcourir une fois. J'ajoute une derni\u00e8re remarque : sans copie la fonction ``est_trie`` retourne toujours vrai."
     ]
    },
    {
     "cell_type": "code",
     "collapsed": false,
     "input": [
      "def est_trie_nocopy(tab):\n",
      "    res = tab\n",
      "    res.sort()\n",
      "    return res == tab\n",
      "\n",
      "t = [ 0,1,2 ]\n",
      "print( est_trie(t), est_trie_nocopy(t) )\n",
      "\n",
      "t = [ 0,1,2,0 ]\n",
      "print( est_trie(t), est_trie_nocopy(t) )"
     ],
     "language": "python",
     "metadata": {},
     "outputs": [
      {
       "output_type": "stream",
       "stream": "stdout",
       "text": [
        "True True\n",
        "False True\n"
       ]
      }
     ],
     "prompt_number": 3
    },
    {
     "cell_type": "markdown",
     "metadata": {},
     "source": [
      "La raison est l'instruction ``res = tab`` cr\u00e9e une autre variable ``res`` mais l'instruction n'implique pas la copie de la liste. Elle ne fait que donner un autre nom \u00e0 la m\u00eame liste. Ainsi :"
     ]
    },
    {
     "cell_type": "code",
     "collapsed": false,
     "input": [
      "t = [0,1,2]\n",
      "t2 = t\n",
      "t2[0] = 1000000000\n",
      "\n",
      "t,t2"
     ],
     "language": "python",
     "metadata": {},
     "outputs": [
      {
       "metadata": {},
       "output_type": "pyout",
       "prompt_number": 4,
       "text": [
        "([1000000000, 1, 2], [1000000000, 1, 2])"
       ]
      }
     ],
     "prompt_number": 4
    },
    {
     "cell_type": "markdown",
     "metadata": {},
     "source": [
      "Modifier la liste ``t`` revient \u00e0 modifier la liste ``t2`` puisque ce sont les m\u00eames. Cela est d\u00fb au fait que le langage Python ne copie les listes, les dictionnaires ou les instances de classes que si ces copies sont demand\u00e9es explicitement. Par d\u00e9faut, le langage \u00e9vite toute copie."
     ]
    },
    {
     "cell_type": "code",
     "collapsed": false,
     "input": [],
     "language": "python",
     "metadata": {},
     "outputs": []
    }
   ],
   "metadata": {}
  }
 ]
}