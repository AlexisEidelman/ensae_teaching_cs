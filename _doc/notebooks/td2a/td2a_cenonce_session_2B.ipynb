{
 "metadata": {
  "name": "",
  "signature": "sha256:e2ba8ca8795895a3b3935ad5e7328bed81076291c075caf3c1f7c20a95de911b"
 },
 "nbformat": 3,
 "nbformat_minor": 0,
 "worksheets": [
  {
   "cells": [
    {
     "cell_type": "heading",
     "level": 1,
     "metadata": {},
     "source": [
      "TD 2B : Calcul distribu\u00e9, autres langages"
     ]
    },
    {
     "cell_type": "markdown",
     "metadata": {},
     "source": [
      "\n",
      "* Calcul distribu\u00e9 comment aller plus vite \n",
      "* Python et autres langages (magics commandes, C#, R, Cython)\n",
      "\n"
     ]
    },
    {
     "cell_type": "code",
     "collapsed": false,
     "input": [],
     "language": "python",
     "metadata": {},
     "outputs": []
    }
   ],
   "metadata": {}
  }
 ]
}