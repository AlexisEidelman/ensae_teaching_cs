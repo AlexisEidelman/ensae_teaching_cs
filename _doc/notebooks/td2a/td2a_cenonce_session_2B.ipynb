{
  "cells": [
    {
      "cell_type": "markdown",
      "metadata": {},
      "source": [
        "# TD 2B : Python autres langages"
      ]
    },
    {
      "cell_type": "markdown",
      "metadata": {},
      "source": [
        "Il est plus ou moins facile d'utiliser d'autres langages de programmation depuis Python. C'est beaucoup plus facile avec [Jupyter](https://jupyter.org/) et les [commandes magiques](http://nbviewer.jupyter.org/github/jupyter/jupyter/blob/1.x/examples/notebooks/Cell%20Magics.ipynb). Dans ce notebooks, nous verrons le [langage R](http://www.xavierdupre.fr/app/ensae_teaching_cs/helpsphinx/notebooks/python_r.html), [Cython](http://nbviewer.jupyter.org/github/jupyter/jupyter/blob/3607712653c66d63e0d7f13f073bde8c0f209ba8/docs/examples/notebooks/cython_extension.ipynb) et les [commandes magiques](http://nbviewer.jupyter.org/github/jupyter/jupyter/blob/1.x/examples/notebooks/Cell%20Magics.ipynb). Mais il existe de nombreuses options d\u00e9j\u00e0 impl\u00e9ment\u00e9es par d'autres [C#](http://www.xavierdupre.fr/app/ensae_teaching_cs/helpsphinx/notebooks/python_csharp.html), [F#](http://nbviewer.jupyter.org/github/BayardRock/IfSharp/blob/master/Feature%20Notebook.ipynb), [julia](http://stackoverflow.com/questions/24091373/best-way-to-run-julia-code-in-an-ipython-notebook-or-python-code-in-an-ijulia-n), [octave](http://nbviewer.jupyter.org/github/jupyter/jupyter/blob/d835d46dcc50043971b4a9915398bad1b5d63648/docs/examples/notebooks/octavemagic_extension.ipynb), [scilab](http://nbviewer.jupyter.org/github/blink1073/scilab2py/blob/master/example/scilabmagic_extension.ipynb?create=1)."
      ]
    },
    {
      "cell_type": "code",
      "execution_count": null,
      "metadata": {
        "collapsed": false
      },
      "outputs": [
        {
          "data": {
            "text/html": [
              "<div id=\"my_id_menu_nb\">run previous cell, wait for 2 seconds</div>\n",
              "<script>\n",
              "function repeat_indent_string(n){\n",
              "    var a = \"\" ;\n",
              "    for ( ; n > 0 ; --n) {\n",
              "        a += \"    \";\n",
              "    }\n",
              "    return a;\n",
              "}\n",
              "var update_menu_string = function(begin, lfirst, llast, sformat, send, keep_item) {\n",
              "    var anchors = document.getElementsByClassName(\"section\");\n",
              "    if (anchors.length == 0) {\n",
              "        anchors = document.getElementsByClassName(\"text_cell_render rendered_html\");\n",
              "    }\n",
              "    var i,t;\n",
              "    var text_menu = begin;\n",
              "    var text_memo = \"<pre>\\nlength:\" + anchors.length + \"\\n\";\n",
              "    var ind = \"\";\n",
              "    var memo_level = 1;\n",
              "    var href;\n",
              "    var tags = [];\n",
              "    var main_item = 0;\n",
              "    for (i = 0; i <= llast; i++) {\n",
              "        tags.push(\"h\" + i);\n",
              "    }\n",
              "\n",
              "    for (i = 0; i < anchors.length; i++) {\n",
              "        text_memo += \"**\" + anchors[i].id + \"--\\n\";\n",
              "\n",
              "        var child = null;\n",
              "        for(t = 0; t < tags.length; t++) {\n",
              "            var r = anchors[i].getElementsByTagName(tags[t]);\n",
              "            if (r.length > 0) {\n",
              "child = r[0];\n",
              "break;\n",
              "            }\n",
              "        }\n",
              "        if (child == null){\n",
              "            text_memo += \"null\\n\";\n",
              "            continue;\n",
              "        }\n",
              "        if (anchors[i].hasAttribute(\"id\")) {\n",
              "            // when converted in RST\n",
              "            href = anchors[i].id;\n",
              "            text_memo += \"#1-\" + href;\n",
              "            // passer \u00e0 child suivant (le chercher)\n",
              "        }\n",
              "        else if (child.hasAttribute(\"id\")) {\n",
              "            // in a notebook\n",
              "            href = child.id;\n",
              "            text_memo += \"#2-\" + href;\n",
              "        }\n",
              "        else {\n",
              "            text_memo += \"#3-\" + \"*\" + \"\\n\";\n",
              "            continue;\n",
              "        }\n",
              "        var title = child.textContent;\n",
              "        var level = parseInt(child.tagName.substring(1,2));\n",
              "\n",
              "        text_memo += \"--\" + level + \"?\" + lfirst + \"--\" + title + \"\\n\";\n",
              "\n",
              "        if ((level < lfirst) || (level > llast)) {\n",
              "            continue ;\n",
              "        }\n",
              "        if (title.endsWith('\u00b6')) {\n",
              "            title = title.substring(0,title.length-1).replace(\"<\", \"&lt;\").replace(\">\", \"&gt;\").replace(\"&\", \"&amp;\")\n",
              "        }\n",
              "\n",
              "        if (title.length == 0) {\n",
              "            continue;\n",
              "        }\n",
              "\n",
              "        while (level < memo_level) {\n",
              "            text_menu += \"</ul>\\n\";\n",
              "            memo_level -= 1;\n",
              "        }\n",
              "        if (level == lfirst) {\n",
              "            main_item += 1;\n",
              "        }\n",
              "        if (keep_item != -1 && main_item != keep_item + 1) {\n",
              "            // alert(main_item + \" - \" + level + \" - \" + keep_item);\n",
              "            continue;\n",
              "        }\n",
              "        while (level > memo_level) {\n",
              "            text_menu += \"<ul>\\n\";\n",
              "            memo_level += 1;\n",
              "        }\n",
              "        text_menu += repeat_indent_string(level-2) + sformat.replace(\"__HREF__\", href).replace(\"__TITLE__\", title);\n",
              "    }\n",
              "    while (1 < memo_level) {\n",
              "        text_menu += \"</ul>\\n\";\n",
              "        memo_level -= 1;\n",
              "    }\n",
              "    text_menu += send;\n",
              "    //text_menu += \"\\n\" + text_memo;\n",
              "    return text_menu;\n",
              "};\n",
              "var update_menu = function() {\n",
              "    var sbegin = \"\";\n",
              "    var sformat = '<li><a href=\"#__HREF__\">__TITLE__</a></li>';\n",
              "    var send = \"\";\n",
              "    var keep_item = -1;\n",
              "    var text_menu = update_menu_string(sbegin, 2, 4, sformat, send, keep_item);\n",
              "    var menu = document.getElementById(\"my_id_menu_nb\");\n",
              "    menu.innerHTML=text_menu;\n",
              "};\n",
              "window.setTimeout(update_menu,2000);\n",
              "            </script>"
            ],
            "text/plain": [
              "<IPython.core.display.HTML object>"
            ]
          },
          "execution_count": null,
          "metadata": {},
          "output_type": "execute_result"
        }
      ],
      "source": [
        "from pyquickhelper.ipythonhelper import add_notebook_menu\n",
        "add_notebook_menu()"
      ]
    },
    {
      "cell_type": "markdown",
      "metadata": {},
      "source": [
        "### R\n",
        "\n",
        "Il faut d'abord lire ce notebook : [R et notebooks](http://www.xavierdupre.fr/app/ensae_teaching_cs/helpsphinx/notebooks/python_r.html). L'exemple qui suit en vient."
      ]
    },
    {
      "cell_type": "code",
      "execution_count": null,
      "metadata": {
        "collapsed": false
      },
      "outputs": [
        {
          "data": {
            "text/plain": [
              "'C:\\\\Program Files\\\\R\\\\R-3.2.2'"
            ]
          },
          "execution_count": null,
          "metadata": {},
          "output_type": "execute_result"
        }
      ],
      "source": [
        "import os\n",
        "# au cas o\u00f9 la varialbe R_HOME manque ou est mal renseign\u00e9e\n",
        "os.environ[\"R_HOME\"] = r\"C:\\Program Files\\R\\R-3.2.2\"\n",
        "os.environ.get(\"R_HOME\", None)"
      ]
    },
    {
      "cell_type": "code",
      "execution_count": null,
      "metadata": {
        "collapsed": false
      },
      "outputs": [],
      "source": [
        "from pyquickhelper.helpgen.utils_pywin32 import import_pywin32\n",
        "import_pywin32()\n",
        "import rpy2\n",
        "%load_ext rpy2.ipython"
      ]
    },
    {
      "cell_type": "markdown",
      "metadata": {},
      "source": [
        "Le code suivant sp\u00e9cifie une source par d\u00e9faut pour t\u00e9l\u00e9charger les packages R. Cela \u00e9vite l'apparition d'une fen\u00eatre popup qui demande de choisir cette source. C'est indispensable pour les notebooks distants."
      ]
    },
    {
      "cell_type": "code",
      "execution_count": null,
      "metadata": {
        "collapsed": false
      },
      "outputs": [],
      "source": [
        "%%R\n",
        "cat(\".Rprofile: Setting UK repositoryn\")\n",
        "r = getOption(\"repos\") \n",
        "r[\"CRAN\"] = \"http://cran.uk.r-project.org\"\n",
        "options(repos = r)\n",
        "rm(r)"
      ]
    },
    {
      "cell_type": "code",
      "execution_count": null,
      "metadata": {
        "collapsed": false
      },
      "outputs": [],
      "source": [
        "%%R\n",
        "install.packages(\"actuar\")"
      ]
    },
    {
      "cell_type": "code",
      "execution_count": null,
      "metadata": {
        "collapsed": false
      },
      "outputs": [
        {
          "data": {
            "image/png": "[encoded data removed]"
          },
          "metadata": {},
          "output_type": "display_data"
        }
      ],
      "source": [
        "%%R -o fx,x\n",
        "library(\"actuar\")\n",
        "fx <- c(0, 0.15, 0.2, 0.25, 0.125, 0.075, 0.05, 0.05, 0.05, 0.025, 0.025)\n",
        "pn <- c(0.05, 0.1, 0.15, 0.2, 0.25, 0.15, 0.06, 0.03, 0.01)\n",
        "Fs <- aggregateDist(\"convolution\", model.freq = pn, model.sev = fx, x.scale = 25)\n",
        "x <- c(Fs(0), diff(Fs(25 * 0:21)))\n",
        "print(summary(fx))\n",
        "plot(Fs)"
      ]
    },
    {
      "cell_type": "markdown",
      "metadata": {},
      "source": [
        "### Exercice 1 : r\u00e9gression sous R\n",
        "\n",
        "L'exercice consiste \u00e0 simuler des donn\u00e9es en python selon le mod\u00e8le $Y= 3X_1 -2X_2 + 2 + \\epsilon$ avec $X_1,X_2,\\epsilon \\sim \\mathcal{N}(0,1)$ puis \u00e0 utiliser R pour retrouver les coefficients de la r\u00e9gression. Vous pouvez regarder cette page [Multiple Linear Regression](http://www.statmethods.net/stats/regression.html)."
      ]
    },
    {
      "cell_type": "code",
      "execution_count": null,
      "metadata": {
        "collapsed": false
      },
      "outputs": [],
      "source": []
    },
    {
      "cell_type": "markdown",
      "metadata": {},
      "source": [
        "### Cython\n",
        "\n",
        "**Remarque :** l'utilisation de [Cython](n\u00e9cessite un compilateur C++ tel que [gcc](https://gcc.gnu.org/) sous Linux, Visual Studio 2010 pour Python 3.4 sous Windows, [Visual Studio 2015](https://www.visualstudio.com/en-us/downloads/download-visual-studio-vs.aspx) pour Python 3.5, ou [MinGW](http://www.mingw.org/) sous Windows avec un peu de bidouille : [Build a Python 64 bit extension on Windows 8](http://www.xavierdupre.fr/blog/2013-07-07_nojs.html). C'est ce que v\u00e9rifie la fonction suivante apr\u00e8s avoir appliqu\u00e9 cette bidouille pour Visual Studio 2015. On essaye donc Visual Studio 2015 avec Python 3.4 m\u00eame s'il est possible que cela ne fonctionne pas dans tous les cas (Python 3.4 ayant \u00e9t\u00e9 compil\u00e9 avec VS 2010). Autres pistes de lecture : [Build xgboost](http://www.xavierdupre.fr/app/pymyinstall/helpsphinx/blog/2015/2015-09-12_build_xgboost.html), [Install theano](http://www.xavierdupre.fr/app/pymyinstall/helpsphinx/blog/2015/2015-09-12_install_theano.html)."
      ]
    },
    {
      "cell_type": "code",
      "execution_count": null,
      "metadata": {
        "collapsed": false
      },
      "outputs": [
        {
          "name": "stdout",
          "output_type": "stream",
          "text": [
            "True\n"
          ]
        }
      ],
      "source": [
        "from pyquickhelper.ipythonhelper.cython_helper import ipython_cython_extension\n",
        "try:\n",
        "    r = ipython_cython_extension()\n",
        "    print(r)\n",
        "except Exception as e:\n",
        "    print(e)"
      ]
    },
    {
      "cell_type": "markdown",
      "metadata": {},
      "source": [
        "Le module [Jupyter](http://jupyter.org/) propose une fa\u00e7on simplifi\u00e9e de se servir de Cython illustr\u00e9e ici : [Some Linear Algebra with Cython](http://nbviewer.jupyter.org/github/carljv/cython_testing/blob/master/cython_linalg.ipynb). L'exemple suivant impl\u00e9mente l'algorithme du [Crible d'\u00c9ratosth\u00e8ne](http://fr.wikipedia.org/wiki/Crible_d'%C3%89ratosth%C3%A8ne). On commence par les pr\u00e9liminaires \u00e0 n'ex\u00e9cuter d'une fois :"
      ]
    },
    {
      "cell_type": "code",
      "execution_count": null,
      "metadata": {
        "collapsed": false
      },
      "outputs": [
        {
          "name": "stdout",
          "output_type": "stream",
          "text": [
            "The cython extension is already loaded. To reload it, use:\n",
            "  %reload_ext cython\n"
          ]
        }
      ],
      "source": [
        "%load_ext cython"
      ]
    },
    {
      "cell_type": "code",
      "execution_count": null,
      "metadata": {
        "collapsed": false
      },
      "outputs": [],
      "source": [
        "%%cython\n",
        "cimport cython\n",
        "def cprimes(int kmax):\n",
        "    cdef int n, k, i\n",
        "    cdef int p[1000]\n",
        "    result = []\n",
        "    if kmax > 1000:\n",
        "        kmax = 1000\n",
        "    k = 0\n",
        "    n = 2\n",
        "    while k < kmax:\n",
        "        i = 0\n",
        "        while i < k and n % p[i] != 0:\n",
        "            i = i + 1\n",
        "        if i == k:\n",
        "            p[k] = n\n",
        "            k = k + 1\n",
        "            result.append(n)\n",
        "        n = n + 1\n",
        "    return result"
      ]
    },
    {
      "cell_type": "code",
      "execution_count": null,
      "metadata": {
        "collapsed": false
      },
      "outputs": [
        {
          "data": {
            "text/plain": [
              "[2, 3, 5, 7, 11, 13, 17, 19, 23, 29, 31, 37, 41, 43, 47, 53, 59, 61, 67, 71]"
            ]
          },
          "execution_count": null,
          "metadata": {},
          "output_type": "execute_result"
        }
      ],
      "source": [
        "cprimes(20)"
      ]
    },
    {
      "cell_type": "markdown",
      "metadata": {},
      "source": [
        "Le code est un m\u00e9lange de C et de Python. Les calculs sont plus rapides du Python, moins rapides que du C pur. Cette fa\u00e7on de faire est particuli\u00e8rement adapt\u00e9e pour acc\u00e9l\u00e9rer une courte fonction num\u00e9rique appel\u00e9e un tr\u00e8s grand nombre de fois. Le gain est non n\u00e9gligeable. Il est pr\u00e9f\u00e9rable de conna\u00eetre le C m\u00eame s'il est possible de venir la bonne syntaxe par mim\u00e9tisme. Cython s'interface bien avec [numpy](http://www.numpy.org/) : [Working with NumPy](http://docs.cython.org/src/tutorial/numpy.html) ou [Quelques exemples de programmation avec Cython](http://www-irma.u-strasbg.fr/irmawiki/index.php/Quelques_exemples_de_programmation_avec_Cython)."
      ]
    },
    {
      "cell_type": "markdown",
      "metadata": {},
      "source": [
        "### Exercice 2 : distance d'\u00e9dition en Cython\n",
        "\n",
        "La fonction qui suit impl\u00e9mente la [distance de Lenvestein](http://fr.wikipedia.org/wiki/Distance_de_Levenshtein) qui est une distance entre deux mots. Il faut la transposer en Cython et mesurer le gain de temps avec [%timeit](http://nbviewer.ipython.org/gist/damontallen/5978528)."
      ]
    },
    {
      "cell_type": "code",
      "execution_count": null,
      "metadata": {
        "collapsed": false
      },
      "outputs": [],
      "source": [
        "def distance_edition(mot1, mot2):\n",
        "    dist = { (-1,-1): 0.0 }              # double\n",
        "    mx = len(mot1) + len(mot2)\n",
        "    for i,c in enumerate(mot1) :\n",
        "        dist[i,-1] = dist[i-1,-1] + 1\n",
        "        dist[-1,i] = dist[-1,i-1] + 1\n",
        "        for j,d in enumerate(mot2) :\n",
        "            m = mx\n",
        "            if (i-1,j) in dist : \n",
        "                x = dist[i-1,j] + 1\n",
        "                m = min(m,x)\n",
        "            if (i,j-1) in dist : \n",
        "                x = dist[i,j-1] + 1\n",
        "                m = min(m,x)\n",
        "            if (i-1,j-1) in dist :\n",
        "                x = dist[i-1,j-1] + (1 if c != d else 0)\n",
        "                m = min(m,x)\n",
        "            dist[i,j] = m\n",
        "    return dist[len(mot1)-1,len(mot2)-1]"
      ]
    },
    {
      "cell_type": "code",
      "execution_count": null,
      "metadata": {
        "collapsed": false
      },
      "outputs": [
        {
          "name": "stdout",
          "output_type": "stream",
          "text": [
            "1000 loops, best of 3: 496 \u00b5s per loop\n"
          ]
        }
      ],
      "source": [
        "%timeit distance_edition(\"example\",\"exemple\")"
      ]
    },
    {
      "cell_type": "markdown",
      "metadata": {},
      "source": [
        "Le calcul de la fonction se fait en ``double``, il suffit de remplacer ``0.0`` par ``0`` sur la seconde ligne pour que le calcul se fasse avec des entiers. La fonction est alors 10% plus rapide. La fonction s'acc\u00e9l\u00e8re au fur et \u00e0 mesure qu'on remplace les constantes enti\u00e8re (0, 1) en ``float`` (0.0, 1.0) car le langage n'effectue pas de conversion implicite."
      ]
    },
    {
      "cell_type": "code",
      "execution_count": null,
      "metadata": {
        "collapsed": false
      },
      "outputs": [],
      "source": []
    }
  ],
  "metadata": {
    "kernelspec": {
      "display_name": "Python 3",
      "language": "python",
      "name": "python3"
    },
    "language_info": {
      "codemirror_mode": {
        "name": "ipython",
        "version": 3
      },
      "file_extension": ".py",
      "mimetype": "text/x-python",
      "name": "python",
      "nbconvert_exporter": "python",
      "pygments_lexer": "ipython3",
      "version": "3.5.0"
    },
    "widgets": {
      "state": {},
      "version": "1.1.2"
    }
  },
  "nbformat": 4,
  "nbformat_minor": 0
}