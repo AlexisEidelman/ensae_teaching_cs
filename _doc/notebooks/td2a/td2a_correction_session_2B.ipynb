{
 "cells": [
  {
   "cell_type": "markdown",
   "metadata": {},
   "source": [
    "# TD 2B : Python autres langages (correction)"
   ]
  },
  {
   "cell_type": "markdown",
   "metadata": {},
   "source": [
    "* [Exercice 1 : régression sous R](#exo1)\n",
    "* [Exercice 2 : distance d'édition en Cython](#exo2)\n"
   ]
  },
  {
   "cell_type": "markdown",
   "metadata": {},
   "source": [
    "<h3 id=\"exo1\">Exercice 1 : régression sous R</h3>\n",
    "\n",
    "L'exercice consiste à simuler des données en python selon le modèle $Y= 3X_1 -2X_2 + 2 + \\epsilon$ avec $X_1,X_2,\\epsilon \\sim \\mathcal{N}(0,1)$ puis à utiliser R pour retrouver les coefficients de la régression. Vous pouvez regarder cette page [Multiple Linear Regression](http://www.statmethods.net/stats/regression.html)."
   ]
  },
  {
   "cell_type": "code",
   "execution_count": null,
   "metadata": {
    "collapsed": false
   },
   "outputs": [],
   "source": []
  },
  {
   "cell_type": "markdown",
   "metadata": {},
   "source": [
    "<h3 id=\"exo2\">Exercice 2 : distance d'édition en Cython</h3>\n",
    "\n",
    "La fonction qui suit implémente la [distance de Lenvestein](http://fr.wikipedia.org/wiki/Distance_de_Levenshtein) qui est une distance entre deux mots. Il faut la transposer en Cython et mesurer le gain de temps avec [%timeit](http://nbviewer.ipython.org/gist/damontallen/5978528)."
   ]
  },
  {
   "cell_type": "code",
   "execution_count": 1,
   "metadata": {
    "collapsed": false
   },
   "outputs": [],
   "source": [
    "%load_ext cythonmagic"
   ]
  },
  {
   "cell_type": "code",
   "execution_count": 33,
   "metadata": {
    "collapsed": false
   },
   "outputs": [],
   "source": [
    "%%cython\n",
    "cimport cython\n",
    "\n",
    "#from libcpp.unordered_map cimport unordered_map  # j'ai essayé avec des objets purement C++\n",
    "#from libcpp.map cimport map                      # mais la syntaxe n'est pas toujours évidente à deviner\n",
    "                                                  # et il faut avoir le même compilateur que celui utilisé\n",
    "                                                  # pour l'interpréteur Python\n",
    "\n",
    "cdef inline int int_min(int a, int b): return a if a <= b else b\n",
    "cdef inline double  double_min(double a, double b): return a if a <= b else b\n",
    "\n",
    "cdef double c_distance_edition(str mot1, str mot2):\n",
    "    cdef dict dist = { }\n",
    "    cdef double m \n",
    "    cdef int l1 = len(mot1)\n",
    "    cdef int l2 = len(mot2)\n",
    "    cdef double mx = l1 + l2\n",
    "    \n",
    "    dist [(-1,-1)] = 0.0\n",
    "    \n",
    "    for i from 0 <= i < l1 :\n",
    "        dist[i,-1] = dist[i-1,-1] + 1\n",
    "        dist[-1,i] = dist[-1,i-1] + 1\n",
    "        c = mot1[i]\n",
    "        for j from 0 <= j < l2 :\n",
    "            m = mx\n",
    "            if dist.has_key( (i-1,j) ) :\n",
    "                x = dist[i-1,j] + 1\n",
    "                m = double_min(m,x)\n",
    "            if dist.has_key( (i,j-1) ):\n",
    "                x = dist[i,j-1] + 1\n",
    "                m = double_min(m,x)\n",
    "            if dist.has_key ( (i-1,j-1) ) :\n",
    "                d = mot2[j]\n",
    "                x = dist[i-1,j-1] + (1 if c != d else 0)\n",
    "                m = double_min(m,x)\n",
    "            dist[i,j] = m\n",
    "    return dist[len(mot1)-1,len(mot2)-1]\n",
    "\n",
    "# l'utilisation de cython n'est pas toujours facile\n",
    "# car cela fait intervenir de nombreux outils (compilateur python)\n",
    "# dans cette cellule, il faut ajouter une fonction python qui\n",
    "# appelle la fonction cython\n",
    "def distance_edition(mot1,mot2):\n",
    "    return c_distance_edition(mot1,mot2)"
   ]
  },
  {
   "cell_type": "code",
   "execution_count": 34,
   "metadata": {
    "collapsed": false
   },
   "outputs": [
    {
     "name": "stdout",
     "output_type": "stream",
     "text": [
      "10000 loops, best of 3: 77.1 µs per loop\n"
     ]
    }
   ],
   "source": [
    "%timeit distance_edition(\"example\",\"exemple\")"
   ]
  },
  {
   "cell_type": "markdown",
   "metadata": {},
   "source": [
    "La fonction est aussi rapide que les calculs se fassent en ``double`` ou ``int`` ce qui n'est pas le cas pour la version Python. Dans le cas de la fonction Cython, les conversions implicite se font lors de la compilation et non lors de l'exécution."
   ]
  },
  {
   "cell_type": "code",
   "execution_count": null,
   "metadata": {
    "collapsed": false
   },
   "outputs": [],
   "source": []
  }
 ],
 "metadata": {},
 "nbformat": 4,
 "nbformat_minor": 0
}