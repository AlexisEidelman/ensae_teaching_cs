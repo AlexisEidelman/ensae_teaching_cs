{
  "cells": [
    {
      "cell_type": "markdown",
      "metadata": {},
      "source": [
        "# Python autres langages - correction"
      ]
    },
    {
      "cell_type": "code",
      "execution_count": null,
      "metadata": {
        "collapsed": false
      },
      "outputs": [
        {
          "data": {
            "text/html": [
              "<b>Plan</b>\n",
              "<div id=\"my_menu_id\">run previous cell, wait for 2 seconds</div>\n",
              "<script>\n",
              "function repeat_indent_string(n){\n",
              "    var a = \"\" ;\n",
              "    for ( ; n > 0 ; --n) {\n",
              "        a += \"    \";\n",
              "    }\n",
              "    return a;\n",
              "}\n",
              "var update_menu_string = function(begin, lfirst, llast, sformat, send) {\n",
              "    var anchors = document.getElementsByClassName(\"section\");\n",
              "    if (anchors.length == 0) {\n",
              "        anchors = document.getElementsByClassName(\"text_cell_render rendered_html\");\n",
              "    }\n",
              "    var i,t;\n",
              "    var text_menu = begin;\n",
              "    var text_memo = \"<pre>\\nlength:\" + anchors.length + \"\\n\";\n",
              "    var ind = \"\";\n",
              "    var memo_level = 1;\n",
              "    var href;\n",
              "    var tags = [];\n",
              "    for (i = lfirst; i <= llast; i++) {\n",
              "        tags.push(\"h\" + i);\n",
              "    }\n",
              "\n",
              "    for (i = 0; i < anchors.length; i++) {\n",
              "        text_memo += \"**\" + anchors[i].id + \"--\\n\";\n",
              "\n",
              "        var child = null;\n",
              "        for(t = 0; t < tags.length; t++) {\n",
              "            var r = anchors[i].getElementsByTagName(tags[t]);\n",
              "            if (r.length > 0) {\n",
              "child = r[0];\n",
              "break;\n",
              "            }\n",
              "        }\n",
              "        if (child == null){\n",
              "            text_memo += \"null\\n\";\n",
              "            continue;\n",
              "        }\n",
              "\n",
              "        if (anchors[i].hasAttribute(\"id\")) {\n",
              "            // when converted in RST\n",
              "            href = anchors[i].id;\n",
              "            text_memo += \"#1-\" + href;\n",
              "            // passer \u00e0 child suivant (le chercher)\n",
              "        }\n",
              "        else if (child.hasAttribute(\"id\")) {\n",
              "            // in a notebook\n",
              "            href = child.id;\n",
              "            text_memo += \"#2-\" + href;\n",
              "        }\n",
              "        else {\n",
              "            text_memo += \"#3-\" + \"*\" + \"\\n\";\n",
              "            continue;\n",
              "        }\n",
              "        var title = child.textContent;\n",
              "        var level = parseInt(child.tagName.substring(1,2));\n",
              "\n",
              "        text_memo += \"--\" + level + \"?\" + lfirst + \"--\" + title + \"\\n\";\n",
              "\n",
              "        if ((level < lfirst) || (level > llast)) {\n",
              "            continue ;\n",
              "        }\n",
              "        if (title.endsWith('\u00b6')) {\n",
              "            title = title.substring(0,title.length-1).replace(\"<\", \"&lt;\").replace(\">\", \"&gt;\").replace(\"&\", \"&amp;\")\n",
              "        }\n",
              "\n",
              "        if (title.length == 0) {\n",
              "            continue;\n",
              "        }\n",
              "        while (level > memo_level) {\n",
              "            text_menu += \"<ul>\\n\";\n",
              "            memo_level += 1;\n",
              "        }\n",
              "        while (level < memo_level) {\n",
              "            text_menu += \"</ul>\\n\";\n",
              "            memo_level -= 1;\n",
              "        }\n",
              "        text_menu += repeat_indent_string(level-2) + sformat.replace(\"__HREF__\", href).replace(\"__TITLE__\", title);\n",
              "    }\n",
              "    while (1 < memo_level) {\n",
              "        text_menu += \"</ul>\\n\";\n",
              "        memo_level -= 1;\n",
              "    }\n",
              "    text_menu += send;\n",
              "    //text_menu += \"\\n\" + text_memo;\n",
              "    return text_menu;\n",
              "};\n",
              "var update_menu = function() {\n",
              "    var sbegin = \"\";\n",
              "    var sformat = '<li><a href=\"#__HREF__\">__TITLE__</a></li>';\n",
              "    var send = \"\";\n",
              "    var text_menu = update_menu_string(sbegin, 2, 4, sformat, send);\n",
              "    var menu = document.getElementById(\"my_menu_id\");\n",
              "    menu.innerHTML=text_menu;\n",
              "};\n",
              "window.setTimeout(update_menu,2000);\n",
              "            </script>"
            ],
            "text/plain": [
              "<IPython.core.display.HTML object>"
            ]
          },
          "execution_count": null,
          "metadata": {},
          "output_type": "execute_result"
        }
      ],
      "source": [
        "from jyquickhelper import add_notebook_menu\n",
        "add_notebook_menu()"
      ]
    },
    {
      "cell_type": "markdown",
      "metadata": {},
      "source": [
        "### Exercice 1 : r\u00e9gression sous R\n",
        "\n",
        "L'exercice consiste \u00e0 simuler des donn\u00e9es en python selon le mod\u00e8le $Y= 3X_1 -2X_2 + 2 + \\epsilon$ avec $X_1,X_2,\\epsilon \\sim \\mathcal{N}(0,1)$ puis \u00e0 utiliser R pour retrouver les coefficients de la r\u00e9gression. Vous pouvez regarder cette page [Multiple Linear Regression](http://www.statmethods.net/stats/regression.html)."
      ]
    },
    {
      "cell_type": "code",
      "execution_count": null,
      "metadata": {
        "collapsed": false
      },
      "outputs": [],
      "source": []
    },
    {
      "cell_type": "markdown",
      "metadata": {},
      "source": [
        "### Exercice 2 : distance d'\u00e9dition en Cython\n",
        "\n",
        "La fonction qui suit impl\u00e9mente la [distance de Lenvestein](http://fr.wikipedia.org/wiki/Distance_de_Levenshtein) qui est une distance entre deux mots. Il faut la transposer en Cython et mesurer le gain de temps avec [%timeit](http://nbviewer.ipython.org/gist/damontallen/5978528)."
      ]
    },
    {
      "cell_type": "code",
      "execution_count": null,
      "metadata": {
        "collapsed": false
      },
      "outputs": [],
      "source": [
        "%load_ext cython"
      ]
    },
    {
      "cell_type": "code",
      "execution_count": null,
      "metadata": {
        "collapsed": false
      },
      "outputs": [],
      "source": [
        "%%cython\n",
        "cimport cython\n",
        "\n",
        "#from libcpp.unordered_map cimport unordered_map  # j'ai essay\u00e9 avec des objets purement C++\n",
        "#from libcpp.map cimport map                      # mais la syntaxe n'est pas toujours \u00e9vidente \u00e0 deviner\n",
        "                                                  # et il faut avoir le m\u00eame compilateur que celui utilis\u00e9\n",
        "                                                  # pour l'interpr\u00e9teur Python\n",
        "\n",
        "cdef inline int int_min(int a, int b): return a if a <= b else b\n",
        "cdef inline double  double_min(double a, double b): return a if a <= b else b\n",
        "\n",
        "cdef double c_distance_edition(str mot1, str mot2):\n",
        "    cdef dict dist = { }\n",
        "    cdef double m \n",
        "    cdef int l1 = len(mot1)\n",
        "    cdef int l2 = len(mot2)\n",
        "    cdef double mx = l1 + l2\n",
        "    \n",
        "    dist [(-1,-1)] = 0.0\n",
        "    \n",
        "    for i from 0 <= i < l1 :\n",
        "        dist[i,-1] = dist[i-1,-1] + 1\n",
        "        dist[-1,i] = dist[-1,i-1] + 1\n",
        "        c = mot1[i]\n",
        "        for j from 0 <= j < l2 :\n",
        "            m = mx\n",
        "            if dist.has_key( (i-1,j) ) :\n",
        "                x = dist[i-1,j] + 1\n",
        "                m = double_min(m,x)\n",
        "            if dist.has_key( (i,j-1) ):\n",
        "                x = dist[i,j-1] + 1\n",
        "                m = double_min(m,x)\n",
        "            if dist.has_key ( (i-1,j-1) ) :\n",
        "                d = mot2[j]\n",
        "                x = dist[i-1,j-1] + (1 if c != d else 0)\n",
        "                m = double_min(m,x)\n",
        "            dist[i,j] = m\n",
        "    return dist[len(mot1)-1,len(mot2)-1]\n",
        "\n",
        "# l'utilisation de cython n'est pas toujours facile\n",
        "# car cela fait intervenir de nombreux outils (compilateur python)\n",
        "# dans cette cellule, il faut ajouter une fonction python qui\n",
        "# appelle la fonction cython\n",
        "def distance_edition(mot1,mot2):\n",
        "    return c_distance_edition(mot1,mot2)"
      ]
    },
    {
      "cell_type": "code",
      "execution_count": null,
      "metadata": {
        "collapsed": false
      },
      "outputs": [
        {
          "name": "stdout",
          "output_type": "stream",
          "text": [
            "1000 loops, best of 3: 155 \u00b5s per loop\n"
          ]
        }
      ],
      "source": [
        "%timeit distance_edition(\"example\",\"exemple\")"
      ]
    },
    {
      "cell_type": "markdown",
      "metadata": {},
      "source": [
        "La fonction est aussi rapide que les calculs se fassent en ``double`` ou ``int`` ce qui n'est pas le cas pour la version Python. Dans le cas de la fonction Cython, les conversions implicite se font lors de la compilation et non lors de l'ex\u00e9cution."
      ]
    },
    {
      "cell_type": "code",
      "execution_count": null,
      "metadata": {
        "collapsed": false
      },
      "outputs": [],
      "source": []
    }
  ],
  "metadata": {
    "kernelspec": {
      "display_name": "Python 3",
      "language": "python",
      "name": "python3"
    },
    "language_info": {
      "codemirror_mode": {
        "name": "ipython",
        "version": 3
      },
      "file_extension": ".py",
      "mimetype": "text/x-python",
      "name": "python",
      "nbconvert_exporter": "python",
      "pygments_lexer": "ipython3",
      "version": "3.5.0"
    }
  },
  "nbformat": 4,
  "nbformat_minor": 0
}