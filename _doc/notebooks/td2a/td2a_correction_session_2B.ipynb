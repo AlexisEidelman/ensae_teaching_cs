{
 "metadata": {
  "name": "",
  "signature": "sha256:de9b5760b28cb3f6d35fdc956b41bed863f056e0117ced33e60da33ebf03769e"
 },
 "nbformat": 3,
 "nbformat_minor": 0,
 "worksheets": [
  {
   "cells": [
    {
     "cell_type": "heading",
     "level": 1,
     "metadata": {},
     "source": [
      "TD 2B : Python autres langages (correction)"
     ]
    },
    {
     "cell_type": "markdown",
     "metadata": {},
     "source": [
      "* [Exercice 1 : r\u00e9gression sous R](#exo1)\n",
      "* [Exercice 2 : distance d'\u00e9dition en Cython](#exo2)\n"
     ]
    },
    {
     "cell_type": "markdown",
     "metadata": {},
     "source": [
      "<h3 id=\"exo1\">Exercice 1 : r\u00e9gression sous R</h3>\n",
      "\n",
      "L'exercice consiste \u00e0 simuler des donn\u00e9es en python selon le mod\u00e8le $Y= 3X_1 -2X_2 + 2 + \\epsilon$ avec $X_1,X_2,\\epsilon \\sim \\mathcal{N}(0,1)$ puis \u00e0 utiliser R pour retrouver les coefficients de la r\u00e9gression. Vous pouvez regarder cette page [Multiple Linear Regression](http://www.statmethods.net/stats/regression.html)."
     ]
    },
    {
     "cell_type": "code",
     "collapsed": false,
     "input": [],
     "language": "python",
     "metadata": {},
     "outputs": []
    },
    {
     "cell_type": "markdown",
     "metadata": {},
     "source": [
      "<h3 id=\"exo2\">Exercice 2 : distance d'\u00e9dition en Cython</h3>\n",
      "\n",
      "La fonction qui suit impl\u00e9mente la [distance de Lenvestein](http://fr.wikipedia.org/wiki/Distance_de_Levenshtein) qui est une distance entre deux mots. Il faut la transposer en Cython et mesurer le gain de temps avec [%timeit](http://nbviewer.ipython.org/gist/damontallen/5978528)."
     ]
    },
    {
     "cell_type": "code",
     "collapsed": false,
     "input": [
      "%load_ext cythonmagic"
     ],
     "language": "python",
     "metadata": {},
     "outputs": [],
     "prompt_number": 1
    },
    {
     "cell_type": "code",
     "collapsed": false,
     "input": [
      "%%cython\n",
      "cimport cython\n",
      "\n",
      "#from libcpp.unordered_map cimport unordered_map  # j'ai essay\u00e9 avec des objets purement C++\n",
      "#from libcpp.map cimport map                      # mais la syntaxe n'est pas toujours \u00e9vidente \u00e0 deviner\n",
      "                                                  # et il faut avoir le m\u00eame compilateur que celui utilis\u00e9\n",
      "                                                  # pour l'interpr\u00e9teur Python\n",
      "\n",
      "cdef inline int int_min(int a, int b): return a if a <= b else b\n",
      "cdef inline double  double_min(double a, double b): return a if a <= b else b\n",
      "\n",
      "cdef double c_distance_edition(str mot1, str mot2):\n",
      "    cdef dict dist = { }\n",
      "    cdef double m \n",
      "    cdef int l1 = len(mot1)\n",
      "    cdef int l2 = len(mot2)\n",
      "    cdef double mx = l1 + l2\n",
      "    \n",
      "    dist [(-1,-1)] = 0.0\n",
      "    \n",
      "    for i from 0 <= i < l1 :\n",
      "        dist[i,-1] = dist[i-1,-1] + 1\n",
      "        dist[-1,i] = dist[-1,i-1] + 1\n",
      "        c = mot1[i]\n",
      "        for j from 0 <= j < l2 :\n",
      "            m = mx\n",
      "            if dist.has_key( (i-1,j) ) :\n",
      "                x = dist[i-1,j] + 1\n",
      "                m = double_min(m,x)\n",
      "            if dist.has_key( (i,j-1) ):\n",
      "                x = dist[i,j-1] + 1\n",
      "                m = double_min(m,x)\n",
      "            if dist.has_key ( (i-1,j-1) ) :\n",
      "                d = mot2[j]\n",
      "                x = dist[i-1,j-1] + (1 if c != d else 0)\n",
      "                m = double_min(m,x)\n",
      "            dist[i,j] = m\n",
      "    return dist[len(mot1)-1,len(mot2)-1]\n",
      "\n",
      "# l'utilisation de cython n'est pas toujours facile\n",
      "# car cela fait intervenir de nombreux outils (compilateur python)\n",
      "# dans cette cellule, il faut ajouter une fonction python qui\n",
      "# appelle la fonction cython\n",
      "def distance_edition(mot1,mot2):\n",
      "    return c_distance_edition(mot1,mot2)"
     ],
     "language": "python",
     "metadata": {},
     "outputs": [],
     "prompt_number": 33
    },
    {
     "cell_type": "code",
     "collapsed": false,
     "input": [
      "%timeit distance_edition(\"example\",\"exemple\")"
     ],
     "language": "python",
     "metadata": {},
     "outputs": [
      {
       "output_type": "stream",
       "stream": "stdout",
       "text": [
        "10000 loops, best of 3: 77.1 \u00b5s per loop\n"
       ]
      }
     ],
     "prompt_number": 34
    },
    {
     "cell_type": "markdown",
     "metadata": {},
     "source": [
      "La fonction est aussi rapide que les calculs se fassent en ``double`` ou ``int`` ce qui n'est pas le cas pour la version Python. Dans le cas de la fonction Cython, les conversions implicite se font lors de la compilation et non lors de l'ex\u00e9cution."
     ]
    },
    {
     "cell_type": "code",
     "collapsed": false,
     "input": [],
     "language": "python",
     "metadata": {},
     "outputs": []
    }
   ],
   "metadata": {}
  }
 ]
}