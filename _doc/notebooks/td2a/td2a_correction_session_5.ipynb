{
 "metadata": {
  "name": "",
  "signature": "sha256:a36cd2c38bf4547aae0ec8070ef177951b99fd8b21687aa8ffc91314604141cc"
 },
 "nbformat": 3,
 "nbformat_minor": 0,
 "worksheets": [
  {
   "cells": [
    {
     "cell_type": "heading",
     "level": 1,
     "metadata": {},
     "source": [
      "TD 5 : Mod\u00e8le de donn\u00e9es (correction)"
     ]
    },
    {
     "cell_type": "code",
     "collapsed": false,
     "input": [
      "import pyensae\n",
      "pyensae.download_data(\"tp_2a_5_compagnies.zip\")"
     ],
     "language": "python",
     "metadata": {},
     "outputs": []
    }
   ],
   "metadata": {}
  }
 ]
}