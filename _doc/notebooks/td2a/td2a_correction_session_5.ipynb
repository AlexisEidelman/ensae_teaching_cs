{
 "metadata": {
  "name": "",
  "signature": "sha256:1485e495d3b2e04f4cde9f0b7117ecdeeda37621635bd88a7f310a1132c1e272"
 },
 "nbformat": 3,
 "nbformat_minor": 0,
 "worksheets": [
  {
   "cells": [
    {
     "cell_type": "heading",
     "level": 1,
     "metadata": {},
     "source": [
      "TD 5 : Mod\u00e8le relationnel, analyse d'incidents dans le transport a\u00e9rien (correction)"
     ]
    },
    {
     "cell_type": "code",
     "collapsed": false,
     "input": [
      "import pyensae\n",
      "pyensae.download_data(\"tp_2a_5_compagnies.zip\")"
     ],
     "language": "python",
     "metadata": {},
     "outputs": []
    }
   ],
   "metadata": {}
  }
 ]
}