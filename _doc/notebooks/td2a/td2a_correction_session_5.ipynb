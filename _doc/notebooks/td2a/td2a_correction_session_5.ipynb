{
 "metadata": {
  "name": "",
  "signature": "sha256:449bd24dcfe2b057d3bcc84bc590eee471c08007a2ccf7e514f2d665a4c24217"
 },
 "nbformat": 3,
 "nbformat_minor": 0,
 "worksheets": [
  {
   "cells": [
    {
     "cell_type": "heading",
     "level": 1,
     "metadata": {},
     "source": [
      "TD 5 : Mod\u00e8le de donn\u00e9es (correction)"
     ]
    },
    {
     "cell_type": "code",
     "collapsed": false,
     "input": [],
     "language": "python",
     "metadata": {},
     "outputs": []
    }
   ],
   "metadata": {}
  }
 ]
}