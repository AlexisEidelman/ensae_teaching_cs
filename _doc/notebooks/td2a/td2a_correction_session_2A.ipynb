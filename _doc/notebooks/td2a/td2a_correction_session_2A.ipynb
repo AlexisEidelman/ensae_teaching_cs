{
 "metadata": {
  "name": "",
  "signature": "sha256:0285915ab376df69204216c9f4c420c477577c5881ec9d8d6229f8fa350359ea"
 },
 "nbformat": 3,
 "nbformat_minor": 0,
 "worksheets": [
  {
   "cells": [
    {
     "cell_type": "heading",
     "level": 1,
     "metadata": {},
     "source": [
      "TD 2A : Calcul Matriciel, Optimisation (correction)"
     ]
    },
    {
     "cell_type": "code",
     "collapsed": false,
     "input": [
      "#Exo1a-1:\n",
      "chess = np.zeros((8,8), dtype=int)\n",
      "chess[::2,::2] = 1\n",
      "chess[1::2,1::2] = 1\n",
      "print(chess)\n",
      "\n",
      "#Exo1a-2:\n",
      "chess2 = np.tile([[1,0],[0,1]], (4,4))\n",
      "print(chess2)"
     ],
     "language": "python",
     "metadata": {},
     "outputs": []
    },
    {
     "cell_type": "code",
     "collapsed": false,
     "input": [
      "#Exo1B:\n",
      "M = np.arange(1, 21).reshape((4,5), order='F')\n",
      "print(M)\n",
      "\n",
      "idx_row = [1, 2, 0]\n",
      "idx_col = [1, 4, 2]\n",
      "#the following line is wrong:\n",
      "print(\"WRONG:\",M[idx_row, idx_col])\n",
      "print(\"########\")\n",
      "# first correct way:\n",
      "print(M[idx_row][:,idx_col])\n",
      "# we can also do:\n",
      "idx = np.ix_(idx_row, idx_col)\n",
      "print(idx)\n",
      "print(M[idx])"
     ],
     "language": "python",
     "metadata": {},
     "outputs": []
    },
    {
     "cell_type": "code",
     "collapsed": false,
     "input": [
      "#Exo1c\n",
      "n = 101\n",
      "is_prime = np.ones(n, dtype=bool)\n",
      "is_prime[:2] = False\n",
      "\n",
      "for k in range(2, int(np.sqrt(n))):\n",
      "    is_prime[k**2::k] = False\n",
      "print(np.arange(n)[is_prime])"
     ],
     "language": "python",
     "metadata": {},
     "outputs": []
    }
   ],
   "metadata": {}
  }
 ]
}