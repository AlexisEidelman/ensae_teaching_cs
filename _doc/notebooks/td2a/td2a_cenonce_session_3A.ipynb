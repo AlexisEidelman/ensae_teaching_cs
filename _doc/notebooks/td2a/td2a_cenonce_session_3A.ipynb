{
 "metadata": {
  "name": "",
  "signature": "sha256:49ca736cfb5ea3bafc8388ac8b253cf6c7acb1380c27b5dac44df512178c9eb1"
 },
 "nbformat": 3,
 "nbformat_minor": 0,
 "worksheets": [
  {
   "cells": [
    {
     "cell_type": "heading",
     "level": 1,
     "metadata": {},
     "source": [
      "TD 3A : Statistiques descriptives avec scikit-learn"
     ]
    },
    {
     "cell_type": "markdown",
     "metadata": {},
     "source": [
      "Les statistiques descriptives sont abord\u00e9es de la premi\u00e8re ann\u00e9e \u00e0 l'ENSAE. Un des livres que je consulte souvent est celui de Gilles Saporta : [Probabilit\u00e9s, analyse des donn\u00e9es et statistique](http://www.editionstechnip.com/fr/catalogue-detail/149/probabilites-analyse-des-donnees-et-statistique.html) qui est en fran\u00e7ais.\n",
      "\n",
      "Le module [scikit-learn](http://scikit-learn.org/stable/) a largement contribu\u00e9 au succ\u00e8s de Python dans le domaine du [machine learning](http://en.wikipedia.org/wiki/Machine_learning). Il inclut de nombreuses techniques regroup\u00e9es sous le terme statistiques descriptives. La correspondence anglais-fran\u00e7aise n'est pas toujours \u00e9vidente. Voici quelques termes :\n",
      "\n",
      "* ACP - [PCA](http://scikit-learn.org/stable/modules/decomposition.html#decompositions)\n",
      "* centres mobiles - [k-means](http://scikit-learn.org/stable/modules/clustering.html#k-means)\n",
      "* CAH - [Hierarchical Clustering](http://scikit-learn.org/stable/modules/clustering.html#hierarchical-clustering)\n",
      "* plus proches voisins [k-PPV](http://scikit-learn.org/stable/modules/neighbors.html)\n",
      "* analyse discriminante [LDA](http://scikit-learn.org/stable/modules/classes.html#module-sklearn.lda)\n",
      "* r\u00e9gression lin\u00e9aire [linear regression](http://scikit-learn.org/stable/modules/linear_model.html#ordinary-least-squares)\n",
      "\n",
      "Il existe de nombreux autres mod\u00e8les impl\u00e9ment\u00e9s dans [scikit-learn](http://scikit-learn.org/stable/). L'objectif de ces deux heures est d'utiliser ce module pour \u00e9tudier un jeu de donn\u00e9es selon deux m\u00e9thodes parmi celles propos\u00e9es ci-dessus.\n",
      "\n",
      "* [ACP, k-means ou CAH](#exo1)\n",
      "* [plus proches voisins, analyse discriminante ou r\u00e9gression](#exo2)\n",
      "\n",
      "<h3 id=\"exo1\">ACP, k-means ou CAH</h3>\n",
      "\n",
      "Le point commun de ces m\u00e9thodes est qu'elles ne sont pas supervis\u00e9es. L'objectif est de r\u00e9duire la complexit\u00e9 des donn\u00e9es. R\u00e9duire le nombre de dimensions pour l'ACP ou segmenter les observations pour les k-means et la CAH.\n"
     ]
    },
    {
     "cell_type": "code",
     "collapsed": false,
     "input": [],
     "language": "python",
     "metadata": {},
     "outputs": []
    },
    {
     "cell_type": "markdown",
     "metadata": {},
     "source": [
      "<h3 id=\"exo2\">plus proches voisins, analyse discriminante ou r\u00e9gression</h3>\n",
      "\n",
      "Ce sont trois m\u00e9thodes supervis\u00e9es : on s'en sert pour expliquer pr\u00e9dire le lien entre deux variables $X$ et $Y$ (ou ensemble de variables) ou pr\u00e9dire $Y$ en fonction de $X$."
     ]
    },
    {
     "cell_type": "code",
     "collapsed": false,
     "input": [],
     "language": "python",
     "metadata": {},
     "outputs": []
    }
   ],
   "metadata": {}
  }
 ]
}