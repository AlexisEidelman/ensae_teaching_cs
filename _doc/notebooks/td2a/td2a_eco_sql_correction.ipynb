{
 "cells": [
  {
   "cell_type": "markdown",
   "metadata": {},
   "source": [
    "# Python et la logique SQL\n",
    "\n",
    "SQL permet de créer des tables, de rechercher, d'ajouter, de modifier ou de supprimer des données dans les bases de données. \n",
    "Un peu ce que vous ferez bientôt tous les jours. C’est un langage de management de données, pas de nettoyage, d’analyse ou de statistiques avancées.\n",
    "\n",
    "Les instructions SQL s'écrivent d'une manière qui ressemble à celle de phrases ordinaires en anglais. Cette ressemblance voulue vise à faciliter l'apprentissage et la lecture. Il est néanmoins important de respecter un ordre pour les différentes instructions.\n",
    "\n",
    "Dans ce TD, nous allons écrire des commandes en SQL via Python.\n",
    "\n",
    "Pour plus de précisions sur SQL et les commandes qui existent, rendez-vous là http://www.xavierdupre.fr/app/ensae_teaching_cs/helpsphinx3/ext2a/sql_doc.html"
   ]
  },
  {
   "cell_type": "markdown",
   "metadata": {},
   "source": [
    "## Se connecter à une base de données\n",
    "\n",
    "A la différence des tables qu'on utilise habituellement, la base de données n'est pas visible directement en ouvrant Excel ou un éditeur de texte. Pour avoir une vue de ce que contient la base de données, il est nécessaire d'avoir un autre type de logiciel.\n",
    "\n",
    "Pour le TD, nous vous recommandans d'installer SQLLiteSpy (disponible à cette adresse http://www.yunqa.de/delphi/products/sqlitespy/index) si vous voulez voir à quoi ressemble les données avant de les utiliser avec Python.\n",
    "\n"
   ]
  },
  {
   "cell_type": "code",
   "execution_count": 1,
   "metadata": {
    "collapsed": false
   },
   "outputs": [],
   "source": [
    "import sqlite3\n",
    "# on va se connecter à une base de données SQL vide\n",
    "# SQLite stocke la BDD dans un simple fichier\n",
    "filepath = \"./DataBase.db\"\n",
    "open(filepath, 'w').close() #crée un fichier vide\n",
    "CreateDataBase = sqlite3.connect(filepath)\n",
    "\n",
    "QueryCurs = CreateDataBase.cursor()"
   ]
  },
  {
   "cell_type": "markdown",
   "metadata": {},
   "source": [
    "La méthode cursor() est un peu particulière : \n",
    "\n",
    "Il s'agit d'une sorte de tampon mémoire intermédiaire, destiné à mémoriser temporairement les données en cours de traitement, ainsi que les opérations que vous effectuez sur elles, avant leur transfert définitif dans la base de données. Tant que la  méthode .commit() n'aura pas été appelée, aucun ordre ne sera appliqué à la base de données."
   ]
  },
  {
   "cell_type": "markdown",
   "metadata": {},
   "source": [
    "--------------------\n",
    "A présent que nous sommes connectés à la base de données, on va créer une table qui contient plusieurs variables de format différents\n",
    "- ID sera la clé primaire de la base\n",
    "- Nom, Rue, Ville, Pays seront du text\n",
    "- Prix sera un réel"
   ]
  },
  {
   "cell_type": "code",
   "execution_count": 2,
   "metadata": {
    "collapsed": false
   },
   "outputs": [],
   "source": [
    "# On définit une fonction de création de table\n",
    "def CreateTable(nom_bdd):\n",
    "    QueryCurs.execute('''CREATE TABLE IF NOT EXISTS ''' + nom_bdd + '''\n",
    "    (id INTEGER PRIMARY KEY, Name TEXT,City TEXT, Country TEXT, Price REAL)''')\n",
    "\n",
    "# On définit une fonction qui permet d'ajouter des observations dans la table    \n",
    "def AddEntry(nom_bdd, Nom,Ville,Pays,Prix):\n",
    "    QueryCurs.execute('''INSERT INTO ''' + nom_bdd + ''' \n",
    "    (Name,City,Country,Price) VALUES (?,?,?,?)''',(Nom,Ville,Pays,Prix))\n",
    "    \n",
    "def AddEntries(nom_bdd, data):\n",
    "    \"\"\" data : list with (Name,City,Country,Price) tuples to insert\n",
    "    \"\"\"\n",
    "    QueryCurs.executemany('''INSERT INTO ''' + nom_bdd + ''' \n",
    "    (Name,City,Country,Price) VALUES (?,?,?,?)''',data)\n",
    "    \n",
    "    \n",
    "### On va créer la table clients\n",
    "\n",
    "CreateTable('Clients')\n",
    "\n",
    "AddEntry('Clients','Toto','Munich','Germany',5.2)\n",
    "AddEntries('Clients',\n",
    "    [('Bill','Berlin','Germany',2.3),\n",
    "    ('Tom','Paris','France',7.8),\n",
    "    ('Marvin','Miami','USA',15.2),\n",
    "    ('Anna','Paris','USA',7.8)])\n",
    "\n",
    "# on va \"commit\" c'est à dire qu'on va valider la transaction. \n",
    "# > on va envoyer ses modifications locales vers le référentiel central - la base de données SQL\n",
    "\n",
    "CreateDataBase.commit()"
   ]
  },
  {
   "cell_type": "markdown",
   "metadata": {},
   "source": [
    "### Voir la table\n",
    "Pour voir ce qu'il y a dans la table, on utilise un premier Select où on demande à voir toute la table"
   ]
  },
  {
   "cell_type": "code",
   "execution_count": 3,
   "metadata": {
    "collapsed": false
   },
   "outputs": [
    {
     "name": "stdout",
     "output_type": "stream",
     "text": [
      "[(1, 'Toto', 'Munich', 'Germany', 5.2), (2, 'Bill', 'Berlin', 'Germany', 2.3), (3, 'Tom', 'Paris', 'France', 7.8), (4, 'Marvin', 'Miami', 'USA', 15.2), (5, 'Anna', 'Paris', 'USA', 7.8)]\n"
     ]
    }
   ],
   "source": [
    "QueryCurs.execute('SELECT * FROM Clients')\n",
    "Values = QueryCurs.fetchall()\n",
    "print(Values)"
   ]
  },
  {
   "cell_type": "markdown",
   "metadata": {},
   "source": [
    "### Passer en pandas\n",
    "\n",
    "Rien de plus simple : plusieurs manières de faire"
   ]
  },
  {
   "cell_type": "code",
   "execution_count": 4,
   "metadata": {
    "collapsed": false
   },
   "outputs": [
    {
     "name": "stdout",
     "output_type": "stream",
     "text": [
      "En utilisant la méthode read_sql_query \n",
      "    id    Name    City  Country  Price\n",
      "0   1    Toto  Munich  Germany    5.2\n",
      "1   2    Bill  Berlin  Germany    2.3\n",
      "2   3     Tom   Paris   France    7.8\n",
      "3   4  Marvin   Miami      USA   15.2\n",
      "4   5    Anna   Paris      USA    7.8 \n",
      "\n",
      "En passant par une DataFrame \n",
      "    ID    Name    City  Country  Price\n",
      "0   1    Toto  Munich  Germany    5.2\n",
      "1   2    Bill  Berlin  Germany    2.3\n",
      "2   3     Tom   Paris   France    7.8\n",
      "3   4  Marvin   Miami      USA   15.2\n",
      "4   5    Anna   Paris      USA    7.8\n"
     ]
    }
   ],
   "source": [
    "import pandas as pd\n",
    "# méthode SQL Query\n",
    "df1 = pd.read_sql_query('SELECT * FROM Clients', CreateDataBase)\n",
    "print(\"En utilisant la méthode read_sql_query \\n\", df1.head(), \"\\n\")\n",
    "\n",
    "\n",
    "#méthode DataFrame en utilisant la liste issue de .fetchall()\n",
    "df2 = pd.DataFrame(Values, columns=['ID','Name','City','Country','Price'])\n",
    "print(\"En passant par une DataFrame \\n\", df2.head())"
   ]
  },
  {
   "cell_type": "markdown",
   "metadata": {},
   "source": [
    "## Comparaison SQL et pandas\n",
    "### SELECT\n",
    "\n",
    "En SQL, la sélection se fait en utilisant des virgules ou * si on veut sélectionner toutes les colonnes"
   ]
  },
  {
   "cell_type": "code",
   "execution_count": 5,
   "metadata": {
    "collapsed": false
   },
   "outputs": [
    {
     "name": "stdout",
     "output_type": "stream",
     "text": [
      "[(1, 'Munich'), (2, 'Berlin')]\n"
     ]
    }
   ],
   "source": [
    "# en SQL\n",
    "QueryCurs.execute('SELECT ID,City FROM Clients LIMIT 2')\n",
    "Values = QueryCurs.fetchall()\n",
    "print(Values)"
   ]
  },
  {
   "cell_type": "markdown",
   "metadata": {},
   "source": [
    "En pandas, la sélection de colonnes se fait en donnant une liste"
   ]
  },
  {
   "cell_type": "code",
   "execution_count": 6,
   "metadata": {
    "collapsed": false
   },
   "outputs": [
    {
     "data": {
      "text/html": [
       "<div>\n",
       "<table border=\"1\" class=\"dataframe\">\n",
       "  <thead>\n",
       "    <tr style=\"text-align: right;\">\n",
       "      <th></th>\n",
       "      <th>ID</th>\n",
       "      <th>City</th>\n",
       "    </tr>\n",
       "  </thead>\n",
       "  <tbody>\n",
       "    <tr>\n",
       "      <th>0</th>\n",
       "      <td>1</td>\n",
       "      <td>Munich</td>\n",
       "    </tr>\n",
       "    <tr>\n",
       "      <th>1</th>\n",
       "      <td>2</td>\n",
       "      <td>Berlin</td>\n",
       "    </tr>\n",
       "  </tbody>\n",
       "</table>\n",
       "</div>"
      ],
      "text/plain": [
       "   ID    City\n",
       "0   1  Munich\n",
       "1   2  Berlin"
      ]
     },
     "execution_count": 6,
     "metadata": {},
     "output_type": "execute_result"
    }
   ],
   "source": [
    "#sur la table\n",
    "df2[['ID','City']].head(2)"
   ]
  },
  {
   "cell_type": "markdown",
   "metadata": {},
   "source": [
    "### WHERE\n",
    "En SQL, on utilise WHERE pour filtrer les tables selon certaines conditions"
   ]
  },
  {
   "cell_type": "code",
   "execution_count": 7,
   "metadata": {
    "collapsed": false
   },
   "outputs": [
    {
     "name": "stdout",
     "output_type": "stream",
     "text": [
      "[(3, 'Tom', 'Paris', 'France', 7.8), (5, 'Anna', 'Paris', 'USA', 7.8)]\n"
     ]
    }
   ],
   "source": [
    "QueryCurs.execute('SELECT * FROM Clients WHERE City==\"Paris\"')\n",
    "print(QueryCurs.fetchall())"
   ]
  },
  {
   "cell_type": "markdown",
   "metadata": {},
   "source": [
    "Avec Pandas, on peut utiliser plusieurs manières de faire : \n",
    "    - avec un booléen\n",
    "    - en utilisant la méthode 'query'"
   ]
  },
  {
   "cell_type": "code",
   "execution_count": 8,
   "metadata": {
    "collapsed": false
   },
   "outputs": [
    {
     "data": {
      "text/html": [
       "<div>\n",
       "<table border=\"1\" class=\"dataframe\">\n",
       "  <thead>\n",
       "    <tr style=\"text-align: right;\">\n",
       "      <th></th>\n",
       "      <th>ID</th>\n",
       "      <th>Name</th>\n",
       "      <th>City</th>\n",
       "      <th>Country</th>\n",
       "      <th>Price</th>\n",
       "    </tr>\n",
       "  </thead>\n",
       "  <tbody>\n",
       "    <tr>\n",
       "      <th>2</th>\n",
       "      <td>3</td>\n",
       "      <td>Tom</td>\n",
       "      <td>Paris</td>\n",
       "      <td>France</td>\n",
       "      <td>7.8</td>\n",
       "    </tr>\n",
       "    <tr>\n",
       "      <th>4</th>\n",
       "      <td>5</td>\n",
       "      <td>Anna</td>\n",
       "      <td>Paris</td>\n",
       "      <td>USA</td>\n",
       "      <td>7.8</td>\n",
       "    </tr>\n",
       "  </tbody>\n",
       "</table>\n",
       "</div>"
      ],
      "text/plain": [
       "   ID  Name   City Country  Price\n",
       "2   3   Tom  Paris  France    7.8\n",
       "4   5  Anna  Paris     USA    7.8"
      ]
     },
     "execution_count": 8,
     "metadata": {},
     "output_type": "execute_result"
    }
   ],
   "source": [
    "df2[df2['City'] == \"Paris\"]"
   ]
  },
  {
   "cell_type": "code",
   "execution_count": 9,
   "metadata": {
    "collapsed": false
   },
   "outputs": [
    {
     "data": {
      "text/html": [
       "<div>\n",
       "<table border=\"1\" class=\"dataframe\">\n",
       "  <thead>\n",
       "    <tr style=\"text-align: right;\">\n",
       "      <th></th>\n",
       "      <th>ID</th>\n",
       "      <th>Name</th>\n",
       "      <th>City</th>\n",
       "      <th>Country</th>\n",
       "      <th>Price</th>\n",
       "    </tr>\n",
       "  </thead>\n",
       "  <tbody>\n",
       "    <tr>\n",
       "      <th>2</th>\n",
       "      <td>3</td>\n",
       "      <td>Tom</td>\n",
       "      <td>Paris</td>\n",
       "      <td>France</td>\n",
       "      <td>7.8</td>\n",
       "    </tr>\n",
       "    <tr>\n",
       "      <th>4</th>\n",
       "      <td>5</td>\n",
       "      <td>Anna</td>\n",
       "      <td>Paris</td>\n",
       "      <td>USA</td>\n",
       "      <td>7.8</td>\n",
       "    </tr>\n",
       "  </tbody>\n",
       "</table>\n",
       "</div>"
      ],
      "text/plain": [
       "   ID  Name   City Country  Price\n",
       "2   3   Tom  Paris  France    7.8\n",
       "4   5  Anna  Paris     USA    7.8"
      ]
     },
     "execution_count": 9,
     "metadata": {},
     "output_type": "execute_result"
    }
   ],
   "source": [
    "df2.query('City == \"Paris\"')"
   ]
  },
  {
   "cell_type": "markdown",
   "metadata": {},
   "source": [
    "Pour mettre plusieurs conditions, on utilise : \n",
    "- & en Python, AND en SQL\n",
    "- | en python, OR en SQL"
   ]
  },
  {
   "cell_type": "code",
   "execution_count": 10,
   "metadata": {
    "collapsed": false
   },
   "outputs": [
    {
     "name": "stdout",
     "output_type": "stream",
     "text": [
      "[(5, 'Anna', 'Paris', 'USA', 7.8)]\n"
     ]
    }
   ],
   "source": [
    "QueryCurs.execute('SELECT * FROM Clients WHERE City==\"Paris\" AND Country == \"USA\"')\n",
    "print(QueryCurs.fetchall())"
   ]
  },
  {
   "cell_type": "code",
   "execution_count": 11,
   "metadata": {
    "collapsed": false
   },
   "outputs": [
    {
     "data": {
      "text/html": [
       "<div>\n",
       "<table border=\"1\" class=\"dataframe\">\n",
       "  <thead>\n",
       "    <tr style=\"text-align: right;\">\n",
       "      <th></th>\n",
       "      <th>ID</th>\n",
       "      <th>Name</th>\n",
       "      <th>City</th>\n",
       "      <th>Country</th>\n",
       "      <th>Price</th>\n",
       "    </tr>\n",
       "  </thead>\n",
       "  <tbody>\n",
       "    <tr>\n",
       "      <th>4</th>\n",
       "      <td>5</td>\n",
       "      <td>Anna</td>\n",
       "      <td>Paris</td>\n",
       "      <td>USA</td>\n",
       "      <td>7.8</td>\n",
       "    </tr>\n",
       "  </tbody>\n",
       "</table>\n",
       "</div>"
      ],
      "text/plain": [
       "   ID  Name   City Country  Price\n",
       "4   5  Anna  Paris     USA    7.8"
      ]
     },
     "execution_count": 11,
     "metadata": {},
     "output_type": "execute_result"
    }
   ],
   "source": [
    "df2.query('City == \"Paris\" & Country == \"USA\"')\n",
    "\n",
    "df2[(df2['City'] == \"Paris\") & (df2['Country'] == \"USA\")]"
   ]
  },
  {
   "cell_type": "markdown",
   "metadata": {},
   "source": [
    "## GROUP BY\n",
    "\n",
    "En pandas, l'opération GROUP BY de SQL s'effectue avec une méthode similaire : groupby() \n",
    "\n",
    "groupby() sert à regrouper des observations en groupes selon les modalités de certaines variables en appliquant une fonction d'aggrégation sur d'autres variables."
   ]
  },
  {
   "cell_type": "code",
   "execution_count": 12,
   "metadata": {
    "collapsed": false
   },
   "outputs": [
    {
     "name": "stdout",
     "output_type": "stream",
     "text": [
      "[('France', 1), ('Germany', 2), ('USA', 2)]\n"
     ]
    }
   ],
   "source": [
    "QueryCurs.execute('SELECT Country, count(*)  FROM Clients GROUP BY Country')\n",
    "print(QueryCurs.fetchall())"
   ]
  },
  {
   "cell_type": "markdown",
   "metadata": {},
   "source": [
    "Attention, en pandas, la fonction count() ne fait pas la même chose qu'en SQL. Count() s'applique à toutes les colonnes et compte toutes les observations non nulles."
   ]
  },
  {
   "cell_type": "code",
   "execution_count": 13,
   "metadata": {
    "collapsed": false
   },
   "outputs": [
    {
     "data": {
      "text/html": [
       "<div>\n",
       "<table border=\"1\" class=\"dataframe\">\n",
       "  <thead>\n",
       "    <tr style=\"text-align: right;\">\n",
       "      <th></th>\n",
       "      <th>ID</th>\n",
       "      <th>Name</th>\n",
       "      <th>City</th>\n",
       "      <th>Price</th>\n",
       "    </tr>\n",
       "    <tr>\n",
       "      <th>Country</th>\n",
       "      <th></th>\n",
       "      <th></th>\n",
       "      <th></th>\n",
       "      <th></th>\n",
       "    </tr>\n",
       "  </thead>\n",
       "  <tbody>\n",
       "    <tr>\n",
       "      <th>France</th>\n",
       "      <td>1</td>\n",
       "      <td>1</td>\n",
       "      <td>1</td>\n",
       "      <td>1</td>\n",
       "    </tr>\n",
       "    <tr>\n",
       "      <th>Germany</th>\n",
       "      <td>2</td>\n",
       "      <td>2</td>\n",
       "      <td>2</td>\n",
       "      <td>2</td>\n",
       "    </tr>\n",
       "    <tr>\n",
       "      <th>USA</th>\n",
       "      <td>2</td>\n",
       "      <td>2</td>\n",
       "      <td>2</td>\n",
       "      <td>2</td>\n",
       "    </tr>\n",
       "  </tbody>\n",
       "</table>\n",
       "</div>"
      ],
      "text/plain": [
       "         ID  Name  City  Price\n",
       "Country                       \n",
       "France    1     1     1      1\n",
       "Germany   2     2     2      2\n",
       "USA       2     2     2      2"
      ]
     },
     "execution_count": 13,
     "metadata": {},
     "output_type": "execute_result"
    }
   ],
   "source": [
    "df2.groupby('Country').count()"
   ]
  },
  {
   "cell_type": "markdown",
   "metadata": {},
   "source": [
    "Pour réaliser la même chose qu'en SQL, il faut utiliser la méthode size()"
   ]
  },
  {
   "cell_type": "code",
   "execution_count": 14,
   "metadata": {
    "collapsed": false
   },
   "outputs": [
    {
     "data": {
      "text/plain": [
       "Country\n",
       "France     1\n",
       "Germany    2\n",
       "USA        2\n",
       "dtype: int64"
      ]
     },
     "execution_count": 14,
     "metadata": {},
     "output_type": "execute_result"
    }
   ],
   "source": [
    "df2.groupby('Country').size()"
   ]
  },
  {
   "cell_type": "markdown",
   "metadata": {},
   "source": [
    "On peut aussi appliquer des fonctions plus sophistiquées lors d'un groupby"
   ]
  },
  {
   "cell_type": "code",
   "execution_count": 15,
   "metadata": {
    "collapsed": false
   },
   "outputs": [
    {
     "name": "stdout",
     "output_type": "stream",
     "text": [
      "[('France', 7.8, 1), ('Germany', 3.75, 2), ('USA', 11.5, 2)]\n"
     ]
    }
   ],
   "source": [
    "QueryCurs.execute('SELECT Country, AVG(Price), count(*)  FROM Clients GROUP BY Country')\n",
    "print(QueryCurs.fetchall())"
   ]
  },
  {
   "cell_type": "markdown",
   "metadata": {},
   "source": [
    "Avec pandas, on peut appeler les fonctions classiques de numpy"
   ]
  },
  {
   "cell_type": "code",
   "execution_count": 16,
   "metadata": {
    "collapsed": false
   },
   "outputs": [
    {
     "data": {
      "text/html": [
       "<div>\n",
       "<table border=\"1\" class=\"dataframe\">\n",
       "  <thead>\n",
       "    <tr style=\"text-align: right;\">\n",
       "      <th></th>\n",
       "      <th>Price</th>\n",
       "      <th>Country</th>\n",
       "    </tr>\n",
       "    <tr>\n",
       "      <th>Country</th>\n",
       "      <th></th>\n",
       "      <th></th>\n",
       "    </tr>\n",
       "  </thead>\n",
       "  <tbody>\n",
       "    <tr>\n",
       "      <th>France</th>\n",
       "      <td>7.80</td>\n",
       "      <td>1</td>\n",
       "    </tr>\n",
       "    <tr>\n",
       "      <th>Germany</th>\n",
       "      <td>3.75</td>\n",
       "      <td>2</td>\n",
       "    </tr>\n",
       "    <tr>\n",
       "      <th>USA</th>\n",
       "      <td>11.50</td>\n",
       "      <td>2</td>\n",
       "    </tr>\n",
       "  </tbody>\n",
       "</table>\n",
       "</div>"
      ],
      "text/plain": [
       "         Price  Country\n",
       "Country                \n",
       "France    7.80        1\n",
       "Germany   3.75        2\n",
       "USA      11.50        2"
      ]
     },
     "execution_count": 16,
     "metadata": {},
     "output_type": "execute_result"
    }
   ],
   "source": [
    "import numpy as np\n",
    "df2.groupby('Country').agg({'Price': np.mean, 'Country': np.size})"
   ]
  },
  {
   "cell_type": "markdown",
   "metadata": {},
   "source": [
    "Ou utiliser des fonctions lambda"
   ]
  },
  {
   "cell_type": "code",
   "execution_count": 17,
   "metadata": {
    "collapsed": false
   },
   "outputs": [
    {
     "data": {
      "text/plain": [
       "Country\n",
       "France     15.6\n",
       "Germany     7.5\n",
       "USA        23.0\n",
       "Name: Price, dtype: float64"
      ]
     },
     "execution_count": 17,
     "metadata": {},
     "output_type": "execute_result"
    }
   ],
   "source": [
    "# par exemple calculer le prix moyen et le multiplier par 2\n",
    "df2.groupby('Country')['Price'].apply(lambda x: 2*x.mean())"
   ]
  },
  {
   "cell_type": "code",
   "execution_count": 18,
   "metadata": {
    "collapsed": false
   },
   "outputs": [
    {
     "data": {
      "text/plain": [
       "[('France', 15.6), ('Germany', 7.5), ('USA', 23.0)]"
      ]
     },
     "execution_count": 18,
     "metadata": {},
     "output_type": "execute_result"
    }
   ],
   "source": [
    "QueryCurs.execute('SELECT Country, 2*AVG(Price) FROM Clients GROUP BY Country').fetchall()"
   ]
  },
  {
   "cell_type": "code",
   "execution_count": 19,
   "metadata": {
    "collapsed": false
   },
   "outputs": [
    {
     "name": "stdout",
     "output_type": "stream",
     "text": [
      "[(1, 'Toto', 'Munich', 'Germany', 5.2), (2, 'Bill', 'Berlin', 'Germany', 2.3)]\n",
      "[(2, 'Bill', 'Berlin', 'Germany', 2.3)]\n",
      "[(3, 'Tom', 'Paris', 'France', 7.8), (4, 'Marvin', 'Miami', 'USA', 15.2), (5, 'Anna', 'Paris', 'USA', 7.8)]\n"
     ]
    }
   ],
   "source": [
    "QueryCurs.execute('SELECT * FROM Clients WHERE Country == \"Germany\"')\n",
    "print(QueryCurs.fetchall())\n",
    "QueryCurs.execute('SELECT * FROM Clients WHERE City==\"Berlin\" AND Country == \"Germany\"')\n",
    "print(QueryCurs.fetchall())\n",
    "QueryCurs.execute('SELECT * FROM Clients WHERE Price BETWEEN 7 AND 20')\n",
    "print(QueryCurs.fetchall())"
   ]
  },
  {
   "cell_type": "markdown",
   "metadata": {},
   "source": [
    "## Enregistrer une table SQL sous un autre format \n",
    "\n",
    "On utilise le package csv, l'option 'w' pour 'write'. \n",
    "\n",
    "On crée l'objet \"writer\", qui vient du package csv.\n",
    "\n",
    "Cet objet a deux méthodes : \n",
    "- writerow pour les noms de colonnes  : une liste\n",
    "- writerows pour les lignes : un ensemble de liste\n"
   ]
  },
  {
   "cell_type": "code",
   "execution_count": 20,
   "metadata": {
    "collapsed": false
   },
   "outputs": [],
   "source": [
    "data = QueryCurs.execute('SELECT * FROM Clients')\n",
    "\n",
    "import csv\n",
    "\n",
    "with open('./output.csv', 'w') as file:\n",
    "    writer = csv.writer(file)\n",
    "    writer.writerow(['id','Name','City','Country','Price'])\n",
    "    writer.writerows(data)"
   ]
  },
  {
   "cell_type": "markdown",
   "metadata": {},
   "source": [
    "On peut également passer par un DataFrame pandas et utiliser .to_csv()"
   ]
  },
  {
   "cell_type": "code",
   "execution_count": 21,
   "metadata": {
    "collapsed": false
   },
   "outputs": [
    {
     "data": {
      "text/plain": [
       "<sqlite3.Cursor at 0x1b61e280f10>"
      ]
     },
     "execution_count": 21,
     "metadata": {},
     "output_type": "execute_result"
    }
   ],
   "source": [
    "QueryCurs.execute('''DROP TABLE Clients''')\n",
    "#QueryCurs.close()"
   ]
  },
  {
   "cell_type": "markdown",
   "metadata": {},
   "source": [
    "## Exercice"
   ]
  },
  {
   "cell_type": "markdown",
   "metadata": {},
   "source": [
    "Dans cet exercice, nous allons manipuler les tables de la base de données World. \n",
    "\n",
    "Avant tout, connectez vous à la base de donénes en utilisant sqlite3 et connect"
   ]
  },
  {
   "cell_type": "code",
   "execution_count": 22,
   "metadata": {
    "collapsed": false
   },
   "outputs": [],
   "source": [
    "#Se connecter à la base de données WORLD\n",
    "CreateDataBase = sqlite3.connect(\"./World.db3\")\n",
    "QueryCurs = CreateDataBase.cursor()"
   ]
  },
  {
   "cell_type": "markdown",
   "metadata": {},
   "source": [
    "Familiarisez vous avec la base de données : quelles sont les tables ? quelles sont les variables de ces tables ? \n",
    "    - utilisez la fonction PRAGMA pour obtenir des informations sur les tables\n",
    "    "
   ]
  },
  {
   "cell_type": "code",
   "execution_count": 23,
   "metadata": {
    "collapsed": false
   },
   "outputs": [
    {
     "name": "stdout",
     "output_type": "stream",
     "text": [
      "Table : City\n",
      "Colonnes ['ID', 'Name', 'CountryCode', 'District', 'Population']\n",
      "1ère ligne [(1, 'Kabul', 'AFG', 'Kabol', 1780000)] \n",
      "\n",
      "Table : Country\n",
      "Colonnes ['Code', 'Name', 'Continent', 'Region', 'SurfaceArea', 'IndepYear', 'Population', 'LifeExpectancy', 'GNP', 'GNPOld', 'LocalName', 'GovernmentForm', 'HeadOfState', 'Capital', 'Code2']\n",
      "1ère ligne [('AFG', 'Afghanistan', 'Asia', 'Southern and Central Asia', 652090.0, 1919, 22720000, 45.9, 5976.0, None, 'Afganistan/Afqanestan', 'Islamic Emirate', 'Mohammad Omar', 1, 'AF')] \n",
      "\n",
      "Table : CountryLanguage\n",
      "Colonnes ['CountryCode', 'Language', 'IsOfficial', 'Percentage']\n",
      "1ère ligne [('AFG', 'Pashto', 1, 52.4)] \n",
      "\n"
     ]
    }
   ],
   "source": [
    "# pour obtenir la liste des tables dans la base de données\n",
    "tables = QueryCurs.execute(\"SELECT name FROM sqlite_master WHERE type='table';\").fetchall()\n",
    "\n",
    "# on veut voir les colonnes de chaque table ainsi que la première ligne \n",
    "for table in tables : \n",
    "    print(\"Table :\", table[0])\n",
    "    schema = QueryCurs.execute(\"PRAGMA table_info({})\".format(table[0])).fetchall()\n",
    "    print(\"Colonnes\", [\"{}\".format(x[1]) for x in schema])\n",
    "    print(\"1ère ligne\", QueryCurs.execute('SELECT * FROM {} LIMIT 1'.format(table[0])).fetchall(), \"\\n\")"
   ]
  },
  {
   "cell_type": "markdown",
   "metadata": {},
   "source": [
    "## Question 1\n",
    "- Quels sont les 10 pays qui ont le plus de langues ?\n",
    "- Quelle langue est présente dans le plus de pays ?"
   ]
  },
  {
   "cell_type": "code",
   "execution_count": 24,
   "metadata": {
    "collapsed": false
   },
   "outputs": [
    {
     "data": {
      "text/plain": [
       "[('AGO', 13),\n",
       " ('CAN', 12),\n",
       " ('CHN', 12),\n",
       " ('IND', 12),\n",
       " ('RUS', 12),\n",
       " ('USA', 12),\n",
       " ('TZA', 11),\n",
       " ('ZAF', 11),\n",
       " ('COD', 10),\n",
       " ('IRN', 10)]"
      ]
     },
     "execution_count": 24,
     "metadata": {},
     "output_type": "execute_result"
    }
   ],
   "source": [
    "QueryCurs.execute(\"\"\"SELECT CountryCode, COUNT(*) as NB \n",
    "                  FROM CountryLanguage \n",
    "                  GROUP BY CountryCode \n",
    "                  ORDER BY NB DESC\n",
    "                  LIMIT 10\"\"\").fetchall()"
   ]
  },
  {
   "cell_type": "code",
   "execution_count": 25,
   "metadata": {
    "collapsed": false
   },
   "outputs": [
    {
     "data": {
      "text/plain": [
       "[('English', 60)]"
      ]
     },
     "execution_count": 25,
     "metadata": {},
     "output_type": "execute_result"
    }
   ],
   "source": [
    "QueryCurs.execute('''SELECT Language, COUNT(*) as NB \n",
    "                  FROM CountryLanguage \n",
    "                  GROUP BY Language \n",
    "                  ORDER BY -NB\n",
    "                  LIMIT 1''').fetchall()"
   ]
  },
  {
   "cell_type": "markdown",
   "metadata": {},
   "source": [
    "## Question 2\n",
    "- Quelles sont les différentes formes de gouvernements dans les pays du monde ?\n",
    "- Quels sont les 3 gouvernements où la population est la plus importante ?"
   ]
  },
  {
   "cell_type": "code",
   "execution_count": 26,
   "metadata": {
    "collapsed": false
   },
   "outputs": [
    {
     "data": {
      "text/plain": [
       "[('Islamic Emirate',),\n",
       " ('Constitutional Monarchy',),\n",
       " ('Nonmetropolitan Territory of The Netherlands',),\n",
       " ('Republic',),\n",
       " ('US Territory',),\n",
       " ('Parliamentary Coprincipality',),\n",
       " ('Dependent Territory of the UK',),\n",
       " ('Emirate Federation',),\n",
       " ('Federal Republic',),\n",
       " ('Constitutional Monarchy, Federation',),\n",
       " ('Monarchy (Emirate)',),\n",
       " ('Monarchy',),\n",
       " ('Monarchy (Sultanate)',),\n",
       " ('Nonmetropolitan Territory of New Zealand',),\n",
       " ('Part of Denmark',),\n",
       " ('Overseas Department of France',),\n",
       " ('Special Administrative Region of China',),\n",
       " ('Dependent Territory of Norway',),\n",
       " ('Islamic Republic',),\n",
       " ('Administrated by the UN',),\n",
       " ('Territory of Australia',),\n",
       " (\"People'sRepublic\",),\n",
       " ('Socialistic Republic',),\n",
       " ('Constitutional Monarchy (Emirate)',),\n",
       " ('Socialistic State',),\n",
       " ('Occupied by Marocco',),\n",
       " ('Territorial Collectivity of France',),\n",
       " ('Commonwealth of the US',),\n",
       " ('Nonmetropolitan Territory of France',),\n",
       " ('Parlementary Monarchy',),\n",
       " ('Federation',),\n",
       " ('Independent Church State',),\n",
       " ('Autonomous Area',),\n",
       " ('Co-administrated',),\n",
       " ('Dependent Territory of the US',)]"
      ]
     },
     "execution_count": 26,
     "metadata": {},
     "output_type": "execute_result"
    }
   ],
   "source": [
    "QueryCurs.execute('''SELECT DISTINCT GovernmentForm FROM Country''').fetchall()"
   ]
  },
  {
   "cell_type": "code",
   "execution_count": 27,
   "metadata": {
    "collapsed": false
   },
   "outputs": [
    {
     "data": {
      "text/plain": [
       "[('Federal Republic', 2009320500),\n",
       " ('Republic', 2003311200),\n",
       " (\"People'sRepublic\", 1277558000)]"
      ]
     },
     "execution_count": 27,
     "metadata": {},
     "output_type": "execute_result"
    }
   ],
   "source": [
    "QueryCurs.execute('''SELECT GovernmentForm, SUM(Population) as Pop_Totale_Gouv\n",
    "                  FROM Country\n",
    "                  GROUP BY GovernmentForm\n",
    "                  ORDER BY Pop_Totale_Gouv DESC\n",
    "                  LIMIT 3\n",
    "                  ''').fetchall()"
   ]
  },
  {
   "cell_type": "markdown",
   "metadata": {},
   "source": [
    "# Question 3 \n",
    "- Combien de pays ont Elisabeth II à la tête de leur gouvernement ?\n",
    "\n",
    "- Quelle proporition des sujets de Sa Majesté ne parlent pas anglais ?\n",
    "    - 78 % ou 83% ?"
   ]
  },
  {
   "cell_type": "code",
   "execution_count": 28,
   "metadata": {
    "collapsed": false
   },
   "outputs": [
    {
     "data": {
      "text/plain": [
       "[('Elisabeth II', 35)]"
      ]
     },
     "execution_count": 28,
     "metadata": {},
     "output_type": "execute_result"
    }
   ],
   "source": [
    "QueryCurs.execute('''SELECT HeadOfState, Count(*)\n",
    "FROM Country\n",
    "WHERE HeadOfState = \"Elisabeth II\" ''').fetchall()"
   ]
  },
  {
   "cell_type": "code",
   "execution_count": 29,
   "metadata": {
    "collapsed": false
   },
   "outputs": [],
   "source": [
    "# la population totale \n",
    "population_queen_elisabeth = QueryCurs.execute('''SELECT HeadOfState, SUM(Population)\n",
    "FROM Country\n",
    "WHERE HeadOfState = \"Elisabeth II\"''').fetchall()"
   ]
  },
  {
   "cell_type": "code",
   "execution_count": 30,
   "metadata": {
    "collapsed": false
   },
   "outputs": [],
   "source": [
    "# La part de la population parlant anglais\n",
    "Part_parlant_anglais= QueryCurs.execute('''SELECT Language, SUM(Percentage*0.01*Population)\n",
    "FROM \n",
    "Country\n",
    "LEFT JOIN \n",
    "CountryLanguage \n",
    "ON Country.Code = CountryLanguage.CountryCode\n",
    "WHERE HeadOfState = \"Elisabeth II\"\n",
    "AND Language = \"English\"\n",
    "''').fetchall()"
   ]
  },
  {
   "cell_type": "code",
   "execution_count": 31,
   "metadata": {
    "collapsed": false
   },
   "outputs": [
    {
     "data": {
      "text/plain": [
       "0.7793618770018202"
      ]
     },
     "execution_count": 31,
     "metadata": {},
     "output_type": "execute_result"
    }
   ],
   "source": [
    "# La réponse est 78% d'après ces données\n",
    "Part_parlant_anglais[0][1]/population_queen_elisabeth[0][1]"
   ]
  },
  {
   "cell_type": "code",
   "execution_count": 32,
   "metadata": {
    "collapsed": false
   },
   "outputs": [
    {
     "data": {
      "text/plain": [
       "[('English', 95762181.19999999, 114637500)]"
      ]
     },
     "execution_count": 32,
     "metadata": {},
     "output_type": "execute_result"
    }
   ],
   "source": [
    "## on trouve 83% si on ne fait pas attention au fait que dans certaines zones, 0% de la population parle anglais\n",
    "## La population totale n'est alors pas la bonne, comme dans cet exemple\n",
    "\n",
    "QueryCurs.execute('''SELECT Language,\n",
    "SUM(Population_pays*0.01*Percentage) as Part_parlant_anglais, SUM(Population_pays) as Population_totale\n",
    "FROM (SELECT  Language, Code, Percentage, SUM(Population) as Population_pays\n",
    "FROM \n",
    "    Country\n",
    "LEFT JOIN \n",
    "    CountryLanguage \n",
    "ON Country.Code = CountryLanguage.CountryCode\n",
    "WHERE HeadOfState = \"Elisabeth II\" AND Language == \"English\"\n",
    "GROUP BY Code)''').fetchall()"
   ]
  },
  {
   "cell_type": "markdown",
   "metadata": {},
   "source": [
    "Conclusion: il vaut mieux écrire deux requêtes simples et lisibles pour obtenir le bon résultat, plutôt qu'une requête qui fait tout en une seule passe mais dont on va devoir vérifier la correction longuement..."
   ]
  },
  {
   "cell_type": "markdown",
   "metadata": {},
   "source": [
    "## Question 4 - passons à Pandas\n",
    "Créer une DataFrame qui contient les informations suivantes par pays :\n",
    "- le nom\n",
    "- le code du pays\n",
    "- le nombre de langues parlées\n",
    "- le nombre de langues officielles\n",
    "- la population\n",
    "- le GNP\n",
    "- l'espérance de vie\n",
    "\n",
    "##### Indice : utiliser la commande pd.read_sql_query\n",
    "\n",
    "\n",
    "Que dit la matrice de corrélation de ces variables ?"
   ]
  },
  {
   "cell_type": "code",
   "execution_count": 33,
   "metadata": {
    "collapsed": false
   },
   "outputs": [
    {
     "data": {
      "text/html": [
       "<div>\n",
       "<table border=\"1\" class=\"dataframe\">\n",
       "  <thead>\n",
       "    <tr style=\"text-align: right;\">\n",
       "      <th></th>\n",
       "      <th>Code</th>\n",
       "      <th>Name</th>\n",
       "      <th>Population</th>\n",
       "      <th>GNP</th>\n",
       "      <th>LifeExpectancy</th>\n",
       "      <th>Nb_langues_parlees</th>\n",
       "      <th>Nb_langues_officielles</th>\n",
       "    </tr>\n",
       "  </thead>\n",
       "  <tbody>\n",
       "    <tr>\n",
       "      <th>0</th>\n",
       "      <td>ABW</td>\n",
       "      <td>Aruba</td>\n",
       "      <td>103000</td>\n",
       "      <td>828.0</td>\n",
       "      <td>78.4</td>\n",
       "      <td>4</td>\n",
       "      <td>1</td>\n",
       "    </tr>\n",
       "    <tr>\n",
       "      <th>1</th>\n",
       "      <td>AFG</td>\n",
       "      <td>Afghanistan</td>\n",
       "      <td>22720000</td>\n",
       "      <td>5976.0</td>\n",
       "      <td>45.9</td>\n",
       "      <td>5</td>\n",
       "      <td>2</td>\n",
       "    </tr>\n",
       "    <tr>\n",
       "      <th>2</th>\n",
       "      <td>AGO</td>\n",
       "      <td>Angola</td>\n",
       "      <td>12878000</td>\n",
       "      <td>6648.0</td>\n",
       "      <td>38.3</td>\n",
       "      <td>13</td>\n",
       "      <td>1</td>\n",
       "    </tr>\n",
       "    <tr>\n",
       "      <th>3</th>\n",
       "      <td>AIA</td>\n",
       "      <td>Anguilla</td>\n",
       "      <td>8000</td>\n",
       "      <td>63.2</td>\n",
       "      <td>76.1</td>\n",
       "      <td>1</td>\n",
       "      <td>1</td>\n",
       "    </tr>\n",
       "    <tr>\n",
       "      <th>4</th>\n",
       "      <td>ALB</td>\n",
       "      <td>Albania</td>\n",
       "      <td>3401200</td>\n",
       "      <td>3205.0</td>\n",
       "      <td>71.6</td>\n",
       "      <td>3</td>\n",
       "      <td>1</td>\n",
       "    </tr>\n",
       "  </tbody>\n",
       "</table>\n",
       "</div>"
      ],
      "text/plain": [
       "  Code         Name  Population     GNP  LifeExpectancy  Nb_langues_parlees  \\\n",
       "0  ABW        Aruba      103000   828.0            78.4                   4   \n",
       "1  AFG  Afghanistan    22720000  5976.0            45.9                   5   \n",
       "2  AGO       Angola    12878000  6648.0            38.3                  13   \n",
       "3  AIA     Anguilla        8000    63.2            76.1                   1   \n",
       "4  ALB      Albania     3401200  3205.0            71.6                   3   \n",
       "\n",
       "   Nb_langues_officielles  \n",
       "0                       1  \n",
       "1                       2  \n",
       "2                       1  \n",
       "3                       1  \n",
       "4                       1  "
      ]
     },
     "execution_count": 33,
     "metadata": {},
     "output_type": "execute_result"
    }
   ],
   "source": [
    "df = pd.read_sql_query('''SELECT Code, Name, Population, GNP , LifeExpectancy,\n",
    "                    COUNT(*) as Nb_langues_parlees, SUM(IsOfficial) as Nb_langues_officielles\n",
    "                    FROM Country\n",
    "                    INNER JOIN CountryLanguage ON Country.Code = CountryLanguage.CountryCode\n",
    "                    GROUP BY Country.Code''',\n",
    "                    CreateDataBase)\n",
    "df.head()"
   ]
  },
  {
   "cell_type": "code",
   "execution_count": 34,
   "metadata": {
    "collapsed": false
   },
   "outputs": [
    {
     "data": {
      "text/html": [
       "<div>\n",
       "<table border=\"1\" class=\"dataframe\">\n",
       "  <thead>\n",
       "    <tr style=\"text-align: right;\">\n",
       "      <th></th>\n",
       "      <th>Population</th>\n",
       "      <th>GNP</th>\n",
       "      <th>LifeExpectancy</th>\n",
       "      <th>Nb_langues_parlees</th>\n",
       "      <th>Nb_langues_officielles</th>\n",
       "    </tr>\n",
       "  </thead>\n",
       "  <tbody>\n",
       "    <tr>\n",
       "      <th>Population</th>\n",
       "      <td>1.000000</td>\n",
       "      <td>0.280376</td>\n",
       "      <td>0.006774</td>\n",
       "      <td>0.398681</td>\n",
       "      <td>-0.010049</td>\n",
       "    </tr>\n",
       "    <tr>\n",
       "      <th>GNP</th>\n",
       "      <td>0.280376</td>\n",
       "      <td>1.000000</td>\n",
       "      <td>0.164094</td>\n",
       "      <td>0.260181</td>\n",
       "      <td>0.019451</td>\n",
       "    </tr>\n",
       "    <tr>\n",
       "      <th>LifeExpectancy</th>\n",
       "      <td>0.006774</td>\n",
       "      <td>0.164094</td>\n",
       "      <td>1.000000</td>\n",
       "      <td>-0.317962</td>\n",
       "      <td>0.270675</td>\n",
       "    </tr>\n",
       "    <tr>\n",
       "      <th>Nb_langues_parlees</th>\n",
       "      <td>0.398681</td>\n",
       "      <td>0.260181</td>\n",
       "      <td>-0.317962</td>\n",
       "      <td>1.000000</td>\n",
       "      <td>-0.084946</td>\n",
       "    </tr>\n",
       "    <tr>\n",
       "      <th>Nb_langues_officielles</th>\n",
       "      <td>-0.010049</td>\n",
       "      <td>0.019451</td>\n",
       "      <td>0.270675</td>\n",
       "      <td>-0.084946</td>\n",
       "      <td>1.000000</td>\n",
       "    </tr>\n",
       "  </tbody>\n",
       "</table>\n",
       "</div>"
      ],
      "text/plain": [
       "                        Population       GNP  LifeExpectancy  \\\n",
       "Population                1.000000  0.280376        0.006774   \n",
       "GNP                       0.280376  1.000000        0.164094   \n",
       "LifeExpectancy            0.006774  0.164094        1.000000   \n",
       "Nb_langues_parlees        0.398681  0.260181       -0.317962   \n",
       "Nb_langues_officielles   -0.010049  0.019451        0.270675   \n",
       "\n",
       "                        Nb_langues_parlees  Nb_langues_officielles  \n",
       "Population                        0.398681               -0.010049  \n",
       "GNP                               0.260181                0.019451  \n",
       "LifeExpectancy                   -0.317962                0.270675  \n",
       "Nb_langues_parlees                1.000000               -0.084946  \n",
       "Nb_langues_officielles           -0.084946                1.000000  "
      ]
     },
     "execution_count": 34,
     "metadata": {},
     "output_type": "execute_result"
    }
   ],
   "source": [
    "df.corr()"
   ]
  },
  {
   "cell_type": "code",
   "execution_count": null,
   "metadata": {
    "collapsed": true
   },
   "outputs": [],
   "source": []
  }
 ],
 "metadata": {
  "anaconda-cloud": {},
  "kernelspec": {
   "display_name": "Python [Root]",
   "language": "python",
   "name": "Python [Root]"
  },
  "language_info": {
   "codemirror_mode": {
    "name": "ipython",
    "version": 3
   },
   "file_extension": ".py",
   "mimetype": "text/x-python",
   "name": "python",
   "nbconvert_exporter": "python",
   "pygments_lexer": "ipython3",
   "version": "3.5.2"
  }
 },
 "nbformat": 4,
 "nbformat_minor": 0
}
