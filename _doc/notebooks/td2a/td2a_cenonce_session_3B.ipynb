{
 "metadata": {
  "name": "",
  "signature": "sha256:3e9703c524732db7d5266a979513eb2b0ce10e8bd7612df9bc9d6c186d8f3ca1"
 },
 "nbformat": 3,
 "nbformat_minor": 0,
 "worksheets": [
  {
   "cells": [
    {
     "cell_type": "heading",
     "level": 1,
     "metadata": {},
     "source": [
      "TD 3B : Arbres de d\u00e9cision / Random Forest"
     ]
    },
    {
     "cell_type": "markdown",
     "metadata": {},
     "source": [
      "Le machine learning peut se r\u00e9sumer \u00e0 la construction d'une fonction de pr\u00e9diction $Y=f(X) + \\epsilon$. $f$ est le plus souvent le r\u00e9sultat d'une minimisation de l'erreur $\\sum_i E(Y_i,f(X_i))$ o\u00f9 $(X_i,Y_i)$ est une liste de couples (features, cible). Les [arbres de d\u00e9cision](http://fr.wikipedia.org/wiki/Arbre_de_d%C3%A9cision) sont des mod\u00e8les assez facile \u00e0 apprendre et ils ont l'avantage d'accepter des [features](http://en.wikipedia.org/wiki/Feature_%28machine_learning%29) continues et discr\u00e8tes.\n",
      "\n",
      "Pour cet exercice, on reprend la base des salari\u00e9s de la s\u00e9ance pr\u00e9c\u00e9dente et on va essayer de pr\u00e9dire la salaire en fonction de plus de variables que l'\u00e2ge ou le sexe :"
     ]
    },
    {
     "cell_type": "code",
     "collapsed": false,
     "input": [
      "if not os.path.exists(\"salaries2010.db3\"):\n",
      "    import pyensae\n",
      "    db3 = pyensae.download_data(\"salaries.zip\")\n",
      "\n",
      "import sqlite3, pandas\n",
      "con = sqlite3.connect(\"salaries2010.db3\")\n",
      "df = pandas.io.sql.read_sql(\"select * from varmod\", con)\n",
      "con.close()\n",
      "\n",
      "values = df[ df.VARIABLE == \"TRNETTOT\"]\n",
      "\n",
      "def process_intervalle(s):\n",
      "    if \"euros et plus\" in s : \n",
      "        return float ( s.replace(\"euros et plus\", \"\").replace(\" \",\"\") )\n",
      "    spl = s.split(\"\u00e0\")\n",
      "    if len(spl) == 2 : \n",
      "        s1 = spl[0].replace(\"Moins de\",\"\").replace(\"euros\",\"\").replace(\" \",\"\")\n",
      "        s2 = spl[1].replace(\"Moins de\",\"\").replace(\"euros\",\"\").replace(\" \",\"\")\n",
      "        return (float(s1)+float(s2))/2\n",
      "    else : \n",
      "        s = spl[0].replace(\"Moins de\",\"\").replace(\"euros\",\"\").replace(\" \",\"\")\n",
      "        return float(s)/2\n",
      "\n",
      "values[\"montant\"] = values.apply(lambda r : process_intervalle(r [\"MODLIBELLE\"]), axis = 1)\n",
      "\n",
      "con = sqlite3.connect(\"salaries2010.db3\")\n",
      "data = pandas.io.sql.read_sql(\"select TRNETTOT,AGE,SEXE,DEPT,DEPR,TYP_EMPLOI,PCS,CS,CONT_TRAV,CONV_COLL from salaries\", con)\n",
      "con.close()\n",
      "\n",
      "salaires = data.merge ( values, left_on = \"TRNETTOT\", right_on=\"MODALITE\" )\n",
      "salaires.dropna(inplace=True)\n",
      "salaires.head()"
     ],
     "language": "python",
     "metadata": {},
     "outputs": [
      {
       "html": [
        "<div style=\"max-height:1000px;max-width:1500px;overflow:auto;\">\n",
        "<table border=\"1\" class=\"dataframe\">\n",
        "  <thead>\n",
        "    <tr style=\"text-align: right;\">\n",
        "      <th></th>\n",
        "      <th>TRNETTOT</th>\n",
        "      <th>AGE</th>\n",
        "      <th>SEXE</th>\n",
        "      <th>DEPT</th>\n",
        "      <th>DEPR</th>\n",
        "      <th>TYP_EMPLOI</th>\n",
        "      <th>PCS</th>\n",
        "      <th>CS</th>\n",
        "      <th>CONT_TRAV</th>\n",
        "      <th>CONV_COLL</th>\n",
        "      <th>VARIABLE</th>\n",
        "      <th>MODALITE</th>\n",
        "      <th>MODLIBELLE</th>\n",
        "      <th>montant</th>\n",
        "    </tr>\n",
        "  </thead>\n",
        "  <tbody>\n",
        "    <tr>\n",
        "      <th>0</th>\n",
        "      <td> 14</td>\n",
        "      <td> 50</td>\n",
        "      <td> 1</td>\n",
        "      <td>   </td>\n",
        "      <td> 972</td>\n",
        "      <td> O</td>\n",
        "      <td> 628G</td>\n",
        "      <td> 62</td>\n",
        "      <td> ZZZ</td>\n",
        "      <td>     </td>\n",
        "      <td> TRNETTOT</td>\n",
        "      <td> 14</td>\n",
        "      <td> 18 000 \u00e0 19 999 euros</td>\n",
        "      <td> 18999.5</td>\n",
        "    </tr>\n",
        "    <tr>\n",
        "      <th>1</th>\n",
        "      <td> 14</td>\n",
        "      <td> 41</td>\n",
        "      <td> 1</td>\n",
        "      <td> 75</td>\n",
        "      <td>  75</td>\n",
        "      <td> O</td>\n",
        "      <td> 354C</td>\n",
        "      <td> 35</td>\n",
        "      <td> CDD</td>\n",
        "      <td> 1734</td>\n",
        "      <td> TRNETTOT</td>\n",
        "      <td> 14</td>\n",
        "      <td> 18 000 \u00e0 19 999 euros</td>\n",
        "      <td> 18999.5</td>\n",
        "    </tr>\n",
        "    <tr>\n",
        "      <th>2</th>\n",
        "      <td> 14</td>\n",
        "      <td> 29</td>\n",
        "      <td> 1</td>\n",
        "      <td> 75</td>\n",
        "      <td>  75</td>\n",
        "      <td> O</td>\n",
        "      <td> 373C</td>\n",
        "      <td> 37</td>\n",
        "      <td> CDD</td>\n",
        "      <td> 0014</td>\n",
        "      <td> TRNETTOT</td>\n",
        "      <td> 14</td>\n",
        "      <td> 18 000 \u00e0 19 999 euros</td>\n",
        "      <td> 18999.5</td>\n",
        "    </tr>\n",
        "    <tr>\n",
        "      <th>3</th>\n",
        "      <td> 14</td>\n",
        "      <td> 30</td>\n",
        "      <td> 1</td>\n",
        "      <td> 75</td>\n",
        "      <td>  75</td>\n",
        "      <td> O</td>\n",
        "      <td> 651A</td>\n",
        "      <td> 65</td>\n",
        "      <td> CDD</td>\n",
        "      <td> 9999</td>\n",
        "      <td> TRNETTOT</td>\n",
        "      <td> 14</td>\n",
        "      <td> 18 000 \u00e0 19 999 euros</td>\n",
        "      <td> 18999.5</td>\n",
        "    </tr>\n",
        "    <tr>\n",
        "      <th>4</th>\n",
        "      <td> 14</td>\n",
        "      <td> 55</td>\n",
        "      <td> 1</td>\n",
        "      <td> 78</td>\n",
        "      <td>  92</td>\n",
        "      <td> O</td>\n",
        "      <td> 623E</td>\n",
        "      <td> 62</td>\n",
        "      <td> ZZZ</td>\n",
        "      <td>     </td>\n",
        "      <td> TRNETTOT</td>\n",
        "      <td> 14</td>\n",
        "      <td> 18 000 \u00e0 19 999 euros</td>\n",
        "      <td> 18999.5</td>\n",
        "    </tr>\n",
        "  </tbody>\n",
        "</table>\n",
        "</div>"
       ],
       "metadata": {},
       "output_type": "pyout",
       "prompt_number": 1,
       "text": [
        "  TRNETTOT  AGE SEXE DEPT DEPR TYP_EMPLOI   PCS  CS CONT_TRAV CONV_COLL  \\\n",
        "0       14   50    1       972          O  628G  62       ZZZ             \n",
        "1       14   41    1   75   75          O  354C  35       CDD      1734   \n",
        "2       14   29    1   75   75          O  373C  37       CDD      0014   \n",
        "3       14   30    1   75   75          O  651A  65       CDD      9999   \n",
        "4       14   55    1   78   92          O  623E  62       ZZZ             \n",
        "\n",
        "   VARIABLE MODALITE             MODLIBELLE  montant  \n",
        "0  TRNETTOT       14  18 000 \u00e0 19 999 euros  18999.5  \n",
        "1  TRNETTOT       14  18 000 \u00e0 19 999 euros  18999.5  \n",
        "2  TRNETTOT       14  18 000 \u00e0 19 999 euros  18999.5  \n",
        "3  TRNETTOT       14  18 000 \u00e0 19 999 euros  18999.5  \n",
        "4  TRNETTOT       14  18 000 \u00e0 19 999 euros  18999.5  "
       ]
      }
     ],
     "prompt_number": 1
    },
    {
     "cell_type": "markdown",
     "metadata": {},
     "source": [
      "Le module scikit-learn n'accepte pas les features sous forme de cha\u00eenes de caract\u00e8res :\n",
      "* [Encoding categorical features](http://scikit-learn.org/stable/modules/feature_extraction.html#dict-feature-extraction)\n",
      "* [Loading features from dicts](http://scikit-learn.org/stable/modules/feature_extraction.html#loading-features-from-dicts)\n",
      "* [Vectorizing a Pandas dataframe for Scikit-Learn](http://stackoverflow.com/questions/20024584/vectorizing-a-pandas-dataframe-for-scikit-learn)\n",
      "\n",
      "Il faut transformer les variables qui ne sont pas num\u00e9riques (et non ordonn\u00e9es) en variables bool\u00e9ennes (on fait cela sur un \u00e9chantillon d'abord) :"
     ]
    },
    {
     "cell_type": "code",
     "collapsed": false,
     "input": [
      "import random\n",
      "salaires[\"rnd\"] = salaires.apply (lambda r : random.randint(0,99),axis=1)\n",
      "ech = salaires [ salaires.rnd == 0 ]"
     ],
     "language": "python",
     "metadata": {},
     "outputs": [],
     "prompt_number": 2
    },
    {
     "cell_type": "markdown",
     "metadata": {},
     "source": [
      "La taille de l'\u00e9chantillon doit \u00eatre ajust\u00e9e en fonction de la m\u00e9moire de l'ordinateur :"
     ]
    },
    {
     "cell_type": "code",
     "collapsed": false,
     "input": [
      "X,Y = ech[[\"AGE\",\"SEXE\",\"TYP_EMPLOI\",\"CONT_TRAV\"]], ech[[\"montant\"]]\n",
      "Xd = X.T.to_dict().values()"
     ],
     "language": "python",
     "metadata": {},
     "outputs": [],
     "prompt_number": 5
    },
    {
     "cell_type": "markdown",
     "metadata": {},
     "source": [
      "On transforme les variables sous forme de cha\u00eenes de caract\u00e8res en variables binaires :"
     ]
    },
    {
     "cell_type": "code",
     "collapsed": false,
     "input": [
      "from sklearn.feature_extraction import DictVectorizer\n",
      "prep = DictVectorizer()\n",
      "Xt = prep.fit_transform(Xd).toarray()"
     ],
     "language": "python",
     "metadata": {},
     "outputs": [],
     "prompt_number": 13
    },
    {
     "cell_type": "markdown",
     "metadata": {},
     "source": [
      "``Xt`` est un [numpy.ndarray](http://docs.scipy.org/doc/numpy/reference/generated/numpy.ndarray.html) mais la variable ``prep`` a conserv\u00e9 le nom des features."
     ]
    },
    {
     "cell_type": "code",
     "collapsed": false,
     "input": [
      "prep.feature_names_"
     ],
     "language": "python",
     "metadata": {},
     "outputs": [
      {
       "metadata": {},
       "output_type": "pyout",
       "prompt_number": 20,
       "text": [
        "['AGE',\n",
        " 'CONT_TRAV=APP',\n",
        " 'CONT_TRAV=AUT',\n",
        " 'CONT_TRAV=CDD',\n",
        " 'CONT_TRAV=CDI',\n",
        " 'CONT_TRAV=TTP',\n",
        " 'CONT_TRAV=ZZZ',\n",
        " 'SEXE=1',\n",
        " 'SEXE=2',\n",
        " 'TYP_EMPLOI=A',\n",
        " 'TYP_EMPLOI=O',\n",
        " 'TYP_EMPLOI=X']"
       ]
      }
     ],
     "prompt_number": 20
    },
    {
     "cell_type": "markdown",
     "metadata": {},
     "source": [
      "On entra\u00eene l'arbre, on limite la profondeur \u00e0 3 histoire de pouvoir visualiser l'arbre r\u00e9sultant. Ce n'est certainement pas assez puisque $2^3=8$ = le nombre de feuilles est un nombre inf\u00e9rieure au nombres de tranches de salaires possibles."
     ]
    },
    {
     "cell_type": "code",
     "collapsed": false,
     "input": [
      "from sklearn.tree import DecisionTreeRegressor\n",
      "clf = DecisionTreeRegressor(min_samples_leaf=10, max_depth=3)\n",
      "clf = clf.fit(Xt,Y)\n",
      "clf.score(Xt,Y)"
     ],
     "language": "python",
     "metadata": {},
     "outputs": [
      {
       "metadata": {},
       "output_type": "pyout",
       "prompt_number": 48,
       "text": [
        "0.00187188428794971"
       ]
      }
     ],
     "prompt_number": 48
    },
    {
     "cell_type": "markdown",
     "metadata": {},
     "source": [
      "On repr\u00e9sente l'arbre de d\u00e9cision (et \u00e7a devient un peu complexe) :"
     ]
    },
    {
     "cell_type": "code",
     "collapsed": false,
     "input": [
      "from sklearn.tree import export_graphviz\n",
      "export_graphviz(clf, out_file=\"arbre.dot\") "
     ],
     "language": "python",
     "metadata": {},
     "outputs": [],
     "prompt_number": 49
    },
    {
     "cell_type": "markdown",
     "metadata": {},
     "source": [
      "Pour visualiser l'arbre, il faut installer [graphviz](http://www.graphviz.org/) et lancer la commande :"
     ]
    },
    {
     "cell_type": "code",
     "collapsed": false,
     "input": [
      "cwd = os.getcwd()\n",
      "os.system (\"\\\"C:\\\\Program Files (x86)\\\\Graphviz2.34\\\\bin\\\\dot.exe\\\" -Tpng {0}\\\\arbre.dot -o {0}\\\\arbre.png\".format(cwd))"
     ],
     "language": "python",
     "metadata": {},
     "outputs": [
      {
       "metadata": {},
       "output_type": "pyout",
       "prompt_number": 50,
       "text": [
        "0"
       ]
      }
     ],
     "prompt_number": 50
    },
    {
     "cell_type": "code",
     "collapsed": false,
     "input": [
      "from IPython.core.display import Image\n",
      "Image(\"arbre.png\")"
     ],
     "language": "python",
     "metadata": {},
     "outputs": [
      {
       "metadata": {},
       "output_type": "pyout",
       "png": "[encoded data removed]",
       "prompt_number": 51,
       "text": [
        "<IPython.core.display.Image at 0xed17438>"
       ]
      }
     ],
     "prompt_number": 51
    },
    {
     "cell_type": "markdown",
     "metadata": {},
     "source": [
      "Oups... j'ai oubli\u00e9 de s\u00e9parer base d'apprentissage et base de test. Il ne restera plus qu'\u00e0 tracer la courbe ROC : [Receiver operating characteristic (ROC)](http://scikit-learn.org/0.11/auto_examples/plot_roc.html)."
     ]
    },
    {
     "cell_type": "code",
     "collapsed": false,
     "input": [],
     "language": "python",
     "metadata": {},
     "outputs": []
    }
   ],
   "metadata": {}
  }
 ]
}