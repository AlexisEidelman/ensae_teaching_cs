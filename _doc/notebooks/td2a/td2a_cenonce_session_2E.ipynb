{
 "cells": [
  {
   "cell_type": "markdown",
   "metadata": {},
   "source": [
    "# TD 2D : Sérialisation"
   ]
  },
  {
   "cell_type": "markdown",
   "metadata": {},
   "source": [
    "\n",
    "* [Sérialisation](#def)\n",
    "* [DataFrame](#df)\n",
    "* [Exercice 1 : sérialisation d'un gros dataframe](#exo1)\n",
    "\n",
    "\n",
    "<h3 id=\"def\">Sérialisation</h3>"
   ]
  },
  {
   "cell_type": "markdown",
   "metadata": {},
   "source": [
    "La [sérialisation](http://fr.wikipedia.org/wiki/S%C3%A9rialisation) désigne l'action de sauvegarder un objet dans un fichier telle qu'il est représentée dans la mémoire de l'ordinateur. De cette façon, la relecture de l'objet en question est plus rapide. La difficulté réside dans la sérialisation d'objets composites comme une liste qui contient un dictionnaire qui contient une liste d'autres listes. Sans rentrer dans le détail de l'implémentation, la plupart des objets en Python sont sérialisables ainsi qu'un objet composé de ces objets. Cela s'effectue avec le module [pickle](https://docs.python.org/3.4/library/pickle.html)."
   ]
  },
  {
   "cell_type": "code",
   "execution_count": 3,
   "metadata": {
    "collapsed": false
   },
   "outputs": [],
   "source": [
    "import pickle\n",
    "l = [ {3:\"4\"}, \"4\", -5.5, [6, None]]\n",
    "with open(\"objet_serialise.bin\", \"wb\") as f :\n",
    "    pickle.dump(l, f)"
   ]
  },
  {
   "cell_type": "markdown",
   "metadata": {},
   "source": [
    "Puis on récupère les données :"
   ]
  },
  {
   "cell_type": "code",
   "execution_count": 4,
   "metadata": {
    "collapsed": false
   },
   "outputs": [
    {
     "data": {
      "text/plain": [
       "[{3: '4'}, '4', -5.5, [6, None]]"
      ]
     },
     "execution_count": 4,
     "metadata": {},
     "output_type": "execute_result"
    }
   ],
   "source": [
    "with open(\"objet_serialise.bin\", \"rb\") as f :\n",
    "    obj = pickle.load(f)\n",
    "obj"
   ]
  },
  {
   "cell_type": "markdown",
   "metadata": {},
   "source": [
    "<h3 id=\"df\">DataFrame</h3>\n",
    "\n",
    "Il existe une méthode spécifique pour les DataFrame : [to_pickle](http://pandas-docs.github.io/pandas-docs-travis/io.html?highlight=to_pickle#pickling) qu'on relie avec la méthode [read_pickle](http://pandas-docs.github.io/pandas-docs-travis/io.html?highlight=read_pickle#pickling)."
   ]
  },
  {
   "cell_type": "code",
   "execution_count": 5,
   "metadata": {
    "collapsed": false
   },
   "outputs": [],
   "source": [
    "import pandas\n",
    "df = pandas.DataFrame( [ {\"name\":\"xavier\", \"school\":\"ENSAE\"},\n",
    "                         {\"name\":\"antoine\", \"school\":\"ENSAE\"} ] )\n",
    "df.to_pickle(\"df_serialize.bin\")"
   ]
  },
  {
   "cell_type": "markdown",
   "metadata": {},
   "source": [
    "Puis on relit le fichier :"
   ]
  },
  {
   "cell_type": "code",
   "execution_count": 6,
   "metadata": {
    "collapsed": false
   },
   "outputs": [
    {
     "data": {
      "text/html": [
       "<div style=\"max-height:1000px;max-width:1500px;overflow:auto;\">\n",
       "<table border=\"1\" class=\"dataframe\">\n",
       "  <thead>\n",
       "    <tr style=\"text-align: right;\">\n",
       "      <th></th>\n",
       "      <th>name</th>\n",
       "      <th>school</th>\n",
       "    </tr>\n",
       "  </thead>\n",
       "  <tbody>\n",
       "    <tr>\n",
       "      <th>0</th>\n",
       "      <td>  xavier</td>\n",
       "      <td> ENSAE</td>\n",
       "    </tr>\n",
       "    <tr>\n",
       "      <th>1</th>\n",
       "      <td> antoine</td>\n",
       "      <td> ENSAE</td>\n",
       "    </tr>\n",
       "  </tbody>\n",
       "</table>\n",
       "</div>"
      ],
      "text/plain": [
       "      name school\n",
       "0   xavier  ENSAE\n",
       "1  antoine  ENSAE"
      ]
     },
     "execution_count": 6,
     "metadata": {},
     "output_type": "execute_result"
    }
   ],
   "source": [
    "df2 = pandas.read_pickle(\"df_serialize.bin\")\n",
    "df2"
   ]
  },
  {
   "cell_type": "markdown",
   "metadata": {},
   "source": [
    "<h3 id=\"exo1\">Exercice 1 : sérialisation d'un gros dataframe</h3>\n",
    "\n",
    "On veut comparer le temps de chargement du même dataframe depuis un fichier texte et depuis un contenant le dataframe sérialisé. Dans un premier temps, on génère un gros dataframe qu'on sauve sous fichier texte puis on le sérialise. On compare ensuite les temps de chargement."
   ]
  },
  {
   "cell_type": "code",
   "execution_count": null,
   "metadata": {
    "collapsed": false
   },
   "outputs": [],
   "source": []
  }
 ],
 "metadata": {},
 "nbformat": 4,
 "nbformat_minor": 0
}