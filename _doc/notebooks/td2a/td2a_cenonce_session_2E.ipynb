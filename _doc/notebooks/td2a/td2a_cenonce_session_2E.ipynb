{
 "metadata": {
  "name": "",
  "signature": "sha256:73854a4918422443c351b19c04fd93a86555c17a0c0c0ba0470bb4f20d9db03b"
 },
 "nbformat": 3,
 "nbformat_minor": 0,
 "worksheets": [
  {
   "cells": [
    {
     "cell_type": "heading",
     "level": 1,
     "metadata": {},
     "source": [
      "TD 2D : S\u00e9rialisation"
     ]
    },
    {
     "cell_type": "markdown",
     "metadata": {},
     "source": [
      "\n",
      "* [S\u00e9rialisation](#def)\n",
      "* [DataFrame](#df)\n",
      "* [Exercice 1 : s\u00e9rialisation d'un gros dataframe](#exo1)\n",
      "\n",
      "\n",
      "<h3 id=\"def\">S\u00e9rialisation</h3>"
     ]
    },
    {
     "cell_type": "markdown",
     "metadata": {},
     "source": [
      "La [s\u00e9rialisation](http://fr.wikipedia.org/wiki/S%C3%A9rialisation) d\u00e9signe l'action de sauvegarder un objet dans un fichier telle qu'il est repr\u00e9sent\u00e9e dans la m\u00e9moire de l'ordinateur. De cette fa\u00e7on, la relecture de l'objet en question est plus rapide. La difficult\u00e9 r\u00e9side dans la s\u00e9rialisation d'objets composites comme une liste qui contient un dictionnaire qui contient une liste d'autres listes. Sans rentrer dans le d\u00e9tail de l'impl\u00e9mentation, la plupart des objets en Python sont s\u00e9rialisables ainsi qu'un objet compos\u00e9 de ces objets. Cela s'effectue avec le module [pickle](https://docs.python.org/3.4/library/pickle.html)."
     ]
    },
    {
     "cell_type": "code",
     "collapsed": false,
     "input": [
      "import pickle\n",
      "l = [ {3:\"4\"}, \"4\", -5.5, [6, None]]\n",
      "with open(\"objet_serialise.bin\", \"wb\") as f :\n",
      "    pickle.dump(l, f)"
     ],
     "language": "python",
     "metadata": {},
     "outputs": [],
     "prompt_number": 3
    },
    {
     "cell_type": "markdown",
     "metadata": {},
     "source": [
      "Puis on r\u00e9cup\u00e8re les donn\u00e9es :"
     ]
    },
    {
     "cell_type": "code",
     "collapsed": false,
     "input": [
      "with open(\"objet_serialise.bin\", \"rb\") as f :\n",
      "    obj = pickle.load(f)\n",
      "obj"
     ],
     "language": "python",
     "metadata": {},
     "outputs": [
      {
       "metadata": {},
       "output_type": "pyout",
       "prompt_number": 4,
       "text": [
        "[{3: '4'}, '4', -5.5, [6, None]]"
       ]
      }
     ],
     "prompt_number": 4
    },
    {
     "cell_type": "markdown",
     "metadata": {},
     "source": [
      "<h3 id=\"df\">DataFrame</h3>\n",
      "\n",
      "Il existe une m\u00e9thode sp\u00e9cifique pour les DataFrame : [to_pickle](http://pandas-docs.github.io/pandas-docs-travis/io.html?highlight=to_pickle#pickling) qu'on relie avec la m\u00e9thode [read_pickle](http://pandas-docs.github.io/pandas-docs-travis/io.html?highlight=read_pickle#pickling)."
     ]
    },
    {
     "cell_type": "code",
     "collapsed": false,
     "input": [
      "import pandas\n",
      "df = pandas.DataFrame( [ {\"name\":\"xavier\", \"school\":\"ENSAE\"},\n",
      "                         {\"name\":\"antoine\", \"school\":\"ENSAE\"} ] )\n",
      "df.to_pickle(\"df_serialize.bin\")"
     ],
     "language": "python",
     "metadata": {},
     "outputs": [],
     "prompt_number": 5
    },
    {
     "cell_type": "markdown",
     "metadata": {},
     "source": [
      "Puis on relit le fichier :"
     ]
    },
    {
     "cell_type": "code",
     "collapsed": false,
     "input": [
      "df2 = pandas.read_pickle(\"df_serialize.bin\")\n",
      "df2"
     ],
     "language": "python",
     "metadata": {},
     "outputs": [
      {
       "html": [
        "<div style=\"max-height:1000px;max-width:1500px;overflow:auto;\">\n",
        "<table border=\"1\" class=\"dataframe\">\n",
        "  <thead>\n",
        "    <tr style=\"text-align: right;\">\n",
        "      <th></th>\n",
        "      <th>name</th>\n",
        "      <th>school</th>\n",
        "    </tr>\n",
        "  </thead>\n",
        "  <tbody>\n",
        "    <tr>\n",
        "      <th>0</th>\n",
        "      <td>  xavier</td>\n",
        "      <td> ENSAE</td>\n",
        "    </tr>\n",
        "    <tr>\n",
        "      <th>1</th>\n",
        "      <td> antoine</td>\n",
        "      <td> ENSAE</td>\n",
        "    </tr>\n",
        "  </tbody>\n",
        "</table>\n",
        "</div>"
       ],
       "metadata": {},
       "output_type": "pyout",
       "prompt_number": 6,
       "text": [
        "      name school\n",
        "0   xavier  ENSAE\n",
        "1  antoine  ENSAE"
       ]
      }
     ],
     "prompt_number": 6
    },
    {
     "cell_type": "markdown",
     "metadata": {},
     "source": [
      "<h3 id=\"exo1\">Exercice 1 : s\u00e9rialisation d'un gros dataframe</h3>\n",
      "\n",
      "On veut comparer le temps de chargement du m\u00eame dataframe depuis un fichier texte et depuis un contenant le dataframe s\u00e9rialis\u00e9. Dans un premier temps, on g\u00e9n\u00e8re un gros dataframe qu'on sauve sous fichier texte puis on le s\u00e9rialise. On compare ensuite les temps de chargement."
     ]
    },
    {
     "cell_type": "code",
     "collapsed": false,
     "input": [],
     "language": "python",
     "metadata": {},
     "outputs": []
    }
   ],
   "metadata": {}
  }
 ]
}