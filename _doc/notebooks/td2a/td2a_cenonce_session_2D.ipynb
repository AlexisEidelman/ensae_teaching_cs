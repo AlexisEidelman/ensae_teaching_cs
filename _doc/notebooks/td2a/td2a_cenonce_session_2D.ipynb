{
 "metadata": {
  "name": "",
  "signature": "sha256:80803057ab868737a064db6c4d4264eed1761a2f36121c195d6eefbcaae39c16"
 },
 "nbformat": 3,
 "nbformat_minor": 0,
 "worksheets": [
  {
   "cells": [
    {
     "cell_type": "heading",
     "level": 1,
     "metadata": {},
     "source": [
      "TD 2D : IPython et calcul distribu\u00e9"
     ]
    },
    {
     "cell_type": "markdown",
     "metadata": {},
     "source": [
      "\n",
      "* [calcul distribu\u00e9](#cd)\n",
      "* [Exercice 1 : validation crois\u00e9e distribu\u00e9e](#exo1)\n",
      "\n",
      "\n",
      "<h3 id=\"cd\">Calcul distribu\u00e9</h3>\n",
      "\n",
      "Quelques liens :\n",
      "\n",
      "* [Overview and getting started with IPython Interactive Computing](http://ipython.org/ipython-doc/stable/parallel/parallel_intro.html)\n",
      "* [Parallel Computing with IPython](http://www.astro.washington.edu/users/vanderplas/Astr599/notebooks/21_IPythonParallel)\n",
      "\n"
     ]
    },
    {
     "cell_type": "code",
     "collapsed": false,
     "input": [],
     "language": "python",
     "metadata": {},
     "outputs": []
    }
   ],
   "metadata": {}
  }
 ]
}