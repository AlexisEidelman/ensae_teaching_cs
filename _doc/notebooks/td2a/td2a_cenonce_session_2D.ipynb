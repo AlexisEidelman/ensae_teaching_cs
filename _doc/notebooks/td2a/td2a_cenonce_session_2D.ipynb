{
 "metadata": {
  "name": "",
  "signature": "sha256:dda879a98634cb8aee0487ca4652829d17820889069036dbe31e34135f62ab4e"
 },
 "nbformat": 3,
 "nbformat_minor": 0,
 "worksheets": [
  {
   "cells": [
    {
     "cell_type": "heading",
     "level": 1,
     "metadata": {},
     "source": [
      "TD 2D : IPython et calcul distribu\u00e9"
     ]
    },
    {
     "cell_type": "markdown",
     "metadata": {},
     "source": [
      "\n",
      "* [calcul distribu\u00e9](#cd)\n",
      "* [Exercice 1 : validation crois\u00e9e distribu\u00e9e](#exo1)\n",
      "\n",
      "\n",
      "<h3 id=\"cd\">Calcul distribu\u00e9</h3>\n",
      "\n",
      "Quelques liens :\n",
      "\n",
      "* [Overview and getting started with IPython Interactive Computing](http://ipython.org/ipython-doc/stable/parallel/parallel_intro.html)\n",
      "* [Parallel Computing with IPython](http://www.astro.washington.edu/users/vanderplas/Astr599/notebooks/21_IPythonParallel)\n",
      "\n",
      "La distribution d'un programme implique l'ex\u00e9cution en parall\u00e8le de morceaux de programme, sur la m\u00eame machine ou sur des machines diff\u00e9rentes. Dans le cas de cette s\u00e9ance, ce sera sur la m\u00eame machine mais le principe reste le m\u00eame : une machine centrale (serveur) envoie des donn\u00e9es et le traitement associ\u00e9 sur d'autres machines (clients). Pour que les clients comprennent qu'ils doivent ex\u00e9cuter un programme, ils doivent continuellement attendre qu'on leur envoie des instructions : un client est lanc\u00e9 puis attend des instructions. Pour lancer des clients localement sur cette machine, on doit aller dans le r\u00e9pertoire :"
     ]
    },
    {
     "cell_type": "code",
     "collapsed": false,
     "input": [
      "import os,sys\n",
      "f = os.path.join(os.path.dirname(sys.executable), \"Scripts\")\n",
      "f"
     ],
     "language": "python",
     "metadata": {},
     "outputs": [
      {
       "metadata": {},
       "output_type": "pyout",
       "prompt_number": 1,
       "text": [
        "'C:\\\\Python34\\\\Scripts'"
       ]
      }
     ],
     "prompt_number": 1
    },
    {
     "cell_type": "code",
     "collapsed": false,
     "input": [
      "[ _ for _ in os.listdir(f) if \"cluster\" in _ ]"
     ],
     "language": "python",
     "metadata": {},
     "outputs": [
      {
       "metadata": {},
       "output_type": "pyout",
       "prompt_number": 3,
       "text": [
        "['ipcluster-script.py',\n",
        " 'ipcluster.exe',\n",
        " 'ipcluster.exe.manifest',\n",
        " 'ipcluster3-script.py',\n",
        " 'ipcluster3.exe',\n",
        " 'ipcluster3.exe.manifest']"
       ]
      }
     ],
     "prompt_number": 3
    },
    {
     "cell_type": "markdown",
     "metadata": {},
     "source": [
      "Il faut ex\u00e9cuter l'instruction ``ipcluster start -n 2`` depuis une ligne de commande. ``2`` signifie deux clients puis on v\u00e9rifie que ceux-ci sont bien en train de s'ex\u00e9cuter."
     ]
    },
    {
     "cell_type": "code",
     "collapsed": false,
     "input": [
      "from IPython import parallel\n",
      "clients = parallel.Client()\n",
      "clients.block = True  # use synchronous computations\n",
      "print (clients.ids)    # on s'attend \u00e0 deux clients"
     ],
     "language": "python",
     "metadata": {},
     "outputs": [
      {
       "output_type": "stream",
       "stream": "stdout",
       "text": [
        "[0, 1]\n"
       ]
      }
     ],
     "prompt_number": 5
    },
    {
     "cell_type": "code",
     "collapsed": false,
     "input": [
      "def mul(a, b):\n",
      "    return a * b"
     ],
     "language": "python",
     "metadata": {},
     "outputs": [],
     "prompt_number": 6
    },
    {
     "cell_type": "code",
     "collapsed": false,
     "input": [
      "view = clients.load_balanced_view()\n",
      "view.map(mul, [5, 6, 7, 8], [8, 9, 10, 11])"
     ],
     "language": "python",
     "metadata": {},
     "outputs": [
      {
       "metadata": {},
       "output_type": "pyout",
       "prompt_number": 8,
       "text": [
        "[40, 54, 70, 88]"
       ]
      }
     ],
     "prompt_number": 8
    },
    {
     "cell_type": "code",
     "collapsed": false,
     "input": [],
     "language": "python",
     "metadata": {},
     "outputs": []
    }
   ],
   "metadata": {}
  }
 ]
}