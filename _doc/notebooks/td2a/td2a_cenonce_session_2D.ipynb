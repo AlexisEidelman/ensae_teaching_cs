{
 "metadata": {
  "name": "",
  "signature": "sha256:865080b8d5cda0fe7177d50f13791732e22e728d92c665ce1f0d8c798278e62d"
 },
 "nbformat": 3,
 "nbformat_minor": 0,
 "worksheets": [
  {
   "cells": [
    {
     "cell_type": "heading",
     "level": 1,
     "metadata": {},
     "source": [
      "TD 2D : IPython et calcul distribu\u00e9"
     ]
    },
    {
     "cell_type": "markdown",
     "metadata": {},
     "source": [
      "\n",
      "* [calcul distribu\u00e9](#cd)\n",
      "* [Exercice 1 : validation crois\u00e9e distribu\u00e9e](#exo1)\n",
      "\n",
      "\n",
      "<h3 id=\"cd\">Calcul distribu\u00e9</h3>\n"
     ]
    },
    {
     "cell_type": "code",
     "collapsed": false,
     "input": [],
     "language": "python",
     "metadata": {},
     "outputs": []
    }
   ],
   "metadata": {}
  }
 ]
}