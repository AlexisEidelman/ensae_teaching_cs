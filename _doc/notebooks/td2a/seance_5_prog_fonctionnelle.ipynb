{
 "cells": [
  {
   "cell_type": "markdown",
   "metadata": {},
   "source": [
    "# Cours 05 : programmation fonctionnelle"
   ]
  },
  {
   "cell_type": "code",
   "execution_count": 5,
   "metadata": {
    "collapsed": false
   },
   "outputs": [
    {
     "data": {
      "text/html": [
       "<b>Plan</b>\n",
       "<div id=\"my_menu_id\">run previous cell, wait for 2 seconds</div>\n",
       "<script>\n",
       "function repeat_indent_string(n){\n",
       "    var a = \"\" ;\n",
       "    for ( ; n > 0 ; --n) {\n",
       "        a += \"    \";\n",
       "    }\n",
       "    return a;\n",
       "}\n",
       "var update_menu_string = function(begin, lfirst, llast, sformat, send) {\n",
       "    var anchors = document.getElementsByClassName(\"section\");\n",
       "    if (anchors.length == 0) {\n",
       "        anchors = document.getElementsByClassName(\"text_cell_render rendered_html\");\n",
       "    }\n",
       "    var i,t;\n",
       "    var text_menu = begin;\n",
       "    var text_memo = \"<pre>\\nlength:\" + anchors.length + \"\\n\";\n",
       "    var ind = \"\";\n",
       "    var memo_level = 1;\n",
       "    var href;\n",
       "    var tags = [];\n",
       "    for (i = 0; i <= llast; i++) {\n",
       "        tags.push(\"h\" + i);\n",
       "    }\n",
       "\n",
       "    for (i = 0; i < anchors.length; i++) {\n",
       "        text_memo += \"**\" + anchors[i].id + \"--\\n\";\n",
       "\n",
       "        var child = null;\n",
       "        for(t = 0; t < tags.length; t++) {\n",
       "            var r = anchors[i].getElementsByTagName(tags[t]);\n",
       "            if (r.length > 0) {\n",
       "child = r[0];\n",
       "break;\n",
       "            }\n",
       "        }\n",
       "        if (child == null){\n",
       "            text_memo += \"null\\n\";\n",
       "            continue;\n",
       "        }\n",
       "\n",
       "        if (anchors[i].hasAttribute(\"id\")) {\n",
       "            // when converted in RST\n",
       "            href = anchors[i].id;\n",
       "            text_memo += \"#1-\" + href;\n",
       "            // passer à child suivant (le chercher)\n",
       "        }\n",
       "        else if (child.hasAttribute(\"id\")) {\n",
       "            // in a notebook\n",
       "            href = child.id;\n",
       "            text_memo += \"#2-\" + href;\n",
       "        }\n",
       "        else {\n",
       "            text_memo += \"#3-\" + \"*\" + \"\\n\";\n",
       "            continue;\n",
       "        }\n",
       "        var title = child.textContent;\n",
       "        var level = parseInt(child.tagName.substring(1,2));\n",
       "\n",
       "        text_memo += \"--\" + level + \"?\" + lfirst + \"--\" + title + \"\\n\";\n",
       "\n",
       "        if ((level < lfirst) || (level > llast)) {\n",
       "            continue ;\n",
       "        }\n",
       "        if (title.endsWith('¶')) {\n",
       "            title = title.substring(0,title.length-1).replace(\"<\", \"&lt;\").replace(\">\", \"&gt;\").replace(\"&\", \"&amp;\")\n",
       "        }\n",
       "\n",
       "        if (title.length == 0) {\n",
       "            continue;\n",
       "        }\n",
       "        while (level > memo_level) {\n",
       "            text_menu += \"<ul>\\n\";\n",
       "            memo_level += 1;\n",
       "        }\n",
       "        while (level < memo_level) {\n",
       "            text_menu += \"</ul>\\n\";\n",
       "            memo_level -= 1;\n",
       "        }\n",
       "        text_menu += repeat_indent_string(level-2) + sformat.replace(\"__HREF__\", href).replace(\"__TITLE__\", title);\n",
       "    }\n",
       "    while (1 < memo_level) {\n",
       "        text_menu += \"</ul>\\n\";\n",
       "        memo_level -= 1;\n",
       "    }\n",
       "    text_menu += send;\n",
       "    //text_menu += \"\\n\" + text_memo;\n",
       "    return text_menu;\n",
       "};\n",
       "var update_menu = function() {\n",
       "    var sbegin = \"\";\n",
       "    var sformat = '<li><a href=\"#__HREF__\">__TITLE__</a></li>';\n",
       "    var send = \"\";\n",
       "    var text_menu = update_menu_string(sbegin, 2, 4, sformat, send);\n",
       "    var menu = document.getElementById(\"my_menu_id\");\n",
       "    menu.innerHTML=text_menu;\n",
       "};\n",
       "window.setTimeout(update_menu,2000);\n",
       "            </script>"
      ],
      "text/plain": [
       "<IPython.core.display.HTML object>"
      ]
     },
     "execution_count": 5,
     "metadata": {},
     "output_type": "execute_result"
    }
   ],
   "source": [
    "import pyensae\n",
    "%nb_menu"
   ]
  },
  {
   "cell_type": "markdown",
   "metadata": {},
   "source": [
    "# Programmation fonctionnelle"
   ]
  },
  {
   "cell_type": "markdown",
   "metadata": {},
   "source": [
    "## Fonction pure, tests et modularité"
   ]
  },
  {
   "cell_type": "markdown",
   "metadata": {},
   "source": [
    "La programmation fonctionnelle se concentre sur la notion de fonction, comme son nom l'indique, et plus précisément de fonction pure.  \n",
    "Une fonction pure est une fonction:\n",
    "\n",
    "  - dont le résultat dépend uniquement des entrées\n",
    "  - qui n'a pas d'effet de bord"
   ]
  },
  {
   "cell_type": "code",
   "execution_count": 1,
   "metadata": {
    "collapsed": false
   },
   "outputs": [
    {
     "name": "stdout",
     "output_type": "stream",
     "text": [
      "[1, 2, 3, 4]\n",
      "[1, 2, 3, 4]\n",
      "[1, 2, 3, 4]\n",
      "[4, 3, 2, 1]\n",
      "The slowest run took 29.46 times longer than the fastest. This could mean that an intermediate result is being cached \n",
      "100 loops, best of 3: 2.07 ms per loop\n",
      "100 loops, best of 3: 2.82 ms per loop\n"
     ]
    }
   ],
   "source": [
    "def sorted_1(l):\n",
    "    l.sort()\n",
    "    return l\n",
    "\n",
    "a = [4,3,2,1]\n",
    "print(sorted_1(a))\n",
    "print(a)\n",
    "\n",
    "a = [4,3,2,1]\n",
    "print(sorted(a))\n",
    "print(a)\n",
    "\n",
    "import random\n",
    "l = list(range(100000))\n",
    "random.shuffle( l )\n",
    "\n",
    "%timeit l.sort()\n",
    "%timeit sorted(l)"
   ]
  },
  {
   "cell_type": "markdown",
   "metadata": {},
   "source": [
    "La programmation fonctionnelle est à mettre en contraste par rapport à la programmation orientée objet.  \n",
    "L'objet est plus centré sur la représentation, la fonction sur l'action l'entrée et le résultat.  \n",
    "Il existe des langages orientés fonctionnel, comme [lisp](https://en.wikipedia.org/wiki/Lisp_(programming_language)).  \n",
    "\n",
    "Elle présente en effet des avantages considérables sur au moins deux points essentiels en informatique:  \n",
    "\n",
    "  - tests\n",
    "  - modularité\n",
    "  \n",
    "Un exemple concret, les webservices en python. Ceux-ci sont définies comme des fonctions, ce qui permet notamment de facilement les rendre compatibles avec différents serveurs web, en donnant à ceux-ci non pas le webservice directement, mais une composition de celui-ci.\n",
    "\n",
    "  - [Apache](https://httpd.apache.org/) => $wrapperApache \\circ webservice$\n",
    "  - [IIS](https://www.iis.net/)    => $wrapperIIS \\circ webservice$\n",
    "  - [CGI](http://httpd.apache.org/docs/current/fr/howto/cgi.html)    => $wrapperCGI \\circ webservice$\n",
    "  \n",
    "La composition est une façon très puissante de modifier la comportement d'un objet, car elle n'impacte pas l'objet lui-même."
   ]
  },
  {
   "cell_type": "code",
   "execution_count": null,
   "metadata": {
    "collapsed": false
   },
   "outputs": [],
   "source": [
    "import os, psutil, gc\n",
    "import resource\n",
    "\n",
    "def memory_usage_psutil():\n",
    "    gc.collect()\n",
    "    process = psutil.Process(os.getpid())\n",
    "    mem = process.memory_info()[0] / float(2 ** 20)\n",
    "\n",
    "    print( \"Memory used : %i MB\" % mem )\n",
    "    print( \"Max memory usage : %i MB\" % (resource.getrusage(resource.RUSAGE_SELF).ru_maxrss//1024) )"
   ]
  },
  {
   "cell_type": "code",
   "execution_count": 3,
   "metadata": {
    "collapsed": false
   },
   "outputs": [
    {
     "name": "stdout",
     "output_type": "stream",
     "text": [
      "Memory used : 39 MB\n",
      "Max memory usage : 58 MB\n"
     ]
    }
   ],
   "source": [
    "memory_usage_psutil()"
   ]
  },
  {
   "cell_type": "markdown",
   "metadata": {},
   "source": [
    "## Fonctions pour la gestion de grosses données : laziness"
   ]
  },
  {
   "cell_type": "markdown",
   "metadata": {},
   "source": [
    "Lors de la gestion de grosses données, le point crucial est que l'on ne veut pas stocker de valeurs intermédiaires, parce que celle-ci pourraient prendre trop de place en mémoire.\n",
    "Par exemple pour calculer la moyenne du nombre de followers dans la base de donnée, il n'est pas indispensable de stocker tous les users en mémoire.\n",
    "\n",
    "Les fonctions dans [cytoolz](https://github.com/pytoolz/cytoolz) sont dites \"lazy\", ce qui signifie qu'elles ne s'exécutent effectivement que quand nécessaire.\n",
    "Cela évite d'utiliser de la mémoire pour stocker un résultat intermédiaire.\n",
    "\n",
    "Par exemple la cellule ci-dessous s'exécute très rapidement, et ne consomme pas de mémoire. En effet a sert à représenter l'ensemble des nombres de 0 à 1000000 au carré, mais ils ne sont pas caculés immédiatement."
   ]
  },
  {
   "cell_type": "code",
   "execution_count": 4,
   "metadata": {
    "collapsed": false
   },
   "outputs": [
    {
     "name": "stdout",
     "output_type": "stream",
     "text": [
      "1000000 loops, best of 3: 830 ns per loop\n",
      "<class 'generator'>\n"
     ]
    }
   ],
   "source": [
    "a = (it**2 for it in range(1000001))\n",
    "%timeit a = (it**2 for it in range(1000001))\n",
    "print( type(a) )"
   ]
  },
  {
   "cell_type": "markdown",
   "metadata": {},
   "source": [
    "Ici on calcule la somme de ces nombres, et c'est au moment où on appelle la fonction sum que l'on calcule effectivement les carrés. Mais du coup cette opération est beaucoup plus lente que si l'on avait déjà calculé ces nombres."
   ]
  },
  {
   "cell_type": "code",
   "execution_count": 5,
   "metadata": {
    "collapsed": false
   },
   "outputs": [
    {
     "name": "stdout",
     "output_type": "stream",
     "text": [
      "1 loops, best of 3: 404 ms per loop\n"
     ]
    },
    {
     "data": {
      "text/plain": [
       "333333833333500000"
      ]
     },
     "execution_count": 5,
     "metadata": {},
     "output_type": "execute_result"
    }
   ],
   "source": [
    "%timeit sum( (it**2 for it in range(1000001)) )\n",
    "sum( a )"
   ]
  },
  {
   "cell_type": "markdown",
   "metadata": {},
   "source": [
    "Ma consommation mémoire n'a quasiment pas bougé."
   ]
  },
  {
   "cell_type": "code",
   "execution_count": 6,
   "metadata": {
    "collapsed": false
   },
   "outputs": [
    {
     "name": "stdout",
     "output_type": "stream",
     "text": [
      "Memory used : 39 MB\n",
      "Max memory usage : 58 MB\n"
     ]
    }
   ],
   "source": [
    "memory_usage_psutil()"
   ]
  },
  {
   "cell_type": "markdown",
   "metadata": {},
   "source": [
    "Ci-dessous, on n'a simplement remplacé les parenthèses ``()`` par des crochets ``[]``, mais cela suffit pour dire que l'on veut effectivement calculer ces valeurs et en stocker la liste.\n",
    "Cela est plus lng, consomme de la mémoire, mais en calculer la somme sera beaucoup plus rapide."
   ]
  },
  {
   "cell_type": "code",
   "execution_count": 7,
   "metadata": {
    "collapsed": false
   },
   "outputs": [
    {
     "name": "stdout",
     "output_type": "stream",
     "text": [
      "1 loops, best of 3: 368 ms per loop\n",
      "<class 'list'>\n"
     ]
    }
   ],
   "source": [
    "b = [it**2 for it in range(1000001)]\n",
    "%timeit b = [it**2 for it in range(1000001)]\n",
    "print(type(b))"
   ]
  },
  {
   "cell_type": "code",
   "execution_count": 8,
   "metadata": {
    "collapsed": false
   },
   "outputs": [
    {
     "name": "stdout",
     "output_type": "stream",
     "text": [
      "333333833333500000\n",
      "100 loops, best of 3: 12.7 ms per loop\n"
     ]
    }
   ],
   "source": [
    "print( sum(b) )\n",
    "%timeit sum(b)"
   ]
  },
  {
   "cell_type": "code",
   "execution_count": 9,
   "metadata": {
    "collapsed": false
   },
   "outputs": [
    {
     "name": "stdout",
     "output_type": "stream",
     "text": [
      "Memory used : 86 MB\n",
      "Max memory usage : 117 MB\n"
     ]
    }
   ],
   "source": [
    "memory_usage_psutil()"
   ]
  },
  {
   "cell_type": "markdown",
   "metadata": {},
   "source": [
    "Attention à ce que a est objet de type [iterateur](http://anandology.com/python-practice-book/iterators.html), qui retient sa position. Autrement dit, on ne peut l'utiliser qu'une seule fois."
   ]
  },
  {
   "cell_type": "code",
   "execution_count": 10,
   "metadata": {
    "collapsed": false
   },
   "outputs": [
    {
     "data": {
      "text/plain": [
       "0"
      ]
     },
     "execution_count": 10,
     "metadata": {},
     "output_type": "execute_result"
    }
   ],
   "source": [
    "sum(a)"
   ]
  },
  {
   "cell_type": "markdown",
   "metadata": {},
   "source": [
    "Si on a besoin de le réutiliser, on peut soit stocker les valeurs, soit le mettre dans une fonction"
   ]
  },
  {
   "cell_type": "code",
   "execution_count": 11,
   "metadata": {
    "collapsed": true
   },
   "outputs": [],
   "source": [
    "def f():\n",
    "    return (it**2 for it in range(1000001))"
   ]
  },
  {
   "cell_type": "code",
   "execution_count": 12,
   "metadata": {
    "collapsed": false
   },
   "outputs": [
    {
     "name": "stdout",
     "output_type": "stream",
     "text": [
      "333333833333500000\n",
      "1 loops, best of 3: 403 ms per loop\n"
     ]
    }
   ],
   "source": [
    "print( sum(f()) )\n",
    "%timeit sum(f())"
   ]
  },
  {
   "cell_type": "markdown",
   "metadata": {},
   "source": [
    "## Exemple cytoolz / twitters data\n",
    "\n",
    "Liens vers les données : \n",
    "\n",
    "* [twitter_for_network_100000.db.zip](http://www.xavierdupre.fr/enseignement/complements/twitter_for_network_100000.db.zip)\n",
    "* [twitter_for_network_full.db.zip](http://www.xavierdupre.fr/enseignement/complements/twitter_for_network_full.db.zip)"
   ]
  },
  {
   "cell_type": "code",
   "execution_count": 4,
   "metadata": {
    "collapsed": false
   },
   "outputs": [
    {
     "name": "stdout",
     "output_type": "stream",
     "text": [
      "    downloading of  http://www.xavierdupre.fr/enseignement/complements/twitter_for_network_100000.db.zip  to  twitter_for_network_100000.db.zip\n",
      "    unzipped  twitter_for_network_100000.db  to  .\\twitter_for_network_100000.db\n"
     ]
    },
    {
     "data": {
      "text/plain": [
       "['.\\\\twitter_for_network_100000.db']"
      ]
     },
     "execution_count": 4,
     "metadata": {},
     "output_type": "execute_result"
    }
   ],
   "source": [
    "import pyensae\n",
    "pyensae.download_data(\"twitter_for_network_100000.db.zip\")"
   ]
  },
  {
   "cell_type": "code",
   "execution_count": 13,
   "metadata": {
    "collapsed": false
   },
   "outputs": [
    {
     "name": "stdout",
     "output_type": "stream",
     "text": [
      "Memory used : 86 MB\n",
      "Max memory usage : 117 MB\n"
     ]
    }
   ],
   "source": [
    "memory_usage_psutil()"
   ]
  },
  {
   "cell_type": "code",
   "execution_count": 14,
   "metadata": {
    "collapsed": true
   },
   "outputs": [],
   "source": [
    "import cytoolz as ct # import groupby, valmap, compose\n",
    "import cytoolz.curried as ctc ## pipe, map, filter, get\n",
    "import sqlite3\n",
    "import pprint\n",
    "try:\n",
    "    import ujson as json\n",
    "except:\n",
    "    print(\"ujson not available\")\n",
    "    import json\n",
    "\n",
    "tw_users_limit = 1000000\n",
    "conn_sqlite = sqlite3.connect(\"twitter_for_network_100000.db\")\n",
    "cursor_sqlite = conn_sqlite.cursor()"
   ]
  },
  {
   "cell_type": "markdown",
   "metadata": {},
   "source": [
    "Note : sur internet vous verez plus souvent l'exemple json.loads. ujson est simplement une version plus rapide. Elle n'est pas indispensable"
   ]
  },
  {
   "cell_type": "code",
   "execution_count": 15,
   "metadata": {
    "collapsed": false
   },
   "outputs": [
    {
     "name": "stdout",
     "output_type": "stream",
     "text": [
      "The slowest run took 4.18 times longer than the fastest. This could mean that an intermediate result is being cached \n",
      "100000 loops, best of 3: 8.24 µs per loop\n",
      "100000 loops, best of 3: 13.1 µs per loop\n"
     ]
    }
   ],
   "source": [
    "import ujson as ujson_test\n",
    "import json as json_test\n",
    "\n",
    "cursor_sqlite.execute(\"SELECT content FROM tw_users LIMIT 1\")\n",
    "tw_user_json = cursor_sqlite.fetchone()[0]\n",
    "\n",
    "%timeit ujson_test.loads( tw_user_json )\n",
    "%timeit json_test.loads( tw_user_json )"
   ]
  },
  {
   "cell_type": "code",
   "execution_count": 16,
   "metadata": {
    "collapsed": false
   },
   "outputs": [],
   "source": [
    "tw_users_limit = 1000000"
   ]
  },
  {
   "cell_type": "markdown",
   "metadata": {},
   "source": [
    "Ci-dessous on charge en mémoire la liste des profils utilisateurs de la table tw_users.\n",
    "Il est conseillé de tester vos fonctions sur des extraits de vos données qui tiennent en mémoire. Par contre ensuite il faudra éviter de les charger en mémoire."
   ]
  },
  {
   "cell_type": "code",
   "execution_count": 17,
   "metadata": {
    "collapsed": false
   },
   "outputs": [
    {
     "data": {
      "text/plain": [
       "100071"
      ]
     },
     "execution_count": 17,
     "metadata": {},
     "output_type": "execute_result"
    }
   ],
   "source": [
    "## With storing in memory\n",
    "cursor_sqlite.execute(\"SELECT id, content FROM tw_users LIMIT %s\" % tw_users_limit)\n",
    "tw_users_as_json = list( ctc.map( json.loads, ctc.pluck( 1, cursor_sqlite ) ) )\n",
    "len(tw_users_as_json)"
   ]
  },
  {
   "cell_type": "markdown",
   "metadata": {},
   "source": [
    "On a dans ces deux exemples deux fonctions des plus classiques :\n",
    "\n",
    "  - ctc.pluck => prend une séquence en entrée et renvoit une séquence de de l'item sélectionnée\n",
    "  - ctc.map => applique une fonction à chaque élément de la séquence"
   ]
  },
  {
   "cell_type": "code",
   "execution_count": 18,
   "metadata": {
    "collapsed": false
   },
   "outputs": [
    {
     "data": {
      "text/plain": [
       "108086205"
      ]
     },
     "execution_count": 18,
     "metadata": {},
     "output_type": "execute_result"
    }
   ],
   "source": [
    "## Without storing in memory\n",
    "cursor_sqlite.execute(\"SELECT id, content FROM tw_users LIMIT %s\" % tw_users_limit)\n",
    "tw_users_as_json = ctc.pluck(\"followers_count\", # Même chose qu'avec le 1, mais on utilise une clé\n",
    "                             ctc.map(json.loads, # Map applique la fonction json.loads à tous les objets \n",
    "                                     ctc.pluck(1, # Le curseur renvoit les objets sous forme de tuple des colonnes\n",
    "                                                  # pluck(1, _) est l'équivalent de (it[1] for it in _)\n",
    "                                               cursor_sqlite) ) )\n",
    "sum(tw_users_as_json)"
   ]
  },
  {
   "cell_type": "code",
   "execution_count": 19,
   "metadata": {
    "collapsed": false
   },
   "outputs": [
    {
     "name": "stdout",
     "output_type": "stream",
     "text": [
      "The slowest run took 6.81 times longer than the fastest. This could mean that an intermediate result is being cached \n",
      "1 loops, best of 3: 1.5 µs per loop\n"
     ]
    }
   ],
   "source": [
    "cursor_sqlite.execute(\"SELECT id, content FROM tw_users LIMIT %s\" % tw_users_limit)\n",
    "%timeit -n 1 tw_users_as_json = ctc.pluck(\"followers_count\", ctc.map(json.loads, ctc.pluck(1, cursor_sqlite) ) ) "
   ]
  },
  {
   "cell_type": "code",
   "execution_count": 20,
   "metadata": {
    "collapsed": false
   },
   "outputs": [
    {
     "data": {
      "text/plain": [
       "108086205"
      ]
     },
     "execution_count": 20,
     "metadata": {},
     "output_type": "execute_result"
    }
   ],
   "source": [
    "## Without storing in memory\n",
    "def get_tw_users_as_json():\n",
    "    cursor_sqlite.execute(\"SELECT content FROM tw_users LIMIT %s\" % tw_users_limit)\n",
    "    return ctc.pluck(\"followers_count\", ctc.map(json.loads, ctc.pluck(0, cursor_sqlite) ) )\n",
    "sum(get_tw_users_as_json())"
   ]
  },
  {
   "cell_type": "code",
   "execution_count": 21,
   "metadata": {
    "collapsed": false
   },
   "outputs": [
    {
     "data": {
      "text/plain": [
       "108086205"
      ]
     },
     "execution_count": 21,
     "metadata": {},
     "output_type": "execute_result"
    }
   ],
   "source": [
    "sum(get_tw_users_as_json())"
   ]
  },
  {
   "cell_type": "markdown",
   "metadata": {},
   "source": [
    "Quelques exemples :\n",
    "\n",
    "  - count_all_followers_cyt() fait la somme des followers \n",
    "  - count_all_followers_cyt_by_location() fait la somme par location différente (nous verrons ensuite que cette donnée, du texte brute, mériterait des traitements particuliers)"
   ]
  },
  {
   "cell_type": "code",
   "execution_count": 22,
   "metadata": {
    "collapsed": false
   },
   "outputs": [
    {
     "name": "stdout",
     "output_type": "stream",
     "text": [
      "1 loops, best of 3: 954 ms per loop\n",
      "1 loops, best of 3: 1.15 s per loop\n"
     ]
    }
   ],
   "source": [
    "tw_users_limit = 1000000\n",
    "import ujson\n",
    "\n",
    "def get_users_cyt():\n",
    "    cursor_sqlite.execute(\"SELECT content FROM tw_users LIMIT %s\" % tw_users_limit)\n",
    "    return ct.map(ujson.loads, ct.pluck( 0, cursor_sqlite ) )\n",
    "\n",
    "def count_all_followers_cyt():\n",
    "    return sum( ct.pluck(\"followers_count\", get_users_cyt() ) )\n",
    "\n",
    "def count_all_followers_cyt_by_location():\n",
    "    return ct.reduceby( \"location\", lambda x, item: x + item[\"followers_count\"], get_users_cyt(), 0 )\n",
    "\n",
    "%timeit count_all_followers_cyt()\n",
    "%timeit count_all_followers_cyt_by_location()"
   ]
  },
  {
   "cell_type": "code",
   "execution_count": 23,
   "metadata": {
    "collapsed": false
   },
   "outputs": [
    {
     "name": "stdout",
     "output_type": "stream",
     "text": [
      "Memory used : 295 MB\n",
      "Max memory usage : 521 MB\n"
     ]
    }
   ],
   "source": [
    "memory_usage_psutil()"
   ]
  },
  {
   "cell_type": "markdown",
   "metadata": {},
   "source": [
    "Leur équivalent en code standard.\n",
    "A noter que la version fonctionnelle n'est pas significativement plus rapide."
   ]
  },
  {
   "cell_type": "code",
   "execution_count": 24,
   "metadata": {
    "collapsed": false
   },
   "outputs": [
    {
     "name": "stdout",
     "output_type": "stream",
     "text": [
      "1 loops, best of 3: 1.02 s per loop\n",
      "1 loops, best of 3: 1.02 s per loop\n"
     ]
    }
   ],
   "source": [
    "from collections import defaultdict\n",
    "\n",
    "def count_all_followers():\n",
    "    cursor_sqlite.execute(\"SELECT content FROM tw_users LIMIT %s\" % tw_users_limit)\n",
    "    nb_totals_followers_id = 0\n",
    "    for it_json in cursor_sqlite:\n",
    "        nb_totals_followers_id += json.loads(it_json[0])[ \"followers_count\" ]\n",
    "    return nb_totals_followers_id\n",
    "\n",
    "def count_all_followers_by_location():\n",
    "    cursor_sqlite.execute(\"SELECT content FROM tw_users LIMIT %s\" % tw_users_limit)\n",
    "    res = defaultdict(int)\n",
    "    for it_json in cursor_sqlite:\n",
    "        it_json = json.loads(it_json[0])\n",
    "        res[it_json[\"location\"]] += it_json[ \"followers_count\" ]\n",
    "    return res\n",
    "\n",
    "%timeit count_all_followers()\n",
    "%timeit count_all_followers_by_location()"
   ]
  },
  {
   "cell_type": "code",
   "execution_count": 25,
   "metadata": {
    "collapsed": false
   },
   "outputs": [
    {
     "name": "stdout",
     "output_type": "stream",
     "text": [
      "1000 loops, best of 3: 2.54 µs per loop\n",
      "The slowest run took 4.45 times longer than the fastest. This could mean that an intermediate result is being cached \n",
      "100000 loops, best of 3: 8.32 µs per loop\n"
     ]
    }
   ],
   "source": [
    "cursor_sqlite.execute(\"SELECT content FROM tw_users LIMIT 10000\")\n",
    "%timeit -n1000 first_content = cursor_sqlite.fetchone()[0]\n",
    "cursor_sqlite.execute(\"SELECT content FROM tw_users LIMIT 10000\")\n",
    "first_content = cursor_sqlite.fetchone()[0]\n",
    "%timeit json.loads( first_content )"
   ]
  },
  {
   "cell_type": "markdown",
   "metadata": {
    "collapsed": true
   },
   "source": [
    "## Cytoolz functions"
   ]
  },
  {
   "cell_type": "markdown",
   "metadata": {},
   "source": [
    "[cytoolz](https://github.com/pytoolz/cytoolz) est une implémentation plus performante de la librairie [toolz](https://github.com/pytoolz/toolz/), il faut donc vous référer à la documentation de celle-ci.\n",
    "\n",
    "http://toolz.readthedocs.org/en/latest/api.html\n",
    "\n",
    "A noter qu'il y a deux packages, [cytoolz](https://github.com/pytoolz/cytoolz) et [cytoolz.curried](https://github.com/eriknw/cytoolz/blob/master/cytoolz/curried.py), ils contiennent les mêmes fonctions, seulement celles du second supporte le \"curry\", l'évaluation partielle (voir plus bas). Cela peut représenter un petit overhead."
   ]
  },
  {
   "cell_type": "markdown",
   "metadata": {},
   "source": [
    "### les basiques"
   ]
  },
  {
   "cell_type": "markdown",
   "metadata": {},
   "source": [
    "[cytoolz.curried.pluck](http://toolz.readthedocs.org/en/latest/api.html?highlight=pluck#toolz.itertoolz.pluck) => sélectionne un item dans chaque élément d'une séquence, à partir d'une clé ou d'un index  \n",
    "[cytoolz.curried.map](http://toolz.readthedocs.org/en/latest/curry.html) => applique une fonction à tous les éléments d'une séquence"
   ]
  },
  {
   "cell_type": "code",
   "execution_count": 26,
   "metadata": {
    "collapsed": false
   },
   "outputs": [
    {
     "name": "stdout",
     "output_type": "stream",
     "text": [
      "108086205\n"
     ]
    }
   ],
   "source": [
    "import cytoolz as ct\n",
    "import cytoolz.curried as ctc \n",
    "\n",
    "cursor_sqlite.execute(\"SELECT id, content FROM tw_users LIMIT %s\" % tw_users_limit)\n",
    "a = ctc.pluck( 1, cursor_sqlite )\n",
    "b = ctc.map( json.loads, a )\n",
    "c = ctc.pluck(\"followers_count\", b)\n",
    "print( sum(c) )\n"
   ]
  },
  {
   "cell_type": "markdown",
   "metadata": {},
   "source": [
    "A noter que toutes les fonctions cytoolz du package cytoolz.curry supportent les évaluations partielles, i.e. construire une fonction d'un argument à partir d'une fonction de deux arguments (ou plus généralement *n-1* arguments à partir de *n*)"
   ]
  },
  {
   "cell_type": "code",
   "execution_count": 27,
   "metadata": {
    "collapsed": false
   },
   "outputs": [
    {
     "name": "stdout",
     "output_type": "stream",
     "text": [
      "108086205\n"
     ]
    }
   ],
   "source": [
    "cursor_sqlite.execute(\"SELECT id, content FROM tw_users LIMIT %s\" % tw_users_limit)\n",
    "\n",
    "pl_1 = ctc.pluck(1) ## ctc.pluck prend 2 arguments, cette fonction est donc une fonction d'un argument\n",
    "m_loads = ctc.map(json.loads)\n",
    "pl_fc = ctc.pluck(\"followers_count\")\n",
    "\n",
    "a = pl_1( cursor_sqlite )\n",
    "b = m_loads(a)\n",
    "c = pl_fc(b)\n",
    "print( sum(c) )"
   ]
  },
  {
   "cell_type": "code",
   "execution_count": 28,
   "metadata": {
    "collapsed": true
   },
   "outputs": [],
   "source": [
    "tw_users_limit = 10000"
   ]
  },
  {
   "cell_type": "code",
   "execution_count": 29,
   "metadata": {
    "collapsed": false
   },
   "outputs": [
    {
     "data": {
      "text/plain": [
       "4284281"
      ]
     },
     "execution_count": 29,
     "metadata": {},
     "output_type": "execute_result"
    }
   ],
   "source": [
    "cursor_sqlite.execute(\"SELECT id, content FROM tw_users LIMIT %s\" % tw_users_limit)\n",
    "sum( pl_fc( m_loads( pl_1 ( cursor_sqlite ) ) ) ) "
   ]
  },
  {
   "cell_type": "markdown",
   "metadata": {},
   "source": [
    "[cytoolz.compose](http://toolz.readthedocs.org/en/latest/api.html?highlight=compose#toolz.functoolz.compose) permet de créer une fonction par un chaînage de fonction.  \n",
    "Le résultat de chaque fonction est donné en argument à la fonction suivante, chaque fonction doit donc ne prendre qu'un seul argument, d'où l'intérêt de l'évaluation partielle.\n",
    "Comme en mathématique, les fonctions sont évaluées de droite à gauche \n",
    "\n",
    "``count_nb_followers( cursor_sqlite )`` est donc équivalent à  ``sum( pl_fc( get_json_seq( cursor_sqlite ) ) )``"
   ]
  },
  {
   "cell_type": "code",
   "execution_count": 30,
   "metadata": {
    "collapsed": false
   },
   "outputs": [
    {
     "data": {
      "text/plain": [
       "4284281"
      ]
     },
     "execution_count": 30,
     "metadata": {},
     "output_type": "execute_result"
    }
   ],
   "source": [
    "get_json_seq = ct.compose( m_loads, pl_1 )\n",
    "count_nb_followers = ct.compose( sum, pl_fc, get_json_seq )\n",
    "cursor_sqlite.execute(\"SELECT id, content FROM tw_users LIMIT %s\" % tw_users_limit)\n",
    "count_nb_followers( cursor_sqlite )"
   ]
  },
  {
   "cell_type": "markdown",
   "metadata": {},
   "source": [
    "[cytoolz.pipe](http://toolz.readthedocs.org/en/latest/api.html?highlight=pipe#toolz.functoolz.pipe) a un comportement similaire, avec une différence importante, l'ordre des fonctions est inversé (ce qui le rend plus lisible, à mon humble avis)"
   ]
  },
  {
   "cell_type": "code",
   "execution_count": 31,
   "metadata": {
    "collapsed": false
   },
   "outputs": [
    {
     "data": {
      "text/plain": [
       "4284281"
      ]
     },
     "execution_count": 31,
     "metadata": {},
     "output_type": "execute_result"
    }
   ],
   "source": [
    "ct.pipe(\n",
    "    cursor_sqlite.execute(\"SELECT id, content FROM tw_users LIMIT %s\" % tw_users_limit),\n",
    "    pl_1,\n",
    "    m_loads,\n",
    "    pl_fc,\n",
    "    sum )\n"
   ]
  },
  {
   "cell_type": "code",
   "execution_count": 32,
   "metadata": {
    "collapsed": false
   },
   "outputs": [
    {
     "name": "stdout",
     "output_type": "stream",
     "text": [
      "2951686\n",
      "1332595\n"
     ]
    }
   ],
   "source": [
    "cursor_sqlite.execute(\"SELECT id, content FROM tw_users LIMIT %s\" % tw_users_limit)\n",
    "print( count_nb_followers( ct.take_nth(2, cursor_sqlite ) ) ) # take_nth, prendre un élément sur n\n",
    "cursor_sqlite.execute(\"SELECT id, content FROM tw_users LIMIT %s\" % tw_users_limit)\n",
    "print( count_nb_followers( ct.take_nth(2, ct.drop(1, cursor_sqlite ) ) ) ) # drop, enlève les n premiers éléments"
   ]
  },
  {
   "cell_type": "markdown",
   "metadata": {},
   "source": [
    "**cytoolz.take_nth** => prend un élément sur n  \n",
    "**cytoolz.drop** => enlève n éléments"
   ]
  },
  {
   "cell_type": "code",
   "execution_count": 33,
   "metadata": {
    "collapsed": false
   },
   "outputs": [
    {
     "data": {
      "text/plain": [
       "10000"
      ]
     },
     "execution_count": 33,
     "metadata": {},
     "output_type": "execute_result"
    }
   ],
   "source": [
    "tw_users_limit"
   ]
  },
  {
   "cell_type": "markdown",
   "metadata": {},
   "source": [
    "Il existe beaucoup de fonctions, dont un certain nombre peuvent faire double emploi.  \n",
    "Par exemple **countby** prend une fonction et une séquence et compte le nombre de résultat de la fonction appliquée à chaque élément de la séquence, ce qui équivalent à appliquer une fonction à tous les éléments de la séquence, puis calculer la fréquence des résultats (opération effectuée avec **frequencies** et **pluck**)"
   ]
  },
  {
   "cell_type": "code",
   "execution_count": 34,
   "metadata": {
    "collapsed": false
   },
   "outputs": [
    {
     "name": "stdout",
     "output_type": "stream",
     "text": [
      "The slowest run took 4533.33 times longer than the fastest. This could mean that an intermediate result is being cached \n",
      "1 loops, best of 3: 22.8 µs per loop\n",
      "The slowest run took 41853.23 times longer than the fastest. This could mean that an intermediate result is being cached \n",
      "1 loops, best of 3: 2.51 µs per loop\n",
      "The slowest run took 34816.54 times longer than the fastest. This could mean that an intermediate result is being cached \n",
      "1 loops, best of 3: 3.46 µs per loop\n",
      "{1: 1603,\n",
      " 2: 107,\n",
      " 3: 32,\n",
      " 4: 23,\n",
      " 5: 16,\n",
      " 6: 7,\n",
      " 7: 4,\n",
      " 8: 1,\n",
      " 10: 4,\n",
      " 11: 1,\n",
      " 12: 1,\n",
      " 14: 2,\n",
      " 15: 1,\n",
      " 16: 1,\n",
      " 19: 1,\n",
      " 20: 1,\n",
      " 25: 1,\n",
      " 26: 1,\n",
      " 33: 1,\n",
      " 39: 1,\n",
      " 43: 1,\n",
      " 46: 1,\n",
      " 47: 1,\n",
      " 170: 1,\n",
      " 288: 1,\n",
      " 6959: 1}\n",
      "{'': 6959,\n",
      " 'Abidjan': 10,\n",
      " 'Bordeaux': 14,\n",
      " 'Bruxelles': 12,\n",
      " 'FRANCE': 26,\n",
      " 'France': 170,\n",
      " 'Lille': 33,\n",
      " 'London': 10,\n",
      " 'Lyon': 25,\n",
      " 'Marseille': 19,\n",
      " 'Montpellier': 11,\n",
      " 'Nantes': 14,\n",
      " 'Nice': 10,\n",
      " 'PARIS': 16,\n",
      " 'Paris': 288,\n",
      " 'Paris ': 15,\n",
      " 'Paris, France': 39,\n",
      " 'Paris, Ile-de-France': 46,\n",
      " 'Toulouse': 20,\n",
      " 'Tunisie': 10,\n",
      " 'france': 43,\n",
      " 'paris': 47}\n"
     ]
    }
   ],
   "source": [
    "import collections\n",
    "from operator import ge, le\n",
    "\n",
    "cursor_sqlite.execute(\"SELECT id, content FROM tw_users LIMIT %s\" % tw_users_limit)\n",
    "%timeit -n1 ct.countby(ctc.get(\"location\"), get_json_seq( cursor_sqlite ) )\n",
    "\n",
    "cursor_sqlite.execute(\"SELECT id, content FROM tw_users LIMIT %s\" % tw_users_limit)\n",
    "%timeit -n1 ct.frequencies(ct.pluck(\"location\", get_json_seq( cursor_sqlite ) ) )\n",
    "\n",
    "def count_location_frequency(c):\n",
    "    counter = collections.Counter()\n",
    "    for it_json in c:\n",
    "        it_json = json.loads( it_json[1] )\n",
    "        counter[ it_json[\"location\"] ] += 1\n",
    "    return counter\n",
    "\n",
    "cursor_sqlite.execute(\"SELECT id, content FROM tw_users LIMIT %s\" % tw_users_limit)\n",
    "%timeit -n1 count_location_frequency(cursor_sqlite)\n",
    "\n",
    "get_freq_by_loc = ct.compose( ct.frequencies, ctc.pluck(\"location\"), get_json_seq )\n",
    "\n",
    "cursor_sqlite.execute(\"SELECT id, content FROM tw_users LIMIT %s\" % tw_users_limit)\n",
    "pprint.pprint( ct.frequencies( get_freq_by_loc(cursor_sqlite).values() ) )\n",
    "\n",
    "cursor_sqlite.execute(\"SELECT id, content FROM tw_users LIMIT %s\" % tw_users_limit)\n",
    "pprint.pprint( ct.valfilter( ct.curry(le,10), get_freq_by_loc(cursor_sqlite) ) )\n"
   ]
  },
  {
   "cell_type": "code",
   "execution_count": 35,
   "metadata": {
    "collapsed": false
   },
   "outputs": [
    {
     "name": "stdout",
     "output_type": "stream",
     "text": [
      "Memory used : 257 MB\n",
      "Max memory usage : 521 MB\n"
     ]
    }
   ],
   "source": [
    "memory_usage_psutil()"
   ]
  },
  {
   "cell_type": "markdown",
   "metadata": {},
   "source": [
    "A priori il est préférable de choisir l'ordre de fonctions qui sépare les plus les opérations. Ici **countby** fait les deux à la fois (appliquer la fonction et calculer le nombre d'occurences)."
   ]
  },
  {
   "cell_type": "markdown",
   "metadata": {},
   "source": [
    "Les deux derniers que nous allons voir sont **reduce**, **reduceby** et **groupby**.\n",
    "Attention à groupby, celle-ci crée un dictionnaire de liste des éléments donnés en entrées, elle forcera donc le chargement en mémoire de toutes les données.\n",
    "\n",
    "**groupby** prend en entrée une clé et une séquence, et groupe les objets pour lesquels cette clé a la même valeur.\n",
    "Son retour sera un dictionnaire dont les clés sont les valeurs prises par la clé (ci-dessous les différentes valeurs de \"location\" dans les utilisateurs) et les valeurs les listes des objets ayant cette valeur pour la clé."
   ]
  },
  {
   "cell_type": "code",
   "execution_count": 36,
   "metadata": {
    "collapsed": false
   },
   "outputs": [
    {
     "data": {
      "text/plain": [
       "{'chat': [{'age': 15, 'animal': 'chat', 'npm': 'Roudy'},\n",
       "  {'age': 10, 'animal': 'chat', 'npm': 'Teemo'},\n",
       "  {'age': 25, 'animal': 'chat', 'npm': 'Garfied'}],\n",
       " 'chien': [{'age': 5, 'animal': 'chien', 'npm': 'Medor'},\n",
       "  {'age': 3, 'animal': 'chien', 'npm': 'Fluffy'},\n",
       "  {'age': 2, 'animal': 'chien', 'npm': 'Max'}]}"
      ]
     },
     "execution_count": 36,
     "metadata": {},
     "output_type": "execute_result"
    }
   ],
   "source": [
    "liste_animaux = [ \n",
    "    { \"animal\":\"chat\"  , \"age\":15,\"npm\":\"Roudy\"}, \n",
    "    { \"animal\":\"chien\" , \"age\": 5,\"npm\":\"Medor\"},\n",
    "    { \"animal\":\"chien\" , \"age\": 3,\"npm\":\"Fluffy\"}, \n",
    "    { \"animal\":\"chien\" , \"age\": 2,\"npm\":\"Max\"},\n",
    "    { \"animal\":\"chat\"  , \"age\":10,\"npm\":\"Teemo\"}, \n",
    "    { \"animal\":\"chat\"  , \"age\":25,\"npm\":\"Garfied\"}    \n",
    "]\n",
    "\n",
    "ct.groupby( \"animal\", liste_animaux )"
   ]
  },
  {
   "cell_type": "code",
   "execution_count": 37,
   "metadata": {
    "collapsed": false
   },
   "outputs": [
    {
     "name": "stdout",
     "output_type": "stream",
     "text": [
      "'' : 69975\n",
      "'Abidjan-RCI' : 1\n",
      "'Périgueux' : 1\n",
      "'Champigny-sur-Marne' : 1\n",
      "'Cannes en France' : 1\n",
      "'Charleroi ' : 1\n",
      "'San Francisco, California' : 2\n",
      "'Paris, Chantilly - FRANCE' : 1\n",
      "'région PACA     FRANCE' : 1\n",
      "'Cg ' : 1\n",
      "'au large' : 1\n",
      "'Департамент всемирной глупости' : 1\n",
      "'nontron' : 1\n",
      "'Amiens, Picardie' : 5\n",
      "'real madrid' : 1\n",
      "'Harel, Luxembourg' : 1\n",
      "'Virginia' : 1\n",
      "'Saint-François' : 1\n",
      "'gabon' : 2\n",
      "'Lormont' : 1\n",
      "'reliée' : 1\n",
      "'créon- cadillac' : 1\n",
      "'Paris - Montmatre ' : 1\n",
      "'Limoges/Paris' : 1\n",
      "'GlobeTrottoir! Zion' : 1\n",
      "'adraoui' : 1\n",
      "'Haiti' : 27\n",
      "'Cloudsdale' : 1\n",
      "'domloup' : 1\n",
      "'Elysée' : 1\n",
      "'gijon' : 1\n",
      "'faraway' : 1\n",
      "'Meaux' : 4\n",
      "'mecca' : 1\n",
      "'06100 NICE' : 1\n",
      "'Funding Tech Startups' : 1\n",
      "'ABBEVILLE, France' : 1\n",
      "'Ile de France' : 22\n",
      "'Barquisimeto - Venezuela' : 1\n",
      "'Paris,Milan ' : 1\n",
      "'LOCATION DE VOITURE ' : 1\n",
      "'rio + são paulo' : 1\n",
      "'french riviera' : 1\n",
      "'PARIS..with LOVE' : 1\n",
      "'capbreton' : 1\n",
      "'51490' : 1\n",
      "'Toulouse France ' : 1\n",
      "'Les Loges, Île-de-France' : 1\n",
      "'VERSAILLES ' : 1\n",
      "'Aulnay, Poitou-Charentes' : 1\n",
      "'LOMME' : 1\n"
     ]
    }
   ],
   "source": [
    "tw_users_limit = 100000\n",
    "cursor_sqlite.execute(\"SELECT id, content FROM tw_users LIMIT %s\" % tw_users_limit)\n",
    "for i, (k, v) in enumerate( ct.valmap( ct.count, ct.groupby( \"location\",  get_json_seq( cursor_sqlite ) ) ).items() ):\n",
    "    print(repr(k) + \" : \" + repr(v))\n",
    "    if i == 50:\n",
    "        break"
   ]
  },
  {
   "cell_type": "markdown",
   "metadata": {},
   "source": [
    "A noter que si vous voulez utiliser les opérateurs usuels (+, \\*, etc ...), vous pouvez les obtenir sous forme de fonctions dans le package operator"
   ]
  },
  {
   "cell_type": "markdown",
   "metadata": {},
   "source": [
    "**reduce** applique une fonction aux deux premiers éléments d'une séquence (ou au premier élément et une valeur initiale) et applique ensuite cette fonction au total et à l'élement suivant."
   ]
  },
  {
   "cell_type": "code",
   "execution_count": 38,
   "metadata": {
    "collapsed": false
   },
   "outputs": [
    {
     "name": "stdout",
     "output_type": "stream",
     "text": [
      "15\n",
      "120\n"
     ]
    }
   ],
   "source": [
    "from operator import add, mul\n",
    "print( ct.reduce( add, [1,2,3,4,5] ) ) ## calcule add(1,2), puis add(_, 3), add(_, 4), etc ...\n",
    "print( ct.reduce( mul, [1,2,3,4,5] ) )"
   ]
  },
  {
   "cell_type": "markdown",
   "metadata": {},
   "source": [
    "Du coup si votre résultat n'est pas de même nature que vos éléments, la syntaxe ci-dessus ne fonctionnera pas. Dans ce cas, il faut rajouter une valeur initiale.\n",
    "\n",
    "Dans ce cas la fonction de réduction est appliquée à :\n",
    "\n",
    "1. f(valeur\\_initiale, premier\\_élément)\n",
    "1. f(résultat\\_précédent, deuxième\\_élément)\n",
    "1. f(résultat\\_précédent, troisième\\_élément)"
   ]
  },
  {
   "cell_type": "code",
   "execution_count": 41,
   "metadata": {
    "collapsed": false
   },
   "outputs": [
    {
     "data": {
      "text/plain": [
       "4284281"
      ]
     },
     "execution_count": 41,
     "metadata": {},
     "output_type": "execute_result"
    }
   ],
   "source": [
    "tw_users_limit = 10000\n",
    "cursor_sqlite.execute(\"SELECT id, content FROM tw_users LIMIT %s\" % tw_users_limit)\n",
    "ct.reduce((lambda total,elt: total + elt[\"followers_count\"]), # Fonction pour faire la réduction\n",
    "           get_json_seq( cursor_sqlite ), # séquence à réduire, \n",
    "           0 # Valeur initiale \n",
    "         )\n",
    "                      "
   ]
  },
  {
   "cell_type": "markdown",
   "metadata": {},
   "source": [
    "reduceby fait la même chose, avec un groupement selon un critère en plus.\n",
    "Le code ci-dessous calcule la somme du nombre de followers par location, et filtre sur les valeurs supérieures à 10000."
   ]
  },
  {
   "cell_type": "code",
   "execution_count": 42,
   "metadata": {
    "collapsed": false
   },
   "outputs": [
    {
     "name": "stdout",
     "output_type": "stream",
     "text": [
      "The slowest run took 55529.77 times longer than the fastest. This could mean that an intermediate result is being cached \n",
      "1 loops, best of 3: 2.27 µs per loop\n"
     ]
    },
    {
     "data": {
      "text/plain": [
       "{'': 476234,\n",
       " 'Barcelona (Spain)': 13773,\n",
       " 'Beijing China': 19296,\n",
       " 'Conscience': 34254,\n",
       " 'France': 243077,\n",
       " 'Futuroscope 86': 10888,\n",
       " 'Islamic Republic of Iran': 72745,\n",
       " 'Lens,LOSC,VA,USBCO,Reims,ESTAC': 16054,\n",
       " 'Libérateur enraciné': 19987,\n",
       " 'London, UK': 37646,\n",
       " 'Longueuil, Québec': 43522,\n",
       " 'Melun City': 18401,\n",
       " 'Paris': 1506591,\n",
       " 'Paris /France': 251205,\n",
       " 'Paris, France': 45841,\n",
       " 'Plein Sud': 17565,\n",
       " 'Poitiers, Vienne (86)': 102472,\n",
       " 'ROUEN (76)FRANCE': 10757,\n",
       " 'Rosslyn, Va.': 278088,\n",
       " 'St-Raymond on the Beach': 44569,\n",
       " 'Tunisia': 16602,\n",
       " 'Worldwide': 11040,\n",
       " 'http://www.13or-du-hiphop.fr': 22143,\n",
       " 'paris ': 366667}"
      ]
     },
     "execution_count": 42,
     "metadata": {},
     "output_type": "execute_result"
    }
   ],
   "source": [
    "from operator import le\n",
    "\n",
    "tw_users_limit = 10000\n",
    "cursor_sqlite.execute(\"SELECT id, content FROM tw_users LIMIT %s\" % tw_users_limit)\n",
    "%timeit -n1 ct.reduceby( \"location\", lambda x,y: x + y[\"followers_count\"], get_json_seq( cursor_sqlite ), 0 )\n",
    "cursor_sqlite.execute(\"SELECT id, content FROM tw_users LIMIT %s\" % tw_users_limit)\n",
    "ct.valfilter(ct.curry(le,10000), ## Ne sélectionne que les éléments dont la valeur est supérieure à 10000\n",
    "             ct.reduceby( \"location\", \n",
    "                         lambda x,y: x + y[\"followers_count\"], \n",
    "                         get_json_seq( cursor_sqlite ), \n",
    "                         0 ))"
   ]
  },
  {
   "cell_type": "code",
   "execution_count": null,
   "metadata": {
    "collapsed": true
   },
   "outputs": [],
   "source": []
  }
 ],
 "metadata": {
  "kernelspec": {
   "display_name": "Python 3",
   "language": "python",
   "name": "python3"
  },
  "language_info": {
   "codemirror_mode": {
    "name": "ipython",
    "version": 3
   },
   "file_extension": ".py",
   "mimetype": "text/x-python",
   "name": "python",
   "nbconvert_exporter": "python",
   "pygments_lexer": "ipython3",
   "version": "3.4.3"
  }
 },
 "nbformat": 4,
 "nbformat_minor": 0
}
