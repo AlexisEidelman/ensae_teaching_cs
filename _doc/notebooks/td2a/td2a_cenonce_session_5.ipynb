{
 "metadata": {
  "name": "",
  "signature": "sha256:7346ba36a1d6a196cb6efa216d36a661722f39c660e5f7e51ed77264cfdddb45"
 },
 "nbformat": 3,
 "nbformat_minor": 0,
 "worksheets": [
  {
   "cells": [
    {
     "cell_type": "heading",
     "level": 1,
     "metadata": {},
     "source": [
      "TD 5 : Mod\u00e8les de donn\u00e9es"
     ]
    },
    {
     "cell_type": "code",
     "collapsed": false,
     "input": [],
     "language": "python",
     "metadata": {},
     "outputs": [],
     "prompt_number": 0
    }
   ],
   "metadata": {}
  }
 ]
}