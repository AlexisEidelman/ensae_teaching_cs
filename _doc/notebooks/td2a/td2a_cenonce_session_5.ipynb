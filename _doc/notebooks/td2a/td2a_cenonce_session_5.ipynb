{
 "cells": [
  {
   "cell_type": "markdown",
   "metadata": {},
   "source": [
    "# TD 5 : Modèle relationnel, analyse d'incidents dans le transport aérien"
   ]
  },
  {
   "cell_type": "code",
   "execution_count": 1,
   "metadata": {
    "collapsed": false
   },
   "outputs": [
    {
     "name": "stdout",
     "output_type": "stream",
     "text": [
      "    downloading of  http://www.xavierdupre.fr/enseignement/complements/tp_2a_5_compagnies.zip  to  tp_2a_5_compagnies.zip\n",
      "    unzipped "
     ]
    },
    {
     "name": "stdout",
     "output_type": "stream",
     "text": [
      " Cities.csv  to  .\\Cities.csv\n",
      "    unzipped  Compagnies.csv  to  .\\Compagnies.csv\n",
      "    unzipped  Crews.csv  to  .\\Crews.csv\n",
      "    unzipped  Crews_planes_habilitation.csv  to  .\\Crews_planes_habilitation.csv\n",
      "    unzipped  Data_exemple.csv  to  .\\Data_exemple.csv\n",
      "    unzipped  Data_exemple_2.csv  to  .\\Data_exemple_2.csv\n",
      "    unzipped  "
     ]
    },
    {
     "name": "stdout",
     "output_type": "stream",
     "text": [
      "Data_exemple_3.csv  to  .\\Data_exemple_3.csv\n",
      "    unzipped  Data_exemple_4.csv  to  .\\Data_exemple_4.csv\n",
      "    unzipped  data_model.txt  to  .\\data_model.txt\n",
      "    unzipped  data_model_to_csv.py  to  .\\data_model_to_csv.py\n",
      "    unzipped  enonce.txt  to  .\\enonce.txt\n",
      "    unzipped  Exemple_arborescent.xml  to  .\\Exemple_arborescent.xml\n",
      "    unzipped "
     ]
    },
    {
     "name": "stdout",
     "output_type": "stream",
     "text": [
      " Flights.csv  to  .\\Flights.csv\n",
      "    unzipped  Incident.csv  to  .\\Incident.csv\n",
      "    unzipped  Motors.csv  to  .\\Motors.csv\n",
      "    unzipped  Motor_models.csv  to  .\\Motor_models.csv\n",
      "    unzipped  Planes.csv  to  .\\Planes.csv\n",
      "    unzipped  Plane_models.csv  to  .\\Plane_models.csv\n"
     ]
    },
    {
     "data": {
      "text/plain": [
       "['.\\\\Cities.csv',\n",
       " '.\\\\Compagnies.csv',\n",
       " '.\\\\Crews.csv',\n",
       " '.\\\\Crews_planes_habilitation.csv',\n",
       " '.\\\\Data_exemple.csv',\n",
       " '.\\\\Data_exemple_2.csv',\n",
       " '.\\\\Data_exemple_3.csv',\n",
       " '.\\\\Data_exemple_4.csv',\n",
       " '.\\\\data_model.txt',\n",
       " '.\\\\data_model_to_csv.py',\n",
       " '.\\\\enonce.txt',\n",
       " '.\\\\Exemple_arborescent.xml',\n",
       " '.\\\\Flights.csv',\n",
       " '.\\\\Incident.csv',\n",
       " '.\\\\Motors.csv',\n",
       " '.\\\\Motor_models.csv',\n",
       " '.\\\\Planes.csv',\n",
       " '.\\\\Plane_models.csv']"
      ]
     },
     "execution_count": 1,
     "metadata": {},
     "output_type": "execute_result"
    }
   ],
   "source": [
    "import pyensae\n",
    "pyensae.download_data(\"tp_2a_5_compagnies.zip\")"
   ]
  },
  {
   "cell_type": "markdown",
   "metadata": {},
   "source": [
    "* [Question 1 : Question préliminaires, taux d'incident](#question1)\n",
    "* [Question 2 : Probabilité d'incident par facteur](#question2)\n",
    "* [Question 3 : Régression linéaire](#question3)\n",
    "* [Question 4 : Iberia VS Lufthansa](#question4)\n",
    "* [Question 5 : Facteurs explicatifs](#question5)\n"
   ]
  },
  {
   "cell_type": "markdown",
   "metadata": {},
   "source": [
    "On travaille sur un modèle de donnée concernant des incidents dans le transport aérien, et on cherche à en déterminer les causes.\n",
    "La prédiction des incidents est un domaine important dans le transport aérien, car on ne possède pas de donnée statistiquement significative sur les accidents (et on ne souhaite pas en obtenir ...).\n",
    "\n",
    "On possède un modèle de donnée avec 10 tables et les champs suivants :\n",
    "\n",
    "    Incident : Flight_id\n",
    "    Flights  : Id ; Plane_id (key in Planes) ; Crew_id (key in Crews) ; Departure_id (key in Cities) ; Arrival_id (key in Cities) ; Date\n",
    "    Crews    : Id ; Captain_age\n",
    "    Crews_planes_habilitation : Crew_id (key in Crew) ; Plane_model_id (key in Plane_models)\n",
    "    Planes       : Id ; Immatriculation ; Plane_model_id (key in Plane_models) ; Motor_id (key in Motors) ; Nb_hours\n",
    "    Plane_models : Id ; Constructor ; Model_name\n",
    "    Motors       : Id ; Motor_model_id (key in Motor_models ) ; Nb_hours\n",
    "    Motor_models : Id ; Name ; Manufacturer\n",
    "    Compagnies   : Id ; Name ; Country\n",
    "    Cities       ; Id ; Name ; Country\n",
    "\n",
    "On possède donc un certain nombre de facteurs explicatifs potentiel pour ces incidents : le modèle du moteur, de l'avion, leur nombre d'heure d'utilisation respectif, l'équipage, l'age du capitaine, les villes de départ, d'arrivée, la compagnie, etc ...\n",
    "\n",
    "Commencer par regarder un peu les données, leur nombre, leur type, etc ..."
   ]
  },
  {
   "cell_type": "code",
   "execution_count": 2,
   "metadata": {
    "collapsed": false
   },
   "outputs": [],
   "source": [
    "import os\n",
    "import pandas\n",
    "df_Incident = pandas.DataFrame.from_csv( 'Incident.csv', sep = ';' )\n",
    "df_Flights  = pandas.DataFrame.from_csv( 'Flights.csv', sep = ';' )\n",
    "df_Crews    = pandas.DataFrame.from_csv( 'Crews.csv', sep = ';' )\n",
    "df_Crews_planes_habilitation = pandas.DataFrame.from_csv( 'Crews_planes_habilitation.csv', sep = ';' )\n",
    "df_Planes       = pandas.DataFrame.from_csv( 'Planes.csv', sep = ';' )\n",
    "df_Plane_models = pandas.DataFrame.from_csv( 'Plane_models.csv', sep = ';' )\n",
    "df_Motors       = pandas.DataFrame.from_csv( 'Motors.csv', sep = ';' )\n",
    "df_Motor_models = pandas.DataFrame.from_csv( 'Motor_models.csv', sep = ';' )\n",
    "df_Compagnies   = pandas.DataFrame.from_csv( 'Compagnies.csv', sep = ';' )\n",
    "df_Cities       = pandas.DataFrame.from_csv( 'Cities.csv', sep = ';' )"
   ]
  },
  {
   "cell_type": "code",
   "execution_count": 3,
   "metadata": {
    "collapsed": false
   },
   "outputs": [
    {
     "data": {
      "text/html": [
       "<div style=\"max-height:1000px;max-width:1500px;overflow:auto;\">\n",
       "<table border=\"1\" class=\"dataframe\">\n",
       "  <thead>\n",
       "    <tr style=\"text-align: right;\">\n",
       "      <th></th>\n",
       "    </tr>\n",
       "    <tr>\n",
       "      <th>Flight_id</th>\n",
       "    </tr>\n",
       "  </thead>\n",
       "  <tbody>\n",
       "    <tr>\n",
       "      <th>2 </th>\n",
       "    </tr>\n",
       "    <tr>\n",
       "      <th>11</th>\n",
       "    </tr>\n",
       "    <tr>\n",
       "      <th>21</th>\n",
       "    </tr>\n",
       "    <tr>\n",
       "      <th>30</th>\n",
       "    </tr>\n",
       "    <tr>\n",
       "      <th>33</th>\n",
       "    </tr>\n",
       "  </tbody>\n",
       "</table>\n",
       "</div>"
      ],
      "text/plain": [
       "Empty DataFrame\n",
       "Columns: []\n",
       "Index: [2, 11, 21, 30, 33]"
      ]
     },
     "execution_count": 3,
     "metadata": {},
     "output_type": "execute_result"
    }
   ],
   "source": [
    "df_Incident.head(5)"
   ]
  },
  {
   "cell_type": "code",
   "execution_count": 9,
   "metadata": {
    "collapsed": false
   },
   "outputs": [
    {
     "data": {
      "text/html": [
       "<div style=\"max-height:1000px;max-width:1500px;overflow:auto;\">\n",
       "<table border=\"1\" class=\"dataframe\">\n",
       "  <thead>\n",
       "    <tr style=\"text-align: right;\">\n",
       "      <th></th>\n",
       "      <th>Plane_id</th>\n",
       "      <th>Crew_id</th>\n",
       "      <th>Departure_id</th>\n",
       "      <th>Arrival_id</th>\n",
       "      <th>Date</th>\n",
       "    </tr>\n",
       "    <tr>\n",
       "      <th>Id</th>\n",
       "      <th></th>\n",
       "      <th></th>\n",
       "      <th></th>\n",
       "      <th></th>\n",
       "      <th></th>\n",
       "    </tr>\n",
       "  </thead>\n",
       "  <tbody>\n",
       "    <tr>\n",
       "      <th>0</th>\n",
       "      <td> 40</td>\n",
       "      <td> 85</td>\n",
       "      <td>  7</td>\n",
       "      <td>  0</td>\n",
       "      <td> datetime.date(2013, 2, 20)</td>\n",
       "    </tr>\n",
       "    <tr>\n",
       "      <th>1</th>\n",
       "      <td> 67</td>\n",
       "      <td>  6</td>\n",
       "      <td> 16</td>\n",
       "      <td>  4</td>\n",
       "      <td>  datetime.date(2013, 1, 9)</td>\n",
       "    </tr>\n",
       "    <tr>\n",
       "      <th>2</th>\n",
       "      <td> 57</td>\n",
       "      <td> 67</td>\n",
       "      <td>  1</td>\n",
       "      <td> 18</td>\n",
       "      <td>  datetime.date(2013, 8, 7)</td>\n",
       "    </tr>\n",
       "    <tr>\n",
       "      <th>3</th>\n",
       "      <td> 41</td>\n",
       "      <td> 69</td>\n",
       "      <td> 16</td>\n",
       "      <td> 14</td>\n",
       "      <td> datetime.date(2013, 1, 10)</td>\n",
       "    </tr>\n",
       "    <tr>\n",
       "      <th>4</th>\n",
       "      <td> 60</td>\n",
       "      <td> 24</td>\n",
       "      <td>  4</td>\n",
       "      <td>  7</td>\n",
       "      <td> datetime.date(2013, 9, 26)</td>\n",
       "    </tr>\n",
       "  </tbody>\n",
       "</table>\n",
       "</div>"
      ],
      "text/plain": [
       "    Plane_id  Crew_id  Departure_id  Arrival_id                        Date\n",
       "Id                                                                         \n",
       "0         40       85             7           0  datetime.date(2013, 2, 20)\n",
       "1         67        6            16           4   datetime.date(2013, 1, 9)\n",
       "2         57       67             1          18   datetime.date(2013, 8, 7)\n",
       "3         41       69            16          14  datetime.date(2013, 1, 10)\n",
       "4         60       24             4           7  datetime.date(2013, 9, 26)"
      ]
     },
     "execution_count": 9,
     "metadata": {},
     "output_type": "execute_result"
    }
   ],
   "source": [
    "df_Flights.head(5)"
   ]
  },
  {
   "cell_type": "code",
   "execution_count": null,
   "metadata": {
    "collapsed": false
   },
   "outputs": [],
   "source": [
    "df_Crews.head(5)"
   ]
  },
  {
   "cell_type": "code",
   "execution_count": null,
   "metadata": {
    "collapsed": false
   },
   "outputs": [],
   "source": [
    "df_Crews_planes_habilitation.head(5)"
   ]
  },
  {
   "cell_type": "code",
   "execution_count": null,
   "metadata": {
    "collapsed": false
   },
   "outputs": [],
   "source": [
    "df_Planes.head(5)"
   ]
  },
  {
   "cell_type": "code",
   "execution_count": null,
   "metadata": {
    "collapsed": false
   },
   "outputs": [],
   "source": [
    "df_Plane_models.head(5)"
   ]
  },
  {
   "cell_type": "code",
   "execution_count": null,
   "metadata": {
    "collapsed": false
   },
   "outputs": [],
   "source": [
    "df_Motors.head(5)"
   ]
  },
  {
   "cell_type": "code",
   "execution_count": 5,
   "metadata": {
    "collapsed": false
   },
   "outputs": [
    {
     "data": {
      "text/html": [
       "<div style=\"max-height:1000px;max-width:1500px;overflow:auto;\">\n",
       "<table border=\"1\" class=\"dataframe\">\n",
       "  <thead>\n",
       "    <tr style=\"text-align: right;\">\n",
       "      <th></th>\n",
       "      <th>Name</th>\n",
       "      <th>Manufacturer</th>\n",
       "    </tr>\n",
       "    <tr>\n",
       "      <th>Id</th>\n",
       "      <th></th>\n",
       "      <th></th>\n",
       "    </tr>\n",
       "  </thead>\n",
       "  <tbody>\n",
       "    <tr>\n",
       "      <th>0</th>\n",
       "      <td>      SNECMA-123</td>\n",
       "      <td>      SNECMA</td>\n",
       "    </tr>\n",
       "    <tr>\n",
       "      <th>1</th>\n",
       "      <td>      SNECMA-246</td>\n",
       "      <td>      SNECMA</td>\n",
       "    </tr>\n",
       "    <tr>\n",
       "      <th>2</th>\n",
       "      <td>          GE-247</td>\n",
       "      <td>          GE</td>\n",
       "    </tr>\n",
       "    <tr>\n",
       "      <th>3</th>\n",
       "      <td>          GE-656</td>\n",
       "      <td>          GE</td>\n",
       "    </tr>\n",
       "    <tr>\n",
       "      <th>4</th>\n",
       "      <td> ROLLS ROYCE-345</td>\n",
       "      <td> ROLLS ROYCE</td>\n",
       "    </tr>\n",
       "  </tbody>\n",
       "</table>\n",
       "</div>"
      ],
      "text/plain": [
       "               Name Manufacturer\n",
       "Id                              \n",
       "0        SNECMA-123       SNECMA\n",
       "1        SNECMA-246       SNECMA\n",
       "2            GE-247           GE\n",
       "3            GE-656           GE\n",
       "4   ROLLS ROYCE-345  ROLLS ROYCE"
      ]
     },
     "execution_count": 5,
     "metadata": {},
     "output_type": "execute_result"
    }
   ],
   "source": [
    "df_Motor_models.head(5)"
   ]
  },
  {
   "cell_type": "code",
   "execution_count": null,
   "metadata": {
    "collapsed": false
   },
   "outputs": [],
   "source": [
    "df_Compagnies.head(5)"
   ]
  },
  {
   "cell_type": "code",
   "execution_count": 4,
   "metadata": {
    "collapsed": false
   },
   "outputs": [
    {
     "data": {
      "text/html": [
       "<div style=\"max-height:1000px;max-width:1500px;overflow:auto;\">\n",
       "<table border=\"1\" class=\"dataframe\">\n",
       "  <thead>\n",
       "    <tr style=\"text-align: right;\">\n",
       "      <th></th>\n",
       "      <th>Name</th>\n",
       "      <th>Country</th>\n",
       "    </tr>\n",
       "    <tr>\n",
       "      <th>Id</th>\n",
       "      <th></th>\n",
       "      <th></th>\n",
       "    </tr>\n",
       "  </thead>\n",
       "  <tbody>\n",
       "    <tr>\n",
       "      <th>0</th>\n",
       "      <td>    Bombay</td>\n",
       "      <td>      Inde</td>\n",
       "    </tr>\n",
       "    <tr>\n",
       "      <th>1</th>\n",
       "      <td>  New York</td>\n",
       "      <td>       USA</td>\n",
       "    </tr>\n",
       "    <tr>\n",
       "      <th>2</th>\n",
       "      <td>     Tokyo</td>\n",
       "      <td>     Japon</td>\n",
       "    </tr>\n",
       "    <tr>\n",
       "      <th>3</th>\n",
       "      <td>     Paris</td>\n",
       "      <td>    France</td>\n",
       "    </tr>\n",
       "    <tr>\n",
       "      <th>4</th>\n",
       "      <td> Francfort</td>\n",
       "      <td> Allemagne</td>\n",
       "    </tr>\n",
       "  </tbody>\n",
       "</table>\n",
       "</div>"
      ],
      "text/plain": [
       "         Name    Country\n",
       "Id                      \n",
       "0      Bombay       Inde\n",
       "1    New York        USA\n",
       "2       Tokyo      Japon\n",
       "3       Paris     France\n",
       "4   Francfort  Allemagne"
      ]
     },
     "execution_count": 4,
     "metadata": {},
     "output_type": "execute_result"
    }
   ],
   "source": [
    "df_Cities.head(5)"
   ]
  },
  {
   "cell_type": "markdown",
   "metadata": {},
   "source": [
    "Bien sûr, toutes les informations ne sont pas dans les tables telles quelles, il faudra faire principalement des jointures et des groupby pour obtenir les informations que l'on souhaite. Pour obtenir une table contenant les vols avec une colonne \"est_incident\", il faut faire :"
   ]
  },
  {
   "cell_type": "code",
   "execution_count": 17,
   "metadata": {
    "collapsed": false
   },
   "outputs": [
    {
     "data": {
      "text/html": [
       "<div style=\"max-height:1000px;max-width:1500px;overflow:auto;\">\n",
       "<table border=\"1\" class=\"dataframe\">\n",
       "  <thead>\n",
       "    <tr style=\"text-align: right;\">\n",
       "      <th></th>\n",
       "      <th>level_0</th>\n",
       "      <th>index_x</th>\n",
       "      <th>Id</th>\n",
       "      <th>Plane_id</th>\n",
       "      <th>Crew_id</th>\n",
       "      <th>Departure_id</th>\n",
       "      <th>Arrival_id</th>\n",
       "      <th>Date</th>\n",
       "      <th>index_y</th>\n",
       "      <th>Flight_id</th>\n",
       "      <th>Is_incident</th>\n",
       "    </tr>\n",
       "  </thead>\n",
       "  <tbody>\n",
       "    <tr>\n",
       "      <th>0</th>\n",
       "      <td> 0</td>\n",
       "      <td> 0</td>\n",
       "      <td> 0</td>\n",
       "      <td> 40</td>\n",
       "      <td> 85</td>\n",
       "      <td>  7</td>\n",
       "      <td>  0</td>\n",
       "      <td> datetime.date(2013, 2, 20)</td>\n",
       "      <td>NaN</td>\n",
       "      <td>NaN</td>\n",
       "      <td> False</td>\n",
       "    </tr>\n",
       "    <tr>\n",
       "      <th>1</th>\n",
       "      <td> 1</td>\n",
       "      <td> 1</td>\n",
       "      <td> 1</td>\n",
       "      <td> 67</td>\n",
       "      <td>  6</td>\n",
       "      <td> 16</td>\n",
       "      <td>  4</td>\n",
       "      <td>  datetime.date(2013, 1, 9)</td>\n",
       "      <td>NaN</td>\n",
       "      <td>NaN</td>\n",
       "      <td> False</td>\n",
       "    </tr>\n",
       "    <tr>\n",
       "      <th>2</th>\n",
       "      <td> 2</td>\n",
       "      <td> 2</td>\n",
       "      <td> 2</td>\n",
       "      <td> 57</td>\n",
       "      <td> 67</td>\n",
       "      <td>  1</td>\n",
       "      <td> 18</td>\n",
       "      <td>  datetime.date(2013, 8, 7)</td>\n",
       "      <td>  0</td>\n",
       "      <td>  2</td>\n",
       "      <td>  True</td>\n",
       "    </tr>\n",
       "    <tr>\n",
       "      <th>3</th>\n",
       "      <td> 3</td>\n",
       "      <td> 3</td>\n",
       "      <td> 3</td>\n",
       "      <td> 41</td>\n",
       "      <td> 69</td>\n",
       "      <td> 16</td>\n",
       "      <td> 14</td>\n",
       "      <td> datetime.date(2013, 1, 10)</td>\n",
       "      <td>NaN</td>\n",
       "      <td>NaN</td>\n",
       "      <td> False</td>\n",
       "    </tr>\n",
       "    <tr>\n",
       "      <th>4</th>\n",
       "      <td> 4</td>\n",
       "      <td> 4</td>\n",
       "      <td> 4</td>\n",
       "      <td> 60</td>\n",
       "      <td> 24</td>\n",
       "      <td>  4</td>\n",
       "      <td>  7</td>\n",
       "      <td> datetime.date(2013, 9, 26)</td>\n",
       "      <td>NaN</td>\n",
       "      <td>NaN</td>\n",
       "      <td> False</td>\n",
       "    </tr>\n",
       "  </tbody>\n",
       "</table>\n",
       "</div>"
      ],
      "text/plain": [
       "   level_0  index_x  Id  Plane_id  Crew_id  Departure_id  Arrival_id  \\\n",
       "0        0        0   0        40       85             7           0   \n",
       "1        1        1   1        67        6            16           4   \n",
       "2        2        2   2        57       67             1          18   \n",
       "3        3        3   3        41       69            16          14   \n",
       "4        4        4   4        60       24             4           7   \n",
       "\n",
       "                         Date  index_y  Flight_id Is_incident  \n",
       "0  datetime.date(2013, 2, 20)      NaN        NaN       False  \n",
       "1   datetime.date(2013, 1, 9)      NaN        NaN       False  \n",
       "2   datetime.date(2013, 8, 7)        0          2        True  \n",
       "3  datetime.date(2013, 1, 10)      NaN        NaN       False  \n",
       "4  datetime.date(2013, 9, 26)      NaN        NaN       False  "
      ]
     },
     "execution_count": 17,
     "metadata": {},
     "output_type": "execute_result"
    }
   ],
   "source": [
    "import numpy as np\n",
    "try:\n",
    "  df_Flights.reset_index( inplace = True )\n",
    "  df_Incident.reset_index( inplace = True )\n",
    "except Exception:\n",
    "  pass\n",
    "  ## On suppose que cela vient du fait que les index ont déjà été remis à zéros\n",
    "df_Flight_Incident = pandas.merge( df_Flights, df_Incident, left_on = \"Id\", right_on = \"Flight_id\", how=\"outer\" )\n",
    "df_Flight_Incident[\"Is_incident\"] = np.isnan( df_Flight_Incident[\"Flight_id\"] ) == False\n",
    "df_Flight_Incident.head(5)"
   ]
  },
  {
   "cell_type": "markdown",
   "metadata": {},
   "source": [
    "On peut aussi faire des statistiques par ville de départ ..."
   ]
  },
  {
   "cell_type": "code",
   "execution_count": 20,
   "metadata": {
    "collapsed": false
   },
   "outputs": [
    {
     "data": {
      "text/plain": [
       "Departure_id\n",
       "0               0.146789\n",
       "1               0.192308\n",
       "2               0.220930\n",
       "3               0.222222\n",
       "4               0.206107\n",
       "5               0.218391\n",
       "6               0.180180\n",
       "7               0.261682\n",
       "8               0.120879\n",
       "9               0.131868\n",
       "10              0.141176\n",
       "11              0.184466\n",
       "12              0.097087\n",
       "13              0.204082\n",
       "14              0.174312\n",
       "15              0.186916\n",
       "16              0.206897\n",
       "17              0.272727\n",
       "18              0.189474\n",
       "19              0.211538\n",
       "Name: Is_incident, dtype: float64"
      ]
     },
     "execution_count": 20,
     "metadata": {},
     "output_type": "execute_result"
    }
   ],
   "source": [
    "df_Flight_Incident.groupby( \"Departure_id\" )[\"Is_incident\"].mean()"
   ]
  },
  {
   "cell_type": "markdown",
   "metadata": {},
   "source": [
    "<h3 id=\"question1\">Question 1 : Question préliminaires, taux d'incident</h3>\n",
    "\n",
    "A vous de jouer. Commencer par calculer le taux d'incident global."
   ]
  },
  {
   "cell_type": "code",
   "execution_count": null,
   "metadata": {
    "collapsed": false
   },
   "outputs": [],
   "source": []
  },
  {
   "cell_type": "markdown",
   "metadata": {},
   "source": [
    "<h3 id=\"question2\">Question 2 : Calcul de taux</h3>\n",
    "  \n",
    "Calculer le taux d'incidents par :  \n",
    "  => Compagnies  \n",
    "  => Destination  \n",
    "  => Equipage  \n",
    "  => Constructeur d'appareil (Boeing, Airbus ou Bombardier)  \n",
    "  => Modèle d'appareil (A320, A380, B737, etc ...)  \n",
    "  => Moteurs  "
   ]
  },
  {
   "cell_type": "code",
   "execution_count": null,
   "metadata": {
    "collapsed": false
   },
   "outputs": [],
   "source": []
  },
  {
   "cell_type": "markdown",
   "metadata": {},
   "source": [
    "<h3 id=\"question3\">Question 3 : Régression linéaire</h3>\n",
    "    \n",
    "Pouvez-vous raisonnablement faire une régression linéaire sur le nombre d'heure de l'appareil ? Du moteur ? Pourquoi ?"
   ]
  },
  {
   "cell_type": "code",
   "execution_count": null,
   "metadata": {
    "collapsed": false
   },
   "outputs": [],
   "source": []
  },
  {
   "cell_type": "markdown",
   "metadata": {},
   "source": [
    "<h3 id=\"question4\">Question 4 : Iberia VS Lufthansa</h3>\n",
    "    \n",
    "Pouvez-vous dire si, toute chose égale par ailleurs, un avion d'Iberia a plus ou moins de chance d'avoir un incident qu'un avion de la Lufthansa ?"
   ]
  },
  {
   "cell_type": "code",
   "execution_count": null,
   "metadata": {
    "collapsed": false
   },
   "outputs": [],
   "source": []
  },
  {
   "cell_type": "markdown",
   "metadata": {},
   "source": [
    "<h3 id=\"question5\">Question 5 : Facteurs explicatifs</h3>\n",
    "    \n",
    "Essayer de déterminer quels sont les facteurs explicatifs. Lesquels vous paraissent statistiquement significatifs ? Y-a-t-il des corrélations indirectes ? "
   ]
  },
  {
   "cell_type": "code",
   "execution_count": null,
   "metadata": {
    "collapsed": false
   },
   "outputs": [],
   "source": []
  }
 ],
 "metadata": {},
 "nbformat": 4,
 "nbformat_minor": 0
}