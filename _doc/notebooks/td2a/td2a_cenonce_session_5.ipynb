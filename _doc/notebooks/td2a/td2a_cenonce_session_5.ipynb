{
 "metadata": {
  "name": "",
  "signature": "sha256:04cfc4572912d7fa4fda501280f817175b11aa6c5c5cdfc16ddc6965cbea127e"
 },
 "nbformat": 3,
 "nbformat_minor": 0,
 "worksheets": [
  {
   "cells": [
    {
     "cell_type": "heading",
     "level": 1,
     "metadata": {},
     "source": [
      "TD 5 : Mod\u00e8les de donn\u00e9es"
     ]
    },
    {
     "cell_type": "code",
     "collapsed": false,
     "input": [
      "import pyensae\n",
      "pyensae.download_data(\"tp_2a_5_compagnies.zip\")"
     ],
     "language": "python",
     "metadata": {},
     "outputs": [],
     "prompt_number": 1
    }
   ],
   "metadata": {}
  }
 ]
}