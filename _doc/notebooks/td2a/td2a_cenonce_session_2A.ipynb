{
 "metadata": {
  "name": "",
  "signature": "sha256:fd79d30305380ee22119b138e3b2bbbc6f9e7cac5d0500429b95cf3ee0cab48e"
 },
 "nbformat": 3,
 "nbformat_minor": 0,
 "worksheets": [
  {
   "cells": [
    {
     "cell_type": "heading",
     "level": 1,
     "metadata": {},
     "source": [
      "TD 2A : Calcul Matriciel, Optimisation"
     ]
    },
    {
     "cell_type": "markdown",
     "metadata": {},
     "source": [
      "numpy/scipy/cvxopt (exemple avec maximum de vraisemblance)\n",
      "\n",
      "* Matrix, ndarray\n",
      "* Op\u00e9rations sur les objets\n",
      "* G\u00e9n\u00e9ration de nombres al\u00e9atoires\n",
      "* Alg\u00e8bre lin\u00e9aire (vecteur propres)\n",
      "* Optimisation\n",
      "* Optimisation quadratique (sous contrainte) \n"
     ]
    },
    {
     "cell_type": "code",
     "collapsed": false,
     "input": [],
     "language": "python",
     "metadata": {},
     "outputs": []
    }
   ],
   "metadata": {}
  }
 ]
}