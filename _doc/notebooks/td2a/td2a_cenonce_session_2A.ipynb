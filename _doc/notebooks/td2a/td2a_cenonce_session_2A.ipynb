{
 "metadata": {
  "name": "",
  "signature": "sha256:3423a6e831207bbaf76617ab309e018a82b22d484751956d6579cfffd8a401f5"
 },
 "nbformat": 3,
 "nbformat_minor": 0,
 "worksheets": [
  {
   "cells": [
    {
     "cell_type": "heading",
     "level": 1,
     "metadata": {},
     "source": [
      "TD 2A : Calcul Matriciel, Optimisation"
     ]
    },
    {
     "cell_type": "markdown",
     "metadata": {},
     "source": [
      "numpy/scipy/cvxopt (exemple avec maximum de vraisemblance)\n",
      "\n",
      "* Matrix, ndarray\n",
      "* Op\u00e9rations sur les objets\n",
      "* G\u00e9n\u00e9ration de nombres al\u00e9atoires\n",
      "* Alg\u00e8bre lin\u00e9aire (vecteur propres)\n",
      "* Optimisation\n",
      "* Optimisation quadratique (sous contrainte) \n"
     ]
    },
    {
     "cell_type": "markdown",
     "metadata": {},
     "source": [
      "La convention d'import classique est la suivante:"
     ]
    },
    {
     "cell_type": "code",
     "collapsed": false,
     "input": [
      "import numpy as np"
     ],
     "language": "python",
     "metadata": {},
     "outputs": [],
     "prompt_number": 15
    },
    {
     "cell_type": "markdown",
     "metadata": {},
     "source": [
      "On part d'une liste python contenant des entiers. On peut cr\u00e9er un array numpy \u00e0 partir de cette liste. \n",
      "Cet array poss\u00e8de des attributs indiquant le data type, le nombre de dimensions de l'array, etc..."
     ]
    },
    {
     "cell_type": "code",
     "collapsed": false,
     "input": [
      "l = [1, 42, 18 ]\n",
      "a = np.array(l)\n",
      "print(a)\n",
      "print(a.dtype)\n",
      "print(a.ndim)\n",
      "print(a.shape)\n",
      "print(a.size)\n",
      "a\n"
     ],
     "language": "python",
     "metadata": {},
     "outputs": [
      {
       "output_type": "stream",
       "stream": "stdout",
       "text": [
        "[ 1 42 18]\n",
        "int32\n",
        "1\n",
        "(3,)\n",
        "3\n"
       ]
      },
      {
       "metadata": {},
       "output_type": "pyout",
       "prompt_number": 2,
       "text": [
        "array([ 1, 42, 18])"
       ]
      }
     ],
     "prompt_number": 2
    },
    {
     "cell_type": "markdown",
     "metadata": {},
     "source": [
      "On peut indiquer explicitement le dtype lors de la cr\u00e9ation de l'array. Sinon, Numpy s\u00e9lectionne automatiquement le dtype.\n",
      "Numpy ajoute un grand nombre de dtype \u00e0 ceux de Python: pour en savoir plus http://docs.scipy.org/doc/numpy/user/basics.types.html "
     ]
    },
    {
     "cell_type": "code",
     "collapsed": false,
     "input": [
      "b = np.array(l, dtype=float)\n",
      "print(b)\n",
      "print(b.dtype)"
     ],
     "language": "python",
     "metadata": {},
     "outputs": [
      {
       "output_type": "stream",
       "stream": "stdout",
       "text": [
        "[  1.  42.  18.]\n",
        "float64\n"
       ]
      }
     ],
     "prompt_number": 12
    },
    {
     "cell_type": "code",
     "collapsed": false,
     "input": [
      "l[0] = 1.0\n",
      "bb = np.array(l)\n",
      "print(bb)\n",
      "print(bb.dtype)"
     ],
     "language": "python",
     "metadata": {},
     "outputs": [
      {
       "output_type": "stream",
       "stream": "stdout",
       "text": [
        "[  1.  42.  18.]\n",
        "float64\n"
       ]
      }
     ],
     "prompt_number": 13
    },
    {
     "cell_type": "markdown",
     "metadata": {},
     "source": [
      "Assigner un float dans un array de type int va caster le float en int, et ne modifie pas le dtype de l'array."
     ]
    },
    {
     "cell_type": "code",
     "collapsed": false,
     "input": [
      "a[0] = 2.5 \n",
      "a"
     ],
     "language": "python",
     "metadata": {},
     "outputs": [
      {
       "metadata": {},
       "output_type": "pyout",
       "prompt_number": 14,
       "text": [
        "array([ 2, 42, 18])"
       ]
      }
     ],
     "prompt_number": 14
    },
    {
     "cell_type": "markdown",
     "metadata": {},
     "source": [
      "On peut forcer le casting dans un autre type avec astype"
     ]
    },
    {
     "cell_type": "code",
     "collapsed": false,
     "input": [
      "aa = a.astype(float)\n",
      "aa[0] = 2.5\n",
      "aa"
     ],
     "language": "python",
     "metadata": {},
     "outputs": [
      {
       "metadata": {},
       "output_type": "pyout",
       "prompt_number": 9,
       "text": [
        "array([  2.5,  42. ,  18. ])"
       ]
      }
     ],
     "prompt_number": 9
    },
    {
     "cell_type": "markdown",
     "metadata": {},
     "source": [
      "A partir d'une liste de listes, on obtient un array bi-dimmensionnel.\n",
      "\n",
      "On peut le transposer ou encore l'aplatir en un array 1d"
     ]
    },
    {
     "cell_type": "code",
     "collapsed": false,
     "input": [
      "c = np.array([range(5), range(5,10), range(5)])\n",
      "print(c)\n",
      "print(\"ndim:{}\".format(c.ndim))\n",
      "print(\"shape:{}\".format(c.shape))\n",
      "print(c.transpose()) #same as c.T\n",
      "print(\"shape transposed:{}\".format(c.T.shape))\n",
      "print(c.flatten())\n",
      "print(\"ndim flattened:{}\".format(c.flatten().ndim))"
     ],
     "language": "python",
     "metadata": {},
     "outputs": [
      {
       "output_type": "stream",
       "stream": "stdout",
       "text": [
        "[[0 1 2 3 4]\n",
        " [5 6 7 8 9]\n",
        " [0 1 2 3 4]]\n",
        "ndim:2\n",
        "shape:(3, 5)\n",
        "[[0 5 0]\n",
        " [1 6 1]\n",
        " [2 7 2]\n",
        " [3 8 3]\n",
        " [4 9 4]]\n",
        "shape transposed:(5, 3)\n",
        "[0 1 2 3 4 5 6 7 8 9 0 1 2 3 4]\n",
        "ndim flattened:1\n"
       ]
      }
     ],
     "prompt_number": 21
    },
    {
     "cell_type": "heading",
     "level": 2,
     "metadata": {},
     "source": [
      "Indexation, Slicing, Views and Reshaping"
     ]
    },
    {
     "cell_type": "code",
     "collapsed": false,
     "input": [
      "print(c)"
     ],
     "language": "python",
     "metadata": {},
     "outputs": [
      {
       "output_type": "stream",
       "stream": "stdout",
       "text": [
        "[[0 1 2 3 4]\n",
        " [5 6 7 8 9]\n",
        " [0 1 2 3 4]]\n"
       ]
      }
     ],
     "prompt_number": 24
    },
    {
     "cell_type": "markdown",
     "metadata": {},
     "source": [
      "L'indexation des array multidimensionnels fonctionne avec des tuples.\n",
      "\n",
      "La syntaxe ':' permet d'obtenir tous les \u00e9l\u00e9ments de la dimension.\n",
      "\n"
     ]
    },
    {
     "cell_type": "code",
     "collapsed": false,
     "input": [
      "print(c[1,3])\n",
      "print(c[1,:3])\n",
      "print(c[:,4])"
     ],
     "language": "python",
     "metadata": {},
     "outputs": [
      {
       "output_type": "stream",
       "stream": "stdout",
       "text": [
        "8\n",
        "[5 6 7]\n",
        "[4 9 4]\n"
       ]
      }
     ],
     "prompt_number": 25
    },
    {
     "cell_type": "markdown",
     "metadata": {},
     "source": [
      "Si on utilise pas un couple sur un array 2d on r\u00e9cup\u00e8re un array 1d"
     ]
    },
    {
     "cell_type": "code",
     "collapsed": false,
     "input": [
      "print(c[1], c[1].shape)\n",
      "print(c[1][:3])"
     ],
     "language": "python",
     "metadata": {},
     "outputs": [
      {
       "output_type": "stream",
       "stream": "stdout",
       "text": [
        "[5 6 7 8 9] (5,)\n",
        "[5 6 7]\n"
       ]
      }
     ],
     "prompt_number": 28
    },
    {
     "cell_type": "markdown",
     "metadata": {},
     "source": [
      "On peut aussi utiliser l'indexation par un array (ou une liste python) de bool\u00e9ens ou d'entiers (un mask). Cela s'appelle le fancy indexing."
     ]
    },
    {
     "cell_type": "code",
     "collapsed": false,
     "input": [
      "ar = np.arange(1,10) #arange est l'equivalent de range mais retourne un numpy array\n",
      "print('ar = ',ar)\n",
      "idx = np.array([1, 4, 3, 2, 1, 7, 3])\n",
      "print('idx = ',idx)\n",
      "print(\"ar[idx] =\", ar[idx])\n",
      "print('######')\n",
      "idx_bool = np.ones(ar.shape, dtype=bool)\n",
      "idx_bool[idx] = False\n",
      "print('idx_bool = ', idx_bool)\n",
      "print('ar[idx_bool] = ', ar[idx_bool])\n",
      "print('######', 'Que se passe-t-il dans chacun des cas suivants?', '######' )\n",
      "print('ar[[True, True, False, True]] = ', ar[[True, True, False, True]])\n",
      "print('ar[np.array([True, True, False, True])] = ', ar[np.array([True, True, False, True])])"
     ],
     "language": "python",
     "metadata": {},
     "outputs": [
      {
       "output_type": "stream",
       "stream": "stdout",
       "text": [
        "ar =  [1 2 3 4 5 6 7 8 9]\n",
        "idx =  [1 4 3 2 1 7 3]\n",
        "ar[idx] = [2 5 4 3 2 8 4]\n",
        "######\n",
        "idx_bool =  [ True False False False False  True  True False  True]\n",
        "ar[idx_bool] =  [1 6 7 9]\n",
        "###### Que se passe-t-il dans chacun des cas suivants? ######\n",
        "ar[[True, True, False, True]] =  [2 2 1 2]\n",
        "ar[np.array([True, True, False, True])] =  [1 2 4]\n"
       ]
      }
     ],
     "prompt_number": 36
    },
    {
     "cell_type": "markdown",
     "metadata": {},
     "source": [
      "Pourquoi parle-t-on de fancy indexing? Essayez d'indexer des listes python de la m\u00eame mani\u00e8re..."
     ]
    },
    {
     "cell_type": "code",
     "collapsed": false,
     "input": [
      "list_python = range(10)\n",
      "list_python[[True, True, False, True]]"
     ],
     "language": "python",
     "metadata": {},
     "outputs": [
      {
       "ename": "TypeError",
       "evalue": "range indices must be integers or slices, not list",
       "output_type": "pyerr",
       "traceback": [
        "\u001b[1;31m---------------------------------------------------------------------------\u001b[0m\n\u001b[1;31mTypeError\u001b[0m                                 Traceback (most recent call last)",
        "\u001b[1;32m<ipython-input-37-97fe991b3ae5>\u001b[0m in \u001b[0;36m<module>\u001b[1;34m()\u001b[0m\n\u001b[0;32m      1\u001b[0m \u001b[0mlist_python\u001b[0m \u001b[1;33m=\u001b[0m \u001b[0mrange\u001b[0m\u001b[1;33m(\u001b[0m\u001b[1;36m10\u001b[0m\u001b[1;33m)\u001b[0m\u001b[1;33m\u001b[0m\u001b[0m\n\u001b[1;32m----> 2\u001b[1;33m \u001b[0mlist_python\u001b[0m\u001b[1;33m[\u001b[0m\u001b[1;33m[\u001b[0m\u001b[1;32mTrue\u001b[0m\u001b[1;33m,\u001b[0m \u001b[1;32mTrue\u001b[0m\u001b[1;33m,\u001b[0m \u001b[1;32mFalse\u001b[0m\u001b[1;33m,\u001b[0m \u001b[1;32mTrue\u001b[0m\u001b[1;33m]\u001b[0m\u001b[1;33m]\u001b[0m\u001b[1;33m\u001b[0m\u001b[0m\n\u001b[0m",
        "\u001b[1;31mTypeError\u001b[0m: range indices must be integers or slices, not list"
       ]
      }
     ],
     "prompt_number": 37
    },
    {
     "cell_type": "code",
     "collapsed": false,
     "input": [
      "list_python[[2, 3, 2, 7]]"
     ],
     "language": "python",
     "metadata": {},
     "outputs": [
      {
       "ename": "TypeError",
       "evalue": "range indices must be integers or slices, not list",
       "output_type": "pyerr",
       "traceback": [
        "\u001b[1;31m---------------------------------------------------------------------------\u001b[0m\n\u001b[1;31mTypeError\u001b[0m                                 Traceback (most recent call last)",
        "\u001b[1;32m<ipython-input-38-1e55b4846c4e>\u001b[0m in \u001b[0;36m<module>\u001b[1;34m()\u001b[0m\n\u001b[1;32m----> 1\u001b[1;33m \u001b[0mlist_python\u001b[0m\u001b[1;33m[\u001b[0m\u001b[1;33m[\u001b[0m\u001b[1;36m2\u001b[0m\u001b[1;33m,\u001b[0m \u001b[1;36m3\u001b[0m\u001b[1;33m,\u001b[0m \u001b[1;36m2\u001b[0m\u001b[1;33m,\u001b[0m \u001b[1;36m7\u001b[0m\u001b[1;33m]\u001b[0m\u001b[1;33m]\u001b[0m\u001b[1;33m\u001b[0m\u001b[0m\n\u001b[0m",
        "\u001b[1;31mTypeError\u001b[0m: range indices must be integers or slices, not list"
       ]
      }
     ],
     "prompt_number": 38
    },
    {
     "cell_type": "markdown",
     "metadata": {},
     "source": [
      "En plus de renvoyer directement un array, la fonction arange permet aussi d'utiliser un step flottant. (Essayer avec le range de python pour voir)"
     ]
    },
    {
     "cell_type": "code",
     "collapsed": false,
     "input": [
      "d = np.arange(1, 6, 0.5)\n",
      "d"
     ],
     "language": "python",
     "metadata": {},
     "outputs": [
      {
       "metadata": {},
       "output_type": "pyout",
       "prompt_number": 39,
       "text": [
        "array([ 1. ,  1.5,  2. ,  2.5,  3. ,  3.5,  4. ,  4.5,  5. ,  5.5])"
       ]
      }
     ],
     "prompt_number": 39
    },
    {
     "cell_type": "markdown",
     "metadata": {},
     "source": [
      "Un point important est que l'on ne recopie pas un array lorsqu'on effectue une assignation ou un slicing d'un array.\n",
      "On travaille dans ce cas avec une View sur l'array d'origine (shallow copy). Toute modification sur la View, affecte l'array d'origine.\n",
      "\n",
      "Dans l'exemple qui suit, $e$ est une view sur $d$. Lorsqu'on modifie $e$, $d$ aussi est modifi\u00e9. (Remarquez au passage que numpy fournit quelques constantes bien pratiques....)"
     ]
    },
    {
     "cell_type": "code",
     "collapsed": false,
     "input": [
      "e = d\n",
      "e[[0,2, 4]] = - np.pi\n",
      "e"
     ],
     "language": "python",
     "metadata": {},
     "outputs": [
      {
       "metadata": {},
       "output_type": "pyout",
       "prompt_number": 54,
       "text": [
        "array([-3.14159265,  1.5       , -3.14159265,  2.5       , -3.14159265,\n",
        "        3.5       ,  4.        ,  4.5       ,  5.        ,  5.5       ])"
       ]
      }
     ],
     "prompt_number": 54
    },
    {
     "cell_type": "code",
     "collapsed": false,
     "input": [
      "d"
     ],
     "language": "python",
     "metadata": {},
     "outputs": [
      {
       "metadata": {},
       "output_type": "pyout",
       "prompt_number": 55,
       "text": [
        "array([-3.14159265,  1.5       , -3.14159265,  2.5       , -3.14159265,\n",
        "        3.5       ,  4.        ,  4.5       ,  5.        ,  5.5       ])"
       ]
      }
     ],
     "prompt_number": 55
    },
    {
     "cell_type": "markdown",
     "metadata": {},
     "source": [
      "Si on ne veut pas modifier $d$ indirectement, il faut travailler sur une copie de $d$ (deep copy)."
     ]
    },
    {
     "cell_type": "code",
     "collapsed": false,
     "input": [
      "d = np.linspace(1,5.5,10) #Question subsidiaire: en quoi est-ce diff\u00e9rent de np.arange avec un step float?\n",
      "f = d.copy()\n",
      "f[:4] = -np.e #il s'agit du nombre d'euler, pas de l'array e ;)\n",
      "print(f)\n",
      "print(d)"
     ],
     "language": "python",
     "metadata": {},
     "outputs": [
      {
       "output_type": "stream",
       "stream": "stdout",
       "text": [
        "[-2.71828183 -2.71828183 -2.71828183 -2.71828183  3.          3.5         4.\n",
        "  4.5         5.          5.5       ]\n",
        "[ 1.   1.5  2.   2.5  3.   3.5  4.   4.5  5.   5.5]\n"
       ]
      }
     ],
     "prompt_number": 58
    },
    {
     "cell_type": "markdown",
     "metadata": {},
     "source": [
      "Ce point est important car source classique d'erreurs silencieuses: les erreurs les plus vicieuses car l'output sera faux mais python ne ralera pas...\n",
      "\n",
      "Il faut un peu de temps pour s'habituer mais on finit par savoir de mani\u00e8re naturelle quand on travaille sur une view, quand on a besoin de faire une copie explicitement, etc... En tout cas, v\u00e9rifiez vos sorties, faites des tests de coh\u00e9rence, cela ne nuit jamais.\n",
      "\n",
      "Retenez par exemple que le slicing vous renvoie une view sur l'array, alors que le fancy indexing effectue une copie.\n",
      "\n",
      "(Au passage, remarquez le NaN (=NotaNumber) d\u00e9j\u00e0 introduit lors de la s\u00e9ance 1 sur pandas qui est un module bas\u00e9 sur numpy)"
     ]
    },
    {
     "cell_type": "code",
     "collapsed": false,
     "input": [
      "print('d = ',d)\n",
      "slice_of_d = d[2:5]\n",
      "print('slice_of_d = ', slice_of_d)\n",
      "slice_of_d[0] = np.nan\n",
      "print('d = ', d)\n",
      "mask = np.array([2, 3, 4])\n",
      "fancy_indexed_subarray = d[mask]\n",
      "print('fancy_indexed_subarray = ', fancy_indexed_subarray)\n",
      "fancy_indexed_subarray[0] = -2\n",
      "print('d = ', d)\n"
     ],
     "language": "python",
     "metadata": {},
     "outputs": [
      {
       "output_type": "stream",
       "stream": "stdout",
       "text": [
        "d =  [ 1.   1.5 -1.   2.5  3.   3.5  4.   4.5  5.   5.5]\n",
        "slice_of_d =  [-1.   2.5  3. ]\n",
        "d =  [ 1.   1.5  nan  2.5  3.   3.5  4.   4.5  5.   5.5]\n",
        "fancy_indexed_subarray =  [ nan  2.5  3. ]\n",
        "d =  [ 1.   1.5  nan  2.5  3.   3.5  4.   4.5  5.   5.5]\n"
       ]
      }
     ],
     "prompt_number": 67
    },
    {
     "cell_type": "heading",
     "level": 3,
     "metadata": {},
     "source": [
      "Manipulation de shape"
     ]
    },
    {
     "cell_type": "markdown",
     "metadata": {},
     "source": [
      "La m\u00e9thode reshape permet de changer la forme de l'array. Il existe de nombreuses manipulations possibles: r\u00e9f\u00e9rez vous \u00e0 http://docs.scipy.org/doc/numpy/reference/routines.array-manipulation.html"
     ]
    },
    {
     "cell_type": "code",
     "collapsed": false,
     "input": [
      "g = np.arange(12).reshape((4,3))\n",
      "g"
     ],
     "language": "python",
     "metadata": {},
     "outputs": [
      {
       "metadata": {},
       "output_type": "pyout",
       "prompt_number": 43,
       "text": [
        "array([[ 0,  1,  2],\n",
        "       [ 3,  4,  5],\n",
        "       [ 6,  7,  8],\n",
        "       [ 9, 10, 11]])"
       ]
      }
     ],
     "prompt_number": 43
    },
    {
     "cell_type": "code",
     "collapsed": false,
     "input": [
      "g = g.reshape((2,-1))\n",
      "g"
     ],
     "language": "python",
     "metadata": {},
     "outputs": [
      {
       "metadata": {},
       "output_type": "pyout",
       "prompt_number": 44,
       "text": [
        "array([[ 0,  1,  2,  3,  4,  5],\n",
        "       [ 6,  7,  8,  9, 10, 11]])"
       ]
      }
     ],
     "prompt_number": 44
    },
    {
     "cell_type": "code",
     "collapsed": false,
     "input": [
      "np.zeros_like(g)"
     ],
     "language": "python",
     "metadata": {},
     "outputs": [
      {
       "metadata": {},
       "output_type": "pyout",
       "prompt_number": 45,
       "text": [
        "array([[0, 0, 0, 0, 0, 0],\n",
        "       [0, 0, 0, 0, 0, 0]])"
       ]
      }
     ],
     "prompt_number": 45
    },
    {
     "cell_type": "code",
     "collapsed": false,
     "input": [
      "np.ones_like(g)"
     ],
     "language": "python",
     "metadata": {},
     "outputs": [
      {
       "metadata": {},
       "output_type": "pyout",
       "prompt_number": 46,
       "text": [
        "array([[1, 1, 1, 1, 1, 1],\n",
        "       [1, 1, 1, 1, 1, 1]])"
       ]
      }
     ],
     "prompt_number": 46
    },
    {
     "cell_type": "code",
     "collapsed": false,
     "input": [
      "np.concatenate((g, np.zeros_like(g))) #Attention \u00e0 la syntaxe: le type d'entr\u00e9e est un couple!"
     ],
     "language": "python",
     "metadata": {},
     "outputs": [
      {
       "metadata": {},
       "output_type": "pyout",
       "prompt_number": 47,
       "text": [
        "array([[ 0,  1,  2,  3,  4,  5],\n",
        "       [ 6,  7,  8,  9, 10, 11],\n",
        "       [ 0,  0,  0,  0,  0,  0],\n",
        "       [ 0,  0,  0,  0,  0,  0]])"
       ]
      }
     ],
     "prompt_number": 47
    },
    {
     "cell_type": "code",
     "collapsed": false,
     "input": [
      "np.concatenate((g, np.ones_like(g)), axis=1)"
     ],
     "language": "python",
     "metadata": {},
     "outputs": [
      {
       "metadata": {},
       "output_type": "pyout",
       "prompt_number": 48,
       "text": [
        "array([[ 0,  1,  2,  3,  4,  5,  1,  1,  1,  1,  1,  1],\n",
        "       [ 6,  7,  8,  9, 10, 11,  1,  1,  1,  1,  1,  1]])"
       ]
      }
     ],
     "prompt_number": 48
    },
    {
     "cell_type": "code",
     "collapsed": false,
     "input": [
      "np.hstack((g, g))"
     ],
     "language": "python",
     "metadata": {},
     "outputs": [
      {
       "metadata": {},
       "output_type": "pyout",
       "prompt_number": 51,
       "text": [
        "array([[ 0,  1,  2,  3,  4,  5,  0,  1,  2,  3,  4,  5],\n",
        "       [ 6,  7,  8,  9, 10, 11,  6,  7,  8,  9, 10, 11]])"
       ]
      }
     ],
     "prompt_number": 51
    },
    {
     "cell_type": "code",
     "collapsed": false,
     "input": [
      "np.vstack((g,g))"
     ],
     "language": "python",
     "metadata": {},
     "outputs": [
      {
       "metadata": {},
       "output_type": "pyout",
       "prompt_number": 52,
       "text": [
        "array([[ 0,  1,  2,  3,  4,  5],\n",
        "       [ 6,  7,  8,  9, 10, 11],\n",
        "       [ 0,  1,  2,  3,  4,  5],\n",
        "       [ 6,  7,  8,  9, 10, 11]])"
       ]
      }
     ],
     "prompt_number": 52
    },
    {
     "cell_type": "heading",
     "level": 2,
     "metadata": {},
     "source": [
      "Operations sur les arrays"
     ]
    },
    {
     "cell_type": "markdown",
     "metadata": {},
     "source": [
      "Il existe un tr\u00e8s grand nombre de routines pour manipuler les arrays numpy: http://docs.scipy.org/doc/numpy/reference/routines.html\n",
      "Vous trouverez sans doute utiles les pages suivantes:\n",
      "\n",
      "http://docs.scipy.org/doc/numpy/reference/routines.statistics.html\n",
      "\n",
      "http://docs.scipy.org/doc/numpy/reference/routines.math.html\n",
      "\n"
     ]
    },
    {
     "cell_type": "code",
     "collapsed": false,
     "input": [
      "a = np.ones((3,2))\n",
      "b = np.arange(6).reshape(a.shape)\n",
      "print(a)\n",
      "b"
     ],
     "language": "python",
     "metadata": {},
     "outputs": [
      {
       "output_type": "stream",
       "stream": "stdout",
       "text": [
        "[[ 1.  1.]\n",
        " [ 1.  1.]\n",
        " [ 1.  1.]]\n"
       ]
      },
      {
       "metadata": {},
       "output_type": "pyout",
       "prompt_number": 75,
       "text": [
        "array([[0, 1],\n",
        "       [2, 3],\n",
        "       [4, 5]])"
       ]
      }
     ],
     "prompt_number": 75
    },
    {
     "cell_type": "markdown",
     "metadata": {},
     "source": [
      "Les op\u00e9rations arithm\u00e9tiques avec les scalaires, ou entre arrays s'effectuent \u00e9l\u00e9ment par \u00e9l\u00e9ment.\n",
      "Lorsque le dtype n'est pas le m\u00eame (b contient des int), numpy adopte le type le plus \"grand\" (au sens de l'inclusion).\n"
     ]
    },
    {
     "cell_type": "code",
     "collapsed": false,
     "input": [
      "print( (a + b)**2 )\n",
      "print( np.abs( 3*a - b ) )\n",
      "f = lambda x: np.exp(x-1)\n",
      "print( f(b) )"
     ],
     "language": "python",
     "metadata": {},
     "outputs": [
      {
       "output_type": "stream",
       "stream": "stdout",
       "text": [
        "[[  1.   4.]\n",
        " [  9.  16.]\n",
        " [ 25.  36.]]\n",
        "[[ 3.  2.]\n",
        " [ 1.  0.]\n",
        " [ 1.  2.]]\n",
        "[[  0.36787944   1.        ]\n",
        " [  2.71828183   7.3890561 ]\n",
        " [ 20.08553692  54.59815003]]\n"
       ]
      }
     ],
     "prompt_number": 74
    },
    {
     "cell_type": "markdown",
     "metadata": {},
     "source": [
      "Remarquez que la division par z\u00e9ro ne provoque pas d'erreur mais juste un warning"
     ]
    },
    {
     "cell_type": "code",
     "collapsed": false,
     "input": [
      "1/b"
     ],
     "language": "python",
     "metadata": {},
     "outputs": [
      {
       "output_type": "stream",
       "stream": "stderr",
       "text": [
        "-c:1: RuntimeWarning: divide by zero encountered in true_divide\n"
       ]
      },
      {
       "metadata": {},
       "output_type": "pyout",
       "prompt_number": 70,
       "text": [
        "array([[        inf,  1.        ],\n",
        "       [ 0.5       ,  0.33333333],\n",
        "       [ 0.25      ,  0.2       ]])"
       ]
      }
     ],
     "prompt_number": 70
    },
    {
     "cell_type": "heading",
     "level": 3,
     "metadata": {},
     "source": [
      "Broadcasting"
     ]
    },
    {
     "cell_type": "markdown",
     "metadata": {},
     "source": [
      "Que se passe-t-il si les dimensions sont differentes?"
     ]
    },
    {
     "cell_type": "code",
     "collapsed": false,
     "input": [
      "c = np.ones(6)\n",
      "c"
     ],
     "language": "python",
     "metadata": {},
     "outputs": [
      {
       "metadata": {},
       "output_type": "pyout",
       "prompt_number": 77,
       "text": [
        "array([ 1.,  1.,  1.,  1.,  1.,  1.])"
       ]
      }
     ],
     "prompt_number": 77
    },
    {
     "cell_type": "code",
     "collapsed": false,
     "input": [
      "b+c"
     ],
     "language": "python",
     "metadata": {},
     "outputs": [
      {
       "ename": "ValueError",
       "evalue": "operands could not be broadcast together with shapes (3,2) (6,) ",
       "output_type": "pyerr",
       "traceback": [
        "\u001b[1;31m---------------------------------------------------------------------------\u001b[0m\n\u001b[1;31mValueError\u001b[0m                                Traceback (most recent call last)",
        "\u001b[1;32m<ipython-input-78-9533ace22465>\u001b[0m in \u001b[0;36m<module>\u001b[1;34m()\u001b[0m\n\u001b[1;32m----> 1\u001b[1;33m \u001b[0mb\u001b[0m\u001b[1;33m+\u001b[0m\u001b[0mc\u001b[0m\u001b[1;33m\u001b[0m\u001b[0m\n\u001b[0m",
        "\u001b[1;31mValueError\u001b[0m: operands could not be broadcast together with shapes (3,2) (6,) "
       ]
      }
     ],
     "prompt_number": 78
    },
    {
     "cell_type": "code",
     "collapsed": false,
     "input": [
      "c = np.arange(3).reshape((3,1))\n",
      "print(b,c, sep='\\n')\n",
      "b+c"
     ],
     "language": "python",
     "metadata": {},
     "outputs": [
      {
       "output_type": "stream",
       "stream": "stdout",
       "text": [
        "[[0 1]\n",
        " [2 3]\n",
        " [4 5]]\n",
        "[[0]\n",
        " [1]\n",
        " [2]]\n"
       ]
      },
      {
       "metadata": {},
       "output_type": "pyout",
       "prompt_number": 79,
       "text": [
        "array([[0, 1],\n",
        "       [3, 4],\n",
        "       [6, 7]])"
       ]
      }
     ],
     "prompt_number": 79
    },
    {
     "cell_type": "markdown",
     "metadata": {},
     "source": [
      "L'op\u00e9ration pr\u00e9c\u00e9dente fonctionne car numpy effectue ce qu'on appelle un broadcasting de c: une dimension etant commune, tout se passe comme si on dupliquait c sur la dimension non-partag\u00e9e avec b. Vous trouverez une explication visuelle simple ici: http://www.tp.umu.se/~nylen/pylect/intro/numpy/numpy.html#broadcasting"
     ]
    },
    {
     "cell_type": "code",
     "collapsed": false,
     "input": [
      "a = np.zeros((3,3))\n",
      "a[:,0] = -1\n",
      "b = np.array(range(3))\n",
      "print(a + b)"
     ],
     "language": "python",
     "metadata": {},
     "outputs": [
      {
       "output_type": "stream",
       "stream": "stdout",
       "text": [
        "[[-1.  1.  2.]\n",
        " [-1.  1.  2.]\n",
        " [-1.  1.  2.]]\n",
        "[[-1.  1.  2.]\n",
        " [-1.  1.  2.]\n",
        " [-1.  1.  2.]]\n",
        "[[-1.  0.  0.]\n",
        " [ 0.  1.  1.]\n",
        " [ 1.  2.  2.]]\n"
       ]
      }
     ],
     "prompt_number": 80
    },
    {
     "cell_type": "markdown",
     "metadata": {},
     "source": [
      "\n",
      "Par contre, il peut parfois \u00eatre utile de pr\u00e9ciser la dimension sur laquelle on souhaite broadcaster, on ajoute alors explicitement une dimension:"
     ]
    },
    {
     "cell_type": "code",
     "collapsed": false,
     "input": [
      "print(b.shape)\n",
      "print(b[:,np.newaxis].shape) \n",
      "print(b[np.newaxis,:].shape)"
     ],
     "language": "python",
     "metadata": {},
     "outputs": [
      {
       "output_type": "stream",
       "stream": "stdout",
       "text": [
        "(3,)\n",
        "(3, 1)\n",
        "(1, 3)\n"
       ]
      }
     ],
     "prompt_number": 81
    },
    {
     "cell_type": "code",
     "collapsed": false,
     "input": [
      "print( a + b[np.newaxis,:] )\n",
      "print( a + b[:,np.newaxis] )\n",
      "print(b[:,np.newaxis]+b[np.newaxis,:])\n",
      "print(b + b)"
     ],
     "language": "python",
     "metadata": {},
     "outputs": [
      {
       "output_type": "stream",
       "stream": "stdout",
       "text": [
        "[[-1.  1.  2.]\n",
        " [-1.  1.  2.]\n",
        " [-1.  1.  2.]]\n",
        "[[-1.  0.  0.]\n",
        " [ 0.  1.  1.]\n",
        " [ 1.  2.  2.]]\n",
        "[[0 1 2]\n",
        " [1 2 3]\n",
        " [2 3 4]]\n",
        "[0 2 4]\n"
       ]
      }
     ],
     "prompt_number": 87
    },
    {
     "cell_type": "heading",
     "level": 3,
     "metadata": {},
     "source": [
      "R\u00e9ductions"
     ]
    },
    {
     "cell_type": "code",
     "collapsed": false,
     "input": [
      "c = np.arange(10).reshape((2,-1)) #Note: -1 is a joker! \n",
      "print(c)\n",
      "print(c.sum())\n",
      "print(c.sum(axis=0))\n",
      "print(np.sum(c, axis=1))"
     ],
     "language": "python",
     "metadata": {},
     "outputs": [
      {
       "output_type": "stream",
       "stream": "stdout",
       "text": [
        "[[0 1 2 3 4]\n",
        " [5 6 7 8 9]]\n",
        "45\n",
        "[ 5  7  9 11 13]\n",
        "[10 35]\n"
       ]
      }
     ],
     "prompt_number": 91
    },
    {
     "cell_type": "code",
     "collapsed": false,
     "input": [
      "print(np.all(c[0] < c[1]))\n",
      "print(c.min(), c.max())\n",
      "print(c.min(axis=1))"
     ],
     "language": "python",
     "metadata": {},
     "outputs": [
      {
       "output_type": "stream",
       "stream": "stdout",
       "text": [
        "True\n",
        "0 9\n",
        "[0 5]\n"
       ]
      }
     ],
     "prompt_number": 98
    },
    {
     "cell_type": "heading",
     "level": 2,
     "metadata": {},
     "source": [
      "Exercice 1: Crible d'Erathosthene"
     ]
    },
    {
     "cell_type": "code",
     "collapsed": false,
     "input": [],
     "language": "python",
     "metadata": {},
     "outputs": []
    },
    {
     "cell_type": "heading",
     "level": 2,
     "metadata": {},
     "source": [
      "Alg\u00e8bre lin\u00e9aire"
     ]
    },
    {
     "cell_type": "markdown",
     "metadata": {},
     "source": [
      "\n",
      "http://docs.scipy.org/doc/numpy/reference/routines.linalg.html\n",
      "    "
     ]
    },
    {
     "cell_type": "markdown",
     "metadata": {},
     "source": [
      "On a vu que les multiplications entre array s'effectuaient \u00e9l\u00e9ment par \u00e9lement.\n",
      "Si l'on souhaite faire des multiplications matricielles, il faut utiliser la fonction dot"
     ]
    },
    {
     "cell_type": "code",
     "collapsed": false,
     "input": [
      "A = np.tril(np.ones((3,3)))\n",
      "A"
     ],
     "language": "python",
     "metadata": {},
     "outputs": [
      {
       "metadata": {},
       "output_type": "pyout",
       "prompt_number": 155,
       "text": [
        "array([[ 1.,  0.,  0.],\n",
        "       [ 1.,  1.,  0.],\n",
        "       [ 1.,  1.,  1.]])"
       ]
      }
     ],
     "prompt_number": 155
    },
    {
     "cell_type": "code",
     "collapsed": false,
     "input": [
      "b = np.diag([1,2, 3])\n",
      "b"
     ],
     "language": "python",
     "metadata": {},
     "outputs": [
      {
       "metadata": {},
       "output_type": "pyout",
       "prompt_number": 156,
       "text": [
        "array([[1, 0, 0],\n",
        "       [0, 2, 0],\n",
        "       [0, 0, 3]])"
       ]
      }
     ],
     "prompt_number": 156
    },
    {
     "cell_type": "code",
     "collapsed": false,
     "input": [
      "print(a.dot(b))\n",
      "print(A*b)\n",
      "print(A.dot(A))"
     ],
     "language": "python",
     "metadata": {},
     "outputs": [
      {
       "output_type": "stream",
       "stream": "stdout",
       "text": [
        "[[ 1.  0.  0.]\n",
        " [ 1.  2.  0.]\n",
        " [ 1.  2.  3.]]\n",
        "[[ 1.  0.  0.]\n",
        " [ 0.  2.  0.]\n",
        " [ 0.  0.  3.]]\n",
        "[[ 1.  0.  0.]\n",
        " [ 2.  1.  0.]\n",
        " [ 3.  2.  1.]]\n"
       ]
      }
     ],
     "prompt_number": 157
    },
    {
     "cell_type": "markdown",
     "metadata": {},
     "source": [
      "On peut calculer l'inverse ou le d\u00e9terminant de $A$, r\u00e9soudre des syst\u00e8mes d'equations lin\u00e9aires $Ax = b$, ou encore obtenir les valeurs propres de $A$"
     ]
    },
    {
     "cell_type": "code",
     "collapsed": false,
     "input": [
      "print(np.linalg.det(A))\n",
      "inv_A = np.linalg.inv(A)\n",
      "print(inv_A)\n",
      "print(inv_A.dot(A))"
     ],
     "language": "python",
     "metadata": {},
     "outputs": [
      {
       "output_type": "stream",
       "stream": "stdout",
       "text": [
        "1.0\n",
        "[[ 1.  0.  0.]\n",
        " [-1.  1.  0.]\n",
        " [ 0. -1.  1.]]\n",
        "[[ 1.  0.  0.]\n",
        " [ 0.  1.  0.]\n",
        " [ 0.  0.  1.]]\n"
       ]
      }
     ],
     "prompt_number": 162
    },
    {
     "cell_type": "code",
     "collapsed": false,
     "input": [
      "x = np.linalg.solve(A, np.diag(b))\n",
      "print(np.diag(b))\n",
      "print(x)\n",
      "print(A.dot(x))"
     ],
     "language": "python",
     "metadata": {},
     "outputs": [
      {
       "output_type": "stream",
       "stream": "stdout",
       "text": [
        "[1 2 3]\n",
        "[ 1.  1.  1.]\n",
        "[ 1.  2.  3.]\n"
       ]
      }
     ],
     "prompt_number": 159
    },
    {
     "cell_type": "code",
     "collapsed": false,
     "input": [
      "np.linalg.eig(A)"
     ],
     "language": "python",
     "metadata": {},
     "outputs": [
      {
       "metadata": {},
       "output_type": "pyout",
       "prompt_number": 160,
       "text": [
        "(array([ 1.,  1.,  1.]),\n",
        " array([[  0.00000000e+00,   0.00000000e+00,   4.93038066e-32],\n",
        "        [  0.00000000e+00,   2.22044605e-16,  -2.22044605e-16],\n",
        "        [  1.00000000e+00,  -1.00000000e+00,   1.00000000e+00]]))"
       ]
      }
     ],
     "prompt_number": 160
    },
    {
     "cell_type": "code",
     "collapsed": false,
     "input": [
      "np.linalg.eigvals(A)"
     ],
     "language": "python",
     "metadata": {},
     "outputs": [
      {
       "metadata": {},
       "output_type": "pyout",
       "prompt_number": 161,
       "text": [
        "array([ 1.,  1.,  1.])"
       ]
      }
     ],
     "prompt_number": 161
    },
    {
     "cell_type": "heading",
     "level": 3,
     "metadata": {},
     "source": [
      "Numpy Matrix"
     ]
    },
    {
     "cell_type": "markdown",
     "metadata": {},
     "source": [
      "Matrix est une sous classe sp\u00e9cialis\u00e9e pour le calcul matriciel. Il s'agit d'un array numpy 2d qui conserve sa dimension 2d \u00e0 travers les op\u00e9rations. Pensez aux diff\u00e9rences que cela implique...\n",
      "On peut les construire classiquement depuis les array ou les objets pythons, ou via une string \u00e0 la Matlab ( o\u00f9 les points virgules indiquent les lignes)."
     ]
    },
    {
     "cell_type": "code",
     "collapsed": false,
     "input": [
      "m = np.matrix(' 1 2 3; 4 5 6; 7 8 9')\n",
      "a = np.arange(1,10).reshape((3,3))\n",
      "print(m)\n",
      "print(a)\n",
      "print(m[0], a[0])\n",
      "print(m[0].shape, a[0].shape)"
     ],
     "language": "python",
     "metadata": {},
     "outputs": [
      {
       "output_type": "stream",
       "stream": "stdout",
       "text": [
        "[[1 2 3]\n",
        " [4 5 6]\n",
        " [7 8 9]]\n",
        "[[1 2 3]\n",
        " [4 5 6]\n",
        " [7 8 9]]\n",
        "[[1 2 3]] [1 2 3]\n",
        "(1, 3) (3,)\n"
       ]
      }
     ],
     "prompt_number": 120
    },
    {
     "cell_type": "markdown",
     "metadata": {},
     "source": [
      "Matrix surcharge par ailleurs les op\u00e9rateurs \\* et \\** pour remplacer les op\u00e9rations \u00e9l\u00e9ment par \u00e9l\u00e9ment par les op\u00e9rations matricielles.\n",
      "Enfin, une Matrix poss\u00e8de des attributs suppl\u00e9mentaires. Notamment, Matrix.I qui d\u00e9signe l'inverse, Matrix.A l'array de base."
     ]
    },
    {
     "cell_type": "code",
     "collapsed": false,
     "input": [
      "m * m"
     ],
     "language": "python",
     "metadata": {},
     "outputs": [
      {
       "metadata": {},
       "output_type": "pyout",
       "prompt_number": 121,
       "text": [
        "matrix([[ 30,  36,  42],\n",
        "        [ 66,  81,  96],\n",
        "        [102, 126, 150]])"
       ]
      }
     ],
     "prompt_number": 121
    },
    {
     "cell_type": "code",
     "collapsed": false,
     "input": [
      "a * a"
     ],
     "language": "python",
     "metadata": {},
     "outputs": [
      {
       "metadata": {},
       "output_type": "pyout",
       "prompt_number": 122,
       "text": [
        "array([[ 1,  4,  9],\n",
        "       [16, 25, 36],\n",
        "       [49, 64, 81]])"
       ]
      }
     ],
     "prompt_number": 122
    },
    {
     "cell_type": "code",
     "collapsed": false,
     "input": [
      "m * a # La priorit\u00e9 des matrix est plus importantes que celles des arrays"
     ],
     "language": "python",
     "metadata": {},
     "outputs": [
      {
       "metadata": {},
       "output_type": "pyout",
       "prompt_number": 123,
       "text": [
        "matrix([[ 30,  36,  42],\n",
        "        [ 66,  81,  96],\n",
        "        [102, 126, 150]])"
       ]
      }
     ],
     "prompt_number": 123
    },
    {
     "cell_type": "code",
     "collapsed": false,
     "input": [
      "print(m**2)\n",
      "print(a**2)"
     ],
     "language": "python",
     "metadata": {},
     "outputs": [
      {
       "output_type": "stream",
       "stream": "stdout",
       "text": [
        "[[ 30  32  36]\n",
        " [ 58  81  96]\n",
        " [ 88 126 150]]\n",
        "[[ 1  4  9]\n",
        " [16 25 36]\n",
        " [49 64 81]]\n"
       ]
      }
     ],
     "prompt_number": 132
    },
    {
     "cell_type": "markdown",
     "metadata": {},
     "source": [
      "La syntaxe est plus l\u00e9g\u00e8re pour effectuer du calcul matriciel"
     ]
    },
    {
     "cell_type": "code",
     "collapsed": false,
     "input": [
      "m[0,0]= -1\n",
      "print(\"det\", np.linalg.det(m), \"rank\",np.linalg.matrix_rank(m))\n",
      "print(m.I*m)\n",
      "a[0,0] = -1\n",
      "print(\"det\", np.linalg.det(a), \"rank\",np.linalg.matrix_rank(a))\n",
      "print(a.dot(np.linalg.inv(a)))"
     ],
     "language": "python",
     "metadata": {},
     "outputs": [
      {
       "output_type": "stream",
       "stream": "stdout",
       "text": [
        "det 6.0 rank 3\n",
        "[[  1.00000000e+00  -1.33226763e-15  -1.77635684e-15]\n",
        " [  3.55271368e-15   1.00000000e+00   7.10542736e-15]\n",
        " [ -1.77635684e-15  -3.55271368e-15   1.00000000e+00]]\n",
        "det 6.0 rank 3\n",
        "[[  1.00000000e+00   1.77635684e-15  -8.88178420e-16]\n",
        " [  0.00000000e+00   1.00000000e+00   0.00000000e+00]\n",
        " [  0.00000000e+00   0.00000000e+00   1.00000000e+00]]\n"
       ]
      }
     ],
     "prompt_number": 131
    },
    {
     "cell_type": "heading",
     "level": 3,
     "metadata": {},
     "source": [
      "Exercice 2: "
     ]
    },
    {
     "cell_type": "code",
     "collapsed": false,
     "input": [],
     "language": "python",
     "metadata": {},
     "outputs": []
    },
    {
     "cell_type": "heading",
     "level": 2,
     "metadata": {},
     "source": [
      "G\u00e9n\u00e9ration de nombres al\u00e9atoires et statistiques"
     ]
    },
    {
     "cell_type": "code",
     "collapsed": false,
     "input": [],
     "language": "python",
     "metadata": {},
     "outputs": []
    },
    {
     "cell_type": "heading",
     "level": 3,
     "metadata": {},
     "source": [
      "Exercice 3: "
     ]
    },
    {
     "cell_type": "code",
     "collapsed": false,
     "input": [],
     "language": "python",
     "metadata": {},
     "outputs": []
    },
    {
     "cell_type": "heading",
     "level": 2,
     "metadata": {},
     "source": [
      "Optimisation\n"
     ]
    },
    {
     "cell_type": "code",
     "collapsed": false,
     "input": [],
     "language": "python",
     "metadata": {},
     "outputs": []
    },
    {
     "cell_type": "heading",
     "level": 2,
     "metadata": {},
     "source": [
      "Optimisation quadratique (sous contrainte) "
     ]
    },
    {
     "cell_type": "code",
     "collapsed": false,
     "input": [],
     "language": "python",
     "metadata": {},
     "outputs": []
    }
   ],
   "metadata": {}
  }
 ]
}