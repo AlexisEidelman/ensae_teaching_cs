{
 "metadata": {
  "name": "",
  "signature": "sha256:bd1956b3962d70fd91938ef989615125e133033ac67c14d990eeeeb1385fef35"
 },
 "nbformat": 3,
 "nbformat_minor": 0,
 "worksheets": [
  {
   "cells": [
    {
     "cell_type": "heading",
     "level": 1,
     "metadata": {},
     "source": [
      "TD 2A : Calcul Matriciel, Optimisation"
     ]
    },
    {
     "cell_type": "markdown",
     "metadata": {},
     "source": [
      "INTRO SUR LE POURQUOI DE CE TD\n",
      "\n",
      "* [Numpy arrays](#ndarray)\n",
      "    * [Cr\u00e9ation, Datatype et Dimensions](#creation)\n",
      "    * [Indexation, Slicing, Fancy indexing](#idx)\n",
      "    * [View contre copy](#view_vs_copy)\n",
      "    * [Manipulation de shape](#reshape)\n",
      "    * [Exercice 1: Echiquier, Pi\u00e8ge et Crible ](#exo1)\n",
      "* [Manipulation et Op\u00e9rations sur les arrays](#routines)\n",
      "    * [Op\u00e9rations \u00e9l\u00e9ment par \u00e9l\u00e9ment](#elementwise)\n",
      "    * [Broadcasting](#broadcasting)\n",
      "* [Alg\u00e8bre lin\u00e9aire](#linalg)\n",
      "    * [Exemples simples](#basic)\n",
      "    * [La sous classe Matrix](#matrix)\n",
      "* [G\u00e9n\u00e9ration de nombres al\u00e9atoires et statistiques](#random)\n",
      "    * [Exercice 2: Marches al\u00e9atoires](#exo2)\n",
      "* [Optimisation avec scipy](#optim)\n",
      "    * [Exercice 3: Simulation, Regression, Estimation par maximisation de la vraisemblance](#exo3)\n",
      "* [Optimisation quadratique (sous contraintes) avec cvxopt](#cvxopt)"
     ]
    },
    {
     "cell_type": "markdown",
     "metadata": {},
     "source": [
      "<h3 id=\"ndarray\">Numpy arrays</h3>"
     ]
    },
    {
     "cell_type": "markdown",
     "metadata": {},
     "source": [
      "La convention d'import classique de numpy est la suivante:"
     ]
    },
    {
     "cell_type": "code",
     "collapsed": false,
     "input": [
      "import numpy as np"
     ],
     "language": "python",
     "metadata": {},
     "outputs": [],
     "prompt_number": 1
    },
    {
     "cell_type": "markdown",
     "metadata": {},
     "source": [
      "<h4 id=\"creation\">Creation d'un array: notion de datatype, et dimensions</h4>"
     ]
    },
    {
     "cell_type": "markdown",
     "metadata": {},
     "source": [
      "On part d'une liste python contenant des entiers. On peut cr\u00e9er un array numpy \u00e0 partir de cette liste. \n",
      "Cet array poss\u00e8de des attributs indiquant le data type, le nombre de dimensions de l'array, etc..."
     ]
    },
    {
     "cell_type": "code",
     "collapsed": false,
     "input": [
      "l = [1, 42, 18 ]\n",
      "a = np.array(l)\n",
      "print(a)\n",
      "print(a.dtype)\n",
      "print(a.ndim)\n",
      "print(a.shape)\n",
      "print(a.size)\n",
      "a\n"
     ],
     "language": "python",
     "metadata": {},
     "outputs": [
      {
       "output_type": "stream",
       "stream": "stdout",
       "text": [
        "[ 1 42 18]\n",
        "int32\n",
        "1\n",
        "(3,)\n",
        "3\n"
       ]
      },
      {
       "metadata": {},
       "output_type": "pyout",
       "prompt_number": 2,
       "text": [
        "array([ 1, 42, 18])"
       ]
      }
     ],
     "prompt_number": 2
    },
    {
     "cell_type": "markdown",
     "metadata": {},
     "source": [
      "On peut indiquer explicitement le dtype lors de la cr\u00e9ation de l'array. Sinon, Numpy s\u00e9lectionne automatiquement le dtype.\n",
      "Numpy ajoute un grand nombre de dtype \u00e0 ceux de Python. Allez jeter un oeil \u00e0 la [liste](http://docs.scipy.org/doc/numpy/user/basics.types.html). "
     ]
    },
    {
     "cell_type": "code",
     "collapsed": false,
     "input": [
      "b = np.array(l, dtype=float)\n",
      "print(b)\n",
      "print(b.dtype)"
     ],
     "language": "python",
     "metadata": {},
     "outputs": [
      {
       "output_type": "stream",
       "stream": "stdout",
       "text": [
        "[  1.  42.  18.]\n",
        "float64\n"
       ]
      }
     ],
     "prompt_number": 3
    },
    {
     "cell_type": "code",
     "collapsed": false,
     "input": [
      "l[0] = 1.0\n",
      "bb = np.array(l)\n",
      "print(bb)\n",
      "print(bb.dtype)"
     ],
     "language": "python",
     "metadata": {},
     "outputs": [
      {
       "output_type": "stream",
       "stream": "stdout",
       "text": [
        "[  1.  42.  18.]\n",
        "float64\n"
       ]
      }
     ],
     "prompt_number": 4
    },
    {
     "cell_type": "markdown",
     "metadata": {},
     "source": [
      "Assigner un float dans un array de type int va caster le float en int, et ne modifie pas le dtype de l'array."
     ]
    },
    {
     "cell_type": "code",
     "collapsed": false,
     "input": [
      "a[0] = 2.5 \n",
      "a"
     ],
     "language": "python",
     "metadata": {},
     "outputs": [
      {
       "metadata": {},
       "output_type": "pyout",
       "prompt_number": 5,
       "text": [
        "array([ 2, 42, 18])"
       ]
      }
     ],
     "prompt_number": 5
    },
    {
     "cell_type": "markdown",
     "metadata": {},
     "source": [
      "On peut forcer le casting dans un autre type avec astype"
     ]
    },
    {
     "cell_type": "code",
     "collapsed": false,
     "input": [
      "aa = a.astype(float)\n",
      "aa[0] = 2.5\n",
      "aa"
     ],
     "language": "python",
     "metadata": {},
     "outputs": [
      {
       "metadata": {},
       "output_type": "pyout",
       "prompt_number": 6,
       "text": [
        "array([  2.5,  42. ,  18. ])"
       ]
      }
     ],
     "prompt_number": 6
    },
    {
     "cell_type": "markdown",
     "metadata": {},
     "source": [
      "A partir d'une liste de listes, on obtient un array bi-dimmensionnel.\n",
      "\n",
      "On peut le transposer ou encore l'aplatir en un array 1d"
     ]
    },
    {
     "cell_type": "code",
     "collapsed": false,
     "input": [
      "c = np.array([range(5), range(5,10), range(5)])\n",
      "print(c)\n",
      "print(\"ndim:{}\".format(c.ndim))\n",
      "print(\"shape:{}\".format(c.shape))\n",
      "print(c.transpose()) #same as c.T\n",
      "print(\"shape transposed:{}\".format(c.T.shape))\n",
      "print(c.flatten())\n",
      "print(\"ndim flattened:{}\".format(c.flatten().ndim))"
     ],
     "language": "python",
     "metadata": {},
     "outputs": [
      {
       "output_type": "stream",
       "stream": "stdout",
       "text": [
        "[[0 1 2 3 4]\n",
        " [5 6 7 8 9]\n",
        " [0 1 2 3 4]]\n",
        "ndim:2\n",
        "shape:(3, 5)\n",
        "[[0 5 0]\n",
        " [1 6 1]\n",
        " [2 7 2]\n",
        " [3 8 3]\n",
        " [4 9 4]]\n",
        "shape transposed:(5, 3)\n",
        "[0 1 2 3 4 5 6 7 8 9 0 1 2 3 4]\n",
        "ndim flattened:1\n"
       ]
      }
     ],
     "prompt_number": 7
    },
    {
     "cell_type": "markdown",
     "metadata": {},
     "source": [
      "<h3 id=\"idx\">Indexation, Slicing, Fancy indexing</h3>"
     ]
    },
    {
     "cell_type": "code",
     "collapsed": false,
     "input": [
      "print(c)"
     ],
     "language": "python",
     "metadata": {},
     "outputs": [
      {
       "output_type": "stream",
       "stream": "stdout",
       "text": [
        "[[0 1 2 3 4]\n",
        " [5 6 7 8 9]\n",
        " [0 1 2 3 4]]\n"
       ]
      }
     ],
     "prompt_number": 8
    },
    {
     "cell_type": "markdown",
     "metadata": {},
     "source": [
      "L'indexation des array multidimensionnels fonctionne avec des tuples.\n",
      "\n",
      "La syntaxe ':' permet d'obtenir tous les \u00e9l\u00e9ments de la dimension.\n",
      "\n"
     ]
    },
    {
     "cell_type": "code",
     "collapsed": false,
     "input": [
      "print(c[1,3])\n",
      "print(c[1,:3])\n",
      "print(c[:,4])"
     ],
     "language": "python",
     "metadata": {},
     "outputs": [
      {
       "output_type": "stream",
       "stream": "stdout",
       "text": [
        "8\n",
        "[5 6 7]\n",
        "[4 9 4]\n"
       ]
      }
     ],
     "prompt_number": 9
    },
    {
     "cell_type": "markdown",
     "metadata": {},
     "source": [
      "Si on utilise pas un couple sur un array 2d on r\u00e9cup\u00e8re un array 1d"
     ]
    },
    {
     "cell_type": "code",
     "collapsed": false,
     "input": [
      "print(c[1], c[1].shape)\n",
      "print(c[1][:3])"
     ],
     "language": "python",
     "metadata": {},
     "outputs": [
      {
       "output_type": "stream",
       "stream": "stdout",
       "text": [
        "[5 6 7 8 9] (5,)\n",
        "[5 6 7]\n"
       ]
      }
     ],
     "prompt_number": 10
    },
    {
     "cell_type": "markdown",
     "metadata": {},
     "source": [
      "On peut aussi utiliser l'indexation par un array (ou une liste python) de bool\u00e9ens ou d'entiers (un mask). Cela s'appelle le fancy indexing. Un mask d'entiers permet de d\u00e9signer les \u00e9l\u00e9ments que l'on souhaite extraire via la liste de leurs indices, on peut aussi r\u00e9p\u00e9ter l'indice d'un \u00e9l\u00e9ment pour r\u00e9p\u00e9ter l'\u00e9lement dans l'array que l'on extrait."
     ]
    },
    {
     "cell_type": "code",
     "collapsed": false,
     "input": [
      "ar = np.arange(1,10) #arange est l'equivalent de range mais retourne un numpy array\n",
      "print('ar = ',ar)\n",
      "idx = np.array([1, 4, 3, 2, 1, 7, 3])\n",
      "print('idx = ',idx)\n",
      "print(\"ar[idx] =\", ar[idx])\n",
      "print('######')\n",
      "idx_bool = np.ones(ar.shape, dtype=bool)\n",
      "idx_bool[idx] = False\n",
      "print('idx_bool = ', idx_bool)\n",
      "print('ar[idx_bool] = ', ar[idx_bool])\n",
      "print('######', 'Que se passe-t-il dans chacun des cas suivants?', '######' )\n",
      "print('ar[[True, True, False, True]] = ', ar[[True, True, False, True]])\n",
      "print('ar[np.array([True, True, False, True])] = ', ar[np.array([True, True, False, True])])"
     ],
     "language": "python",
     "metadata": {},
     "outputs": [
      {
       "output_type": "stream",
       "stream": "stdout",
       "text": [
        "ar =  [1 2 3 4 5 6 7 8 9]\n",
        "idx =  [1 4 3 2 1 7 3]\n",
        "ar[idx] = [2 5 4 3 2 8 4]\n",
        "######\n",
        "idx_bool =  [ True False False False False  True  True False  True]\n",
        "ar[idx_bool] =  [1 6 7 9]\n",
        "###### Que se passe-t-il dans chacun des cas suivants? ######\n",
        "ar[[True, True, False, True]] =  [2 2 1 2]\n",
        "ar[np.array([True, True, False, True])] =  [1 2 4]\n"
       ]
      }
     ],
     "prompt_number": 11
    },
    {
     "cell_type": "markdown",
     "metadata": {},
     "source": [
      "Pourquoi parle-t-on de fancy indexing? Essayez d'indexer des listes python de la m\u00eame mani\u00e8re..."
     ]
    },
    {
     "cell_type": "code",
     "collapsed": false,
     "input": [
      "list_python = range(10)\n",
      "list_python[[True, True, False, True]]"
     ],
     "language": "python",
     "metadata": {},
     "outputs": [
      {
       "ename": "TypeError",
       "evalue": "range indices must be integers or slices, not list",
       "output_type": "pyerr",
       "traceback": [
        "\u001b[1;31m---------------------------------------------------------------------------\u001b[0m\n\u001b[1;31mTypeError\u001b[0m                                 Traceback (most recent call last)",
        "\u001b[1;32m<ipython-input-12-97fe991b3ae5>\u001b[0m in \u001b[0;36m<module>\u001b[1;34m()\u001b[0m\n\u001b[0;32m      1\u001b[0m \u001b[0mlist_python\u001b[0m \u001b[1;33m=\u001b[0m \u001b[0mrange\u001b[0m\u001b[1;33m(\u001b[0m\u001b[1;36m10\u001b[0m\u001b[1;33m)\u001b[0m\u001b[1;33m\u001b[0m\u001b[0m\n\u001b[1;32m----> 2\u001b[1;33m \u001b[0mlist_python\u001b[0m\u001b[1;33m[\u001b[0m\u001b[1;33m[\u001b[0m\u001b[1;32mTrue\u001b[0m\u001b[1;33m,\u001b[0m \u001b[1;32mTrue\u001b[0m\u001b[1;33m,\u001b[0m \u001b[1;32mFalse\u001b[0m\u001b[1;33m,\u001b[0m \u001b[1;32mTrue\u001b[0m\u001b[1;33m]\u001b[0m\u001b[1;33m]\u001b[0m\u001b[1;33m\u001b[0m\u001b[0m\n\u001b[0m",
        "\u001b[1;31mTypeError\u001b[0m: range indices must be integers or slices, not list"
       ]
      }
     ],
     "prompt_number": 12
    },
    {
     "cell_type": "code",
     "collapsed": false,
     "input": [
      "list_python[[2, 3, 2, 7]]"
     ],
     "language": "python",
     "metadata": {},
     "outputs": []
    },
    {
     "cell_type": "markdown",
     "metadata": {},
     "source": [
      "<h4 id\"view_vs_copy\">View contre Copy</h4>"
     ]
    },
    {
     "cell_type": "markdown",
     "metadata": {},
     "source": [
      "Cr\u00e9ons un array $d$. En plus de renvoyer directement un array, la fonction arange permet aussi d'utiliser un step flottant. (Essayer avec le range de python pour voir)"
     ]
    },
    {
     "cell_type": "code",
     "collapsed": false,
     "input": [
      "d = np.arange(1, 6, 0.5)\n",
      "d"
     ],
     "language": "python",
     "metadata": {},
     "outputs": []
    },
    {
     "cell_type": "markdown",
     "metadata": {},
     "source": [
      "Un point important est que l'on ne recopie pas un array lorsqu'on effectue une assignation ou un slicing d'un array.\n",
      "On travaille dans ce cas avec une View sur l'array d'origine (shallow copy). Toute modification sur la View affecte l'array d'origine.\n",
      "\n",
      "Dans l'exemple qui suit, $e$ est une view sur $d$. Lorsqu'on modifie $e$, $d$ aussi est modifi\u00e9. (Remarquez au passage que numpy fournit quelques constantes bien pratiques....)"
     ]
    },
    {
     "cell_type": "code",
     "collapsed": false,
     "input": [
      "e = d\n",
      "e[[0,2, 4]] = - np.pi\n",
      "e"
     ],
     "language": "python",
     "metadata": {},
     "outputs": []
    },
    {
     "cell_type": "code",
     "collapsed": false,
     "input": [
      "d"
     ],
     "language": "python",
     "metadata": {},
     "outputs": []
    },
    {
     "cell_type": "markdown",
     "metadata": {},
     "source": [
      "Si on ne veut pas modifier $d$ indirectement, il faut travailler sur une copie de $d$ (deep copy)."
     ]
    },
    {
     "cell_type": "code",
     "collapsed": false,
     "input": [
      "d = np.linspace(1,5.5,10) #Question subsidiaire: en quoi est-ce diff\u00e9rent de np.arange avec un step float?\n",
      "f = d.copy()\n",
      "f[:4] = -np.e #il s'agit du nombre d'euler, pas de l'array e ;)\n",
      "print(f)\n",
      "print(d)"
     ],
     "language": "python",
     "metadata": {},
     "outputs": []
    },
    {
     "cell_type": "markdown",
     "metadata": {},
     "source": [
      "Ce point est important car source classique d'erreurs silencieuses: les erreurs les plus vicieuses car l'output sera faux mais python ne ralera pas...\n",
      "\n",
      "Il faut un peu de temps pour s'habituer mais on finit par savoir de mani\u00e8re naturelle quand on travaille sur une view, quand on a besoin de faire une copie explicitement, etc... En tout cas, v\u00e9rifiez vos sorties, faites des tests de coh\u00e9rence, cela ne nuit jamais.\n",
      "\n",
      "Retenez par exemple que le slicing vous renvoie une view sur l'array, alors que le fancy indexing effectue une copie.\n",
      "\n",
      "(Au passage, remarquez le NaN (=NotaNumber) d\u00e9j\u00e0 introduit lors de la s\u00e9ance 1 sur pandas qui est un module bas\u00e9 sur numpy)"
     ]
    },
    {
     "cell_type": "code",
     "collapsed": false,
     "input": [
      "print('d = ',d)\n",
      "slice_of_d = d[2:5]\n",
      "print('slice_of_d = ', slice_of_d)\n",
      "slice_of_d[0] = np.nan\n",
      "print('d = ', d)\n",
      "mask = np.array([2, 3, 4])\n",
      "fancy_indexed_subarray = d[mask]\n",
      "print('fancy_indexed_subarray = ', fancy_indexed_subarray)\n",
      "fancy_indexed_subarray[0] = -2\n",
      "print('d = ', d)\n"
     ],
     "language": "python",
     "metadata": {},
     "outputs": []
    },
    {
     "cell_type": "markdown",
     "metadata": {},
     "source": [
      "<h4 id=\"reshape\">Manipulation de shape</h4>"
     ]
    },
    {
     "cell_type": "markdown",
     "metadata": {},
     "source": [
      "La m\u00e9thode reshape permet de changer la forme de l'array. Il existe de nombreuses [manipulations possibles](http://docs.scipy.org/doc/numpy/reference/routines.array-manipulation.html)."
     ]
    },
    {
     "cell_type": "markdown",
     "metadata": {},
     "source": [
      "On pr\u00e9cise \u00e0 reshape la forme souhait\u00e9e: par un entier si on veut un array 1d de cette longueur, ou un couple pour un array 2d de cette forme."
     ]
    },
    {
     "cell_type": "code",
     "collapsed": false,
     "input": [
      "g = np.arange(12)\n",
      "print(g)\n",
      "g.reshape((4,3))\n"
     ],
     "language": "python",
     "metadata": {},
     "outputs": [
      {
       "output_type": "stream",
       "stream": "stdout",
       "text": [
        "[ 0  1  2  3  4  5  6  7  8  9 10 11]\n"
       ]
      },
      {
       "metadata": {},
       "output_type": "pyout",
       "prompt_number": 13,
       "text": [
        "array([[ 0,  1,  2],\n",
        "       [ 3,  4,  5],\n",
        "       [ 6,  7,  8],\n",
        "       [ 9, 10, 11]])"
       ]
      }
     ],
     "prompt_number": 13
    },
    {
     "cell_type": "markdown",
     "metadata": {},
     "source": [
      "Par d\u00e9faut, reshape utilise l'\u00e9num\u00e9ration dans l'ordre du langage C (aussi appel\u00e9 \"row first\" ), on peut pr\u00e9ciser que l'on souhaite utiliser l'ordre de Fortran (\"column first\"). Ceux qui connaissent Matlab et R sont habitu\u00e9s \u00e0 l'ordre \"column-first\". [Voir l'article wikipedia](http://en.wikipedia.org/wiki/Row-major_order)"
     ]
    },
    {
     "cell_type": "code",
     "collapsed": false,
     "input": [
      "g.reshape((4,3), order='F')"
     ],
     "language": "python",
     "metadata": {},
     "outputs": [
      {
       "metadata": {},
       "output_type": "pyout",
       "prompt_number": 14,
       "text": [
        "array([[ 0,  4,  8],\n",
        "       [ 1,  5,  9],\n",
        "       [ 2,  6, 10],\n",
        "       [ 3,  7, 11]])"
       ]
      }
     ],
     "prompt_number": 14
    },
    {
     "cell_type": "markdown",
     "metadata": {},
     "source": [
      "On peut utiliser -1 sur une dimension, cela sert de joker: numpy inf\u00e8re la dimension n\u00e9cessaire!"
     ]
    },
    {
     "cell_type": "markdown",
     "metadata": {},
     "source": [
      "On peut cr\u00e9er directement des matrices de 0 et de 1 \u00e0 la dimension d'un autre array"
     ]
    },
    {
     "cell_type": "code",
     "collapsed": false,
     "input": [
      "np.zeros_like(g)"
     ],
     "language": "python",
     "metadata": {},
     "outputs": [
      {
       "metadata": {},
       "output_type": "pyout",
       "prompt_number": 15,
       "text": [
        "array([0, 0, 0, 0, 0, 0, 0, 0, 0, 0, 0, 0])"
       ]
      }
     ],
     "prompt_number": 15
    },
    {
     "cell_type": "code",
     "collapsed": false,
     "input": [
      "np.ones_like(g)"
     ],
     "language": "python",
     "metadata": {},
     "outputs": [
      {
       "metadata": {},
       "output_type": "pyout",
       "prompt_number": 16,
       "text": [
        "array([1, 1, 1, 1, 1, 1, 1, 1, 1, 1, 1, 1])"
       ]
      }
     ],
     "prompt_number": 16
    },
    {
     "cell_type": "markdown",
     "metadata": {},
     "source": [
      "On peut aussi concatener ou stacker horizontalement/verticalement diff\u00e9rents arrays."
     ]
    },
    {
     "cell_type": "code",
     "collapsed": false,
     "input": [
      "np.concatenate((g, np.zeros_like(g))) #Attention \u00e0 la syntaxe: le type d'entr\u00e9e est un couple!"
     ],
     "language": "python",
     "metadata": {},
     "outputs": [
      {
       "metadata": {},
       "output_type": "pyout",
       "prompt_number": 17,
       "text": [
        "array([ 0,  1,  2,  3,  4,  5,  6,  7,  8,  9, 10, 11,  0,  0,  0,  0,  0,\n",
        "        0,  0,  0,  0,  0,  0,  0])"
       ]
      }
     ],
     "prompt_number": 17
    },
    {
     "cell_type": "code",
     "collapsed": false,
     "input": [
      "np.concatenate((g, np.ones_like(g)), axis=1)"
     ],
     "language": "python",
     "metadata": {},
     "outputs": [
      {
       "metadata": {},
       "output_type": "pyout",
       "prompt_number": 18,
       "text": [
        "array([ 0,  1,  2,  3,  4,  5,  6,  7,  8,  9, 10, 11,  1,  1,  1,  1,  1,\n",
        "        1,  1,  1,  1,  1,  1,  1])"
       ]
      }
     ],
     "prompt_number": 18
    },
    {
     "cell_type": "code",
     "collapsed": false,
     "input": [
      "np.hstack((g, g))"
     ],
     "language": "python",
     "metadata": {},
     "outputs": [
      {
       "metadata": {},
       "output_type": "pyout",
       "prompt_number": 19,
       "text": [
        "array([ 0,  1,  2,  3,  4,  5,  6,  7,  8,  9, 10, 11,  0,  1,  2,  3,  4,\n",
        "        5,  6,  7,  8,  9, 10, 11])"
       ]
      }
     ],
     "prompt_number": 19
    },
    {
     "cell_type": "code",
     "collapsed": false,
     "input": [
      "np.vstack((g,g))"
     ],
     "language": "python",
     "metadata": {},
     "outputs": [
      {
       "metadata": {},
       "output_type": "pyout",
       "prompt_number": 20,
       "text": [
        "array([[ 0,  1,  2,  3,  4,  5,  6,  7,  8,  9, 10, 11],\n",
        "       [ 0,  1,  2,  3,  4,  5,  6,  7,  8,  9, 10, 11]])"
       ]
      }
     ],
     "prompt_number": 20
    },
    {
     "cell_type": "markdown",
     "metadata": {},
     "source": [
      "<h4 id=\"exo1\">Exercice 1: Echiquier et Crible d'Erathosthene</h4>"
     ]
    },
    {
     "cell_type": "markdown",
     "metadata": {},
     "source": [
      "* Exercice 1-A Echiquier: Cr\u00e9er une matrice \u00e9chiquier (des 1 et des 0 altern\u00e9s) de taille 8x8, de deux fa\u00e7ons diff\u00e9rentes\n",
      "    * en vous servant de slices \n",
      "    * en vous servant de la fonction [tile](http://docs.scipy.org/doc/numpy/reference/generated/numpy.tile.html#numpy.tile)\n",
      "* Exercice 1-B Pi\u00e8ge lors d'une extraction 2d:\n",
      "    * D\u00e9finir la matrice $M = \\left(\\begin{matrix}\n",
      "                                   1 & 5 & 9 & 13 & 17\\\\\n",
      "                                   2 & 6 & 10 & 14& 18\\\\\n",
      "                                   3 & 7 & 11 & 15& 19\\\\\n",
      "                                   4 & 8 & 12 & 16& 20 \\\\\n",
      "                             \\end{matrix}\\right)$\n",
      "    * En **extraire** la matrice $\\left(\\begin{matrix}\n",
      "                                    6 & 18 & 10 \\\\\n",
      "                                    7 & 19 & 11 \\\\\n",
      "                                    5 & 17 & 9 \\\\\n",
      "                             \\end{matrix}\\right)$\n",
      "* Exercice 1-C Crible d'Erathosthene: On souhaite impl\u00e9menter un [crible d'Erathosth\u00e8ne](http://fr.wikipedia.org/wiki/Crible_d'%C3%89ratosth%C3%A8ne) pour trouver les nombres premiers inf\u00e9rieurs \u00e0 $N=1000$.\n",
      "    * partir d'un array de bool\u00e9ens de taille N+1, tous \u00e9gaux \u00e0 True.\n",
      "    * Mettre 0 et 1 \u00e0 False car ils ne sont pas premiers\n",
      "    * pour chaque entier $k$ entre 2 et $\\sqrt{N}$: \n",
      "        * si $k$ est premier: on passe ses multiples (entre $k^2$ et $N$) \u00e0 False\n",
      "    * on print la liste des entiers premiers"
     ]
    },
    {
     "cell_type": "code",
     "collapsed": false,
     "input": [
      "#Exo1a-1:\n",
      "\n",
      "#Exo1a-2:\n"
     ],
     "language": "python",
     "metadata": {},
     "outputs": [
      {
       "output_type": "stream",
       "stream": "stdout",
       "text": [
        "[[1 0 1 0 1 0 1 0]\n",
        " [0 1 0 1 0 1 0 1]\n",
        " [1 0 1 0 1 0 1 0]\n",
        " [0 1 0 1 0 1 0 1]\n",
        " [1 0 1 0 1 0 1 0]\n",
        " [0 1 0 1 0 1 0 1]\n",
        " [1 0 1 0 1 0 1 0]\n",
        " [0 1 0 1 0 1 0 1]]\n",
        "[[1 0 1 0 1 0 1 0]\n",
        " [0 1 0 1 0 1 0 1]\n",
        " [1 0 1 0 1 0 1 0]\n",
        " [0 1 0 1 0 1 0 1]\n",
        " [1 0 1 0 1 0 1 0]\n",
        " [0 1 0 1 0 1 0 1]\n",
        " [1 0 1 0 1 0 1 0]\n",
        " [0 1 0 1 0 1 0 1]]\n"
       ]
      }
     ],
     "prompt_number": 21
    },
    {
     "cell_type": "code",
     "collapsed": false,
     "input": [
      "#Exo1B:\n"
     ],
     "language": "python",
     "metadata": {},
     "outputs": [
      {
       "output_type": "stream",
       "stream": "stdout",
       "text": [
        "[[ 1  5  9 13 17]\n",
        " [ 2  6 10 14 18]\n",
        " [ 3  7 11 15 19]\n",
        " [ 4  8 12 16 20]]\n",
        "WRONG: [ 6 19  9]\n",
        "########\n",
        "[[ 6 18 10]\n",
        " [ 7 19 11]\n",
        " [ 5 17  9]]\n",
        "(array([[1],\n",
        "       [2],\n",
        "       [0]]), array([[1, 4, 2]]))\n",
        "[[ 6 18 10]\n",
        " [ 7 19 11]\n",
        " [ 5 17  9]]\n"
       ]
      }
     ],
     "prompt_number": 22
    },
    {
     "cell_type": "code",
     "collapsed": false,
     "input": [
      "#Exo1C:"
     ],
     "language": "python",
     "metadata": {},
     "outputs": [
      {
       "output_type": "stream",
       "stream": "stdout",
       "text": [
        "[ 2  3  5  7 11 13 17 19 23 29 31 37 41 43 47 53 59 61 67 71 73 79 83 89 97]\n"
       ]
      }
     ],
     "prompt_number": 23
    },
    {
     "cell_type": "markdown",
     "metadata": {},
     "source": [
      "<h3 id=\"routines\">Manipulation et Op\u00e9rations sur les arrays</h3>"
     ]
    },
    {
     "cell_type": "markdown",
     "metadata": {},
     "source": [
      "Il existe un tr\u00e8s grand nombre de [routines pour manipuler les arrays numpy](http://docs.scipy.org/doc/numpy/reference/routines.html): \n",
      "Vous trouverez sans doute utiles les pages sp\u00e9cifiques aux routines de [stats](http://docs.scipy.org/doc/numpy/reference/routines.statistics.html) ou de [maths](http://docs.scipy.org/doc/numpy/reference/routines.math.html)\n",
      "\n"
     ]
    },
    {
     "cell_type": "markdown",
     "metadata": {},
     "source": [
      "<h4 id=\"elementwise\">Op\u00e9rations \u00e9l\u00e9ment par \u00e9l\u00e9ment</h4>"
     ]
    },
    {
     "cell_type": "markdown",
     "metadata": {},
     "source": [
      "On d\u00e9clare $a$ et $b$ sur lesquelles nous allons illustrer quelques op\u00e9rations"
     ]
    },
    {
     "cell_type": "code",
     "collapsed": false,
     "input": [
      "a = np.ones((3,2))\n",
      "b = np.arange(6).reshape(a.shape)\n",
      "print(a)\n",
      "b"
     ],
     "language": "python",
     "metadata": {},
     "outputs": [
      {
       "output_type": "stream",
       "stream": "stdout",
       "text": [
        "[[ 1.  1.]\n",
        " [ 1.  1.]\n",
        " [ 1.  1.]]\n"
       ]
      },
      {
       "metadata": {},
       "output_type": "pyout",
       "prompt_number": 24,
       "text": [
        "array([[0, 1],\n",
        "       [2, 3],\n",
        "       [4, 5]])"
       ]
      }
     ],
     "prompt_number": 24
    },
    {
     "cell_type": "markdown",
     "metadata": {},
     "source": [
      "Les op\u00e9rations arithm\u00e9tiques avec les scalaires, ou entre arrays s'effectuent \u00e9l\u00e9ment par \u00e9l\u00e9ment.\n",
      "Lorsque le dtype n'est pas le m\u00eame ($a$ contient des float, $b$ contient des int), numpy adopte le type le plus \"grand\" (au sens de l'inclusion).\n"
     ]
    },
    {
     "cell_type": "code",
     "collapsed": false,
     "input": [
      "print( (a + b)**2 )\n",
      "print( np.abs( 3*a - b ) )\n",
      "f = lambda x: np.exp(x-1)\n",
      "print( f(b) )"
     ],
     "language": "python",
     "metadata": {},
     "outputs": [
      {
       "output_type": "stream",
       "stream": "stdout",
       "text": [
        "[[  1.   4.]\n",
        " [  9.  16.]\n",
        " [ 25.  36.]]\n",
        "[[ 3.  2.]\n",
        " [ 1.  0.]\n",
        " [ 1.  2.]]\n",
        "[[  0.36787944   1.        ]\n",
        " [  2.71828183   7.3890561 ]\n",
        " [ 20.08553692  54.59815003]]\n"
       ]
      }
     ],
     "prompt_number": 25
    },
    {
     "cell_type": "markdown",
     "metadata": {},
     "source": [
      "Remarquez que la division par z\u00e9ro ne provoque pas d'erreur mais juste un warning"
     ]
    },
    {
     "cell_type": "code",
     "collapsed": false,
     "input": [
      "1/b"
     ],
     "language": "python",
     "metadata": {},
     "outputs": [
      {
       "output_type": "stream",
       "stream": "stderr",
       "text": [
        "-c:1: RuntimeWarning: divide by zero encountered in true_divide\n"
       ]
      },
      {
       "metadata": {},
       "output_type": "pyout",
       "prompt_number": 26,
       "text": [
        "array([[        inf,  1.        ],\n",
        "       [ 0.5       ,  0.33333333],\n",
        "       [ 0.25      ,  0.2       ]])"
       ]
      }
     ],
     "prompt_number": 26
    },
    {
     "cell_type": "heading",
     "level": 3,
     "metadata": {},
     "source": [
      "<h4 id=\"broadcasting\">Broadcasting</h4>"
     ]
    },
    {
     "cell_type": "markdown",
     "metadata": {},
     "source": [
      "Que se passe-t-il si les dimensions sont differentes?"
     ]
    },
    {
     "cell_type": "code",
     "collapsed": false,
     "input": [
      "c = np.ones(6)\n",
      "c"
     ],
     "language": "python",
     "metadata": {},
     "outputs": [
      {
       "metadata": {},
       "output_type": "pyout",
       "prompt_number": 27,
       "text": [
        "array([ 1.,  1.,  1.,  1.,  1.,  1.])"
       ]
      }
     ],
     "prompt_number": 27
    },
    {
     "cell_type": "code",
     "collapsed": false,
     "input": [
      "b+c"
     ],
     "language": "python",
     "metadata": {},
     "outputs": [
      {
       "ename": "ValueError",
       "evalue": "operands could not be broadcast together with shapes (3,2) (6,) ",
       "output_type": "pyerr",
       "traceback": [
        "\u001b[1;31m---------------------------------------------------------------------------\u001b[0m\n\u001b[1;31mValueError\u001b[0m                                Traceback (most recent call last)",
        "\u001b[1;32m<ipython-input-28-9533ace22465>\u001b[0m in \u001b[0;36m<module>\u001b[1;34m()\u001b[0m\n\u001b[1;32m----> 1\u001b[1;33m \u001b[0mb\u001b[0m\u001b[1;33m+\u001b[0m\u001b[0mc\u001b[0m\u001b[1;33m\u001b[0m\u001b[0m\n\u001b[0m",
        "\u001b[1;31mValueError\u001b[0m: operands could not be broadcast together with shapes (3,2) (6,) "
       ]
      }
     ],
     "prompt_number": 28
    },
    {
     "cell_type": "code",
     "collapsed": false,
     "input": [
      "c = np.arange(3).reshape((3,1))\n",
      "print(b,c, sep='\\n')\n",
      "b+c"
     ],
     "language": "python",
     "metadata": {},
     "outputs": []
    },
    {
     "cell_type": "markdown",
     "metadata": {},
     "source": [
      "L'op\u00e9ration pr\u00e9c\u00e9dente fonctionne car numpy effectue ce qu'on appelle un broadcasting de c: une dimension etant commune, tout se passe comme si on dupliquait c sur la dimension non-partag\u00e9e avec b. Vous trouverez une explication visuelle simple [ici](http://www.tp.umu.se/~nylen/pylect/intro/numpy/numpy.html#broadcasting)"
     ]
    },
    {
     "cell_type": "code",
     "collapsed": false,
     "input": [
      "a = np.zeros((3,3))\n",
      "a[:,0] = -1\n",
      "b = np.array(range(3))\n",
      "print(a + b)"
     ],
     "language": "python",
     "metadata": {},
     "outputs": []
    },
    {
     "cell_type": "markdown",
     "metadata": {},
     "source": [
      "\n",
      "Par contre, il peut parfois \u00eatre utile de pr\u00e9ciser la dimension sur laquelle on souhaite broadcaster, on ajoute alors explicitement une dimension:"
     ]
    },
    {
     "cell_type": "code",
     "collapsed": false,
     "input": [
      "print(b.shape)\n",
      "print(b[:,np.newaxis].shape) \n",
      "print(b[np.newaxis,:].shape)"
     ],
     "language": "python",
     "metadata": {},
     "outputs": [
      {
       "output_type": "stream",
       "stream": "stdout",
       "text": [
        "(3, 2)\n",
        "(3, 1, 2)\n",
        "(1, 3, 2)\n"
       ]
      }
     ],
     "prompt_number": 29
    },
    {
     "cell_type": "code",
     "collapsed": false,
     "input": [
      "print( a + b[np.newaxis,:] )\n",
      "print( a + b[:,np.newaxis] )\n",
      "print(b[:,np.newaxis]+b[np.newaxis,:])\n",
      "print(b + b)"
     ],
     "language": "python",
     "metadata": {},
     "outputs": [
      {
       "output_type": "stream",
       "stream": "stdout",
       "text": [
        "[[[ 1.  2.]\n",
        "  [ 3.  4.]\n",
        "  [ 5.  6.]]]\n",
        "[[[ 1.  2.]\n",
        "  [ 1.  2.]\n",
        "  [ 1.  2.]]\n",
        "\n",
        " [[ 3.  4.]\n",
        "  [ 3.  4.]\n",
        "  [ 3.  4.]]\n",
        "\n",
        " [[ 5.  6.]\n",
        "  [ 5.  6.]\n",
        "  [ 5.  6.]]]\n",
        "[[[ 0  2]\n",
        "  [ 2  4]\n",
        "  [ 4  6]]\n",
        "\n",
        " [[ 2  4]\n",
        "  [ 4  6]\n",
        "  [ 6  8]]\n",
        "\n",
        " [[ 4  6]\n",
        "  [ 6  8]\n",
        "  [ 8 10]]]\n",
        "[[ 0  2]\n",
        " [ 4  6]\n",
        " [ 8 10]]\n"
       ]
      }
     ],
     "prompt_number": 30
    },
    {
     "cell_type": "heading",
     "level": 3,
     "metadata": {},
     "source": [
      "<h4 id=\"Reductions\">R\u00e9ductions</h4>"
     ]
    },
    {
     "cell_type": "markdown",
     "metadata": {},
     "source": [
      "On parle de r\u00e9ductions lorsque l'op\u00e9ration r\u00e9duit la dimension de l'array.\n",
      "\n",
      "Il en existe un grand nombre. Elles existent souvent sous forme de fonction de numpy ou de m\u00e9thodes d'un array numpy.\n",
      "On n'en pr\u00e9sente que quelques unes, mais le principe est le m\u00eame: par d\u00e9faut elles op\u00e8rent sur toutes les dimensions, mais on peut via l'argument *axis* pr\u00e9ciser la dimension selon laquelle on souhaite effectuer la r\u00e9duction."
     ]
    },
    {
     "cell_type": "code",
     "collapsed": false,
     "input": [
      "c = np.arange(10).reshape((2,-1)) #Note: -1 is a joker! \n",
      "print(c)\n",
      "print(c.sum())\n",
      "print(c.sum(axis=0))\n",
      "print(np.sum(c, axis=1))"
     ],
     "language": "python",
     "metadata": {},
     "outputs": [
      {
       "output_type": "stream",
       "stream": "stdout",
       "text": [
        "[[0 1 2 3 4]\n",
        " [5 6 7 8 9]]\n",
        "45\n",
        "[ 5  7  9 11 13]\n",
        "[10 35]\n"
       ]
      }
     ],
     "prompt_number": 31
    },
    {
     "cell_type": "code",
     "collapsed": false,
     "input": [
      "print(np.all(c[0] < c[1]))\n",
      "print(c.min(), c.max())\n",
      "print(c.min(axis=1))"
     ],
     "language": "python",
     "metadata": {},
     "outputs": [
      {
       "output_type": "stream",
       "stream": "stdout",
       "text": [
        "True\n",
        "0 9\n",
        "[0 5]\n"
       ]
      }
     ],
     "prompt_number": 32
    },
    {
     "cell_type": "markdown",
     "metadata": {},
     "source": [
      "<h3 id=\"linalg\">Alg\u00e8bre lin\u00e9aire</h3>"
     ]
    },
    {
     "cell_type": "markdown",
     "metadata": {},
     "source": [
      "Vous avez un \u00e9ventail de fonctions pour faire de l'alg\u00e8bre lin\u00e9aire dans [numpy](http://docs.scipy.org/doc/numpy/reference/routines.linalg.html) ou dans [scipy](http://docs.scipy.org/doc/scipy/reference/linalg.html).\n",
      "Cela peut vous servir si vous cherchez \u00e0 faire une d\u00e9composition matricielle particuli\u00e8re (LU, QR, SVD,...), si vous vous int\u00e9ressez aux valeurs propres d'une matrice, etc..."
     ]
    },
    {
     "cell_type": "markdown",
     "metadata": {},
     "source": [
      "<h4 id=\"basic\">Exemples simples</h4>"
     ]
    },
    {
     "cell_type": "markdown",
     "metadata": {},
     "source": [
      "Commen\u00e7ons par construire deux arrays 2d correspondant \u00e0 une matrice triangulaire inf\u00e9rieure et une matrice diagonale"
     ]
    },
    {
     "cell_type": "code",
     "collapsed": false,
     "input": [
      "A = np.tril(np.ones((3,3)))\n",
      "A"
     ],
     "language": "python",
     "metadata": {},
     "outputs": [
      {
       "metadata": {},
       "output_type": "pyout",
       "prompt_number": 33,
       "text": [
        "array([[ 1.,  0.,  0.],\n",
        "       [ 1.,  1.,  0.],\n",
        "       [ 1.,  1.,  1.]])"
       ]
      }
     ],
     "prompt_number": 33
    },
    {
     "cell_type": "code",
     "collapsed": false,
     "input": [
      "b = np.diag([1,2, 3])\n",
      "b"
     ],
     "language": "python",
     "metadata": {},
     "outputs": [
      {
       "metadata": {},
       "output_type": "pyout",
       "prompt_number": 34,
       "text": [
        "array([[1, 0, 0],\n",
        "       [0, 2, 0],\n",
        "       [0, 0, 3]])"
       ]
      }
     ],
     "prompt_number": 34
    },
    {
     "cell_type": "markdown",
     "metadata": {},
     "source": [
      "On a vu que les multiplications entre array s'effectuaient \u00e9l\u00e9ment par \u00e9lement.\n",
      "Si l'on souhaite faire des multiplications matricielles, il faut utiliser la fonction dot."
     ]
    },
    {
     "cell_type": "code",
     "collapsed": false,
     "input": [
      "print(A.dot(b))\n",
      "print(A*b)\n",
      "print(A.dot(A))"
     ],
     "language": "python",
     "metadata": {},
     "outputs": [
      {
       "output_type": "stream",
       "stream": "stdout",
       "text": [
        "[[ 3.  0.  0.]\n",
        " [ 3.  3.  0.]\n",
        " [ 3.  3.  3.]]\n",
        "[[ 3.  0.  0.]\n",
        " [ 3.  3.  0.]\n",
        " [ 3.  3.  3.]]\n",
        "[[ 1.  0.  0.]\n",
        " [ 2.  1.  0.]\n",
        " [ 3.  2.  1.]]\n"
       ]
      }
     ],
     "prompt_number": 52
    },
    {
     "cell_type": "markdown",
     "metadata": {},
     "source": [
      "On peut calculer l'inverse ou le d\u00e9terminant de $A$"
     ]
    },
    {
     "cell_type": "code",
     "collapsed": false,
     "input": [
      "print(np.linalg.det(A))\n",
      "inv_A = np.linalg.inv(A)\n",
      "print(inv_A)\n",
      "print(inv_A.dot(A))"
     ],
     "language": "python",
     "metadata": {},
     "outputs": []
    },
    {
     "cell_type": "markdown",
     "metadata": {},
     "source": [
      "... r\u00e9soudre des syst\u00e8mes d'equations lin\u00e9aires du type $Ax = b$..."
     ]
    },
    {
     "cell_type": "code",
     "collapsed": false,
     "input": [
      "x = np.linalg.solve(A, np.diag(b))\n",
      "print(np.diag(b))\n",
      "print(x)\n",
      "print(A.dot(x))"
     ],
     "language": "python",
     "metadata": {},
     "outputs": []
    },
    {
     "cell_type": "markdown",
     "metadata": {},
     "source": [
      "... ou encore obtenir les valeurs propres de $A$."
     ]
    },
    {
     "cell_type": "code",
     "collapsed": false,
     "input": [
      "np.linalg.eig(A)"
     ],
     "language": "python",
     "metadata": {},
     "outputs": []
    },
    {
     "cell_type": "code",
     "collapsed": false,
     "input": [
      "np.linalg.eigvals(A)"
     ],
     "language": "python",
     "metadata": {},
     "outputs": []
    },
    {
     "cell_type": "markdown",
     "metadata": {},
     "source": [
      "<h4 id=\"matrix\">Numpy Matrix</h4>"
     ]
    },
    {
     "cell_type": "markdown",
     "metadata": {},
     "source": [
      "Matrix est une sous classe sp\u00e9cialis\u00e9e pour le calcul matriciel. Il s'agit d'un array numpy 2d qui conserve sa dimension 2d \u00e0 travers les op\u00e9rations. Pensez aux diff\u00e9rences que cela implique...\n",
      "On peut les construire classiquement depuis les array ou les objets pythons, ou via une string \u00e0 la Matlab ( o\u00f9 les points virgules indiquent les lignes)."
     ]
    },
    {
     "cell_type": "code",
     "collapsed": false,
     "input": [
      "m = np.matrix(' 1 2 3; 4 5 6; 7 8 9')\n",
      "a = np.arange(1,10).reshape((3,3))\n",
      "print(m)\n",
      "print(a)\n",
      "print(m[0], a[0])\n",
      "print(m[0].shape, a[0].shape)"
     ],
     "language": "python",
     "metadata": {},
     "outputs": [
      {
       "output_type": "stream",
       "stream": "stdout",
       "text": [
        "[[1 2 3]\n",
        " [4 5 6]\n",
        " [7 8 9]]\n",
        "[[1 2 3]\n",
        " [4 5 6]\n",
        " [7 8 9]]\n",
        "[[1 2 3]] [1 2 3]\n",
        "(1, 3) (3,)\n"
       ]
      }
     ],
     "prompt_number": 36
    },
    {
     "cell_type": "markdown",
     "metadata": {},
     "source": [
      "Matrix surcharge par ailleurs les op\u00e9rateurs \\* et \\** pour remplacer les op\u00e9rations \u00e9l\u00e9ment par \u00e9l\u00e9ment par les op\u00e9rations matricielles.\n",
      "Enfin, une Matrix poss\u00e8de des attributs suppl\u00e9mentaires. Notamment, Matrix.I qui d\u00e9signe l'inverse, Matrix.A l'array de base."
     ]
    },
    {
     "cell_type": "code",
     "collapsed": false,
     "input": [
      "m * m"
     ],
     "language": "python",
     "metadata": {},
     "outputs": [
      {
       "metadata": {},
       "output_type": "pyout",
       "prompt_number": 37,
       "text": [
        "matrix([[ 30,  36,  42],\n",
        "        [ 66,  81,  96],\n",
        "        [102, 126, 150]])"
       ]
      }
     ],
     "prompt_number": 37
    },
    {
     "cell_type": "code",
     "collapsed": false,
     "input": [
      "a * a"
     ],
     "language": "python",
     "metadata": {},
     "outputs": [
      {
       "metadata": {},
       "output_type": "pyout",
       "prompt_number": 38,
       "text": [
        "array([[ 1,  4,  9],\n",
        "       [16, 25, 36],\n",
        "       [49, 64, 81]])"
       ]
      }
     ],
     "prompt_number": 38
    },
    {
     "cell_type": "code",
     "collapsed": false,
     "input": [
      "m * a # La priorit\u00e9 des matrix est plus importantes que celles des arrays"
     ],
     "language": "python",
     "metadata": {},
     "outputs": [
      {
       "metadata": {},
       "output_type": "pyout",
       "prompt_number": 39,
       "text": [
        "matrix([[ 30,  36,  42],\n",
        "        [ 66,  81,  96],\n",
        "        [102, 126, 150]])"
       ]
      }
     ],
     "prompt_number": 39
    },
    {
     "cell_type": "code",
     "collapsed": false,
     "input": [
      "print(m**2)\n",
      "print(a**2)"
     ],
     "language": "python",
     "metadata": {},
     "outputs": [
      {
       "output_type": "stream",
       "stream": "stdout",
       "text": [
        "[[ 30  36  42]\n",
        " [ 66  81  96]\n",
        " [102 126 150]]\n",
        "[[ 1  4  9]\n",
        " [16 25 36]\n",
        " [49 64 81]]\n"
       ]
      }
     ],
     "prompt_number": 40
    },
    {
     "cell_type": "markdown",
     "metadata": {},
     "source": [
      "La syntaxe est plus l\u00e9g\u00e8re pour effectuer du calcul matriciel"
     ]
    },
    {
     "cell_type": "code",
     "collapsed": false,
     "input": [
      "m[0,0]= -1\n",
      "print(\"det\", np.linalg.det(m), \"rank\",np.linalg.matrix_rank(m))\n",
      "print(m.I*m)\n",
      "a[0,0] = -1\n",
      "print(\"det\", np.linalg.det(a), \"rank\",np.linalg.matrix_rank(a))\n",
      "print(a.dot(np.linalg.inv(a)))"
     ],
     "language": "python",
     "metadata": {},
     "outputs": [
      {
       "output_type": "stream",
       "stream": "stdout",
       "text": [
        "det 6.0 rank 3\n",
        "[[  1.00000000e+00  -1.33226763e-15  -1.77635684e-15]\n",
        " [  3.55271368e-15   1.00000000e+00   7.10542736e-15]\n",
        " [ -1.77635684e-15  -3.55271368e-15   1.00000000e+00]]\n",
        "det 6.0 rank 3\n",
        "[[  1.00000000e+00   1.77635684e-15  -8.88178420e-16]\n",
        " [  0.00000000e+00   1.00000000e+00   0.00000000e+00]\n",
        " [  0.00000000e+00   0.00000000e+00   1.00000000e+00]]\n"
       ]
      }
     ],
     "prompt_number": 41
    },
    {
     "cell_type": "markdown",
     "metadata": {},
     "source": [
      "<h3 id=\"random\">G\u00e9n\u00e9ration de nombres al\u00e9atoires et statistiques</h3>"
     ]
    },
    {
     "cell_type": "markdown",
     "metadata": {},
     "source": [
      "Le module [numpy.random](http://docs.scipy.org/doc/numpy/reference/routines.random.html) apporte \u00e0 python la possibilit\u00e9 de g\u00e9n\u00e9rer un \u00e9chantillon de taille $n$ directement, alors que le module natif de python ne produit des tirages que un par un. Le module numpy.random est donc bien plus efficace si on veut tirer des \u00e9chantillon cons\u00e9quents. Par ailleurs, [scipy.stats](http://docs.scipy.org/doc/scipy/reference/stats.html) fournit des m\u00e9thodes pour un tr\u00e8s grand nombre de distribution et quelques fonctions classiques de statistiques. "
     ]
    },
    {
     "cell_type": "markdown",
     "metadata": {},
     "source": [
      "Par exemple, on peut obtenir un array 4x3 de tirages gaussiens standard (soit en utilisant [*randn*](http://docs.scipy.org/doc/numpy/reference/generated/numpy.random.randn.html#numpy.random.randn) ou [*normal*](http://docs.scipy.org/doc/numpy/reference/generated/numpy.random.normal.html#numpy.random.normal)):"
     ]
    },
    {
     "cell_type": "code",
     "collapsed": false,
     "input": [
      "np.random.randn(4,3)"
     ],
     "language": "python",
     "metadata": {},
     "outputs": [
      {
       "metadata": {},
       "output_type": "pyout",
       "prompt_number": 51,
       "text": [
        "array([[-0.64255699,  1.47320845,  1.6036177 ],\n",
        "       [ 1.82778282,  0.65999718,  0.80569957],\n",
        "       [ 1.10103971,  0.77174868, -0.54602931],\n",
        "       [-0.17836649,  0.80284524, -1.38777388]])"
       ]
      }
     ],
     "prompt_number": 51
    },
    {
     "cell_type": "markdown",
     "metadata": {},
     "source": [
      "Pour se convaincre que *numpy.random* est plus efficace que le module *random* de base de python. On effectue un grand nombre de tirage gaussiens standard, en python pur et via numpy.\n"
     ]
    },
    {
     "cell_type": "code",
     "collapsed": false,
     "input": [
      "N = int(1e7)\n",
      "from random import normalvariate\n",
      "%timeit [normalvariate(0,1) for _ in range(N)]"
     ],
     "language": "python",
     "metadata": {},
     "outputs": [
      {
       "output_type": "stream",
       "stream": "stdout",
       "text": [
        "1 loops, best of 3: 24.5 s per loop\n"
       ]
      }
     ],
     "prompt_number": 43
    },
    {
     "cell_type": "code",
     "collapsed": false,
     "input": [
      "%timeit np.random.randn(N)"
     ],
     "language": "python",
     "metadata": {},
     "outputs": [
      {
       "output_type": "stream",
       "stream": "stdout",
       "text": [
        "1 loops, best of 3: 770 ms per loop\n"
       ]
      }
     ],
     "prompt_number": 44
    },
    {
     "cell_type": "markdown",
     "metadata": {},
     "source": [
      "<h4 id=\"exo2\">Exercice 2: Marches al\u00e9atoires</h4>"
     ]
    },
    {
     "cell_type": "markdown",
     "metadata": {},
     "source": [
      "Simulez (**en une seule fois!**) 10000 marches al\u00e9atoires de taille 1000, partant de 0 et de pas +1 ou -1 \u00e9quiprobables \n",
      "\n",
      "* Faites un graphe repr\u00e9sentant la racine de la moyenne des carr\u00e9s des positions (=cumul des pas \u00e0 un instant donn\u00e9) en fonction du temps\n",
      "* Quels sont les amplitudes maximales et minimales atteintes parmi l'ensemble des marches al\u00e9atoires?\n",
      "* Combien de marches s'\u00e9loigne de plus de 50 de l'origine?\n",
      "* Parmi celles qui le font, quelle est la moyenne des temps de passage (i.e. le premier moment o\u00f9 ces marches d\u00e9passent +/-50)?\n",
      "\n",
      "Vous aurez peut-\u00eatre besoin des fonctions suivantes: *np.abs, np.mean, np.max, np.where, np.argmax, np.any, np.cumsum, np.random.randint*"
     ]
    },
    {
     "cell_type": "code",
     "collapsed": false,
     "input": [],
     "language": "python",
     "metadata": {},
     "outputs": [],
     "prompt_number": 44
    },
    {
     "cell_type": "markdown",
     "metadata": {},
     "source": [
      "<h3 id=\"optim\">Optimisation avec scipy</h3>\n"
     ]
    },
    {
     "cell_type": "markdown",
     "metadata": {},
     "source": [
      "Le module [scipy.optimize](http://docs.scipy.org/doc/scipy/reference/optimize.html) fournit un panel de m\u00e9thodes d'optimisation. En fonction du probl\u00e8me que vous souhaitez r\u00e9soudre, il vous faut choisir la m\u00e9thode ad\u00e9quate. Je vous conseille vivement la lecture de ce [tutoriel](http://scipy-lectures.github.io/advanced/mathematical_optimization/index.html) sur l'optimisation num\u00e9rique, \u00e9crit par Ga\u00ebl Varoquaux. \n"
     ]
    },
    {
     "cell_type": "markdown",
     "metadata": {},
     "source": [
      "\n",
      "R\u00e9cemment, l'ensemble des solvers ont \u00e9t\u00e9 regroup\u00e9s sous deux interfaces, m\u00eame si on peut toujours faire appel \u00e0 chaque solver directement, ce qui n'est pas conseill\u00e9 car les entr\u00e9es sorties ne sont pas normalis\u00e9es (par contre vous devrez sans doute aller voir l'aide de chaque m\u00e9thode pour vous en servir): \n",
      "\n",
      "* Pour minimiser une fonction scalaire d'une ou plusieurs variables:[scipy.optimize.minimize](http://docs.scipy.org/doc/scipy/reference/generated/scipy.optimize.minimize.html#scipy.optimize.minimize)\n",
      "* Pour minimiser une fonction scalaire d'une variable uniquement:[scipy.optimize.minimize_scalar](http://docs.scipy.org/doc/scipy/reference/generated/scipy.optimize.minimize_scalar.html#scipy.optimize.minimize_scalar)\n",
      "\n",
      "Vous obtiendrez en sortie un objet de type [scipy.optimize.OptimizeResult](http://docs.scipy.org/doc/scipy/reference/generated/scipy.optimize.OptimizeResult.html#scipy.optimize.OptimizeResult)."
     ]
    },
    {
     "cell_type": "markdown",
     "metadata": {},
     "source": [
      "Dans la suite, je d\u00e9veloppe un petit exemple inspir\u00e9 du [tutoriel](http://www.mathworks.fr/fr/help/optim/examples/tutorial-for-the-optimization-toolbox.html#zmw57dd0e494) de la toolbox d'optimisation de Matlab. Par ailleurs, la [documentation](http://www.mathworks.fr/fr/help/optim/ug/unconstrained-nonlinear-optimization-algorithms.html#brnoxxo) de cette toolbox est plut\u00f4t claire et peut toujours vous servir lorsque que vous avez besoin de vous rafraichir la m\u00e9moire sur l'optimisation num\u00e9rique."
     ]
    },
    {
     "cell_type": "markdown",
     "metadata": {},
     "source": [
      "On commence par d\u00e9finir la fonction *bowl_peak*"
     ]
    },
    {
     "cell_type": "code",
     "collapsed": false,
     "input": [
      "def bowl_peak(x,y): \n",
      "    return x*np.exp(-x**2-y**2)+(x**2+y**2)/20"
     ],
     "language": "python",
     "metadata": {},
     "outputs": [],
     "prompt_number": 45
    },
    {
     "cell_type": "markdown",
     "metadata": {},
     "source": [
      "On va ensuite chercher un exemple dans la gallerie matplotlib pour la repr\u00e9senter: [contour3d_demo3](http://matplotlib.org/examples/mplot3d/contour3d_demo3.html). On modifie l\u00e9g\u00e8rement le code pour l'utiliser avec *bowl_peak*"
     ]
    },
    {
     "cell_type": "code",
     "collapsed": false,
     "input": [
      "from mpl_toolkits.mplot3d import axes3d\n",
      "import matplotlib.pyplot as plt\n",
      "from matplotlib import cm #colormaps\n",
      "\n",
      "min_val = -2\n",
      "max_val = 2\n",
      "\n",
      "fig = plt.figure()\n",
      "ax = fig.gca(projection='3d')\n",
      "x_axis = np.linspace(min_val,max_val,100)\n",
      "y_axis = np.linspace(min_val,max_val,100)\n",
      "X, Y = np.meshgrid(x_axis, y_axis, copy=False, indexing='xy')\n",
      "Z = bowl_peak(X,Y)\n",
      "#X, Y, Z = axes3d.get_test_data(0.05)\n",
      "ax.plot_surface(X, Y, Z, rstride=5, cstride=5, alpha=0.2)\n",
      "cset = ax.contour(X, Y, Z, zdir='z', offset=-0.5, cmap=cm.coolwarm)\n",
      "cset = ax.contour(X, Y, Z, zdir='x', offset=min_val, cmap=cm.coolwarm)\n",
      "cset = ax.contour(X, Y, Z, zdir='y', offset=max_val, cmap=cm.coolwarm)\n",
      "\n",
      "ax.set_xlabel('X')\n",
      "ax.set_xlim(min_val, max_val)\n",
      "ax.set_ylabel('Y')\n",
      "ax.set_ylim(min_val, max_val)\n",
      "ax.set_zlabel('Z')\n",
      "ax.set_zlim(-0.5, 0.5)\n",
      "\n",
      "plt.show()"
     ],
     "language": "python",
     "metadata": {},
     "outputs": [
      {
       "metadata": {},
       "output_type": "display_data",
       "png": "[encoded data removed]",
       "text": [
        "<matplotlib.figure.Figure at 0x4622c50>"
       ]
      }
     ],
     "prompt_number": 46
    },
    {
     "cell_type": "markdown",
     "metadata": {},
     "source": [
      "On voit que le minimum se trouve pr\u00e8s de $[-\\frac{1}{2}, 0]$. On va utiliser ce point pour initialiser l'optimisation.\n",
      "On va tester diff\u00e9rentes m\u00e9thodes et comparer les sorties obtenues."
     ]
    },
    {
     "cell_type": "code",
     "collapsed": false,
     "input": [
      "from scipy import optimize\n",
      "x0 = np.array([-0.5, 0])\n",
      "fun = lambda x: bowl_peak(x[0],x[1])\n",
      "methods = [ 'Nelder-Mead', 'CG', 'BFGS', 'Powell', 'Anneal' ]\n",
      "for m in methods:\n",
      "    optim_res = optimize.minimize(fun, x0, method=m)\n",
      "    print(\"Method:{}\\n\".format(m),optim_res, \"\\n\")"
     ],
     "language": "python",
     "metadata": {},
     "outputs": [
      {
       "output_type": "stream",
       "stream": "stdout",
       "text": [
        "Method:Nelder-Mead\n",
        "  success: True\n",
        "  status: 0\n",
        " message: 'Optimization terminated successfully.'\n",
        "     nit: 20\n",
        "       x: array([ -6.69025421e-01,  -1.44567490e-04])\n",
        "     fun: -0.40523685823917283\n",
        "    nfev: 38 \n",
        "\n",
        "Method:CG\n",
        "   status: 2\n",
        "     jac: array([ -2.12926418e-04,   3.72529030e-09])\n",
        " success: False\n",
        " message: 'Desired error not necessarily achieved due to precision loss.'\n",
        "     fun: -0.4052368583334503\n",
        "       x: array([ -6.69183901e-01,  -3.71395638e-09])\n",
        "    nfev: 24\n",
        "    njev: 3 \n",
        "\n",
        "Method:BFGS\n",
        "  hess_inv: array([[ 0.52865446,  0.        ],\n",
        "       [ 0.        ,  1.        ]])\n",
        "   status: 0\n",
        "      jac: array([ -6.08339906e-06,   0.00000000e+00])\n",
        "  success: True\n",
        "  message: 'Optimization terminated successfully.'\n",
        "      fun: -0.40523687025688715\n",
        "        x: array([ -6.69075034e-01,  -7.45058060e-09])\n",
        "     nfev: 28\n",
        "     njev: 7 \n",
        "\n",
        "Method:Powell\n",
        "   status: 0\n",
        "     nit: 2\n",
        "    nfev: 62\n",
        " success: True\n",
        "   direc: array([[  0.00000000e+00,   1.00000000e+00],\n",
        "       [ -6.85432298e-04,  -4.67045589e-11]])\n",
        " message: 'Optimization terminated successfully.'\n",
        "     fun: -0.40523687026669025\n",
        "       x: array([ -6.69071822e-01,  -1.15386055e-08]) \n",
        "\n",
        "Method:Anneal\n"
       ]
      },
      {
       "output_type": "stream",
       "stream": "stdout",
       "text": [
        "   status: 5\n",
        "     nit: 17\n",
        "    nfev: 901\n",
        "  accept: 128\n",
        " success: False\n",
        " message: 'Final point not the minimum amongst encountered points'\n",
        "       T: 3.0079519736223093\n",
        "     fun: 5.6507768236809097\n",
        "       x: array([ 9.78551594,  4.15442104]) \n",
        "\n"
       ]
      }
     ],
     "prompt_number": 47
    },
    {
     "cell_type": "markdown",
     "metadata": {},
     "source": [
      "On trouve un minimum \u00e0 $-0.4052$ en $[-0.669, 0.000]$ pour toutes les m\u00e9thodes qui convergent. Notez le message de sortie de 'CG' qui signifie que le gradient ne varie plus assez. Personnellement, je ne trouve pas ce message de sortie tr\u00e8s clair. Le point trouv\u00e9 est bien l'optimum cherch\u00e9 pourtant. Notez aussi le nombre d'\u00e9valuation de la fonction (*nfev*) pour chaque m\u00e9thode, et le nombre d'\u00e9valuation de gradient (*njev*) pour les m\u00e9thodes qui reposent sur un calcul de gradient."
     ]
    },
    {
     "cell_type": "markdown",
     "metadata": {},
     "source": [
      "Remarquez aussi que si on relance *Anneal* plusieurs fois, on n'est pas assur\u00e9 d'obtenir la m\u00eame solution, puisqu'il s'agit d'une m\u00e9taheuristique."
     ]
    },
    {
     "cell_type": "code",
     "collapsed": false,
     "input": [
      "for i in range(4):\n",
      "    optim_res = optimize.minimize(fun, x0, method='Anneal')\n",
      "    print(\"Method:{} - Test:{}\\n\".format(m,i),optim_res, \"\\n\")"
     ],
     "language": "python",
     "metadata": {},
     "outputs": [
      {
       "output_type": "stream",
       "stream": "stdout",
       "text": [
        "Method:Anneal - Test:0\n",
        "   status: 5\n",
        "     nit: 15\n",
        "    nfev: 801\n",
        "  accept: 106\n",
        " success: False\n",
        " message: 'Final point not the minimum amongst encountered points'\n",
        "       T: 6.9473398457204905\n",
        "     fun: 0.40674960139884642\n",
        "       x: array([-1.0917908 , -2.63616092]) \n",
        "\n",
        "Method:Anneal - Test:1\n"
       ]
      },
      {
       "output_type": "stream",
       "stream": "stdout",
       "text": [
        "   status: 0\n",
        "     nit: 19\n",
        "    nfev: 1001\n",
        "  accept: 158\n",
        " success: True\n",
        " message: 'Points no longer changing'\n",
        "       T: 1.7505552680456185\n",
        "     fun: 0.28240088481787168\n",
        "       x: array([ 1.09710322,  0.71883768]) \n",
        "\n",
        "Method:Anneal - Test:2\n"
       ]
      },
      {
       "output_type": "stream",
       "stream": "stdout",
       "text": [
        "   status: 5\n",
        "     nit: 22\n",
        "    nfev: 1151\n",
        "  accept: 124\n",
        " success: False\n",
        " message: 'Final point not the minimum amongst encountered points'\n",
        "       T: 0.57742281265279494\n",
        "     fun: 4.2834141381034225\n",
        "       x: array([-7.81916206,  4.95267477]) \n",
        "\n",
        "Method:Anneal - Test:3\n"
       ]
      },
      {
       "output_type": "stream",
       "stream": "stdout",
       "text": [
        "   status: 5\n",
        "     nit: 23\n",
        "    nfev: 1201\n",
        "  accept: 162\n",
        " success: False\n",
        " message: 'Final point not the minimum amongst encountered points'\n",
        "       T: 0.44661158810971047\n",
        "     fun: 0.36175979553788462\n",
        "       x: array([-2.00201445,  1.80421594]) \n",
        "\n"
       ]
      }
     ],
     "prompt_number": 48
    },
    {
     "cell_type": "markdown",
     "metadata": {},
     "source": [
      "On va \u00e9valuer le temps de calcul n\u00e9cessaire \u00e0 chaque m\u00e9thode."
     ]
    },
    {
     "cell_type": "code",
     "collapsed": false,
     "input": [
      "for m in methods:\n",
      "    print(\"Method:{}:\".format(m))\n",
      "    %timeit optim_res = optimize.minimize(fun, x0, method=m)\n",
      "    print('############')"
     ],
     "language": "python",
     "metadata": {},
     "outputs": [
      {
       "output_type": "stream",
       "stream": "stdout",
       "text": [
        "Method:Nelder-Mead:\n",
        "100 loops, best of 3: 2.58 ms per loop"
       ]
      },
      {
       "output_type": "stream",
       "stream": "stdout",
       "text": [
        "\n",
        "############\n",
        "Method:CG:\n",
        "1000 loops, best of 3: 1.41 ms per loop"
       ]
      },
      {
       "output_type": "stream",
       "stream": "stdout",
       "text": [
        "\n",
        "############\n",
        "Method:BFGS:\n",
        "100 loops, best of 3: 1.91 ms per loop"
       ]
      },
      {
       "output_type": "stream",
       "stream": "stdout",
       "text": [
        "\n",
        "############\n",
        "Method:Powell:\n",
        "100 loops, best of 3: 2.99 ms per loop"
       ]
      },
      {
       "output_type": "stream",
       "stream": "stdout",
       "text": [
        "\n",
        "############\n",
        "Method:Anneal:\n",
        "10 loops, best of 3: 83.6 ms per loop"
       ]
      },
      {
       "output_type": "stream",
       "stream": "stdout",
       "text": [
        "\n",
        "############\n"
       ]
      }
     ],
     "prompt_number": 49
    },
    {
     "cell_type": "markdown",
     "metadata": {},
     "source": [
      "On peut aussi fournir des arguments suppl\u00e9mentaires \u00e0 la fonction qu'on optimise. Par exemple, les donn\u00e9es lorsque vous maximisez une log-vraissemblance. En voici un exemple: on consid\u00e8re une version rescaled de la fonction *bowl_peak*. Vous pourriez aussi utiliser une lambda fonction."
     ]
    },
    {
     "cell_type": "code",
     "collapsed": false,
     "input": [
      "def shifted_scaled_bowlpeak(x,a,b,c):\n",
      "    return (x[0]-a)*np.exp(-((x[0]-a)**2+(x[1]-b)**2))+((x[0]-a)**2+(x[0]-b)**2)/c\n",
      "a = 2\n",
      "b = 3\n",
      "c = 10\n",
      "optim_res = optimize.minimize(shifted_scaled_bowlpeak, x0, args=(a,b,c), method='BFGS')\n",
      "print(optim_res)\n",
      "print('#######')\n",
      "optim_res = optimize.minimize(lambda x:shifted_scaled_bowlpeak(x,a,b,c), x0, method='BFGS')\n",
      "print(optim_res)\n"
     ],
     "language": "python",
     "metadata": {},
     "outputs": [
      {
       "output_type": "stream",
       "stream": "stdout",
       "text": [
        " hess_inv: array([[  1.40762050e+00,  -1.59786339e+02],\n",
        "       [ -1.59786339e+02,   7.21819572e+05]])\n",
        "   status: 0\n",
        "      jac: array([ -9.69972461e-06,   5.58793545e-08])\n",
        "  success: True\n",
        "  message: 'Optimization terminated successfully.'\n",
        "      fun: 0.050000006711482206\n",
        "        x: array([ 2.49997573, -1.23012874])\n",
        "     nfev: 96\n",
        "     njev: 24\n",
        "#######\n",
        " hess_inv: array([[  1.40762050e+00,  -1.59786339e+02],\n",
        "       [ -1.59786339e+02,   7.21819572e+05]])\n",
        "   status: 0\n",
        "      jac: array([ -9.69972461e-06,   5.58793545e-08])\n",
        "  success: True\n",
        "  message: 'Optimization terminated successfully.'\n",
        "      fun: 0.050000006711482206\n",
        "        x: array([ 2.49997573, -1.23012874])\n",
        "     nfev: 96\n",
        "     njev: 24\n"
       ]
      }
     ],
     "prompt_number": 50
    },
    {
     "cell_type": "markdown",
     "metadata": {},
     "source": [
      "Vous pouvez continuer ce petit benchmark en ajoutant le gradient et la hessienne... les calculs seront plus pr\u00e9cis et plus rapides."
     ]
    },
    {
     "cell_type": "markdown",
     "metadata": {},
     "source": [
      "<h4 id=\"exo3\">Exercice 3: Simulation, Regression, Estimation par maximisation de la vraisemblance </h4>"
     ]
    },
    {
     "cell_type": "markdown",
     "metadata": {},
     "source": [
      "* On commence par simuler la variable $Y = 3 X_1 -2 X_2 +2 + \\epsilon$ o\u00f9 $X_1,X_2,\\epsilon \\sim \\mathcal{N}(0,1)$ \n",
      "* On souhaite ensuite retrouver les coefficients dans la [r\u00e9gression lin\u00e9aire](http://fr.wikipedia.org/wiki/R%C3%A9gression_lin%C3%A9aire) de $Y$ sur $X_1$ et $X_2$ dans un mod\u00e8le avec constante, par la m\u00e9thode des Moindres Carr\u00e9s Ordinaires. On rappelle que la forme matricielle de l'estimateur des MCO est $\\hat{\\beta} = (X'X)^{-1}X'Y$\n",
      "* Enfin, $Y$ \u00e9tant normale, on souhaite estimer ses param\u00e8tres par maximisation de vraisemblance:\n",
      "    * La densit\u00e9 s'\u00e9crit: $f(x, \\mu, \\sigma) = \\frac{1}{\\sigma \\sqrt{2\\pi} } e^{ -\\frac{(x-\\mu)^2}{2\\sigma^2} }$\n",
      "    * La log-vraisemblance: $\\ln\\mathcal{L}(\\mu,\\sigma^2) = \\sum_{i=1}^n \\ln f(x_i;\\,\\mu,\\sigma^2) = -\\frac{n}{2}\\ln(2\\pi) - \\frac{n}{2}\\ln\\sigma^2 - \\frac{1}{2\\sigma^2}\\sum_{i=1}^n (x_i-\\mu)^2$.\n",
      "    * L'\u00e9criture des conditions au premier ordre donne une formule ferm\u00e9e pour les estimateurs du maximum de vraisemblance: $\\hat{\\mu} = \\overline{x} \\equiv \\frac{1}{n}\\sum_{i=1}^n x_i$, $\\hat{\\sigma}^2 = \\frac{1}{n} \\sum_{i=1}^n (x_i - \\overline{x})^2$.\n",
      "    * V\u00e9rifiez en les impl\u00e9mentant directement que vous trouvez bien la m\u00eame solution que le minimum obtenu en utilisant *scipy.optimize.minimize* pour minimiser l'oppos\u00e9 de la log-vraissemblance."
     ]
    },
    {
     "cell_type": "code",
     "collapsed": false,
     "input": [],
     "language": "python",
     "metadata": {},
     "outputs": [],
     "prompt_number": 50
    },
    {
     "cell_type": "markdown",
     "metadata": {},
     "source": [
      "<h3 id=\"cvxopt\">Optimisation quadratique (sous contraintes) avec cvxopt</h3>\n"
     ]
    },
    {
     "cell_type": "markdown",
     "metadata": {},
     "source": [
      "Voir l'exercice 1 [ici](http://www.xavierdupre.fr/app/ensae_teaching_cs/helpsphinx/notebooks/td1a_cenonce_session9.html)"
     ]
    },
    {
     "cell_type": "markdown",
     "metadata": {},
     "source": [
      "<h3 id=\"ref\">R\u00e9f\u00e9rences</h3>"
     ]
    },
    {
     "cell_type": "markdown",
     "metadata": {},
     "source": [
      "* [100 numpy exercises](http://www.loria.fr/~rougier/teaching/numpy.100/)\n",
      "* [Un tutoriel bien fait et tr\u00e8s complet sur numpy](http://www.tp.umu.se/~nylen/pylect/intro/numpy/numpy.html). L'un des auteurs n'est autre que Ga\u00ebl Varoquaux qui sera pr\u00e9sent pour la s\u00e9ance 3. Voir aussi l'[ensemble du tutoriel](http://www.tp.umu.se/~nylen/pylect/index.html) et notamment la [partie optimisation](http://www.tp.umu.se/~nylen/pylect/intro/scipy.html#optimization-and-fit-scipy-optimize) "
     ]
    },
    {
     "cell_type": "code",
     "collapsed": false,
     "input": [],
     "language": "python",
     "metadata": {},
     "outputs": []
    }
   ],
   "metadata": {}
  }
 ]
}