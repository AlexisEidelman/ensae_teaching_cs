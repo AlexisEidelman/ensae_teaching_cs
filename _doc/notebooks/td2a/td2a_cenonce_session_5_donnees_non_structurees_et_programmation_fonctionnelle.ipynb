{
 "cells": [
  {
   "cell_type": "markdown",
   "metadata": {},
   "source": [
    "# TP 05 - données non structurées et programmation fonctionnelle"
   ]
  },
  {
   "cell_type": "code",
   "execution_count": 1,
   "metadata": {
    "collapsed": false
   },
   "outputs": [
    {
     "data": {
      "text/html": [
       "<div id=\"my_id_menu_nb\">run previous cell, wait for 2 seconds</div>\n",
       "<script>\n",
       "function repeat_indent_string(n){\n",
       "    var a = \"\" ;\n",
       "    for ( ; n > 0 ; --n) {\n",
       "        a += \"    \";\n",
       "    }\n",
       "    return a;\n",
       "}\n",
       "var update_menu_string = function(begin, lfirst, llast, sformat, send, keep_item) {\n",
       "    var anchors = document.getElementsByClassName(\"section\");\n",
       "    if (anchors.length == 0) {\n",
       "        anchors = document.getElementsByClassName(\"text_cell_render rendered_html\");\n",
       "    }\n",
       "    var i,t;\n",
       "    var text_menu = begin;\n",
       "    var text_memo = \"<pre>\\nlength:\" + anchors.length + \"\\n\";\n",
       "    var ind = \"\";\n",
       "    var memo_level = 1;\n",
       "    var href;\n",
       "    var tags = [];\n",
       "    var main_item = 0;\n",
       "    for (i = 0; i <= llast; i++) {\n",
       "        tags.push(\"h\" + i);\n",
       "    }\n",
       "\n",
       "    for (i = 0; i < anchors.length; i++) {\n",
       "        text_memo += \"**\" + anchors[i].id + \"--\\n\";\n",
       "\n",
       "        var child = null;\n",
       "        for(t = 0; t < tags.length; t++) {\n",
       "            var r = anchors[i].getElementsByTagName(tags[t]);\n",
       "            if (r.length > 0) {\n",
       "child = r[0];\n",
       "break;\n",
       "            }\n",
       "        }\n",
       "        if (child == null){\n",
       "            text_memo += \"null\\n\";\n",
       "            continue;\n",
       "        }\n",
       "        if (anchors[i].hasAttribute(\"id\")) {\n",
       "            // when converted in RST\n",
       "            href = anchors[i].id;\n",
       "            text_memo += \"#1-\" + href;\n",
       "            // passer à child suivant (le chercher)\n",
       "        }\n",
       "        else if (child.hasAttribute(\"id\")) {\n",
       "            // in a notebook\n",
       "            href = child.id;\n",
       "            text_memo += \"#2-\" + href;\n",
       "        }\n",
       "        else {\n",
       "            text_memo += \"#3-\" + \"*\" + \"\\n\";\n",
       "            continue;\n",
       "        }\n",
       "        var title = child.textContent;\n",
       "        var level = parseInt(child.tagName.substring(1,2));\n",
       "\n",
       "        text_memo += \"--\" + level + \"?\" + lfirst + \"--\" + title + \"\\n\";\n",
       "\n",
       "        if ((level < lfirst) || (level > llast)) {\n",
       "            continue ;\n",
       "        }\n",
       "        if (title.endsWith('¶')) {\n",
       "            title = title.substring(0,title.length-1).replace(\"<\", \"&lt;\").replace(\">\", \"&gt;\").replace(\"&\", \"&amp;\")\n",
       "        }\n",
       "\n",
       "        if (title.length == 0) {\n",
       "            continue;\n",
       "        }\n",
       "\n",
       "        while (level < memo_level) {\n",
       "            text_menu += \"</ul>\\n\";\n",
       "            memo_level -= 1;\n",
       "        }\n",
       "        if (level == lfirst) {\n",
       "            main_item += 1;\n",
       "        }\n",
       "        if (keep_item != -1 && main_item != keep_item + 1) {\n",
       "            // alert(main_item + \" - \" + level + \" - \" + keep_item);\n",
       "            continue;\n",
       "        }\n",
       "        while (level > memo_level) {\n",
       "            text_menu += \"<ul>\\n\";\n",
       "            memo_level += 1;\n",
       "        }\n",
       "        text_menu += repeat_indent_string(level-2) + sformat.replace(\"__HREF__\", href).replace(\"__TITLE__\", title);\n",
       "    }\n",
       "    while (1 < memo_level) {\n",
       "        text_menu += \"</ul>\\n\";\n",
       "        memo_level -= 1;\n",
       "    }\n",
       "    text_menu += send;\n",
       "    //text_menu += \"\\n\" + text_memo;\n",
       "    return text_menu;\n",
       "};\n",
       "var update_menu = function() {\n",
       "    var sbegin = \"\";\n",
       "    var sformat = '<li><a href=\"#__HREF__\">__TITLE__</a></li>';\n",
       "    var send = \"\";\n",
       "    var keep_item = -1;\n",
       "    var text_menu = update_menu_string(sbegin, 2, 4, sformat, send, keep_item);\n",
       "    var menu = document.getElementById(\"my_id_menu_nb\");\n",
       "    menu.innerHTML=text_menu;\n",
       "};\n",
       "window.setTimeout(update_menu,2000);\n",
       "            </script>"
      ],
      "text/plain": [
       "<IPython.core.display.HTML object>"
      ]
     },
     "execution_count": 1,
     "metadata": {},
     "output_type": "execute_result"
    }
   ],
   "source": [
    "from pyquickhelper.ipythonhelper import add_notebook_menu\n",
    "add_notebook_menu()"
   ]
  },
  {
   "cell_type": "markdown",
   "metadata": {},
   "source": [
    "Commencez par télécharger la base de donnée [twitter_for_network_100000.db](https://drive.google.com/file/d/0B6jkqYitZ0uTWjFjd3lpREpFYVE/view?usp=sharing). Vous pourrez éventuellement télécharger la base complète (3,4 millions d'utilisateurs, plutôt que 100000) ultérieurement si vous souhaitez tester vos fonctions. Ne perdez pas de temps avec ceci dans ce TP : [twitter_for_network_full.db](https://drive.google.com/file/d/0B6jkqYitZ0uTWkR6cDZQUTlVSWM/view?usp=sharing).\n",
    "\n",
    "Vous pouvez consulter l'aide de [pytoolz](http://toolz.readthedocs.org/en/latest/) (même interface que cytoolz).\n",
    "La section sur l'[API](http://toolz.readthedocs.org/en/latest/api.html) est particulièrement utile car elle résume bien les différentes fonctions.  \n",
    "\n",
    "Liens alternatifs :\n",
    "\n",
    "* [twitter_for_network_100000.db.zip](http://www.xavierdupre.fr/enseignement/complements/twitter_for_network_100000.db.zip)\n",
    "* [twitter_for_network_full.db.zip](http://www.xavierdupre.fr/enseignement/complements/twitter_for_network_full.db.zip)\n",
    "\n",
    "Ensuite exécutez la cellule suivante :"
   ]
  },
  {
   "cell_type": "code",
   "execution_count": 2,
   "metadata": {
    "collapsed": false
   },
   "outputs": [
    {
     "data": {
      "text/plain": [
       "['twitter_for_network_100000.db']"
      ]
     },
     "execution_count": 2,
     "metadata": {},
     "output_type": "execute_result"
    }
   ],
   "source": [
    "import pyensae\n",
    "pyensae.download_data(\"twitter_for_network_100000.db.zip\")"
   ]
  },
  {
   "cell_type": "code",
   "execution_count": 3,
   "metadata": {
    "collapsed": true
   },
   "outputs": [],
   "source": [
    "import cytoolz as ct \n",
    "import cytoolz.curried as ctc\n",
    "import sqlite3\n",
    "import pprint\n",
    "import json\n",
    "\n",
    "conn_sqlite = sqlite3.connect(\"twitter_for_network_100000.db\")\n",
    "cursor_sqlite = conn_sqlite.cursor()"
   ]
  },
  {
   "cell_type": "markdown",
   "metadata": {},
   "source": [
    "## Description de la base de donnée"
   ]
  },
  {
   "cell_type": "markdown",
   "metadata": {},
   "source": [
    "Nous nous intéresserons à 3 tables : **tw_users**, **tw_status** et **tw_followers_id**.  \n",
    "\n",
    "La première (**tw_users**) contient des profils utilisateurs tels que retournés par l'api twitter (à noter que les profils ont été \"épurés\" d'informations jugées inutiles pour limiter la taille de la base de donnée).\n",
    "\n",
    "La deuxième (**tw_status**) contient des status twitter (tweet, retweet, ou réponse à un tweet), complets, issus d'une certaine catégorie d'utilisateurs (les tweets sont tous issus d'environ 70 profils).\n",
    "\n",
    "La troisième (**tw_followers_id**) contient des listes d'id d'users, qui suivent les utilisateurs référencés par la colonne user_id. Là encore ce ne sont les followers que de environ 70 profils. Chaque entrée contient au plus 5000 id de followers (il s'agit d'une limitation de twitter).\n",
    "\n",
    "Elles ont les structures suivantes :\n",
    "\n",
    "```\n",
    "CREATE TABLE tw_followers_id( user_id bigint NOT NULL, cursor bigint NOT NULL, \n",
    "                              prev_cursor bigint NOT NULL, next_cursor bigint NOT NULL, \n",
    "                              update_time timestamp NOT NULL, content json NOT NULL);\n",
    "CREATE TABLE tw_users( id bigint NOT NULL, last_update timestamp NOT NULL,    \n",
    "                       content json, screen_name character varying(512));\n",
    "CREATE TABLE tw_status( id bigint NOT NULL, user_id bigint NOT NULL,    \n",
    "                        last_update timestamp NOT NULL, content json);\n",
    "```\n",
    "\n",
    "Les trois possèdent un champ content, de type json, qui sera celui qui nous interessera le plus. Vous pouvez accédez aux données dans les tables avec les syntaxes suivantes (vous pouvez commenter/décommenter les différentes requêtes)."
   ]
  },
  {
   "cell_type": "code",
   "execution_count": 4,
   "metadata": {
    "collapsed": false
   },
   "outputs": [
    {
     "data": {
      "text/plain": [
       "(1103159180,\n",
       " '{\"utc_offset\": 7200, \"friends_count\": 454, \"entities\": {\"description\": {\"urls\": []}, \"url\": {\"urls\": [{\"expanded_url\": \"http://www.havas.com\", \"display_url\": \"havas.com\", \"indices\": [0, 22], \"url\": \"http://t.co/8GcZtydjWh\"}]}}, \"description\": \"Havas Group CEO\", \"id\": 1103159180, \"contributors_enabled\": false, \"geo_enabled\": false, \"name\": \"Yannick Bollor\\\\u00e9\", \"favourites_count\": 873, \"verified\": true, \"protected\": false, \"created_at\": \"Sat Jan 19 08:23:33 +0000 2013\", \"statuses_count\": 654, \"lang\": \"en\", \"time_zone\": \"Ljubljana\", \"screen_name\": \"YannickBollore\", \"location\": \"\", \"id_str\": \"1103159180\", \"url\": \"http://t.co/8GcZtydjWh\", \"followers_count\": 7345, \"listed_count\": 118, \"has_extended_profile\": false}',\n",
       " 'YannickBollore')"
      ]
     },
     "execution_count": 4,
     "metadata": {},
     "output_type": "execute_result"
    }
   ],
   "source": [
    "# cursor_sqlite.execute(\"SELECT user_id, content FROM tw_followers_id\")\n",
    "cursor_sqlite.execute(\"SELECT id, content, screen_name FROM tw_users\")\n",
    "# cursor_sqlite.execute(\"SELECT id, content, user_id FROM tw_status\")\n",
    "\n",
    "for it_elt in cursor_sqlite:\n",
    "    ## do something here\n",
    "    pass\n",
    "\n",
    "# ou, pour accéder à un élément :\n",
    "cursor_sqlite.execute(\"SELECT id, content, screen_name FROM tw_users\")\n",
    "cursor_sqlite.fetchone()"
   ]
  },
  {
   "cell_type": "markdown",
   "metadata": {},
   "source": [
    "Toutefois les curseurs de base de donnée en python se comportent comme des \"iterables\" (i.e. comme une liste ou une séquence, mais sans nécessairement charger toutes les données en mémoire). On peut donc les passer directement en argument aux fonctions de [cytoolz](https://github.com/pytoolz/cytoolz)."
   ]
  },
  {
   "cell_type": "code",
   "execution_count": 5,
   "metadata": {
    "collapsed": false
   },
   "outputs": [
    {
     "name": "stdout",
     "output_type": "stream",
     "text": [
      "2079\n",
      "16092\n",
      "100071\n"
     ]
    }
   ],
   "source": [
    "cursor_sqlite.execute( \"SELECT user_id, content FROM tw_followers_id\")\n",
    "print( ct.count( cursor_sqlite ) )\n",
    "cursor_sqlite.execute( \"SELECT id, content, user_id FROM tw_status\")\n",
    "print( ct.count( cursor_sqlite ) )\n",
    "cursor_sqlite.execute( \"SELECT id, content, screen_name FROM tw_users\")\n",
    "print( ct.count( cursor_sqlite ) )"
   ]
  },
  {
   "cell_type": "markdown",
   "metadata": {},
   "source": [
    "**Attention au fait que le curseur garde un état**.  \n",
    "Par exemple exécutez le code suivant :  "
   ]
  },
  {
   "cell_type": "code",
   "execution_count": 6,
   "metadata": {
    "collapsed": false
   },
   "outputs": [
    {
     "name": "stdout",
     "output_type": "stream",
     "text": [
      "2079\n",
      "0\n"
     ]
    }
   ],
   "source": [
    "cursor_sqlite.execute( \"SELECT user_id, content FROM tw_followers_id\")\n",
    "print( ct.count( cursor_sqlite ) )\n",
    "print( ct.count( cursor_sqlite ) )"
   ]
  },
  {
   "cell_type": "markdown",
   "metadata": {},
   "source": [
    "Le deuxième count renvoit 0 car le curseur se rappelle qu'il est déjà arrivé à la fin des données qu'il devait parcourir. Il faut donc réinitialiser le curseur :"
   ]
  },
  {
   "cell_type": "code",
   "execution_count": 7,
   "metadata": {
    "collapsed": false
   },
   "outputs": [
    {
     "name": "stdout",
     "output_type": "stream",
     "text": [
      "2079\n",
      "2079\n"
     ]
    }
   ],
   "source": [
    "cursor_sqlite.execute( \"SELECT user_id, content FROM tw_followers_id\")\n",
    "print( ct.count( cursor_sqlite ) )\n",
    "cursor_sqlite.execute( \"SELECT user_id, content FROM tw_followers_id\")\n",
    "print( ct.count( cursor_sqlite ) )"
   ]
  },
  {
   "cell_type": "markdown",
   "metadata": {},
   "source": [
    "On peut également mettre la commande execute à l'intérieur d'une fonction, que l'on appelle ensuite :"
   ]
  },
  {
   "cell_type": "code",
   "execution_count": 8,
   "metadata": {
    "collapsed": false
   },
   "outputs": [
    {
     "name": "stdout",
     "output_type": "stream",
     "text": [
      "2079\n",
      "2079\n"
     ]
    }
   ],
   "source": [
    "def get_tw_followers_id():\n",
    "    return cursor_sqlite.execute( \"SELECT user_id, content FROM tw_followers_id\")\n",
    "print( ct.count( get_tw_followers_id() ) )\n",
    "print( ct.count( get_tw_followers_id() ) )"
   ]
  },
  {
   "cell_type": "markdown",
   "metadata": {},
   "source": [
    "La commande exécute en elle-même ne prend pas du tout de temps, car elle ne fait que préparer la requête, n'hésitez donc pas à en mettre systématiquement dans vos cellules, plutôt que de risquer d'avoir un curseur dont vous ne vous souvenez plus de l'état."
   ]
  },
  {
   "cell_type": "markdown",
   "metadata": {},
   "source": [
    "## Partie 1 - description de la base de donnée"
   ]
  },
  {
   "cell_type": "markdown",
   "metadata": {},
   "source": [
    "#### Question 1 - éléments unique d'une table"
   ]
  },
  {
   "cell_type": "markdown",
   "metadata": {},
   "source": [
    "Trouvez la liste des ``user_id`` différents dans la table ``tw_followers_id``, en utilisant les fonctions cytoolz.  \n",
    "La fonction qui pourra vous être utiles ici :  \n",
    "\n",
    "  - [ct.unique(seq)](http://toolz.readthedocs.io/en/latest/api.html#toolz.itertoolz.unique) $\\Rightarrow$ à partir d'une séquence, renvoit une séquence où tous les doublons ont été supprimés\n",
    "  \n",
    "Vous vous rappelez sans doute que nous utilisions systématiquement [pluck](http://toolz.readthedocs.io/en/latest/api.html?highlight=pluck#toolz.itertoolz.pluck) et [map](https://docs.python.org/3/library/functions.html#map) pour les exemples du cours, ceux-ci ne sont pas nécessaires ici. A noter qu'il faudra sans doute utilisez la fonction ``list( ... )``, ou une boucle ``for`` pour forcer l'évaluation des fonctions [cytoolz](https://github.com/pytoolz/cytoolz)."
   ]
  },
  {
   "cell_type": "code",
   "execution_count": 9,
   "metadata": {
    "collapsed": false
   },
   "outputs": [],
   "source": [
    "import cytoolz as ct \n",
    "import cytoolz.curried as ctc"
   ]
  },
  {
   "cell_type": "markdown",
   "metadata": {},
   "source": [
    "A noter que si vous voyez apparaître vos résultats sous la forme (79145543,), c'est normal, le curseur sqlite renvoit toujours ces résultats sous forme de tuple : *(colonne1, colonne2, colonne3, ...)* et ce même si il n'y a qu'une seule colonne dans la requête. Nous utiliserons [pluck](http://toolz.readthedocs.io/en/latest/api.html?highlight=pluck#toolz.itertoolz.pluck) pour extraire le premier élément du tuple."
   ]
  },
  {
   "cell_type": "markdown",
   "metadata": {},
   "source": [
    "#### Question 2 - nombre d'élements unique d'une table"
   ]
  },
  {
   "cell_type": "markdown",
   "metadata": {},
   "source": [
    "Trouvez le nombre de user_id différents dans la table tw_followers_id, en utilisant les fonctions cytoolz.  \n",
    "Les fonctions qui pourront vous êtres utiles ici :  \n",
    "\n",
    "  - ct.count(seq) => compte le nombre d'éléments d'une séquence\n",
    "  - ct.unique(seq) => à partir d'une séquence, renvoit une séquence où tous les doublons ont été supprimés\n",
    "  \n",
    "Vous vous rappelez sans doute que nous utilisions systématiquement pluck et map pour les exemples du cours, ceux-ci ne sont pas nécessaires, ici."
   ]
  },
  {
   "cell_type": "code",
   "execution_count": 10,
   "metadata": {
    "collapsed": false
   },
   "outputs": [],
   "source": [
    "import cytoolz as ct \n",
    "import cytoolz.curried as ctc"
   ]
  },
  {
   "cell_type": "markdown",
   "metadata": {},
   "source": [
    "#### Question 3 : création d'une fonction comptez_unique"
   ]
  },
  {
   "cell_type": "markdown",
   "metadata": {},
   "source": [
    "A l'aide de [ct.compose](http://toolz.readthedocs.io/en/latest/api.html?highlight=compose#toolz.functoolz.compose), créez une fonction ``comptez_unique`` qui effectue directement cette opération. Pour rappel, ``ct.compose( f, g, h, ...)`` renvoit une fonction qui appelée sur ``x`` exécute ``(f(g(h(x)))``. [ct.compose](http://toolz.readthedocs.io/en/latest/api.html?highlight=compose#toolz.functoolz.compose) prend un nombre d'arguments quelconque. A noter que les fonctions données en argument doivent ne prendre qu'un seul argument, ce qui est le cas ici. Pensez bien que comme vous manipulez ici les fonctions elle-même, il ne faut pas mettre de parenthèses après "
   ]
  },
  {
   "cell_type": "code",
   "execution_count": 11,
   "metadata": {
    "collapsed": false
   },
   "outputs": [],
   "source": [
    "import cytoolz as ct \n",
    "import cytoolz.curried as ctc"
   ]
  },
  {
   "cell_type": "code",
   "execution_count": 12,
   "metadata": {
    "collapsed": false
   },
   "outputs": [],
   "source": [
    "## Pour tester votre code, cette ligne doit renvoyer le même nombre qu'à la question 2\n",
    "# comptez_unique( cursor_sqlite.execute( \"SELECT user_id FROM tw_followers_id\") )"
   ]
  },
  {
   "cell_type": "markdown",
   "metadata": {},
   "source": [
    "#### Question 4 : compte du nombre de valeurs de \"location\" différentes dans la table tw_users"
   ]
  },
  {
   "cell_type": "markdown",
   "metadata": {},
   "source": [
    "Nous allons utiliser la fonction comptez_unique définie précédemment pour comptez le nombre de \"location\" différentes dans la table **tw_users**.  \n",
    "Pour cela il faudra faire appel à deux fonctions :  \n",
    "\n",
    "  - [ct.pluck](http://toolz.readthedocs.io/en/latest/api.html#toolz.itertoolz.pluck) pour extraire une valeur de tous les éléments d'une séquence\n",
    "  - **ct.map** (ie ``map = cytoolz.curry(map)``) pour appliquer une fonction (ici [json.loads](https://docs.python.org/3/library/json.html#json.loads) pour transformer une chaîne de caractère au format json en objet python).\n",
    "  \n",
    "Il faudra sans doute appliquer [ct.pluck](http://toolz.readthedocs.io/en/latest/api.html#toolz.itertoolz.pluck) deux fois, une fois pour extraire la colonne content du résultat de la requête (même si celle-ci ne comprend qu'une colonne) et une fois pour extraire le champ \"location\" du json.\n",
    "\n",
    "Les syntaxes de ces fonctions sont les suivantes :\n",
    "\n",
    "  - ``ct.pluck( 0, seq )`` (cas d'une séquence de liste ou de tuple) ou ``ct.pluck( key, seq )`` (cas d'une séquence de dictionnaire).\n",
    "  - ``ct.map( f, seq )`` où f est la fonction que l'on souhaite appliquer (ne mettez pas les parenthèses après le f, ici vous faites références à la fonction, pas son résultat)"
   ]
  },
  {
   "cell_type": "markdown",
   "metadata": {},
   "source": [
    "*tips* dans le cas improbable où vous auriez un ordinateur sensiblement plus lent que le rédacteur du tp, rajoutez LIMIT 10000 à la fin des requêtes"
   ]
  },
  {
   "cell_type": "code",
   "execution_count": 13,
   "metadata": {
    "collapsed": false
   },
   "outputs": [
    {
     "data": {
      "text/plain": [
       "<sqlite3.Cursor at 0x1dcb915cd50>"
      ]
     },
     "execution_count": 13,
     "metadata": {},
     "output_type": "execute_result"
    }
   ],
   "source": [
    "import cytoolz as ct \n",
    "\n",
    "cursor_sqlite.execute( \"SELECT content FROM tw_users\")\n",
    "# Le résultat attendu est 13730"
   ]
  },
  {
   "cell_type": "markdown",
   "metadata": {},
   "source": [
    "#### Question 5 : curly fonctions\n",
    "\n",
    "Comme on risque de beaucoup utiliser les fonctions ``ct.map`` et [ct.pluck](http://toolz.readthedocs.io/en/latest/api.html#toolz.itertoolz.pluck), on veut se simplifier la vie en utilisant la notation suivante :  "
   ]
  },
  {
   "cell_type": "code",
   "execution_count": 14,
   "metadata": {
    "collapsed": false
   },
   "outputs": [
    {
     "name": "stderr",
     "output_type": "stream",
     "text": [
      "c:\\python35_x64\\lib\\site-packages\\ipykernel\\__main__.py:1: DeprecationWarning: inspect.getargspec() is deprecated, use inspect.signature() instead\n",
      "  if __name__ == '__main__':\n",
      "c:\\python35_x64\\lib\\site-packages\\ipykernel\\__main__.py:3: DeprecationWarning: inspect.getargspec() is deprecated, use inspect.signature() instead\n",
      "  app.launch_new_instance()\n"
     ]
    }
   ],
   "source": [
    "pluck_loc = ctc.pluck(\"location\")\n",
    "map_loads = ctc.map(json.loads)\n",
    "pluck_0   = ctc.pluck(0)"
   ]
  },
  {
   "cell_type": "markdown",
   "metadata": {},
   "source": [
    "Notez bien que nous utilisons ctc.pluck et non pas ct.pluck, car le package [cytoolz.curry](https://toolz.readthedocs.io/en/latest/curry.html) (ici importé en temps que ctc) contient les versions de ces fonctions qui supportent l'évaluation partielle.  \n",
    "\n",
    "Les objets **pluck_loc**, **map_loads**, **pluck_0** sont donc des fonctions à un argument, construites à partir de fonctions à deux arguments. Utilisez ces 3 fonctions pour simplifier l'écriture de la question 4"
   ]
  },
  {
   "cell_type": "code",
   "execution_count": 15,
   "metadata": {
    "collapsed": false
   },
   "outputs": [
    {
     "data": {
      "text/plain": [
       "<sqlite3.Cursor at 0x1dcb915cd50>"
      ]
     },
     "execution_count": 15,
     "metadata": {},
     "output_type": "execute_result"
    }
   ],
   "source": [
    "import cytoolz as ct \n",
    "\n",
    "cursor_sqlite.execute( \"SELECT content FROM tw_users\")\n",
    "# Le résultat attendu est 13730"
   ]
  },
  {
   "cell_type": "markdown",
   "metadata": {},
   "source": [
    "#### Question 6 : fonction get_json_seq\n",
    "\n",
    "A partir des fonctions précédentes et de la fonction compose, créez une fonction get_json_seq, qui à partir d'un curseur d'une requête dont la colonne content est en première position, renvoit une séquence des objets json loadés.\n",
    "\n",
    "Vous devez pouvoir l'utiliser pour réécrire le code de la question précédente ainsi :"
   ]
  },
  {
   "cell_type": "code",
   "execution_count": 16,
   "metadata": {
    "collapsed": false
   },
   "outputs": [
    {
     "data": {
      "text/plain": [
       "<sqlite3.Cursor at 0x1dcb915cd50>"
      ]
     },
     "execution_count": 16,
     "metadata": {},
     "output_type": "execute_result"
    }
   ],
   "source": [
    "import cytoolz as ct \n",
    "\n",
    "cursor_sqlite.execute( \"SELECT content FROM tw_users\")\n",
    "# comptez_unique( pluck_loc( get_json_seq(cursor_sqlite)))"
   ]
  },
  {
   "cell_type": "markdown",
   "metadata": {},
   "source": [
    "#### Question 7 : liste des localisations avec Paris\n",
    "\n",
    "On peut vérifier si une localisation contient le mot \"Paris\", avec toutes ces variations de casse possible avec la fonction suivante :"
   ]
  },
  {
   "cell_type": "code",
   "execution_count": 17,
   "metadata": {
    "collapsed": true
   },
   "outputs": [],
   "source": [
    "def contains_paris(loc):\n",
    "    return \"paris\" in loc.lower()"
   ]
  },
  {
   "cell_type": "markdown",
   "metadata": {},
   "source": [
    "En utilisant cette fonction et la fonction ``ct.filter``, trouvez :  \n",
    "\n",
    "  - le nombre d'utilisateur dont la location contient Paris sous une forme ou une autre (question 7.1)\n",
    "  - tous les variantes de location contenant Paris (pour info il y en a 977)\n",
    "  \n",
    "ct.filter s'utilise avec la syntaxe ``ct.filter( f, seq )`` (voir [filter](https://docs.python.org/3/library/functions.html?highlight=filter#filter)) et renvoit une séquence de tous les éléments de la séquence en entrée pour lesquels f renvoit true. Vous aurez besoin des fonctions [ct.unique](http://toolz.readthedocs.io/en/latest/api.html#toolz.itertoolz.unique) et [ct.count](http://toolz.readthedocs.io/en/latest/api.html#toolz.itertoolz.count). Si vous avez une sortie du type ``<cytoolz.itertoolz._unique_identity at 0x7f3e7f3d6d30>``, rajouter la fonction ``list( ... )`` autour pour forcer l'évaluation."
   ]
  },
  {
   "cell_type": "code",
   "execution_count": 18,
   "metadata": {
    "collapsed": false
   },
   "outputs": [
    {
     "data": {
      "text/plain": [
       "<sqlite3.Cursor at 0x1dcb915cd50>"
      ]
     },
     "execution_count": 18,
     "metadata": {},
     "output_type": "execute_result"
    }
   ],
   "source": [
    "## Question 7.1\n",
    "import cytoolz as ct \n",
    "\n",
    "cursor_sqlite.execute( \"SELECT content FROM tw_users\")\n",
    "## le résultat attendu est 5470"
   ]
  },
  {
   "cell_type": "code",
   "execution_count": 19,
   "metadata": {
    "collapsed": false
   },
   "outputs": [
    {
     "data": {
      "text/plain": [
       "<sqlite3.Cursor at 0x1dcb915cd50>"
      ]
     },
     "execution_count": 19,
     "metadata": {},
     "output_type": "execute_result"
    }
   ],
   "source": [
    "## Question 7.2\n",
    "import cytoolz as ct \n",
    "\n",
    "cursor_sqlite.execute( \"SELECT content FROM tw_users\")\n",
    "## la liste doit contenir 977 éléments"
   ]
  },
  {
   "cell_type": "markdown",
   "metadata": {},
   "source": [
    "#### Question 8 : somme des tweets de tous les utilisateurs dont la location contient Paris"
   ]
  },
  {
   "cell_type": "markdown",
   "metadata": {},
   "source": [
    "Calculez le nombre de tweets total par les utilisateurs dont la *location* contient Paris.  \n",
    "Dans le json de twitter, la clé pour cela est ``statuses_count``. Pour cela plusieurs possibilités :  \n",
    "\n",
    "- la plus simple est de redéfinir une fonction ``contains_paris``, qui prenne en entrée un user json \n",
    "- [groupby](http://toolz.readthedocs.io/en/latest/api.html#toolz.itertoolz.groupby) *(\"location\", seq)* vous renvoit les réponses groupées par location. Cette méthode possède l'inconvénient de charger toutes les données en mémoire\n",
    "- [reduceby](http://toolz.readthedocs.io/en/latest/api.html#toolz.itertoolz.reduceby) *(\"location\", lambda x,y: x + y[\"statuses_count\"], seq, 0)* vous renvoit la somme par location, il ne reste plus qu'à filtrer et additionner\n",
    "- [pluck](http://toolz.readthedocs.io/en/latest/api.html#toolz.itertoolz.pluck) *([\"location\", \"statuses_count\"], seq)* vous permet de garder les deux informations. Il faudra changer la fonction contains paris pour celle suivante (``contains_paris_tuple``)\n",
    "  \n",
    "Réponse attendue : 9811612"
   ]
  },
  {
   "cell_type": "code",
   "execution_count": 20,
   "metadata": {
    "collapsed": false
   },
   "outputs": [],
   "source": [
    "import cytoolz as ct "
   ]
  },
  {
   "cell_type": "markdown",
   "metadata": {},
   "source": [
    "#### Question 9 : comparaison des followers d'homme politique\n",
    "\n",
    "On va maintenant s'intéresser à la proximité / corrélation entre les hommes politiques, que l'on mesurera à partir de la formule :\n",
    "\n",
    "$\\frac{1}{2}*( \\frac{nbFollowersCommun}{nbFollowersHommePolitique_1} + \\frac{nbFollowersCommun}{nbFollowersHommePolitique_2}$)\n",
    "\n",
    "On prend donc la moyenne des ratios des followers de chaque homme politique suivant l'autre (cette formule semble s'accommoder assez bien des différences du nombre de followers entre homme politiques). On s'intéressera notamment aux hommes politiques suivants :\n",
    "\n",
    "    benoithamon | 14389177\n",
    "    montebourg  | 69255422\n",
    "    alainjuppe  | 258345629\n",
    "    \n",
    "De fait vous pouvez prendre n'importe quel homme ou femme politique, les résultats de cette méthode sont assez probants malgré sa rusticité. "
   ]
  },
  {
   "cell_type": "markdown",
   "metadata": {},
   "source": [
    "**Important : pensez à appliquer la cellule ci-dessous**"
   ]
  },
  {
   "cell_type": "code",
   "execution_count": 21,
   "metadata": {
    "collapsed": false
   },
   "outputs": [
    {
     "name": "stdout",
     "output_type": "stream",
     "text": [
      "Ok, index already exists\n"
     ]
    }
   ],
   "source": [
    "try:\n",
    "    cursor_sqlite.execute(\"CREATE UNIQUE INDEX tw_users_id_index ON tw_users(id)\")\n",
    "    print(\"Index created\")\n",
    "except sqlite3.OperationalError as e:\n",
    "    if( \"index tw_users_id_index already exists\" in str(e)):\n",
    "        print(\"Ok, index already exists\")\n",
    "    else:\n",
    "        raise e"
   ]
  },
  {
   "cell_type": "markdown",
   "metadata": {},
   "source": [
    "La façon la plus simple est de charger les listes d'id de followers en mémoire, dans des objets de type set, et de les comparer avec les opérateurs & (intersection) - (différences). On peut aussi chercher une méthode approchée, en comparant de façon aléatoire les listes contenues dans ``tw_follower_id``.\n",
    "\n",
    "*Tips : si vous trouvez que Montebourg est plus proche de Juppé que de Hamon, vous vous êtes planté ...*"
   ]
  },
  {
   "cell_type": "code",
   "execution_count": null,
   "metadata": {
    "collapsed": false
   },
   "outputs": [],
   "source": []
  },
  {
   "cell_type": "markdown",
   "metadata": {},
   "source": [
    "## Partie 2 : avec dask"
   ]
  },
  {
   "cell_type": "markdown",
   "metadata": {},
   "source": [
    "Essayez d'exécuter le code suivant"
   ]
  },
  {
   "cell_type": "code",
   "execution_count": 22,
   "metadata": {
    "collapsed": true
   },
   "outputs": [],
   "source": [
    "import dask"
   ]
  },
  {
   "cell_type": "markdown",
   "metadata": {},
   "source": [
    "Si il échoue, pour installer dask, suivant que vous utilisez anaconda ou pas, utilisez l'une des cellules suivantes :"
   ]
  },
  {
   "cell_type": "code",
   "execution_count": 23,
   "metadata": {
    "collapsed": false
   },
   "outputs": [
    {
     "name": "stdout",
     "output_type": "stream",
     "text": [
      "update pip if needed\n",
      "execute  c:\\python35_x64\\python.exe -m pip install -U pip\n",
      "Requirement already up-to-date: pip in c:\\python35_x64\\lib\\site-packages\n",
      "end of execution  c:\\python35_x64\\python.exe -m pip install -U pip\n",
      "[loopi] check module:  dask\n",
      "\n",
      "installed modules\n"
     ]
    }
   ],
   "source": [
    "from pymyinstall.packaged import install_module\n",
    "install_module(\"dask\")"
   ]
  },
  {
   "cell_type": "markdown",
   "metadata": {},
   "source": [
    "[dask](http://dask.pydata.org/en/latest/bag.html) peut vous permettre de paralléliser de façon efficace votre code entre plusieurs processeurs. Utilisez le code suivant pour splitter la base *twitter_for_network_full.db* en plusieurs fichiers plats (NB: pensez à nettoyer votre disque dur après ce tp)."
   ]
  },
  {
   "cell_type": "code",
   "execution_count": 24,
   "metadata": {
    "collapsed": true
   },
   "outputs": [],
   "source": [
    "import cytoolz as ct # import groupby, valmap, compose\n",
    "import cytoolz.curried as ctc ## pipe, map, filter, get\n",
    "import sqlite3\n",
    "import pprint\n",
    "try:\n",
    "    import ujson as json\n",
    "except:\n",
    "    import json\n",
    "\n",
    "conn_sqlite_f = sqlite3.connect(\"twitter_for_network_100000.db\")\n",
    "cursor_sqlite_f = conn_sqlite_f.cursor()"
   ]
  },
  {
   "cell_type": "code",
   "execution_count": 25,
   "metadata": {
    "collapsed": false
   },
   "outputs": [],
   "source": [
    "cursor_sqlite_f.execute(\"SELECT content FROM tw_users\")\n",
    "\n",
    "for it in range(100):\n",
    "    with open( \"tw_users_split_{0:02d}.json\".format(it), 'w') as f:\n",
    "        for it_index, it_json in enumerate( cursor_sqlite_f ):\n",
    "            f.write( it_json[0] )\n",
    "            f.write(\"\\n\")\n",
    "            if it_index == 100000:\n",
    "                break\n",
    "        else:\n",
    "            break"
   ]
  },
  {
   "cell_type": "markdown",
   "metadata": {},
   "source": [
    "Calculez maintenant, en utilisant [dask.bag](http://dask.pydata.org/en/latest/bag.html) :\n",
    "\n",
    "- le nombre total de status\n",
    "- le nombre de status moyen par location\n",
    "- la distribution du nombre de followers par puissance de 10 sur l'ensemble des users"
   ]
  },
  {
   "cell_type": "code",
   "execution_count": 26,
   "metadata": {
    "collapsed": false
   },
   "outputs": [
    {
     "name": "stdout",
     "output_type": "stream",
     "text": [
      "ujson unavailable\n"
     ]
    }
   ],
   "source": [
    "## Code commun nécessaire\n",
    "\n",
    "import dask.bag as dbag\n",
    "try:\n",
    "    import ujson as json\n",
    "except:\n",
    "    print(\"ujson unavailable\")\n",
    "    import json\n",
    "from operator import add\n",
    "\n",
    "a = dbag.read_text('tw_users_split*.json')"
   ]
  },
  {
   "cell_type": "code",
   "execution_count": 27,
   "metadata": {
    "collapsed": false
   },
   "outputs": [],
   "source": [
    "# Le nombre total de status"
   ]
  },
  {
   "cell_type": "code",
   "execution_count": 28,
   "metadata": {
    "collapsed": false
   },
   "outputs": [],
   "source": [
    "# Le nombre moyen de tweet par location.\n",
    "import cytoolz\n",
    "import cytoolz.curried as ctc"
   ]
  },
  {
   "cell_type": "code",
   "execution_count": 29,
   "metadata": {
    "collapsed": false
   },
   "outputs": [],
   "source": [
    "# La distribution du nombre de followers par puissance de 10\n",
    "import math"
   ]
  },
  {
   "cell_type": "code",
   "execution_count": null,
   "metadata": {
    "collapsed": true
   },
   "outputs": [],
   "source": []
  }
 ],
 "metadata": {
  "kernelspec": {
   "display_name": "Python 3",
   "language": "python",
   "name": "python3"
  },
  "language_info": {
   "codemirror_mode": {
    "name": "ipython",
    "version": 3
   },
   "file_extension": ".py",
   "mimetype": "text/x-python",
   "name": "python",
   "nbconvert_exporter": "python",
   "pygments_lexer": "ipython3",
   "version": "3.5.0"
  },
  "widgets": {
   "state": {},
   "version": "1.1.2"
  }
 },
 "nbformat": 4,
 "nbformat_minor": 0
}
