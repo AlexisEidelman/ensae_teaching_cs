{
 "cells": [
  {
   "cell_type": "markdown",
   "metadata": {},
   "source": [
    "# Exercice Python - Eco Séance 2\n",
    "\n",
    "Pour récapituler ce qu'on a vu jusqu'à présent, voici un petit exercice qui nous permet de se remémorer ce qu'on a vu lors de ces deux premières séances.\n",
    "\n",
    "\n",
    "En utilisant le fichier .xls communiqué par le chargé de TD, réalisez les opérations suivantes : \n",
    "\n",
    "\n",
    "- Ouvrir le fichier Excel grâce à pandas et transformer l'onglet \"départements T1\" en un DataFrame (résultats de l'élection au premier tour)\n",
    "- Créer une table où l'observation est le département  (une ligne par département) avec les résulats de chaque candidat aux élections dans une colonne qui porte le nom + prénom du candidat. Autrement dit, renommez la colonne Voix.X en nom+prénom du candidat;\n",
    "- Appliquer le même traitement à l'onglet \"département T2\" (résultats de l'élection aux 2ème tour)\n",
    "- Calculer le pourcentage de votes pour chaque tour et chaque candidat présent au 2nd tour (F. HOLLANDE & N. SARKOZY)\n",
    "- Représenter la corrélation entre les pourcentages du tour 1 et ceux du tour 2 pour François Hollande\n",
    "- Ajouter la même corrélation pour N. Sarkozy\n",
    "- Représenter pour l'ensemble des départements la part des votants en faveur de l'un et de l'autre au 2nd tour (en utilisant un graphique de type stack bar)\n",
    "- Représenter la part des votes du candidat arrivé en tête au premier tour"
   ]
  },
  {
   "cell_type": "code",
   "execution_count": null,
   "metadata": {
    "collapsed": true
   },
   "outputs": [],
   "source": []
  }
 ],
 "metadata": {
  "anaconda-cloud": {},
  "kernelspec": {
   "display_name": "Python [Root]",
   "language": "python",
   "name": "Python [Root]"
  },
  "language_info": {
   "codemirror_mode": {
    "name": "ipython",
    "version": 3
   },
   "file_extension": ".py",
   "mimetype": "text/x-python",
   "name": "python",
   "nbconvert_exporter": "python",
   "pygments_lexer": "ipython3",
   "version": "3.5.2"
  }
 },
 "nbformat": 4,
 "nbformat_minor": 0
}
