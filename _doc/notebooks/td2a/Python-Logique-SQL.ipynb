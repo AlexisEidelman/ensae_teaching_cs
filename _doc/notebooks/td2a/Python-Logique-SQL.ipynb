{
 "cells": [
  {
   "cell_type": "markdown",
   "metadata": {},
   "source": [
    "# Python et la logique SQL"
   ]
  },
  {
   "cell_type": "code",
   "execution_count": 2,
   "metadata": {
    "collapsed": false
   },
   "outputs": [
    {
     "data": {
      "text/html": [
       "<div id=\"my_id_menu_nb\">run previous cell, wait for 2 seconds</div>\n",
       "<script>\n",
       "function repeat_indent_string(n){\n",
       "    var a = \"\" ;\n",
       "    for ( ; n > 0 ; --n) {\n",
       "        a += \"    \";\n",
       "    }\n",
       "    return a;\n",
       "}\n",
       "var update_menu_string = function(begin, lfirst, llast, sformat, send, keep_item) {\n",
       "    var anchors = document.getElementsByClassName(\"section\");\n",
       "    if (anchors.length == 0) {\n",
       "        anchors = document.getElementsByClassName(\"text_cell_render rendered_html\");\n",
       "    }\n",
       "    var i,t;\n",
       "    var text_menu = begin;\n",
       "    var text_memo = \"<pre>\\nlength:\" + anchors.length + \"\\n\";\n",
       "    var ind = \"\";\n",
       "    var memo_level = 1;\n",
       "    var href;\n",
       "    var tags = [];\n",
       "    var main_item = 0;\n",
       "    for (i = 0; i <= llast; i++) {\n",
       "        tags.push(\"h\" + i);\n",
       "    }\n",
       "\n",
       "    for (i = 0; i < anchors.length; i++) {\n",
       "        text_memo += \"**\" + anchors[i].id + \"--\\n\";\n",
       "\n",
       "        var child = null;\n",
       "        for(t = 0; t < tags.length; t++) {\n",
       "            var r = anchors[i].getElementsByTagName(tags[t]);\n",
       "            if (r.length > 0) {\n",
       "child = r[0];\n",
       "break;\n",
       "            }\n",
       "        }\n",
       "        if (child == null){\n",
       "            text_memo += \"null\\n\";\n",
       "            continue;\n",
       "        }\n",
       "        if (anchors[i].hasAttribute(\"id\")) {\n",
       "            // when converted in RST\n",
       "            href = anchors[i].id;\n",
       "            text_memo += \"#1-\" + href;\n",
       "            // passer à child suivant (le chercher)\n",
       "        }\n",
       "        else if (child.hasAttribute(\"id\")) {\n",
       "            // in a notebook\n",
       "            href = child.id;\n",
       "            text_memo += \"#2-\" + href;\n",
       "        }\n",
       "        else {\n",
       "            text_memo += \"#3-\" + \"*\" + \"\\n\";\n",
       "            continue;\n",
       "        }\n",
       "        var title = child.textContent;\n",
       "        var level = parseInt(child.tagName.substring(1,2));\n",
       "\n",
       "        text_memo += \"--\" + level + \"?\" + lfirst + \"--\" + title + \"\\n\";\n",
       "\n",
       "        if ((level < lfirst) || (level > llast)) {\n",
       "            continue ;\n",
       "        }\n",
       "        if (title.endsWith('¶')) {\n",
       "            title = title.substring(0,title.length-1).replace(\"<\", \"&lt;\").replace(\">\", \"&gt;\").replace(\"&\", \"&amp;\")\n",
       "        }\n",
       "\n",
       "        if (title.length == 0) {\n",
       "            continue;\n",
       "        }\n",
       "\n",
       "        while (level < memo_level) {\n",
       "            text_menu += \"</ul>\\n\";\n",
       "            memo_level -= 1;\n",
       "        }\n",
       "        if (level == lfirst) {\n",
       "            main_item += 1;\n",
       "        }\n",
       "        if (keep_item != -1 && main_item != keep_item + 1) {\n",
       "            // alert(main_item + \" - \" + level + \" - \" + keep_item);\n",
       "            continue;\n",
       "        }\n",
       "        while (level > memo_level) {\n",
       "            text_menu += \"<ul>\\n\";\n",
       "            memo_level += 1;\n",
       "        }\n",
       "        text_menu += repeat_indent_string(level-2) + sformat.replace(\"__HREF__\", href).replace(\"__TITLE__\", title);\n",
       "    }\n",
       "    while (1 < memo_level) {\n",
       "        text_menu += \"</ul>\\n\";\n",
       "        memo_level -= 1;\n",
       "    }\n",
       "    text_menu += send;\n",
       "    //text_menu += \"\\n\" + text_memo;\n",
       "    return text_menu;\n",
       "};\n",
       "var update_menu = function() {\n",
       "    var sbegin = \"\";\n",
       "    var sformat = '<li><a href=\"#__HREF__\">__TITLE__</a></li>';\n",
       "    var send = \"\";\n",
       "    var keep_item = -1;\n",
       "    var text_menu = update_menu_string(sbegin, 2, 4, sformat, send, keep_item);\n",
       "    var menu = document.getElementById(\"my_id_menu_nb\");\n",
       "    menu.innerHTML=text_menu;\n",
       "};\n",
       "window.setTimeout(update_menu,2000);\n",
       "            </script>"
      ],
      "text/plain": [
       "<IPython.core.display.HTML object>"
      ]
     },
     "execution_count": 2,
     "metadata": {},
     "output_type": "execute_result"
    }
   ],
   "source": [
    "from pyquickhelper.ipythonhelper import add_notebook_menu\n",
    "add_notebook_menu()"
   ]
  },
  {
   "cell_type": "markdown",
   "metadata": {},
   "source": [
    "SQL vous avez tous ça dans le sang. \n",
    "\n",
    "SQL permet de créer des tables, de rechercher, d'ajouter, de modifier ou de supprimer des données dans les bases de données. Un peu ce que vous faites tous les jours. \n",
    "\n",
    "Sauf que SQL, c'est un langage pas un logiciel. \n",
    "\n",
    "Les instructions SQL s'écrivent d'une manière qui ressemble à celle de phrases ordinaires en anglais. Cette ressemblance voulue vise à faciliter l'apprentissage et la lecture. \n",
    "\n",
    "Comme avec STATA, on donne des ordres dans le programme, on ne parle plus de méthode ou d'objet comme dans Python. \n",
    "\n",
    "Là le tric, c'est d'utiliser le langage SQL dans le framework Python : mal à la tête ? ça va bien se passer..."
   ]
  },
  {
   "cell_type": "markdown",
   "metadata": {},
   "source": [
    "## Exemple"
   ]
  },
  {
   "cell_type": "code",
   "execution_count": 9,
   "metadata": {
    "collapsed": false
   },
   "outputs": [],
   "source": [
    "#Exemple d'utilisation d'un langage type SQL \n",
    "# site avec des exemples http://www.w3schools.com/sql/sql_insert_into_select.asp\n",
    "\n",
    "import sqlite3\n",
    "\n",
    "# on crée une base de données SQL vide\n",
    "CreateDataBase = sqlite3.connect('MyDataBase.db')\n",
    "\n",
    "QueryCurs = CreateDataBase.cursor()\n",
    "\n",
    "# on va créer une table qui contient plusieurs variables de format différents\n",
    "# id sera la clé primaire de la base\n",
    "# Nom, Rue, Ville, Region seront du text\n",
    "# Note sera un réel\n",
    "\n",
    "def CreateTable(nom_bdd):\n",
    "    QueryCurs.execute('''CREATE TABLE ''' + nom_bdd + '''\n",
    "    (id INTEGER PRIMARY KEY, Name TEXT,City TEXT, Country TEXT, Price REAL)''')\n",
    "\n",
    "    \n",
    "def AddEntry(nom_bdd, Nom,Ville,Region,Note):\n",
    "    QueryCurs.execute('''INSERT INTO ''' + nom_bdd + ''' \n",
    "    (Name,City,Country,Price) VALUES (?,?,?,?)''',(Nom,Ville,Region,Note))\n",
    "\n",
    "CreateTable('Clients')\n",
    "\n",
    "AddEntry('Clients','Toto','Munich','Germany',5.2)\n",
    "AddEntry('Clients','Bill','Berlin','Germany',2.3)\n",
    "AddEntry('Clients','Tom','Lille','France',7.8)\n",
    "AddEntry('Clients','Marvin','Miami','USA',15.2)\n",
    "\n",
    "# on va \"commit\" c'est à dire qu'on va valider la transaction. \n",
    "# on va envoyer ses modifications locales vers le référentiel central - la base de données SQL\n",
    "\n",
    "CreateDataBase.commit()"
   ]
  },
  {
   "cell_type": "code",
   "execution_count": 10,
   "metadata": {
    "collapsed": false,
    "scrolled": true
   },
   "outputs": [
    {
     "name": "stdout",
     "output_type": "stream",
     "text": [
      "[(2, 'Bill', 'Berlin', 'Germany', 2.3)]\n",
      "<class 'list'> <class 'tuple'>\n"
     ]
    }
   ],
   "source": [
    "QueryCurs.execute('SELECT * FROM Clients WHERE City==\"Berlin\"')\n",
    "Values = QueryCurs.fetchall()\n",
    "print(Values)\n",
    "print(type(Values),type(Values[0]))"
   ]
  },
  {
   "cell_type": "markdown",
   "metadata": {},
   "source": [
    "## Les commandes les plus fréquentes : \n",
    "\n",
    "Parmi les commandes SQL les plus utilisées, il y a : \n",
    "\n",
    "- SELECT - extraction d'une sélection dans une table\n",
    "- UPDATE \n",
    "- DELETE \n",
    "- INSERT INTO \n",
    "- CREATE DATABASE\n",
    "- ALTER DATABASE\n",
    "- CREATE TABLE\n",
    "- DROP TABLE \n",
    "- CREATE INDEX - créer une clé\n",
    "- DROP INDEX \n",
    "- JOIN\n",
    "    \n",
    "Pour écrire des conditions : \n",
    "\n",
    "- on utilise AND et OR comme dans STATA\n",
    "- BETWEEN value1 and value 2\n",
    "    \n",
    "   "
   ]
  },
  {
   "cell_type": "code",
   "execution_count": 11,
   "metadata": {
    "collapsed": false
   },
   "outputs": [
    {
     "name": "stdout",
     "output_type": "stream",
     "text": [
      "[(1, 'Toto', 'Munich', 'Germany', 5.2), (2, 'Bill', 'Berlin', 'Germany', 2.3)]\n",
      "[(2, 'Bill', 'Berlin', 'Germany', 2.3)]\n",
      "[(3, 'Tom', 'Lille', 'France', 7.8), (4, 'Marvin', 'Miami', 'USA', 15.2)]\n"
     ]
    }
   ],
   "source": [
    "QueryCurs.execute('SELECT * FROM Clients WHERE Country == \"Germany\"')\n",
    "print(QueryCurs.fetchall())\n",
    "QueryCurs.execute('SELECT * FROM Clients WHERE City==\"Berlin\" AND Country == \"Germany\"')\n",
    "print(QueryCurs.fetchall())\n",
    "QueryCurs.execute('SELECT * FROM Clients WHERE Price BETWEEN 7 AND 20')\n",
    "print(QueryCurs.fetchall())"
   ]
  },
  {
   "cell_type": "markdown",
   "metadata": {},
   "source": [
    "## Enregistrer une table SQL sous un autre format \n",
    "\n",
    "On utilise le package csv, l'option 'w' pour 'write'. \n",
    "\n",
    "On crée l'objet \"writer\", qui vient du package csv.\n",
    "\n",
    "Cet objet a deux méthodes : \n",
    "- writerow pour les noms de colonnes  : une liste\n",
    "- writerows pour les lignes : un ensemble de liste\n"
   ]
  },
  {
   "cell_type": "code",
   "execution_count": 12,
   "metadata": {
    "collapsed": false
   },
   "outputs": [],
   "source": [
    "data = QueryCurs.execute('SELECT * FROM Clients')\n",
    "\n",
    "import csv\n",
    "\n",
    "file = open('output.csv', 'w')\n",
    "writer = csv.writer(file)\n",
    "writer.writerow(['id','Name','City','Country','Price'])\n",
    "writer.writerows(data)"
   ]
  },
  {
   "cell_type": "markdown",
   "metadata": {},
   "source": [
    "## Suppression d'une table"
   ]
  },
  {
   "cell_type": "code",
   "execution_count": 8,
   "metadata": {
    "collapsed": false
   },
   "outputs": [
    {
     "data": {
      "text/plain": [
       "<sqlite3.Cursor at 0x2028bdfa180>"
      ]
     },
     "execution_count": 8,
     "metadata": {},
     "output_type": "execute_result"
    }
   ],
   "source": [
    "QueryCurs.execute('''DROP TABLE Clients''')\n",
    "#QueryCurs.close()"
   ]
  }
 ],
 "metadata": {
  "kernelspec": {
   "display_name": "Python 3",
   "language": "python",
   "name": "python3"
  },
  "language_info": {
   "codemirror_mode": {
    "name": "ipython",
    "version": 3
   },
   "file_extension": ".py",
   "mimetype": "text/x-python",
   "name": "python",
   "nbconvert_exporter": "python",
   "pygments_lexer": "ipython3",
   "version": "3.5.0"
  }
 },
 "nbformat": 4,
 "nbformat_minor": 0
}
