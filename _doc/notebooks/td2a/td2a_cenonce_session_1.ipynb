{
 "metadata": {
  "name": "",
  "signature": "sha256:fe365cff584fd28970448ca48f06302f4eeab39ce5ba915d82173116fe1aa795"
 },
 "nbformat": 3,
 "nbformat_minor": 0,
 "worksheets": [
  {
   "cells": [
    {
     "cell_type": "heading",
     "level": 1,
     "metadata": {},
     "source": [
      "TD 1 : DataFrame et Graphes"
     ]
    },
    {
     "cell_type": "markdown",
     "metadata": {},
     "source": [
      "Les [DataFrame](http://en.wikipedia.org/wiki/Data_frame) se sont impos\u00e9s pour manipuler les donn\u00e9es. Avec cette fa\u00e7on de repr\u00e9senter les donn\u00e9es, associ\u00e9e \u00e0 des m\u00e9thodes couramment utilis\u00e9es, ce qu'on faisait en une ou deux boucles se fait maintenant en une seule fonction. Le module [pandas](http://pandas.pydata.org/) est tr\u00e8s utilis\u00e9, il existe de nombreux [tutoriels](http://pandas.pydata.org/pandas-docs/stable/tutorials.html), ou page de recettes pour les usages lesp lus fr\u00e9quents : [cookbook](http://pandas.pydata.org/pandas-docs/stable/cookbook.html#cookbook).\n",
      "\n",
      "**Plan**\n",
      "\n",
      "* [Series](#series)\n",
      "* [DataFrame](#df)\n",
      "    * [cr\u00e9ation / lecture / \u00e9criture](#io)\n",
      "    * [index](#index)\n",
      "    * [Notation avec le symbole :](#ix)\n",
      "    * [Exercice 1 : cr\u00e9er un fichier Excel](#exo1)\n",
      "* [Manipuler un DataFrame](#df2)\n",
      "    * [6 op\u00e9rations : filter, union, sort, group by, join, pivot](#op)\n",
      "        * [filter](#filter), [union](#union), [sort](#sort)\n",
      "        * [group by](#groupby), [join](#join), [pivot](#pivot)\n",
      "    * [Lambda fonctions](#lambda)\n",
      "    * [Exercice 2 : lambda function](#exo2)\n",
      "    * [Exercice 3 : moyennes par groupes](#exo3)\n",
      "    * [JOIN avec ou sans index](#ix2)\n",
      "* [Dates](#date)\n",
      "* [Plot(s)](#plot)\n",
      "    * [R\u00e9cup\u00e9ration des donn\u00e9es](#recup)\n",
      "    * [Exercice 4 : \u00e9cart entre les mari\u00e9s](#exo4)\n",
      "    * [Exercice 5 : graphe de la distribution avec pandas](#exo5)\n",
      "    * [matploblib](#matplotlib)\n",
      "    * [Exercice 6 : distribution des mariages par jour](#exo6)\n",
      "\n",
      "<h2 id=\"df\">DataFrame</h2>\n",
      "\n",
      "Pour faire court, c'est l'\u00e9quivalent d'une feuille Excel ou d'une table SQL.\n",
      "\n",
      "**Taille de DataFrame**\n",
      "\n",
      "Les DataFrame en Python sont assez rapides lorsqu'il y a moins de 10 millions d'observations et que le fichier texte qui d\u00e9crit les donn\u00e9es n'est pas plus gros que 10 Mo. Au del\u00e0, il faut soit \u00eatre patient, soit \u00eatre astucieux comme ici : [DataFrame et SQL](http://www.xavierdupre.fr/blog/2014-07-19_nojs.html), [Data Wrangling with Pandas](http://nbviewer.ipython.org/urls/gist.github.com/fonnesbeck/5850413/raw/3a9406c73365480bc58d5e75bc80f7962243ba17/2.+Data+Wrangling+with+Pandas.ipynb). D'autres options seront propos\u00e9es plus tard durant ce cours.\n",
      "\n",
      "**Valeurs manquantes**\n",
      "\n",
      "Lorsqu'on r\u00e9cup\u00e8re des donn\u00e9es, il peut arriver qu'une valeur soit manquante. \n",
      "\n",
      "* [Missing Data](http://pandas.pydata.org/pandas-docs/dev/10min.html?highlight=working#missing-data)\n",
      "* [Working with missing data](http://pandas.pydata.org/pandas-docs/dev/missing_data.html)"
     ]
    },
    {
     "cell_type": "code",
     "collapsed": false,
     "input": [
      "from IPython.core.display import Image\n",
      "Image(\"td2df.png\")"
     ],
     "language": "python",
     "metadata": {},
     "outputs": [
      {
       "metadata": {},
       "output_type": "pyout",
       "png": "[encoded data removed]",
       "prompt_number": 7,
       "text": [
        "<IPython.core.display.Image at 0x27a9830>"
       ]
      }
     ],
     "prompt_number": 7
    },
    {
     "cell_type": "markdown",
     "metadata": {},
     "source": [
      "Pour manipuler les dataframe, on utilise le module [pandas](http://pandas.pydata.org/). Il est pr\u00e9vu pour manipuler les donn\u00e9es d'une table par **bloc** (une sous-table). Tant qu'on manipule des blocs, le module est rapide."
     ]
    },
    {
     "cell_type": "markdown",
     "metadata": {},
     "source": [
      "<h3 id=\"series\">Series</h3>\n",
      "\n",
      "Une [Series](http://pandas.pydata.org/pandas-docs/stable/generated/pandas.Series.html) est un objet uni-dimensionnel similaire \u00e0 un tableau, une liste ou une colonne d'une table. Chaque valeur est associ\u00e9e \u00e0 un **index** qui est par d\u00e9faut les entiers de 0 \u00e0 $N-1$ (avec $N$ la longueur de la[Series](http://pandas.pydata.org/pandas-docs/stable/generated/pandas.Series.html))."
     ]
    },
    {
     "cell_type": "code",
     "collapsed": false,
     "input": [
      "from pandas import Series\n",
      "import pandas\n",
      "import numpy\n",
      "s = Series([42, 'Hello World!', 3.14, -5, None, numpy.nan])\n",
      "s.head()"
     ],
     "language": "python",
     "metadata": {},
     "outputs": [
      {
       "metadata": {},
       "output_type": "pyout",
       "prompt_number": 12,
       "text": [
        "0              42\n",
        "1    Hello World!\n",
        "2            3.14\n",
        "3              -5\n",
        "4            None\n",
        "dtype: object"
       ]
      }
     ],
     "prompt_number": 12
    },
    {
     "cell_type": "markdown",
     "metadata": {},
     "source": [
      "On peut aussi preciser les indices lors de la cr\u00e9ation, ou construire la [Series](http://pandas.pydata.org/pandas-docs/stable/generated/pandas.Series.html) \u00e0 partir d'un dictionnaire si on fournit un index avec un dictionnaire, les index qui ne sont pas des cl\u00e9s du dictionnaire seront des valeurs manquantes."
     ]
    },
    {
     "cell_type": "code",
     "collapsed": false,
     "input": [
      "s2 = Series([42, 'Hello World!', 3.14, -5, None, numpy.nan], index=['int', 'string', 'pi', 'neg', 'missing1', 'missing2'])\n",
      "city2cp_dict = {'Paris14': 75014, 'Paris18': 75018, 'Malakoff': 92240, 'Nice': 6300}\n",
      "cities = Series(city2cp_dict)\n",
      "cities"
     ],
     "language": "python",
     "metadata": {},
     "outputs": [
      {
       "metadata": {},
       "output_type": "pyout",
       "prompt_number": 13,
       "text": [
        "Malakoff    92240\n",
        "Nice         6300\n",
        "Paris14     75014\n",
        "Paris18     75018\n",
        "dtype: int64"
       ]
      }
     ],
     "prompt_number": 13
    },
    {
     "cell_type": "code",
     "collapsed": false,
     "input": [
      "cities_list = ['Paris12'] + list(city2cp_dict.keys()) + ['Vanves']\n",
      "cities2 = Series(city2cp_dict, index=cities_list)\n",
      "pandas.isnull(cities2) #same as cities2.isnull()\n",
      "pandas.notnull(cities2)"
     ],
     "language": "python",
     "metadata": {},
     "outputs": [
      {
       "metadata": {},
       "output_type": "pyout",
       "prompt_number": 14,
       "text": [
        "Paris12     False\n",
        "Paris14      True\n",
        "Malakoff     True\n",
        "Paris18      True\n",
        "Nice         True\n",
        "Vanves      False\n",
        "dtype: bool"
       ]
      }
     ],
     "prompt_number": 14
    },
    {
     "cell_type": "markdown",
     "metadata": {},
     "source": [
      "On peut se servir de l'index pour s\u00e9lectionner une ou plusieurs valeurs de la [Series](http://pandas.pydata.org/pandas-docs/stable/generated/pandas.Series.html), \u00e9ventuellement pour en changer la valeur. On peut aussi appliquer des op\u00e9rations math\u00e9matiques, filtrer avec un bool\u00e9en, ou encore tester la pr\u00e9sence d'un \u00e9lement."
     ]
    },
    {
     "cell_type": "code",
     "collapsed": false,
     "input": [
      "cities2['Nice'] #renvoie un scalaire\n",
      "cities2[['Malakoff', 'Paris14']] #renvoie une series\n",
      "cities2['Paris12'] = 75012\n",
      "dep = cities2 // 1000\n",
      "dep"
     ],
     "language": "python",
     "metadata": {},
     "outputs": [
      {
       "metadata": {},
       "output_type": "pyout",
       "prompt_number": 15,
       "text": [
        "Paris12     75\n",
        "Paris14     75\n",
        "Malakoff    92\n",
        "Paris18     75\n",
        "Nice         6\n",
        "Vanves     NaN\n",
        "dtype: float64"
       ]
      }
     ],
     "prompt_number": 15
    },
    {
     "cell_type": "markdown",
     "metadata": {},
     "source": [
      "[pandas](http://pandas.pydata.org/) aligne automatiquement les donn\u00e9es en utilisant l'index des [Series](http://pandas.pydata.org/pandas-docs/stable/generated/pandas.Series.html) lorsqu'on fait une operation sur des series."
     ]
    },
    {
     "cell_type": "code",
     "collapsed": false,
     "input": [
      "cities2[dep==75]\n",
      "\n",
      "print(\"Paris14\",'Paris14' in cities2)\n",
      "print(\"Paris13\",'Paris13' in cities2)"
     ],
     "language": "python",
     "metadata": {},
     "outputs": [
      {
       "output_type": "stream",
       "stream": "stdout",
       "text": [
        "Paris14 True\n",
        "Paris13 False\n"
       ]
      }
     ],
     "prompt_number": 16
    },
    {
     "cell_type": "code",
     "collapsed": false,
     "input": [
      "#print(cities)\n",
      "#print(cities2)\n",
      "cities + cities2"
     ],
     "language": "python",
     "metadata": {},
     "outputs": [
      {
       "metadata": {},
       "output_type": "pyout",
       "prompt_number": 17,
       "text": [
        "Malakoff    184480\n",
        "Nice         12600\n",
        "Paris12        NaN\n",
        "Paris14     150028\n",
        "Paris18     150036\n",
        "Vanves         NaN\n",
        "dtype: float64"
       ]
      }
     ],
     "prompt_number": 17
    },
    {
     "cell_type": "markdown",
     "metadata": {},
     "source": [
      "On peut nommer la [Series](http://pandas.pydata.org/pandas-docs/stable/generated/pandas.Series.html), ses index et m\u00eame assigner un nouvel index \u00e0 une [Series](http://pandas.pydata.org/pandas-docs/stable/generated/pandas.Series.html) existante."
     ]
    },
    {
     "cell_type": "code",
     "collapsed": false,
     "input": [
      "cities2.name = \"Code Postal\"\n",
      "cities2.index.name = \"Ville\"\n",
      "print(cities2)\n",
      "print(\"-------------\")\n",
      "s2.index = range(6)\n",
      "print(s2)"
     ],
     "language": "python",
     "metadata": {},
     "outputs": [
      {
       "output_type": "stream",
       "stream": "stdout",
       "text": [
        "Ville\n",
        "Paris12     75012\n",
        "Paris14     75014\n",
        "Malakoff    92240\n",
        "Paris18     75018\n",
        "Nice         6300\n",
        "Vanves        NaN\n",
        "Name: Code Postal, dtype: float64\n",
        "-------------\n",
        "0              42\n",
        "1    Hello World!\n",
        "2            3.14\n",
        "3              -5\n",
        "4            None\n",
        "5             NaN\n",
        "dtype: object\n"
       ]
      }
     ],
     "prompt_number": 18
    },
    {
     "cell_type": "markdown",
     "metadata": {},
     "source": [
      "<h2 id=\"df\">DataFrame (pandas)</h2>\n",
      "\n",
      "**Quelques liens :** [An Introduction to Pandas](http://synesthesiam.com/posts/an-introduction-to-pandas.html)\n",
      "\n",
      "Un [DataFrame](http://en.wikipedia.org/wiki/Data_frame) est un objet qui est pr\u00e9sent dans la plupart des logiciels de traitements de donn\u00e9es, c'est une **matrice**, chaque colonne est une [Series](http://pandas.pydata.org/pandas-docs/stable/generated/pandas.Series.html) et est de m\u00eame type (nombre, dates, texte), elle peut contenir des valeurs manquantes. On peut consid\u00e9rer chaque colonne comme les variables d'une table ([pandas.Dataframe](http://pandas.pydata.org/pandas-docs/dev/generated/pandas.DataFrame.html) - cette page contient toutes les m\u00e9thodes de la classe).\n",
      "\n",
      "Un [Dataframe](http://pandas.pydata.org/pandas-docs/dev/generated/pandas.DataFrame.html) repr\u00e9sente une table de donn\u00e9es, i.e. une collection ordonn\u00e9es de colonnes.\n",
      "Ces colonnes/lignes peuvent avoir des types diff\u00e9rents (numerique, string, boolean).\n",
      "Cela est tr\u00e8s similaire aux [DataFrame](http://www.r-tutor.com/r-introduction/data-frame) du langage R (en apparence...), avec un traitement plus sym\u00e9trique des lignes et des colonnes."
     ]
    },
    {
     "cell_type": "code",
     "collapsed": false,
     "input": [
      "import pandas\n",
      "l = [ { \"date\":\"2014-06-22\", \"prix\":220.0, \"devise\":\"euros\" }, \n",
      "      { \"date\":\"2014-06-23\", \"prix\":221.0, \"devise\":\"euros\" },]\n",
      "df = pandas.DataFrame(l)\n",
      "df"
     ],
     "language": "python",
     "metadata": {},
     "outputs": [
      {
       "html": [
        "<div style=\"max-height:1000px;max-width:1500px;overflow:auto;\">\n",
        "<table border=\"1\" class=\"dataframe\">\n",
        "  <thead>\n",
        "    <tr style=\"text-align: right;\">\n",
        "      <th></th>\n",
        "      <th>date</th>\n",
        "      <th>devise</th>\n",
        "      <th>prix</th>\n",
        "    </tr>\n",
        "  </thead>\n",
        "  <tbody>\n",
        "    <tr>\n",
        "      <th>0</th>\n",
        "      <td> 2014-06-22</td>\n",
        "      <td> euros</td>\n",
        "      <td> 220</td>\n",
        "    </tr>\n",
        "    <tr>\n",
        "      <th>1</th>\n",
        "      <td> 2014-06-23</td>\n",
        "      <td> euros</td>\n",
        "      <td> 221</td>\n",
        "    </tr>\n",
        "  </tbody>\n",
        "</table>\n",
        "<p>2 rows \u00d7 3 columns</p>\n",
        "</div>"
       ],
       "metadata": {},
       "output_type": "pyout",
       "prompt_number": 19,
       "text": [
        "         date devise  prix\n",
        "0  2014-06-22  euros   220\n",
        "1  2014-06-23  euros   221\n",
        "\n",
        "[2 rows x 3 columns]"
       ]
      }
     ],
     "prompt_number": 19
    },
    {
     "cell_type": "markdown",
     "metadata": {},
     "source": [
      "Avec une valeur manquante :"
     ]
    },
    {
     "cell_type": "code",
     "collapsed": false,
     "input": [
      "l = [ { \"date\":\"2014-06-22\", \"prix\":220.0, \"devise\":\"euros\" }, \n",
      "      { \"date\":\"2014-06-23\", \"devise\":\"euros\"  },]\n",
      "df = pandas.DataFrame(l)\n",
      "df"
     ],
     "language": "python",
     "metadata": {},
     "outputs": [
      {
       "html": [
        "<div style=\"max-height:1000px;max-width:1500px;overflow:auto;\">\n",
        "<table border=\"1\" class=\"dataframe\">\n",
        "  <thead>\n",
        "    <tr style=\"text-align: right;\">\n",
        "      <th></th>\n",
        "      <th>date</th>\n",
        "      <th>devise</th>\n",
        "      <th>prix</th>\n",
        "    </tr>\n",
        "  </thead>\n",
        "  <tbody>\n",
        "    <tr>\n",
        "      <th>0</th>\n",
        "      <td> 2014-06-22</td>\n",
        "      <td> euros</td>\n",
        "      <td> 220</td>\n",
        "    </tr>\n",
        "    <tr>\n",
        "      <th>1</th>\n",
        "      <td> 2014-06-23</td>\n",
        "      <td> euros</td>\n",
        "      <td> NaN</td>\n",
        "    </tr>\n",
        "  </tbody>\n",
        "</table>\n",
        "<p>2 rows \u00d7 3 columns</p>\n",
        "</div>"
       ],
       "metadata": {},
       "output_type": "pyout",
       "prompt_number": 20,
       "text": [
        "         date devise  prix\n",
        "0  2014-06-22  euros   220\n",
        "1  2014-06-23  euros   NaN\n",
        "\n",
        "[2 rows x 3 columns]"
       ]
      }
     ],
     "prompt_number": 20
    },
    {
     "cell_type": "markdown",
     "metadata": {},
     "source": [
      "[NaN](http://docs.scipy.org/doc/numpy/reference/generated/numpy.isnan.html#numpy.isnan) est une convention pour une valeur manquante. On extrait la variable ``prix`` :"
     ]
    },
    {
     "cell_type": "code",
     "collapsed": false,
     "input": [
      "df.prix"
     ],
     "language": "python",
     "metadata": {},
     "outputs": [
      {
       "metadata": {},
       "output_type": "pyout",
       "prompt_number": 21,
       "text": [
        "0    220\n",
        "1    NaN\n",
        "Name: prix, dtype: float64"
       ]
      }
     ],
     "prompt_number": 21
    },
    {
     "cell_type": "markdown",
     "metadata": {},
     "source": [
      "Ou :"
     ]
    },
    {
     "cell_type": "code",
     "collapsed": false,
     "input": [
      "df[\"prix\"]"
     ],
     "language": "python",
     "metadata": {},
     "outputs": [
      {
       "metadata": {},
       "output_type": "pyout",
       "prompt_number": 22,
       "text": [
        "0    220\n",
        "1    NaN\n",
        "Name: prix, dtype: float64"
       ]
      }
     ],
     "prompt_number": 22
    },
    {
     "cell_type": "markdown",
     "metadata": {},
     "source": [
      "Pour extraire plusieurs colonnes :"
     ]
    },
    {
     "cell_type": "code",
     "collapsed": false,
     "input": [
      "df [[\"date\",\"prix\"]]"
     ],
     "language": "python",
     "metadata": {},
     "outputs": [
      {
       "html": [
        "<div style=\"max-height:1000px;max-width:1500px;overflow:auto;\">\n",
        "<table border=\"1\" class=\"dataframe\">\n",
        "  <thead>\n",
        "    <tr style=\"text-align: right;\">\n",
        "      <th></th>\n",
        "      <th>date</th>\n",
        "      <th>prix</th>\n",
        "    </tr>\n",
        "  </thead>\n",
        "  <tbody>\n",
        "    <tr>\n",
        "      <th>0</th>\n",
        "      <td> 2014-06-22</td>\n",
        "      <td> 220</td>\n",
        "    </tr>\n",
        "    <tr>\n",
        "      <th>1</th>\n",
        "      <td> 2014-06-23</td>\n",
        "      <td> NaN</td>\n",
        "    </tr>\n",
        "  </tbody>\n",
        "</table>\n",
        "<p>2 rows \u00d7 2 columns</p>\n",
        "</div>"
       ],
       "metadata": {},
       "output_type": "pyout",
       "prompt_number": 23,
       "text": [
        "         date  prix\n",
        "0  2014-06-22   220\n",
        "1  2014-06-23   NaN\n",
        "\n",
        "[2 rows x 2 columns]"
       ]
      }
     ],
     "prompt_number": 23
    },
    {
     "cell_type": "markdown",
     "metadata": {},
     "source": [
      "Pour prendre la transpos\u00e9e (voir aussi [DataFrame.transpose](http://pandas.pydata.org/pandas-docs/stable/generated/pandas.Panel.transpose.html)) :"
     ]
    },
    {
     "cell_type": "code",
     "collapsed": false,
     "input": [
      "df.T"
     ],
     "language": "python",
     "metadata": {},
     "outputs": [
      {
       "html": [
        "<div style=\"max-height:1000px;max-width:1500px;overflow:auto;\">\n",
        "<table border=\"1\" class=\"dataframe\">\n",
        "  <thead>\n",
        "    <tr style=\"text-align: right;\">\n",
        "      <th></th>\n",
        "      <th>0</th>\n",
        "      <th>1</th>\n",
        "    </tr>\n",
        "  </thead>\n",
        "  <tbody>\n",
        "    <tr>\n",
        "      <th>date</th>\n",
        "      <td> 2014-06-22</td>\n",
        "      <td> 2014-06-23</td>\n",
        "    </tr>\n",
        "    <tr>\n",
        "      <th>devise</th>\n",
        "      <td>      euros</td>\n",
        "      <td>      euros</td>\n",
        "    </tr>\n",
        "    <tr>\n",
        "      <th>prix</th>\n",
        "      <td>        220</td>\n",
        "      <td>        NaN</td>\n",
        "    </tr>\n",
        "  </tbody>\n",
        "</table>\n",
        "<p>3 rows \u00d7 2 columns</p>\n",
        "</div>"
       ],
       "metadata": {},
       "output_type": "pyout",
       "prompt_number": 24,
       "text": [
        "                 0           1\n",
        "date    2014-06-22  2014-06-23\n",
        "devise       euros       euros\n",
        "prix           220         NaN\n",
        "\n",
        "[3 rows x 2 columns]"
       ]
      }
     ],
     "prompt_number": 24
    },
    {
     "cell_type": "markdown",
     "metadata": {},
     "source": [
      "<h3 id=\"io\">Lecture et \u00e9criture de DataFrame</h3>\n",
      "\n",
      "Aujourd'hui, on n'a plus besoin de r\u00e9\u00e9crire soi-m\u00eame une fonction de lecture ou d'\u00e9criture de donn\u00e9es pr\u00e9sent\u00e9es sous forme de tables. Il existe des fonctions plus g\u00e9n\u00e9riques qui g\u00e8re un grand nombre de cas.\n",
      "Cette section pr\u00e9sente bri\u00e8vement les fonctions qui permettent de lire/\u00e9crire un [DataFrame](http://en.wikipedia.org/wiki/Data_frame) aux formats [texte](http://fr.wikipedia.org/wiki/Fichier_texte)/[Excel](http://fr.wikipedia.org/wiki/Microsoft_Excel). On reprend l'exemple de section pr\u00e9c\u00e9dente. L'instruction ``encoding=utf-8`` n'est pas obligatoire mais conseill\u00e9e lorsque les donn\u00e9es contiennent des accents (voir [read_csv](http://pandas.pydata.org/pandas-docs/stable/generated/pandas.io.parsers.read_csv.html))."
     ]
    },
    {
     "cell_type": "code",
     "collapsed": false,
     "input": [
      "import pandas\n",
      "l = [ { \"date\":\"2014-06-22\", \"prix\":220.0, \"devise\":\"euros\" }, \n",
      "      { \"date\":\"2014-06-23\", \"prix\":221.0, \"devise\":\"euros\" },]\n",
      "df = pandas.DataFrame(l)\n",
      "\n",
      "# \u00e9criture au format texte\n",
      "df.to_csv(\"exemple.txt\",sep=\"\\t\",encoding=\"utf-8\", index=False)\n",
      "\n",
      "# on regarde ce qui a \u00e9t\u00e9 enregistr\u00e9\n",
      "with open(\"exemple.txt\", \"r\", encoding=\"utf-8\") as f : text = f.read()\n",
      "print(text)\n",
      "\n",
      "# on enregistre au format Excel\n",
      "df.to_excel(\"exemple.xlsx\", index=False)\n",
      "\n",
      "# special ipython - notebook\n",
      "%system \"exemple.xlsx\""
     ],
     "language": "python",
     "metadata": {},
     "outputs": [
      {
       "output_type": "stream",
       "stream": "stdout",
       "text": [
        "date\tdevise\tprix\n",
        "2014-06-22\teuros\t220.0\n",
        "2014-06-23\teuros\t221.0\n",
        "\n"
       ]
      },
      {
       "metadata": {},
       "output_type": "pyout",
       "prompt_number": 25,
       "text": [
        "[]"
       ]
      }
     ],
     "prompt_number": 25
    },
    {
     "cell_type": "markdown",
     "metadata": {},
     "source": [
      "On peut r\u00e9cup\u00e9rer des donn\u00e9es directement depuis Internet ou une cha\u00eene de caract\u00e8res et afficher le d\u00e9but ([head](pandas.pydata.org/pandas-docs/stable/generated/pandas.DataFrame.head.html)) ou la fin ([tail](pandas.pydata.org/pandas-docs/stable/generated/pandas.DataFrame.tail.html)) :"
     ]
    },
    {
     "cell_type": "code",
     "collapsed": false,
     "input": [
      "import pandas, urllib.request\n",
      "furl = urllib.request.urlopen(\"http://www.xavierdupre.fr/enseignement/complements/marathon.txt\")\n",
      "df = pandas.read_csv(furl, sep=\"\\t\", names=[\"ville\", \"annee\", \"temps\",\"secondes\"])\n",
      "df.head()"
     ],
     "language": "python",
     "metadata": {},
     "outputs": [
      {
       "html": [
        "<div style=\"max-height:1000px;max-width:1500px;overflow:auto;\">\n",
        "<table border=\"1\" class=\"dataframe\">\n",
        "  <thead>\n",
        "    <tr style=\"text-align: right;\">\n",
        "      <th></th>\n",
        "      <th>ville</th>\n",
        "      <th>annee</th>\n",
        "      <th>temps</th>\n",
        "      <th>secondes</th>\n",
        "    </tr>\n",
        "  </thead>\n",
        "  <tbody>\n",
        "    <tr>\n",
        "      <th>0</th>\n",
        "      <td> PARIS</td>\n",
        "      <td> 2011</td>\n",
        "      <td> 02:06:29</td>\n",
        "      <td> 7589</td>\n",
        "    </tr>\n",
        "    <tr>\n",
        "      <th>1</th>\n",
        "      <td> PARIS</td>\n",
        "      <td> 2010</td>\n",
        "      <td> 02:06:41</td>\n",
        "      <td> 7601</td>\n",
        "    </tr>\n",
        "    <tr>\n",
        "      <th>2</th>\n",
        "      <td> PARIS</td>\n",
        "      <td> 2009</td>\n",
        "      <td> 02:05:47</td>\n",
        "      <td> 7547</td>\n",
        "    </tr>\n",
        "    <tr>\n",
        "      <th>3</th>\n",
        "      <td> PARIS</td>\n",
        "      <td> 2008</td>\n",
        "      <td> 02:06:40</td>\n",
        "      <td> 7600</td>\n",
        "    </tr>\n",
        "    <tr>\n",
        "      <th>4</th>\n",
        "      <td> PARIS</td>\n",
        "      <td> 2007</td>\n",
        "      <td> 02:07:17</td>\n",
        "      <td> 7637</td>\n",
        "    </tr>\n",
        "  </tbody>\n",
        "</table>\n",
        "<p>5 rows \u00d7 4 columns</p>\n",
        "</div>"
       ],
       "metadata": {},
       "output_type": "pyout",
       "prompt_number": 26,
       "text": [
        "   ville  annee     temps  secondes\n",
        "0  PARIS   2011  02:06:29      7589\n",
        "1  PARIS   2010  02:06:41      7601\n",
        "2  PARIS   2009  02:05:47      7547\n",
        "3  PARIS   2008  02:06:40      7600\n",
        "4  PARIS   2007  02:07:17      7637\n",
        "\n",
        "[5 rows x 4 columns]"
       ]
      }
     ],
     "prompt_number": 26
    },
    {
     "cell_type": "markdown",
     "metadata": {},
     "source": [
      "La fonction [describe](http://pandas.pydata.org/pandas-docs/stable/generated/pandas.DataFrame.describe.html) permet d'en savoir un peu plus sur les colonnes num\u00e9riques de cette table."
     ]
    },
    {
     "cell_type": "code",
     "collapsed": false,
     "input": [
      "df.describe()"
     ],
     "language": "python",
     "metadata": {},
     "outputs": [
      {
       "html": [
        "<div style=\"max-height:1000px;max-width:1500px;overflow:auto;\">\n",
        "<table border=\"1\" class=\"dataframe\">\n",
        "  <thead>\n",
        "    <tr style=\"text-align: right;\">\n",
        "      <th></th>\n",
        "      <th>annee</th>\n",
        "      <th>secondes</th>\n",
        "    </tr>\n",
        "  </thead>\n",
        "  <tbody>\n",
        "    <tr>\n",
        "      <th>count</th>\n",
        "      <td>  359.000000</td>\n",
        "      <td>   359.000000</td>\n",
        "    </tr>\n",
        "    <tr>\n",
        "      <th>mean</th>\n",
        "      <td> 1989.754875</td>\n",
        "      <td>  7933.660167</td>\n",
        "    </tr>\n",
        "    <tr>\n",
        "      <th>std</th>\n",
        "      <td>   14.028545</td>\n",
        "      <td>   385.289830</td>\n",
        "    </tr>\n",
        "    <tr>\n",
        "      <th>min</th>\n",
        "      <td> 1947.000000</td>\n",
        "      <td>  7382.000000</td>\n",
        "    </tr>\n",
        "    <tr>\n",
        "      <th>25%</th>\n",
        "      <td> 1981.000000</td>\n",
        "      <td>  7698.000000</td>\n",
        "    </tr>\n",
        "    <tr>\n",
        "      <th>50%</th>\n",
        "      <td> 1991.000000</td>\n",
        "      <td>  7820.000000</td>\n",
        "    </tr>\n",
        "    <tr>\n",
        "      <th>75%</th>\n",
        "      <td> 2001.000000</td>\n",
        "      <td>  8046.500000</td>\n",
        "    </tr>\n",
        "    <tr>\n",
        "      <th>max</th>\n",
        "      <td> 2011.000000</td>\n",
        "      <td> 10028.000000</td>\n",
        "    </tr>\n",
        "  </tbody>\n",
        "</table>\n",
        "<p>8 rows \u00d7 2 columns</p>\n",
        "</div>"
       ],
       "metadata": {},
       "output_type": "pyout",
       "prompt_number": 27,
       "text": [
        "             annee      secondes\n",
        "count   359.000000    359.000000\n",
        "mean   1989.754875   7933.660167\n",
        "std      14.028545    385.289830\n",
        "min    1947.000000   7382.000000\n",
        "25%    1981.000000   7698.000000\n",
        "50%    1991.000000   7820.000000\n",
        "75%    2001.000000   8046.500000\n",
        "max    2011.000000  10028.000000\n",
        "\n",
        "[8 rows x 2 columns]"
       ]
      }
     ],
     "prompt_number": 27
    },
    {
     "cell_type": "markdown",
     "metadata": {},
     "source": [
      "<h3 id=\"index\">DataFrame et Index</h3>\n",
      "\n",
      "On d\u00e9signe g\u00e9n\u00e9ralement une colonne ou *variable* par son nom. Les lignes peuvent \u00eatre d\u00e9sign\u00e9es par un entier."
     ]
    },
    {
     "cell_type": "code",
     "collapsed": false,
     "input": [
      "import pandas\n",
      "l = [ { \"date\":\"2014-06-22\", \"prix\":220.0, \"devise\":\"euros\" }, \n",
      "      { \"date\":\"2014-06-23\", \"prix\":221.0, \"devise\":\"euros\" },]\n",
      "df = pandas.DataFrame(l)\n",
      "df"
     ],
     "language": "python",
     "metadata": {},
     "outputs": [
      {
       "html": [
        "<div style=\"max-height:1000px;max-width:1500px;overflow:auto;\">\n",
        "<table border=\"1\" class=\"dataframe\">\n",
        "  <thead>\n",
        "    <tr style=\"text-align: right;\">\n",
        "      <th></th>\n",
        "      <th>date</th>\n",
        "      <th>devise</th>\n",
        "      <th>prix</th>\n",
        "    </tr>\n",
        "  </thead>\n",
        "  <tbody>\n",
        "    <tr>\n",
        "      <th>0</th>\n",
        "      <td> 2014-06-22</td>\n",
        "      <td> euros</td>\n",
        "      <td> 220</td>\n",
        "    </tr>\n",
        "    <tr>\n",
        "      <th>1</th>\n",
        "      <td> 2014-06-23</td>\n",
        "      <td> euros</td>\n",
        "      <td> 221</td>\n",
        "    </tr>\n",
        "  </tbody>\n",
        "</table>\n",
        "<p>2 rows \u00d7 3 columns</p>\n",
        "</div>"
       ],
       "metadata": {},
       "output_type": "pyout",
       "prompt_number": 28,
       "text": [
        "         date devise  prix\n",
        "0  2014-06-22  euros   220\n",
        "1  2014-06-23  euros   221\n",
        "\n",
        "[2 rows x 3 columns]"
       ]
      }
     ],
     "prompt_number": 28
    },
    {
     "cell_type": "markdown",
     "metadata": {},
     "source": [
      "On extrait une ligne ([ix](http://pandas.pydata.org/pandas-docs/dev/generated/pandas.DataFrame.ix.html)) :"
     ]
    },
    {
     "cell_type": "code",
     "collapsed": false,
     "input": [
      "df.ix[1]"
     ],
     "language": "python",
     "metadata": {},
     "outputs": [
      {
       "metadata": {},
       "output_type": "pyout",
       "prompt_number": 29,
       "text": [
        "date      2014-06-23\n",
        "devise         euros\n",
        "prix             221\n",
        "Name: 1, dtype: object"
       ]
      }
     ],
     "prompt_number": 29
    },
    {
     "cell_type": "markdown",
     "metadata": {},
     "source": [
      "Mais il est possible d'utiliser une colonne ou plusieurs colonnes comme index ([set_index](http://pandas.pydata.org/pandas-docs/stable/generated/pandas.DataFrame.set_index.html)) :"
     ]
    },
    {
     "cell_type": "code",
     "collapsed": false,
     "input": [
      "dfi = df.set_index(\"date\")\n",
      "dfi"
     ],
     "language": "python",
     "metadata": {},
     "outputs": [
      {
       "html": [
        "<div style=\"max-height:1000px;max-width:1500px;overflow:auto;\">\n",
        "<table border=\"1\" class=\"dataframe\">\n",
        "  <thead>\n",
        "    <tr style=\"text-align: right;\">\n",
        "      <th></th>\n",
        "      <th>devise</th>\n",
        "      <th>prix</th>\n",
        "    </tr>\n",
        "    <tr>\n",
        "      <th>date</th>\n",
        "      <th></th>\n",
        "      <th></th>\n",
        "    </tr>\n",
        "  </thead>\n",
        "  <tbody>\n",
        "    <tr>\n",
        "      <th>2014-06-22</th>\n",
        "      <td> euros</td>\n",
        "      <td> 220</td>\n",
        "    </tr>\n",
        "    <tr>\n",
        "      <th>2014-06-23</th>\n",
        "      <td> euros</td>\n",
        "      <td> 221</td>\n",
        "    </tr>\n",
        "  </tbody>\n",
        "</table>\n",
        "<p>2 rows \u00d7 2 columns</p>\n",
        "</div>"
       ],
       "metadata": {},
       "output_type": "pyout",
       "prompt_number": 30,
       "text": [
        "           devise  prix\n",
        "date                   \n",
        "2014-06-22  euros   220\n",
        "2014-06-23  euros   221\n",
        "\n",
        "[2 rows x 2 columns]"
       ]
      }
     ],
     "prompt_number": 30
    },
    {
     "cell_type": "markdown",
     "metadata": {},
     "source": [
      "On peut maintenant d\u00e9signer une ligne par une date :"
     ]
    },
    {
     "cell_type": "code",
     "collapsed": false,
     "input": [
      "dfi.ix[\"2014-06-23\"]"
     ],
     "language": "python",
     "metadata": {},
     "outputs": [
      {
       "metadata": {},
       "output_type": "pyout",
       "prompt_number": 31,
       "text": [
        "devise    euros\n",
        "prix        221\n",
        "Name: 2014-06-23, dtype: object"
       ]
      }
     ],
     "prompt_number": 31
    },
    {
     "cell_type": "markdown",
     "metadata": {},
     "source": [
      "Il est possible d'utiliser plusieurs colonnes comme [index](http://pandas.pydata.org/pandas-docs/stable/indexing.html) :"
     ]
    },
    {
     "cell_type": "code",
     "collapsed": false,
     "input": [
      "df = pandas.DataFrame([ {\"pr\u00e9nom\":\"xavier\", \"nom\":\"dupr\u00e9\", \"arrondissement\":18}, \n",
      "       {\"pr\u00e9nom\":\"cl\u00e9mence\", \"nom\":\"dupr\u00e9\", \"arrondissement\":15 } ])\n",
      "dfi = df.set_index([\"nom\",\"pr\u00e9nom\"])\n",
      "dfi.ix[\"dupr\u00e9\",\"xavier\"]"
     ],
     "language": "python",
     "metadata": {},
     "outputs": [
      {
       "metadata": {},
       "output_type": "pyout",
       "prompt_number": 32,
       "text": [
        "arrondissement    18\n",
        "Name: (dupr\u00e9, xavier), dtype: int64"
       ]
      }
     ],
     "prompt_number": 32
    },
    {
     "cell_type": "markdown",
     "metadata": {},
     "source": [
      "Si on veut changer l'index ou le supprimer ([reset_index](http://pandas.pydata.org/pandas-docs/stable/generated/pandas.DataFrame.reset_index.html)) :"
     ]
    },
    {
     "cell_type": "code",
     "collapsed": false,
     "input": [
      "dfi.reset_index(drop=False, inplace=True)  \n",
      "        # le mot-cl\u00e9 drop pour garder ou non les colonnes servant d'index\n",
      "        # inplace signifie qu'on modifie l'instance et non qu'une copie est modifi\u00e9e\n",
      "        # donc on peut aussi \u00e9crire dfi2 = dfi.reset_index(drop=False)  \n",
      "dfi.set_index([\"nom\", \"arrondissement\"],inplace=True)\n",
      "dfi"
     ],
     "language": "python",
     "metadata": {},
     "outputs": [
      {
       "html": [
        "<div style=\"max-height:1000px;max-width:1500px;overflow:auto;\">\n",
        "<table border=\"1\" class=\"dataframe\">\n",
        "  <thead>\n",
        "    <tr style=\"text-align: right;\">\n",
        "      <th></th>\n",
        "      <th></th>\n",
        "      <th>pr\u00e9nom</th>\n",
        "    </tr>\n",
        "    <tr>\n",
        "      <th>nom</th>\n",
        "      <th>arrondissement</th>\n",
        "      <th></th>\n",
        "    </tr>\n",
        "  </thead>\n",
        "  <tbody>\n",
        "    <tr>\n",
        "      <th rowspan=\"2\" valign=\"top\">dupr\u00e9</th>\n",
        "      <th>18</th>\n",
        "      <td>   xavier</td>\n",
        "    </tr>\n",
        "    <tr>\n",
        "      <th>15</th>\n",
        "      <td> cl\u00e9mence</td>\n",
        "    </tr>\n",
        "  </tbody>\n",
        "</table>\n",
        "<p>2 rows \u00d7 1 columns</p>\n",
        "</div>"
       ],
       "metadata": {},
       "output_type": "pyout",
       "prompt_number": 33,
       "text": [
        "                        pr\u00e9nom\n",
        "nom   arrondissement          \n",
        "dupr\u00e9 18                xavier\n",
        "      15              cl\u00e9mence\n",
        "\n",
        "[2 rows x 1 columns]"
       ]
      }
     ],
     "prompt_number": 33
    },
    {
     "cell_type": "markdown",
     "metadata": {},
     "source": [
      "Les index sont particuli\u00e8rement utiles lorsqu'il s'agit de fusionner deux tables. Pour des petites tables, la plupart du temps, il est plus facile de s'en passer.\n",
      "\n",
      "<h3 id=\"ix\">Notation avec le symbole ``:``</h3>\n",
      "\n",
      "Le symbole ``:`` d\u00e9signe une plage de valeurs."
     ]
    },
    {
     "cell_type": "code",
     "collapsed": false,
     "input": [
      "import pandas, urllib.request\n",
      "furl = urllib.request.urlopen(\"http://www.xavierdupre.fr/enseignement/complements/marathon.txt\")\n",
      "df = pandas.read_csv(furl, sep=\"\\t\", names=[\"ville\", \"annee\", \"temps\",\"secondes\"])\n",
      "df.head()"
     ],
     "language": "python",
     "metadata": {},
     "outputs": [
      {
       "html": [
        "<div style=\"max-height:1000px;max-width:1500px;overflow:auto;\">\n",
        "<table border=\"1\" class=\"dataframe\">\n",
        "  <thead>\n",
        "    <tr style=\"text-align: right;\">\n",
        "      <th></th>\n",
        "      <th>ville</th>\n",
        "      <th>annee</th>\n",
        "      <th>temps</th>\n",
        "      <th>secondes</th>\n",
        "    </tr>\n",
        "  </thead>\n",
        "  <tbody>\n",
        "    <tr>\n",
        "      <th>0</th>\n",
        "      <td> PARIS</td>\n",
        "      <td> 2011</td>\n",
        "      <td> 02:06:29</td>\n",
        "      <td> 7589</td>\n",
        "    </tr>\n",
        "    <tr>\n",
        "      <th>1</th>\n",
        "      <td> PARIS</td>\n",
        "      <td> 2010</td>\n",
        "      <td> 02:06:41</td>\n",
        "      <td> 7601</td>\n",
        "    </tr>\n",
        "    <tr>\n",
        "      <th>2</th>\n",
        "      <td> PARIS</td>\n",
        "      <td> 2009</td>\n",
        "      <td> 02:05:47</td>\n",
        "      <td> 7547</td>\n",
        "    </tr>\n",
        "    <tr>\n",
        "      <th>3</th>\n",
        "      <td> PARIS</td>\n",
        "      <td> 2008</td>\n",
        "      <td> 02:06:40</td>\n",
        "      <td> 7600</td>\n",
        "    </tr>\n",
        "    <tr>\n",
        "      <th>4</th>\n",
        "      <td> PARIS</td>\n",
        "      <td> 2007</td>\n",
        "      <td> 02:07:17</td>\n",
        "      <td> 7637</td>\n",
        "    </tr>\n",
        "  </tbody>\n",
        "</table>\n",
        "<p>5 rows \u00d7 4 columns</p>\n",
        "</div>"
       ],
       "metadata": {},
       "output_type": "pyout",
       "prompt_number": 34,
       "text": [
        "   ville  annee     temps  secondes\n",
        "0  PARIS   2011  02:06:29      7589\n",
        "1  PARIS   2010  02:06:41      7601\n",
        "2  PARIS   2009  02:05:47      7547\n",
        "3  PARIS   2008  02:06:40      7600\n",
        "4  PARIS   2007  02:07:17      7637\n",
        "\n",
        "[5 rows x 4 columns]"
       ]
      }
     ],
     "prompt_number": 34
    },
    {
     "cell_type": "markdown",
     "metadata": {},
     "source": [
      "On peut s\u00e9lectionner un sous-ensemble de lignes :"
     ]
    },
    {
     "cell_type": "code",
     "collapsed": false,
     "input": [
      "df[3:6]"
     ],
     "language": "python",
     "metadata": {},
     "outputs": [
      {
       "html": [
        "<div style=\"max-height:1000px;max-width:1500px;overflow:auto;\">\n",
        "<table border=\"1\" class=\"dataframe\">\n",
        "  <thead>\n",
        "    <tr style=\"text-align: right;\">\n",
        "      <th></th>\n",
        "      <th>ville</th>\n",
        "      <th>annee</th>\n",
        "      <th>temps</th>\n",
        "      <th>secondes</th>\n",
        "    </tr>\n",
        "  </thead>\n",
        "  <tbody>\n",
        "    <tr>\n",
        "      <th>3</th>\n",
        "      <td> PARIS</td>\n",
        "      <td> 2008</td>\n",
        "      <td> 02:06:40</td>\n",
        "      <td> 7600</td>\n",
        "    </tr>\n",
        "    <tr>\n",
        "      <th>4</th>\n",
        "      <td> PARIS</td>\n",
        "      <td> 2007</td>\n",
        "      <td> 02:07:17</td>\n",
        "      <td> 7637</td>\n",
        "    </tr>\n",
        "    <tr>\n",
        "      <th>5</th>\n",
        "      <td> PARIS</td>\n",
        "      <td> 2006</td>\n",
        "      <td> 02:08:03</td>\n",
        "      <td> 7683</td>\n",
        "    </tr>\n",
        "  </tbody>\n",
        "</table>\n",
        "<p>3 rows \u00d7 4 columns</p>\n",
        "</div>"
       ],
       "metadata": {},
       "output_type": "pyout",
       "prompt_number": 35,
       "text": [
        "   ville  annee     temps  secondes\n",
        "3  PARIS   2008  02:06:40      7600\n",
        "4  PARIS   2007  02:07:17      7637\n",
        "5  PARIS   2006  02:08:03      7683\n",
        "\n",
        "[3 rows x 4 columns]"
       ]
      }
     ],
     "prompt_number": 35
    },
    {
     "cell_type": "markdown",
     "metadata": {},
     "source": [
      "On extrait la m\u00eame plage mais avec deux colonnes seulement :"
     ]
    },
    {
     "cell_type": "code",
     "collapsed": false,
     "input": [
      "df.ix[3:6,[\"annee\",\"temps\"]]"
     ],
     "language": "python",
     "metadata": {},
     "outputs": [
      {
       "html": [
        "<div style=\"max-height:1000px;max-width:1500px;overflow:auto;\">\n",
        "<table border=\"1\" class=\"dataframe\">\n",
        "  <thead>\n",
        "    <tr style=\"text-align: right;\">\n",
        "      <th></th>\n",
        "      <th>annee</th>\n",
        "      <th>temps</th>\n",
        "    </tr>\n",
        "  </thead>\n",
        "  <tbody>\n",
        "    <tr>\n",
        "      <th>3</th>\n",
        "      <td> 2008</td>\n",
        "      <td> 02:06:40</td>\n",
        "    </tr>\n",
        "    <tr>\n",
        "      <th>4</th>\n",
        "      <td> 2007</td>\n",
        "      <td> 02:07:17</td>\n",
        "    </tr>\n",
        "    <tr>\n",
        "      <th>5</th>\n",
        "      <td> 2006</td>\n",
        "      <td> 02:08:03</td>\n",
        "    </tr>\n",
        "    <tr>\n",
        "      <th>6</th>\n",
        "      <td> 2005</td>\n",
        "      <td> 02:08:02</td>\n",
        "    </tr>\n",
        "  </tbody>\n",
        "</table>\n",
        "<p>4 rows \u00d7 2 columns</p>\n",
        "</div>"
       ],
       "metadata": {},
       "output_type": "pyout",
       "prompt_number": 36,
       "text": [
        "   annee     temps\n",
        "3   2008  02:06:40\n",
        "4   2007  02:07:17\n",
        "5   2006  02:08:03\n",
        "6   2005  02:08:02\n",
        "\n",
        "[4 rows x 2 columns]"
       ]
      }
     ],
     "prompt_number": 36
    },
    {
     "cell_type": "markdown",
     "metadata": {},
     "source": [
      "Le m\u00eame code pour lequel on renomme les colonnes extraites :"
     ]
    },
    {
     "cell_type": "code",
     "collapsed": false,
     "input": [
      "sub = df.ix[3:6,[\"annee\",\"temps\"]]\n",
      "sub.columns = [\"year\",\"time\"]\n",
      "sub"
     ],
     "language": "python",
     "metadata": {},
     "outputs": [
      {
       "html": [
        "<div style=\"max-height:1000px;max-width:1500px;overflow:auto;\">\n",
        "<table border=\"1\" class=\"dataframe\">\n",
        "  <thead>\n",
        "    <tr style=\"text-align: right;\">\n",
        "      <th></th>\n",
        "      <th>year</th>\n",
        "      <th>time</th>\n",
        "    </tr>\n",
        "  </thead>\n",
        "  <tbody>\n",
        "    <tr>\n",
        "      <th>3</th>\n",
        "      <td> 2008</td>\n",
        "      <td> 02:06:40</td>\n",
        "    </tr>\n",
        "    <tr>\n",
        "      <th>4</th>\n",
        "      <td> 2007</td>\n",
        "      <td> 02:07:17</td>\n",
        "    </tr>\n",
        "    <tr>\n",
        "      <th>5</th>\n",
        "      <td> 2006</td>\n",
        "      <td> 02:08:03</td>\n",
        "    </tr>\n",
        "    <tr>\n",
        "      <th>6</th>\n",
        "      <td> 2005</td>\n",
        "      <td> 02:08:02</td>\n",
        "    </tr>\n",
        "  </tbody>\n",
        "</table>\n",
        "<p>4 rows \u00d7 2 columns</p>\n",
        "</div>"
       ],
       "metadata": {},
       "output_type": "pyout",
       "prompt_number": 37,
       "text": [
        "   year      time\n",
        "3  2008  02:06:40\n",
        "4  2007  02:07:17\n",
        "5  2006  02:08:03\n",
        "6  2005  02:08:02\n",
        "\n",
        "[4 rows x 2 columns]"
       ]
      }
     ],
     "prompt_number": 37
    },
    {
     "cell_type": "markdown",
     "metadata": {},
     "source": [
      "<h3 id=\"exo1\">Exercice 1 : cr\u00e9er un fichier Excel</h3>\n",
      "    \n",
      "On souhaite r\u00e9cup\u00e9rer les donn\u00e9es [donnees_enquete_2003_television.txt](http://www.xavierdupre.fr/enseignement/complements/donnees_enquete_2003_television.txt) (source : [INSEE](http://www.insee.fr/fr/themes/detail.asp?ref_id=fd-hdv03&page=fichiers_detail/HDV03/telechargement.htm)).\n",
      "\n",
      "* ``POIDSLOG`` : Pond\u00e9ration individuelle relative\n",
      "* ``POIDSF`` : Variable de pond\u00e9ration individuelle\n",
      "* ``cLT1FREQ`` : Nombre d'heures en moyenne pass\u00e9es \u00e0 regarder la t\u00e9l\u00e9vision \n",
      "* ``cLT2FREQ`` : Unit\u00e9 de temps utilis\u00e9e pour compter le nombre d'heures pass\u00e9es \u00e0 regarder la t\u00e9l\u00e9vision, cette unit\u00e9 est repr\u00e9sent\u00e9e par les quatre valeurs suivantes\n",
      "    * 0 : non concern\u00e9\n",
      "    * 1 : jour\n",
      "    * 2 : semaine\n",
      "    * 3 : mois \n",
      "    \n",
      "Ensuite, on veut :\n",
      "\n",
      "1. Supprimer les colonnes vides\n",
      "2. Obtenir les valeurs distinctes  pour la colonne ``cLT2FREQ``\n",
      "3. Modifier la matrice pour enlever les lignes pour lesquelles l'unit\u00e9 de temps (cLT2FREQ) n'est pas renseign\u00e9e ou \u00e9gale \u00e0 z\u00e9ro.\n",
      "4. Sauver le r\u00e9sultat au format Excel.\n",
      "\n",
      "Vous aurez peut-\u00eatre besoin des fonctions suivantes :\n",
      "\n",
      "* [numpy.isnan](http://docs.scipy.org/doc/numpy/reference/generated/numpy.isnan.html)\n",
      "* [DataFrame.apply](http://pandas.pydata.org/pandas-docs/stable/generated/pandas.DataFrame.apply.html)\n",
      "* [DataFrame.fillna](http://pandas.pydata.org/pandas-docs/stable/generated/pandas.DataFrame.fillna.html) ou \n",
      "[DataFrame.isnull](http://pandas.pydata.org/pandas-docs/stable/generated/pandas.DataFrame.isnull.html)\n",
      "* [DataFrame.copy](http://pandas.pydata.org/pandas-docs/dev/generated/pandas.DataFrame.copy.html)"
     ]
    },
    {
     "cell_type": "code",
     "collapsed": false,
     "input": [
      "import pandas, io\n",
      "# ..."
     ],
     "language": "python",
     "metadata": {},
     "outputs": [],
     "prompt_number": 38
    },
    {
     "cell_type": "markdown",
     "metadata": {},
     "source": [
      "<h2 id=\"df2\">Manipuler un DataFrame</h2>\n",
      "\n",
      "Si la structure *DataFrame* s'est impos\u00e9e, c'est parce qu'on effectue toujours les m\u00eames op\u00e9rations. Chaque fonction cache une boucle ou deux dont le co\u00fbt est pr\u00e9cis\u00e9 en fin de ligne :\n",
      "\n",
      "- **filter** : on s\u00e9lectionne un sous-ensemble de lignes qui v\u00e9rifie une condition $\\rightarrow O(n)$\n",
      "- **union** : concat\u00e9nation de deux jeux de donn\u00e9es $\\rightarrow O(n_1 + n_2)$\n",
      "- **sort** : tri  $\\rightarrow O(n \\ln n)$\n",
      "- **group by** : grouper des lignes qui partagent une valeur commune  $\\rightarrow O(n)$\n",
      "- **join** : fusionner deux jeux de donn\u00e9es en associant les lignes qui partagent une valeur commune  $\\rightarrow \\in [O(n_1 + n_2), O(n_1 n_2)]$\n",
      "- **pivot** : utiliser des valeurs pr\u00e9sentes dans colonne comme noms de colonnes $\\rightarrow O(n)$\n",
      "\n",
      "Les 5 premi\u00e8res op\u00e9rations sont issues de la logique de manipulation des donn\u00e9es avec le langage [SQL](http://fr.wikipedia.org/wiki/Structured_Query_Language) (ou le logiciel [SAS](http://www.sas.com)). La derni\u00e8re correspond \u00e0 un [tableau crois\u00e9 dynamique](http://fr.wikipedia.org/wiki/Tableau_crois%C3%A9_dynamique). Pour illustrer ces op\u00e9rations, on prendre le [DataFrame](http://pandas.pydata.org/pandas-docs/stable/generated/pandas.DataFrame.html) suivant :"
     ]
    },
    {
     "cell_type": "code",
     "collapsed": false,
     "input": [
      "import pandas, urllib.request\n",
      "url = urllib.request.urlopen(\"http://www.xavierdupre.fr/enseignement/complements/marathon.txt\")\n",
      "df = pandas.read_csv(url, sep=\"\\t\", names=[\"ville\", \"annee\", \"temps\",\"secondes\"])\n",
      "print(df.columns)\n",
      "print(\"villes\",set(df.ville))\n",
      "print(\"annee\",list(set(df.annee))[:10],\"...\")"
     ],
     "language": "python",
     "metadata": {},
     "outputs": [
      {
       "output_type": "stream",
       "stream": "stdout",
       "text": [
        "Index(['ville', 'annee', 'temps', 'secondes'], dtype='object')\n",
        "villes {'PARIS', 'CHICAGO', 'FUKUOKA', 'STOCKOLM', 'LONDON', 'AMSTERDAM', 'BOSTON', 'NEW YORK', 'BERLIN'}\n",
        "annee [1947, 1948, 1949, 1950, 1951, 1952, 1953, 1954, 1955, 1956] ...\n"
       ]
      }
     ],
     "prompt_number": 39
    },
    {
     "cell_type": "markdown",
     "metadata": {},
     "source": [
      "<h3 id=\"op\">6 op\u00e9rations : filtrer, union, sort, group by, join, pivot</h3>\n",
      "\n",
      "<h4 id=\"filtrer\">filter</h4>\n",
      "\n",
      "Filter consiste \u00e0 s\u00e9lectionner un sous-ensemble de lignes du dataframe. Pour filter sur plusieurs conditions, il faut utiliser les op\u00e9rateurs logique & (et), | (ou), ~ (non) (voir [Mapping Operators to Functions](https://docs.python.org/3.4/library/operator.html#mapping-operators-to-functions)).\n",
      "\n",
      "* [filter](http://pandas.pydata.org/pandas-docs/stable/generated/pandas.DataFrame.filter.html), [mask](http://pandas.pydata.org/pandas-docs/stable/generated/pandas.DataFrame.mask.html),[where](http://pandas.pydata.org/pandas-docs/stable/generated/pandas.DataFrame.where.html)\n",
      "* [pandas: filter rows of DataFrame with operator chaining](http://stackoverflow.com/questions/11869910/pandas-filter-rows-of-dataframe-with-operator-chaining)\n",
      "* [Indexing and Selecting Data](http://pandas.pydata.org/pandas-docs/stable/indexing.html)"
     ]
    },
    {
     "cell_type": "code",
     "collapsed": false,
     "input": [
      "subset = df [ df.annee == 1971 ]\n",
      "subset.head()"
     ],
     "language": "python",
     "metadata": {},
     "outputs": [
      {
       "html": [
        "<div style=\"max-height:1000px;max-width:1500px;overflow:auto;\">\n",
        "<table border=\"1\" class=\"dataframe\">\n",
        "  <thead>\n",
        "    <tr style=\"text-align: right;\">\n",
        "      <th></th>\n",
        "      <th>ville</th>\n",
        "      <th>annee</th>\n",
        "      <th>temps</th>\n",
        "      <th>secondes</th>\n",
        "    </tr>\n",
        "  </thead>\n",
        "  <tbody>\n",
        "    <tr>\n",
        "      <th>112</th>\n",
        "      <td>  FUKUOKA</td>\n",
        "      <td> 1971</td>\n",
        "      <td> 02:12:51</td>\n",
        "      <td> 7971</td>\n",
        "    </tr>\n",
        "    <tr>\n",
        "      <th>204</th>\n",
        "      <td> NEW YORK</td>\n",
        "      <td> 1971</td>\n",
        "      <td> 02:22:54</td>\n",
        "      <td> 8574</td>\n",
        "    </tr>\n",
        "    <tr>\n",
        "      <th>285</th>\n",
        "      <td>   BOSTON</td>\n",
        "      <td> 1971</td>\n",
        "      <td> 02:18:45</td>\n",
        "      <td> 8325</td>\n",
        "    </tr>\n",
        "  </tbody>\n",
        "</table>\n",
        "<p>3 rows \u00d7 4 columns</p>\n",
        "</div>"
       ],
       "metadata": {},
       "output_type": "pyout",
       "prompt_number": 40,
       "text": [
        "        ville  annee     temps  secondes\n",
        "112   FUKUOKA   1971  02:12:51      7971\n",
        "204  NEW YORK   1971  02:22:54      8574\n",
        "285    BOSTON   1971  02:18:45      8325\n",
        "\n",
        "[3 rows x 4 columns]"
       ]
      }
     ],
     "prompt_number": 40
    },
    {
     "cell_type": "code",
     "collapsed": false,
     "input": [
      "subset = df [ (df.annee == 1971) & (df.ville == \"BOSTON\") ]\n",
      "subset.head()"
     ],
     "language": "python",
     "metadata": {},
     "outputs": [
      {
       "html": [
        "<div style=\"max-height:1000px;max-width:1500px;overflow:auto;\">\n",
        "<table border=\"1\" class=\"dataframe\">\n",
        "  <thead>\n",
        "    <tr style=\"text-align: right;\">\n",
        "      <th></th>\n",
        "      <th>ville</th>\n",
        "      <th>annee</th>\n",
        "      <th>temps</th>\n",
        "      <th>secondes</th>\n",
        "    </tr>\n",
        "  </thead>\n",
        "  <tbody>\n",
        "    <tr>\n",
        "      <th>285</th>\n",
        "      <td> BOSTON</td>\n",
        "      <td> 1971</td>\n",
        "      <td> 02:18:45</td>\n",
        "      <td> 8325</td>\n",
        "    </tr>\n",
        "  </tbody>\n",
        "</table>\n",
        "<p>1 rows \u00d7 4 columns</p>\n",
        "</div>"
       ],
       "metadata": {},
       "output_type": "pyout",
       "prompt_number": 41,
       "text": [
        "      ville  annee     temps  secondes\n",
        "285  BOSTON   1971  02:18:45      8325\n",
        "\n",
        "[1 rows x 4 columns]"
       ]
      }
     ],
     "prompt_number": 41
    },
    {
     "cell_type": "markdown",
     "metadata": {},
     "source": [
      "Les derni\u00e8res versions de pandas ont introduit la m\u00e9thdoe [query](http://pandas.pydata.org/pandas-docs/stable/generated/pandas.DataFrame.query.html) qui permet de r\u00e9duire encore l'\u00e9criture :"
     ]
    },
    {
     "cell_type": "code",
     "collapsed": false,
     "input": [
      "subset = df.query( '(annee == 1971) & (ville == \"BOSTON\")')\n",
      "subset.head()"
     ],
     "language": "python",
     "metadata": {},
     "outputs": [
      {
       "html": [
        "<div style=\"max-height:1000px;max-width:1500px;overflow:auto;\">\n",
        "<table border=\"1\" class=\"dataframe\">\n",
        "  <thead>\n",
        "    <tr style=\"text-align: right;\">\n",
        "      <th></th>\n",
        "      <th>ville</th>\n",
        "      <th>annee</th>\n",
        "      <th>temps</th>\n",
        "      <th>secondes</th>\n",
        "    </tr>\n",
        "  </thead>\n",
        "  <tbody>\n",
        "    <tr>\n",
        "      <th>285</th>\n",
        "      <td> BOSTON</td>\n",
        "      <td> 1971</td>\n",
        "      <td> 02:18:45</td>\n",
        "      <td> 8325</td>\n",
        "    </tr>\n",
        "  </tbody>\n",
        "</table>\n",
        "<p>1 rows \u00d7 4 columns</p>\n",
        "</div>"
       ],
       "metadata": {},
       "output_type": "pyout",
       "prompt_number": 42,
       "text": [
        "      ville  annee     temps  secondes\n",
        "285  BOSTON   1971  02:18:45      8325\n",
        "\n",
        "[1 rows x 4 columns]"
       ]
      }
     ],
     "prompt_number": 42
    },
    {
     "cell_type": "markdown",
     "metadata": {},
     "source": [
      "<h4 id=\"union\">union</h4>\n",
      "\n",
      "union = concat\u00e9nation de deux [DataFrame](http://pandas.pydata.org/pandas-docs/stable/generated/pandas.DataFrame.html) (qui n'ont pas n\u00e9cessaire les m\u00eames colonnes). On peut concat\u00e9ner les lignes ou les colonnes.\n",
      "\n",
      "* [concat](http://pandas.pydata.org/pandas-docs/stable/generated/pandas.concat.html)\n",
      "* [Merge, join, and concatenate](http://pandas.pydata.org/pandas-docs/stable/merging.html)"
     ]
    },
    {
     "cell_type": "code",
     "collapsed": false,
     "input": [
      "concat_ligne = pandas.concat((df,df))\n",
      "df.shape,concat_ligne.shape"
     ],
     "language": "python",
     "metadata": {},
     "outputs": [
      {
       "metadata": {},
       "output_type": "pyout",
       "prompt_number": 43,
       "text": [
        "((359, 4), (718, 4))"
       ]
      }
     ],
     "prompt_number": 43
    },
    {
     "cell_type": "code",
     "collapsed": false,
     "input": [
      "concat_col = pandas.concat((df,df), axis=1)\n",
      "df.shape,concat_col.shape"
     ],
     "language": "python",
     "metadata": {},
     "outputs": [
      {
       "metadata": {},
       "output_type": "pyout",
       "prompt_number": 44,
       "text": [
        "((359, 4), (359, 8))"
       ]
      }
     ],
     "prompt_number": 44
    },
    {
     "cell_type": "markdown",
     "metadata": {},
     "source": [
      "<h4 id=\"sort\">sort</h4>\n",
      "\n",
      "Sort = trier\n",
      "\n",
      "* [sort](http://pandas.pydata.org/pandas-docs/stable/generated/pandas.DataFrame.sort.html)"
     ]
    },
    {
     "cell_type": "code",
     "collapsed": false,
     "input": [
      "tri = df.sort( [\"annee\", \"ville\"], ascending=[0,1])\n",
      "tri.head()"
     ],
     "language": "python",
     "metadata": {},
     "outputs": [
      {
       "html": [
        "<div style=\"max-height:1000px;max-width:1500px;overflow:auto;\">\n",
        "<table border=\"1\" class=\"dataframe\">\n",
        "  <thead>\n",
        "    <tr style=\"text-align: right;\">\n",
        "      <th></th>\n",
        "      <th>ville</th>\n",
        "      <th>annee</th>\n",
        "      <th>temps</th>\n",
        "      <th>secondes</th>\n",
        "    </tr>\n",
        "  </thead>\n",
        "  <tbody>\n",
        "    <tr>\n",
        "      <th>35 </th>\n",
        "      <td>   BERLIN</td>\n",
        "      <td> 2011</td>\n",
        "      <td> 02:03:38</td>\n",
        "      <td> 7418</td>\n",
        "    </tr>\n",
        "    <tr>\n",
        "      <th>325</th>\n",
        "      <td>   BOSTON</td>\n",
        "      <td> 2011</td>\n",
        "      <td> 02:03:02</td>\n",
        "      <td> 7382</td>\n",
        "    </tr>\n",
        "    <tr>\n",
        "      <th>202</th>\n",
        "      <td>   LONDON</td>\n",
        "      <td> 2011</td>\n",
        "      <td> 02:04:40</td>\n",
        "      <td> 7480</td>\n",
        "    </tr>\n",
        "    <tr>\n",
        "      <th>0  </th>\n",
        "      <td>    PARIS</td>\n",
        "      <td> 2011</td>\n",
        "      <td> 02:06:29</td>\n",
        "      <td> 7589</td>\n",
        "    </tr>\n",
        "    <tr>\n",
        "      <th>276</th>\n",
        "      <td> STOCKOLM</td>\n",
        "      <td> 2011</td>\n",
        "      <td> 02:14:07</td>\n",
        "      <td> 8047</td>\n",
        "    </tr>\n",
        "  </tbody>\n",
        "</table>\n",
        "<p>5 rows \u00d7 4 columns</p>\n",
        "</div>"
       ],
       "metadata": {},
       "output_type": "pyout",
       "prompt_number": 45,
       "text": [
        "        ville  annee     temps  secondes\n",
        "35     BERLIN   2011  02:03:38      7418\n",
        "325    BOSTON   2011  02:03:02      7382\n",
        "202    LONDON   2011  02:04:40      7480\n",
        "0       PARIS   2011  02:06:29      7589\n",
        "276  STOCKOLM   2011  02:14:07      8047\n",
        "\n",
        "[5 rows x 4 columns]"
       ]
      }
     ],
     "prompt_number": 45
    },
    {
     "cell_type": "markdown",
     "metadata": {},
     "source": [
      "<h4 id=\"groupby\">group by</h4>\n",
      "\n",
      "Cette op\u00e9ration consiste \u00e0 grouper les lignes qui partagent une caract\u00e9ristique commune (une ou ou plusieurs valeurs par exemple). Sur chaque groupe, on peut calculer une somme, une moyenne...\n",
      "\n",
      "* [groupby](http://pandas.pydata.org/pandas-docs/stable/generated/pandas.DataFrame.groupby.html)\n",
      "* [sum](http://pandas.pydata.org/pandas-docs/stable/generated/pandas.DataFrame.sum.html), [cumsum](http://pandas.pydata.org/pandas-docs/stable/generated/pandas.DataFrame.cumsum.html), [mean](http://pandas.pydata.org/pandas-docs/stable/generated/pandas.DataFrame.mean.html), [count](http://pandas.pydata.org/pandas-docs/stable/generated/pandas.DataFrame.count.html)\n",
      "* [SQL GROUP BY](http://sql.sh/cours/group-by)\n",
      "* [Group By: split-apply-combine](http://pandas.pydata.org/pandas-docs/dev/groupby.html)\n",
      "* [group by customis\u00e9](http://stackoverflow.com/questions/15322632/python-pandas-df-groupby-agg-column-reference-in-agg)\n"
     ]
    },
    {
     "cell_type": "code",
     "collapsed": false,
     "input": [
      "gr = df.groupby(\"annee\")\n",
      "gr"
     ],
     "language": "python",
     "metadata": {},
     "outputs": [
      {
       "metadata": {},
       "output_type": "pyout",
       "prompt_number": 46,
       "text": [
        "<pandas.core.groupby.DataFrameGroupBy object at 0x30624CB0>"
       ]
      }
     ],
     "prompt_number": 46
    },
    {
     "cell_type": "code",
     "collapsed": false,
     "input": [
      "nb = gr.count()\n",
      "nb.sort(ascending=False).head()"
     ],
     "language": "python",
     "metadata": {},
     "outputs": [
      {
       "html": [
        "<div style=\"max-height:1000px;max-width:1500px;overflow:auto;\">\n",
        "<table border=\"1\" class=\"dataframe\">\n",
        "  <thead>\n",
        "    <tr style=\"text-align: right;\">\n",
        "      <th></th>\n",
        "      <th>ville</th>\n",
        "      <th>annee</th>\n",
        "      <th>temps</th>\n",
        "      <th>secondes</th>\n",
        "    </tr>\n",
        "    <tr>\n",
        "      <th>annee</th>\n",
        "      <th></th>\n",
        "      <th></th>\n",
        "      <th></th>\n",
        "      <th></th>\n",
        "    </tr>\n",
        "  </thead>\n",
        "  <tbody>\n",
        "    <tr>\n",
        "      <th>2011</th>\n",
        "      <td> 5</td>\n",
        "      <td> 5</td>\n",
        "      <td> 5</td>\n",
        "      <td> 5</td>\n",
        "    </tr>\n",
        "    <tr>\n",
        "      <th>2010</th>\n",
        "      <td> 9</td>\n",
        "      <td> 9</td>\n",
        "      <td> 9</td>\n",
        "      <td> 9</td>\n",
        "    </tr>\n",
        "    <tr>\n",
        "      <th>2009</th>\n",
        "      <td> 9</td>\n",
        "      <td> 9</td>\n",
        "      <td> 9</td>\n",
        "      <td> 9</td>\n",
        "    </tr>\n",
        "    <tr>\n",
        "      <th>2008</th>\n",
        "      <td> 9</td>\n",
        "      <td> 9</td>\n",
        "      <td> 9</td>\n",
        "      <td> 9</td>\n",
        "    </tr>\n",
        "    <tr>\n",
        "      <th>2007</th>\n",
        "      <td> 9</td>\n",
        "      <td> 9</td>\n",
        "      <td> 9</td>\n",
        "      <td> 9</td>\n",
        "    </tr>\n",
        "  </tbody>\n",
        "</table>\n",
        "<p>5 rows \u00d7 4 columns</p>\n",
        "</div>"
       ],
       "metadata": {},
       "output_type": "pyout",
       "prompt_number": 47,
       "text": [
        "       ville  annee  temps  secondes\n",
        "annee                               \n",
        "2011       5      5      5         5\n",
        "2010       9      9      9         9\n",
        "2009       9      9      9         9\n",
        "2008       9      9      9         9\n",
        "2007       9      9      9         9\n",
        "\n",
        "[5 rows x 4 columns]"
       ]
      }
     ],
     "prompt_number": 47
    },
    {
     "cell_type": "code",
     "collapsed": false,
     "input": [
      "nb = gr.sum()\n",
      "nb.sort(ascending=False).head(n=2)"
     ],
     "language": "python",
     "metadata": {},
     "outputs": [
      {
       "html": [
        "<div style=\"max-height:1000px;max-width:1500px;overflow:auto;\">\n",
        "<table border=\"1\" class=\"dataframe\">\n",
        "  <thead>\n",
        "    <tr style=\"text-align: right;\">\n",
        "      <th></th>\n",
        "      <th>secondes</th>\n",
        "    </tr>\n",
        "    <tr>\n",
        "      <th>annee</th>\n",
        "      <th></th>\n",
        "    </tr>\n",
        "  </thead>\n",
        "  <tbody>\n",
        "    <tr>\n",
        "      <th>2011</th>\n",
        "      <td> 37916</td>\n",
        "    </tr>\n",
        "    <tr>\n",
        "      <th>2010</th>\n",
        "      <td> 68673</td>\n",
        "    </tr>\n",
        "  </tbody>\n",
        "</table>\n",
        "<p>2 rows \u00d7 1 columns</p>\n",
        "</div>"
       ],
       "metadata": {},
       "output_type": "pyout",
       "prompt_number": 48,
       "text": [
        "       secondes\n",
        "annee          \n",
        "2011      37916\n",
        "2010      68673\n",
        "\n",
        "[2 rows x 1 columns]"
       ]
      }
     ],
     "prompt_number": 48
    },
    {
     "cell_type": "code",
     "collapsed": false,
     "input": [
      "nb = gr.mean()\n",
      "nb.sort(ascending=False).head(n=3)"
     ],
     "language": "python",
     "metadata": {},
     "outputs": [
      {
       "html": [
        "<div style=\"max-height:1000px;max-width:1500px;overflow:auto;\">\n",
        "<table border=\"1\" class=\"dataframe\">\n",
        "  <thead>\n",
        "    <tr style=\"text-align: right;\">\n",
        "      <th></th>\n",
        "      <th>secondes</th>\n",
        "    </tr>\n",
        "    <tr>\n",
        "      <th>annee</th>\n",
        "      <th></th>\n",
        "    </tr>\n",
        "  </thead>\n",
        "  <tbody>\n",
        "    <tr>\n",
        "      <th>2011</th>\n",
        "      <td> 7583.200000</td>\n",
        "    </tr>\n",
        "    <tr>\n",
        "      <th>2010</th>\n",
        "      <td> 7630.333333</td>\n",
        "    </tr>\n",
        "    <tr>\n",
        "      <th>2009</th>\n",
        "      <td> 7652.555556</td>\n",
        "    </tr>\n",
        "  </tbody>\n",
        "</table>\n",
        "<p>3 rows \u00d7 1 columns</p>\n",
        "</div>"
       ],
       "metadata": {},
       "output_type": "pyout",
       "prompt_number": 49,
       "text": [
        "          secondes\n",
        "annee             \n",
        "2011   7583.200000\n",
        "2010   7630.333333\n",
        "2009   7652.555556\n",
        "\n",
        "[3 rows x 1 columns]"
       ]
      }
     ],
     "prompt_number": 49
    },
    {
     "cell_type": "markdown",
     "metadata": {},
     "source": [
      "Si les nom des colonnes utilis\u00e9es lors de l'op\u00e9ration ne sont pas mentionn\u00e9s, implicitement, c'est l'index qui sera choisi. On peut aussi aggr\u00e9ger les informations avec une fonction personnalis\u00e9e."
     ]
    },
    {
     "cell_type": "code",
     "collapsed": false,
     "input": [
      "def max_entier(x):\n",
      "    return int(max(x))\n",
      "nb = df[[\"annee\",\"secondes\"]].groupby(\"annee\").agg(max_entier).reset_index()\n",
      "nb.tail(n=3)"
     ],
     "language": "python",
     "metadata": {},
     "outputs": [
      {
       "html": [
        "<div style=\"max-height:1000px;max-width:1500px;overflow:auto;\">\n",
        "<table border=\"1\" class=\"dataframe\">\n",
        "  <thead>\n",
        "    <tr style=\"text-align: right;\">\n",
        "      <th></th>\n",
        "      <th>annee</th>\n",
        "      <th>secondes</th>\n",
        "    </tr>\n",
        "  </thead>\n",
        "  <tbody>\n",
        "    <tr>\n",
        "      <th>62</th>\n",
        "      <td> 2009</td>\n",
        "      <td> 8134</td>\n",
        "    </tr>\n",
        "    <tr>\n",
        "      <th>63</th>\n",
        "      <td> 2010</td>\n",
        "      <td> 7968</td>\n",
        "    </tr>\n",
        "    <tr>\n",
        "      <th>64</th>\n",
        "      <td> 2011</td>\n",
        "      <td> 8047</td>\n",
        "    </tr>\n",
        "  </tbody>\n",
        "</table>\n",
        "<p>3 rows \u00d7 2 columns</p>\n",
        "</div>"
       ],
       "metadata": {},
       "output_type": "pyout",
       "prompt_number": 50,
       "text": [
        "    annee  secondes\n",
        "62   2009      8134\n",
        "63   2010      7968\n",
        "64   2011      8047\n",
        "\n",
        "[3 rows x 2 columns]"
       ]
      }
     ],
     "prompt_number": 50
    },
    {
     "cell_type": "markdown",
     "metadata": {},
     "source": [
      "Ou encore consid\u00e9rer des aggr\u00e9gations diff\u00e9rentes pour chaque colonne :"
     ]
    },
    {
     "cell_type": "code",
     "collapsed": false,
     "input": [
      "nb = df[[\"annee\",\"ville\",\"secondes\"]].groupby(\"annee\").agg({ \"ville\":len, \"secondes\":max_entier})\n",
      "nb.tail(n=3)"
     ],
     "language": "python",
     "metadata": {},
     "outputs": [
      {
       "html": [
        "<div style=\"max-height:1000px;max-width:1500px;overflow:auto;\">\n",
        "<table border=\"1\" class=\"dataframe\">\n",
        "  <thead>\n",
        "    <tr style=\"text-align: right;\">\n",
        "      <th></th>\n",
        "      <th>ville</th>\n",
        "      <th>secondes</th>\n",
        "    </tr>\n",
        "    <tr>\n",
        "      <th>annee</th>\n",
        "      <th></th>\n",
        "      <th></th>\n",
        "    </tr>\n",
        "  </thead>\n",
        "  <tbody>\n",
        "    <tr>\n",
        "      <th>2009</th>\n",
        "      <td> 9</td>\n",
        "      <td> 8134</td>\n",
        "    </tr>\n",
        "    <tr>\n",
        "      <th>2010</th>\n",
        "      <td> 9</td>\n",
        "      <td> 7968</td>\n",
        "    </tr>\n",
        "    <tr>\n",
        "      <th>2011</th>\n",
        "      <td> 5</td>\n",
        "      <td> 8047</td>\n",
        "    </tr>\n",
        "  </tbody>\n",
        "</table>\n",
        "<p>3 rows \u00d7 2 columns</p>\n",
        "</div>"
       ],
       "metadata": {},
       "output_type": "pyout",
       "prompt_number": 51,
       "text": [
        "       ville  secondes\n",
        "annee                 \n",
        "2009       9      8134\n",
        "2010       9      7968\n",
        "2011       5      8047\n",
        "\n",
        "[3 rows x 2 columns]"
       ]
      }
     ],
     "prompt_number": 51
    },
    {
     "cell_type": "markdown",
     "metadata": {},
     "source": [
      "<h4 id=\"join\">join (_merge_ ou fusion)</h4>\n",
      "\n",
      "Fusionner deux tables consiste \u00e0 apparier les lignes de la premi\u00e8re table avec celle de la seconde si certaines colonnes de ces lignes partagent les m\u00eames valeurs. On distingue quatre cas :\n",
      "\n",
      "* ``INNER JOIN`` - **inner** : on garde tous les appariements r\u00e9ussis \n",
      "* ``LEFT OUTER JOIN`` - **left** : on garde tous les appariements r\u00e9ussis et les lignes non appari\u00e9es de la table de gauche\n",
      "* ``RIGHT OUTER JOIN`` - **right** : on garde tous les appariements r\u00e9ussis et les lignes non appari\u00e9es de la table de droite\n",
      "* ``FULL OUTER JOIN`` - **outer** : on garde tous les appariements r\u00e9ussis et les lignes non appari\u00e9es des deux tables\n",
      "\n",
      "Exemples et documentation :\n",
      "* [merging, joining](http://pandas.pydata.org/pandas-docs/stable/merging.html#database-style-dataframe-joining-merging)\n",
      "* [join](http://pandas.pydata.org/pandas-docs/stable/pandas.DataFrame.join.html)\n",
      "* [merge](http://pandas.pydata.org/pandas-docs/stable/pandas.merge.html) ou [DataFrame.merge](http://pandas.pydata.org/pandas-docs/stable/generated/pandas.DataFrame.merge.html)\n",
      "* [jointures SQL](http://sql.sh/cours/jointures) - illustrations avec graphiques en patates\n",
      "\n",
      "Si les noms des colonnes utilis\u00e9es lors de la fusion ne sont pas mentionn\u00e9s, implicitement, c'est l'index qui sera choisi. Pour les grandes tables (> 100.000 lignes), il est fortement recommand\u00e9s d'ajouter un index s'il n'existe pas avant de fusionner. **A quoi correspondent les quatre cas suivants (LEFT ou FULL ou RIGHT ou INNER) ?**"
     ]
    },
    {
     "cell_type": "code",
     "collapsed": false,
     "input": [
      "from IPython.display import Image\n",
      "Image(\"patates.png\")"
     ],
     "language": "python",
     "metadata": {},
     "outputs": [
      {
       "metadata": {},
       "output_type": "pyout",
       "png": "[encoded data removed]",
       "prompt_number": 52,
       "text": [
        "<IPython.core.display.Image at 0x3062f390>"
       ]
      }
     ],
     "prompt_number": 52
    },
    {
     "cell_type": "markdown",
     "metadata": {},
     "source": [
      "On souhaite ajouter une colonne pays aux marathons se d\u00e9roulant dans les villes suivanes."
     ]
    },
    {
     "cell_type": "code",
     "collapsed": false,
     "input": [
      "values = [  {\"V\":'BOSTON', \"C\":\"USA\"}, \n",
      "            {\"V\":'NEW YORK', \"C\":\"USA\"}, \n",
      "            {\"V\":'BERLIN', \"C\":\"Germany\"}, \n",
      "            {\"V\":'LONDON', \"C\":\"UK\"}, \n",
      "            {\"V\":'PARIS', \"C\":\"France\"}]\n",
      "pays = pandas.DataFrame(values)\n",
      "pays"
     ],
     "language": "python",
     "metadata": {},
     "outputs": [
      {
       "html": [
        "<div style=\"max-height:1000px;max-width:1500px;overflow:auto;\">\n",
        "<table border=\"1\" class=\"dataframe\">\n",
        "  <thead>\n",
        "    <tr style=\"text-align: right;\">\n",
        "      <th></th>\n",
        "      <th>C</th>\n",
        "      <th>V</th>\n",
        "    </tr>\n",
        "  </thead>\n",
        "  <tbody>\n",
        "    <tr>\n",
        "      <th>0</th>\n",
        "      <td>     USA</td>\n",
        "      <td>   BOSTON</td>\n",
        "    </tr>\n",
        "    <tr>\n",
        "      <th>1</th>\n",
        "      <td>     USA</td>\n",
        "      <td> NEW YORK</td>\n",
        "    </tr>\n",
        "    <tr>\n",
        "      <th>2</th>\n",
        "      <td> Germany</td>\n",
        "      <td>   BERLIN</td>\n",
        "    </tr>\n",
        "    <tr>\n",
        "      <th>3</th>\n",
        "      <td>      UK</td>\n",
        "      <td>   LONDON</td>\n",
        "    </tr>\n",
        "    <tr>\n",
        "      <th>4</th>\n",
        "      <td>  France</td>\n",
        "      <td>    PARIS</td>\n",
        "    </tr>\n",
        "  </tbody>\n",
        "</table>\n",
        "<p>5 rows \u00d7 2 columns</p>\n",
        "</div>"
       ],
       "metadata": {},
       "output_type": "pyout",
       "prompt_number": 53,
       "text": [
        "         C         V\n",
        "0      USA    BOSTON\n",
        "1      USA  NEW YORK\n",
        "2  Germany    BERLIN\n",
        "3       UK    LONDON\n",
        "4   France     PARIS\n",
        "\n",
        "[5 rows x 2 columns]"
       ]
      }
     ],
     "prompt_number": 53
    },
    {
     "cell_type": "code",
     "collapsed": false,
     "input": [
      "dfavecpays = df.merge(pays, left_on=\"ville\", right_on=\"V\")\n",
      "pandas.concat([dfavecpays.head(n=2),dfavecpays.tail(n=2)])"
     ],
     "language": "python",
     "metadata": {},
     "outputs": [
      {
       "html": [
        "<div style=\"max-height:1000px;max-width:1500px;overflow:auto;\">\n",
        "<table border=\"1\" class=\"dataframe\">\n",
        "  <thead>\n",
        "    <tr style=\"text-align: right;\">\n",
        "      <th></th>\n",
        "      <th>ville</th>\n",
        "      <th>annee</th>\n",
        "      <th>temps</th>\n",
        "      <th>secondes</th>\n",
        "      <th>C</th>\n",
        "      <th>V</th>\n",
        "    </tr>\n",
        "  </thead>\n",
        "  <tbody>\n",
        "    <tr>\n",
        "      <th>0  </th>\n",
        "      <td>  PARIS</td>\n",
        "      <td> 2011</td>\n",
        "      <td> 02:06:29</td>\n",
        "      <td> 7589</td>\n",
        "      <td> France</td>\n",
        "      <td>  PARIS</td>\n",
        "    </tr>\n",
        "    <tr>\n",
        "      <th>1  </th>\n",
        "      <td>  PARIS</td>\n",
        "      <td> 2010</td>\n",
        "      <td> 02:06:41</td>\n",
        "      <td> 7601</td>\n",
        "      <td> France</td>\n",
        "      <td>  PARIS</td>\n",
        "    </tr>\n",
        "    <tr>\n",
        "      <th>192</th>\n",
        "      <td> BOSTON</td>\n",
        "      <td> 2010</td>\n",
        "      <td> 02:05:52</td>\n",
        "      <td> 7552</td>\n",
        "      <td>    USA</td>\n",
        "      <td> BOSTON</td>\n",
        "    </tr>\n",
        "    <tr>\n",
        "      <th>193</th>\n",
        "      <td> BOSTON</td>\n",
        "      <td> 2011</td>\n",
        "      <td> 02:03:02</td>\n",
        "      <td> 7382</td>\n",
        "      <td>    USA</td>\n",
        "      <td> BOSTON</td>\n",
        "    </tr>\n",
        "  </tbody>\n",
        "</table>\n",
        "<p>4 rows \u00d7 6 columns</p>\n",
        "</div>"
       ],
       "metadata": {},
       "output_type": "pyout",
       "prompt_number": 54,
       "text": [
        "      ville  annee     temps  secondes       C       V\n",
        "0     PARIS   2011  02:06:29      7589  France   PARIS\n",
        "1     PARIS   2010  02:06:41      7601  France   PARIS\n",
        "192  BOSTON   2010  02:05:52      7552     USA  BOSTON\n",
        "193  BOSTON   2011  02:03:02      7382     USA  BOSTON\n",
        "\n",
        "[4 rows x 6 columns]"
       ]
      }
     ],
     "prompt_number": 54
    },
    {
     "cell_type": "markdown",
     "metadata": {},
     "source": [
      "**Question :** \n",
      "\n",
      "* **Que changerait l'ajout du param\u00e8tre ``how='outer'`` dans ce cas ?**\n",
      "* **On cherche \u00e0 joindre deux tables A,B qui ont chacune trois cl\u00e9s distinctes : $c_1, c_2, c_3$. Il y a respectivement dans chaque table $A_i$ et $B_i$ lignes pour la cl\u00e9 $c_i$. Combien la table finale issue de la fusion des deux tables contiendra-t-elle de lignes ?**"
     ]
    },
    {
     "cell_type": "markdown",
     "metadata": {},
     "source": [
      "<h4 id=\"pivot\">pivot (tableau crois\u00e9 dynamique)</h4>\n",
      "\n",
      "Cette op\u00e9ration consiste \u00e0 cr\u00e9er une seconde table en utilisant utiliser les valeurs d'une colonne comme nom de colonnes. \n",
      "\n",
      "| A | B | C |\n",
      "| --- | --- | --- |\n",
      "| A1 | B1 | C1 |\n",
      "| A1 | B2 | C2 |\n",
      "| A2 | B1 | C3 |\n",
      "| A2 | B2 | C4 |\n",
      "| A2 | B3 | C5 |\n",
      "\n",
      "L'op\u00e9ration ``pivot(A,B,C)`` donnera :\n",
      "\n",
      "| A | B1 | B2 | B3 |\n",
      "| --- | --- | --- | --- |\n",
      "| A1 | C1 | C2 |  |\n",
      "| A2 | C3 | C4 | C5 |\n",
      "\n",
      "* [pivot](http://pandas.pydata.org/pandas-docs/stable/generated/pandas.DataFrame.pivot.html), [pivot_table](http://pandas.pydata.org/pandas-docs/stable/generated/pandas.tools.pivot.pivot_table.html)\n",
      "* [Reshaping and Pivot Tables](http://pandas.pydata.org/pandas-docs/stable/reshaping.html)\n",
      "* [Tableau crois\u00e9 dynamique - wikip\u00e9dia](http://fr.wikipedia.org/wiki/Tableau_crois%C3%A9_dynamique)\n",
      "\n",
      "On applique cela aux marathons o\u00f9 on veut avoir les villes comme noms de colonnes et une ann\u00e9e par lignes."
     ]
    },
    {
     "cell_type": "code",
     "collapsed": false,
     "input": [
      "piv = df.pivot(\"annee\",\"ville\",\"temps\")\n",
      "pandas.concat([piv[20:23],piv[40:43],piv.tail(n=3)])"
     ],
     "language": "python",
     "metadata": {},
     "outputs": [
      {
       "html": [
        "<div style=\"max-height:1000px;max-width:1500px;overflow:auto;\">\n",
        "<table border=\"1\" class=\"dataframe\">\n",
        "  <thead>\n",
        "    <tr style=\"text-align: right;\">\n",
        "      <th>ville</th>\n",
        "      <th>AMSTERDAM</th>\n",
        "      <th>BERLIN</th>\n",
        "      <th>BOSTON</th>\n",
        "      <th>CHICAGO</th>\n",
        "      <th>FUKUOKA</th>\n",
        "      <th>LONDON</th>\n",
        "      <th>NEW YORK</th>\n",
        "      <th>PARIS</th>\n",
        "      <th>STOCKOLM</th>\n",
        "    </tr>\n",
        "    <tr>\n",
        "      <th>annee</th>\n",
        "      <th></th>\n",
        "      <th></th>\n",
        "      <th></th>\n",
        "      <th></th>\n",
        "      <th></th>\n",
        "      <th></th>\n",
        "      <th></th>\n",
        "      <th></th>\n",
        "      <th></th>\n",
        "    </tr>\n",
        "  </thead>\n",
        "  <tbody>\n",
        "    <tr>\n",
        "      <th>1967</th>\n",
        "      <td>      NaN</td>\n",
        "      <td>      NaN</td>\n",
        "      <td> 02:15:45</td>\n",
        "      <td>      NaN</td>\n",
        "      <td> 02:09:37</td>\n",
        "      <td>      NaN</td>\n",
        "      <td>      NaN</td>\n",
        "      <td>      NaN</td>\n",
        "      <td>      NaN</td>\n",
        "    </tr>\n",
        "    <tr>\n",
        "      <th>1968</th>\n",
        "      <td>      NaN</td>\n",
        "      <td>      NaN</td>\n",
        "      <td> 02:22:17</td>\n",
        "      <td>      NaN</td>\n",
        "      <td> 02:10:48</td>\n",
        "      <td>      NaN</td>\n",
        "      <td>      NaN</td>\n",
        "      <td>      NaN</td>\n",
        "      <td>      NaN</td>\n",
        "    </tr>\n",
        "    <tr>\n",
        "      <th>1969</th>\n",
        "      <td>      NaN</td>\n",
        "      <td>      NaN</td>\n",
        "      <td> 02:13:49</td>\n",
        "      <td>      NaN</td>\n",
        "      <td> 02:11:13</td>\n",
        "      <td>      NaN</td>\n",
        "      <td>      NaN</td>\n",
        "      <td>      NaN</td>\n",
        "      <td>      NaN</td>\n",
        "    </tr>\n",
        "    <tr>\n",
        "      <th>1987</th>\n",
        "      <td> 02:12:40</td>\n",
        "      <td> 02:11:11</td>\n",
        "      <td> 02:11:50</td>\n",
        "      <td>      NaN</td>\n",
        "      <td> 02:08:18</td>\n",
        "      <td> 02:09:50</td>\n",
        "      <td> 02:11:01</td>\n",
        "      <td> 02:11:09</td>\n",
        "      <td> 02:13:52</td>\n",
        "    </tr>\n",
        "    <tr>\n",
        "      <th>1988</th>\n",
        "      <td> 02:12:38</td>\n",
        "      <td> 02:11:45</td>\n",
        "      <td> 02:08:43</td>\n",
        "      <td> 02:08:57</td>\n",
        "      <td> 02:11:04</td>\n",
        "      <td> 02:10:20</td>\n",
        "      <td> 02:08:20</td>\n",
        "      <td> 02:13:53</td>\n",
        "      <td> 02:14:26</td>\n",
        "    </tr>\n",
        "    <tr>\n",
        "      <th>1989</th>\n",
        "      <td> 02:13:52</td>\n",
        "      <td> 02:10:11</td>\n",
        "      <td> 02:09:06</td>\n",
        "      <td> 02:11:25</td>\n",
        "      <td> 02:12:54</td>\n",
        "      <td> 02:09:03</td>\n",
        "      <td> 02:08:01</td>\n",
        "      <td> 02:13:03</td>\n",
        "      <td> 02:13:34</td>\n",
        "    </tr>\n",
        "    <tr>\n",
        "      <th>2009</th>\n",
        "      <td> 02:06:18</td>\n",
        "      <td> 02:06:08</td>\n",
        "      <td> 02:08:42</td>\n",
        "      <td> 02:05:41</td>\n",
        "      <td> 02:05:18</td>\n",
        "      <td> 02:05:10</td>\n",
        "      <td> 02:09:15</td>\n",
        "      <td> 02:05:47</td>\n",
        "      <td> 02:15:34</td>\n",
        "    </tr>\n",
        "    <tr>\n",
        "      <th>2010</th>\n",
        "      <td> 02:05:44</td>\n",
        "      <td> 02:05:08</td>\n",
        "      <td> 02:05:52</td>\n",
        "      <td> 02:06:23</td>\n",
        "      <td> 02:08:24</td>\n",
        "      <td> 02:05:19</td>\n",
        "      <td> 02:08:14</td>\n",
        "      <td> 02:06:41</td>\n",
        "      <td> 02:12:48</td>\n",
        "    </tr>\n",
        "    <tr>\n",
        "      <th>2011</th>\n",
        "      <td>      NaN</td>\n",
        "      <td> 02:03:38</td>\n",
        "      <td> 02:03:02</td>\n",
        "      <td>      NaN</td>\n",
        "      <td>      NaN</td>\n",
        "      <td> 02:04:40</td>\n",
        "      <td>      NaN</td>\n",
        "      <td> 02:06:29</td>\n",
        "      <td> 02:14:07</td>\n",
        "    </tr>\n",
        "  </tbody>\n",
        "</table>\n",
        "<p>9 rows \u00d7 9 columns</p>\n",
        "</div>"
       ],
       "metadata": {},
       "output_type": "pyout",
       "prompt_number": 55,
       "text": [
        "ville AMSTERDAM    BERLIN    BOSTON   CHICAGO   FUKUOKA    LONDON  NEW YORK  \\\n",
        "annee                                                                         \n",
        "1967        NaN       NaN  02:15:45       NaN  02:09:37       NaN       NaN   \n",
        "1968        NaN       NaN  02:22:17       NaN  02:10:48       NaN       NaN   \n",
        "1969        NaN       NaN  02:13:49       NaN  02:11:13       NaN       NaN   \n",
        "1987   02:12:40  02:11:11  02:11:50       NaN  02:08:18  02:09:50  02:11:01   \n",
        "1988   02:12:38  02:11:45  02:08:43  02:08:57  02:11:04  02:10:20  02:08:20   \n",
        "1989   02:13:52  02:10:11  02:09:06  02:11:25  02:12:54  02:09:03  02:08:01   \n",
        "2009   02:06:18  02:06:08  02:08:42  02:05:41  02:05:18  02:05:10  02:09:15   \n",
        "2010   02:05:44  02:05:08  02:05:52  02:06:23  02:08:24  02:05:19  02:08:14   \n",
        "2011        NaN  02:03:38  02:03:02       NaN       NaN  02:04:40       NaN   \n",
        "\n",
        "ville     PARIS  STOCKOLM  \n",
        "annee                      \n",
        "1967        NaN       NaN  \n",
        "1968        NaN       NaN  \n",
        "1969        NaN       NaN  \n",
        "1987   02:11:09  02:13:52  \n",
        "1988   02:13:53  02:14:26  \n",
        "1989   02:13:03  02:13:34  \n",
        "2009   02:05:47  02:15:34  \n",
        "2010   02:06:41  02:12:48  \n",
        "2011   02:06:29  02:14:07  \n",
        "\n",
        "[9 rows x 9 columns]"
       ]
      }
     ],
     "prompt_number": 55
    },
    {
     "cell_type": "markdown",
     "metadata": {},
     "source": [
      "Il existe une m\u00e9thode qui effectue l'op\u00e9ration inverse : [Dataframe.stack](http://pandas.pydata.org/pandas-docs/dev/generated/pandas.DataFrame.stack.html)."
     ]
    },
    {
     "cell_type": "markdown",
     "metadata": {},
     "source": [
      "<h3 id=\"lambda\">Lambda fonctions</h3>\n",
      "\n",
      "Les [lambda expressions](https://docs.python.org/3.4/tutorial/controlflow.html#lambda-expressions) permettent une syntaxe plus l\u00e9g\u00e8re (syntactic sugar) pour d\u00e9clarer une fonction simple.\n",
      "Cela est tr\u00e8s utile pour passer une fonction en argument notamment. \n",
      "Par exemple pour trier sur le 2\u00e8me element d'un tuple."
     ]
    },
    {
     "cell_type": "code",
     "collapsed": false,
     "input": [
      "pairs = [(1, 'one'), (2, 'two'), (3, 'three'), (4, 'four')]\n",
      "pairs.sort(key=lambda pair: pair[1])\n",
      "print(pairs)"
     ],
     "language": "python",
     "metadata": {},
     "outputs": [
      {
       "output_type": "stream",
       "stream": "stdout",
       "text": [
        "[(4, 'four'), (1, 'one'), (3, 'three'), (2, 'two')]\n"
       ]
      }
     ],
     "prompt_number": 56
    },
    {
     "cell_type": "markdown",
     "metadata": {},
     "source": [
      "On peut r\u00e9\u00e9crire le groupby aggr\u00e9g\u00e9 par ``max_entier`` en utilisant une fonction lambda"
     ]
    },
    {
     "cell_type": "code",
     "collapsed": false,
     "input": [
      "def max_entier(x):\n",
      "    return int(max(x))\n",
      "nb = df[[\"annee\",\"secondes\"]].groupby(\"annee\").agg(max_entier).reset_index()\n",
      "nb.tail(n=3)\n",
      "#same as:\n",
      "nb = df[[\"annee\",\"secondes\"]].groupby(\"annee\").agg(lambda x: int(max(x))).reset_index()\n",
      "nb.tail(n=3)"
     ],
     "language": "python",
     "metadata": {},
     "outputs": [
      {
       "html": [
        "<div style=\"max-height:1000px;max-width:1500px;overflow:auto;\">\n",
        "<table border=\"1\" class=\"dataframe\">\n",
        "  <thead>\n",
        "    <tr style=\"text-align: right;\">\n",
        "      <th></th>\n",
        "      <th>annee</th>\n",
        "      <th>secondes</th>\n",
        "    </tr>\n",
        "  </thead>\n",
        "  <tbody>\n",
        "    <tr>\n",
        "      <th>62</th>\n",
        "      <td> 2009</td>\n",
        "      <td> 8134</td>\n",
        "    </tr>\n",
        "    <tr>\n",
        "      <th>63</th>\n",
        "      <td> 2010</td>\n",
        "      <td> 7968</td>\n",
        "    </tr>\n",
        "    <tr>\n",
        "      <th>64</th>\n",
        "      <td> 2011</td>\n",
        "      <td> 8047</td>\n",
        "    </tr>\n",
        "  </tbody>\n",
        "</table>\n",
        "<p>3 rows \u00d7 2 columns</p>\n",
        "</div>"
       ],
       "metadata": {},
       "output_type": "pyout",
       "prompt_number": 57,
       "text": [
        "    annee  secondes\n",
        "62   2009      8134\n",
        "63   2010      7968\n",
        "64   2011      8047\n",
        "\n",
        "[3 rows x 2 columns]"
       ]
      }
     ],
     "prompt_number": 57
    },
    {
     "cell_type": "markdown",
     "metadata": {},
     "source": [
      "<h3 id=\"exo3\">Exercice 2 : lambda fonction</h3>\n",
      "\n",
      "Ecrire une lambda fonction qui prend deux param\u00e8tres et qui est \u00e9quivalente \u00e0 la fonction suivante :"
     ]
    },
    {
     "cell_type": "code",
     "collapsed": false,
     "input": [
      "def delta(x,y):\n",
      "    return max(x,y)- min(x,y)"
     ],
     "language": "python",
     "metadata": {},
     "outputs": [],
     "prompt_number": 58
    },
    {
     "cell_type": "code",
     "collapsed": false,
     "input": [],
     "language": "python",
     "metadata": {},
     "outputs": [],
     "prompt_number": 58
    },
    {
     "cell_type": "markdown",
     "metadata": {},
     "source": [
      "On utilise beaucoup les lambda fonctions lorsqu'une fonction prend une fonction en argument :"
     ]
    },
    {
     "cell_type": "code",
     "collapsed": false,
     "input": [
      "def riemann (a,b,f,n):\n",
      "    return sum (  f(a + (b-a)*i/n) for i in range(0,n) ) / n\n",
      "riemann(0,1, lambda x : x**2, 1000)"
     ],
     "language": "python",
     "metadata": {},
     "outputs": [
      {
       "metadata": {},
       "output_type": "pyout",
       "prompt_number": 61,
       "text": [
        "0.3328334999999999"
       ]
      }
     ],
     "prompt_number": 61
    },
    {
     "cell_type": "markdown",
     "metadata": {},
     "source": [
      "<h3 id=\"exo2\">Exercice 3 : moyennes par groupes</h3>\n",
      "    \n",
      "Toujours avec le m\u00eame jeu de donn\u00e9es ([marathon.txt](http://www.xavierdupre.fr/enseignement/complements/marathon.txt)), on veut ajouter une ligne \u00e0 la fin du tableau crois\u00e9 dynamique contenant la moyenne en secondes des temps des marathons pour chaque ville."
     ]
    },
    {
     "cell_type": "code",
     "collapsed": false,
     "input": [],
     "language": "python",
     "metadata": {},
     "outputs": [],
     "prompt_number": 61
    },
    {
     "cell_type": "markdown",
     "metadata": {},
     "source": [
      "<h3 id=\"ix2\">Avec ou sans index</h3>\n",
      "\n",
      "Une fa\u00e7on na\u00efve de faire une jointure entre deux tables de taille $m$ et $n$ et de regarder toutes les $mn$ combinaisons possibles. La taille de la table r\u00e9sultante d\u00e9pend du type de jointure (``inner``, ``outer``) et de l'unicit\u00e9 des cl\u00e9s utilis\u00e9es pour la jointure. Si les cl\u00e9s sont uniques, la table finale aura au plus $m+n$ lignes (une par cl\u00e9).\n",
      "\n",
      "Dans la plupart des cas, $O(mn)$ op\u00e9rations est beaucoup trop long. On peut faire plus rapide en triant chacune des tables d'abord et en les fusionnant : $O(n \\ln n) + O(m \\ln m) + O(n+m)$. Si $m=n$, il est \u00e9vident que cette fa\u00e7on de faire est plus rapide. C'est une des choses que fait [pandas (pr\u00e9sentation)](http://fr.slideshare.net/wesm/a-look-at-pandas-design-and-development) (voir aussi [klib](https://github.com/attractivechaos/klib)). \n",
      "\n",
      "On peut tri\u00e9e une table selon une cl\u00e9 ou encore utiliser une [table de hachage](http://fr.wikipedia.org/wiki/Table_de_hachage)), il est alors tr\u00e8s rapide de retrouver la ligne ou les lignes qui partagent cette cl\u00e9. On dit que la table est **index\u00e9e** selon cette cl\u00e9. Indexer selon une ou plusieurs colonnes une table acc\u00e9l\u00e8re toute op\u00e9ration s'appuyant sur ces colonnes comme la recherche d'un \u00e9l\u00e9ment.\n",
      "\n",
      "On veut comparer le temps n\u00e9cessaire pour une recherche. Pour cela on utilise la ``%magic`` function ``%timeit`` (ou ``%%timeit`` si on veut l'[appliquer \u00e0 la cellule](http://nbviewer.ipython.org/github/ipython/ipython/blob/1.x/examples/notebooks/Cell%20Magics.ipynb)) d'IPython."
     ]
    },
    {
     "cell_type": "code",
     "collapsed": false,
     "input": [
      "import pandas, random\n",
      "big_df = pandas.DataFrame(  {\"cle1\": random.randint(1,100), \n",
      "                             \"cle2\": random.randint(1,100), \n",
      "                             \"autre\":random.randint(1,10) } for  i in range(0,100000) )\n",
      "big_df.shape"
     ],
     "language": "python",
     "metadata": {},
     "outputs": [
      {
       "metadata": {},
       "output_type": "pyout",
       "prompt_number": 62,
       "text": [
        "(100000, 3)"
       ]
      }
     ],
     "prompt_number": 62
    },
    {
     "cell_type": "code",
     "collapsed": false,
     "input": [
      "%timeit big_df[ (big_df.cle1 == 1) & (big_df.cle2 == 1)]"
     ],
     "language": "python",
     "metadata": {},
     "outputs": [
      {
       "output_type": "stream",
       "stream": "stdout",
       "text": [
        "100 loops, best of 3: 4.34 ms per loop\n"
       ]
      }
     ],
     "prompt_number": 63
    },
    {
     "cell_type": "markdown",
     "metadata": {},
     "source": [
      "Et la version index\u00e9e :"
     ]
    },
    {
     "cell_type": "code",
     "collapsed": false,
     "input": [
      "big_dfi = big_df.set_index([\"cle1\", \"cle2\"])\n",
      "%timeit big_dfi.iloc[(1,1),:]"
     ],
     "language": "python",
     "metadata": {},
     "outputs": [
      {
       "output_type": "stream",
       "stream": "stdout",
       "text": [
        "1000 loops, best of 3: 728 \u00b5s per loop\n"
       ]
      }
     ],
     "prompt_number": 64
    },
    {
     "cell_type": "markdown",
     "metadata": {},
     "source": [
      "**Plus la table est grande, plus le gain est important.**"
     ]
    },
    {
     "cell_type": "markdown",
     "metadata": {},
     "source": [
      "<h2 id=\"date\">Dates</h2>\n",
      "\n",
      "Les dates sont souvent compliqu\u00e9es \u00e0 g\u00e9rer car on n'utilise pas le m\u00eames format dans tous les pays. Pour faire simple, je recommande deux options :\n",
      "\n",
      "* Soit convertir les dates/heures au format cha\u00eenes de caract\u00e8res ``AAAA-MM-JJ hh:mm:ss:ms`` qui permet de trier les dates par ordre croissant.\n",
      "* Soit convertir les dates/heures au format [datetime](https://docs.python.org/3/library/datetime.html) (date) ou [timedelta](https://docs.python.org/3/library/datetime.html#timedelta-objects) (dur\u00e9e) (voir [Quelques notions sur les dates](http://www.xavierdupre.fr/blog/notebooks/example%20pyensae.html#date), [format de date/heure](https://docs.python.org/3/library/datetime.html#strftime-strptime-behavior)).\n",
      "\n",
      "Par exemple, voici le code qui a permis de g\u00e9n\u00e9rer la colonne seconde de la table marathon :"
     ]
    },
    {
     "cell_type": "code",
     "collapsed": false,
     "input": [
      "from datetime import datetime, time\n",
      "import urllib.request\n",
      "url = urllib.request.urlopen(\"http://www.xavierdupre.fr/enseignement/complements/marathon.txt\")\n",
      "df = pandas.read_csv(url, sep=\"\\t\", names=[\"ville\", \"annee\", \"temps\",\"secondes\"])\n",
      "df = df [[\"ville\", \"annee\", \"temps\"]]  # on enl\u00e8ve la colonne secondes pour la recr\u00e9er\n",
      "df[\"secondes\"] = df.apply( lambda r : (datetime.strptime(r.temps,\"%H:%M:%S\") - \\\n",
      "                                         datetime(1900,1,1)).total_seconds(), axis=1)\n",
      "df.head()"
     ],
     "language": "python",
     "metadata": {},
     "outputs": [
      {
       "html": [
        "<div style=\"max-height:1000px;max-width:1500px;overflow:auto;\">\n",
        "<table border=\"1\" class=\"dataframe\">\n",
        "  <thead>\n",
        "    <tr style=\"text-align: right;\">\n",
        "      <th></th>\n",
        "      <th>ville</th>\n",
        "      <th>annee</th>\n",
        "      <th>temps</th>\n",
        "      <th>secondes</th>\n",
        "    </tr>\n",
        "  </thead>\n",
        "  <tbody>\n",
        "    <tr>\n",
        "      <th>0</th>\n",
        "      <td> PARIS</td>\n",
        "      <td> 2011</td>\n",
        "      <td> 02:06:29</td>\n",
        "      <td> 7589</td>\n",
        "    </tr>\n",
        "    <tr>\n",
        "      <th>1</th>\n",
        "      <td> PARIS</td>\n",
        "      <td> 2010</td>\n",
        "      <td> 02:06:41</td>\n",
        "      <td> 7601</td>\n",
        "    </tr>\n",
        "    <tr>\n",
        "      <th>2</th>\n",
        "      <td> PARIS</td>\n",
        "      <td> 2009</td>\n",
        "      <td> 02:05:47</td>\n",
        "      <td> 7547</td>\n",
        "    </tr>\n",
        "    <tr>\n",
        "      <th>3</th>\n",
        "      <td> PARIS</td>\n",
        "      <td> 2008</td>\n",
        "      <td> 02:06:40</td>\n",
        "      <td> 7600</td>\n",
        "    </tr>\n",
        "    <tr>\n",
        "      <th>4</th>\n",
        "      <td> PARIS</td>\n",
        "      <td> 2007</td>\n",
        "      <td> 02:07:17</td>\n",
        "      <td> 7637</td>\n",
        "    </tr>\n",
        "  </tbody>\n",
        "</table>\n",
        "<p>5 rows \u00d7 4 columns</p>\n",
        "</div>"
       ],
       "metadata": {},
       "output_type": "pyout",
       "prompt_number": 65,
       "text": [
        "   ville  annee     temps  secondes\n",
        "0  PARIS   2011  02:06:29      7589\n",
        "1  PARIS   2010  02:06:41      7601\n",
        "2  PARIS   2009  02:05:47      7547\n",
        "3  PARIS   2008  02:06:40      7600\n",
        "4  PARIS   2007  02:07:17      7637\n",
        "\n",
        "[5 rows x 4 columns]"
       ]
      }
     ],
     "prompt_number": 65
    },
    {
     "cell_type": "markdown",
     "metadata": {},
     "source": [
      "<h2 id=\"plot\">Plot(s)</h2>"
     ]
    },
    {
     "cell_type": "markdown",
     "metadata": {},
     "source": [
      "<h3 id=\"recup\">R\u00e9cup\u00e9ration des donn\u00e9es</h3>\n",
      "\n",
      "On r\u00e9cup\u00e8re les donn\u00e9es disponibles sur le site de l'INSEE : [Naissance, d\u00e9c\u00e8s, mariages 2012](http://www.insee.fr/fr/themes/detail.asp?ref_id=fd-etatcivil2012&page=fichiers_detail/etatcivil2012/doc/documentation.htm). Il s'agit de r\u00e9cup\u00e9rer la liste des mariages de l'ann\u00e9e 2012. On souhaite repr\u00e9senter le graphe du nombre de mariages en fonction de l'\u00e9cart entre les mari\u00e9s."
     ]
    },
    {
     "cell_type": "code",
     "collapsed": false,
     "input": [
      "import urllib.request\n",
      "import zipfile\n",
      "\n",
      "def download_and_save(name, root_url):\n",
      "    response = urllib.request.urlopen(root_url+name)\n",
      "    with open(name, \"wb\") as outfile:\n",
      "        outfile.write(response.read())\n",
      "\n",
      "def unzip(name):\n",
      "    with zipfile.ZipFile(name, \"r\") as z:\n",
      "        z.extractall(\".\")\n",
      "\n",
      "filenames = [\"etatcivil2012_mar2012_dbase.zip\", \n",
      "             \"etatcivil2012_nais2012_dbase.zip\",\n",
      "             \"etatcivil2012_dec2012_dbase.zip\", ]\n",
      "root_url = 'http://telechargement.insee.fr/fichiersdetail/etatcivil2012/dbase/'\n",
      "\n",
      "for filename in filenames:\n",
      "    download_and_save(filename, root_url)\n",
      "    unzip(filename)\n",
      "    print(\"Download of {}: DONE!\".format(filename))"
     ],
     "language": "python",
     "metadata": {},
     "outputs": [
      {
       "output_type": "stream",
       "stream": "stdout",
       "text": [
        "Download of etatcivil2012_mar2012_dbase.zip: DONE!\n",
        "Download of etatcivil2012_nais2012_dbase.zip: DONE!"
       ]
      },
      {
       "output_type": "stream",
       "stream": "stdout",
       "text": [
        "\n",
        "Download of etatcivil2012_dec2012_dbase.zip: DONE!"
       ]
      },
      {
       "output_type": "stream",
       "stream": "stdout",
       "text": [
        "\n"
       ]
      }
     ],
     "prompt_number": 66
    },
    {
     "cell_type": "code",
     "collapsed": false,
     "input": [
      "from dbfread import DBF\n",
      "\n",
      "def dBase2df(dbase_filename):\n",
      "    table = DBF(dbase_filename, load=True, encoding=\"cp437\")\n",
      "    return pandas.DataFrame(table.records)\n",
      "\n",
      "df = dBase2df('mar2012.dbf')\n",
      "print(df.shape, df.columns)\n",
      "df.head()"
     ],
     "language": "python",
     "metadata": {},
     "outputs": [
      {
       "output_type": "stream",
       "stream": "stdout",
       "text": [
        "(246123, 16) Index(['AMAR', 'ANAISF', 'ANAISH', 'DEPDOM', 'DEPMAR', 'DEPNAISF', 'DEPNAISH', 'ETAMATF', 'ETAMATH', 'INDNATF', 'INDNATH', 'JSEMAINE', 'MMAR', 'NBENFCOM', 'TUCOM', 'TUDOM'], dtype='object')\n"
       ]
      },
      {
       "html": [
        "<div style=\"max-height:1000px;max-width:1500px;overflow:auto;\">\n",
        "<table border=\"1\" class=\"dataframe\">\n",
        "  <thead>\n",
        "    <tr style=\"text-align: right;\">\n",
        "      <th></th>\n",
        "      <th>AMAR</th>\n",
        "      <th>ANAISF</th>\n",
        "      <th>ANAISH</th>\n",
        "      <th>DEPDOM</th>\n",
        "      <th>DEPMAR</th>\n",
        "      <th>DEPNAISF</th>\n",
        "      <th>DEPNAISH</th>\n",
        "      <th>ETAMATF</th>\n",
        "      <th>ETAMATH</th>\n",
        "      <th>INDNATF</th>\n",
        "      <th>INDNATH</th>\n",
        "      <th>JSEMAINE</th>\n",
        "      <th>MMAR</th>\n",
        "      <th>NBENFCOM</th>\n",
        "      <th>TUCOM</th>\n",
        "      <th>TUDOM</th>\n",
        "    </tr>\n",
        "  </thead>\n",
        "  <tbody>\n",
        "    <tr>\n",
        "      <th>0</th>\n",
        "      <td> 2012</td>\n",
        "      <td> 1984</td>\n",
        "      <td> 1982</td>\n",
        "      <td> 99</td>\n",
        "      <td> 29</td>\n",
        "      <td> 99</td>\n",
        "      <td> 75</td>\n",
        "      <td> 1</td>\n",
        "      <td> 1</td>\n",
        "      <td> 2</td>\n",
        "      <td> 1</td>\n",
        "      <td> 1</td>\n",
        "      <td> 01</td>\n",
        "      <td> N</td>\n",
        "      <td> </td>\n",
        "      <td> 9</td>\n",
        "    </tr>\n",
        "    <tr>\n",
        "      <th>1</th>\n",
        "      <td> 2012</td>\n",
        "      <td> 1969</td>\n",
        "      <td> 1956</td>\n",
        "      <td> 99</td>\n",
        "      <td> 75</td>\n",
        "      <td> 99</td>\n",
        "      <td> 69</td>\n",
        "      <td> 4</td>\n",
        "      <td> 4</td>\n",
        "      <td> 2</td>\n",
        "      <td> 2</td>\n",
        "      <td> 3</td>\n",
        "      <td> 01</td>\n",
        "      <td> N</td>\n",
        "      <td> </td>\n",
        "      <td> 9</td>\n",
        "    </tr>\n",
        "    <tr>\n",
        "      <th>2</th>\n",
        "      <td> 2012</td>\n",
        "      <td> 1992</td>\n",
        "      <td> 1982</td>\n",
        "      <td> 99</td>\n",
        "      <td> 34</td>\n",
        "      <td> 99</td>\n",
        "      <td> 99</td>\n",
        "      <td> 1</td>\n",
        "      <td> 1</td>\n",
        "      <td> 1</td>\n",
        "      <td> 2</td>\n",
        "      <td> 5</td>\n",
        "      <td> 01</td>\n",
        "      <td> N</td>\n",
        "      <td> </td>\n",
        "      <td> 9</td>\n",
        "    </tr>\n",
        "    <tr>\n",
        "      <th>3</th>\n",
        "      <td> 2012</td>\n",
        "      <td> 1987</td>\n",
        "      <td> 1985</td>\n",
        "      <td> 99</td>\n",
        "      <td> 13</td>\n",
        "      <td> 84</td>\n",
        "      <td> 99</td>\n",
        "      <td> 1</td>\n",
        "      <td> 1</td>\n",
        "      <td> 1</td>\n",
        "      <td> 2</td>\n",
        "      <td> 4</td>\n",
        "      <td> 01</td>\n",
        "      <td> N</td>\n",
        "      <td> </td>\n",
        "      <td> 9</td>\n",
        "    </tr>\n",
        "    <tr>\n",
        "      <th>4</th>\n",
        "      <td> 2012</td>\n",
        "      <td> 1963</td>\n",
        "      <td> 1968</td>\n",
        "      <td> 99</td>\n",
        "      <td> 26</td>\n",
        "      <td> 99</td>\n",
        "      <td> 99</td>\n",
        "      <td> 1</td>\n",
        "      <td> 1</td>\n",
        "      <td> 2</td>\n",
        "      <td> 2</td>\n",
        "      <td> 6</td>\n",
        "      <td> 01</td>\n",
        "      <td> N</td>\n",
        "      <td> </td>\n",
        "      <td> 9</td>\n",
        "    </tr>\n",
        "  </tbody>\n",
        "</table>\n",
        "<p>5 rows \u00d7 16 columns</p>\n",
        "</div>"
       ],
       "metadata": {},
       "output_type": "pyout",
       "prompt_number": 67,
       "text": [
        "   AMAR ANAISF ANAISH DEPDOM DEPMAR DEPNAISF DEPNAISH ETAMATF ETAMATH INDNATF  \\\n",
        "0  2012   1984   1982     99     29       99       75       1       1       2   \n",
        "1  2012   1969   1956     99     75       99       69       4       4       2   \n",
        "2  2012   1992   1982     99     34       99       99       1       1       1   \n",
        "3  2012   1987   1985     99     13       84       99       1       1       1   \n",
        "4  2012   1963   1968     99     26       99       99       1       1       2   \n",
        "\n",
        "  INDNATH JSEMAINE MMAR NBENFCOM TUCOM TUDOM  \n",
        "0       1        1   01        N           9  \n",
        "1       2        3   01        N           9  \n",
        "2       2        5   01        N           9  \n",
        "3       2        4   01        N           9  \n",
        "4       2        6   01        N           9  \n",
        "\n",
        "[5 rows x 16 columns]"
       ]
      }
     ],
     "prompt_number": 67
    },
    {
     "cell_type": "markdown",
     "metadata": {},
     "source": [
      "L'[encoding](http://fr.wikipedia.org/wiki/Codage_des_caract%C3%A8res) est une fa\u00e7on de repr\u00e9senter les caract\u00e8res sp\u00e9ciaux (comme les caract\u00e8res accentu\u00e9es). L'encoding le plus r\u00e9pandu est ``utf-8``. Sans la mention ``encoding=\"cp437\"``, la fonction qui lit le fichier fait des erreurs lors de la lecture car elle ne sait pas comment interpr\u00e9ter certains caract\u00e8res sp\u00e9ciaux. On r\u00e9cup\u00e8re de la m\u00eame mani\u00e8re la signification des variables :"
     ]
    },
    {
     "cell_type": "code",
     "collapsed": false,
     "input": [
      "vardf = dBase2df(\"varlist_mariages.dbf\")\n",
      "print(vardf.shape, vardf.columns)\n",
      "vardf"
     ],
     "language": "python",
     "metadata": {},
     "outputs": [
      {
       "output_type": "stream",
       "stream": "stdout",
       "text": [
        "(16, 4) Index(['LIBELLE', 'LONGUEUR', 'TYPE', 'VARIABLE'], dtype='object')\n"
       ]
      },
      {
       "html": [
        "<div style=\"max-height:1000px;max-width:1500px;overflow:auto;\">\n",
        "<table border=\"1\" class=\"dataframe\">\n",
        "  <thead>\n",
        "    <tr style=\"text-align: right;\">\n",
        "      <th></th>\n",
        "      <th>LIBELLE</th>\n",
        "      <th>LONGUEUR</th>\n",
        "      <th>TYPE</th>\n",
        "      <th>VARIABLE</th>\n",
        "    </tr>\n",
        "  </thead>\n",
        "  <tbody>\n",
        "    <tr>\n",
        "      <th>0 </th>\n",
        "      <td>                                  Ann\u00e9e du mariage</td>\n",
        "      <td> 4</td>\n",
        "      <td> CHAR</td>\n",
        "      <td>     AMAR</td>\n",
        "    </tr>\n",
        "    <tr>\n",
        "      <th>1 </th>\n",
        "      <td>                    Ann\u00e9e de naissance de l'\u00e9pouse</td>\n",
        "      <td> 4</td>\n",
        "      <td> CHAR</td>\n",
        "      <td>   ANAISF</td>\n",
        "    </tr>\n",
        "    <tr>\n",
        "      <th>2 </th>\n",
        "      <td>                     Ann\u00e9e de naissance de l'\u00e9poux</td>\n",
        "      <td> 4</td>\n",
        "      <td> CHAR</td>\n",
        "      <td>   ANAISH</td>\n",
        "    </tr>\n",
        "    <tr>\n",
        "      <th>3 </th>\n",
        "      <td>          D\u00e9partement de domicile apr\u00e8s le mariage</td>\n",
        "      <td> 3</td>\n",
        "      <td> CHAR</td>\n",
        "      <td>  DEPDOM\u00a0</td>\n",
        "    </tr>\n",
        "    <tr>\n",
        "      <th>4 </th>\n",
        "      <td>                            D\u00e9partement de mariage</td>\n",
        "      <td> 3</td>\n",
        "      <td> CHAR</td>\n",
        "      <td>   DEPMAR</td>\n",
        "    </tr>\n",
        "    <tr>\n",
        "      <th>5 </th>\n",
        "      <td>              D\u00e9partement de naissance de l'\u00e9pouse</td>\n",
        "      <td> 3</td>\n",
        "      <td> CHAR</td>\n",
        "      <td> DEPNAISF</td>\n",
        "    </tr>\n",
        "    <tr>\n",
        "      <th>6 </th>\n",
        "      <td>               D\u00e9partement de naissance de l'\u00e9poux</td>\n",
        "      <td> 3</td>\n",
        "      <td> CHAR</td>\n",
        "      <td> DEPNAISH</td>\n",
        "    </tr>\n",
        "    <tr>\n",
        "      <th>7 </th>\n",
        "      <td>            \u00c9tat matrimonial ant\u00e9rieur de l'\u00e9pouse</td>\n",
        "      <td> 1</td>\n",
        "      <td> CHAR</td>\n",
        "      <td>  ETAMATF</td>\n",
        "    </tr>\n",
        "    <tr>\n",
        "      <th>8 </th>\n",
        "      <td>             \u00c9tat matrimonial ant\u00e9rieur de l'\u00e9poux</td>\n",
        "      <td> 1</td>\n",
        "      <td> CHAR</td>\n",
        "      <td>  ETAMATH</td>\n",
        "    </tr>\n",
        "    <tr>\n",
        "      <th>9 </th>\n",
        "      <td>             Indicateur de nationalit\u00e9 de l'\u00e9pouse</td>\n",
        "      <td> 1</td>\n",
        "      <td> CHAR</td>\n",
        "      <td>  INDNATF</td>\n",
        "    </tr>\n",
        "    <tr>\n",
        "      <th>10</th>\n",
        "      <td>              Indicateur de nationalit\u00e9 de l'\u00e9poux</td>\n",
        "      <td> 1</td>\n",
        "      <td> CHAR</td>\n",
        "      <td>  INDNATH</td>\n",
        "    </tr>\n",
        "    <tr>\n",
        "      <th>11</th>\n",
        "      <td>                   Jour du mariage dans la semaine</td>\n",
        "      <td> 1</td>\n",
        "      <td> CHAR</td>\n",
        "      <td> JSEMAINE</td>\n",
        "    </tr>\n",
        "    <tr>\n",
        "      <th>12</th>\n",
        "      <td>                                   Mois du mariage</td>\n",
        "      <td> 2</td>\n",
        "      <td> CHAR</td>\n",
        "      <td>     MMAR</td>\n",
        "    </tr>\n",
        "    <tr>\n",
        "      <th>13</th>\n",
        "      <td>                Enfants en commun avant le mariage</td>\n",
        "      <td> 1</td>\n",
        "      <td> CHAR</td>\n",
        "      <td> NBENFCOM</td>\n",
        "    </tr>\n",
        "    <tr>\n",
        "      <th>14</th>\n",
        "      <td>  Tranche de commune du lieu de domicile des \u00e9poux</td>\n",
        "      <td> 1</td>\n",
        "      <td> CHAR</td>\n",
        "      <td>    TUCOM</td>\n",
        "    </tr>\n",
        "    <tr>\n",
        "      <th>15</th>\n",
        "      <td> Tranche d'unit\u00e9 urbaine du lieu de domicile de...</td>\n",
        "      <td> 1</td>\n",
        "      <td> CHAR</td>\n",
        "      <td>    TUDOM</td>\n",
        "    </tr>\n",
        "  </tbody>\n",
        "</table>\n",
        "<p>16 rows \u00d7 4 columns</p>\n",
        "</div>"
       ],
       "metadata": {},
       "output_type": "pyout",
       "prompt_number": 68,
       "text": [
        "                                              LIBELLE  LONGUEUR  TYPE  \\\n",
        "0                                    Ann\u00e9e du mariage         4  CHAR   \n",
        "1                      Ann\u00e9e de naissance de l'\u00e9pouse         4  CHAR   \n",
        "2                       Ann\u00e9e de naissance de l'\u00e9poux         4  CHAR   \n",
        "3            D\u00e9partement de domicile apr\u00e8s le mariage         3  CHAR   \n",
        "4                              D\u00e9partement de mariage         3  CHAR   \n",
        "5                D\u00e9partement de naissance de l'\u00e9pouse         3  CHAR   \n",
        "6                 D\u00e9partement de naissance de l'\u00e9poux         3  CHAR   \n",
        "7              \u00c9tat matrimonial ant\u00e9rieur de l'\u00e9pouse         1  CHAR   \n",
        "8               \u00c9tat matrimonial ant\u00e9rieur de l'\u00e9poux         1  CHAR   \n",
        "9               Indicateur de nationalit\u00e9 de l'\u00e9pouse         1  CHAR   \n",
        "10               Indicateur de nationalit\u00e9 de l'\u00e9poux         1  CHAR   \n",
        "11                    Jour du mariage dans la semaine         1  CHAR   \n",
        "12                                    Mois du mariage         2  CHAR   \n",
        "13                 Enfants en commun avant le mariage         1  CHAR   \n",
        "14   Tranche de commune du lieu de domicile des \u00e9poux         1  CHAR   \n",
        "15  Tranche d'unit\u00e9 urbaine du lieu de domicile de...         1  CHAR   \n",
        "\n",
        "    VARIABLE  \n",
        "0       AMAR  \n",
        "1     ANAISF  \n",
        "2     ANAISH  \n",
        "3    DEPDOM\u00a0  \n",
        "4     DEPMAR  \n",
        "5   DEPNAISF  \n",
        "6   DEPNAISH  \n",
        "7    ETAMATF  \n",
        "8    ETAMATH  \n",
        "9    INDNATF  \n",
        "10   INDNATH  \n",
        "11  JSEMAINE  \n",
        "12      MMAR  \n",
        "13  NBENFCOM  \n",
        "14     TUCOM  \n",
        "15     TUDOM  \n",
        "\n",
        "[16 rows x 4 columns]"
       ]
      }
     ],
     "prompt_number": 68
    },
    {
     "cell_type": "markdown",
     "metadata": {},
     "source": [
      "<h3 id=\"exo4\">Exercice 4 : \u00e9cart entre les mari\u00e9s</h3>\n",
      "\n",
      "1. En ajoutant une colonne et en utilisant l'op\u00e9ration [group by](http://pandas.pydata.org/pandas-docs/stable/groupby.html), on veut obtenir la distribution du nombre de mariages en fonction de l'\u00e9cart entre les mari\u00e9s. Au besoin, on changera le type d'une colone ou deux.\n",
      "2. On veut tracer un nuage de points avec en abscisse l'\u00e2ge du mari, en ordonn\u00e9e, l'\u00e2ge de la femme. Il faudra peut-\u00eatre jeter un coup d'oeil sur la documentation de la m\u00e9thode [plot](http://pandas.pydata.org/pandas-docs/stable/generated/pandas.DataFrame.plot.html)."
     ]
    },
    {
     "cell_type": "code",
     "collapsed": false,
     "input": [
      "df[\"colonne\"] = df.apply (lambda r:  int(r[\"colonne\"]), axis=1)  # pour changer de type\n",
      "df[\"difference\"] = ..."
     ],
     "language": "python",
     "metadata": {},
     "outputs": [
      {
       "ename": "KeyError",
       "evalue": "('colonne', 'occurred at index 0')",
       "output_type": "pyerr",
       "traceback": [
        "\u001b[1;31m---------------------------------------------------------------------------\u001b[0m\n\u001b[1;31mKeyError\u001b[0m                                  Traceback (most recent call last)",
        "\u001b[1;32m<ipython-input-69-2231ceb0c4e0>\u001b[0m in \u001b[0;36m<module>\u001b[1;34m()\u001b[0m\n\u001b[1;32m----> 1\u001b[1;33m \u001b[0mdf\u001b[0m\u001b[1;33m[\u001b[0m\u001b[1;34m\"colonne\"\u001b[0m\u001b[1;33m]\u001b[0m \u001b[1;33m=\u001b[0m \u001b[0mdf\u001b[0m\u001b[1;33m.\u001b[0m\u001b[0mapply\u001b[0m \u001b[1;33m(\u001b[0m\u001b[1;32mlambda\u001b[0m \u001b[0mr\u001b[0m\u001b[1;33m:\u001b[0m  \u001b[0mint\u001b[0m\u001b[1;33m(\u001b[0m\u001b[0mr\u001b[0m\u001b[1;33m[\u001b[0m\u001b[1;34m\"colonne\"\u001b[0m\u001b[1;33m]\u001b[0m\u001b[1;33m)\u001b[0m\u001b[1;33m,\u001b[0m \u001b[0maxis\u001b[0m\u001b[1;33m=\u001b[0m\u001b[1;36m1\u001b[0m\u001b[1;33m)\u001b[0m  \u001b[1;31m# pour changer de type\u001b[0m\u001b[1;33m\u001b[0m\u001b[0m\n\u001b[0m\u001b[0;32m      2\u001b[0m \u001b[0mdf\u001b[0m\u001b[1;33m[\u001b[0m\u001b[1;34m\"difference\"\u001b[0m\u001b[1;33m]\u001b[0m \u001b[1;33m=\u001b[0m \u001b[1;33m...\u001b[0m\u001b[1;33m\u001b[0m\u001b[0m\n",
        "\u001b[1;32mC:\\Users\\Tertio\\Desktop\\WinPython-32bit-3.3.5.0\\python-3.3.5\\lib\\site-packages\\pandas\\core\\frame.py\u001b[0m in \u001b[0;36mapply\u001b[1;34m(self, func, axis, broadcast, raw, reduce, args, **kwds)\u001b[0m\n\u001b[0;32m   3310\u001b[0m                     \u001b[1;32mif\u001b[0m \u001b[0mreduce\u001b[0m \u001b[1;32mis\u001b[0m \u001b[1;32mNone\u001b[0m\u001b[1;33m:\u001b[0m\u001b[1;33m\u001b[0m\u001b[0m\n\u001b[0;32m   3311\u001b[0m                         \u001b[0mreduce\u001b[0m \u001b[1;33m=\u001b[0m \u001b[1;32mTrue\u001b[0m\u001b[1;33m\u001b[0m\u001b[0m\n\u001b[1;32m-> 3312\u001b[1;33m                     \u001b[1;32mreturn\u001b[0m \u001b[0mself\u001b[0m\u001b[1;33m.\u001b[0m\u001b[0m_apply_standard\u001b[0m\u001b[1;33m(\u001b[0m\u001b[0mf\u001b[0m\u001b[1;33m,\u001b[0m \u001b[0maxis\u001b[0m\u001b[1;33m,\u001b[0m \u001b[0mreduce\u001b[0m\u001b[1;33m=\u001b[0m\u001b[0mreduce\u001b[0m\u001b[1;33m)\u001b[0m\u001b[1;33m\u001b[0m\u001b[0m\n\u001b[0m\u001b[0;32m   3313\u001b[0m             \u001b[1;32melse\u001b[0m\u001b[1;33m:\u001b[0m\u001b[1;33m\u001b[0m\u001b[0m\n\u001b[0;32m   3314\u001b[0m                 \u001b[1;32mreturn\u001b[0m \u001b[0mself\u001b[0m\u001b[1;33m.\u001b[0m\u001b[0m_apply_broadcast\u001b[0m\u001b[1;33m(\u001b[0m\u001b[0mf\u001b[0m\u001b[1;33m,\u001b[0m \u001b[0maxis\u001b[0m\u001b[1;33m)\u001b[0m\u001b[1;33m\u001b[0m\u001b[0m\n",
        "\u001b[1;32mC:\\Users\\Tertio\\Desktop\\WinPython-32bit-3.3.5.0\\python-3.3.5\\lib\\site-packages\\pandas\\core\\frame.py\u001b[0m in \u001b[0;36m_apply_standard\u001b[1;34m(self, func, axis, ignore_failures, reduce)\u001b[0m\n\u001b[0;32m   3398\u001b[0m             \u001b[1;32mtry\u001b[0m\u001b[1;33m:\u001b[0m\u001b[1;33m\u001b[0m\u001b[0m\n\u001b[0;32m   3399\u001b[0m                 \u001b[1;32mfor\u001b[0m \u001b[0mi\u001b[0m\u001b[1;33m,\u001b[0m \u001b[0mv\u001b[0m \u001b[1;32min\u001b[0m \u001b[0menumerate\u001b[0m\u001b[1;33m(\u001b[0m\u001b[0mseries_gen\u001b[0m\u001b[1;33m)\u001b[0m\u001b[1;33m:\u001b[0m\u001b[1;33m\u001b[0m\u001b[0m\n\u001b[1;32m-> 3400\u001b[1;33m                     \u001b[0mresults\u001b[0m\u001b[1;33m[\u001b[0m\u001b[0mi\u001b[0m\u001b[1;33m]\u001b[0m \u001b[1;33m=\u001b[0m \u001b[0mfunc\u001b[0m\u001b[1;33m(\u001b[0m\u001b[0mv\u001b[0m\u001b[1;33m)\u001b[0m\u001b[1;33m\u001b[0m\u001b[0m\n\u001b[0m\u001b[0;32m   3401\u001b[0m                     \u001b[0mkeys\u001b[0m\u001b[1;33m.\u001b[0m\u001b[0mappend\u001b[0m\u001b[1;33m(\u001b[0m\u001b[0mv\u001b[0m\u001b[1;33m.\u001b[0m\u001b[0mname\u001b[0m\u001b[1;33m)\u001b[0m\u001b[1;33m\u001b[0m\u001b[0m\n\u001b[0;32m   3402\u001b[0m             \u001b[1;32mexcept\u001b[0m \u001b[0mException\u001b[0m \u001b[1;32mas\u001b[0m \u001b[0me\u001b[0m\u001b[1;33m:\u001b[0m\u001b[1;33m\u001b[0m\u001b[0m\n",
        "\u001b[1;32m<ipython-input-69-2231ceb0c4e0>\u001b[0m in \u001b[0;36m<lambda>\u001b[1;34m(r)\u001b[0m\n\u001b[1;32m----> 1\u001b[1;33m \u001b[0mdf\u001b[0m\u001b[1;33m[\u001b[0m\u001b[1;34m\"colonne\"\u001b[0m\u001b[1;33m]\u001b[0m \u001b[1;33m=\u001b[0m \u001b[0mdf\u001b[0m\u001b[1;33m.\u001b[0m\u001b[0mapply\u001b[0m \u001b[1;33m(\u001b[0m\u001b[1;32mlambda\u001b[0m \u001b[0mr\u001b[0m\u001b[1;33m:\u001b[0m  \u001b[0mint\u001b[0m\u001b[1;33m(\u001b[0m\u001b[0mr\u001b[0m\u001b[1;33m[\u001b[0m\u001b[1;34m\"colonne\"\u001b[0m\u001b[1;33m]\u001b[0m\u001b[1;33m)\u001b[0m\u001b[1;33m,\u001b[0m \u001b[0maxis\u001b[0m\u001b[1;33m=\u001b[0m\u001b[1;36m1\u001b[0m\u001b[1;33m)\u001b[0m  \u001b[1;31m# pour changer de type\u001b[0m\u001b[1;33m\u001b[0m\u001b[0m\n\u001b[0m\u001b[0;32m      2\u001b[0m \u001b[0mdf\u001b[0m\u001b[1;33m[\u001b[0m\u001b[1;34m\"difference\"\u001b[0m\u001b[1;33m]\u001b[0m \u001b[1;33m=\u001b[0m \u001b[1;33m...\u001b[0m\u001b[1;33m\u001b[0m\u001b[0m\n",
        "\u001b[1;32mC:\\Users\\Tertio\\Desktop\\WinPython-32bit-3.3.5.0\\python-3.3.5\\lib\\site-packages\\pandas\\core\\series.py\u001b[0m in \u001b[0;36m__getitem__\u001b[1;34m(self, key)\u001b[0m\n\u001b[0;32m    489\u001b[0m     \u001b[1;32mdef\u001b[0m \u001b[0m__getitem__\u001b[0m\u001b[1;33m(\u001b[0m\u001b[0mself\u001b[0m\u001b[1;33m,\u001b[0m \u001b[0mkey\u001b[0m\u001b[1;33m)\u001b[0m\u001b[1;33m:\u001b[0m\u001b[1;33m\u001b[0m\u001b[0m\n\u001b[0;32m    490\u001b[0m         \u001b[1;32mtry\u001b[0m\u001b[1;33m:\u001b[0m\u001b[1;33m\u001b[0m\u001b[0m\n\u001b[1;32m--> 491\u001b[1;33m             \u001b[0mresult\u001b[0m \u001b[1;33m=\u001b[0m \u001b[0mself\u001b[0m\u001b[1;33m.\u001b[0m\u001b[0mindex\u001b[0m\u001b[1;33m.\u001b[0m\u001b[0mget_value\u001b[0m\u001b[1;33m(\u001b[0m\u001b[0mself\u001b[0m\u001b[1;33m,\u001b[0m \u001b[0mkey\u001b[0m\u001b[1;33m)\u001b[0m\u001b[1;33m\u001b[0m\u001b[0m\n\u001b[0m\u001b[0;32m    492\u001b[0m             \u001b[1;32mif\u001b[0m \u001b[0misinstance\u001b[0m\u001b[1;33m(\u001b[0m\u001b[0mresult\u001b[0m\u001b[1;33m,\u001b[0m \u001b[0mnp\u001b[0m\u001b[1;33m.\u001b[0m\u001b[0mndarray\u001b[0m\u001b[1;33m)\u001b[0m\u001b[1;33m:\u001b[0m\u001b[1;33m\u001b[0m\u001b[0m\n\u001b[0;32m    493\u001b[0m                 \u001b[1;32mreturn\u001b[0m \u001b[0mself\u001b[0m\u001b[1;33m.\u001b[0m\u001b[0m_constructor\u001b[0m\u001b[1;33m(\u001b[0m\u001b[0mresult\u001b[0m\u001b[1;33m,\u001b[0m\u001b[0mindex\u001b[0m\u001b[1;33m=\u001b[0m\u001b[1;33m[\u001b[0m\u001b[0mkey\u001b[0m\u001b[1;33m]\u001b[0m\u001b[1;33m*\u001b[0m\u001b[0mlen\u001b[0m\u001b[1;33m(\u001b[0m\u001b[0mresult\u001b[0m\u001b[1;33m)\u001b[0m\u001b[1;33m)\u001b[0m\u001b[1;33m.\u001b[0m\u001b[0m__finalize__\u001b[0m\u001b[1;33m(\u001b[0m\u001b[0mself\u001b[0m\u001b[1;33m)\u001b[0m\u001b[1;33m\u001b[0m\u001b[0m\n",
        "\u001b[1;32mC:\\Users\\Tertio\\Desktop\\WinPython-32bit-3.3.5.0\\python-3.3.5\\lib\\site-packages\\pandas\\core\\index.py\u001b[0m in \u001b[0;36mget_value\u001b[1;34m(self, series, key)\u001b[0m\n\u001b[0;32m   1044\u001b[0m                     \u001b[1;32mraise\u001b[0m \u001b[0mInvalidIndexError\u001b[0m\u001b[1;33m(\u001b[0m\u001b[0mkey\u001b[0m\u001b[1;33m)\u001b[0m\u001b[1;33m\u001b[0m\u001b[0m\n\u001b[0;32m   1045\u001b[0m                 \u001b[1;32melse\u001b[0m\u001b[1;33m:\u001b[0m\u001b[1;33m\u001b[0m\u001b[0m\n\u001b[1;32m-> 1046\u001b[1;33m                     \u001b[1;32mraise\u001b[0m \u001b[0me1\u001b[0m\u001b[1;33m\u001b[0m\u001b[0m\n\u001b[0m\u001b[0;32m   1047\u001b[0m             \u001b[1;32mexcept\u001b[0m \u001b[0mException\u001b[0m\u001b[1;33m:\u001b[0m  \u001b[1;31m# pragma: no cover\u001b[0m\u001b[1;33m\u001b[0m\u001b[0m\n\u001b[0;32m   1048\u001b[0m                 \u001b[1;32mraise\u001b[0m \u001b[0me1\u001b[0m\u001b[1;33m\u001b[0m\u001b[0m\n",
        "\u001b[1;32mC:\\Users\\Tertio\\Desktop\\WinPython-32bit-3.3.5.0\\python-3.3.5\\lib\\site-packages\\pandas\\core\\index.py\u001b[0m in \u001b[0;36mget_value\u001b[1;34m(self, series, key)\u001b[0m\n\u001b[0;32m   1030\u001b[0m \u001b[1;33m\u001b[0m\u001b[0m\n\u001b[0;32m   1031\u001b[0m         \u001b[1;32mtry\u001b[0m\u001b[1;33m:\u001b[0m\u001b[1;33m\u001b[0m\u001b[0m\n\u001b[1;32m-> 1032\u001b[1;33m             \u001b[1;32mreturn\u001b[0m \u001b[0mself\u001b[0m\u001b[1;33m.\u001b[0m\u001b[0m_engine\u001b[0m\u001b[1;33m.\u001b[0m\u001b[0mget_value\u001b[0m\u001b[1;33m(\u001b[0m\u001b[0ms\u001b[0m\u001b[1;33m,\u001b[0m \u001b[0mk\u001b[0m\u001b[1;33m)\u001b[0m\u001b[1;33m\u001b[0m\u001b[0m\n\u001b[0m\u001b[0;32m   1033\u001b[0m         \u001b[1;32mexcept\u001b[0m \u001b[0mKeyError\u001b[0m \u001b[1;32mas\u001b[0m \u001b[0me1\u001b[0m\u001b[1;33m:\u001b[0m\u001b[1;33m\u001b[0m\u001b[0m\n\u001b[0;32m   1034\u001b[0m             \u001b[1;32mif\u001b[0m \u001b[0mlen\u001b[0m\u001b[1;33m(\u001b[0m\u001b[0mself\u001b[0m\u001b[1;33m)\u001b[0m \u001b[1;33m>\u001b[0m \u001b[1;36m0\u001b[0m \u001b[1;32mand\u001b[0m \u001b[0mself\u001b[0m\u001b[1;33m.\u001b[0m\u001b[0minferred_type\u001b[0m \u001b[1;33m==\u001b[0m \u001b[1;34m'integer'\u001b[0m\u001b[1;33m:\u001b[0m\u001b[1;33m\u001b[0m\u001b[0m\n",
        "\u001b[1;32mC:\\Users\\Tertio\\Desktop\\WinPython-32bit-3.3.5.0\\python-3.3.5\\lib\\site-packages\\pandas\\index.pyd\u001b[0m in \u001b[0;36mpandas.index.IndexEngine.get_value (pandas\\index.c:2957)\u001b[1;34m()\u001b[0m\n",
        "\u001b[1;32mC:\\Users\\Tertio\\Desktop\\WinPython-32bit-3.3.5.0\\python-3.3.5\\lib\\site-packages\\pandas\\index.pyd\u001b[0m in \u001b[0;36mpandas.index.IndexEngine.get_value (pandas\\index.c:2772)\u001b[1;34m()\u001b[0m\n",
        "\u001b[1;32mC:\\Users\\Tertio\\Desktop\\WinPython-32bit-3.3.5.0\\python-3.3.5\\lib\\site-packages\\pandas\\index.pyd\u001b[0m in \u001b[0;36mpandas.index.IndexEngine.get_loc (pandas\\index.c:3498)\u001b[1;34m()\u001b[0m\n",
        "\u001b[1;32mC:\\Users\\Tertio\\Desktop\\WinPython-32bit-3.3.5.0\\python-3.3.5\\lib\\site-packages\\pandas\\hashtable.pyd\u001b[0m in \u001b[0;36mpandas.hashtable.PyObjectHashTable.get_item (pandas\\hashtable.c:11324)\u001b[1;34m()\u001b[0m\n",
        "\u001b[1;32mC:\\Users\\Tertio\\Desktop\\WinPython-32bit-3.3.5.0\\python-3.3.5\\lib\\site-packages\\pandas\\hashtable.pyd\u001b[0m in \u001b[0;36mpandas.hashtable.PyObjectHashTable.get_item (pandas\\hashtable.c:11277)\u001b[1;34m()\u001b[0m\n",
        "\u001b[1;31mKeyError\u001b[0m: ('colonne', 'occurred at index 0')"
       ]
      }
     ],
     "prompt_number": 69
    },
    {
     "cell_type": "markdown",
     "metadata": {},
     "source": [
      "<h3 id=\"exo5\">Exercice 5 : graphe de la distribution avec pandas</h3>\n",
      "\n",
      "Le module ``pandas`` propose un panel de graphiques standard faciles \u00e0 obtenir. On souhaite repr\u00e9senter la distribution sous forme d'histogramme. A vous de choisir le meilleure graphique depuis la page [Visualization](http://pandas.pydata.org/pandas-docs/stable/visualization.html)."
     ]
    },
    {
     "cell_type": "code",
     "collapsed": false,
     "input": [
      "df.plot (...)"
     ],
     "language": "python",
     "metadata": {},
     "outputs": []
    },
    {
     "cell_type": "markdown",
     "metadata": {},
     "source": [
      "<h3 id=\"mat\">matplotlib</h3>\n",
      "\n",
      "[matplotlib](http://matplotlib.org/) est le module qu'utilise [pandas](http://pandas.pydata.org/). Ainsi, la m\u00e9thode [plot](http://pandas.pydata.org/pandas-docs/stable/generated/pandas.DataFrame.plot.html) retourne un objet de type [Axes](http://matplotlib.org/api/axes_api.html#module-matplotlib.axes) qu'on peut modifier par la suite via les [m\u00e9thodes suivantes](http://matplotlib.org/api/pyplot_summary.html). On peut ajouter un titre avec [set_title](http://matplotlib.org/api/axes_api.html#matplotlib.axes.Axes.set_title) ou ajouter une grille avec [grid](http://matplotlib.org/api/axes_api.html#matplotlib.axes.Axes.grid). On peut \u00e9galement superposer [deux courbes sur le m\u00eame graphique](http://stackoverflow.com/questions/19941685/how-to-show-a-bar-and-line-graph-on-the-same-plot), ou [changer de taille de caract\u00e8res](http://stackoverflow.com/questions/12444716/how-do-i-set-figure-title-and-axes-labels-font-size-in-matplotlib). Le code suivant trace le nombre de mariages par d\u00e9partement."
     ]
    },
    {
     "cell_type": "code",
     "collapsed": false,
     "input": [
      "%pylab inline"
     ],
     "language": "python",
     "metadata": {},
     "outputs": [
      {
       "output_type": "stream",
       "stream": "stdout",
       "text": [
        "Populating the interactive namespace from numpy and matplotlib\n"
       ]
      },
      {
       "output_type": "stream",
       "stream": "stderr",
       "text": [
        "WARNING: pylab import has clobbered these variables: ['text', 'f', 'tri', 'random', 'datetime']\n",
        "`%matplotlib` prevents importing * from pylab and numpy\n"
       ]
      }
     ],
     "prompt_number": 71
    },
    {
     "cell_type": "code",
     "collapsed": false,
     "input": [
      "df[\"nb\"] = 1\n",
      "dep = df[[\"DEPMAR\",\"nb\"]].groupby(\"DEPMAR\", as_index=False).sum().sort(\"nb\",ascending=False)\n",
      "ax = dep.plot(kind = \"bar\", figsize=(18,6))\n",
      "ax.set_xlabel(\"d\u00e9partements\", fontsize=16)\n",
      "ax.set_title(\"nombre de mariages par d\u00e9partements\", fontsize=16)\n",
      "ax.legend().set_visible(False)  # on supprime la l\u00e9gende\n",
      "\n",
      "# on change la taille de police de certains labels\n",
      "for i,tick in enumerate(ax.xaxis.get_major_ticks()):\n",
      "    if i > 10 :\n",
      "        tick.label.set_fontsize(8) "
     ],
     "language": "python",
     "metadata": {},
     "outputs": [
      {
       "metadata": {},
       "output_type": "display_data",
       "png": "[encoded data removed]",
       "text": [
        "<matplotlib.figure.Figure at 0x30668770>"
       ]
      }
     ],
     "prompt_number": 72
    },
    {
     "cell_type": "markdown",
     "metadata": {},
     "source": [
      "Quand on ne sait pas, le plus simple est d'utiliser un moteur de recherche avec un requ\u00eate du type : ``matplotlib + requ\u00eate``. Pour cr\u00e9er un graphique, le plus courant est de choisir le graphique le plus ressemblant d'une [gallerie de graphes](http://matplotlib.org/gallery.html) puis de l'adapter \u00e0 vos donn\u00e9es."
     ]
    },
    {
     "cell_type": "markdown",
     "metadata": {},
     "source": [
      "<h3 id=\"exo6\">Exercice 6 : distribution des mariages par jour</h3>\n",
      "    \n",
      "On veut obtenir un graphe qui contient l'histogramme de la distribution du nombre de mariages par jour de la semaine et d'ajouter une seconde courbe correspond avec un second axe \u00e0 la r\u00e9partition cumul\u00e9e.\n"
     ]
    },
    {
     "cell_type": "code",
     "collapsed": false,
     "input": [],
     "language": "python",
     "metadata": {},
     "outputs": []
    },
    {
     "cell_type": "markdown",
     "metadata": {},
     "source": [
      "<h2 id=\"annex\">Annexes</h2>\n",
      "\n",
      "\n",
      "<h3 id=\"excel\">Cr\u00e9er un fichier Excel avec plusieurs feuilles</h3>\n",
      "\n",
      "La page [Allow ExcelWriter() to add sheets to existing workbook](https://github.com/pydata/pandas/issues/3441) donne plusieurs exemples d'\u00e9criture.\n"
     ]
    },
    {
     "cell_type": "code",
     "collapsed": false,
     "input": [
      "import pandas\n",
      "writer = pandas.ExcelWriter('tou_example.xlsx')\n",
      "df.to_excel(writer, 'Data 0')\n",
      "df.to_excel(writer, 'Data 1')\n",
      "writer.save()"
     ],
     "language": "python",
     "metadata": {},
     "outputs": []
    },
    {
     "cell_type": "code",
     "collapsed": false,
     "input": [],
     "language": "python",
     "metadata": {},
     "outputs": []
    }
   ],
   "metadata": {}
  }
 ]
}