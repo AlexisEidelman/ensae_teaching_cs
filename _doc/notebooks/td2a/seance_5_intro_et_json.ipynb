{
 "cells": [
  {
   "cell_type": "markdown",
   "metadata": {},
   "source": [
    "# Cours 05 : Données non structurées, programmation fonctionnelle"
   ]
  },
  {
   "cell_type": "code",
   "execution_count": 2,
   "metadata": {
    "collapsed": false
   },
   "outputs": [
    {
     "data": {
      "text/html": [
       "<b>Plan</b>\n",
       "<div id=\"my_menu_id\">run previous cell, wait for 2 seconds</div>\n",
       "<script>\n",
       "function repeat_indent_string(n){\n",
       "    var a = \"\" ;\n",
       "    for ( ; n > 0 ; --n) {\n",
       "        a += \"    \";\n",
       "    }\n",
       "    return a;\n",
       "}\n",
       "var update_menu_string = function(begin, lfirst, llast, sformat, send) {\n",
       "    var anchors = document.getElementsByClassName(\"section\");\n",
       "    if (anchors.length == 0) {\n",
       "        anchors = document.getElementsByClassName(\"text_cell_render rendered_html\");\n",
       "    }\n",
       "    var i,t;\n",
       "    var text_menu = begin;\n",
       "    var text_memo = \"<pre>\\nlength:\" + anchors.length + \"\\n\";\n",
       "    var ind = \"\";\n",
       "    var memo_level = 1;\n",
       "    var href;\n",
       "    var tags = [];\n",
       "    for (i = 0; i <= llast; i++) {\n",
       "        tags.push(\"h\" + i);\n",
       "    }\n",
       "\n",
       "    for (i = 0; i < anchors.length; i++) {\n",
       "        text_memo += \"**\" + anchors[i].id + \"--\\n\";\n",
       "\n",
       "        var child = null;\n",
       "        for(t = 0; t < tags.length; t++) {\n",
       "            var r = anchors[i].getElementsByTagName(tags[t]);\n",
       "            if (r.length > 0) {\n",
       "child = r[0];\n",
       "break;\n",
       "            }\n",
       "        }\n",
       "        if (child == null){\n",
       "            text_memo += \"null\\n\";\n",
       "            continue;\n",
       "        }\n",
       "\n",
       "        if (anchors[i].hasAttribute(\"id\")) {\n",
       "            // when converted in RST\n",
       "            href = anchors[i].id;\n",
       "            text_memo += \"#1-\" + href;\n",
       "            // passer à child suivant (le chercher)\n",
       "        }\n",
       "        else if (child.hasAttribute(\"id\")) {\n",
       "            // in a notebook\n",
       "            href = child.id;\n",
       "            text_memo += \"#2-\" + href;\n",
       "        }\n",
       "        else {\n",
       "            text_memo += \"#3-\" + \"*\" + \"\\n\";\n",
       "            continue;\n",
       "        }\n",
       "        var title = child.textContent;\n",
       "        var level = parseInt(child.tagName.substring(1,2));\n",
       "\n",
       "        text_memo += \"--\" + level + \"?\" + lfirst + \"--\" + title + \"\\n\";\n",
       "\n",
       "        if ((level < lfirst) || (level > llast)) {\n",
       "            continue ;\n",
       "        }\n",
       "        if (title.endsWith('¶')) {\n",
       "            title = title.substring(0,title.length-1).replace(\"<\", \"&lt;\").replace(\">\", \"&gt;\").replace(\"&\", \"&amp;\")\n",
       "        }\n",
       "\n",
       "        if (title.length == 0) {\n",
       "            continue;\n",
       "        }\n",
       "        while (level > memo_level) {\n",
       "            text_menu += \"<ul>\\n\";\n",
       "            memo_level += 1;\n",
       "        }\n",
       "        while (level < memo_level) {\n",
       "            text_menu += \"</ul>\\n\";\n",
       "            memo_level -= 1;\n",
       "        }\n",
       "        text_menu += repeat_indent_string(level-2) + sformat.replace(\"__HREF__\", href).replace(\"__TITLE__\", title);\n",
       "    }\n",
       "    while (1 < memo_level) {\n",
       "        text_menu += \"</ul>\\n\";\n",
       "        memo_level -= 1;\n",
       "    }\n",
       "    text_menu += send;\n",
       "    //text_menu += \"\\n\" + text_memo;\n",
       "    return text_menu;\n",
       "};\n",
       "var update_menu = function() {\n",
       "    var sbegin = \"\";\n",
       "    var sformat = '<li><a href=\"#__HREF__\">__TITLE__</a></li>';\n",
       "    var send = \"\";\n",
       "    var text_menu = update_menu_string(sbegin, 2, 4, sformat, send);\n",
       "    var menu = document.getElementById(\"my_menu_id\");\n",
       "    menu.innerHTML=text_menu;\n",
       "};\n",
       "window.setTimeout(update_menu,2000);\n",
       "            </script>"
      ],
      "text/plain": [
       "<IPython.core.display.HTML object>"
      ]
     },
     "execution_count": 2,
     "metadata": {},
     "output_type": "execute_result"
    }
   ],
   "source": [
    "import pyensae\n",
    "%nb_menu"
   ]
  },
  {
   "cell_type": "markdown",
   "metadata": {},
   "source": [
    "## Avant-propos : programmation fonctionnelle ou numpy ?\n",
    "\n",
    "* [toolz](https://github.com/pytoolz/toolz/)/[cytoolz](https://github.com/pytoolz/cytoolz) : [programmation fonctionnelle](https://fr.wikipedia.org/wiki/Programmation_fonctionnelle)\n",
    "* [numpy](http://www.numpy.org/) : [calcul matriciel](https://fr.wikipedia.org/wiki/Matrice_(math%C3%A9matiques))"
   ]
  },
  {
   "cell_type": "code",
   "execution_count": 18,
   "metadata": {
    "collapsed": false
   },
   "outputs": [
    {
     "name": "stdout",
     "output_type": "stream",
     "text": [
      "User defined method or cross-method\n",
      "100 loops, best of 3: 11.7 ms per loop\n",
      "100 loops, best of 3: 10.2 ms per loop\n",
      "100 loops, best of 3: 7.11 ms per loop\n",
      "100 loops, best of 3: 5.4 ms per loop\n",
      "Builtin function\n",
      "1000 loops, best of 3: 951 µs per loop\n",
      "Numpy function\n",
      "10000 loops, best of 3: 73.3 µs per loop\n",
      "10000 loops, best of 3: 69.7 µs per loop\n"
     ]
    }
   ],
   "source": [
    "import numpy as np\n",
    "\n",
    "def my_sum(l):\n",
    "    res = 0\n",
    "    for it in l:\n",
    "        res += it\n",
    "    return res\n",
    "l = list(range(100000))\n",
    "a = np.arange(100000)\n",
    "\n",
    "print(\"User defined method or cross-method\")\n",
    "%timeit my_sum(a) # user defined with numpy array\n",
    "%timeit sum(a)    # built-in with numpy array\n",
    "%timeit np.sum(l) # numpy function with list\n",
    "%timeit my_sum(l) # user definedwith list\n",
    "print(\"Builtin function\")\n",
    "%timeit sum(l)    # built-in with list\n",
    "print(\"Numpy function\")\n",
    "%timeit np.sum(a) # numpy function\n",
    "%timeit a.sum()   # numpy method"
   ]
  },
  {
   "cell_type": "markdown",
   "metadata": {},
   "source": [
    "Il y a un rapport de 10 dans le temps d'exécution entre la méthode \"user defined\" et la méthode \"builtin\".\n",
    "On retrouve ce même rapport entre la méthode \"builtin\" et les méthodes numpy.\n",
    "On peut noter que mélanger les objets numpy et non-numpy donne de très mauvais résultats.\n",
    "\n",
    "**Dans le cas de la programmation fonctionnelle, nous nous situerons plutôt dans le cas \"builtin\"**"
   ]
  },
  {
   "cell_type": "markdown",
   "metadata": {},
   "source": [
    "<table>\n",
    "  <thead>\n",
    "    <tr>\n",
    "      <th>Project</th>\n",
    "      <th>Computation</th>\n",
    "      <th>Data Structures</th>\n",
    "    </tr>\n",
    "  </thead>\n",
    "  <tbody>\n",
    "    <tr>\n",
    "      <td>Code de l'utilisateur</td>\n",
    "      <td>Python</td>\n",
    "      <td>Python</td>\n",
    "    </tr>\n",
    "    <tr>\n",
    "      <td>CyToolz</td>\n",
    "      <td>C</td>\n",
    "      <td>Python</td>\n",
    "    </tr>\n",
    "    <tr>\n",
    "      <td>Pandas/NumPy</td>\n",
    "      <td>C</td>\n",
    "      <td>C</td>\n",
    "    </tr>\n",
    "  </tbody>\n",
    "</table>"
   ]
  },
  {
   "cell_type": "markdown",
   "metadata": {},
   "source": [
    "Dans le cas de manipulation de donnée structurée de taille \"raisonnable\", pandas et numpy restent plus performant.\n",
    "\n",
    "Ils peuvent toutefois être limités par plusieurs points :\n",
    "\n",
    "  - manipulation de données plus complexes avec des sous-listes, des champs manquants\n",
    "  - ils sont construits sur le principe de chargement en mémoire des données "
   ]
  },
  {
   "cell_type": "code",
   "execution_count": 19,
   "metadata": {
    "collapsed": false
   },
   "outputs": [],
   "source": [
    "import os, psutil, gc\n",
    "import resource\n",
    "\n",
    "def memory_usage_psutil():\n",
    "    gc.collect()\n",
    "    process = psutil.Process(os.getpid())\n",
    "    mem = process.memory_info()[0] / float(2 ** 20)\n",
    "\n",
    "    print( \"Memory used : %i MB\" % mem )\n",
    "    print( \"Max memory usage : %i MB\" % (resource.getrusage(resource.RUSAGE_SELF).ru_maxrss//1024) )"
   ]
  },
  {
   "cell_type": "code",
   "execution_count": 20,
   "metadata": {
    "collapsed": false
   },
   "outputs": [
    {
     "name": "stdout",
     "output_type": "stream",
     "text": [
      "Memory used : 54 MB\n",
      "Max memory usage : 54 MB\n"
     ]
    }
   ],
   "source": [
    "memory_usage_psutil()"
   ]
  },
  {
   "cell_type": "code",
   "execution_count": 21,
   "metadata": {
    "collapsed": true
   },
   "outputs": [],
   "source": [
    "import cytoolz as ct # import groupby, valmap, compose\n",
    "import cytoolz.curried as ctc ## pipe, map, filter, get\n",
    "import sqlite3\n",
    "import pprint\n",
    "try:\n",
    "    import ujson as json\n",
    "except:\n",
    "    print(\"ujson not available\")\n",
    "    import json\n",
    "\n",
    "conn_sqlite = sqlite3.connect(\"twitter_for_network_full.db\")\n",
    "cursor_sqlite = conn_sqlite.cursor()"
   ]
  },
  {
   "cell_type": "markdown",
   "metadata": {},
   "source": [
    "Le code suivant va lire plusieurs gigaoctets de données, et la consommation maximale de mémoire du process ne va augmenter que de quelques Mo. De plus ce code manipule des dictionnaires qu'il serait compliqué de faire rentrer dans un [DataFrame pandas](http://pandas.pydata.org/pandas-docs/stable/generated/pandas.DataFrame.html). "
   ]
  },
  {
   "cell_type": "code",
   "execution_count": 22,
   "metadata": {
    "collapsed": false
   },
   "outputs": [
    {
     "name": "stdout",
     "output_type": "stream",
     "text": [
      "1225448091\n"
     ]
    }
   ],
   "source": [
    "cursor_sqlite.execute('SELECT content FROM tw_users' )\n",
    "object_to_sum = ctc.pluck( \"followers_count\", ctc.map( json.loads, ctc.pluck( 0, cursor_sqlite ) ) )\n",
    "print(sum(object_to_sum))"
   ]
  },
  {
   "cell_type": "code",
   "execution_count": 23,
   "metadata": {
    "collapsed": false
   },
   "outputs": [
    {
     "name": "stdout",
     "output_type": "stream",
     "text": [
      "Memory used : 57 MB\n",
      "Max memory usage : 57 MB\n"
     ]
    }
   ],
   "source": [
    "memory_usage_psutil()"
   ]
  },
  {
   "cell_type": "markdown",
   "metadata": {},
   "source": [
    "Dans le cadre du TP d'aujourd'hui, les données que nous allons utiliser peuvent largement tenir en mémoire, et de façon générale, lorsqu'on développe des codes pour gérer des gros volumes de données, on les teste sur des volumes de données qui tiennent en mémoire.\n",
    "\n",
    "Dans le cadre de la gestion de volume important de données, on ne pourra donc pas stocker des résultats intermédiaire, on va donc composer des fonctions pour qu'elles produisent directement le résultat final.\n",
    "\n",
    "Cas classique :\n",
    "\n",
    "~~~\n",
    "resultat_intermediaire_1 = f( donnees )\n",
    "resultat_intermediaire_2 = g( resultat_intermediaire_1 )\n",
    "resultat_final = h( resultat_intermediaire_2 )\n",
    "~~~\n",
    "\n",
    "Programmation fonctionnelle :\n",
    "\n",
    "~~~\n",
    "resultat_final = h( g( f( donnees ) ) )\n",
    "~~~"
   ]
  },
  {
   "cell_type": "markdown",
   "metadata": {},
   "source": [
    "# Données structurées SQL et NOSQL"
   ]
  },
  {
   "cell_type": "markdown",
   "metadata": {},
   "source": [
    "[SQL](https://fr.wikipedia.org/wiki/Structured_Query_Language) signifie *Structured Query Language*, les tables ont un nombre de colonnes fixes, et chaque colonne possède un type particulier.\n",
    "Comment gère-t-on un nombre d'objets variables ? La plupart du temps avec une table secondaire qui contiendra une ligne par élément de la liste.\n",
    "\n",
    "Par exemple, si l'on veut stocker la liste des films possédés par une personne."
   ]
  },
  {
   "cell_type": "markdown",
   "metadata": {},
   "source": [
    "<table>\n",
    "<tbody>\n",
    "<tr>\n",
    "<td><h5>Table person</h5></td>\n",
    "<td>\n",
    "<table>\n",
    "  <thead>\n",
    "    <tr>\n",
    "      <th>Id</th>\n",
    "      <th>Name</th>\n",
    "    </tr>\n",
    "  </thead>\n",
    "  <tbody>\n",
    "    <tr>\n",
    "      <td>1</td>\n",
    "      <td>Jean</td>\n",
    "    </tr>\n",
    "    <tr>\n",
    "      <td>2</td>\n",
    "      <td>Paul</td>\n",
    "    </tr>\n",
    "    <tr>\n",
    "      <td>3</td>\n",
    "      <td>Jacques</td>\n",
    "    </tr>\n",
    "  </tbody>\n",
    "</table>\n",
    "</td>\n",
    "<td><h5>Table related_items</h5></td>\n",
    "<td>\n",
    "<table>\n",
    "  <thead>\n",
    "    <tr>\n",
    "      <th>Id</th>\n",
    "      <th>Person_id</th>\n",
    "      <th>Value</th>\n",
    "    </tr>\n",
    "  </thead>\n",
    "  <tbody>\n",
    "    <tr>\n",
    "      <td>1</td>\n",
    "      <td>1</td>\n",
    "      <td>Star wars</td>\n",
    "    </tr>\n",
    "    <tr>\n",
    "      <td>2</td>\n",
    "      <td>1</td>\n",
    "      <td>Cyrano</td>\n",
    "    </tr>\n",
    "    <tr>\n",
    "      <td>3</td>\n",
    "      <td>1</td>\n",
    "      <td>Lord of the rings</td>\n",
    "    </tr>\n",
    "    <tr>\n",
    "      <td>4</td>\n",
    "      <td>2</td>\n",
    "      <td>Mad max</td>\n",
    "    </tr>\n",
    "    <tr>\n",
    "      <td>5</td>\n",
    "      <td>2</td>\n",
    "      <td>Dr Horrible</td>\n",
    "    </tr>\n",
    "  </tbody>\n",
    "</table>\n",
    "</td>\n",
    "</tbody>\n",
    "</table>"
   ]
  },
  {
   "cell_type": "markdown",
   "metadata": {},
   "source": [
    "Ce système est très \"structuré\" (comme son nom l'indique) et peut s'avérer assez lourd si l'on a affaire à des données moins bien structurées, avec beaucoup de listes, des données présentes ou non.\n",
    "\n",
    "On voit donc se développer de plus en plus des systèmes alternatifs, dit [NoSQL](https://fr.wikipedia.org/wiki/NoSQL) (pour Not Only Sql).\n",
    "\n",
    "Nous allons en voir trois :\n",
    "\n",
    "  - [Sqlite3](https://docs.python.org/3/library/sqlite3.html) support for [Json](https://fr.wikipedia.org/wiki/JavaScript_Object_Notation)\n",
    "  - [mongodb](https://www.mongodb.org/)\n",
    "  - [PostGreSql](http://www.postgresql.org/)\n",
    "  \n",
    "Ils sont analogues sur la nature des données stockées, elles le sont au format [Json](https://fr.wikipedia.org/wiki/JavaScript_Object_Notation)."
   ]
  },
  {
   "cell_type": "markdown",
   "metadata": {},
   "source": [
    "## Json ? Qu'est ce que c'est ?"
   ]
  },
  {
   "cell_type": "markdown",
   "metadata": {},
   "source": [
    "Il s'agit du format majoritaire pour les API informatiques internet.\n",
    "\n",
    "Par exemple les données renvoyées par twitter (sur lesquelles nous travaillerons aujourd'hui) sont sous ce format.\n",
    "\n",
    "Il signifie : [JavaScript Object Notation](https://fr.wikipedia.org/wiki/JavaScript_Object_Notation).\n",
    "Il se base essentiellement sur des dictionnaires (association clé/valeur) et des listes.\n",
    "Il est très proche des objets python (modulo les false/False)"
   ]
  },
  {
   "cell_type": "code",
   "execution_count": 24,
   "metadata": {
    "collapsed": false,
    "scrolled": false
   },
   "outputs": [
    {
     "name": "stdout",
     "output_type": "stream",
     "text": [
      "############### user raw json ###############\n",
      "{\"utc_offset\": null, \"friends_count\": 164, \"entities\": {\"description\": {\"urls\": []}, \"url\": {\"urls\": [{\"expanded_url\": \"http://www.aeroportsdeparis.fr/\", \"display_url\": \"aeroportsdeparis.fr\", \"indices\": [0, 22], \"url\": \"http://t.co/dFybncvjp1\"}]}}, \"description\": \"Pr\\u00e9sident-Directeur G\\u00e9n\\u00e9ral du groupe A\\u00e9roports de Paris. Vos informations passagers \\u00e0 suivre sur @AeroportsParis, et institutionnelles sur @ADPcorporate.\", \"id\": 49191180, \"contributors_enabled\": false, \"geo_enabled\": false, \"name\": \"Augustin de Romanet\", \"favourites_count\": 16, \"verified\": false, \"protected\": false, \"created_at\": \"Sun Jun 21 01:50:47 +0000 2009\", \"statuses_count\": 130, \"lang\": \"en\", \"time_zone\": null, \"screen_name\": \"Romanet\", \"location\": \"Paris\", \"id_str\": \"49191180\", \"url\": \"http://t.co/dFybncvjp1\", \"followers_count\": 772, \"listed_count\": 23, \"has_extended_profile\": false}\n",
      "############### user as python dict ###############\n",
      "{'contributors_enabled': False,\n",
      " 'created_at': 'Sun Jun 21 01:50:47 +0000 2009',\n",
      " 'description': 'Président-Directeur Général du groupe Aéroports de Paris. '\n",
      "                'Vos informations passagers à suivre sur @AeroportsParis, et '\n",
      "                'institutionnelles sur @ADPcorporate.',\n",
      " 'entities': {'description': {'urls': []},\n",
      "              'url': {'urls': [{'display_url': 'aeroportsdeparis.fr',\n",
      "                                'expanded_url': 'http://www.aeroportsdeparis.fr/',\n",
      "                                'indices': [0, 22],\n",
      "                                'url': 'http://t.co/dFybncvjp1'}]}},\n",
      " 'favourites_count': 16,\n",
      " 'followers_count': 772,\n",
      " 'friends_count': 164,\n",
      " 'geo_enabled': False,\n",
      " 'has_extended_profile': False,\n",
      " 'id': 49191180,\n",
      " 'id_str': '49191180',\n",
      " 'lang': 'en',\n",
      " 'listed_count': 23,\n",
      " 'location': 'Paris',\n",
      " 'name': 'Augustin de Romanet',\n",
      " 'protected': False,\n",
      " 'screen_name': 'Romanet',\n",
      " 'statuses_count': 130,\n",
      " 'time_zone': None,\n",
      " 'url': 'http://t.co/dFybncvjp1',\n",
      " 'utc_offset': None,\n",
      " 'verified': False}\n",
      "############### status as python dict ###############\n",
      "{'contributors': None,\n",
      " 'coordinates': None,\n",
      " 'created_at': 'Fri Jul 24 17:24:44 +0000 2015',\n",
      " 'entities': {'hashtags': [{'indices': [61, 71], 'text': 'Chrétiens'},\n",
      "                           {'indices': [87, 93], 'text': 'Daech'}],\n",
      "              'media': [{'display_url': 'pic.twitter.com/JghmnBBb8q',\n",
      "                         'expanded_url': 'http://twitter.com/FChretienne/status/624595066967830528/photo/1',\n",
      "                         'id': 624580461596049408,\n",
      "                         'id_str': '624580461596049408',\n",
      "                         'indices': [117, 139],\n",
      "                         'media_url': 'http://pbs.twimg.com/media/CKr0nuMVAAAl_MM.jpg',\n",
      "                         'media_url_https': 'https://pbs.twimg.com/media/CKr0nuMVAAAl_MM.jpg',\n",
      "                         'sizes': {'large': {'h': 413,\n",
      "                                             'resize': 'fit',\n",
      "                                             'w': 620},\n",
      "                                   'medium': {'h': 399,\n",
      "                                              'resize': 'fit',\n",
      "                                              'w': 600},\n",
      "                                   'small': {'h': 226,\n",
      "                                             'resize': 'fit',\n",
      "                                             'w': 340},\n",
      "                                   'thumb': {'h': 150,\n",
      "                                             'resize': 'crop',\n",
      "                                             'w': 150}},\n",
      "                         'source_status_id': 624595066967830528,\n",
      "                         'source_status_id_str': '624595066967830528',\n",
      "                         'source_user_id': 599222987,\n",
      "                         'source_user_id_str': '599222987',\n",
      "                         'type': 'photo',\n",
      "                         'url': 'http://t.co/JghmnBBb8q'}],\n",
      "              'symbols': [],\n",
      "              'urls': [{'display_url': 'bit.ly/1gSn5RW',\n",
      "                        'expanded_url': 'http://bit.ly/1gSn5RW',\n",
      "                        'indices': [94, 116],\n",
      "                        'url': 'http://t.co/8mWRNCXmJo'}],\n",
      "              'user_mentions': [{'id': 599222987,\n",
      "                                 'id_str': '599222987',\n",
      "                                 'indices': [3, 15],\n",
      "                                 'name': 'Famille Chrétienne ن',\n",
      "                                 'screen_name': 'FChretienne'},\n",
      "                                {'id': 551669623,\n",
      "                                 'id_str': '551669623',\n",
      "                                 'indices': [32, 47],\n",
      "                                 'name': 'François Fillon',\n",
      "                                 'screen_name': 'FrancoisFillon'}]},\n",
      " 'extended_entities': {'media': [{'display_url': 'pic.twitter.com/JghmnBBb8q',\n",
      "                                  'expanded_url': 'http://twitter.com/FChretienne/status/624595066967830528/photo/1',\n",
      "                                  'id': 624580461596049408,\n",
      "                                  'id_str': '624580461596049408',\n",
      "                                  'indices': [117, 139],\n",
      "                                  'media_url': 'http://pbs.twimg.com/media/CKr0nuMVAAAl_MM.jpg',\n",
      "                                  'media_url_https': 'https://pbs.twimg.com/media/CKr0nuMVAAAl_MM.jpg',\n",
      "                                  'sizes': {'large': {'h': 413,\n",
      "                                                      'resize': 'fit',\n",
      "                                                      'w': 620},\n",
      "                                            'medium': {'h': 399,\n",
      "                                                       'resize': 'fit',\n",
      "                                                       'w': 600},\n",
      "                                            'small': {'h': 226,\n",
      "                                                      'resize': 'fit',\n",
      "                                                      'w': 340},\n",
      "                                            'thumb': {'h': 150,\n",
      "                                                      'resize': 'crop',\n",
      "                                                      'w': 150}},\n",
      "                                  'source_status_id': 624595066967830528,\n",
      "                                  'source_status_id_str': '624595066967830528',\n",
      "                                  'source_user_id': 599222987,\n",
      "                                  'source_user_id_str': '599222987',\n",
      "                                  'type': 'photo',\n",
      "                                  'url': 'http://t.co/JghmnBBb8q'}]},\n",
      " 'favorite_count': 0,\n",
      " 'favorited': False,\n",
      " 'geo': None,\n",
      " 'id': 624631311471411200,\n",
      " 'id_str': '624631311471411200',\n",
      " 'in_reply_to_screen_name': None,\n",
      " 'in_reply_to_status_id': None,\n",
      " 'in_reply_to_status_id_str': None,\n",
      " 'in_reply_to_user_id': None,\n",
      " 'in_reply_to_user_id_str': None,\n",
      " 'is_quote_status': False,\n",
      " 'lang': 'fr',\n",
      " 'place': None,\n",
      " 'possibly_sensitive': False,\n",
      " 'retweet_count': 51,\n",
      " 'retweeted': False,\n",
      " 'retweeted_status': {'contributors': None,\n",
      "                      'coordinates': None,\n",
      "                      'created_at': 'Fri Jul 24 15:00:43 +0000 2015',\n",
      "                      'entities': {'hashtags': [{'indices': [44, 54],\n",
      "                                                 'text': 'Chrétiens'},\n",
      "                                                {'indices': [70, 76],\n",
      "                                                 'text': 'Daech'}],\n",
      "                                   'media': [{'display_url': 'pic.twitter.com/JghmnBBb8q',\n",
      "                                              'expanded_url': 'http://twitter.com/FChretienne/status/624595066967830528/photo/1',\n",
      "                                              'id': 624580461596049408,\n",
      "                                              'id_str': '624580461596049408',\n",
      "                                              'indices': [100, 122],\n",
      "                                              'media_url': 'http://pbs.twimg.com/media/CKr0nuMVAAAl_MM.jpg',\n",
      "                                              'media_url_https': 'https://pbs.twimg.com/media/CKr0nuMVAAAl_MM.jpg',\n",
      "                                              'sizes': {'large': {'h': 413,\n",
      "                                                                  'resize': 'fit',\n",
      "                                                                  'w': 620},\n",
      "                                                        'medium': {'h': 399,\n",
      "                                                                   'resize': 'fit',\n",
      "                                                                   'w': 600},\n",
      "                                                        'small': {'h': 226,\n",
      "                                                                  'resize': 'fit',\n",
      "                                                                  'w': 340},\n",
      "                                                        'thumb': {'h': 150,\n",
      "                                                                  'resize': 'crop',\n",
      "                                                                  'w': 150}},\n",
      "                                              'type': 'photo',\n",
      "                                              'url': 'http://t.co/JghmnBBb8q'}],\n",
      "                                   'symbols': [],\n",
      "                                   'urls': [{'display_url': 'bit.ly/1gSn5RW',\n",
      "                                             'expanded_url': 'http://bit.ly/1gSn5RW',\n",
      "                                             'indices': [77, 99],\n",
      "                                             'url': 'http://t.co/8mWRNCXmJo'}],\n",
      "                                   'user_mentions': [{'id': 551669623,\n",
      "                                                      'id_str': '551669623',\n",
      "                                                      'indices': [15, 30],\n",
      "                                                      'name': 'François '\n",
      "                                                              'Fillon',\n",
      "                                                      'screen_name': 'FrancoisFillon'}]},\n",
      "                      'extended_entities': {'media': [{'display_url': 'pic.twitter.com/JghmnBBb8q',\n",
      "                                                       'expanded_url': 'http://twitter.com/FChretienne/status/624595066967830528/photo/1',\n",
      "                                                       'id': 624580461596049408,\n",
      "                                                       'id_str': '624580461596049408',\n",
      "                                                       'indices': [100,\n",
      "                                                                   122],\n",
      "                                                       'media_url': 'http://pbs.twimg.com/media/CKr0nuMVAAAl_MM.jpg',\n",
      "                                                       'media_url_https': 'https://pbs.twimg.com/media/CKr0nuMVAAAl_MM.jpg',\n",
      "                                                       'sizes': {'large': {'h': 413,\n",
      "                                                                           'resize': 'fit',\n",
      "                                                                           'w': 620},\n",
      "                                                                 'medium': {'h': 399,\n",
      "                                                                            'resize': 'fit',\n",
      "                                                                            'w': 600},\n",
      "                                                                 'small': {'h': 226,\n",
      "                                                                           'resize': 'fit',\n",
      "                                                                           'w': 340},\n",
      "                                                                 'thumb': {'h': 150,\n",
      "                                                                           'resize': 'crop',\n",
      "                                                                           'w': 150}},\n",
      "                                                       'type': 'photo',\n",
      "                                                       'url': 'http://t.co/JghmnBBb8q'}]},\n",
      "                      'favorite_count': 20,\n",
      "                      'favorited': False,\n",
      "                      'geo': None,\n",
      "                      'id': 624595066967830528,\n",
      "                      'id_str': '624595066967830528',\n",
      "                      'in_reply_to_screen_name': None,\n",
      "                      'in_reply_to_status_id': None,\n",
      "                      'in_reply_to_status_id_str': None,\n",
      "                      'in_reply_to_user_id': None,\n",
      "                      'in_reply_to_user_id_str': None,\n",
      "                      'is_quote_status': False,\n",
      "                      'lang': 'fr',\n",
      "                      'place': None,\n",
      "                      'possibly_sensitive': False,\n",
      "                      'retweet_count': 51,\n",
      "                      'retweeted': False,\n",
      "                      'source': '<a '\n",
      "                                'href=\"https://about.twitter.com/products/tweetdeck\" '\n",
      "                                'rel=\"nofollow\">TweetDeck</a>',\n",
      "                      'text': 'Rencontre avec @FrancoisFillon au sujet des '\n",
      "                              \"#Chrétiens d'Orient et de #Daech \"\n",
      "                              'http://t.co/8mWRNCXmJo http://t.co/JghmnBBb8q',\n",
      "                      'truncated': False,\n",
      "                      'user': {'contributors_enabled': False,\n",
      "                               'created_at': 'Mon Jun 04 13:01:40 +0000 '\n",
      "                                             '2012',\n",
      "                               'default_profile': False,\n",
      "                               'default_profile_image': False,\n",
      "                               'description': 'Compte officiel de Famille '\n",
      "                                              'Chrétienne, hebdomadaire '\n",
      "                                              'catholique pour toute la '\n",
      "                                              'famille depuis 1978.',\n",
      "                               'entities': {'description': {'urls': []},\n",
      "                                            'url': {'urls': [{'display_url': 'famillechretienne.fr',\n",
      "                                                              'expanded_url': 'http://www.famillechretienne.fr',\n",
      "                                                              'indices': [0,\n",
      "                                                                          22],\n",
      "                                                              'url': 'http://t.co/eQZ8AnaOqT'}]}},\n",
      "                               'favourites_count': 2,\n",
      "                               'follow_request_sent': False,\n",
      "                               'followers_count': 7242,\n",
      "                               'following': False,\n",
      "                               'friends_count': 797,\n",
      "                               'geo_enabled': False,\n",
      "                               'has_extended_profile': False,\n",
      "                               'id': 599222987,\n",
      "                               'id_str': '599222987',\n",
      "                               'is_translation_enabled': False,\n",
      "                               'is_translator': False,\n",
      "                               'lang': 'fr',\n",
      "                               'listed_count': 128,\n",
      "                               'location': 'France',\n",
      "                               'name': 'Famille Chrétienne ن',\n",
      "                               'notifications': False,\n",
      "                               'profile_background_color': 'E8EDF0',\n",
      "                               'profile_background_image_url': 'http://pbs.twimg.com/profile_background_images/446609674867970048/9tFZIPaq.png',\n",
      "                               'profile_background_image_url_https': 'https://pbs.twimg.com/profile_background_images/446609674867970048/9tFZIPaq.png',\n",
      "                               'profile_background_tile': False,\n",
      "                               'profile_banner_url': 'https://pbs.twimg.com/profile_banners/599222987/1426667652',\n",
      "                               'profile_image_url': 'http://pbs.twimg.com/profile_images/527776419644841984/Jj9EQX_p_normal.jpeg',\n",
      "                               'profile_image_url_https': 'https://pbs.twimg.com/profile_images/527776419644841984/Jj9EQX_p_normal.jpeg',\n",
      "                               'profile_link_color': '005FAC',\n",
      "                               'profile_sidebar_border_color': '000000',\n",
      "                               'profile_sidebar_fill_color': 'DDEEF6',\n",
      "                               'profile_text_color': '333333',\n",
      "                               'profile_use_background_image': True,\n",
      "                               'protected': False,\n",
      "                               'screen_name': 'FChretienne',\n",
      "                               'statuses_count': 8423,\n",
      "                               'time_zone': 'Paris',\n",
      "                               'url': 'http://t.co/eQZ8AnaOqT',\n",
      "                               'utc_offset': 7200,\n",
      "                               'verified': False}},\n",
      " 'source': '<a href=\"http://twitter.com/download/iphone\" '\n",
      "           'rel=\"nofollow\">Twitter for iPhone</a>',\n",
      " 'text': 'RT @FChretienne: Rencontre avec @FrancoisFillon au sujet des '\n",
      "         \"#Chrétiens d'Orient et de #Daech http://t.co/8mWRNCXmJo \"\n",
      "         'http://t.co/JghmnBBb8q',\n",
      " 'truncated': False,\n",
      " 'user': {'contributors_enabled': False,\n",
      "          'created_at': 'Thu Apr 12 08:09:49 +0000 2012',\n",
      "          'default_profile': False,\n",
      "          'default_profile_image': False,\n",
      "          'description': '',\n",
      "          'entities': {'description': {'urls': []},\n",
      "                       'url': {'urls': [{'display_url': 'blog-fillon.com',\n",
      "                                         'expanded_url': 'http://www.blog-fillon.com',\n",
      "                                         'indices': [0, 22],\n",
      "                                         'url': 'http://t.co/kqslZ0a4nj'}]}},\n",
      "          'favourites_count': 17,\n",
      "          'follow_request_sent': False,\n",
      "          'followers_count': 256321,\n",
      "          'following': False,\n",
      "          'friends_count': 1425,\n",
      "          'geo_enabled': True,\n",
      "          'has_extended_profile': False,\n",
      "          'id': 551669623,\n",
      "          'id_str': '551669623',\n",
      "          'is_translation_enabled': False,\n",
      "          'is_translator': False,\n",
      "          'lang': 'fr',\n",
      "          'listed_count': 1455,\n",
      "          'location': '',\n",
      "          'name': 'François Fillon',\n",
      "          'notifications': False,\n",
      "          'profile_background_color': '0D37E0',\n",
      "          'profile_background_image_url': 'http://pbs.twimg.com/profile_background_images/598167675/40rdxs0i9ay7rkh2a4no.jpeg',\n",
      "          'profile_background_image_url_https': 'https://pbs.twimg.com/profile_background_images/598167675/40rdxs0i9ay7rkh2a4no.jpeg',\n",
      "          'profile_background_tile': False,\n",
      "          'profile_banner_url': 'https://pbs.twimg.com/profile_banners/551669623/1440524758',\n",
      "          'profile_image_url': 'http://pbs.twimg.com/profile_images/555688874446319616/0k5Rrgra_normal.jpeg',\n",
      "          'profile_image_url_https': 'https://pbs.twimg.com/profile_images/555688874446319616/0k5Rrgra_normal.jpeg',\n",
      "          'profile_link_color': '3B3B42',\n",
      "          'profile_sidebar_border_color': 'FFFFFF',\n",
      "          'profile_sidebar_fill_color': 'EFEFEF',\n",
      "          'profile_text_color': '333333',\n",
      "          'profile_use_background_image': False,\n",
      "          'protected': False,\n",
      "          'screen_name': 'FrancoisFillon',\n",
      "          'statuses_count': 7725,\n",
      "          'time_zone': 'Athens',\n",
      "          'url': 'http://t.co/kqslZ0a4nj',\n",
      "          'utc_offset': 10800,\n",
      "          'verified': True}}\n"
     ]
    }
   ],
   "source": [
    "import pprint\n",
    "\n",
    "cursor_sqlite.execute('SELECT content FROM tw_users LIMIT 1')\n",
    "user = cursor_sqlite.fetchone()[0]\n",
    "print(\"#\"*15 + \" user raw json \" + \"#\"*15)\n",
    "print( user )\n",
    "print(\"#\"*15 + \" user as python dict \" + \"#\"*15)\n",
    "pprint.pprint( json.loads( user ) )\n",
    "cursor_sqlite.execute('SELECT content FROM tw_status LIMIT 1')\n",
    "print(\"#\"*15 + \" status as python dict \" + \"#\"*15)\n",
    "pprint.pprint( json.loads( cursor_sqlite.fetchone()[0] ) )"
   ]
  },
  {
   "cell_type": "markdown",
   "metadata": {},
   "source": [
    "Le NoSql / json permet donc une alternative au schéma classique suivant : "
   ]
  },
  {
   "cell_type": "markdown",
   "metadata": {},
   "source": [
    "<table>\n",
    "<tbody>\n",
    "<tr>\n",
    "<td><h5>Table person</h5></td>\n",
    "<td>\n",
    "<table>\n",
    "  <thead>\n",
    "    <tr>\n",
    "      <th>Id</th>\n",
    "      <th>Name</th>\n",
    "    </tr>\n",
    "  </thead>\n",
    "  <tbody>\n",
    "    <tr>\n",
    "      <td>1</td>\n",
    "      <td>Jean</td>\n",
    "    </tr>\n",
    "    <tr>\n",
    "      <td>2</td>\n",
    "      <td>Paul</td>\n",
    "    </tr>\n",
    "    <tr>\n",
    "      <td>3</td>\n",
    "      <td>Jacques</td>\n",
    "    </tr>\n",
    "  </tbody>\n",
    "</table>\n",
    "</td>\n",
    "<td><h5>Table related_items</h5></td>\n",
    "<td>\n",
    "<table>\n",
    "  <thead>\n",
    "    <tr>\n",
    "      <th>Id</th>\n",
    "      <th>Person_id</th>\n",
    "      <th>Value</th>\n",
    "    </tr>\n",
    "  </thead>\n",
    "  <tbody>\n",
    "    <tr>\n",
    "      <td>1</td>\n",
    "      <td>1</td>\n",
    "      <td>Star wars</td>\n",
    "    </tr>\n",
    "    <tr>\n",
    "      <td>2</td>\n",
    "      <td>1</td>\n",
    "      <td>Cyrano</td>\n",
    "    </tr>\n",
    "    <tr>\n",
    "      <td>3</td>\n",
    "      <td>1</td>\n",
    "      <td>Lord of the rings</td>\n",
    "    </tr>\n",
    "    <tr>\n",
    "      <td>4</td>\n",
    "      <td>2</td>\n",
    "      <td>Mad max</td>\n",
    "    </tr>\n",
    "    <tr>\n",
    "      <td>5</td>\n",
    "      <td>2</td>\n",
    "      <td>Dr Horrible</td>\n",
    "    </tr>\n",
    "  </tbody>\n",
    "</table>\n",
    "</td>\n",
    "</tbody>\n",
    "</table>"
   ]
  },
  {
   "cell_type": "markdown",
   "metadata": {},
   "source": [
    "Qui serait :"
   ]
  },
  {
   "cell_type": "markdown",
   "metadata": {},
   "source": [
    "<table>\n",
    "<tbody>\n",
    "<tr>\n",
    "<td><h5>Table person_with_items</h5></td>\n",
    "<td>\n",
    "<table>\n",
    "  <thead>\n",
    "    <tr>\n",
    "      <th>Id</th>\n",
    "      <th>Name</th>\n",
    "      <th>Item_list</th>\n",
    "    </tr>\n",
    "  </thead>\n",
    "  <tbody>\n",
    "    <tr>\n",
    "      <td>1</td>\n",
    "      <td>Jean</td>\n",
    "      <td>['Star wars', 'Cyrano', 'Lord of the rings']</td>\n",
    "    </tr>\n",
    "    <tr>\n",
    "      <td>2</td>\n",
    "      <td>Paul</td>\n",
    "      <td>['Mad max', 'Dr Horrible']</td>\n",
    "    </tr>\n",
    "    <tr>\n",
    "      <td>3</td>\n",
    "      <td>Jacques</td>\n",
    "      <td></td>\n",
    "    </tr>\n",
    "  </tbody>\n",
    "</table>\n",
    "</td>\n",
    "</tr>\n",
    "</tbody>\n",
    "</table>   "
   ]
  },
  {
   "cell_type": "markdown",
   "metadata": {},
   "source": [
    "Cette dernière structure serait vraiment un exemple de nosql dans son sens de Not Only Sql, il y a un mixe de données structurées et non structurées.\n",
    "Il y a également certaines base de données où il n'y a plus du tout de structure, comme mongodb, qui est qualifiée de document-oriented."
   ]
  },
  {
   "cell_type": "markdown",
   "metadata": {},
   "source": [
    "<table>\n",
    "<tbody>\n",
    "<tr>\n",
    "<td><h5>Table person_with_items</h5></td>\n",
    "<td>\n",
    "<table>\n",
    "  <tbody>\n",
    "    <tr>\n",
    "      <td>{'Id': 1, 'Name': 'Jean', 'Item_list' : ['Star wars', 'Cyrano', 'Lord of the rings']}</td>\n",
    "    </tr>\n",
    "    <tr>\n",
    "      <td>{'Id': 2, 'Name': 'Paul', 'Item_list' : ['Mad max', 'Dr Horrible']}</td>\n",
    "    </tr>\n",
    "    <tr>\n",
    "      <td>{'Id': 3, 'Name': 'Jacques', 'Item_list' : []}</td>\n",
    "    </tr>\n",
    "  </tbody>\n",
    "</table>\n",
    "</td>\n",
    "</tr>\n",
    "</tbody>\n",
    "</table>   "
   ]
  },
  {
   "cell_type": "markdown",
   "metadata": {},
   "source": [
    "Il faut toutefois remarquer que cette dernière structure au moins deux inconvénients par rapport à une structure Sql avec une sous-table :\n",
    "\n",
    "  - vous ne pouvez pas accéder directement aux objets de 'Item_list' sans passer par la table person\n",
    "  - les informations de Item_list ne peuvent être partagées entre plusieurs objets, on peut donc avoir à restocker les informations\n",
    "  \n",
    "Voir module [psycopg](https://pypi.python.org/pypi/psycopg2)."
   ]
  },
  {
   "cell_type": "code",
   "execution_count": 25,
   "metadata": {
    "collapsed": false
   },
   "outputs": [],
   "source": [
    "import psycopg2\n",
    "from psycopg2.extras import Json\n",
    "\n",
    "db_name = 'cours_ensae'\n",
    "conn_string = \"host='localhost' dbname='{0}' user='python' password='kyojin'\".format( db_name )\n",
    "conn_psql = psycopg2.connect(conn_string)\n",
    "cursor_psql = conn_psql.cursor()"
   ]
  },
  {
   "cell_type": "code",
   "execution_count": 26,
   "metadata": {
    "collapsed": false
   },
   "outputs": [
    {
     "data": {
      "text/plain": [
       "90310"
      ]
     },
     "execution_count": 26,
     "metadata": {},
     "output_type": "execute_result"
    }
   ],
   "source": [
    "conn_psql.server_version"
   ]
  },
  {
   "cell_type": "code",
   "execution_count": 27,
   "metadata": {
    "collapsed": true
   },
   "outputs": [],
   "source": [
    "conn_psql.rollback()"
   ]
  },
  {
   "cell_type": "code",
   "execution_count": 28,
   "metadata": {
    "collapsed": false
   },
   "outputs": [
    {
     "name": "stdout",
     "output_type": "stream",
     "text": [
      "The slowest run took 11.21 times longer than the fastest. This could mean that an intermediate result is being cached \n",
      "1000 loops, best of 3: 361 µs per loop\n"
     ]
    },
    {
     "data": {
      "text/plain": [
       "(10000,\n",
       " 'AF',\n",
       " [(40000,), (40001,), (40002,), (40003,)],\n",
       " [(160000,),\n",
       "  (160001,),\n",
       "  (160002,),\n",
       "  (160003,),\n",
       "  (160004,),\n",
       "  (160005,),\n",
       "  (160006,),\n",
       "  (160007,),\n",
       "  (160008,),\n",
       "  (160009,),\n",
       "  (160010,),\n",
       "  (160011,),\n",
       "  (160012,),\n",
       "  (160013,),\n",
       "  (160014,),\n",
       "  (160015,)])"
      ]
     },
     "execution_count": 28,
     "metadata": {},
     "output_type": "execute_result"
    }
   ],
   "source": [
    "def get_data_sql(doc_id):\n",
    "    cursor_psql.execute(\"SELECT id, company FROM document WHERE id = %s\", (doc_id,))\n",
    "    res_1 = cursor_psql.fetchone()\n",
    "    cursor_psql.execute(\"SELECT id FROM ticket WHERE document_id = %s ORDER BY id\", (doc_id,))\n",
    "    res_2 = cursor_psql.fetchall()\n",
    "    tickets_id = [it[0] for it in res_2 ]\n",
    "    cursor_psql.execute(\"SELECT id FROM coupon WHERE ticket_id = ANY( %s ) ORDER BY id\", (tickets_id,))\n",
    "    res_3 = cursor_psql.fetchall()\n",
    "    return res_1 + (res_2,) + (res_3,)\n",
    "\n",
    "%timeit get_data_sql(10000) \n",
    "get_data_sql(10000)"
   ]
  },
  {
   "cell_type": "code",
   "execution_count": 29,
   "metadata": {
    "collapsed": false
   },
   "outputs": [
    {
     "name": "stdout",
     "output_type": "stream",
     "text": [
      "1000 loops, best of 3: 308 µs per loop\n"
     ]
    },
    {
     "data": {
      "text/plain": [
       "[(10000, 'AF', 40000, 160000),\n",
       " (10000, 'AF', 40000, 160001),\n",
       " (10000, 'AF', 40000, 160002),\n",
       " (10000, 'AF', 40000, 160003),\n",
       " (10000, 'AF', 40001, 160004),\n",
       " (10000, 'AF', 40001, 160005),\n",
       " (10000, 'AF', 40001, 160006),\n",
       " (10000, 'AF', 40001, 160007),\n",
       " (10000, 'AF', 40002, 160008),\n",
       " (10000, 'AF', 40002, 160009),\n",
       " (10000, 'AF', 40002, 160010),\n",
       " (10000, 'AF', 40002, 160011),\n",
       " (10000, 'AF', 40003, 160012),\n",
       " (10000, 'AF', 40003, 160013),\n",
       " (10000, 'AF', 40003, 160014),\n",
       " (10000, 'AF', 40003, 160015)]"
      ]
     },
     "execution_count": 29,
     "metadata": {},
     "output_type": "execute_result"
    }
   ],
   "source": [
    "def get_data_sql_join(doc_id):\n",
    "    cursor_psql.execute(\"SELECT d.id, d.company, t.id, c.id FROM document as d \\\n",
    "                                                            JOIN ticket as t on d.id = t.document_id \\\n",
    "                                                            JOIN coupon as c on t.id = c.ticket_id \\\n",
    "                         WHERE d.id = %s\", (doc_id,))\n",
    "    return cursor_psql.fetchall()\n",
    "\n",
    "%timeit get_data_sql_join(10000) \n",
    "get_data_sql_join(10000)"
   ]
  },
  {
   "cell_type": "code",
   "execution_count": 30,
   "metadata": {
    "collapsed": false
   },
   "outputs": [
    {
     "name": "stdout",
     "output_type": "stream",
     "text": [
      "The slowest run took 5.01 times longer than the fastest. This could mean that an intermediate result is being cached \n",
      "10000 loops, best of 3: 152 µs per loop\n"
     ]
    },
    {
     "data": {
      "text/plain": [
       "(10000,\n",
       " 'AF',\n",
       " {'id': 10000,\n",
       "  'tickets': {'40000': {'coupons': [160000, 160001, 160002, 160003],\n",
       "    'id': 40000},\n",
       "   '40001': {'coupons': [160004, 160005, 160006, 160007], 'id': 40001},\n",
       "   '40002': {'coupons': [160008, 160009, 160010, 160011], 'id': 40002},\n",
       "   '40003': {'coupons': [160012, 160013, 160014, 160015], 'id': 40003}}})"
      ]
     },
     "execution_count": 30,
     "metadata": {},
     "output_type": "execute_result"
    }
   ],
   "source": [
    "def get_data_nosql(doc_id):\n",
    "    cursor_psql.execute(\"SELECT id, company, content FROM document_nosql WHERE id = %s\", (doc_id,))\n",
    "    return cursor_psql.fetchone()\n",
    "\n",
    "%timeit get_data_nosql(10000)\n",
    "get_data_nosql(10000)"
   ]
  },
  {
   "cell_type": "markdown",
   "metadata": {},
   "source": [
    "[mongodb](https://www.mongodb.org/) ([pymongo](https://api.mongodb.org/python/current/)) lui ,ne connait pas de colonnes, que des documents, dont le format est analogue à un objet json.  \n",
    "Cela se traduit par une très grande simplicité, pas besoin de déclarer les tables, ni les bases de données ..."
   ]
  },
  {
   "cell_type": "code",
   "execution_count": 31,
   "metadata": {
    "collapsed": false
   },
   "outputs": [
    {
     "name": "stdout",
     "output_type": "stream",
     "text": [
      "{'_id': ObjectId('5622750b1a73480a89cbbd9f'),\n",
      " 'grades': [20, 18, 7, 12],\n",
      " 'nom': 'Martin',\n",
      " 'prenom': 'Nicolas'}\n",
      "{'_id': ObjectId('5622750b1a73480a89cbbda0'),\n",
      " 'grades': [11, 5, 7, 12],\n",
      " 'nom': 'Dupont',\n",
      " 'prenom': 'Jean'}\n",
      "{'_id': ObjectId('5622750b1a73480a89cbbda1'),\n",
      " 'grades': [10, 10, 10, 10],\n",
      " 'nom': 'Martin',\n",
      " 'prenom': 'Gilles'}\n"
     ]
    }
   ],
   "source": [
    "import pymongo\n",
    "\n",
    "mongo_client = pymongo.MongoClient( 'localhost', 27017 )\n",
    "mongo_db = mongo_client.ensae_db\n",
    "\n",
    "mongo_db.table_for_ensae.delete_many( {} )\n",
    "mongo_db.table_for_ensae.insert_one( {'nom' : 'Martin', 'prenom' : 'Nicolas', 'grades': [20,18,7,12]} )\n",
    "mongo_db.table_for_ensae.insert_one( {'nom' : 'Dupont', 'prenom' : 'Jean', 'grades': [11,5,7,12]} )\n",
    "mongo_db.table_for_ensae.insert_one( {'nom' : 'Martin', 'prenom' : 'Gilles', 'grades': [10,10,10,10]} )\n",
    "\n",
    "user = mongo_db.table_for_ensae.find_one( {'nom' : 'Dupont'} )\n",
    "user_list = mongo_db.table_for_ensae.find( {} )\n",
    "_ = list(map( pprint.pprint, user_list ))"
   ]
  },
  {
   "cell_type": "markdown",
   "metadata": {},
   "source": [
    "Par contre certaines syntaxes usuelles en sql, ici le groupby, ont une écriture nettement plus complexes en mongodb."
   ]
  },
  {
   "cell_type": "code",
   "execution_count": 32,
   "metadata": {
    "collapsed": false
   },
   "outputs": [
    {
     "name": "stdout",
     "output_type": "stream",
     "text": [
      "[{'list': [{'_id': ObjectId('5622750b1a73480a89cbbd9f'),\n",
      "            'grades': [20, 18, 7, 12],\n",
      "            'nom': 'Martin',\n",
      "            'prenom': 'Nicolas'},\n",
      "           {'_id': ObjectId('5622750b1a73480a89cbbda1'),\n",
      "            'grades': [10, 10, 10, 10],\n",
      "            'nom': 'Martin',\n",
      "            'prenom': 'Gilles'}],\n",
      "  'nom': 'Martin'},\n",
      " {'list': [{'_id': ObjectId('5622750b1a73480a89cbbda0'),\n",
      "            'grades': [11, 5, 7, 12],\n",
      "            'nom': 'Dupont',\n",
      "            'prenom': 'Jean'}],\n",
      "  'nom': 'Dupont'}]\n"
     ]
    }
   ],
   "source": [
    "result = mongo_db.table_for_ensae.group(['nom'], \n",
    "                                        None,\n",
    "                                        {'list': []}, # initial\n",
    "                                        'function(obj, prev) {prev.list.push(obj)}')\n",
    "pprint.pprint( result )"
   ]
  },
  {
   "cell_type": "markdown",
   "metadata": {},
   "source": [
    "Mon retour :\n",
    "\n",
    "  - [mongodb](https://www.mongodb.org/) malgré sa simplicité d'utilisation peut être très gourmand en ressources (consommation d'espace disque et/ou mémoire 15 fois supérieure à [PostGreSql](http://www.postgresql.org/) pour les mêmes données). Je la déconseille pour une application personnelle.\n",
    "  - [Sqlite3](https://docs.python.org/3/library/sqlite3.html) est plus archaïque, mais le fait d'avoir une base de donnée contenue dans un fichier est très pratique pour certains usages (déploiement chez un client ou pour des élèves)\n",
    "  - [PostGreSql](http://www.postgresql.org/) me semble le plus robuste pour un usage en serveur personnel."
   ]
  },
  {
   "cell_type": "markdown",
   "metadata": {},
   "source": [
    "## Et les fichiers plats ?"
   ]
  },
  {
   "cell_type": "markdown",
   "metadata": {},
   "source": [
    "Vous pouvez tout à fait utiliser des fichiers plats.  \n",
    "Ils offrent beaucoup de simplicités d'utilisation.  \n",
    "Ils auront des performances potentiellement très proches pour une lecture complète. "
   ]
  },
  {
   "cell_type": "code",
   "execution_count": 33,
   "metadata": {
    "collapsed": false
   },
   "outputs": [
    {
     "name": "stdout",
     "output_type": "stream",
     "text": [
      "11943812\n"
     ]
    }
   ],
   "source": [
    "cursor_sqlite.execute(\"SELECT content FROM tw_users LIMIT 10000\" )\n",
    "\n",
    "with open(\"tw_users.json\", 'w') as f:\n",
    "    for it_user in cursor_sqlite:\n",
    "        f.write(it_user[0])\n",
    "        f.write(\"\\n\")\n",
    "        \n",
    "with open(\"tw_users.json\", 'r') as f:\n",
    "    nb_total_followers = 0\n",
    "    for it_user in f:\n",
    "        nb_total_followers += json.loads( it_user )[\"followers_count\"]\n",
    "\n",
    "print( nb_total_followers )"
   ]
  },
  {
   "cell_type": "markdown",
   "metadata": {},
   "source": [
    "## Et pandas ?\n",
    "\n",
    "Pandas attend lui des données plus ou moins structurées. Vous pouvez charger une base sous pandans avec la syntaxe suivante :"
   ]
  },
  {
   "cell_type": "code",
   "execution_count": 34,
   "metadata": {
    "collapsed": false
   },
   "outputs": [
    {
     "name": "stdout",
     "output_type": "stream",
     "text": [
      "           id     screen_name\n",
      "0    49191180         Romanet\n",
      "1    22691514          psayer\n",
      "2  1103159180  YannickBollore\n",
      "3  2865692548     yveslemasne\n",
      "4   413129652   bernardpivot1\n",
      "(3286027, 2)\n"
     ]
    }
   ],
   "source": [
    "import pandas as pd\n",
    "\n",
    "df = pd.read_sql(  \"SELECT id, screen_name from tw_users\", conn_sqlite )\n",
    "print( df.head() )\n",
    "print( df.shape )"
   ]
  },
  {
   "cell_type": "code",
   "execution_count": null,
   "metadata": {
    "collapsed": true
   },
   "outputs": [],
   "source": []
  }
 ],
 "metadata": {
  "kernelspec": {
   "display_name": "Python 3",
   "language": "python",
   "name": "python3"
  },
  "language_info": {
   "codemirror_mode": {
    "name": "ipython",
    "version": 3
   },
   "file_extension": ".py",
   "mimetype": "text/x-python",
   "name": "python",
   "nbconvert_exporter": "python",
   "pygments_lexer": "ipython3",
   "version": "3.4.3"
  }
 },
 "nbformat": 4,
 "nbformat_minor": 0
}
