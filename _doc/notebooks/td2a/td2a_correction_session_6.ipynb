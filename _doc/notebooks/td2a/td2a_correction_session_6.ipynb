{
 "metadata": {
  "name": "",
  "signature": "sha256:f51e2db8157b0765022a3d14d937362421af0b45ca07016c3f1ec615f3cdc8aa"
 },
 "nbformat": 3,
 "nbformat_minor": 0,
 "worksheets": [
  {
   "cells": [
    {
     "cell_type": "heading",
     "level": 1,
     "metadata": {},
     "source": [
      "TD 6 : Probl\u00e8mes et algorithmes (correction)"
     ]
    },
    {
     "cell_type": "markdown",
     "metadata": {},
     "source": [
      "**Plan**\n",
      "\n",
      "* [Exercice 1 : nombres premiers](#exo1)\n",
      "* [Exercice 2 : soudoyer les prisonniers](#exo2)\n",
      "* [Exercice 3 : watersheds](#exo3)\n",
      "* [Exercice 4 : s\u00e9paration des bagarreurs](#exo4)\n",
      "* [Exercice 5 : formation de bin\u00f4mes](#exo5)"
     ]
    },
    {
     "cell_type": "markdown",
     "metadata": {},
     "source": [
      "<h3 id=\"exo1\">Exercice 1 : nombres premiers</h3>\n",
      "\n",
      "[CodeForces 483A](http://codeforces.com/problemset/problem/483/A)\n",
      "\n",
      "On propose la conjecture suivante :\n",
      "    \n",
      "Si $(a,b)$ sont premiers entre eux et si $(b,c)$ sont premiers entre eux alors $(a,c)$ sont premiers entre eux.\n",
      "\n",
      "On veut montrer que cette conjecture est **fausse**. Pour cela, il faut trouver trois entiers $(a,b,c)$ pour lesquels l'\u00e9nonc\u00e9 est faux et on les cherche tels qu'il existe deux entiers $l<r$ :\n",
      "\n",
      "* $l \\leqslant a < b < c \\leqslant r$\n",
      "* $1 \\leqslant l \\leqslant r  \\leqslant  10^{18}$\n",
      "* $r - l \\leqslant 50$"
     ]
    },
    {
     "cell_type": "markdown",
     "metadata": {},
     "source": [
      "**Premi\u00e8re id\u00e9e :**\n",
      "\n",
      "On peut chercher $(a,b,c)$ de la forme $2n, 2n+1, 2n+2$. On peut trouver $n$ tel que $(2n,2n+1)$, $(2n+1,2n+2)$ soient premiers eux. $(2n, 2n+2)$ ne le seront pas. Exemple : 4,5,6."
     ]
    },
    {
     "cell_type": "markdown",
     "metadata": {},
     "source": [
      "**Seconde id\u00e9e : les trouver tous ?**\n",
      "    \n",
      "   "
     ]
    },
    {
     "cell_type": "code",
     "collapsed": false,
     "input": [],
     "language": "python",
     "metadata": {},
     "outputs": []
    },
    {
     "cell_type": "markdown",
     "metadata": {},
     "source": [
      "<h3 id=\"exo2\">Exercice 2 : soudoyer les prisonniers</h3>\n",
      "    \n",
      "Probl\u00e8me issu de [Google Code Jam 2009, 1C](https://code.google.com/codejam/contest/189252/dashboard#s=p2) \n",
      "\n",
      "\n",
      "In a kingdom there are prison cells (numbered 1 to P) built to form a straight line segment. Cells number i and i+1 are adjacent, and prisoners in adjacent cells are called \"neighbours.\" A wall with a window separates adjacent cells, and neighbours can communicate through that window.\n",
      "\n",
      "All prisoners live in peace until a prisoner is released. When that happens, the released prisoner's neighbours find out, and each communicates this to his other neighbour. That prisoner passes it on to his other neighbour, and so on until they reach a prisoner with no other neighbour (because he is in cell 1, or in cell P, or the other adjacent cell is empty). A prisoner who discovers that another prisoner has been released will angrily break everything in his cell, unless he is bribed with a gold coin. So, after releasing a prisoner in cell A, all prisoners housed on either side of cell A - until cell 1, cell P or an empty cell - need to be bribed.\n",
      "\n",
      "Assume that each prison cell is initially occupied by exactly one prisoner, and that only one prisoner can be released per day. Given the list of Q prisoners to be released in Q days, find the minimum total number of gold coins needed as bribes if the prisoners may be released in any order.\n",
      "\n",
      "Note that each bribe only has an effect for one day. If a prisoner who was bribed yesterday hears about another released prisoner today, then he needs to be bribed again."
     ]
    },
    {
     "cell_type": "code",
     "collapsed": false,
     "input": [],
     "language": "python",
     "metadata": {},
     "outputs": []
    },
    {
     "cell_type": "markdown",
     "metadata": {},
     "source": [
      "<h3 id=\"exo3\">Exercice 3 : watersheds</h3>\n",
      "\n",
      "[Google Code Jam 2009](https://code.google.com/codejam/contest/90101/dashboard#s=p1)\n",
      "                       \n",
      "Geologists sometimes divide an area of land into different regions based on where rainfall flows down to. These regions are called drainage basins.\n",
      "\n",
      "Given an elevation map (a 2-dimensional array of altitudes), label the map such that locations in the same drainage basin have the same label, subject to the following rules.\n",
      "\n",
      "* From each cell, water flows down to at most one of its 4 neighboring cells.\n",
      "* For each cell, if none of its 4 neighboring cells has a lower altitude than the current cell's, then the water does not flow, and the current cell is called a sink.\n",
      "* Otherwise, water flows from the current cell to the neighbor with the lowest altitude.\n",
      "*  In case of a tie, water will choose the first direction with the lowest altitude from this list: North, West, East, South.\n",
      "\n",
      "Every cell that drains directly or indirectly to the same sink is part of the same drainage basin. Each basin is labeled by a unique lower-case letter, in such a way that, when the rows of the map are concatenated from top to bottom, the resulting string is lexicographically smallest. (In particular, the basin of the most North-Western cell is always labeled 'a'.)"
     ]
    },
    {
     "cell_type": "code",
     "collapsed": false,
     "input": [],
     "language": "python",
     "metadata": {},
     "outputs": []
    },
    {
     "cell_type": "markdown",
     "metadata": {},
     "source": [
      "<h3 id=\"exo4\">Exercice 4 : s\u00e9paration des bagarreurs</h3>\n",
      "\n",
      "[Google Code Jam 2014](https://code.google.com/codejam/contest/2933486/dashboard#s=p0)\n",
      "\n",
      "As the leader of the Evil League of Evil, Bad Horse has a lot of problems to deal with. Most recently, there have been far too many arguments and far too much backstabbing in the League, so much so that Bad Horse has decided to split the league into two departments in order to separate troublesome members. Being the Thoroughbred of Sin, Bad Horse isn't about to spend his valuable time figuring out how to split the League members by himself. That what he's got you -- his loyal henchman -- for."
     ]
    },
    {
     "cell_type": "code",
     "collapsed": false,
     "input": [],
     "language": "python",
     "metadata": {},
     "outputs": []
    },
    {
     "cell_type": "markdown",
     "metadata": {},
     "source": [
      "<h3 id=\"exo5\">Exercice 5 : formation de bin\u00f4mes</h3>\n",
      "\n",
      "[UVa 10911](http://uva.onlinejudge.org/index.php?option=onlinejudge&page=show_problem&problem=1852)\n",
      "\n",
      "You have been given the job of forming the quiz teams for the next 'MCA CPCI Quiz Championship'. There are $2N$ students interested to participate and you have to form $N$ teams, each team consisting of two members. Since the members have to practice together, all the students want their member's house as near as possible. Let $x_1$ be the distance between the houses of group 1, $x_2$ be the distance between the houses of group 2 and so on. You have to make sure the summation ($x_1 + x_2 + x_3 + ... + x_n$) is minimized."
     ]
    },
    {
     "cell_type": "code",
     "collapsed": false,
     "input": [],
     "language": "python",
     "metadata": {},
     "outputs": []
    }
   ],
   "metadata": {}
  }
 ]
}