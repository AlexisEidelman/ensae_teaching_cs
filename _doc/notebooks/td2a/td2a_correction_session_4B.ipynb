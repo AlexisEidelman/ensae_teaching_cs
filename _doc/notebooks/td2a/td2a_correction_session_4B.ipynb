{
 "metadata": {
  "name": "",
  "signature": "sha256:45d787252c90b5b4080434885855790a6b520732f777bd0cdecfa38d4cf899e9"
 },
 "nbformat": 3,
 "nbformat_minor": 0,
 "worksheets": [
  {
   "cells": [
    {
     "cell_type": "heading",
     "level": 1,
     "metadata": {},
     "source": [
      "TD 4B : Code Jam (correction)"
     ]
    },
    {
     "cell_type": "markdown",
     "metadata": {},
     "source": [
      "**Plan**\n",
      "\n",
      "* [Probl\u00e8me de recouvrement](#recouv)\n",
      "* [D\u00e9coupage intelligent d'une base de donn\u00e9es](#decoup)"
     ]
    },
    {
     "cell_type": "markdown",
     "metadata": {},
     "source": [
      "<h3 id=\"recouv\">Probl\u00e8me de recouvrement</h3>"
     ]
    },
    {
     "cell_type": "markdown",
     "metadata": {},
     "source": [
      "Le probl\u00e8me est tir\u00e9 de [Google Jam 2008, round 1A](https://code.google.com/codejam/contest/32016/dashboard#s=p0).\n",
      "\n",
      "On consid\u00e8re deux tableaux $v=(v_1,..., v_n)$ et $w=(w_1,...,w_n)$. On souhaite le minimum : $$\\min_{\\sigma,\\sigma'} \\sum_{i=1}^{n} v_{\\sigma(i)} w_{\\sigma'(i)}$$ o\u00f9 $\\sigma,\\sigma'$ sont deux permutations de l'ensemble $[[1,...,n]]$.\n",
      "\n",
      "**Premi\u00e8re solution :**\n",
      "\n",
      "Elle est inspir\u00e9 de la [distance d'\u00e9dition](http://fr.wikipedia.org/wiki/Distance_de_Levenshtein). Si on doit recouvrir l'ensemble des entiers $[[0,n]]$$, on passe en revue tous les intervalles qui inclut 0. On construit deux tableaux :\n",
      "\n",
      "* $entier[i]$ : conserve le nombre minimum d'intervalles pour couvrir tous les entiers de $0$ \u00e0 $i$\n",
      "* $pred[i]$ : conserver le dernier intervalle utilis\u00e9 pour recouvrir $i$\n",
      "\n",
      "On commence par initialiser $entier[0]$ en passant en revue tous les intervalles qui inclut 0. Pour trouver $entier[i+1]$, on passe en revue tous les intervalles $[a,b]$, et on affirme que:\n",
      "\n",
      "$$entier[n+1] = \\min \\{ entier[a] + 1 \\text{ si } a \\leqslant n+1 \\leqslant b \\} $$\n",
      "\n",
      "Le tableau $pred[n+1]$ conserve l'intervalle qui minimise le probl\u00e8me de minimisation pr\u00e9c\u00e9dent.\n",
      "\n",
      "Une fois les tableaux $entier$ et $pred$ renseign\u00e9, on utilise le tableaux $pred$ pour retrouver la solution."
     ]
    },
    {
     "cell_type": "code",
     "collapsed": false,
     "input": [
      "def recouvrement(B, intervalles) :\n",
      "    # initialisation\n",
      "    entier = {}\n",
      "    pred   = {}\n",
      "    for a,b in intervalles:\n",
      "        if 0 <= a <= B :\n",
      "            for k in range(0,b+1):\n",
      "                entier[k] = 1\n",
      "                pred [k] = (a,b)\n",
      "    \n",
      "    # programmation dynamique\n",
      "    i = 0\n",
      "    while i <= B:\n",
      "        mini = None\n",
      "        best = None \n",
      "        for a,b in intervalles:\n",
      "            if a <= i <= b:\n",
      "                a = max(0,a)\n",
      "                for l in range(a, b+1):\n",
      "                    if l in entier:\n",
      "                        d = entier[l] + 1\n",
      "                        if mini is None or d < mini:\n",
      "                            mini = d\n",
      "                            best = (a,b)\n",
      "        entier[i] = d\n",
      "        pred[i] = best\n",
      "        i += 1\n",
      "        \n",
      "    # on retourne la solution\n",
      "    if B in entier:\n",
      "        sol = []\n",
      "        while B > 0:\n",
      "            p = pred[B]\n",
      "            m = max(0,p[0])\n",
      "            sol.append ( p )\n",
      "            B = p[0]\n",
      "        sol.reverse()\n",
      "        return sol\n",
      "    else:\n",
      "        # la solution n'existe pas\n",
      "        return None\n",
      "        \n",
      "b = 1\n",
      "intervalles = [ (-1, 0), (0,1), (0,0) ]\n",
      "print(\"sol=\",recouvrement(b, intervalles))"
     ],
     "language": "python",
     "metadata": {},
     "outputs": [
      {
       "output_type": "stream",
       "stream": "stdout",
       "text": [
        "sol= [(0, 1)]\n"
       ]
      }
     ],
     "prompt_number": 6
    },
    {
     "cell_type": "markdown",
     "metadata": {},
     "source": [
      "**Seconde solution :**\n",
      "\n",
      "Ce programme am\u00e9liore la solution pr\u00e9c\u00e9dente."
     ]
    },
    {
     "cell_type": "code",
     "collapsed": false,
     "input": [
      "# solution par Benjamin DONNOT\n",
      "def solve(B, intervalles):\n",
      "    res = []\n",
      "    upper = 0\n",
      "    while True:\n",
      "        aux = []\n",
      "        for x in intervalles :\n",
      "            if x[0] <= upper:\n",
      "                aux.append ( x )\n",
      "                \n",
      "        new_intervalles = []\n",
      "        for x in intervalles :\n",
      "            new_intervalles. append ( x )\n",
      "        intervalles = new_intervales \n",
      "        \n",
      "        if (aux ==[]) :\n",
      "            return '0\\n'\n",
      "        \n",
      "        mymax = max(aux,key=lambda x: x[1])\n",
      "        res.append(mymax)\n",
      "        upper = mymax[1]\n",
      "        if(upper >= B):\n",
      "            break\n",
      "            \n",
      "    return res\n",
      "\n",
      "b = 1\n",
      "intervalles = [ (-1, 0), (0,1), (0,0) ]\n",
      "print(\"sol=\",solve(b, intervalles))"
     ],
     "language": "python",
     "metadata": {},
     "outputs": [
      {
       "output_type": "stream",
       "stream": "stdout",
       "text": [
        "sol= [(0, 1)]\n"
       ]
      }
     ],
     "prompt_number": 9
    },
    {
     "cell_type": "markdown",
     "metadata": {},
     "source": [
      "Vous pouvez observer le d\u00e9roulement de ces deux solutions sur [PythonTutor](http://pythontutor.com/)."
     ]
    },
    {
     "cell_type": "markdown",
     "metadata": {},
     "source": [
      "<h3 id=\"decoup\">D\u00e9coupage intelligent d'une base de donn\u00e9es</h3>"
     ]
    },
    {
     "cell_type": "code",
     "collapsed": false,
     "input": [],
     "language": "python",
     "metadata": {},
     "outputs": []
    }
   ],
   "metadata": {}
  }
 ]
}