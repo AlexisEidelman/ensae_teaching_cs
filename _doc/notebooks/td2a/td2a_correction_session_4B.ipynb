{
 "metadata": {
  "name": "",
  "signature": "sha256:02de6190aa372b2f1426c226143da5e71f006578dc3d5e014f25c4d07625619b"
 },
 "nbformat": 3,
 "nbformat_minor": 0,
 "worksheets": [
  {
   "cells": [
    {
     "cell_type": "heading",
     "level": 1,
     "metadata": {},
     "source": [
      "TD 4B : Code Jam (correction)"
     ]
    },
    {
     "cell_type": "markdown",
     "metadata": {},
     "source": [
      "**Plan**\n",
      "\n",
      "* [Probl\u00e8me de recouvrement](#recouv)\n",
      "* [D\u00e9coupage intelligent d'une base de donn\u00e9es](#decoup)"
     ]
    },
    {
     "cell_type": "markdown",
     "metadata": {},
     "source": [
      "<h3 id=\"recouv\">Probl\u00e8me de recouvrement</h3>"
     ]
    },
    {
     "cell_type": "code",
     "collapsed": false,
     "input": [],
     "language": "python",
     "metadata": {},
     "outputs": []
    },
    {
     "cell_type": "markdown",
     "metadata": {},
     "source": [
      "<h3 id=\"decoup\">D\u00e9coupage intelligent d'une base de donn\u00e9es</h3>"
     ]
    },
    {
     "cell_type": "code",
     "collapsed": false,
     "input": [],
     "language": "python",
     "metadata": {},
     "outputs": []
    }
   ],
   "metadata": {}
  }
 ]
}