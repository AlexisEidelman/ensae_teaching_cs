{
 "metadata": {
  "name": "",
  "signature": "sha256:bf485cef3708ad01cc994ed198ea8315a86f605d8b0c0bc994a2a9136a5756e5"
 },
 "nbformat": 3,
 "nbformat_minor": 0,
 "worksheets": [
  {
   "cells": [
    {
     "cell_type": "heading",
     "level": 1,
     "metadata": {},
     "source": [
      "TD 2C : IPython et commandes magiques"
     ]
    },
    {
     "cell_type": "markdown",
     "metadata": {},
     "source": [
      "Pour \u00eatre inventif, il faut \u00eatre un peu paresseux. Cela explique parfois la syntaxe peu compr\u00e9hensible mais r\u00e9duite de certaines instructions. Cela explique sans doute aussi que IPython offre la possibilit\u00e9 de d\u00e9finir des [commandes magiques](http://ipython.org/ipython-doc/dev/interactive/tutorial.html) qu'on peut interpr\u00e9ter comme des raccourcis. ``%`` pour une ligne, ``%%`` pour une cellule.\n",
      "\n",
      "* [commandes magiques](#mc)\n",
      "* [Exercice 1 : votre propre magique commande](#exo1)\n",
      "\n",
      "\n",
      "<h3 id=\"mc\">Commande magique</h3>\n",
      "\n",
      "Ce sont des raccourcis. Si vous n'avez plus envie d'\u00e9crire le m\u00eame code tous les jours alors peut-\u00eatre que vous avez envie de cr\u00e9er une commande magique. C'est une fonctionnalit\u00e9 des notebooks IPython (et seulement IPython). L'exemple suivant cr\u00e9e une commande magique qui g\u00e9n\u00e8re une s\u00e9quence de nombre al\u00e9atoire dans le notebook. On l'appelle ``RND``. Cela se passe en trois \u00e9tapes :\n",
      "\n",
      "* impl\u00e9mentation de la commande\n",
      "* d\u00e9claration de la commande (pour IPython)\n",
      "* utilisation de la commande\n",
      "\n",
      "C'est l'objet des trois cellules qui suivent."
     ]
    },
    {
     "cell_type": "code",
     "collapsed": false,
     "input": [
      "import random\n",
      "from IPython.core.magic import Magics, magics_class, line_magic, cell_magic, line_cell_magic\n",
      " \n",
      "@magics_class\n",
      "class CustomMagics(Magics):\n",
      " \n",
      "    @line_magic\n",
      "    def RND(self, line):\n",
      "        return [ random.random() for i in range(0,int(line))]"
     ],
     "language": "python",
     "metadata": {},
     "outputs": [],
     "prompt_number": 12
    },
    {
     "cell_type": "code",
     "collapsed": false,
     "input": [
      "ip = get_ipython()\n",
      "ip.register_magics(CustomMagics)"
     ],
     "language": "python",
     "metadata": {},
     "outputs": [],
     "prompt_number": 13
    },
    {
     "cell_type": "code",
     "collapsed": false,
     "input": [
      "%RND 20"
     ],
     "language": "python",
     "metadata": {},
     "outputs": [
      {
       "metadata": {},
       "output_type": "pyout",
       "prompt_number": 14,
       "text": [
        "[0.7955181390132312,\n",
        " 0.6522438922975246,\n",
        " 0.4172441013138164,\n",
        " 0.4689399070823256,\n",
        " 0.9054041697753002,\n",
        " 0.21366818667915632,\n",
        " 0.8087327167842182,\n",
        " 0.6020574915103694,\n",
        " 0.7294568619712325,\n",
        " 0.6767525231998065,\n",
        " 0.33029345415401956,\n",
        " 0.8602752789163303,\n",
        " 0.6767579412686902,\n",
        " 0.11857366871499442,\n",
        " 0.6582448951610856,\n",
        " 0.5247925755334943,\n",
        " 0.6224147734783544,\n",
        " 0.19816476966942775,\n",
        " 0.3961061485555347,\n",
        " 0.4236338646181277]"
       ]
      }
     ],
     "prompt_number": 14
    },
    {
     "cell_type": "markdown",
     "metadata": {},
     "source": [
      "<h3 id=\"exo1\">Exercice 1 : votre propre magique commande</h3>\n",
      "\n",
      "Je voulais vous demander comme exercice d'\u00e9crire une commande magique qui [envoie un mail](http://en.wikibooks.org/wiki/Python_Programming/Email). On pourrait imaginer une commande qui r\u00e9cup\u00e8re les messages facebook. Finalement, ce sera une commande magique ``%plot`` qui dessine le graphe de vos r\u00eaves. Vous pourrez perfectionner votre commande magique en lisant cette page [Registering callbacks](http://ipython.org/ipython-doc/2/config/callbacks.html).\n",
      "\n",
      "**Remarque :** Si vous d\u00e9cidez d'automatiser l'envoi des mails, prenez garde de ne pas \u00e9crire votre mot de passe dans le code de votre programme surtout si son code est disponible sur [GitHub](https://github.com/). Il est pr\u00e9f\u00e9rable de le demander \u00e0 chaque fois ou de le stocker de fa\u00e7on crypt\u00e9e :\n",
      "\n",
      "* [django](https://github.com/django/django/blob/master/django/contrib/auth/hashers.py#L216)\n",
      "* [keyring](https://bitbucket.org/kang/python-keyring-lib)"
     ]
    },
    {
     "cell_type": "code",
     "collapsed": false,
     "input": [],
     "language": "python",
     "metadata": {},
     "outputs": []
    }
   ],
   "metadata": {}
  }
 ]
}