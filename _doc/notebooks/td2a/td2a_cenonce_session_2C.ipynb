{
 "cells": [
  {
   "cell_type": "markdown",
   "metadata": {},
   "source": [
    "# TD 2C : IPython et commandes magiques"
   ]
  },
  {
   "cell_type": "markdown",
   "metadata": {},
   "source": [
    "Pour être inventif, il faut être un peu paresseux. Cela explique parfois la syntaxe peu compréhensible mais réduite de certaines instructions. Cela explique sans doute aussi que IPython offre la possibilité de définir des [commandes magiques](http://ipython.org/ipython-doc/dev/interactive/tutorial.html) qu'on peut interpréter comme des raccourcis. ``%`` pour une ligne, ``%%`` pour une cellule.\n",
    "\n",
    "* [commandes magiques](#mc)\n",
    "* [Exercice 1 : votre propre magique commande](#exo1)\n",
    "\n",
    "\n",
    "<h3 id=\"mc\">Commande magique</h3>\n",
    "\n",
    "Ce sont des raccourcis. Si vous n'avez plus envie d'écrire le même code tous les jours alors peut-être que vous avez envie de créer une commande magique. C'est une fonctionnalité des notebooks IPython (et seulement IPython). L'exemple suivant crée une commande magique qui génère une séquence de nombre aléatoire dans le notebook. On l'appelle ``RND``. Cela se passe en trois étapes :\n",
    "\n",
    "* implémentation de la commande\n",
    "* déclaration de la commande (pour IPython)\n",
    "* utilisation de la commande\n",
    "\n",
    "C'est l'objet des trois cellules qui suivent."
   ]
  },
  {
   "cell_type": "code",
   "execution_count": 12,
   "metadata": {
    "collapsed": false
   },
   "outputs": [],
   "source": [
    "import random\n",
    "from IPython.core.magic import Magics, magics_class, line_magic, cell_magic, line_cell_magic\n",
    " \n",
    "@magics_class\n",
    "class CustomMagics(Magics):\n",
    " \n",
    "    @line_magic\n",
    "    def RND(self, line):\n",
    "        return [ random.random() for i in range(0,int(line))]"
   ]
  },
  {
   "cell_type": "code",
   "execution_count": 13,
   "metadata": {
    "collapsed": false
   },
   "outputs": [],
   "source": [
    "ip = get_ipython()\n",
    "ip.register_magics(CustomMagics)"
   ]
  },
  {
   "cell_type": "code",
   "execution_count": 14,
   "metadata": {
    "collapsed": false
   },
   "outputs": [
    {
     "data": {
      "text/plain": [
       "[0.7955181390132312,\n",
       " 0.6522438922975246,\n",
       " 0.4172441013138164,\n",
       " 0.4689399070823256,\n",
       " 0.9054041697753002,\n",
       " 0.21366818667915632,\n",
       " 0.8087327167842182,\n",
       " 0.6020574915103694,\n",
       " 0.7294568619712325,\n",
       " 0.6767525231998065,\n",
       " 0.33029345415401956,\n",
       " 0.8602752789163303,\n",
       " 0.6767579412686902,\n",
       " 0.11857366871499442,\n",
       " 0.6582448951610856,\n",
       " 0.5247925755334943,\n",
       " 0.6224147734783544,\n",
       " 0.19816476966942775,\n",
       " 0.3961061485555347,\n",
       " 0.4236338646181277]"
      ]
     },
     "execution_count": 14,
     "metadata": {},
     "output_type": "execute_result"
    }
   ],
   "source": [
    "%RND 20"
   ]
  },
  {
   "cell_type": "markdown",
   "metadata": {},
   "source": [
    "<h3 id=\"exo1\">Exercice 1 : votre propre magique commande</h3>\n",
    "\n",
    "Je voulais vous demander comme exercice d'écrire une commande magique qui [envoie un mail](http://en.wikibooks.org/wiki/Python_Programming/Email). On pourrait imaginer une commande qui récupère les messages facebook. Finalement, ce sera une commande magique ``%plot`` qui dessine le graphe de vos rêves. Vous pourrez perfectionner votre commande magique en lisant cette page [Registering callbacks](http://ipython.org/ipython-doc/2/config/callbacks.html).\n",
    "\n",
    "**Remarque :** Si vous décidez d'automatiser l'envoi des mails, prenez garde de ne pas écrire votre mot de passe dans le code de votre programme surtout si son code est disponible sur [GitHub](https://github.com/). Il est préférable de le demander à chaque fois ou de le stocker de façon cryptée :\n",
    "\n",
    "* [django](https://github.com/django/django/blob/master/django/contrib/auth/hashers.py#L216)\n",
    "* [keyring](https://bitbucket.org/kang/python-keyring-lib)"
   ]
  },
  {
   "cell_type": "code",
   "execution_count": null,
   "metadata": {
    "collapsed": false
   },
   "outputs": [],
   "source": []
  }
 ],
 "metadata": {},
 "nbformat": 4,
 "nbformat_minor": 0
}