{
 "metadata": {
  "name": "",
  "signature": "sha256:f3257f19e75607bbef5f29babbf37a6604c92dedca485a00b10fd1558d6de3a6"
 },
 "nbformat": 3,
 "nbformat_minor": 0,
 "worksheets": [
  {
   "cells": [
    {
     "cell_type": "heading",
     "level": 1,
     "metadata": {},
     "source": [
      "TD 10 : Python pour les Data Scientist"
     ]
    },
    {
     "cell_type": "markdown",
     "metadata": {},
     "source": [
      "Plan\n",
      "\n",
      "* [Trouver chaussure \u00e0 ses stats](#intro)\n",
      "* [DataFrame (pandas)](#df)\n",
      "* [Manipuler un DataFrame](#df2)\n",
      "* [Dates](#date)\n",
      "* [Matrix, Array (numpy)](#mat)\n",
      "* [Calcul matriciel](#mat2)\n",
      "\n",
      "\n",
      "<h2 id=\"intro\">Trouver chaussure \u00e0 ses stats</h2>\n",
      "\n",
      "La programmation est omni-pr\u00e9sente lorsqu'on manipule des donn\u00e9es. On leur applique des traitements parfois standards, souvent adapt\u00e9s pour la circonstance. On souhaite toujours programmer le moins possible mais aussi ne pas avoir \u00e0 r\u00e9apprendre un langage \u00e0 chaque fois qu'on doit manipuler les donn\u00e9es.\n",
      "\n",
      "Le logiciel [MATLAB](http://www.mathworks.fr/products/matlab/) a propos\u00e9 voici 30 ans un premier environnement de travail facilitant le calcul matriciel et ce standard s'est impos\u00e9 depuis. Comme *MATLAB* est un logiciel payant, des \u00e9quivalents open source et gratuits ont \u00e9t\u00e9 d\u00e9velopp\u00e9s. Ils proposent tous le calcul matriciel, la possibilit\u00e9 de visualiser, un environnement de d\u00e9veloppement. Ils diff\u00e9rent pas des performances diff\u00e9rentes et des \u00e9ventails d'extensions diff\u00e9rentes. \n",
      "\n",
      "* [R](http://www.r-project.org/) : la r\u00e9f\u00e9rence pour les statisticiens, il est utilis\u00e9 par tous les chercheurs dans ce domaine.\n",
      "* [SciLab](http://www.scilab.org/fr) : d\u00e9velopp\u00e9 par l'[INRIA](http://www.inria.fr/).\n",
      "* [Octave](http://www.gnu.org/software/octave/) : clone open source de *MATLAB*, il n'inclut pas autant de librairies mais il est gratuit.\n",
      "* [Julia](http://julialang.org/) : c'est le plus jeune, il est plus rapide mais ses librairies sont moins nombreuses.\n",
      "\n",
      "Ils sont tous performants en qui concerne le calcul num\u00e9rique, ils le sont beaucoup moins lorsqu'il s'agit de faire des traitements qui ne sont pas num\u00e9riques (traiter du texte par exemple) car ils n'ont pas \u00e9t\u00e9 pr\u00e9vus pour cela \u00e0 la base (\u00e0 l'exception de Julia peut \u00eatre qui est plus jeune [Python v. Clojure v. Julia](http://matthewrocklin.com/blog/work/2014/01/13/Text-Benchmarks). Le langage Python est devenu depuis 2012 une alternative int\u00e9ressante pour trois raisons :\n",
      "\n",
      "* Il propose les m\u00eame fonctionnalit\u00e9s de base (calcul matriciel, graphiques, environnement).\n",
      "* Python est plus pratique pour tout ce qui n'est pas num\u00e9rique (fichiers, web, server web, SQL, ...).\n",
      "* La plupart des librairies connues et \u00e9crites en C++ ont \u00e9t\u00e9 port\u00e9e sous Python.\n",
      "\n",
      "Un inconv\u00e9nient peut-\u00eatre est qu'il faut installer plusieurs extensions avant de pouvoir commencer \u00e0 travailler. Vous pouvez soit utiliser la distribution [WinPython](http://winpython.sourceforge.net/) ou installer les modules suivants (avant leurs d\u00e9pendances) :\n",
      "\n",
      "* [numpy](http://www.numpy.org/) : calcul matriciel\n",
      "* [pandas](http://pandas.pydata.org/) : DataFrame\n",
      "* [ipython](http://ipython.org/) : notebooks (comme celui-ci)\n",
      "* [matplotlib](http://matplotlib.org/) : graphiques\n",
      "* [scikit-learn](http://scikit-learn.org/stable/) : machine learning, statistique descriptive\n",
      "\n",
      "Optionnels :\n",
      "\n",
      "* [ggplot](http://ggplot.yhathq.com/) : extension tr\u00e8s populaire sur *R* et port\u00e9e sur Python\n",
      "* [Spyder](https://code.google.com/p/spyderlib/) : environnement type R, MATLAB, ...\n",
      "* [scipy](http://www.scipy.org/) : autres traitements num\u00e9riques (voir [NumPy vs. SciPy vs. other packages](http://www.scipy.org/scipylib/faq.html#what-is-the-difference-between-numpy-and-scipy))\n",
      "* [cvxopt](http://cvxopt.org/) : optimisation quadratique sous contrainte\n",
      "* [Pillow](https://pypi.python.org/pypi/Pillow) : traitement d'image\n",
      "* [PyQt4](https://wiki.python.org/moin/PyQt4) : interface graphique\n",
      "\n",
      "\n",
      "Les environnements Python \u00e9voluent tr\u00e8s vite, les modules mentionn\u00e9s ici sont tous maintenus mais il eut en surgir de nouveau tr\u00e8s rapidement. Quelques environnements \u00e0 suivre :\n",
      "\n",
      "* [PyTools](http://pytools.codeplex.com/) : environnement de d\u00e9veloppement pour Visual Studio\n",
      "* [PyCharm](http://www.jetbrains.com/pycharm/) : n'inclut pas les graphiques mais assez agr\u00e9able pour programmer\n",
      "* [IEP](http://www.iep-project.org/index.html) : \u00e9crit en Python\n",
      "* [PyDev](http://pydev.org/) : extension pour [Eclipse](http://www.eclipse.org/)\n",
      "\n",
      "Si vous ne voulez pas programmer, il existe des alternatives. C'est assez performant sur de petits jeux de donn\u00e9es mais cela devient plus complexe d\u00e8s qu'on veut programmer car le code doit tenir compte des sp\u00e9cificit\u00e9s de l'outil. \n",
      "\n",
      "* [Orange](http://orange.biolab.si/) : \u00e9crit en Python\n",
      "* [Weka](http://www.cs.waikato.ac.nz/ml/weka/) : \u00e9crit en Java (le pionnier)\n",
      "* [RapidMiner](http://rapidminer.com/) : version gratuite et payante\n",
      "\n",
      "C'est parfois plus pratique pour commencer mais mal commode si on veut automatiser un traitrment pour r\u00e9p\u00e9ter la m\u00eame t\u00e2che de fa\u00e7on r\u00e9guli\u00e8re.\n",
      "\n",
      "Pour les travaux pratiques \u00e0 l'ENSAE, jai choisi les [notebook](http://ipython.org/notebook.html) : c'est une page blanche o\u00f9 on peut m\u00e9langer texte, \u00e9quations, graphiques, code et ex\u00e9cution de code.\n",
      "\n",
      "\n",
      "<h2 id=\"df\">DataFrame (pandas)</h2>\n",
      "\n",
      "Un [Data Frame](http://en.wikipedia.org/wiki/Data_frame) est un objet qui est pr\u00e9sent dans la plupart des logiciels de traitements de donn\u00e9es, c'est une **matrice**, chaque colonne est de m\u00eame type (nombre, dates, texte), elle peut contenir des valeurs manquantes. On peut consid\u00e9rer chaque colonne comme les variables d'une table."
     ]
    },
    {
     "cell_type": "code",
     "collapsed": false,
     "input": [
      "import pandas\n",
      "l = [ { \"date\":\"2014-06-22\", \"prix\":220.0 }, \n",
      "      { \"date\":\"2014-06-23\", \"prix\":221.0 },]\n",
      "df = pandas.DataFrame(l)\n",
      "df"
     ],
     "language": "python",
     "metadata": {},
     "outputs": [
      {
       "html": [
        "<div style=\"max-height:1000px;max-width:1500px;overflow:auto;\">\n",
        "<table border=\"1\" class=\"dataframe\">\n",
        "  <thead>\n",
        "    <tr style=\"text-align: right;\">\n",
        "      <th></th>\n",
        "      <th>date</th>\n",
        "      <th>prix</th>\n",
        "    </tr>\n",
        "  </thead>\n",
        "  <tbody>\n",
        "    <tr>\n",
        "      <th>0</th>\n",
        "      <td> 2014-06-22</td>\n",
        "      <td> 220</td>\n",
        "    </tr>\n",
        "    <tr>\n",
        "      <th>1</th>\n",
        "      <td> 2014-06-23</td>\n",
        "      <td> 221</td>\n",
        "    </tr>\n",
        "  </tbody>\n",
        "</table>\n",
        "<p>2 rows \u00d7 2 columns</p>\n",
        "</div>"
       ],
       "metadata": {},
       "output_type": "pyout",
       "prompt_number": 2,
       "text": [
        "         date  prix\n",
        "0  2014-06-22   220\n",
        "1  2014-06-23   221\n",
        "\n",
        "[2 rows x 2 columns]"
       ]
      }
     ],
     "prompt_number": 2
    },
    {
     "cell_type": "markdown",
     "metadata": {},
     "source": [
      "Avec une valeur manquante :"
     ]
    },
    {
     "cell_type": "code",
     "collapsed": false,
     "input": [
      "l = [ { \"date\":\"2014-06-22\", \"prix\":220.0 }, { \"date\":\"2014-06-23\",  },]\n",
      "df = pandas.DataFrame(l)\n",
      "df"
     ],
     "language": "python",
     "metadata": {},
     "outputs": [
      {
       "html": [
        "<div style=\"max-height:1000px;max-width:1500px;overflow:auto;\">\n",
        "<table border=\"1\" class=\"dataframe\">\n",
        "  <thead>\n",
        "    <tr style=\"text-align: right;\">\n",
        "      <th></th>\n",
        "      <th>date</th>\n",
        "      <th>prix</th>\n",
        "    </tr>\n",
        "  </thead>\n",
        "  <tbody>\n",
        "    <tr>\n",
        "      <th>0</th>\n",
        "      <td> 2014-06-22</td>\n",
        "      <td> 220</td>\n",
        "    </tr>\n",
        "    <tr>\n",
        "      <th>1</th>\n",
        "      <td> 2014-06-23</td>\n",
        "      <td> NaN</td>\n",
        "    </tr>\n",
        "  </tbody>\n",
        "</table>\n",
        "<p>2 rows \u00d7 2 columns</p>\n",
        "</div>"
       ],
       "metadata": {},
       "output_type": "pyout",
       "prompt_number": 3,
       "text": [
        "         date  prix\n",
        "0  2014-06-22   220\n",
        "1  2014-06-23   NaN\n",
        "\n",
        "[2 rows x 2 columns]"
       ]
      }
     ],
     "prompt_number": 3
    },
    {
     "cell_type": "markdown",
     "metadata": {},
     "source": [
      "On extrait la variable ``prix`` :"
     ]
    },
    {
     "cell_type": "code",
     "collapsed": false,
     "input": [
      "df.prix"
     ],
     "language": "python",
     "metadata": {},
     "outputs": [
      {
       "metadata": {},
       "output_type": "pyout",
       "prompt_number": 5,
       "text": [
        "0    220\n",
        "1    NaN\n",
        "Name: prix, dtype: float64"
       ]
      }
     ],
     "prompt_number": 5
    },
    {
     "cell_type": "code",
     "collapsed": false,
     "input": [
      "#ou\n",
      "df[\"prix\"]"
     ],
     "language": "python",
     "metadata": {},
     "outputs": [
      {
       "metadata": {},
       "output_type": "pyout",
       "prompt_number": 7,
       "text": [
        "0    220\n",
        "1    NaN\n",
        "Name: prix, dtype: float64"
       ]
      }
     ],
     "prompt_number": 7
    },
    {
     "cell_type": "code",
     "collapsed": false,
     "input": [],
     "language": "python",
     "metadata": {},
     "outputs": []
    }
   ],
   "metadata": {}
  }
 ]
}