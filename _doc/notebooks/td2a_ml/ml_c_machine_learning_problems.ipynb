{
  "cells": [
    {
      "cell_type": "markdown",
      "metadata": {},
      "source": [
        "# Probl\u00e8mes de machine learning"
      ]
    },
    {
      "cell_type": "code",
      "execution_count": null,
      "metadata": {
        "collapsed": false
      },
      "outputs": [
        {
          "data": {
            "text/html": [
              "<div id=\"my_id_menu_nb\">run previous cell, wait for 2 seconds</div>\n",
              "<script>\n",
              "function repeat_indent_string(n){\n",
              "    var a = \"\" ;\n",
              "    for ( ; n > 0 ; --n) {\n",
              "        a += \"    \";\n",
              "    }\n",
              "    return a;\n",
              "}\n",
              "var update_menu_string = function(begin, lfirst, llast, sformat, send, keep_item) {\n",
              "    var anchors = document.getElementsByClassName(\"section\");\n",
              "    if (anchors.length == 0) {\n",
              "        anchors = document.getElementsByClassName(\"text_cell_render rendered_html\");\n",
              "    }\n",
              "    var i,t;\n",
              "    var text_menu = begin;\n",
              "    var text_memo = \"<pre>\\nlength:\" + anchors.length + \"\\n\";\n",
              "    var ind = \"\";\n",
              "    var memo_level = 1;\n",
              "    var href;\n",
              "    var tags = [];\n",
              "    var main_item = 0;\n",
              "    for (i = 0; i <= llast; i++) {\n",
              "        tags.push(\"h\" + i);\n",
              "    }\n",
              "\n",
              "    for (i = 0; i < anchors.length; i++) {\n",
              "        text_memo += \"**\" + anchors[i].id + \"--\\n\";\n",
              "\n",
              "        var child = null;\n",
              "        for(t = 0; t < tags.length; t++) {\n",
              "            var r = anchors[i].getElementsByTagName(tags[t]);\n",
              "            if (r.length > 0) {\n",
              "child = r[0];\n",
              "break;\n",
              "            }\n",
              "        }\n",
              "        if (child == null){\n",
              "            text_memo += \"null\\n\";\n",
              "            continue;\n",
              "        }\n",
              "        if (anchors[i].hasAttribute(\"id\")) {\n",
              "            // when converted in RST\n",
              "            href = anchors[i].id;\n",
              "            text_memo += \"#1-\" + href;\n",
              "            // passer \u00e0 child suivant (le chercher)\n",
              "        }\n",
              "        else if (child.hasAttribute(\"id\")) {\n",
              "            // in a notebook\n",
              "            href = child.id;\n",
              "            text_memo += \"#2-\" + href;\n",
              "        }\n",
              "        else {\n",
              "            text_memo += \"#3-\" + \"*\" + \"\\n\";\n",
              "            continue;\n",
              "        }\n",
              "        var title = child.textContent;\n",
              "        var level = parseInt(child.tagName.substring(1,2));\n",
              "\n",
              "        text_memo += \"--\" + level + \"?\" + lfirst + \"--\" + title + \"\\n\";\n",
              "\n",
              "        if ((level < lfirst) || (level > llast)) {\n",
              "            continue ;\n",
              "        }\n",
              "        if (title.endsWith('\u00b6')) {\n",
              "            title = title.substring(0,title.length-1).replace(\"<\", \"&lt;\").replace(\">\", \"&gt;\").replace(\"&\", \"&amp;\")\n",
              "        }\n",
              "\n",
              "        if (title.length == 0) {\n",
              "            continue;\n",
              "        }\n",
              "\n",
              "        while (level < memo_level) {\n",
              "            text_menu += \"</ul>\\n\";\n",
              "            memo_level -= 1;\n",
              "        }\n",
              "        if (level == lfirst) {\n",
              "            main_item += 1;\n",
              "        }\n",
              "        if (keep_item != -1 && main_item != keep_item + 1) {\n",
              "            // alert(main_item + \" - \" + level + \" - \" + keep_item);\n",
              "            continue;\n",
              "        }\n",
              "        while (level > memo_level) {\n",
              "            text_menu += \"<ul>\\n\";\n",
              "            memo_level += 1;\n",
              "        }\n",
              "        text_menu += repeat_indent_string(level-2) + sformat.replace(\"__HREF__\", href).replace(\"__TITLE__\", title);\n",
              "    }\n",
              "    while (1 < memo_level) {\n",
              "        text_menu += \"</ul>\\n\";\n",
              "        memo_level -= 1;\n",
              "    }\n",
              "    text_menu += send;\n",
              "    //text_menu += \"\\n\" + text_memo;\n",
              "    return text_menu;\n",
              "};\n",
              "var update_menu = function() {\n",
              "    var sbegin = \"\";\n",
              "    var sformat = '<li><a href=\"#__HREF__\">__TITLE__</a></li>';\n",
              "    var send = \"\";\n",
              "    var keep_item = -1;\n",
              "    var text_menu = update_menu_string(sbegin, 2, 3, sformat, send, keep_item);\n",
              "    var menu = document.getElementById(\"my_id_menu_nb\");\n",
              "    menu.innerHTML=text_menu;\n",
              "};\n",
              "window.setTimeout(update_menu,2000);\n",
              "            </script>"
            ],
            "text/plain": [
              "<IPython.core.display.HTML object>"
            ]
          },
          "execution_count": null,
          "metadata": {},
          "output_type": "execute_result"
        }
      ],
      "source": [
        "from jyquickhelper import add_notebook_menu\n",
        "add_notebook_menu(last_level=3)"
      ]
    },
    {
      "cell_type": "code",
      "execution_count": null,
      "metadata": {
        "collapsed": true
      },
      "outputs": [],
      "source": [
        "%matplotlib inline\n",
        "import matplotlib.pyplot as plt\n",
        "plt.style.use('ggplot')"
      ]
    },
    {
      "cell_type": "markdown",
      "metadata": {},
      "source": [
        "Dans les exemples qui suivent :\n",
        "\n",
        "* $e(X,Y)$ est une fonction d'erreur\n",
        "* $\\Theta$ et un jeu de coefficients\n",
        "* $f(\\Theta, X_i)$ la pr\u00e9diction pour l'observation $i$, $\\Theta$ repr\u00e9sente les param\u00e8tres\n",
        "* $(X_i, Y_i)$ est un jeu de donn\u00e9es\n",
        "\n",
        "**Note**\n",
        "\n",
        "Les exemples suivants ne divisent pas les donn\u00e9es en base d'apprentissage / base de test. Les mod\u00e8les sont appris et test\u00e9s sur les m\u00eames donn\u00e9es ce qu'on ne fait jamais en pratique. La r\u00e9solution des probl\u00e8mes d'optimisation suppose que les donn\u00e9es sont homog\u00e8nes (elles suivent la m\u00eame lois) et ind\u00e9pendantes."
      ]
    },
    {
      "cell_type": "markdown",
      "metadata": {},
      "source": [
        "## Supervis\u00e9s"
      ]
    },
    {
      "cell_type": "markdown",
      "metadata": {},
      "source": [
        "### Regr\u00e9ssion"
      ]
    },
    {
      "cell_type": "code",
      "execution_count": null,
      "metadata": {
        "collapsed": false
      },
      "outputs": [
        {
          "data": {
            "text/html": [
              "<div id=\"reg0\">run previous cell, wait for 2 seconds</div>\n",
              "<script>\n",
              "function repeat_indent_string(n){\n",
              "    var a = \"\" ;\n",
              "    for ( ; n > 0 ; --n) {\n",
              "        a += \"    \";\n",
              "    }\n",
              "    return a;\n",
              "}\n",
              "var update_menu_string = function(begin, lfirst, llast, sformat, send, keep_item) {\n",
              "    var anchors = document.getElementsByClassName(\"section\");\n",
              "    if (anchors.length == 0) {\n",
              "        anchors = document.getElementsByClassName(\"text_cell_render rendered_html\");\n",
              "    }\n",
              "    var i,t;\n",
              "    var text_menu = begin;\n",
              "    var text_memo = \"<pre>\\nlength:\" + anchors.length + \"\\n\";\n",
              "    var ind = \"\";\n",
              "    var memo_level = 1;\n",
              "    var href;\n",
              "    var tags = [];\n",
              "    var main_item = 0;\n",
              "    for (i = 0; i <= llast; i++) {\n",
              "        tags.push(\"h\" + i);\n",
              "    }\n",
              "\n",
              "    for (i = 0; i < anchors.length; i++) {\n",
              "        text_memo += \"**\" + anchors[i].id + \"--\\n\";\n",
              "\n",
              "        var child = null;\n",
              "        for(t = 0; t < tags.length; t++) {\n",
              "            var r = anchors[i].getElementsByTagName(tags[t]);\n",
              "            if (r.length > 0) {\n",
              "child = r[0];\n",
              "break;\n",
              "            }\n",
              "        }\n",
              "        if (child == null){\n",
              "            text_memo += \"null\\n\";\n",
              "            continue;\n",
              "        }\n",
              "        if (anchors[i].hasAttribute(\"id\")) {\n",
              "            // when converted in RST\n",
              "            href = anchors[i].id;\n",
              "            text_memo += \"#1-\" + href;\n",
              "            // passer \u00e0 child suivant (le chercher)\n",
              "        }\n",
              "        else if (child.hasAttribute(\"id\")) {\n",
              "            // in a notebook\n",
              "            href = child.id;\n",
              "            text_memo += \"#2-\" + href;\n",
              "        }\n",
              "        else {\n",
              "            text_memo += \"#3-\" + \"*\" + \"\\n\";\n",
              "            continue;\n",
              "        }\n",
              "        var title = child.textContent;\n",
              "        var level = parseInt(child.tagName.substring(1,2));\n",
              "\n",
              "        text_memo += \"--\" + level + \"?\" + lfirst + \"--\" + title + \"\\n\";\n",
              "\n",
              "        if ((level < lfirst) || (level > llast)) {\n",
              "            continue ;\n",
              "        }\n",
              "        if (title.endsWith('\u00b6')) {\n",
              "            title = title.substring(0,title.length-1).replace(\"<\", \"&lt;\").replace(\">\", \"&gt;\").replace(\"&\", \"&amp;\")\n",
              "        }\n",
              "\n",
              "        if (title.length == 0) {\n",
              "            continue;\n",
              "        }\n",
              "\n",
              "        while (level < memo_level) {\n",
              "            text_menu += \"</ul>\\n\";\n",
              "            memo_level -= 1;\n",
              "        }\n",
              "        if (level == lfirst) {\n",
              "            main_item += 1;\n",
              "        }\n",
              "        if (keep_item != -1 && main_item != keep_item + 1) {\n",
              "            // alert(main_item + \" - \" + level + \" - \" + keep_item);\n",
              "            continue;\n",
              "        }\n",
              "        while (level > memo_level) {\n",
              "            text_menu += \"<ul>\\n\";\n",
              "            memo_level += 1;\n",
              "        }\n",
              "        text_menu += repeat_indent_string(level-2) + sformat.replace(\"__HREF__\", href).replace(\"__TITLE__\", title);\n",
              "    }\n",
              "    while (1 < memo_level) {\n",
              "        text_menu += \"</ul>\\n\";\n",
              "        memo_level -= 1;\n",
              "    }\n",
              "    text_menu += send;\n",
              "    //text_menu += \"\\n\" + text_memo;\n",
              "    return text_menu;\n",
              "};\n",
              "var update_menu = function() {\n",
              "    var sbegin = \"\";\n",
              "    var sformat = '<li><a href=\"#__HREF__\">__TITLE__</a></li>';\n",
              "    var send = \"\";\n",
              "    var keep_item = 0;\n",
              "    var text_menu = update_menu_string(sbegin, 3, 4, sformat, send, keep_item);\n",
              "    var menu = document.getElementById(\"reg0\");\n",
              "    menu.innerHTML=text_menu;\n",
              "};\n",
              "window.setTimeout(update_menu,2000);\n",
              "            </script>"
            ],
            "text/plain": [
              "<IPython.core.display.HTML object>"
            ]
          },
          "execution_count": null,
          "metadata": {},
          "output_type": "execute_result"
        }
      ],
      "source": [
        "add_notebook_menu(menu_id=\"reg\", first_level=3, last_level=4, keep_item=0)"
      ]
    },
    {
      "cell_type": "markdown",
      "metadata": {},
      "source": [
        "#### donn\u00e9es \n",
        "\n",
        "$(X_i, Y_i)$, avec $X_i \\in \\mathbb{R}$ et $Y_i \\in \\mathbb{R}$."
      ]
    },
    {
      "cell_type": "markdown",
      "metadata": {},
      "source": [
        "#### sortie\n",
        "\n",
        "$\\hat{Y_i} \\in \\mathbb{R}$, $\\hat{Y_i} = f(\\Theta, X_i)$"
      ]
    },
    {
      "cell_type": "markdown",
      "metadata": {},
      "source": [
        "#### optimisation\n",
        "\n",
        "$$\n",
        "\\min_\\Theta \\sum_i e(Y_i, f(\\Theta, X_i))\n",
        "$$\n",
        "\n",
        "Dans le cas standard, la fonction d'erreur est quadratique : $\\min_\\Theta \\sum_i (Y_i - f(\\Theta, X_i))^2$ et correspond au probl\u00e8me de mod\u00e9lisation $Y \\sim f(\\Theta, X_i) + \\epsilon$ avec $\\epsilon$ bruit gaussien."
      ]
    },
    {
      "cell_type": "markdown",
      "metadata": {},
      "source": [
        "#### \u00e9valuation\n",
        "\n",
        "$$\n",
        "r^2 = 1 - \\frac{ \\sum_i (Y_i - f(\\Theta, X_i))^2 } { \\sum_i (Y_i - \\bar{Y})^2 } \\leqslant 1 \\text{ ou } 1 - \\frac{ \\sum_i e(Y_i, f(\\Theta, X_i) } { \\sum_i e(Y_i, \\hat{Y}) }\n",
        "$$"
      ]
    },
    {
      "cell_type": "markdown",
      "metadata": {},
      "source": [
        "#### exemple"
      ]
    },
    {
      "cell_type": "code",
      "execution_count": null,
      "metadata": {
        "collapsed": true
      },
      "outputs": [],
      "source": [
        "import numpy.random\n",
        "X = numpy.random.random((100, 1))\n",
        "xx = numpy.random.normal(size=(100, 1)) / 10\n",
        "Y = X*X + xx"
      ]
    },
    {
      "cell_type": "code",
      "execution_count": null,
      "metadata": {
        "collapsed": false
      },
      "outputs": [
        {
          "data": {
            "text/plain": [
              "<matplotlib.legend.Legend at 0x1abf563e5f8>"
            ]
          },
          "execution_count": null,
          "metadata": {},
          "output_type": "execute_result"
        },
        {
          "data": {
            "image/png": "[encoded data removed]",
            "text/plain": [
              "<matplotlib.figure.Figure at 0x1abf55cbac8>"
            ]
          },
          "metadata": {},
          "output_type": "display_data"
        }
      ],
      "source": [
        "fig, ax = plt.subplots()\n",
        "ax.plot(X, Y, \".\", label=\"data\")\n",
        "ax.legend()"
      ]
    },
    {
      "cell_type": "code",
      "execution_count": null,
      "metadata": {
        "collapsed": false
      },
      "outputs": [],
      "source": [
        "# model 1\n",
        "from sklearn.linear_model import LinearRegression\n",
        "clr = LinearRegression()\n",
        "clr.fit(X, Y)\n",
        "Yp = clr.predict(X)"
      ]
    },
    {
      "cell_type": "code",
      "execution_count": null,
      "metadata": {
        "collapsed": false
      },
      "outputs": [],
      "source": [
        "# model 2\n",
        "from sklearn.tree import DecisionTreeRegressor\n",
        "clr2 = DecisionTreeRegressor(max_depth=4)\n",
        "clr2.fit(X, Y)\n",
        "Yp2 = clr2.predict(X)"
      ]
    },
    {
      "cell_type": "code",
      "execution_count": null,
      "metadata": {
        "collapsed": false
      },
      "outputs": [
        {
          "data": {
            "text/plain": [
              "<matplotlib.legend.Legend at 0x1abf5717ac8>"
            ]
          },
          "execution_count": null,
          "metadata": {},
          "output_type": "execute_result"
        },
        {
          "data": {
            "image/png": "[encoded data removed]",
            "text/plain": [
              "<matplotlib.figure.Figure at 0x1abf56670b8>"
            ]
          },
          "metadata": {},
          "output_type": "display_data"
        }
      ],
      "source": [
        "fig, ax = plt.subplots()\n",
        "ax.plot(X, Y, \".\", label=\"data\")\n",
        "ax.plot(X, Yp, \".\", label=\"model 1\")\n",
        "ax.plot(X, Yp2, \"g.\", label=\"model 2\")\n",
        "ax.legend()"
      ]
    },
    {
      "cell_type": "markdown",
      "metadata": {},
      "source": [
        "#### graphe erreur XY"
      ]
    },
    {
      "cell_type": "code",
      "execution_count": null,
      "metadata": {
        "collapsed": false
      },
      "outputs": [
        {
          "data": {
            "text/plain": [
              "<matplotlib.legend.Legend at 0x1abf579c748>"
            ]
          },
          "execution_count": null,
          "metadata": {},
          "output_type": "execute_result"
        },
        {
          "data": {
            "image/png": "[encoded data removed]",
            "text/plain": [
              "<matplotlib.figure.Figure at 0x1abf56c9438>"
            ]
          },
          "metadata": {},
          "output_type": "display_data"
        }
      ],
      "source": [
        "fig, ax = plt.subplots()\n",
        "ax.plot(Y, Yp, \".\", label=\"model 1\")\n",
        "ax.plot(Y, Yp2, \"g.\", label=\"model 2\")\n",
        "mm = [numpy.min(Y), numpy.max(Y)]\n",
        "ax.plot(mm, mm,\"--\")\n",
        "ax.set_xlabel(\"Y attendu\")\n",
        "ax.set_ylabel(\"Y pr\u00e9dit\")\n",
        "ax.legend()"
      ]
    },
    {
      "cell_type": "markdown",
      "metadata": {},
      "source": [
        "Plus ce nuage est confondu avec la droite, plus il est performant. S'il y a trop de points, on peut trier les erreurs par ordre croissant :"
      ]
    },
    {
      "cell_type": "code",
      "execution_count": null,
      "metadata": {
        "collapsed": false
      },
      "outputs": [],
      "source": [
        "err1 = ((Y - Yp)).reshape((len(Y),))\n",
        "err1.sort()\n",
        "err2 = ((Y - Yp2.reshape((len(Y), 1)))).reshape((len(Y),))\n",
        "err2.sort()"
      ]
    },
    {
      "cell_type": "code",
      "execution_count": null,
      "metadata": {
        "collapsed": false
      },
      "outputs": [
        {
          "data": {
            "text/plain": [
              "<matplotlib.text.Text at 0x1abf57de198>"
            ]
          },
          "execution_count": null,
          "metadata": {},
          "output_type": "execute_result"
        },
        {
          "data": {
            "image/png": "[encoded data removed]",
            "text/plain": [
              "<matplotlib.figure.Figure at 0x1abf56949e8>"
            ]
          },
          "metadata": {},
          "output_type": "display_data"
        }
      ],
      "source": [
        "fig, ax = plt.subplots()\n",
        "ax.plot(err1, label=\"model 1\")\n",
        "ax.plot(err2, label=\"model 2\")\n",
        "ax.set_xlabel(\"observations\")\n",
        "ax.set_ylabel(\"erreur\")"
      ]
    },
    {
      "cell_type": "markdown",
      "metadata": {},
      "source": [
        "### Classification binaire"
      ]
    },
    {
      "cell_type": "code",
      "execution_count": null,
      "metadata": {
        "collapsed": false
      },
      "outputs": [
        {
          "data": {
            "text/html": [
              "<div id=\"classif1\">run previous cell, wait for 2 seconds</div>\n",
              "<script>\n",
              "function repeat_indent_string(n){\n",
              "    var a = \"\" ;\n",
              "    for ( ; n > 0 ; --n) {\n",
              "        a += \"    \";\n",
              "    }\n",
              "    return a;\n",
              "}\n",
              "var update_menu_string = function(begin, lfirst, llast, sformat, send, keep_item) {\n",
              "    var anchors = document.getElementsByClassName(\"section\");\n",
              "    if (anchors.length == 0) {\n",
              "        anchors = document.getElementsByClassName(\"text_cell_render rendered_html\");\n",
              "    }\n",
              "    var i,t;\n",
              "    var text_menu = begin;\n",
              "    var text_memo = \"<pre>\\nlength:\" + anchors.length + \"\\n\";\n",
              "    var ind = \"\";\n",
              "    var memo_level = 1;\n",
              "    var href;\n",
              "    var tags = [];\n",
              "    var main_item = 0;\n",
              "    for (i = 0; i <= llast; i++) {\n",
              "        tags.push(\"h\" + i);\n",
              "    }\n",
              "\n",
              "    for (i = 0; i < anchors.length; i++) {\n",
              "        text_memo += \"**\" + anchors[i].id + \"--\\n\";\n",
              "\n",
              "        var child = null;\n",
              "        for(t = 0; t < tags.length; t++) {\n",
              "            var r = anchors[i].getElementsByTagName(tags[t]);\n",
              "            if (r.length > 0) {\n",
              "child = r[0];\n",
              "break;\n",
              "            }\n",
              "        }\n",
              "        if (child == null){\n",
              "            text_memo += \"null\\n\";\n",
              "            continue;\n",
              "        }\n",
              "        if (anchors[i].hasAttribute(\"id\")) {\n",
              "            // when converted in RST\n",
              "            href = anchors[i].id;\n",
              "            text_memo += \"#1-\" + href;\n",
              "            // passer \u00e0 child suivant (le chercher)\n",
              "        }\n",
              "        else if (child.hasAttribute(\"id\")) {\n",
              "            // in a notebook\n",
              "            href = child.id;\n",
              "            text_memo += \"#2-\" + href;\n",
              "        }\n",
              "        else {\n",
              "            text_memo += \"#3-\" + \"*\" + \"\\n\";\n",
              "            continue;\n",
              "        }\n",
              "        var title = child.textContent;\n",
              "        var level = parseInt(child.tagName.substring(1,2));\n",
              "\n",
              "        text_memo += \"--\" + level + \"?\" + lfirst + \"--\" + title + \"\\n\";\n",
              "\n",
              "        if ((level < lfirst) || (level > llast)) {\n",
              "            continue ;\n",
              "        }\n",
              "        if (title.endsWith('\u00b6')) {\n",
              "            title = title.substring(0,title.length-1).replace(\"<\", \"&lt;\").replace(\">\", \"&gt;\").replace(\"&\", \"&amp;\")\n",
              "        }\n",
              "\n",
              "        if (title.length == 0) {\n",
              "            continue;\n",
              "        }\n",
              "\n",
              "        while (level < memo_level) {\n",
              "            text_menu += \"</ul>\\n\";\n",
              "            memo_level -= 1;\n",
              "        }\n",
              "        if (level == lfirst) {\n",
              "            main_item += 1;\n",
              "        }\n",
              "        if (keep_item != -1 && main_item != keep_item + 1) {\n",
              "            // alert(main_item + \" - \" + level + \" - \" + keep_item);\n",
              "            continue;\n",
              "        }\n",
              "        while (level > memo_level) {\n",
              "            text_menu += \"<ul>\\n\";\n",
              "            memo_level += 1;\n",
              "        }\n",
              "        text_menu += repeat_indent_string(level-2) + sformat.replace(\"__HREF__\", href).replace(\"__TITLE__\", title);\n",
              "    }\n",
              "    while (1 < memo_level) {\n",
              "        text_menu += \"</ul>\\n\";\n",
              "        memo_level -= 1;\n",
              "    }\n",
              "    text_menu += send;\n",
              "    //text_menu += \"\\n\" + text_memo;\n",
              "    return text_menu;\n",
              "};\n",
              "var update_menu = function() {\n",
              "    var sbegin = \"\";\n",
              "    var sformat = '<li><a href=\"#__HREF__\">__TITLE__</a></li>';\n",
              "    var send = \"\";\n",
              "    var keep_item = 1;\n",
              "    var text_menu = update_menu_string(sbegin, 3, 4, sformat, send, keep_item);\n",
              "    var menu = document.getElementById(\"classif1\");\n",
              "    menu.innerHTML=text_menu;\n",
              "};\n",
              "window.setTimeout(update_menu,2000);\n",
              "            </script>"
            ],
            "text/plain": [
              "<IPython.core.display.HTML object>"
            ]
          },
          "execution_count": null,
          "metadata": {},
          "output_type": "execute_result"
        }
      ],
      "source": [
        "add_notebook_menu(menu_id=\"classif\", first_level=3, last_level=4, keep_item=1)"
      ]
    },
    {
      "cell_type": "markdown",
      "metadata": {},
      "source": [
        "#### donn\u00e9es\n",
        "\n",
        "$(X_i, Y_i)$, avec $X_i \\in \\mathbb{R}$ et $Y_i \\in \\{0,1\\}$."
      ]
    },
    {
      "cell_type": "markdown",
      "metadata": {},
      "source": [
        "#### sortie\n",
        "\n",
        "$(c_i, p_i^c)$ avec $c_i \\in \\{0,1\\}$ la classe pr\u00e9dite et $p_i^c \\in [0,1]$ la probabilit\u00e9 d'appartenance \u00e0 la classe $c$ ou score de confiance. $p_i^1 = f(\\Theta, X_i)$ et $p_i^0 = 1 - p_i^1$."
      ]
    },
    {
      "cell_type": "markdown",
      "metadata": {
        "collapsed": true
      },
      "source": [
        "#### optimisation\n",
        "\n",
        "Le probl\u00e8me d'optimisation d\u00e9pend du mod\u00e8le. On note $f(\\Theta,X_i) =  P(Y=1 | X_i, \\Theta)$, la probabilit\u00e9 que $X$ appartienne la la classe 1.\n",
        "\n",
        "*r\u00e9gression logistique*\n",
        "\n",
        "On optimise la vraisemblance d\u00e9termin\u00e9e par $\\ln L(\\Theta,X,Y) = \\sum_i Y_i \\ln f(\\Theta,X_i) + (1-Y_i) \\ln(1-f(\\Theta,X_i))$.\n",
        "\n",
        "*arbre*\n",
        "\n",
        "On \u00e9crit rarement le crit\u00e8re \u00e0 optimiser pour l'arbre dans sa totalit\u00e9 mais seulement pour une feuille de l'arbre qu'on cherche \u00e0 d\u00e9couper. On optimise une m\u00e9trique ([Gini](https://en.wikipedia.org/wiki/Decision_tree_learning#Gini_impurity), [entropie](https://en.wikipedia.org/wiki/Decision_tree_learning#Information_gain), [variance](https://en.wikipedia.org/wiki/Decision_tree_learning#Variance_reduction)). Si on note $f(k)$ la proportion d'\u00e9l\u00e9ments bien class\u00e9s par cette feuille. Le crit\u00e8re optimis\u00e9 est : $\\sum_k f(k)\\ln f(k)$."
      ]
    },
    {
      "cell_type": "markdown",
      "metadata": {
        "collapsed": true
      },
      "source": [
        "#### \u00e9valuation\n",
        "\n",
        "* matrice de confusion\n",
        "* rappel, pr\u00e9cision"
      ]
    },
    {
      "cell_type": "markdown",
      "metadata": {
        "collapsed": true
      },
      "source": [
        "#### exemple"
      ]
    },
    {
      "cell_type": "code",
      "execution_count": null,
      "metadata": {
        "collapsed": false
      },
      "outputs": [],
      "source": [
        "import numpy.random\n",
        "X = numpy.random.normal(size=(100, 2))\n",
        "Y = numpy.random.randint(2, size=(100, ))\n",
        "X[Y==1,0] += 1.2\n",
        "X[Y==1,1] += 1.2"
      ]
    },
    {
      "cell_type": "code",
      "execution_count": null,
      "metadata": {
        "collapsed": false
      },
      "outputs": [
        {
          "data": {
            "text/plain": [
              "[<matplotlib.lines.Line2D at 0x1abf5880c18>]"
            ]
          },
          "execution_count": null,
          "metadata": {},
          "output_type": "execute_result"
        },
        {
          "data": {
            "image/png": "[encoded data removed]",
            "text/plain": [
              "<matplotlib.figure.Figure at 0x1abf56ca668>"
            ]
          },
          "metadata": {},
          "output_type": "display_data"
        }
      ],
      "source": [
        "fix, ax = plt.subplots()\n",
        "ax.plot(X[Y==0,0], X[Y==0,1], \"o\")\n",
        "ax.plot(X[Y==1,0], X[Y==1,1], \"o\")"
      ]
    },
    {
      "cell_type": "code",
      "execution_count": null,
      "metadata": {
        "collapsed": true
      },
      "outputs": [],
      "source": [
        "# model 1\n",
        "from sklearn.linear_model import LogisticRegression\n",
        "clf = LogisticRegression()\n",
        "clf.fit(X, Y)\n",
        "Yp = clf.predict(X)"
      ]
    },
    {
      "cell_type": "code",
      "execution_count": null,
      "metadata": {
        "collapsed": false
      },
      "outputs": [],
      "source": [
        "# model 1\n",
        "from sklearn.tree import DecisionTreeClassifier\n",
        "clf2 = DecisionTreeClassifier(max_depth=3)\n",
        "clf2.fit(X, Y)\n",
        "Yp2 = clf2.predict(X)"
      ]
    },
    {
      "cell_type": "code",
      "execution_count": null,
      "metadata": {
        "collapsed": false
      },
      "outputs": [
        {
          "data": {
            "text/plain": [
              "<matplotlib.legend.Legend at 0x1abf5902470>"
            ]
          },
          "execution_count": null,
          "metadata": {},
          "output_type": "execute_result"
        },
        {
          "data": {
            "image/png": "[encoded data removed]",
            "text/plain": [
              "<matplotlib.figure.Figure at 0x1abf57c4f28>"
            ]
          },
          "metadata": {},
          "output_type": "display_data"
        }
      ],
      "source": [
        "fig, ax = plt.subplots()\n",
        "ax.plot(X[Yp==0,0]+0.1, X[Yp==0,1]+0.1, \"rs\", label=\"cl0 model 1\", ms=3)\n",
        "ax.plot(X[Yp==1,0]+0.1, X[Yp==1,1]+0.1, \"bs\", label=\"cl1 model 1\", ms=3)\n",
        "ax.plot(X[Yp2==0,0]-0.1, X[Yp2==0,1]+0.1, \"rs\", label=\"cl0 model 2\", ms=3)\n",
        "ax.plot(X[Yp2==1,0]-0.1, X[Yp2==1,1]+0.1, \"bs\", label=\"cl1 model 2\", ms=3)\n",
        "ax.plot(X[Y==0,0], X[Y==0,1], \"ro\", label=\"cl0\")\n",
        "ax.plot(X[Y==1,0], X[Y==1,1], \"bo\", label=\"cl1\")\n",
        "ax.legend()"
      ]
    },
    {
      "cell_type": "markdown",
      "metadata": {},
      "source": [
        "#### graphe erreur AUC"
      ]
    },
    {
      "cell_type": "code",
      "execution_count": null,
      "metadata": {
        "collapsed": false
      },
      "outputs": [],
      "source": [
        "from sklearn.metrics import roc_curve, auc\n",
        "\n",
        "# model 1\n",
        "Ypr = clf.predict_proba(X)\n",
        "fpr, tpr, thresholds = roc_curve(Y, Ypr[:,1]) # on choisit la classe 1"
      ]
    },
    {
      "cell_type": "code",
      "execution_count": null,
      "metadata": {
        "collapsed": true
      },
      "outputs": [],
      "source": [
        "# model 2\n",
        "Ypr2 = clf2.predict_proba(X)\n",
        "fpr2, tpr2, thresholds2 = roc_curve(Y, Ypr2[:,1]) # on choisit la classe 1"
      ]
    },
    {
      "cell_type": "code",
      "execution_count": null,
      "metadata": {
        "collapsed": false
      },
      "outputs": [
        {
          "data": {
            "text/plain": [
              "(0.84969696969696962, 0.89656565656565668)"
            ]
          },
          "execution_count": null,
          "metadata": {},
          "output_type": "execute_result"
        }
      ],
      "source": [
        "auc(fpr, tpr), auc(fpr2, tpr2)"
      ]
    },
    {
      "cell_type": "code",
      "execution_count": null,
      "metadata": {
        "collapsed": false
      },
      "outputs": [
        {
          "data": {
            "text/plain": [
              "<matplotlib.legend.Legend at 0x1abf59890b8>"
            ]
          },
          "execution_count": null,
          "metadata": {},
          "output_type": "execute_result"
        },
        {
          "data": {
            "image/png": "[encoded data removed]",
            "text/plain": [
              "<matplotlib.figure.Figure at 0x1abf584d668>"
            ]
          },
          "metadata": {},
          "output_type": "display_data"
        }
      ],
      "source": [
        "fix, ax = plt.subplots()\n",
        "ax.plot(fpr, tpr, label=\"model 1 auc=%0.2f\" % auc(fpr, tpr))\n",
        "ax.plot(fpr2, tpr2, label=\"model 2 auc=%0.2f\" % auc(fpr2, tpr2))\n",
        "ax.legend()"
      ]
    },
    {
      "cell_type": "markdown",
      "metadata": {},
      "source": [
        "#### graphe fronti\u00e8re\n",
        "\n",
        "Si le nombre de features est sup\u00e9rieur \u00e0 2, il faut appliquer une ACP pour r\u00e9duire les dimmensions."
      ]
    },
    {
      "cell_type": "code",
      "execution_count": null,
      "metadata": {
        "collapsed": false
      },
      "outputs": [
        {
          "data": {
            "text/plain": [
              "(-1.9575095738761865, 4.4424904261238192)"
            ]
          },
          "execution_count": null,
          "metadata": {},
          "output_type": "execute_result"
        },
        {
          "data": {
            "image/png": "[encoded data removed]",
            "text/plain": [
              "<matplotlib.figure.Figure at 0x1abf59b8160>"
            ]
          },
          "metadata": {},
          "output_type": "display_data"
        }
      ],
      "source": [
        "# nuage de points\n",
        "from matplotlib.colors import ListedColormap\n",
        "cm = plt.cm.RdBu\n",
        "cm_bright = ListedColormap(['#FF0000', '#0000FF'])\n",
        "\n",
        "fig, ax = plt.subplots()\n",
        "\n",
        "# grille\n",
        "h = .02\n",
        "x_min, x_max = X[:, 0].min() - .5, X[:, 0].max() + .5\n",
        "y_min, y_max = X[:, 1].min() - .5, X[:, 1].max() + .5\n",
        "xx, yy = numpy.meshgrid(numpy.arange(x_min, x_max, h),\n",
        "                        numpy.arange(y_min, y_max, h))\n",
        "\n",
        "# valeur pour cette grille\n",
        "if hasattr(clf, \"decision_function\"):\n",
        "    Z = clf.decision_function(numpy.c_[xx.ravel(), yy.ravel()])\n",
        "else:\n",
        "    Z = clf.predict_proba(numpy.c_[xx.ravel(), yy.ravel()])[:, 1]\n",
        "\n",
        "# \n",
        "Z = Z.reshape(xx.shape)\n",
        "ax.contourf(xx, yy, Z, cmap=cm, alpha=.8)\n",
        "ax.scatter(X[:, 0], X[:, 1], c=Y, cmap=cm_bright)\n",
        "ax.set_xlim(xx.min(), xx.max())\n",
        "ax.set_ylim(yy.min(), yy.max())"
      ]
    },
    {
      "cell_type": "code",
      "execution_count": null,
      "metadata": {
        "collapsed": false
      },
      "outputs": [
        {
          "data": {
            "text/plain": [
              "(-1.9575095738761865, 4.4424904261238192)"
            ]
          },
          "execution_count": null,
          "metadata": {},
          "output_type": "execute_result"
        },
        {
          "data": {
            "image/png": "[encoded data removed]",
            "text/plain": [
              "<matplotlib.figure.Figure at 0x1abf59c9898>"
            ]
          },
          "metadata": {},
          "output_type": "display_data"
        }
      ],
      "source": [
        "# nuage de points\n",
        "from matplotlib.colors import ListedColormap\n",
        "cm = plt.cm.RdBu\n",
        "cm_bright = ListedColormap(['#FF0000', '#0000FF'])\n",
        "\n",
        "fig, ax = plt.subplots()\n",
        "\n",
        "# grille\n",
        "h = .02\n",
        "x_min, x_max = X[:, 0].min() - .5, X[:, 0].max() + .5\n",
        "y_min, y_max = X[:, 1].min() - .5, X[:, 1].max() + .5\n",
        "xx, yy = numpy.meshgrid(numpy.arange(x_min, x_max, h),\n",
        "                        numpy.arange(y_min, y_max, h))\n",
        "\n",
        "# valeur pour cette grille\n",
        "if hasattr(clf2, \"decision_function\"):\n",
        "    Z = clf2.decision_function(numpy.c_[xx.ravel(), yy.ravel()])\n",
        "else:\n",
        "    Z = clf2.predict_proba(numpy.c_[xx.ravel(), yy.ravel()])[:, 1]\n",
        "\n",
        "# \n",
        "Z = Z.reshape(xx.shape)\n",
        "ax.contourf(xx, yy, Z, cmap=cm, alpha=.8)\n",
        "ax.scatter(X[:, 0], X[:, 1], c=Y, cmap=cm_bright)\n",
        "ax.set_xlim(xx.min(), xx.max())\n",
        "ax.set_ylim(yy.min(), yy.max())"
      ]
    },
    {
      "cell_type": "markdown",
      "metadata": {},
      "source": [
        "#### matrice de confusation"
      ]
    },
    {
      "cell_type": "code",
      "execution_count": null,
      "metadata": {
        "collapsed": false
      },
      "outputs": [
        {
          "data": {
            "text/plain": [
              "array([[32, 13],\n",
              "       [12, 43]])"
            ]
          },
          "execution_count": null,
          "metadata": {},
          "output_type": "execute_result"
        }
      ],
      "source": [
        "from sklearn.metrics import confusion_matrix\n",
        "confusion_matrix(Y, Yp)"
      ]
    },
    {
      "cell_type": "code",
      "execution_count": null,
      "metadata": {
        "collapsed": false
      },
      "outputs": [
        {
          "data": {
            "text/plain": [
              "array([[38,  7],\n",
              "       [10, 45]])"
            ]
          },
          "execution_count": null,
          "metadata": {},
          "output_type": "execute_result"
        }
      ],
      "source": [
        "confusion_matrix(Y, Yp2)"
      ]
    },
    {
      "cell_type": "markdown",
      "metadata": {},
      "source": [
        "### Plusieurs dimensions"
      ]
    },
    {
      "cell_type": "markdown",
      "metadata": {},
      "source": [
        "#### R\u00e9gression \n",
        "\n",
        "$Y_i \\in \\mathbb{Y^p}$\n",
        "\n",
        "Addition des erreurs sur les diff\u00e9rentes dimensions"
      ]
    },
    {
      "cell_type": "markdown",
      "metadata": {},
      "source": [
        "#### Classification\n",
        "\n",
        "$Y_i \\in E$ o\u00f9 $E$ est un ensemble sur lequel il n'y a pas de relation d'ordre.\n",
        "\n",
        "On transforme le probl\u00e8me en plusieurs probl\u00e8mes de classification binaire.\n",
        "\n",
        "* [un contre tous](https://en.wikipedia.org/wiki/Multiclass_classification#One-vs.-rest)\n",
        "* [un contre un](https://en.wikipedia.org/wiki/Multiclass_classification#One-vs.-rest)"
      ]
    },
    {
      "cell_type": "code",
      "execution_count": null,
      "metadata": {
        "collapsed": true
      },
      "outputs": [],
      "source": []
    },
    {
      "cell_type": "markdown",
      "metadata": {},
      "source": [
        "### Ranking"
      ]
    },
    {
      "cell_type": "code",
      "execution_count": null,
      "metadata": {
        "collapsed": false
      },
      "outputs": [
        {
          "data": {
            "text/html": [
              "<div id=\"rank3\">run previous cell, wait for 2 seconds</div>\n",
              "<script>\n",
              "function repeat_indent_string(n){\n",
              "    var a = \"\" ;\n",
              "    for ( ; n > 0 ; --n) {\n",
              "        a += \"    \";\n",
              "    }\n",
              "    return a;\n",
              "}\n",
              "var update_menu_string = function(begin, lfirst, llast, sformat, send, keep_item) {\n",
              "    var anchors = document.getElementsByClassName(\"section\");\n",
              "    if (anchors.length == 0) {\n",
              "        anchors = document.getElementsByClassName(\"text_cell_render rendered_html\");\n",
              "    }\n",
              "    var i,t;\n",
              "    var text_menu = begin;\n",
              "    var text_memo = \"<pre>\\nlength:\" + anchors.length + \"\\n\";\n",
              "    var ind = \"\";\n",
              "    var memo_level = 1;\n",
              "    var href;\n",
              "    var tags = [];\n",
              "    var main_item = 0;\n",
              "    for (i = 0; i <= llast; i++) {\n",
              "        tags.push(\"h\" + i);\n",
              "    }\n",
              "\n",
              "    for (i = 0; i < anchors.length; i++) {\n",
              "        text_memo += \"**\" + anchors[i].id + \"--\\n\";\n",
              "\n",
              "        var child = null;\n",
              "        for(t = 0; t < tags.length; t++) {\n",
              "            var r = anchors[i].getElementsByTagName(tags[t]);\n",
              "            if (r.length > 0) {\n",
              "child = r[0];\n",
              "break;\n",
              "            }\n",
              "        }\n",
              "        if (child == null){\n",
              "            text_memo += \"null\\n\";\n",
              "            continue;\n",
              "        }\n",
              "        if (anchors[i].hasAttribute(\"id\")) {\n",
              "            // when converted in RST\n",
              "            href = anchors[i].id;\n",
              "            text_memo += \"#1-\" + href;\n",
              "            // passer \u00e0 child suivant (le chercher)\n",
              "        }\n",
              "        else if (child.hasAttribute(\"id\")) {\n",
              "            // in a notebook\n",
              "            href = child.id;\n",
              "            text_memo += \"#2-\" + href;\n",
              "        }\n",
              "        else {\n",
              "            text_memo += \"#3-\" + \"*\" + \"\\n\";\n",
              "            continue;\n",
              "        }\n",
              "        var title = child.textContent;\n",
              "        var level = parseInt(child.tagName.substring(1,2));\n",
              "\n",
              "        text_memo += \"--\" + level + \"?\" + lfirst + \"--\" + title + \"\\n\";\n",
              "\n",
              "        if ((level < lfirst) || (level > llast)) {\n",
              "            continue ;\n",
              "        }\n",
              "        if (title.endsWith('\u00b6')) {\n",
              "            title = title.substring(0,title.length-1).replace(\"<\", \"&lt;\").replace(\">\", \"&gt;\").replace(\"&\", \"&amp;\")\n",
              "        }\n",
              "\n",
              "        if (title.length == 0) {\n",
              "            continue;\n",
              "        }\n",
              "\n",
              "        while (level < memo_level) {\n",
              "            text_menu += \"</ul>\\n\";\n",
              "            memo_level -= 1;\n",
              "        }\n",
              "        if (level == lfirst) {\n",
              "            main_item += 1;\n",
              "        }\n",
              "        if (keep_item != -1 && main_item != keep_item + 1) {\n",
              "            // alert(main_item + \" - \" + level + \" - \" + keep_item);\n",
              "            continue;\n",
              "        }\n",
              "        while (level > memo_level) {\n",
              "            text_menu += \"<ul>\\n\";\n",
              "            memo_level += 1;\n",
              "        }\n",
              "        text_menu += repeat_indent_string(level-2) + sformat.replace(\"__HREF__\", href).replace(\"__TITLE__\", title);\n",
              "    }\n",
              "    while (1 < memo_level) {\n",
              "        text_menu += \"</ul>\\n\";\n",
              "        memo_level -= 1;\n",
              "    }\n",
              "    text_menu += send;\n",
              "    //text_menu += \"\\n\" + text_memo;\n",
              "    return text_menu;\n",
              "};\n",
              "var update_menu = function() {\n",
              "    var sbegin = \"\";\n",
              "    var sformat = '<li><a href=\"#__HREF__\">__TITLE__</a></li>';\n",
              "    var send = \"\";\n",
              "    var keep_item = 3;\n",
              "    var text_menu = update_menu_string(sbegin, 3, 4, sformat, send, keep_item);\n",
              "    var menu = document.getElementById(\"rank3\");\n",
              "    menu.innerHTML=text_menu;\n",
              "};\n",
              "window.setTimeout(update_menu,2000);\n",
              "            </script>"
            ],
            "text/plain": [
              "<IPython.core.display.HTML object>"
            ]
          },
          "execution_count": null,
          "metadata": {},
          "output_type": "execute_result"
        }
      ],
      "source": [
        "add_notebook_menu(menu_id=\"rank\", first_level=3, last_level=4, keep_item=3)"
      ]
    },
    {
      "cell_type": "markdown",
      "metadata": {},
      "source": [
        "#### donn\u00e9es\n",
        "\n",
        "$(G_i, X_i, Y_i)$, avec $X_i \\in \\mathbb{R}$ et $Y_i \\in \\mathbb{N}$.\n",
        "\n",
        "$G_i$ est un identifiant qui permet de regroupes les observations ensemble. Au sein d'un groupe, $Y_i$ d\u00e9termine l'ordre dans lequel les observations doivent \u00eatre tri\u00e9es."
      ]
    },
    {
      "cell_type": "markdown",
      "metadata": {},
      "source": [
        "#### sortie\n",
        "\n",
        "$S_i$, ce score permet de trier les observations au sein d'un groupe."
      ]
    },
    {
      "cell_type": "markdown",
      "metadata": {},
      "source": [
        "#### optimisation\n",
        "\n",
        "Deux approches :\n",
        "\n",
        "* *score* : on \u00e9met l'hypoth\u00e8se qu'il existe un score qui permet de trier les \u00e9l\u00e9ments entre eux, la connaissance du groupe $G_i$ est superflu, le probl\u00e8me de ranking devient un probl\u00e8me de r\u00e9gression o\u00f9 on cherche \u00e0 apprendre le score.\n",
        "* [pair-wise](https://en.wikipedia.org/wiki/Learning_to_rank#Pairwise_approach) : le score n'est pas connu, tout ce qu'on sait faire est d'exprimer une pr\u00e9f\u00e9rence entre les \u00e9l\u00e9ments $(G_i=g,X_i)$ et $(G_j=g,X_j)$. On transforme le probl\u00e8me le probl\u00e8me de ranking en un probl\u00e8me de classification binaire, pour chaque chaque pair d'oboservations au sein du m\u00eame groupe, on aprend la pr\u00e9f\u00e9rence."
      ]
    },
    {
      "cell_type": "markdown",
      "metadata": {},
      "source": [
        "#### \u00e9valuation"
      ]
    },
    {
      "cell_type": "markdown",
      "metadata": {},
      "source": [
        "corr\u00e9lation entre les positions attendues et pr\u00e9dites au sein du m\u00eame groupe d'observations"
      ]
    },
    {
      "cell_type": "markdown",
      "metadata": {},
      "source": [
        "## Non supervis\u00e9s"
      ]
    },
    {
      "cell_type": "markdown",
      "metadata": {},
      "source": [
        "### Clustering\n",
        "\n",
        "Principales diff\u00e9rences entre algorithmes :\n",
        "\n",
        "* espace veectoriel / espace m\u00e9trique (distance uniquement)\n",
        "* nombre de clusters fix\u00e9s \u00e0 l'avance ou d\u00e9termin\u00e9 en cours de route\n",
        "* co\u00fbt\n",
        "\n",
        "![image](http://scikit-learn.org/stable/_images/sphx_glr_plot_cluster_comparison_001.png)"
      ]
    },
    {
      "cell_type": "markdown",
      "metadata": {},
      "source": [
        "### PCA (whitening)\n",
        "\n",
        "![projection](http://scikit-learn.org/stable/_images/sphx_glr_plot_pca_iris_001.png)"
      ]
    },
    {
      "cell_type": "markdown",
      "metadata": {},
      "source": [
        "### Projection, Manifolds"
      ]
    },
    {
      "cell_type": "markdown",
      "metadata": {},
      "source": [
        "![manifolds](http://scikit-learn.org/stable/_images/sphx_glr_plot_compare_methods_001.png)"
      ]
    },
    {
      "cell_type": "markdown",
      "metadata": {},
      "source": [
        "## Ridge / Lasso / R\u00e9gularisation\n",
        "\n",
        "Ces deux m\u00e9thodes [Ridge](http://scikit-learn.org/stable/modules/generated/sklearn.linear_model.Ridge.html) et [Lasso](http://scikit-learn.org/stable/modules/generated/sklearn.linear_model.Lasso.html) ont \u00e9t\u00e9 d\u00e9velopp\u00e9s pour ces mod\u00e8les lin\u00e9aires. On retrouve des id\u00e9es similaires pour l'optimisation d'autres mod\u00e8les en particulier [Ridge](http://scikit-learn.org/stable/modules/generated/sklearn.linear_model.Ridge.html) qui revient \u00e0 ajouter une p\u00e9nalit\u00e9 de r\u00e9gularisation des coefficients lors de l'apprentissage. C'est le cas du param\u00e8tre ``alpha`` qui appara\u00eet lorsqu'on d\u00e9finit un [r\u00e9seau de neurones](http://scikit-learn.org/stable/modules/generated/sklearn.neural_network.MLPRegressor.html#sklearn.neural_network.MLPRegressor) avec scikit-learn.\n"
      ]
    },
    {
      "cell_type": "markdown",
      "metadata": {},
      "source": [
        "## Nouveaux domaines"
      ]
    },
    {
      "cell_type": "markdown",
      "metadata": {},
      "source": [
        "### Syst\u00e8mes de recommandations\n",
        "\n",
        "* [factorisation de matrice](https://en.wikipedia.org/wiki/Non-negative_matrix_factorization)\n",
        "* [collaborative filtering](https://fr.wikipedia.org/wiki/Filtrage_collaboratif)\n",
        "* [d\u00e9composition de tenseur](https://en.wikipedia.org/wiki/Higher-order_singular_value_decomposition)"
      ]
    },
    {
      "cell_type": "markdown",
      "metadata": {},
      "source": [
        "### Deep learning\n",
        "\n",
        "* r\u00e9seaux de neurones\n",
        "* reconnaissance d'image, de paroles\n",
        "* traduction automatique"
      ]
    },
    {
      "cell_type": "markdown",
      "metadata": {},
      "source": [
        "### Sequence learning\n",
        "\n",
        "* reinforcement learning\n",
        "* RNN, LSTM\n",
        "* Markov Models"
      ]
    },
    {
      "cell_type": "markdown",
      "metadata": {},
      "source": [
        "### Algorithme du bandit\n",
        "\n",
        "* exploration / exploitation\n",
        "* utilis\u00e9 dans internet"
      ]
    },
    {
      "cell_type": "markdown",
      "metadata": {},
      "source": [
        "## Machine learning et informatique"
      ]
    },
    {
      "cell_type": "markdown",
      "metadata": {},
      "source": [
        "### Parall\u00e9lisation des calculs\n",
        "\n",
        "* CPU, GPU, cluster\n",
        "* synchrone, asynchrone"
      ]
    },
    {
      "cell_type": "markdown",
      "metadata": {},
      "source": [
        "### In memory training / out of memory training\n",
        "\n",
        "* acc\u00e8s al\u00e9atoire\n",
        "* acc\u00e8s s\u00e9quentiel"
      ]
    },
    {
      "cell_type": "markdown",
      "metadata": {},
      "source": [
        "### Learner / Transformer / Pipeline\n",
        "\n",
        "Le module scikit-learn fait appara\u00eetre le terme de *transformeur* : [StandardScaler](https://github.com/scikit-learn/scikit-learn/blob/412996f/sklearn/preprocessing/data.py#L449) est un *transformeur* (ou *transformer* en anglais). Ce type d'objet transforme les donn\u00e9es mais ne produisent le r\u00e9sultat final. Un [Pipeline](http://scikit-learn.org/stable/modules/generated/sklearn.pipeline.Pipeline.html) empile une liste de transformeurs et un estimateur final (classifieur, r\u00e9gresseur). Une ACP est un transformeur car elle modifie les entr\u00e9es $X$ avant un apprentissage. "
      ]
    },
    {
      "cell_type": "code",
      "execution_count": null,
      "metadata": {
        "collapsed": false
      },
      "outputs": [
        {
          "data": {
            "image/png": "[encoded data removed]",
            "text/plain": [
              "<IPython.core.display.Image object>"
            ]
          },
          "execution_count": null,
          "metadata": {},
          "output_type": "execute_result"
        }
      ],
      "source": [
        "from pyquickhelper.helpgen import NbImage\n",
        "NbImage(\"pipeline.png\")"
      ]
    },
    {
      "cell_type": "markdown",
      "metadata": {},
      "source": [
        "Un pipeline simple :\n",
        "\n",
        "* [ACP](http://scikit-learn.org/stable/modules/generated/sklearn.decomposition.PCA.html)\n",
        "* [LogisticRegression](http://scikit-learn.org/stable/modules/generated/sklearn.linear_model.LogisticRegression.html)"
      ]
    },
    {
      "cell_type": "code",
      "execution_count": null,
      "metadata": {
        "collapsed": true
      },
      "outputs": [],
      "source": [
        "from sklearn.datasets import load_iris\n",
        "data = load_iris()\n",
        "X = data.data\n",
        "Y = data.target"
      ]
    },
    {
      "cell_type": "code",
      "execution_count": null,
      "metadata": {
        "collapsed": false
      },
      "outputs": [
        {
          "data": {
            "text/plain": [
              "Pipeline(steps=[('acp', PCA(copy=True, iterated_power='auto', n_components=None, random_state=None,\n",
              "  svd_solver='auto', tol=0.0, whiten=False)), ('logreg', LogisticRegression(C=1.0, class_weight=None, dual=False, fit_intercept=True,\n",
              "          intercept_scaling=1, max_iter=100, multi_class='ovr', n_jobs=1,\n",
              "          penalty='l2', random_state=None, solver='liblinear', tol=0.0001,\n",
              "          verbose=0, warm_start=False))])"
            ]
          },
          "execution_count": null,
          "metadata": {},
          "output_type": "execute_result"
        }
      ],
      "source": [
        "from sklearn.pipeline import Pipeline\n",
        "from sklearn.decomposition import PCA\n",
        "from sklearn.linear_model import LogisticRegression\n",
        "pipe = Pipeline([(\"acp\", PCA()),\n",
        "                 (\"logreg\", LogisticRegression())])\n",
        "pipe.fit(X, Y)"
      ]
    },
    {
      "cell_type": "code",
      "execution_count": null,
      "metadata": {
        "collapsed": false
      },
      "outputs": [
        {
          "data": {
            "text/plain": [
              "array([0, 0, 0, 0, 0])"
            ]
          },
          "execution_count": null,
          "metadata": {},
          "output_type": "execute_result"
        }
      ],
      "source": [
        "pred = pipe.predict(X)\n",
        "pred[:5]"
      ]
    },
    {
      "cell_type": "markdown",
      "metadata": {},
      "source": [
        "Lors de la pr\u00e9diction, les variables passent par la m\u00eame cha\u00eene de traitement. Les m\u00e9thodes pour les *transformer* et *estimator* sont diff\u00e9rents :\n",
        "\n",
        "* **estimator :** fit + predict\n",
        "* **transformer :** fit (optionnel) + transform\n",
        "\n",
        "La m\u00e9thode *fit* ne s'applique pas \u00e0 tous les transformers. Il n'y a pas toujours de coefficients \u00e0 estimer. La plupart des *transformer* sont non supervis\u00e9s (pas besoin de *Y*) mais certains le sont comme [t-SNE](http://scikit-learn.org/stable/modules/generated/sklearn.manifold.TSNE.html)."
      ]
    },
    {
      "cell_type": "markdown",
      "metadata": {
        "collapsed": true
      },
      "source": [
        "## Exercice 1 : classifier avec plusieurs classes\n",
        "\n",
        "La plupart des mod\u00e8les ne savant pas g\u00e9rer le cas multi-class, seulement le cas de la classification binaire.\n",
        "\n",
        "* [One vs Rest](http://scikit-learn.org/stable/modules/multiclass.html#one-vs-the-rest)\n",
        "* [One vs One](http://scikit-learn.org/stable/modules/multiclass.html#one-vs-one)\n",
        "* Et si on transformait le label en une variable...\n",
        "\n",
        "Il faut comparer ces trois approches."
      ]
    },
    {
      "cell_type": "markdown",
      "metadata": {},
      "source": [
        "## Exercice 2 : grand nombre de classes ?\n",
        "\n",
        "Pourquoi un grand nombre de classes aboutit-il n\u00e9cessairement \u00e0 un cas de jeu de donn\u00e9es *imbalanced* ? Que proposez-vous pour y rem\u00e9dier ?"
      ]
    },
    {
      "cell_type": "markdown",
      "metadata": {
        "collapsed": true
      },
      "source": [
        "## Exercice 3 : ranking\n",
        "\n",
        "R\u00e9soudre un probl\u00e8me de ranking."
      ]
    },
    {
      "cell_type": "code",
      "execution_count": null,
      "metadata": {
        "collapsed": true
      },
      "outputs": [],
      "source": []
    }
  ],
  "metadata": {
    "kernelspec": {
      "display_name": "Python 3",
      "language": "python",
      "name": "python3"
    },
    "language_info": {
      "codemirror_mode": {
        "name": "ipython",
        "version": 3
      },
      "file_extension": ".py",
      "mimetype": "text/x-python",
      "name": "python",
      "nbconvert_exporter": "python",
      "pygments_lexer": "ipython3",
      "version": "3.5.0"
    }
  },
  "nbformat": 4,
  "nbformat_minor": 1
}