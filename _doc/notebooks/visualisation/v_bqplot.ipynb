{
 "cells": [
  {
   "cell_type": "markdown",
   "metadata": {},
   "source": [
    "# bqplot\n",
    "\n",
    "C'est une des librairies mises en avant par un des principaux contributeurs de Jupyter. Un gros inconvénient, il faut exécuter le notebook pour voir les graphiques. De la même manière, la conversion au format HTML ne fonctionne pas.\n",
    "\n",
    "* [source](https://github.com/bloomberg/bqplot)\n",
    "* [installation](https://pypi.python.org/pypi/bqplot/)\n",
    "* [examples](https://github.com/bloomberg/bqplot/tree/master/examples)"
   ]
  },
  {
   "cell_type": "code",
   "execution_count": 40,
   "metadata": {
    "collapsed": true
   },
   "outputs": [],
   "source": [
    "%matplotlib inline"
   ]
  },
  {
   "cell_type": "code",
   "execution_count": 41,
   "metadata": {
    "collapsed": false
   },
   "outputs": [
    {
     "data": {
      "text/html": [
       "<div id=\"my_id_menu_nb\">run previous cell, wait for 2 seconds</div>\n",
       "<script>\n",
       "function repeat_indent_string(n){\n",
       "    var a = \"\" ;\n",
       "    for ( ; n > 0 ; --n) {\n",
       "        a += \"    \";\n",
       "    }\n",
       "    return a;\n",
       "}\n",
       "var update_menu_string = function(begin, lfirst, llast, sformat, send) {\n",
       "    var anchors = document.getElementsByClassName(\"section\");\n",
       "    if (anchors.length == 0) {\n",
       "        anchors = document.getElementsByClassName(\"text_cell_render rendered_html\");\n",
       "    }\n",
       "    var i,t;\n",
       "    var text_menu = begin;\n",
       "    var text_memo = \"<pre>\\nlength:\" + anchors.length + \"\\n\";\n",
       "    var ind = \"\";\n",
       "    var memo_level = 1;\n",
       "    var href;\n",
       "    var tags = [];\n",
       "    for (i = 0; i <= llast; i++) {\n",
       "        tags.push(\"h\" + i);\n",
       "    }\n",
       "\n",
       "    for (i = 0; i < anchors.length; i++) {\n",
       "        text_memo += \"**\" + anchors[i].id + \"--\\n\";\n",
       "\n",
       "        var child = null;\n",
       "        for(t = 0; t < tags.length; t++) {\n",
       "            var r = anchors[i].getElementsByTagName(tags[t]);\n",
       "            if (r.length > 0) {\n",
       "child = r[0];\n",
       "break;\n",
       "            }\n",
       "        }\n",
       "        if (child == null){\n",
       "            text_memo += \"null\\n\";\n",
       "            continue;\n",
       "        }\n",
       "\n",
       "        if (anchors[i].hasAttribute(\"id\")) {\n",
       "            // when converted in RST\n",
       "            href = anchors[i].id;\n",
       "            text_memo += \"#1-\" + href;\n",
       "            // passer à child suivant (le chercher)\n",
       "        }\n",
       "        else if (child.hasAttribute(\"id\")) {\n",
       "            // in a notebook\n",
       "            href = child.id;\n",
       "            text_memo += \"#2-\" + href;\n",
       "        }\n",
       "        else {\n",
       "            text_memo += \"#3-\" + \"*\" + \"\\n\";\n",
       "            continue;\n",
       "        }\n",
       "        var title = child.textContent;\n",
       "        var level = parseInt(child.tagName.substring(1,2));\n",
       "\n",
       "        text_memo += \"--\" + level + \"?\" + lfirst + \"--\" + title + \"\\n\";\n",
       "\n",
       "        if ((level < lfirst) || (level > llast)) {\n",
       "            continue ;\n",
       "        }\n",
       "        if (title.endsWith('¶')) {\n",
       "            title = title.substring(0,title.length-1).replace(\"<\", \"&lt;\").replace(\">\", \"&gt;\").replace(\"&\", \"&amp;\")\n",
       "        }\n",
       "\n",
       "        if (title.length == 0) {\n",
       "            continue;\n",
       "        }\n",
       "        while (level > memo_level) {\n",
       "            text_menu += \"<ul>\\n\";\n",
       "            memo_level += 1;\n",
       "        }\n",
       "        while (level < memo_level) {\n",
       "            text_menu += \"</ul>\\n\";\n",
       "            memo_level -= 1;\n",
       "        }\n",
       "        text_menu += repeat_indent_string(level-2) + sformat.replace(\"__HREF__\", href).replace(\"__TITLE__\", title);\n",
       "    }\n",
       "    while (1 < memo_level) {\n",
       "        text_menu += \"</ul>\\n\";\n",
       "        memo_level -= 1;\n",
       "    }\n",
       "    text_menu += send;\n",
       "    //text_menu += \"\\n\" + text_memo;\n",
       "    return text_menu;\n",
       "};\n",
       "var update_menu = function() {\n",
       "    var sbegin = \"\";\n",
       "    var sformat = '<li><a href=\"#__HREF__\">__TITLE__</a></li>';\n",
       "    var send = \"\";\n",
       "    var text_menu = update_menu_string(sbegin, 2, 4, sformat, send);\n",
       "    var menu = document.getElementById(\"my_id_menu_nb\");\n",
       "    menu.innerHTML=text_menu;\n",
       "};\n",
       "window.setTimeout(update_menu,2000);\n",
       "            </script>"
      ],
      "text/plain": [
       "<IPython.core.display.HTML object>"
      ]
     },
     "execution_count": 41,
     "metadata": {},
     "output_type": "execute_result"
    }
   ],
   "source": [
    "from pyquickhelper.ipythonhelper import add_notebook_menu\n",
    "add_notebook_menu()"
   ]
  },
  {
   "cell_type": "markdown",
   "metadata": {},
   "source": [
    "## Setup\n",
    "\n",
    "Le module est installé d'abord avec l'instruction ``pip install bqplot`` puis avec l'instruction ``jupyter nbextension enable --py bqplot``. Sans cela, le notebook semble bloqué dans l'exécution du code utilisant ce module."
   ]
  },
  {
   "cell_type": "code",
   "execution_count": 42,
   "metadata": {
    "collapsed": true
   },
   "outputs": [],
   "source": [
    "import bqplot"
   ]
  },
  {
   "cell_type": "markdown",
   "metadata": {},
   "source": [
    "## Premiers exemples de la documentation"
   ]
  },
  {
   "cell_type": "code",
   "execution_count": 43,
   "metadata": {
    "collapsed": false
   },
   "outputs": [],
   "source": [
    "from bqplot import pyplot as plt\n",
    "import numpy as np\n",
    "plt.figure(1)\n",
    "np.random.seed(0)\n",
    "n = 200\n",
    "x = np.linspace(0.0, 10.0, n)\n",
    "y = np.cumsum(np.random.randn(n))\n",
    "plt.plot(x,y, axes_options={'y': {'grid_lines': 'dashed'}})\n",
    "plt.show()"
   ]
  },
  {
   "cell_type": "code",
   "execution_count": 44,
   "metadata": {
    "collapsed": true
   },
   "outputs": [],
   "source": [
    "import numpy as np\n",
    "from IPython.display import display\n",
    "import bqplot as bq\n",
    "\n",
    "size = 20\n",
    "np.random.seed(0)\n",
    "\n",
    "x_data = np.arange(size)\n",
    "\n",
    "x_ord = bq.OrdinalScale()\n",
    "y_sc = bq.LinearScale()\n",
    "\n",
    "bar = bq.Bars(x=x_data, y=np.random.randn(2, size), scales={'x': x_ord, 'y': y_sc},\n",
    "              type='stacked')\n",
    "line = bq.Lines(x=x_data, y=np.random.randn(size), scales={'x': x_ord, 'y': y_sc},\n",
    "                stroke_width=3, colors=['red'], display_legend=True, labels=['Line chart'])\n",
    "\n",
    "ax_x = bq.Axis(scale=x_ord)\n",
    "ax_y = bq.Axis(scale=y_sc, orientation='vertical', tick_format='0.2f', grid_lines='solid')\n",
    "\n",
    "fig = bq.Figure(marks=[bar, line], axes=[ax_x, ax_y])\n",
    "display(fig)"
   ]
  },
  {
   "cell_type": "markdown",
   "metadata": {
    "collapsed": true
   },
   "source": [
    "## Animation\n",
    "\n",
    "La seconde cellule définit le graphe. La troisième met à jour le graphique avec une nouvelle série. La mise à jour est progressive."
   ]
  },
  {
   "cell_type": "code",
   "execution_count": 45,
   "metadata": {
    "collapsed": true
   },
   "outputs": [],
   "source": [
    "import numpy as np\n",
    "import bqplot as bq\n",
    "from IPython.display import display"
   ]
  },
  {
   "cell_type": "code",
   "execution_count": 46,
   "metadata": {
    "collapsed": true
   },
   "outputs": [],
   "source": [
    "xs = bq.LinearScale()\n",
    "ys = bq.LinearScale()\n",
    "x = np.arange(100)\n",
    "y = np.cumsum(np.random.randn(2, 100), axis=1) #two random walks\n",
    "\n",
    "line = bq.Lines(x=x, y=y, scales={'x': xs, 'y': ys}, colors=['red', 'green'])\n",
    "xax = bq.Axis(scale=xs, label='x', grid_lines='solid')\n",
    "yax = bq.Axis(scale=ys, orientation='vertical', tick_format='0.2f', label='y', grid_lines='solid')\n",
    "\n",
    "fig = bq.Figure(marks=[line], axes=[xax, yax], animation_duration=1000)\n",
    "display(fig)"
   ]
  },
  {
   "cell_type": "code",
   "execution_count": 47,
   "metadata": {
    "collapsed": true
   },
   "outputs": [],
   "source": [
    "#update data of the line mark\n",
    "line.y = np.cumsum(np.random.randn(2, 100), axis=1)"
   ]
  },
  {
   "cell_type": "markdown",
   "metadata": {},
   "source": [
    "## Cartes"
   ]
  },
  {
   "cell_type": "code",
   "execution_count": 48,
   "metadata": {
    "collapsed": true
   },
   "outputs": [],
   "source": [
    "from IPython.display import display\n",
    "from bqplot import (Figure, Map, Mercator, Orthographic, ColorScale, ColorAxis,\n",
    "                    AlbersUSA, topo_load, Tooltip)"
   ]
  },
  {
   "cell_type": "code",
   "execution_count": 49,
   "metadata": {
    "collapsed": true
   },
   "outputs": [],
   "source": [
    "sc_geo = Mercator()\n",
    "x = Map(scales={'projection': sc_geo})\n",
    "fig = Figure(marks=[x], title='Basic Map Example')\n",
    "display(fig)"
   ]
  },
  {
   "cell_type": "code",
   "execution_count": 50,
   "metadata": {
    "collapsed": true
   },
   "outputs": [],
   "source": [
    "sc_geo = Mercator()\n",
    "sc_c1 = ColorScale(scheme='YlOrRd')\n",
    "\n",
    "map_styles = {'color': {643: 105., 4: 21., 398: 23., 156: 42., 124:78., 76: 98.}, \n",
    "              'scales': {'projection': sc_geo, 'color': sc_c1}}\n",
    "\n",
    "axis = ColorAxis(scale=sc_c1)\n",
    "\n",
    "x = Map(map_data=topo_load('WorldMapData.json'), **map_styles)\n",
    "fig = Figure(marks=[x], axes=[axis],title='Choropleth Example')\n",
    "display(fig)"
   ]
  },
  {
   "cell_type": "markdown",
   "metadata": {},
   "source": [
    "On peut sélectionner des zones de la carte suivante. Je recommande l'usage de Firefox ou Chrome."
   ]
  },
  {
   "cell_type": "code",
   "execution_count": 51,
   "metadata": {
    "collapsed": true
   },
   "outputs": [],
   "source": [
    "def_tt = Tooltip(fields=['id', 'name'])\n",
    "map_mark = Map(scales={'projection': Mercator()}, tooltip=def_tt)\n",
    "map_mark.interactions = {'click': 'select', 'hover': 'tooltip'}\n",
    "fig = Figure(marks=[map_mark], title='Interactions Example')\n",
    "display(fig)"
   ]
  },
  {
   "cell_type": "markdown",
   "metadata": {},
   "source": [
    "## Interactions"
   ]
  },
  {
   "cell_type": "code",
   "execution_count": 52,
   "metadata": {
    "collapsed": true
   },
   "outputs": [],
   "source": [
    "from bqplot import *\n",
    "from IPython.display import display\n",
    "import numpy as np\n",
    "import pandas as pd"
   ]
  },
  {
   "cell_type": "code",
   "execution_count": 53,
   "metadata": {
    "collapsed": true
   },
   "outputs": [],
   "source": [
    "from ipywidgets import *"
   ]
  },
  {
   "cell_type": "code",
   "execution_count": 54,
   "metadata": {
    "collapsed": false
   },
   "outputs": [],
   "source": [
    "x_sc = LinearScale()\n",
    "y_sc = LinearScale()\n",
    "\n",
    "x_data = np.arange(20)\n",
    "y_data = np.random.randn(20)\n",
    "\n",
    "dd = Dropdown(options=['First', 'Second', 'Third', 'Fourth'])\n",
    "scatter_chart = Scatter(x=x_data, y=y_data, scales= {'x': x_sc, 'y': y_sc}, default_colors=['dodgerblue'],\n",
    "                       names=np.arange(100, 200), names_unique=False, display_names=False, display_legend=True,\n",
    "                       labels=['Blue'])\n",
    "ins = Button(icon='fa-legal')\n",
    "scatter_chart.tooltip = ins\n",
    "\n",
    "scatter_chart2 = Scatter(x=x_data, y=np.random.randn(20), \n",
    "                         scales= {'x': x_sc, 'y': y_sc}, default_colors=['orangered'],\n",
    "                         tooltip=dd, names=np.arange(100, 200), names_unique=False, display_names=False, \n",
    "                         display_legend=True, labels=['Red'])\n",
    "\n",
    "ax_x = Axis(scale=x_sc)\n",
    "ax_y = Axis(scale=y_sc, orientation='vertical', tick_format='0.2f')\n",
    "\n",
    "fig = Figure(marks=[scatter_chart, scatter_chart2], axes=[ax_x, ax_y])\n",
    "display(fig)"
   ]
  },
  {
   "cell_type": "markdown",
   "metadata": {},
   "source": [
    "La cellule suivante attrape les événements générées par la souris et affiche ce qu'elle attrape."
   ]
  },
  {
   "cell_type": "code",
   "execution_count": 55,
   "metadata": {
    "collapsed": true
   },
   "outputs": [],
   "source": [
    "def print_event(self, target):\n",
    "    print(target)\n",
    "\n",
    "# Adding call back to scatter events\n",
    "# print custom mssg on hover and background click of Blue Scatter\n",
    "scatter_chart.on_hover(print_event)\n",
    "scatter_chart.on_background_click(print_event)\n",
    "\n",
    "# print custom mssg on click of an element or legend of Red Scatter\n",
    "scatter_chart2.on_element_click(print_event)\n",
    "scatter_chart2.on_legend_click(print_event)"
   ]
  },
  {
   "cell_type": "markdown",
   "metadata": {},
   "source": [
    "On attrape un événement pour afficher un graphe plus complexe."
   ]
  },
  {
   "cell_type": "code",
   "execution_count": 56,
   "metadata": {
    "collapsed": true
   },
   "outputs": [],
   "source": [
    "# Adding figure as tooltip\n",
    "x_sc = LinearScale()\n",
    "y_sc = LinearScale()\n",
    "\n",
    "x_data = np.arange(10)\n",
    "y_data = np.random.randn(10)\n",
    "\n",
    "lc = Lines(x=x_data, y=y_data, scales={'x': x_sc, 'y':y_sc})\n",
    "ax_x = Axis(scale=x_sc)\n",
    "ax_y = Axis(scale=y_sc, orientation='vertical', tick_format='0.2f')\n",
    "tooltip_fig = Figure(marks=[lc], axes=[ax_x, ax_y], min_height=400, min_width=400)\n",
    "\n",
    "scatter_chart.tooltip = tooltip_fig"
   ]
  },
  {
   "cell_type": "code",
   "execution_count": 57,
   "metadata": {
    "collapsed": true
   },
   "outputs": [],
   "source": [
    "# Changing interaction from hover to click for tooltip\n",
    "scatter_chart.interactions = {'click': 'tooltip'}"
   ]
  },
  {
   "cell_type": "code",
   "execution_count": null,
   "metadata": {
    "collapsed": true
   },
   "outputs": [],
   "source": []
  }
 ],
 "metadata": {
  "kernelspec": {
   "display_name": "Python 3",
   "language": "python",
   "name": "python3"
  },
  "language_info": {
   "codemirror_mode": {
    "name": "ipython",
    "version": 3
   },
   "file_extension": ".py",
   "mimetype": "text/x-python",
   "name": "python",
   "nbconvert_exporter": "python",
   "pygments_lexer": "ipython3",
   "version": "3.5.0"
  },
  "widgets": {
   "state": {
    "000e70ec20884d469eb865dae8a67bb6": {
     "views": []
    },
    "003abe2347214b00a0de31de8aaaed56": {
     "views": []
    },
    "004303af5d3246caa1f4f91743c81846": {
     "views": []
    },
    "026b6eb0098847908767fee06d4f429b": {
     "views": []
    },
    "0360389de2f14946bce787f6652f2b7f": {
     "views": []
    },
    "0519912467944cfc9921a9deba9d711f": {
     "views": []
    },
    "070f302eb2d2465fb70289c813e9a272": {
     "views": []
    },
    "07bd049dd68b4f3eb1553857e8c87987": {
     "views": []
    },
    "083c52ca55834c27b705435174893312": {
     "views": []
    },
    "08d1b0a974074a92a73065b3c49ff888": {
     "views": []
    },
    "0934f086388a4fe384c53fe8d53eb830": {
     "views": []
    },
    "0ad123cd6ca342d9a58aea2b131eea9c": {
     "views": []
    },
    "0b5a6dbab01e4e4a9d4125c59f0d0c3c": {
     "views": []
    },
    "0e60cedcad30454d9b70ad37cfa332ed": {
     "views": []
    },
    "0f18f815bfba443d8a767cdb9ac1640c": {
     "views": []
    },
    "1001478c22b2458385457d94d099829a": {
     "views": []
    },
    "10a8775bc9484dd4b5aba87deed3bbb4": {
     "views": []
    },
    "130178f68fde426ebfe4330f1268e028": {
     "views": []
    },
    "1329a08769a942da9853a638f31aeb63": {
     "views": []
    },
    "1467eaa38b24400fabe232590d0a0d47": {
     "views": []
    },
    "15010994e2384aca8e86507899458290": {
     "views": []
    },
    "15a68aa7faf44410bea4978b7896e7dd": {
     "views": []
    },
    "179d6de9632043f283ddb8f48bcc274b": {
     "views": []
    },
    "192e457a110946309bc131fe037bf6f0": {
     "views": []
    },
    "1a21a772fb184430bc89e7f580d30a3d": {
     "views": []
    },
    "1a55c6e02c994c0fa687c2f56109b32b": {
     "views": []
    },
    "1d83a9edeeaf412cb1b581c1ec9d921c": {
     "views": []
    },
    "1e5ac06a88554bd594744fdd3005b56d": {
     "views": []
    },
    "1e819eb5506f4e138267c58b95864e98": {
     "views": []
    },
    "1f06db5abbd2488ba027bc64e1197c6c": {
     "views": []
    },
    "1f6bc34d2fbf40efae64a739ee180864": {
     "views": []
    },
    "21c8ac8f52294d10bb1de8a725bdc38a": {
     "views": [
      {
       "cell_index": 10
      }
     ]
    },
    "254d686114304b8a981cfd71f363b9be": {
     "views": []
    },
    "259f7334860a4766bae17374e389669f": {
     "views": []
    },
    "260c2039173948d4932f3ac7eec3a694": {
     "views": []
    },
    "263ce71d3d0b4c5ba356886da679f965": {
     "views": []
    },
    "2732d2fd01bd43a89d2631443a757df5": {
     "views": []
    },
    "2c3e66a351ee41a18ef049d7c7986dec": {
     "views": []
    },
    "2e01909f57b844cea663799c5c7ad75d": {
     "views": []
    },
    "2ea3df298d014aa9a3cc1d9bf0710997": {
     "views": [
      {
       "cell_index": 6
      }
     ]
    },
    "2f2b340e3ac94122ae46a14ead69180f": {
     "views": []
    },
    "2f979be0a79741f99bbde5b13fff789d": {
     "views": []
    },
    "323d91be004b43e9af93b0d66d75f4ce": {
     "views": []
    },
    "32e008b61aa74776ba3aec41647bfdf9": {
     "views": []
    },
    "33331e47569e4e568c087fa19f2195fc": {
     "views": []
    },
    "3423e4eb91dd4005b38497d15663a32a": {
     "views": []
    },
    "35db25a8dd7a458db1b7a59fe5136cbb": {
     "views": []
    },
    "3661ca5ce7de44128cc882a5989d1500": {
     "views": []
    },
    "36929c2279b74500a41bb71c62b36a6a": {
     "views": []
    },
    "37df5338530d4a1fbc388975783c6269": {
     "views": []
    },
    "37ebb4db765d4824887dc027bf3b5207": {
     "views": []
    },
    "387e8180713b4b1780f93af271204e02": {
     "views": []
    },
    "3925dd8d05f940eb8ea85022617db24d": {
     "views": []
    },
    "3971b27125a940c0b611cd36ff12ca5e": {
     "views": []
    },
    "3a351d52e1fa43ff8ff33f8b1ddfc728": {
     "views": []
    },
    "3b87fc2951384d95a14c0f417917311e": {
     "views": []
    },
    "3c72c3aded8a44a3bab4d68071cb3298": {
     "views": []
    },
    "3ded13534681405080ba452c20ac10a6": {
     "views": []
    },
    "3f5ae1dcc20b49569d27f0535691ea95": {
     "views": []
    },
    "3f5b84de18094750a6bef7bc116bbbcb": {
     "views": []
    },
    "3fc1eacfeb7747148bf79d97a2ab915f": {
     "views": []
    },
    "3fcbff9d1d9d4259a6be7cba3384d521": {
     "views": []
    },
    "404f4315f19a4f8d94bd1be5c5a7ad6d": {
     "views": []
    },
    "4168434a540c4fe09ffd3333eee7506a": {
     "views": []
    },
    "418faca299e74bbeaada70cbe2192ba2": {
     "views": []
    },
    "41d8cb8b0db34e918bbff81629983aa7": {
     "views": []
    },
    "43159b053a914bf3911befe337cd87ab": {
     "views": []
    },
    "456cbbce60114c8fa9d38a9e1564eb2e": {
     "views": []
    },
    "4596a95df67a4969b87e1f917deaa7ef": {
     "views": []
    },
    "4774cda0647a4078ad4bc2294c9d9927": {
     "views": []
    },
    "47a2133836794cee80fd0510a1a10869": {
     "views": []
    },
    "4c88c81f93f548aab0ec2019a6eb1d7d": {
     "views": []
    },
    "4ecd282b7b30435b9421df7cd86c0a64": {
     "views": []
    },
    "5047959a4d8b441da9a9c7ac7b11ae68": {
     "views": []
    },
    "521db3217b964b25bcf1691969e3547e": {
     "views": []
    },
    "559ca7479dff460394b65213ff37e41b": {
     "views": []
    },
    "568fb83f1fd7430eba0234629ef553ee": {
     "views": [
      {
       "cell_index": 14
      }
     ]
    },
    "57b7fc721be1484689f407c2f5d09c1e": {
     "views": []
    },
    "589ac64c991845d2853a30962cc89c06": {
     "views": []
    },
    "5b0c9a02fd1b4b578e99d1fe61320eaa": {
     "views": []
    },
    "5da2d1c88356401c87de99b8f3a23149": {
     "views": []
    },
    "5f4a330d0d60463b98c3e8d4342f2f4c": {
     "views": []
    },
    "63696f1147f348c49322a0c903f222b4": {
     "views": []
    },
    "641dbb44862d4679a829cf9a59374199": {
     "views": [
      {
       "cell_index": 15
      }
     ]
    },
    "665786f668484d51a73b65336c875eeb": {
     "views": []
    },
    "6871db3bb25540fabc4ebba304302111": {
     "views": []
    },
    "69574ff7321d488db486b1650b55232c": {
     "views": []
    },
    "6d981b2e5c5f475bbd86b69f039d4fb0": {
     "views": []
    },
    "6e0395f9ee7343e6aaf6bbbd49a26814": {
     "views": []
    },
    "6e95ff9b20964d6ebde315ae887c6cef": {
     "views": []
    },
    "6ed9384f871246e0b402aa46b6ea01b2": {
     "views": []
    },
    "70e4cb531afc4a4f994d72f3ad6d04cb": {
     "views": []
    },
    "7104877e19164014b3838f11b686096e": {
     "views": []
    },
    "71b1fac99712431b8717647767f22076": {
     "views": []
    },
    "71c1e6fa83db4710ada8ef1a0378f409": {
     "views": []
    },
    "73b92d9e7d4749578236d87d28f80877": {
     "views": []
    },
    "73dbe16c38044afab1dbd8c39f46b9a4": {
     "views": []
    },
    "7639cdbd6ac84faeaa12f17dc3c8a9ed": {
     "views": []
    },
    "7653e13ba1df4794918ca212653de028": {
     "views": []
    },
    "769413a527c7405a87438f83e1549328": {
     "views": []
    },
    "7724504b2b964e87b518d75536e278ae": {
     "views": []
    },
    "773eac6364d04786972b5c8449b28bc3": {
     "views": []
    },
    "79f5d8f29f8441149791c723ae4a6660": {
     "views": []
    },
    "79f9d20a417f437ba1f461e50afd34d1": {
     "views": []
    },
    "7a059b95866b4863b99ef121fb329b58": {
     "views": []
    },
    "7bf5036e263b4d0fbaa382c053b20149": {
     "views": []
    },
    "7cf917b40de146f895c911128ec3b444": {
     "views": []
    },
    "7e6a2aa042af489cae08056d4a155b34": {
     "views": []
    },
    "7f0a127e2ced46f98cea3e895c64025b": {
     "views": []
    },
    "7f53f8cddd474653b16a4c06d50c51b8": {
     "views": [
      {
       "cell_index": 17
      }
     ]
    },
    "7f5a36d495f24134b4b087f8cfa34f71": {
     "views": []
    },
    "7fda57eb68ef4a36b8213aea95b57f2b": {
     "views": []
    },
    "7fdfd2ffd3ff448bbf8f7395dae2324d": {
     "views": []
    },
    "80fd08b75ed34100a66ff8ba06187fa0": {
     "views": []
    },
    "82322089ca6d4b38ab3fac1f69d93856": {
     "views": []
    },
    "8296631af9924c42938d9588e1febfec": {
     "views": []
    },
    "8387d316934342208d052066967464d8": {
     "views": []
    },
    "840c428377dd4ea1b6ab7a1bb532f7cf": {
     "views": []
    },
    "8448b8c177d24fbaa7921d5241bad929": {
     "views": []
    },
    "86ddf87142d44058885a3e31fced11b3": {
     "views": []
    },
    "878c9d7448f549f8825e21a5fdcc4365": {
     "views": []
    },
    "897ce94192c24434ba0b1c5b45d7925b": {
     "views": []
    },
    "8d1eb18fd4514d2494cab6e96db79194": {
     "views": [
      {
       "cell_index": 21
      }
     ]
    },
    "8d74fcbf14b14aa09035d1c401dd10ad": {
     "views": []
    },
    "8e86a5615ba640c3b8fd83f90bdfb8ac": {
     "views": []
    },
    "8f5aee4c35334ae59d02c89fa9bd36bf": {
     "views": []
    },
    "8fad2bf13c834d5eb915e439b04c9e30": {
     "views": []
    },
    "9048eb019f92494ba93bd4cfbbdcdc2b": {
     "views": []
    },
    "93a98b11f9f04cecb266472f28d7b852": {
     "views": []
    },
    "93f9c0a07ead49e6ba79c2ce883fc154": {
     "views": []
    },
    "975593ca680d40e390746a4248eef891": {
     "views": []
    },
    "978008029c0a43d694e4d8a99fc059a5": {
     "views": []
    },
    "97df18d3fb8941e4b210f1d5124d5651": {
     "views": []
    },
    "987afd1e96cd4623bcaf0286522b68f7": {
     "views": []
    },
    "988ea64bdcec4d3b9d622dce2029174c": {
     "views": []
    },
    "996a9c17ecf0439d84cda3cdeb6d5f7f": {
     "views": []
    },
    "9a54ea127aae4c01bffc45f676a6be5c": {
     "views": []
    },
    "9a5de099dfad4372a4ea992804433e04": {
     "views": []
    },
    "9c19631a0d9146eabdf918b2c5dc614d": {
     "views": []
    },
    "9e4a4e02cf13431ba5978fe2b9ada373": {
     "views": []
    },
    "9f2abedf49354218a8c5611e927386b1": {
     "views": []
    },
    "9f69b6b646c24334a07ae28c55fc3b42": {
     "views": []
    },
    "9f8efa79571e47c6a2956b234013bec5": {
     "views": []
    },
    "a1028c41aa7147b2bb65dd29217b6123": {
     "views": []
    },
    "a12fdd04dbf74e34ab4acc28dce8467f": {
     "views": []
    },
    "a16daf9d39444b068dd97fbfb4df6a93": {
     "views": []
    },
    "a18863929e0446289aefa6920acaec2e": {
     "views": []
    },
    "a1fec39076064d94bc11f6fae60c5f7b": {
     "views": []
    },
    "a29c428473a44882a131e4ee1215cf5a": {
     "views": []
    },
    "a3e1800f99fe44c9957fb16f2db5c431": {
     "views": []
    },
    "a9f7067957294268b00db15e887bf424": {
     "views": []
    },
    "aa9cb1b0d8cf437180ee8472dd4c6d7f": {
     "views": []
    },
    "aacf1360e2164a1b8755ca1751536373": {
     "views": []
    },
    "ab779fafed5444938a314bc20db6d2a5": {
     "views": []
    },
    "abdf554b8e314ebab764fff95863a705": {
     "views": []
    },
    "ac7677348ab0496bbe6bd800c8becbe1": {
     "views": []
    },
    "ad50078d96004ea5930ad0e1ee0a2947": {
     "views": []
    },
    "af5ede79f9e54865b7496b5035b237fd": {
     "views": []
    },
    "af64759bb8a0464cb9b822b93da84e15": {
     "views": []
    },
    "b08aaf1a12ab41b59fade8cf5a87ba96": {
     "views": []
    },
    "b1c078a809e94074bf0fdbde9feb458e": {
     "views": []
    },
    "b2054184676c486fbfc60d27b31eb75d": {
     "views": []
    },
    "b3d233e3ee86416a88b0b783e916d7eb": {
     "views": []
    },
    "b8264d6244e6479f999cba78c67ab7ca": {
     "views": []
    },
    "b82fdcfc4af046398a87d6cc0106789e": {
     "views": []
    },
    "b8a142bf6be048b5904575190d91f74d": {
     "views": []
    },
    "b9ede69eb17a47e89640d0482688e106": {
     "views": []
    },
    "ba8056cc1e704481850d4e0ce7d52879": {
     "views": []
    },
    "bb21f1ac53d04c5a8b3b7f34a192aed1": {
     "views": []
    },
    "bdc2b1432f64457ca553e62c0b879e64": {
     "views": []
    },
    "be84a70326064b94bc2be8eea65eb008": {
     "views": []
    },
    "bf93635b900d4485bcc1947331dfa9a0": {
     "views": []
    },
    "c080c4f3817b468ea72c4565e0b28e13": {
     "views": []
    },
    "c0a0049e5992406dbca736995efa4a5f": {
     "views": []
    },
    "c2c92d82a92a43aa8184eebb16630b6f": {
     "views": []
    },
    "c32855febea5439690f863f1d937f98d": {
     "views": []
    },
    "c486e423216e404985c1ddec0bff75ce": {
     "views": []
    },
    "c56da8f4f91b498fb33443dd2654400c": {
     "views": []
    },
    "c74882c97a1f430db3729d9422790198": {
     "views": []
    },
    "c753d0ed626542319d3086b5747e13ee": {
     "views": []
    },
    "c8702b80e0164d138338a383358e2f5d": {
     "views": []
    },
    "c8dae3e513754fd898ff647c56e79022": {
     "views": []
    },
    "cb47fe4f8e1d497d956f0b89655576d7": {
     "views": []
    },
    "cee983e1d6914eeda81f409e1996cd2e": {
     "views": []
    },
    "cf7b452353de4b69b88258fb60ef937a": {
     "views": []
    },
    "d02314f0d35e4a99bb4667cf6a97a587": {
     "views": []
    },
    "d02e601b8bab481cbe3c073871737ae4": {
     "views": []
    },
    "d059b7d5a35f4ec9b7f367ddad4e9354": {
     "views": []
    },
    "d4df58d177b7417dac98b39d6ee8fff8": {
     "views": []
    },
    "d7c3fa44e3734d35932ff5e29a1391f1": {
     "views": []
    },
    "d915c2cecac14c87a0a221f22571e71b": {
     "views": []
    },
    "da6d5fdb280a43b4b93039b851f5af9c": {
     "views": []
    },
    "ddb27d71dd504dc2adc687ce56e30d6c": {
     "views": []
    },
    "de8d159374fb4c109ceeefeb28dc0503": {
     "views": []
    },
    "df4626c0f0fe4f40b125c45e83e41a34": {
     "views": []
    },
    "dfa0b30002ff47699d1ea0c1b9fbbc63": {
     "views": []
    },
    "e50080676a5a44f19b8945916632e1e7": {
     "views": []
    },
    "e60da67b4cd74aabb6d15cf5079b2aac": {
     "views": []
    },
    "e9a30d52c0804c8f8f0011ab8efa509b": {
     "views": []
    },
    "ea65c2cceb9f4a378ef3953a87d088ac": {
     "views": []
    },
    "eeccc19f01454a2d82db1bd254f18433": {
     "views": []
    },
    "ef9c31844665427e8620e980ad5df43c": {
     "views": []
    },
    "f0ed08ad93ff4e20869d77a6d5de46af": {
     "views": []
    },
    "f0f2cca0d0cb4c92af14bf46aaff77ec": {
     "views": []
    },
    "f13a5bc7daa840838e39718efbca3db5": {
     "views": []
    },
    "f18bf512fb59408e951f9470c407c3c8": {
     "views": []
    },
    "f2a6cdcfb91d4c70b14b27771ab5a10b": {
     "views": []
    },
    "f3c708ed3d31463dadddd04ea3d19513": {
     "views": []
    },
    "f4db1df20c7743daa95d8e47b1732c5a": {
     "views": []
    },
    "f6381aa16766410084c1e0b066e4c849": {
     "views": []
    },
    "f638a7cc87af42c1a04c7d857ccc8dff": {
     "views": [
      {
       "cell_index": 7
      }
     ]
    },
    "f6ae7fcef8db4c0ea5cbd6ef631e770c": {
     "views": []
    },
    "f94d29e4a4d04843b3fed2331087a295": {
     "views": []
    },
    "f9b8fd3cc4964b128d379af2313c6aab": {
     "views": []
    },
    "fa6539f28a3f4ee59ca37e5e2d1158bf": {
     "views": []
    },
    "fa9526148dff462394d63376924c446a": {
     "views": []
    },
    "fd9d15115186475f8742a75f57444f6f": {
     "views": []
    }
   },
   "version": "1.1.2"
  }
 },
 "nbformat": 4,
 "nbformat_minor": 0
}
