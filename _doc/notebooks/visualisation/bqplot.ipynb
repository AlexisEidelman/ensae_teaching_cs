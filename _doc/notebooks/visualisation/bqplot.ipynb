{
 "cells": [
  {
   "cell_type": "markdown",
   "metadata": {},
   "source": [
    "# bqplot\n",
    "\n",
    "C'est une des librairies mises en avant par un des principaux contributeurs de Jupyter. Un gros inconvénient, il faut exécuter le notebook pour voir les graphiques. De la même manière, la conversion au format HTML ne fonctionne pas.\n",
    "\n",
    "* [source](https://github.com/bloomberg/bqplot)\n",
    "* [installation](https://pypi.python.org/pypi/bqplot/)\n",
    "* [examples](https://github.com/bloomberg/bqplot/tree/master/examples)"
   ]
  },
  {
   "cell_type": "code",
   "execution_count": 19,
   "metadata": {
    "collapsed": true
   },
   "outputs": [],
   "source": [
    "%matplotlib inline"
   ]
  },
  {
   "cell_type": "code",
   "execution_count": 20,
   "metadata": {
    "collapsed": false
   },
   "outputs": [
    {
     "data": {
      "text/html": [
       "<div id=\"my_id_menu_nb\">run previous cell, wait for 2 seconds</div>\n",
       "<script>\n",
       "function repeat_indent_string(n){\n",
       "    var a = \"\" ;\n",
       "    for ( ; n > 0 ; --n) {\n",
       "        a += \"    \";\n",
       "    }\n",
       "    return a;\n",
       "}\n",
       "var update_menu_string = function(begin, lfirst, llast, sformat, send) {\n",
       "    var anchors = document.getElementsByClassName(\"section\");\n",
       "    if (anchors.length == 0) {\n",
       "        anchors = document.getElementsByClassName(\"text_cell_render rendered_html\");\n",
       "    }\n",
       "    var i,t;\n",
       "    var text_menu = begin;\n",
       "    var text_memo = \"<pre>\\nlength:\" + anchors.length + \"\\n\";\n",
       "    var ind = \"\";\n",
       "    var memo_level = 1;\n",
       "    var href;\n",
       "    var tags = [];\n",
       "    for (i = 0; i <= llast; i++) {\n",
       "        tags.push(\"h\" + i);\n",
       "    }\n",
       "\n",
       "    for (i = 0; i < anchors.length; i++) {\n",
       "        text_memo += \"**\" + anchors[i].id + \"--\\n\";\n",
       "\n",
       "        var child = null;\n",
       "        for(t = 0; t < tags.length; t++) {\n",
       "            var r = anchors[i].getElementsByTagName(tags[t]);\n",
       "            if (r.length > 0) {\n",
       "child = r[0];\n",
       "break;\n",
       "            }\n",
       "        }\n",
       "        if (child == null){\n",
       "            text_memo += \"null\\n\";\n",
       "            continue;\n",
       "        }\n",
       "\n",
       "        if (anchors[i].hasAttribute(\"id\")) {\n",
       "            // when converted in RST\n",
       "            href = anchors[i].id;\n",
       "            text_memo += \"#1-\" + href;\n",
       "            // passer à child suivant (le chercher)\n",
       "        }\n",
       "        else if (child.hasAttribute(\"id\")) {\n",
       "            // in a notebook\n",
       "            href = child.id;\n",
       "            text_memo += \"#2-\" + href;\n",
       "        }\n",
       "        else {\n",
       "            text_memo += \"#3-\" + \"*\" + \"\\n\";\n",
       "            continue;\n",
       "        }\n",
       "        var title = child.textContent;\n",
       "        var level = parseInt(child.tagName.substring(1,2));\n",
       "\n",
       "        text_memo += \"--\" + level + \"?\" + lfirst + \"--\" + title + \"\\n\";\n",
       "\n",
       "        if ((level < lfirst) || (level > llast)) {\n",
       "            continue ;\n",
       "        }\n",
       "        if (title.endsWith('¶')) {\n",
       "            title = title.substring(0,title.length-1).replace(\"<\", \"&lt;\").replace(\">\", \"&gt;\").replace(\"&\", \"&amp;\")\n",
       "        }\n",
       "\n",
       "        if (title.length == 0) {\n",
       "            continue;\n",
       "        }\n",
       "        while (level > memo_level) {\n",
       "            text_menu += \"<ul>\\n\";\n",
       "            memo_level += 1;\n",
       "        }\n",
       "        while (level < memo_level) {\n",
       "            text_menu += \"</ul>\\n\";\n",
       "            memo_level -= 1;\n",
       "        }\n",
       "        text_menu += repeat_indent_string(level-2) + sformat.replace(\"__HREF__\", href).replace(\"__TITLE__\", title);\n",
       "    }\n",
       "    while (1 < memo_level) {\n",
       "        text_menu += \"</ul>\\n\";\n",
       "        memo_level -= 1;\n",
       "    }\n",
       "    text_menu += send;\n",
       "    //text_menu += \"\\n\" + text_memo;\n",
       "    return text_menu;\n",
       "};\n",
       "var update_menu = function() {\n",
       "    var sbegin = \"\";\n",
       "    var sformat = '<li><a href=\"#__HREF__\">__TITLE__</a></li>';\n",
       "    var send = \"\";\n",
       "    var text_menu = update_menu_string(sbegin, 2, 4, sformat, send);\n",
       "    var menu = document.getElementById(\"my_id_menu_nb\");\n",
       "    menu.innerHTML=text_menu;\n",
       "};\n",
       "window.setTimeout(update_menu,2000);\n",
       "            </script>"
      ],
      "text/plain": [
       "<IPython.core.display.HTML object>"
      ]
     },
     "execution_count": 20,
     "metadata": {},
     "output_type": "execute_result"
    }
   ],
   "source": [
    "from pyquickhelper.ipythonhelper import add_notebook_menu\n",
    "add_notebook_menu()"
   ]
  },
  {
   "cell_type": "markdown",
   "metadata": {},
   "source": [
    "## Setup\n",
    "\n",
    "Le module est installé d'abord avec l'instruction ``pip install bqplot`` puis avec l'instruction ``jupyter nbextension enable --py bqplot``. Sans cela, le notebook semble bloqué dans l'exécution du code utilisant ce module."
   ]
  },
  {
   "cell_type": "code",
   "execution_count": 21,
   "metadata": {
    "collapsed": true
   },
   "outputs": [],
   "source": [
    "import bqplot"
   ]
  },
  {
   "cell_type": "markdown",
   "metadata": {},
   "source": [
    "## Premiers exemples de la documentation"
   ]
  },
  {
   "cell_type": "code",
   "execution_count": 22,
   "metadata": {
    "collapsed": false
   },
   "outputs": [],
   "source": [
    "from bqplot import pyplot as plt\n",
    "import numpy as np\n",
    "plt.figure(1)\n",
    "np.random.seed(0)\n",
    "n = 200\n",
    "x = np.linspace(0.0, 10.0, n)\n",
    "y = np.cumsum(np.random.randn(n))\n",
    "plt.plot(x,y, axes_options={'y': {'grid_lines': 'dashed'}})\n",
    "plt.show()"
   ]
  },
  {
   "cell_type": "code",
   "execution_count": 23,
   "metadata": {
    "collapsed": true
   },
   "outputs": [],
   "source": [
    "import numpy as np\n",
    "from IPython.display import display\n",
    "import bqplot as bq\n",
    "\n",
    "size = 20\n",
    "np.random.seed(0)\n",
    "\n",
    "x_data = np.arange(size)\n",
    "\n",
    "x_ord = bq.OrdinalScale()\n",
    "y_sc = bq.LinearScale()\n",
    "\n",
    "bar = bq.Bars(x=x_data, y=np.random.randn(2, size), scales={'x': x_ord, 'y': y_sc},\n",
    "              type='stacked')\n",
    "line = bq.Lines(x=x_data, y=np.random.randn(size), scales={'x': x_ord, 'y': y_sc},\n",
    "                stroke_width=3, colors=['red'], display_legend=True, labels=['Line chart'])\n",
    "\n",
    "ax_x = bq.Axis(scale=x_ord)\n",
    "ax_y = bq.Axis(scale=y_sc, orientation='vertical', tick_format='0.2f', grid_lines='solid')\n",
    "\n",
    "fig = bq.Figure(marks=[bar, line], axes=[ax_x, ax_y])\n",
    "display(fig)"
   ]
  },
  {
   "cell_type": "markdown",
   "metadata": {
    "collapsed": true
   },
   "source": [
    "## Animation\n",
    "\n",
    "La seconde cellule définit le graphe. La troisième met à jour le graphique avec une nouvelle série. La mise à jour est progressive."
   ]
  },
  {
   "cell_type": "code",
   "execution_count": 24,
   "metadata": {
    "collapsed": true
   },
   "outputs": [],
   "source": [
    "import numpy as np\n",
    "import bqplot as bq\n",
    "from IPython.display import display"
   ]
  },
  {
   "cell_type": "code",
   "execution_count": 25,
   "metadata": {
    "collapsed": true
   },
   "outputs": [],
   "source": [
    "xs = bq.LinearScale()\n",
    "ys = bq.LinearScale()\n",
    "x = np.arange(100)\n",
    "y = np.cumsum(np.random.randn(2, 100), axis=1) #two random walks\n",
    "\n",
    "line = bq.Lines(x=x, y=y, scales={'x': xs, 'y': ys}, colors=['red', 'green'])\n",
    "xax = bq.Axis(scale=xs, label='x', grid_lines='solid')\n",
    "yax = bq.Axis(scale=ys, orientation='vertical', tick_format='0.2f', label='y', grid_lines='solid')\n",
    "\n",
    "fig = bq.Figure(marks=[line], axes=[xax, yax], animation_duration=1000)\n",
    "display(fig)"
   ]
  },
  {
   "cell_type": "code",
   "execution_count": 26,
   "metadata": {
    "collapsed": true
   },
   "outputs": [],
   "source": [
    "#update data of the line mark\n",
    "line.y = np.cumsum(np.random.randn(2, 100), axis=1)"
   ]
  },
  {
   "cell_type": "markdown",
   "metadata": {},
   "source": [
    "## Cartes"
   ]
  },
  {
   "cell_type": "code",
   "execution_count": 27,
   "metadata": {
    "collapsed": true
   },
   "outputs": [],
   "source": [
    "from IPython.display import display\n",
    "from bqplot import (Figure, Map, Mercator, Orthographic, ColorScale, ColorAxis,\n",
    "                    AlbersUSA, topo_load, Tooltip)"
   ]
  },
  {
   "cell_type": "code",
   "execution_count": 28,
   "metadata": {
    "collapsed": true
   },
   "outputs": [],
   "source": [
    "sc_geo = Mercator()\n",
    "x = Map(scales={'projection': sc_geo})\n",
    "fig = Figure(marks=[x], title='Basic Map Example')\n",
    "display(fig)"
   ]
  },
  {
   "cell_type": "code",
   "execution_count": 29,
   "metadata": {
    "collapsed": true
   },
   "outputs": [],
   "source": [
    "sc_geo = Mercator()\n",
    "sc_c1 = ColorScale(scheme='YlOrRd')\n",
    "\n",
    "map_styles = {'color': {643: 105., 4: 21., 398: 23., 156: 42., 124:78., 76: 98.}, \n",
    "              'scales': {'projection': sc_geo, 'color': sc_c1}}\n",
    "\n",
    "axis = ColorAxis(scale=sc_c1)\n",
    "\n",
    "x = Map(map_data=topo_load('WorldMapData.json'), **map_styles)\n",
    "fig = Figure(marks=[x], axes=[axis],title='Choropleth Example')\n",
    "display(fig)"
   ]
  },
  {
   "cell_type": "markdown",
   "metadata": {},
   "source": [
    "On peut sélectionner des zones de la carte suivante. Je recommande l'usage de Firefox ou Chrome."
   ]
  },
  {
   "cell_type": "code",
   "execution_count": 30,
   "metadata": {
    "collapsed": true
   },
   "outputs": [],
   "source": [
    "def_tt = Tooltip(fields=['id', 'name'])\n",
    "map_mark = Map(scales={'projection': Mercator()}, tooltip=def_tt)\n",
    "map_mark.interactions = {'click': 'select', 'hover': 'tooltip'}\n",
    "fig = Figure(marks=[map_mark], title='Interactions Example')\n",
    "display(fig)"
   ]
  },
  {
   "cell_type": "markdown",
   "metadata": {},
   "source": [
    "## Interactions"
   ]
  },
  {
   "cell_type": "code",
   "execution_count": 31,
   "metadata": {
    "collapsed": true
   },
   "outputs": [],
   "source": [
    "from bqplot import *\n",
    "from IPython.display import display\n",
    "import numpy as np\n",
    "import pandas as pd"
   ]
  },
  {
   "cell_type": "code",
   "execution_count": 32,
   "metadata": {
    "collapsed": true
   },
   "outputs": [],
   "source": [
    "from ipywidgets import *"
   ]
  },
  {
   "cell_type": "code",
   "execution_count": 33,
   "metadata": {
    "collapsed": false
   },
   "outputs": [],
   "source": [
    "x_sc = LinearScale()\n",
    "y_sc = LinearScale()\n",
    "\n",
    "x_data = np.arange(20)\n",
    "y_data = np.random.randn(20)\n",
    "\n",
    "dd = Dropdown(options=['First', 'Second', 'Third', 'Fourth'])\n",
    "scatter_chart = Scatter(x=x_data, y=y_data, scales= {'x': x_sc, 'y': y_sc}, default_colors=['dodgerblue'],\n",
    "                       names=np.arange(100, 200), names_unique=False, display_names=False, display_legend=True,\n",
    "                       labels=['Blue'])\n",
    "ins = Button(icon='fa-legal')\n",
    "scatter_chart.tooltip = ins\n",
    "\n",
    "scatter_chart2 = Scatter(x=x_data, y=np.random.randn(20), \n",
    "                         scales= {'x': x_sc, 'y': y_sc}, default_colors=['orangered'],\n",
    "                         tooltip=dd, names=np.arange(100, 200), names_unique=False, display_names=False, \n",
    "                         display_legend=True, labels=['Red'])\n",
    "\n",
    "ax_x = Axis(scale=x_sc)\n",
    "ax_y = Axis(scale=y_sc, orientation='vertical', tick_format='0.2f')\n",
    "\n",
    "fig = Figure(marks=[scatter_chart, scatter_chart2], axes=[ax_x, ax_y])\n",
    "display(fig)"
   ]
  },
  {
   "cell_type": "markdown",
   "metadata": {},
   "source": [
    "La cellule suivante attrape les événements générées par la souris et affiche ce qu'elle attrape."
   ]
  },
  {
   "cell_type": "code",
   "execution_count": 34,
   "metadata": {
    "collapsed": true
   },
   "outputs": [],
   "source": [
    "def print_event(self, target):\n",
    "    print(target)\n",
    "\n",
    "# Adding call back to scatter events\n",
    "# print custom mssg on hover and background click of Blue Scatter\n",
    "scatter_chart.on_hover(print_event)\n",
    "scatter_chart.on_background_click(print_event)\n",
    "\n",
    "# print custom mssg on click of an element or legend of Red Scatter\n",
    "scatter_chart2.on_element_click(print_event)\n",
    "scatter_chart2.on_legend_click(print_event)"
   ]
  },
  {
   "cell_type": "markdown",
   "metadata": {},
   "source": [
    "On attrape un événement pour afficher un graphe plus complexe."
   ]
  },
  {
   "cell_type": "code",
   "execution_count": 35,
   "metadata": {
    "collapsed": true
   },
   "outputs": [],
   "source": [
    "# Adding figure as tooltip\n",
    "x_sc = LinearScale()\n",
    "y_sc = LinearScale()\n",
    "\n",
    "x_data = np.arange(10)\n",
    "y_data = np.random.randn(10)\n",
    "\n",
    "lc = Lines(x=x_data, y=y_data, scales={'x': x_sc, 'y':y_sc})\n",
    "ax_x = Axis(scale=x_sc)\n",
    "ax_y = Axis(scale=y_sc, orientation='vertical', tick_format='0.2f')\n",
    "tooltip_fig = Figure(marks=[lc], axes=[ax_x, ax_y], min_height=400, min_width=400)\n",
    "\n",
    "scatter_chart.tooltip = tooltip_fig"
   ]
  },
  {
   "cell_type": "code",
   "execution_count": 36,
   "metadata": {
    "collapsed": true
   },
   "outputs": [],
   "source": [
    "# Changing interaction from hover to click for tooltip\n",
    "scatter_chart.interactions = {'click': 'tooltip'}"
   ]
  },
  {
   "cell_type": "code",
   "execution_count": null,
   "metadata": {
    "collapsed": true
   },
   "outputs": [],
   "source": []
  }
 ],
 "metadata": {
  "kernelspec": {
   "display_name": "Python 3",
   "language": "python",
   "name": "python3"
  },
  "language_info": {
   "codemirror_mode": {
    "name": "ipython",
    "version": 3
   },
   "file_extension": ".py",
   "mimetype": "text/x-python",
   "name": "python",
   "nbconvert_exporter": "python",
   "pygments_lexer": "ipython3",
   "version": "3.5.0"
  },
  "widgets": {
   "state": {
    "00c4063d0f014e0fb070949887220fc1": {
     "views": []
    },
    "0672ec4c456f4c4a88f0b1868c77ce11": {
     "views": []
    },
    "07fbf3c3751743518faf7aead4e4873b": {
     "views": []
    },
    "0ebcce6238f04f9ab3dfaba06f5bbcfd": {
     "views": []
    },
    "0f4c8c0b91474050bd73a47625d192a8": {
     "views": []
    },
    "12a3615cd8464c16a896e9cdf993dcdb": {
     "views": []
    },
    "1322610a896c4016a39bd94ed849088d": {
     "views": [
      {
       "cell_index": 21
      }
     ]
    },
    "13e0260889bf4fb69298de40b475a96f": {
     "views": []
    },
    "145e23bf18b042e98a4c57ee9eea0ee2": {
     "views": [
      {
       "cell_index": 10
      }
     ]
    },
    "1465613a5f104d47b0cce779cfc0a38a": {
     "views": []
    },
    "16d6fa5b189f40b3a50b8c9fbf73b29f": {
     "views": []
    },
    "17a12c68d1b14cb895d368ac5258061a": {
     "views": []
    },
    "17ba8b3edbe6435fb2855a1d272fe0a6": {
     "views": []
    },
    "189fb81818544660963bd2fd0f92fe72": {
     "views": []
    },
    "1ade450850f443fc83712bf6df36a247": {
     "views": []
    },
    "1b79afb5ec6d47a983dd1e0882af98b0": {
     "views": []
    },
    "1eea579f3ee84d338d20fc727510a448": {
     "views": []
    },
    "1ef10689bdfa4fc38f1a83e8e1ef187b": {
     "views": []
    },
    "20595b13f6fb404cb6048523711f98d8": {
     "views": []
    },
    "2360b4743e4241079a65ed3d82458c0c": {
     "views": []
    },
    "238b9f580b914977b87b0414d2e3d001": {
     "views": []
    },
    "23d5899f8cf949e28e49d9d575d5aee3": {
     "views": []
    },
    "2406f1c8610341199b75c58e3c4b97e9": {
     "views": []
    },
    "245409990f59419b9ffa2daee973544e": {
     "views": []
    },
    "25081a78fe5b44e489858eee3c480e7c": {
     "views": []
    },
    "250f96cf7da443a6a2888a9219942b41": {
     "views": [
      {
       "cell_index": 14
      }
     ]
    },
    "2b44def4c23e459faafd86ac31d74f05": {
     "views": []
    },
    "2d5c9bfee2694cba840d981cc94b6500": {
     "views": []
    },
    "2f777a57e58349a7b4ad7ee1a36a489f": {
     "views": []
    },
    "2fc233a3abfc4bbf851be8b671450899": {
     "views": []
    },
    "302d57774db84455a0437ba35b9e803e": {
     "views": []
    },
    "305422c5f6ca48aab5485574b6768ebe": {
     "views": []
    },
    "30c1bce66bcb4022b050e535f02583c0": {
     "views": []
    },
    "31588f8b06c545f0889f351ee9ca140c": {
     "views": []
    },
    "32c0f15c4b334854bfcf0f60154d3bb4": {
     "views": []
    },
    "341412371d0e447f86ff59d751dd8e1a": {
     "views": []
    },
    "3546477baeaa4dd8b29983740cbb6497": {
     "views": []
    },
    "355f869ccaaa4b23b811e331e0b56c1b": {
     "views": []
    },
    "3602d1630a2240b4991a2f4a333d6369": {
     "views": []
    },
    "3910afb1bba24c83af74a190ccaa75bc": {
     "views": []
    },
    "39cb93d130964c3f86cf87d771daf6e2": {
     "views": []
    },
    "3a699eccaa664519be80d8b5f04db4ab": {
     "views": []
    },
    "3a9019121df84a10a28ce6be457c252b": {
     "views": []
    },
    "3b658d79616f4c3a8b254821c932d9c3": {
     "views": []
    },
    "3bca1271ea834ac291a49f4c2b0ed164": {
     "views": []
    },
    "3bf609574003416f8114619e1a249883": {
     "views": []
    },
    "3dc7690455ce4004bc7bd5d94a950863": {
     "views": []
    },
    "3ffb1c934ca041d6886581b6dddfa828": {
     "views": []
    },
    "4261dc6a4170471286637b3abe63cbac": {
     "views": []
    },
    "42cf385cf2b34f1b817d0e146b871e45": {
     "views": []
    },
    "42fd5c23dfda4ce2a6852430b59f0891": {
     "views": []
    },
    "443e1b38894b49e38df4abc57f547471": {
     "views": []
    },
    "47af164ad3cb4ff9b745fcb2d2e754a7": {
     "views": []
    },
    "4a99ef72be4a4be39cc36d3e53877e56": {
     "views": []
    },
    "4b19d92d90ed4069900595b8717c7525": {
     "views": []
    },
    "4d03b56c21f64b48ab2f141fcce96965": {
     "views": []
    },
    "4f83f1b9c12f426fae03b4e3a972abd6": {
     "views": []
    },
    "508361c775d54a77ae6b38b314b1986f": {
     "views": []
    },
    "52f95965b677498fb03a370b1d7bb639": {
     "views": [
      {
       "cell_index": 17
      }
     ]
    },
    "537f4b1aa2614621b72c68d90b83da82": {
     "views": []
    },
    "53c4758849274512bfc6cbc7862c4f43": {
     "views": []
    },
    "541a12a5e8c84ac8a96ee0f6e440c33c": {
     "views": []
    },
    "5520412969744295988633df88af2a7b": {
     "views": []
    },
    "552fbe42b4b249f2802fd4d3ac93d616": {
     "views": []
    },
    "566085205d9b4f84b834a6be0e59272d": {
     "views": []
    },
    "581937b9a10342ceb47ee0bcbbc6d558": {
     "views": []
    },
    "58c9cf4c297745b992d4b177b621d3e5": {
     "views": []
    },
    "5af54ad9a2524df5a36be5826e7e1524": {
     "views": []
    },
    "5e1ed94cfd5c4d7fbdcc1cfdd8e4b788": {
     "views": []
    },
    "5f7604b8113946f5a9e7d9fcd2b77091": {
     "views": []
    },
    "630ef8c5d4be45efb04efd4c2fda5ab1": {
     "views": []
    },
    "6581f24dec9c47f59c83322395a3fc84": {
     "views": []
    },
    "65a48599846e42e080c96c46bb610ee9": {
     "views": []
    },
    "67e896836a794458b73713ba5cc9f463": {
     "views": []
    },
    "6856991ea6ef484293d540e04f0611a1": {
     "views": []
    },
    "6971b0c573c14030bd7d2f1cf12c8dc3": {
     "views": []
    },
    "6c85d539885b4ad685fa395b7efd0fd9": {
     "views": []
    },
    "6cc253d99f8e45e4a67b0b7dc290995d": {
     "views": []
    },
    "6fb0c3d6e6e247349527f785e6137cb5": {
     "views": []
    },
    "707c3f3dbb934d44b419f822805f3d82": {
     "views": []
    },
    "7263628db30446818589d7a1d063010f": {
     "views": []
    },
    "7326c5c898de4afa91337038e67f5c44": {
     "views": []
    },
    "76ccb7adab5d4531bb56ee70018f708e": {
     "views": []
    },
    "7939520140af4b71b2835fc1f95b3e03": {
     "views": []
    },
    "794c3631aaad4a3b9928c590371516b6": {
     "views": []
    },
    "79788f7a290d4afeb43da43f159d514e": {
     "views": []
    },
    "7b2495d2166b432ea90612d3a02e452e": {
     "views": []
    },
    "84a8eb70af8843b2974dfb51a0de7dba": {
     "views": []
    },
    "86e9e0e393da438ebd825400a396806d": {
     "views": [
      {
       "cell_index": 7
      }
     ]
    },
    "882efd8d5d2a48239318880a9a0e36e8": {
     "views": []
    },
    "8c94eb542286459ab5eb7e229b083f71": {
     "views": []
    },
    "8d23d70e8c7349cb8ea1743ccf83572a": {
     "views": []
    },
    "8d840d4a26bd458f96486e6a7e3a657e": {
     "views": []
    },
    "904b8087ccbe486d8ec0d0ae8ef17bf1": {
     "views": []
    },
    "912d795861064bb095c8cf0786ddd49b": {
     "views": []
    },
    "966991dfdb5341899f0cc90f622acc53": {
     "views": []
    },
    "9948610bd1b540b8bbec3b71bffb763b": {
     "views": []
    },
    "99dce4eab7db4441aa68de41d8fec513": {
     "views": []
    },
    "9ad486b937684eaca236dc577507a834": {
     "views": []
    },
    "9b0e0144afa74f9095691a7e0433e095": {
     "views": []
    },
    "9b77ae0fb7ab4960bc6304cb05cb13b9": {
     "views": []
    },
    "9c48c2f071c948d29469fbd74378d942": {
     "views": []
    },
    "9c59445657854268b9a9c9e259657ad3": {
     "views": []
    },
    "9db19d12512d41fcb4aaecf2574b84ff": {
     "views": []
    },
    "9ddd06286fe848af9cba31cdcae5bcb3": {
     "views": []
    },
    "9fd515ea40e541caa0abc6191819bee5": {
     "views": []
    },
    "a3ce5be743784193b4b2c77363115cdd": {
     "views": []
    },
    "a5144811d32749068ede364c0bdb665c": {
     "views": []
    },
    "a9410eb397ea4729a0b1e4c387f1057d": {
     "views": []
    },
    "ab98f9bc7b604dfd9461742f1da20763": {
     "views": []
    },
    "aca4b3776eba4b6db4f1cab08a2c64bf": {
     "views": []
    },
    "aced3415916246a89685984ade5f16c1": {
     "views": []
    },
    "b0877715f4cc490bbe580a8a286176f5": {
     "views": []
    },
    "b31ba3503c4d435aa61a2a38fd640b32": {
     "views": []
    },
    "b4bc2d94196f4d3aaba6b1c2c7673a30": {
     "views": []
    },
    "b5218a375adc4d9caa0aa0a0ec329079": {
     "views": []
    },
    "b893024835ef46f1b9a6e2ca6f59c2f6": {
     "views": []
    },
    "ba74e7f36fd942b99061c15f6f15be49": {
     "views": []
    },
    "bbddf7925e7948bd837542df0a560a2d": {
     "views": []
    },
    "c0778125fba54d5c9576407bf656c62d": {
     "views": []
    },
    "c0bb934caba748aa987e122bb39376fc": {
     "views": []
    },
    "c0cf89180680411ab07d959a314dd078": {
     "views": []
    },
    "c0ed7ee4b4f44d2a81d3f43b8876162a": {
     "views": []
    },
    "c0f34d91e8d4473b82b6fb135d105eac": {
     "views": []
    },
    "c846d2df149742649b748f4072fed078": {
     "views": []
    },
    "c8f9b0b620f548a28d0609f20611268d": {
     "views": []
    },
    "cbf9ed00f9204fcc8185d40bf5677a93": {
     "views": []
    },
    "cc5ed09eb4244b8992f2002b78791fb2": {
     "views": []
    },
    "cda0a5196a334cdaa10a353536318f78": {
     "views": []
    },
    "d246a8451b504c45afba66a9ee182d81": {
     "views": [
      {
       "cell_index": 15
      }
     ]
    },
    "d2a0f46f40474105a1a1a2b10ff242ba": {
     "views": []
    },
    "d70b7358943240da9b53aae408915e15": {
     "views": []
    },
    "d7593738582747dbb1e467ebd3a6de91": {
     "views": []
    },
    "db2d4c9f2c814cc297ba9d7a773b4b90": {
     "views": []
    },
    "dcafcaefaa094ef293474d0635485b4f": {
     "views": []
    },
    "dd126579f39c48e1a99618fae5f42ad8": {
     "views": []
    },
    "ddf23b045cde4baa97a5090f9e6a8854": {
     "views": []
    },
    "de102f7e961d496e96e31fd5a04dec86": {
     "views": []
    },
    "e3cd0d3dfb174463ae3b341048f6db31": {
     "views": []
    },
    "e6f1b8764d764bc7a0f1c78c940fed45": {
     "views": []
    },
    "e7f882ab2a1a4cb08428f092f3941c65": {
     "views": [
      {
       "cell_index": 6
      }
     ]
    },
    "e9d977e2af3e431abc324dc35bc92a20": {
     "views": []
    },
    "ea183135323943efb817af9c41e91508": {
     "views": []
    },
    "ea1ff9b671f94122ae0350c39a90bce4": {
     "views": []
    },
    "ea5754a273f5464c82610172c27f9af2": {
     "views": []
    },
    "ef146e5469ea4dcda6d46fb54af3d1e7": {
     "views": []
    },
    "f0a86c1fb08647f3824291e3718179a0": {
     "views": []
    },
    "f0fea9dd1950440383ecc0c1b1e9eb06": {
     "views": []
    },
    "f1705d97322e4c4784b86d1cece28b9b": {
     "views": []
    },
    "f4cd8b62bf0e41b0b44012515b15ef5f": {
     "views": []
    },
    "f758f4e910f64e139262bd95f1275bc3": {
     "views": []
    },
    "f83d7d35df09440687b46d8284b1f1bf": {
     "views": []
    },
    "f93e95a074aa4e81b48ede98865a3d1d": {
     "views": []
    },
    "fc0bde690c904a569feec82a48f270e4": {
     "views": []
    },
    "fe6d2f57416e4a7e83d501c69a1bb444": {
     "views": []
    },
    "ff19192e68304b16aaaef7b80313706d": {
     "views": []
    },
    "ff96acd25ac64fa5892d7f89f5b7b0e7": {
     "views": []
    }
   },
   "version": "1.1.1"
  }
 },
 "nbformat": 4,
 "nbformat_minor": 0
}
