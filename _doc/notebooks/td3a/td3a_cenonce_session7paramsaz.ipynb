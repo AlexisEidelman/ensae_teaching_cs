{
 "metadata": {
  "name": "",
  "signature": "sha256:0274c766ee257210ccedd225892869c1e7e544b4841e128f33811136a41d579d"
 },
 "nbformat": 3,
 "nbformat_minor": 0,
 "worksheets": [
  {
   "cells": [
    {
     "cell_type": "heading",
     "level": 1,
     "metadata": {},
     "source": [
      "S\u00e9ance 7 : PIG et Param\u00e8tres (Azure)"
     ]
    },
    {
     "cell_type": "markdown",
     "metadata": {},
     "source": [
      "Plan\n",
      "\n",
      "* [Param\u00e8tres](#par)\n",
      "* [Connexion au cluster](#con)\n",
      "* [Upload des donn\u00e9es](#up)\n",
      "* [PIG et param\u00e8tres](#pig1)\n",
      "* [Exercice 1 : histograme min,max](#exo1)\n",
      "\n",
      "<div style=\"position:absolute; top:10px; right:5px; width:100px; height:90px; margin:10px;\">\n",
      "[Param\u00e8tres](#par) -- [Connexion](#con) -- [Upload](#up) -- [PIG et param\u00e8tres](#pig1) -- [Exo 1](#exo1)\n",
      "</div>\n",
      "\n",
      "<h3 id=\"par\">Param\u00e8tres</h3>\n",
      "\n",
      "Les sites web produisent des donn\u00e9es en continu. On utilise fr\u00e9quemment le m\u00eame script pour traiter les donn\u00e9esd'un jour, du lendemain, de jour d'apr\u00e8s... Tous les jours, on veut r\u00e9cup\u00e9rer la fr\u00e9quentation de la veille. La seule chose qui change est la date des donn\u00e9es qu'on veut traiter. Plut\u00f4t que de recopier un script en entier pour changer une date qui appara\u00eet parfois \u00e0 plusieurs endroits, il est pr\u00e9f\u00e9rable d'\u00e9crire un script ou la date appara\u00eet comme une variable.\n",
      "\n",
      "Ce notebook va illustrer ce proc\u00e9d\u00e9 sur la construction d'un histogramme. Le param\u00e8tre du script sera la largeur des barres de l'histogramme (ou [bin](http://en.wikipedia.org/wiki/Histogram#Number_of_bins_and_width) en anglais)."
     ]
    },
    {
     "cell_type": "markdown",
     "metadata": {},
     "source": [
      "<h3 id=\"con\">Connexion au cluster</h3>\n",
      "\n",
      "On prend le cluster [Cloudera](http://www.xavierdupre.fr/app/ensae_teaching_cs/helpsphinx3/notebooks/td3a_cenonce_session6.html#p2). Il faut ex\u00e9cuter ce script pour pouvoir notifier au notebook que la variable ``params`` existe."
     ]
    },
    {
     "cell_type": "code",
     "collapsed": false,
     "input": [
      "import pyquickhelper, pyensae\n",
      "params={\"blob_storage\":\"\", \"password1\":\"\", \"hadoop_server\":\"\", \"password2\":\"\", \"username\":\"alias\"}\n",
      "pyquickhelper.open_html_form(params=params,title=\"server + hadoop + credentials\", key_save=\"blobhp\")"
     ],
     "language": "python",
     "metadata": {},
     "outputs": [
      {
       "html": [
        "<div style=\"background-color:gainsboro; padding:2px; border:0px;\"><b>server + hadoop + credentials</b>\n",
        "<br />blob_storage <input type=\"text\" id=\"blobhpblob_storage\" value=\"\" size=\"80\" />\n",
        "<br />hadoop_server <input type=\"text\" id=\"blobhphadoop_server\" value=\"\" size=\"80\" />\n",
        "<br />password1 <input type=\"password\" id=\"blobhppassword1\" value=\"\" size=\"80\" />\n",
        "<br />password2 <input type=\"password\" id=\"blobhppassword2\" value=\"\" size=\"80\" />\n",
        "<br />username <input type=\"text\" id=\"blobhpusername\" value=\"alias\" size=\"80\" />\n",
        "<br /><button onclick=\"set_valueblobhp()\">Ok</button></div>\n",
        "<script type=\"text/Javascript\">\n",
        "function blobhpcallback(msg) {\n",
        "   var ret = msg.content.data['text/plain'];\n",
        "   $('#outblobhp').text(ret);\n",
        "}\n",
        "function set_valueblobhp(){\n",
        "   command='blobhp = {' ;\n",
        "   var blobhpblob_storagevar_value = document.getElementById('blobhpblob_storage').value;\n",
        "   command += '\"blob_storage\":\"' + blobhpblob_storagevar_value + '\",';\n",
        "   var blobhphadoop_servervar_value = document.getElementById('blobhphadoop_server').value;\n",
        "   command += '\"hadoop_server\":\"' + blobhphadoop_servervar_value + '\",';\n",
        "   var blobhppassword1var_value = document.getElementById('blobhppassword1').value;\n",
        "   command += '\"password1\":\"' + blobhppassword1var_value + '\",';\n",
        "   var blobhppassword2var_value = document.getElementById('blobhppassword2').value;\n",
        "   command += '\"password2\":\"' + blobhppassword2var_value + '\",';\n",
        "   var blobhpusernamevar_value = document.getElementById('blobhpusername').value;\n",
        "   command += '\"username\":\"' + blobhpusernamevar_value + '\",';\n",
        "   command += '}';\n",
        "   var kernel = IPython.notebook.kernel;\n",
        "   kernel.execute(command);\n",
        "}\n",
        "</script>"
       ],
       "metadata": {},
       "output_type": "pyout",
       "prompt_number": 1,
       "text": [
        "<IPython.core.display.HTML at 0x7c801d0>"
       ]
      }
     ],
     "prompt_number": 1
    },
    {
     "cell_type": "code",
     "collapsed": false,
     "input": [
      "import pyensae\n",
      "blobstorage = blobhp[\"blob_storage\"]\n",
      "blobpassword = blobhp[\"password1\"]\n",
      "hadoop_server = blobhp[\"hadoop_server\"]\n",
      "hadoop_password = blobhp[\"password2\"]\n",
      "username = blobhp[\"username\"]\n",
      "client, bs =  %hd_open\n",
      "client, bs"
     ],
     "language": "python",
     "metadata": {},
     "outputs": [
      {
       "metadata": {},
       "output_type": "pyout",
       "prompt_number": 2,
       "text": [
        "(<pyensae.remote.azure_connection.AzureClient at 0xabaea50>,\n",
        " <azure.storage.blobservice.BlobService at 0xabaea90>)"
       ]
      }
     ],
     "prompt_number": 2
    },
    {
     "cell_type": "markdown",
     "metadata": {},
     "source": [
      "<h3 id=\"up\">Upload version</h3>\n",
      "\n",
      "On commence par simuler des donn\u00e9es."
     ]
    },
    {
     "cell_type": "code",
     "collapsed": false,
     "input": [
      "import random\n",
      "with open(\"random.sample.txt\", \"w\") as f :\n",
      "    for i in range(0,10000) :\n",
      "        x = random.random()\n",
      "        f.write(str(x)+\"\\n\")"
     ],
     "language": "python",
     "metadata": {},
     "outputs": [],
     "prompt_number": 3
    },
    {
     "cell_type": "markdown",
     "metadata": {},
     "source": [
      "On uploade le fichier sur le cluster (il n'est pas besoin de cr\u00e9er le r\u00e9pertoire au pr\u00e9alable)."
     ]
    },
    {
     "cell_type": "code",
     "collapsed": false,
     "input": [
      "%blob_up random.sample.txt /$PSEUDO/random/random.sample.txt"
     ],
     "language": "python",
     "metadata": {},
     "outputs": [
      {
       "metadata": {},
       "output_type": "pyout",
       "prompt_number": 6,
       "text": [
        "'$PSEUDO/random/random.sample.txt'"
       ]
      }
     ],
     "prompt_number": 6
    },
    {
     "cell_type": "code",
     "collapsed": false,
     "input": [
      "%blob_ls /$PSEUDO/random"
     ],
     "language": "python",
     "metadata": {},
     "outputs": [
      {
       "html": [
        "<div style=\"max-height:1000px;max-width:1500px;overflow:auto;\">\n",
        "<table border=\"1\" class=\"dataframe\">\n",
        "  <thead>\n",
        "    <tr style=\"text-align: right;\">\n",
        "      <th></th>\n",
        "      <th>name</th>\n",
        "      <th>last_modified</th>\n",
        "      <th>content_type</th>\n",
        "      <th>content_length</th>\n",
        "      <th>blob_type</th>\n",
        "    </tr>\n",
        "  </thead>\n",
        "  <tbody>\n",
        "    <tr>\n",
        "      <th>0</th>\n",
        "      <td> xavierdupre/random/random.sample.txt</td>\n",
        "      <td> Thu, 27 Nov 2014 23:21:26 GMT</td>\n",
        "      <td> application/octet-stream</td>\n",
        "      <td> 202619</td>\n",
        "      <td> BlockBlob</td>\n",
        "    </tr>\n",
        "  </tbody>\n",
        "</table>\n",
        "</div>"
       ],
       "metadata": {},
       "output_type": "pyout",
       "prompt_number": 9,
       "text": [
        "                                   name                  last_modified  \\\n",
        "0  xavierdupre/random/random.sample.txt  Thu, 27 Nov 2014 23:21:26 GMT   \n",
        "\n",
        "               content_type  content_length  blob_type  \n",
        "0  application/octet-stream          202619  BlockBlob  "
       ]
      }
     ],
     "prompt_number": 9
    },
    {
     "cell_type": "markdown",
     "metadata": {},
     "source": [
      "<h3 id=\"pig1\">PIG et param\u00e8tres</h3>"
     ]
    },
    {
     "cell_type": "markdown",
     "metadata": {},
     "source": [
      "On indique un param\u00e8tre par le symbole : ``$bins``. La valeur du param\u00e8tre est pass\u00e9 sous forme de cha\u00eene de caract\u00e8res au script et remplac\u00e9e telle quelle dans le script. Il en va de m\u00eame des constantes d\u00e9clar\u00e9es gr\u00e2ce au mot-cl\u00e9 [%declare](https://pig.apache.org/docs/r0.11.1/cont.html#Examples-N1060D).\n",
      "\n",
      "La sortie du script inclut le param\u00e8tre : cela permet de retrouver comment ces donn\u00e9es ont \u00e9t\u00e9 g\u00e9n\u00e9r\u00e9es."
     ]
    },
    {
     "cell_type": "code",
     "collapsed": false,
     "input": [
      "%%PIG histogram.pig\n",
      "\n",
      "values = LOAD '$CONTAINER/$PSEUDO/random/random.sample.txt' USING PigStorage('\\t') AS (x:double);\n",
      "\n",
      "values_h = FOREACH values GENERATE x, ((int)(x / $bins)) * $bins AS h ;\n",
      "\n",
      "hist_group = GROUP values_h BY h ;\n",
      "\n",
      "hist = FOREACH hist_group GENERATE group, COUNT(values_h) AS nb ;\n",
      "\n",
      "STORE hist INTO '$CONTAINER/$PSEUDO/random/histo_$bins.txt' USING PigStorage('\\t') ;"
     ],
     "language": "python",
     "metadata": {},
     "outputs": [],
     "prompt_number": 11
    },
    {
     "cell_type": "markdown",
     "metadata": {},
     "source": [
      "Pour supprimer les pr\u00e9c\u00e9dents r\u00e9sultats :"
     ]
    },
    {
     "cell_type": "code",
     "collapsed": false,
     "input": [
      "if client.exists(bs, client.account_name, \"$PSEUDO/random/histo_0.1.txt\"):\n",
      "    r = client.delete_folder (bs, client.account_name, \"$PSEUDO/random/histo_0.1.txt\")\n",
      "    print(r)    "
     ],
     "language": "python",
     "metadata": {},
     "outputs": [],
     "prompt_number": 12
    },
    {
     "cell_type": "markdown",
     "metadata": {},
     "source": [
      "On ex\u00e9cute le job. Comme la commande magique supportant les param\u00e8tres n'existe pas encore, il faut utiliser la variable ``client`` et sa m\u00e9thode [pig_submit](http://www.xavierdupre.fr/app/pyensae/helpsphinx/pyensae/remote/ssh_remote_connection.html?highlight=pig_submit#pyensae.remote.ssh_remote_connection.ASSHClient.pig_submit) qui fait la m\u00eame chose. Elle upload le script puis le soumet."
     ]
    },
    {
     "cell_type": "code",
     "collapsed": false,
     "input": [
      "client.pig_submit(bs, client.account_name, \"histogram.pig\", params = dict(bins=\"0.1\"), stop_on_failure=True )"
     ],
     "language": "python",
     "metadata": {},
     "outputs": [
      {
       "metadata": {},
       "output_type": "pyout",
       "prompt_number": 14,
       "text": [
        "{'id': 'job_1416874839254_0101'}"
       ]
      }
     ],
     "prompt_number": 14
    },
    {
     "cell_type": "code",
     "collapsed": false,
     "input": [
      "st = %hd_job_status job_1416874839254_0101\n",
      "st[\"id\"],st[\"percentComplete\"],st[\"status\"][\"jobComplete\"]"
     ],
     "language": "python",
     "metadata": {},
     "outputs": [
      {
       "metadata": {},
       "output_type": "pyout",
       "prompt_number": 18,
       "text": [
        "('job_1416874839254_0101', '100% complete', True)"
       ]
      }
     ],
     "prompt_number": 18
    },
    {
     "cell_type": "code",
     "collapsed": false,
     "input": [
      "%tail_stderr job_1416874839254_0101 10"
     ],
     "language": "python",
     "metadata": {},
     "outputs": [
      {
       "html": [
        "<pre>\n",
        "\n",
        "Job DAG:\n",
        "job_1416874839254_0102\n",
        "\n",
        "\n",
        "2014-11-27 23:29:00,446 [main] WARN  org.apache.pig.backend.hadoop.executionengine.mapReduceLayer.MapReduceLauncher - No FileSystem for scheme: wasb. Not creating success file\n",
        "2014-11-27 23:29:00,446 [main] INFO  org.apache.hadoop.yarn.client.RMProxy - Connecting to ResourceManager at headnodehost/100.74.20.101:9010\n",
        "2014-11-27 23:29:00,525 [main] INFO  org.apache.hadoop.mapred.ClientServiceDelegate - Application state is completed. FinalApplicationStatus=SUCCEEDED. Redirecting to job history server\n",
        "2014-11-27 23:29:03,900 [main] INFO  org.apache.pig.backend.hadoop.executionengine.mapReduceLayer.MapReduceLauncher - Success!\n",
        "\n",
        "</pre><br />"
       ],
       "metadata": {},
       "output_type": "pyout",
       "prompt_number": 17,
       "text": [
        "<IPython.core.display.HTML at 0x7f31db0>"
       ]
      }
     ],
     "prompt_number": 17
    },
    {
     "cell_type": "markdown",
     "metadata": {},
     "source": [
      "On v\u00e9rifie que tout s'est bien pass\u00e9. La taille devrait \u00eatre \u00e9quivalent \u00e0 l'entr\u00e9e."
     ]
    },
    {
     "cell_type": "code",
     "collapsed": false,
     "input": [
      "%blob_ls /$PSEUDO/random"
     ],
     "language": "python",
     "metadata": {},
     "outputs": [
      {
       "html": [
        "<div style=\"max-height:1000px;max-width:1500px;overflow:auto;\">\n",
        "<table border=\"1\" class=\"dataframe\">\n",
        "  <thead>\n",
        "    <tr style=\"text-align: right;\">\n",
        "      <th></th>\n",
        "      <th>name</th>\n",
        "      <th>last_modified</th>\n",
        "      <th>content_type</th>\n",
        "      <th>content_length</th>\n",
        "      <th>blob_type</th>\n",
        "    </tr>\n",
        "  </thead>\n",
        "  <tbody>\n",
        "    <tr>\n",
        "      <th>0</th>\n",
        "      <td>              xavierdupre/random/histo_0.1.txt</td>\n",
        "      <td> Thu, 27 Nov 2014 23:28:55 GMT</td>\n",
        "      <td>                         </td>\n",
        "      <td>      0</td>\n",
        "      <td> BlockBlob</td>\n",
        "    </tr>\n",
        "    <tr>\n",
        "      <th>1</th>\n",
        "      <td>     xavierdupre/random/histo_0.1.txt/_SUCCESS</td>\n",
        "      <td> Thu, 27 Nov 2014 23:28:55 GMT</td>\n",
        "      <td> application/octet-stream</td>\n",
        "      <td>      0</td>\n",
        "      <td> BlockBlob</td>\n",
        "    </tr>\n",
        "    <tr>\n",
        "      <th>2</th>\n",
        "      <td> xavierdupre/random/histo_0.1.txt/part-r-00000</td>\n",
        "      <td> Thu, 27 Nov 2014 23:28:54 GMT</td>\n",
        "      <td> application/octet-stream</td>\n",
        "      <td>    131</td>\n",
        "      <td> BlockBlob</td>\n",
        "    </tr>\n",
        "    <tr>\n",
        "      <th>3</th>\n",
        "      <td>          xavierdupre/random/random.sample.txt</td>\n",
        "      <td> Thu, 27 Nov 2014 23:21:26 GMT</td>\n",
        "      <td> application/octet-stream</td>\n",
        "      <td> 202619</td>\n",
        "      <td> BlockBlob</td>\n",
        "    </tr>\n",
        "  </tbody>\n",
        "</table>\n",
        "</div>"
       ],
       "metadata": {},
       "output_type": "pyout",
       "prompt_number": 19,
       "text": [
        "                                            name  \\\n",
        "0               xavierdupre/random/histo_0.1.txt   \n",
        "1      xavierdupre/random/histo_0.1.txt/_SUCCESS   \n",
        "2  xavierdupre/random/histo_0.1.txt/part-r-00000   \n",
        "3           xavierdupre/random/random.sample.txt   \n",
        "\n",
        "                   last_modified              content_type  content_length  \\\n",
        "0  Thu, 27 Nov 2014 23:28:55 GMT                                         0   \n",
        "1  Thu, 27 Nov 2014 23:28:55 GMT  application/octet-stream               0   \n",
        "2  Thu, 27 Nov 2014 23:28:54 GMT  application/octet-stream             131   \n",
        "3  Thu, 27 Nov 2014 23:21:26 GMT  application/octet-stream          202619   \n",
        "\n",
        "   blob_type  \n",
        "0  BlockBlob  \n",
        "1  BlockBlob  \n",
        "2  BlockBlob  \n",
        "3  BlockBlob  "
       ]
      }
     ],
     "prompt_number": 19
    },
    {
     "cell_type": "code",
     "collapsed": false,
     "input": [
      "if os.path.exists(\"histo.txt\") : os.remove(\"histo.txt\")\n",
      "%blob_downmerge /$PSEUDO/random/histo_0.1.txt histo.txt"
     ],
     "language": "python",
     "metadata": {},
     "outputs": [
      {
       "metadata": {},
       "output_type": "pyout",
       "prompt_number": 21,
       "text": [
        "'histo.txt'"
       ]
      }
     ],
     "prompt_number": 21
    },
    {
     "cell_type": "code",
     "collapsed": false,
     "input": [
      "import matplotlib.pyplot as plt\n",
      "plt.style.use('ggplot')\n",
      "import pandas\n",
      "df = pandas.read_csv(\"histo.txt\", sep=\"\\t\",names=[\"bin\",\"nb\"])\n",
      "df.plot(kind=\"bar\")"
     ],
     "language": "python",
     "metadata": {},
     "outputs": [
      {
       "metadata": {},
       "output_type": "pyout",
       "prompt_number": 22,
       "text": [
        "<matplotlib.axes._subplots.AxesSubplot at 0x81b3bb0>"
       ]
      },
      {
       "metadata": {},
       "output_type": "display_data",
       "png": "[encoded data removed]",
       "text": [
        "<matplotlib.figure.Figure at 0x81b3d30>"
       ]
      }
     ],
     "prompt_number": 22
    },
    {
     "cell_type": "markdown",
     "metadata": {},
     "source": [
      "<h3 id=\"exo1\">Exercice 1 : min, max</h3>\n",
      "\n",
      "Ajouter deux param\u00e8tres pour construire l'histogramme entre deux valeurs ``a``,``b``."
     ]
    },
    {
     "cell_type": "code",
     "collapsed": false,
     "input": [],
     "language": "python",
     "metadata": {},
     "outputs": []
    }
   ],
   "metadata": {}
  }
 ]
}