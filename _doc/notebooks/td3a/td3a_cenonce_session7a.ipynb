{
 "metadata": {
  "name": "",
  "signature": "sha256:d33708eb3a89f564c74051f5ea503eef846b9bc843b768b9655d840ef96dcddf"
 },
 "nbformat": 3,
 "nbformat_minor": 0,
 "worksheets": [
  {
   "cells": [
    {
     "cell_type": "heading",
     "level": 1,
     "metadata": {},
     "source": [
      "S\u00e9ance 7 : PIG et JSON avec les donn\u00e9es v\u00e9lib"
     ]
    },
    {
     "cell_type": "markdown",
     "metadata": {},
     "source": [
      "Plan\n",
      "\n",
      "* [R\u00e9cup\u00e9ration des donn\u00e9es](#don)\n",
      "* [Connexion au cluster](#con)\n",
      "* [Upload des donn\u00e9es](#up)\n",
      "* [PIG et JSON](#pig1)\n",
      "\n",
      "<div style=\"position:absolute; top:10px; right:5px; width:100px; height:90px; margin:10px;\">\n",
      "[R\u00e9cup\u00e9ration](#don) -- [Connexion](#con) -- [Upload](#up) -- [Job1](#pig1)\n",
      "</div>\n",
      "\n",
      "<h3 id=\"don\">R\u00e9cup\u00e9ration des donn\u00e9es</h3>\n",
      "\n",
      "Les donn\u00e9es ne se pr\u00e9sentent pas toujours sous forme de tables. Elles sont parfois non structur\u00e9es comme c'est le cas des donn\u00e9es v\u00e9lib qui sont d\u00e9crites au format [JSON](http://fr.wikipedia.org/wiki/JavaScript_Object_Notation). Le premier jeu de donn\u00e9es est le d\u00e9compte des v\u00e9los et places disponibles toutes les minutes le 11 novembre 2014 entre 22h et 23h \u00e0 Paris. Ces donn\u00e9es ont \u00e9t\u00e9 accumul\u00e9es gr\u00e2ce au programme [collect Velib data](http://www.xavierdupre.fr/app/pyensae/helpsphinx/all_example.html#collect-velib-data)."
     ]
    },
    {
     "cell_type": "code",
     "collapsed": false,
     "input": [
      "import pyensae"
     ],
     "language": "python",
     "metadata": {},
     "outputs": [],
     "prompt_number": 1
    },
    {
     "cell_type": "code",
     "collapsed": false,
     "input": [
      "files=pyensae.download_data(\"data_velib_paris_2014-11-11_22-23.zip\", website=\"xdtd\")\n",
      "files[:2]"
     ],
     "language": "python",
     "metadata": {},
     "outputs": [
      {
       "metadata": {},
       "output_type": "pyout",
       "prompt_number": 3,
       "text": [
        "['paris.2014-11-11_22-00-18.331391.txt',\n",
        " 'paris.2014-11-11_22-01-17.859194.txt']"
       ]
      }
     ],
     "prompt_number": 3
    },
    {
     "cell_type": "markdown",
     "metadata": {},
     "source": [
      "On regarde un extrait :"
     ]
    },
    {
     "cell_type": "code",
     "collapsed": false,
     "input": [
      "with open(\"paris.2014-11-11_22-00-18.331391.txt\",\"r\",encoding=\"utf-8\")as f :\n",
      "    text = f.read()\n",
      "text[:300] + \"...\""
     ],
     "language": "python",
     "metadata": {},
     "outputs": [
      {
       "metadata": {},
       "output_type": "pyout",
       "prompt_number": 9,
       "text": [
        "\"[{'address': 'RUE DES CHAMPEAUX (PRES DE LA GARE ROUTIERE) - 93170 BAGNOLET', 'collect_date': datetime.datetime(2014, 11, 11, 22, 0, 18, 628226), 'lng': 2.416170724425901, 'contract_name': 'Paris', 'name': '31705 - CHAMPEAUX (BAGNOLET)', 'banking': 0, 'lat': 48.8645278209514, 'bonus': 0, 'status': '...\""
       ]
      }
     ],
     "prompt_number": 9
    },
    {
     "cell_type": "markdown",
     "metadata": {},
     "source": [
      "Le format JSON est tr\u00e8s proche de la syntax Python si bien que la fonction [eval](https://docs.python.org/3.4/library/functions.html#eval) suffit la plupart du temps."
     ]
    },
    {
     "cell_type": "code",
     "collapsed": false,
     "input": [
      "data = eval(text)\n",
      "data[:2]"
     ],
     "language": "python",
     "metadata": {},
     "outputs": [
      {
       "metadata": {},
       "output_type": "pyout",
       "prompt_number": 12,
       "text": [
        "[{'contract_name': 'Paris',\n",
        "  'available_bike_stands': 49,\n",
        "  'name': '31705 - CHAMPEAUX (BAGNOLET)',\n",
        "  'collect_date': datetime.datetime(2014, 11, 11, 22, 0, 18, 628226),\n",
        "  'number': 31705,\n",
        "  'status': 'OPEN',\n",
        "  'address': 'RUE DES CHAMPEAUX (PRES DE LA GARE ROUTIERE) - 93170 BAGNOLET',\n",
        "  'lat': 48.8645278209514,\n",
        "  'lng': 2.416170724425901,\n",
        "  'bonus': 0,\n",
        "  'available_bikes': 1,\n",
        "  'bike_stands': 50,\n",
        "  'last_update': datetime.datetime(2014, 11, 11, 21, 55, 22),\n",
        "  'banking': 0},\n",
        " {'contract_name': 'Paris',\n",
        "  'available_bike_stands': 1,\n",
        "  'name': '10042 - POISSONNI\u00c8RE - ENGHIEN',\n",
        "  'collect_date': datetime.datetime(2014, 11, 11, 22, 0, 18, 628226),\n",
        "  'number': 10042,\n",
        "  'status': 'OPEN',\n",
        "  'address': \"52 RUE D'ENGHIEN / ANGLE RUE DU FAUBOURG POISSONIERE - 75010 PARIS\",\n",
        "  'lat': 48.87242006305313,\n",
        "  'lng': 2.348395236282807,\n",
        "  'bonus': 0,\n",
        "  'available_bikes': 32,\n",
        "  'bike_stands': 33,\n",
        "  'last_update': datetime.datetime(2014, 11, 11, 21, 59, 5),\n",
        "  'banking': 0}]"
       ]
      }
     ],
     "prompt_number": 12
    },
    {
     "cell_type": "markdown",
     "metadata": {},
     "source": [
      "Et on peut les rassembler dans un DataFrame :"
     ]
    },
    {
     "cell_type": "code",
     "collapsed": false,
     "input": [
      "import pandas\n",
      "df = pandas.DataFrame(data)\n",
      "df.head(n=2)"
     ],
     "language": "python",
     "metadata": {},
     "outputs": [
      {
       "html": [
        "<div style=\"max-height:1000px;max-width:1500px;overflow:auto;\">\n",
        "<table border=\"1\" class=\"dataframe\">\n",
        "  <thead>\n",
        "    <tr style=\"text-align: right;\">\n",
        "      <th></th>\n",
        "      <th>address</th>\n",
        "      <th>available_bike_stands</th>\n",
        "      <th>available_bikes</th>\n",
        "      <th>banking</th>\n",
        "      <th>bike_stands</th>\n",
        "      <th>bonus</th>\n",
        "      <th>collect_date</th>\n",
        "      <th>contract_name</th>\n",
        "      <th>last_update</th>\n",
        "      <th>lat</th>\n",
        "      <th>lng</th>\n",
        "      <th>name</th>\n",
        "      <th>number</th>\n",
        "      <th>status</th>\n",
        "    </tr>\n",
        "  </thead>\n",
        "  <tbody>\n",
        "    <tr>\n",
        "      <th>0</th>\n",
        "      <td> RUE DES CHAMPEAUX (PRES DE LA GARE ROUTIERE) -...</td>\n",
        "      <td> 49</td>\n",
        "      <td>  1</td>\n",
        "      <td> 0</td>\n",
        "      <td> 50</td>\n",
        "      <td> 0</td>\n",
        "      <td>2014-11-11 22:00:18.628226</td>\n",
        "      <td> Paris</td>\n",
        "      <td>2014-11-11 21:55:22</td>\n",
        "      <td> 48.864528</td>\n",
        "      <td> 2.416171</td>\n",
        "      <td>   31705 - CHAMPEAUX (BAGNOLET)</td>\n",
        "      <td> 31705</td>\n",
        "      <td> OPEN</td>\n",
        "    </tr>\n",
        "    <tr>\n",
        "      <th>1</th>\n",
        "      <td> 52 RUE D'ENGHIEN / ANGLE RUE DU FAUBOURG POISS...</td>\n",
        "      <td>  1</td>\n",
        "      <td> 32</td>\n",
        "      <td> 0</td>\n",
        "      <td> 33</td>\n",
        "      <td> 0</td>\n",
        "      <td>2014-11-11 22:00:18.628226</td>\n",
        "      <td> Paris</td>\n",
        "      <td>2014-11-11 21:59:05</td>\n",
        "      <td> 48.872420</td>\n",
        "      <td> 2.348395</td>\n",
        "      <td> 10042 - POISSONNI\u00c8RE - ENGHIEN</td>\n",
        "      <td> 10042</td>\n",
        "      <td> OPEN</td>\n",
        "    </tr>\n",
        "  </tbody>\n",
        "</table>\n",
        "</div>"
       ],
       "metadata": {},
       "output_type": "pyout",
       "prompt_number": 14,
       "text": [
        "                                             address  available_bike_stands  \\\n",
        "0  RUE DES CHAMPEAUX (PRES DE LA GARE ROUTIERE) -...                     49   \n",
        "1  52 RUE D'ENGHIEN / ANGLE RUE DU FAUBOURG POISS...                      1   \n",
        "\n",
        "   available_bikes  banking  bike_stands  bonus               collect_date  \\\n",
        "0                1        0           50      0 2014-11-11 22:00:18.628226   \n",
        "1               32        0           33      0 2014-11-11 22:00:18.628226   \n",
        "\n",
        "  contract_name         last_update        lat       lng  \\\n",
        "0         Paris 2014-11-11 21:55:22  48.864528  2.416171   \n",
        "1         Paris 2014-11-11 21:59:05  48.872420  2.348395   \n",
        "\n",
        "                             name  number status  \n",
        "0    31705 - CHAMPEAUX (BAGNOLET)   31705   OPEN  \n",
        "1  10042 - POISSONNI\u00c8RE - ENGHIEN   10042   OPEN  "
       ]
      }
     ],
     "prompt_number": 14
    },
    {
     "cell_type": "markdown",
     "metadata": {},
     "source": [
      "Chaque ligne donne le nombre de places ``available_bike_stands`` et le nombre de v\u00e9los ``available_bikes`` disponibles \u00e0 la date ``collect_date``. La colone ``last_update`` contient l'heure du dernier retrait ou de la derni\u00e8re pose de v\u00e9lo \u00e0 cette station. Il y plus d'un millier de stations \u00e0 Paris (voir [carte](http://www.velib.paris.fr/Plan-stations))."
     ]
    },
    {
     "cell_type": "code",
     "collapsed": false,
     "input": [
      "df.shape"
     ],
     "language": "python",
     "metadata": {},
     "outputs": [
      {
       "metadata": {},
       "output_type": "pyout",
       "prompt_number": 15,
       "text": [
        "(1229, 14)"
       ]
      }
     ],
     "prompt_number": 15
    },
    {
     "cell_type": "code",
     "collapsed": false,
     "input": [
      "df.plot(x=\"lng\",y=\"lat\",style=\".\",xlim=[2.20, 2.50])"
     ],
     "language": "python",
     "metadata": {},
     "outputs": [
      {
       "metadata": {},
       "output_type": "pyout",
       "prompt_number": 26,
       "text": [
        "<matplotlib.axes.AxesSubplot at 0xcc30090>"
       ]
      },
      {
       "metadata": {},
       "output_type": "display_data",
       "png": "[encoded data removed]",
       "text": [
        "<matplotlib.figure.Figure at 0xcc37bf0>"
       ]
      }
     ],
     "prompt_number": 26
    },
    {
     "cell_type": "markdown",
     "metadata": {},
     "source": [
      "L'objectif est de calculer des statistiques sur ce petit jeu de donn\u00e9es puis de calculer ces m\u00eames statistiques sur des jeux plus grands. Et on va essayer de ne pas transformer les donn\u00e9es localement. Elles vont \u00eatre upload\u00e9s sur le cluster au format JSON."
     ]
    },
    {
     "cell_type": "markdown",
     "metadata": {},
     "source": [
      "<h3 id=\"con\">Connexion au cluster</h3>\n",
      "\n",
      "Dans un premier temps, on prend le cluster [Azure](http://www.xavierdupre.fr/app/ensae_teaching_cs/helpsphinx3/notebooks/td3a_cenonce_session6b.html#p2)."
     ]
    },
    {
     "cell_type": "code",
     "collapsed": false,
     "input": [
      "import pyquickhelper, pyensae\n",
      "params={\"blob_storage\":\"\", \"password1\":\"\", \"hadoop_server\":\"\", \"password2\":\"\", \"username\":\"xavierdupre\"}\n",
      "pyquickhelper.open_html_form(params=params,title=\"server + hadoop + credentials\", key_save=\"blobhp\")"
     ],
     "language": "python",
     "metadata": {},
     "outputs": [
      {
       "html": [
        "<div style=\"background-color:gainsboro; padding:2px; border:0px;\"><b>server + hadoop + credentials</b>\n",
        "<br />blob_storage <input type=\"text\" id=\"blobhpblob_storage\" value=\"\" size=\"80\" />\n",
        "<br />hadoop_server <input type=\"text\" id=\"blobhphadoop_server\" value=\"\" size=\"80\" />\n",
        "<br />password1 <input type=\"password\" id=\"blobhppassword1\" value=\"\" size=\"80\" />\n",
        "<br />password2 <input type=\"password\" id=\"blobhppassword2\" value=\"\" size=\"80\" />\n",
        "<br />username <input type=\"text\" id=\"blobhpusername\" value=\"xavierdupre\" size=\"80\" />\n",
        "<br /><button onclick=\"set_valueblobhp()\">Ok</button></div>\n",
        "<script type=\"text/Javascript\">\n",
        "function blobhpcallback(msg) {\n",
        "   var ret = msg.content.data['text/plain'];\n",
        "   $('#outblobhp').text(ret);\n",
        "}\n",
        "function set_valueblobhp(){\n",
        "   command='blobhp = {' ;\n",
        "   var blobhpblob_storagevar_value = document.getElementById('blobhpblob_storage').value;\n",
        "   command += '\"blob_storage\":\"' + blobhpblob_storagevar_value + '\",';\n",
        "   var blobhphadoop_servervar_value = document.getElementById('blobhphadoop_server').value;\n",
        "   command += '\"hadoop_server\":\"' + blobhphadoop_servervar_value + '\",';\n",
        "   var blobhppassword1var_value = document.getElementById('blobhppassword1').value;\n",
        "   command += '\"password1\":\"' + blobhppassword1var_value + '\",';\n",
        "   var blobhppassword2var_value = document.getElementById('blobhppassword2').value;\n",
        "   command += '\"password2\":\"' + blobhppassword2var_value + '\",';\n",
        "   var blobhpusernamevar_value = document.getElementById('blobhpusername').value;\n",
        "   command += '\"username\":\"' + blobhpusernamevar_value + '\",';\n",
        "   command += '}';\n",
        "   var kernel = IPython.notebook.kernel;\n",
        "   kernel.execute(command);\n",
        "}\n",
        "</script>"
       ],
       "metadata": {},
       "output_type": "pyout",
       "prompt_number": 27,
       "text": [
        "<IPython.core.display.HTML at 0xcc49730>"
       ]
      }
     ],
     "prompt_number": 27
    },
    {
     "cell_type": "code",
     "collapsed": false,
     "input": [
      "import pyensae\n",
      "blobstorage = blobhp[\"blob_storage\"]\n",
      "blobpassword = blobhp[\"password1\"]\n",
      "hadoop_server = blobhp[\"hadoop_server\"]\n",
      "hadoop_password = blobhp[\"password2\"]\n",
      "username = blobhp[\"username\"]\n",
      "cl, bs = %hd_open\n",
      "cl, bs"
     ],
     "language": "python",
     "metadata": {},
     "outputs": [
      {
       "metadata": {},
       "output_type": "pyout",
       "prompt_number": 1,
       "text": [
        "(<pyensae.remote.azure_connection.AzureClient at 0x7194d50>,\n",
        " <azure.storage.blobservice.BlobService at 0x7194d70>)"
       ]
      }
     ],
     "prompt_number": 1
    },
    {
     "cell_type": "markdown",
     "metadata": {},
     "source": [
      "<h3 id=\"up\">Upload des donn\u00e9es</h3>\n",
      "\n",
      "Les instructions sont pr\u00e9cis\u00e9es ici mais cette \u00e9tape a d\u00e9j\u00e0 \u00e9t\u00e9 faite. Si ce n'est pas le cas, on r\u00e9cup\u00e8re la liste des fichiers."
     ]
    },
    {
     "cell_type": "code",
     "collapsed": false,
     "input": [
      "files = [ _ for _ in os.listdir(\".\") if \"paris\" in _ and _.endswith(\".txt\")]\n",
      "len(files)"
     ],
     "language": "python",
     "metadata": {},
     "outputs": [
      {
       "metadata": {},
       "output_type": "pyout",
       "prompt_number": 4,
       "text": [
        "61"
       ]
      }
     ],
     "prompt_number": 4
    },
    {
     "cell_type": "markdown",
     "metadata": {},
     "source": [
      "Puis on les uploade tous un par un (sans commande magique donc). Ca prend quelques minutes (500 Ko par fichier soit 30 Mo)."
     ]
    },
    {
     "cell_type": "code",
     "collapsed": false,
     "input": [
      "for i,f in enumerate(files) :\n",
      "    if i % 10 == 0 : print(i,\"/\",len(files),f)\n",
      "    filename = os.path.split(f)[-1]\n",
      "    cl.upload(bs, \"hdblobstorage\", \"velib_small/\" + filename, f)"
     ],
     "language": "python",
     "metadata": {},
     "outputs": [
      {
       "output_type": "stream",
       "stream": "stdout",
       "text": [
        "0 / 61 paris.2014-11-11_22-00-18.331391.txt\n",
        "10"
       ]
      },
      {
       "output_type": "stream",
       "stream": "stdout",
       "text": [
        " / 61 paris.2014-11-11_22-10-18.054360.txt\n",
        "20"
       ]
      },
      {
       "output_type": "stream",
       "stream": "stdout",
       "text": [
        " / 61 paris.2014-11-11_22-20-18.337927.txt\n",
        "30"
       ]
      },
      {
       "output_type": "stream",
       "stream": "stdout",
       "text": [
        " / 61 paris.2014-11-11_22-30-18.018554.txt\n",
        "40"
       ]
      },
      {
       "output_type": "stream",
       "stream": "stdout",
       "text": [
        " / 61 paris.2014-11-11_22-40-18.375180.txt\n",
        "50"
       ]
      },
      {
       "output_type": "stream",
       "stream": "stdout",
       "text": [
        " / 61 paris.2014-11-11_22-50-17.777867.txt\n",
        "60"
       ]
      },
      {
       "output_type": "stream",
       "stream": "stdout",
       "text": [
        " / 61 paris.2014-11-11_23-00-17.841170.txt\n"
       ]
      }
     ],
     "prompt_number": 5
    },
    {
     "cell_type": "code",
     "collapsed": false,
     "input": [
      "df=%blob_ls hdblobstorage/velib_small\n",
      "df.tail()"
     ],
     "language": "python",
     "metadata": {},
     "outputs": [
      {
       "html": [
        "<div style=\"max-height:1000px;max-width:1500px;overflow:auto;\">\n",
        "<table border=\"1\" class=\"dataframe\">\n",
        "  <thead>\n",
        "    <tr style=\"text-align: right;\">\n",
        "      <th></th>\n",
        "      <th>name</th>\n",
        "      <th>last_modified</th>\n",
        "      <th>content_type</th>\n",
        "      <th>content_length</th>\n",
        "      <th>blob_type</th>\n",
        "    </tr>\n",
        "  </thead>\n",
        "  <tbody>\n",
        "    <tr>\n",
        "      <th>56</th>\n",
        "      <td> velib_small/paris.2014-11-11_22-56-17.319040.txt</td>\n",
        "      <td> Sun, 16 Nov 2014 21:29:25 GMT</td>\n",
        "      <td> application/octet-stream</td>\n",
        "      <td> 524906</td>\n",
        "      <td> BlockBlob</td>\n",
        "    </tr>\n",
        "    <tr>\n",
        "      <th>57</th>\n",
        "      <td> velib_small/paris.2014-11-11_22-57-18.088550.txt</td>\n",
        "      <td> Sun, 16 Nov 2014 21:29:31 GMT</td>\n",
        "      <td> application/octet-stream</td>\n",
        "      <td> 524895</td>\n",
        "      <td> BlockBlob</td>\n",
        "    </tr>\n",
        "    <tr>\n",
        "      <th>58</th>\n",
        "      <td> velib_small/paris.2014-11-11_22-58-17.579701.txt</td>\n",
        "      <td> Sun, 16 Nov 2014 21:29:37 GMT</td>\n",
        "      <td> application/octet-stream</td>\n",
        "      <td> 524892</td>\n",
        "      <td> BlockBlob</td>\n",
        "    </tr>\n",
        "    <tr>\n",
        "      <th>59</th>\n",
        "      <td> velib_small/paris.2014-11-11_22-59-18.340122.txt</td>\n",
        "      <td> Sun, 16 Nov 2014 21:29:44 GMT</td>\n",
        "      <td> application/octet-stream</td>\n",
        "      <td> 524886</td>\n",
        "      <td> BlockBlob</td>\n",
        "    </tr>\n",
        "    <tr>\n",
        "      <th>60</th>\n",
        "      <td> velib_small/paris.2014-11-11_23-00-17.841170.txt</td>\n",
        "      <td> Sun, 16 Nov 2014 21:29:50 GMT</td>\n",
        "      <td> application/octet-stream</td>\n",
        "      <td> 523638</td>\n",
        "      <td> BlockBlob</td>\n",
        "    </tr>\n",
        "  </tbody>\n",
        "</table>\n",
        "</div>"
       ],
       "metadata": {},
       "output_type": "pyout",
       "prompt_number": 9,
       "text": [
        "                                                name  \\\n",
        "56  velib_small/paris.2014-11-11_22-56-17.319040.txt   \n",
        "57  velib_small/paris.2014-11-11_22-57-18.088550.txt   \n",
        "58  velib_small/paris.2014-11-11_22-58-17.579701.txt   \n",
        "59  velib_small/paris.2014-11-11_22-59-18.340122.txt   \n",
        "60  velib_small/paris.2014-11-11_23-00-17.841170.txt   \n",
        "\n",
        "                    last_modified              content_type  content_length  \\\n",
        "56  Sun, 16 Nov 2014 21:29:25 GMT  application/octet-stream          524906   \n",
        "57  Sun, 16 Nov 2014 21:29:31 GMT  application/octet-stream          524895   \n",
        "58  Sun, 16 Nov 2014 21:29:37 GMT  application/octet-stream          524892   \n",
        "59  Sun, 16 Nov 2014 21:29:44 GMT  application/octet-stream          524886   \n",
        "60  Sun, 16 Nov 2014 21:29:50 GMT  application/octet-stream          523638   \n",
        "\n",
        "    blob_type  \n",
        "56  BlockBlob  \n",
        "57  BlockBlob  \n",
        "58  BlockBlob  \n",
        "59  BlockBlob  \n",
        "60  BlockBlob  "
       ]
      }
     ],
     "prompt_number": 9
    },
    {
     "cell_type": "markdown",
     "metadata": {},
     "source": [
      "<h3 id=\"pig1\">PIG et JSON</h3>"
     ]
    },
    {
     "cell_type": "markdown",
     "metadata": {},
     "source": [
      "Pour lire du JSON depuis PIG, il faut utiliser la classe [JsonLoader](http://pig.apache.org/docs/r0.10.0/func.html#jsonloadstore)."
     ]
    },
    {
     "cell_type": "code",
     "collapsed": false,
     "input": [
      "%%PIG_azure json_velib.pig\n",
      "\n",
      "minute = LOAD '__CONTAINER__velib_small/paris.2014-11-11_22-56-17.319040.txt'  \n",
      "          USING JsonLoader('row:{(address:chararray,available_bike_stands:int,available_bikes:int,banking:int,bike_stands:int,bonus:int,collect_date:chararray,contract_name:chararray,last_update:chararray,lat:double,lng:double,name:chararray,number:int,status:chararray)}');\n",
      "station = FOREACH minute GENERATE FLATTEN(row) ;\n",
      "\n",
      "STORE station INTO '__CONTAINER__velib_results/stations_small.txt' USING PigStorage('\\t') ;"
     ],
     "language": "python",
     "metadata": {},
     "outputs": [],
     "prompt_number": 7
    },
    {
     "cell_type": "markdown",
     "metadata": {},
     "source": [
      "On ex\u00e9cute le job :"
     ]
    },
    {
     "cell_type": "code",
     "collapsed": false,
     "input": [
      "%hd_pig_submit json_velib.pig"
     ],
     "language": "python",
     "metadata": {},
     "outputs": [
      {
       "metadata": {},
       "output_type": "pyout",
       "prompt_number": 8,
       "text": [
        "{'id': 'job_1415772450618_0019'}"
       ]
      }
     ],
     "prompt_number": 8
    },
    {
     "cell_type": "markdown",
     "metadata": {},
     "source": [
      "S'il se produit des erreurs, il est recommand\u00e9 d'afficher plus de lignes :"
     ]
    },
    {
     "cell_type": "code",
     "collapsed": false,
     "input": [
      "%tail_stderr 20"
     ],
     "language": "python",
     "metadata": {},
     "outputs": [
      {
       "html": [
        "<pre>\n",
        "\n",
        "Output(s):\n",
        "Successfully stored 1 records in: \"wasb://hdblobstorage@hdblobstorage.blob.core.windows.net//velib_results/stations_small.txt\"\n",
        "\n",
        "Counters:\n",
        "Total records written : 1\n",
        "Total bytes written : 0\n",
        "Spillable Memory Manager spill count : 0\n",
        "Total bags proactively spilled: 0\n",
        "Total records proactively spilled: 0\n",
        "\n",
        "Job DAG:\n",
        "job_1415772450618_0020\n",
        "\n",
        "\n",
        "2014-11-16 23:39:35,134 [main] WARN  org.apache.pig.backend.hadoop.executionengine.mapReduceLayer.MapReduceLauncher - No FileSystem for scheme: wasb. Not creating success file\n",
        "2014-11-16 23:39:35,134 [main] INFO  org.apache.hadoop.yarn.client.RMProxy - Connecting to ResourceManager at headnodehost/100.74.20.101:9010\n",
        "2014-11-16 23:39:35,212 [main] INFO  org.apache.hadoop.mapred.ClientServiceDelegate - Application state is completed. FinalApplicationStatus=SUCCEEDED. Redirecting to job history server\n",
        "2014-11-16 23:39:35,962 [main] WARN  org.apache.pig.backend.hadoop.executionengine.mapReduceLayer.MapReduceLauncher - Encountered Warning UDF_WARNING_1 1 time(s).\n",
        "2014-11-16 23:39:35,962 [main] INFO  org.apache.pig.backend.hadoop.executionengine.mapReduceLayer.MapReduceLauncher - Success!\n",
        "</pre>"
       ],
       "metadata": {},
       "output_type": "pyout",
       "prompt_number": 14,
       "text": [
        "<IPython.core.display.HTML at 0x7194b90>"
       ]
      }
     ],
     "prompt_number": 14
    },
    {
     "cell_type": "markdown",
     "metadata": {},
     "source": [
      "On v\u00e9rifie que tout s'est bien pass\u00e9. La taille devrait \u00eatre \u00e9quivalent \u00e0 l'entr\u00e9e."
     ]
    },
    {
     "cell_type": "code",
     "collapsed": false,
     "input": [
      "%blob_ls hdblobstorage/velib_results/stations_small.txt"
     ],
     "language": "python",
     "metadata": {},
     "outputs": [
      {
       "html": [
        "<div style=\"max-height:1000px;max-width:1500px;overflow:auto;\">\n",
        "<table border=\"1\" class=\"dataframe\">\n",
        "  <thead>\n",
        "    <tr style=\"text-align: right;\">\n",
        "      <th></th>\n",
        "      <th>name</th>\n",
        "      <th>last_modified</th>\n",
        "      <th>content_type</th>\n",
        "      <th>content_length</th>\n",
        "      <th>blob_type</th>\n",
        "    </tr>\n",
        "  </thead>\n",
        "  <tbody>\n",
        "    <tr>\n",
        "      <th>0</th>\n",
        "      <td>              velib_results/stations_small.txt</td>\n",
        "      <td> Sun, 16 Nov 2014 23:39:29 GMT</td>\n",
        "      <td>                         </td>\n",
        "      <td> 0</td>\n",
        "      <td> BlockBlob</td>\n",
        "    </tr>\n",
        "    <tr>\n",
        "      <th>1</th>\n",
        "      <td>     velib_results/stations_small.txt/_SUCCESS</td>\n",
        "      <td> Sun, 16 Nov 2014 23:39:29 GMT</td>\n",
        "      <td> application/octet-stream</td>\n",
        "      <td> 0</td>\n",
        "      <td> BlockBlob</td>\n",
        "    </tr>\n",
        "    <tr>\n",
        "      <th>2</th>\n",
        "      <td> velib_results/stations_small.txt/part-m-00000</td>\n",
        "      <td> Sun, 16 Nov 2014 23:39:29 GMT</td>\n",
        "      <td> application/octet-stream</td>\n",
        "      <td> 1</td>\n",
        "      <td> BlockBlob</td>\n",
        "    </tr>\n",
        "  </tbody>\n",
        "</table>\n",
        "</div>"
       ],
       "metadata": {},
       "output_type": "pyout",
       "prompt_number": 12,
       "text": [
        "                                            name  \\\n",
        "0               velib_results/stations_small.txt   \n",
        "1      velib_results/stations_small.txt/_SUCCESS   \n",
        "2  velib_results/stations_small.txt/part-m-00000   \n",
        "\n",
        "                   last_modified              content_type  content_length  \\\n",
        "0  Sun, 16 Nov 2014 23:39:29 GMT                                         0   \n",
        "1  Sun, 16 Nov 2014 23:39:29 GMT  application/octet-stream               0   \n",
        "2  Sun, 16 Nov 2014 23:39:29 GMT  application/octet-stream               1   \n",
        "\n",
        "   blob_type  \n",
        "0  BlockBlob  \n",
        "1  BlockBlob  \n",
        "2  BlockBlob  "
       ]
      }
     ],
     "prompt_number": 12
    },
    {
     "cell_type": "code",
     "collapsed": false,
     "input": [
      "%blob_downmerge hdblobstorage/velib_results/stations_small.txt velib_hd.txt"
     ],
     "language": "python",
     "metadata": {},
     "outputs": [
      {
       "metadata": {},
       "output_type": "pyout",
       "prompt_number": 15,
       "text": [
        "'velib_hd.txt'"
       ]
      }
     ],
     "prompt_number": 15
    },
    {
     "cell_type": "code",
     "collapsed": false,
     "input": [
      "with open(\"velib_hd.txt\",\"r\",encoding=\"utf8\") as f : t = f.read()\n",
      "t"
     ],
     "language": "python",
     "metadata": {},
     "outputs": [
      {
       "metadata": {},
       "output_type": "pyout",
       "prompt_number": 18,
       "text": [
        "'\\n'"
       ]
      }
     ],
     "prompt_number": 18
    },
    {
     "cell_type": "code",
     "collapsed": false,
     "input": [],
     "language": "python",
     "metadata": {},
     "outputs": []
    }
   ],
   "metadata": {}
  }
 ]
}