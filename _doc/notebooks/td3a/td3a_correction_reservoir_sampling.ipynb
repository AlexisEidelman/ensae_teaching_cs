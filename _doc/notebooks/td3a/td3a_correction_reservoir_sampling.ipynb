{
 "cells": [
  {
   "cell_type": "markdown",
   "metadata": {},
   "source": [
    "# Reservoir Sampling distribué - énoncé"
   ]
  },
  {
   "cell_type": "code",
   "execution_count": 269,
   "metadata": {
    "collapsed": false
   },
   "outputs": [
    {
     "data": {
      "text/html": [
       "<b>Plan</b>\n",
       "<div id=\"my_menu_id\">run previous cell, wait for 2 seconds</div>\n",
       "<script>\n",
       "function repeat_indent_string(n){\n",
       "    var a = \"\" ;\n",
       "    for ( ; n > 0 ; --n) {\n",
       "        a += \"    \";\n",
       "    }\n",
       "    return a;\n",
       "}\n",
       "var update_menu_string = function(begin, lfirst, llast, sformat, send) {\n",
       "    var anchors = document.getElementsByClassName(\"section\");\n",
       "    if (anchors.length == 0) {\n",
       "        anchors = document.getElementsByClassName(\"text_cell_render rendered_html\");\n",
       "    }\n",
       "    var i,t;\n",
       "    var text_menu = begin;\n",
       "    var text_memo = \"<pre>\\nlength:\" + anchors.length + \"\\n\";\n",
       "    var ind = \"\";\n",
       "    var memo_level = 1;\n",
       "    var href;\n",
       "    var tags = [];\n",
       "    for (i = 0; i <= llast; i++) {\n",
       "        tags.push(\"h\" + i);\n",
       "    }\n",
       "\n",
       "    for (i = 0; i < anchors.length; i++) {\n",
       "        text_memo += \"**\" + anchors[i].id + \"--\\n\";\n",
       "\n",
       "        var child = null;\n",
       "        for(t = 0; t < tags.length; t++) {\n",
       "            var r = anchors[i].getElementsByTagName(tags[t]);\n",
       "            if (r.length > 0) {\n",
       "child = r[0];\n",
       "break;\n",
       "            }\n",
       "        }\n",
       "        if (child == null){\n",
       "            text_memo += \"null\\n\";\n",
       "            continue;\n",
       "        }\n",
       "\n",
       "        if (anchors[i].hasAttribute(\"id\")) {\n",
       "            // when converted in RST\n",
       "            href = anchors[i].id;\n",
       "            text_memo += \"#1-\" + href;\n",
       "            // passer à child suivant (le chercher)\n",
       "        }\n",
       "        else if (child.hasAttribute(\"id\")) {\n",
       "            // in a notebook\n",
       "            href = child.id;\n",
       "            text_memo += \"#2-\" + href;\n",
       "        }\n",
       "        else {\n",
       "            text_memo += \"#3-\" + \"*\" + \"\\n\";\n",
       "            continue;\n",
       "        }\n",
       "        var title = child.textContent;\n",
       "        var level = parseInt(child.tagName.substring(1,2));\n",
       "\n",
       "        text_memo += \"--\" + level + \"?\" + lfirst + \"--\" + title + \"\\n\";\n",
       "\n",
       "        if ((level < lfirst) || (level > llast)) {\n",
       "            continue ;\n",
       "        }\n",
       "        if (title.endsWith('¶')) {\n",
       "            title = title.substring(0,title.length-1).replace(\"<\", \"&lt;\").replace(\">\", \"&gt;\").replace(\"&\", \"&amp;\")\n",
       "        }\n",
       "\n",
       "        if (title.length == 0) {\n",
       "            continue;\n",
       "        }\n",
       "        while (level > memo_level) {\n",
       "            text_menu += \"<ul>\\n\";\n",
       "            memo_level += 1;\n",
       "        }\n",
       "        while (level < memo_level) {\n",
       "            text_menu += \"</ul>\\n\";\n",
       "            memo_level -= 1;\n",
       "        }\n",
       "        text_menu += repeat_indent_string(level-2) + sformat.replace(\"__HREF__\", href).replace(\"__TITLE__\", title);\n",
       "    }\n",
       "    while (1 < memo_level) {\n",
       "        text_menu += \"</ul>\\n\";\n",
       "        memo_level -= 1;\n",
       "    }\n",
       "    text_menu += send;\n",
       "    //text_menu += \"\\n\" + text_memo;\n",
       "    return text_menu;\n",
       "};\n",
       "var update_menu = function() {\n",
       "    var sbegin = \"\";\n",
       "    var sformat = '<li><a href=\"#__HREF__\">__TITLE__</a></li>';\n",
       "    var send = \"\";\n",
       "    var text_menu = update_menu_string(sbegin, 2, 4, sformat, send);\n",
       "    var menu = document.getElementById(\"my_menu_id\");\n",
       "    menu.innerHTML=text_menu;\n",
       "};\n",
       "window.setTimeout(update_menu,2000);\n",
       "            </script>"
      ],
      "text/plain": [
       "<IPython.core.display.HTML object>"
      ]
     },
     "execution_count": 269,
     "metadata": {},
     "output_type": "execute_result"
    }
   ],
   "source": [
    "import pyensae\n",
    "%nb_menu"
   ]
  },
  {
   "cell_type": "markdown",
   "metadata": {},
   "source": [
    "## création d'un fichier à sampler"
   ]
  },
  {
   "cell_type": "code",
   "execution_count": 148,
   "metadata": {
    "collapsed": true
   },
   "outputs": [],
   "source": [
    "with open(\"sample4.txt\", \"w\", encoding=\"utf8\") as f:\n",
    "    for i in range(0,100000):\n",
    "        f.write(\"{0}\\t{1}{0}\\n\".format(i, chr(i%26 + 65)))\n",
    "    f.write(\"100001\\tAAAAAA\")"
   ]
  },
  {
   "cell_type": "code",
   "execution_count": 150,
   "metadata": {
    "collapsed": false
   },
   "outputs": [
    {
     "data": {
      "text/html": [
       "<pre>\n",
       "0\tA0\n",
       "1\tB1\n",
       "2\tC2\n",
       "3\tD3\n",
       "4\tE4\n",
       "5\tF5\n",
       "6\tG6\n",
       "7\tH7\n",
       "8\tI8\n",
       "9\tJ9\n",
       "\n",
       "</pre>"
      ],
      "text/plain": [
       "<IPython.core.display.HTML object>"
      ]
     },
     "execution_count": 150,
     "metadata": {},
     "output_type": "execute_result"
    }
   ],
   "source": [
    "%head sample4.txt"
   ]
  },
  {
   "cell_type": "markdown",
   "metadata": {},
   "source": [
    "## connexion"
   ]
  },
  {
   "cell_type": "code",
   "execution_count": 1,
   "metadata": {
    "collapsed": false
   },
   "outputs": [
    {
     "data": {
      "text/html": [
       "<div style=\"background-color:gainsboro; padding:2px; border:0px;\"><b>server + hadoop + credentials</b>\n",
       "<br />blob_storage <input type=\"text\" id=\"blobhpblob_storage\" value=\"\" size=\"80\" />\n",
       "<br />hadoop_server <input type=\"text\" id=\"blobhphadoop_server\" value=\"\" size=\"80\" />\n",
       "<br />password1 <input type=\"password\" id=\"blobhppassword1\" value=\"\" size=\"80\" />\n",
       "<br />password2 <input type=\"password\" id=\"blobhppassword2\" value=\"\" size=\"80\" />\n",
       "<br />username <input type=\"text\" id=\"blobhpusername\" value=\"xavierdupre\" size=\"80\" />\n",
       "<br /><button onclick=\"set_valueblobhp()\">Ok</button></div>\n",
       "<script type=\"text/Javascript\">\n",
       "function blobhpcallback(msg) {\n",
       "   var ret = msg.content.data['text/plain'];\n",
       "   $('#outblobhp').text(ret);\n",
       "}\n",
       "function set_valueblobhp(){\n",
       "   command='blobhp = {' ;\n",
       "   var blobhpblob_storagevar_value = document.getElementById('blobhpblob_storage').value;\n",
       "   command += '\"blob_storage\":\"' + blobhpblob_storagevar_value + '\",';\n",
       "   var blobhphadoop_servervar_value = document.getElementById('blobhphadoop_server').value;\n",
       "   command += '\"hadoop_server\":\"' + blobhphadoop_servervar_value + '\",';\n",
       "   var blobhppassword1var_value = document.getElementById('blobhppassword1').value;\n",
       "   command += '\"password1\":\"' + blobhppassword1var_value + '\",';\n",
       "   var blobhppassword2var_value = document.getElementById('blobhppassword2').value;\n",
       "   command += '\"password2\":\"' + blobhppassword2var_value + '\",';\n",
       "   var blobhpusernamevar_value = document.getElementById('blobhpusername').value;\n",
       "   command += '\"username\":\"' + blobhpusernamevar_value + '\",';\n",
       "   command += '}';\n",
       "   var kernel = IPython.notebook.kernel;\n",
       "   kernel.execute(command);\n",
       "}\n",
       "</script>"
      ],
      "text/plain": [
       "<IPython.core.display.HTML object>"
      ]
     },
     "execution_count": 1,
     "metadata": {},
     "output_type": "execute_result"
    }
   ],
   "source": [
    "from pyquickhelper.ipythonhelper import open_html_form\n",
    "params={\"blob_storage\":\"\", \"password1\":\"\", \"hadoop_server\":\"\", \"password2\":\"\", \"username\":\"xavierdupre\"}\n",
    "open_html_form(params=params,title=\"server + hadoop + credentials\", key_save=\"blobhp\")"
   ]
  },
  {
   "cell_type": "code",
   "execution_count": 272,
   "metadata": {
    "collapsed": true
   },
   "outputs": [],
   "source": [
    "import pyensae\n",
    "if False:\n",
    "    blobstorage = blobhp[\"blob_storage\"]\n",
    "    blobpassword = blobhp[\"password1\"]\n",
    "    hadoop_server = blobhp[\"hadoop_server\"]\n",
    "    hadoop_password = blobhp[\"password2\"]\n",
    "    username = blobhp[\"username\"]\n",
    "    \n",
    "blobstorage = \"hdblobstorage\"\n",
    "blobpassword = \"jQIPVO/T54w8X49UPIbzAVvaNO3wmuUwI4/o9AJnCaPTHoCQnsaGBUkT4eIyi0BRQavgc/TAQMQwy8eu19CSBQ==\"\n",
    "hadoop_server = \"clusterensaeazure1\"\n",
    "hadoop_password = \"2azureENSAE;\"\n",
    "username = \"axavier\""
   ]
  },
  {
   "cell_type": "code",
   "execution_count": 273,
   "metadata": {
    "collapsed": false
   },
   "outputs": [
    {
     "data": {
      "text/plain": [
       "(<pyensae.remote.azure_connection.AzureClient at 0x96426d8>,\n",
       " <azure.storage.blob.blobservice.BlobService at 0x9642ef0>)"
      ]
     },
     "execution_count": 273,
     "metadata": {},
     "output_type": "execute_result"
    }
   ],
   "source": [
    "client, bs = %hd_open\n",
    "client, bs"
   ]
  },
  {
   "cell_type": "markdown",
   "metadata": {},
   "source": [
    "## upload du fichier"
   ]
  },
  {
   "cell_type": "code",
   "execution_count": 151,
   "metadata": {
    "collapsed": false
   },
   "outputs": [
    {
     "data": {
      "text/plain": [
       "'$PSEUDO/sampling/sample4.txt'"
      ]
     },
     "execution_count": 151,
     "metadata": {},
     "output_type": "execute_result"
    }
   ],
   "source": [
    "%blob_up sample3.txt /$PSEUDO/sampling/sample4.txt"
   ]
  },
  {
   "cell_type": "code",
   "execution_count": 152,
   "metadata": {
    "collapsed": false
   },
   "outputs": [
    {
     "data": {
      "text/html": [
       "<div>\n",
       "<table border=\"1\" class=\"dataframe\">\n",
       "  <thead>\n",
       "    <tr style=\"text-align: right;\">\n",
       "      <th></th>\n",
       "      <th>name</th>\n",
       "      <th>last_modified</th>\n",
       "      <th>content_type</th>\n",
       "      <th>content_length</th>\n",
       "      <th>blob_type</th>\n",
       "    </tr>\n",
       "  </thead>\n",
       "  <tbody>\n",
       "    <tr>\n",
       "      <th>0</th>\n",
       "      <td>axavier/sampling/datafu-1.2.0.jar</td>\n",
       "      <td>Fri, 13 Nov 2015 00:03:49 GMT</td>\n",
       "      <td>application/octet-stream</td>\n",
       "      <td>1600826</td>\n",
       "      <td>BlockBlob</td>\n",
       "    </tr>\n",
       "    <tr>\n",
       "      <th>1</th>\n",
       "      <td>axavier/sampling/sample.txt</td>\n",
       "      <td>Fri, 13 Nov 2015 00:02:50 GMT</td>\n",
       "      <td>application/octet-stream</td>\n",
       "      <td>1377780</td>\n",
       "      <td>BlockBlob</td>\n",
       "    </tr>\n",
       "    <tr>\n",
       "      <th>2</th>\n",
       "      <td>axavier/sampling/sample2.txt</td>\n",
       "      <td>Fri, 13 Nov 2015 00:35:55 GMT</td>\n",
       "      <td>application/octet-stream</td>\n",
       "      <td>1377793</td>\n",
       "      <td>BlockBlob</td>\n",
       "    </tr>\n",
       "    <tr>\n",
       "      <th>3</th>\n",
       "      <td>axavier/sampling/sample3.txt</td>\n",
       "      <td>Fri, 13 Nov 2015 00:39:40 GMT</td>\n",
       "      <td>application/octet-stream</td>\n",
       "      <td>1377793</td>\n",
       "      <td>BlockBlob</td>\n",
       "    </tr>\n",
       "    <tr>\n",
       "      <th>4</th>\n",
       "      <td>axavier/sampling/sample4.txt</td>\n",
       "      <td>Fri, 13 Nov 2015 00:41:49 GMT</td>\n",
       "      <td>application/octet-stream</td>\n",
       "      <td>1377793</td>\n",
       "      <td>BlockBlob</td>\n",
       "    </tr>\n",
       "  </tbody>\n",
       "</table>\n",
       "</div>"
      ],
      "text/plain": [
       "                                name                  last_modified  \\\n",
       "0  axavier/sampling/datafu-1.2.0.jar  Fri, 13 Nov 2015 00:03:49 GMT   \n",
       "1        axavier/sampling/sample.txt  Fri, 13 Nov 2015 00:02:50 GMT   \n",
       "2       axavier/sampling/sample2.txt  Fri, 13 Nov 2015 00:35:55 GMT   \n",
       "3       axavier/sampling/sample3.txt  Fri, 13 Nov 2015 00:39:40 GMT   \n",
       "4       axavier/sampling/sample4.txt  Fri, 13 Nov 2015 00:41:49 GMT   \n",
       "\n",
       "               content_type  content_length  blob_type  \n",
       "0  application/octet-stream         1600826  BlockBlob  \n",
       "1  application/octet-stream         1377780  BlockBlob  \n",
       "2  application/octet-stream         1377793  BlockBlob  \n",
       "3  application/octet-stream         1377793  BlockBlob  \n",
       "4  application/octet-stream         1377793  BlockBlob  "
      ]
     },
     "execution_count": 152,
     "metadata": {},
     "output_type": "execute_result"
    }
   ],
   "source": [
    "%blob_ls /$PSEUDO/sampling"
   ]
  },
  {
   "cell_type": "markdown",
   "metadata": {},
   "source": [
    "## Code python pour le reservoir sampling"
   ]
  },
  {
   "cell_type": "code",
   "execution_count": 6,
   "metadata": {
    "collapsed": false
   },
   "outputs": [
    {
     "data": {
      "text/plain": [
       "['6898i',\n",
       " '6868e',\n",
       " '7240m',\n",
       " '501h',\n",
       " '4124q',\n",
       " '9736m',\n",
       " '77z',\n",
       " '6668m',\n",
       " '9539x',\n",
       " '4440u']"
      ]
     },
     "execution_count": 6,
     "metadata": {},
     "output_type": "execute_result"
    }
   ],
   "source": [
    "import random\n",
    "def reservoir_sampling(ensemble, k):\n",
    "    N = len(ensemble)\n",
    "    echantillon = []\n",
    "    for i, e in enumerate(ensemble):\n",
    "        if len(echantillon) < k:\n",
    "            echantillon.append(k)\n",
    "        else:\n",
    "            j = random.randint(0, i)\n",
    "            if j < k:\n",
    "                echantillon[j] = e\n",
    "    return echantillon\n",
    "\n",
    "reservoir_sampling(ensemble, 10)"
   ]
  },
  {
   "cell_type": "markdown",
   "metadata": {},
   "source": [
    "## python à jython"
   ]
  },
  {
   "cell_type": "markdown",
   "metadata": {},
   "source": [
    "## version distribuée"
   ]
  },
  {
   "cell_type": "markdown",
   "metadata": {},
   "source": [
    "## version distribuée améliorée"
   ]
  },
  {
   "cell_type": "markdown",
   "metadata": {
    "collapsed": true
   },
   "source": [
    "## version java\n",
    "\n",
    "On s'inspire de l'exemple suivant [Sampling](http://datafu.incubator.apache.org/docs/datafu/guide/sampling.html).\n",
    " On télécharge [datafu 1.2](http://datafu.incubator.apache.org/docs/datafu/) depuis [Maven](http://mvnrepository.com/artifact/com.linkedin.datafu/datafu/1.2.0). Ce n'est pas la dernière version mais suivre les instructions pour *builder* datafu (voir [documentation](http://datafu.incubator.apache.org/docs/datafu/1.2.0/))."
   ]
  },
  {
   "cell_type": "code",
   "execution_count": 4,
   "metadata": {
    "collapsed": false
   },
   "outputs": [
    {
     "data": {
      "text/plain": [
       "'datafu-1.2.0.jar'"
      ]
     },
     "execution_count": 4,
     "metadata": {},
     "output_type": "execute_result"
    }
   ],
   "source": [
    "import pyensae\n",
    "pyensae.download_data(\"datafu-1.2.0.jar\", url=\"http://central.maven.org/maven2/com/linkedin/datafu/datafu/1.2.0/\")"
   ]
  },
  {
   "cell_type": "code",
   "execution_count": 47,
   "metadata": {
    "collapsed": false
   },
   "outputs": [
    {
     "data": {
      "text/plain": [
       "'$PSEUDO/sampling/datafu-1.2.0.jar'"
      ]
     },
     "execution_count": 47,
     "metadata": {},
     "output_type": "execute_result"
    }
   ],
   "source": [
    "%blob_up datafu-1.2.0.jar /$PSEUDO/sampling/datafu-1.2.0.jar"
   ]
  },
  {
   "cell_type": "code",
   "execution_count": 153,
   "metadata": {
    "collapsed": false
   },
   "outputs": [
    {
     "data": {
      "text/html": [
       "<div>\n",
       "<table border=\"1\" class=\"dataframe\">\n",
       "  <thead>\n",
       "    <tr style=\"text-align: right;\">\n",
       "      <th></th>\n",
       "      <th>name</th>\n",
       "      <th>last_modified</th>\n",
       "      <th>content_type</th>\n",
       "      <th>content_length</th>\n",
       "      <th>blob_type</th>\n",
       "    </tr>\n",
       "  </thead>\n",
       "  <tbody>\n",
       "    <tr>\n",
       "      <th>0</th>\n",
       "      <td>axavier/sampling/datafu-1.2.0.jar</td>\n",
       "      <td>Fri, 13 Nov 2015 00:03:49 GMT</td>\n",
       "      <td>application/octet-stream</td>\n",
       "      <td>1600826</td>\n",
       "      <td>BlockBlob</td>\n",
       "    </tr>\n",
       "    <tr>\n",
       "      <th>1</th>\n",
       "      <td>axavier/sampling/sample.txt</td>\n",
       "      <td>Fri, 13 Nov 2015 00:02:50 GMT</td>\n",
       "      <td>application/octet-stream</td>\n",
       "      <td>1377780</td>\n",
       "      <td>BlockBlob</td>\n",
       "    </tr>\n",
       "    <tr>\n",
       "      <th>2</th>\n",
       "      <td>axavier/sampling/sample2.txt</td>\n",
       "      <td>Fri, 13 Nov 2015 00:35:55 GMT</td>\n",
       "      <td>application/octet-stream</td>\n",
       "      <td>1377793</td>\n",
       "      <td>BlockBlob</td>\n",
       "    </tr>\n",
       "    <tr>\n",
       "      <th>3</th>\n",
       "      <td>axavier/sampling/sample3.txt</td>\n",
       "      <td>Fri, 13 Nov 2015 00:39:40 GMT</td>\n",
       "      <td>application/octet-stream</td>\n",
       "      <td>1377793</td>\n",
       "      <td>BlockBlob</td>\n",
       "    </tr>\n",
       "    <tr>\n",
       "      <th>4</th>\n",
       "      <td>axavier/sampling/sample4.txt</td>\n",
       "      <td>Fri, 13 Nov 2015 00:41:49 GMT</td>\n",
       "      <td>application/octet-stream</td>\n",
       "      <td>1377793</td>\n",
       "      <td>BlockBlob</td>\n",
       "    </tr>\n",
       "  </tbody>\n",
       "</table>\n",
       "</div>"
      ],
      "text/plain": [
       "                                name                  last_modified  \\\n",
       "0  axavier/sampling/datafu-1.2.0.jar  Fri, 13 Nov 2015 00:03:49 GMT   \n",
       "1        axavier/sampling/sample.txt  Fri, 13 Nov 2015 00:02:50 GMT   \n",
       "2       axavier/sampling/sample2.txt  Fri, 13 Nov 2015 00:35:55 GMT   \n",
       "3       axavier/sampling/sample3.txt  Fri, 13 Nov 2015 00:39:40 GMT   \n",
       "4       axavier/sampling/sample4.txt  Fri, 13 Nov 2015 00:41:49 GMT   \n",
       "\n",
       "               content_type  content_length  blob_type  \n",
       "0  application/octet-stream         1600826  BlockBlob  \n",
       "1  application/octet-stream         1377780  BlockBlob  \n",
       "2  application/octet-stream         1377793  BlockBlob  \n",
       "3  application/octet-stream         1377793  BlockBlob  \n",
       "4  application/octet-stream         1377793  BlockBlob  "
      ]
     },
     "execution_count": 153,
     "metadata": {},
     "output_type": "execute_result"
    }
   ],
   "source": [
    "%blob_ls /$PSEUDO/sampling"
   ]
  },
  {
   "cell_type": "code",
   "execution_count": 261,
   "metadata": {
    "collapsed": false
   },
   "outputs": [],
   "source": [
    "%%PIG_azure sample.pig\n",
    "\n",
    "REGISTER '$CONTAINER/$PSEUDO/sampling/datafu-1.2.0.jar';\n",
    "\n",
    "DEFINE RS datafu.pig.sampling.ReservoirSample('1000');\n",
    "\n",
    "dset = LOAD '$CONTAINER/$PSEUDO/sampling/sample4.txt' \n",
    "        USING PigStorage('\\t') AS (x:int, v:chararray) ;\n",
    "sampled = FOREACH (GROUP dset ALL) GENERATE FLATTEN(RS(dset));\n",
    "STORE sampled INTO '$CONTAINER/$PSEUDO/sampling/out_sampled_rs4_2015.txt' USING PigStorage() ;"
   ]
  },
  {
   "cell_type": "code",
   "execution_count": 262,
   "metadata": {
    "collapsed": true
   },
   "outputs": [],
   "source": [
    "jid = %hd_pig_submit sample.pig"
   ]
  },
  {
   "cell_type": "code",
   "execution_count": 265,
   "metadata": {
    "collapsed": false
   },
   "outputs": [
    {
     "data": {
      "text/plain": [
       "('job_1446540516812_0136', None, None, False, 'RUNNING')"
      ]
     },
     "execution_count": 265,
     "metadata": {},
     "output_type": "execute_result"
    }
   ],
   "source": [
    "st = %hd_job_status jid[\"id\"]\n",
    "st[\"id\"],st[\"percentComplete\"],st[\"completed\"],st[\"status\"][\"jobComplete\"],st[\"status\"][\"state\"]"
   ]
  },
  {
   "cell_type": "code",
   "execution_count": 266,
   "metadata": {
    "collapsed": false,
    "scrolled": false
   },
   "outputs": [
    {
     "data": {
      "text/html": [
       "<pre>\n",
       "\n",
       "</pre><br />"
      ],
      "text/plain": [
       "<IPython.core.display.HTML object>"
      ]
     },
     "execution_count": 266,
     "metadata": {},
     "output_type": "execute_result"
    }
   ],
   "source": [
    "%hd_tail_stderr jid[\"id\"] -n 10"
   ]
  },
  {
   "cell_type": "code",
   "execution_count": 274,
   "metadata": {
    "collapsed": false
   },
   "outputs": [
    {
     "data": {
      "text/html": [
       "<div>\n",
       "<table border=\"1\" class=\"dataframe\">\n",
       "  <thead>\n",
       "    <tr style=\"text-align: right;\">\n",
       "      <th></th>\n",
       "      <th>name</th>\n",
       "      <th>last_modified</th>\n",
       "      <th>content_type</th>\n",
       "      <th>content_length</th>\n",
       "      <th>blob_type</th>\n",
       "    </tr>\n",
       "  </thead>\n",
       "  <tbody>\n",
       "    <tr>\n",
       "      <th>0</th>\n",
       "      <td>axavier/sampling/datafu-1.2.0.jar</td>\n",
       "      <td>Fri, 13 Nov 2015 00:03:49 GMT</td>\n",
       "      <td>application/octet-stream</td>\n",
       "      <td>1600826</td>\n",
       "      <td>BlockBlob</td>\n",
       "    </tr>\n",
       "    <tr>\n",
       "      <th>1</th>\n",
       "      <td>axavier/sampling/out_sampled_rs4_2015.txt</td>\n",
       "      <td>Fri, 13 Nov 2015 01:08:22 GMT</td>\n",
       "      <td></td>\n",
       "      <td>0</td>\n",
       "      <td>BlockBlob</td>\n",
       "    </tr>\n",
       "    <tr>\n",
       "      <th>2</th>\n",
       "      <td>axavier/sampling/out_sampled_rs4_2015.txt/_SUC...</td>\n",
       "      <td>Fri, 13 Nov 2015 01:08:22 GMT</td>\n",
       "      <td>application/octet-stream</td>\n",
       "      <td>0</td>\n",
       "      <td>BlockBlob</td>\n",
       "    </tr>\n",
       "    <tr>\n",
       "      <th>3</th>\n",
       "      <td>axavier/sampling/out_sampled_rs4_2015.txt/part...</td>\n",
       "      <td>Fri, 13 Nov 2015 01:08:21 GMT</td>\n",
       "      <td>application/octet-stream</td>\n",
       "      <td>12785</td>\n",
       "      <td>BlockBlob</td>\n",
       "    </tr>\n",
       "    <tr>\n",
       "      <th>4</th>\n",
       "      <td>axavier/sampling/sample.txt</td>\n",
       "      <td>Fri, 13 Nov 2015 00:02:50 GMT</td>\n",
       "      <td>application/octet-stream</td>\n",
       "      <td>1377780</td>\n",
       "      <td>BlockBlob</td>\n",
       "    </tr>\n",
       "    <tr>\n",
       "      <th>5</th>\n",
       "      <td>axavier/sampling/sample2.txt</td>\n",
       "      <td>Fri, 13 Nov 2015 00:35:55 GMT</td>\n",
       "      <td>application/octet-stream</td>\n",
       "      <td>1377793</td>\n",
       "      <td>BlockBlob</td>\n",
       "    </tr>\n",
       "    <tr>\n",
       "      <th>6</th>\n",
       "      <td>axavier/sampling/sample3.txt</td>\n",
       "      <td>Fri, 13 Nov 2015 00:39:40 GMT</td>\n",
       "      <td>application/octet-stream</td>\n",
       "      <td>1377793</td>\n",
       "      <td>BlockBlob</td>\n",
       "    </tr>\n",
       "    <tr>\n",
       "      <th>7</th>\n",
       "      <td>axavier/sampling/sample4.txt</td>\n",
       "      <td>Fri, 13 Nov 2015 00:41:49 GMT</td>\n",
       "      <td>application/octet-stream</td>\n",
       "      <td>1377793</td>\n",
       "      <td>BlockBlob</td>\n",
       "    </tr>\n",
       "    <tr>\n",
       "      <th>8</th>\n",
       "      <td>axavier/sampling/sampled4_2015.txt</td>\n",
       "      <td>Fri, 13 Nov 2015 00:50:20 GMT</td>\n",
       "      <td></td>\n",
       "      <td>0</td>\n",
       "      <td>BlockBlob</td>\n",
       "    </tr>\n",
       "    <tr>\n",
       "      <th>9</th>\n",
       "      <td>axavier/sampling/sampled4_2015.txt/_SUCCESS</td>\n",
       "      <td>Fri, 13 Nov 2015 00:50:20 GMT</td>\n",
       "      <td>application/octet-stream</td>\n",
       "      <td>0</td>\n",
       "      <td>BlockBlob</td>\n",
       "    </tr>\n",
       "    <tr>\n",
       "      <th>10</th>\n",
       "      <td>axavier/sampling/sampled4_2015.txt/part-m-00000</td>\n",
       "      <td>Fri, 13 Nov 2015 00:50:19 GMT</td>\n",
       "      <td>application/octet-stream</td>\n",
       "      <td>1277794</td>\n",
       "      <td>BlockBlob</td>\n",
       "    </tr>\n",
       "    <tr>\n",
       "      <th>11</th>\n",
       "      <td>axavier/sampling/sampled_rs4_2015.txt</td>\n",
       "      <td>Fri, 13 Nov 2015 01:04:51 GMT</td>\n",
       "      <td></td>\n",
       "      <td>0</td>\n",
       "      <td>BlockBlob</td>\n",
       "    </tr>\n",
       "    <tr>\n",
       "      <th>12</th>\n",
       "      <td>axavier/sampling/sampled_rs4_2015.txt/_SUCCESS</td>\n",
       "      <td>Fri, 13 Nov 2015 01:04:51 GMT</td>\n",
       "      <td>application/octet-stream</td>\n",
       "      <td>0</td>\n",
       "      <td>BlockBlob</td>\n",
       "    </tr>\n",
       "    <tr>\n",
       "      <th>13</th>\n",
       "      <td>axavier/sampling/sampled_rs4_2015.txt/part-m-0...</td>\n",
       "      <td>Fri, 13 Nov 2015 01:04:50 GMT</td>\n",
       "      <td>application/octet-stream</td>\n",
       "      <td>1277794</td>\n",
       "      <td>BlockBlob</td>\n",
       "    </tr>\n",
       "    <tr>\n",
       "      <th>14</th>\n",
       "      <td>axavier/sampling/sampled_srs4_2015.txt</td>\n",
       "      <td>Fri, 13 Nov 2015 00:56:09 GMT</td>\n",
       "      <td></td>\n",
       "      <td>0</td>\n",
       "      <td>BlockBlob</td>\n",
       "    </tr>\n",
       "    <tr>\n",
       "      <th>15</th>\n",
       "      <td>axavier/sampling/sampled_srs4_2015.txt/_SUCCESS</td>\n",
       "      <td>Fri, 13 Nov 2015 00:56:09 GMT</td>\n",
       "      <td>application/octet-stream</td>\n",
       "      <td>0</td>\n",
       "      <td>BlockBlob</td>\n",
       "    </tr>\n",
       "    <tr>\n",
       "      <th>16</th>\n",
       "      <td>axavier/sampling/sampled_srs4_2015.txt/part-m-...</td>\n",
       "      <td>Fri, 13 Nov 2015 00:56:09 GMT</td>\n",
       "      <td>application/octet-stream</td>\n",
       "      <td>1277794</td>\n",
       "      <td>BlockBlob</td>\n",
       "    </tr>\n",
       "    <tr>\n",
       "      <th>17</th>\n",
       "      <td>axavier/sampling/sampled_srs_2015.txt</td>\n",
       "      <td>Fri, 13 Nov 2015 00:52:34 GMT</td>\n",
       "      <td></td>\n",
       "      <td>0</td>\n",
       "      <td>BlockBlob</td>\n",
       "    </tr>\n",
       "    <tr>\n",
       "      <th>18</th>\n",
       "      <td>axavier/sampling/sampled_srs_2015.txt/_SUCCESS</td>\n",
       "      <td>Fri, 13 Nov 2015 00:52:34 GMT</td>\n",
       "      <td>application/octet-stream</td>\n",
       "      <td>0</td>\n",
       "      <td>BlockBlob</td>\n",
       "    </tr>\n",
       "    <tr>\n",
       "      <th>19</th>\n",
       "      <td>axavier/sampling/sampled_srs_2015.txt/part-m-0...</td>\n",
       "      <td>Fri, 13 Nov 2015 00:52:34 GMT</td>\n",
       "      <td>application/octet-stream</td>\n",
       "      <td>1277794</td>\n",
       "      <td>BlockBlob</td>\n",
       "    </tr>\n",
       "  </tbody>\n",
       "</table>\n",
       "</div>"
      ],
      "text/plain": [
       "                                                 name  \\\n",
       "0                   axavier/sampling/datafu-1.2.0.jar   \n",
       "1           axavier/sampling/out_sampled_rs4_2015.txt   \n",
       "2   axavier/sampling/out_sampled_rs4_2015.txt/_SUC...   \n",
       "3   axavier/sampling/out_sampled_rs4_2015.txt/part...   \n",
       "4                         axavier/sampling/sample.txt   \n",
       "5                        axavier/sampling/sample2.txt   \n",
       "6                        axavier/sampling/sample3.txt   \n",
       "7                        axavier/sampling/sample4.txt   \n",
       "8                  axavier/sampling/sampled4_2015.txt   \n",
       "9         axavier/sampling/sampled4_2015.txt/_SUCCESS   \n",
       "10    axavier/sampling/sampled4_2015.txt/part-m-00000   \n",
       "11              axavier/sampling/sampled_rs4_2015.txt   \n",
       "12     axavier/sampling/sampled_rs4_2015.txt/_SUCCESS   \n",
       "13  axavier/sampling/sampled_rs4_2015.txt/part-m-0...   \n",
       "14             axavier/sampling/sampled_srs4_2015.txt   \n",
       "15    axavier/sampling/sampled_srs4_2015.txt/_SUCCESS   \n",
       "16  axavier/sampling/sampled_srs4_2015.txt/part-m-...   \n",
       "17              axavier/sampling/sampled_srs_2015.txt   \n",
       "18     axavier/sampling/sampled_srs_2015.txt/_SUCCESS   \n",
       "19  axavier/sampling/sampled_srs_2015.txt/part-m-0...   \n",
       "\n",
       "                    last_modified              content_type  content_length  \\\n",
       "0   Fri, 13 Nov 2015 00:03:49 GMT  application/octet-stream         1600826   \n",
       "1   Fri, 13 Nov 2015 01:08:22 GMT                                         0   \n",
       "2   Fri, 13 Nov 2015 01:08:22 GMT  application/octet-stream               0   \n",
       "3   Fri, 13 Nov 2015 01:08:21 GMT  application/octet-stream           12785   \n",
       "4   Fri, 13 Nov 2015 00:02:50 GMT  application/octet-stream         1377780   \n",
       "5   Fri, 13 Nov 2015 00:35:55 GMT  application/octet-stream         1377793   \n",
       "6   Fri, 13 Nov 2015 00:39:40 GMT  application/octet-stream         1377793   \n",
       "7   Fri, 13 Nov 2015 00:41:49 GMT  application/octet-stream         1377793   \n",
       "8   Fri, 13 Nov 2015 00:50:20 GMT                                         0   \n",
       "9   Fri, 13 Nov 2015 00:50:20 GMT  application/octet-stream               0   \n",
       "10  Fri, 13 Nov 2015 00:50:19 GMT  application/octet-stream         1277794   \n",
       "11  Fri, 13 Nov 2015 01:04:51 GMT                                         0   \n",
       "12  Fri, 13 Nov 2015 01:04:51 GMT  application/octet-stream               0   \n",
       "13  Fri, 13 Nov 2015 01:04:50 GMT  application/octet-stream         1277794   \n",
       "14  Fri, 13 Nov 2015 00:56:09 GMT                                         0   \n",
       "15  Fri, 13 Nov 2015 00:56:09 GMT  application/octet-stream               0   \n",
       "16  Fri, 13 Nov 2015 00:56:09 GMT  application/octet-stream         1277794   \n",
       "17  Fri, 13 Nov 2015 00:52:34 GMT                                         0   \n",
       "18  Fri, 13 Nov 2015 00:52:34 GMT  application/octet-stream               0   \n",
       "19  Fri, 13 Nov 2015 00:52:34 GMT  application/octet-stream         1277794   \n",
       "\n",
       "    blob_type  \n",
       "0   BlockBlob  \n",
       "1   BlockBlob  \n",
       "2   BlockBlob  \n",
       "3   BlockBlob  \n",
       "4   BlockBlob  \n",
       "5   BlockBlob  \n",
       "6   BlockBlob  \n",
       "7   BlockBlob  \n",
       "8   BlockBlob  \n",
       "9   BlockBlob  \n",
       "10  BlockBlob  \n",
       "11  BlockBlob  \n",
       "12  BlockBlob  \n",
       "13  BlockBlob  \n",
       "14  BlockBlob  \n",
       "15  BlockBlob  \n",
       "16  BlockBlob  \n",
       "17  BlockBlob  \n",
       "18  BlockBlob  \n",
       "19  BlockBlob  "
      ]
     },
     "execution_count": 274,
     "metadata": {},
     "output_type": "execute_result"
    }
   ],
   "source": [
    "%blob_ls /$PSEUDO/sampling"
   ]
  },
  {
   "cell_type": "code",
   "execution_count": 278,
   "metadata": {
    "collapsed": false
   },
   "outputs": [
    {
     "data": {
      "text/plain": [
       "'out_sampled_rs4_2015.txt'"
      ]
     },
     "execution_count": 278,
     "metadata": {},
     "output_type": "execute_result"
    }
   ],
   "source": [
    "%blob_downmerge /$PSEUDO/sampling/out_sampled_rs4_2015.txt out_sampled_rs4_2015.txt -o"
   ]
  },
  {
   "cell_type": "code",
   "execution_count": 279,
   "metadata": {
    "collapsed": false
   },
   "outputs": [
    {
     "data": {
      "text/html": [
       "<pre>\n",
       "90648\tM90648\n",
       "49678\tS49678\n",
       "41434\tQ41434\n",
       "30149\tP30149\n",
       "15836\tC15836\n",
       "61110\tK61110\n",
       "3838\tQ3838\n",
       "81515\tF81515\n",
       "48052\tE48052\n",
       "16332\tE16332\n",
       "\n",
       "</pre>"
      ],
      "text/plain": [
       "<IPython.core.display.HTML object>"
      ]
     },
     "execution_count": 279,
     "metadata": {},
     "output_type": "execute_result"
    }
   ],
   "source": [
    "%head out_sampled_rs4_2015.txt"
   ]
  },
  {
   "cell_type": "markdown",
   "metadata": {},
   "source": [
    "## fin"
   ]
  },
  {
   "cell_type": "code",
   "execution_count": 280,
   "metadata": {
    "collapsed": false
   },
   "outputs": [
    {
     "data": {
      "text/plain": [
       "True"
      ]
     },
     "execution_count": 280,
     "metadata": {},
     "output_type": "execute_result"
    }
   ],
   "source": [
    "%blob_close"
   ]
  },
  {
   "cell_type": "code",
   "execution_count": null,
   "metadata": {
    "collapsed": true
   },
   "outputs": [],
   "source": []
  }
 ],
 "metadata": {
  "kernelspec": {
   "display_name": "Python 3",
   "language": "python",
   "name": "python3"
  },
  "language_info": {
   "codemirror_mode": {
    "name": "ipython",
    "version": 3
   },
   "file_extension": ".py",
   "mimetype": "text/x-python",
   "name": "python",
   "nbconvert_exporter": "python",
   "pygments_lexer": "ipython3",
   "version": "3.4.3"
  }
 },
 "nbformat": 4,
 "nbformat_minor": 0
}
