{
 "cells": [
  {
   "cell_type": "markdown",
   "metadata": {},
   "source": [
    "# Reservoir Sampling distribué - énoncé"
   ]
  },
  {
   "cell_type": "code",
   "execution_count": 1,
   "metadata": {
    "collapsed": false
   },
   "outputs": [
    {
     "data": {
      "text/html": [
       "<b>Plan</b>\n",
       "<div id=\"my_menu_id\">run previous cell, wait for 2 seconds</div>\n",
       "<script>\n",
       "function repeat_indent_string(n){\n",
       "    var a = \"\" ;\n",
       "    for ( ; n > 0 ; --n) {\n",
       "        a += \"    \";\n",
       "    }\n",
       "    return a;\n",
       "}\n",
       "var update_menu_string = function(begin, lfirst, llast, sformat, send) {\n",
       "    var anchors = document.getElementsByClassName(\"section\");\n",
       "    if (anchors.length == 0) {\n",
       "        anchors = document.getElementsByClassName(\"text_cell_render rendered_html\");\n",
       "    }\n",
       "    var i,t;\n",
       "    var text_menu = begin;\n",
       "    var text_memo = \"<pre>\\nlength:\" + anchors.length + \"\\n\";\n",
       "    var ind = \"\";\n",
       "    var memo_level = 1;\n",
       "    var href;\n",
       "    var tags = [];\n",
       "    for (i = 0; i <= llast; i++) {\n",
       "        tags.push(\"h\" + i);\n",
       "    }\n",
       "\n",
       "    for (i = 0; i < anchors.length; i++) {\n",
       "        text_memo += \"**\" + anchors[i].id + \"--\\n\";\n",
       "\n",
       "        var child = null;\n",
       "        for(t = 0; t < tags.length; t++) {\n",
       "            var r = anchors[i].getElementsByTagName(tags[t]);\n",
       "            if (r.length > 0) {\n",
       "child = r[0];\n",
       "break;\n",
       "            }\n",
       "        }\n",
       "        if (child == null){\n",
       "            text_memo += \"null\\n\";\n",
       "            continue;\n",
       "        }\n",
       "\n",
       "        if (anchors[i].hasAttribute(\"id\")) {\n",
       "            // when converted in RST\n",
       "            href = anchors[i].id;\n",
       "            text_memo += \"#1-\" + href;\n",
       "            // passer à child suivant (le chercher)\n",
       "        }\n",
       "        else if (child.hasAttribute(\"id\")) {\n",
       "            // in a notebook\n",
       "            href = child.id;\n",
       "            text_memo += \"#2-\" + href;\n",
       "        }\n",
       "        else {\n",
       "            text_memo += \"#3-\" + \"*\" + \"\\n\";\n",
       "            continue;\n",
       "        }\n",
       "        var title = child.textContent;\n",
       "        var level = parseInt(child.tagName.substring(1,2));\n",
       "\n",
       "        text_memo += \"--\" + level + \"?\" + lfirst + \"--\" + title + \"\\n\";\n",
       "\n",
       "        if ((level < lfirst) || (level > llast)) {\n",
       "            continue ;\n",
       "        }\n",
       "        if (title.endsWith('¶')) {\n",
       "            title = title.substring(0,title.length-1).replace(\"<\", \"&lt;\").replace(\">\", \"&gt;\").replace(\"&\", \"&amp;\")\n",
       "        }\n",
       "\n",
       "        if (title.length == 0) {\n",
       "            continue;\n",
       "        }\n",
       "        while (level > memo_level) {\n",
       "            text_menu += \"<ul>\\n\";\n",
       "            memo_level += 1;\n",
       "        }\n",
       "        while (level < memo_level) {\n",
       "            text_menu += \"</ul>\\n\";\n",
       "            memo_level -= 1;\n",
       "        }\n",
       "        text_menu += repeat_indent_string(level-2) + sformat.replace(\"__HREF__\", href).replace(\"__TITLE__\", title);\n",
       "    }\n",
       "    while (1 < memo_level) {\n",
       "        text_menu += \"</ul>\\n\";\n",
       "        memo_level -= 1;\n",
       "    }\n",
       "    text_menu += send;\n",
       "    //text_menu += \"\\n\" + text_memo;\n",
       "    return text_menu;\n",
       "};\n",
       "var update_menu = function() {\n",
       "    var sbegin = \"\";\n",
       "    var sformat = '<li><a href=\"#__HREF__\">__TITLE__</a></li>';\n",
       "    var send = \"\";\n",
       "    var text_menu = update_menu_string(sbegin, 2, 4, sformat, send);\n",
       "    var menu = document.getElementById(\"my_menu_id\");\n",
       "    menu.innerHTML=text_menu;\n",
       "};\n",
       "window.setTimeout(update_menu,2000);\n",
       "            </script>"
      ],
      "text/plain": [
       "<IPython.core.display.HTML object>"
      ]
     },
     "execution_count": 1,
     "metadata": {},
     "output_type": "execute_result"
    }
   ],
   "source": [
    "import pyensae\n",
    "%nb_menu"
   ]
  },
  {
   "cell_type": "markdown",
   "metadata": {},
   "source": [
    "## création d'un fichier à sampler"
   ]
  },
  {
   "cell_type": "code",
   "execution_count": 148,
   "metadata": {
    "collapsed": true
   },
   "outputs": [],
   "source": [
    "with open(\"sample4.txt\", \"w\", encoding=\"utf8\") as f:\n",
    "    for i in range(0,100000):\n",
    "        f.write(\"{0}\\t{1}{0}\\n\".format(i, chr(i%26 + 65)))\n",
    "    f.write(\"100001\\tAAAAAA\")"
   ]
  },
  {
   "cell_type": "code",
   "execution_count": 150,
   "metadata": {
    "collapsed": false
   },
   "outputs": [
    {
     "data": {
      "text/html": [
       "<pre>\n",
       "0\tA0\n",
       "1\tB1\n",
       "2\tC2\n",
       "3\tD3\n",
       "4\tE4\n",
       "5\tF5\n",
       "6\tG6\n",
       "7\tH7\n",
       "8\tI8\n",
       "9\tJ9\n",
       "\n",
       "</pre>"
      ],
      "text/plain": [
       "<IPython.core.display.HTML object>"
      ]
     },
     "execution_count": 150,
     "metadata": {},
     "output_type": "execute_result"
    }
   ],
   "source": [
    "%head sample4.txt"
   ]
  },
  {
   "cell_type": "markdown",
   "metadata": {},
   "source": [
    "## connexion"
   ]
  },
  {
   "cell_type": "code",
   "execution_count": 8,
   "metadata": {
    "collapsed": false
   },
   "outputs": [
    {
     "data": {
      "text/plain": [
       "dict"
      ]
     },
     "execution_count": 8,
     "metadata": {},
     "output_type": "execute_result"
    }
   ],
   "source": [
    "import os\n",
    "blobhp = {}\n",
    "if \"HDCREDENTIALS\" in os.environ:\n",
    "    blobhp[\"blob_storage\"], blobhp[\"password1\"], blobhp[\"hadoop_server\"], blobhp[\"password2\"], blobhp[\"username\"] = \\\n",
    "        os.environ[\"HDCREDENTIALS\"].split(\"**\")\n",
    "    r = type(blobhp)\n",
    "else:\n",
    "    from pyquickhelper.ipythonhelper import open_html_form\n",
    "    params={\"blob_storage\":\"\", \"password1\":\"\", \"hadoop_server\":\"\", \"password2\":\"\", \"username\":\"axavier\"}\n",
    "    r = open_html_form(params=params,title=\"server + hadoop + credentials\", key_save=\"blobhp\")\n",
    "r"
   ]
  },
  {
   "cell_type": "code",
   "execution_count": 9,
   "metadata": {
    "collapsed": false
   },
   "outputs": [],
   "source": [
    "import pyensae\n",
    "blobstorage = blobhp[\"blob_storage\"]\n",
    "blobpassword = blobhp[\"password1\"]\n",
    "hadoop_server = blobhp[\"hadoop_server\"]\n",
    "hadoop_password = blobhp[\"password2\"]\n",
    "username = blobhp[\"username\"]"
   ]
  },
  {
   "cell_type": "code",
   "execution_count": 10,
   "metadata": {
    "collapsed": false
   },
   "outputs": [
    {
     "data": {
      "text/plain": [
       "(<pyensae.remote.azure_connection.AzureClient at 0x959b9b0>,\n",
       " <azure.storage.blob.blobservice.BlobService at 0x959b9e8>)"
      ]
     },
     "execution_count": 10,
     "metadata": {},
     "output_type": "execute_result"
    }
   ],
   "source": [
    "client, bs = %hd_open\n",
    "client, bs"
   ]
  },
  {
   "cell_type": "markdown",
   "metadata": {},
   "source": [
    "## upload du fichier"
   ]
  },
  {
   "cell_type": "code",
   "execution_count": 11,
   "metadata": {
    "collapsed": false
   },
   "outputs": [
    {
     "data": {
      "text/plain": [
       "'$PSEUDO/sampling/sample4.txt'"
      ]
     },
     "execution_count": 11,
     "metadata": {},
     "output_type": "execute_result"
    }
   ],
   "source": [
    "%blob_up sample3.txt /$PSEUDO/sampling/sample4.txt"
   ]
  },
  {
   "cell_type": "code",
   "execution_count": 12,
   "metadata": {
    "collapsed": false
   },
   "outputs": [
    {
     "data": {
      "text/html": [
       "<div>\n",
       "<table border=\"1\" class=\"dataframe\">\n",
       "  <thead>\n",
       "    <tr style=\"text-align: right;\">\n",
       "      <th></th>\n",
       "      <th>name</th>\n",
       "      <th>last_modified</th>\n",
       "      <th>content_type</th>\n",
       "      <th>content_length</th>\n",
       "      <th>blob_type</th>\n",
       "    </tr>\n",
       "  </thead>\n",
       "  <tbody>\n",
       "    <tr>\n",
       "      <th>0</th>\n",
       "      <td>axavier/sampling/datafu-1.2.0.jar</td>\n",
       "      <td>Fri, 13 Nov 2015 00:03:49 GMT</td>\n",
       "      <td>application/octet-stream</td>\n",
       "      <td>1600826</td>\n",
       "      <td>BlockBlob</td>\n",
       "    </tr>\n",
       "    <tr>\n",
       "      <th>1</th>\n",
       "      <td>axavier/sampling/out_sampled_rs4_2015.txt</td>\n",
       "      <td>Fri, 13 Nov 2015 01:08:22 GMT</td>\n",
       "      <td></td>\n",
       "      <td>0</td>\n",
       "      <td>BlockBlob</td>\n",
       "    </tr>\n",
       "    <tr>\n",
       "      <th>2</th>\n",
       "      <td>axavier/sampling/out_sampled_rs4_2015.txt/_SUC...</td>\n",
       "      <td>Fri, 13 Nov 2015 01:08:22 GMT</td>\n",
       "      <td>application/octet-stream</td>\n",
       "      <td>0</td>\n",
       "      <td>BlockBlob</td>\n",
       "    </tr>\n",
       "    <tr>\n",
       "      <th>3</th>\n",
       "      <td>axavier/sampling/out_sampled_rs4_2015.txt/part...</td>\n",
       "      <td>Fri, 13 Nov 2015 01:08:21 GMT</td>\n",
       "      <td>application/octet-stream</td>\n",
       "      <td>12785</td>\n",
       "      <td>BlockBlob</td>\n",
       "    </tr>\n",
       "    <tr>\n",
       "      <th>4</th>\n",
       "      <td>axavier/sampling/sample.txt</td>\n",
       "      <td>Fri, 13 Nov 2015 00:02:50 GMT</td>\n",
       "      <td>application/octet-stream</td>\n",
       "      <td>1377780</td>\n",
       "      <td>BlockBlob</td>\n",
       "    </tr>\n",
       "    <tr>\n",
       "      <th>5</th>\n",
       "      <td>axavier/sampling/sample2.txt</td>\n",
       "      <td>Fri, 13 Nov 2015 00:35:55 GMT</td>\n",
       "      <td>application/octet-stream</td>\n",
       "      <td>1377793</td>\n",
       "      <td>BlockBlob</td>\n",
       "    </tr>\n",
       "    <tr>\n",
       "      <th>6</th>\n",
       "      <td>axavier/sampling/sample3.txt</td>\n",
       "      <td>Fri, 13 Nov 2015 00:39:40 GMT</td>\n",
       "      <td>application/octet-stream</td>\n",
       "      <td>1377793</td>\n",
       "      <td>BlockBlob</td>\n",
       "    </tr>\n",
       "    <tr>\n",
       "      <th>7</th>\n",
       "      <td>axavier/sampling/sample4.txt</td>\n",
       "      <td>Sun, 15 Nov 2015 12:24:22 GMT</td>\n",
       "      <td>application/octet-stream</td>\n",
       "      <td>1377793</td>\n",
       "      <td>BlockBlob</td>\n",
       "    </tr>\n",
       "    <tr>\n",
       "      <th>8</th>\n",
       "      <td>axavier/sampling/sample4_hash.txt</td>\n",
       "      <td>Fri, 13 Nov 2015 14:50:39 GMT</td>\n",
       "      <td></td>\n",
       "      <td>0</td>\n",
       "      <td>BlockBlob</td>\n",
       "    </tr>\n",
       "    <tr>\n",
       "      <th>9</th>\n",
       "      <td>axavier/sampling/sample4_hash.txt/_SUCCESS</td>\n",
       "      <td>Fri, 13 Nov 2015 14:50:39 GMT</td>\n",
       "      <td>application/octet-stream</td>\n",
       "      <td>0</td>\n",
       "      <td>BlockBlob</td>\n",
       "    </tr>\n",
       "    <tr>\n",
       "      <th>10</th>\n",
       "      <td>axavier/sampling/sample4_hash.txt/part-r-00000</td>\n",
       "      <td>Fri, 13 Nov 2015 14:50:38 GMT</td>\n",
       "      <td>application/octet-stream</td>\n",
       "      <td>4771358</td>\n",
       "      <td>BlockBlob</td>\n",
       "    </tr>\n",
       "    <tr>\n",
       "      <th>11</th>\n",
       "      <td>axavier/sampling/sampled4_2015.txt</td>\n",
       "      <td>Fri, 13 Nov 2015 00:50:20 GMT</td>\n",
       "      <td></td>\n",
       "      <td>0</td>\n",
       "      <td>BlockBlob</td>\n",
       "    </tr>\n",
       "    <tr>\n",
       "      <th>12</th>\n",
       "      <td>axavier/sampling/sampled4_2015.txt/_SUCCESS</td>\n",
       "      <td>Fri, 13 Nov 2015 00:50:20 GMT</td>\n",
       "      <td>application/octet-stream</td>\n",
       "      <td>0</td>\n",
       "      <td>BlockBlob</td>\n",
       "    </tr>\n",
       "    <tr>\n",
       "      <th>13</th>\n",
       "      <td>axavier/sampling/sampled4_2015.txt/part-m-00000</td>\n",
       "      <td>Fri, 13 Nov 2015 00:50:19 GMT</td>\n",
       "      <td>application/octet-stream</td>\n",
       "      <td>1277794</td>\n",
       "      <td>BlockBlob</td>\n",
       "    </tr>\n",
       "    <tr>\n",
       "      <th>14</th>\n",
       "      <td>axavier/sampling/sampled_rs4_2015.txt</td>\n",
       "      <td>Fri, 13 Nov 2015 01:04:51 GMT</td>\n",
       "      <td></td>\n",
       "      <td>0</td>\n",
       "      <td>BlockBlob</td>\n",
       "    </tr>\n",
       "    <tr>\n",
       "      <th>15</th>\n",
       "      <td>axavier/sampling/sampled_rs4_2015.txt/_SUCCESS</td>\n",
       "      <td>Fri, 13 Nov 2015 01:04:51 GMT</td>\n",
       "      <td>application/octet-stream</td>\n",
       "      <td>0</td>\n",
       "      <td>BlockBlob</td>\n",
       "    </tr>\n",
       "    <tr>\n",
       "      <th>16</th>\n",
       "      <td>axavier/sampling/sampled_rs4_2015.txt/part-m-0...</td>\n",
       "      <td>Fri, 13 Nov 2015 01:04:50 GMT</td>\n",
       "      <td>application/octet-stream</td>\n",
       "      <td>1277794</td>\n",
       "      <td>BlockBlob</td>\n",
       "    </tr>\n",
       "    <tr>\n",
       "      <th>17</th>\n",
       "      <td>axavier/sampling/sampled_srs4_2015.txt</td>\n",
       "      <td>Fri, 13 Nov 2015 00:56:09 GMT</td>\n",
       "      <td></td>\n",
       "      <td>0</td>\n",
       "      <td>BlockBlob</td>\n",
       "    </tr>\n",
       "    <tr>\n",
       "      <th>18</th>\n",
       "      <td>axavier/sampling/sampled_srs4_2015.txt/_SUCCESS</td>\n",
       "      <td>Fri, 13 Nov 2015 00:56:09 GMT</td>\n",
       "      <td>application/octet-stream</td>\n",
       "      <td>0</td>\n",
       "      <td>BlockBlob</td>\n",
       "    </tr>\n",
       "    <tr>\n",
       "      <th>19</th>\n",
       "      <td>axavier/sampling/sampled_srs4_2015.txt/part-m-...</td>\n",
       "      <td>Fri, 13 Nov 2015 00:56:09 GMT</td>\n",
       "      <td>application/octet-stream</td>\n",
       "      <td>1277794</td>\n",
       "      <td>BlockBlob</td>\n",
       "    </tr>\n",
       "    <tr>\n",
       "      <th>20</th>\n",
       "      <td>axavier/sampling/sampled_srs_2015.txt</td>\n",
       "      <td>Fri, 13 Nov 2015 00:52:34 GMT</td>\n",
       "      <td></td>\n",
       "      <td>0</td>\n",
       "      <td>BlockBlob</td>\n",
       "    </tr>\n",
       "    <tr>\n",
       "      <th>21</th>\n",
       "      <td>axavier/sampling/sampled_srs_2015.txt/_SUCCESS</td>\n",
       "      <td>Fri, 13 Nov 2015 00:52:34 GMT</td>\n",
       "      <td>application/octet-stream</td>\n",
       "      <td>0</td>\n",
       "      <td>BlockBlob</td>\n",
       "    </tr>\n",
       "    <tr>\n",
       "      <th>22</th>\n",
       "      <td>axavier/sampling/sampled_srs_2015.txt/part-m-0...</td>\n",
       "      <td>Fri, 13 Nov 2015 00:52:34 GMT</td>\n",
       "      <td>application/octet-stream</td>\n",
       "      <td>1277794</td>\n",
       "      <td>BlockBlob</td>\n",
       "    </tr>\n",
       "  </tbody>\n",
       "</table>\n",
       "</div>"
      ],
      "text/plain": [
       "                                                 name  \\\n",
       "0                   axavier/sampling/datafu-1.2.0.jar   \n",
       "1           axavier/sampling/out_sampled_rs4_2015.txt   \n",
       "2   axavier/sampling/out_sampled_rs4_2015.txt/_SUC...   \n",
       "3   axavier/sampling/out_sampled_rs4_2015.txt/part...   \n",
       "4                         axavier/sampling/sample.txt   \n",
       "5                        axavier/sampling/sample2.txt   \n",
       "6                        axavier/sampling/sample3.txt   \n",
       "7                        axavier/sampling/sample4.txt   \n",
       "8                   axavier/sampling/sample4_hash.txt   \n",
       "9          axavier/sampling/sample4_hash.txt/_SUCCESS   \n",
       "10     axavier/sampling/sample4_hash.txt/part-r-00000   \n",
       "11                 axavier/sampling/sampled4_2015.txt   \n",
       "12        axavier/sampling/sampled4_2015.txt/_SUCCESS   \n",
       "13    axavier/sampling/sampled4_2015.txt/part-m-00000   \n",
       "14              axavier/sampling/sampled_rs4_2015.txt   \n",
       "15     axavier/sampling/sampled_rs4_2015.txt/_SUCCESS   \n",
       "16  axavier/sampling/sampled_rs4_2015.txt/part-m-0...   \n",
       "17             axavier/sampling/sampled_srs4_2015.txt   \n",
       "18    axavier/sampling/sampled_srs4_2015.txt/_SUCCESS   \n",
       "19  axavier/sampling/sampled_srs4_2015.txt/part-m-...   \n",
       "20              axavier/sampling/sampled_srs_2015.txt   \n",
       "21     axavier/sampling/sampled_srs_2015.txt/_SUCCESS   \n",
       "22  axavier/sampling/sampled_srs_2015.txt/part-m-0...   \n",
       "\n",
       "                    last_modified              content_type  content_length  \\\n",
       "0   Fri, 13 Nov 2015 00:03:49 GMT  application/octet-stream         1600826   \n",
       "1   Fri, 13 Nov 2015 01:08:22 GMT                                         0   \n",
       "2   Fri, 13 Nov 2015 01:08:22 GMT  application/octet-stream               0   \n",
       "3   Fri, 13 Nov 2015 01:08:21 GMT  application/octet-stream           12785   \n",
       "4   Fri, 13 Nov 2015 00:02:50 GMT  application/octet-stream         1377780   \n",
       "5   Fri, 13 Nov 2015 00:35:55 GMT  application/octet-stream         1377793   \n",
       "6   Fri, 13 Nov 2015 00:39:40 GMT  application/octet-stream         1377793   \n",
       "7   Sun, 15 Nov 2015 12:24:22 GMT  application/octet-stream         1377793   \n",
       "8   Fri, 13 Nov 2015 14:50:39 GMT                                         0   \n",
       "9   Fri, 13 Nov 2015 14:50:39 GMT  application/octet-stream               0   \n",
       "10  Fri, 13 Nov 2015 14:50:38 GMT  application/octet-stream         4771358   \n",
       "11  Fri, 13 Nov 2015 00:50:20 GMT                                         0   \n",
       "12  Fri, 13 Nov 2015 00:50:20 GMT  application/octet-stream               0   \n",
       "13  Fri, 13 Nov 2015 00:50:19 GMT  application/octet-stream         1277794   \n",
       "14  Fri, 13 Nov 2015 01:04:51 GMT                                         0   \n",
       "15  Fri, 13 Nov 2015 01:04:51 GMT  application/octet-stream               0   \n",
       "16  Fri, 13 Nov 2015 01:04:50 GMT  application/octet-stream         1277794   \n",
       "17  Fri, 13 Nov 2015 00:56:09 GMT                                         0   \n",
       "18  Fri, 13 Nov 2015 00:56:09 GMT  application/octet-stream               0   \n",
       "19  Fri, 13 Nov 2015 00:56:09 GMT  application/octet-stream         1277794   \n",
       "20  Fri, 13 Nov 2015 00:52:34 GMT                                         0   \n",
       "21  Fri, 13 Nov 2015 00:52:34 GMT  application/octet-stream               0   \n",
       "22  Fri, 13 Nov 2015 00:52:34 GMT  application/octet-stream         1277794   \n",
       "\n",
       "    blob_type  \n",
       "0   BlockBlob  \n",
       "1   BlockBlob  \n",
       "2   BlockBlob  \n",
       "3   BlockBlob  \n",
       "4   BlockBlob  \n",
       "5   BlockBlob  \n",
       "6   BlockBlob  \n",
       "7   BlockBlob  \n",
       "8   BlockBlob  \n",
       "9   BlockBlob  \n",
       "10  BlockBlob  \n",
       "11  BlockBlob  \n",
       "12  BlockBlob  \n",
       "13  BlockBlob  \n",
       "14  BlockBlob  \n",
       "15  BlockBlob  \n",
       "16  BlockBlob  \n",
       "17  BlockBlob  \n",
       "18  BlockBlob  \n",
       "19  BlockBlob  \n",
       "20  BlockBlob  \n",
       "21  BlockBlob  \n",
       "22  BlockBlob  "
      ]
     },
     "execution_count": 12,
     "metadata": {},
     "output_type": "execute_result"
    }
   ],
   "source": [
    "%blob_ls /$PSEUDO/sampling"
   ]
  },
  {
   "cell_type": "markdown",
   "metadata": {},
   "source": [
    "## Code python pour le reservoir sampling"
   ]
  },
  {
   "cell_type": "code",
   "execution_count": 18,
   "metadata": {
    "collapsed": false
   },
   "outputs": [
    {
     "data": {
      "text/plain": [
       "['0a', '1b', '2c', '3d', '4e']"
      ]
     },
     "execution_count": 18,
     "metadata": {},
     "output_type": "execute_result"
    }
   ],
   "source": [
    "ensemble = [ \"%d%s\" % (i, chr(i%26 + 97)) for i in range(0,10000)]\n",
    "ensemble[:5]"
   ]
  },
  {
   "cell_type": "code",
   "execution_count": 19,
   "metadata": {
    "collapsed": false
   },
   "outputs": [
    {
     "data": {
      "text/plain": [
       "['8681x',\n",
       " '8356k',\n",
       " '5490e',\n",
       " '4405l',\n",
       " '5890o',\n",
       " '2689l',\n",
       " '8672o',\n",
       " '3603p',\n",
       " '8599t',\n",
       " '6086c']"
      ]
     },
     "execution_count": 19,
     "metadata": {},
     "output_type": "execute_result"
    }
   ],
   "source": [
    "import random\n",
    "def reservoir_sampling(ensemble, k):\n",
    "    N = len(ensemble)\n",
    "    echantillon = []\n",
    "    for i, e in enumerate(ensemble):\n",
    "        if len(echantillon) < k:\n",
    "            echantillon.append(e)\n",
    "        else:\n",
    "            j = random.randint(0, i)\n",
    "            if j < k:\n",
    "                echantillon[j] = e\n",
    "    return echantillon\n",
    "\n",
    "reservoir_sampling(ensemble, 10)"
   ]
  },
  {
   "cell_type": "markdown",
   "metadata": {},
   "source": [
    "## python à jython\n",
    "\n",
    "On s'assure que le code précédent fonctionne en jython (python compilé en java). On s'inspire pour cela de la documentation [jython-udfs](https://pig.apache.org/docs/r0.12.0/udf.html#jython-udfs)."
   ]
  },
  {
   "cell_type": "markdown",
   "metadata": {},
   "source": [
    "### On créé d'abord un script PIG pour récupérer le schema et les premières lignes"
   ]
  },
  {
   "cell_type": "code",
   "execution_count": 34,
   "metadata": {
    "collapsed": true
   },
   "outputs": [],
   "source": [
    "%%PIG sample_explore.pig\n",
    "\n",
    "ensemble = LOAD '$CONTAINER/$PSEUDO/sampling/sample4.txt' \n",
    "        USING PigStorage('\\t') AS (x:int, v:chararray) ;\n",
    "DESCRIBE ensemble;\n",
    "ens_group = GROUP ensemble ALL;\n",
    "DESCRIBE ens_group;\n",
    "sampled = FOREACH ens_group GENERATE FLATTEN(ensemble);\n",
    "DESCRIBE sampled;\n",
    "\n",
    "--ens10 = LIMIT ensemble 10;\n",
    "--ens_group10 = LIMIT en_group10 ;\n",
    "--DUMP ens10;\n",
    "--DUMP ens_group10;"
   ]
  },
  {
   "cell_type": "markdown",
   "metadata": {},
   "source": [
    "Si la fonction suivante provoque une erreur ::\n",
    "\n",
    "    AzureException: STATUS: 403, JSON: Expecting value: line 1 column 1 (char 0)\n",
    "    <Response [403]>\n",
    "    unable to submit job: sample_explore.pig\n",
    "    \n",
    "Vérifier les identifiants utilisés pour se connecter."
   ]
  },
  {
   "cell_type": "code",
   "execution_count": 35,
   "metadata": {
    "collapsed": false
   },
   "outputs": [
    {
     "data": {
      "text/plain": [
       "{'id': 'job_1446540516812_0185'}"
      ]
     },
     "execution_count": 35,
     "metadata": {},
     "output_type": "execute_result"
    }
   ],
   "source": [
    "jid = %hd_pig_submit sample_explore.pig\n",
    "jid"
   ]
  },
  {
   "cell_type": "code",
   "execution_count": 38,
   "metadata": {
    "collapsed": false
   },
   "outputs": [
    {
     "data": {
      "text/plain": [
       "('job_1446540516812_0185', None, None, False, 'RUNNING')"
      ]
     },
     "execution_count": 38,
     "metadata": {},
     "output_type": "execute_result"
    }
   ],
   "source": [
    "st = %hd_job_status jid[\"id\"]\n",
    "(st[\"id\"],st[\"percentComplete\"],st[\"completed\"],\n",
    "st[\"status\"][\"jobComplete\"],st[\"status\"][\"state\"])"
   ]
  },
  {
   "cell_type": "markdown",
   "metadata": {},
   "source": [
    "La sortie standard contient les informations souhaitées :"
   ]
  },
  {
   "cell_type": "code",
   "execution_count": 41,
   "metadata": {
    "collapsed": false,
    "scrolled": false
   },
   "outputs": [
    {
     "data": {
      "text/html": [
       "<pre>\n",
       "2015-11-15 12:33:06,608 [main] INFO  org.apache.hadoop.conf.Configuration.deprecation - fs.default.name is deprecated. Instead, use fs.defaultFS\n",
       "2015-11-15 12:33:06,608 [main] INFO  org.apache.pig.backend.hadoop.executionengine.HExecutionEngine - Connecting to hadoop file system at: wasb://clusterensaeazure1-1@hdblobstorage.blob.core.windows.net\n",
       "2015-11-15 12:33:08,233 [main] INFO  org.apache.hadoop.conf.Configuration.deprecation - fs.default.name is deprecated. Instead, use fs.defaultFS\n",
       "2015-11-15 12:33:09,374 [main] INFO  org.apache.pig.Main - Pig script completed in 4 seconds and 578 milliseconds (4578 ms)\n",
       "\n",
       "</pre><br /><b>OUT:</b><br /><pre>\n",
       "ensemble: {x: int,v: chararray}\n",
       "ens_group: {group: chararray,ensemble: {(x: int,v: chararray)}}\n",
       "sampled: {ensemble::x: int,ensemble::v: chararray}\n",
       "\n",
       "</pre>"
      ],
      "text/plain": [
       "<IPython.core.display.HTML object>"
      ]
     },
     "execution_count": 41,
     "metadata": {},
     "output_type": "execute_result"
    }
   ],
   "source": [
    "%hd_tail_stderr jid[\"id\"] -n 5"
   ]
  },
  {
   "cell_type": "markdown",
   "metadata": {},
   "source": [
    "Et la sortie du second dump :: \n",
    "    \n",
    "    (all,{(100001,AAAAAA),(99999,D99999),(99998,C99998)..."
   ]
  },
  {
   "cell_type": "markdown",
   "metadata": {},
   "source": [
    "### Le code Jython"
   ]
  },
  {
   "cell_type": "code",
   "execution_count": 1,
   "metadata": {
    "collapsed": true
   },
   "outputs": [],
   "source": [
    "import pyensae"
   ]
  },
  {
   "cell_type": "code",
   "execution_count": 2,
   "metadata": {
    "collapsed": false
   },
   "outputs": [],
   "source": [
    "%%PYTHON reservoir_sample.py\n",
    "\n",
    "import random\n",
    "\n",
    "@schemaFunction(\"rsSchema\")\n",
    "def rsSchema(input):\n",
    "    return input\n",
    "\n",
    "@outputSchemaFunction(\"rsSchema\")\n",
    "def reservoir_sampling(ensemble):\n",
    "    ensemble = eval(ensemble)\n",
    "    k = 10\n",
    "    N = len(ensemble)\n",
    "    echantillon = []\n",
    "    for i, e in enumerate(ensemble):\n",
    "        if len(echantillon) < k:\n",
    "            echantillon.append(e)\n",
    "        else:\n",
    "            j = random.randint(0, i)\n",
    "            if j < k:\n",
    "                echantillon[j] = e\n",
    "    return echantillon"
   ]
  },
  {
   "cell_type": "code",
   "execution_count": 4,
   "metadata": {
    "collapsed": false
   },
   "outputs": [
    {
     "data": {
      "text/html": [
       "<pre>\n",
       "[(99998, 'C99998'), (99999, 'D99999'), (100001, 'AAAAAA')]\n",
       "\n",
       "</pre>"
      ],
      "text/plain": [
       "<IPython.core.display.HTML object>"
      ]
     },
     "execution_count": 4,
     "metadata": {},
     "output_type": "execute_result"
    }
   ],
   "source": [
    "%%jython reservoir_sample.py reservoir_sampling\n",
    "{(100001,\"AAAAAA\"),(99999,\"D99999\"),(99998,\"C99998\")}"
   ]
  },
  {
   "cell_type": "markdown",
   "metadata": {},
   "source": [
    "On uploade le script :"
   ]
  },
  {
   "cell_type": "code",
   "execution_count": 16,
   "metadata": {
    "collapsed": false
   },
   "outputs": [
    {
     "data": {
      "text/plain": [
       "'axavier/scripts/pig/reservoir_sample.py'"
      ]
     },
     "execution_count": 16,
     "metadata": {},
     "output_type": "execute_result"
    }
   ],
   "source": [
    "%blob_up reservoir_sample.py hdblobstorage/axavier/scripts/pig/reservoir_sample.py"
   ]
  },
  {
   "cell_type": "code",
   "execution_count": 20,
   "metadata": {
    "collapsed": false
   },
   "outputs": [
    {
     "data": {
      "text/html": [
       "<div>\n",
       "<table border=\"1\" class=\"dataframe\">\n",
       "  <thead>\n",
       "    <tr style=\"text-align: right;\">\n",
       "      <th></th>\n",
       "      <th>name</th>\n",
       "      <th>last_modified</th>\n",
       "      <th>content_type</th>\n",
       "      <th>content_length</th>\n",
       "      <th>blob_type</th>\n",
       "    </tr>\n",
       "  </thead>\n",
       "  <tbody>\n",
       "    <tr>\n",
       "      <th>0</th>\n",
       "      <td>axavier/scripts/pig/reservoir_sample.py</td>\n",
       "      <td>Sun, 15 Nov 2015 13:11:01 GMT</td>\n",
       "      <td>application/octet-stream</td>\n",
       "      <td>513</td>\n",
       "      <td>BlockBlob</td>\n",
       "    </tr>\n",
       "    <tr>\n",
       "      <th>1</th>\n",
       "      <td>axavier/scripts/pig/sample.pig</td>\n",
       "      <td>Fri, 13 Nov 2015 01:07:11 GMT</td>\n",
       "      <td>application/octet-stream</td>\n",
       "      <td>392</td>\n",
       "      <td>BlockBlob</td>\n",
       "    </tr>\n",
       "    <tr>\n",
       "      <th>2</th>\n",
       "      <td>axavier/scripts/pig/sample.pig.log</td>\n",
       "      <td>Fri, 13 Nov 2015 01:08:35 GMT</td>\n",
       "      <td></td>\n",
       "      <td>0</td>\n",
       "      <td>BlockBlob</td>\n",
       "    </tr>\n",
       "    <tr>\n",
       "      <th>3</th>\n",
       "      <td>axavier/scripts/pig/sample.pig.log/exit</td>\n",
       "      <td>Fri, 13 Nov 2015 01:08:35 GMT</td>\n",
       "      <td>application/octet-stream</td>\n",
       "      <td>3</td>\n",
       "      <td>BlockBlob</td>\n",
       "    </tr>\n",
       "    <tr>\n",
       "      <th>4</th>\n",
       "      <td>axavier/scripts/pig/sample.pig.log/stderr</td>\n",
       "      <td>Fri, 13 Nov 2015 01:08:31 GMT</td>\n",
       "      <td>application/octet-stream</td>\n",
       "      <td>16755</td>\n",
       "      <td>BlockBlob</td>\n",
       "    </tr>\n",
       "    <tr>\n",
       "      <th>5</th>\n",
       "      <td>axavier/scripts/pig/sample.pig.log/stdout</td>\n",
       "      <td>Fri, 13 Nov 2015 01:08:31 GMT</td>\n",
       "      <td>application/octet-stream</td>\n",
       "      <td>0</td>\n",
       "      <td>BlockBlob</td>\n",
       "    </tr>\n",
       "    <tr>\n",
       "      <th>6</th>\n",
       "      <td>axavier/scripts/pig/sample_explore.pig</td>\n",
       "      <td>Sun, 15 Nov 2015 12:32:38 GMT</td>\n",
       "      <td>application/octet-stream</td>\n",
       "      <td>372</td>\n",
       "      <td>BlockBlob</td>\n",
       "    </tr>\n",
       "    <tr>\n",
       "      <th>7</th>\n",
       "      <td>axavier/scripts/pig/sample_explore.pig.log</td>\n",
       "      <td>Sun, 15 Nov 2015 12:33:17 GMT</td>\n",
       "      <td></td>\n",
       "      <td>0</td>\n",
       "      <td>BlockBlob</td>\n",
       "    </tr>\n",
       "    <tr>\n",
       "      <th>8</th>\n",
       "      <td>axavier/scripts/pig/sample_explore.pig.log/exit</td>\n",
       "      <td>Sun, 15 Nov 2015 12:33:17 GMT</td>\n",
       "      <td>application/octet-stream</td>\n",
       "      <td>3</td>\n",
       "      <td>BlockBlob</td>\n",
       "    </tr>\n",
       "    <tr>\n",
       "      <th>9</th>\n",
       "      <td>axavier/scripts/pig/sample_explore.pig.log/stderr</td>\n",
       "      <td>Sun, 15 Nov 2015 12:33:07 GMT</td>\n",
       "      <td>application/octet-stream</td>\n",
       "      <td>1426</td>\n",
       "      <td>BlockBlob</td>\n",
       "    </tr>\n",
       "    <tr>\n",
       "      <th>10</th>\n",
       "      <td>axavier/scripts/pig/sample_explore.pig.log/stdout</td>\n",
       "      <td>Sun, 15 Nov 2015 12:33:07 GMT</td>\n",
       "      <td>application/octet-stream</td>\n",
       "      <td>150</td>\n",
       "      <td>BlockBlob</td>\n",
       "    </tr>\n",
       "    <tr>\n",
       "      <th>11</th>\n",
       "      <td>axavier/scripts/pig/sample_explore_complete.pig</td>\n",
       "      <td>Sun, 15 Nov 2015 13:11:09 GMT</td>\n",
       "      <td>application/octet-stream</td>\n",
       "      <td>454</td>\n",
       "      <td>BlockBlob</td>\n",
       "    </tr>\n",
       "    <tr>\n",
       "      <th>12</th>\n",
       "      <td>axavier/scripts/pig/sample_explore_complete.pi...</td>\n",
       "      <td>Sun, 15 Nov 2015 13:08:47 GMT</td>\n",
       "      <td></td>\n",
       "      <td>0</td>\n",
       "      <td>BlockBlob</td>\n",
       "    </tr>\n",
       "    <tr>\n",
       "      <th>13</th>\n",
       "      <td>axavier/scripts/pig/sample_explore_complete.pi...</td>\n",
       "      <td>Sun, 15 Nov 2015 13:08:47 GMT</td>\n",
       "      <td>application/octet-stream</td>\n",
       "      <td>3</td>\n",
       "      <td>BlockBlob</td>\n",
       "    </tr>\n",
       "    <tr>\n",
       "      <th>14</th>\n",
       "      <td>axavier/scripts/pig/sample_explore_complete.pi...</td>\n",
       "      <td>Sun, 15 Nov 2015 13:08:37 GMT</td>\n",
       "      <td>application/octet-stream</td>\n",
       "      <td>2793</td>\n",
       "      <td>BlockBlob</td>\n",
       "    </tr>\n",
       "    <tr>\n",
       "      <th>15</th>\n",
       "      <td>axavier/scripts/pig/sample_explore_complete.pi...</td>\n",
       "      <td>Sun, 15 Nov 2015 13:08:37 GMT</td>\n",
       "      <td>application/octet-stream</td>\n",
       "      <td>0</td>\n",
       "      <td>BlockBlob</td>\n",
       "    </tr>\n",
       "    <tr>\n",
       "      <th>16</th>\n",
       "      <td>axavier/scripts/pig/script_rs.pig</td>\n",
       "      <td>Fri, 13 Nov 2015 14:59:31 GMT</td>\n",
       "      <td>application/octet-stream</td>\n",
       "      <td>957</td>\n",
       "      <td>BlockBlob</td>\n",
       "    </tr>\n",
       "    <tr>\n",
       "      <th>17</th>\n",
       "      <td>axavier/scripts/pig/script_rs.pig.log</td>\n",
       "      <td>Fri, 13 Nov 2015 15:00:10 GMT</td>\n",
       "      <td></td>\n",
       "      <td>0</td>\n",
       "      <td>BlockBlob</td>\n",
       "    </tr>\n",
       "    <tr>\n",
       "      <th>18</th>\n",
       "      <td>axavier/scripts/pig/script_rs.pig.log/exit</td>\n",
       "      <td>Fri, 13 Nov 2015 15:00:10 GMT</td>\n",
       "      <td>application/octet-stream</td>\n",
       "      <td>3</td>\n",
       "      <td>BlockBlob</td>\n",
       "    </tr>\n",
       "    <tr>\n",
       "      <th>19</th>\n",
       "      <td>axavier/scripts/pig/script_rs.pig.log/stderr</td>\n",
       "      <td>Fri, 13 Nov 2015 15:00:00 GMT</td>\n",
       "      <td>application/octet-stream</td>\n",
       "      <td>8760</td>\n",
       "      <td>BlockBlob</td>\n",
       "    </tr>\n",
       "    <tr>\n",
       "      <th>20</th>\n",
       "      <td>axavier/scripts/pig/script_rs.pig.log/stdout</td>\n",
       "      <td>Fri, 13 Nov 2015 15:00:00 GMT</td>\n",
       "      <td>application/octet-stream</td>\n",
       "      <td>325</td>\n",
       "      <td>BlockBlob</td>\n",
       "    </tr>\n",
       "  </tbody>\n",
       "</table>\n",
       "</div>"
      ],
      "text/plain": [
       "                                                 name  \\\n",
       "0             axavier/scripts/pig/reservoir_sample.py   \n",
       "1                      axavier/scripts/pig/sample.pig   \n",
       "2                  axavier/scripts/pig/sample.pig.log   \n",
       "3             axavier/scripts/pig/sample.pig.log/exit   \n",
       "4           axavier/scripts/pig/sample.pig.log/stderr   \n",
       "5           axavier/scripts/pig/sample.pig.log/stdout   \n",
       "6              axavier/scripts/pig/sample_explore.pig   \n",
       "7          axavier/scripts/pig/sample_explore.pig.log   \n",
       "8     axavier/scripts/pig/sample_explore.pig.log/exit   \n",
       "9   axavier/scripts/pig/sample_explore.pig.log/stderr   \n",
       "10  axavier/scripts/pig/sample_explore.pig.log/stdout   \n",
       "11    axavier/scripts/pig/sample_explore_complete.pig   \n",
       "12  axavier/scripts/pig/sample_explore_complete.pi...   \n",
       "13  axavier/scripts/pig/sample_explore_complete.pi...   \n",
       "14  axavier/scripts/pig/sample_explore_complete.pi...   \n",
       "15  axavier/scripts/pig/sample_explore_complete.pi...   \n",
       "16                  axavier/scripts/pig/script_rs.pig   \n",
       "17              axavier/scripts/pig/script_rs.pig.log   \n",
       "18         axavier/scripts/pig/script_rs.pig.log/exit   \n",
       "19       axavier/scripts/pig/script_rs.pig.log/stderr   \n",
       "20       axavier/scripts/pig/script_rs.pig.log/stdout   \n",
       "\n",
       "                    last_modified              content_type  content_length  \\\n",
       "0   Sun, 15 Nov 2015 13:11:01 GMT  application/octet-stream             513   \n",
       "1   Fri, 13 Nov 2015 01:07:11 GMT  application/octet-stream             392   \n",
       "2   Fri, 13 Nov 2015 01:08:35 GMT                                         0   \n",
       "3   Fri, 13 Nov 2015 01:08:35 GMT  application/octet-stream               3   \n",
       "4   Fri, 13 Nov 2015 01:08:31 GMT  application/octet-stream           16755   \n",
       "5   Fri, 13 Nov 2015 01:08:31 GMT  application/octet-stream               0   \n",
       "6   Sun, 15 Nov 2015 12:32:38 GMT  application/octet-stream             372   \n",
       "7   Sun, 15 Nov 2015 12:33:17 GMT                                         0   \n",
       "8   Sun, 15 Nov 2015 12:33:17 GMT  application/octet-stream               3   \n",
       "9   Sun, 15 Nov 2015 12:33:07 GMT  application/octet-stream            1426   \n",
       "10  Sun, 15 Nov 2015 12:33:07 GMT  application/octet-stream             150   \n",
       "11  Sun, 15 Nov 2015 13:11:09 GMT  application/octet-stream             454   \n",
       "12  Sun, 15 Nov 2015 13:08:47 GMT                                         0   \n",
       "13  Sun, 15 Nov 2015 13:08:47 GMT  application/octet-stream               3   \n",
       "14  Sun, 15 Nov 2015 13:08:37 GMT  application/octet-stream            2793   \n",
       "15  Sun, 15 Nov 2015 13:08:37 GMT  application/octet-stream               0   \n",
       "16  Fri, 13 Nov 2015 14:59:31 GMT  application/octet-stream             957   \n",
       "17  Fri, 13 Nov 2015 15:00:10 GMT                                         0   \n",
       "18  Fri, 13 Nov 2015 15:00:10 GMT  application/octet-stream               3   \n",
       "19  Fri, 13 Nov 2015 15:00:00 GMT  application/octet-stream            8760   \n",
       "20  Fri, 13 Nov 2015 15:00:00 GMT  application/octet-stream             325   \n",
       "\n",
       "    blob_type  \n",
       "0   BlockBlob  \n",
       "1   BlockBlob  \n",
       "2   BlockBlob  \n",
       "3   BlockBlob  \n",
       "4   BlockBlob  \n",
       "5   BlockBlob  \n",
       "6   BlockBlob  \n",
       "7   BlockBlob  \n",
       "8   BlockBlob  \n",
       "9   BlockBlob  \n",
       "10  BlockBlob  \n",
       "11  BlockBlob  \n",
       "12  BlockBlob  \n",
       "13  BlockBlob  \n",
       "14  BlockBlob  \n",
       "15  BlockBlob  \n",
       "16  BlockBlob  \n",
       "17  BlockBlob  \n",
       "18  BlockBlob  \n",
       "19  BlockBlob  \n",
       "20  BlockBlob  "
      ]
     },
     "execution_count": 20,
     "metadata": {},
     "output_type": "execute_result"
    }
   ],
   "source": [
    "%blob_ls hdblobstorage/axavier/scripts/pig"
   ]
  },
  {
   "cell_type": "markdown",
   "metadata": {},
   "source": [
    "On ajoute le code jython au script précédent :"
   ]
  },
  {
   "cell_type": "code",
   "execution_count": 11,
   "metadata": {
    "collapsed": true
   },
   "outputs": [],
   "source": [
    "%%PIG sample_explore_complete.pig\n",
    "\n",
    "REGISTER '$CONTAINER/$SCRIPTPIG/reservoir_sample.py' using reservoir_sample as myrs;\n",
    "\n",
    "ensemble = LOAD '$CONTAINER/$PSEUDO/sampling/sample4.txt' \n",
    "        USING PigStorage('\\t') AS (x:int, v:chararray) ;\n",
    "DESCRIBE ensemble;\n",
    "ens_group = GROUP ensemble ALL;\n",
    "DESCRIBE ens_group;\n",
    "sampled = FOREACH ens_group GENERATE FLATTEN(myrs(ensemble));\n",
    "DESCRIBE sampled;\n",
    "\n",
    "STORE sampled INTO \n",
    "INTO '$CONTAINER/$PSEUDO/sampling/sample_rs.txt' USING PigStorage();"
   ]
  },
  {
   "cell_type": "code",
   "execution_count": 17,
   "metadata": {
    "collapsed": false
   },
   "outputs": [
    {
     "data": {
      "text/plain": [
       "{'id': 'job_1446540516812_0187'}"
      ]
     },
     "execution_count": 17,
     "metadata": {},
     "output_type": "execute_result"
    }
   ],
   "source": [
    "jid = %hd_pig_submit sample_explore_complete.pig\n",
    "jid"
   ]
  },
  {
   "cell_type": "code",
   "execution_count": 23,
   "metadata": {
    "collapsed": false
   },
   "outputs": [
    {
     "data": {
      "text/plain": [
       "('job_1446540516812_0187', None, 'done', True, 'SUCCEEDED')"
      ]
     },
     "execution_count": 23,
     "metadata": {},
     "output_type": "execute_result"
    }
   ],
   "source": [
    "st = %hd_job_status jid[\"id\"]\n",
    "(st[\"id\"],st[\"percentComplete\"],st[\"completed\"],\n",
    "st[\"status\"][\"jobComplete\"],st[\"status\"][\"state\"])"
   ]
  },
  {
   "cell_type": "code",
   "execution_count": 24,
   "metadata": {
    "collapsed": false
   },
   "outputs": [
    {
     "data": {
      "text/html": [
       "<pre>\n",
       "15/11/15 13:11:36 INFO pig.ExecTypeProvider: Trying ExecType : LOCAL\n",
       "15/11/15 13:11:36 INFO pig.ExecTypeProvider: Trying ExecType : MAPREDUCE\n",
       "15/11/15 13:11:36 INFO pig.ExecTypeProvider: Picked MAPREDUCE as the ExecType\n",
       "2015-11-15 13:11:36,832 [main] INFO  org.apache.pig.Main - Apache Pig version 0.14.0.2.2.7.1-33 (r: unknown) compiled Oct 13 2015, 04:18:06\n",
       "2015-11-15 13:11:36,832 [main] INFO  org.apache.pig.Main - Logging error messages to: C:\\apps\\dist\\hadoop-2.6.0.2.2.7.1-33\\logs\\pig_1447593096832.log\n",
       "2015-11-15 13:11:38,035 [main] INFO  org.apache.pig.impl.util.Utils - Default bootup file D:\\Users\\hdp/.pigbootup not found\n",
       "2015-11-15 13:11:38,332 [main] INFO  org.apache.hadoop.conf.Configuration.deprecation - mapred.job.tracker is deprecated. Instead, use mapreduce.jobtracker.address\n",
       "2015-11-15 13:11:38,332 [main] INFO  org.apache.hadoop.conf.Configuration.deprecation - fs.default.name is deprecated. Instead, use fs.defaultFS\n",
       "2015-11-15 13:11:38,332 [main] INFO  org.apache.pig.backend.hadoop.executionengine.HExecutionEngine - Connecting to hadoop file system at: wasb://clusterensaeazure1-1@hdblobstorage.blob.core.windows.net\n",
       "2015-11-15 13:11:39,005 [main] INFO  org.apache.hadoop.conf.Configuration.deprecation - fs.default.name is deprecated. Instead, use fs.defaultFS\n",
       "2015-11-15 13:11:39,318 [main] <b><font color=\"#DD0000\">ERROR</font></b> org.apache.pig.tools.grunt.Grunt - <b><font color=\"#DD0000\">ERROR</font></b> 2997: Encountered IOException. Could not load ScriptEngine: reservoir_sample for reservoir_sample (Supported langs: [javascript, jython, groovy, streaming_python, jruby]) : java.lang.ClassNotFoundException: reservoir_sample\n",
       "2015-11-15 13:11:39,318 [main] <b><font color=\"#DD0000\">ERROR</font></b> org.apache.pig.tools.grunt.Grunt - java.io.IOException: Could not load ScriptEngine: reservoir_sample for reservoir_sample (Supported langs: [javascript, jython, groovy, streaming_python, jruby]) : java.lang.ClassNotFoundException: reservoir_sample\n",
       "\tat org.apache.pig.scripting.ScriptEngine.getInstance(ScriptEngine.java:281)\n",
       "\tat org.apache.pig.PigServer.registerCode(PigServer.java:607)\n",
       "\tat org.apache.pig.tools.grunt.GruntParser.processRegister(GruntParser.java:467)\n",
       "\tat org.apache.pig.tools.pigscript.parser.PigScriptParser.parse(PigScriptParser.java:546)\n",
       "\tat org.apache.pig.tools.grunt.GruntParser.parseStopOnError(GruntParser.java:230)\n",
       "\tat org.apache.pig.tools.grunt.GruntParser.parseStopOnError(GruntParser.java:205)\n",
       "\tat org.apache.pig.tools.grunt.Grunt.exec(Grunt.java:81)\n",
       "\tat org.apache.pig.Main.run(Main.java:495)\n",
       "\tat org.apache.pig.Main.main(Main.java:170)\n",
       "Caused by: java.lang.ClassNotFoundException: reservoir_sample\n",
       "\tat java.net.URLClassLoader$1.run(URLClassLoader.java:366)\n",
       "\tat java.net.URLClassLoader$1.run(URLClassLoader.java:355)\n",
       "\tat java.security.AccessController.doPrivileged(Native Method)\n",
       "\tat java.net.URLClassLoader.findClass(URLClassLoader.java:354)\n",
       "\tat java.lang.ClassLoader.loadClass(ClassLoader.java:425)\n",
       "\tat sun.misc.Launcher$AppClassLoader.loadClass(Launcher.java:308)\n",
       "\tat java.lang.ClassLoader.loadClass(ClassLoader.java:358)\n",
       "\tat java.lang.Class.forName0(Native Method)\n",
       "\tat java.lang.Class.forName(Class.java:190)\n",
       "\tat org.apache.pig.scripting.ScriptEngine.getInstance(ScriptEngine.java:279)\n",
       "\t... 8 more\n",
       "\n",
       "Details also at logfile: C:\\apps\\dist\\hadoop-2.6.0.2.2.7.1-33\\logs\\pig_1447593096832.log\n",
       "2015-11-15 13:11:39,349 [main] INFO  org.apache.pig.Main - Pig script completed in 2 seconds and 846 milliseconds (2846 ms)\n",
       "\n",
       "</pre><br />"
      ],
      "text/plain": [
       "<IPython.core.display.HTML object>"
      ]
     },
     "execution_count": 24,
     "metadata": {},
     "output_type": "execute_result"
    }
   ],
   "source": [
    "%hd_tail_stderr jid[\"id\"] -n 100"
   ]
  },
  {
   "cell_type": "markdown",
   "metadata": {},
   "source": [
    "A corriger plus tard. Dans l'immédiat, on utilisera la librairie [datafu](https://datafu.incubator.apache.org/docs/datafu/guide/sampling.html). Si le cluster ne reconnaît pas la librairie, voir la section java pour comprendre comment l'importer. On la déclare dans le script par l'instruction ``REGISTER``."
   ]
  },
  {
   "cell_type": "code",
   "execution_count": 60,
   "metadata": {
    "collapsed": true
   },
   "outputs": [],
   "source": [
    "%%PIG sample_explore_datafu.pig\n",
    "\n",
    "REGISTER '$CONTAINER/$PSEUDO/sampling/datafu-1.2.0.jar';\n",
    "DEFINE RS datafu.pig.sampling.ReservoirSample('1000');\n",
    "\n",
    "ensemble = LOAD '$CONTAINER/$PSEUDO/sampling/sample4.txt' \n",
    "        USING PigStorage('\\t') AS (x:int, v:chararray) ;\n",
    "DESCRIBE ensemble;\n",
    "ens_group = GROUP ensemble ALL;\n",
    "DESCRIBE ens_group;\n",
    "sampled = FOREACH ens_group GENERATE FLATTEN(RS(ensemble));\n",
    "DESCRIBE sampled;\n",
    "\n",
    "STORE sampled \n",
    "INTO '$CONTAINER/$PSEUDO/sampling/sample_datafu_rs.txt' USING PigStorage();"
   ]
  },
  {
   "cell_type": "code",
   "execution_count": 61,
   "metadata": {
    "collapsed": false
   },
   "outputs": [
    {
     "data": {
      "text/plain": [
       "{'id': 'job_1446540516812_0193'}"
      ]
     },
     "execution_count": 61,
     "metadata": {},
     "output_type": "execute_result"
    }
   ],
   "source": [
    "jid = %hd_pig_submit sample_explore_datafu.pig\n",
    "jid"
   ]
  },
  {
   "cell_type": "code",
   "execution_count": 72,
   "metadata": {
    "collapsed": false
   },
   "outputs": [
    {
     "data": {
      "text/plain": [
       "('job_1446540516812_0193', '50% complete', None, False, 'RUNNING')"
      ]
     },
     "execution_count": 72,
     "metadata": {},
     "output_type": "execute_result"
    }
   ],
   "source": [
    "st = %hd_job_status jid[\"id\"]\n",
    "(st[\"id\"],st[\"percentComplete\"],st[\"completed\"],\n",
    "st[\"status\"][\"jobComplete\"],st[\"status\"][\"state\"])"
   ]
  },
  {
   "cell_type": "code",
   "execution_count": 71,
   "metadata": {
    "collapsed": false,
    "scrolled": false
   },
   "outputs": [
    {
     "data": {
      "text/html": [
       "<pre>\n",
       "\n",
       "</pre><br />"
      ],
      "text/plain": [
       "<IPython.core.display.HTML object>"
      ]
     },
     "execution_count": 71,
     "metadata": {},
     "output_type": "execute_result"
    }
   ],
   "source": [
    "%hd_tail_stderr jid[\"id\"] -n 100"
   ]
  },
  {
   "cell_type": "code",
   "execution_count": null,
   "metadata": {
    "collapsed": true
   },
   "outputs": [],
   "source": [
    "%blob_ls /$PSEUDO/sampling"
   ]
  },
  {
   "cell_type": "markdown",
   "metadata": {},
   "source": [
    "## version distribuée\n",
    "\n",
    "Astuce : on distribué puis on recombine les échantillons en faisant un dernier reservoir sampling mais pondéré."
   ]
  },
  {
   "cell_type": "markdown",
   "metadata": {},
   "source": [
    "## version distribuée améliorée\n",
    "\n",
    "Le problème de la version précédente : chaque sous-ensemble traité d'un seul bloc utilise une séquence de nombres aléatoires sur laquelle on ne connaît pas grand chose. Si les mêmes *seed* sont utilisées, il est possible que les séquences, même si elles simulent le hasard, soient extrêmement corrélées entre chaque bloc. Il faut remédier à cela.\n",
    "\n",
    "Il faut également s'assurer que chaque bloc n'est pas *skewed*."
   ]
  },
  {
   "cell_type": "code",
   "execution_count": 80,
   "metadata": {
    "collapsed": true
   },
   "outputs": [],
   "source": [
    "%%PIG_azure script_rs.pig\n",
    "\n",
    "DEFINE MD5 datafu.pig.hash.MD5();\n",
    "DEFINE RS datafu.pig.sampling.ReservoirSampling('100');\n",
    "\n",
    "ensemble = LOAD '$CONTAINER/$PSEUDO/sampling/sample4.txt' \n",
    "        USING PigStorage('\\t') AS (x:int, v:chararray) ;\n",
    "DESCRIBE ensemble;\n",
    "\n",
    "ens_group = GROUP ensemble BY (x,v);\n",
    "DESCRIBE ens_group;\n",
    "\n",
    "compte_group = FOREACH ens_group \n",
    "            GENERATE group.x AS x, \n",
    "                     group.v AS v, \n",
    "                     COUNT(ensemble) AS nb_ligne ;\n",
    "DESCRIBE compte_group;\n",
    "\n",
    "hash_group = FOREACH compte_group \n",
    "                GENERATE x, v, nb_ligne,\n",
    "                        MD5(v) as val;            \n",
    "DESCRIBE hash_group;  \n",
    "\n",
    "group_hash = GROUP hash_group BY val ;\n",
    "DESCRIBE group_hash;\n",
    "\n",
    "rs_parall = FOREACH group_hash GENERATE\n",
    "                    COUNT(hash_group) AS nb_hash,\n",
    "                    RS(hash_group) AS Rs ;\n",
    "DESCRIBE rs_parall;\n",
    "\n",
    "--STORE hash_group \n",
    "--INTO '$CONTAINER/$PSEUDO/sampling/sample4_hash.txt' USING PigStorage();"
   ]
  },
  {
   "cell_type": "code",
   "execution_count": 81,
   "metadata": {
    "collapsed": false
   },
   "outputs": [
    {
     "data": {
      "text/plain": [
       "{'id': 'job_1446540516812_0177'}"
      ]
     },
     "execution_count": 81,
     "metadata": {},
     "output_type": "execute_result"
    }
   ],
   "source": [
    "jid=%hd_pig_submit script_rs.pig\n",
    "jid"
   ]
  },
  {
   "cell_type": "code",
   "execution_count": 83,
   "metadata": {
    "collapsed": false
   },
   "outputs": [
    {
     "data": {
      "text/plain": [
       "('job_1446540516812_0177', None, 'done', True, 'SUCCEEDED')"
      ]
     },
     "execution_count": 83,
     "metadata": {},
     "output_type": "execute_result"
    }
   ],
   "source": [
    "st = %hd_job_status jid[\"id\"]\n",
    "(st[\"id\"],st[\"percentComplete\"],st[\"completed\"],\n",
    "st[\"status\"][\"jobComplete\"],st[\"status\"][\"state\"])"
   ]
  },
  {
   "cell_type": "code",
   "execution_count": 84,
   "metadata": {
    "collapsed": false,
    "scrolled": false
   },
   "outputs": [
    {
     "data": {
      "text/html": [
       "<pre>\n",
       "15/11/13 14:59:55 INFO pig.ExecTypeProvider: Trying ExecType : LOCAL\n",
       "15/11/13 14:59:55 INFO pig.ExecTypeProvider: Trying ExecType : MAPREDUCE\n",
       "15/11/13 14:59:55 INFO pig.ExecTypeProvider: Picked MAPREDUCE as the ExecType\n",
       "2015-11-13 14:59:55,219 [main] INFO  org.apache.pig.Main - Apache Pig version 0.14.0.2.2.7.1-33 (r: unknown) compiled Oct 13 2015, 04:18:06\n",
       "2015-11-13 14:59:55,219 [main] INFO  org.apache.pig.Main - Logging error messages to: C:\\apps\\dist\\hadoop-2.6.0.2.2.7.1-33\\logs\\pig_1447426795219.log\n",
       "2015-11-13 14:59:56,438 [main] INFO  org.apache.pig.impl.util.Utils - Default bootup file D:\\Users\\hdp/.pigbootup not found\n",
       "2015-11-13 14:59:56,719 [main] INFO  org.apache.hadoop.conf.Configuration.deprecation - mapred.job.tracker is deprecated. Instead, use mapreduce.jobtracker.address\n",
       "2015-11-13 14:59:56,719 [main] INFO  org.apache.hadoop.conf.Configuration.deprecation - fs.default.name is deprecated. Instead, use fs.defaultFS\n",
       "2015-11-13 14:59:56,719 [main] INFO  org.apache.pig.backend.hadoop.executionengine.HExecutionEngine - Connecting to hadoop file system at: wasb://clusterensaeazure1-1@hdblobstorage.blob.core.windows.net\n",
       "2015-11-13 14:59:58,344 [main] INFO  org.apache.hadoop.conf.Configuration.deprecation - fs.default.name is deprecated. Instead, use fs.defaultFS\n",
       "2015-11-13 15:00:00,188 [main] <b><font color=\"#DD0000\">ERROR</font></b> org.apache.pig.PigServer - exception during parsing: Error during parsing. Could not resolve datafu.pig.sampling.ReservoirSampling using imports: [, java.lang., org.apache.pig.builtin., org.apache.pig.impl.builtin.]\n",
       "Failed to parse: Pig script failed to parse: \n",
       "<file script_rs.pig, line 28, column 20> Failed to generate logical plan. Nested exception: org.apache.pig.backend.executionengine.ExecException: <b><font color=\"#DD0000\">ERROR</font></b> 1070: Could not resolve datafu.pig.sampling.ReservoirSampling using imports: [, java.lang., org.apache.pig.builtin., org.apache.pig.impl.builtin.]\n",
       "\tat org.apache.pig.parser.QueryParserDriver.parse(QueryParserDriver.java:199)\n",
       "\tat org.apache.pig.PigServer$Graph.parseQuery(PigServer.java:1735)\n",
       "\tat org.apache.pig.PigServer$Graph.access$000(PigServer.java:1443)\n",
       "\tat org.apache.pig.PigServer.parseAndBuild(PigServer.java:387)\n",
       "\tat org.apache.pig.tools.grunt.GruntParser.processDescribe(GruntParser.java:300)\n",
       "\tat org.apache.pig.tools.pigscript.parser.PigScriptParser.parse(PigScriptParser.java:412)\n",
       "\tat org.apache.pig.tools.grunt.GruntParser.parseStopOnError(GruntParser.java:230)\n",
       "\tat org.apache.pig.tools.grunt.GruntParser.parseStopOnError(GruntParser.java:205)\n",
       "\tat org.apache.pig.tools.grunt.Grunt.exec(Grunt.java:81)\n",
       "\tat org.apache.pig.Main.run(Main.java:495)\n",
       "\tat org.apache.pig.Main.main(Main.java:170)\n",
       "Caused by: \n",
       "<file script_rs.pig, line 28, column 20> Failed to generate logical plan. Nested exception: org.apache.pig.backend.executionengine.ExecException: <b><font color=\"#DD0000\">ERROR</font></b> 1070: Could not resolve datafu.pig.sampling.ReservoirSampling using imports: [, java.lang., org.apache.pig.builtin., org.apache.pig.impl.builtin.]\n",
       "\tat org.apache.pig.parser.LogicalPlanBuilder.buildUDF(LogicalPlanBuilder.java:1572)\n",
       "\tat org.apache.pig.parser.LogicalPlanGenerator.func_eval(LogicalPlanGenerator.java:9372)\n",
       "\tat org.apache.pig.parser.LogicalPlanGenerator.projectable_expr(LogicalPlanGenerator.java:11051)\n",
       "\tat org.apache.pig.parser.LogicalPlanGenerator.var_expr(LogicalPlanGenerator.java:10810)\n",
       "\tat org.apache.pig.parser.LogicalPlanGenerator.expr(LogicalPlanGenerator.java:10159)\n",
       "\tat org.apache.pig.parser.LogicalPlanGenerator.flatten_generated_item(LogicalPlanGenerator.java:7488)\n",
       "\tat org.apache.pig.parser.LogicalPlanGenerator.generate_clause(LogicalPlanGenerator.java:17590)\n",
       "\tat org.apache.pig.parser.LogicalPlanGenerator.foreach_plan(LogicalPlanGenerator.java:15982)\n",
       "\tat org.apache.pig.parser.LogicalPlanGenerator.foreach_clause(LogicalPlanGenerator.java:15849)\n",
       "\tat org.apache.pig.parser.LogicalPlanGenerator.op_clause(LogicalPlanGenerator.java:1933)\n",
       "\tat org.apache.pig.parser.LogicalPlanGenerator.general_statement(LogicalPlanGenerator.java:1102)\n",
       "\tat org.apache.pig.parser.LogicalPlanGenerator.statement(LogicalPlanGenerator.java:560)\n",
       "\tat org.apache.pig.parser.LogicalPlanGenerator.query(LogicalPlanGenerator.java:421)\n",
       "\tat org.apache.pig.parser.QueryParserDriver.parse(QueryParserDriver.java:191)\n",
       "\t... 10 more\n",
       "Caused by: org.apache.pig.backend.executionengine.ExecException: <b><font color=\"#DD0000\">ERROR</font></b> 1070: Could not resolve datafu.pig.sampling.ReservoirSampling using imports: [, java.lang., org.apache.pig.builtin., org.apache.pig.impl.builtin.]\n",
       "\tat org.apache.pig.impl.PigContext.resolveClassName(PigContext.java:677)\n",
       "\tat org.apache.pig.impl.PigContext.getClassForAlias(PigContext.java:793)\n",
       "\tat org.apache.pig.parser.LogicalPlanBuilder.buildUDF(LogicalPlanBuilder.java:1569)\n",
       "\t... 23 more\n",
       "2015-11-13 15:00:00,203 [main] <b><font color=\"#DD0000\">ERROR</font></b> org.apache.pig.tools.grunt.Grunt - <b><font color=\"#DD0000\">ERROR</font></b> 1070: Could not resolve datafu.pig.sampling.ReservoirSampling using imports: [, java.lang., org.apache.pig.builtin., org.apache.pig.impl.builtin.]\n",
       "2015-11-13 15:00:00,203 [main] <b><font color=\"#DD0000\">ERROR</font></b> org.apache.pig.tools.grunt.Grunt - org.apache.pig.impl.logicalLayer.FrontendException: <b><font color=\"#DD0000\">ERROR</font></b> 1000: Error during parsing. Could not resolve datafu.pig.sampling.ReservoirSampling using imports: [, java.lang., org.apache.pig.builtin., org.apache.pig.impl.builtin.]\n",
       "\tat org.apache.pig.PigServer$Graph.parseQuery(PigServer.java:1748)\n",
       "\tat org.apache.pig.PigServer$Graph.access$000(PigServer.java:1443)\n",
       "\tat org.apache.pig.PigServer.parseAndBuild(PigServer.java:387)\n",
       "\tat org.apache.pig.tools.grunt.GruntParser.processDescribe(GruntParser.java:300)\n",
       "\tat org.apache.pig.tools.pigscript.parser.PigScriptParser.parse(PigScriptParser.java:412)\n",
       "\tat org.apache.pig.tools.grunt.GruntParser.parseStopOnError(GruntParser.java:230)\n",
       "\tat org.apache.pig.tools.grunt.GruntParser.parseStopOnError(GruntParser.java:205)\n",
       "\tat org.apache.pig.tools.grunt.Grunt.exec(Grunt.java:81)\n",
       "\tat org.apache.pig.Main.run(Main.java:495)\n",
       "\tat org.apache.pig.Main.main(Main.java:170)\n",
       "Caused by: Failed to parse: Pig script failed to parse: \n",
       "<file script_rs.pig, line 28, column 20> Failed to generate logical plan. Nested exception: org.apache.pig.backend.executionengine.ExecException: <b><font color=\"#DD0000\">ERROR</font></b> 1070: Could not resolve datafu.pig.sampling.ReservoirSampling using imports: [, java.lang., org.apache.pig.builtin., org.apache.pig.impl.builtin.]\n",
       "\tat org.apache.pig.parser.QueryParserDriver.parse(QueryParserDriver.java:199)\n",
       "\tat org.apache.pig.PigServer$Graph.parseQuery(PigServer.java:1735)\n",
       "\t... 9 more\n",
       "Caused by: \n",
       "<file script_rs.pig, line 28, column 20> Failed to generate logical plan. Nested exception: org.apache.pig.backend.executionengine.ExecException: <b><font color=\"#DD0000\">ERROR</font></b> 1070: Could not resolve datafu.pig.sampling.ReservoirSampling using imports: [, java.lang., org.apache.pig.builtin., org.apache.pig.impl.builtin.]\n",
       "\tat org.apache.pig.parser.LogicalPlanBuilder.buildUDF(LogicalPlanBuilder.java:1572)\n",
       "\tat org.apache.pig.parser.LogicalPlanGenerator.func_eval(LogicalPlanGenerator.java:9372)\n",
       "\tat org.apache.pig.parser.LogicalPlanGenerator.projectable_expr(LogicalPlanGenerator.java:11051)\n",
       "\tat org.apache.pig.parser.LogicalPlanGenerator.var_expr(LogicalPlanGenerator.java:10810)\n",
       "\tat org.apache.pig.parser.LogicalPlanGenerator.expr(LogicalPlanGenerator.java:10159)\n",
       "\tat org.apache.pig.parser.LogicalPlanGenerator.flatten_generated_item(LogicalPlanGenerator.java:7488)\n",
       "\tat org.apache.pig.parser.LogicalPlanGenerator.generate_clause(LogicalPlanGenerator.java:17590)\n",
       "\tat org.apache.pig.parser.LogicalPlanGenerator.foreach_plan(LogicalPlanGenerator.java:15982)\n",
       "\tat org.apache.pig.parser.LogicalPlanGenerator.foreach_clause(LogicalPlanGenerator.java:15849)\n",
       "\tat org.apache.pig.parser.LogicalPlanGenerator.op_clause(LogicalPlanGenerator.java:1933)\n",
       "\tat org.apache.pig.parser.LogicalPlanGenerator.general_statement(LogicalPlanGenerator.java:1102)\n",
       "\tat org.apache.pig.parser.LogicalPlanGenerator.statement(LogicalPlanGenerator.java:560)\n",
       "\tat org.apache.pig.parser.LogicalPlanGenerator.query(LogicalPlanGenerator.java:421)\n",
       "\tat org.apache.pig.parser.QueryParserDriver.parse(QueryParserDriver.java:191)\n",
       "\t... 10 more\n",
       "Caused by: org.apache.pig.backend.executionengine.ExecException: <b><font color=\"#DD0000\">ERROR</font></b> 1070: Could not resolve datafu.pig.sampling.ReservoirSampling using imports: [, java.lang., org.apache.pig.builtin., org.apache.pig.impl.builtin.]\n",
       "\tat org.apache.pig.impl.PigContext.resolveClassName(PigContext.java:677)\n",
       "\tat org.apache.pig.impl.PigContext.getClassForAlias(PigContext.java:793)\n",
       "\tat org.apache.pig.parser.LogicalPlanBuilder.buildUDF(LogicalPlanBuilder.java:1569)\n",
       "\t... 23 more\n",
       "\n",
       "Details also at logfile: C:\\apps\\dist\\hadoop-2.6.0.2.2.7.1-33\\logs\\pig_1447426795219.log\n",
       "2015-11-13 15:00:00,250 [main] INFO  org.apache.pig.Main - Pig script completed in 5 seconds and 328 milliseconds (5328 ms)\n",
       "\n",
       "</pre><br /><b>OUT:</b><br /><pre>\n",
       "ensemble: {x: int,v: chararray}\n",
       "ens_group: {group: (x: int,v: chararray),ensemble: {(x: int,v: chararray)}}\n",
       "compte_group: {x: int,v: chararray,nb_ligne: long}\n",
       "hash_group: {x: int,v: chararray,nb_ligne: long,val: chararray}\n",
       "group_hash: {group: chararray,hash_group: {(x: int,v: chararray,nb_ligne: long,val: chararray)}}\n",
       "\n",
       "</pre>"
      ],
      "text/plain": [
       "<IPython.core.display.HTML object>"
      ]
     },
     "execution_count": 84,
     "metadata": {},
     "output_type": "execute_result"
    }
   ],
   "source": [
    "%hd_tail_stderr jid[\"id\"] -n 100"
   ]
  },
  {
   "cell_type": "code",
   "execution_count": 77,
   "metadata": {
    "collapsed": false
   },
   "outputs": [
    {
     "data": {
      "text/html": [
       "<div>\n",
       "<table border=\"1\" class=\"dataframe\">\n",
       "  <thead>\n",
       "    <tr style=\"text-align: right;\">\n",
       "      <th></th>\n",
       "      <th>name</th>\n",
       "      <th>last_modified</th>\n",
       "      <th>content_type</th>\n",
       "      <th>content_length</th>\n",
       "      <th>blob_type</th>\n",
       "    </tr>\n",
       "  </thead>\n",
       "  <tbody>\n",
       "    <tr>\n",
       "      <th>0</th>\n",
       "      <td>axavier/sampling/datafu-1.2.0.jar</td>\n",
       "      <td>Fri, 13 Nov 2015 00:03:49 GMT</td>\n",
       "      <td>application/octet-stream</td>\n",
       "      <td>1600826</td>\n",
       "      <td>BlockBlob</td>\n",
       "    </tr>\n",
       "    <tr>\n",
       "      <th>1</th>\n",
       "      <td>axavier/sampling/out_sampled_rs4_2015.txt</td>\n",
       "      <td>Fri, 13 Nov 2015 01:08:22 GMT</td>\n",
       "      <td></td>\n",
       "      <td>0</td>\n",
       "      <td>BlockBlob</td>\n",
       "    </tr>\n",
       "    <tr>\n",
       "      <th>2</th>\n",
       "      <td>axavier/sampling/out_sampled_rs4_2015.txt/_SUC...</td>\n",
       "      <td>Fri, 13 Nov 2015 01:08:22 GMT</td>\n",
       "      <td>application/octet-stream</td>\n",
       "      <td>0</td>\n",
       "      <td>BlockBlob</td>\n",
       "    </tr>\n",
       "    <tr>\n",
       "      <th>3</th>\n",
       "      <td>axavier/sampling/out_sampled_rs4_2015.txt/part...</td>\n",
       "      <td>Fri, 13 Nov 2015 01:08:21 GMT</td>\n",
       "      <td>application/octet-stream</td>\n",
       "      <td>12785</td>\n",
       "      <td>BlockBlob</td>\n",
       "    </tr>\n",
       "    <tr>\n",
       "      <th>4</th>\n",
       "      <td>axavier/sampling/sample.txt</td>\n",
       "      <td>Fri, 13 Nov 2015 00:02:50 GMT</td>\n",
       "      <td>application/octet-stream</td>\n",
       "      <td>1377780</td>\n",
       "      <td>BlockBlob</td>\n",
       "    </tr>\n",
       "    <tr>\n",
       "      <th>5</th>\n",
       "      <td>axavier/sampling/sample2.txt</td>\n",
       "      <td>Fri, 13 Nov 2015 00:35:55 GMT</td>\n",
       "      <td>application/octet-stream</td>\n",
       "      <td>1377793</td>\n",
       "      <td>BlockBlob</td>\n",
       "    </tr>\n",
       "    <tr>\n",
       "      <th>6</th>\n",
       "      <td>axavier/sampling/sample3.txt</td>\n",
       "      <td>Fri, 13 Nov 2015 00:39:40 GMT</td>\n",
       "      <td>application/octet-stream</td>\n",
       "      <td>1377793</td>\n",
       "      <td>BlockBlob</td>\n",
       "    </tr>\n",
       "    <tr>\n",
       "      <th>7</th>\n",
       "      <td>axavier/sampling/sample4.txt</td>\n",
       "      <td>Fri, 13 Nov 2015 00:41:49 GMT</td>\n",
       "      <td>application/octet-stream</td>\n",
       "      <td>1377793</td>\n",
       "      <td>BlockBlob</td>\n",
       "    </tr>\n",
       "    <tr>\n",
       "      <th>8</th>\n",
       "      <td>axavier/sampling/sample4_hash.txt</td>\n",
       "      <td>Fri, 13 Nov 2015 14:50:39 GMT</td>\n",
       "      <td></td>\n",
       "      <td>0</td>\n",
       "      <td>BlockBlob</td>\n",
       "    </tr>\n",
       "    <tr>\n",
       "      <th>9</th>\n",
       "      <td>axavier/sampling/sample4_hash.txt/_SUCCESS</td>\n",
       "      <td>Fri, 13 Nov 2015 14:50:39 GMT</td>\n",
       "      <td>application/octet-stream</td>\n",
       "      <td>0</td>\n",
       "      <td>BlockBlob</td>\n",
       "    </tr>\n",
       "    <tr>\n",
       "      <th>10</th>\n",
       "      <td>axavier/sampling/sample4_hash.txt/part-r-00000</td>\n",
       "      <td>Fri, 13 Nov 2015 14:50:38 GMT</td>\n",
       "      <td>application/octet-stream</td>\n",
       "      <td>4771358</td>\n",
       "      <td>BlockBlob</td>\n",
       "    </tr>\n",
       "    <tr>\n",
       "      <th>11</th>\n",
       "      <td>axavier/sampling/sampled4_2015.txt</td>\n",
       "      <td>Fri, 13 Nov 2015 00:50:20 GMT</td>\n",
       "      <td></td>\n",
       "      <td>0</td>\n",
       "      <td>BlockBlob</td>\n",
       "    </tr>\n",
       "    <tr>\n",
       "      <th>12</th>\n",
       "      <td>axavier/sampling/sampled4_2015.txt/_SUCCESS</td>\n",
       "      <td>Fri, 13 Nov 2015 00:50:20 GMT</td>\n",
       "      <td>application/octet-stream</td>\n",
       "      <td>0</td>\n",
       "      <td>BlockBlob</td>\n",
       "    </tr>\n",
       "    <tr>\n",
       "      <th>13</th>\n",
       "      <td>axavier/sampling/sampled4_2015.txt/part-m-00000</td>\n",
       "      <td>Fri, 13 Nov 2015 00:50:19 GMT</td>\n",
       "      <td>application/octet-stream</td>\n",
       "      <td>1277794</td>\n",
       "      <td>BlockBlob</td>\n",
       "    </tr>\n",
       "    <tr>\n",
       "      <th>14</th>\n",
       "      <td>axavier/sampling/sampled_rs4_2015.txt</td>\n",
       "      <td>Fri, 13 Nov 2015 01:04:51 GMT</td>\n",
       "      <td></td>\n",
       "      <td>0</td>\n",
       "      <td>BlockBlob</td>\n",
       "    </tr>\n",
       "    <tr>\n",
       "      <th>15</th>\n",
       "      <td>axavier/sampling/sampled_rs4_2015.txt/_SUCCESS</td>\n",
       "      <td>Fri, 13 Nov 2015 01:04:51 GMT</td>\n",
       "      <td>application/octet-stream</td>\n",
       "      <td>0</td>\n",
       "      <td>BlockBlob</td>\n",
       "    </tr>\n",
       "    <tr>\n",
       "      <th>16</th>\n",
       "      <td>axavier/sampling/sampled_rs4_2015.txt/part-m-0...</td>\n",
       "      <td>Fri, 13 Nov 2015 01:04:50 GMT</td>\n",
       "      <td>application/octet-stream</td>\n",
       "      <td>1277794</td>\n",
       "      <td>BlockBlob</td>\n",
       "    </tr>\n",
       "    <tr>\n",
       "      <th>17</th>\n",
       "      <td>axavier/sampling/sampled_srs4_2015.txt</td>\n",
       "      <td>Fri, 13 Nov 2015 00:56:09 GMT</td>\n",
       "      <td></td>\n",
       "      <td>0</td>\n",
       "      <td>BlockBlob</td>\n",
       "    </tr>\n",
       "    <tr>\n",
       "      <th>18</th>\n",
       "      <td>axavier/sampling/sampled_srs4_2015.txt/_SUCCESS</td>\n",
       "      <td>Fri, 13 Nov 2015 00:56:09 GMT</td>\n",
       "      <td>application/octet-stream</td>\n",
       "      <td>0</td>\n",
       "      <td>BlockBlob</td>\n",
       "    </tr>\n",
       "    <tr>\n",
       "      <th>19</th>\n",
       "      <td>axavier/sampling/sampled_srs4_2015.txt/part-m-...</td>\n",
       "      <td>Fri, 13 Nov 2015 00:56:09 GMT</td>\n",
       "      <td>application/octet-stream</td>\n",
       "      <td>1277794</td>\n",
       "      <td>BlockBlob</td>\n",
       "    </tr>\n",
       "    <tr>\n",
       "      <th>20</th>\n",
       "      <td>axavier/sampling/sampled_srs_2015.txt</td>\n",
       "      <td>Fri, 13 Nov 2015 00:52:34 GMT</td>\n",
       "      <td></td>\n",
       "      <td>0</td>\n",
       "      <td>BlockBlob</td>\n",
       "    </tr>\n",
       "    <tr>\n",
       "      <th>21</th>\n",
       "      <td>axavier/sampling/sampled_srs_2015.txt/_SUCCESS</td>\n",
       "      <td>Fri, 13 Nov 2015 00:52:34 GMT</td>\n",
       "      <td>application/octet-stream</td>\n",
       "      <td>0</td>\n",
       "      <td>BlockBlob</td>\n",
       "    </tr>\n",
       "    <tr>\n",
       "      <th>22</th>\n",
       "      <td>axavier/sampling/sampled_srs_2015.txt/part-m-0...</td>\n",
       "      <td>Fri, 13 Nov 2015 00:52:34 GMT</td>\n",
       "      <td>application/octet-stream</td>\n",
       "      <td>1277794</td>\n",
       "      <td>BlockBlob</td>\n",
       "    </tr>\n",
       "  </tbody>\n",
       "</table>\n",
       "</div>"
      ],
      "text/plain": [
       "                                                 name  \\\n",
       "0                   axavier/sampling/datafu-1.2.0.jar   \n",
       "1           axavier/sampling/out_sampled_rs4_2015.txt   \n",
       "2   axavier/sampling/out_sampled_rs4_2015.txt/_SUC...   \n",
       "3   axavier/sampling/out_sampled_rs4_2015.txt/part...   \n",
       "4                         axavier/sampling/sample.txt   \n",
       "5                        axavier/sampling/sample2.txt   \n",
       "6                        axavier/sampling/sample3.txt   \n",
       "7                        axavier/sampling/sample4.txt   \n",
       "8                   axavier/sampling/sample4_hash.txt   \n",
       "9          axavier/sampling/sample4_hash.txt/_SUCCESS   \n",
       "10     axavier/sampling/sample4_hash.txt/part-r-00000   \n",
       "11                 axavier/sampling/sampled4_2015.txt   \n",
       "12        axavier/sampling/sampled4_2015.txt/_SUCCESS   \n",
       "13    axavier/sampling/sampled4_2015.txt/part-m-00000   \n",
       "14              axavier/sampling/sampled_rs4_2015.txt   \n",
       "15     axavier/sampling/sampled_rs4_2015.txt/_SUCCESS   \n",
       "16  axavier/sampling/sampled_rs4_2015.txt/part-m-0...   \n",
       "17             axavier/sampling/sampled_srs4_2015.txt   \n",
       "18    axavier/sampling/sampled_srs4_2015.txt/_SUCCESS   \n",
       "19  axavier/sampling/sampled_srs4_2015.txt/part-m-...   \n",
       "20              axavier/sampling/sampled_srs_2015.txt   \n",
       "21     axavier/sampling/sampled_srs_2015.txt/_SUCCESS   \n",
       "22  axavier/sampling/sampled_srs_2015.txt/part-m-0...   \n",
       "\n",
       "                    last_modified              content_type  content_length  \\\n",
       "0   Fri, 13 Nov 2015 00:03:49 GMT  application/octet-stream         1600826   \n",
       "1   Fri, 13 Nov 2015 01:08:22 GMT                                         0   \n",
       "2   Fri, 13 Nov 2015 01:08:22 GMT  application/octet-stream               0   \n",
       "3   Fri, 13 Nov 2015 01:08:21 GMT  application/octet-stream           12785   \n",
       "4   Fri, 13 Nov 2015 00:02:50 GMT  application/octet-stream         1377780   \n",
       "5   Fri, 13 Nov 2015 00:35:55 GMT  application/octet-stream         1377793   \n",
       "6   Fri, 13 Nov 2015 00:39:40 GMT  application/octet-stream         1377793   \n",
       "7   Fri, 13 Nov 2015 00:41:49 GMT  application/octet-stream         1377793   \n",
       "8   Fri, 13 Nov 2015 14:50:39 GMT                                         0   \n",
       "9   Fri, 13 Nov 2015 14:50:39 GMT  application/octet-stream               0   \n",
       "10  Fri, 13 Nov 2015 14:50:38 GMT  application/octet-stream         4771358   \n",
       "11  Fri, 13 Nov 2015 00:50:20 GMT                                         0   \n",
       "12  Fri, 13 Nov 2015 00:50:20 GMT  application/octet-stream               0   \n",
       "13  Fri, 13 Nov 2015 00:50:19 GMT  application/octet-stream         1277794   \n",
       "14  Fri, 13 Nov 2015 01:04:51 GMT                                         0   \n",
       "15  Fri, 13 Nov 2015 01:04:51 GMT  application/octet-stream               0   \n",
       "16  Fri, 13 Nov 2015 01:04:50 GMT  application/octet-stream         1277794   \n",
       "17  Fri, 13 Nov 2015 00:56:09 GMT                                         0   \n",
       "18  Fri, 13 Nov 2015 00:56:09 GMT  application/octet-stream               0   \n",
       "19  Fri, 13 Nov 2015 00:56:09 GMT  application/octet-stream         1277794   \n",
       "20  Fri, 13 Nov 2015 00:52:34 GMT                                         0   \n",
       "21  Fri, 13 Nov 2015 00:52:34 GMT  application/octet-stream               0   \n",
       "22  Fri, 13 Nov 2015 00:52:34 GMT  application/octet-stream         1277794   \n",
       "\n",
       "    blob_type  \n",
       "0   BlockBlob  \n",
       "1   BlockBlob  \n",
       "2   BlockBlob  \n",
       "3   BlockBlob  \n",
       "4   BlockBlob  \n",
       "5   BlockBlob  \n",
       "6   BlockBlob  \n",
       "7   BlockBlob  \n",
       "8   BlockBlob  \n",
       "9   BlockBlob  \n",
       "10  BlockBlob  \n",
       "11  BlockBlob  \n",
       "12  BlockBlob  \n",
       "13  BlockBlob  \n",
       "14  BlockBlob  \n",
       "15  BlockBlob  \n",
       "16  BlockBlob  \n",
       "17  BlockBlob  \n",
       "18  BlockBlob  \n",
       "19  BlockBlob  \n",
       "20  BlockBlob  \n",
       "21  BlockBlob  \n",
       "22  BlockBlob  "
      ]
     },
     "execution_count": 77,
     "metadata": {},
     "output_type": "execute_result"
    }
   ],
   "source": [
    "%blob_ls /$PSEUDO/sampling"
   ]
  },
  {
   "cell_type": "code",
   "execution_count": 78,
   "metadata": {
    "collapsed": false
   },
   "outputs": [
    {
     "data": {
      "text/plain": [
       "'sample4_hash.txt'"
      ]
     },
     "execution_count": 78,
     "metadata": {},
     "output_type": "execute_result"
    }
   ],
   "source": [
    "%blob_downmerge /$PSEUDO/sampling/sample4_hash.txt sample4_hash.txt"
   ]
  },
  {
   "cell_type": "code",
   "execution_count": 79,
   "metadata": {
    "collapsed": false
   },
   "outputs": [
    {
     "data": {
      "text/html": [
       "<pre>\n",
       "32768\tI32768\t1\t48552c0f07525636349fd1e03eab80e0\n",
       "32769\tJ32769\t1\t67f5674c28d8b28b1a6fd1d3651c5d64\n",
       "32770\tK32770\t1\tc3b96599e3e4eb7dd998db6d1e6a20be\n",
       "32771\tL32771\t1\t5544ba69e2dad591bd9d8ff60041e56e\n",
       "32772\tM32772\t1\t500e11c8ccbad3ec056d1a2f56ba0001\n",
       "32773\tN32773\t1\te081824afdb35fcda978cbfb8270de9c\n",
       "32774\tO32774\t1\tbedbcf8ca66d22e59957b0afcf0d70c\n",
       "32775\tP32775\t1\t41a48c42535cc44e503c4e6f1bbcb676\n",
       "32776\tQ32776\t1\td1c5c274b1e7220413963511a6772b50\n",
       "32777\tR32777\t1\t2f4c3e1a01a99edb4bd836eab10ce9ef\n",
       "\n",
       "</pre>"
      ],
      "text/plain": [
       "<IPython.core.display.HTML object>"
      ]
     },
     "execution_count": 79,
     "metadata": {},
     "output_type": "execute_result"
    }
   ],
   "source": [
    "%head sample4_hash.txt"
   ]
  },
  {
   "cell_type": "code",
   "execution_count": null,
   "metadata": {
    "collapsed": true
   },
   "outputs": [],
   "source": []
  },
  {
   "cell_type": "code",
   "execution_count": null,
   "metadata": {
    "collapsed": true
   },
   "outputs": [],
   "source": []
  },
  {
   "cell_type": "code",
   "execution_count": null,
   "metadata": {
    "collapsed": true
   },
   "outputs": [],
   "source": []
  },
  {
   "cell_type": "code",
   "execution_count": null,
   "metadata": {
    "collapsed": true
   },
   "outputs": [],
   "source": []
  },
  {
   "cell_type": "code",
   "execution_count": null,
   "metadata": {
    "collapsed": true
   },
   "outputs": [],
   "source": []
  },
  {
   "cell_type": "code",
   "execution_count": null,
   "metadata": {
    "collapsed": true
   },
   "outputs": [],
   "source": []
  },
  {
   "cell_type": "markdown",
   "metadata": {
    "collapsed": true
   },
   "source": [
    "## version java\n",
    "\n",
    "On s'inspire de l'exemple suivant [Sampling](http://datafu.incubator.apache.org/docs/datafu/guide/sampling.html).\n",
    " On télécharge [datafu 1.2](http://datafu.incubator.apache.org/docs/datafu/) depuis [Maven](http://mvnrepository.com/artifact/com.linkedin.datafu/datafu/1.2.0). Ce n'est pas la dernière version mais suivre les  instructions pour *builder* datafu (voir [documentation](http://datafu.incubator.apache.org/docs/datafu/1.2.0/)). En particulier, la version pondérée du reservoir sampling n'est pas disponible (voir [history](https://github.com/apache/incubator-datafu/commits/master/datafu-pig/src/main/java/datafu/pig/sampling/WeightedReservoirSample.java), la version 1.2.0 est sorti en décembre 2013).\n",
    " \n",
    "L'implémentation [java](https://github.com/apache/incubator-datafu/blob/master/datafu-pig/src/main/java/datafu/pig/sampling/ReservoirSample.java) n'a pas l'air de résoudre un problème qui peut survenir si la taille de l'échantillon demandée est trop grande. Voir section suivante."
   ]
  },
  {
   "cell_type": "code",
   "execution_count": 4,
   "metadata": {
    "collapsed": false
   },
   "outputs": [
    {
     "data": {
      "text/plain": [
       "'datafu-1.2.0.jar'"
      ]
     },
     "execution_count": 4,
     "metadata": {},
     "output_type": "execute_result"
    }
   ],
   "source": [
    "import pyensae\n",
    "pyensae.download_data(\"datafu-1.2.0.jar\", url=\"http://central.maven.org/maven2/com/linkedin/datafu/datafu/1.2.0/\")"
   ]
  },
  {
   "cell_type": "code",
   "execution_count": 47,
   "metadata": {
    "collapsed": false
   },
   "outputs": [
    {
     "data": {
      "text/plain": [
       "'$PSEUDO/sampling/datafu-1.2.0.jar'"
      ]
     },
     "execution_count": 47,
     "metadata": {},
     "output_type": "execute_result"
    }
   ],
   "source": [
    "%blob_up datafu-1.2.0.jar /$PSEUDO/sampling/datafu-1.2.0.jar"
   ]
  },
  {
   "cell_type": "code",
   "execution_count": 153,
   "metadata": {
    "collapsed": true
   },
   "outputs": [
    {
     "data": {
      "text/html": [
       "<div>\n",
       "<table border=\"1\" class=\"dataframe\">\n",
       "  <thead>\n",
       "    <tr style=\"text-align: right;\">\n",
       "      <th></th>\n",
       "      <th>name</th>\n",
       "      <th>last_modified</th>\n",
       "      <th>content_type</th>\n",
       "      <th>content_length</th>\n",
       "      <th>blob_type</th>\n",
       "    </tr>\n",
       "  </thead>\n",
       "  <tbody>\n",
       "    <tr>\n",
       "      <th>0</th>\n",
       "      <td>axavier/sampling/datafu-1.2.0.jar</td>\n",
       "      <td>Fri, 13 Nov 2015 00:03:49 GMT</td>\n",
       "      <td>application/octet-stream</td>\n",
       "      <td>1600826</td>\n",
       "      <td>BlockBlob</td>\n",
       "    </tr>\n",
       "    <tr>\n",
       "      <th>1</th>\n",
       "      <td>axavier/sampling/sample.txt</td>\n",
       "      <td>Fri, 13 Nov 2015 00:02:50 GMT</td>\n",
       "      <td>application/octet-stream</td>\n",
       "      <td>1377780</td>\n",
       "      <td>BlockBlob</td>\n",
       "    </tr>\n",
       "    <tr>\n",
       "      <th>2</th>\n",
       "      <td>axavier/sampling/sample2.txt</td>\n",
       "      <td>Fri, 13 Nov 2015 00:35:55 GMT</td>\n",
       "      <td>application/octet-stream</td>\n",
       "      <td>1377793</td>\n",
       "      <td>BlockBlob</td>\n",
       "    </tr>\n",
       "    <tr>\n",
       "      <th>3</th>\n",
       "      <td>axavier/sampling/sample3.txt</td>\n",
       "      <td>Fri, 13 Nov 2015 00:39:40 GMT</td>\n",
       "      <td>application/octet-stream</td>\n",
       "      <td>1377793</td>\n",
       "      <td>BlockBlob</td>\n",
       "    </tr>\n",
       "    <tr>\n",
       "      <th>4</th>\n",
       "      <td>axavier/sampling/sample4.txt</td>\n",
       "      <td>Fri, 13 Nov 2015 00:41:49 GMT</td>\n",
       "      <td>application/octet-stream</td>\n",
       "      <td>1377793</td>\n",
       "      <td>BlockBlob</td>\n",
       "    </tr>\n",
       "  </tbody>\n",
       "</table>\n",
       "</div>"
      ],
      "text/plain": [
       "                                name                  last_modified  \\\n",
       "0  axavier/sampling/datafu-1.2.0.jar  Fri, 13 Nov 2015 00:03:49 GMT   \n",
       "1        axavier/sampling/sample.txt  Fri, 13 Nov 2015 00:02:50 GMT   \n",
       "2       axavier/sampling/sample2.txt  Fri, 13 Nov 2015 00:35:55 GMT   \n",
       "3       axavier/sampling/sample3.txt  Fri, 13 Nov 2015 00:39:40 GMT   \n",
       "4       axavier/sampling/sample4.txt  Fri, 13 Nov 2015 00:41:49 GMT   \n",
       "\n",
       "               content_type  content_length  blob_type  \n",
       "0  application/octet-stream         1600826  BlockBlob  \n",
       "1  application/octet-stream         1377780  BlockBlob  \n",
       "2  application/octet-stream         1377793  BlockBlob  \n",
       "3  application/octet-stream         1377793  BlockBlob  \n",
       "4  application/octet-stream         1377793  BlockBlob  "
      ]
     },
     "execution_count": 153,
     "metadata": {},
     "output_type": "execute_result"
    }
   ],
   "source": [
    "%blob_ls /$PSEUDO/sampling"
   ]
  },
  {
   "cell_type": "code",
   "execution_count": 261,
   "metadata": {
    "collapsed": false
   },
   "outputs": [],
   "source": [
    "%%PIG_azure sample.pig\n",
    "\n",
    "REGISTER '$CONTAINER/$PSEUDO/sampling/datafu-1.2.0.jar';\n",
    "\n",
    "DEFINE RS datafu.pig.sampling.ReservoirSample('1000');\n",
    "\n",
    "dset = LOAD '$CONTAINER/$PSEUDO/sampling/sample4.txt' \n",
    "        USING PigStorage('\\t') AS (x:int, v:chararray) ;\n",
    "sampled = FOREACH (GROUP dset ALL) GENERATE FLATTEN(RS(dset));\n",
    "STORE sampled INTO '$CONTAINER/$PSEUDO/sampling/out_sampled_rs4_2015.txt' USING PigStorage() ;"
   ]
  },
  {
   "cell_type": "code",
   "execution_count": 262,
   "metadata": {
    "collapsed": true
   },
   "outputs": [],
   "source": [
    "jid = %hd_pig_submit sample.pig"
   ]
  },
  {
   "cell_type": "code",
   "execution_count": 265,
   "metadata": {
    "collapsed": false
   },
   "outputs": [
    {
     "data": {
      "text/plain": [
       "('job_1446540516812_0136', None, None, False, 'RUNNING')"
      ]
     },
     "execution_count": 265,
     "metadata": {},
     "output_type": "execute_result"
    }
   ],
   "source": [
    "st = %hd_job_status jid[\"id\"]\n",
    "st[\"id\"],st[\"percentComplete\"],st[\"completed\"],st[\"status\"][\"jobComplete\"],st[\"status\"][\"state\"]"
   ]
  },
  {
   "cell_type": "code",
   "execution_count": 266,
   "metadata": {
    "collapsed": false,
    "scrolled": false
   },
   "outputs": [
    {
     "data": {
      "text/html": [
       "<pre>\n",
       "\n",
       "</pre><br />"
      ],
      "text/plain": [
       "<IPython.core.display.HTML object>"
      ]
     },
     "execution_count": 266,
     "metadata": {},
     "output_type": "execute_result"
    }
   ],
   "source": [
    "%hd_tail_stderr jid[\"id\"] -n 10"
   ]
  },
  {
   "cell_type": "code",
   "execution_count": 274,
   "metadata": {
    "collapsed": false
   },
   "outputs": [
    {
     "data": {
      "text/html": [
       "<div>\n",
       "<table border=\"1\" class=\"dataframe\">\n",
       "  <thead>\n",
       "    <tr style=\"text-align: right;\">\n",
       "      <th></th>\n",
       "      <th>name</th>\n",
       "      <th>last_modified</th>\n",
       "      <th>content_type</th>\n",
       "      <th>content_length</th>\n",
       "      <th>blob_type</th>\n",
       "    </tr>\n",
       "  </thead>\n",
       "  <tbody>\n",
       "    <tr>\n",
       "      <th>0</th>\n",
       "      <td>axavier/sampling/datafu-1.2.0.jar</td>\n",
       "      <td>Fri, 13 Nov 2015 00:03:49 GMT</td>\n",
       "      <td>application/octet-stream</td>\n",
       "      <td>1600826</td>\n",
       "      <td>BlockBlob</td>\n",
       "    </tr>\n",
       "    <tr>\n",
       "      <th>1</th>\n",
       "      <td>axavier/sampling/out_sampled_rs4_2015.txt</td>\n",
       "      <td>Fri, 13 Nov 2015 01:08:22 GMT</td>\n",
       "      <td></td>\n",
       "      <td>0</td>\n",
       "      <td>BlockBlob</td>\n",
       "    </tr>\n",
       "    <tr>\n",
       "      <th>2</th>\n",
       "      <td>axavier/sampling/out_sampled_rs4_2015.txt/_SUC...</td>\n",
       "      <td>Fri, 13 Nov 2015 01:08:22 GMT</td>\n",
       "      <td>application/octet-stream</td>\n",
       "      <td>0</td>\n",
       "      <td>BlockBlob</td>\n",
       "    </tr>\n",
       "    <tr>\n",
       "      <th>3</th>\n",
       "      <td>axavier/sampling/out_sampled_rs4_2015.txt/part...</td>\n",
       "      <td>Fri, 13 Nov 2015 01:08:21 GMT</td>\n",
       "      <td>application/octet-stream</td>\n",
       "      <td>12785</td>\n",
       "      <td>BlockBlob</td>\n",
       "    </tr>\n",
       "    <tr>\n",
       "      <th>4</th>\n",
       "      <td>axavier/sampling/sample.txt</td>\n",
       "      <td>Fri, 13 Nov 2015 00:02:50 GMT</td>\n",
       "      <td>application/octet-stream</td>\n",
       "      <td>1377780</td>\n",
       "      <td>BlockBlob</td>\n",
       "    </tr>\n",
       "    <tr>\n",
       "      <th>5</th>\n",
       "      <td>axavier/sampling/sample2.txt</td>\n",
       "      <td>Fri, 13 Nov 2015 00:35:55 GMT</td>\n",
       "      <td>application/octet-stream</td>\n",
       "      <td>1377793</td>\n",
       "      <td>BlockBlob</td>\n",
       "    </tr>\n",
       "    <tr>\n",
       "      <th>6</th>\n",
       "      <td>axavier/sampling/sample3.txt</td>\n",
       "      <td>Fri, 13 Nov 2015 00:39:40 GMT</td>\n",
       "      <td>application/octet-stream</td>\n",
       "      <td>1377793</td>\n",
       "      <td>BlockBlob</td>\n",
       "    </tr>\n",
       "    <tr>\n",
       "      <th>7</th>\n",
       "      <td>axavier/sampling/sample4.txt</td>\n",
       "      <td>Fri, 13 Nov 2015 00:41:49 GMT</td>\n",
       "      <td>application/octet-stream</td>\n",
       "      <td>1377793</td>\n",
       "      <td>BlockBlob</td>\n",
       "    </tr>\n",
       "    <tr>\n",
       "      <th>8</th>\n",
       "      <td>axavier/sampling/sampled4_2015.txt</td>\n",
       "      <td>Fri, 13 Nov 2015 00:50:20 GMT</td>\n",
       "      <td></td>\n",
       "      <td>0</td>\n",
       "      <td>BlockBlob</td>\n",
       "    </tr>\n",
       "    <tr>\n",
       "      <th>9</th>\n",
       "      <td>axavier/sampling/sampled4_2015.txt/_SUCCESS</td>\n",
       "      <td>Fri, 13 Nov 2015 00:50:20 GMT</td>\n",
       "      <td>application/octet-stream</td>\n",
       "      <td>0</td>\n",
       "      <td>BlockBlob</td>\n",
       "    </tr>\n",
       "    <tr>\n",
       "      <th>10</th>\n",
       "      <td>axavier/sampling/sampled4_2015.txt/part-m-00000</td>\n",
       "      <td>Fri, 13 Nov 2015 00:50:19 GMT</td>\n",
       "      <td>application/octet-stream</td>\n",
       "      <td>1277794</td>\n",
       "      <td>BlockBlob</td>\n",
       "    </tr>\n",
       "    <tr>\n",
       "      <th>11</th>\n",
       "      <td>axavier/sampling/sampled_rs4_2015.txt</td>\n",
       "      <td>Fri, 13 Nov 2015 01:04:51 GMT</td>\n",
       "      <td></td>\n",
       "      <td>0</td>\n",
       "      <td>BlockBlob</td>\n",
       "    </tr>\n",
       "    <tr>\n",
       "      <th>12</th>\n",
       "      <td>axavier/sampling/sampled_rs4_2015.txt/_SUCCESS</td>\n",
       "      <td>Fri, 13 Nov 2015 01:04:51 GMT</td>\n",
       "      <td>application/octet-stream</td>\n",
       "      <td>0</td>\n",
       "      <td>BlockBlob</td>\n",
       "    </tr>\n",
       "    <tr>\n",
       "      <th>13</th>\n",
       "      <td>axavier/sampling/sampled_rs4_2015.txt/part-m-0...</td>\n",
       "      <td>Fri, 13 Nov 2015 01:04:50 GMT</td>\n",
       "      <td>application/octet-stream</td>\n",
       "      <td>1277794</td>\n",
       "      <td>BlockBlob</td>\n",
       "    </tr>\n",
       "    <tr>\n",
       "      <th>14</th>\n",
       "      <td>axavier/sampling/sampled_srs4_2015.txt</td>\n",
       "      <td>Fri, 13 Nov 2015 00:56:09 GMT</td>\n",
       "      <td></td>\n",
       "      <td>0</td>\n",
       "      <td>BlockBlob</td>\n",
       "    </tr>\n",
       "    <tr>\n",
       "      <th>15</th>\n",
       "      <td>axavier/sampling/sampled_srs4_2015.txt/_SUCCESS</td>\n",
       "      <td>Fri, 13 Nov 2015 00:56:09 GMT</td>\n",
       "      <td>application/octet-stream</td>\n",
       "      <td>0</td>\n",
       "      <td>BlockBlob</td>\n",
       "    </tr>\n",
       "    <tr>\n",
       "      <th>16</th>\n",
       "      <td>axavier/sampling/sampled_srs4_2015.txt/part-m-...</td>\n",
       "      <td>Fri, 13 Nov 2015 00:56:09 GMT</td>\n",
       "      <td>application/octet-stream</td>\n",
       "      <td>1277794</td>\n",
       "      <td>BlockBlob</td>\n",
       "    </tr>\n",
       "    <tr>\n",
       "      <th>17</th>\n",
       "      <td>axavier/sampling/sampled_srs_2015.txt</td>\n",
       "      <td>Fri, 13 Nov 2015 00:52:34 GMT</td>\n",
       "      <td></td>\n",
       "      <td>0</td>\n",
       "      <td>BlockBlob</td>\n",
       "    </tr>\n",
       "    <tr>\n",
       "      <th>18</th>\n",
       "      <td>axavier/sampling/sampled_srs_2015.txt/_SUCCESS</td>\n",
       "      <td>Fri, 13 Nov 2015 00:52:34 GMT</td>\n",
       "      <td>application/octet-stream</td>\n",
       "      <td>0</td>\n",
       "      <td>BlockBlob</td>\n",
       "    </tr>\n",
       "    <tr>\n",
       "      <th>19</th>\n",
       "      <td>axavier/sampling/sampled_srs_2015.txt/part-m-0...</td>\n",
       "      <td>Fri, 13 Nov 2015 00:52:34 GMT</td>\n",
       "      <td>application/octet-stream</td>\n",
       "      <td>1277794</td>\n",
       "      <td>BlockBlob</td>\n",
       "    </tr>\n",
       "  </tbody>\n",
       "</table>\n",
       "</div>"
      ],
      "text/plain": [
       "                                                 name  \\\n",
       "0                   axavier/sampling/datafu-1.2.0.jar   \n",
       "1           axavier/sampling/out_sampled_rs4_2015.txt   \n",
       "2   axavier/sampling/out_sampled_rs4_2015.txt/_SUC...   \n",
       "3   axavier/sampling/out_sampled_rs4_2015.txt/part...   \n",
       "4                         axavier/sampling/sample.txt   \n",
       "5                        axavier/sampling/sample2.txt   \n",
       "6                        axavier/sampling/sample3.txt   \n",
       "7                        axavier/sampling/sample4.txt   \n",
       "8                  axavier/sampling/sampled4_2015.txt   \n",
       "9         axavier/sampling/sampled4_2015.txt/_SUCCESS   \n",
       "10    axavier/sampling/sampled4_2015.txt/part-m-00000   \n",
       "11              axavier/sampling/sampled_rs4_2015.txt   \n",
       "12     axavier/sampling/sampled_rs4_2015.txt/_SUCCESS   \n",
       "13  axavier/sampling/sampled_rs4_2015.txt/part-m-0...   \n",
       "14             axavier/sampling/sampled_srs4_2015.txt   \n",
       "15    axavier/sampling/sampled_srs4_2015.txt/_SUCCESS   \n",
       "16  axavier/sampling/sampled_srs4_2015.txt/part-m-...   \n",
       "17              axavier/sampling/sampled_srs_2015.txt   \n",
       "18     axavier/sampling/sampled_srs_2015.txt/_SUCCESS   \n",
       "19  axavier/sampling/sampled_srs_2015.txt/part-m-0...   \n",
       "\n",
       "                    last_modified              content_type  content_length  \\\n",
       "0   Fri, 13 Nov 2015 00:03:49 GMT  application/octet-stream         1600826   \n",
       "1   Fri, 13 Nov 2015 01:08:22 GMT                                         0   \n",
       "2   Fri, 13 Nov 2015 01:08:22 GMT  application/octet-stream               0   \n",
       "3   Fri, 13 Nov 2015 01:08:21 GMT  application/octet-stream           12785   \n",
       "4   Fri, 13 Nov 2015 00:02:50 GMT  application/octet-stream         1377780   \n",
       "5   Fri, 13 Nov 2015 00:35:55 GMT  application/octet-stream         1377793   \n",
       "6   Fri, 13 Nov 2015 00:39:40 GMT  application/octet-stream         1377793   \n",
       "7   Fri, 13 Nov 2015 00:41:49 GMT  application/octet-stream         1377793   \n",
       "8   Fri, 13 Nov 2015 00:50:20 GMT                                         0   \n",
       "9   Fri, 13 Nov 2015 00:50:20 GMT  application/octet-stream               0   \n",
       "10  Fri, 13 Nov 2015 00:50:19 GMT  application/octet-stream         1277794   \n",
       "11  Fri, 13 Nov 2015 01:04:51 GMT                                         0   \n",
       "12  Fri, 13 Nov 2015 01:04:51 GMT  application/octet-stream               0   \n",
       "13  Fri, 13 Nov 2015 01:04:50 GMT  application/octet-stream         1277794   \n",
       "14  Fri, 13 Nov 2015 00:56:09 GMT                                         0   \n",
       "15  Fri, 13 Nov 2015 00:56:09 GMT  application/octet-stream               0   \n",
       "16  Fri, 13 Nov 2015 00:56:09 GMT  application/octet-stream         1277794   \n",
       "17  Fri, 13 Nov 2015 00:52:34 GMT                                         0   \n",
       "18  Fri, 13 Nov 2015 00:52:34 GMT  application/octet-stream               0   \n",
       "19  Fri, 13 Nov 2015 00:52:34 GMT  application/octet-stream         1277794   \n",
       "\n",
       "    blob_type  \n",
       "0   BlockBlob  \n",
       "1   BlockBlob  \n",
       "2   BlockBlob  \n",
       "3   BlockBlob  \n",
       "4   BlockBlob  \n",
       "5   BlockBlob  \n",
       "6   BlockBlob  \n",
       "7   BlockBlob  \n",
       "8   BlockBlob  \n",
       "9   BlockBlob  \n",
       "10  BlockBlob  \n",
       "11  BlockBlob  \n",
       "12  BlockBlob  \n",
       "13  BlockBlob  \n",
       "14  BlockBlob  \n",
       "15  BlockBlob  \n",
       "16  BlockBlob  \n",
       "17  BlockBlob  \n",
       "18  BlockBlob  \n",
       "19  BlockBlob  "
      ]
     },
     "execution_count": 274,
     "metadata": {},
     "output_type": "execute_result"
    }
   ],
   "source": [
    "%blob_ls /$PSEUDO/sampling"
   ]
  },
  {
   "cell_type": "code",
   "execution_count": 278,
   "metadata": {
    "collapsed": false
   },
   "outputs": [
    {
     "data": {
      "text/plain": [
       "'out_sampled_rs4_2015.txt'"
      ]
     },
     "execution_count": 278,
     "metadata": {},
     "output_type": "execute_result"
    }
   ],
   "source": [
    "%blob_downmerge /$PSEUDO/sampling/out_sampled_rs4_2015.txt out_sampled_rs4_2015.txt -o"
   ]
  },
  {
   "cell_type": "code",
   "execution_count": 279,
   "metadata": {
    "collapsed": false
   },
   "outputs": [
    {
     "data": {
      "text/html": [
       "<pre>\n",
       "90648\tM90648\n",
       "49678\tS49678\n",
       "41434\tQ41434\n",
       "30149\tP30149\n",
       "15836\tC15836\n",
       "61110\tK61110\n",
       "3838\tQ3838\n",
       "81515\tF81515\n",
       "48052\tE48052\n",
       "16332\tE16332\n",
       "\n",
       "</pre>"
      ],
      "text/plain": [
       "<IPython.core.display.HTML object>"
      ]
     },
     "execution_count": 279,
     "metadata": {},
     "output_type": "execute_result"
    }
   ],
   "source": [
    "%head out_sampled_rs4_2015.txt"
   ]
  },
  {
   "cell_type": "markdown",
   "metadata": {},
   "source": [
    "## fin"
   ]
  },
  {
   "cell_type": "code",
   "execution_count": 280,
   "metadata": {
    "collapsed": false
   },
   "outputs": [
    {
     "data": {
      "text/plain": [
       "True"
      ]
     },
     "execution_count": 280,
     "metadata": {},
     "output_type": "execute_result"
    }
   ],
   "source": [
    "%blob_close"
   ]
  },
  {
   "cell_type": "markdown",
   "metadata": {
    "collapsed": true
   },
   "source": [
    "## version avec itérateur"
   ]
  },
  {
   "cell_type": "code",
   "execution_count": null,
   "metadata": {
    "collapsed": true
   },
   "outputs": [],
   "source": []
  }
 ],
 "metadata": {
  "kernelspec": {
   "display_name": "Python 3",
   "language": "python",
   "name": "python3"
  },
  "language_info": {
   "codemirror_mode": {
    "name": "ipython",
    "version": 3
   },
   "file_extension": ".py",
   "mimetype": "text/x-python",
   "name": "python",
   "nbconvert_exporter": "python",
   "pygments_lexer": "ipython3",
   "version": "3.4.3"
  }
 },
 "nbformat": 4,
 "nbformat_minor": 0
}
