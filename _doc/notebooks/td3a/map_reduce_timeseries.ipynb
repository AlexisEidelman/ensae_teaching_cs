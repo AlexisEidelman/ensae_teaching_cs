{
  "cells": [
    {
      "cell_type": "markdown",
      "metadata": {},
      "source": [
        "# S\u00e9ries temporelles et map reduce"
      ]
    },
    {
      "cell_type": "code",
      "execution_count": null,
      "metadata": {
        "ExecuteTime": {
          "end_time": "2016-11-06T15:12:27.577069",
          "start_time": "2016-11-06T15:12:27.568568"
        },
        "collapsed": false
      },
      "outputs": [
        {
          "data": {
            "text/html": [
              "<div id=\"my_id_menu_nb\">run previous cell, wait for 2 seconds</div>\n",
              "<script>\n",
              "function repeat_indent_string(n){\n",
              "    var a = \"\" ;\n",
              "    for ( ; n > 0 ; --n) {\n",
              "        a += \"    \";\n",
              "    }\n",
              "    return a;\n",
              "}\n",
              "var update_menu_string = function(begin, lfirst, llast, sformat, send, keep_item) {\n",
              "    var anchors = document.getElementsByClassName(\"section\");\n",
              "    if (anchors.length == 0) {\n",
              "        anchors = document.getElementsByClassName(\"text_cell_render rendered_html\");\n",
              "    }\n",
              "    var i,t;\n",
              "    var text_menu = begin;\n",
              "    var text_memo = \"<pre>\\nlength:\" + anchors.length + \"\\n\";\n",
              "    var ind = \"\";\n",
              "    var memo_level = 1;\n",
              "    var href;\n",
              "    var tags = [];\n",
              "    var main_item = 0;\n",
              "    for (i = 0; i <= llast; i++) {\n",
              "        tags.push(\"h\" + i);\n",
              "    }\n",
              "\n",
              "    for (i = 0; i < anchors.length; i++) {\n",
              "        text_memo += \"**\" + anchors[i].id + \"--\\n\";\n",
              "\n",
              "        var child = null;\n",
              "        for(t = 0; t < tags.length; t++) {\n",
              "            var r = anchors[i].getElementsByTagName(tags[t]);\n",
              "            if (r.length > 0) {\n",
              "child = r[0];\n",
              "break;\n",
              "            }\n",
              "        }\n",
              "        if (child == null){\n",
              "            text_memo += \"null\\n\";\n",
              "            continue;\n",
              "        }\n",
              "        if (anchors[i].hasAttribute(\"id\")) {\n",
              "            // when converted in RST\n",
              "            href = anchors[i].id;\n",
              "            text_memo += \"#1-\" + href;\n",
              "            // passer \u00e0 child suivant (le chercher)\n",
              "        }\n",
              "        else if (child.hasAttribute(\"id\")) {\n",
              "            // in a notebook\n",
              "            href = child.id;\n",
              "            text_memo += \"#2-\" + href;\n",
              "        }\n",
              "        else {\n",
              "            text_memo += \"#3-\" + \"*\" + \"\\n\";\n",
              "            continue;\n",
              "        }\n",
              "        var title = child.textContent;\n",
              "        var level = parseInt(child.tagName.substring(1,2));\n",
              "\n",
              "        text_memo += \"--\" + level + \"?\" + lfirst + \"--\" + title + \"\\n\";\n",
              "\n",
              "        if ((level < lfirst) || (level > llast)) {\n",
              "            continue ;\n",
              "        }\n",
              "        if (title.endsWith('\u00b6')) {\n",
              "            title = title.substring(0,title.length-1).replace(\"<\", \"&lt;\").replace(\">\", \"&gt;\").replace(\"&\", \"&amp;\")\n",
              "        }\n",
              "\n",
              "        if (title.length == 0) {\n",
              "            continue;\n",
              "        }\n",
              "\n",
              "        while (level < memo_level) {\n",
              "            text_menu += \"</ul>\\n\";\n",
              "            memo_level -= 1;\n",
              "        }\n",
              "        if (level == lfirst) {\n",
              "            main_item += 1;\n",
              "        }\n",
              "        if (keep_item != -1 && main_item != keep_item + 1) {\n",
              "            // alert(main_item + \" - \" + level + \" - \" + keep_item);\n",
              "            continue;\n",
              "        }\n",
              "        while (level > memo_level) {\n",
              "            text_menu += \"<ul>\\n\";\n",
              "            memo_level += 1;\n",
              "        }\n",
              "        text_menu += repeat_indent_string(level-2) + sformat.replace(\"__HREF__\", href).replace(\"__TITLE__\", title);\n",
              "    }\n",
              "    while (1 < memo_level) {\n",
              "        text_menu += \"</ul>\\n\";\n",
              "        memo_level -= 1;\n",
              "    }\n",
              "    text_menu += send;\n",
              "    //text_menu += \"\\n\" + text_memo;\n",
              "    return text_menu;\n",
              "};\n",
              "var update_menu = function() {\n",
              "    var sbegin = \"\";\n",
              "    var sformat = '<li><a href=\"#__HREF__\">__TITLE__</a></li>';\n",
              "    var send = \"\";\n",
              "    var keep_item = -1;\n",
              "    var text_menu = update_menu_string(sbegin, 2, 4, sformat, send, keep_item);\n",
              "    var menu = document.getElementById(\"my_id_menu_nb\");\n",
              "    menu.innerHTML=text_menu;\n",
              "};\n",
              "window.setTimeout(update_menu,2000);\n",
              "            </script>"
            ],
            "text/plain": [
              "<IPython.core.display.HTML object>"
            ]
          },
          "execution_count": null,
          "metadata": {},
          "output_type": "execute_result"
        }
      ],
      "source": [
        "from jyquickhelper import add_notebook_menu\n",
        "add_notebook_menu()"
      ]
    },
    {
      "cell_type": "markdown",
      "metadata": {},
      "source": [
        "On souhaite simplement calculer la d\u00e9riv\u00e9e de la s\u00e9rie temporelle : $\\Delta Y_t = Y_t - Y_{t-1}$."
      ]
    },
    {
      "cell_type": "code",
      "execution_count": null,
      "metadata": {
        "ExecuteTime": {
          "end_time": "2016-11-06T13:23:09.162438",
          "start_time": "2016-11-06T13:23:08.659707"
        },
        "collapsed": true
      },
      "outputs": [],
      "source": [
        "%matplotlib inline"
      ]
    },
    {
      "cell_type": "markdown",
      "metadata": {
        "ExecuteTime": {
          "end_time": "2016-11-05T23:12:25.652561",
          "start_time": "2016-11-05T23:12:25.627558"
        }
      },
      "source": [
        "## Data"
      ]
    },
    {
      "cell_type": "code",
      "execution_count": null,
      "metadata": {
        "ExecuteTime": {
          "end_time": "2016-11-06T13:23:09.625559",
          "start_time": "2016-11-06T13:23:09.167444"
        },
        "collapsed": false
      },
      "outputs": [
        {
          "data": {
            "text/html": [
              "<div>\n",
              "<table border=\"1\" class=\"dataframe\">\n",
              "  <thead>\n",
              "    <tr style=\"text-align: right;\">\n",
              "      <th></th>\n",
              "      <th>Date</th>\n",
              "      <th>Open</th>\n",
              "      <th>High</th>\n",
              "      <th>Low</th>\n",
              "      <th>Close</th>\n",
              "      <th>Volume</th>\n",
              "      <th>Adj Close</th>\n",
              "    </tr>\n",
              "    <tr>\n",
              "      <th>Date</th>\n",
              "      <th></th>\n",
              "      <th></th>\n",
              "      <th></th>\n",
              "      <th></th>\n",
              "      <th></th>\n",
              "      <th></th>\n",
              "      <th></th>\n",
              "    </tr>\n",
              "  </thead>\n",
              "  <tbody>\n",
              "    <tr>\n",
              "      <th>2016-10-31</th>\n",
              "      <td>2016-10-31</td>\n",
              "      <td>35.735</td>\n",
              "      <td>36.060</td>\n",
              "      <td>35.34</td>\n",
              "      <td>35.560</td>\n",
              "      <td>3056400</td>\n",
              "      <td>35.560</td>\n",
              "    </tr>\n",
              "    <tr>\n",
              "      <th>2016-11-01</th>\n",
              "      <td>2016-11-01</td>\n",
              "      <td>35.680</td>\n",
              "      <td>35.925</td>\n",
              "      <td>34.93</td>\n",
              "      <td>35.015</td>\n",
              "      <td>2831100</td>\n",
              "      <td>35.015</td>\n",
              "    </tr>\n",
              "    <tr>\n",
              "      <th>2016-11-02</th>\n",
              "      <td>2016-11-02</td>\n",
              "      <td>34.750</td>\n",
              "      <td>34.750</td>\n",
              "      <td>33.99</td>\n",
              "      <td>34.185</td>\n",
              "      <td>3927200</td>\n",
              "      <td>34.185</td>\n",
              "    </tr>\n",
              "    <tr>\n",
              "      <th>2016-11-03</th>\n",
              "      <td>2016-11-03</td>\n",
              "      <td>35.250</td>\n",
              "      <td>36.700</td>\n",
              "      <td>34.95</td>\n",
              "      <td>36.070</td>\n",
              "      <td>7606800</td>\n",
              "      <td>36.070</td>\n",
              "    </tr>\n",
              "    <tr>\n",
              "      <th>2016-11-04</th>\n",
              "      <td>2016-11-04</td>\n",
              "      <td>36.000</td>\n",
              "      <td>36.080</td>\n",
              "      <td>35.26</td>\n",
              "      <td>35.580</td>\n",
              "      <td>4415800</td>\n",
              "      <td>35.580</td>\n",
              "    </tr>\n",
              "  </tbody>\n",
              "</table>\n",
              "</div>"
            ],
            "text/plain": [
              "                  Date    Open    High    Low   Close   Volume  Adj Close\n",
              "Date                                                                     \n",
              "2016-10-31  2016-10-31  35.735  36.060  35.34  35.560  3056400     35.560\n",
              "2016-11-01  2016-11-01  35.680  35.925  34.93  35.015  2831100     35.015\n",
              "2016-11-02  2016-11-02  34.750  34.750  33.99  34.185  3927200     34.185\n",
              "2016-11-03  2016-11-03  35.250  36.700  34.95  36.070  7606800     36.070\n",
              "2016-11-04  2016-11-04  36.000  36.080  35.26  35.580  4415800     35.580"
            ]
          },
          "execution_count": null,
          "metadata": {},
          "output_type": "execute_result"
        }
      ],
      "source": [
        "from pyensae.finance import StockPrices\n",
        "stock = StockPrices(\"GLE.PA\", folder=\".\")\n",
        "stock.tail()"
      ]
    },
    {
      "cell_type": "markdown",
      "metadata": {},
      "source": [
        "On cr\u00e9e une colonne suppl\u00e9mentaire pour l'indice $t$ de la s\u00e9rie temporelle :"
      ]
    },
    {
      "cell_type": "code",
      "execution_count": null,
      "metadata": {
        "ExecuteTime": {
          "end_time": "2016-11-06T13:23:09.646555",
          "start_time": "2016-11-06T13:23:09.629556"
        },
        "collapsed": false
      },
      "outputs": [
        {
          "data": {
            "text/html": [
              "<div>\n",
              "<table border=\"1\" class=\"dataframe\">\n",
              "  <thead>\n",
              "    <tr style=\"text-align: right;\">\n",
              "      <th></th>\n",
              "      <th>Close</th>\n",
              "    </tr>\n",
              "  </thead>\n",
              "  <tbody>\n",
              "    <tr>\n",
              "      <th>4380</th>\n",
              "      <td>35.560</td>\n",
              "    </tr>\n",
              "    <tr>\n",
              "      <th>4381</th>\n",
              "      <td>35.015</td>\n",
              "    </tr>\n",
              "    <tr>\n",
              "      <th>4382</th>\n",
              "      <td>34.185</td>\n",
              "    </tr>\n",
              "    <tr>\n",
              "      <th>4383</th>\n",
              "      <td>36.070</td>\n",
              "    </tr>\n",
              "    <tr>\n",
              "      <th>4384</th>\n",
              "      <td>35.580</td>\n",
              "    </tr>\n",
              "  </tbody>\n",
              "</table>\n",
              "</div>"
            ],
            "text/plain": [
              "       Close\n",
              "4380  35.560\n",
              "4381  35.015\n",
              "4382  34.185\n",
              "4383  36.070\n",
              "4384  35.580"
            ]
          },
          "execution_count": null,
          "metadata": {},
          "output_type": "execute_result"
        }
      ],
      "source": [
        "dt = stock.df()\n",
        "dt = dt[[\"Close\"]]\n",
        "dt = dt.reset_index(drop=True)\n",
        "data = dt\n",
        "dt.tail()"
      ]
    },
    {
      "cell_type": "markdown",
      "metadata": {},
      "source": [
        "La fonction [shift](http://pandas.pydata.org/pandas-docs/stable/generated/pandas.DataFrame.shift.html) rend le calcul tr\u00e8s simple avec pandas."
      ]
    },
    {
      "cell_type": "code",
      "execution_count": null,
      "metadata": {
        "ExecuteTime": {
          "end_time": "2016-11-06T13:23:09.686066",
          "start_time": "2016-11-06T13:23:09.650558"
        },
        "collapsed": false
      },
      "outputs": [
        {
          "data": {
            "text/html": [
              "<div>\n",
              "<table border=\"1\" class=\"dataframe\">\n",
              "  <thead>\n",
              "    <tr style=\"text-align: right;\">\n",
              "      <th></th>\n",
              "      <th>Close</th>\n",
              "      <th>Close2</th>\n",
              "      <th>delta</th>\n",
              "    </tr>\n",
              "  </thead>\n",
              "  <tbody>\n",
              "    <tr>\n",
              "      <th>4380</th>\n",
              "      <td>35.560</td>\n",
              "      <td>36.105</td>\n",
              "      <td>-0.545</td>\n",
              "    </tr>\n",
              "    <tr>\n",
              "      <th>4381</th>\n",
              "      <td>35.015</td>\n",
              "      <td>35.560</td>\n",
              "      <td>-0.545</td>\n",
              "    </tr>\n",
              "    <tr>\n",
              "      <th>4382</th>\n",
              "      <td>34.185</td>\n",
              "      <td>35.015</td>\n",
              "      <td>-0.830</td>\n",
              "    </tr>\n",
              "    <tr>\n",
              "      <th>4383</th>\n",
              "      <td>36.070</td>\n",
              "      <td>34.185</td>\n",
              "      <td>1.885</td>\n",
              "    </tr>\n",
              "    <tr>\n",
              "      <th>4384</th>\n",
              "      <td>35.580</td>\n",
              "      <td>36.070</td>\n",
              "      <td>-0.490</td>\n",
              "    </tr>\n",
              "  </tbody>\n",
              "</table>\n",
              "</div>"
            ],
            "text/plain": [
              "       Close  Close2  delta\n",
              "4380  35.560  36.105 -0.545\n",
              "4381  35.015  35.560 -0.545\n",
              "4382  34.185  35.015 -0.830\n",
              "4383  36.070  34.185  1.885\n",
              "4384  35.580  36.070 -0.490"
            ]
          },
          "execution_count": null,
          "metadata": {},
          "output_type": "execute_result"
        }
      ],
      "source": [
        "data_pandas = data.copy()\n",
        "data_pandas[\"Close2\"] = data.shift(1)\n",
        "data_pandas[\"delta\"] = data_pandas[\"Close\"] - data_pandas[\"Close2\"]\n",
        "data_pandas.tail()"
      ]
    },
    {
      "cell_type": "markdown",
      "metadata": {},
      "source": [
        "La fonction est tr\u00e8s rapide car elle utilise l'ordre des donn\u00e9es et son index. Pour s'en passer, on ajoute une colonne qui contient l'index original puis on m\u00e9lange pour simuler le fait qu'en map/reduce, l'ordre des informations n'est pas connu \u00e0 l'avance."
      ]
    },
    {
      "cell_type": "code",
      "execution_count": null,
      "metadata": {
        "ExecuteTime": {
          "end_time": "2016-11-06T13:23:09.719069",
          "start_time": "2016-11-06T13:23:09.689067"
        },
        "collapsed": false
      },
      "outputs": [
        {
          "data": {
            "text/html": [
              "<div>\n",
              "<table border=\"1\" class=\"dataframe\">\n",
              "  <thead>\n",
              "    <tr style=\"text-align: right;\">\n",
              "      <th></th>\n",
              "      <th>t</th>\n",
              "      <th>close</th>\n",
              "    </tr>\n",
              "  </thead>\n",
              "  <tbody>\n",
              "    <tr>\n",
              "      <th>4380</th>\n",
              "      <td>3407</td>\n",
              "      <td>31.5000</td>\n",
              "    </tr>\n",
              "    <tr>\n",
              "      <th>4381</th>\n",
              "      <td>100</td>\n",
              "      <td>62.6493</td>\n",
              "    </tr>\n",
              "    <tr>\n",
              "      <th>4382</th>\n",
              "      <td>4317</td>\n",
              "      <td>29.4150</td>\n",
              "    </tr>\n",
              "    <tr>\n",
              "      <th>4383</th>\n",
              "      <td>2658</td>\n",
              "      <td>46.1600</td>\n",
              "    </tr>\n",
              "    <tr>\n",
              "      <th>4384</th>\n",
              "      <td>1646</td>\n",
              "      <td>114.6830</td>\n",
              "    </tr>\n",
              "  </tbody>\n",
              "</table>\n",
              "</div>"
            ],
            "text/plain": [
              "         t     close\n",
              "4380  3407   31.5000\n",
              "4381   100   62.6493\n",
              "4382  4317   29.4150\n",
              "4383  2658   46.1600\n",
              "4384  1646  114.6830"
            ]
          },
          "execution_count": null,
          "metadata": {},
          "output_type": "execute_result"
        }
      ],
      "source": [
        "import numpy\n",
        "data = dt.reindex(numpy.random.permutation(data.index))\n",
        "data = data.reset_index(drop=False)\n",
        "data.columns = [\"t\", \"close\"]\n",
        "data.tail()"
      ]
    },
    {
      "cell_type": "markdown",
      "metadata": {},
      "source": [
        "## D\u00e9riv\u00e9e avec pandas"
      ]
    },
    {
      "cell_type": "markdown",
      "metadata": {},
      "source": [
        "Le traitement de chaque ligne est ind\u00e9pendant et ne doit pas prendre en compte aucune autre ligne mais on a besoin de $Y_{t-1}$ pour calculer $\\Delta Y_t$. "
      ]
    },
    {
      "cell_type": "code",
      "execution_count": null,
      "metadata": {
        "ExecuteTime": {
          "end_time": "2016-11-06T13:23:09.744065",
          "start_time": "2016-11-06T13:23:09.723070"
        },
        "collapsed": true
      },
      "outputs": [],
      "source": [
        "data[\"tt\"] = data[\"t\"] - 1 "
      ]
    },
    {
      "cell_type": "markdown",
      "metadata": {},
      "source": [
        "### m\u00e9thode efficace\n",
        "\n",
        "Lors d'une jointure, [pandas](http://pandas.pydata.org/) va trier chaque c\u00f4t\u00e9 de la jointure par ordre croissant de cl\u00e9. S'il y a $N$ observations, cela a un co\u00fbt de $N\\ln N$, il r\u00e9alise ensuite une fusion des deux bases en ne consid\u00e9rant que les lignes partageant la m\u00eame cl\u00e9. Cette fa\u00e7on de faire ne convient que lorsqu'on fait une jointure avec une condition n'incluant que des ET logique et des \u00e9galit\u00e9s."
      ]
    },
    {
      "cell_type": "code",
      "execution_count": null,
      "metadata": {
        "ExecuteTime": {
          "end_time": "2016-11-06T13:23:09.782092",
          "start_time": "2016-11-06T13:23:09.747575"
        },
        "collapsed": false
      },
      "outputs": [
        {
          "data": {
            "text/html": [
              "<div>\n",
              "<table border=\"1\" class=\"dataframe\">\n",
              "  <thead>\n",
              "    <tr style=\"text-align: right;\">\n",
              "      <th></th>\n",
              "      <th>t</th>\n",
              "      <th>close</th>\n",
              "      <th>tt</th>\n",
              "      <th>t2</th>\n",
              "      <th>close2</th>\n",
              "      <th>tt2</th>\n",
              "    </tr>\n",
              "  </thead>\n",
              "  <tbody>\n",
              "    <tr>\n",
              "      <th>4379</th>\n",
              "      <td>3407</td>\n",
              "      <td>31.5000</td>\n",
              "      <td>3406</td>\n",
              "      <td>3408</td>\n",
              "      <td>31.0550</td>\n",
              "      <td>3407</td>\n",
              "    </tr>\n",
              "    <tr>\n",
              "      <th>4380</th>\n",
              "      <td>100</td>\n",
              "      <td>62.6493</td>\n",
              "      <td>99</td>\n",
              "      <td>101</td>\n",
              "      <td>62.3649</td>\n",
              "      <td>100</td>\n",
              "    </tr>\n",
              "    <tr>\n",
              "      <th>4381</th>\n",
              "      <td>4317</td>\n",
              "      <td>29.4150</td>\n",
              "      <td>4316</td>\n",
              "      <td>4318</td>\n",
              "      <td>29.9450</td>\n",
              "      <td>4317</td>\n",
              "    </tr>\n",
              "    <tr>\n",
              "      <th>4382</th>\n",
              "      <td>2658</td>\n",
              "      <td>46.1600</td>\n",
              "      <td>2657</td>\n",
              "      <td>2659</td>\n",
              "      <td>46.5000</td>\n",
              "      <td>2658</td>\n",
              "    </tr>\n",
              "    <tr>\n",
              "      <th>4383</th>\n",
              "      <td>1646</td>\n",
              "      <td>114.6830</td>\n",
              "      <td>1645</td>\n",
              "      <td>1647</td>\n",
              "      <td>114.6830</td>\n",
              "      <td>1646</td>\n",
              "    </tr>\n",
              "  </tbody>\n",
              "</table>\n",
              "</div>"
            ],
            "text/plain": [
              "         t     close    tt    t2    close2   tt2\n",
              "4379  3407   31.5000  3406  3408   31.0550  3407\n",
              "4380   100   62.6493    99   101   62.3649   100\n",
              "4381  4317   29.4150  4316  4318   29.9450  4317\n",
              "4382  2658   46.1600  2657  2659   46.5000  2658\n",
              "4383  1646  114.6830  1645  1647  114.6830  1646"
            ]
          },
          "execution_count": null,
          "metadata": {},
          "output_type": "execute_result"
        }
      ],
      "source": [
        "join = data.merge(data, left_on=\"t\", right_on=\"tt\", suffixes=(\"\", \"2\"))\n",
        "join.tail()"
      ]
    },
    {
      "cell_type": "code",
      "execution_count": null,
      "metadata": {
        "ExecuteTime": {
          "end_time": "2016-11-06T13:23:09.815090",
          "start_time": "2016-11-06T13:23:09.786095"
        },
        "collapsed": false
      },
      "outputs": [
        {
          "data": {
            "text/html": [
              "<div>\n",
              "<table border=\"1\" class=\"dataframe\">\n",
              "  <thead>\n",
              "    <tr style=\"text-align: right;\">\n",
              "      <th></th>\n",
              "      <th>t</th>\n",
              "      <th>close</th>\n",
              "      <th>tt</th>\n",
              "      <th>t2</th>\n",
              "      <th>close2</th>\n",
              "      <th>tt2</th>\n",
              "      <th>derivee</th>\n",
              "    </tr>\n",
              "  </thead>\n",
              "  <tbody>\n",
              "    <tr>\n",
              "      <th>4379</th>\n",
              "      <td>3407</td>\n",
              "      <td>31.5000</td>\n",
              "      <td>3406</td>\n",
              "      <td>3408</td>\n",
              "      <td>31.0550</td>\n",
              "      <td>3407</td>\n",
              "      <td>0.4450</td>\n",
              "    </tr>\n",
              "    <tr>\n",
              "      <th>4380</th>\n",
              "      <td>100</td>\n",
              "      <td>62.6493</td>\n",
              "      <td>99</td>\n",
              "      <td>101</td>\n",
              "      <td>62.3649</td>\n",
              "      <td>100</td>\n",
              "      <td>0.2844</td>\n",
              "    </tr>\n",
              "    <tr>\n",
              "      <th>4381</th>\n",
              "      <td>4317</td>\n",
              "      <td>29.4150</td>\n",
              "      <td>4316</td>\n",
              "      <td>4318</td>\n",
              "      <td>29.9450</td>\n",
              "      <td>4317</td>\n",
              "      <td>-0.5300</td>\n",
              "    </tr>\n",
              "    <tr>\n",
              "      <th>4382</th>\n",
              "      <td>2658</td>\n",
              "      <td>46.1600</td>\n",
              "      <td>2657</td>\n",
              "      <td>2659</td>\n",
              "      <td>46.5000</td>\n",
              "      <td>2658</td>\n",
              "      <td>-0.3400</td>\n",
              "    </tr>\n",
              "    <tr>\n",
              "      <th>4383</th>\n",
              "      <td>1646</td>\n",
              "      <td>114.6830</td>\n",
              "      <td>1645</td>\n",
              "      <td>1647</td>\n",
              "      <td>114.6830</td>\n",
              "      <td>1646</td>\n",
              "      <td>0.0000</td>\n",
              "    </tr>\n",
              "  </tbody>\n",
              "</table>\n",
              "</div>"
            ],
            "text/plain": [
              "         t     close    tt    t2    close2   tt2  derivee\n",
              "4379  3407   31.5000  3406  3408   31.0550  3407   0.4450\n",
              "4380   100   62.6493    99   101   62.3649   100   0.2844\n",
              "4381  4317   29.4150  4316  4318   29.9450  4317  -0.5300\n",
              "4382  2658   46.1600  2657  2659   46.5000  2658  -0.3400\n",
              "4383  1646  114.6830  1645  1647  114.6830  1646   0.0000"
            ]
          },
          "execution_count": null,
          "metadata": {},
          "output_type": "execute_result"
        }
      ],
      "source": [
        "derivee = join.copy()\n",
        "derivee[\"derivee\"] = derivee[\"close\"] - derivee[\"close2\"]\n",
        "derivee.tail()"
      ]
    },
    {
      "cell_type": "markdown",
      "metadata": {},
      "source": [
        "En r\u00e9sum\u00e9 :"
      ]
    },
    {
      "cell_type": "code",
      "execution_count": null,
      "metadata": {
        "ExecuteTime": {
          "end_time": "2016-11-06T13:23:09.866116",
          "start_time": "2016-11-06T13:23:09.821092"
        },
        "collapsed": false
      },
      "outputs": [
        {
          "name": "stdout",
          "output_type": "stream",
          "text": [
            "(4384, 7)\n"
          ]
        },
        {
          "data": {
            "text/html": [
              "<div>\n",
              "<table border=\"1\" class=\"dataframe\">\n",
              "  <thead>\n",
              "    <tr style=\"text-align: right;\">\n",
              "      <th></th>\n",
              "      <th>t</th>\n",
              "      <th>close</th>\n",
              "      <th>tt</th>\n",
              "      <th>t2</th>\n",
              "      <th>close2</th>\n",
              "      <th>tt2</th>\n",
              "      <th>derivee</th>\n",
              "    </tr>\n",
              "  </thead>\n",
              "  <tbody>\n",
              "    <tr>\n",
              "      <th>4379</th>\n",
              "      <td>3407</td>\n",
              "      <td>31.5000</td>\n",
              "      <td>3408</td>\n",
              "      <td>3406</td>\n",
              "      <td>32.6550</td>\n",
              "      <td>3407</td>\n",
              "      <td>-1.1550</td>\n",
              "    </tr>\n",
              "    <tr>\n",
              "      <th>4380</th>\n",
              "      <td>100</td>\n",
              "      <td>62.6493</td>\n",
              "      <td>101</td>\n",
              "      <td>99</td>\n",
              "      <td>62.5545</td>\n",
              "      <td>100</td>\n",
              "      <td>0.0948</td>\n",
              "    </tr>\n",
              "    <tr>\n",
              "      <th>4381</th>\n",
              "      <td>4317</td>\n",
              "      <td>29.4150</td>\n",
              "      <td>4318</td>\n",
              "      <td>4316</td>\n",
              "      <td>28.5150</td>\n",
              "      <td>4317</td>\n",
              "      <td>0.9000</td>\n",
              "    </tr>\n",
              "    <tr>\n",
              "      <th>4382</th>\n",
              "      <td>2658</td>\n",
              "      <td>46.1600</td>\n",
              "      <td>2659</td>\n",
              "      <td>2657</td>\n",
              "      <td>45.6650</td>\n",
              "      <td>2658</td>\n",
              "      <td>0.4950</td>\n",
              "    </tr>\n",
              "    <tr>\n",
              "      <th>4383</th>\n",
              "      <td>1646</td>\n",
              "      <td>114.6830</td>\n",
              "      <td>1647</td>\n",
              "      <td>1645</td>\n",
              "      <td>116.1050</td>\n",
              "      <td>1646</td>\n",
              "      <td>-1.4220</td>\n",
              "    </tr>\n",
              "  </tbody>\n",
              "</table>\n",
              "</div>"
            ],
            "text/plain": [
              "         t     close    tt    t2    close2   tt2  derivee\n",
              "4379  3407   31.5000  3408  3406   32.6550  3407  -1.1550\n",
              "4380   100   62.6493   101    99   62.5545   100   0.0948\n",
              "4381  4317   29.4150  4318  4316   28.5150  4317   0.9000\n",
              "4382  2658   46.1600  2659  2657   45.6650  2658   0.4950\n",
              "4383  1646  114.6830  1647  1645  116.1050  1646  -1.4220"
            ]
          },
          "execution_count": null,
          "metadata": {},
          "output_type": "execute_result"
        }
      ],
      "source": [
        "new_data = data.copy()\n",
        "new_data[\"tt\"] = new_data[\"t\"] + 1  # MAP\n",
        "new_data = new_data.merge(new_data, left_on=\"t\", right_on=\"tt\", suffixes=(\"\", \"2\")) # JOIN = SORT + MAP + REDUCE\n",
        "new_data[\"derivee\"] = new_data[\"close\"] - new_data[\"close2\"] # MAP\n",
        "print(new_data.shape)\n",
        "new_data.tail()"
      ]
    },
    {
      "cell_type": "markdown",
      "metadata": {},
      "source": [
        "### mesure de co\u00fbt\n",
        "\n",
        "La s\u00e9rie n'est pas assez longue pour observer la relation entre le temps de calcul et le nombre d'observations."
      ]
    },
    {
      "cell_type": "code",
      "execution_count": null,
      "metadata": {
        "ExecuteTime": {
          "end_time": "2016-11-06T13:23:09.882625",
          "start_time": "2016-11-06T13:23:09.872114"
        },
        "collapsed": true
      },
      "outputs": [],
      "source": [
        "def derive(data):\n",
        "    new_data = data.copy()\n",
        "    new_data[\"tt\"] = new_data[\"t\"] + 1  # MAP\n",
        "    new_data = new_data.merge(new_data, left_on=\"t\", right_on=\"tt\", suffixes=(\"\", \"2\")) # JOIN = MAP + REDUCE\n",
        "    new_data[\"derivee\"] = new_data[\"close\"] - new_data[\"close2\"] # MAP\n",
        "    return new_data"
      ]
    },
    {
      "cell_type": "markdown",
      "metadata": {},
      "source": [
        "On choisit une r\u00e9gression lin\u00e9aire de type [HuberRegressor](http://scikit-learn.org/stable/modules/generated/sklearn.linear_model.HuberRegressor.html#sklearn.linear_model.HuberRegressor) pour r\u00e9gresser $C(N) \\sim a N + b \\ln N + c N \\ln N + d$. Ce mod\u00e8le est beaucoup moins sensible aux points aberrants que les autres formes de r\u00e9gressions. On utilise cette r\u00e9gression avec le module [RobustLinearModels](http://statsmodels.sourceforge.net/stable/rlm.html) du module *statsmodels* pour calculer les p-values"
      ]
    },
    {
      "cell_type": "code",
      "execution_count": null,
      "metadata": {
        "ExecuteTime": {
          "end_time": "2016-11-06T13:23:15.446580",
          "start_time": "2016-11-06T13:23:09.886624"
        },
        "collapsed": false,
        "scrolled": false
      },
      "outputs": [
        {
          "name": "stdout",
          "output_type": "stream",
          "text": [
            "(91,) <class 'numpy.ndarray'>\n",
            "                    Robust linear Model Regression Results                    \n",
            "==============================================================================\n",
            "Dep. Variable:        processing time   No. Observations:                   91\n",
            "Model:                            RLM   Df Residuals:                       87\n",
            "Method:                          IRLS   Df Model:                            3\n",
            "Norm:                          HuberT                                         \n",
            "Scale Est.:                       mad                                         \n",
            "Cov Type:                          H1                                         \n",
            "Date:                Sun, 06 Nov 2016                                         \n",
            "Time:                        13:23:15                                         \n",
            "No. Iterations:                    33                                         \n",
            "==============================================================================\n",
            "                 coef    std err          z      P>|z|      [95.0% Conf. Int.]\n",
            "------------------------------------------------------------------------------\n",
            "logN           0.0022      0.002      1.164      0.244        -0.001     0.006\n",
            "N          -3.686e-06   4.32e-06     -0.853      0.394     -1.22e-05  4.79e-06\n",
            "NlogN        9.01e-07   1.04e-06      0.867      0.386     -1.14e-06  2.94e-06\n",
            "one           -0.0014      0.004     -0.318      0.751        -0.010     0.007\n",
            "==============================================================================\n",
            "\n",
            "If the model instance has been used for another fit with different fit\n",
            "parameters, then the fit options might not be the correct ones anymore .\n"
          ]
        },
        {
          "data": {
            "text/plain": [
              "<matplotlib.axes._subplots.AxesSubplot at 0x2701ff05160>"
            ]
          },
          "execution_count": null,
          "metadata": {},
          "output_type": "execute_result"
        },
        {
          "data": {
            "image/png": "[encoded data removed]",
            "text/plain": [
              "<matplotlib.figure.Figure at 0x2701fef95f8>"
            ]
          },
          "metadata": {},
          "output_type": "display_data"
        }
      ],
      "source": [
        "import time, pandas, numpy, sklearn.linear_model as lin\n",
        "import matplotlib.pyplot as plt\n",
        "import statsmodels.api as smapi\n",
        "from random import randint\n",
        "\n",
        "def graph_cout(data, h=100, nb=10, add_n2=False, derive=derive):\n",
        "    dh = len(data) // h\n",
        "    res = []\n",
        "    for n in range(max(dh, 500), len(data), dh):\n",
        "        df = data[0:n+randint(-10,10)]\n",
        "        mean = []\n",
        "        for i in range(0, nb):\n",
        "            t = time.clock()\n",
        "            derive(df)\n",
        "            dt = time.clock() - t\n",
        "            mean.append(dt)\n",
        "        res.append((n, mean[len(mean)//2]))\n",
        "    # stat\n",
        "    stat = pandas.DataFrame(res, columns=[\"N\", \"processing time\"])\n",
        "    stat[\"logN\"] = numpy.log(stat[\"N\"]) / numpy.log(10)\n",
        "    stat[\"NlogN\"] = stat[\"N\"] * stat[\"logN\"]\n",
        "    stat[\"N2\"] = stat[\"N\"] * stat[\"N\"]\n",
        "    # statsmodels\n",
        "    stat[\"one\"] = 1\n",
        "    X = stat[[\"logN\", \"N\", \"NlogN\", \"N2\", \"one\"]]\n",
        "    if not add_n2:\n",
        "        X = X.drop(\"N2\", axis=1)\n",
        "    rlm_model = smapi.RLM(stat[\"processing time\"], X, M=smapi.robust.norms.HuberT())\n",
        "    rlm_results = rlm_model.fit()\n",
        "    yp = rlm_results.predict(X)\n",
        "    print(yp.shape, type(yp))\n",
        "    stat[\"smooth\"] = yp\n",
        "    # graph\n",
        "    fig, ax = plt.subplots()\n",
        "    stat.plot(x=\"N\", y=[\"processing time\", \"smooth\"], ax=ax)\n",
        "    return ax, rlm_results\n",
        "\n",
        "ax, results = graph_cout(data)\n",
        "print(results.summary())\n",
        "ax"
      ]
    },
    {
      "cell_type": "markdown",
      "metadata": {},
      "source": [
        "Le co\u00fbt de l'algorithme est au moins lin\u00e9aire. Cela signifie que le co\u00fbt du calcul qu'on cherche \u00e0 mesurer est noy\u00e9 dans plein d'autres choses non n\u00e9gligeable. La valeur des coefficients n'indique pas grand chose car les variables $N$, $Nlog N$ \u00e9voluent sur des \u00e9chelles diff\u00e9rentes."
      ]
    },
    {
      "cell_type": "code",
      "execution_count": null,
      "metadata": {
        "ExecuteTime": {
          "end_time": "2016-11-06T13:24:13.215086",
          "start_time": "2016-11-06T13:23:15.449584"
        },
        "collapsed": false
      },
      "outputs": [
        {
          "name": "stdout",
          "output_type": "stream",
          "text": [
            "(24,) <class 'numpy.ndarray'>\n",
            "                    Robust linear Model Regression Results                    \n",
            "==============================================================================\n",
            "Dep. Variable:        processing time   No. Observations:                   24\n",
            "Model:                            RLM   Df Residuals:                       20\n",
            "Method:                          IRLS   Df Model:                            3\n",
            "Norm:                          HuberT                                         \n",
            "Scale Est.:                       mad                                         \n",
            "Cov Type:                          H1                                         \n",
            "Date:                Sun, 06 Nov 2016                                         \n",
            "Time:                        13:24:13                                         \n",
            "No. Iterations:                    30                                         \n",
            "==============================================================================\n",
            "                 coef    std err          z      P>|z|      [95.0% Conf. Int.]\n",
            "------------------------------------------------------------------------------\n",
            "logN          -0.0071      0.103     -0.068      0.945        -0.209     0.195\n",
            "N           4.874e-07   2.39e-06      0.204      0.838     -4.19e-06  5.17e-06\n",
            "NlogN      -8.595e-10   3.73e-07     -0.002      0.998     -7.33e-07  7.31e-07\n",
            "one            0.0250      0.462      0.054      0.957        -0.880     0.930\n",
            "==============================================================================\n",
            "\n",
            "If the model instance has been used for another fit with different fit\n",
            "parameters, then the fit options might not be the correct ones anymore .\n"
          ]
        },
        {
          "data": {
            "text/plain": [
              "<matplotlib.axes._subplots.AxesSubplot at 0x270201b7470>"
            ]
          },
          "execution_count": null,
          "metadata": {},
          "output_type": "execute_result"
        },
        {
          "data": {
            "image/png": "[encoded data removed]",
            "text/plain": [
              "<matplotlib.figure.Figure at 0x270201b9f60>"
            ]
          },
          "metadata": {},
          "output_type": "display_data"
        }
      ],
      "source": [
        "N = 1000000\n",
        "from random import random\n",
        "data2 = pandas.DataFrame({\"t\":range(0,N), \"close\": [random() for i in range(0, N)]})\n",
        "ax, stats = graph_cout(data2, h=25)\n",
        "print(stats.summary())\n",
        "ax"
      ]
    },
    {
      "cell_type": "markdown",
      "metadata": {},
      "source": [
        "Les r\u00e9sultats sont assez volatiles. Il faut regarder les intervalles de confiance et regarder lesquels n'incluent pas 0."
      ]
    },
    {
      "cell_type": "markdown",
      "metadata": {},
      "source": [
        "### m\u00e9thode inefficace\n",
        "\n",
        "Dans ce cas, on fait un produit en croix de toutes les lignes de la bases avec elles-m\u00eame puis on filtre le r\u00e9sultat pour ne garder que les lignes qui v\u00e9rifient la condition souhait\u00e9e quelle qu'elle soit. Le temps d'ex\u00e9cution est en $O(N^2)$ et la diff\u00e9rence est vite significative."
      ]
    },
    {
      "cell_type": "code",
      "execution_count": null,
      "metadata": {
        "ExecuteTime": {
          "end_time": "2016-11-06T13:24:15.953347",
          "start_time": "2016-11-06T13:24:13.219084"
        },
        "collapsed": false
      },
      "outputs": [
        {
          "name": "stdout",
          "output_type": "stream",
          "text": [
            "(19228225, 7)\n",
            "(4385, 7)\n"
          ]
        },
        {
          "data": {
            "text/html": [
              "<div>\n",
              "<table border=\"1\" class=\"dataframe\">\n",
              "  <thead>\n",
              "    <tr style=\"text-align: right;\">\n",
              "      <th></th>\n",
              "      <th>t</th>\n",
              "      <th>close</th>\n",
              "      <th>tt</th>\n",
              "      <th>key</th>\n",
              "      <th>t2</th>\n",
              "      <th>close2</th>\n",
              "      <th>tt2</th>\n",
              "      <th>derivee</th>\n",
              "    </tr>\n",
              "  </thead>\n",
              "  <tbody>\n",
              "    <tr>\n",
              "      <th>19210680</th>\n",
              "      <td>3407</td>\n",
              "      <td>31.5000</td>\n",
              "      <td>3408</td>\n",
              "      <td>1</td>\n",
              "      <td>3407</td>\n",
              "      <td>31.5000</td>\n",
              "      <td>3408</td>\n",
              "      <td>0</td>\n",
              "    </tr>\n",
              "    <tr>\n",
              "      <th>19215066</th>\n",
              "      <td>100</td>\n",
              "      <td>62.6493</td>\n",
              "      <td>101</td>\n",
              "      <td>1</td>\n",
              "      <td>100</td>\n",
              "      <td>62.6493</td>\n",
              "      <td>101</td>\n",
              "      <td>0</td>\n",
              "    </tr>\n",
              "    <tr>\n",
              "      <th>19219452</th>\n",
              "      <td>4317</td>\n",
              "      <td>29.4150</td>\n",
              "      <td>4318</td>\n",
              "      <td>1</td>\n",
              "      <td>4317</td>\n",
              "      <td>29.4150</td>\n",
              "      <td>4318</td>\n",
              "      <td>0</td>\n",
              "    </tr>\n",
              "    <tr>\n",
              "      <th>19223838</th>\n",
              "      <td>2658</td>\n",
              "      <td>46.1600</td>\n",
              "      <td>2659</td>\n",
              "      <td>1</td>\n",
              "      <td>2658</td>\n",
              "      <td>46.1600</td>\n",
              "      <td>2659</td>\n",
              "      <td>0</td>\n",
              "    </tr>\n",
              "    <tr>\n",
              "      <th>19228224</th>\n",
              "      <td>1646</td>\n",
              "      <td>114.6830</td>\n",
              "      <td>1647</td>\n",
              "      <td>1</td>\n",
              "      <td>1646</td>\n",
              "      <td>114.6830</td>\n",
              "      <td>1647</td>\n",
              "      <td>0</td>\n",
              "    </tr>\n",
              "  </tbody>\n",
              "</table>\n",
              "</div>"
            ],
            "text/plain": [
              "             t     close    tt  key    t2    close2   tt2  derivee\n",
              "19210680  3407   31.5000  3408    1  3407   31.5000  3408        0\n",
              "19215066   100   62.6493   101    1   100   62.6493   101        0\n",
              "19219452  4317   29.4150  4318    1  4317   29.4150  4318        0\n",
              "19223838  2658   46.1600  2659    1  2658   46.1600  2659        0\n",
              "19228224  1646  114.6830  1647    1  1646  114.6830  1647        0"
            ]
          },
          "execution_count": null,
          "metadata": {},
          "output_type": "execute_result"
        }
      ],
      "source": [
        "new_data2 = data.copy()\n",
        "new_data2[\"tt\"] = new_data2[\"t\"] + 1  # MAP\n",
        "new_data2[\"key\"] = 1\n",
        "new_data2 = new_data2.merge(new_data2, on=\"key\", suffixes=(\"\", \"2\")) # JOIN = MAP^2\n",
        "print(new_data2.shape)\n",
        "new_data2 = new_data2[new_data2.t == new_data2.t2] # MAP\n",
        "print(new_data2.shape)\n",
        "new_data2[\"derivee\"] = new_data2[\"t\"] - new_data2[\"t2\"] # MAP\n",
        "new_data2.tail()"
      ]
    },
    {
      "cell_type": "markdown",
      "metadata": {},
      "source": [
        "### mesure de co\u00fbt inefficace"
      ]
    },
    {
      "cell_type": "code",
      "execution_count": null,
      "metadata": {
        "ExecuteTime": {
          "end_time": "2016-11-06T13:24:58.448545",
          "start_time": "2016-11-06T13:24:15.957346"
        },
        "collapsed": false
      },
      "outputs": [
        {
          "name": "stdout",
          "output_type": "stream",
          "text": [
            "(9,) <class 'numpy.ndarray'>\n",
            "                    Robust linear Model Regression Results                    \n",
            "==============================================================================\n",
            "Dep. Variable:        processing time   No. Observations:                    9\n",
            "Model:                            RLM   Df Residuals:                        4\n",
            "Method:                          IRLS   Df Model:                            4\n",
            "Norm:                          HuberT                                         \n",
            "Scale Est.:                       mad                                         \n",
            "Cov Type:                          H1                                         \n",
            "Date:                Sun, 06 Nov 2016                                         \n",
            "Time:                        13:24:58                                         \n",
            "No. Iterations:                    30                                         \n",
            "==============================================================================\n",
            "                 coef    std err          z      P>|z|      [95.0% Conf. Int.]\n",
            "------------------------------------------------------------------------------\n",
            "logN          -2.9202      3.934     -0.742      0.458       -10.630     4.790\n",
            "N              0.0136      0.019      0.725      0.469        -0.023     0.050\n",
            "NlogN         -0.0037      0.005     -0.720      0.471        -0.014     0.006\n",
            "N2          3.417e-07   3.07e-07      1.112      0.266     -2.61e-07  9.44e-07\n",
            "one            6.0952      8.101      0.752      0.452        -9.782    21.972\n",
            "==============================================================================\n",
            "\n",
            "If the model instance has been used for another fit with different fit\n",
            "parameters, then the fit options might not be the correct ones anymore .\n"
          ]
        },
        {
          "data": {
            "text/plain": [
              "<matplotlib.axes._subplots.AxesSubplot at 0x27021505b70>"
            ]
          },
          "execution_count": null,
          "metadata": {},
          "output_type": "execute_result"
        },
        {
          "data": {
            "image/png": "[encoded data removed]",
            "text/plain": [
              "<matplotlib.figure.Figure at 0x2702150aeb8>"
            ]
          },
          "metadata": {},
          "output_type": "display_data"
        }
      ],
      "source": [
        "def derive_inefficace(data):\n",
        "    new_data2 = data.copy()\n",
        "    new_data2[\"tt\"] = new_data2[\"t\"] + 1\n",
        "    new_data2[\"key\"] = 1\n",
        "    new_data2 = new_data2.merge(new_data2, on=\"key\", suffixes=(\"\", \"2\"))\n",
        "    new_data2 = new_data2[new_data2.t == new_data2.t2]\n",
        "    new_data2[\"derivee\"] = new_data2[\"t\"] - new_data2[\"t2\"] # MAP\n",
        "    return new_data2\n",
        "\n",
        "ax, stats = graph_cout(data, h=10, nb=5, derive=derive_inefficace, add_n2=True)\n",
        "print(stats.summary())\n",
        "ax"
      ]
    },
    {
      "cell_type": "markdown",
      "metadata": {},
      "source": [
        "## avec des it\u00e9rateurs"
      ]
    },
    {
      "cell_type": "markdown",
      "metadata": {},
      "source": [
        "### version efficace"
      ]
    },
    {
      "cell_type": "code",
      "execution_count": null,
      "metadata": {
        "ExecuteTime": {
          "end_time": "2016-11-06T14:28:54.413236",
          "start_time": "2016-11-06T14:28:54.393235"
        },
        "collapsed": false
      },
      "outputs": [
        {
          "data": {
            "text/plain": [
              "[Pandas(Index=0, t=0, Close=211.358),\n",
              " Pandas(Index=1, t=1, Close=210.41099999999997)]"
            ]
          },
          "execution_count": null,
          "metadata": {},
          "output_type": "execute_result"
        }
      ],
      "source": [
        "rows = data[[\"t\", \"Close\"]].itertuples()\n",
        "list(rows)[:2]"
      ]
    },
    {
      "cell_type": "code",
      "execution_count": null,
      "metadata": {
        "ExecuteTime": {
          "end_time": "2016-11-06T14:30:53.321677",
          "start_time": "2016-11-06T14:30:53.295149"
        },
        "collapsed": false
      },
      "outputs": [
        {
          "data": {
            "text/plain": [
              "[(0, 211.358, 1), (1, 210.41099999999997, 2)]"
            ]
          },
          "execution_count": null,
          "metadata": {},
          "output_type": "execute_result"
        }
      ],
      "source": [
        "rows = data[[\"t\", \"Close\"]].itertuples()\n",
        "rows = map(lambda r: (r.t, r.Close, r.t+1), rows)\n",
        "list(rows)[:2]"
      ]
    },
    {
      "cell_type": "code",
      "execution_count": null,
      "metadata": {
        "ExecuteTime": {
          "end_time": "2016-11-06T14:57:34.789576",
          "start_time": "2016-11-06T14:57:34.640557"
        },
        "collapsed": false
      },
      "outputs": [
        {
          "data": {
            "text/plain": [
              "[(0, -0.94700000000003115), (1, -1.8959999999999866)]"
            ]
          },
          "execution_count": null,
          "metadata": {},
          "output_type": "execute_result"
        }
      ],
      "source": [
        "import copy\n",
        "from cytoolz.itertoolz import join\n",
        "rows = data[[\"t\", \"Close\"]].itertuples()\n",
        "rows = map(lambda r: (r.t, r.Close, r.t+1), rows)\n",
        "rows = join(lambda t: t[2], rows, lambda t: t[0], copy.deepcopy(rows))\n",
        "rows = map(lambda tu: tu[0] + tu[1], rows)\n",
        "rows = map(lambda row: (row[0], row[4] - row[1]), rows)\n",
        "results = list(rows)\n",
        "results[:2]"
      ]
    },
    {
      "cell_type": "markdown",
      "metadata": {},
      "source": [
        "### version inefficace\n",
        "\n",
        "La m\u00e9thode inefficace avec *pandas* est particuli\u00e8rement inefficace car elle n\u00e9cessite de stocker un tableau interm\u00e9diaire qui contient $N^2$ lignes."
      ]
    },
    {
      "cell_type": "code",
      "execution_count": null,
      "metadata": {
        "ExecuteTime": {
          "end_time": "2016-11-06T15:12:15.082471",
          "start_time": "2016-11-06T15:12:04.361340"
        },
        "collapsed": false
      },
      "outputs": [
        {
          "data": {
            "text/plain": [
              "[(0, -0.94700000000003115),\n",
              " (1, -1.8959999999999866),\n",
              " (2, -1.8959999999999582),\n",
              " (3, 0.0)]"
            ]
          },
          "execution_count": null,
          "metadata": {},
          "output_type": "execute_result"
        }
      ],
      "source": [
        "import copy\n",
        "from cytoolz.itertoolz import join\n",
        "rows = data[[\"t\", \"Close\"]].itertuples()\n",
        "rows = map(lambda r: (r.t, r.Close, r.t+1, 1), rows)   # on ajoute 1\n",
        "rows = join(lambda t: t[-1], rows, lambda t: t[-1], copy.deepcopy(rows))  # on fait un produit crois\u00e9\n",
        "rows = map(lambda tu: tu[0] + tu[1], rows)\n",
        "rows = filter(lambda t: t[2] == t[4], rows)     # on filtre les lignes qui nous int\u00e9resse\n",
        "rows = map(lambda row: (row[0], row[5] - row[1]), rows)\n",
        "results = list(rows)   # c'est tr\u00e8s lent\n",
        "results[:4]"
      ]
    },
    {
      "cell_type": "markdown",
      "metadata": {},
      "source": [
        "## avec SQL"
      ]
    },
    {
      "cell_type": "markdown",
      "metadata": {
        "collapsed": true
      },
      "source": [
        "### conversion du dataframe au format SQL"
      ]
    },
    {
      "cell_type": "code",
      "execution_count": null,
      "metadata": {
        "ExecuteTime": {
          "end_time": "2016-11-06T13:24:58.489537",
          "start_time": "2016-11-06T13:24:58.452506"
        },
        "collapsed": false
      },
      "outputs": [
        {
          "data": {
            "text/html": [
              "<div>\n",
              "<table border=\"1\" class=\"dataframe\">\n",
              "  <thead>\n",
              "    <tr style=\"text-align: right;\">\n",
              "      <th></th>\n",
              "      <th>t</th>\n",
              "      <th>Date</th>\n",
              "      <th>Open</th>\n",
              "      <th>High</th>\n",
              "      <th>Low</th>\n",
              "      <th>Close</th>\n",
              "      <th>Volume</th>\n",
              "      <th>Adj_Close</th>\n",
              "    </tr>\n",
              "  </thead>\n",
              "  <tbody>\n",
              "    <tr>\n",
              "      <th>0</th>\n",
              "      <td>0</td>\n",
              "      <td>2000-01-03</td>\n",
              "      <td>218.846</td>\n",
              "      <td>219.320</td>\n",
              "      <td>208.989</td>\n",
              "      <td>211.358</td>\n",
              "      <td>254000</td>\n",
              "      <td>128.6509</td>\n",
              "    </tr>\n",
              "    <tr>\n",
              "      <th>1</th>\n",
              "      <td>1</td>\n",
              "      <td>2000-01-04</td>\n",
              "      <td>210.411</td>\n",
              "      <td>210.884</td>\n",
              "      <td>206.714</td>\n",
              "      <td>210.411</td>\n",
              "      <td>596100</td>\n",
              "      <td>128.0745</td>\n",
              "    </tr>\n",
              "    <tr>\n",
              "      <th>2</th>\n",
              "      <td>2</td>\n",
              "      <td>2000-01-05</td>\n",
              "      <td>206.619</td>\n",
              "      <td>210.411</td>\n",
              "      <td>206.619</td>\n",
              "      <td>208.515</td>\n",
              "      <td>290600</td>\n",
              "      <td>126.9204</td>\n",
              "    </tr>\n",
              "    <tr>\n",
              "      <th>3</th>\n",
              "      <td>3</td>\n",
              "      <td>2000-01-06</td>\n",
              "      <td>207.093</td>\n",
              "      <td>210.411</td>\n",
              "      <td>206.146</td>\n",
              "      <td>206.619</td>\n",
              "      <td>287800</td>\n",
              "      <td>125.7664</td>\n",
              "    </tr>\n",
              "    <tr>\n",
              "      <th>4</th>\n",
              "      <td>4</td>\n",
              "      <td>2000-01-07</td>\n",
              "      <td>205.672</td>\n",
              "      <td>209.463</td>\n",
              "      <td>205.672</td>\n",
              "      <td>206.619</td>\n",
              "      <td>204100</td>\n",
              "      <td>125.7664</td>\n",
              "    </tr>\n",
              "  </tbody>\n",
              "</table>\n",
              "</div>"
            ],
            "text/plain": [
              "   t        Date     Open     High      Low    Close  Volume  Adj_Close\n",
              "0  0  2000-01-03  218.846  219.320  208.989  211.358  254000   128.6509\n",
              "1  1  2000-01-04  210.411  210.884  206.714  210.411  596100   128.0745\n",
              "2  2  2000-01-05  206.619  210.411  206.619  208.515  290600   126.9204\n",
              "3  3  2000-01-06  207.093  210.411  206.146  206.619  287800   125.7664\n",
              "4  4  2000-01-07  205.672  209.463  205.672  206.619  204100   125.7664"
            ]
          },
          "execution_count": null,
          "metadata": {},
          "output_type": "execute_result"
        }
      ],
      "source": [
        "data = stock.df()\n",
        "data.columns = [_.replace(\" \", \"_\") for _ in data.columns]\n",
        "data = data.reset_index(drop=True).reset_index(drop=False)\n",
        "data.columns = [\"t\"] + list(data.columns[1:])\n",
        "data.head()"
      ]
    },
    {
      "cell_type": "code",
      "execution_count": null,
      "metadata": {
        "ExecuteTime": {
          "end_time": "2016-11-06T13:24:58.636631",
          "start_time": "2016-11-06T13:24:58.493037"
        },
        "collapsed": false
      },
      "outputs": [],
      "source": [
        "import sqlite3\n",
        "con = sqlite3.connect(\":memory:\")\n",
        "tbl = data.to_sql(\"stock\", con, index=False)"
      ]
    },
    {
      "cell_type": "code",
      "execution_count": null,
      "metadata": {
        "ExecuteTime": {
          "end_time": "2016-11-06T13:24:59.346212",
          "start_time": "2016-11-06T13:24:58.640635"
        },
        "collapsed": false
      },
      "outputs": [],
      "source": [
        "%load_ext pyensae"
      ]
    },
    {
      "cell_type": "code",
      "execution_count": null,
      "metadata": {
        "ExecuteTime": {
          "end_time": "2016-11-06T13:24:59.365223",
          "start_time": "2016-11-06T13:24:59.349206"
        },
        "collapsed": false
      },
      "outputs": [
        {
          "data": {
            "text/plain": [
              "['stock']"
            ]
          },
          "execution_count": null,
          "metadata": {},
          "output_type": "execute_result"
        }
      ],
      "source": [
        "%SQL_tables -v con"
      ]
    },
    {
      "cell_type": "code",
      "execution_count": null,
      "metadata": {
        "ExecuteTime": {
          "end_time": "2016-11-06T13:24:59.411221",
          "start_time": "2016-11-06T13:24:59.369223"
        },
        "collapsed": false
      },
      "outputs": [
        {
          "data": {
            "text/html": [
              "<div>\n",
              "<table border=\"1\" class=\"dataframe\">\n",
              "  <thead>\n",
              "    <tr style=\"text-align: right;\">\n",
              "      <th></th>\n",
              "      <th>t</th>\n",
              "      <th>Date</th>\n",
              "      <th>Open</th>\n",
              "      <th>High</th>\n",
              "      <th>Low</th>\n",
              "      <th>Close</th>\n",
              "      <th>Volume</th>\n",
              "      <th>Adj_Close</th>\n",
              "    </tr>\n",
              "  </thead>\n",
              "  <tbody>\n",
              "    <tr>\n",
              "      <th>0</th>\n",
              "      <td>0</td>\n",
              "      <td>2000-01-03</td>\n",
              "      <td>218.846</td>\n",
              "      <td>219.320</td>\n",
              "      <td>208.989</td>\n",
              "      <td>211.358</td>\n",
              "      <td>254000</td>\n",
              "      <td>128.6509</td>\n",
              "    </tr>\n",
              "    <tr>\n",
              "      <th>1</th>\n",
              "      <td>1</td>\n",
              "      <td>2000-01-04</td>\n",
              "      <td>210.411</td>\n",
              "      <td>210.884</td>\n",
              "      <td>206.714</td>\n",
              "      <td>210.411</td>\n",
              "      <td>596100</td>\n",
              "      <td>128.0745</td>\n",
              "    </tr>\n",
              "    <tr>\n",
              "      <th>2</th>\n",
              "      <td>2</td>\n",
              "      <td>2000-01-05</td>\n",
              "      <td>206.619</td>\n",
              "      <td>210.411</td>\n",
              "      <td>206.619</td>\n",
              "      <td>208.515</td>\n",
              "      <td>290600</td>\n",
              "      <td>126.9204</td>\n",
              "    </tr>\n",
              "    <tr>\n",
              "      <th>3</th>\n",
              "      <td>3</td>\n",
              "      <td>2000-01-06</td>\n",
              "      <td>207.093</td>\n",
              "      <td>210.411</td>\n",
              "      <td>206.146</td>\n",
              "      <td>206.619</td>\n",
              "      <td>287800</td>\n",
              "      <td>125.7664</td>\n",
              "    </tr>\n",
              "    <tr>\n",
              "      <th>4</th>\n",
              "      <td>4</td>\n",
              "      <td>2000-01-07</td>\n",
              "      <td>205.672</td>\n",
              "      <td>209.463</td>\n",
              "      <td>205.672</td>\n",
              "      <td>206.619</td>\n",
              "      <td>204100</td>\n",
              "      <td>125.7664</td>\n",
              "    </tr>\n",
              "  </tbody>\n",
              "</table>\n",
              "</div>"
            ],
            "text/plain": [
              "   t        Date     Open     High      Low    Close  Volume  Adj_Close\n",
              "0  0  2000-01-03  218.846  219.320  208.989  211.358  254000   128.6509\n",
              "1  1  2000-01-04  210.411  210.884  206.714  210.411  596100   128.0745\n",
              "2  2  2000-01-05  206.619  210.411  206.619  208.515  290600   126.9204\n",
              "3  3  2000-01-06  207.093  210.411  206.146  206.619  287800   125.7664\n",
              "4  4  2000-01-07  205.672  209.463  205.672  206.619  204100   125.7664"
            ]
          },
          "execution_count": null,
          "metadata": {},
          "output_type": "execute_result"
        }
      ],
      "source": [
        "%%SQL -v con\n",
        "\n",
        "SELECT * FROM stock LIMIT 5"
      ]
    },
    {
      "cell_type": "markdown",
      "metadata": {},
      "source": [
        "### version efficace\n",
        "\n",
        "L'instruction ``ON`` pr\u00e9cise sur quelle ou quelles colonnes op\u00e9rer la fusion. "
      ]
    },
    {
      "cell_type": "code",
      "execution_count": null,
      "metadata": {
        "ExecuteTime": {
          "end_time": "2016-11-06T13:27:01.936905",
          "start_time": "2016-11-06T13:27:01.874362"
        },
        "collapsed": false
      },
      "outputs": [
        {
          "data": {
            "text/html": [
              "<div>\n",
              "<table border=\"1\" class=\"dataframe\">\n",
              "  <thead>\n",
              "    <tr style=\"text-align: right;\">\n",
              "      <th></th>\n",
              "      <th>t</th>\n",
              "      <th>Close</th>\n",
              "      <th>tt</th>\n",
              "      <th>t2</th>\n",
              "      <th>Close2</th>\n",
              "      <th>tt2</th>\n",
              "    </tr>\n",
              "  </thead>\n",
              "  <tbody>\n",
              "    <tr>\n",
              "      <th>0</th>\n",
              "      <td>0</td>\n",
              "      <td>211.358</td>\n",
              "      <td>1</td>\n",
              "      <td>1</td>\n",
              "      <td>210.411</td>\n",
              "      <td>2</td>\n",
              "    </tr>\n",
              "    <tr>\n",
              "      <th>1</th>\n",
              "      <td>1</td>\n",
              "      <td>210.411</td>\n",
              "      <td>2</td>\n",
              "      <td>2</td>\n",
              "      <td>208.515</td>\n",
              "      <td>3</td>\n",
              "    </tr>\n",
              "    <tr>\n",
              "      <th>2</th>\n",
              "      <td>2</td>\n",
              "      <td>208.515</td>\n",
              "      <td>3</td>\n",
              "      <td>3</td>\n",
              "      <td>206.619</td>\n",
              "      <td>4</td>\n",
              "    </tr>\n",
              "    <tr>\n",
              "      <th>3</th>\n",
              "      <td>3</td>\n",
              "      <td>206.619</td>\n",
              "      <td>4</td>\n",
              "      <td>4</td>\n",
              "      <td>206.619</td>\n",
              "      <td>5</td>\n",
              "    </tr>\n",
              "    <tr>\n",
              "      <th>4</th>\n",
              "      <td>4</td>\n",
              "      <td>206.619</td>\n",
              "      <td>5</td>\n",
              "      <td>5</td>\n",
              "      <td>205.672</td>\n",
              "      <td>6</td>\n",
              "    </tr>\n",
              "    <tr>\n",
              "      <th>5</th>\n",
              "      <td>5</td>\n",
              "      <td>205.672</td>\n",
              "      <td>6</td>\n",
              "      <td>6</td>\n",
              "      <td>206.619</td>\n",
              "      <td>7</td>\n",
              "    </tr>\n",
              "    <tr>\n",
              "      <th>6</th>\n",
              "      <td>6</td>\n",
              "      <td>206.619</td>\n",
              "      <td>7</td>\n",
              "      <td>7</td>\n",
              "      <td>203.302</td>\n",
              "      <td>8</td>\n",
              "    </tr>\n",
              "    <tr>\n",
              "      <th>7</th>\n",
              "      <td>7</td>\n",
              "      <td>203.302</td>\n",
              "      <td>8</td>\n",
              "      <td>8</td>\n",
              "      <td>199.985</td>\n",
              "      <td>9</td>\n",
              "    </tr>\n",
              "    <tr>\n",
              "      <th>8</th>\n",
              "      <td>8</td>\n",
              "      <td>199.985</td>\n",
              "      <td>9</td>\n",
              "      <td>9</td>\n",
              "      <td>202.828</td>\n",
              "      <td>10</td>\n",
              "    </tr>\n",
              "    <tr>\n",
              "      <th>9</th>\n",
              "      <td>9</td>\n",
              "      <td>202.828</td>\n",
              "      <td>10</td>\n",
              "      <td>10</td>\n",
              "      <td>200.743</td>\n",
              "      <td>11</td>\n",
              "    </tr>\n",
              "  </tbody>\n",
              "</table>\n",
              "</div>"
            ],
            "text/plain": [
              "   t    Close  tt  t2   Close2  tt2\n",
              "0  0  211.358   1   1  210.411    2\n",
              "1  1  210.411   2   2  208.515    3\n",
              "2  2  208.515   3   3  206.619    4\n",
              "3  3  206.619   4   4  206.619    5\n",
              "4  4  206.619   5   5  205.672    6\n",
              "5  5  205.672   6   6  206.619    7\n",
              "6  6  206.619   7   7  203.302    8\n",
              "7  7  203.302   8   8  199.985    9\n",
              "8  8  199.985   9   9  202.828   10\n",
              "9  9  202.828  10  10  200.743   11"
            ]
          },
          "execution_count": null,
          "metadata": {},
          "output_type": "execute_result"
        }
      ],
      "source": [
        "%%SQL -v con\n",
        "\n",
        "SELECT A.t AS t, A.Close AS Close, A.tt AS tt,\n",
        "       B.t AS t2, B.Close AS Close2, B.tt AS tt2\n",
        "FROM (\n",
        "    SELECT t, Close, t+1 AS tt FROM stock\n",
        "    ) AS A\n",
        "INNER JOIN (\n",
        "    SELECT t, Close, t+1 AS tt FROM stock\n",
        "    ) AS B\n",
        "ON A.tt == B.t"
      ]
    },
    {
      "cell_type": "markdown",
      "metadata": {},
      "source": [
        "### version inefficace\n",
        "\n",
        "Pour la version inefficace, l'instruction ``JOIN`` effectue tous les combinaisons de lignes possibles, soit $N^2$. Le mot-cl\u00e9 ``WHERE`` garde les couples de lignes qui nous int\u00e9resse."
      ]
    },
    {
      "cell_type": "code",
      "execution_count": null,
      "metadata": {
        "ExecuteTime": {
          "end_time": "2016-11-06T14:08:43.948081",
          "start_time": "2016-11-06T14:08:41.336898"
        },
        "collapsed": false
      },
      "outputs": [
        {
          "data": {
            "text/html": [
              "<div>\n",
              "<table border=\"1\" class=\"dataframe\">\n",
              "  <thead>\n",
              "    <tr style=\"text-align: right;\">\n",
              "      <th></th>\n",
              "      <th>t</th>\n",
              "      <th>Close</th>\n",
              "      <th>tt</th>\n",
              "      <th>t2</th>\n",
              "      <th>Close2</th>\n",
              "      <th>tt2</th>\n",
              "    </tr>\n",
              "  </thead>\n",
              "  <tbody>\n",
              "    <tr>\n",
              "      <th>0</th>\n",
              "      <td>0</td>\n",
              "      <td>211.358</td>\n",
              "      <td>1</td>\n",
              "      <td>1</td>\n",
              "      <td>210.411</td>\n",
              "      <td>2</td>\n",
              "    </tr>\n",
              "    <tr>\n",
              "      <th>1</th>\n",
              "      <td>1</td>\n",
              "      <td>210.411</td>\n",
              "      <td>2</td>\n",
              "      <td>2</td>\n",
              "      <td>208.515</td>\n",
              "      <td>3</td>\n",
              "    </tr>\n",
              "    <tr>\n",
              "      <th>2</th>\n",
              "      <td>2</td>\n",
              "      <td>208.515</td>\n",
              "      <td>3</td>\n",
              "      <td>3</td>\n",
              "      <td>206.619</td>\n",
              "      <td>4</td>\n",
              "    </tr>\n",
              "    <tr>\n",
              "      <th>3</th>\n",
              "      <td>3</td>\n",
              "      <td>206.619</td>\n",
              "      <td>4</td>\n",
              "      <td>4</td>\n",
              "      <td>206.619</td>\n",
              "      <td>5</td>\n",
              "    </tr>\n",
              "    <tr>\n",
              "      <th>4</th>\n",
              "      <td>4</td>\n",
              "      <td>206.619</td>\n",
              "      <td>5</td>\n",
              "      <td>5</td>\n",
              "      <td>205.672</td>\n",
              "      <td>6</td>\n",
              "    </tr>\n",
              "    <tr>\n",
              "      <th>5</th>\n",
              "      <td>5</td>\n",
              "      <td>205.672</td>\n",
              "      <td>6</td>\n",
              "      <td>6</td>\n",
              "      <td>206.619</td>\n",
              "      <td>7</td>\n",
              "    </tr>\n",
              "    <tr>\n",
              "      <th>6</th>\n",
              "      <td>6</td>\n",
              "      <td>206.619</td>\n",
              "      <td>7</td>\n",
              "      <td>7</td>\n",
              "      <td>203.302</td>\n",
              "      <td>8</td>\n",
              "    </tr>\n",
              "    <tr>\n",
              "      <th>7</th>\n",
              "      <td>7</td>\n",
              "      <td>203.302</td>\n",
              "      <td>8</td>\n",
              "      <td>8</td>\n",
              "      <td>199.985</td>\n",
              "      <td>9</td>\n",
              "    </tr>\n",
              "    <tr>\n",
              "      <th>8</th>\n",
              "      <td>8</td>\n",
              "      <td>199.985</td>\n",
              "      <td>9</td>\n",
              "      <td>9</td>\n",
              "      <td>202.828</td>\n",
              "      <td>10</td>\n",
              "    </tr>\n",
              "    <tr>\n",
              "      <th>9</th>\n",
              "      <td>9</td>\n",
              "      <td>202.828</td>\n",
              "      <td>10</td>\n",
              "      <td>10</td>\n",
              "      <td>200.743</td>\n",
              "      <td>11</td>\n",
              "    </tr>\n",
              "  </tbody>\n",
              "</table>\n",
              "</div>"
            ],
            "text/plain": [
              "   t    Close  tt  t2   Close2  tt2\n",
              "0  0  211.358   1   1  210.411    2\n",
              "1  1  210.411   2   2  208.515    3\n",
              "2  2  208.515   3   3  206.619    4\n",
              "3  3  206.619   4   4  206.619    5\n",
              "4  4  206.619   5   5  205.672    6\n",
              "5  5  205.672   6   6  206.619    7\n",
              "6  6  206.619   7   7  203.302    8\n",
              "7  7  203.302   8   8  199.985    9\n",
              "8  8  199.985   9   9  202.828   10\n",
              "9  9  202.828  10  10  200.743   11"
            ]
          },
          "execution_count": null,
          "metadata": {},
          "output_type": "execute_result"
        }
      ],
      "source": [
        "%%SQL -v con\n",
        "\n",
        "SELECT A.t AS t, A.Close AS Close, A.tt AS tt,\n",
        "       B.t AS t2, B.Close AS Close2, B.tt AS tt2\n",
        "FROM (\n",
        "    SELECT t, Close, t+1 AS tt FROM stock\n",
        "    ) AS A\n",
        "INNER JOIN (\n",
        "    SELECT t, Close, t+1 AS tt FROM stock\n",
        "    ) AS B\n",
        "WHERE A.tt >= B.t AND A.tt <= B.t -- on \u00e9crit l'\u00e9galit\u00e9 comme ceci pour contourner les optimisations\n",
        "                                  -- r\u00e9alis\u00e9e par SQLlite"
      ]
    },
    {
      "cell_type": "code",
      "execution_count": null,
      "metadata": {
        "collapsed": true
      },
      "outputs": [],
      "source": []
    }
  ],
  "metadata": {
    "kernelspec": {
      "display_name": "Python 3",
      "language": "python",
      "name": "python3"
    },
    "language_info": {
      "codemirror_mode": {
        "name": "ipython",
        "version": 3
      },
      "file_extension": ".py",
      "mimetype": "text/x-python",
      "name": "python",
      "nbconvert_exporter": "python",
      "pygments_lexer": "ipython3",
      "version": "3.5.0"
    }
  },
  "nbformat": 4,
  "nbformat_minor": 1
}