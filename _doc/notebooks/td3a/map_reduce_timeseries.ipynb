{
  "cells": [
    {
      "cell_type": "markdown",
      "metadata": {},
      "source": [
        "# S\u00e9ries temporelles et map reduce"
      ]
    },
    {
      "cell_type": "code",
      "execution_count": null,
      "metadata": {
        "ExecuteTime": {
          "end_time": "2016-11-06T01:17:09.026241",
          "start_time": "2016-11-06T01:17:09.017226"
        },
        "collapsed": false
      },
      "outputs": [
        {
          "data": {
            "text/html": [
              "<div id=\"my_id_menu_nb\">run previous cell, wait for 2 seconds</div>\n",
              "<script>\n",
              "function repeat_indent_string(n){\n",
              "    var a = \"\" ;\n",
              "    for ( ; n > 0 ; --n) {\n",
              "        a += \"    \";\n",
              "    }\n",
              "    return a;\n",
              "}\n",
              "var update_menu_string = function(begin, lfirst, llast, sformat, send, keep_item) {\n",
              "    var anchors = document.getElementsByClassName(\"section\");\n",
              "    if (anchors.length == 0) {\n",
              "        anchors = document.getElementsByClassName(\"text_cell_render rendered_html\");\n",
              "    }\n",
              "    var i,t;\n",
              "    var text_menu = begin;\n",
              "    var text_memo = \"<pre>\\nlength:\" + anchors.length + \"\\n\";\n",
              "    var ind = \"\";\n",
              "    var memo_level = 1;\n",
              "    var href;\n",
              "    var tags = [];\n",
              "    var main_item = 0;\n",
              "    for (i = 0; i <= llast; i++) {\n",
              "        tags.push(\"h\" + i);\n",
              "    }\n",
              "\n",
              "    for (i = 0; i < anchors.length; i++) {\n",
              "        text_memo += \"**\" + anchors[i].id + \"--\\n\";\n",
              "\n",
              "        var child = null;\n",
              "        for(t = 0; t < tags.length; t++) {\n",
              "            var r = anchors[i].getElementsByTagName(tags[t]);\n",
              "            if (r.length > 0) {\n",
              "child = r[0];\n",
              "break;\n",
              "            }\n",
              "        }\n",
              "        if (child == null){\n",
              "            text_memo += \"null\\n\";\n",
              "            continue;\n",
              "        }\n",
              "        if (anchors[i].hasAttribute(\"id\")) {\n",
              "            // when converted in RST\n",
              "            href = anchors[i].id;\n",
              "            text_memo += \"#1-\" + href;\n",
              "            // passer \u00e0 child suivant (le chercher)\n",
              "        }\n",
              "        else if (child.hasAttribute(\"id\")) {\n",
              "            // in a notebook\n",
              "            href = child.id;\n",
              "            text_memo += \"#2-\" + href;\n",
              "        }\n",
              "        else {\n",
              "            text_memo += \"#3-\" + \"*\" + \"\\n\";\n",
              "            continue;\n",
              "        }\n",
              "        var title = child.textContent;\n",
              "        var level = parseInt(child.tagName.substring(1,2));\n",
              "\n",
              "        text_memo += \"--\" + level + \"?\" + lfirst + \"--\" + title + \"\\n\";\n",
              "\n",
              "        if ((level < lfirst) || (level > llast)) {\n",
              "            continue ;\n",
              "        }\n",
              "        if (title.endsWith('\u00b6')) {\n",
              "            title = title.substring(0,title.length-1).replace(\"<\", \"&lt;\").replace(\">\", \"&gt;\").replace(\"&\", \"&amp;\")\n",
              "        }\n",
              "\n",
              "        if (title.length == 0) {\n",
              "            continue;\n",
              "        }\n",
              "\n",
              "        while (level < memo_level) {\n",
              "            text_menu += \"</ul>\\n\";\n",
              "            memo_level -= 1;\n",
              "        }\n",
              "        if (level == lfirst) {\n",
              "            main_item += 1;\n",
              "        }\n",
              "        if (keep_item != -1 && main_item != keep_item + 1) {\n",
              "            // alert(main_item + \" - \" + level + \" - \" + keep_item);\n",
              "            continue;\n",
              "        }\n",
              "        while (level > memo_level) {\n",
              "            text_menu += \"<ul>\\n\";\n",
              "            memo_level += 1;\n",
              "        }\n",
              "        text_menu += repeat_indent_string(level-2) + sformat.replace(\"__HREF__\", href).replace(\"__TITLE__\", title);\n",
              "    }\n",
              "    while (1 < memo_level) {\n",
              "        text_menu += \"</ul>\\n\";\n",
              "        memo_level -= 1;\n",
              "    }\n",
              "    text_menu += send;\n",
              "    //text_menu += \"\\n\" + text_memo;\n",
              "    return text_menu;\n",
              "};\n",
              "var update_menu = function() {\n",
              "    var sbegin = \"\";\n",
              "    var sformat = '<li><a href=\"#__HREF__\">__TITLE__</a></li>';\n",
              "    var send = \"\";\n",
              "    var keep_item = -1;\n",
              "    var text_menu = update_menu_string(sbegin, 2, 4, sformat, send, keep_item);\n",
              "    var menu = document.getElementById(\"my_id_menu_nb\");\n",
              "    menu.innerHTML=text_menu;\n",
              "};\n",
              "window.setTimeout(update_menu,2000);\n",
              "            </script>"
            ],
            "text/plain": [
              "<IPython.core.display.HTML object>"
            ]
          },
          "execution_count": null,
          "metadata": {},
          "output_type": "execute_result"
        }
      ],
      "source": [
        "from jyquickhelper import add_notebook_menu\n",
        "add_notebook_menu()"
      ]
    },
    {
      "cell_type": "markdown",
      "metadata": {},
      "source": [
        "On souhaite simplement calculer la d\u00e9riv\u00e9e de la s\u00e9rie temporelle : $\\Delta Y_t = Y_t - Y_{t-1}$."
      ]
    },
    {
      "cell_type": "code",
      "execution_count": null,
      "metadata": {
        "ExecuteTime": {
          "end_time": "2016-11-06T01:19:43.839086",
          "start_time": "2016-11-06T01:19:42.888635"
        },
        "collapsed": true
      },
      "outputs": [],
      "source": [
        "%matplotlib inline"
      ]
    },
    {
      "cell_type": "markdown",
      "metadata": {
        "ExecuteTime": {
          "end_time": "2016-11-05T23:12:25.652561",
          "start_time": "2016-11-05T23:12:25.627558"
        }
      },
      "source": [
        "## Data"
      ]
    },
    {
      "cell_type": "code",
      "execution_count": null,
      "metadata": {
        "ExecuteTime": {
          "end_time": "2016-11-06T01:10:07.189772",
          "start_time": "2016-11-06T01:10:03.198100"
        },
        "collapsed": false
      },
      "outputs": [
        {
          "data": {
            "text/html": [
              "<div>\n",
              "<table border=\"1\" class=\"dataframe\">\n",
              "  <thead>\n",
              "    <tr style=\"text-align: right;\">\n",
              "      <th></th>\n",
              "      <th>Date</th>\n",
              "      <th>Open</th>\n",
              "      <th>High</th>\n",
              "      <th>Low</th>\n",
              "      <th>Close</th>\n",
              "      <th>Volume</th>\n",
              "      <th>Adj Close</th>\n",
              "    </tr>\n",
              "    <tr>\n",
              "      <th>Date</th>\n",
              "      <th></th>\n",
              "      <th></th>\n",
              "      <th></th>\n",
              "      <th></th>\n",
              "      <th></th>\n",
              "      <th></th>\n",
              "      <th></th>\n",
              "    </tr>\n",
              "  </thead>\n",
              "  <tbody>\n",
              "    <tr>\n",
              "      <th>2016-10-31</th>\n",
              "      <td>2016-10-31</td>\n",
              "      <td>35.735</td>\n",
              "      <td>36.060</td>\n",
              "      <td>35.34</td>\n",
              "      <td>35.560</td>\n",
              "      <td>3056400</td>\n",
              "      <td>35.560</td>\n",
              "    </tr>\n",
              "    <tr>\n",
              "      <th>2016-11-01</th>\n",
              "      <td>2016-11-01</td>\n",
              "      <td>35.680</td>\n",
              "      <td>35.925</td>\n",
              "      <td>34.93</td>\n",
              "      <td>35.015</td>\n",
              "      <td>2831100</td>\n",
              "      <td>35.015</td>\n",
              "    </tr>\n",
              "    <tr>\n",
              "      <th>2016-11-02</th>\n",
              "      <td>2016-11-02</td>\n",
              "      <td>34.750</td>\n",
              "      <td>34.750</td>\n",
              "      <td>33.99</td>\n",
              "      <td>34.185</td>\n",
              "      <td>3927200</td>\n",
              "      <td>34.185</td>\n",
              "    </tr>\n",
              "    <tr>\n",
              "      <th>2016-11-03</th>\n",
              "      <td>2016-11-03</td>\n",
              "      <td>35.250</td>\n",
              "      <td>36.700</td>\n",
              "      <td>34.95</td>\n",
              "      <td>36.070</td>\n",
              "      <td>7606800</td>\n",
              "      <td>36.070</td>\n",
              "    </tr>\n",
              "    <tr>\n",
              "      <th>2016-11-04</th>\n",
              "      <td>2016-11-04</td>\n",
              "      <td>36.000</td>\n",
              "      <td>36.080</td>\n",
              "      <td>35.26</td>\n",
              "      <td>35.580</td>\n",
              "      <td>4415800</td>\n",
              "      <td>35.580</td>\n",
              "    </tr>\n",
              "  </tbody>\n",
              "</table>\n",
              "</div>"
            ],
            "text/plain": [
              "                  Date    Open    High    Low   Close   Volume  Adj Close\n",
              "Date                                                                     \n",
              "2016-10-31  2016-10-31  35.735  36.060  35.34  35.560  3056400     35.560\n",
              "2016-11-01  2016-11-01  35.680  35.925  34.93  35.015  2831100     35.015\n",
              "2016-11-02  2016-11-02  34.750  34.750  33.99  34.185  3927200     34.185\n",
              "2016-11-03  2016-11-03  35.250  36.700  34.95  36.070  7606800     36.070\n",
              "2016-11-04  2016-11-04  36.000  36.080  35.26  35.580  4415800     35.580"
            ]
          },
          "execution_count": null,
          "metadata": {},
          "output_type": "execute_result"
        }
      ],
      "source": [
        "from pyensae.finance import StockPrices\n",
        "stock = StockPrices(\"GLE.PA\", folder=\".\")\n",
        "stock.tail()"
      ]
    },
    {
      "cell_type": "markdown",
      "metadata": {},
      "source": [
        "On cr\u00e9e une colonne suppl\u00e9mentaire pour l'indice $t$ de la s\u00e9rie temporeelle :"
      ]
    },
    {
      "cell_type": "code",
      "execution_count": null,
      "metadata": {
        "ExecuteTime": {
          "end_time": "2016-11-06T01:10:45.673752",
          "start_time": "2016-11-06T01:10:45.657754"
        },
        "collapsed": false
      },
      "outputs": [
        {
          "data": {
            "text/html": [
              "<div>\n",
              "<table border=\"1\" class=\"dataframe\">\n",
              "  <thead>\n",
              "    <tr style=\"text-align: right;\">\n",
              "      <th></th>\n",
              "      <th>Close</th>\n",
              "    </tr>\n",
              "  </thead>\n",
              "  <tbody>\n",
              "    <tr>\n",
              "      <th>4380</th>\n",
              "      <td>35.560</td>\n",
              "    </tr>\n",
              "    <tr>\n",
              "      <th>4381</th>\n",
              "      <td>35.015</td>\n",
              "    </tr>\n",
              "    <tr>\n",
              "      <th>4382</th>\n",
              "      <td>34.185</td>\n",
              "    </tr>\n",
              "    <tr>\n",
              "      <th>4383</th>\n",
              "      <td>36.070</td>\n",
              "    </tr>\n",
              "    <tr>\n",
              "      <th>4384</th>\n",
              "      <td>35.580</td>\n",
              "    </tr>\n",
              "  </tbody>\n",
              "</table>\n",
              "</div>"
            ],
            "text/plain": [
              "       Close\n",
              "4380  35.560\n",
              "4381  35.015\n",
              "4382  34.185\n",
              "4383  36.070\n",
              "4384  35.580"
            ]
          },
          "execution_count": null,
          "metadata": {},
          "output_type": "execute_result"
        }
      ],
      "source": [
        "dt = stock.df()\n",
        "dt = dt[[\"Close\"]]\n",
        "dt = dt.reset_index(drop=True)\n",
        "data = dt\n",
        "dt.tail()"
      ]
    },
    {
      "cell_type": "markdown",
      "metadata": {},
      "source": [
        "On m\u00e9lange pour simuler le fait qu'en map/reduce, l'ordre des informations n'est pas connu \u00e0 l'avance."
      ]
    },
    {
      "cell_type": "code",
      "execution_count": null,
      "metadata": {
        "ExecuteTime": {
          "end_time": "2016-11-06T01:10:47.210828",
          "start_time": "2016-11-06T01:10:47.187241"
        },
        "collapsed": false
      },
      "outputs": [
        {
          "data": {
            "text/html": [
              "<div>\n",
              "<table border=\"1\" class=\"dataframe\">\n",
              "  <thead>\n",
              "    <tr style=\"text-align: right;\">\n",
              "      <th></th>\n",
              "      <th>t</th>\n",
              "      <th>close</th>\n",
              "    </tr>\n",
              "  </thead>\n",
              "  <tbody>\n",
              "    <tr>\n",
              "      <th>4380</th>\n",
              "      <td>2725</td>\n",
              "      <td>35.1550</td>\n",
              "    </tr>\n",
              "    <tr>\n",
              "      <th>4381</th>\n",
              "      <td>550</td>\n",
              "      <td>61.1328</td>\n",
              "    </tr>\n",
              "    <tr>\n",
              "      <th>4382</th>\n",
              "      <td>1298</td>\n",
              "      <td>70.5634</td>\n",
              "    </tr>\n",
              "    <tr>\n",
              "      <th>4383</th>\n",
              "      <td>65</td>\n",
              "      <td>211.1690</td>\n",
              "    </tr>\n",
              "    <tr>\n",
              "      <th>4384</th>\n",
              "      <td>1186</td>\n",
              "      <td>63.1232</td>\n",
              "    </tr>\n",
              "  </tbody>\n",
              "</table>\n",
              "</div>"
            ],
            "text/plain": [
              "         t     close\n",
              "4380  2725   35.1550\n",
              "4381   550   61.1328\n",
              "4382  1298   70.5634\n",
              "4383    65  211.1690\n",
              "4384  1186   63.1232"
            ]
          },
          "execution_count": null,
          "metadata": {},
          "output_type": "execute_result"
        }
      ],
      "source": [
        "import numpy\n",
        "data = dt.reindex(numpy.random.permutation(data.index))\n",
        "data = data.reset_index(drop=False)\n",
        "data.columns = [\"t\", \"close\"]\n",
        "data.tail()"
      ]
    },
    {
      "cell_type": "markdown",
      "metadata": {},
      "source": [
        "## D\u00e9riv\u00e9e avec pandas"
      ]
    },
    {
      "cell_type": "markdown",
      "metadata": {},
      "source": [
        "Le traitement de chaque ligne est ind\u00e9pendant et ne doit pas prendre en compte aucune autre ligne mais on a besoin de $Y_{t-1}$ pour calculer $\\Delta Y_t$. "
      ]
    },
    {
      "cell_type": "code",
      "execution_count": null,
      "metadata": {
        "ExecuteTime": {
          "end_time": "2016-11-06T01:10:48.874373",
          "start_time": "2016-11-06T01:10:48.867377"
        },
        "collapsed": true
      },
      "outputs": [],
      "source": [
        "data[\"tt\"] = data[\"t\"] - 1 "
      ]
    },
    {
      "cell_type": "markdown",
      "metadata": {},
      "source": [
        "### m\u00e9thode efficace\n",
        "\n",
        "Lors d'une jointure, [pandas](http://pandas.pydata.org/) va trier chaque c\u00f4t\u00e9 de la jointure par ordre croissant de cl\u00e9. S'il y a $N$ observations, cela a un co\u00fbt de $N\\ln N$, il r\u00e9alise ensuite une fusion des deux bases en ne consid\u00e9rant que les lignes partageant la m\u00eame cl\u00e9. Cette fa\u00e7on de faire ne convient que lorsqu'on fait une jointure avec une condition n'incluant que des ET logique et des \u00e9galit\u00e9s."
      ]
    },
    {
      "cell_type": "code",
      "execution_count": null,
      "metadata": {
        "ExecuteTime": {
          "end_time": "2016-11-06T01:10:49.496615",
          "start_time": "2016-11-06T01:10:49.470618"
        },
        "collapsed": false
      },
      "outputs": [
        {
          "data": {
            "text/html": [
              "<div>\n",
              "<table border=\"1\" class=\"dataframe\">\n",
              "  <thead>\n",
              "    <tr style=\"text-align: right;\">\n",
              "      <th></th>\n",
              "      <th>t</th>\n",
              "      <th>close</th>\n",
              "      <th>tt</th>\n",
              "      <th>t2</th>\n",
              "      <th>close2</th>\n",
              "      <th>tt2</th>\n",
              "    </tr>\n",
              "  </thead>\n",
              "  <tbody>\n",
              "    <tr>\n",
              "      <th>4379</th>\n",
              "      <td>2725</td>\n",
              "      <td>35.1550</td>\n",
              "      <td>2724</td>\n",
              "      <td>2726</td>\n",
              "      <td>35.7800</td>\n",
              "      <td>2725</td>\n",
              "    </tr>\n",
              "    <tr>\n",
              "      <th>4380</th>\n",
              "      <td>550</td>\n",
              "      <td>61.1328</td>\n",
              "      <td>549</td>\n",
              "      <td>551</td>\n",
              "      <td>57.9577</td>\n",
              "      <td>550</td>\n",
              "    </tr>\n",
              "    <tr>\n",
              "      <th>4381</th>\n",
              "      <td>1298</td>\n",
              "      <td>70.5634</td>\n",
              "      <td>1297</td>\n",
              "      <td>1299</td>\n",
              "      <td>70.5634</td>\n",
              "      <td>1298</td>\n",
              "    </tr>\n",
              "    <tr>\n",
              "      <th>4382</th>\n",
              "      <td>65</td>\n",
              "      <td>211.1690</td>\n",
              "      <td>64</td>\n",
              "      <td>66</td>\n",
              "      <td>219.8890</td>\n",
              "      <td>65</td>\n",
              "    </tr>\n",
              "    <tr>\n",
              "      <th>4383</th>\n",
              "      <td>1186</td>\n",
              "      <td>63.1232</td>\n",
              "      <td>1185</td>\n",
              "      <td>1187</td>\n",
              "      <td>63.1706</td>\n",
              "      <td>1186</td>\n",
              "    </tr>\n",
              "  </tbody>\n",
              "</table>\n",
              "</div>"
            ],
            "text/plain": [
              "         t     close    tt    t2    close2   tt2\n",
              "4379  2725   35.1550  2724  2726   35.7800  2725\n",
              "4380   550   61.1328   549   551   57.9577   550\n",
              "4381  1298   70.5634  1297  1299   70.5634  1298\n",
              "4382    65  211.1690    64    66  219.8890    65\n",
              "4383  1186   63.1232  1185  1187   63.1706  1186"
            ]
          },
          "execution_count": null,
          "metadata": {},
          "output_type": "execute_result"
        }
      ],
      "source": [
        "join = data.merge(data, left_on=\"t\", right_on=\"tt\", suffixes=(\"\", \"2\"))\n",
        "join.tail()"
      ]
    },
    {
      "cell_type": "code",
      "execution_count": null,
      "metadata": {
        "ExecuteTime": {
          "end_time": "2016-11-06T01:10:49.739633",
          "start_time": "2016-11-06T01:10:49.716112"
        },
        "collapsed": false
      },
      "outputs": [
        {
          "data": {
            "text/html": [
              "<div>\n",
              "<table border=\"1\" class=\"dataframe\">\n",
              "  <thead>\n",
              "    <tr style=\"text-align: right;\">\n",
              "      <th></th>\n",
              "      <th>t</th>\n",
              "      <th>close</th>\n",
              "      <th>tt</th>\n",
              "      <th>t2</th>\n",
              "      <th>close2</th>\n",
              "      <th>tt2</th>\n",
              "      <th>derivee</th>\n",
              "    </tr>\n",
              "  </thead>\n",
              "  <tbody>\n",
              "    <tr>\n",
              "      <th>4379</th>\n",
              "      <td>2725</td>\n",
              "      <td>35.1550</td>\n",
              "      <td>2724</td>\n",
              "      <td>2726</td>\n",
              "      <td>35.7800</td>\n",
              "      <td>2725</td>\n",
              "      <td>-0.6250</td>\n",
              "    </tr>\n",
              "    <tr>\n",
              "      <th>4380</th>\n",
              "      <td>550</td>\n",
              "      <td>61.1328</td>\n",
              "      <td>549</td>\n",
              "      <td>551</td>\n",
              "      <td>57.9577</td>\n",
              "      <td>550</td>\n",
              "      <td>3.1751</td>\n",
              "    </tr>\n",
              "    <tr>\n",
              "      <th>4381</th>\n",
              "      <td>1298</td>\n",
              "      <td>70.5634</td>\n",
              "      <td>1297</td>\n",
              "      <td>1299</td>\n",
              "      <td>70.5634</td>\n",
              "      <td>1298</td>\n",
              "      <td>0.0000</td>\n",
              "    </tr>\n",
              "    <tr>\n",
              "      <th>4382</th>\n",
              "      <td>65</td>\n",
              "      <td>211.1690</td>\n",
              "      <td>64</td>\n",
              "      <td>66</td>\n",
              "      <td>219.8890</td>\n",
              "      <td>65</td>\n",
              "      <td>-8.7200</td>\n",
              "    </tr>\n",
              "    <tr>\n",
              "      <th>4383</th>\n",
              "      <td>1186</td>\n",
              "      <td>63.1232</td>\n",
              "      <td>1185</td>\n",
              "      <td>1187</td>\n",
              "      <td>63.1706</td>\n",
              "      <td>1186</td>\n",
              "      <td>-0.0474</td>\n",
              "    </tr>\n",
              "  </tbody>\n",
              "</table>\n",
              "</div>"
            ],
            "text/plain": [
              "         t     close    tt    t2    close2   tt2  derivee\n",
              "4379  2725   35.1550  2724  2726   35.7800  2725  -0.6250\n",
              "4380   550   61.1328   549   551   57.9577   550   3.1751\n",
              "4381  1298   70.5634  1297  1299   70.5634  1298   0.0000\n",
              "4382    65  211.1690    64    66  219.8890    65  -8.7200\n",
              "4383  1186   63.1232  1185  1187   63.1706  1186  -0.0474"
            ]
          },
          "execution_count": null,
          "metadata": {},
          "output_type": "execute_result"
        }
      ],
      "source": [
        "derivee = join.copy()\n",
        "derivee[\"derivee\"] = derivee[\"close\"] - derivee[\"close2\"]\n",
        "derivee.tail()"
      ]
    },
    {
      "cell_type": "markdown",
      "metadata": {},
      "source": [
        "En r\u00e9sum\u00e9 :"
      ]
    },
    {
      "cell_type": "code",
      "execution_count": null,
      "metadata": {
        "ExecuteTime": {
          "end_time": "2016-11-06T01:10:50.465500",
          "start_time": "2016-11-06T01:10:50.422972"
        },
        "collapsed": false
      },
      "outputs": [
        {
          "name": "stdout",
          "output_type": "stream",
          "text": [
            "(4384, 7)\n"
          ]
        },
        {
          "data": {
            "text/html": [
              "<div>\n",
              "<table border=\"1\" class=\"dataframe\">\n",
              "  <thead>\n",
              "    <tr style=\"text-align: right;\">\n",
              "      <th></th>\n",
              "      <th>t</th>\n",
              "      <th>close</th>\n",
              "      <th>tt</th>\n",
              "      <th>t2</th>\n",
              "      <th>close2</th>\n",
              "      <th>tt2</th>\n",
              "      <th>derivee</th>\n",
              "    </tr>\n",
              "  </thead>\n",
              "  <tbody>\n",
              "    <tr>\n",
              "      <th>4379</th>\n",
              "      <td>2725</td>\n",
              "      <td>35.1550</td>\n",
              "      <td>2726</td>\n",
              "      <td>2724</td>\n",
              "      <td>36.8200</td>\n",
              "      <td>2725</td>\n",
              "      <td>-1.6650</td>\n",
              "    </tr>\n",
              "    <tr>\n",
              "      <th>4380</th>\n",
              "      <td>550</td>\n",
              "      <td>61.1328</td>\n",
              "      <td>551</td>\n",
              "      <td>549</td>\n",
              "      <td>61.6067</td>\n",
              "      <td>550</td>\n",
              "      <td>-0.4739</td>\n",
              "    </tr>\n",
              "    <tr>\n",
              "      <th>4381</th>\n",
              "      <td>1298</td>\n",
              "      <td>70.5634</td>\n",
              "      <td>1299</td>\n",
              "      <td>1297</td>\n",
              "      <td>70.8003</td>\n",
              "      <td>1298</td>\n",
              "      <td>-0.2369</td>\n",
              "    </tr>\n",
              "    <tr>\n",
              "      <th>4382</th>\n",
              "      <td>65</td>\n",
              "      <td>211.1690</td>\n",
              "      <td>66</td>\n",
              "      <td>64</td>\n",
              "      <td>197.5210</td>\n",
              "      <td>65</td>\n",
              "      <td>13.6480</td>\n",
              "    </tr>\n",
              "    <tr>\n",
              "      <th>4383</th>\n",
              "      <td>1186</td>\n",
              "      <td>63.1232</td>\n",
              "      <td>1187</td>\n",
              "      <td>1185</td>\n",
              "      <td>61.7489</td>\n",
              "      <td>1186</td>\n",
              "      <td>1.3743</td>\n",
              "    </tr>\n",
              "  </tbody>\n",
              "</table>\n",
              "</div>"
            ],
            "text/plain": [
              "         t     close    tt    t2    close2   tt2  derivee\n",
              "4379  2725   35.1550  2726  2724   36.8200  2725  -1.6650\n",
              "4380   550   61.1328   551   549   61.6067   550  -0.4739\n",
              "4381  1298   70.5634  1299  1297   70.8003  1298  -0.2369\n",
              "4382    65  211.1690    66    64  197.5210    65  13.6480\n",
              "4383  1186   63.1232  1187  1185   61.7489  1186   1.3743"
            ]
          },
          "execution_count": null,
          "metadata": {},
          "output_type": "execute_result"
        }
      ],
      "source": [
        "new_data = data.copy()\n",
        "new_data[\"tt\"] = new_data[\"t\"] + 1  # MAP\n",
        "new_data = new_data.merge(new_data, left_on=\"t\", right_on=\"tt\", suffixes=(\"\", \"2\")) # JOIN = MAP + REDUCE\n",
        "new_data[\"derivee\"] = new_data[\"close\"] - new_data[\"close2\"] # MAP\n",
        "print(new_data.shape)\n",
        "new_data.tail()"
      ]
    },
    {
      "cell_type": "markdown",
      "metadata": {},
      "source": [
        "### mesure de co\u00fbt"
      ]
    },
    {
      "cell_type": "code",
      "execution_count": null,
      "metadata": {
        "ExecuteTime": {
          "end_time": "2016-11-06T01:27:33.989522",
          "start_time": "2016-11-06T01:26:51.991077"
        },
        "collapsed": false,
        "scrolled": false
      },
      "outputs": [
        {
          "name": "stdout",
          "output_type": "stream",
          "text": [
            "1000 0.0037717420402145763 0.008367109383073057\n",
            "1020 0.003785854000227573 0.005082016145763646\n",
            "1040 0.003743090485045286 0.008503097361369782\n",
            "1060 0.0037435181201885825 0.006972591152532459\n",
            "1080 0.0037691762292979547 0.007878750039594706\n",
            "1100 0.003768320959011362 0.008485564320210415\n",
            "1120 0.003760195891118201 0.006120314294719265\n",
            "1140 0.0037854263650842768 0.007893289634694156\n",
            "1160 0.003835887312959585 0.010368014259086067\n",
            "1180 0.004088192052620343 0.008419708506778534\n",
            "1200 0.0037982554196673846 0.00512392439065934\n",
            "1220 0.0038286175154667035 0.0066856479656394185\n",
            "1240 0.003928256505844274 0.00574314009071486\n",
            "1260 0.0038431571105661533 0.009139846102641513\n",
            "1280 0.003846578191826211 0.008121219170732275\n",
            "1300 0.0038179266366000775 0.008659611827056324\n",
            "1320 0.00383845312393305 0.004760862146667932\n",
            "1340 0.003858979611209179 0.008790468183519806\n",
            "1360 0.0039492106282637 0.0061934399057008704\n",
            "1380 0.003844867651196182 0.007172296768544584\n",
            "1400 0.003862828327612533 0.008155002347677964\n",
            "1420 0.003966743669536754 0.004744184375738314\n",
            "1440 0.003880361368828744 0.007271508123778858\n",
            "1460 0.0038919075179251195 0.008054935722157097\n",
            "1480 0.003882071909458773 0.0052449451387133195\n",
            "1500 0.004140791176382663 0.00783940760555879\n",
            "1520 0.00415447550119552 0.005180372230768171\n",
            "1540 0.003906874748224709 0.007558023675585446\n",
            "1560 0.0039013154912481696 0.005471591769207862\n",
            "1580 0.0039316775870474885 0.008063488425193555\n",
            "1600 0.004065099754427592 0.007726084290254676\n",
            "1620 0.003894900963928194 0.007546905161632367\n",
            "1640 0.003929111776130867 0.007110289671516057\n",
            "1660 0.003938092114367464 0.007978389029972277\n",
            "1680 0.003928256505787431 0.006502192485413616\n",
            "1700 0.0038966115046150662 0.007510128538569916\n",
            "1720 0.00397786218343299 0.008296549583008073\n",
            "1740 0.004700565590212591 0.008455629859554392\n",
            "1760 0.004703986671472649 0.010557884266518158\n",
            "1780 0.0047698424849045296 0.012693921850541301\n",
            "1800 0.004235726180070287 0.009292939487067997\n",
            "1820 0.004766849038787768 0.008677144868272535\n",
            "1840 0.004448688485751973 0.0183464032890015\n",
            "1860 0.004378128685686988 0.02061714594589148\n",
            "1880 0.004295595101382332 0.01022903283467258\n",
            "1900 0.0039603291422167786 0.010116564789711902\n",
            "1920 0.0040069413738024195 0.008344444720023603\n",
            "1940 0.00418911394854149 0.010157190129177707\n",
            "1960 0.003983849075609669 0.007727367195741408\n",
            "1980 0.0039838490755528255 0.00857878878326801\n",
            "2000 0.004485465108814424 0.009440473614517941\n",
            "2020 0.003999671576252695 0.005916332327217333\n",
            "2040 0.004018487522898795 0.00792023064929026\n",
            "2060 0.003932105222190785 0.006890912838571239\n",
            "2080 0.003950065898607136 0.007865493349811459\n",
            "2100 0.004032599482911792 0.008831093522928768\n",
            "2120 0.00404927725384141 0.007842401051618708\n",
            "2140 0.004057402321734571 0.008749415208910705\n",
            "2160 0.004043290361721574 0.0073540417081403575\n",
            "2180 0.004050560159328143 0.008420991412265266\n",
            "2200 0.00405440887561781 0.008644216961556594\n",
            "2220 0.004063816848997703 0.007889868553490942\n",
            "2240 0.004065527389570889 0.008083587277326387\n",
            "2260 0.004081777525357211 0.008225989782943088\n",
            "2280 0.004082205160557351 0.008239674107812789\n",
            "2300 0.004459806999705052 0.009729554977184307\n",
            "2320 0.0040976000260002365 0.006057879562547441\n",
            "2340 0.004079639349583886 0.007713255235785255\n",
            "2360 0.00411213962115653 0.007717959222418358\n",
            "2380 0.004366582536590613 0.009228794214266145\n",
            "2400 0.0040937513095968825 0.010241006618912252\n",
            "2420 0.004130100297572881 0.011701808297971183\n",
            "2440 0.004112994891499966 0.006449593361708139\n",
            "2460 0.004124113405396201 0.008429971750388177\n",
            "2480 0.00411641597270318 0.00818066045684418\n",
            "2500 0.004110429080526501 0.00847187999528387\n",
            "2520 0.0041211199593362835 0.007863782809238273\n",
            "2540 0.004133949013919391 0.008306812826674559\n",
            "2560 0.004128817392086148 0.008544150335978884\n",
            "2580 0.004139935906039227 0.010463804533117127\n",
            "2600 0.004111711986013233 0.007863782809238273\n",
            "2620 0.004168159826065221 0.009592711728600989\n",
            "2640 0.004142929352099145 0.009773173762653187\n",
            "2660 0.004140791176382663 0.008370102829132975\n",
            "2680 0.0043366480759345905 0.008574512431778203\n",
            "2700 0.004127534486599416 0.00792023064929026\n",
            "2720 0.004536353691889872 0.011808289450812026\n",
            "2740 0.004161745298802089 0.006713871885665412\n",
            "2760 0.004157468947312282 0.008713921491334986\n",
            "2780 0.004140363541239367 0.005233398989616944\n",
            "2800 0.004150199149705713 0.007767137264863777\n",
            "2820 0.004266943546156199 0.006754069589931078\n",
            "2840 0.004162172933945385 0.00796812578630579\n",
            "2860 0.004275923884392796 0.00837352391033619\n",
            "2880 0.004182699421221514 0.008436386277708152\n",
            "2900 0.004219476044283965 0.015314042426552987\n",
            "2920 0.0043597403741841845 0.00918688596937045\n",
            "2940 0.004173291447898464 0.006495350322950344\n",
            "2960 0.004200232462437725 0.008752836290113919\n",
            "2980 0.004192962664888 0.008604446892434225\n",
            "3000 0.004166449285492035 0.008062633154850118\n",
            "3020 0.00418911394854149 0.007598649015051251\n",
            "3040 0.004181844150934921 0.008151581266531593\n",
            "3060 0.004292601655265571 0.008944416838232883\n",
            "3080 0.004761289781811229 0.01449896982694554\n",
            "3100 0.004424740917272629 0.009946365999269347\n",
            "3120 0.004522669367020171 0.011780493165986172\n",
            "3140 0.004213489152164129 0.00832477350309091\n",
            "3160 0.004192107394544564 0.008633526082746812\n",
            "3180 0.0042186207739973725 0.008485136685010275\n",
            "3200 0.004196383746148058 0.009179188536620586\n",
            "3220 0.0042117786115341005 0.009708600854764882\n",
            "3240 0.004197666651577947 0.008855896361751547\n",
            "3260 0.004219476044283965 0.009413532599864993\n",
            "3280 0.00421220624673424 0.007589241041671357\n",
            "3300 0.004236153815213584 0.009205274280930098\n",
            "3320 0.0044268790930459545 0.00836796465335965\n",
            "3340 0.0042267458418905335 0.009331426650760477\n",
            "3360 0.004232305098867073 0.007991218084555385\n",
            "3380 0.004217337868567483 0.009151392251794732\n",
            "3400 0.004242568342476716 0.008061777884563526\n",
            "3420 0.004231449828523637 0.008324773503034066\n",
            "3440 0.004261811924322956 0.009795838425759484\n",
            "3460 0.004232305098867073 0.0084821432390072\n",
            "3480 0.004262239559466252 0.007064960345417148\n",
            "3500 0.004248555234653395 0.0061545251069219375\n",
            "3520 0.004236153815213584 0.006365349236830298\n",
            "3540 0.004266515911069746 0.006222519096013457\n",
            "3560 0.0044119118626895215 0.006757490671134292\n",
            "3580 0.004245561788593477 0.00726423832617229\n",
            "3600 0.004249410504939988 0.007233020960086378\n",
            "3620 0.004261811924322956 0.008088291264016334\n",
            "3640 0.004263950100096281 0.006653575329266914\n",
            "3660 0.004491879636134399 0.008300398299354583\n",
            "3680 0.004339213886851212 0.008347010530940224\n",
            "3700 0.004256680302546556 0.007648254692639966\n",
            "3720 0.004263522464952985 0.008022435450641296\n",
            "3740 0.004266943546156199 0.0061382749711356155\n",
            "3760 0.004303292534075354 0.008221713431453281\n",
            "3780 0.004287470033489171 0.006776734252980532\n",
            "3800 0.004272930438276035 0.007847532673451951\n",
            "3820 0.004293029290408867 0.006784859320873693\n",
            "3840 0.004303292534075354 0.007286047718935151\n",
            "3860 0.004385398483293557 0.008930732513363182\n",
            "3880 0.004307141250478708 0.0069259789210036615\n",
            "3900 0.004454247742728512 0.008162699780484672\n",
            "3920 0.004425168552359082 0.008638657704523212\n",
            "3940 0.004311845237111811 0.009276689351281675\n",
            "3960 0.004320825575291565 0.007989079908725216\n",
            "3980 0.0042981609122421105 0.007478055902140568\n",
            "4000 0.004302437263788761 0.006323013356791307\n",
            "4020 0.00462957815500431 0.008695105544632042\n",
            "4040 0.004325957197124808 0.006874662702784917\n",
            "4060 0.004412339497832818 0.008223423972026467\n",
            "4080 0.004335792805591154 0.006464560592064572\n",
            "4100 0.00435589165778083 0.008225989782943088\n",
            "4120 0.004367865442020502 0.00807118585794342\n",
            "4140 0.004363161455330555 0.005989885573399079\n",
            "4160 0.004366582536590613 0.006535120392129556\n",
            "4180 0.004251976315856609 0.006587719515835033\n",
            "4200 0.004459806999705052 0.006624068503754188\n",
            "4220 0.004270792262559553 0.00635679653379384\n",
            "4240 0.0043516153062910234 0.007955296731722683\n",
            "4260 0.0044640833511948586 0.01165049207975244\n",
            "4280 0.004279344965539167 0.008581354594241475\n",
            "4300 0.004249838140083284 0.0081370416713753\n",
            "4320 0.004260956654036363 0.009238202187646039\n",
            "4340 0.004271647532846146 0.008023718356014342\n",
            "4360 0.004278489695252574 0.008586486216017875\n",
            "4380 0.004275496249192656 0.009379321787776007\n"
          ]
        },
        {
          "data": {
            "text/plain": [
              "<matplotlib.axes._subplots.AxesSubplot at 0x25a81e114a8>"
            ]
          },
          "execution_count": null,
          "metadata": {},
          "output_type": "execute_result"
        },
        {
          "data": {
            "image/png": "[encoded data removed]",
            "text/plain": [
              "<matplotlib.figure.Figure at 0x25a81e19470>"
            ]
          },
          "metadata": {},
          "output_type": "display_data"
        }
      ],
      "source": [
        "def derive(data):\n",
        "    new_data = data.copy()\n",
        "    new_data[\"tt\"] = new_data[\"t\"] + 1  # MAP\n",
        "    new_data = new_data.merge(new_data, left_on=\"t\", right_on=\"tt\", suffixes=(\"\", \"2\")) # JOIN = MAP + REDUCE\n",
        "    new_data[\"derivee\"] = new_data[\"close\"] - new_data[\"close2\"] # MAP\n",
        "    return new_data\n",
        "\n",
        "import time, pandas\n",
        "res = []\n",
        "for n in range(1000, len(data), 20):\n",
        "    df = data[0:n]\n",
        "    mean = []\n",
        "    for i in range(0, 50):\n",
        "        t = time.clock()\n",
        "        derive(df)\n",
        "        dt = time.clock() - t\n",
        "        mean.append(dt)\n",
        "    print(n, min(mean), max(mean))\n",
        "    res.append((n, mean[len(mean)//2]))\n",
        "stat = pandas.DataFrame(res, columns=[\"N\", \"processing time\"])\n",
        "stat.plot(x=\"N\", y=[\"processing time\"])"
      ]
    },
    {
      "cell_type": "markdown",
      "metadata": {},
      "source": [
        "### m\u00e9thode inefficace\n",
        "\n",
        "Dans ce cas, on fait un produit en croix de toutes les lignes de la bases avec elles-m\u00eame puis on filtre le r\u00e9sultat pour ne garder que les lignes qui v\u00e9rifient la condition souhait\u00e9e quelle qu'elle soit. Le temps d'ex\u00e9cution est en $O(N^2)$ et la diff\u00e9rence est vite significative."
      ]
    },
    {
      "cell_type": "code",
      "execution_count": null,
      "metadata": {
        "ExecuteTime": {
          "end_time": "2016-11-06T01:10:53.655160",
          "start_time": "2016-11-06T01:10:50.813287"
        },
        "collapsed": false
      },
      "outputs": [
        {
          "name": "stdout",
          "output_type": "stream",
          "text": [
            "(19228225, 7)\n",
            "(4385, 7)\n"
          ]
        },
        {
          "data": {
            "text/html": [
              "<div>\n",
              "<table border=\"1\" class=\"dataframe\">\n",
              "  <thead>\n",
              "    <tr style=\"text-align: right;\">\n",
              "      <th></th>\n",
              "      <th>t</th>\n",
              "      <th>close</th>\n",
              "      <th>tt</th>\n",
              "      <th>key</th>\n",
              "      <th>t2</th>\n",
              "      <th>close2</th>\n",
              "      <th>tt2</th>\n",
              "      <th>derivee</th>\n",
              "    </tr>\n",
              "  </thead>\n",
              "  <tbody>\n",
              "    <tr>\n",
              "      <th>19210680</th>\n",
              "      <td>2725</td>\n",
              "      <td>35.1550</td>\n",
              "      <td>2726</td>\n",
              "      <td>1</td>\n",
              "      <td>2725</td>\n",
              "      <td>35.1550</td>\n",
              "      <td>2726</td>\n",
              "      <td>0</td>\n",
              "    </tr>\n",
              "    <tr>\n",
              "      <th>19215066</th>\n",
              "      <td>550</td>\n",
              "      <td>61.1328</td>\n",
              "      <td>551</td>\n",
              "      <td>1</td>\n",
              "      <td>550</td>\n",
              "      <td>61.1328</td>\n",
              "      <td>551</td>\n",
              "      <td>0</td>\n",
              "    </tr>\n",
              "    <tr>\n",
              "      <th>19219452</th>\n",
              "      <td>1298</td>\n",
              "      <td>70.5634</td>\n",
              "      <td>1299</td>\n",
              "      <td>1</td>\n",
              "      <td>1298</td>\n",
              "      <td>70.5634</td>\n",
              "      <td>1299</td>\n",
              "      <td>0</td>\n",
              "    </tr>\n",
              "    <tr>\n",
              "      <th>19223838</th>\n",
              "      <td>65</td>\n",
              "      <td>211.1690</td>\n",
              "      <td>66</td>\n",
              "      <td>1</td>\n",
              "      <td>65</td>\n",
              "      <td>211.1690</td>\n",
              "      <td>66</td>\n",
              "      <td>0</td>\n",
              "    </tr>\n",
              "    <tr>\n",
              "      <th>19228224</th>\n",
              "      <td>1186</td>\n",
              "      <td>63.1232</td>\n",
              "      <td>1187</td>\n",
              "      <td>1</td>\n",
              "      <td>1186</td>\n",
              "      <td>63.1232</td>\n",
              "      <td>1187</td>\n",
              "      <td>0</td>\n",
              "    </tr>\n",
              "  </tbody>\n",
              "</table>\n",
              "</div>"
            ],
            "text/plain": [
              "             t     close    tt  key    t2    close2   tt2  derivee\n",
              "19210680  2725   35.1550  2726    1  2725   35.1550  2726        0\n",
              "19215066   550   61.1328   551    1   550   61.1328   551        0\n",
              "19219452  1298   70.5634  1299    1  1298   70.5634  1299        0\n",
              "19223838    65  211.1690    66    1    65  211.1690    66        0\n",
              "19228224  1186   63.1232  1187    1  1186   63.1232  1187        0"
            ]
          },
          "execution_count": null,
          "metadata": {},
          "output_type": "execute_result"
        }
      ],
      "source": [
        "new_data2 = data.copy()\n",
        "new_data2[\"tt\"] = new_data2[\"t\"] + 1  # MAP\n",
        "new_data2[\"key\"] = 1\n",
        "new_data2 = new_data2.merge(new_data2, on=\"key\", suffixes=(\"\", \"2\")) # JOIN = MAP = REDUCE\n",
        "print(new_data2.shape)\n",
        "new_data2 = new_data2[new_data2.t == new_data2.t2]\n",
        "print(new_data2.shape)\n",
        "new_data2[\"derivee\"] = new_data2[\"t\"] - new_data2[\"t2\"] # MAP\n",
        "new_data2.tail()"
      ]
    },
    {
      "cell_type": "markdown",
      "metadata": {},
      "source": [
        "## avec des it\u00e9rateurs"
      ]
    },
    {
      "cell_type": "markdown",
      "metadata": {},
      "source": [
        "## avec SQL"
      ]
    },
    {
      "cell_type": "code",
      "execution_count": null,
      "metadata": {
        "collapsed": true
      },
      "outputs": [],
      "source": []
    }
  ],
  "metadata": {
    "kernelspec": {
      "display_name": "Python 3",
      "language": "python",
      "name": "python3"
    },
    "language_info": {
      "codemirror_mode": {
        "name": "ipython",
        "version": 3
      },
      "file_extension": ".py",
      "mimetype": "text/x-python",
      "name": "python",
      "nbconvert_exporter": "python",
      "pygments_lexer": "ipython3",
      "version": "3.5.0"
    }
  },
  "nbformat": 4,
  "nbformat_minor": 1
}