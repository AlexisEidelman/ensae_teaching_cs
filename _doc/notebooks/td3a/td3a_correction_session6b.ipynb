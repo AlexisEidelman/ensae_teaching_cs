{
 "metadata": {
  "name": "",
  "signature": "sha256:8717dfa6c95f338efbafca16cb510a65dc8b5e3fac72b1601f8285b6d4a6934c"
 },
 "nbformat": 3,
 "nbformat_minor": 0,
 "worksheets": [
  {
   "cells": [
    {
     "cell_type": "heading",
     "level": 1,
     "metadata": {},
     "source": [
      "S\u00e9ance 6 : Map/Reduce avec PIG sur Azure"
     ]
    },
    {
     "cell_type": "markdown",
     "metadata": {},
     "source": [
      "Plan\n",
      "\n",
      "- [Exercice 1 : GROUP BY](#exo1)\n",
      "- [Exercice 2 : JOIN](#exo2)\n",
      "- [Prolongements](#prol)\n",
      "\n",
      "<div style=\"position:absolute; top:10px; right:5px; width:100px; margin:10px; background-color:#DDDDDD;\">\n",
      "[Exo 1 : GROUP BY](#exo1) -- [Exo 2 : JOIN](#exo2) -- [Prolongements](#prol)\n",
      "</div>\n",
      "\n",
      "On consid\u00e8re le jeu de donn\u00e9es suivant : [Localization Data for Person Activity Data Set](https://archive.ics.uci.edu/ml/datasets/Localization+Data+for+Person+Activity) qu'on r\u00e9cup\u00e8re comme suit :"
     ]
    },
    {
     "cell_type": "code",
     "collapsed": false,
     "input": [
      "import pyquickhelper, pyensae\n",
      "params={\"blob storage\":\"\", \"password1\":\"\", \"hadoop server\":\"\", \"password2\":\"\"}\n",
      "params = pyquickhelper.open_window_params(params=params,title=\"server + credentials\",help_string=\"renseigner\",key_save=\"hadoopaz\")\n",
      "blobstorage = params[\"blob storage\"]\n",
      "blobpassword = params[\"password1\"]\n",
      "hadoop_server = params[\"hadoop server\"]\n",
      "hadoop_password = params[\"password2\"]"
     ],
     "language": "python",
     "metadata": {},
     "outputs": [],
     "prompt_number": 1
    },
    {
     "cell_type": "code",
     "collapsed": false,
     "input": [
      "%hd_open"
     ],
     "language": "python",
     "metadata": {},
     "outputs": [
      {
       "metadata": {},
       "output_type": "pyout",
       "prompt_number": 2,
       "text": [
        "<azure.storage.blobservice.BlobService at 0x7212810>"
       ]
      }
     ],
     "prompt_number": 2
    },
    {
     "cell_type": "markdown",
     "metadata": {},
     "source": [
      "<h3 id=\"exo1\">Exercice 1 : GROUP BY</h3>"
     ]
    },
    {
     "cell_type": "code",
     "collapsed": false,
     "input": [
      "import pandas, sqlite3\n",
      "con = sqlite3.connect(\"ConfLongDemo_JSI.db3\")\n",
      "df = pandas.read_sql(\"\"\"SELECT activity, count(*) as nb FROM person GROUP BY activity\"\"\", con)\n",
      "con.close()\n",
      "df.head()"
     ],
     "language": "python",
     "metadata": {},
     "outputs": [
      {
       "html": [
        "<div style=\"max-height:1000px;max-width:1500px;overflow:auto;\">\n",
        "<table border=\"1\" class=\"dataframe\">\n",
        "  <thead>\n",
        "    <tr style=\"text-align: right;\">\n",
        "      <th></th>\n",
        "      <th>activity</th>\n",
        "      <th>nb</th>\n",
        "    </tr>\n",
        "  </thead>\n",
        "  <tbody>\n",
        "    <tr>\n",
        "      <th>0</th>\n",
        "      <td>      falling</td>\n",
        "      <td>  2973</td>\n",
        "    </tr>\n",
        "    <tr>\n",
        "      <th>1</th>\n",
        "      <td>        lying</td>\n",
        "      <td> 54480</td>\n",
        "    </tr>\n",
        "    <tr>\n",
        "      <th>2</th>\n",
        "      <td>   lying down</td>\n",
        "      <td>  6168</td>\n",
        "    </tr>\n",
        "    <tr>\n",
        "      <th>3</th>\n",
        "      <td> on all fours</td>\n",
        "      <td>  5210</td>\n",
        "    </tr>\n",
        "    <tr>\n",
        "      <th>4</th>\n",
        "      <td>      sitting</td>\n",
        "      <td> 27244</td>\n",
        "    </tr>\n",
        "  </tbody>\n",
        "</table>\n",
        "</div>"
       ],
       "metadata": {},
       "output_type": "pyout",
       "prompt_number": 9,
       "text": [
        "       activity     nb\n",
        "0       falling   2973\n",
        "1         lying  54480\n",
        "2    lying down   6168\n",
        "3  on all fours   5210\n",
        "4       sitting  27244"
       ]
      }
     ],
     "prompt_number": 9
    },
    {
     "cell_type": "markdown",
     "metadata": {},
     "source": [
      "On v\u00e9rifie que le fichier qu'on veut traiter est bien l\u00e0 :"
     ]
    },
    {
     "cell_type": "code",
     "collapsed": false,
     "input": [
      "df = %blob_ls /testensae/ConfLongDemo_JSI.small.txt\n",
      "df[[\"name\",\"content_length\"]]"
     ],
     "language": "python",
     "metadata": {},
     "outputs": [
      {
       "html": [
        "<div style=\"max-height:1000px;max-width:1500px;overflow:auto;\">\n",
        "<table border=\"1\" class=\"dataframe\">\n",
        "  <thead>\n",
        "    <tr style=\"text-align: right;\">\n",
        "      <th></th>\n",
        "      <th>name</th>\n",
        "      <th>content_length</th>\n",
        "    </tr>\n",
        "  </thead>\n",
        "  <tbody>\n",
        "    <tr>\n",
        "      <th>0</th>\n",
        "      <td> testensae/ConfLongDemo_JSI.small.txt</td>\n",
        "      <td> 132727</td>\n",
        "    </tr>\n",
        "  </tbody>\n",
        "</table>\n",
        "</div>"
       ],
       "metadata": {},
       "output_type": "pyout",
       "prompt_number": 23,
       "text": [
        "                                   name  content_length\n",
        "0  testensae/ConfLongDemo_JSI.small.txt          132727"
       ]
      }
     ],
     "prompt_number": 23
    },
    {
     "cell_type": "markdown",
     "metadata": {},
     "source": [
      "Il faut maintenant le faire avec PIG."
     ]
    },
    {
     "cell_type": "code",
     "collapsed": false,
     "input": [
      "%%PIG_azure solution_groupby.pig\n",
      "\n",
      "myinput = LOAD '__CONTAINER__testensae/ConfLongDemo_JSI.small.txt' \n",
      "          using PigStorage(',') \n",
      "          AS (index:long, sequence, tag, timestamp:long, dateformat, x:double,y:double, z:double, activity) ;\n",
      "\n",
      "gr = GROUP myinput BY activity ;\n",
      "avgact = FOREACH gr GENERATE group, COUNT(myinput) ; \n",
      "\n",
      "STORE avgact INTO '__CONTAINER__testensae/ConfLongDemo_JSI.small.group.txt' USING PigStorage() ;"
     ],
     "language": "python",
     "metadata": {},
     "outputs": [],
     "prompt_number": 3
    },
    {
     "cell_type": "markdown",
     "metadata": {},
     "source": [
      "On soumet le job :"
     ]
    },
    {
     "cell_type": "code",
     "collapsed": false,
     "input": [
      "username = \"xavierdupre\"\n",
      "%hd_pig_submit solution_groupby.pig"
     ],
     "language": "python",
     "metadata": {},
     "outputs": [
      {
       "metadata": {},
       "output_type": "pyout",
       "prompt_number": 26,
       "text": [
        "{'id': 'job_1414863995725_0024'}"
       ]
      }
     ],
     "prompt_number": 26
    },
    {
     "cell_type": "markdown",
     "metadata": {},
     "source": [
      "On v\u00e9rifie le status du job :"
     ]
    },
    {
     "cell_type": "code",
     "collapsed": false,
     "input": [
      "st = %hd_job_status job_1414863995725_0024\n",
      "st[\"id\"],st[\"percentComplete\"]"
     ],
     "language": "python",
     "metadata": {},
     "outputs": [
      {
       "metadata": {},
       "output_type": "pyout",
       "prompt_number": 28,
       "text": [
        "('job_1414863995725_0024', '100% complete')"
       ]
      }
     ],
     "prompt_number": 28
    },
    {
     "cell_type": "markdown",
     "metadata": {},
     "source": [
      "On regarde si la compilation s'est bien pass\u00e9e :"
     ]
    },
    {
     "cell_type": "code",
     "collapsed": false,
     "input": [
      "%tail_stderr 5"
     ],
     "language": "python",
     "metadata": {},
     "outputs": [
      {
       "html": [
        "<pre>\n",
        "\n",
        "2014-11-04 21:45:03,709 [main] WARN  org.apache.pig.backend.hadoop.executionengine.mapReduceLayer.MapReduceLauncher - No FileSystem for scheme: wasb. Not creating success file\n",
        "2014-11-04 21:45:03,709 [main] INFO  org.apache.hadoop.yarn.client.RMProxy - Connecting to ResourceManager at headnodehost/100.90.142.172:9010\n",
        "2014-11-04 21:45:03,772 [main] INFO  org.apache.hadoop.mapred.ClientServiceDelegate - Application state is completed. FinalApplicationStatus=SUCCEEDED. Redirecting to job history server\n",
        "2014-11-04 21:45:04,522 [main] INFO  org.apache.pig.backend.hadoop.executionengine.mapReduceLayer.MapReduceLauncher - Success!\n",
        "</pre>"
       ],
       "metadata": {},
       "output_type": "pyout",
       "prompt_number": 4,
       "text": [
        "<IPython.core.display.HTML at 0x7212c50>"
       ]
      }
     ],
     "prompt_number": 4
    },
    {
     "cell_type": "markdown",
     "metadata": {},
     "source": [
      "On regarde le contenu du r\u00e9pertoire sur le blob storage :"
     ]
    },
    {
     "cell_type": "code",
     "collapsed": false,
     "input": [
      "df=%blob_ls /testensae\n",
      "set(df[\"name\"])"
     ],
     "language": "python",
     "metadata": {},
     "outputs": [
      {
       "metadata": {},
       "output_type": "pyout",
       "prompt_number": 6,
       "text": [
        "{'testensae/ConfLongDemo_JSI.all.txt',\n",
        " 'testensae/ConfLongDemo_JSI.all.txt/_SUCCESS',\n",
        " 'testensae/ConfLongDemo_JSI.all.txt/part-m-00000',\n",
        " 'testensae/ConfLongDemo_JSI.small.group.txt',\n",
        " 'testensae/ConfLongDemo_JSI.small.group.txt/_SUCCESS',\n",
        " 'testensae/ConfLongDemo_JSI.small.group.txt/part-r-00000',\n",
        " 'testensae/ConfLongDemo_JSI.small.keep_walking.txt',\n",
        " 'testensae/ConfLongDemo_JSI.small.keep_walking.txt/_SUCCESS',\n",
        " 'testensae/ConfLongDemo_JSI.small.keep_walking.txt/part-m-00000',\n",
        " 'testensae/ConfLongDemo_JSI.small.nowalking.txt',\n",
        " 'testensae/ConfLongDemo_JSI.small.nowalking.txt/_SUCCESS',\n",
        " 'testensae/ConfLongDemo_JSI.small.nowalking.txt/part-m-00000',\n",
        " 'testensae/ConfLongDemo_JSI.small.txt',\n",
        " 'testensae/ConfLongDemo_JSI.small.walking.txt',\n",
        " 'testensae/ConfLongDemo_JSI.small.walking.txt/_SUCCESS',\n",
        " 'testensae/ConfLongDemo_JSI.small.walking.txt/part-m-00000',\n",
        " 'testensae/ConfLongDemo_JSI.walking.txt',\n",
        " 'testensae/ConfLongDemo_JSI.walking.txt/_SUCCESS',\n",
        " 'testensae/ConfLongDemo_JSI.walking.txt/part-m-00000',\n",
        " 'testensae/ConfLongDemo_JSI.walking2.txt',\n",
        " 'testensae/ConfLongDemo_JSI.walking2.txt/_SUCCESS',\n",
        " 'testensae/ConfLongDemo_JSI.walking2.txt/part-m-00000',\n",
        " 'testensae/ConfLongDemo_JSI.walking3.txt',\n",
        " 'testensae/ConfLongDemo_JSI.walking3.txt/_SUCCESS',\n",
        " 'testensae/ConfLongDemo_JSI.walking3.txt/part-m-00000',\n",
        " 'testensae/script.pig'}"
       ]
      }
     ],
     "prompt_number": 6
    },
    {
     "cell_type": "code",
     "collapsed": false,
     "input": [
      "%blob_down /testensae/ConfLongDemo_JSI.small.group.txt/part-r-00000 results.group.txt"
     ],
     "language": "python",
     "metadata": {},
     "outputs": [
      {
       "metadata": {},
       "output_type": "pyout",
       "prompt_number": 8,
       "text": [
        "'results.group.txt'"
       ]
      }
     ],
     "prompt_number": 8
    },
    {
     "cell_type": "code",
     "collapsed": false,
     "input": [
      "%more results.group.txt"
     ],
     "language": "python",
     "metadata": {},
     "outputs": [],
     "prompt_number": 9
    },
    {
     "cell_type": "markdown",
     "metadata": {},
     "source": [
      "<h3 id=\"exo2\">Exercice 2 : JOIN</h3>"
     ]
    },
    {
     "cell_type": "code",
     "collapsed": false,
     "input": [
      "con = sqlite3.connect(\"ConfLongDemo_JSI.db3\")\n",
      "df = pandas.read_sql(\"\"\"SELECT person.*, A.nb FROM person INNER JOIN (\n",
      "                            SELECT activity, count(*) as nb FROM person GROUP BY activity) AS A\n",
      "                            ON person.activity == A.activity\"\"\", con)\n",
      "con.close()\n",
      "df.head()"
     ],
     "language": "python",
     "metadata": {},
     "outputs": [
      {
       "html": [
        "<div style=\"max-height:1000px;max-width:1500px;overflow:auto;\">\n",
        "<table border=\"1\" class=\"dataframe\">\n",
        "  <thead>\n",
        "    <tr style=\"text-align: right;\">\n",
        "      <th></th>\n",
        "      <th>index</th>\n",
        "      <th>sequence</th>\n",
        "      <th>tag</th>\n",
        "      <th>timestamp</th>\n",
        "      <th>dateformat</th>\n",
        "      <th>x</th>\n",
        "      <th>y</th>\n",
        "      <th>z</th>\n",
        "      <th>activity</th>\n",
        "      <th>nb</th>\n",
        "    </tr>\n",
        "  </thead>\n",
        "  <tbody>\n",
        "    <tr>\n",
        "      <th>0</th>\n",
        "      <td> 0</td>\n",
        "      <td> A01</td>\n",
        "      <td> 010-000-024-033</td>\n",
        "      <td> 633790226051280329</td>\n",
        "      <td> 27.05.2009 14:03:25:127</td>\n",
        "      <td> 4.062931</td>\n",
        "      <td> 1.892434</td>\n",
        "      <td> 0.507425</td>\n",
        "      <td> walking</td>\n",
        "      <td> 32710</td>\n",
        "    </tr>\n",
        "    <tr>\n",
        "      <th>1</th>\n",
        "      <td> 1</td>\n",
        "      <td> A01</td>\n",
        "      <td> 020-000-033-111</td>\n",
        "      <td> 633790226051820913</td>\n",
        "      <td> 27.05.2009 14:03:25:183</td>\n",
        "      <td> 4.291954</td>\n",
        "      <td> 1.781140</td>\n",
        "      <td> 1.344495</td>\n",
        "      <td> walking</td>\n",
        "      <td> 32710</td>\n",
        "    </tr>\n",
        "    <tr>\n",
        "      <th>2</th>\n",
        "      <td> 2</td>\n",
        "      <td> A01</td>\n",
        "      <td> 020-000-032-221</td>\n",
        "      <td> 633790226052091205</td>\n",
        "      <td> 27.05.2009 14:03:25:210</td>\n",
        "      <td> 4.359101</td>\n",
        "      <td> 1.826456</td>\n",
        "      <td> 0.968821</td>\n",
        "      <td> walking</td>\n",
        "      <td> 32710</td>\n",
        "    </tr>\n",
        "    <tr>\n",
        "      <th>3</th>\n",
        "      <td> 3</td>\n",
        "      <td> A01</td>\n",
        "      <td> 010-000-024-033</td>\n",
        "      <td> 633790226052361498</td>\n",
        "      <td> 27.05.2009 14:03:25:237</td>\n",
        "      <td> 4.087835</td>\n",
        "      <td> 1.879999</td>\n",
        "      <td> 0.466983</td>\n",
        "      <td> walking</td>\n",
        "      <td> 32710</td>\n",
        "    </tr>\n",
        "    <tr>\n",
        "      <th>4</th>\n",
        "      <td> 4</td>\n",
        "      <td> A01</td>\n",
        "      <td> 010-000-030-096</td>\n",
        "      <td> 633790226052631792</td>\n",
        "      <td> 27.05.2009 14:03:25:263</td>\n",
        "      <td> 4.324462</td>\n",
        "      <td> 2.072460</td>\n",
        "      <td> 0.488065</td>\n",
        "      <td> walking</td>\n",
        "      <td> 32710</td>\n",
        "    </tr>\n",
        "  </tbody>\n",
        "</table>\n",
        "</div>"
       ],
       "metadata": {},
       "output_type": "pyout",
       "prompt_number": 10,
       "text": [
        "   index sequence              tag           timestamp  \\\n",
        "0      0      A01  010-000-024-033  633790226051280329   \n",
        "1      1      A01  020-000-033-111  633790226051820913   \n",
        "2      2      A01  020-000-032-221  633790226052091205   \n",
        "3      3      A01  010-000-024-033  633790226052361498   \n",
        "4      4      A01  010-000-030-096  633790226052631792   \n",
        "\n",
        "                dateformat         x         y         z activity     nb  \n",
        "0  27.05.2009 14:03:25:127  4.062931  1.892434  0.507425  walking  32710  \n",
        "1  27.05.2009 14:03:25:183  4.291954  1.781140  1.344495  walking  32710  \n",
        "2  27.05.2009 14:03:25:210  4.359101  1.826456  0.968821  walking  32710  \n",
        "3  27.05.2009 14:03:25:237  4.087835  1.879999  0.466983  walking  32710  \n",
        "4  27.05.2009 14:03:25:263  4.324462  2.072460  0.488065  walking  32710  "
       ]
      }
     ],
     "prompt_number": 10
    },
    {
     "cell_type": "markdown",
     "metadata": {},
     "source": [
      "Idem, maintenant il faut le faire avec PIG."
     ]
    },
    {
     "cell_type": "code",
     "collapsed": false,
     "input": [
      "%%PIG_azure solution_groupby_join.pig\n",
      "\n",
      "myinput = LOAD '__CONTAINER__testensae/ConfLongDemo_JSI.small.txt' \n",
      "          using PigStorage(',') \n",
      "          AS (index:long, sequence, tag, timestamp:long, dateformat, x:double,y:double, z:double, activity) ;\n",
      "\n",
      "gr = GROUP myinput BY activity ;\n",
      "avgact = FOREACH gr GENERATE group, COUNT(myinput) ; \n",
      "\n",
      "joined = JOIN myinput BY activity, avgact BY group ;\n",
      "\n",
      "STORE joined INTO '__CONTAINER__testensae/ConfLongDemo_JSI.small.group.join.txt' USING PigStorage() ;"
     ],
     "language": "python",
     "metadata": {},
     "outputs": [],
     "prompt_number": 20
    },
    {
     "cell_type": "code",
     "collapsed": false,
     "input": [
      "%hd_pig_submit solution_groupby_join.pig"
     ],
     "language": "python",
     "metadata": {},
     "outputs": [
      {
       "metadata": {},
       "output_type": "pyout",
       "prompt_number": 21,
       "text": [
        "{'id': 'job_1414863995725_0028'}"
       ]
      }
     ],
     "prompt_number": 21
    },
    {
     "cell_type": "code",
     "collapsed": false,
     "input": [
      "st = %hd_job_status job_1414863995725_0028\n",
      "st[\"id\"],st[\"percentComplete\"]"
     ],
     "language": "python",
     "metadata": {},
     "outputs": [
      {
       "metadata": {},
       "output_type": "pyout",
       "prompt_number": 22,
       "text": [
        "('job_1414863995725_0028', None)"
       ]
      }
     ],
     "prompt_number": 22
    },
    {
     "cell_type": "code",
     "collapsed": false,
     "input": [
      "df=%blob_ls /testensae\n",
      "ls=df[[\"name\",\"content_type\"]]\n",
      "k=ls [ ls.apply(lambda r : \"join\" in r[\"name\"], axis=1)]\n",
      "k"
     ],
     "language": "python",
     "metadata": {},
     "outputs": [
      {
       "html": [
        "<div style=\"max-height:1000px;max-width:1500px;overflow:auto;\">\n",
        "<table border=\"1\" class=\"dataframe\">\n",
        "  <thead>\n",
        "    <tr style=\"text-align: right;\">\n",
        "      <th></th>\n",
        "      <th>name</th>\n",
        "      <th>content_type</th>\n",
        "    </tr>\n",
        "  </thead>\n",
        "  <tbody>\n",
        "    <tr>\n",
        "      <th>3</th>\n",
        "      <td>   testensae/ConfLongDemo_JSI.small.group.join.txt</td>\n",
        "      <td>                         </td>\n",
        "    </tr>\n",
        "    <tr>\n",
        "      <th>4</th>\n",
        "      <td> testensae/ConfLongDemo_JSI.small.group.join.tx...</td>\n",
        "      <td> application/octet-stream</td>\n",
        "    </tr>\n",
        "    <tr>\n",
        "      <th>5</th>\n",
        "      <td> testensae/ConfLongDemo_JSI.small.group.join.tx...</td>\n",
        "      <td> application/octet-stream</td>\n",
        "    </tr>\n",
        "  </tbody>\n",
        "</table>\n",
        "</div>"
       ],
       "metadata": {},
       "output_type": "pyout",
       "prompt_number": 23,
       "text": [
        "                                                name              content_type\n",
        "3    testensae/ConfLongDemo_JSI.small.group.join.txt                          \n",
        "4  testensae/ConfLongDemo_JSI.small.group.join.tx...  application/octet-stream\n",
        "5  testensae/ConfLongDemo_JSI.small.group.join.tx...  application/octet-stream"
       ]
      }
     ],
     "prompt_number": 23
    },
    {
     "cell_type": "code",
     "collapsed": false,
     "input": [
      "set(k.name)"
     ],
     "language": "python",
     "metadata": {},
     "outputs": [
      {
       "metadata": {},
       "output_type": "pyout",
       "prompt_number": 24,
       "text": [
        "{'testensae/ConfLongDemo_JSI.small.group.join.txt',\n",
        " 'testensae/ConfLongDemo_JSI.small.group.join.txt/_SUCCESS',\n",
        " 'testensae/ConfLongDemo_JSI.small.group.join.txt/part-r-00000'}"
       ]
      }
     ],
     "prompt_number": 24
    },
    {
     "cell_type": "code",
     "collapsed": false,
     "input": [
      "%blob_down /testensae/ConfLongDemo_JSI.small.group.join.txt/part-r-00000 results.join.txt"
     ],
     "language": "python",
     "metadata": {},
     "outputs": [
      {
       "metadata": {},
       "output_type": "pyout",
       "prompt_number": 25,
       "text": [
        "'results.join.txt'"
       ]
      }
     ],
     "prompt_number": 25
    },
    {
     "cell_type": "code",
     "collapsed": false,
     "input": [
      "%more results.join.txt"
     ],
     "language": "python",
     "metadata": {},
     "outputs": [],
     "prompt_number": 26
    },
    {
     "cell_type": "markdown",
     "metadata": {},
     "source": [
      "<h3 id=\"prol\">Prolongements</h3>\n",
      "\n",
      "[PIG](http://pig.apache.org/) n'est pas la seule fa\u00e7on d'ex\u00e9cuter des jobs Map/Reduce. [Hive](https://hive.apache.org/) est un langage dont la syntaxe est tr\u00e8s proche de celle du SQL. L'article [Comparing Pig Latin and SQL for Constructing Data Processing Pipelines](https://developer.yahoo.com/blogs/hadoop/comparing-pig-latin-sql-constructing-data-processing-pipelines-444.html) explicite les diff\u00e9rences des deux approches.\n",
      "\n",
      "**langage haut niveau**\n",
      "\n",
      "Ce qu'il faut retenir est que le langage PIG est un langage haut niveau. Le programme est compil\u00e9 en une s\u00e9quence d'op\u00e9rations Map/Reduce transparente pour l'utilisateur. Le temps de d\u00e9veloppement est tr\u00e8s r\u00e9duit lorsqu'on le compare au m\u00eame programme \u00e9crit en Java. Le compilateur construit un plan d'ex\u00e9cution ([quelques exemples ici](http://chimera.labs.oreilly.com/books/1234000001811/ch07.html#explain)) et inf\u00e8re le nombre de machines requises pour distribuer le job. Cela suffit pour la plupart des besoins, cela n\u00e9cessite.\n",
      "\n",
      "**petits jeux**\n",
      "\n",
      "Certains jobs peuvent durer des heures, il est conseill\u00e9e de les essayer sur des petits jeux de donn\u00e9es avant de les faire tourner sur les vrais donn\u00e9es. Il est toujours frustrant de s'apercevoir qu'un job a plant\u00e9 au bout de deux heures car une cha\u00eene de caract\u00e8res est vide et que ce cas n'a pas \u00e9t\u00e9 pr\u00e9vu.\n",
      "\n",
      "Avec ces petits jeux, il est possible de faire tourner et conseill\u00e9 de tester le job d'abord sur la passerelle ([ex\u00e9cution local](http://archive.cloudera.com/cdh/3/pig/tutorial.html#Running+the+Pig+Scripts+in+Local+Mode)) avant de le lancer sur le cluster. Avec pyensae, il faut ajouter l'option ``-local`` \u00e0 la commande ``jobsubmit``.\n",
      "\n",
      "**concat\u00e9ner les fichiers divis\u00e9s**\n",
      "\n",
      "Un programme PIG ne produit pas un fichier mais plusieurs fichiers dans un r\u00e9pertoire. La commande [getmerge](http://hadoop.apache.org/docs/r2.3.0/hadoop-project-dist/hadoop-common/FileSystemShell.html) t\u00e9l\u00e9charge ces fichiers sur la passerelle et les fusionne en un seul.\n",
      "\n",
      "**ordre des lignes**\n",
      "\n",
      "Les jobs sont distribu\u00e9s, m\u00eame en faisant rien (LOAD + STORE), il n'est pas garanti que l'ordre des lignes soit pr\u00e9serv\u00e9. La probabili\u00e9 que ce soit le cas est quasi nulle."
     ]
    },
    {
     "cell_type": "code",
     "collapsed": false,
     "input": [],
     "language": "python",
     "metadata": {},
     "outputs": []
    }
   ],
   "metadata": {}
  }
 ]
}