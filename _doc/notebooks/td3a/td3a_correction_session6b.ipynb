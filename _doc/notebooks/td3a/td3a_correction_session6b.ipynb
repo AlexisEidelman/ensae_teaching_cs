{
 "cells": [
  {
   "cell_type": "markdown",
   "metadata": {},
   "source": [
    "# Séance 6 : Map/Reduce avec PIG sur Azure"
   ]
  },
  {
   "cell_type": "markdown",
   "metadata": {},
   "source": [
    "Plan\n",
    "\n",
    "- [Exercice 1 : GROUP BY](#exo1)\n",
    "- [Exercice 2 : JOIN](#exo2)\n",
    "- [Prolongements](#prol)\n",
    "\n",
    "<div style=\"position:absolute; top:10px; right:5px; width:100px; margin:10px; background-color:#DDDDDD;\">\n",
    "[Exo 1 : GROUP BY](#exo1) -- [Exo 2 : JOIN](#exo2) -- [Prolongements](#prol)\n",
    "</div>\n",
    "\n",
    "On considère le jeu de données suivant : [Localization Data for Person Activity Data Set](https://archive.ics.uci.edu/ml/datasets/Localization+Data+for+Person+Activity) qu'on récupère comme suit :"
   ]
  },
  {
   "cell_type": "code",
   "execution_count": 1,
   "metadata": {
    "collapsed": false
   },
   "outputs": [
    {
     "data": {
      "text/html": [
       "<div style=\"background-color:gainsboro; padding:2px; border:0px;\"><b>server + hadoop + credentials</b>\n",
       "<br />blob_storage <input type=\"text\" id=\"blobhpblob_storage\" value=\"\" size=\"80\" />\n",
       "<br />hadoop_server <input type=\"text\" id=\"blobhphadoop_server\" value=\"\" size=\"80\" />\n",
       "<br />password1 <input type=\"password\" id=\"blobhppassword1\" value=\"\" size=\"80\" />\n",
       "<br />password2 <input type=\"password\" id=\"blobhppassword2\" value=\"\" size=\"80\" />\n",
       "<br />username <input type=\"text\" id=\"blobhpusername\" value=\"xavierdupre\" size=\"80\" />\n",
       "<br /><button onclick=\"set_valueblobhp()\">Ok</button></div>\n",
       "<script type=\"text/Javascript\">\n",
       "function blobhpcallback(msg) {\n",
       "   var ret = msg.content.data['text/plain'];\n",
       "   $('#outblobhp').text(ret);\n",
       "}\n",
       "function set_valueblobhp(){\n",
       "   command='blobhp = {' ;\n",
       "   var blobhpblob_storagevar_value = document.getElementById('blobhpblob_storage').value;\n",
       "   command += '\"blob_storage\":\"' + blobhpblob_storagevar_value + '\",';\n",
       "   var blobhphadoop_servervar_value = document.getElementById('blobhphadoop_server').value;\n",
       "   command += '\"hadoop_server\":\"' + blobhphadoop_servervar_value + '\",';\n",
       "   var blobhppassword1var_value = document.getElementById('blobhppassword1').value;\n",
       "   command += '\"password1\":\"' + blobhppassword1var_value + '\",';\n",
       "   var blobhppassword2var_value = document.getElementById('blobhppassword2').value;\n",
       "   command += '\"password2\":\"' + blobhppassword2var_value + '\",';\n",
       "   var blobhpusernamevar_value = document.getElementById('blobhpusername').value;\n",
       "   command += '\"username\":\"' + blobhpusernamevar_value + '\",';\n",
       "   command += '}';\n",
       "   var kernel = IPython.notebook.kernel;\n",
       "   kernel.execute(command);\n",
       "}\n",
       "</script>"
      ],
      "text/plain": [
       "<IPython.core.display.HTML at 0x7272b70>"
      ]
     },
     "execution_count": 1,
     "metadata": {},
     "output_type": "execute_result"
    }
   ],
   "source": [
    "import pyquickhelper\n",
    "params={\"blob_storage\":\"\", \"password1\":\"\", \"hadoop_server\":\"\", \"password2\":\"\", \"username\":\"xavierdupre\"}\n",
    "pyquickhelper.open_html_form(params=params,title=\"server + hadoop + credentials\", key_save=\"blobhp\")"
   ]
  },
  {
   "cell_type": "code",
   "execution_count": 2,
   "metadata": {
    "collapsed": false
   },
   "outputs": [],
   "source": [
    "blobstorage = blobhp[\"blob_storage\"]\n",
    "blobpassword = blobhp[\"password1\"]\n",
    "hadoop_server = blobhp[\"hadoop_server\"]\n",
    "hadoop_password = blobhp[\"password2\"]\n",
    "username = blobhp[\"username\"]"
   ]
  },
  {
   "cell_type": "code",
   "execution_count": 3,
   "metadata": {
    "collapsed": false
   },
   "outputs": [
    {
     "data": {
      "text/plain": [
       "(<pyensae.remote.azure_connection.AzureClient at 0x7272930>,\n",
       " <azure.storage.blobservice.BlobService at 0x7272990>)"
      ]
     },
     "execution_count": 3,
     "metadata": {},
     "output_type": "execute_result"
    }
   ],
   "source": [
    "import pyensae\n",
    "%hd_open"
   ]
  },
  {
   "cell_type": "markdown",
   "metadata": {},
   "source": [
    "<h3 id=\"exo1\">Exercice 1 : GROUP BY</h3>"
   ]
  },
  {
   "cell_type": "code",
   "execution_count": 9,
   "metadata": {
    "collapsed": false
   },
   "outputs": [
    {
     "data": {
      "text/html": [
       "<div style=\"max-height:1000px;max-width:1500px;overflow:auto;\">\n",
       "<table border=\"1\" class=\"dataframe\">\n",
       "  <thead>\n",
       "    <tr style=\"text-align: right;\">\n",
       "      <th></th>\n",
       "      <th>activity</th>\n",
       "      <th>nb</th>\n",
       "    </tr>\n",
       "  </thead>\n",
       "  <tbody>\n",
       "    <tr>\n",
       "      <th>0</th>\n",
       "      <td>      falling</td>\n",
       "      <td>  2973</td>\n",
       "    </tr>\n",
       "    <tr>\n",
       "      <th>1</th>\n",
       "      <td>        lying</td>\n",
       "      <td> 54480</td>\n",
       "    </tr>\n",
       "    <tr>\n",
       "      <th>2</th>\n",
       "      <td>   lying down</td>\n",
       "      <td>  6168</td>\n",
       "    </tr>\n",
       "    <tr>\n",
       "      <th>3</th>\n",
       "      <td> on all fours</td>\n",
       "      <td>  5210</td>\n",
       "    </tr>\n",
       "    <tr>\n",
       "      <th>4</th>\n",
       "      <td>      sitting</td>\n",
       "      <td> 27244</td>\n",
       "    </tr>\n",
       "  </tbody>\n",
       "</table>\n",
       "</div>"
      ],
      "text/plain": [
       "       activity     nb\n",
       "0       falling   2973\n",
       "1         lying  54480\n",
       "2    lying down   6168\n",
       "3  on all fours   5210\n",
       "4       sitting  27244"
      ]
     },
     "execution_count": 9,
     "metadata": {},
     "output_type": "execute_result"
    }
   ],
   "source": [
    "import pandas, sqlite3\n",
    "con = sqlite3.connect(\"ConfLongDemo_JSI.db3\")\n",
    "df = pandas.read_sql(\"\"\"SELECT activity, count(*) as nb FROM person GROUP BY activity\"\"\", con)\n",
    "con.close()\n",
    "df.head()"
   ]
  },
  {
   "cell_type": "markdown",
   "metadata": {},
   "source": [
    "On vérifie que le fichier qu'on veut traiter est bien là :"
   ]
  },
  {
   "cell_type": "code",
   "execution_count": 4,
   "metadata": {
    "collapsed": false
   },
   "outputs": [
    {
     "data": {
      "text/html": [
       "<div style=\"max-height:1000px;max-width:1500px;overflow:auto;\">\n",
       "<table border=\"1\" class=\"dataframe\">\n",
       "  <thead>\n",
       "    <tr style=\"text-align: right;\">\n",
       "      <th></th>\n",
       "      <th>name</th>\n",
       "      <th>last_modified</th>\n",
       "      <th>content_type</th>\n",
       "      <th>content_length</th>\n",
       "      <th>blob_type</th>\n",
       "    </tr>\n",
       "  </thead>\n",
       "  <tbody>\n",
       "    <tr>\n",
       "      <th>0</th>\n",
       "      <td> testensae/ConfLongDemo_JSI.small.txt</td>\n",
       "      <td> Tue, 25 Nov 2014 00:49:05 GMT</td>\n",
       "      <td> application/octet-stream</td>\n",
       "      <td> 132727</td>\n",
       "      <td> BlockBlob</td>\n",
       "    </tr>\n",
       "  </tbody>\n",
       "</table>\n",
       "</div>"
      ],
      "text/plain": [
       "                                   name                  last_modified  \\\n",
       "0  testensae/ConfLongDemo_JSI.small.txt  Tue, 25 Nov 2014 00:49:05 GMT   \n",
       "\n",
       "               content_type  content_length  blob_type  \n",
       "0  application/octet-stream          132727  BlockBlob  "
      ]
     },
     "execution_count": 4,
     "metadata": {},
     "output_type": "execute_result"
    }
   ],
   "source": [
    "%blob_ls /testensae/ConfLongDemo_JSI.small.txt"
   ]
  },
  {
   "cell_type": "markdown",
   "metadata": {},
   "source": [
    "Il faut maintenant le faire avec PIG."
   ]
  },
  {
   "cell_type": "code",
   "execution_count": 27,
   "metadata": {
    "collapsed": false
   },
   "outputs": [],
   "source": [
    "%%PIG_azure solution_groupby.pig\n",
    "\n",
    "myinput = LOAD '$CONTAINER/testensae/ConfLongDemo_JSI.small.txt' \n",
    "          using PigStorage(',') \n",
    "          AS (index:long, sequence, tag, timestamp:long, dateformat, x:double,y:double, z:double, activity) ;\n",
    "\n",
    "gr = GROUP myinput BY activity ;\n",
    "avgact = FOREACH gr GENERATE group, COUNT(myinput) ; \n",
    "\n",
    "STORE avgact INTO '$CONTAINER/$PSEUDO/testensae/ConfLongDemo_JSI.small.group.txt' USING PigStorage() ;"
   ]
  },
  {
   "cell_type": "markdown",
   "metadata": {},
   "source": [
    "On soumet le job :"
   ]
  },
  {
   "cell_type": "code",
   "execution_count": 28,
   "metadata": {
    "collapsed": false
   },
   "outputs": [
    {
     "data": {
      "text/plain": [
       "{'id': 'job_1416874839254_0007'}"
      ]
     },
     "execution_count": 28,
     "metadata": {},
     "output_type": "execute_result"
    }
   ],
   "source": [
    "%hd_pig_submit solution_groupby.pig"
   ]
  },
  {
   "cell_type": "markdown",
   "metadata": {},
   "source": [
    "On vérifie le status du job :"
   ]
  },
  {
   "cell_type": "code",
   "execution_count": 36,
   "metadata": {
    "collapsed": false
   },
   "outputs": [
    {
     "data": {
      "text/plain": [
       "('job_1416874839254_0007', '100% complete')"
      ]
     },
     "execution_count": 36,
     "metadata": {},
     "output_type": "execute_result"
    }
   ],
   "source": [
    "st = %hd_job_status job_1416874839254_0007\n",
    "st[\"id\"],st[\"percentComplete\"]"
   ]
  },
  {
   "cell_type": "markdown",
   "metadata": {},
   "source": [
    "On regarde si la compilation s'est bien passée :"
   ]
  },
  {
   "cell_type": "code",
   "execution_count": 37,
   "metadata": {
    "collapsed": false
   },
   "outputs": [
    {
     "data": {
      "text/html": [
       "<pre>\n",
       "\n",
       "Output(s):\n",
       "Successfully stored 6 records in: \"wasb://hdblobstorage@hdblobstorage.blob.core.windows.net//xavierdupre/testensae/ConfLongDemo_JSI.small.group.txt\"\n",
       "\n",
       "Counters:\n",
       "Total records written : 6\n",
       "Total bytes written : 0\n",
       "Spillable Memory Manager spill count : 0\n",
       "Total bags proactively spilled: 0\n",
       "Total records proactively spilled: 0\n",
       "\n",
       "Job DAG:\n",
       "job_1416874839254_0008\n",
       "\n",
       "\n",
       "2014-11-25 01:12:56,531 [main] WARN  org.apache.pig.backend.hadoop.executionengine.mapReduceLayer.MapReduceLauncher - No FileSystem for scheme: wasb. Not creating success file\n",
       "2014-11-25 01:12:56,531 [main] INFO  org.apache.hadoop.yarn.client.RMProxy - Connecting to ResourceManager at headnodehost/100.74.20.101:9010\n",
       "2014-11-25 01:12:56,609 [main] INFO  org.apache.hadoop.mapred.ClientServiceDelegate - Application state is completed. FinalApplicationStatus=SUCCEEDED. Redirecting to job history server\n",
       "2014-11-25 01:12:57,396 [main] INFO  org.apache.pig.backend.hadoop.executionengine.mapReduceLayer.MapReduceLauncher - Success!\n",
       "\n",
       "</pre>"
      ],
      "text/plain": [
       "<IPython.core.display.HTML at 0x9dda310>"
      ]
     },
     "execution_count": 37,
     "metadata": {},
     "output_type": "execute_result"
    }
   ],
   "source": [
    "%tail_stderr job_1416874839254_0007"
   ]
  },
  {
   "cell_type": "markdown",
   "metadata": {},
   "source": [
    "On regarde le contenu du répertoire sur le blob storage :"
   ]
  },
  {
   "cell_type": "code",
   "execution_count": 39,
   "metadata": {
    "collapsed": false
   },
   "outputs": [
    {
     "data": {
      "text/plain": [
       "['xavierdupre/testensae',\n",
       " 'xavierdupre/testensae/ConfLongDemo_JSI.small.group.txt',\n",
       " 'xavierdupre/testensae/ConfLongDemo_JSI.small.group.txt/_SUCCESS',\n",
       " 'xavierdupre/testensae/ConfLongDemo_JSI.small.group.txt/part-r-00000',\n",
       " 'xavierdupre/testensae/ConfLongDemo_JSI.small.keep_walking.txt',\n",
       " 'xavierdupre/testensae/ConfLongDemo_JSI.small.keep_walking.txt/_SUCCESS',\n",
       " 'xavierdupre/testensae/ConfLongDemo_JSI.small.keep_walking.txt/part-m-00000']"
      ]
     },
     "execution_count": 39,
     "metadata": {},
     "output_type": "execute_result"
    }
   ],
   "source": [
    "df=%blob_ls /$PSEUDO/testensae\n",
    "list(df[\"name\"])"
   ]
  },
  {
   "cell_type": "code",
   "execution_count": 40,
   "metadata": {
    "collapsed": false
   },
   "outputs": [
    {
     "data": {
      "text/plain": [
       "'results.group.txt'"
      ]
     },
     "execution_count": 40,
     "metadata": {},
     "output_type": "execute_result"
    }
   ],
   "source": [
    "if os.path.exists(\"results.group.txt\") : os.remove(\"results.group.txt\")\n",
    "%blob_downmerge /$PSEUDO/testensae/ConfLongDemo_JSI.small.group.txt results.group.txt"
   ]
  },
  {
   "cell_type": "code",
   "execution_count": 41,
   "metadata": {
    "collapsed": false
   },
   "outputs": [
    {
     "data": {
      "text/html": [
       "<div style=\"max-height:1000px;max-width:1500px;overflow:auto;\">\n",
       "<table border=\"1\" class=\"dataframe\">\n",
       "  <thead>\n",
       "    <tr style=\"text-align: right;\">\n",
       "      <th></th>\n",
       "      <th>directory</th>\n",
       "      <th>last_modified</th>\n",
       "      <th>name</th>\n",
       "      <th>size</th>\n",
       "    </tr>\n",
       "  </thead>\n",
       "  <tbody>\n",
       "    <tr>\n",
       "      <th>0</th>\n",
       "      <td> False</td>\n",
       "      <td>2014-11-25 02:13:25.765700</td>\n",
       "      <td>    .\\results.group.txt</td>\n",
       "      <td>        89</td>\n",
       "    </tr>\n",
       "    <tr>\n",
       "      <th>1</th>\n",
       "      <td> False</td>\n",
       "      <td>2014-11-15 15:46:38.696604</td>\n",
       "      <td>     .\\results.join.txt</td>\n",
       "      <td> 140.68 Kb</td>\n",
       "    </tr>\n",
       "    <tr>\n",
       "      <th>2</th>\n",
       "      <td> False</td>\n",
       "      <td>2014-11-25 01:51:48.758441</td>\n",
       "      <td>          .\\results.txt</td>\n",
       "      <td>  21.65 Kb</td>\n",
       "    </tr>\n",
       "    <tr>\n",
       "      <th>3</th>\n",
       "      <td> False</td>\n",
       "      <td>2014-11-25 01:52:18.198632</td>\n",
       "      <td> .\\results_allfiles.txt</td>\n",
       "      <td>  21.65 Kb</td>\n",
       "    </tr>\n",
       "  </tbody>\n",
       "</table>\n",
       "</div>"
      ],
      "text/plain": [
       "  directory              last_modified                    name       size\n",
       "0     False 2014-11-25 02:13:25.765700     .\\results.group.txt         89\n",
       "1     False 2014-11-15 15:46:38.696604      .\\results.join.txt  140.68 Kb\n",
       "2     False 2014-11-25 01:51:48.758441           .\\results.txt   21.65 Kb\n",
       "3     False 2014-11-25 01:52:18.198632  .\\results_allfiles.txt   21.65 Kb"
      ]
     },
     "execution_count": 41,
     "metadata": {},
     "output_type": "execute_result"
    }
   ],
   "source": [
    "%lsr res.*[.]txt"
   ]
  },
  {
   "cell_type": "code",
   "execution_count": 43,
   "metadata": {
    "collapsed": false
   },
   "outputs": [
    {
     "data": {
      "text/html": [
       "<pre>\n",
       "lying\t267\n",
       "falling\t30\n",
       "sitting\t435\n",
       "walking\t170\n",
       "sitting down\t56\n",
       "standing up from sitting\t42\n",
       "\n",
       "</pre>"
      ],
      "text/plain": [
       "<IPython.core.display.HTML at 0x9dda670>"
      ]
     },
     "execution_count": 43,
     "metadata": {},
     "output_type": "execute_result"
    }
   ],
   "source": [
    "%head results.group.txt"
   ]
  },
  {
   "cell_type": "markdown",
   "metadata": {},
   "source": [
    "<h3 id=\"exo2\">Exercice 2 : JOIN</h3>"
   ]
  },
  {
   "cell_type": "code",
   "execution_count": 10,
   "metadata": {
    "collapsed": false
   },
   "outputs": [
    {
     "data": {
      "text/html": [
       "<div style=\"max-height:1000px;max-width:1500px;overflow:auto;\">\n",
       "<table border=\"1\" class=\"dataframe\">\n",
       "  <thead>\n",
       "    <tr style=\"text-align: right;\">\n",
       "      <th></th>\n",
       "      <th>index</th>\n",
       "      <th>sequence</th>\n",
       "      <th>tag</th>\n",
       "      <th>timestamp</th>\n",
       "      <th>dateformat</th>\n",
       "      <th>x</th>\n",
       "      <th>y</th>\n",
       "      <th>z</th>\n",
       "      <th>activity</th>\n",
       "      <th>nb</th>\n",
       "    </tr>\n",
       "  </thead>\n",
       "  <tbody>\n",
       "    <tr>\n",
       "      <th>0</th>\n",
       "      <td> 0</td>\n",
       "      <td> A01</td>\n",
       "      <td> 010-000-024-033</td>\n",
       "      <td> 633790226051280329</td>\n",
       "      <td> 27.05.2009 14:03:25:127</td>\n",
       "      <td> 4.062931</td>\n",
       "      <td> 1.892434</td>\n",
       "      <td> 0.507425</td>\n",
       "      <td> walking</td>\n",
       "      <td> 32710</td>\n",
       "    </tr>\n",
       "    <tr>\n",
       "      <th>1</th>\n",
       "      <td> 1</td>\n",
       "      <td> A01</td>\n",
       "      <td> 020-000-033-111</td>\n",
       "      <td> 633790226051820913</td>\n",
       "      <td> 27.05.2009 14:03:25:183</td>\n",
       "      <td> 4.291954</td>\n",
       "      <td> 1.781140</td>\n",
       "      <td> 1.344495</td>\n",
       "      <td> walking</td>\n",
       "      <td> 32710</td>\n",
       "    </tr>\n",
       "    <tr>\n",
       "      <th>2</th>\n",
       "      <td> 2</td>\n",
       "      <td> A01</td>\n",
       "      <td> 020-000-032-221</td>\n",
       "      <td> 633790226052091205</td>\n",
       "      <td> 27.05.2009 14:03:25:210</td>\n",
       "      <td> 4.359101</td>\n",
       "      <td> 1.826456</td>\n",
       "      <td> 0.968821</td>\n",
       "      <td> walking</td>\n",
       "      <td> 32710</td>\n",
       "    </tr>\n",
       "    <tr>\n",
       "      <th>3</th>\n",
       "      <td> 3</td>\n",
       "      <td> A01</td>\n",
       "      <td> 010-000-024-033</td>\n",
       "      <td> 633790226052361498</td>\n",
       "      <td> 27.05.2009 14:03:25:237</td>\n",
       "      <td> 4.087835</td>\n",
       "      <td> 1.879999</td>\n",
       "      <td> 0.466983</td>\n",
       "      <td> walking</td>\n",
       "      <td> 32710</td>\n",
       "    </tr>\n",
       "    <tr>\n",
       "      <th>4</th>\n",
       "      <td> 4</td>\n",
       "      <td> A01</td>\n",
       "      <td> 010-000-030-096</td>\n",
       "      <td> 633790226052631792</td>\n",
       "      <td> 27.05.2009 14:03:25:263</td>\n",
       "      <td> 4.324462</td>\n",
       "      <td> 2.072460</td>\n",
       "      <td> 0.488065</td>\n",
       "      <td> walking</td>\n",
       "      <td> 32710</td>\n",
       "    </tr>\n",
       "  </tbody>\n",
       "</table>\n",
       "</div>"
      ],
      "text/plain": [
       "   index sequence              tag           timestamp  \\\n",
       "0      0      A01  010-000-024-033  633790226051280329   \n",
       "1      1      A01  020-000-033-111  633790226051820913   \n",
       "2      2      A01  020-000-032-221  633790226052091205   \n",
       "3      3      A01  010-000-024-033  633790226052361498   \n",
       "4      4      A01  010-000-030-096  633790226052631792   \n",
       "\n",
       "                dateformat         x         y         z activity     nb  \n",
       "0  27.05.2009 14:03:25:127  4.062931  1.892434  0.507425  walking  32710  \n",
       "1  27.05.2009 14:03:25:183  4.291954  1.781140  1.344495  walking  32710  \n",
       "2  27.05.2009 14:03:25:210  4.359101  1.826456  0.968821  walking  32710  \n",
       "3  27.05.2009 14:03:25:237  4.087835  1.879999  0.466983  walking  32710  \n",
       "4  27.05.2009 14:03:25:263  4.324462  2.072460  0.488065  walking  32710  "
      ]
     },
     "execution_count": 10,
     "metadata": {},
     "output_type": "execute_result"
    }
   ],
   "source": [
    "con = sqlite3.connect(\"ConfLongDemo_JSI.db3\")\n",
    "df = pandas.read_sql(\"\"\"SELECT person.*, A.nb FROM person INNER JOIN (\n",
    "                            SELECT activity, count(*) as nb FROM person GROUP BY activity) AS A\n",
    "                            ON person.activity == A.activity\"\"\", con)\n",
    "con.close()\n",
    "df.head()"
   ]
  },
  {
   "cell_type": "markdown",
   "metadata": {},
   "source": [
    "Idem, maintenant il faut le faire avec PIG."
   ]
  },
  {
   "cell_type": "code",
   "execution_count": 44,
   "metadata": {
    "collapsed": false
   },
   "outputs": [],
   "source": [
    "%%PIG_azure solution_groupby_join.pig\n",
    "\n",
    "myinput = LOAD '$CONTAINER/testensae/ConfLongDemo_JSI.small.txt' \n",
    "          using PigStorage(',') \n",
    "          AS (index:long, sequence, tag, timestamp:long, dateformat, x:double,y:double, z:double, activity) ;\n",
    "\n",
    "gr = GROUP myinput BY activity ;\n",
    "avgact = FOREACH gr GENERATE group, COUNT(myinput) ; \n",
    "\n",
    "joined = JOIN myinput BY activity, avgact BY group ;\n",
    "\n",
    "STORE joined INTO '$CONTAINER/$PSEUDO/testensae/ConfLongDemo_JSI.small.group.join.txt' USING PigStorage() ;"
   ]
  },
  {
   "cell_type": "code",
   "execution_count": 45,
   "metadata": {
    "collapsed": false
   },
   "outputs": [
    {
     "data": {
      "text/plain": [
       "{'id': 'job_1416874839254_0009'}"
      ]
     },
     "execution_count": 45,
     "metadata": {},
     "output_type": "execute_result"
    }
   ],
   "source": [
    "%hd_pig_submit solution_groupby_join.pig"
   ]
  },
  {
   "cell_type": "code",
   "execution_count": 53,
   "metadata": {
    "collapsed": false
   },
   "outputs": [
    {
     "data": {
      "text/plain": [
       "('job_1416874839254_0009',\n",
       " '100% complete',\n",
       " 'wasb://hdblobstorage@hdblobstorage.blob.core.windows.net/xavierdupre/scripts/pig/solution_groupby_join.pig')"
      ]
     },
     "execution_count": 53,
     "metadata": {},
     "output_type": "execute_result"
    }
   ],
   "source": [
    "st = %hd_job_status job_1416874839254_0009\n",
    "st[\"id\"],st[\"percentComplete\"], st[\"userargs\"][\"file\"]"
   ]
  },
  {
   "cell_type": "code",
   "execution_count": 54,
   "metadata": {
    "collapsed": false
   },
   "outputs": [
    {
     "data": {
      "text/html": [
       "<div style=\"max-height:1000px;max-width:1500px;overflow:auto;\">\n",
       "<table border=\"1\" class=\"dataframe\">\n",
       "  <thead>\n",
       "    <tr style=\"text-align: right;\">\n",
       "      <th></th>\n",
       "      <th>name</th>\n",
       "      <th>last_modified</th>\n",
       "      <th>content_type</th>\n",
       "      <th>content_length</th>\n",
       "      <th>blob_type</th>\n",
       "    </tr>\n",
       "  </thead>\n",
       "  <tbody>\n",
       "    <tr>\n",
       "      <th>0</th>\n",
       "      <td>                             xavierdupre/testensae</td>\n",
       "      <td> Tue, 25 Nov 2014 00:50:34 GMT</td>\n",
       "      <td> application/octet-stream</td>\n",
       "      <td>      0</td>\n",
       "      <td> BlockBlob</td>\n",
       "    </tr>\n",
       "    <tr>\n",
       "      <th>1</th>\n",
       "      <td> xavierdupre/testensae/ConfLongDemo_JSI.small.g...</td>\n",
       "      <td> Tue, 25 Nov 2014 01:16:11 GMT</td>\n",
       "      <td>                         </td>\n",
       "      <td>      0</td>\n",
       "      <td> BlockBlob</td>\n",
       "    </tr>\n",
       "    <tr>\n",
       "      <th>2</th>\n",
       "      <td> xavierdupre/testensae/ConfLongDemo_JSI.small.g...</td>\n",
       "      <td> Tue, 25 Nov 2014 01:16:11 GMT</td>\n",
       "      <td> application/octet-stream</td>\n",
       "      <td>      0</td>\n",
       "      <td> BlockBlob</td>\n",
       "    </tr>\n",
       "    <tr>\n",
       "      <th>3</th>\n",
       "      <td> xavierdupre/testensae/ConfLongDemo_JSI.small.g...</td>\n",
       "      <td> Tue, 25 Nov 2014 01:16:10 GMT</td>\n",
       "      <td> application/octet-stream</td>\n",
       "      <td> 144059</td>\n",
       "      <td> BlockBlob</td>\n",
       "    </tr>\n",
       "    <tr>\n",
       "      <th>4</th>\n",
       "      <td> xavierdupre/testensae/ConfLongDemo_JSI.small.g...</td>\n",
       "      <td> Tue, 25 Nov 2014 01:12:49 GMT</td>\n",
       "      <td>                         </td>\n",
       "      <td>      0</td>\n",
       "      <td> BlockBlob</td>\n",
       "    </tr>\n",
       "    <tr>\n",
       "      <th>5</th>\n",
       "      <td> xavierdupre/testensae/ConfLongDemo_JSI.small.g...</td>\n",
       "      <td> Tue, 25 Nov 2014 01:12:49 GMT</td>\n",
       "      <td> application/octet-stream</td>\n",
       "      <td>      0</td>\n",
       "      <td> BlockBlob</td>\n",
       "    </tr>\n",
       "    <tr>\n",
       "      <th>6</th>\n",
       "      <td> xavierdupre/testensae/ConfLongDemo_JSI.small.g...</td>\n",
       "      <td> Tue, 25 Nov 2014 01:12:49 GMT</td>\n",
       "      <td> application/octet-stream</td>\n",
       "      <td>     89</td>\n",
       "      <td> BlockBlob</td>\n",
       "    </tr>\n",
       "    <tr>\n",
       "      <th>7</th>\n",
       "      <td> xavierdupre/testensae/ConfLongDemo_JSI.small.k...</td>\n",
       "      <td> Tue, 25 Nov 2014 00:50:45 GMT</td>\n",
       "      <td>                         </td>\n",
       "      <td>      0</td>\n",
       "      <td> BlockBlob</td>\n",
       "    </tr>\n",
       "    <tr>\n",
       "      <th>8</th>\n",
       "      <td> xavierdupre/testensae/ConfLongDemo_JSI.small.k...</td>\n",
       "      <td> Tue, 25 Nov 2014 00:50:46 GMT</td>\n",
       "      <td> application/octet-stream</td>\n",
       "      <td>      0</td>\n",
       "      <td> BlockBlob</td>\n",
       "    </tr>\n",
       "    <tr>\n",
       "      <th>9</th>\n",
       "      <td> xavierdupre/testensae/ConfLongDemo_JSI.small.k...</td>\n",
       "      <td> Tue, 25 Nov 2014 00:50:45 GMT</td>\n",
       "      <td> application/octet-stream</td>\n",
       "      <td>  22166</td>\n",
       "      <td> BlockBlob</td>\n",
       "    </tr>\n",
       "  </tbody>\n",
       "</table>\n",
       "</div>"
      ],
      "text/plain": [
       "                                                name  \\\n",
       "0                              xavierdupre/testensae   \n",
       "1  xavierdupre/testensae/ConfLongDemo_JSI.small.g...   \n",
       "2  xavierdupre/testensae/ConfLongDemo_JSI.small.g...   \n",
       "3  xavierdupre/testensae/ConfLongDemo_JSI.small.g...   \n",
       "4  xavierdupre/testensae/ConfLongDemo_JSI.small.g...   \n",
       "5  xavierdupre/testensae/ConfLongDemo_JSI.small.g...   \n",
       "6  xavierdupre/testensae/ConfLongDemo_JSI.small.g...   \n",
       "7  xavierdupre/testensae/ConfLongDemo_JSI.small.k...   \n",
       "8  xavierdupre/testensae/ConfLongDemo_JSI.small.k...   \n",
       "9  xavierdupre/testensae/ConfLongDemo_JSI.small.k...   \n",
       "\n",
       "                   last_modified              content_type  content_length  \\\n",
       "0  Tue, 25 Nov 2014 00:50:34 GMT  application/octet-stream               0   \n",
       "1  Tue, 25 Nov 2014 01:16:11 GMT                                         0   \n",
       "2  Tue, 25 Nov 2014 01:16:11 GMT  application/octet-stream               0   \n",
       "3  Tue, 25 Nov 2014 01:16:10 GMT  application/octet-stream          144059   \n",
       "4  Tue, 25 Nov 2014 01:12:49 GMT                                         0   \n",
       "5  Tue, 25 Nov 2014 01:12:49 GMT  application/octet-stream               0   \n",
       "6  Tue, 25 Nov 2014 01:12:49 GMT  application/octet-stream              89   \n",
       "7  Tue, 25 Nov 2014 00:50:45 GMT                                         0   \n",
       "8  Tue, 25 Nov 2014 00:50:46 GMT  application/octet-stream               0   \n",
       "9  Tue, 25 Nov 2014 00:50:45 GMT  application/octet-stream           22166   \n",
       "\n",
       "   blob_type  \n",
       "0  BlockBlob  \n",
       "1  BlockBlob  \n",
       "2  BlockBlob  \n",
       "3  BlockBlob  \n",
       "4  BlockBlob  \n",
       "5  BlockBlob  \n",
       "6  BlockBlob  \n",
       "7  BlockBlob  \n",
       "8  BlockBlob  \n",
       "9  BlockBlob  "
      ]
     },
     "execution_count": 54,
     "metadata": {},
     "output_type": "execute_result"
    }
   ],
   "source": [
    "df=%blob_ls /$PSEUDO/testensae\n",
    "df"
   ]
  },
  {
   "cell_type": "code",
   "execution_count": 55,
   "metadata": {
    "collapsed": false
   },
   "outputs": [
    {
     "data": {
      "text/plain": [
       "{'xavierdupre/testensae',\n",
       " 'xavierdupre/testensae/ConfLongDemo_JSI.small.group.join.txt',\n",
       " 'xavierdupre/testensae/ConfLongDemo_JSI.small.group.join.txt/_SUCCESS',\n",
       " 'xavierdupre/testensae/ConfLongDemo_JSI.small.group.join.txt/part-r-00000',\n",
       " 'xavierdupre/testensae/ConfLongDemo_JSI.small.group.txt',\n",
       " 'xavierdupre/testensae/ConfLongDemo_JSI.small.group.txt/_SUCCESS',\n",
       " 'xavierdupre/testensae/ConfLongDemo_JSI.small.group.txt/part-r-00000',\n",
       " 'xavierdupre/testensae/ConfLongDemo_JSI.small.keep_walking.txt',\n",
       " 'xavierdupre/testensae/ConfLongDemo_JSI.small.keep_walking.txt/_SUCCESS',\n",
       " 'xavierdupre/testensae/ConfLongDemo_JSI.small.keep_walking.txt/part-m-00000'}"
      ]
     },
     "execution_count": 55,
     "metadata": {},
     "output_type": "execute_result"
    }
   ],
   "source": [
    "set(df.name)"
   ]
  },
  {
   "cell_type": "code",
   "execution_count": 56,
   "metadata": {
    "collapsed": false
   },
   "outputs": [
    {
     "data": {
      "text/plain": [
       "'results.join.txt'"
      ]
     },
     "execution_count": 56,
     "metadata": {},
     "output_type": "execute_result"
    }
   ],
   "source": [
    "if os.path.exists(\"results.join.txt\") : os.remove(\"results.join.txt\")\n",
    "%blob_downmerge /$PSEUDO/testensae/ConfLongDemo_JSI.small.group.join.txt results.join.txt"
   ]
  },
  {
   "cell_type": "code",
   "execution_count": 57,
   "metadata": {
    "collapsed": false
   },
   "outputs": [
    {
     "data": {
      "text/html": [
       "<pre>\n",
       "999\tA01\t010-000-024-033\t633790226379871138\t27.05.2009 14:03:57:987\t3.198556661605835\t1.1257659196853638\t0.3567752242088318\tlying\tlying\t267\n",
       "998\tA01\t020-000-032-221\t633790226379600847\t27.05.2009 14:03:57:960\t4.3730292320251465\t1.3821170330047607\t0.38861045241355896\tlying\tlying\t267\n",
       "997\tA01\t020-000-033-111\t633790226379330550\t27.05.2009 14:03:57:933\t4.7574005126953125\t1.285519003868103\t-0.08946932852268219\tlying\tlying\t267\n",
       "996\tA01\t010-000-030-096\t633790226379060251\t27.05.2009 14:03:57:907\t3.182415008544922\t1.1020996570587158\t0.29104289412498474\tlying\tlying\t267\n",
       "995\tA01\t010-000-024-033\t633790226378789954\t27.05.2009 14:03:57:880\t3.0784008502960205\t1.0197675228118896\t0.6061218976974487\tlying\tlying\t267\n",
       "994\tA01\t020-000-032-221\t633790226378519655\t27.05.2009 14:03:57:853\t4.36382532119751\t1.4307395219802856\t0.3206148743629456\tlying\tlying\t267\n",
       "993\tA01\t010-000-024-033\t633790226377708776\t27.05.2009 14:03:57:770\t3.0621800422668457\t1.0790562629699707\t0.6795752048492432\tlying\tlying\t267\n",
       "992\tA01\t020-000-032-221\t633790226377438480\t27.05.2009 14:03:57:743\t4.371500492095946\t1.4781558513641355\t0.5384233593940735\tlying\tlying\t267\n",
       "991\tA01\t020-000-033-111\t633790226377168187\t27.05.2009 14:03:57:717\t4.918898105621338\t1.1530661582946775\t0.19635945558547974\tlying\tlying\t267\n",
       "990\tA01\t010-000-030-096\t633790226376897895\t27.05.2009 14:03:57:690\t3.208510637283325\t1.1156394481658936\t0.3381773829460144\tlying\tlying\t267\n",
       "\n",
       "</pre>"
      ],
      "text/plain": [
       "<IPython.core.display.HTML at 0x9b2f850>"
      ]
     },
     "execution_count": 57,
     "metadata": {},
     "output_type": "execute_result"
    }
   ],
   "source": [
    "%head results.join.txt"
   ]
  },
  {
   "cell_type": "markdown",
   "metadata": {},
   "source": [
    "<h3 id=\"prol\">Prolongements</h3>\n",
    "\n",
    "[PIG](http://pig.apache.org/) n'est pas la seule façon d'exécuter des jobs Map/Reduce. [Hive](https://hive.apache.org/) est un langage dont la syntaxe est très proche de celle du SQL. L'article [Comparing Pig Latin and SQL for Constructing Data Processing Pipelines](https://developer.yahoo.com/blogs/hadoop/comparing-pig-latin-sql-constructing-data-processing-pipelines-444.html) explicite les différences des deux approches.\n",
    "\n",
    "**langage haut niveau**\n",
    "\n",
    "Ce qu'il faut retenir est que le langage PIG est un langage haut niveau. Le programme est compilé en une séquence d'opérations Map/Reduce transparente pour l'utilisateur. Le temps de développement est très réduit lorsqu'on le compare au même programme écrit en Java. Le compilateur construit un plan d'exécution ([quelques exemples ici](http://chimera.labs.oreilly.com/books/1234000001811/ch07.html#explain)) et infère le nombre de machines requises pour distribuer le job. Cela suffit pour la plupart des besoins, cela nécessite.\n",
    "\n",
    "**petits jeux**\n",
    "\n",
    "Certains jobs peuvent durer des heures, il est conseillée de les essayer sur des petits jeux de données avant de les faire tourner sur les vrais données. Il est toujours frustrant de s'apercevoir qu'un job a planté au bout de deux heures car une chaîne de caractères est vide et que ce cas n'a pas été prévu.\n",
    "\n",
    "Avec ces petits jeux, il est possible de faire tourner et conseillé de tester le job d'abord sur la passerelle ([exécution local](http://archive.cloudera.com/cdh/3/pig/tutorial.html#Running+the+Pig+Scripts+in+Local+Mode)) avant de le lancer sur le cluster. Avec pyensae, il faut ajouter l'option ``-local`` à la commande ``jobsubmit``.\n",
    "\n",
    "**concaténer les fichiers divisés**\n",
    "\n",
    "Un programme PIG ne produit pas un fichier mais plusieurs fichiers dans un répertoire. La commande [getmerge](http://hadoop.apache.org/docs/r2.3.0/hadoop-project-dist/hadoop-common/FileSystemShell.html) télécharge ces fichiers sur la passerelle et les fusionne en un seul.\n",
    "\n",
    "**ordre des lignes**\n",
    "\n",
    "Les jobs sont distribués, même en faisant rien (LOAD + STORE), il n'est pas garanti que l'ordre des lignes soit préservé. La probabilié que ce soit le cas est quasi nulle."
   ]
  },
  {
   "cell_type": "code",
   "execution_count": null,
   "metadata": {
    "collapsed": false
   },
   "outputs": [],
   "source": []
  }
 ],
 "metadata": {},
 "nbformat": 4,
 "nbformat_minor": 0
}