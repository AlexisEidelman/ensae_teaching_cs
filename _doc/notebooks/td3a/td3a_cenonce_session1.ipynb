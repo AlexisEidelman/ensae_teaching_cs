{
 "cells": [
  {
   "cell_type": "markdown",
   "metadata": {},
   "source": [
    "# Séance 1 : structures de données, tris"
   ]
  },
  {
   "cell_type": "markdown",
   "metadata": {},
   "source": [
    "Plan\n",
    "\n",
    "- [Préambule : Python et C#](#p0)\n",
    "- [Partie 1 : structures de données](#p1)\n",
    "- [Partie 2 : tris](#p2)\n"
   ]
  },
  {
   "cell_type": "markdown",
   "metadata": {},
   "source": [
    "<h3 id=\"p0\"><b>Préambule : Python et C#</b></h3>\n",
    "\n",
    "Les langages Python et C# seront utilisés pour les exemples. L'exemple suivant est tiré de [Quicksort (Python)](http://en.literateprograms.org/Quicksort_%28Python%29). On utilise rarement cette version car le coût sur un tableau déjà trié est le pire qui soit."
   ]
  },
  {
   "cell_type": "code",
   "execution_count": 1,
   "metadata": {
    "collapsed": false
   },
   "outputs": [],
   "source": [
    "def qsort(li):\n",
    "    if li == []: \n",
    "        return []\n",
    "    else:\n",
    "        pivot = li[0]\n",
    "        lesser = qsort([x for x in li[1:] if x < pivot])\n",
    "        greater = qsort([x for x in li[1:] if x >= pivot])\n",
    "        return lesser + [pivot] + greater"
   ]
  },
  {
   "cell_type": "code",
   "execution_count": 2,
   "metadata": {
    "collapsed": false
   },
   "outputs": [
    {
     "data": {
      "text/plain": [
       "[1, 1, 2, 3, 3, 3, 6, 7]"
      ]
     },
     "execution_count": 2,
     "metadata": {},
     "output_type": "execute_result"
    }
   ],
   "source": [
    "l = [ 1,2,3,3,1,6,7,3]\n",
    "qsort(l)"
   ]
  },
  {
   "cell_type": "markdown",
   "metadata": {},
   "source": [
    "La version C# se présente sous la forme suivante. L'astuce est décrite dans ce notebook [Python et C Sharp](http://www.xavierdupre.fr/app/ensae_teaching_cs/helpsphinx/_downloads/python_csharp.html). L'utilisation de C# via Python pose parfois quelques problèmes dès qu'on utilise des containers. C'est pourquoi on préfère parfois passer les arguments sous forme de chaînes de caractères."
   ]
  },
  {
   "cell_type": "code",
   "execution_count": 1,
   "metadata": {
    "collapsed": false
   },
   "outputs": [],
   "source": [
    "from ensae_teaching_cs.mypython.custom_magics import register_magics\n",
    "register_magics()"
   ]
  },
  {
   "cell_type": "code",
   "execution_count": 2,
   "metadata": {
    "collapsed": false
   },
   "outputs": [
    {
     "data": {
      "text/plain": [
       "<function ensae_teaching_cs.tips_tricks.pythoncs.create_cs_function.<locals>.<lambda>>"
      ]
     },
     "execution_count": 2,
     "metadata": {},
     "output_type": "execute_result"
    }
   ],
   "source": [
    "%%CS cs_qsort \n",
    "\n",
    "public static long[] cs_qsortl(long[] li)\n",
    "{\n",
    "    if (li.Length == 0)\n",
    "    {\n",
    "        return null;\n",
    "    }\n",
    "    else\n",
    "    {\n",
    "        var pivot = li[0];\n",
    "        var lesser = cs_qsortl(li.Skip(1).Where(x => x < pivot).ToArray());\n",
    "        var greater = cs_qsortl(li.Skip(1).Where(x => x >= pivot).ToArray());\n",
    "        long[] res = new long[li.Length];\n",
    "\n",
    "        if (lesser != null && lesser.Length > 0) Array.Copy(lesser, 0, res, 0, lesser.Length);\n",
    "        int nb = lesser == null ? 0 : lesser.Length;\n",
    "        res[nb] = pivot;\n",
    "        if (greater != null && greater.Length > 0) Array.Copy(greater, 0, res, nb + 1, greater.Length);\n",
    "\n",
    "        return res;\n",
    "    }\n",
    "}    \n",
    "\n",
    "public static long[] cs_qsort(string lis)\n",
    "{\n",
    "    return cs_qsortl(lis.Split(';').Select(c=>long.Parse(c)).ToArray()) ;\n",
    "}"
   ]
  },
  {
   "cell_type": "code",
   "execution_count": 7,
   "metadata": {
    "collapsed": false
   },
   "outputs": [
    {
     "data": {
      "text/plain": [
       "[1, 2, 3, 4, 5]"
      ]
     },
     "execution_count": 7,
     "metadata": {},
     "output_type": "execute_result"
    }
   ],
   "source": [
    "li = [2, 4, 5, 3, 1]\n",
    "lis = \";\".join( str(i) for i in li )\n",
    "[ i for i in cs_qsort (lis) ]"
   ]
  },
  {
   "cell_type": "markdown",
   "metadata": {},
   "source": [
    "<h3 id=\"p1\"><b>Partie 1 : structures de données</b></h3>"
   ]
  },
  {
   "cell_type": "code",
   "execution_count": null,
   "metadata": {
    "collapsed": false
   },
   "outputs": [],
   "source": []
  },
  {
   "cell_type": "markdown",
   "metadata": {},
   "source": [
    "<h3 id=\"p2\"><b>Partie 2 : tris</b></h3>"
   ]
  },
  {
   "cell_type": "code",
   "execution_count": null,
   "metadata": {
    "collapsed": false
   },
   "outputs": [],
   "source": []
  }
 ],
 "metadata": {},
 "nbformat": 4,
 "nbformat_minor": 0
}