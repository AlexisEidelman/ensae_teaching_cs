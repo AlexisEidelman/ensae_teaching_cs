{
 "metadata": {
  "name": "",
  "signature": "sha256:ffdac47e73b928a27b354fe2f6116a242476b65c81814e61610b7d6b801c7824"
 },
 "nbformat": 3,
 "nbformat_minor": 0,
 "worksheets": [
  {
   "cells": [
    {
     "cell_type": "heading",
     "level": 1,
     "metadata": {},
     "source": [
      "S\u00e9ance 1 : structures de donn\u00e9es, tris"
     ]
    },
    {
     "cell_type": "markdown",
     "metadata": {},
     "source": [
      "Plan\n",
      "\n",
      "- [Pr\u00e9ambule : Python et C#](#p0)\n",
      "- [Partie 1 : structures de donn\u00e9es](#p1)\n",
      "- [Partie 2 : tris](#p2)\n"
     ]
    },
    {
     "cell_type": "markdown",
     "metadata": {},
     "source": [
      "<h3 id=\"p0\"><b>Pr\u00e9ambule : Python et C#</b></h3>\n",
      "\n",
      "Les langages Python et C# seront utilis\u00e9s pour les exemples. L'exemple suivant est tir\u00e9 de [Quicksort (Python)](http://en.literateprograms.org/Quicksort_%28Python%29). On utilise rarement cette version car le co\u00fbt sur un tableau d\u00e9j\u00e0 tri\u00e9 est le pire qui soit."
     ]
    },
    {
     "cell_type": "code",
     "collapsed": false,
     "input": [
      "def qsort(li):\n",
      "    if li == []: \n",
      "        return []\n",
      "    else:\n",
      "        pivot = li[0]\n",
      "        lesser = qsort([x for x in li[1:] if x < pivot])\n",
      "        greater = qsort([x for x in li[1:] if x >= pivot])\n",
      "        return lesser + [pivot] + greater"
     ],
     "language": "python",
     "metadata": {},
     "outputs": [],
     "prompt_number": 1
    },
    {
     "cell_type": "code",
     "collapsed": false,
     "input": [
      "l = [ 1,2,3,3,1,6,7,3]\n",
      "qsort(l)"
     ],
     "language": "python",
     "metadata": {},
     "outputs": [
      {
       "metadata": {},
       "output_type": "pyout",
       "prompt_number": 2,
       "text": [
        "[1, 1, 2, 3, 3, 3, 6, 7]"
       ]
      }
     ],
     "prompt_number": 2
    },
    {
     "cell_type": "markdown",
     "metadata": {},
     "source": [
      "La version C# se pr\u00e9sente sous la forme suivante. L'astuce est d\u00e9crite dans ce notebook [Python et C Sharp](http://www.xavierdupre.fr/app/ensae_teaching_cs/helpsphinx/_downloads/python_csharp.html). L'utilisation de C# via Python pose parfois quelques probl\u00e8mes d\u00e8s qu'on utilise des containers. C'est pourquoi on pr\u00e9f\u00e8re parfois passer les arguments sous forme de cha\u00eenes de caract\u00e8res."
     ]
    },
    {
     "cell_type": "code",
     "collapsed": false,
     "input": [
      "from ensae_teaching_cs.mypython.custom_magics import register_magics\n",
      "register_magics()"
     ],
     "language": "python",
     "metadata": {},
     "outputs": [],
     "prompt_number": 1
    },
    {
     "cell_type": "code",
     "collapsed": false,
     "input": [
      "%%CS cs_qsort \n",
      "\n",
      "public static long[] cs_qsortl(long[] li)\n",
      "{\n",
      "    if (li.Length == 0)\n",
      "    {\n",
      "        return null;\n",
      "    }\n",
      "    else\n",
      "    {\n",
      "        var pivot = li[0];\n",
      "        var lesser = cs_qsortl(li.Skip(1).Where(x => x < pivot).ToArray());\n",
      "        var greater = cs_qsortl(li.Skip(1).Where(x => x >= pivot).ToArray());\n",
      "        long[] res = new long[li.Length];\n",
      "\n",
      "        if (lesser != null && lesser.Length > 0) Array.Copy(lesser, 0, res, 0, lesser.Length);\n",
      "        int nb = lesser == null ? 0 : lesser.Length;\n",
      "        res[nb] = pivot;\n",
      "        if (greater != null && greater.Length > 0) Array.Copy(greater, 0, res, nb + 1, greater.Length);\n",
      "\n",
      "        return res;\n",
      "    }\n",
      "}    \n",
      "\n",
      "public static long[] cs_qsort(string lis)\n",
      "{\n",
      "    return cs_qsortl(lis.Split(';').Select(c=>long.Parse(c)).ToArray()) ;\n",
      "}"
     ],
     "language": "python",
     "metadata": {},
     "outputs": [
      {
       "metadata": {},
       "output_type": "pyout",
       "prompt_number": 2,
       "text": [
        "<function ensae_teaching_cs.tips_tricks.pythoncs.create_cs_function.<locals>.<lambda>>"
       ]
      }
     ],
     "prompt_number": 2
    },
    {
     "cell_type": "code",
     "collapsed": false,
     "input": [
      "li = [2, 4, 5, 3, 1]\n",
      "lis = \";\".join( str(i) for i in li )\n",
      "[ i for i in cs_qsort (lis) ]"
     ],
     "language": "python",
     "metadata": {},
     "outputs": [
      {
       "metadata": {},
       "output_type": "pyout",
       "prompt_number": 7,
       "text": [
        "[1, 2, 3, 4, 5]"
       ]
      }
     ],
     "prompt_number": 7
    },
    {
     "cell_type": "markdown",
     "metadata": {},
     "source": [
      "<h3 id=\"p1\"><b>Partie 1 : structures de donn\u00e9es</b></h3>"
     ]
    },
    {
     "cell_type": "code",
     "collapsed": false,
     "input": [],
     "language": "python",
     "metadata": {},
     "outputs": []
    },
    {
     "cell_type": "markdown",
     "metadata": {},
     "source": [
      "<h3 id=\"p2\"><b>Partie 2 : tris</b></h3>"
     ]
    },
    {
     "cell_type": "code",
     "collapsed": false,
     "input": [],
     "language": "python",
     "metadata": {},
     "outputs": []
    }
   ],
   "metadata": {}
  }
 ]
}