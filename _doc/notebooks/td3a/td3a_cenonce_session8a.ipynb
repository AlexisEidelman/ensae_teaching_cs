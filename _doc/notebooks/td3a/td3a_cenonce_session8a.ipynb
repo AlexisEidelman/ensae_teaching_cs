{
 "metadata": {
  "name": "",
  "signature": "sha256:1c4389b802f64eb20fd2ddab3466101b70cd73afd04a87df572e96a4ead1e352"
 },
 "nbformat": 3,
 "nbformat_minor": 0,
 "worksheets": [
  {
   "cells": [
    {
     "cell_type": "heading",
     "level": 1,
     "metadata": {},
     "source": [
      "Donn\u00e9es antipathiques"
     ]
    },
    {
     "cell_type": "markdown",
     "metadata": {},
     "source": [
      "On se place ici dans le cadre d'un probl\u00e8me classique d\u00e9sign\u00e9 par le terme anglais de [conflation](). Il s'agit..."
     ]
    }
   ],
   "metadata": {}
  }
 ]
}