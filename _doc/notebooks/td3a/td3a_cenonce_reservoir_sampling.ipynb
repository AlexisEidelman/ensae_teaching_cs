{
 "cells": [
  {
   "cell_type": "markdown",
   "metadata": {},
   "source": [
    "# Reservoir Sampling distribué - énoncé"
   ]
  },
  {
   "cell_type": "code",
   "execution_count": 7,
   "metadata": {
    "collapsed": false
   },
   "outputs": [
    {
     "data": {
      "text/html": [
       "<b>Plan</b>\n",
       "<div id=\"my_menu_id\">run previous cell, wait for 2 seconds</div>\n",
       "<script>\n",
       "function repeat_indent_string(n){\n",
       "    var a = \"\" ;\n",
       "    for ( ; n > 0 ; --n) {\n",
       "        a += \"    \";\n",
       "    }\n",
       "    return a;\n",
       "}\n",
       "var update_menu_string = function(begin, lfirst, llast, sformat, send) {\n",
       "    var anchors = document.getElementsByClassName(\"section\");\n",
       "    if (anchors.length == 0) {\n",
       "        anchors = document.getElementsByClassName(\"text_cell_render rendered_html\");\n",
       "    }\n",
       "    var i,t;\n",
       "    var text_menu = begin;\n",
       "    var text_memo = \"<pre>\\nlength:\" + anchors.length + \"\\n\";\n",
       "    var ind = \"\";\n",
       "    var memo_level = 1;\n",
       "    var href;\n",
       "    var tags = [];\n",
       "    for (i = 0; i <= llast; i++) {\n",
       "        tags.push(\"h\" + i);\n",
       "    }\n",
       "\n",
       "    for (i = 0; i < anchors.length; i++) {\n",
       "        text_memo += \"**\" + anchors[i].id + \"--\\n\";\n",
       "\n",
       "        var child = null;\n",
       "        for(t = 0; t < tags.length; t++) {\n",
       "            var r = anchors[i].getElementsByTagName(tags[t]);\n",
       "            if (r.length > 0) {\n",
       "child = r[0];\n",
       "break;\n",
       "            }\n",
       "        }\n",
       "        if (child == null){\n",
       "            text_memo += \"null\\n\";\n",
       "            continue;\n",
       "        }\n",
       "\n",
       "        if (anchors[i].hasAttribute(\"id\")) {\n",
       "            // when converted in RST\n",
       "            href = anchors[i].id;\n",
       "            text_memo += \"#1-\" + href;\n",
       "            // passer à child suivant (le chercher)\n",
       "        }\n",
       "        else if (child.hasAttribute(\"id\")) {\n",
       "            // in a notebook\n",
       "            href = child.id;\n",
       "            text_memo += \"#2-\" + href;\n",
       "        }\n",
       "        else {\n",
       "            text_memo += \"#3-\" + \"*\" + \"\\n\";\n",
       "            continue;\n",
       "        }\n",
       "        var title = child.textContent;\n",
       "        var level = parseInt(child.tagName.substring(1,2));\n",
       "\n",
       "        text_memo += \"--\" + level + \"?\" + lfirst + \"--\" + title + \"\\n\";\n",
       "\n",
       "        if ((level < lfirst) || (level > llast)) {\n",
       "            continue ;\n",
       "        }\n",
       "        if (title.endsWith('¶')) {\n",
       "            title = title.substring(0,title.length-1).replace(\"<\", \"&lt;\").replace(\">\", \"&gt;\").replace(\"&\", \"&amp;\")\n",
       "        }\n",
       "\n",
       "        if (title.length == 0) {\n",
       "            continue;\n",
       "        }\n",
       "        while (level > memo_level) {\n",
       "            text_menu += \"<ul>\\n\";\n",
       "            memo_level += 1;\n",
       "        }\n",
       "        while (level < memo_level) {\n",
       "            text_menu += \"</ul>\\n\";\n",
       "            memo_level -= 1;\n",
       "        }\n",
       "        text_menu += repeat_indent_string(level-2) + sformat.replace(\"__HREF__\", href).replace(\"__TITLE__\", title);\n",
       "    }\n",
       "    while (1 < memo_level) {\n",
       "        text_menu += \"</ul>\\n\";\n",
       "        memo_level -= 1;\n",
       "    }\n",
       "    text_menu += send;\n",
       "    //text_menu += \"\\n\" + text_memo;\n",
       "    return text_menu;\n",
       "};\n",
       "var update_menu = function() {\n",
       "    var sbegin = \"\";\n",
       "    var sformat = '<li><a href=\"#__HREF__\">__TITLE__</a></li>';\n",
       "    var send = \"\";\n",
       "    var text_menu = update_menu_string(sbegin, 2, 4, sformat, send);\n",
       "    var menu = document.getElementById(\"my_menu_id\");\n",
       "    menu.innerHTML=text_menu;\n",
       "};\n",
       "window.setTimeout(update_menu,2000);\n",
       "            </script>"
      ],
      "text/plain": [
       "<IPython.core.display.HTML object>"
      ]
     },
     "execution_count": 7,
     "metadata": {},
     "output_type": "execute_result"
    }
   ],
   "source": [
    "import pyensae\n",
    "%nb_menu"
   ]
  },
  {
   "cell_type": "markdown",
   "metadata": {},
   "source": [
    "## sampling sur Hadoop / PIG\n",
    "\n",
    "Voir [SAMPLE](https://pig.apache.org/docs/r0.7.0/piglatin_ref2.html#SAMPLE). En pratique, il difficile d'écrire un algorithme plus efficace à partir d'un langage haut niveau si ce langage haut niveau implémente lui-même la fonctionnalité. C'est une façon de reconnaître que c'est un besoin fréquent et qu'il est recommandé d'utiliser la fonction native."
   ]
  },
  {
   "cell_type": "code",
   "execution_count": null,
   "metadata": {
    "collapsed": true
   },
   "outputs": [],
   "source": []
  },
  {
   "cell_type": "markdown",
   "metadata": {},
   "source": [
    "## Reservoir Sampling\n",
    "\n",
    "Le [reservoir sampling](https://en.wikipedia.org/wiki/Reservoir_sampling) est une façon de tirer un échantillon aléatoire de $k$ nombres parmi $N$ nombres qui ne nécessite pas de conserver ces $N$ nombres en mémoire."
   ]
  },
  {
   "cell_type": "code",
   "execution_count": 2,
   "metadata": {
    "collapsed": false
   },
   "outputs": [
    {
     "data": {
      "text/plain": [
       "['0a', '1b', '2c', '3d', '4e']"
      ]
     },
     "execution_count": 2,
     "metadata": {},
     "output_type": "execute_result"
    }
   ],
   "source": [
    "ensemble = [ \"%d%s\" % (i, chr(i%26 + 97)) for i in range(0,10000)]\n",
    "ensemble[:5]"
   ]
  },
  {
   "cell_type": "code",
   "execution_count": 3,
   "metadata": {
    "collapsed": false
   },
   "outputs": [
    {
     "data": {
      "text/plain": [
       "['9128c',\n",
       " '4112e',\n",
       " '7196u',\n",
       " '7941l',\n",
       " '6722o',\n",
       " '7465d',\n",
       " '5715v',\n",
       " '1128k',\n",
       " '3054m',\n",
       " '8943z']"
      ]
     },
     "execution_count": 3,
     "metadata": {},
     "output_type": "execute_result"
    }
   ],
   "source": [
    "import random\n",
    "def reservoir_sampling(ensemble, k):\n",
    "    N = len(ensemble)\n",
    "    echantillon = []\n",
    "    for i, e in enumerate(ensemble):\n",
    "        if len(echantillon) < k:\n",
    "            echantillon.append(e)\n",
    "        else:\n",
    "            j = random.randint(0, i)\n",
    "            if j < k:\n",
    "                echantillon[j] = e\n",
    "    return echantillon\n",
    "\n",
    "reservoir_sampling(ensemble, 10)"
   ]
  },
  {
   "cell_type": "markdown",
   "metadata": {},
   "source": [
    "Le *reservoir sampling* reproduit un tirage sans remise. L'algorithme habituel - on tire $k$ éléments parmi $N$, la probabilité qu'un élément fasse partie de l'échantillon est de :\n",
    "\n",
    "$$p = \\frac{C_{N-1}^{k-1}}{C_N^k} = \\frac{ \\frac{N-1!}{k-1! N-k!} } { \\frac{N!}{k! N-k!} } = \\frac{ N-1! k! } { N! k-1!} = \\frac{k}{N}$$\n",
    "\n",
    "Dans le cas du *reservoir sampling*, on doit s'assurer que chaque élément à la même probabilité de faire partie de l'échantillon. On procède par récurrence. Le résultat est vrai pour $k=N$. On suppose que est vrai à l'ordre $N-1$. La probabilité qu'un élément de l'ensemble fasse partie de l'échantillon est $\\frac{k}{N-1}$. A l'ordre $N$, il y a une probabilité $\\frac{k}{N}$ de remplacer un des éléments de l'échantillon. L'élément $N$ a donc une probabilité $\\frac{k}{N}$ de faire partie de l'échantillon. Pour les éléments faisant déjà partie de l'échantillon, leur probabilité de rester est $\\frac{N-k}{N} + \\frac{k}{N}\\frac{k-1}{k}=\\frac{N-1}{N}$. La probabilité qu'un élément présent dans l'échantillon soit dans l'échantillon à l'itération $N$ est de $\\frac{N-1}{N} \\frac{k}{N-1}=\\frac{k}{N}$. L'échantillon produit par le *reservoir sampling* a les mêmes propriétés qu'un échantillon produit avec un tirage sans remise.\n",
    "\n",
    "Cet algorithme est intéressent lorsqu'on veut échantillonner sur une grande base de données car il nécessite de ne garder en mémoire que l'échantillon."
   ]
  },
  {
   "cell_type": "markdown",
   "metadata": {},
   "source": [
    "## Reservoir Sampling Distribué\n",
    "\n",
    "Distribuer l'algorithme paraît simple : une partie des données ira sur une machine qui en tirera un échantillon, l'autre machine tirera un échantillon aléatoire sur l'autre partie des données. Par extension, sur $m$ machines, on obtient $m$ échantillons de tailles $k_1, ..., k_m$ tirés sur des ensembles de tailles $N_1, ..., N_m$. Il faut s'assurer que la version distribuée produit un échantillon avec les mêmes propriétés."
   ]
  },
  {
   "cell_type": "markdown",
   "metadata": {},
   "source": [
    "### exercice 1 : combinaison\n",
    "\n",
    "Comment recombiner ces échantillons aléatoires ? Comment choisir les $k_i$ sachant qu'on doit tirer un échantillon de taille $k \\leqslant \\sum_{i=1}^m k_i$ parmi $N=\\sum_{i=1}^m N_i$ ?"
   ]
  },
  {
   "cell_type": "code",
   "execution_count": null,
   "metadata": {
    "collapsed": true
   },
   "outputs": [],
   "source": []
  },
  {
   "cell_type": "markdown",
   "metadata": {},
   "source": [
    "### exercice 2 : script PIG\n",
    "\n",
    "Ecrire le script PIG correspondant à l'algorithme."
   ]
  },
  {
   "cell_type": "code",
   "execution_count": null,
   "metadata": {
    "collapsed": true
   },
   "outputs": [],
   "source": []
  },
  {
   "cell_type": "markdown",
   "metadata": {},
   "source": [
    "## Petit problème théorique\n",
    "\n",
    "Un [Générateur congruentiel linéaire](https://fr.wikipedia.org/wiki/G%C3%A9n%C3%A9rateur_congruentiel_lin%C3%A9aire) imite seulement le hasard, ce n'est pas vraiment le hasard. La suite dépend d'une graine ou *seed*. Si deux machines partent de la même graine, elle produiront la même suite. Qu'en est-il du hasard ?\n",
    "\n",
    "La solution de l'exercice précédent est-elle correcte d'un point de statistique ?"
   ]
  },
  {
   "cell_type": "code",
   "execution_count": null,
   "metadata": {
    "collapsed": true
   },
   "outputs": [],
   "source": []
  }
 ],
 "metadata": {
  "kernelspec": {
   "display_name": "Python 3",
   "language": "python",
   "name": "python3"
  },
  "language_info": {
   "codemirror_mode": {
    "name": "ipython",
    "version": 3
   },
   "file_extension": ".py",
   "mimetype": "text/x-python",
   "name": "python",
   "nbconvert_exporter": "python",
   "pygments_lexer": "ipython3",
   "version": "3.5.0"
  }
 },
 "nbformat": 4,
 "nbformat_minor": 0
}
