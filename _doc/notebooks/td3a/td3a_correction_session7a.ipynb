{
 "metadata": {
  "name": "",
  "signature": "sha256:20cc4c7c3210b3d958162f79b8bd5195a39a40bf34633d56d5b6923c11274203"
 },
 "nbformat": 3,
 "nbformat_minor": 0,
 "worksheets": [
  {
   "cells": [
    {
     "cell_type": "heading",
     "level": 1,
     "metadata": {},
     "source": [
      "S\u00e9ance 7 : PIG et JSON avec les donn\u00e9es v\u00e9lib (correction)"
     ]
    },
    {
     "cell_type": "markdown",
     "metadata": {},
     "source": [
      "Plan\n",
      "\n",
      "* [R\u00e9cup\u00e9ration des donn\u00e9es](#don)\n",
      "* [Connexion au cluster](#con)\n",
      "* [Exercice 1 : convertir les valeurs num\u00e9riques](#exo1)\n",
      "* [Exercice 2 : stations ferm\u00e9es](#exo2)\n",
      "* [Exercice 3 : stations ferm\u00e9es, journ\u00e9e compl\u00e8te](#exo3)\n",
      "* [Exercice 4 : astuces](#astuce)\n",
      "\n",
      "\n",
      "<div style=\"position:absolute; top:10px; right:5px; width:100px; height:90px; margin:10px;\">\n",
      "[R\u00e9cup\u00e9ration](#don) -- [Connexion](#con) -- [Exo 1](#exo1) -- [Exo2](#exo2) -- [Exo3](#exo3) -- [Astuces](#astuce)\n",
      "</div>\n",
      "\n",
      "<h3 id=\"don\">R\u00e9cup\u00e9ration des donn\u00e9es</h3>\n"
     ]
    },
    {
     "cell_type": "code",
     "collapsed": false,
     "input": [
      "import pyensae\n",
      "import os, datetime"
     ],
     "language": "python",
     "metadata": {},
     "outputs": [],
     "prompt_number": 1
    },
    {
     "cell_type": "code",
     "collapsed": false,
     "input": [
      "if not os.path.exists(\"velib\") : os.mkdir(\"velib\")\n",
      "files=pyensae.download_data(\"data_velib_paris_2014-11-11_22-23.zip\", website=\"xdtd\", whereTo=\"velib\")\n",
      "files[:2]"
     ],
     "language": "python",
     "metadata": {},
     "outputs": [
      {
       "metadata": {},
       "output_type": "pyout",
       "prompt_number": 2,
       "text": [
        "['velib\\\\paris.2014-11-11_22-00-18.331391.txt',\n",
        " 'velib\\\\paris.2014-11-11_22-01-17.859194.txt']"
       ]
      }
     ],
     "prompt_number": 2
    },
    {
     "cell_type": "markdown",
     "metadata": {},
     "source": [
      "<h3 id=\"con\">Connexion au cluster</h3>\n"
     ]
    },
    {
     "cell_type": "code",
     "collapsed": false,
     "input": [
      "import pyensae, pyquickhelper\n",
      "params={\"server\":\"df...fr\", \"username\":\"\", \"password\":\"\"}\n",
      "pyquickhelper.open_html_form(params=params,title=\"server + credentials\", key_save=\"params\")"
     ],
     "language": "python",
     "metadata": {},
     "outputs": [
      {
       "html": [
        "<div style=\"background-color:gainsboro; padding:2px; border:0px;\"><b>server + credentials</b>\n",
        "<br />password <input type=\"password\" id=\"paramspassword\" value=\"\" size=\"80\" />\n",
        "<br />server <input type=\"text\" id=\"paramsserver\" value=\"df...fr\" size=\"80\" />\n",
        "<br />username <input type=\"text\" id=\"paramsusername\" value=\"\" size=\"80\" />\n",
        "<br /><button onclick=\"set_valueparams()\">Ok</button></div>\n",
        "<script type=\"text/Javascript\">\n",
        "function paramscallback(msg) {\n",
        "   var ret = msg.content.data['text/plain'];\n",
        "   $('#outparams').text(ret);\n",
        "}\n",
        "function set_valueparams(){\n",
        "   command='params = {' ;\n",
        "   var paramspasswordvar_value = document.getElementById('paramspassword').value;\n",
        "   command += '\"password\":\"' + paramspasswordvar_value + '\",';\n",
        "   var paramsservervar_value = document.getElementById('paramsserver').value;\n",
        "   command += '\"server\":\"' + paramsservervar_value + '\",';\n",
        "   var paramsusernamevar_value = document.getElementById('paramsusername').value;\n",
        "   command += '\"username\":\"' + paramsusernamevar_value + '\",';\n",
        "   command += '}';\n",
        "   var kernel = IPython.notebook.kernel;\n",
        "   kernel.execute(command);\n",
        "}\n",
        "</script>"
       ],
       "metadata": {},
       "output_type": "pyout",
       "prompt_number": 1,
       "text": [
        "<IPython.core.display.HTML at 0x5cb3ad0>"
       ]
      }
     ],
     "prompt_number": 1
    },
    {
     "cell_type": "code",
     "collapsed": false,
     "input": [
      "import pyensae, pyquickhelper\n",
      "params={\"server\":\"df...fr\", \"username\":\"\", \"password\":\"\"}\n",
      "pyquickhelper.open_html_form(params=params,title=\"server + credentials\", key_save=\"params\")"
     ],
     "language": "python",
     "metadata": {},
     "outputs": []
    },
    {
     "cell_type": "markdown",
     "metadata": {},
     "source": [
      "<h3 id=\"exo1\">Exercice 1 : convertir les valeurs num\u00e9riques</h3>\n",
      "\n",
      "La premi\u00e8re option consiste \u00e0 changer le *sch\u00e9ma* JSON pour introduire la conversion des cha\u00eenes de caract\u00e8res en nombre. Mais lorsqu'on essaye le sch\u00e9ma suivant, une erreur survient :"
     ]
    },
    {
     "cell_type": "code",
     "collapsed": false,
     "input": [
      "%%PYTHON stream_json.py\n",
      "\n",
      "import sys, datetime\n",
      "cols = [ _ for _ in sys.argv if \".py\" not in _ ]\n",
      "for row in sys.stdin:\n",
      "    row = row.strip()\n",
      "    if len(row) == 0 :\n",
      "        continue\n",
      "    js = eval(row)\n",
      "    for station in js:\n",
      "        vals = [ str(station[c]) for c in cols ]\n",
      "        sys.stdout.write(\",\".join(vals))\n",
      "        sys.stdout.write(\"\\n\")\n",
      "        sys.stdout.flush()"
     ],
     "language": "python",
     "metadata": {},
     "outputs": []
    },
    {
     "cell_type": "code",
     "collapsed": false,
     "input": [
      "%%PIG json_velib.pig\n",
      "\n",
      "DEFINE pystream `python stream_json.py available_bike_stands available_bikes lat lng name status` SHIP ('stream_json.py') INPUT(stdin USING PigStreaming(',')) OUTPUT (stdout USING PigStreaming(',')) ;\n",
      "\n",
      "jspy = LOAD 'velib_py/*.txt' USING PigStorage('\\t') AS (arow:chararray);\n",
      "\n",
      "matrice = STREAM jspy THROUGH pystream AS \n",
      "                (   available_bike_stands:int, \n",
      "                    available_bikes:int, \n",
      "                    lat:double, \n",
      "                    lng:double, \n",
      "                    name:chararray, \n",
      "                    status:chararray) ;\n",
      "\n",
      "STORE matrice INTO 'velib_py_results/firstjob' USING PigStorage('\\t') ;"
     ],
     "language": "python",
     "metadata": {},
     "outputs": [],
     "prompt_number": 5
    },
    {
     "cell_type": "markdown",
     "metadata": {},
     "source": [
      "<h3 id=\"exo2\">Exercice 2 : stations ferm\u00e9es</h3>\n",
      "    \n",
      "Les stations ferm\u00e9es ne le sont pas tout le temps. On veut calculer le ratio minutes/stations ferm\u00e9es / total des minutes/stations."
     ]
    },
    {
     "cell_type": "code",
     "collapsed": false,
     "input": [
      "%%PIG json_fermee.pig\n",
      "\n",
      "jspy = LOAD 'velib_py/*.txt' USING PigStorage('\\t') AS (arow:chararray);\n",
      "\n",
      "matrice = STREAM jspy THROUGH pystream AS \n",
      "                (   available_bike_stands:int, \n",
      "                    available_bikes:int, \n",
      "                    lat:double, \n",
      "                    lng:double, \n",
      "                    name:chararray, \n",
      "                    status:chararray) ;\n",
      "                \n",
      "grstation = GROUP matrice BY status ;  \n",
      "\n",
      "fermees = FOREACH grstation GENERATE\n",
      "                 group\n",
      "                ,SUM(matrice.available_bikes) AS available_bikes\n",
      "                ,SUM(matrice.available_bike_stands) AS available_bike_stands \n",
      "                ;\n",
      "\n",
      "\n",
      "STORE fermees INTO 'velib_py_results/stations_fermees.txt' USING PigStorage('\\t') ;\n",
      "\n",
      "gr_av   = GROUP istation BY available_bikes ;\n",
      "dist_av = FOREACH gr_av GENERATE group, COUNT(istation) ;\n",
      "gr_pl   = GROUP istation BY available_bike_stands ;\n",
      "dist_pl = FOREACH gr_pl GENERATE group, COUNT(istation) ;\n",
      "\n",
      "STORE dist_av INTO 'velib_py_results/distribution_bikes.txt' USING PigStorage('\\t') ;\n",
      "STORE dist_pl INTO 'velib_py_results/distribution_stands.txt' USING PigStorage('\\t') ;"
     ],
     "language": "python",
     "metadata": {},
     "outputs": [],
     "prompt_number": 34
    },
    {
     "cell_type": "markdown",
     "metadata": {},
     "source": [
      "<h3 id=\"exo3\">Exercice 3 : stations ferm\u00e9es, journ\u00e9e compl\u00e8te</h3>\n",
      "    \n",
      "Appliquer cela \u00e0 une journ\u00e9e compl\u00e8te revient \u00e0 lancer le m\u00eame job sur des donn\u00e9es plus grandes."
     ]
    },
    {
     "cell_type": "code",
     "collapsed": false,
     "input": [],
     "language": "python",
     "metadata": {},
     "outputs": []
    },
    {
     "cell_type": "markdown",
     "metadata": {},
     "source": [
      "<h3 id=\"astuce\">Exercice 4 : astuces</h3>\n",
      "\n",
      "Les erreurs de PIG ne sont pas tr\u00e8s explicite surtout si elles se produisent dans le script python. Un moyen simple de d\u00e9bugger est d'attraper les exceptions produites par python et de les r\u00e9cup\u00e9rer sous PIG (le reste du job est enlev\u00e9). On peut tout-\u00e0-fait imaginer ajouter la version de python install\u00e9e sur le cluster ainsi que la liste de modules"
     ]
    },
    {
     "cell_type": "code",
     "collapsed": false,
     "input": [],
     "language": "python",
     "metadata": {},
     "outputs": []
    }
   ],
   "metadata": {}
  }
 ]
}