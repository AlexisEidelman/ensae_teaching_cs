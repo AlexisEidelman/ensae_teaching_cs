{
 "metadata": {
  "name": "",
  "signature": "sha256:242fbae33abc43811d2fc11ab6387cdd87856f8e106053b314d7b14da9d922db"
 },
 "nbformat": 3,
 "nbformat_minor": 0,
 "worksheets": [
  {
   "cells": [
    {
     "cell_type": "heading",
     "level": 1,
     "metadata": {},
     "source": [
      "S\u00e9ance 7 : PIG et Param\u00e8tres"
     ]
    },
    {
     "cell_type": "markdown",
     "metadata": {},
     "source": [
      "Plan\n",
      "\n",
      "* [Param\u00e8tres](#par)\n",
      "* [Connexion au cluster](#con)\n",
      "* [Upload des donn\u00e9es](#up)\n",
      "* [PIG et param\u00e8tres](#pig1)\n",
      "* [Exercice 1 : histograme min,max](#exo1)\n",
      "\n",
      "<div style=\"position:absolute; top:10px; right:5px; width:100px; height:90px; margin:10px;\">\n",
      "[Param\u00e8tres](#par) -- [Connexion](#con) -- [Upload](#up) -- [PIG et param\u00e8tres](#pig1) -- [Exo 1](#exo1)\n",
      "</div>\n",
      "\n",
      "<h3 id=\"par\">Param\u00e8tres</h3>\n",
      "\n",
      "Les sites web produisent des donn\u00e9es en continu. On utilise fr\u00e9quemment le m\u00eame script pour traiter les donn\u00e9esd'un jour, du lendemain, de jour d'apr\u00e8s... Tous les jours, on veut r\u00e9cup\u00e9rer la fr\u00e9quentation de la veille. La seule chose qui change est la date des donn\u00e9es qu'on veut traiter. Plut\u00f4t que de recopier un script en entier pour changer une date qui appara\u00eet parfois \u00e0 plusieurs endroits, il est pr\u00e9f\u00e9rable d'\u00e9crire un script ou la date appara\u00eet comme une variable.\n",
      "\n",
      "Ce notebook va illustrer ce proc\u00e9d\u00e9 sur la construction d'un histogramme. Le param\u00e8tre du script sera la largeur des barres de l'histogramme (ou *bin* en anglais)."
     ]
    },
    {
     "cell_type": "markdown",
     "metadata": {},
     "source": [
      "<h3 id=\"con\">Connexion au cluster</h3>\n",
      "\n",
      "On prend le cluster [Cloudera](http://www.xavierdupre.fr/app/ensae_teaching_cs/helpsphinx3/notebooks/td3a_cenonce_session6.html#p2). Il faut ex\u00e9cuter ce script pour pouvoir notifier au notebook que la variable ``params`` existe."
     ]
    },
    {
     "cell_type": "code",
     "collapsed": false,
     "input": [
      "import pyensae, pyquickhelper\n",
      "params={\"server\":\"df...fr\", \"username\":\"\", \"password\":\"\"}\n",
      "pyquickhelper.open_html_form(params=params,title=\"server + credentials\", key_save=\"params\")"
     ],
     "language": "python",
     "metadata": {},
     "outputs": []
    },
    {
     "cell_type": "code",
     "collapsed": false,
     "input": [
      "import pyensae\n",
      "password = params[\"password\"]\n",
      "server = params[\"server\"]\n",
      "username = params[\"username\"]\n",
      "client = %remote_open\n",
      "client"
     ],
     "language": "python",
     "metadata": {},
     "outputs": []
    },
    {
     "cell_type": "markdown",
     "metadata": {},
     "source": [
      "<h3 id=\"up\">Upload version</h3>\n",
      "\n",
      "On commence par simuler des donn\u00e9es."
     ]
    },
    {
     "cell_type": "code",
     "collapsed": false,
     "input": [
      "import random\n",
      "with open(\"random.sample.txt\", \"w\") as f :\n",
      "    for i in range(0,10000) :\n",
      "        x = random.random()\n",
      "        f.write(str(x)+\"\\n\")"
     ],
     "language": "python",
     "metadata": {},
     "outputs": []
    },
    {
     "cell_type": "markdown",
     "metadata": {},
     "source": [
      "On cr\u00e9\u00e9 un r\u00e9pertoire sur le cluster :"
     ]
    },
    {
     "cell_type": "code",
     "collapsed": false,
     "input": [
      "%dfs_mkdir random"
     ],
     "language": "python",
     "metadata": {},
     "outputs": []
    },
    {
     "cell_type": "code",
     "collapsed": false,
     "input": [
      "%remote_up random.sample.txt random/random.sample.txt"
     ],
     "language": "python",
     "metadata": {},
     "outputs": []
    },
    {
     "cell_type": "markdown",
     "metadata": {},
     "source": [
      "<h3 id=\"pig1\">PIG et param\u00e8tres</h3>"
     ]
    },
    {
     "cell_type": "markdown",
     "metadata": {},
     "source": [
      "On indique un param\u00e8tre par le symbole : ``$bin``. La valeur du param\u00e8tre est pass\u00e9 sous forme de cha\u00eene de caract\u00e8res au script. On convertit cette valeur en r\u00e9el qu'on stocke dans une variable. \n",
      "\n",
      "La sortie du script inclut le param\u00e8tre : cela permet de retrouver comme ces donn\u00e9es ont \u00e9t\u00e9 g\u00e9n\u00e9r\u00e9es."
     ]
    },
    {
     "cell_type": "code",
     "collapsed": false,
     "input": [
      "%%PIG histogram.pig\n",
      "\n",
      "DECLARE bind = (double) $bin ;\n",
      "\n",
      "values = LOAD 'random/random.sample.txt' USING PigStorage('\\t') AS (x:double);\n",
      "\n",
      "values_h = FOREACH values GENERATE x, ((int)x / $bind) * $bind AS h ;\n",
      "\n",
      "hist_group = GROUP values_h BY h ;\n",
      "\n",
      "hist = FOREACH hist_group GENERATE group, COUNT() AS nb ;\n",
      "\n",
      "STORE hist INTO 'random/histo_$bin.txt' USING PigStorage('\\t') ;"
     ],
     "language": "python",
     "metadata": {},
     "outputs": []
    },
    {
     "cell_type": "markdown",
     "metadata": {},
     "source": [
      "Pour supprimer les pr\u00e9c\u00e9dents r\u00e9sultats :"
     ]
    },
    {
     "cell_type": "code",
     "collapsed": false,
     "input": [
      "if client.dfs_exists(\"random/histo_0.1.txt\"):\n",
      "    client.dfs_rm(\"random/histo_0.1.txt\", recursive=True)\n",
      "%dfs_mkdir velib_py_results"
     ],
     "language": "python",
     "metadata": {},
     "outputs": []
    },
    {
     "cell_type": "markdown",
     "metadata": {},
     "source": [
      "On ex\u00e9cute le job. Comme la commande magique supportant les param\u00e8tres n'existe pas encore, il faut utiliser la variable ``client``."
     ]
    },
    {
     "cell_type": "code",
     "collapsed": false,
     "input": [
      "client.pig_submit(\"histogram.pig\", redirection=\"redirection\", params =dict(bin=0.1) )"
     ],
     "language": "python",
     "metadata": {},
     "outputs": []
    },
    {
     "cell_type": "markdown",
     "metadata": {},
     "source": [
      "S'il se produit des erreurs, il est recommand\u00e9 d'afficher plus de lignes :"
     ]
    },
    {
     "cell_type": "code",
     "collapsed": false,
     "input": [
      "%remote_cmd tail redirection.err"
     ],
     "language": "python",
     "metadata": {},
     "outputs": []
    },
    {
     "cell_type": "markdown",
     "metadata": {},
     "source": [
      "On v\u00e9rifie que tout s'est bien pass\u00e9. La taille devrait \u00eatre \u00e9quivalent \u00e0 l'entr\u00e9e."
     ]
    },
    {
     "cell_type": "code",
     "collapsed": false,
     "input": [
      "%dfs_ls random"
     ],
     "language": "python",
     "metadata": {},
     "outputs": []
    },
    {
     "cell_type": "code",
     "collapsed": false,
     "input": [
      "if os.path.exists(\"histo.txt\") : os.remove(\"histo.txt\")\n",
      "client.download_cluster(\"random/histo_0.1.txt\",\"histo.txt\", merge=True)"
     ],
     "language": "python",
     "metadata": {},
     "outputs": []
    },
    {
     "cell_type": "code",
     "collapsed": false,
     "input": [
      "import pandas\n",
      "df = pandas.read_csv(\"histo.txt\", sep=\"\\t\",names=[\"bin\",\"nb\"])\n",
      "df.plot()"
     ],
     "language": "python",
     "metadata": {},
     "outputs": []
    },
    {
     "cell_type": "markdown",
     "metadata": {},
     "source": [
      "<h3 id=\"exo1\">Exercice 1 : min, max</h3>\n",
      "\n",
      "Ajouter deux param\u00e8tres pour construire l'histogramme entre deux valeurs ``a``,``b``."
     ]
    },
    {
     "cell_type": "code",
     "collapsed": false,
     "input": [],
     "language": "python",
     "metadata": {},
     "outputs": []
    }
   ],
   "metadata": {}
  }
 ]
}