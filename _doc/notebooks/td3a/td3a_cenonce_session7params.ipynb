{
 "metadata": {
  "name": "",
  "signature": "sha256:d4b2b045aab16c8ea9582a54f846f01b5686c515c30c9a8e3e8c1df063256b73"
 },
 "nbformat": 3,
 "nbformat_minor": 0,
 "worksheets": [
  {
   "cells": [
    {
     "cell_type": "heading",
     "level": 1,
     "metadata": {},
     "source": [
      "S\u00e9ance 7 : PIG et Param\u00e8tres (Cloudera)"
     ]
    },
    {
     "cell_type": "markdown",
     "metadata": {},
     "source": [
      "Plan\n",
      "\n",
      "* [Param\u00e8tres](#par)\n",
      "* [Connexion au cluster](#con)\n",
      "* [Upload des donn\u00e9es](#up)\n",
      "* [PIG et param\u00e8tres](#pig1)\n",
      "* [Exercice 1 : histograme min,max](#exo1)\n",
      "\n",
      "<div style=\"position:absolute; top:10px; right:5px; width:100px; height:90px; margin:10px;\">\n",
      "[Param\u00e8tres](#par) -- [Connexion](#con) -- [Upload](#up) -- [PIG et param\u00e8tres](#pig1) -- [Exo 1](#exo1)\n",
      "</div>\n",
      "\n",
      "<h3 id=\"par\">Param\u00e8tres</h3>\n",
      "\n",
      "Les sites web produisent des donn\u00e9es en continu. On utilise fr\u00e9quemment le m\u00eame script pour traiter les donn\u00e9esd'un jour, du lendemain, de jour d'apr\u00e8s... Tous les jours, on veut r\u00e9cup\u00e9rer la fr\u00e9quentation de la veille. La seule chose qui change est la date des donn\u00e9es qu'on veut traiter. Plut\u00f4t que de recopier un script en entier pour changer une date qui appara\u00eet parfois \u00e0 plusieurs endroits, il est pr\u00e9f\u00e9rable d'\u00e9crire un script ou la date appara\u00eet comme une variable.\n",
      "\n",
      "Ce notebook va illustrer ce proc\u00e9d\u00e9 sur la construction d'un histogramme. Le param\u00e8tre du script sera la largeur des barres de l'histogramme (ou [bin](http://en.wikipedia.org/wiki/Histogram#Number_of_bins_and_width) en anglais)."
     ]
    },
    {
     "cell_type": "markdown",
     "metadata": {},
     "source": [
      "<h3 id=\"con\">Connexion au cluster</h3>\n",
      "\n",
      "On prend le cluster [Cloudera](http://www.xavierdupre.fr/app/ensae_teaching_cs/helpsphinx3/notebooks/td3a_cenonce_session6.html#p2). Il faut ex\u00e9cuter ce script pour pouvoir notifier au notebook que la variable ``params`` existe."
     ]
    },
    {
     "cell_type": "code",
     "collapsed": false,
     "input": [
      "import pyensae, pyquickhelper\n",
      "params={\"server\":\"df...fr\", \"username\":\"\", \"password\":\"\"}\n",
      "pyquickhelper.open_html_form(params=params,title=\"server + credentials\", key_save=\"params\")"
     ],
     "language": "python",
     "metadata": {},
     "outputs": [
      {
       "html": [
        "<div style=\"background-color:gainsboro; padding:2px; border:0px;\"><b>server + credentials</b>\n",
        "<br />password <input type=\"password\" id=\"paramspassword\" value=\"\" size=\"80\" />\n",
        "<br />server <input type=\"text\" id=\"paramsserver\" value=\"df...fr\" size=\"80\" />\n",
        "<br />username <input type=\"text\" id=\"paramsusername\" value=\"\" size=\"80\" />\n",
        "<br /><button onclick=\"set_valueparams()\">Ok</button></div>\n",
        "<script type=\"text/Javascript\">\n",
        "function paramscallback(msg) {\n",
        "   var ret = msg.content.data['text/plain'];\n",
        "   $('#outparams').text(ret);\n",
        "}\n",
        "function set_valueparams(){\n",
        "   command='params = {' ;\n",
        "   var paramspasswordvar_value = document.getElementById('paramspassword').value;\n",
        "   command += '\"password\":\"' + paramspasswordvar_value + '\",';\n",
        "   var paramsservervar_value = document.getElementById('paramsserver').value;\n",
        "   command += '\"server\":\"' + paramsservervar_value + '\",';\n",
        "   var paramsusernamevar_value = document.getElementById('paramsusername').value;\n",
        "   command += '\"username\":\"' + paramsusernamevar_value + '\",';\n",
        "   command += '}';\n",
        "   var kernel = IPython.notebook.kernel;\n",
        "   kernel.execute(command);\n",
        "}\n",
        "</script>"
       ],
       "metadata": {},
       "output_type": "pyout",
       "prompt_number": 1,
       "text": [
        "<IPython.core.display.HTML at 0x7bfe190>"
       ]
      }
     ],
     "prompt_number": 1
    },
    {
     "cell_type": "code",
     "collapsed": false,
     "input": [
      "import pyensae\n",
      "password = params[\"password\"]\n",
      "server = params[\"server\"]\n",
      "username = params[\"username\"]\n",
      "client = %remote_open\n",
      "client"
     ],
     "language": "python",
     "metadata": {},
     "outputs": [
      {
       "metadata": {},
       "output_type": "pyout",
       "prompt_number": 1,
       "text": [
        "<pyensae.remote.ssh_remote_connection.ASSHClient at 0x79ad290>"
       ]
      }
     ],
     "prompt_number": 1
    },
    {
     "cell_type": "markdown",
     "metadata": {},
     "source": [
      "<h3 id=\"up\">Upload version</h3>\n",
      "\n",
      "On commence par simuler des donn\u00e9es."
     ]
    },
    {
     "cell_type": "code",
     "collapsed": false,
     "input": [
      "import random\n",
      "with open(\"random.sample.txt\", \"w\") as f :\n",
      "    for i in range(0,10000) :\n",
      "        x = random.random()\n",
      "        f.write(str(x)+\"\\n\")"
     ],
     "language": "python",
     "metadata": {},
     "outputs": [],
     "prompt_number": 3
    },
    {
     "cell_type": "markdown",
     "metadata": {},
     "source": [
      "On cr\u00e9\u00e9 un r\u00e9pertoire sur le cluster :"
     ]
    },
    {
     "cell_type": "code",
     "collapsed": false,
     "input": [
      "%dfs_mkdir random"
     ],
     "language": "python",
     "metadata": {},
     "outputs": [
      {
       "metadata": {},
       "output_type": "pyout",
       "prompt_number": 12,
       "text": [
        "('', '')"
       ]
      }
     ],
     "prompt_number": 12
    },
    {
     "cell_type": "code",
     "collapsed": false,
     "input": [
      "%remote_up_cluster random.sample.txt random/random.sample.txt"
     ],
     "language": "python",
     "metadata": {},
     "outputs": [
      {
       "metadata": {},
       "output_type": "pyout",
       "prompt_number": 15,
       "text": [
        "'random/random.sample.txt'"
       ]
      }
     ],
     "prompt_number": 15
    },
    {
     "cell_type": "markdown",
     "metadata": {},
     "source": [
      "<h3 id=\"pig1\">PIG et param\u00e8tres</h3>"
     ]
    },
    {
     "cell_type": "markdown",
     "metadata": {},
     "source": [
      "On indique un param\u00e8tre par le symbole : ``$bins``. La valeur du param\u00e8tre est pass\u00e9 sous forme de cha\u00eene de caract\u00e8res au script et remplac\u00e9e telle quelle dans le script. Il en va de m\u00eame des constantes d\u00e9clar\u00e9es gr\u00e2ce au mot-cl\u00e9 [%declare](https://pig.apache.org/docs/r0.11.1/cont.html#Examples-N1060D).\n",
      "\n",
      "La sortie du script inclut le param\u00e8tre : cela permet de retrouver comment ces donn\u00e9es ont \u00e9t\u00e9 g\u00e9n\u00e9r\u00e9es."
     ]
    },
    {
     "cell_type": "code",
     "collapsed": false,
     "input": [
      "%%PIG histogram.pig\n",
      "\n",
      "values = LOAD 'random/random.sample.txt' USING PigStorage('\\t') AS (x:double);\n",
      "\n",
      "values_h = FOREACH values GENERATE x, ((int)(x / $bins)) * $bins AS h ;\n",
      "\n",
      "hist_group = GROUP values_h BY h ;\n",
      "\n",
      "hist = FOREACH hist_group GENERATE group, COUNT(values_h) AS nb ;\n",
      "\n",
      "STORE hist INTO 'random/histo_$bins.txt' USING PigStorage('\\t') ;"
     ],
     "language": "python",
     "metadata": {},
     "outputs": [],
     "prompt_number": 14
    },
    {
     "cell_type": "markdown",
     "metadata": {},
     "source": [
      "Pour supprimer les pr\u00e9c\u00e9dents r\u00e9sultats :"
     ]
    },
    {
     "cell_type": "code",
     "collapsed": false,
     "input": [
      "if client.dfs_exists(\"random/histo_0.1.txt\"):\n",
      "    client.dfs_rm(\"random/histo_0.1.txt\", recursive=True)"
     ],
     "language": "python",
     "metadata": {},
     "outputs": [],
     "prompt_number": 15
    },
    {
     "cell_type": "markdown",
     "metadata": {},
     "source": [
      "On ex\u00e9cute le job. Comme la commande magique supportant les param\u00e8tres n'existe pas encore, il faut utiliser la variable ``client`` et sa m\u00e9thode [pig_submit](http://www.xavierdupre.fr/app/pyensae/helpsphinx/pyensae/remote/ssh_remote_connection.html?highlight=pig_submit#pyensae.remote.ssh_remote_connection.ASSHClient.pig_submit) qui fait la m\u00eame chose. Elle upload le script puis le soumet."
     ]
    },
    {
     "cell_type": "code",
     "collapsed": false,
     "input": [
      "client.pig_submit(\"histogram.pig\", redirection=\"redirection\", params =dict(bins=\"0.1\") )"
     ],
     "language": "python",
     "metadata": {},
     "outputs": [
      {
       "metadata": {},
       "output_type": "pyout",
       "prompt_number": 16,
       "text": [
        "('', '')"
       ]
      }
     ],
     "prompt_number": 16
    },
    {
     "cell_type": "markdown",
     "metadata": {},
     "source": [
      "S'il se produit des erreurs, il est recommand\u00e9 d'afficher plus de lignes :"
     ]
    },
    {
     "cell_type": "code",
     "collapsed": false,
     "input": [
      "%remote_cmd tail redirection.err"
     ],
     "language": "python",
     "metadata": {},
     "outputs": [
      {
       "html": [
        "<pre>\n",
        "Total bytes written : 131\n",
        "Spillable Memory Manager spill count : 0\n",
        "Total bags proactively spilled: 0\n",
        "Total records proactively spilled: 0\n",
        "\n",
        "Job DAG:\n",
        "job_1414491244634_0168\n",
        "\n",
        "\n",
        "2014-11-28 00:11:44,435 [main] INFO  org.apache.pig.backend.hadoop.executionengine.mapReduceLayer.MapReduceLauncher - Success!\n",
        "\n",
        "</pre>"
       ],
       "metadata": {},
       "output_type": "pyout",
       "prompt_number": 19,
       "text": [
        "<IPython.core.display.HTML at 0xabb57d0>"
       ]
      }
     ],
     "prompt_number": 19
    },
    {
     "cell_type": "markdown",
     "metadata": {},
     "source": [
      "On v\u00e9rifie que tout s'est bien pass\u00e9. La taille devrait \u00eatre \u00e9quivalent \u00e0 l'entr\u00e9e."
     ]
    },
    {
     "cell_type": "code",
     "collapsed": false,
     "input": [
      "%dfs_ls random"
     ],
     "language": "python",
     "metadata": {},
     "outputs": [
      {
       "html": [
        "<div style=\"max-height:1000px;max-width:1500px;overflow:auto;\">\n",
        "<table border=\"1\" class=\"dataframe\">\n",
        "  <thead>\n",
        "    <tr style=\"text-align: right;\">\n",
        "      <th></th>\n",
        "      <th>attributes</th>\n",
        "      <th>code</th>\n",
        "      <th>alias</th>\n",
        "      <th>folder</th>\n",
        "      <th>size</th>\n",
        "      <th>date</th>\n",
        "      <th>time</th>\n",
        "      <th>name</th>\n",
        "      <th>isdir</th>\n",
        "    </tr>\n",
        "  </thead>\n",
        "  <tbody>\n",
        "    <tr>\n",
        "      <th>0</th>\n",
        "      <td> drwxr-xr-x</td>\n",
        "      <td> -</td>\n",
        "      <td> xavierdupre</td>\n",
        "      <td> xavierdupre</td>\n",
        "      <td>      0</td>\n",
        "      <td> 2014-11-28</td>\n",
        "      <td> 00:11</td>\n",
        "      <td>     random/histo_0.1.txt</td>\n",
        "      <td>  True</td>\n",
        "    </tr>\n",
        "    <tr>\n",
        "      <th>1</th>\n",
        "      <td> -rw-r--r--</td>\n",
        "      <td> 3</td>\n",
        "      <td> xavierdupre</td>\n",
        "      <td> xavierdupre</td>\n",
        "      <td> 202586</td>\n",
        "      <td> 2014-11-27</td>\n",
        "      <td> 23:38</td>\n",
        "      <td> random/random.sample.txt</td>\n",
        "      <td> False</td>\n",
        "    </tr>\n",
        "  </tbody>\n",
        "</table>\n",
        "</div>"
       ],
       "metadata": {},
       "output_type": "pyout",
       "prompt_number": 20,
       "text": [
        "   attributes code        alias       folder    size        date   time  \\\n",
        "0  drwxr-xr-x    -  xavierdupre  xavierdupre       0  2014-11-28  00:11   \n",
        "1  -rw-r--r--    3  xavierdupre  xavierdupre  202586  2014-11-27  23:38   \n",
        "\n",
        "                       name  isdir  \n",
        "0      random/histo_0.1.txt   True  \n",
        "1  random/random.sample.txt  False  "
       ]
      }
     ],
     "prompt_number": 20
    },
    {
     "cell_type": "code",
     "collapsed": false,
     "input": [
      "if os.path.exists(\"histo.txt\") : os.remove(\"histo.txt\")\n",
      "client.download_cluster(\"random/histo_0.1.txt\",\"histo.txt\", merge=True)"
     ],
     "language": "python",
     "metadata": {},
     "outputs": [
      {
       "metadata": {},
       "output_type": "pyout",
       "prompt_number": 21,
       "text": [
        "'random/histo_0.1.txt'"
       ]
      }
     ],
     "prompt_number": 21
    },
    {
     "cell_type": "code",
     "collapsed": false,
     "input": [
      "import matplotlib.pyplot as plt\n",
      "plt.style.use('ggplot')\n",
      "import pandas\n",
      "df = pandas.read_csv(\"histo.txt\", sep=\"\\t\",names=[\"bin\",\"nb\"])\n",
      "df.plot(x=\"bin\", y=\"nb\", kind=\"bar\")"
     ],
     "language": "python",
     "metadata": {},
     "outputs": [
      {
       "metadata": {},
       "output_type": "pyout",
       "prompt_number": 6,
       "text": [
        "<matplotlib.axes._subplots.AxesSubplot at 0xaf7c330>"
       ]
      },
      {
       "metadata": {},
       "output_type": "display_data",
       "png": "[encoded data removed]",
       "text": [
        "<matplotlib.figure.Figure at 0x725f110>"
       ]
      }
     ],
     "prompt_number": 6
    },
    {
     "cell_type": "markdown",
     "metadata": {},
     "source": [
      "<h3 id=\"exo1\">Exercice 1 : min, max</h3>\n",
      "\n",
      "Ajouter deux param\u00e8tres pour construire l'histogramme entre deux valeurs ``a``,``b``."
     ]
    },
    {
     "cell_type": "code",
     "collapsed": false,
     "input": [],
     "language": "python",
     "metadata": {},
     "outputs": []
    }
   ],
   "metadata": {}
  }
 ]
}