{
 "metadata": {
  "name": ""
 },
 "nbformat": 3,
 "nbformat_minor": 0,
 "worksheets": [
  {
   "cells": [
    {
     "cell_type": "heading",
     "level": 1,
     "metadata": {},
     "source": [
      "Calculer $x^n$ avec $n \\in \\mathbb{N}$ le plus rapidement possible"
     ]
    },
    {
     "cell_type": "markdown",
     "metadata": {},
     "source": [
      "Plan\n",
      "\n",
      "- [Enonc\u00e9](#enonce)\n",
      "- [Solution](#solution)"
     ]
    },
    {
     "cell_type": "markdown",
     "metadata": {},
     "source": [
      "<h3 id=\"enonce\">Enonc\u00e9</h3>"
     ]
    },
    {
     "cell_type": "markdown",
     "metadata": {},
     "source": [
      "Comme $n$ est entier, la fa\u00e7on la plus simple est de calculer $x*x*...*x$ mais existe-t-il plus rapide que cela ?"
     ]
    },
    {
     "cell_type": "markdown",
     "metadata": {},
     "source": [
      "<h3 id=\"solution\">Solution</h3>"
     ]
    },
    {
     "cell_type": "markdown",
     "metadata": {},
     "source": [
      "L'id\u00e9e de d\u00e9part consiste \u00e0 \u00e9crire $x^{2n}=(x^n)^2$. En extrapolant, on en d\u00e9duit que si $n=2^k$, alors le co\u00fbt du calcul de $x^n$ consistera en $k$ it\u00e9rations en on $2^k$."
     ]
    },
    {
     "cell_type": "code",
     "collapsed": false,
     "input": [
      "def puissance2k(x,k):\n",
      "    while k > 0 :\n",
      "        x *= x\n",
      "        k -= 1\n",
      "    return x\n",
      "\n",
      "for i in range(0,4) :\n",
      "    print ( \"2^(2^{0})=2^{1}={2}\".format( i, 2**i, puissance2k ( 2, i ) ) )"
     ],
     "language": "python",
     "metadata": {},
     "outputs": [
      {
       "output_type": "stream",
       "stream": "stdout",
       "text": [
        "2^(2^0)=2^1=2\n",
        "2^(2^1)=2^2=4\n",
        "2^(2^2)=2^4=16\n",
        "2^(2^3)=2^8=256\n"
       ]
      }
     ],
     "prompt_number": 6
    },
    {
     "cell_type": "markdown",
     "metadata": {},
     "source": [
      "Lorsque $n$ n'est pas une puissance de 2, il suffit que le d\u00e9composer en \u00e9criture binaire. Si $n = \\sum_k a_k 2^k$, avec $a_k \\in \\{0,1\\}$, alors $x^n = \\prod_k x^{a_k 2^k}$."
     ]
    },
    {
     "cell_type": "code",
     "collapsed": false,
     "input": [
      "def puissance(x,n):\n",
      "    r = 1\n",
      "    while n > 0 :\n",
      "        if n % 2 == 1 : r *= x\n",
      "        x *= x\n",
      "        n //= 2\n",
      "    return r\n",
      "\n",
      "for i in range(0,9) :\n",
      "    print ( \"2^{0}={1}\".format( i, puissance ( 2, i ) ) )"
     ],
     "language": "python",
     "metadata": {},
     "outputs": [
      {
       "output_type": "stream",
       "stream": "stdout",
       "text": [
        "2^0=1\n",
        "2^1=2\n",
        "2^2=4\n",
        "2^3=8\n",
        "2^4=16\n",
        "2^5=32\n",
        "2^6=64\n",
        "2^7=128\n",
        "2^8=256\n"
       ]
      }
     ],
     "prompt_number": 11
    },
    {
     "cell_type": "code",
     "collapsed": false,
     "input": [],
     "language": "python",
     "metadata": {},
     "outputs": []
    }
   ],
   "metadata": {}
  }
 ]
}