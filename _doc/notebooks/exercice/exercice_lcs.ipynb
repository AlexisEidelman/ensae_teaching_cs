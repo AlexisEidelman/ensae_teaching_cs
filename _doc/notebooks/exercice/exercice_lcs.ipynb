{
 "metadata": {
  "name": "",
  "signature": "sha256:6433d22da3aaa7b507dc74b2e2f83e84bdf28d6b1c09d7412efbce3bdbe59132"
 },
 "nbformat": 3,
 "nbformat_minor": 0,
 "worksheets": [
  {
   "cells": [
    {
     "cell_type": "heading",
     "level": 1,
     "metadata": {},
     "source": [
      "La plus grande s\u00e9quence commune"
     ]
    },
    {
     "cell_type": "markdown",
     "metadata": {},
     "source": [
      "Aussi connu sous le nom _longest common subsequence_. C'est un probl\u00e8me classique de programmation dynamique que la page Wikipedia r\u00e9sume tr\u00e8s bien : [Longest common subsequence problem](http://en.wikipedia.org/wiki/Longest_common_subsequence). Vous trouverez une solution d\u00e9taill\u00e9e [Exercice 2 : plus grande s\u00e9quence croissante](http://www.xavierdupre.fr/app/ensae_teaching_cs/helpsphinx/notebooks/td1a_correction_session_11.html#exo2)."
     ]
    },
    {
     "cell_type": "code",
     "collapsed": false,
     "input": [],
     "language": "python",
     "metadata": {},
     "outputs": []
    }
   ],
   "metadata": {}
  }
 ]
}