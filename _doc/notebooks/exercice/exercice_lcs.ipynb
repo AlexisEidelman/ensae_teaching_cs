{
 "metadata": {
  "name": "",
  "signature": "sha256:8e1de68e47a00ce0b3867765c40b37366210dede725b465ef0dfc626ca1f6c2d"
 },
 "nbformat": 3,
 "nbformat_minor": 0,
 "worksheets": [
  {
   "cells": [
    {
     "cell_type": "heading",
     "level": 1,
     "metadata": {},
     "source": [
      "La plus grande s\u00e9quence commune"
     ]
    },
    {
     "cell_type": "markdown",
     "metadata": {},
     "source": [
      "Aussi connu sous le nom _longest common subsequence_. C'est un probl\u00e8me classique de programmation dynamique que la page Wikipedia r\u00e9sume tr\u00e8s bien : [Longest common subsequence problem](http://en.wikipedia.org/wiki/Longest_common_subsequence)."
     ]
    },
    {
     "cell_type": "code",
     "collapsed": false,
     "input": [],
     "language": "python",
     "metadata": {},
     "outputs": []
    }
   ],
   "metadata": {}
  }
 ]
}