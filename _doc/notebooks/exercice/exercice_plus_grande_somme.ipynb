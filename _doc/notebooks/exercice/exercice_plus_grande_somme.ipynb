{
 "metadata": {
  "name": "",
  "signature": "sha256:829f14300d8bed875949cc6c9429561bc2b613f77b36973623608a44b4788e15"
 },
 "nbformat": 3,
 "nbformat_minor": 0,
 "worksheets": [
  {
   "cells": [
    {
     "cell_type": "heading",
     "level": 1,
     "metadata": {},
     "source": [
      "La sous-s\u00e9quence de plus grande somme"
     ]
    },
    {
     "cell_type": "markdown",
     "metadata": {},
     "source": [
      "Plan\n",
      "\n",
      "* [Enonc\u00e9](#enonce)\n",
      "* [Solution na\u00efve](#solution1)\n",
      "* [Solution en $O(n^2)$](#sol2)\n",
      "* [Solution dichotomique](#sol3)\n",
      "* [Comparaison des temps de calcul](#comparaison)"
     ]
    },
    {
     "cell_type": "markdown",
     "metadata": {},
     "source": [
      "<h3 id=\"enonce\">Enonc\u00e9</h3>\n",
      "\n",
      "On suppose qu'on a une liste $L=( l_1, l_2, ..., l_n)$. On souhaite trouver la sous-s\u00e9quence de plus grande somme. En d'autres termes, on veut trouver $(i^*,j^*)$ tels que :\n",
      "\n",
      "$$ \\sum_{k=i^*}^{j^*} l_k = \\max_{i,j} \\sum_{k=i}^{j} l_k  $$"
     ]
    },
    {
     "cell_type": "markdown",
     "metadata": {},
     "source": [
      "<h3 id=\"solution1\">Solution na\u00efve</h3>\n",
      "\n",
      "La premi\u00e8re solution consiste \u00e0 calculer les sommes de toutes les sous-s\u00e9quences et de garder les $i,j$ qui ont permis d'obtenir la meilleure sous-s\u00e9quence. On divise le programme en deux fonctions :\n",
      "\n",
      "* ``somme_partielle`` : calcule la somme de la sous-s\u00e9quence ``l[i:j]`` (co\u00fbt de la fonction : $O(n)$)\n",
      "* ``plus_grande_sous_liste`` : passe en revue toutes les sous-s\u00e9quences et retourne la meilleure (co\u00fbt de la fonction $O(n^2)$)\n",
      "\n",
      "Le co\u00fbt de cet algorithme est en $O(n^3)$."
     ]
    },
    {
     "cell_type": "code",
     "collapsed": false,
     "input": [
      "def somme_partielle (li, i, j) :\n",
      "    r = 0\n",
      "    for a in range (i,j) :\n",
      "        r += li [a]\n",
      "    return r\n",
      "    # on pourrait juste \u00e9crire \n",
      "    # return sum ( li [i:j] )\n",
      "\n",
      "def plus_grande_sous_liste (li) :\n",
      "    meilleur = min(li)               # ligne A\n",
      "    im,jm = -1,-1\n",
      "    for i in range (0,len(li)) :\n",
      "        for j in range (i+1, len(li)+1) :   # ne pas oublier +1 car sinon\n",
      "                        # le dernier \u00e9l\u00e9ment n'est jamais pris en compte\n",
      "            s = somme_partielle(li, i,j)\n",
      "            if s > meilleur :\n",
      "                meilleur = s\n",
      "                im,jm = i,j\n",
      "    return li [im:jm]\n",
      "    \n",
      "# si li ne contient que des valeurs positives, la solution est \u00e9videmment la liste enti\u00e8re\n",
      "# c'est pourquoi il faut tester cette fonction avec des valeurs n\u00e9gatives\n",
      "li = [ 4,-6,7,-1,8,-50,3]\n",
      "m  = plus_grande_sous_liste(li)\n",
      "m"
     ],
     "language": "python",
     "metadata": {},
     "outputs": [
      {
       "metadata": {},
       "output_type": "pyout",
       "prompt_number": 2,
       "text": [
        "[7, -1, 8]"
       ]
      }
     ],
     "prompt_number": 2
    },
    {
     "cell_type": "markdown",
     "metadata": {},
     "source": [
      "La ligne A contient l'instruction ``meilleur = min(li)``. Pour une liste o\u00f9 tous les nombres sont n\u00e9gatifs, la meilleure sous-liste est constitu\u00e9 du plus petit \u00e9l\u00e9ment de la liste. Remplacer cette instruction par ``meilleur = 0`` a pour cons\u00e9quence de retourner une liste vide dans ce cas pr\u00e9cis. \n",
      "\n",
      "$$\\text{co\u00fbt}(n) = \\sum_{i=0}^n \\sum_{j=i+1}^n j-i = \\sum_{i=0}^n \\sum_{j=0}^i j = \\sum_{i=0}^n \\frac{i(i+1)}{2} \\sim O(n^3) $$\n",
      "\n",
      "<h3 id=\"sol2\">Solution en $O(n^2)$</h3>\n",
      "\n",
      "Il est possible de modifier cette fonction de telle sorte que le co\u00fbt soit en $O(n^2)$ car on \u00e9vite la r\u00e9p\u00e9tition de certains calculs lors du calcul de la somme des sous-s\u00e9quences. On peut \u00e9crire :\n",
      "\n",
      "$$ \\sum_{k=i}^{j+1} l_k = l_j + \\sum_{k=i}^{j} l_k$$\n",
      "\n",
      "Dans la seconde boucle, il suffit d'ajouter l'\u00e9l\u00e9ment ``li[j]`` \u00e0 la somme pr\u00e9c\u00e9dente."
     ]
    },
    {
     "cell_type": "code",
     "collapsed": false,
     "input": [
      "def plus_grande_sous_liste_n2 (li) :\n",
      "    meilleur = 0\n",
      "    im,jm = -1,-1\n",
      "    for i in range (0,len(li)) :\n",
      "        s = 0\n",
      "        for j in range (i, len(li)) :\n",
      "            s += li[j]\n",
      "            if s > meilleur :\n",
      "                meilleur = s\n",
      "                im,jm = i,j+1\n",
      "    return li [im:jm]\n",
      "    \n",
      "li = [ 4,-6,7,-1,8,-50,3]\n",
      "m  = plus_grande_sous_liste_n2(li)\n",
      "print(m)\n",
      "\n",
      "li = [1,2,3,4,5,-98,78,9,7,7]\n",
      "m  = plus_grande_sous_liste_n2(li)\n",
      "m   "
     ],
     "language": "python",
     "metadata": {},
     "outputs": [
      {
       "output_type": "stream",
       "stream": "stdout",
       "text": [
        "[7, -1, 8]\n"
       ]
      },
      {
       "metadata": {},
       "output_type": "pyout",
       "prompt_number": 5,
       "text": [
        "[78, 9, 7, 7]"
       ]
      }
     ],
     "prompt_number": 5
    },
    {
     "cell_type": "markdown",
     "metadata": {},
     "source": [
      "<h3 id=\"sol3\">Solution dichotomique</h3>\n",
      "\n",
      "Il existe une derni\u00e8re version plus rapide encore. Si on consid\u00e8re la liste $L=(l_1, ..., l_n)$ dont on cherche \u00e0 extraire la sous-s\u00e9quence de somme maximale. Supposons que $l_a$ appartienne \u00e0 cette sous-s\u00e9quence. On construit la fonction suivante :\n",
      "\n",
      "$$f(a,k) =\\left \\{ \\begin{array}{ll} \\sum_{i=a}^{k} l_i &\\text{ si } k > a \\\\ \\sum_{i=k}^{a} l_i &\\text{ si } k < a  \\end{array} \\right . $$\n",
      "\n",
      "On cherche alors les valeurs $k_1$ et $k_2$ telles que :\n",
      "\n",
      "$$\\begin{eqnarray} f(a,k_1) &=& \\max_{k<a} f(a,k) \\\\ f(a,k_2) &=& \\max_{k>a} f(a,k) \\end{eqnarray} $$\n",
      "\n",
      "La sous-s\u00e9quence de somme maximale cherch\u00e9e est $[k_1,k_2]$ avec $a$ dans cet intervalle et le co\u00fbt de cette recherche est en $O(n)$. Mais ceci n'est vrai que si on sait que  $l_a$ appartient \u00e0 la sous-s\u00e9quence de somme maximale.\n",
      "\n",
      "Autre consid\u00e9ration : pour deux listes $l_1$ et $l_2$, la s\u00e9quence maximale de la r\u00e9union des deux appartient soit \u00e0 l'une, soit \u00e0 l'autre, soit elle inclut le point de jonction.\n",
      "\n",
      "Ces deux id\u00e9es mises bout \u00e0 bout donne l'algorithme suivant construit de fa\u00e7on r\u00e9cursive. On coupe la liste en deux parties de longueur \u00e9gale :\n",
      "\n",
      "* On calcule la meilleure s\u00e9quence sur la premi\u00e8re sous-s\u00e9quence.\n",
      "* On calcule la meilleure s\u00e9quence sur la seconde sous-s\u00e9quence.\n",
      "* On calcule la meilleure s\u00e9quence en suppose que l'\u00e9l\u00e9ment du milieu appartient \u00e0 cette s\u00e9quence.\n",
      "\n",
      "La meilleure s\u00e9quence est n\u00e9cessairement l'une des trois."
     ]
    },
    {
     "cell_type": "code",
     "collapsed": false,
     "input": [
      "def plus_grande_sous_liste_rapide_r (li, i,j) :\n",
      "    if i == j : return 0\n",
      "    elif i+1 == j : return li[i],i,i+1\n",
      "    \n",
      "    milieu = (i+j)//2\n",
      "    \n",
      "    # on coupe le probl\u00e8me deux\n",
      "    ma,ia,ja = plus_grande_sous_liste_rapide_r (li, i, milieu)\n",
      "    mb,ib,jb = plus_grande_sous_liste_rapide_r (li, milieu, j)\n",
      "    \n",
      "    # pour aller encore plus vite dans un cas pr\u00e9cis\n",
      "    if ja == ib :\n",
      "        total = ma+mb\n",
      "        im,jm = ia,jb\n",
      "    else :\n",
      "        # on \u00e9tudie la jonction\n",
      "        im,jm = milieu,milieu+1\n",
      "        meilleur = li[milieu]\n",
      "        s = meilleur\n",
      "        for k in range (milieu+1, j) :\n",
      "            s += li[k]\n",
      "            if s > meilleur :\n",
      "                meilleur = s\n",
      "                jm = k+1\n",
      "                \n",
      "        total = meilleur\n",
      "        meilleur = li[milieu]\n",
      "        s = meilleur\n",
      "        for k in range (milieu-1, i-1, -1) :\n",
      "            s += li[k]\n",
      "            if s > meilleur :\n",
      "                meilleur = s\n",
      "                im = k\n",
      "        \n",
      "        total += meilleur - li[milieu]\n",
      "            \n",
      "    if   ma >= max(mb,total) : return ma,ia,ja\n",
      "    elif mb >= max(ma,total) : return mb,ib,jb\n",
      "    else : return total,im,jm\n",
      "        \n",
      "def plus_grande_sous_liste_rapide (li) :\n",
      "    m,i,j = plus_grande_sous_liste_rapide_r (li,0,len(li))\n",
      "    return li[i:j]\n",
      "        \n",
      "li = [ 4,-6,7,-1,8,-50,3]\n",
      "m  = plus_grande_sous_liste_rapide(li)\n",
      "print(m)   # affiche [7, -1, 8]\n",
      "\n",
      "li = [1,2,3,4,5,-98,78,9,7,7]\n",
      "m  = plus_grande_sous_liste_rapide(li)\n",
      "m   # affiche [79, 9, 7, 7]    "
     ],
     "language": "python",
     "metadata": {},
     "outputs": [
      {
       "output_type": "stream",
       "stream": "stdout",
       "text": [
        "[7, -1, 8]\n"
       ]
      },
      {
       "metadata": {},
       "output_type": "pyout",
       "prompt_number": 7,
       "text": [
        "[78, 9, 7, 7]"
       ]
      }
     ],
     "prompt_number": 7
    },
    {
     "cell_type": "markdown",
     "metadata": {},
     "source": [
      "Le co\u00fbt de cette fonction est au pire en $O(n \\ln n)$. A chaque it\u00e9ration, on effectue trois calculs :\n",
      "\n",
      "* meilleure s\u00e9quence \u00e0 droite : $f(n/2)$\n",
      "* meilleure s\u00e9quence \u00e0 gauche : $f(n/2)$\n",
      "* meilleure s\u00e9quence incluant $a$ : $n$\n",
      "\n",
      "Le co\u00fbt de l'iteration $n$ est $n + 2f(n/2)$ avec $f(1)=0$. On calcule les premi\u00e8res termes : "
     ]
    },
    {
     "cell_type": "code",
     "collapsed": false,
     "input": [
      "cout = lambda n : 0 if n == 1 else n+2*cout(n//2)\n",
      "for i in range(1,10):\n",
      "    print(\"f({0})={1} --> f({0})/{0} = {2}\".format(2**i,cout(2**i),cout(2**i)/2**i))"
     ],
     "language": "python",
     "metadata": {},
     "outputs": [
      {
       "output_type": "stream",
       "stream": "stdout",
       "text": [
        "f(2)=2 --> f(2)/2 = 1.0\n",
        "f(4)=8 --> f(4)/4 = 2.0\n",
        "f(8)=24 --> f(8)/8 = 3.0\n",
        "f(16)=64 --> f(16)/16 = 4.0\n",
        "f(32)=160 --> f(32)/32 = 5.0\n",
        "f(64)=384 --> f(64)/64 = 6.0\n",
        "f(128)=896 --> f(128)/128 = 7.0\n",
        "f(256)=2048 --> f(256)/256 = 8.0\n",
        "f(512)=4608 --> f(512)/512 = 9.0\n"
       ]
      }
     ],
     "prompt_number": 18
    },
    {
     "cell_type": "markdown",
     "metadata": {},
     "source": [
      "On suppose que $f(2^n)=n2^n \\Leftrightarrow f(n) = n \\ln_2 n$. Il suffit de v\u00e9rifier cela avec la r\u00e9currence : \n",
      "\n",
      "$$\\begin{eqnarray} f(n) &=& n + 2f(\\frac{n}{2}) = n + 2 \\frac{n}{2} \\ln_2(\\frac{n}{2}) \\\\ &=& n + n \\ln_2(n) - n\\ln_2(2) = n + n\\ln_2(n) - n = n\\ln_2 n\\end{eqnarray}$$\n",
      "\n",
      "C'est le co\u00fbt d'une it\u00e9ration. Comme \u00e0 chaque it\u00e9ration on coupe le probl\u00e8me en deux, le co\u00fbt total de l'algorithme est :\n",
      "\n",
      "$$C(n) = \\sum_{i=1}^{\\ln_2 n} f(i) = \\sum_{i=1}^{\\ln_2 n} i \\ln_2 i \\leqslant n (\\ln_2 n)^2 $$"
     ]
    },
    {
     "cell_type": "markdown",
     "metadata": {},
     "source": [
      "<h3 id=\"lin\">Solution lin\u00e9aire</h3>\n",
      "\n",
      "La derni\u00e8re solution est la plus rapide. Elle consiste \u00e0 parcourir la liste dans le sens croissant des indices. A chaque fois qu'on rencontre un nombre n\u00e9gatif, on a le choix entre l'inclure dans la liste ou en d\u00e9marrer une nouvelle juste apr\u00e8s."
     ]
    },
    {
     "cell_type": "code",
     "collapsed": false,
     "input": [],
     "language": "python",
     "metadata": {},
     "outputs": []
    },
    {
     "cell_type": "markdown",
     "metadata": {},
     "source": [
      "<h3 id=\"comparaison\">Comparaison des temps de calcul</h3>\n",
      "\n",
      "On effectue cela sur une liste de nombres al\u00e9atoire n\u00e9gatifs et positifs."
     ]
    },
    {
     "cell_type": "code",
     "collapsed": false,
     "input": [
      "import random\n",
      "li = [ random.randint(-10,50) for i in range(0,100) ]"
     ],
     "language": "python",
     "metadata": {},
     "outputs": [],
     "prompt_number": 19
    },
    {
     "cell_type": "markdown",
     "metadata": {},
     "source": [
      "Co\u00fbt en $O(n^3)$ :"
     ]
    },
    {
     "cell_type": "code",
     "collapsed": false,
     "input": [
      "%timeit plus_grande_sous_liste(li)"
     ],
     "language": "python",
     "metadata": {},
     "outputs": [
      {
       "output_type": "stream",
       "stream": "stdout",
       "text": [
        "10 loops, best of 3: 31.5 ms per loop\n"
       ]
      }
     ],
     "prompt_number": 20
    },
    {
     "cell_type": "markdown",
     "metadata": {},
     "source": [
      "Co\u00fbt en $O(n^2)$ :"
     ]
    },
    {
     "cell_type": "code",
     "collapsed": false,
     "input": [
      "%timeit plus_grande_sous_liste_n2(li)"
     ],
     "language": "python",
     "metadata": {},
     "outputs": [
      {
       "output_type": "stream",
       "stream": "stdout",
       "text": [
        "1000 loops, best of 3: 963 \u00b5s per loop\n"
       ]
      }
     ],
     "prompt_number": 21
    },
    {
     "cell_type": "markdown",
     "metadata": {},
     "source": [
      "Cout en $O(n \\ln^2 n)$ :"
     ]
    },
    {
     "cell_type": "code",
     "collapsed": false,
     "input": [
      "%timeit plus_grande_sous_liste_rapide(li)"
     ],
     "language": "python",
     "metadata": {},
     "outputs": [
      {
       "output_type": "stream",
       "stream": "stdout",
       "text": [
        "1000 loops, best of 3: 287 \u00b5s per loop\n"
       ]
      }
     ],
     "prompt_number": 22
    },
    {
     "cell_type": "code",
     "collapsed": false,
     "input": [],
     "language": "python",
     "metadata": {},
     "outputs": []
    }
   ],
   "metadata": {}
  }
 ]
}