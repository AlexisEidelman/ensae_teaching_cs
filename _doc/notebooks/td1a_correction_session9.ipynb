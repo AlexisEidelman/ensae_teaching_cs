{
 "metadata": {
  "name": "",
  "signature": "sha256:6256143d378d84e6f9e9232fc99f96f481886dbcd094ce665cda224921260f31"
 },
 "nbformat": 3,
 "nbformat_minor": 0,
 "worksheets": [
  {
   "cells": [
    {
     "cell_type": "heading",
     "level": 1,
     "metadata": {},
     "source": [
      "TD 9 : Optimisation sous contrainte (correction)"
     ]
    },
    {
     "cell_type": "markdown",
     "metadata": {},
     "source": [
      "Plan\n",
      "\n",
      "* [Premier probl\u00e8me](#p1)\n",
      "* [L'algorithme de Arrow-Hurwicz](#arrow)\n",
      "* [Le lagrangien augment\u00e9](#lag)\n",
      "* [Prolongement 1](#prol1)\n",
      "* [Prolongement 2](#prol2)\n",
      "    \n",
      "\n",
      "On rapelle le probl\u00e8me d'optimisation \u00e0 r\u00e9soudre :\n",
      "\n",
      "$$ \\left \\{  \\begin{array}{l} \\min_U J(U)=u_1^2 + u_1^2 - u_1 u_2 + u_2  \\\\ \\text{sous contrainte} \\; \\theta(U) = u_0 + 2u_1 - 1 = 0 \\text{ et } u_1 \\geqslant 0.5 \\end{array}\\right .  $$\n",
      "\n",
      "Les impl\u00e9mentations de l'algorithme Arrow-Hurwicz propos\u00e9es ici ne sont pas g\u00e9n\u00e9riques. Il n'est pas sugg\u00e9r\u00e9 de les r\u00e9utiliser \u00e0 moins d'utiliser pleinement le calcul matriciel de [numpy](http://www.numpy.org/).\n",
      "\n",
      "\n",
      "\n",
      "<h2 id=\"p1\">Premier probl\u00e8me</h2>\n",
      "\n",
      "Le module [cvxopt](http://cvxopt.org/) utilise une fonction qui retourne la valeur de la fonction \u00e0 optimiser, sa d\u00e9riv\u00e9e, sa d\u00e9riv\u00e9e seconde.\n",
      "\n",
      "$$\\begin{array}{rcl} f(x,y) &=& x^2 + y^2 - xy + y \\\\ \\frac{\\partial f(x,y)}{\\partial x} &=& 2x - y \\\\ \\frac{\\partial f(x,y)}{\\partial y} &=& 2y - x + 1 \\\\ \\frac{\\partial^2 f(x,y)}{\\partial x^2} &=& 2 \\\\ \\frac{\\partial^2 f(x,y)}{\\partial y^2} &=& 2 \\\\ \\frac{\\partial^2 f(x,y)}{\\partial x\\partial y} &=& -1  \\end{array} $$\n",
      "\n"
     ]
    },
    {
     "cell_type": "code",
     "collapsed": false,
     "input": [
      "from cvxopt import solvers, matrix\n",
      "import random\n",
      "\n",
      "def fonction(x=None,z=None) : \n",
      "    if x is None :\n",
      "        x0 = matrix ( [[ random.random(), random.random() ]])\n",
      "        return 0,x0\n",
      "    f = x[0]**2 + x[1]**2 - x[0]*x[1] + x[1]\n",
      "    d = matrix ( [ x[0]*2 - x[1], x[1]*2 - x[0] + 1 ] ).T\n",
      "    h = matrix ( [ [ 2.0, -1.0], [-1.0, 2.0] ])\n",
      "    if z is None: return  f, d\n",
      "    else : return f, d, h\n",
      "    \n",
      "A = matrix([ [ 1.0, 2.0 ] ]).trans()\n",
      "b = matrix ( [[ 1.0] ] )\n",
      "    \n",
      "sol = solvers.cp ( fonction, A = A, b = b)\n",
      "print (sol)\n",
      "print (\"solution:\",sol['x'].T)"
     ],
     "language": "python",
     "metadata": {},
     "outputs": [
      {
       "output_type": "stream",
       "stream": "stdout",
       "text": [
        "     pcost       dcost       gap    pres   dres\n",
        " 0:  0.0000e+00  4.2955e-01  1e+00  1e+00  1e+00\n",
        " 1:  4.0927e-01  4.2857e-01  1e-02  2e-02  1e-02\n",
        " 2:  4.2838e-01  4.2857e-01  1e-04  2e-04  1e-04\n",
        " 3:  4.2857e-01  4.2857e-01  1e-06  2e-06  1e-06\n",
        " 4:  4.2857e-01  4.2857e-01  1e-08  2e-08  1e-08\n",
        "Optimal solution found.\n",
        "{'status': 'optimal', 'primal infeasibility': 2.049652062012102e-08, 'y': <1x1 matrix, tc='d'>, 'snl': <0x1 matrix, tc='d'>, 'sl': <0x1 matrix, tc='d'>, 'primal slack': 1.0000000000000033e-08, 'dual slack': 1.0000000000000004, 'relative gap': 2.3333333333333423e-08, 'znl': <0x1 matrix, tc='d'>, 'primal objective': 0.4285714091253549, 'x': <2x1 matrix, tc='d'>, 'gap': 1.0000000000000038e-08, 'dual objective': 0.42857142857142855, 'dual infeasibility': 9.996040806806803e-09, 'zl': <0x1 matrix, tc='d'>}\n",
        "solution: [ 4.29e-01  2.86e-01]\n",
        "\n"
       ]
      }
     ],
     "prompt_number": 8
    },
    {
     "cell_type": "markdown",
     "metadata": {},
     "source": [
      "<h2 id=\"arrow\">L'algorithme de Arrow-Hurwicz</h2>\n",
      "\n"
     ]
    },
    {
     "cell_type": "code",
     "collapsed": false,
     "input": [
      "def fonction(X) : \n",
      "    x,y = X\n",
      "    f = x**2 + y**2 - x*y + y\n",
      "    d = [ x*2 - y, y*2 - x + 1  ] \n",
      "    return f, d\n",
      "    \n",
      "def contrainte(X) : \n",
      "    x,y = X\n",
      "    f = x+2*y-1\n",
      "    d = [ 1,2]\n",
      "    return f, d\n",
      "    \n",
      "X0  = [ random.random(),random.random() ]\n",
      "p0  = random.random()\n",
      "epsilon = 0.1\n",
      "rho     = 0.1\n",
      "\n",
      "diff = 1\n",
      "iter = 0\n",
      "while diff > 1e-10 :\n",
      "    f,d   = fonction( X0 )\n",
      "    th,dt = contrainte( X0 )\n",
      "    Xt    = [ X0[i] - epsilon*(d[i] + dt[i] * p0) for i in range(len(X0)) ]\n",
      "\n",
      "    th,dt = contrainte( Xt )\n",
      "    pt    = p0 + rho * th\n",
      "    \n",
      "    iter += 1\n",
      "    diff = sum ( [ abs(Xt[i] - X0[i]) for i in range(len(X0)) ] )\n",
      "    X0 = Xt\n",
      "    p0 = pt\n",
      "    if iter % 100 == 0 :\n",
      "        print (\"i {0} diff {1:0.000}\".format(iter,diff),\":\", f,X0,p0,th)\n",
      "\n",
      "print (diff,iter,p0)\n",
      "print(\"solution:\",X0)"
     ],
     "language": "python",
     "metadata": {},
     "outputs": [
      {
       "output_type": "stream",
       "stream": "stdout",
       "text": [
        "i 100 diff 0.001 : 0.4247897864911925 [0.42689355878508073, 0.28435244828471445] -0.5749941851846841 -0.004401544645490363\n",
        "i 200 diff 4e-06 : 0.42858505488192533 [0.4285774472613499, 0.285720126646874] -0.5714194393546865 1.7700555097865944e-05\n",
        "i 300 diff 1e-08 : 0.42857138230973435 [0.4285714081852857, 0.28571426356925744] -0.5714285933247762 -6.467619939609648e-08\n",
        "8.65032490083e-11 353 -0.5714285707449258\n",
        "solution: [0.42857142760818157, 0.28571428421894984]\n"
       ]
      }
     ],
     "prompt_number": 6
    },
    {
     "cell_type": "markdown",
     "metadata": {},
     "source": [
      "<h2 id=\"lag\">Le lagrangien augment\u00e9</h2>\n",
      "\n"
     ]
    },
    {
     "cell_type": "code",
     "collapsed": false,
     "input": [
      "def fonction(X,c) : \n",
      "    x,y = X\n",
      "    f = x**2 + y**2 - x*y + y\n",
      "    d = [ x*2 - y, y*2 - x + 1 ] \n",
      "    \n",
      "    v = x+2*y-1\n",
      "    v = c/2 * v**2\n",
      "    \n",
      "    # la fonction retourne maintenant dv (ce qu'elle ne faisait pas avant)\n",
      "    dv = [ 2*(x+2*y-1), 4*(x+2*y-1) ]\n",
      "    dv = [ c/2 * dv[0], c/2 * dv[1] ]\n",
      "    return f + v, d, dv\n",
      "    \n",
      "def contrainte(X) : \n",
      "    x,y = X\n",
      "    f = x+2*y-1\n",
      "    d = [ 1,2]\n",
      "    return f, d\n",
      "    \n",
      "X0  = [ random.random(),random.random() ]\n",
      "p0  = random.random()\n",
      "epsilon = 0.1\n",
      "rho     = 0.1\n",
      "c       = 1\n",
      "\n",
      "diff = 1\n",
      "iter = 0\n",
      "while diff > 1e-10 :\n",
      "    f,d,dv = fonction( X0,c )\n",
      "    th,dt = contrainte( X0 )\n",
      "    # le dv[i] est nouveau\n",
      "    Xt    = [ X0[i] - epsilon*(d[i] + dt[i] * p0 + dv[i]) for i in range(len(X0)) ]\n",
      "\n",
      "    th,dt = contrainte( Xt )\n",
      "    pt    = p0 + rho * th\n",
      "    \n",
      "    iter += 1\n",
      "    diff = sum ( [ abs(Xt[i] - X0[i]) for i in range(len(X0)) ] )\n",
      "    X0 = Xt\n",
      "    p0 = pt\n",
      "    if iter % 100 == 0 :\n",
      "        print (\"i {0} diff {1:0.000}\".format(iter,diff),\":\", f,X0,p0,th)\n",
      "        \n",
      "print (diff,iter,p0)\n",
      "print(\"solution:\",X0)"
     ],
     "language": "python",
     "metadata": {},
     "outputs": [
      {
       "output_type": "stream",
       "stream": "stdout",
       "text": [
        "i 100 diff 9e-06 : 0.4284835397042614 [0.4285257942646543, 0.28566702773052666] -0.5712849940942254 -0.00014015027429237215\n",
        "i 200 diff 8e-10 : 0.42857142064500353 [0.4285714244564873, 0.2857142814529341] -0.5714285584819018 -1.263764448644622e-08\n",
        "9.59901602648e-11 223 -0.5714285699086377\n",
        "solution: [0.42857142808833615, 0.28571428521400477]\n"
       ]
      }
     ],
     "prompt_number": 9
    },
    {
     "cell_type": "markdown",
     "metadata": {},
     "source": [
      "<h2 id=\"prol1\">Prolongement 1</h2>\n",
      "\n",
      "Le probl\u00e8me \u00e0 r\u00e9soudre est le suivant~: \n",
      "\n",
      "$$ \\left \\{  \\begin{array}{l} \\min_U J(U)=u_1^2 + u_1^2 - u_1 u_2 + u_2  \\\\ \\text{sous contrainte} \\; \\theta(U) = u_0 + 2u_1 - 1 = 0 \\text{ et } u_1 \\geqslant 0.3 \\end{array}\\right . $$"
     ]
    },
    {
     "cell_type": "code",
     "collapsed": false,
     "input": [
      "from cvxopt import solvers, matrix\n",
      "import random\n",
      "\n",
      "def fonction(x=None,z=None) : \n",
      "    if x is None :\n",
      "        x0 = matrix ( [[ random.random(), random.random() ]])\n",
      "        return 0,x0\n",
      "    f = x[0]**2 + x[1]**2 - x[0]*x[1] + x[1]\n",
      "    d = matrix ( [ x[0]*2 - x[1], x[1]*2 - x[0] + 1 ] ).T\n",
      "    h = matrix ( [ [ 2.0, -1.0], [-1.0, 2.0] ])\n",
      "    if z is None: return  f, d\n",
      "    else : return f, d, h\n",
      "    \n",
      "A = matrix([ [ 1.0, 2.0 ] ]).trans()\n",
      "b = matrix ( [[ 1.0] ] )\n",
      "\n",
      "G = matrix ( [[0.0, -1.0] ]).trans()\n",
      "h = matrix ( [[ -0.3] ] )\n",
      "    \n",
      "sol = solvers.cp ( fonction, A = A, b = b, G=G, h=h)\n",
      "print (sol)\n",
      "print (\"solution:\",sol['x'].T)    "
     ],
     "language": "python",
     "metadata": {},
     "outputs": [
      {
       "output_type": "stream",
       "stream": "stdout",
       "text": [
        "     pcost       dcost       gap    pres   dres\n",
        " 0:  0.0000e+00  5.1249e-01  2e+00  1e+00  9e-01\n",
        " 1:  3.9825e-01  4.1007e-01  7e-02  4e-02  9e-03\n",
        " 2:  4.3458e-01  4.2532e-01  1e-02  3e-03  2e-16\n",
        " 3:  4.3118e-01  4.2927e-01  4e-03  9e-04  4e-16\n",
        " 4:  4.3033e-01  4.2993e-01  8e-04  2e-04  5e-16\n",
        " 5:  4.3005e-01  4.3000e-01  1e-04  2e-05  6e-16\n",
        " 6:  4.3000e-01  4.3000e-01  3e-06  9e-07  1e-15\n",
        " 7:  4.3000e-01  4.3000e-01  4e-08  1e-08  1e-15\n",
        "Optimal solution found.\n",
        "{'status': 'optimal', 'primal infeasibility': 9.636674935018775e-09, 'y': <1x1 matrix, tc='d'>, 'snl': <0x1 matrix, tc='d'>, 'sl': <1x1 matrix, tc='d'>, 'primal slack': 8.714188716285685e-11, 'dual slack': 0.20000259350365998, 'relative gap': 8.636668517465485e-08, 'znl': <0x1 matrix, tc='d'>, 'primal objective': 0.43000001865573895, 'x': <2x1 matrix, tc='d'>, 'gap': 3.713767462508084e-08, 'dual objective': 0.4299999999997598, 'dual infeasibility': 1.1909050386352223e-15, 'zl': <1x1 matrix, tc='d'>}\n",
        "solution: [ 4.00e-01  3.00e-01]\n",
        "\n"
       ]
      }
     ],
     "prompt_number": 11
    },
    {
     "cell_type": "markdown",
     "metadata": {},
     "source": [
      "**Version avec l'algorithme de Arrow-Hurwicz :**"
     ]
    },
    {
     "cell_type": "code",
     "collapsed": false,
     "input": [
      "import numpy,random\n",
      "\n",
      "X0 = numpy.matrix ( [[ random.random(), random.random() ]]).transpose()\n",
      "P0 = numpy.matrix ( [[ random.random(), random.random() ]]).transpose()\n",
      "    \n",
      "A  = numpy.matrix([ [ 1.0, 2.0 ], [ 0.0, -1.0]  ])\n",
      "tA = A.transpose()\n",
      "b = numpy.matrix ( [[ 1.0], [-0.30] ] )\n",
      "\n",
      "epsilon = 0.1\n",
      "rho     = 0.1\n",
      "c       = 1    \n",
      "\n",
      "first = True\n",
      "iter  = 0\n",
      "while first or abs(J - oldJ) > 1e-8 :\n",
      "    if first :\n",
      "        J = X0[0,0]**2 + X0[1,0]**2 - X0[0,0]*X0[1,0] + X0[1,0]\n",
      "        oldJ = J+1\n",
      "        first = False\n",
      "    else :\n",
      "        oldJ = J\n",
      "        J = X0[0,0]**2 + X0[1,0]**2 - X0[0,0]*X0[1,0] + X0[1,0]\n",
      "        \n",
      "    dj   = numpy.matrix ( [ X0[0,0]*2 - X0[1,0], X0[1,0]*2 - X0[0,0] + 1 ] ).transpose()\n",
      "\n",
      "    Xt = X0 - ( dj + tA * P0 ) * epsilon\n",
      "    Pt = P0 + ( A * Xt - b) * rho\n",
      "    \n",
      "    if Pt [1,0] < 0 : Pt[1,0] = 0\n",
      "    \n",
      "    X0,P0 = Xt,Pt\n",
      "    iter += 1\n",
      "    if iter % 100 == 0 :\n",
      "        print (\"iteration\",iter, J)\n",
      "    \n",
      "print (iter)\n",
      "print (\"solution:\",Xt.T)"
     ],
     "language": "python",
     "metadata": {},
     "outputs": [
      {
       "output_type": "stream",
       "stream": "stdout",
       "text": [
        "iteration 100 0.438928769823\n",
        "iteration 200 0.431511185295\n",
        "iteration 300 0.430474413611\n",
        "iteration 400 0.430161042987\n",
        "iteration"
       ]
      },
      {
       "output_type": "stream",
       "stream": "stdout",
       "text": [
        " 500 0.430060328795\n",
        "iteration 600 0.430025004165\n",
        "iteration 700 0.430011288151\n",
        "iteration 800 0.430005417575\n",
        "iteration"
       ]
      },
      {
       "output_type": "stream",
       "stream": "stdout",
       "text": [
        " 900 0.430002702711\n",
        "988\n",
        "solution: [[ 0.39982692  0.30007332]]\n"
       ]
      }
     ],
     "prompt_number": 15
    },
    {
     "cell_type": "markdown",
     "metadata": {},
     "source": [
      "<h2 id=\"prol2\">Prolongement 2</h2>\n",
      "\n",
      "Correction \u00e0 venir."
     ]
    },
    {
     "cell_type": "code",
     "collapsed": false,
     "input": [],
     "language": "python",
     "metadata": {},
     "outputs": []
    }
   ],
   "metadata": {}
  }
 ]
}