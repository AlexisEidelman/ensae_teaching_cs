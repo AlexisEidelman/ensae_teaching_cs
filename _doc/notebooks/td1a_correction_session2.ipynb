{
 "metadata": {
  "name": ""
 },
 "nbformat": 3,
 "nbformat_minor": 0,
 "worksheets": [
  {
   "cells": [
    {
     "cell_type": "heading",
     "level": 1,
     "metadata": {},
     "source": [
      "TD 2 : Variables, boucles, tests (correction)"
     ]
    },
    {
     "cell_type": "markdown",
     "metadata": {},
     "source": [
      "Plan\n",
      "\n",
      "* [Partie 5 : recherche non dichotomique (exercice)](#p5)\n",
      "* [Partie 6 : recherche dichotomique (exercice)](#p6)\n",
      "* [Partie 7 : pour aller plus loin (exercice)](#p7)"
     ]
    },
    {
     "cell_type": "markdown",
     "metadata": {},
     "source": [
      "<h3 id=\"p5\">Partie 5 : recherche non dichotomique (exercice)</h3>\n",
      "\n",
      "Il n'y a pas d'autres moyens que de passer tous les \u00e9l\u00e9ments en revue et de conserver la position du premier \u00e9l\u00e9ment dans la liste qui v\u00e9rifie le crit\u00e8re de recherche."
     ]
    },
    {
     "cell_type": "code",
     "collapsed": false,
     "input": [
      "l = [ 3, 6, 2 , 7, 9 ]\n",
      "x = 7\n",
      "\n",
      "for i,v in enumerate(l) :\n",
      "    if v == x :\n",
      "        position = i\n",
      "\n",
      "print ( position )"
     ],
     "language": "python",
     "metadata": {},
     "outputs": [
      {
       "output_type": "stream",
       "stream": "stdout",
       "text": [
        "3\n"
       ]
      }
     ],
     "prompt_number": 1
    },
    {
     "cell_type": "markdown",
     "metadata": {},
     "source": [
      "<h3 id=\"p6\">Partie 6 : recherche dichotomique (exercice)</h3>"
     ]
    },
    {
     "cell_type": "markdown",
     "metadata": {},
     "source": [
      "La recherche dichotomique s'applique uniquement sur un tableau tri\u00e9e. A chaque it\u00e9ration, on vise le milieu du tableau pour savoir dans quelle moiti\u00e9 chercher."
     ]
    },
    {
     "cell_type": "code",
     "collapsed": false,
     "input": [
      "l = [2, 3, 6, 7, 9]\n",
      "# si la liste n'est pas tri\u00e9e, il faut \u00e9crire : \n",
      "l.sort ()\n",
      "x = 7\n",
      "\n",
      "a = 0\n",
      "b = len(l)-1\n",
      "while a <= b :\n",
      "    m = (a+b)//2  # ne pas oublier // sinon la division est r\u00e9elle\n",
      "    if l[m] == x : \n",
      "        position = m   # ligne A\n",
      "        break          # pas la peine de continuer, on quitte la boucle\n",
      "    elif l[m] < x :\n",
      "        a = m+1\n",
      "    else :\n",
      "        b = m-1\n",
      "\n",
      "print ( position )"
     ],
     "language": "python",
     "metadata": {},
     "outputs": [
      {
       "output_type": "stream",
       "stream": "stdout",
       "text": [
        "3\n"
       ]
      }
     ],
     "prompt_number": 3
    },
    {
     "cell_type": "markdown",
     "metadata": {},
     "source": [
      "<h3 id=\"p7\">Partie 7 : pour aller plus loin (exercice)</h3>"
     ]
    },
    {
     "cell_type": "markdown",
     "metadata": {},
     "source": [
      "Lorsque l'\u00e9l\u00e9ment \u00e0 chercher n'est pas dans la liste, cela d\u00e9clenche une erreur :"
     ]
    },
    {
     "cell_type": "code",
     "collapsed": false,
     "input": [
      "l = [2, 3, 6, 7, 9]\n",
      "l.sort ()\n",
      "x = 5\n",
      "\n",
      "position = -1\n",
      "\n",
      "a = 0\n",
      "b = len(l)-1\n",
      "while a <= b :\n",
      "    m = (a+b)//2\n",
      "    if l[m] == x : \n",
      "        position = m\n",
      "        break      \n",
      "    elif l[m] < x :\n",
      "        a = m+1\n",
      "    else :\n",
      "        b = m-1\n",
      "\n",
      "print ( position )"
     ],
     "language": "python",
     "metadata": {},
     "outputs": [
      {
       "output_type": "stream",
       "stream": "stdout",
       "text": [
        "None\n"
       ]
      }
     ],
     "prompt_number": 5
    },
    {
     "cell_type": "markdown",
     "metadata": {},
     "source": [
      "Le programme affiche ``None`` qui \u00e9tait la valeur par d\u00e9faut de la variable position. La boucle n'a pas chang\u00e9 le contenu de la variable. Donc, lorsque ``position==-1``, cela veut dire que le r\u00e9sultat n'a pas \u00e9t\u00e9 trouv\u00e9.\n",
      "\n",
      "**Co\u00fbt**\n",
      "\n",
      "Comme \u00e0 chaque it\u00e9ration, on divise la taille du probl\u00e8me par deux, on est s\u00fbr que l'algorithme a trouv\u00e9 la r\u00e9ponse lorsque $\\frac{n}{2^k} < 1$ o\u00f9 $n$ est le nombre d'\u00e9l\u00e9ments du tableau et $k$ le nombre d'it\u00e9rations. Par cons\u00e9quent, $k \\sim \\ln_2 n$. On note cela $O(\\ln_2 n)$. Le programme suivant v\u00e9rifie cela :"
     ]
    },
    {
     "cell_type": "code",
     "collapsed": false,
     "input": [
      "import random, math\n",
      "l = list(range(0,1000000))\n",
      "\n",
      "for k in range(0,10):\n",
      "    x = random.randint(0,l[-1])\n",
      "    \n",
      "    iter = 0\n",
      "    a = 0\n",
      "    b = len(l)-1\n",
      "    while a <= b :\n",
      "        iter += 1\n",
      "        m = (a+b)//2\n",
      "        if l[m] == x : \n",
      "            position = m\n",
      "            break      \n",
      "        elif l[m] < x :\n",
      "            a = m+1\n",
      "        else :\n",
      "            b = m-1\n",
      "            \n",
      "    print (\"k=\",k, \"x=\", x, \"it\u00e9ration=\", iter, \" log2(len(l))=\", math.log(len(l))/math.log(2))"
     ],
     "language": "python",
     "metadata": {},
     "outputs": [
      {
       "output_type": "stream",
       "stream": "stdout",
       "text": [
        "k= 0 x= 298775 it\u00e9ration= 20  log2(len(l))= 19.931568569324174\n",
        "k= 1 x= 941582 it\u00e9ration= 19  log2(len(l))= 19.931568569324174\n",
        "k= 2 x= 74686 it\u00e9ration= 20  log2(len(l))= 19.931568569324174\n",
        "k= 3 x= 274574 it\u00e9ration= 20  log2(len(l))= 19.931568569324174\n",
        "k= 4 x= 573574 it\u00e9ration= 20  log2(len(l))= 19.931568569324174\n",
        "k= 5 x= 351579 it\u00e9ration= 18  log2(len(l))= 19.931568569324174\n",
        "k= 6 x= 414944 it\u00e9ration= 20  log2(len(l))= 19.931568569324174\n",
        "k= 7 x= 556908 it\u00e9ration= 20  log2(len(l))= 19.931568569324174\n",
        "k= 8 x= 894863 it\u00e9ration= 19  log2(len(l))= 19.931568569324174\n",
        "k= 9 x= 651824 it\u00e9ration= 20  log2(len(l))= 19.931568569324174\n"
       ]
      }
     ],
     "prompt_number": 13
    },
    {
     "cell_type": "code",
     "collapsed": false,
     "input": [],
     "language": "python",
     "metadata": {},
     "outputs": []
    }
   ],
   "metadata": {}
  }
 ]
}