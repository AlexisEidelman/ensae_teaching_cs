{
 "metadata": {
  "name": "",
  "signature": "sha256:c2566dee88d64ae81917f100172c7a78df8c412e632258cb17f23cd9e9c92814"
 },
 "nbformat": 3,
 "nbformat_minor": 0,
 "worksheets": [
  {
   "cells": [
    {
     "cell_type": "heading",
     "level": 1,
     "metadata": {},
     "source": [
      "Bayesian models with Python"
     ]
    },
    {
     "cell_type": "markdown",
     "metadata": {},
     "source": [
      "Plan\n",
      "\n",
      "* [bayespy](#bayespy)\n",
      "* [scikit-learn](#scikit)\n",
      "\n",
      "You can read [Probabilistic Programming and Bayesian Methods for Hackers](http://nbviewer.ipython.org/github/CamDavidsonPilon/Probabilistic-Programming-and-Bayesian-Methods-for-Hackers/blob/master/Prologue/Prologue.ipynb). Results might be different between examples. The example used is the same but the default parameters the optimisation uses are different."
     ]
    },
    {
     "cell_type": "markdown",
     "metadata": {},
     "source": [
      "We try different python model to deal with a Bayesian problem: a Gaussian Mixture. We will use the following example."
     ]
    },
    {
     "cell_type": "code",
     "collapsed": false,
     "input": [
      "import matplotlib.pyplot as plt\n",
      "plt.style.use('ggplot')"
     ],
     "language": "python",
     "metadata": {},
     "outputs": [],
     "prompt_number": 64
    },
    {
     "cell_type": "code",
     "collapsed": false,
     "input": [
      "import numpy as np\n",
      "y0 = np.random.multivariate_normal([0, 0], [[2, 0], [0, 0.1]], size=50)\n",
      "y1 = np.random.multivariate_normal([0, 0], [[0.1, 0], [0, 2]], size=50)\n",
      "y2 = np.random.multivariate_normal([5, 2], [[2, -1.5], [-1.5, 2]], size=50)\n",
      "y3 = np.random.multivariate_normal([-2, -2], [[0.5, 0], [0, 0.5]], size=50)\n",
      "y = np.vstack([y0, y1, y2, y3])\n",
      "X=y\n",
      "\n",
      "fig = plt.figure(figsize=(10,7))\n",
      "ax = fig.add_subplot(\"111\")\n",
      "ax.plot(y[:,0], y[:,1], \"o\")"
     ],
     "language": "python",
     "metadata": {},
     "outputs": [
      {
       "metadata": {},
       "output_type": "pyout",
       "prompt_number": 65,
       "text": [
        "[<matplotlib.lines.Line2D at 0x57db5c0>]"
       ]
      },
      {
       "metadata": {},
       "output_type": "display_data",
       "png": "[encoded data removed]",
       "text": [
        "<matplotlib.figure.Figure at 0x82ea908>"
       ]
      }
     ],
     "prompt_number": 65
    },
    {
     "cell_type": "markdown",
     "metadata": {},
     "source": [
      "<h3 id=\"bayespy\">bayespy</h3>"
     ]
    },
    {
     "cell_type": "markdown",
     "metadata": {},
     "source": [
      "The module [bayespy](http://www.bayespy.org/) allows to build and estimate simple bayesian models. I just replicate the example on the [Gaussian mixture model](http://www.bayespy.org/examples/gmm.html)."
     ]
    },
    {
     "cell_type": "markdown",
     "metadata": {},
     "source": [
      "We define the model:"
     ]
    },
    {
     "cell_type": "code",
     "collapsed": false,
     "input": [
      "N = 200  # number of data vectors\n",
      "D = 2    # dimension\n",
      "K = 10   # maximum number of clusters"
     ],
     "language": "python",
     "metadata": {},
     "outputs": [],
     "prompt_number": 18
    },
    {
     "cell_type": "code",
     "collapsed": false,
     "input": [
      "from bayespy.nodes import Dirichlet, Categorical, Gaussian, Wishart, Mixture\n",
      "alpha = Dirichlet(1e-5*np.ones(K), name='alpha')\n",
      "Z = Categorical(alpha,plates=(N,), name='z')\n",
      "mu = Gaussian(np.zeros(D), 1e-5*np.identity(D), plates=(K,), name='mu')\n",
      "sigma = Wishart(D, 1e-5*np.identity(D), plates=(K,), name='Lambda')\n",
      "Y = Mixture(Z, Gaussian, mu, sigma, name='Y')"
     ],
     "language": "python",
     "metadata": {},
     "outputs": [],
     "prompt_number": 19
    },
    {
     "cell_type": "code",
     "collapsed": false,
     "input": [
      "Z.initialize_from_random()"
     ],
     "language": "python",
     "metadata": {},
     "outputs": [],
     "prompt_number": 20
    },
    {
     "cell_type": "code",
     "collapsed": false,
     "input": [
      "from bayespy.inference import VB\n",
      "Q = VB(Y, mu, sigma, Z, alpha)"
     ],
     "language": "python",
     "metadata": {},
     "outputs": [],
     "prompt_number": 21
    },
    {
     "cell_type": "code",
     "collapsed": false,
     "input": [
      "Y.observe(y)"
     ],
     "language": "python",
     "metadata": {},
     "outputs": [],
     "prompt_number": 22
    },
    {
     "cell_type": "code",
     "collapsed": false,
     "input": [
      "Q.update(repeat=1000)"
     ],
     "language": "python",
     "metadata": {},
     "outputs": [
      {
       "output_type": "stream",
       "stream": "stdout",
       "text": [
        "Iteration 1: loglike=-1.479756e+03 (0.038 seconds)\n",
        "Iteration 2: loglike=-1.339068e+03 (0.030 seconds)\n",
        "Iteration 3: loglike=-1.326474e+03 (0.037 seconds)"
       ]
      },
      {
       "output_type": "stream",
       "stream": "stdout",
       "text": [
        "\n",
        "Iteration 4: loglike=-1.319152e+03 (0.016 seconds)\n",
        "Iteration 5: loglike=-1.313744e+03 (0.013 seconds)\n",
        "Iteration 6: loglike=-1.308424e+03 (0.017 seconds)"
       ]
      },
      {
       "output_type": "stream",
       "stream": "stdout",
       "text": [
        "\n",
        "Iteration 7: loglike=-1.302355e+03 (0.014 seconds)\n",
        "Iteration 8: loglike=-1.294311e+03 (0.013 seconds)\n",
        "Iteration 9: loglike=-1.282500e+03 (0.010 seconds)\n",
        "Iteration 10: loglike=-1.267633e+03 (0.009 seconds)"
       ]
      },
      {
       "output_type": "stream",
       "stream": "stdout",
       "text": [
        "\n",
        "Iteration 11: loglike=-1.257069e+03 (0.009 seconds)\n",
        "Iteration 12: loglike=-1.248283e+03 (0.009 seconds)\n",
        "Iteration 13: loglike=-1.236031e+03 (0.011 seconds)\n",
        "Iteration 14: loglike=-1.205521e+03 (0.014 seconds)"
       ]
      },
      {
       "output_type": "stream",
       "stream": "stdout",
       "text": [
        "\n",
        "Iteration 15: loglike=-1.133228e+03 (0.012 seconds)\n",
        "Iteration 16: loglike=-1.094838e+03 (0.010 seconds)\n",
        "Iteration 17: loglike=-1.082690e+03 (0.009 seconds)\n",
        "Iteration 18: loglike=-1.060717e+03 (0.009 seconds)\n",
        "Iteration 19: loglike=-1.060258e+03 (0.008 seconds)"
       ]
      },
      {
       "output_type": "stream",
       "stream": "stdout",
       "text": [
        "\n",
        "Iteration 20: loglike=-1.059857e+03 (0.010 seconds)\n",
        "Iteration 21: loglike=-1.059422e+03 (0.009 seconds)\n",
        "Iteration 22: loglike=-1.058892e+03 (0.010 seconds)\n",
        "Iteration 23: loglike=-1.058209e+03 (0.009 seconds)\n",
        "Iteration 24: loglike=-1.057279e+03 (0.010 seconds)"
       ]
      },
      {
       "output_type": "stream",
       "stream": "stdout",
       "text": [
        "\n",
        "Iteration 25: loglike=-1.055911e+03 (0.013 seconds)\n",
        "Iteration 26: loglike=-1.053719e+03 (0.012 seconds)\n",
        "Iteration 27: loglike=-1.050063e+03 (0.014 seconds)\n",
        "Iteration 28: loglike=-1.044716e+03 (0.010 seconds)"
       ]
      },
      {
       "output_type": "stream",
       "stream": "stdout",
       "text": [
        "\n",
        "Iteration 29: loglike=-1.039273e+03 (0.010 seconds)\n",
        "Iteration 30: loglike=-1.034565e+03 (0.009 seconds)\n",
        "Iteration 31: loglike=-1.029544e+03 (0.012 seconds)\n",
        "Iteration 32: loglike=-1.024279e+03 (0.009 seconds)\n",
        "Iteration 33: loglike=-1.018427e+03 (0.009 seconds)"
       ]
      },
      {
       "output_type": "stream",
       "stream": "stdout",
       "text": [
        "\n",
        "Iteration 34: loglike=-1.011245e+03 (0.015 seconds)\n",
        "Iteration 35: loglike=-1.003482e+03 (0.014 seconds)\n",
        "Iteration 36: loglike=-9.975751e+02 (0.012 seconds)"
       ]
      },
      {
       "output_type": "stream",
       "stream": "stdout",
       "text": [
        "\n",
        "Iteration 37: loglike=-9.936431e+02 (0.015 seconds)\n",
        "Iteration 38: loglike=-9.906762e+02 (0.009 seconds)\n",
        "Iteration 39: loglike=-9.882206e+02 (0.017 seconds)\n",
        "Iteration 40: loglike=-9.863509e+02 (0.014 seconds)"
       ]
      },
      {
       "output_type": "stream",
       "stream": "stdout",
       "text": [
        "\n",
        "Iteration 41: loglike=-9.853158e+02 (0.010 seconds)\n",
        "Iteration 42: loglike=-9.849566e+02 (0.013 seconds)\n",
        "Iteration 43: loglike=-9.848367e+02 (0.012 seconds)\n",
        "Iteration 44: loglike=-9.847717e+02 (0.010 seconds)"
       ]
      },
      {
       "output_type": "stream",
       "stream": "stdout",
       "text": [
        "\n",
        "Iteration 45: loglike=-9.847272e+02 (0.015 seconds)\n",
        "Iteration 46: loglike=-9.846954e+02 (0.014 seconds)\n",
        "Iteration 47: loglike=-9.846722e+02 (0.016 seconds)"
       ]
      },
      {
       "output_type": "stream",
       "stream": "stdout",
       "text": [
        "\n",
        "Iteration 48: loglike=-9.846553e+02 (0.018 seconds)\n",
        "Iteration 49: loglike=-9.846428e+02 (0.013 seconds)\n",
        "Iteration 50: loglike=-9.846336e+02 (0.012 seconds)"
       ]
      },
      {
       "output_type": "stream",
       "stream": "stdout",
       "text": [
        "\n",
        "Converged at iteration 50.\n"
       ]
      }
     ],
     "prompt_number": 23
    },
    {
     "cell_type": "code",
     "collapsed": false,
     "input": [
      "import bayespy.plot as bpplt\n",
      "fig = plt.figure(figsize=(10,7))\n",
      "ax = fig.add_subplot(\"111\")\n",
      "bpplt.gaussian_mixture_2d(Y, alpha=alpha, scale=2, color=\"black\", fill=True, axes=ax)"
     ],
     "language": "python",
     "metadata": {},
     "outputs": [
      {
       "metadata": {},
       "output_type": "display_data",
       "png": "[encoded data removed]",
       "text": [
        "<matplotlib.figure.Figure at 0x82fda90>"
       ]
      }
     ],
     "prompt_number": 43
    },
    {
     "cell_type": "markdown",
     "metadata": {},
     "source": [
      "We get the result of the optimization:"
     ]
    },
    {
     "cell_type": "code",
     "collapsed": false,
     "input": [
      "from bayespy.inference.vmp.nodes.gaussian import GaussianWishartMoments\n",
      "mu_Lambda = Y.parents[1]._convert(GaussianWishartMoments)\n",
      "(mu, _, sigma, _) = mu_Lambda.get_moments()\n",
      "(mu, _, sigma, _)\n",
      "mu, sigma"
     ],
     "language": "python",
     "metadata": {},
     "outputs": [
      {
       "metadata": {},
       "output_type": "pyout",
       "prompt_number": 53,
       "text": [
        "(array([[  1.74456162e+01,   1.54583465e+01],\n",
        "        [  3.70548311e+00,   6.80841654e+00],\n",
        "        [  4.18124688e-01,   1.22340398e-01],\n",
        "        [  0.00000000e+00,   0.00000000e+00],\n",
        "        [  0.00000000e+00,   0.00000000e+00],\n",
        "        [ -2.94710841e+00,  -4.93530200e+00],\n",
        "        [ -9.60932424e-02,  -6.12543517e-01],\n",
        "        [  0.00000000e+00,   0.00000000e+00],\n",
        "        [ -5.35108030e+05,   5.45189236e+05],\n",
        "        [  0.00000000e+00,   0.00000000e+00]]),\n",
        " array([[[  2.67109848e+00,   1.77570618e+00],\n",
        "         [  1.77570618e+00,   4.17749622e+00]],\n",
        " \n",
        "        [[  7.41445814e-01,   2.00885752e-01],\n",
        "         [  2.00885752e-01,   1.83697058e+00]],\n",
        " \n",
        "        [[  1.36481155e+01,   4.22587958e-01],\n",
        "         [  4.22587958e-01,   5.65806369e-01]],\n",
        " \n",
        "        [[  2.00000000e+05,   0.00000000e+00],\n",
        "         [  0.00000000e+00,   2.00000000e+05]],\n",
        " \n",
        "        [[  2.00000000e+05,   0.00000000e+00],\n",
        "         [  0.00000000e+00,   2.00000000e+05]],\n",
        " \n",
        "        [[  1.51860575e+00,   1.30334649e-01],\n",
        "         [  1.30334649e-01,   2.20014059e+00]],\n",
        " \n",
        "        [[  4.70770381e-01,  -8.88087974e-02],\n",
        "         [ -8.88087974e-02,   1.00674269e+01]],\n",
        " \n",
        "        [[  2.00000000e+05,   0.00000000e+00],\n",
        "         [  0.00000000e+00,   2.00000000e+05]],\n",
        " \n",
        "        [[  1.47155305e+05,  -1.49921606e+05],\n",
        "         [ -1.49921606e+05,   1.52743773e+05]],\n",
        " \n",
        "        [[  2.00000000e+05,   0.00000000e+00],\n",
        "         [  0.00000000e+00,   2.00000000e+05]]]))"
       ]
      }
     ],
     "prompt_number": 53
    },
    {
     "cell_type": "code",
     "collapsed": false,
     "input": [
      "import numpy as np\n",
      "mu2 = np.linalg.solve(Lambda, mu)\n",
      "mu2"
     ],
     "language": "python",
     "metadata": {},
     "outputs": [
      {
       "metadata": {},
       "output_type": "pyout",
       "prompt_number": 62,
       "text": [
        "array([[ 5.67487906,  1.28819474],\n",
        "       [ 4.11539536,  3.25628093],\n",
        "       [ 0.0245079 ,  0.19791869],\n",
        "       [ 0.        ,  0.        ],\n",
        "       [ 0.        ,  0.        ],\n",
        "       [-1.75707959, -2.13908769],\n",
        "       [-0.21595649, -0.06274914],\n",
        "       [ 0.        ,  0.        ],\n",
        "       [ 2.15697352,  5.68642605],\n",
        "       [ 0.        ,  0.        ]])"
       ]
      }
     ],
     "prompt_number": 62
    },
    {
     "cell_type": "markdown",
     "metadata": {},
     "source": [
      "The way you can build your model is quite nice but it still needs some development. scikit-learn proposes a better interface."
     ]
    },
    {
     "cell_type": "markdown",
     "metadata": {},
     "source": [
      "<h3 id=\"scikit\">scikit-learn</h3>"
     ]
    },
    {
     "cell_type": "markdown",
     "metadata": {},
     "source": [
      "We try to solve the same problem with another module: [scikit-learn](http://scikit-learn.org/stable/auto_examples/mixture/plot_gmm.html#example-mixture-plot-gmm-py)."
     ]
    },
    {
     "cell_type": "code",
     "collapsed": false,
     "input": [
      "from sklearn import mixture\n",
      "gmm = mixture.GMM(n_components=10, covariance_type='full')\n",
      "gmm.fit(X)"
     ],
     "language": "python",
     "metadata": {},
     "outputs": [
      {
       "metadata": {},
       "output_type": "pyout",
       "prompt_number": 66,
       "text": [
        "GMM(covariance_type='full', init_params='wmc', min_covar=0.001,\n",
        "  n_components=10, n_init=1, n_iter=100, params='wmc', random_state=None,\n",
        "  thresh=0.01)"
       ]
      }
     ],
     "prompt_number": 66
    },
    {
     "cell_type": "code",
     "collapsed": false,
     "input": [
      "dpgmm = mixture.DPGMM(n_components=10, covariance_type='full')\n",
      "dpgmm.fit(X)"
     ],
     "language": "python",
     "metadata": {},
     "outputs": [
      {
       "metadata": {},
       "output_type": "pyout",
       "prompt_number": 67,
       "text": [
        "DPGMM(alpha=1.0, covariance_type='full', init_params='wmc', min_covar=None,\n",
        "   n_components=10, n_iter=10, params='wmc',\n",
        "   random_state=<mtrand.RandomState object at 0x0000000005B027B8>,\n",
        "   thresh=0.01, verbose=False)"
       ]
      }
     ],
     "prompt_number": 67
    },
    {
     "cell_type": "code",
     "collapsed": false,
     "input": [
      "import itertools\n",
      "color_iter = itertools.cycle(['r', 'g', 'b', 'c', 'm'])\n",
      "f, axarr = plt.subplots(1, 2, figsize=(14,7))\n",
      "\n",
      "for i, (clf, title) in enumerate([(gmm, 'GMM'),\n",
      "                                  (dpgmm, 'Dirichlet Process GMM')]):\n",
      "    splot = axarr[i]\n",
      "    Y_ = clf.predict(X)\n",
      "    for i, (mean, covar, color) in enumerate(zip(\n",
      "            clf.means_, clf._get_covars(), color_iter)):\n",
      "        v, w = linalg.eigh(covar)\n",
      "        u = w[0] / linalg.norm(w[0])\n",
      "        # as the DP will not use every component it has access to\n",
      "        # unless it needs it, we shouldn't plot the redundant\n",
      "        # components.\n",
      "        if not np.any(Y_ == i):\n",
      "            continue\n",
      "        splot.scatter(X[Y_ == i, 0], X[Y_ == i, 1], 0.8, color=color)\n",
      "\n",
      "        # Plot an ellipse to show the Gaussian component\n",
      "        angle = np.arctan(u[1] / u[0])\n",
      "        angle = 180 * angle / np.pi  # convert to degrees\n",
      "        ell = mpl.patches.Ellipse(mean, v[0], v[1], 180 + angle, color=color)\n",
      "        ell.set_clip_box(splot.bbox)\n",
      "        ell.set_alpha(0.5)\n",
      "        splot.add_artist(ell)\n",
      "        splot.set_title(title)"
     ],
     "language": "python",
     "metadata": {},
     "outputs": [
      {
       "metadata": {},
       "output_type": "display_data",
       "png": "[encoded data removed]",
       "text": [
        "<matplotlib.figure.Figure at 0x83b1ef0>"
       ]
      }
     ],
     "prompt_number": 89
    },
    {
     "cell_type": "code",
     "collapsed": false,
     "input": [],
     "language": "python",
     "metadata": {},
     "outputs": []
    }
   ],
   "metadata": {}
  }
 ]
}