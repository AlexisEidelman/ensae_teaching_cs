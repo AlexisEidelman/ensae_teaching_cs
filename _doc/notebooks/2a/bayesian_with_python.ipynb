{
 "metadata": {
  "name": "",
  "signature": "sha256:af584a30ea09dcab8bb9cd33ac01dfeab63c1a50d7cadca1f66f0e55599ba250"
 },
 "nbformat": 3,
 "nbformat_minor": 0,
 "worksheets": [
  {
   "cells": [
    {
     "cell_type": "heading",
     "level": 1,
     "metadata": {},
     "source": [
      "Bayesian models with Python"
     ]
    },
    {
     "cell_type": "code",
     "collapsed": false,
     "input": [
      "import matplotlib.pyplot as plt\n",
      "plt.style.use('ggplot')"
     ],
     "language": "python",
     "metadata": {},
     "outputs": [],
     "prompt_number": 30
    },
    {
     "cell_type": "markdown",
     "metadata": {},
     "source": [
      "The module [bayespy](http://www.bayespy.org/) allows to build and estimate simple bayesian models. I just replicate the example on the [Gaussian mixture model](http://www.bayespy.org/examples/gmm.html)."
     ]
    },
    {
     "cell_type": "code",
     "collapsed": false,
     "input": [
      "import numpy as np\n",
      "y0 = np.random.multivariate_normal([0, 0], [[2, 0], [0, 0.1]], size=50)\n",
      "y1 = np.random.multivariate_normal([0, 0], [[0.1, 0], [0, 2]], size=50)\n",
      "y2 = np.random.multivariate_normal([5, 2], [[2, -1.5], [-1.5, 2]], size=50)\n",
      "y3 = np.random.multivariate_normal([-2, -2], [[0.5, 0], [0, 0.5]], size=50)\n",
      "y = np.vstack([y0, y1, y2, y3])\n",
      "\n",
      "fig = plt.figure(figsize=(10,7))\n",
      "ax = fig.add_subplot(\"111\")\n",
      "ax.plot(y[:,0], y[:,1], \"o\")"
     ],
     "language": "python",
     "metadata": {},
     "outputs": [
      {
       "metadata": {},
       "output_type": "pyout",
       "prompt_number": 55,
       "text": [
        "[<matplotlib.lines.Line2D at 0x9c199b0>]"
       ]
      },
      {
       "metadata": {},
       "output_type": "display_data",
       "png": "[encoded data removed]",
       "text": [
        "<matplotlib.figure.Figure at 0x9bb85c0>"
       ]
      }
     ],
     "prompt_number": 55
    },
    {
     "cell_type": "markdown",
     "metadata": {},
     "source": [
      "We define the model:"
     ]
    },
    {
     "cell_type": "code",
     "collapsed": false,
     "input": [
      "N = 200  # number of data vectors\n",
      "D = 2    # dimension\n",
      "K = 10   # maximum number of clusters"
     ],
     "language": "python",
     "metadata": {},
     "outputs": [],
     "prompt_number": 47
    },
    {
     "cell_type": "code",
     "collapsed": false,
     "input": [
      "from bayespy.nodes import Dirichlet, Categorical, Gaussian, Wishart, Mixture\n",
      "alpha = Dirichlet(1e-5*np.ones(K), name='alpha')\n",
      "Z = Categorical(alpha,plates=(N,), name='z')\n",
      "mu = Gaussian(np.zeros(D), 1e-5*np.identity(D), plates=(K,), name='mu')\n",
      "Lambda = Wishart(D, 1e-5*np.identity(D), plates=(K,), name='Lambda')\n",
      "Y = Mixture(Z, Gaussian, mu, Lambda, name='Y')"
     ],
     "language": "python",
     "metadata": {},
     "outputs": [],
     "prompt_number": 48
    },
    {
     "cell_type": "code",
     "collapsed": false,
     "input": [
      "Z.initialize_from_random()"
     ],
     "language": "python",
     "metadata": {},
     "outputs": [],
     "prompt_number": 49
    },
    {
     "cell_type": "code",
     "collapsed": false,
     "input": [
      "from bayespy.inference import VB\n",
      "Q = VB(Y, mu, Lambda, Z, alpha)"
     ],
     "language": "python",
     "metadata": {},
     "outputs": [],
     "prompt_number": 50
    },
    {
     "cell_type": "code",
     "collapsed": false,
     "input": [
      "Y.observe(y)"
     ],
     "language": "python",
     "metadata": {},
     "outputs": [],
     "prompt_number": 51
    },
    {
     "cell_type": "code",
     "collapsed": false,
     "input": [
      "Q.update(repeat=1000)"
     ],
     "language": "python",
     "metadata": {},
     "outputs": [
      {
       "output_type": "stream",
       "stream": "stdout",
       "text": [
        "Iteration 1: loglike=-1.603017e+03 (0.043 seconds)\n",
        "Iteration 2: loglike=-1.437040e+03 (0.024 seconds)\n",
        "Iteration 3: loglike=-1.385635e+03 (0.022 seconds)"
       ]
      },
      {
       "output_type": "stream",
       "stream": "stdout",
       "text": [
        "\n",
        "Iteration 4: loglike=-1.349678e+03 (0.020 seconds)\n",
        "Iteration 5: loglike=-1.320964e+03 (0.016 seconds)\n",
        "Iteration 6: loglike=-1.289154e+03 (0.012 seconds)"
       ]
      },
      {
       "output_type": "stream",
       "stream": "stdout",
       "text": [
        "\n",
        "Iteration 7: loglike=-1.261769e+03 (0.010 seconds)\n",
        "Iteration 8: loglike=-1.234543e+03 (0.010 seconds)\n",
        "Iteration 9: loglike=-1.196101e+03 (0.009 seconds)\n",
        "Iteration 10: loglike=-1.122012e+03 (0.010 seconds)\n",
        "Iteration 11: loglike=-1.087383e+03 (0.009 seconds)"
       ]
      },
      {
       "output_type": "stream",
       "stream": "stdout",
       "text": [
        "\n",
        "Iteration 12: loglike=-1.078792e+03 (0.017 seconds)\n",
        "Iteration 13: loglike=-1.061736e+03 (0.013 seconds)\n",
        "Iteration 14: loglike=-1.029961e+03 (0.009 seconds)\n",
        "Iteration 15: loglike=-1.026630e+03 (0.009 seconds)"
       ]
      },
      {
       "output_type": "stream",
       "stream": "stdout",
       "text": [
        "\n",
        "Iteration 16: loglike=-1.024242e+03 (0.012 seconds)\n",
        "Iteration 17: loglike=-1.022150e+03 (0.009 seconds)\n",
        "Iteration 18: loglike=-1.019879e+03 (0.010 seconds)\n",
        "Iteration 19: loglike=-1.016736e+03 (0.009 seconds)\n",
        "Iteration 20: loglike=-1.009650e+03 (0.009 seconds)"
       ]
      },
      {
       "output_type": "stream",
       "stream": "stdout",
       "text": [
        "\n",
        "Iteration 21: loglike=-9.974308e+02 (0.011 seconds)\n",
        "Iteration 22: loglike=-9.721313e+02 (0.009 seconds)\n",
        "Iteration 23: loglike=-9.719280e+02 (0.010 seconds)\n",
        "Iteration 24: loglike=-9.717031e+02 (0.008 seconds)\n",
        "Iteration 25: loglike=-9.714558e+02 (0.009 seconds)"
       ]
      },
      {
       "output_type": "stream",
       "stream": "stdout",
       "text": [
        "\n",
        "Iteration 26: loglike=-9.711976e+02 (0.009 seconds)\n",
        "Iteration 27: loglike=-9.709500e+02 (0.008 seconds)\n",
        "Iteration 28: loglike=-9.707357e+02 (0.010 seconds)\n",
        "Iteration 29: loglike=-9.705679e+02 (0.008 seconds)\n",
        "Iteration 30: loglike=-9.704465e+02 (0.009 seconds)"
       ]
      },
      {
       "output_type": "stream",
       "stream": "stdout",
       "text": [
        "\n",
        "Iteration 31: loglike=-9.703631e+02 (0.010 seconds)\n",
        "Iteration 32: loglike=-9.703071e+02 (0.009 seconds)\n",
        "Iteration 33: loglike=-9.702696e+02 (0.010 seconds)\n",
        "Iteration 34: loglike=-9.702438e+02 (0.008 seconds)\n",
        "Iteration 35: loglike=-9.702254e+02 (0.008 seconds)"
       ]
      },
      {
       "output_type": "stream",
       "stream": "stdout",
       "text": [
        "\n",
        "Iteration 36: loglike=-9.702114e+02 (0.012 seconds)\n",
        "Iteration 37: loglike=-9.702002e+02 (0.009 seconds)\n",
        "Iteration 38: loglike=-9.701906e+02 (0.010 seconds)\n",
        "Converged at iteration 38.\n"
       ]
      }
     ],
     "prompt_number": 52
    },
    {
     "cell_type": "code",
     "collapsed": false,
     "input": [
      "import bayespy.plot as bpplt\n",
      "bpplt.gaussian_mixture_2d(Y, alpha=alpha, scale=2)"
     ],
     "language": "python",
     "metadata": {},
     "outputs": [
      {
       "metadata": {},
       "output_type": "display_data",
       "png": "[encoded data removed]",
       "text": [
        "<matplotlib.figure.Figure at 0x9c4b518>"
       ]
      }
     ],
     "prompt_number": 53
    },
    {
     "cell_type": "code",
     "collapsed": false,
     "input": [],
     "language": "python",
     "metadata": {},
     "outputs": []
    }
   ],
   "metadata": {}
  }
 ]
}