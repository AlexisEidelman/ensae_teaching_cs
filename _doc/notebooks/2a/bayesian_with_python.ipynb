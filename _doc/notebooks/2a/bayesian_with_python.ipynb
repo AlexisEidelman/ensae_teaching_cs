{
 "metadata": {
  "name": "",
  "signature": "sha256:c342501772d45d4c8bf21c2170476519725b7bb2142c388e6f4d4f2e8cdf1a1f"
 },
 "nbformat": 3,
 "nbformat_minor": 0,
 "worksheets": [
  {
   "cells": [
    {
     "cell_type": "heading",
     "level": 1,
     "metadata": {},
     "source": [
      "Bayesian models with Python"
     ]
    },
    {
     "cell_type": "markdown",
     "metadata": {},
     "source": [
      "Plan\n",
      "\n",
      "* [bayespy](#bayespy)\n",
      "* [scikit-learn](#scikit)\n",
      "\n",
      "You can read [Probabilistic Programming and Bayesian Methods for Hackers](http://nbviewer.ipython.org/github/CamDavidsonPilon/Probabilistic-Programming-and-Bayesian-Methods-for-Hackers/blob/master/Prologue/Prologue.ipynb). Results might be different between examples. The example used is the same but the default parameters the optimisation uses are different."
     ]
    },
    {
     "cell_type": "markdown",
     "metadata": {},
     "source": [
      "We try different python model to deal with a Bayesian problem: a Gaussian Mixture. We will use the following example."
     ]
    },
    {
     "cell_type": "code",
     "collapsed": false,
     "input": [
      "import matplotlib.pyplot as plt\n",
      "plt.style.use('ggplot')"
     ],
     "language": "python",
     "metadata": {},
     "outputs": [],
     "prompt_number": 1
    },
    {
     "cell_type": "code",
     "collapsed": false,
     "input": [
      "import numpy as np\n",
      "y0 = np.random.multivariate_normal([0, 0], [[2, 0], [0, 0.1]], size=50)\n",
      "y1 = np.random.multivariate_normal([0, 0], [[0.1, 0], [0, 2]], size=50)\n",
      "y2 = np.random.multivariate_normal([5, 2], [[2, -1.5], [-1.5, 2]], size=50)\n",
      "y3 = np.random.multivariate_normal([-2, -2], [[0.5, 0], [0, 0.5]], size=50)\n",
      "y = np.vstack([y0, y1, y2, y3])\n",
      "X=y\n",
      "\n",
      "fig = plt.figure(figsize=(10,7))\n",
      "ax = fig.add_subplot(\"111\")\n",
      "ax.plot(y[:,0], y[:,1], \"o\")"
     ],
     "language": "python",
     "metadata": {},
     "outputs": [
      {
       "metadata": {},
       "output_type": "pyout",
       "prompt_number": 2,
       "text": [
        "[<matplotlib.lines.Line2D at 0x768fb70>]"
       ]
      },
      {
       "metadata": {},
       "output_type": "display_data",
       "png": "[encoded data removed]",
       "text": [
        "<matplotlib.figure.Figure at 0x768f208>"
       ]
      }
     ],
     "prompt_number": 2
    },
    {
     "cell_type": "markdown",
     "metadata": {},
     "source": [
      "<h3 id=\"bayespy\">bayespy</h3>"
     ]
    },
    {
     "cell_type": "markdown",
     "metadata": {},
     "source": [
      "The module [bayespy](http://www.bayespy.org/) allows to build and estimate simple bayesian models. I just replicate the example on the [Gaussian mixture model](http://www.bayespy.org/examples/gmm.html)."
     ]
    },
    {
     "cell_type": "markdown",
     "metadata": {},
     "source": [
      "We define the model:"
     ]
    },
    {
     "cell_type": "code",
     "collapsed": false,
     "input": [
      "N = 200  # number of data vectors\n",
      "D = 2    # dimension\n",
      "K = 10   # maximum number of clusters"
     ],
     "language": "python",
     "metadata": {},
     "outputs": [],
     "prompt_number": 3
    },
    {
     "cell_type": "code",
     "collapsed": false,
     "input": [
      "from bayespy.nodes import Dirichlet, Categorical, Gaussian, Wishart, Mixture\n",
      "alpha = Dirichlet(1e-5*np.ones(K), name='alpha')\n",
      "Z = Categorical(alpha,plates=(N,), name='z')\n",
      "mu = Gaussian(np.zeros(D), 1e-5*np.identity(D), plates=(K,), name='mu')\n",
      "sigma = Wishart(D, 1e-5*np.identity(D), plates=(K,), name='Lambda')\n",
      "Y = Mixture(Z, Gaussian, mu, sigma, name='Y')"
     ],
     "language": "python",
     "metadata": {},
     "outputs": [],
     "prompt_number": 4
    },
    {
     "cell_type": "code",
     "collapsed": false,
     "input": [
      "Z.initialize_from_random()"
     ],
     "language": "python",
     "metadata": {},
     "outputs": [],
     "prompt_number": 5
    },
    {
     "cell_type": "code",
     "collapsed": false,
     "input": [
      "from bayespy.inference import VB\n",
      "Q = VB(Y, mu, sigma, Z, alpha)"
     ],
     "language": "python",
     "metadata": {},
     "outputs": [],
     "prompt_number": 6
    },
    {
     "cell_type": "code",
     "collapsed": false,
     "input": [
      "Y.observe(y)"
     ],
     "language": "python",
     "metadata": {},
     "outputs": [],
     "prompt_number": 7
    },
    {
     "cell_type": "code",
     "collapsed": false,
     "input": [
      "Q.update(repeat=1000)"
     ],
     "language": "python",
     "metadata": {},
     "outputs": [
      {
       "output_type": "stream",
       "stream": "stdout",
       "text": [
        "Iteration 1: loglike=-1.468700e+03 (0.010 seconds)\n",
        "Iteration 2: loglike=-1.331236e+03 (0.009 seconds)\n",
        "Iteration 3: loglike=-1.317301e+03 (0.010 seconds)\n",
        "Iteration 4: loglike=-1.306729e+03 (0.009 seconds)\n",
        "Iteration 5: loglike=-1.296240e+03 (0.009 seconds)\n",
        "Iteration 6: loglike=-1.282089e+03 (0.009 seconds)"
       ]
      },
      {
       "output_type": "stream",
       "stream": "stdout",
       "text": [
        "\n",
        "Iteration 7: loglike=-1.265504e+03 (0.010 seconds)\n",
        "Iteration 8: loglike=-1.253084e+03 (0.009 seconds)\n",
        "Iteration 9: loglike=-1.240992e+03 (0.012 seconds)\n",
        "Iteration 10: loglike=-1.222341e+03 (0.015 seconds)"
       ]
      },
      {
       "output_type": "stream",
       "stream": "stdout",
       "text": [
        "\n",
        "Iteration 11: loglike=-1.188502e+03 (0.010 seconds)\n",
        "Iteration 12: loglike=-1.126754e+03 (0.009 seconds)\n",
        "Iteration 13: loglike=-1.060361e+03 (0.014 seconds)\n",
        "Iteration 14: loglike=-1.032151e+03 (0.011 seconds)"
       ]
      },
      {
       "output_type": "stream",
       "stream": "stdout",
       "text": [
        "\n",
        "Iteration 15: loglike=-1.024546e+03 (0.011 seconds)\n",
        "Iteration 16: loglike=-1.011797e+03 (0.009 seconds)\n",
        "Iteration 17: loglike=-9.859264e+02 (0.011 seconds)\n",
        "Iteration 18: loglike=-9.853352e+02 (0.009 seconds)\n",
        "Iteration 19: loglike=-9.847300e+02 (0.008 seconds)"
       ]
      },
      {
       "output_type": "stream",
       "stream": "stdout",
       "text": [
        "\n",
        "Iteration 20: loglike=-9.841083e+02 (0.011 seconds)\n",
        "Iteration 21: loglike=-9.834683e+02 (0.009 seconds)\n",
        "Iteration 22: loglike=-9.827824e+02 (0.010 seconds)\n",
        "Iteration 23: loglike=-9.819916e+02 (0.010 seconds)\n",
        "Iteration 24: loglike=-9.810302e+02 (0.009 seconds)"
       ]
      },
      {
       "output_type": "stream",
       "stream": "stdout",
       "text": [
        "\n",
        "Iteration 25: loglike=-9.799361e+02 (0.012 seconds)\n",
        "Iteration 26: loglike=-9.790451e+02 (0.010 seconds)\n",
        "Iteration 27: loglike=-9.785064e+02 (0.014 seconds)\n",
        "Iteration 28: loglike=-9.780175e+02 (0.009 seconds)"
       ]
      },
      {
       "output_type": "stream",
       "stream": "stdout",
       "text": [
        "\n",
        "Iteration 29: loglike=-9.773807e+02 (0.011 seconds)\n",
        "Iteration 30: loglike=-9.764664e+02 (0.008 seconds)\n",
        "Iteration 31: loglike=-9.751372e+02 (0.010 seconds)\n",
        "Iteration 32: loglike=-9.733150e+02 (0.009 seconds)\n",
        "Iteration 33: loglike=-9.712365e+02 (0.008 seconds)"
       ]
      },
      {
       "output_type": "stream",
       "stream": "stdout",
       "text": [
        "\n",
        "Iteration 34: loglike=-9.695522e+02 (0.010 seconds)\n",
        "Iteration 35: loglike=-9.685991e+02 (0.014 seconds)\n",
        "Iteration 36: loglike=-9.681457e+02 (0.027 seconds)"
       ]
      },
      {
       "output_type": "stream",
       "stream": "stdout",
       "text": [
        "\n",
        "Iteration 37: loglike=-9.679305e+02 (0.010 seconds)\n",
        "Iteration 38: loglike=-9.678128e+02 (0.011 seconds)\n",
        "Iteration 39: loglike=-9.677281e+02 (0.018 seconds)\n",
        "Iteration 40: loglike=-9.676506e+02 (0.009 seconds)"
       ]
      },
      {
       "output_type": "stream",
       "stream": "stdout",
       "text": [
        "\n",
        "Iteration 41: loglike=-9.675707e+02 (0.009 seconds)\n",
        "Iteration 42: loglike=-9.674844e+02 (0.016 seconds)\n",
        "Iteration 43: loglike=-9.673895e+02 (0.012 seconds)\n",
        "Iteration 44: loglike=-9.672840e+02 (0.011 seconds)"
       ]
      },
      {
       "output_type": "stream",
       "stream": "stdout",
       "text": [
        "\n",
        "Iteration 45: loglike=-9.671659e+02 (0.015 seconds)\n",
        "Iteration 46: loglike=-9.670323e+02 (0.016 seconds)\n",
        "Iteration 47: loglike=-9.668792e+02 (0.010 seconds)\n",
        "Iteration 48: loglike=-9.667011e+02 (0.009 seconds)"
       ]
      },
      {
       "output_type": "stream",
       "stream": "stdout",
       "text": [
        "\n",
        "Iteration 49: loglike=-9.664894e+02 (0.012 seconds)\n",
        "Iteration 50: loglike=-9.662305e+02 (0.010 seconds)\n",
        "Iteration 51: loglike=-9.659015e+02 (0.013 seconds)\n",
        "Iteration 52: loglike=-9.654614e+02 (0.017 seconds)"
       ]
      },
      {
       "output_type": "stream",
       "stream": "stdout",
       "text": [
        "\n",
        "Iteration 53: loglike=-9.648369e+02 (0.018 seconds)\n",
        "Iteration 54: loglike=-9.639236e+02 (0.012 seconds)\n",
        "Iteration 55: loglike=-9.627332e+02 (0.009 seconds)\n",
        "Iteration 56: loglike=-9.617336e+02 (0.009 seconds)"
       ]
      },
      {
       "output_type": "stream",
       "stream": "stdout",
       "text": [
        "\n",
        "Iteration 57: loglike=-9.612985e+02 (0.009 seconds)\n",
        "Iteration 58: loglike=-9.611559e+02 (0.009 seconds)\n",
        "Iteration 59: loglike=-9.611022e+02 (0.010 seconds)\n",
        "Iteration 60: loglike=-9.610774e+02 (0.008 seconds)\n",
        "Iteration 61: loglike=-9.610642e+02 (0.009 seconds)"
       ]
      },
      {
       "output_type": "stream",
       "stream": "stdout",
       "text": [
        "\n",
        "Iteration 62: loglike=-9.610564e+02 (0.010 seconds)\n",
        "Converged at iteration 62.\n"
       ]
      }
     ],
     "prompt_number": 8
    },
    {
     "cell_type": "code",
     "collapsed": false,
     "input": [
      "import bayespy.plot as bpplt\n",
      "fig = plt.figure(figsize=(10,7))\n",
      "ax = fig.add_subplot(\"111\")\n",
      "bpplt.gaussian_mixture_2d(Y, alpha=alpha, scale=2, color=\"black\", fill=True, axes=ax)"
     ],
     "language": "python",
     "metadata": {},
     "outputs": [
      {
       "metadata": {},
       "output_type": "display_data",
       "png": "[encoded data removed]",
       "text": [
        "<matplotlib.figure.Figure at 0x83ddac8>"
       ]
      }
     ],
     "prompt_number": 9
    },
    {
     "cell_type": "markdown",
     "metadata": {},
     "source": [
      "We get the result of the optimization:"
     ]
    },
    {
     "cell_type": "code",
     "collapsed": false,
     "input": [
      "from bayespy.inference.vmp.nodes.gaussian import GaussianWishartMoments\n",
      "mu_Lambda = Y.parents[1]._convert(GaussianWishartMoments)\n",
      "(mu, _, sigma, _) = mu_Lambda.get_moments()\n",
      "(mu, _, sigma, _)\n",
      "mu, sigma"
     ],
     "language": "python",
     "metadata": {},
     "outputs": [
      {
       "metadata": {},
       "output_type": "pyout",
       "prompt_number": 10,
       "text": [
        "(array([[ 13.46702735, -12.49962044],\n",
        "        [  0.        ,   0.        ],\n",
        "        [  6.41272258,   4.99582062],\n",
        "        [  0.26242071,   0.05135559],\n",
        "        [  0.        ,   0.        ],\n",
        "        [ -2.9868096 ,   5.02824591],\n",
        "        [ -5.3832303 ,  -2.17276452],\n",
        "        [  0.        ,   0.        ],\n",
        "        [  0.        ,   0.        ],\n",
        "        [  0.        ,   0.        ]]),\n",
        " array([[[  1.34939125e+01,  -6.48018912e+00],\n",
        "         [ -6.48018912e+00,   6.27217757e+00]],\n",
        " \n",
        "        [[  2.00000000e+05,   0.00000000e+00],\n",
        "         [  0.00000000e+00,   2.00000000e+05]],\n",
        " \n",
        "        [[  1.04204789e+00,   6.19404867e-01],\n",
        "         [  6.19404867e-01,   9.07262110e-01]],\n",
        " \n",
        "        [[  1.86331244e+00,  -2.96912165e-01],\n",
        "         [ -2.96912165e-01,   6.15074065e+00]],\n",
        " \n",
        "        [[  2.00000000e+05,   0.00000000e+00],\n",
        "         [  0.00000000e+00,   2.00000000e+05]],\n",
        " \n",
        "        [[  5.67140045e+00,  -1.44221216e+00],\n",
        "         [ -1.44221216e+00,   2.50740202e+00]],\n",
        " \n",
        "        [[  2.62815457e+00,   2.25626636e-02],\n",
        "         [  2.25626636e-02,   1.47462030e+00]],\n",
        " \n",
        "        [[  2.00000000e+05,   0.00000000e+00],\n",
        "         [  0.00000000e+00,   2.00000000e+05]],\n",
        " \n",
        "        [[  2.00000000e+05,   0.00000000e+00],\n",
        "         [  0.00000000e+00,   2.00000000e+05]],\n",
        " \n",
        "        [[  2.00000000e+05,   0.00000000e+00],\n",
        "         [  0.00000000e+00,   2.00000000e+05]]]))"
       ]
      }
     ],
     "prompt_number": 10
    },
    {
     "cell_type": "code",
     "collapsed": false,
     "input": [
      "import numpy as np\n",
      "mu2 = np.linalg.solve(sigma, mu)\n",
      "mu2"
     ],
     "language": "python",
     "metadata": {},
     "outputs": [
      {
       "metadata": {},
       "output_type": "pyout",
       "prompt_number": 12,
       "text": [
        "array([[ 0.08131822, -1.90885268],\n",
        "       [ 0.        ,  0.        ],\n",
        "       [ 4.84840843,  2.19638053],\n",
        "       [ 0.14326808,  0.01526542],\n",
        "       [ 0.        ,  0.        ],\n",
        "       [-0.01954903,  1.99411663],\n",
        "       [-2.03591086, -1.44228921],\n",
        "       [ 0.        ,  0.        ],\n",
        "       [ 0.        ,  0.        ],\n",
        "       [ 0.        ,  0.        ]])"
       ]
      }
     ],
     "prompt_number": 12
    },
    {
     "cell_type": "markdown",
     "metadata": {},
     "source": [
      "The way you can build your model is quite nice but it still needs some development. scikit-learn proposes a better interface."
     ]
    },
    {
     "cell_type": "markdown",
     "metadata": {},
     "source": [
      "<h3 id=\"scikit\">scikit-learn</h3>"
     ]
    },
    {
     "cell_type": "markdown",
     "metadata": {},
     "source": [
      "We try to solve the same problem with another module: [scikit-learn](http://scikit-learn.org/stable/auto_examples/mixture/plot_gmm.html#example-mixture-plot-gmm-py)."
     ]
    },
    {
     "cell_type": "code",
     "collapsed": false,
     "input": [
      "from sklearn import mixture\n",
      "gmm = mixture.GMM(n_components=10, covariance_type='full')\n",
      "gmm.fit(X)"
     ],
     "language": "python",
     "metadata": {},
     "outputs": [
      {
       "metadata": {},
       "output_type": "pyout",
       "prompt_number": 13,
       "text": [
        "GMM(covariance_type='full', init_params='wmc', min_covar=0.001,\n",
        "  n_components=10, n_init=1, n_iter=100, params='wmc', random_state=None,\n",
        "  thresh=0.01)"
       ]
      }
     ],
     "prompt_number": 13
    },
    {
     "cell_type": "code",
     "collapsed": false,
     "input": [
      "dpgmm = mixture.DPGMM(n_components=10, covariance_type='full')\n",
      "dpgmm.fit(X)"
     ],
     "language": "python",
     "metadata": {},
     "outputs": [
      {
       "metadata": {},
       "output_type": "pyout",
       "prompt_number": 14,
       "text": [
        "DPGMM(alpha=1.0, covariance_type='full', init_params='wmc', min_covar=None,\n",
        "   n_components=10, n_iter=10, params='wmc',\n",
        "   random_state=<mtrand.RandomState object at 0x0000000005F82748>,\n",
        "   thresh=0.01, verbose=False)"
       ]
      }
     ],
     "prompt_number": 14
    },
    {
     "cell_type": "code",
     "collapsed": false,
     "input": [
      "import itertools\n",
      "color_iter = itertools.cycle(['r', 'g', 'b', 'c', 'm'])\n",
      "f, axarr = plt.subplots(1, 2, figsize=(14,7))\n",
      "\n",
      "for i, (clf, title) in enumerate([(gmm, 'GMM'),\n",
      "                                  (dpgmm, 'Dirichlet Process GMM')]):\n",
      "    splot = axarr[i]\n",
      "    Y_ = clf.predict(X)\n",
      "    for i, (mean, covar, color) in enumerate(zip(\n",
      "            clf.means_, clf._get_covars(), color_iter)):\n",
      "        v, w = linalg.eigh(covar)\n",
      "        u = w[0] / linalg.norm(w[0])\n",
      "        # as the DP will not use every component it has access to\n",
      "        # unless it needs it, we shouldn't plot the redundant\n",
      "        # components.\n",
      "        if not np.any(Y_ == i):\n",
      "            continue\n",
      "        splot.scatter(X[Y_ == i, 0], X[Y_ == i, 1], 0.8, color=color)\n",
      "\n",
      "        # Plot an ellipse to show the Gaussian component\n",
      "        angle = np.arctan(u[1] / u[0])\n",
      "        angle = 180 * angle / np.pi  # convert to degrees\n",
      "        ell = mpl.patches.Ellipse(mean, v[0], v[1], 180 + angle, color=color)\n",
      "        ell.set_clip_box(splot.bbox)\n",
      "        ell.set_alpha(0.5)\n",
      "        splot.add_artist(ell)\n",
      "        splot.set_title(title)"
     ],
     "language": "python",
     "metadata": {},
     "outputs": [
      {
       "metadata": {},
       "output_type": "display_data",
       "png": "[encoded data removed]",
       "text": [
        "<matplotlib.figure.Figure at 0x9bed0f0>"
       ]
      }
     ],
     "prompt_number": 15
    },
    {
     "cell_type": "code",
     "collapsed": false,
     "input": [],
     "language": "python",
     "metadata": {},
     "outputs": [],
     "prompt_number": 15
    },
    {
     "cell_type": "code",
     "collapsed": false,
     "input": [],
     "language": "python",
     "metadata": {},
     "outputs": []
    }
   ],
   "metadata": {}
  }
 ]
}