{
 "cells": [
  {
   "cell_type": "markdown",
   "metadata": {},
   "source": [
    "# Bayesian models with Python"
   ]
  },
  {
   "cell_type": "markdown",
   "metadata": {},
   "source": [
    "Plan\n",
    "\n",
    "* [bayespy](#bayespy)\n",
    "* [scikit-learn](#scikit)\n",
    "\n",
    "You can read [Probabilistic Programming and Bayesian Methods for Hackers](http://nbviewer.ipython.org/github/CamDavidsonPilon/Probabilistic-Programming-and-Bayesian-Methods-for-Hackers/blob/master/Prologue/Prologue.ipynb). Results might be different between examples. The example used is the same but the default parameters the optimisation uses are different."
   ]
  },
  {
   "cell_type": "markdown",
   "metadata": {},
   "source": [
    "We try different python model to deal with a Bayesian problem: a Gaussian Mixture. We will use the following example."
   ]
  },
  {
   "cell_type": "code",
   "execution_count": 1,
   "metadata": {
    "collapsed": false
   },
   "outputs": [],
   "source": [
    "import matplotlib.pyplot as plt\n",
    "plt.style.use('ggplot')"
   ]
  },
  {
   "cell_type": "code",
   "execution_count": 2,
   "metadata": {
    "collapsed": false
   },
   "outputs": [
    {
     "data": {
      "text/plain": [
       "[<matplotlib.lines.Line2D at 0x6e33ba8>]"
      ]
     },
     "execution_count": 2,
     "metadata": {},
     "output_type": "execute_result"
    },
    {
     "data": {
      "image/png": "[encoded data removed]",
      "text/plain": [
       "<matplotlib.figure.Figure at 0x6e33240>"
      ]
     },
     "metadata": {},
     "output_type": "display_data"
    }
   ],
   "source": [
    "import numpy as np\n",
    "y0 = np.random.multivariate_normal([0, 0], [[2, 0], [0, 0.1]], size=50)\n",
    "y1 = np.random.multivariate_normal([0, 0], [[0.1, 0], [0, 2]], size=50)\n",
    "y2 = np.random.multivariate_normal([5, 2], [[2, -1.5], [-1.5, 2]], size=50)\n",
    "y3 = np.random.multivariate_normal([-2, -2], [[0.5, 0], [0, 0.5]], size=50)\n",
    "y = np.vstack([y0, y1, y2, y3])\n",
    "X=y\n",
    "\n",
    "fig = plt.figure(figsize=(10,7))\n",
    "ax = fig.add_subplot(\"111\")\n",
    "ax.plot(y[:,0], y[:,1], \"o\")"
   ]
  },
  {
   "cell_type": "markdown",
   "metadata": {},
   "source": [
    "<h3 id=\"bayespy\">bayespy</h3>"
   ]
  },
  {
   "cell_type": "markdown",
   "metadata": {},
   "source": [
    "The module [bayespy](http://www.bayespy.org/) allows to build and estimate simple bayesian models. I just replicate the example on the [Gaussian mixture model](http://www.bayespy.org/examples/gmm.html)."
   ]
  },
  {
   "cell_type": "markdown",
   "metadata": {},
   "source": [
    "We define the model:"
   ]
  },
  {
   "cell_type": "code",
   "execution_count": 3,
   "metadata": {
    "collapsed": false
   },
   "outputs": [],
   "source": [
    "N = 200  # number of data vectors\n",
    "D = 2    # dimension\n",
    "K = 10   # maximum number of clusters"
   ]
  },
  {
   "cell_type": "code",
   "execution_count": 4,
   "metadata": {
    "collapsed": false
   },
   "outputs": [],
   "source": [
    "from bayespy.nodes import Dirichlet, Categorical, Gaussian, Wishart, Mixture\n",
    "alpha = Dirichlet(1e-5*np.ones(K), name='alpha')\n",
    "Z = Categorical(alpha,plates=(N,), name='z')\n",
    "mu = Gaussian(np.zeros(D), 1e-5*np.identity(D), plates=(K,), name='mu')\n",
    "sigma = Wishart(D, 1e-5*np.identity(D), plates=(K,), name='Lambda')\n",
    "Y = Mixture(Z, Gaussian, mu, sigma, name='Y')"
   ]
  },
  {
   "cell_type": "code",
   "execution_count": 5,
   "metadata": {
    "collapsed": false
   },
   "outputs": [],
   "source": [
    "Z.initialize_from_random()"
   ]
  },
  {
   "cell_type": "code",
   "execution_count": 6,
   "metadata": {
    "collapsed": false
   },
   "outputs": [],
   "source": [
    "from bayespy.inference import VB\n",
    "Q = VB(Y, mu, sigma, Z, alpha)"
   ]
  },
  {
   "cell_type": "code",
   "execution_count": 7,
   "metadata": {
    "collapsed": false
   },
   "outputs": [],
   "source": [
    "Y.observe(y)"
   ]
  },
  {
   "cell_type": "code",
   "execution_count": 8,
   "metadata": {
    "collapsed": false
   },
   "outputs": [
    {
     "name": "stdout",
     "output_type": "stream",
     "text": [
      "Iteration 1: loglike=-1.455616e+03 (0.011 seconds)\n",
      "Iteration 2: loglike=-1.319956e+03 (0.010 seconds)\n",
      "Iteration 3: loglike=-1.309061e+03 (0.008 seconds)\n",
      "Iteration 4: loglike=-1.299170e+03 (0.008 seconds)\n",
      "Iteration 5: loglike=-1.289680e+03 (0.008 seconds)\n",
      "Iteration 6: loglike=-1.278149e+03 (0.010 seconds)"
     ]
    },
    {
     "name": "stdout",
     "output_type": "stream",
     "text": [
      "\n",
      "Iteration 7: loglike=-1.260474e+03 (0.012 seconds)\n",
      "Iteration 8: loglike=-1.247606e+03 (0.010 seconds)\n",
      "Iteration 9: loglike=-1.239508e+03 (0.013 seconds)\n",
      "Iteration 10: loglike=-1.231115e+03 (0.018 seconds)"
     ]
    },
    {
     "name": "stdout",
     "output_type": "stream",
     "text": [
      "\n",
      "Iteration 11: loglike=-1.218323e+03 (0.016 seconds)\n",
      "Iteration 12: loglike=-1.194634e+03 (0.009 seconds)\n",
      "Iteration 13: loglike=-1.136819e+03 (0.011 seconds)\n",
      "Iteration 14: loglike=-1.081488e+03 (0.009 seconds)"
     ]
    },
    {
     "name": "stdout",
     "output_type": "stream",
     "text": [
      "\n",
      "Iteration 15: loglike=-1.045889e+03 (0.014 seconds)\n",
      "Iteration 16: loglike=-1.020045e+03 (0.012 seconds)\n",
      "Iteration 17: loglike=-1.003962e+03 (0.009 seconds)\n",
      "Iteration 18: loglike=-9.763706e+02 (0.009 seconds)"
     ]
    },
    {
     "name": "stdout",
     "output_type": "stream",
     "text": [
      "\n",
      "Iteration 19: loglike=-9.646703e+02 (0.009 seconds)\n",
      "Iteration 20: loglike=-9.602240e+02 (0.010 seconds)\n",
      "Iteration 21: loglike=-9.569743e+02 (0.009 seconds)\n",
      "Iteration 22: loglike=-9.543113e+02 (0.009 seconds)\n",
      "Iteration 23: loglike=-9.518385e+02 (0.008 seconds)"
     ]
    },
    {
     "name": "stdout",
     "output_type": "stream",
     "text": [
      "\n",
      "Iteration 24: loglike=-9.495792e+02 (0.009 seconds)\n",
      "Iteration 25: loglike=-9.475765e+02 (0.009 seconds)\n",
      "Iteration 26: loglike=-9.455295e+02 (0.016 seconds)\n",
      "Iteration 27: loglike=-9.427631e+02 (0.009 seconds)"
     ]
    },
    {
     "name": "stdout",
     "output_type": "stream",
     "text": [
      "\n",
      "Iteration 28: loglike=-9.366667e+02 (0.009 seconds)\n",
      "Iteration 29: loglike=-9.237518e+02 (0.009 seconds)\n",
      "Iteration 30: loglike=-8.983979e+02 (0.011 seconds)\n",
      "Iteration 31: loglike=-8.976419e+02 (0.010 seconds)\n",
      "Iteration 32: loglike=-8.969138e+02 (0.009 seconds)"
     ]
    },
    {
     "name": "stdout",
     "output_type": "stream",
     "text": [
      "\n",
      "Iteration 33: loglike=-8.962202e+02 (0.009 seconds)\n",
      "Iteration 34: loglike=-8.955721e+02 (0.010 seconds)\n",
      "Iteration 35: loglike=-8.949751e+02 (0.012 seconds)\n",
      "Iteration 36: loglike=-8.944282e+02 (0.009 seconds)\n",
      "Iteration 37: loglike=-8.939321e+02 (0.009 seconds)"
     ]
    },
    {
     "name": "stdout",
     "output_type": "stream",
     "text": [
      "\n",
      "Iteration 38: loglike=-8.934933e+02 (0.010 seconds)\n",
      "Iteration 39: loglike=-8.931195e+02 (0.009 seconds)\n",
      "Iteration 40: loglike=-8.928145e+02 (0.011 seconds)\n",
      "Iteration 41: loglike=-8.925763e+02 (0.010 seconds)\n",
      "Iteration 42: loglike=-8.923991e+02 (0.009 seconds)"
     ]
    },
    {
     "name": "stdout",
     "output_type": "stream",
     "text": [
      "\n",
      "Iteration 43: loglike=-8.922734e+02 (0.011 seconds)\n",
      "Iteration 44: loglike=-8.921883e+02 (0.010 seconds)\n",
      "Iteration 45: loglike=-8.921331e+02 (0.010 seconds)\n",
      "Iteration 46: loglike=-8.920983e+02 (0.009 seconds)\n",
      "Iteration 47: loglike=-8.920771e+02 (0.009 seconds)"
     ]
    },
    {
     "name": "stdout",
     "output_type": "stream",
     "text": [
      "\n",
      "Iteration 48: loglike=-8.920644e+02 (0.012 seconds)\n",
      "Iteration 49: loglike=-8.920570e+02 (0.012 seconds)\n",
      "Converged at iteration 49.\n"
     ]
    }
   ],
   "source": [
    "Q.update(repeat=1000)"
   ]
  },
  {
   "cell_type": "code",
   "execution_count": 9,
   "metadata": {
    "collapsed": false
   },
   "outputs": [
    {
     "data": {
      "image/png": "[encoded data removed]",
      "text/plain": [
       "<matplotlib.figure.Figure at 0x7bbd3c8>"
      ]
     },
     "metadata": {},
     "output_type": "display_data"
    }
   ],
   "source": [
    "import bayespy.plot as bpplt\n",
    "fig = plt.figure(figsize=(10,7))\n",
    "ax = fig.add_subplot(\"111\")\n",
    "bpplt.gaussian_mixture_2d(Y, alpha=alpha, scale=2, color=\"black\", fill=True, axes=ax)"
   ]
  },
  {
   "cell_type": "markdown",
   "metadata": {},
   "source": [
    "We get the result of the optimization:"
   ]
  },
  {
   "cell_type": "code",
   "execution_count": 10,
   "metadata": {
    "collapsed": false
   },
   "outputs": [
    {
     "data": {
      "text/plain": [
       "(array([[ 0.        ,  0.        ],\n",
       "        [-3.9885231 , -2.75279243],\n",
       "        [ 9.55402172,  9.04091934],\n",
       "        [ 0.        ,  0.        ],\n",
       "        [ 0.        ,  0.        ],\n",
       "        [-0.27590414,  0.02506373],\n",
       "        [ 0.12054468,  0.58461622],\n",
       "        [ 0.        ,  0.        ],\n",
       "        [ 0.        ,  0.        ],\n",
       "        [ 0.        ,  0.        ]]),\n",
       " array([[[  2.00000000e+05,   0.00000000e+00],\n",
       "         [  0.00000000e+00,   2.00000000e+05]],\n",
       " \n",
       "        [[  1.88910045e+00,   1.85424024e-01],\n",
       "         [  1.85424024e-01,   1.34567494e+00]],\n",
       " \n",
       "        [[  1.47737667e+00,   1.24584478e+00],\n",
       "         [  1.24584478e+00,   1.64783410e+00]],\n",
       " \n",
       "        [[  2.00000000e+05,   0.00000000e+00],\n",
       "         [  0.00000000e+00,   2.00000000e+05]],\n",
       " \n",
       "        [[  2.00000000e+05,   0.00000000e+00],\n",
       "         [  0.00000000e+00,   2.00000000e+05]],\n",
       " \n",
       "        [[  9.94355876e+00,  -7.17739321e-01],\n",
       "         [ -7.17739321e-01,   7.43526243e-01]],\n",
       " \n",
       "        [[  7.98465602e-01,   1.07952390e+00],\n",
       "         [  1.07952390e+00,   1.69749051e+01]],\n",
       " \n",
       "        [[  2.00000000e+05,   0.00000000e+00],\n",
       "         [  0.00000000e+00,   2.00000000e+05]],\n",
       " \n",
       "        [[  2.00000000e+05,   0.00000000e+00],\n",
       "         [  0.00000000e+00,   2.00000000e+05]],\n",
       " \n",
       "        [[  2.00000000e+05,   0.00000000e+00],\n",
       "         [  0.00000000e+00,   2.00000000e+05]]]))"
      ]
     },
     "execution_count": 10,
     "metadata": {},
     "output_type": "execute_result"
    }
   ],
   "source": [
    "from bayespy.inference.vmp.nodes.gaussian import GaussianWishartMoments\n",
    "mu_Lambda = Y.parents[1]._convert(GaussianWishartMoments)\n",
    "(mu, _, sigma, _) = mu_Lambda.get_moments()\n",
    "(mu, _, sigma, _)\n",
    "mu, sigma"
   ]
  },
  {
   "cell_type": "code",
   "execution_count": 11,
   "metadata": {
    "collapsed": false
   },
   "outputs": [
    {
     "data": {
      "text/plain": [
       "array([[ 0.        ,  0.        ],\n",
       "       [-1.93673793, -1.77879116],\n",
       "       [ 5.0772358 ,  1.64790354],\n",
       "       [ 0.        ,  0.        ],\n",
       "       [ 0.        ,  0.        ],\n",
       "       [-0.02720976,  0.0074432 ],\n",
       "       [ 0.11422906,  0.0271756 ],\n",
       "       [ 0.        ,  0.        ],\n",
       "       [ 0.        ,  0.        ],\n",
       "       [ 0.        ,  0.        ]])"
      ]
     },
     "execution_count": 11,
     "metadata": {},
     "output_type": "execute_result"
    }
   ],
   "source": [
    "import numpy as np\n",
    "mu2 = np.linalg.solve(sigma, mu)\n",
    "mu2"
   ]
  },
  {
   "cell_type": "markdown",
   "metadata": {},
   "source": [
    "The way you can build your model is quite nice but it still needs some development. scikit-learn proposes a better interface."
   ]
  },
  {
   "cell_type": "markdown",
   "metadata": {},
   "source": [
    "<h3 id=\"scikit\">scikit-learn</h3>"
   ]
  },
  {
   "cell_type": "markdown",
   "metadata": {},
   "source": [
    "We try to solve the same problem with another module: [scikit-learn](http://scikit-learn.org/stable/auto_examples/mixture/plot_gmm.html#example-mixture-plot-gmm-py)."
   ]
  },
  {
   "cell_type": "code",
   "execution_count": 12,
   "metadata": {
    "collapsed": false
   },
   "outputs": [
    {
     "data": {
      "text/plain": [
       "GMM(covariance_type='full', init_params='wmc', min_covar=0.001,\n",
       "  n_components=10, n_init=1, n_iter=100, params='wmc', random_state=None,\n",
       "  thresh=0.01)"
      ]
     },
     "execution_count": 12,
     "metadata": {},
     "output_type": "execute_result"
    }
   ],
   "source": [
    "from sklearn import mixture\n",
    "gmm = mixture.GMM(n_components=10, covariance_type='full')\n",
    "gmm.fit(X)"
   ]
  },
  {
   "cell_type": "code",
   "execution_count": 13,
   "metadata": {
    "collapsed": false
   },
   "outputs": [
    {
     "data": {
      "text/plain": [
       "DPGMM(alpha=1.0, covariance_type='full', init_params='wmc', min_covar=None,\n",
       "   n_components=10, n_iter=10, params='wmc',\n",
       "   random_state=<mtrand.RandomState object at 0x00000000057327F0>,\n",
       "   thresh=0.01, verbose=False)"
      ]
     },
     "execution_count": 13,
     "metadata": {},
     "output_type": "execute_result"
    }
   ],
   "source": [
    "dpgmm = mixture.DPGMM(n_components=10, covariance_type='full')\n",
    "dpgmm.fit(X)"
   ]
  },
  {
   "cell_type": "code",
   "execution_count": 14,
   "metadata": {
    "collapsed": false
   },
   "outputs": [
    {
     "data": {
      "image/png": "[encoded data removed]",
      "text/plain": [
       "<matplotlib.figure.Figure at 0x93445c0>"
      ]
     },
     "metadata": {},
     "output_type": "display_data"
    }
   ],
   "source": [
    "import itertools\n",
    "import matplotlib as mpl\n",
    "color_iter = itertools.cycle(['r', 'g', 'b', 'c', 'm'])\n",
    "f, axarr = plt.subplots(1, 2, figsize=(14,7))\n",
    "\n",
    "for i, (clf, title) in enumerate([(gmm, 'GMM'),\n",
    "                                  (dpgmm, 'Dirichlet Process GMM')]):\n",
    "    splot = axarr[i]\n",
    "    Y_ = clf.predict(X)\n",
    "    for i, (mean, covar, color) in enumerate(zip(\n",
    "            clf.means_, clf._get_covars(), color_iter)):\n",
    "        v, w = np.linalg.eigh(covar)\n",
    "        u = w[0] / np.linalg.norm(w[0])\n",
    "        # as the DP will not use every component it has access to\n",
    "        # unless it needs it, we shouldn't plot the redundant\n",
    "        # components.\n",
    "        if not np.any(Y_ == i):\n",
    "            continue\n",
    "        splot.scatter(X[Y_ == i, 0], X[Y_ == i, 1], 0.8, color=color)\n",
    "\n",
    "        # Plot an ellipse to show the Gaussian component\n",
    "        angle = np.arctan(u[1] / u[0])\n",
    "        angle = 180 * angle / np.pi  # convert to degrees\n",
    "        ell = mpl.patches.Ellipse(mean, v[0], v[1], 180 + angle, color=color)\n",
    "        ell.set_clip_box(splot.bbox)\n",
    "        ell.set_alpha(0.5)\n",
    "        splot.add_artist(ell)\n",
    "        splot.set_title(title)"
   ]
  },
  {
   "cell_type": "code",
   "execution_count": 14,
   "metadata": {
    "collapsed": false
   },
   "outputs": [],
   "source": []
  },
  {
   "cell_type": "code",
   "execution_count": 14,
   "metadata": {
    "collapsed": false
   },
   "outputs": [],
   "source": []
  }
 ],
 "metadata": {},
 "nbformat": 4,
 "nbformat_minor": 0
}