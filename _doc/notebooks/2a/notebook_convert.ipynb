{
 "metadata": {
  "name": "",
  "signature": "sha256:8ae6b1f9d188fb39b05eaf26e10469d6f336532d453c961129eab13b8482c5da"
 },
 "nbformat": 3,
 "nbformat_minor": 0,
 "worksheets": [
  {
   "cells": [
    {
     "cell_type": "heading",
     "level": 1,
     "metadata": {},
     "source": [
      "Convert a notebook into a document"
     ]
    },
    {
     "cell_type": "markdown",
     "metadata": {},
     "source": [
      "First, we need to retrieve the notebook name (see [How to I get the current IPython Notebook name](http://stackoverflow.com/questions/12544056/how-to-i-get-the-current-ipython-notebook-name)):"
     ]
    },
    {
     "cell_type": "code",
     "collapsed": false,
     "input": [
      "%%javascript\n",
      "var kernel = IPython.notebook.kernel;\n",
      "var body = document.body,  \n",
      "    attribs = body.attributes;\n",
      "var command = \"theNotebook = \" + \"'\"+attribs['data-notebook-name'].value+\"'\";\n",
      "kernel.execute(command);"
     ],
     "language": "python",
     "metadata": {},
     "outputs": [
      {
       "javascript": [
        "var kernel = IPython.notebook.kernel;\n",
        "var body = document.body,  \n",
        "    attribs = body.attributes;\n",
        "var command = \"theNotebook = \" + \"'\"+attribs['data-notebook-name'].value+\"'\";\n",
        "kernel.execute(command);"
       ],
       "metadata": {},
       "output_type": "display_data",
       "text": [
        "<IPython.core.display.Javascript at 0x76c4d70>"
       ]
      }
     ],
     "prompt_number": 7
    },
    {
     "cell_type": "code",
     "collapsed": false,
     "input": [
      "theNotebook"
     ],
     "language": "python",
     "metadata": {},
     "outputs": [
      {
       "metadata": {},
       "output_type": "pyout",
       "prompt_number": 8,
       "text": [
        "'notebook_convert.ipynb'"
       ]
      }
     ],
     "prompt_number": 8
    },
    {
     "cell_type": "markdown",
     "metadata": {},
     "source": [
      "On Windows, you need to execute the following trick (see [Pywin32 does not find its DLL](http://www.xavierdupre.fr/blog/2014-07-01_nojs.html))."
     ]
    },
    {
     "cell_type": "code",
     "collapsed": false,
     "input": [
      "from pyquickhelper.helpgen.utils_pywin32 import import_pywin32\n",
      "import_pywin32()"
     ],
     "language": "python",
     "metadata": {},
     "outputs": [],
     "prompt_number": 14
    },
    {
     "cell_type": "markdown",
     "metadata": {},
     "source": [
      "Then, we call the following code:"
     ]
    },
    {
     "cell_type": "code",
     "collapsed": false,
     "input": [
      "from IPython.nbconvert import HTMLExporter\n",
      "exportHtml = HTMLExporter()\n",
      "body,resources = exportHtml.from_filename(theNotebook)\n",
      "with open(\"conv_notebook.html\",\"w\",encoding=\"utf8\") as f : f.write(body)"
     ],
     "language": "python",
     "metadata": {},
     "outputs": [],
     "prompt_number": 21
    },
    {
     "cell_type": "markdown",
     "metadata": {},
     "source": [
      "We can do it with the RST format (see [RSTExporter](http://ipython.org/ipython-doc/2/api/generated/IPython.nbconvert.exporters.rst.html) or in Python with [PythonExporter](http://ipython.org/ipython-doc/2/api/generated/IPython.nbconvert.exporters.python.html?highlight=pythonexporter#IPython.nbconvert.exporters.python.PythonExporter))."
     ]
    },
    {
     "cell_type": "code",
     "collapsed": false,
     "input": [
      "from IPython.nbconvert import RSTExporter\n",
      "exportRst = RSTExporter()\n",
      "body,resources = exportRst.from_filename(theNotebook)\n",
      "with open(\"conv_notebook.rst\",\"w\",encoding=\"utf8\") as f : f.write(body)"
     ],
     "language": "python",
     "metadata": {},
     "outputs": [],
     "prompt_number": 28
    },
    {
     "cell_type": "markdown",
     "metadata": {},
     "source": [
      "If you need to add custom RST instructions, you could add HTML comments:\n",
      "\n",
      "<!--RST ..index:: conversion,nbconvert !RST-->\n",
      "\n",
      "``<!--RST ..index:: conversion,nbconvert !RST-->``\n",
      "       \n",
      "And write custom code to add it to your RST file."
     ]
    },
    {
     "cell_type": "markdown",
     "metadata": {},
     "source": [
      "Finally, if you want to retrieve the download a local file such as the RST conversion for example:"
     ]
    },
    {
     "cell_type": "code",
     "collapsed": false,
     "input": [
      "from IPython.display import FileLink\n",
      "FileLink(\"conv_notebook.rst\")"
     ],
     "language": "python",
     "metadata": {},
     "outputs": [
      {
       "html": [
        "<a href='conv_notebook.rst' target='_blank'>conv_notebook.rst</a><br>"
       ],
       "metadata": {},
       "output_type": "pyout",
       "prompt_number": 24,
       "text": [
        "C:\\xadupre\\__home_\\_data\\GitHub\\ensae_teaching_cs\\_doc\\notebooks\\2a\\conv_notebook.rst"
       ]
      }
     ],
     "prompt_number": 24
    },
    {
     "cell_type": "code",
     "collapsed": false,
     "input": [],
     "language": "python",
     "metadata": {},
     "outputs": []
    }
   ],
   "metadata": {}
  }
 ]
}