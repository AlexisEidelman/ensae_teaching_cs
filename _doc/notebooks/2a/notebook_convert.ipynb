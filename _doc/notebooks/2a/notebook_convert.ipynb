{
 "cells": [
  {
   "cell_type": "markdown",
   "metadata": {},
   "source": [
    "# Convert a notebook into a document"
   ]
  },
  {
   "cell_type": "markdown",
   "metadata": {},
   "source": [
    "First, we need to retrieve the notebook name (see [How to I get the current IPython Notebook name](http://stackoverflow.com/questions/12544056/how-to-i-get-the-current-ipython-notebook-name)):"
   ]
  },
  {
   "cell_type": "code",
   "execution_count": 1,
   "metadata": {
    "collapsed": false
   },
   "outputs": [
    {
     "data": {
      "application/javascript": [
       "var kernel = IPython.notebook.kernel;\n",
       "var body = document.body,  \n",
       "    attribs = body.attributes;\n",
       "var command = \"theNotebook = \" + \"'\"+attribs['data-notebook-name'].value+\"'\";\n",
       "kernel.execute(command);"
      ],
      "text/plain": [
       "<IPython.core.display.Javascript at 0x6cfe1d0>"
      ]
     },
     "metadata": {},
     "output_type": "display_data"
    }
   ],
   "source": [
    "%%javascript\n",
    "var kernel = IPython.notebook.kernel;\n",
    "var body = document.body,  \n",
    "    attribs = body.attributes;\n",
    "var command = \"theNotebook = \" + \"'\"+attribs['data-notebook-name'].value+\"'\";\n",
    "kernel.execute(command);"
   ]
  },
  {
   "cell_type": "code",
   "execution_count": 7,
   "metadata": {
    "collapsed": false
   },
   "outputs": [
    {
     "data": {
      "text/plain": [
       "'notebook_convert.ipynb'"
      ]
     },
     "execution_count": 7,
     "metadata": {},
     "output_type": "execute_result"
    }
   ],
   "source": [
    "if \"theNotebook\" in locals():\n",
    "    a=theNotebook\n",
    "else:\n",
    "    a=\"pas trouvé\"\n",
    "a"
   ]
  },
  {
   "cell_type": "markdown",
   "metadata": {},
   "source": [
    "On Windows, you need to execute the following trick (see [Pywin32 does not find its DLL](http://www.xavierdupre.fr/blog/2014-07-01_nojs.html))."
   ]
  },
  {
   "cell_type": "code",
   "execution_count": 14,
   "metadata": {
    "collapsed": false
   },
   "outputs": [],
   "source": [
    "from pyquickhelper.helpgen.utils_pywin32 import import_pywin32\n",
    "import_pywin32()"
   ]
  },
  {
   "cell_type": "markdown",
   "metadata": {},
   "source": [
    "Then, we call the following code:"
   ]
  },
  {
   "cell_type": "code",
   "execution_count": 21,
   "metadata": {
    "collapsed": false
   },
   "outputs": [],
   "source": [
    "from IPython.nbconvert import HTMLExporter\n",
    "exportHtml = HTMLExporter()\n",
    "if a != \"pas trouvé\":\n",
    "    body,resources = exportHtml.from_filename(theNotebook)\n",
    "    with open(\"conv_notebook.html\",\"w\",encoding=\"utf8\") as f : f.write(body)"
   ]
  },
  {
   "cell_type": "markdown",
   "metadata": {},
   "source": [
    "We can do it with the RST format (see [RSTExporter](http://ipython.org/ipython-doc/2/api/generated/IPython.nbconvert.exporters.rst.html) or in Python with [PythonExporter](http://ipython.org/ipython-doc/2/api/generated/IPython.nbconvert.exporters.python.html?highlight=pythonexporter#IPython.nbconvert.exporters.python.PythonExporter))."
   ]
  },
  {
   "cell_type": "code",
   "execution_count": 28,
   "metadata": {
    "collapsed": false
   },
   "outputs": [],
   "source": [
    "from IPython.nbconvert import RSTExporter\n",
    "exportRst = RSTExporter()\n",
    "if a != \"pas trouvé\":\n",
    "    body,resources = exportRst.from_filename(theNotebook)\n",
    "    with open(\"conv_notebook.rst\",\"w\",encoding=\"utf8\") as f : f.write(body)"
   ]
  },
  {
   "cell_type": "markdown",
   "metadata": {},
   "source": [
    "If you need to add custom RST instructions, you could add HTML comments:\n",
    "\n",
    "<!--RST ..index:: conversion,nbconvert !RST-->\n",
    "\n",
    "``<!--RST ..index:: conversion,nbconvert !RST-->``\n",
    "       \n",
    "And write custom code to add it to your RST file."
   ]
  },
  {
   "cell_type": "markdown",
   "metadata": {},
   "source": [
    "Finally, if you want to retrieve the download a local file such as the RST conversion for example:"
   ]
  },
  {
   "cell_type": "code",
   "execution_count": 24,
   "metadata": {
    "collapsed": false
   },
   "outputs": [
    {
     "data": {
      "text/html": [
       "<a href='conv_notebook.rst' target='_blank'>conv_notebook.rst</a><br>"
      ],
      "text/plain": [
       "C:\\xadupre\\__home_\\_data\\GitHub\\ensae_teaching_cs\\_doc\\notebooks\\2a\\conv_notebook.rst"
      ]
     },
     "execution_count": 24,
     "metadata": {},
     "output_type": "execute_result"
    }
   ],
   "source": [
    "from IPython.display import FileLink\n",
    "FileLink(\"conv_notebook.rst\")"
   ]
  },
  {
   "cell_type": "code",
   "execution_count": null,
   "metadata": {
    "collapsed": false
   },
   "outputs": [],
   "source": []
  }
 ],
 "metadata": {},
 "nbformat": 4,
 "nbformat_minor": 0
}