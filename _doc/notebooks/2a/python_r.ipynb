{
 "cells": [
  {
   "cell_type": "markdown",
   "metadata": {},
   "source": [
    "# R et notebooks"
   ]
  },
  {
   "cell_type": "markdown",
   "metadata": {},
   "source": [
    "<!--RST ..index:: R !RST-->\n",
    "\n",
    "Tout d'abord, il faut ajouter les variables d'environnement suivantes et si besoin relancer le notebook pour que les modifications soient prises en compte :"
   ]
  },
  {
   "cell_type": "code",
   "execution_count": 1,
   "metadata": {
    "collapsed": false
   },
   "outputs": [
    {
     "name": "stdout",
     "output_type": "stream",
     "text": [
      "['R-3.1.0']\n"
     ]
    },
    {
     "data": {
      "text/plain": [
       "['C:\\\\Program Files\\\\R\\\\R-3.1.0',\n",
       " '%USERPROFILE\\\\Documents',\n",
       " '%USERPROFILE\\\\Documents']"
      ]
     },
     "execution_count": 1,
     "metadata": {},
     "output_type": "execute_result"
    }
   ],
   "source": [
    "import os\n",
    "print(os.listdir(r\"C:\\Program Files\\R\"))\n",
    "p = [ os.environ.get(\"R_HOME\", \"R_HOME is empty, example: C:\\\\Program Files\\\\R\\\\R-3.1.0\"), \n",
    "      os.environ.get (\"R_LIBS_USER\", \"R_LIBS_USER is empty, example: %USERPROFILE\\\\Documents\"), \n",
    "      os.environ.get (\"R_USER\", \"R_USER is empty, example: %USERPROFILE\\\\Documents\") ]\n",
    "[ _.replace(os.environ[\"USERPROFILE\"],\"%USERPROFILE\") for _ in p ]"
   ]
  },
  {
   "cell_type": "markdown",
   "metadata": {},
   "source": [
    "Un autre petit préliminaire agaçant sur Windows. Lorsqu'on exécute l'instruction ``%load_ext rpy2.ipython`` ou ``import win32api``, on obtient parfois l'exception ``ImportError: DLL load failed: Le module spécifié est introuvable.`` Ceci explique la présence des deux premières lignes du code qui suit."
   ]
  },
  {
   "cell_type": "code",
   "execution_count": 2,
   "metadata": {
    "collapsed": false
   },
   "outputs": [],
   "source": [
    "from pyquickhelper.helpgen.utils_pywin32 import import_pywin32\n",
    "import_pywin32()\n",
    "import rpy2"
   ]
  },
  {
   "cell_type": "code",
   "execution_count": 3,
   "metadata": {
    "collapsed": false
   },
   "outputs": [],
   "source": [
    "%load_ext rpy2.ipython  "
   ]
  },
  {
   "cell_type": "markdown",
   "metadata": {},
   "source": [
    "Ce notebook utilise les outils présentés ici : [rmagic](http://rpy2.readthedocs.io/en/version_2.7.x/interactive.html?highlight=rmagic)."
   ]
  },
  {
   "cell_type": "markdown",
   "metadata": {},
   "source": [
    "**Important :** sous Windows, le module [rpy2](http://rpy2.readthedocs.io/en/) est habituellement installé avec un setup (voir [setup pour rpy2](http://www.lfd.uci.edu/~gohlke/pythonlibs/#rpy2)). Il est compilé pour une version spécifique de Python et une version spécifique de R qui doit être installée. Des erreurs se produisent si les versions ne correspondent pas.\n",
    "\n",
    "On cherche à exécuter le code proposé ici : [Convolution(s) et lois composées, aspects numériques](http://freakonometrics.hypotheses.org/1813) qui requiert la librairie [actuar](http://cran.r-project.org/web/packages/actuar/index.html) qu'il faut installer si cela n'a pas été fait.\n",
    "\n",
    "Le code suivant définit le source de téléchargement par défaut pour les packages R de façon à éviter l'affichage d'une fenêtre popup poru le choisir (voir [Installing R packages](http://www.r-bloggers.com/installing-r-packages/))."
   ]
  },
  {
   "cell_type": "code",
   "execution_count": 4,
   "metadata": {
    "collapsed": false
   },
   "outputs": [],
   "source": [
    "%%R\n",
    "cat(\".Rprofile: Setting UK repositoryn\")\n",
    "r = getOption(\"repos\") \n",
    "r[\"CRAN\"] = \"http://cran.uk.r-project.org\"\n",
    "options(repos = r)\n",
    "rm(r)"
   ]
  },
  {
   "cell_type": "markdown",
   "metadata": {},
   "source": [
    "Le code suivant installe effectivement le package."
   ]
  },
  {
   "cell_type": "code",
   "execution_count": 5,
   "metadata": {
    "collapsed": false
   },
   "outputs": [],
   "source": [
    "%%R\n",
    "install.packages(\"actuar\", quiet=TRUE)"
   ]
  },
  {
   "cell_type": "markdown",
   "metadata": {},
   "source": [
    "Cette commande a l'inconvénient d'ouvrir une fenêtre pop up pour sélectionner le site du téléchargement du package. Cela ne fonctionnera pas sur un serveur de notebook. Certaines des commandes suivantes peuvent échouer pour les mêmes raisons. On peut vérifier que l'import du package a fonctionné avec le programme suivant :"
   ]
  },
  {
   "cell_type": "code",
   "execution_count": 6,
   "metadata": {
    "collapsed": false
   },
   "outputs": [
    {
     "data": {
      "image/png": "[encoded data removed]"
     },
     "metadata": {},
     "output_type": "display_data"
    }
   ],
   "source": [
    "%%R -o fx,x\n",
    "library(\"actuar\")\n",
    "fx <- c(0, 0.15, 0.2, 0.25, 0.125, 0.075, 0.05, 0.05, 0.05, 0.025, 0.025)\n",
    "pn <- c(0.05, 0.1, 0.15, 0.2, 0.25, 0.15, 0.06, 0.03, 0.01)\n",
    "Fs <- aggregateDist(\"convolution\", model.freq = pn, model.sev = fx, x.scale = 25)\n",
    "x <- c(Fs(0), diff(Fs(25 * 0:21)))\n",
    "print(summary(fx))\n",
    "plot(Fs)"
   ]
  },
  {
   "cell_type": "markdown",
   "metadata": {},
   "source": [
    "On peut extraire la variable ``x`` :"
   ]
  },
  {
   "cell_type": "code",
   "execution_count": 7,
   "metadata": {
    "collapsed": false
   },
   "outputs": [
    {
     "data": {
      "text/plain": [
       "<FloatVector - Python:0x000000000C33CA08 / R:0x000000002131A320>\n",
       "[0.050000, 0.015000, 0.023375, ..., 0.031968, 0.028324, 0.024788]"
      ]
     },
     "execution_count": 7,
     "metadata": {},
     "output_type": "execute_result"
    }
   ],
   "source": [
    "%Rget x"
   ]
  },
  {
   "cell_type": "markdown",
   "metadata": {},
   "source": [
    "Quelques notebooks à lire pour aller plus loin :\n",
    "\n",
    "* [Four issues I had when using IPython, R and rmagic](http://www.xavierdupre.fr/blog/2014-09-07_nojs.html)\n",
    "* [Example of using ggplot2 from Jupyter notebook](http://nbviewer.jupyter.org/gist/yoavram/5280132)\n",
    "* [Rmagic Functions Extension](http://nbviewer.jupyter.org/github/jupyter/jupyter/blob/3607712653c66d63e0d7f13f073bde8c0f209ba8/docs/examples/notebooks/rmagic_extension.ipynb)\n",
    "\n",
    "On peut sauver son workspace et le récupérer sous R si besoin."
   ]
  },
  {
   "cell_type": "code",
   "execution_count": 8,
   "metadata": {
    "collapsed": false
   },
   "outputs": [],
   "source": [
    "%%R\n",
    "save.image(\"C:\\\\temp\\\\python2.RData\")"
   ]
  },
  {
   "cell_type": "markdown",
   "metadata": {},
   "source": [
    "On peut également diriger la sortie standard dans un fichier texte pour voir ce qu'il s'y passe."
   ]
  },
  {
   "cell_type": "code",
   "execution_count": 9,
   "metadata": {
    "collapsed": false
   },
   "outputs": [],
   "source": [
    "%%R\n",
    "\n",
    "zz <- file(\"C:\\\\temp\\\\rlog.txt\", open = \"wt\");\n",
    "sink(zz);\n",
    "sink(zz, type = \"message\");"
   ]
  }
 ],
 "metadata": {},
 "nbformat": 4,
 "nbformat_minor": 0
}