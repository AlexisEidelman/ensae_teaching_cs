{
 "cells": [
  {
   "cell_type": "markdown",
   "metadata": {},
   "source": [
    "# Python et C Sharp"
   ]
  },
  {
   "cell_type": "markdown",
   "metadata": {},
   "source": [
    "<!--RST ..index:: C# !RST-->\n",
    "\n",
    "Je n'ai pas réussi à trouver un moyen d'utiliser [C#](http://fr.wikipedia.org/wiki/C_sharp) directement depuis un notebook même si cela est possible avec [F#](http://fr.wikipedia.org/wiki/F_Sharp) : [BayardRock/IfSharp](https://github.com/BayardRock/IfSharp) (voir la démo [IPython notebook backed by an F# kernel](http://nbviewer.ipython.org/github/BayardRock/IfSharp/blob/master/Feature%20Notebook.ipynb)).\n",
    "\n",
    "A défaut, ce notebook démontre une façon d'appeler les fonctions d'une DLL écrite en C#. Cela se fait grâce au module [pythonnet](https://github.com/renshawbay/pythonnet). Le concepteur ne maintient plus la librairie mais d'autres le font ([Christoph Gohlke's page](http://www.lfd.uci.edu/~gohlke/pythonlibs/#pythonnet)). Elle est aussi accessible dans le module [ensae_teaching_cs](https://github.com/sdpython/ensae_teaching_cs).\n",
    "\n",
    "Voici quelques exemples ce qu'on peut faire :"
   ]
  },
  {
   "cell_type": "code",
   "execution_count": 1,
   "metadata": {
    "collapsed": false
   },
   "outputs": [],
   "source": [
    "from ensae_teaching_cs.pythonnet import clr"
   ]
  },
  {
   "cell_type": "code",
   "execution_count": 2,
   "metadata": {
    "collapsed": false
   },
   "outputs": [
    {
     "data": {
      "text/plain": [
       "<System.Double at 0x804c780>"
      ]
     },
     "execution_count": 2,
     "metadata": {},
     "output_type": "execute_result"
    }
   ],
   "source": [
    "from System import Double\n",
    "d = Double(5.5)\n",
    "d"
   ]
  },
  {
   "cell_type": "code",
   "execution_count": 3,
   "metadata": {
    "collapsed": false
   },
   "outputs": [
    {
     "data": {
      "text/plain": [
       "<System.Collections.Generic.0, Culture=neutral, PublicKeyToken=b77a5c561934e089]] at 0x8ba0c18>"
      ]
     },
     "execution_count": 3,
     "metadata": {},
     "output_type": "execute_result"
    }
   ],
   "source": [
    "from System.Collections.Generic import List\n",
    "a = List[Double]()\n",
    "a"
   ]
  },
  {
   "cell_type": "code",
   "execution_count": 4,
   "metadata": {
    "collapsed": false
   },
   "outputs": [
    {
     "data": {
      "text/plain": [
       "<System.Collections.Generic.0, Culture=neutral, PublicKeyToken=b77a5c561934e089]] at 0x8ba0c18>"
      ]
     },
     "execution_count": 4,
     "metadata": {},
     "output_type": "execute_result"
    }
   ],
   "source": [
    "a.Add(10)\n",
    "a"
   ]
  },
  {
   "cell_type": "markdown",
   "metadata": {},
   "source": [
    "On ne peut pas écrire du C#, et donc pas de [Linq](http://msdn.microsoft.com/fr-fr/library/bb397926.aspx) non plus :"
   ]
  },
  {
   "cell_type": "code",
   "execution_count": 5,
   "metadata": {
    "collapsed": false
   },
   "outputs": [
    {
     "ename": "SyntaxError",
     "evalue": "invalid syntax (<ipython-input-5-7fa1e78b6628>, line 2)",
     "output_type": "error",
     "traceback": [
      "\u001b[1;36m  File \u001b[1;32m\"<ipython-input-5-7fa1e78b6628>\"\u001b[1;36m, line \u001b[1;32m2\u001b[0m\n\u001b[1;33m    String.Join(\",\", a.Select(c=>c.ToString()).ToArray())\u001b[0m\n\u001b[1;37m                                ^\u001b[0m\n\u001b[1;31mSyntaxError\u001b[0m\u001b[1;31m:\u001b[0m invalid syntax\n"
     ]
    }
   ],
   "source": [
    "from System import String\n",
    "String.Join(\",\", a.Select(c=>c.ToString()).ToArray())"
   ]
  },
  {
   "cell_type": "markdown",
   "metadata": {},
   "source": [
    "Ce module est surtout intéressant pour appeler depuis Python des fonctionnalités codées avec [.net](http://fr.wikipedia.org/wiki/Microsoft_.NET). Il suffit d'utiliser la fonction [AddReference](http://stackoverflow.com/questions/14520888/clr-addreferenceexample-file-unable-to-find-assembly). Le chemin de la DLL doit être inclus dans ``sys.path`` :"
   ]
  },
  {
   "cell_type": "code",
   "execution_count": 7,
   "metadata": {
    "collapsed": false
   },
   "outputs": [],
   "source": [
    "import os\n",
    "from clr import AddReference\n",
    "from ensae_teaching_cs.pythonnet import csdll\n",
    "import sys\n",
    "sys.path.append(os.path.dirname(csdll.__file__))\n",
    "AddReference(\"ENSAE.Voice\")\n",
    "from ENSAE.Voice import Speech\n",
    "Speech.VocalSynthesis(\"ENSAE\", \"fr-FR\",\"\",\"\")"
   ]
  },
  {
   "cell_type": "markdown",
   "metadata": {},
   "source": [
    "Jupyter permet de définir [magic command](http://www.xavierdupre.fr/app/ensae_teaching_cs/helpsphinx/notebooks/jupyter_custom_magics.html). Quelques-unes sont implémentées dans le module [ensae_teaching_cs.mypython.custom_magic](http://www.xavierdupre.fr/app/ensae_teaching_cs/helpsphinx3/ensae_teaching_cs/mypython/custom_magics.html#module-mypython.custom_magics). "
   ]
  },
  {
   "cell_type": "code",
   "execution_count": 8,
   "metadata": {
    "collapsed": false
   },
   "outputs": [],
   "source": [
    "from ensae_teaching_cs.mypython.custom_magics import register_magics\n",
    "register_magics()"
   ]
  },
  {
   "cell_type": "markdown",
   "metadata": {},
   "source": [
    "On peut comme ceci cacher une partie de la logique C# qui permet d'appeler la synthèse vocale :"
   ]
  },
  {
   "cell_type": "code",
   "execution_count": 9,
   "metadata": {
    "collapsed": false
   },
   "outputs": [],
   "source": [
    "%%SPEAK fr-FR\n",
    "Ceci est une commande magique IPython.\n",
    "La synthèse vocale est activée dès que la cellule est exécutée."
   ]
  },
  {
   "cell_type": "markdown",
   "metadata": {},
   "source": [
    "On peut définir un autre type de cellule magique qui compile du code C# de telle sorte que celui-ci apparaissent comme une fonction Python :"
   ]
  },
  {
   "cell_type": "code",
   "execution_count": 10,
   "metadata": {
    "collapsed": false
   },
   "outputs": [
    {
     "data": {
      "text/plain": [
       "<function ensae_teaching_cs.td_2a.pythoncs.create_cs_function.<locals>.<lambda>>"
      ]
     },
     "execution_count": 10,
     "metadata": {},
     "output_type": "execute_result"
    }
   ],
   "source": [
    "%%CS puissance System.dll\n",
    "public static double puissance(double x, double y)\n",
    "{\n",
    "    if (y == 0) return 1.0 ;\n",
    "    return System.Math.Pow(x,y) ;\n",
    "}"
   ]
  },
  {
   "cell_type": "code",
   "execution_count": 11,
   "metadata": {
    "collapsed": false
   },
   "outputs": [
    {
     "data": {
      "text/plain": [
       "27.0"
      ]
     },
     "execution_count": 11,
     "metadata": {},
     "output_type": "execute_result"
    }
   ],
   "source": [
    "puissance(3.0,3.0)"
   ]
  },
  {
   "cell_type": "markdown",
   "metadata": {},
   "source": [
    "L'utilisation du C# est parfois délicate car C# est rigoureux sur les types. Il n'y aura pas de conversion implicite lors de l'application à la fonction."
   ]
  },
  {
   "cell_type": "code",
   "execution_count": 13,
   "metadata": {
    "collapsed": false
   },
   "outputs": [
    {
     "data": {
      "text/plain": [
       "0.037037037037037035"
      ]
     },
     "execution_count": 13,
     "metadata": {},
     "output_type": "execute_result"
    }
   ],
   "source": [
    "puissance(3.0,3)"
   ]
  },
  {
   "cell_type": "markdown",
   "metadata": {},
   "source": [
    "Vous trouverez quelques petits détails à connaître ici [n issue or something to know with pythonnet](http://www.xavierdupre.fr/blog/xd_blog_nojs.html) et là [Using pythonnet](http://www.xavierdupre.fr/blog/2014-10-23_nojs.html). La création de la commande magique ``%%CS`` est détaillée dans cet article [Magic command %%CS](http://www.xavierdupre.fr/blog/2014-09-20_nojs.html).\n",
    "\n",
    "**Remarque : C# est fortement typé**\n",
    "\n",
    "Les listes de Python peuvent contenir des valeurs de type différent. Ce n'est pas le cas en C# et cela pose souvent des problèmes lors de l'appel d'une fonction C#. Parfois, le plus simple est de [sérialiser](http://fr.wikipedia.org/wiki/S%C3%A9rialisation) les données sous forme de chaînes de caractères."
   ]
  },
  {
   "cell_type": "code",
   "execution_count": null,
   "metadata": {
    "collapsed": false
   },
   "outputs": [],
   "source": []
  }
 ],
 "metadata": {},
 "nbformat": 4,
 "nbformat_minor": 0
}