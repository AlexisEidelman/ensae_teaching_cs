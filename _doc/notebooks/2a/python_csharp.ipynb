{
 "metadata": {
  "name": "",
  "signature": "sha256:a0f1c005d758d63ec7f541f50138c7e52da15328669ffdfd32cec120b4e05e72"
 },
 "nbformat": 3,
 "nbformat_minor": 0,
 "worksheets": [
  {
   "cells": [
    {
     "cell_type": "heading",
     "level": 1,
     "metadata": {},
     "source": [
      "Python et C Sharp"
     ]
    },
    {
     "cell_type": "markdown",
     "metadata": {},
     "source": [
      "<!--RST ..index:: C# !RST-->\n",
      "\n",
      "Je n'ai pas r\u00e9ussi \u00e0 trouver un moyen d'utiliser [C#](http://fr.wikipedia.org/wiki/C_sharp) directement depuis un notebook m\u00eame si cela est possible avec [F#](http://fr.wikipedia.org/wiki/F_Sharp) : [BayardRock/IfSharp](https://github.com/BayardRock/IfSharp) (voir la d\u00e9mo [IPython notebook backed by an F# kernel](http://nbviewer.ipython.org/github/BayardRock/IfSharp/blob/master/Feature%20Notebook.ipynb)).\n",
      "\n",
      "A d\u00e9faut, ce notebook d\u00e9montre une fa\u00e7on d'appeler les fonctions d'une DLL \u00e9crite en C#. Cela se fait gr\u00e2ce au module [pythonnet](https://github.com/renshawbay/pythonnet). Le concepteur ne maintient plus la librairie mais d'autres le font ([Christoph Gohlke's page](http://www.lfd.uci.edu/~gohlke/pythonlibs/#pythonnet)). Elle est aussi accessible dans le module [ensae_teaching_cs](https://github.com/sdpython/ensae_teaching_cs).\n",
      "\n",
      "Voici quelques exemples ce qu'on peut faire :"
     ]
    },
    {
     "cell_type": "code",
     "collapsed": false,
     "input": [
      "from ensae_teaching_cs.pythonnet import clr"
     ],
     "language": "python",
     "metadata": {},
     "outputs": [],
     "prompt_number": 1
    },
    {
     "cell_type": "code",
     "collapsed": false,
     "input": [
      "from System import Double\n",
      "d = Double(5.5)\n",
      "d"
     ],
     "language": "python",
     "metadata": {},
     "outputs": [
      {
       "metadata": {},
       "output_type": "pyout",
       "prompt_number": 2,
       "text": [
        "<System.Double at 0x5c10f60>"
       ]
      }
     ],
     "prompt_number": 2
    },
    {
     "cell_type": "code",
     "collapsed": false,
     "input": [
      "from System.Collections.Generic import List\n",
      "a = List[Double]()\n",
      "a"
     ],
     "language": "python",
     "metadata": {},
     "outputs": [
      {
       "metadata": {},
       "output_type": "pyout",
       "prompt_number": 3,
       "text": [
        "<System.Collections.Generic.0, Culture=neutral, PublicKeyToken=b77a5c561934e089]] at 0x5d005c0>"
       ]
      }
     ],
     "prompt_number": 3
    },
    {
     "cell_type": "code",
     "collapsed": false,
     "input": [
      "a.Add(10)\n",
      "a"
     ],
     "language": "python",
     "metadata": {},
     "outputs": [
      {
       "metadata": {},
       "output_type": "pyout",
       "prompt_number": 4,
       "text": [
        "<System.Collections.Generic.0, Culture=neutral, PublicKeyToken=b77a5c561934e089]] at 0x5d005c0>"
       ]
      }
     ],
     "prompt_number": 4
    },
    {
     "cell_type": "markdown",
     "metadata": {},
     "source": [
      "On ne peut pas \u00e9crire du C#, et donc pas de [Linq](http://msdn.microsoft.com/fr-fr/library/bb397926.aspx) non plus :"
     ]
    },
    {
     "cell_type": "code",
     "collapsed": false,
     "input": [
      "from System import String\n",
      "String.Join(\",\", a.Select(c=>c.ToString()).ToArray())"
     ],
     "language": "python",
     "metadata": {},
     "outputs": [
      {
       "ename": "SyntaxError",
       "evalue": "invalid syntax (<ipython-input-5-7fa1e78b6628>, line 2)",
       "output_type": "pyerr",
       "traceback": [
        "\u001b[1;36m  File \u001b[1;32m\"<ipython-input-5-7fa1e78b6628>\"\u001b[1;36m, line \u001b[1;32m2\u001b[0m\n\u001b[1;33m    String.Join(\",\", a.Select(c=>c.ToString()).ToArray())\u001b[0m\n\u001b[1;37m                                ^\u001b[0m\n\u001b[1;31mSyntaxError\u001b[0m\u001b[1;31m:\u001b[0m invalid syntax\n"
       ]
      }
     ],
     "prompt_number": 5
    },
    {
     "cell_type": "markdown",
     "metadata": {},
     "source": [
      "Ce module est surtout int\u00e9ressant pour appeler depuis Python des fonctionnalit\u00e9s cod\u00e9es avec [.net](http://fr.wikipedia.org/wiki/Microsoft_.NET). Il suffit d'utiliser la fonction [AddReference](http://stackoverflow.com/questions/14520888/clr-addreferenceexample-file-unable-to-find-assembly). Le chemin de la DLL doit \u00eatre inclus dans ``sys.path`` :"
     ]
    },
    {
     "cell_type": "code",
     "collapsed": false,
     "input": [
      "from clr import AddReference\n",
      "from ensae_teaching_cs.pythonnet import csdll\n",
      "import sys\n",
      "sys.path.append(os.path.dirname(csdll.__file__))\n",
      "AddReference(\"ENSAE.Voice\")\n",
      "from ENSAE.Voice import Speech\n",
      "Speech.VocalSynthesis(\"ENSAE\", \"fr-FR\",\"\",\"\")"
     ],
     "language": "python",
     "metadata": {},
     "outputs": [],
     "prompt_number": 6
    },
    {
     "cell_type": "markdown",
     "metadata": {},
     "source": [
      "IPython permet de d\u00e9finir [magic command](http://www.xavierdupre.fr/app/ensae_teaching_cs/helpsphinx/notebooks/ipython_custom_magics.html). Quelques-unes sont impl\u00e9ment\u00e9es dans le module [ensae_teaching_cs.mypython.custom_magic](http://www.xavierdupre.fr/app/ensae_teaching_cs/helpsphinx3/ensae_teaching_cs/mypython/custom_magics.html#module-mypython.custom_magics). "
     ]
    },
    {
     "cell_type": "code",
     "collapsed": false,
     "input": [
      "from ensae_teaching_cs.mypython.custom_magics import register_magics\n",
      "register_magics()"
     ],
     "language": "python",
     "metadata": {},
     "outputs": [],
     "prompt_number": 7
    },
    {
     "cell_type": "markdown",
     "metadata": {},
     "source": [
      "On peut comme ceci cacher une partie de la logique C# qui permet d'appeler la synth\u00e8se vocale :"
     ]
    },
    {
     "cell_type": "code",
     "collapsed": false,
     "input": [
      "%%SPEAK fr-FR\n",
      "Ceci est une commande magique IPython.\n",
      "La synth\u00e8se vocale est activ\u00e9e d\u00e8s que la cellule est ex\u00e9cut\u00e9e."
     ],
     "language": "python",
     "metadata": {},
     "outputs": [],
     "prompt_number": 8
    },
    {
     "cell_type": "markdown",
     "metadata": {},
     "source": [
      "On peut d\u00e9finir un autre type de cellule magique qui compile du code C# de telle sorte que celui-ci apparaissent comme une fonction Python :"
     ]
    },
    {
     "cell_type": "code",
     "collapsed": false,
     "input": [
      "%%CS puissance System.dll\n",
      "public static double puissance(double x, double y)\n",
      "{\n",
      "    if (y == 0) return 1.0 ;\n",
      "    return System.Math.Pow(x,y) ;\n",
      "}"
     ],
     "language": "python",
     "metadata": {},
     "outputs": [
      {
       "metadata": {},
       "output_type": "pyout",
       "prompt_number": 9,
       "text": [
        "<function ensae_teaching_cs.tips_tricks.pythoncs.create_cs_function.<locals>.<lambda>>"
       ]
      }
     ],
     "prompt_number": 9
    },
    {
     "cell_type": "code",
     "collapsed": false,
     "input": [
      "puissance(3.0,3.0)"
     ],
     "language": "python",
     "metadata": {},
     "outputs": [
      {
       "metadata": {},
       "output_type": "pyout",
       "prompt_number": 10,
       "text": [
        "27.0"
       ]
      }
     ],
     "prompt_number": 10
    },
    {
     "cell_type": "markdown",
     "metadata": {},
     "source": [
      "L'utilisation du C# est parfois d\u00e9licate car C# est rigoureux sur les types. Il n'y aura pas de conversion implicite lors de l'application \u00e0 la fonction."
     ]
    },
    {
     "cell_type": "code",
     "collapsed": false,
     "input": [
      "puissance(3.0,3)"
     ],
     "language": "python",
     "metadata": {},
     "outputs": [
      {
       "metadata": {},
       "output_type": "pyout",
       "prompt_number": 11,
       "text": [
        "27.0"
       ]
      }
     ],
     "prompt_number": 11
    },
    {
     "cell_type": "markdown",
     "metadata": {},
     "source": [
      "Vous trouverez quelques petits d\u00e9tails \u00e0 conna\u00eetre ici [n issue or something to know with pythonnet](http://www.xavierdupre.fr/blog/xd_blog_nojs.html) et l\u00e0 [Using pythonnet](http://www.xavierdupre.fr/blog/2014-10-23_nojs.html). La cr\u00e9ation de la commande magique ``%%CS`` est d\u00e9taill\u00e9e dans cet article [Magic command %%CS](http://www.xavierdupre.fr/blog/2014-09-20_nojs.html).\n",
      "\n",
      "**Remarque : C# est fortement typ\u00e9**\n",
      "\n",
      "Les listes de Python peuvent contenir des valeurs de type diff\u00e9rent. Ce n'est pas le cas en C# et cela pose souvent des probl\u00e8mes lors de l'appel d'une fonction C#. Parfois, le plus simple est de [s\u00e9rialiser](http://fr.wikipedia.org/wiki/S%C3%A9rialisation) les donn\u00e9es sous forme de cha\u00eenes de caract\u00e8res."
     ]
    },
    {
     "cell_type": "code",
     "collapsed": false,
     "input": [],
     "language": "python",
     "metadata": {},
     "outputs": []
    }
   ],
   "metadata": {}
  }
 ]
}