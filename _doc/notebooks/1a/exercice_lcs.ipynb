{
  "cells": [
    {
      "cell_type": "markdown",
      "metadata": {},
      "source": [
        "# La plus grande s\u00e9quence commune\n",
        "\n",
        "Aussi connu sous le nom _longest common subsequence_. C'est un probl\u00e8me classique de programmation dynamique que la page Wikipedia r\u00e9sume tr\u00e8s bien : [Longest common subsequence problem](http://en.wikipedia.org/wiki/Longest_common_subsequence). Vous trouverez une solution d\u00e9taill\u00e9e [Exercice 2 : plus grande s\u00e9quence croissante](http://www.xavierdupre.fr/app/ensae_teaching_cs/helpsphinx/notebooks/td1a_correction_session_11.html#exo2)."
      ]
    },
    {
      "cell_type": "markdown",
      "metadata": {},
      "source": []
    },
    {
      "cell_type": "code",
      "execution_count": null,
      "metadata": {},
      "outputs": [],
      "source": []
    }
  ],
  "metadata": {
    "kernelspec": {
      "display_name": "Python 3",
      "language": "python",
      "name": "python3"
    },
    "language_info": {
      "codemirror_mode": {
        "name": "ipython",
        "version": 3
      },
      "file_extension": ".py",
      "mimetype": "text/x-python",
      "name": "python",
      "nbconvert_exporter": "python",
      "pygments_lexer": "ipython3",
      "version": "3.6.1"
    }
  },
  "nbformat": 4,
  "nbformat_minor": 1
}