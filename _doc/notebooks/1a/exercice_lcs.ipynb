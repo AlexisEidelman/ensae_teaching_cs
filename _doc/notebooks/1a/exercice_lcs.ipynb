{
 "cells": [
  {
   "cell_type": "markdown",
   "metadata": {},
   "source": [
    "# La plus grande séquence commune"
   ]
  },
  {
   "cell_type": "markdown",
   "metadata": {},
   "source": [
    "Aussi connu sous le nom _longest common subsequence_. C'est un problème classique de programmation dynamique que la page Wikipedia résume très bien : [Longest common subsequence problem](http://en.wikipedia.org/wiki/Longest_common_subsequence). Vous trouverez une solution détaillée [Exercice 2 : plus grande séquence croissante](http://www.xavierdupre.fr/app/ensae_teaching_cs/helpsphinx/notebooks/td1a_correction_session_11.html#exo2)."
   ]
  },
  {
   "cell_type": "code",
   "execution_count": null,
   "metadata": {
    "collapsed": false
   },
   "outputs": [],
   "source": []
  }
 ],
 "metadata": {},
 "nbformat": 4,
 "nbformat_minor": 0
}