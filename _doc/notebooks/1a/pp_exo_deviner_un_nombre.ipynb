{
  "cells": [
    {
      "cell_type": "markdown",
      "metadata": {},
      "source": [
        "# Deviner un nombre al\u00e9atoire"
      ]
    },
    {
      "cell_type": "markdown",
      "metadata": {},
      "source": [
        "**Q1 :** Ecrire une jeu dans lequel python choisi al\u00e9atoirement un nombre entre 0 et 100, et essayer de trouver ce nombre en 10 \u00e9tapes (avec la fonction [open_window_params](http://www.xavierdupre.fr/app/pyquickhelper/helpsphinx/pyquickhelper/funcwin/frame_params.html?highlight=open#pyquickhelper.funcwin.frame_params.open_window_params)). \n",
        "\n",
        "**Remarque :** Ce programme ne fonctionne que sur si le serveur Jupyter est ex\u00e9cut\u00e9 localement."
      ]
    },
    {
      "cell_type": "code",
      "execution_count": null,
      "metadata": {
        "collapsed": false
      },
      "outputs": [
        {
          "data": {
            "text/plain": [
              "7"
            ]
          },
          "execution_count": null,
          "metadata": {},
          "output_type": "execute_result"
        }
      ],
      "source": [
        "from pyquickhelper.funcwin import open_window_params\n",
        "def demande_nombre(appreciation):\n",
        "    params = { \"nombre\":\"\" }\n",
        "    ans = open_window_params (params, title=\"Entrez un nombre\", \n",
        "                                    help_string = appreciation, \n",
        "                                    key_save=\"alean\")\n",
        "    nb = int( ans[\"nombre\"] ) \n",
        "    return nb\n",
        "nb = demande_nombre(\"?\")\n",
        "nb"
      ]
    },
    {
      "cell_type": "markdown",
      "metadata": {},
      "source": [
        "**Q2 :** Transformer ce jeu en une fonction ``jeu(nVies)`` o\u00f9 ``nVies`` est le nombre d'it\u00e9rations maximum."
      ]
    },
    {
      "cell_type": "code",
      "execution_count": null,
      "metadata": {
        "collapsed": false
      },
      "outputs": [],
      "source": []
    },
    {
      "cell_type": "markdown",
      "metadata": {},
      "source": [
        "**Q3 :** Adapter le code pour faire une classe joueur avec une m\u00e9thode jouer, o\u00f9 un joueur est d\u00e9fini par un pseudo et son nombre de vies. Faire jouer deux joueurs et d\u00e9terminer le vainqueur."
      ]
    },
    {
      "cell_type": "code",
      "execution_count": null,
      "metadata": {
        "collapsed": false
      },
      "outputs": [],
      "source": []
    }
  ],
  "metadata": {},
  "nbformat": 4,
  "nbformat_minor": 0
}