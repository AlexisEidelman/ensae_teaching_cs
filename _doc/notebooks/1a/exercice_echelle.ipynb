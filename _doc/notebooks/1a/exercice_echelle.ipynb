{
 "cells": [
  {
   "cell_type": "markdown",
   "metadata": {},
   "source": [
    "# Calculer le nombre de façons de monter une échelle."
   ]
  },
  {
   "cell_type": "code",
   "execution_count": 3,
   "metadata": {
    "collapsed": false
   },
   "outputs": [
    {
     "data": {
      "text/html": [
       "<b>Plan</b>\n",
       "<div id=\"my_menu_id\">run previous cell, wait for 2 seconds</div>\n",
       "<script>\n",
       "function repeat_indent_string(n){\n",
       "    var a = \"\" ;\n",
       "    for ( ; n > 0 ; --n) {\n",
       "        a += \"    \";\n",
       "    }\n",
       "    return a;\n",
       "}\n",
       "var update_menu_string = function(begin, lfirst, llast, sformat, send) {\n",
       "    var anchors = document.getElementsByClassName(\"section\");\n",
       "    if (anchors.length == 0) {\n",
       "        anchors = document.getElementsByClassName(\"text_cell_render rendered_html\");\n",
       "    }\n",
       "    var i,t;\n",
       "    var text_menu = begin;\n",
       "    var text_memo = \"<pre>\\nlength:\" + anchors.length + \"\\n\";\n",
       "    var ind = \"\";\n",
       "    var memo_level = 1;\n",
       "    var href;\n",
       "    var tags = [];\n",
       "    for (i = 0; i <= llast; i++) {\n",
       "        tags.push(\"h\" + i);\n",
       "    }\n",
       "\n",
       "    for (i = 0; i < anchors.length; i++) {\n",
       "        text_memo += \"**\" + anchors[i].id + \"--\\n\";\n",
       "\n",
       "        var child = null;\n",
       "        for(t = 0; t < tags.length; t++) {\n",
       "            var r = anchors[i].getElementsByTagName(tags[t]);\n",
       "            if (r.length > 0) {\n",
       "child = r[0];\n",
       "break;\n",
       "            }\n",
       "        }\n",
       "        if (child == null){\n",
       "            text_memo += \"null\\n\";\n",
       "            continue;\n",
       "        }\n",
       "\n",
       "        if (anchors[i].hasAttribute(\"id\")) {\n",
       "            // when converted in RST\n",
       "            href = anchors[i].id;\n",
       "            text_memo += \"#1-\" + href;\n",
       "            // passer à child suivant (le chercher)\n",
       "        }\n",
       "        else if (child.hasAttribute(\"id\")) {\n",
       "            // in a notebook\n",
       "            href = child.id;\n",
       "            text_memo += \"#2-\" + href;\n",
       "        }\n",
       "        else {\n",
       "            text_memo += \"#3-\" + \"*\" + \"\\n\";\n",
       "            continue;\n",
       "        }\n",
       "        var title = child.textContent;\n",
       "        var level = parseInt(child.tagName.substring(1,2));\n",
       "\n",
       "        text_memo += \"--\" + level + \"?\" + lfirst + \"--\" + title + \"\\n\";\n",
       "\n",
       "        if ((level < lfirst) || (level > llast)) {\n",
       "            continue ;\n",
       "        }\n",
       "        if (title.endsWith('¶')) {\n",
       "            title = title.substring(0,title.length-1).replace(\"<\", \"&lt;\").replace(\">\", \"&gt;\").replace(\"&\", \"&amp;\")\n",
       "        }\n",
       "\n",
       "        if (title.length == 0) {\n",
       "            continue;\n",
       "        }\n",
       "        while (level > memo_level) {\n",
       "            text_menu += \"<ul>\\n\";\n",
       "            memo_level += 1;\n",
       "        }\n",
       "        while (level < memo_level) {\n",
       "            text_menu += \"</ul>\\n\";\n",
       "            memo_level -= 1;\n",
       "        }\n",
       "        text_menu += repeat_indent_string(level-2) + sformat.replace(\"__HREF__\", href).replace(\"__TITLE__\", title);\n",
       "    }\n",
       "    while (1 < memo_level) {\n",
       "        text_menu += \"</ul>\\n\";\n",
       "        memo_level -= 1;\n",
       "    }\n",
       "    text_menu += send;\n",
       "    //text_menu += \"\\n\" + text_memo;\n",
       "    return text_menu;\n",
       "};\n",
       "var update_menu = function() {\n",
       "    var sbegin = \"\";\n",
       "    var sformat = '<li><a href=\"#__HREF__\">__TITLE__</a></li>';\n",
       "    var send = \"\";\n",
       "    var text_menu = update_menu_string(sbegin, 2, 4, sformat, send);\n",
       "    var menu = document.getElementById(\"my_menu_id\");\n",
       "    menu.innerHTML=text_menu;\n",
       "};\n",
       "window.setTimeout(update_menu,2000);\n",
       "            </script>"
      ],
      "text/plain": [
       "<IPython.core.display.HTML object>"
      ]
     },
     "execution_count": 3,
     "metadata": {},
     "output_type": "execute_result"
    }
   ],
   "source": [
    "import pyensae\n",
    "%nb_menu"
   ]
  },
  {
   "cell_type": "markdown",
   "metadata": {},
   "source": [
    "## Enoncés"
   ]
  },
  {
   "cell_type": "markdown",
   "metadata": {},
   "source": [
    "### Enoncé 1\n",
    "\n",
    "On suppose qu'une grenouille peut montrer une échelle de 13 barreaux avec des sauts de 1 ou 2 barreaux. Combien a-t-elle de façons de monter les 13 premiers barreaux ?"
   ]
  },
  {
   "cell_type": "markdown",
   "metadata": {},
   "source": [
    "### Enoncé 2\n",
    "\n",
    "Le problème est presque le même excepté que l'épaisseur des barreaux est plus ou moins grande. L'épaisseur du barreau $i$ est un entier $e_i > 0$. Arrivée au barreau $i$, la grenouille peut faire un bond de $k$ barreaux avec $k \\leqslant e_i$. La grenouille commence toujours au barreau."
   ]
  },
  {
   "cell_type": "markdown",
   "metadata": {},
   "source": [
    "### Enoncé 3\n",
    "\n",
    "On considère la grenouille de l'énoncé 2 mais on souhaite connaître le chemin pour lequel la grenouille a fait le moins de bonds possible."
   ]
  },
  {
   "cell_type": "markdown",
   "metadata": {},
   "source": [
    "## Solutions"
   ]
  },
  {
   "cell_type": "markdown",
   "metadata": {},
   "source": [
    "### Solution au problème 1\n",
    "\n",
    "L'idée de départ consiste à considérer le problème par récurrence. D'où la grenouille peut-elle venir si elle est au barreau $n$ ? La réponse est assez simple :\n",
    "- elle a pu venir du barreau $n-1$ avec un saut de un barreau,\n",
    "- elle a pu venir du barreau $n-2$ avec un saut de deux barreaux\n",
    "\n",
    "On obtient la formule de récurrence suivante : $f(n) = f(n-1) + f(n-2)$. C'est une [suite de Fibonacci](http://fr.wikipedia.org/wiki/Suite_de_Fibonacci)."
   ]
  },
  {
   "cell_type": "code",
   "execution_count": 1,
   "metadata": {
    "collapsed": false
   },
   "outputs": [
    {
     "name": "stdout",
     "output_type": "stream",
     "text": [
      "barreau 0 : 1 façons de monter\n",
      "barreau 1 : 1 façons de monter\n",
      "barreau 2 : 2 façons de monter\n",
      "barreau 3 : 3 façons de monter\n",
      "barreau 4 : 5 façons de monter\n",
      "barreau 5 : 8 façons de monter\n",
      "barreau 6 : 13 façons de monter\n",
      "barreau 7 : 21 façons de monter\n",
      "barreau 8 : 34 façons de monter\n",
      "barreau 9 : 55 façons de monter\n",
      "barreau 10 : 89 façons de monter\n",
      "barreau 11 : 144 façons de monter\n",
      "barreau 12 : 233 façons de monter\n",
      "barreau 13 : 377 façons de monter\n"
     ]
    }
   ],
   "source": [
    "def grenouille(n):\n",
    "    a = 1  # 1 façon d'arriver au barreau 0\n",
    "    b = 1  # 1 façon d'arriver au barreau 1\n",
    "    i = 1\n",
    "    while i < n :\n",
    "        a,b = b, a + b\n",
    "        i += 1\n",
    "    return b\n",
    "\n",
    "for i in range(0,14) :\n",
    "    print ( \"barreau {0} : {1} façons de monter\".format( i, grenouille(i) ) )"
   ]
  },
  {
   "cell_type": "markdown",
   "metadata": {},
   "source": [
    "### Solution au problème 2\n",
    "\n",
    "La solution au second problème est presque la même. L'idée de départ consiste toujours à considérer le problème par récurrence. D'où la grenouille peut-elle venir si elle est au barreau $n$ ? La réponse est assez simple :\n",
    "- elle a pu venir du barreau $n-1$ avec un saut de un barreau si $e_{n-1} \\geqslant 1$\n",
    "- elle a pu venir du barreau $n-2$ avec un saut de deux barreaux si $e_{n-2} \\geqslant 2$\n",
    "- elle a pu venir du barreau $n-k$ avec un saut de deux barreaux si $e_{n-k} \\geqslant k$"
   ]
  },
  {
   "cell_type": "code",
   "execution_count": 7,
   "metadata": {
    "collapsed": false
   },
   "outputs": [
    {
     "name": "stdout",
     "output_type": "stream",
     "text": [
      "barreau 0 : 1 = 1 façons de monter\n",
      "barreau 1 : 1 = 1 façons de monter\n",
      "barreau 2 : 2 = 1 façons de monter\n",
      "barreau 3 : 3 = 2 façons de monter\n",
      "barreau 4 : 5 = 3 façons de monter\n",
      "barreau 5 : 8 = 5 façons de monter\n",
      "barreau 6 : 13 = 8 façons de monter\n",
      "barreau 7 : 21 = 13 façons de monter\n",
      "barreau 8 : 34 = 21 façons de monter\n",
      "barreau 9 : 55 = 34 façons de monter\n",
      "barreau 10 : 89 = 55 façons de monter\n",
      "barreau 11 : 144 = 89 façons de monter\n",
      "barreau 12 : 233 = 144 façons de monter\n",
      "barreau 13 : 377 = 233 façons de monter\n"
     ]
    }
   ],
   "source": [
    "def grenouille2(n, barreaux):\n",
    "    nb = [ 1,1] # 1 façon d'arriver au barreau 0 ou 1\n",
    "    while len(nb) < n:\n",
    "        s = 0\n",
    "        i = len(nb)\n",
    "        for k in range(0, i):\n",
    "            if barreaux[i-k-1] >= k+1:\n",
    "                s += nb[i-k-1]\n",
    "        nb.append(s)\n",
    "        i += 1\n",
    "    return nb[-1]\n",
    "\n",
    "# on regarde si on obtient le même résultat que précédemment\n",
    "g1 = [ 2 for i in range(0,14) ]\n",
    "for i in range(0,14) :\n",
    "    print ( \"barreau {0} : {1} = {2} façons de monter\".format( i, grenouille(i), grenouille2(i,g1) ) )"
   ]
  },
  {
   "cell_type": "markdown",
   "metadata": {},
   "source": [
    "La solution est légèrement différente car contrairement au premier énoncé, la grenouille ne peut aller directement au barreau 2. On essaye avec un autre example trivial mais qui permet de s'assurer que la fonction retourne bien le résultat voulu."
   ]
  },
  {
   "cell_type": "code",
   "execution_count": 9,
   "metadata": {
    "collapsed": false
   },
   "outputs": [
    {
     "name": "stdout",
     "output_type": "stream",
     "text": [
      "barreau 0 : 1 façons de monter\n",
      "barreau 1 : 1 façons de monter\n",
      "barreau 2 : 1 façons de monter\n",
      "barreau 3 : 1 façons de monter\n",
      "barreau 4 : 1 façons de monter\n",
      "barreau 5 : 1 façons de monter\n",
      "barreau 6 : 1 façons de monter\n",
      "barreau 7 : 2 façons de monter\n",
      "barreau 8 : 3 façons de monter\n",
      "barreau 9 : 3 façons de monter\n",
      "barreau 10 : 3 façons de monter\n",
      "barreau 11 : 3 façons de monter\n",
      "barreau 12 : 3 façons de monter\n",
      "barreau 13 : 3 façons de monter\n"
     ]
    }
   ],
   "source": [
    "g2 = [ 1 for i in range(0,14) ]\n",
    "g2[4] = 3\n",
    "for i in range(0,14) :\n",
    "    print ( \"barreau {0} : {1} façons de monter\".format( i, grenouille2(i,g2) ) )"
   ]
  },
  {
   "cell_type": "markdown",
   "metadata": {},
   "source": [
    "### Solution au problème 3\n",
    "\n",
    "Pour ce problème, la solution est quasi identique excepté qu'au lieu de sommer les nombres de chemins, on souhaite garder le nombre de bonds du chemin qui en contient le moins."
   ]
  },
  {
   "cell_type": "code",
   "execution_count": 11,
   "metadata": {
    "collapsed": false
   },
   "outputs": [
    {
     "name": "stdout",
     "output_type": "stream",
     "text": [
      "barreau 0 : 1 bonds pour le chemin qui en contient le moins\n",
      "barreau 1 : 1 bonds pour le chemin qui en contient le moins\n",
      "barreau 2 : 1 bonds pour le chemin qui en contient le moins\n",
      "barreau 3 : 2 bonds pour le chemin qui en contient le moins\n",
      "barreau 4 : 2 bonds pour le chemin qui en contient le moins\n",
      "barreau 5 : 3 bonds pour le chemin qui en contient le moins\n",
      "barreau 6 : 3 bonds pour le chemin qui en contient le moins\n",
      "barreau 7 : 4 bonds pour le chemin qui en contient le moins\n",
      "barreau 8 : 4 bonds pour le chemin qui en contient le moins\n",
      "barreau 9 : 5 bonds pour le chemin qui en contient le moins\n",
      "barreau 10 : 5 bonds pour le chemin qui en contient le moins\n",
      "barreau 11 : 6 bonds pour le chemin qui en contient le moins\n",
      "barreau 12 : 6 bonds pour le chemin qui en contient le moins\n",
      "barreau 13 : 7 bonds pour le chemin qui en contient le moins\n"
     ]
    }
   ],
   "source": [
    "def grenouille3(n, barreaux):\n",
    "    nb = [ 1,1] # 1 façon d'arriver au barreau 0 ou 1\n",
    "    while len(nb) < n:\n",
    "        s = 0\n",
    "        i = len(nb)\n",
    "        for k in range(0, i):\n",
    "            if barreaux[i-k-1] >= k+1 and (s == 0 or nb[i-k-1] < s) :\n",
    "                # on prend le miminum\n",
    "                s = nb[i-k-1]\n",
    "        nb.append(s+1)\n",
    "        i += 1\n",
    "    return nb[-1]\n",
    "\n",
    "g1 = [ 2 for i in range(0,14) ]\n",
    "for i in range(0,14) :\n",
    "    print ( \"barreau {0} : {1} bonds pour le chemin qui en contient le moins\".format( i, grenouille3(i,g1) ) )"
   ]
  },
  {
   "cell_type": "markdown",
   "metadata": {},
   "source": [
    "Si on veut conserver le chemin précis qui contient le moins de bonds possibles, il suffit de mémoriser le barreau précédent $i$ que la grenouille a emprunté pour aller en un minimum de bonds au barreau $n$ : on conserve en mémoire le **prédécesseur**. Pour construire le meilleur chemin, on remonte de prédécesseur en prédécesseur."
   ]
  },
  {
   "cell_type": "code",
   "execution_count": null,
   "metadata": {
    "collapsed": false
   },
   "outputs": [],
   "source": []
  }
 ],
 "metadata": {
  "kernelspec": {
   "display_name": "Python 3",
   "language": "python",
   "name": "python3"
  },
  "language_info": {
   "codemirror_mode": {
    "name": "ipython",
    "version": 3
   },
   "file_extension": ".py",
   "mimetype": "text/x-python",
   "name": "python",
   "nbconvert_exporter": "python",
   "pygments_lexer": "ipython3",
   "version": "3.4.3"
  }
 },
 "nbformat": 4,
 "nbformat_minor": 0
}
