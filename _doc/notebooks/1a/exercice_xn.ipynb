{
 "cells": [
  {
   "cell_type": "markdown",
   "metadata": {},
   "source": [
    "# Calculer $x^n$ avec $n \\in \\mathbb{N}$ le plus rapidement possible"
   ]
  },
  {
   "cell_type": "markdown",
   "metadata": {},
   "source": [
    "Plan\n",
    "\n",
    "- [Enoncé](#enonce)\n",
    "- [Solution](#solution)"
   ]
  },
  {
   "cell_type": "markdown",
   "metadata": {},
   "source": [
    "<h3 id=\"enonce\">Enoncé</h3>"
   ]
  },
  {
   "cell_type": "markdown",
   "metadata": {},
   "source": [
    "Comme $n$ est entier, la façon la plus simple est de calculer $x*x*...*x$ mais existe-t-il plus rapide que cela ?"
   ]
  },
  {
   "cell_type": "markdown",
   "metadata": {},
   "source": [
    "<h3 id=\"solution\">Solution</h3>"
   ]
  },
  {
   "cell_type": "markdown",
   "metadata": {},
   "source": [
    "L'idée de départ consiste à écrire $x^{2n}=(x^n)^2$. En extrapolant, on en déduit que si $n=2^k$, alors le coût du calcul de $x^n$ consistera en $k$ itérations en on $2^k$."
   ]
  },
  {
   "cell_type": "code",
   "execution_count": 6,
   "metadata": {
    "collapsed": false
   },
   "outputs": [
    {
     "name": "stdout",
     "output_type": "stream",
     "text": [
      "2^(2^0)=2^1=2\n",
      "2^(2^1)=2^2=4\n",
      "2^(2^2)=2^4=16\n",
      "2^(2^3)=2^8=256\n"
     ]
    }
   ],
   "source": [
    "def puissance2k(x,k):\n",
    "    while k > 0 :\n",
    "        x *= x\n",
    "        k -= 1\n",
    "    return x\n",
    "\n",
    "for i in range(0,4) :\n",
    "    print ( \"2^(2^{0})=2^{1}={2}\".format( i, 2**i, puissance2k ( 2, i ) ) )"
   ]
  },
  {
   "cell_type": "markdown",
   "metadata": {},
   "source": [
    "Lorsque $n$ n'est pas une puissance de 2, il suffit que le décomposer en écriture binaire. Si $n = \\sum_k a_k 2^k$, avec $a_k \\in \\{0,1\\}$, alors $x^n = \\prod_k x^{a_k 2^k}$."
   ]
  },
  {
   "cell_type": "code",
   "execution_count": 11,
   "metadata": {
    "collapsed": false
   },
   "outputs": [
    {
     "name": "stdout",
     "output_type": "stream",
     "text": [
      "2^0=1\n",
      "2^1=2\n",
      "2^2=4\n",
      "2^3=8\n",
      "2^4=16\n",
      "2^5=32\n",
      "2^6=64\n",
      "2^7=128\n",
      "2^8=256\n"
     ]
    }
   ],
   "source": [
    "def puissance(x,n):\n",
    "    r = 1\n",
    "    while n > 0 :\n",
    "        if n % 2 == 1 : r *= x\n",
    "        x *= x\n",
    "        n //= 2\n",
    "    return r\n",
    "\n",
    "for i in range(0,9) :\n",
    "    print ( \"2^{0}={1}\".format( i, puissance ( 2, i ) ) )"
   ]
  },
  {
   "cell_type": "code",
   "execution_count": null,
   "metadata": {
    "collapsed": false
   },
   "outputs": [],
   "source": []
  }
 ],
 "metadata": {},
 "nbformat": 4,
 "nbformat_minor": 0
}