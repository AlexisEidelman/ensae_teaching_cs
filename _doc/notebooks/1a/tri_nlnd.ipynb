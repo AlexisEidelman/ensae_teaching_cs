{
  "cells": [
    {
      "cell_type": "markdown",
      "metadata": {},
      "source": [
        "# Tri plus rapide que pr\u00e9vu\n",
        "\n",
        "Dans le cas g\u00e9n\u00e9ral, le co\u00fbt d'un algorithme de tri est en $O(n \\ln n)$. Mais il existe des cas particuliers pour lesquels on peut faire plus court. Par exemple, on suppose que l'ensemble \u00e0 trier contient plein de fois le m\u00eame \u00e9l\u00e9ment."
      ]
    },
    {
      "cell_type": "code",
      "execution_count": null,
      "metadata": {
        "collapsed": true
      },
      "outputs": [],
      "source": [
        "import random\n",
        "ens = [random.randint(0,99) for i in range(10000)]"
      ]
    },
    {
      "cell_type": "markdown",
      "metadata": {},
      "source": [
        "On peut calculer la distribution de ces \u00e9l\u00e9ments."
      ]
    },
    {
      "cell_type": "code",
      "execution_count": null,
      "metadata": {
        "collapsed": false
      },
      "outputs": [
        {
          "data": {
            "text/plain": [
              "[(0, 110), (1, 107), (2, 85), (3, 110), (4, 86)]"
            ]
          },
          "execution_count": null,
          "metadata": {},
          "output_type": "execute_result"
        }
      ],
      "source": [
        "def histogram(ens):\n",
        "    hist = {}\n",
        "    for e in ens:\n",
        "        hist[e] = hist.get(e, 0) + 1\n",
        "    return hist\n",
        "\n",
        "hist = histogram(ens)\n",
        "list(hist.items())[:5]"
      ]
    },
    {
      "cell_type": "markdown",
      "metadata": {},
      "source": [
        "Plut\u00f4t que de trier le tableau initial, on peut trier l'histogramme qui contient moins d'\u00e9l\u00e9ment."
      ]
    },
    {
      "cell_type": "code",
      "execution_count": null,
      "metadata": {
        "collapsed": true
      },
      "outputs": [],
      "source": [
        "sorted_hist = list(hist.items())\n",
        "sorted_hist.sort()"
      ]
    },
    {
      "cell_type": "markdown",
      "metadata": {},
      "source": [
        "Puis on recontruit le tableau initial mais tri\u00e9 :"
      ]
    },
    {
      "cell_type": "code",
      "execution_count": null,
      "metadata": {
        "collapsed": false
      },
      "outputs": [
        {
          "data": {
            "text/plain": [
              "[0, 0, 0, 0, 0]"
            ]
          },
          "execution_count": null,
          "metadata": {},
          "output_type": "execute_result"
        }
      ],
      "source": [
        "def tableau(sorted_hist):\n",
        "    res = []\n",
        "    for k, v in sorted_hist:\n",
        "        for i in range(v):\n",
        "            res.append(k)\n",
        "    return res\n",
        "\n",
        "sorted_ens = tableau(sorted_hist)\n",
        "sorted_ens[:5]"
      ]
    },
    {
      "cell_type": "markdown",
      "metadata": {},
      "source": [
        "On cr\u00e9e une fonction qui assemble toutes les op\u00e9rations. Le co\u00fbt du nivrau tri est en $O(d \\kn d + n)$ o\u00f9 $d$ est le nombre d'\u00e9l\u00e9ments distincts de l'ensemble initial."
      ]
    },
    {
      "cell_type": "code",
      "execution_count": null,
      "metadata": {
        "collapsed": false
      },
      "outputs": [
        {
          "name": "stdout",
          "output_type": "stream",
          "text": [
            "100 loops, best of 3: 3.16 ms per loop\n"
          ]
        }
      ],
      "source": [
        "def sort_with_hist(ens):\n",
        "    hist = histogram(ens)\n",
        "    sorted_hist = list(hist.items())\n",
        "    sorted_hist.sort()    \n",
        "    return tableau(sorted_hist)\n",
        "\n",
        "%timeit sort_with_hist(ens)"
      ]
    },
    {
      "cell_type": "code",
      "execution_count": null,
      "metadata": {
        "collapsed": true
      },
      "outputs": [],
      "source": [
        "def sort_with_nohist(ens):\n",
        "    ens.sort()\n",
        "    return ens"
      ]
    },
    {
      "cell_type": "code",
      "execution_count": null,
      "metadata": {
        "collapsed": false
      },
      "outputs": [
        {
          "name": "stdout",
          "output_type": "stream",
          "text": [
            "10000 loops, best of 3: 163 \u00b5s per loop\n"
          ]
        }
      ],
      "source": [
        "%timeit sort_with_nohist(ens)"
      ]
    },
    {
      "cell_type": "markdown",
      "metadata": {},
      "source": [
        "Les temps d'ex\u00e9cution ne sont pas tr\u00e8s probants car la fonction `sort` est immpl\u00e9ment\u00e9 en C."
      ]
    },
    {
      "cell_type": "code",
      "execution_count": null,
      "metadata": {
        "collapsed": false
      },
      "outputs": [
        {
          "name": "stdout",
          "output_type": "stream",
          "text": [
            "The slowest run took 13.48 times longer than the fastest. This could mean that an intermediate result is being cached.\n",
            "1 loop, best of 3: 158 ms per loop\n"
          ]
        }
      ],
      "source": [
        "ens = [random.randint(0,9) for i in range(10000000)]\n",
        "%timeit sort_with_nohist(ens)"
      ]
    },
    {
      "cell_type": "code",
      "execution_count": null,
      "metadata": {
        "collapsed": false
      },
      "outputs": [
        {
          "name": "stdout",
          "output_type": "stream",
          "text": [
            "1 loop, best of 3: 3.65 s per loop\n"
          ]
        }
      ],
      "source": [
        "%timeit sort_with_hist(ens)"
      ]
    },
    {
      "cell_type": "code",
      "execution_count": null,
      "metadata": {
        "collapsed": true
      },
      "outputs": [],
      "source": []
    }
  ],
  "metadata": {
    "kernelspec": {
      "display_name": "Python 3",
      "language": "python",
      "name": "python3"
    },
    "language_info": {
      "codemirror_mode": {
        "name": "ipython",
        "version": 3
      },
      "file_extension": ".py",
      "mimetype": "text/x-python",
      "name": "python",
      "nbconvert_exporter": "python",
      "pygments_lexer": "ipython3",
      "version": "3.5.2"
    }
  },
  "nbformat": 4,
  "nbformat_minor": 1
}