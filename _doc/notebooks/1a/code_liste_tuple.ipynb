{
 "cells": [
  {
   "cell_type": "markdown",
   "metadata": {},
   "source": [
    "# Liste, t-uple, ensemble, dictionnaire, liste chaînée, coût des opérations"
   ]
  },
  {
   "cell_type": "markdown",
   "metadata": {},
   "source": [
    "Plan\n",
    "\n",
    "- [Insertion avec list et deque](#listdeque)\n",
    "- [Un élément dans un ensemble](#set)\n",
    "\n",
    "\n",
    "Python propose différents [containers](https://docs.python.org/3.4/tutorial/datastructures.html#) pour stocker des éléments. Voici les plus courants :\n",
    "\n",
    "- [list](https://docs.python.org/3.4/tutorial/datastructures.html#more-on-lists) : tableau d'éléments indexés de 0 à $n$ exclu auquel on peut ajouter ou retirer des éléments\n",
    "- [dict](https://docs.python.org/3.4/tutorial/datastructures.html#dictionaries) : tableau d'éléments indexés par des types immuables auquel on peut ajouter ou retirer des éléments\n",
    "- [tuple](https://docs.python.org/3.4/tutorial/datastructures.html#tuples-and-sequences) : tableau d'éléments indexés de 0 à $n$ exclu qu'on ne peut pas modifier\n",
    "- [set](https://docs.python.org/3.4/tutorial/datastructures.html#sets) : tableau d'éléments uniques non indexés\n",
    "- [frozenset](https://docs.python.org/3.4/tutorial/datastructures.html#sets) : ``set`` immuables (non modifiable)\n",
    "- [deque](https://docs.python.org/3.4/library/collections.html#collections.deque) : presque équivalent à une listes, la différent vient de l'implémentation, les mêmes opérations n'auront pas les mêmes coûts (deque = [liste chaînée](http://fr.wikipedia.org/wiki/Liste_cha%C3%AEn%C3%A9e))\n",
    "\n",
    "D'autres containers sont disponibles via le module [collections](https://docs.python.org/3.4/library/collections.html). Tous proposent de stocker un nombre variables d'éléments. Deux aspects difféèrent :\n",
    "\n",
    "- la façon de désigner un élément de l'ensemble\n",
    "- le coût de certaines opérations, il faut choisir qui minisera le coût des opérations pour votre programme\n",
    "\n",
    "<h3 id=\"listdeque\">Insertion avec ``list`` et ``deque``</h3>\n",
    "\n",
    "On veut comparer les coûts d'insertion en début et fin de liste pour un grand nombre d'éléments."
   ]
  },
  {
   "cell_type": "code",
   "execution_count": 8,
   "metadata": {
    "collapsed": false
   },
   "outputs": [
    {
     "name": "stdout",
     "output_type": "stream",
     "text": [
      "passage  0\n",
      "  insertion en fin\n",
      "    list"
     ]
    },
    {
     "name": "stdout",
     "output_type": "stream",
     "text": [
      " 1000000 éléments, temps par éléments : 2.5046494771072505e-07\n",
      "    deque"
     ]
    },
    {
     "name": "stdout",
     "output_type": "stream",
     "text": [
      " 1000000 éléments, temps par éléments : 2.0089547068874937e-07\n",
      "  insertion au début\n",
      "    deque"
     ]
    },
    {
     "name": "stdout",
     "output_type": "stream",
     "text": [
      " 1000000 éléments, temps par éléments : 1.9280886575847944e-07\n",
      "    list"
     ]
    },
    {
     "name": "stdout",
     "output_type": "stream",
     "text": [
      " 1000000 éléments, temps par éléments : 4.187672524574282e-08\n",
      "passage  1\n",
      "  insertion en fin\n",
      "    list"
     ]
    },
    {
     "name": "stdout",
     "output_type": "stream",
     "text": [
      " 1000000 éléments, temps par éléments : 2.054758845125093e-07\n",
      "    deque"
     ]
    },
    {
     "name": "stdout",
     "output_type": "stream",
     "text": [
      " 1000000 éléments, temps par éléments : 1.8848161270256015e-07\n",
      "  insertion au début\n",
      "    deque"
     ]
    },
    {
     "name": "stdout",
     "output_type": "stream",
     "text": [
      " 1000000 éléments, temps par éléments : 1.9194247434717227e-07\n",
      "    list"
     ]
    },
    {
     "name": "stdout",
     "output_type": "stream",
     "text": [
      " 1000000 éléments, temps par éléments : 4.5812690966442916e-08\n",
      "passage  2\n",
      "  insertion en fin\n",
      "    list"
     ]
    },
    {
     "name": "stdout",
     "output_type": "stream",
     "text": [
      " 1000000 éléments, temps par éléments : 2.0198166722616407e-07\n",
      "    deque"
     ]
    },
    {
     "name": "stdout",
     "output_type": "stream",
     "text": [
      " 1000000 éléments, temps par éléments : 1.8757844455802796e-07\n",
      "  insertion au début\n",
      "    deque"
     ]
    },
    {
     "name": "stdout",
     "output_type": "stream",
     "text": [
      " 1000000 éléments, temps par éléments : 1.8689465390315263e-07\n",
      "    list"
     ]
    },
    {
     "name": "stdout",
     "output_type": "stream",
     "text": [
      " 1000000 éléments, temps par éléments : 4.0188416612011224e-08\n"
     ]
    }
   ],
   "source": [
    "import time, collections\n",
    "N = 1000000\n",
    "\n",
    "for p in range(0,3):\n",
    "    print(\"passage \", p)\n",
    "    print(\"  insertion en fin\")\n",
    "\n",
    "    li = list()\n",
    "    a = time.clock()\n",
    "    for i in range(0,N) :\n",
    "        li.append(i)\n",
    "    b = time.clock()\n",
    "    print(\"    list\", N, \"éléments, temps par éléments :\", (b-a)/N)    \n",
    "        \n",
    "    li = collections.deque()\n",
    "    a = time.clock()\n",
    "    for i in range(0,N) :\n",
    "        li.append(i)\n",
    "    b = time.clock()\n",
    "    print(\"    deque\", N, \"éléments, temps par éléments :\", (b-a)/N)    \n",
    "    \n",
    "    print(\"  insertion au début\")\n",
    "    li = collections.deque()\n",
    "    a = time.clock()\n",
    "    for i in range(0,N) :\n",
    "        li.appendleft(i)\n",
    "    b = time.clock()\n",
    "    print(\"    deque\", N, \"éléments, temps par éléments :\", (b-a)/N)    \n",
    "    \n",
    "    N2 = N // 100\n",
    "    li = list()\n",
    "    a = time.clock()\n",
    "    for i in range(0,N2) :\n",
    "        li.insert(0,i)\n",
    "    b = time.clock()\n",
    "    print(\"    list\", N, \"éléments, temps par éléments :\", (b-a)/N)   "
   ]
  },
  {
   "cell_type": "markdown",
   "metadata": {},
   "source": [
    "On voit que l'insertion au début du tableau est beaucoup plus coûteuse pour une liste que pour un ``deque``.\n",
    "\n",
    "<h3 id=\"set\">Un élément dans un ensemble</h3>\n",
    "\n",
    "Faut-il écrire ``i in [0,1]`` ou ``i in (0,1)`` ou ... Essayons."
   ]
  },
  {
   "cell_type": "code",
   "execution_count": 5,
   "metadata": {
    "collapsed": false
   },
   "outputs": [
    {
     "name": "stdout",
     "output_type": "stream",
     "text": [
      "passage 0\n",
      "  list"
     ]
    },
    {
     "name": "stdout",
     "output_type": "stream",
     "text": [
      " 100000 fois, temps par éléments : 2.3807495183744436e-05\n",
      "  tuple"
     ]
    },
    {
     "name": "stdout",
     "output_type": "stream",
     "text": [
      " 100000 fois, temps par éléments : 2.3632861293984887e-05\n",
      "  set 100000 fois, temps par éléments : 1.5523630120128474e-07\n",
      "  frozenset 100000 fois, temps par éléments : 1.4532368870618483e-07\n",
      "passage 1\n",
      "  list"
     ]
    },
    {
     "name": "stdout",
     "output_type": "stream",
     "text": [
      " 100000 fois, temps par éléments : 2.327263746907704e-05\n",
      "  tuple"
     ]
    },
    {
     "name": "stdout",
     "output_type": "stream",
     "text": [
      " 100000 fois, temps par éléments : 2.3603341551079778e-05\n",
      "  set 100000 fois, temps par éléments : 1.386097967230171e-07\n",
      "  frozenset 100000 fois, temps par éléments : 1.3637325818365298e-07\n",
      "passage 2\n",
      "  list"
     ]
    },
    {
     "name": "stdout",
     "output_type": "stream",
     "text": [
      " 100000 fois, temps par éléments : 2.3171993234791443e-05\n",
      "  tuple"
     ]
    },
    {
     "name": "stdout",
     "output_type": "stream",
     "text": [
      " 100000 fois, temps par éléments : 2.330123351728844e-05\n",
      "  set 100000 fois, temps par éléments : 1.3354230500340236e-07\n",
      "  frozenset 100000 fois, temps par éléments : 1.3071990455159722e-07\n"
     ]
    }
   ],
   "source": [
    "import time, collections\n",
    "N = 100000\n",
    "lens = list(range(0,1000))\n",
    "tens = tuple(lens)\n",
    "sens = set(lens)\n",
    "fens = frozenset(lens)\n",
    "\n",
    "for p in range(0,3):\n",
    "    print(\"passage\",p)\n",
    "    a = time.clock()\n",
    "    s = 0\n",
    "    for i in range(0,N) :\n",
    "        if i in lens : s += 1\n",
    "    b = time.clock()\n",
    "    print(\"  list\", N, \"fois, temps par éléments :\", (b-a)/N)    \n",
    "    \n",
    "    a = time.clock()\n",
    "    s = 0\n",
    "    for i in range(0,N) :\n",
    "        if i in tens : s += 1\n",
    "    b = time.clock()\n",
    "    print(\"  tuple\", N, \"fois, temps par éléments :\", (b-a)/N)    \n",
    "    \n",
    "    a = time.clock()\n",
    "    s = 0\n",
    "    for i in range(0,N) :\n",
    "        if i in sens : s += 1\n",
    "    b = time.clock()\n",
    "    print(\"  set\", N, \"fois, temps par éléments :\", (b-a)/N)    \n",
    "    \n",
    "    a = time.clock()\n",
    "    s = 0\n",
    "    for i in range(0,N) :\n",
    "        if i in fens : s += 1\n",
    "    b = time.clock()\n",
    "    print(\"  frozenset\", N, \"fois, temps par éléments :\", (b-a)/N)    "
   ]
  },
  {
   "cell_type": "markdown",
   "metadata": {},
   "source": [
    "Il apparaît que les ensemble ``set`` ou ``frozenset`` sont beaucoup plus rapides. Plus l'ensemble est grand, plus cette différence est importante."
   ]
  },
  {
   "cell_type": "code",
   "execution_count": null,
   "metadata": {
    "collapsed": false
   },
   "outputs": [],
   "source": []
  }
 ],
 "metadata": {},
 "nbformat": 4,
 "nbformat_minor": 0
}