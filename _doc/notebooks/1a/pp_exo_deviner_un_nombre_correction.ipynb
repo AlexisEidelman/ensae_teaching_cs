{
  "cells": [
    {
      "cell_type": "markdown",
      "metadata": {},
      "source": [
        "# Deviner un nombre al\u00e9atoire (correction)\n",
        "\n",
        "On reprend la fonction introduite dans l'\u00e9nonc\u00e9 et qui permet de saisir un nombre."
      ]
    },
    {
      "cell_type": "code",
      "execution_count": null,
      "metadata": {},
      "outputs": [],
      "source": [
        "from tkinterquickhelper.funcwin import open_window_params\n",
        "def demande_nombre(appreciation):\n",
        "    # Ce programme ne fonctionne que sur si le serveur Jupyter est ex\u00e9cut\u00e9 localement.\n",
        "    params = { \"nombre\":\"\" }\n",
        "    ans = open_window_params (params, title=\"Entrez un nombre\", \n",
        "                                    help_string = appreciation, \n",
        "                                    key_save=\"alean\")\n",
        "    nb = int( ans[\"nombre\"] ) \n",
        "    return nb"
      ]
    },
    {
      "cell_type": "markdown",
      "metadata": {},
      "source": [
        "**Q1 :** Ecrire une jeu dans lequel python choisi al\u00e9atoirement un nombre entre 0 et 100, et essayer de trouver ce nombre en 10 \u00e9tapes (avec la fonction [open_window_params](http://www.xavierdupre.fr/app/pyquickhelper/helpsphinx/tkinterquickhelper/funcwin/frame_params.html?highlight=open#tkinterquickhelper.funcwin.frame_params.open_window_params))."
      ]
    },
    {
      "cell_type": "code",
      "execution_count": null,
      "metadata": {},
      "outputs": [
        {
          "name": "stdout",
          "output_type": "stream",
          "text": [
            "50 trop bas\n",
            "75 trop bas\n",
            "80 trop bas\n",
            "90 trop haut\n",
            "85 trop bas\n",
            "87 trop haut\n",
            "86 trop haut\n",
            "86 bravo !\n"
          ]
        }
      ],
      "source": [
        "import random\n",
        "n = random.randint(0,100)\n",
        "appreciation = \"?\"\n",
        "while True:\n",
        "    var = demande_nombre(appreciation)\n",
        "    if var < n : \n",
        "        appreciation = \"trop bas\"\n",
        "        print(var, appreciation)\n",
        "        \n",
        "    else : \n",
        "        appreciation = \"trop haut\"\n",
        "        print(var, appreciation)\n",
        "    if var == n:\n",
        "        appreciation = \"bravo !\"\n",
        "        print(var, appreciation)\n",
        "        break"
      ]
    },
    {
      "cell_type": "markdown",
      "metadata": {},
      "source": [
        "**Q2 :** Transformer ce jeu en une fonction ``jeu(nVies)`` o\u00f9 ``nVies`` est le nombre d'it\u00e9rations maximum."
      ]
    },
    {
      "cell_type": "code",
      "execution_count": null,
      "metadata": {},
      "outputs": [
        {
          "name": "stdout",
          "output_type": "stream",
          "text": [
            "10 50 trop bas\n",
            "9 75 trop bas\n",
            "8 83 trop bas\n",
            "7 92 trop haut\n",
            "6 88 trop haut\n",
            "5 85 trop haut\n",
            "4 84 trop haut\n",
            "4 84 bravo !\n"
          ]
        }
      ],
      "source": [
        "import random\n",
        "n = random.randint(0,100)\n",
        "vies = 10\n",
        "appreciation = \"?\"\n",
        "while vies > 0:\n",
        "    var = demande_nombre(appreciation)\n",
        "    if var < n : \n",
        "        appreciation = \"trop bas\"\n",
        "        print(vies, var, appreciation)\n",
        "    else : \n",
        "        appreciation = \"trop haut\"\n",
        "        print(vies, var, appreciation)\n",
        "    if var == n:\n",
        "        appreciation = \"bravo !\"\n",
        "        print(vies, var, appreciation)\n",
        "        break\n",
        "\n",
        "    vies -= 1"
      ]
    },
    {
      "cell_type": "markdown",
      "metadata": {},
      "source": [
        "**Q3 :** Adapter le code pour faire une classe joueur avec une m\u00e9thode jouer, o\u00f9 un joueur est d\u00e9fini par un pseudo et son nombre de vies. Faire jouer deux joueurs et d\u00e9terminer le vainqueur."
      ]
    },
    {
      "cell_type": "code",
      "execution_count": null,
      "metadata": {},
      "outputs": [
        {
          "name": "stdout",
          "output_type": "stream",
          "text": [
            "4 50 trop bas\n",
            "4 75 trop bas\n",
            "4 93 trop bas\n",
            "4 95 trop bas\n",
            "4 97 trop bas\n",
            "4 99 trop bas\n",
            "4 100 trop haut\n",
            "4 100 bravo !\n",
            "4 50 trop bas\n",
            "4 75 trop bas\n",
            "4 90 trop bas\n",
            "4 10 trop bas\n",
            "4 11 trop bas\n",
            "4 12 trop bas\n",
            "4 13 trop bas\n",
            "4 14 trop bas\n",
            "4 15 trop bas\n",
            "4 16 trop bas\n",
            "Nombre de vies restantes \u00e0 chaque joueur\n",
            "joueur 1 : 4 restantes\n",
            "joueur 2 : 0 restantes\n",
            "R\u00e9sultat de la partie\n",
            "joueur 2 a gagn\u00e9 la partie\n"
          ]
        }
      ],
      "source": [
        "class joueur:\n",
        "    def __init__(self, vies, pseudo):\n",
        "        self.vies = vies\n",
        "        self.pseudo = pseudo\n",
        "    \n",
        "    def jouer(self):\n",
        "        appreciation = \"?\"\n",
        "        n = random.randint(0,100)\n",
        "        while self.vies > 0:\n",
        "            var = demande_nombre(appreciation + \" -- \" + self.pseudo + \" : \" + str(self.vies) + \" vies restantes. Nombre choisi : \")\n",
        "            if var < n : \n",
        "                appreciation = \"trop bas\"\n",
        "                print(vies, var, appreciation)\n",
        "            else : \n",
        "                appreciation = \"trop haut\"\n",
        "                print(vies, var, appreciation)\n",
        "            if var == n:\n",
        "                appreciation = \"bravo !\"\n",
        "                print(vies, var, appreciation)\n",
        "                break\n",
        "\n",
        "            self.vies -= 1\n",
        "\n",
        "# Initialisation des deux joueurs\n",
        "j1 = joueur(10, \"joueur 1\")\n",
        "j2 = joueur(10, \"joueur 2\")\n",
        "\n",
        "# j1 et j2 jouent\n",
        "j1.jouer()\n",
        "j2.jouer()\n",
        "\n",
        "# Nombre de vies restantes \u00e0 chaque joueur\n",
        "print(\"Nombre de vies restantes \u00e0 chaque joueur\")\n",
        "print(j1.pseudo  + \" : \" + str(j1.vies) + \" restantes\")\n",
        "print(j2.pseudo  + \" : \" + str(j2.vies) + \" restantes\")\n",
        "\n",
        "# R\u00e9sultat de la partie\n",
        "print(\"R\u00e9sultat de la partie\")\n",
        "if j1.vies < j2.vies:\n",
        "    print(j1.pseudo + \"a gagn\u00e9 la partie\")\n",
        "elif j1.vies == j2.vies:\n",
        "    print(\"match nul\")\n",
        "else: print(j2.pseudo + \" a gagn\u00e9 la partie\")"
      ]
    },
    {
      "cell_type": "code",
      "execution_count": null,
      "metadata": {},
      "outputs": [],
      "source": []
    }
  ],
  "metadata": {
    "kernelspec": {
      "display_name": "Python 3",
      "language": "python",
      "name": "python3"
    },
    "language_info": {
      "codemirror_mode": {
        "name": "ipython",
        "version": 3
      },
      "file_extension": ".py",
      "mimetype": "text/x-python",
      "name": "python",
      "nbconvert_exporter": "python",
      "pygments_lexer": "ipython3",
      "version": "3.6.1"
    }
  },
  "nbformat": 4,
  "nbformat_minor": 1
}