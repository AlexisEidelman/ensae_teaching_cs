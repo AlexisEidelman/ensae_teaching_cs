{
 "metadata": {
  "name": ""
 },
 "nbformat": 3,
 "nbformat_minor": 0,
 "worksheets": [
  {
   "cells": [
    {
     "cell_type": "heading",
     "level": 1,
     "metadata": {},
     "source": [
      "TD 1 : Premiers pas en Python"
     ]
    },
    {
     "cell_type": "heading",
     "level": 3,
     "metadata": {},
     "source": [
      "Partie 1"
     ]
    },
    {
     "cell_type": "markdown",
     "metadata": {},
     "source": [
      "Un langage de programmation permet de r\u00e9peter des op\u00e9rations \u00e0 l'infini. Un langage de programmation permet de d\u00e9crire avec pr\u00e9cision ces op\u00e9rations. Comme tout langage, il a une grammaire et un vocabulaire ou **mot-cl\u00e9s**. Voyons quelques usages simples. Il vous suffit d'ex\u00e9cuter chaque petit extrait en appuyant sur le triangle pointant vers la droite ci-dessus. N'h\u00e9sitez pas \u00e0 modifier les extraits pour mieux comprendre ce que le programme fait.\n",
      "\n",
      "**La calculatrice**"
     ]
    },
    {
     "cell_type": "code",
     "collapsed": false,
     "input": [
      "x = 5\n",
      "y = 10\n",
      "z = x + y\n",
      "print (z)    # affiche z"
     ],
     "language": "python",
     "metadata": {},
     "outputs": []
    },
    {
     "cell_type": "markdown",
     "metadata": {},
     "source": [
      "C'est une \u00e9criture assez math\u00e9matique. Pour d\u00e9crire une op\u00e9ration sur des nombres sans savoir ce qu'ils sont au pr\u00e9alable, il faut nommer ces informations. Une variable sert \u00e0 d\u00e9signer des donn\u00e9es. ``x=5`` signifie que la variable ``x``contient 5.\n",
      "\n",
      "**L'incr\u00e9mentation**"
     ]
    },
    {
     "cell_type": "code",
     "collapsed": false,
     "input": [
      "x = 2\n",
      "x = x + 1\n",
      "print (x)    # affiche 3\n",
      "x += 5\n",
      "print (x)    # affiche 8"
     ],
     "language": "python",
     "metadata": {},
     "outputs": []
    },
    {
     "cell_type": "markdown",
     "metadata": {},
     "source": [
      "**La r\u00e9p\u00e9tition ou les boucles**"
     ]
    },
    {
     "cell_type": "code",
     "collapsed": false,
     "input": [
      "a = 0\n",
      "for i in range (0, 10) :\n",
      "  a = a + i             # r\u00e9p\u00e8te dix fois cette ligne\n",
      "print (a)   "
     ],
     "language": "python",
     "metadata": {},
     "outputs": []
    },
    {
     "cell_type": "markdown",
     "metadata": {},
     "source": [
      "Le mot-cl\u00e9 ``print`` n'a pas d'incidence sur le programme, en revanche, il permet de d'afficher l'\u00e9tat d'une variable au moment o\u00f9 on ex\u00e9cute l'instruction ``print``.\n",
      "\n",
      "**L'aiguillage ou les tests**"
     ]
    },
    {
     "cell_type": "code",
     "collapsed": false,
     "input": [
      "a = 10\n",
      "if a > 0 :\n",
      "      print(a)     # un seul des deux blocs est pris en consid\u00e9ration\n",
      "else :\n",
      "      a -=  1\n",
      "      print (a)  \t  "
     ],
     "language": "python",
     "metadata": {},
     "outputs": []
    },
    {
     "cell_type": "markdown",
     "metadata": {},
     "source": [
      "**Les cha\u00eenes de caract\u00e8res**"
     ]
    },
    {
     "cell_type": "code",
     "collapsed": false,
     "input": [
      "a = 10\n",
      "print (a)     # quelle est la diff\u00e9rence\n",
      "print (\"a\")   # entre les deux lignes\n",
      "s = \"texte\"\n",
      "s += \"c\"\n",
      "print (s)   "
     ],
     "language": "python",
     "metadata": {},
     "outputs": []
    },
    {
     "cell_type": "heading",
     "level": 3,
     "metadata": {},
     "source": [
      "Partie 2"
     ]
    },
    {
     "cell_type": "markdown",
     "metadata": {},
     "source": [
      "Dans cette seconde s\u00e9rie, partie, il s'agit d'interpr\u00e9ter pourquoi un programme ne font pas ce qu'ils sont cens\u00e9s faire ou pourquoi ils provoquent une erreur, et si possible, corriger cette erreur.\n",
      "\n",
      "**Un oubli**"
     ]
    },
    {
     "cell_type": "code",
     "collapsed": false,
     "input": [
      "a = 5\n",
      "a + 4\n",
      "print (a)   # ou voudrait voir 9 mais c'est 5 qui appara\u00eet"
     ],
     "language": "python",
     "metadata": {},
     "outputs": [
      {
       "output_type": "stream",
       "stream": "stdout",
       "text": [
        "5\n"
       ]
      }
     ],
     "prompt_number": 6
    },
    {
     "cell_type": "markdown",
     "metadata": {},
     "source": [
      "**Une erreur de syntaxe**"
     ]
    },
    {
     "cell_type": "code",
     "collapsed": false,
     "input": [
      "a = 0\n",
      "for i in range (0, 10) \n",
      "    a = a + i\n",
      "print (a)"
     ],
     "language": "python",
     "metadata": {},
     "outputs": [
      {
       "ename": "SyntaxError",
       "evalue": "invalid syntax (<ipython-input-7-561d1ddf195c>, line 2)",
       "output_type": "pyerr",
       "traceback": [
        "\u001b[1;36m  File \u001b[1;32m\"<ipython-input-7-561d1ddf195c>\"\u001b[1;36m, line \u001b[1;32m2\u001b[0m\n\u001b[1;33m    for i in range (0, 10)\u001b[0m\n\u001b[1;37m                           ^\u001b[0m\n\u001b[1;31mSyntaxError\u001b[0m\u001b[1;31m:\u001b[0m invalid syntax\n"
       ]
      }
     ],
     "prompt_number": 7
    },
    {
     "cell_type": "markdown",
     "metadata": {},
     "source": [
      "**Une autre erreur de syntaxe**"
     ]
    },
    {
     "cell_type": "code",
     "collapsed": false,
     "input": [
      "a = 0\n",
      "for i in range (0, 10):\n",
      "    a = a + i\n",
      "  print (a)   "
     ],
     "language": "python",
     "metadata": {},
     "outputs": [
      {
       "ename": "IndentationError",
       "evalue": "unindent does not match any outer indentation level (<ipython-input-10-f62cc35d09dc>, line 4)",
       "output_type": "pyerr",
       "traceback": [
        "\u001b[1;36m  File \u001b[1;32m\"<ipython-input-10-f62cc35d09dc>\"\u001b[1;36m, line \u001b[1;32m4\u001b[0m\n\u001b[1;33m    print (a)\u001b[0m\n\u001b[1;37m                ^\u001b[0m\n\u001b[1;31mIndentationError\u001b[0m\u001b[1;31m:\u001b[0m unindent does not match any outer indentation level\n"
       ]
      }
     ],
     "prompt_number": 10
    },
    {
     "cell_type": "markdown",
     "metadata": {},
     "source": [
      "**Une op\u00e9ration interdite**"
     ]
    },
    {
     "cell_type": "code",
     "collapsed": false,
     "input": [
      "a = 0\n",
      "s = \"e\"\n",
      "print (a + s)"
     ],
     "language": "python",
     "metadata": {},
     "outputs": [
      {
       "ename": "TypeError",
       "evalue": "unsupported operand type(s) for +: 'int' and 'str'",
       "output_type": "pyerr",
       "traceback": [
        "\u001b[1;31m---------------------------------------------------------------------------\u001b[0m\n\u001b[1;31mTypeError\u001b[0m                                 Traceback (most recent call last)",
        "\u001b[1;32m<ipython-input-11-6600ae759b48>\u001b[0m in \u001b[0;36m<module>\u001b[1;34m()\u001b[0m\n\u001b[0;32m      1\u001b[0m \u001b[0ma\u001b[0m \u001b[1;33m=\u001b[0m \u001b[1;36m0\u001b[0m\u001b[1;33m\u001b[0m\u001b[0m\n\u001b[0;32m      2\u001b[0m \u001b[0ms\u001b[0m \u001b[1;33m=\u001b[0m \u001b[1;34m\"e\"\u001b[0m\u001b[1;33m\u001b[0m\u001b[0m\n\u001b[1;32m----> 3\u001b[1;33m \u001b[0mprint\u001b[0m \u001b[1;33m(\u001b[0m\u001b[0ma\u001b[0m \u001b[1;33m+\u001b[0m \u001b[0ms\u001b[0m\u001b[1;33m)\u001b[0m\u001b[1;33m\u001b[0m\u001b[0m\n\u001b[0m",
        "\u001b[1;31mTypeError\u001b[0m: unsupported operand type(s) for +: 'int' and 'str'"
       ]
      }
     ],
     "prompt_number": 11
    },
    {
     "cell_type": "markdown",
     "metadata": {},
     "source": [
      "**Un nombre impair de...**"
     ]
    },
    {
     "cell_type": "code",
     "collapsed": false,
     "input": [
      "a = 0\n",
      "for i in range (0, 10) :\n",
      "      a = (a + (i+2)*3\n",
      "print (a)   "
     ],
     "language": "python",
     "metadata": {},
     "outputs": [
      {
       "ename": "SyntaxError",
       "evalue": "invalid syntax (<ipython-input-12-abde9a3574fc>, line 4)",
       "output_type": "pyerr",
       "traceback": [
        "\u001b[1;36m  File \u001b[1;32m\"<ipython-input-12-abde9a3574fc>\"\u001b[1;36m, line \u001b[1;32m4\u001b[0m\n\u001b[1;33m    print (a)\u001b[0m\n\u001b[1;37m        ^\u001b[0m\n\u001b[1;31mSyntaxError\u001b[0m\u001b[1;31m:\u001b[0m invalid syntax\n"
       ]
      }
     ],
     "prompt_number": 12
    },
    {
     "cell_type": "heading",
     "level": 3,
     "metadata": {},
     "source": [
      "Partie 3"
     ]
    },
    {
     "cell_type": "markdown",
     "metadata": {},
     "source": [
      "Il faut maintenant \u00e9crire trois programmes qui :\n",
      "\n",
      "+   Ecrire un programme qui calcule la somme des 10 premiers entiers au carr\u00e9.\n",
      "+   Ecrire un programme qui calcule la somme des 5 premiers entiers impairs au carr\u00e9.\n",
      "+   Ecrire un programme qui calcule la somme des qui 10 premmi\u00e8res factorielles : $\\sum_{i=1}^{10} i!$.\n"
     ]
    },
    {
     "cell_type": "code",
     "collapsed": false,
     "input": [],
     "language": "python",
     "metadata": {},
     "outputs": []
    }
   ],
   "metadata": {}
  }
 ]
}